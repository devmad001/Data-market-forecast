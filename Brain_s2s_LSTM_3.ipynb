{
 "cells": [
  {
   "cell_type": "code",
   "execution_count": 1,
   "id": "0b74c2ab",
   "metadata": {},
   "outputs": [],
   "source": [
    "import numpy as np\n",
    "import matplotlib.pyplot as plt\n",
    "import tensorflow as tf\n",
    "import pandas as pd\n",
    "import random as rn\n",
    "keras = tf.keras"
   ]
  },
  {
   "cell_type": "code",
   "execution_count": 2,
   "id": "e927a50a",
   "metadata": {},
   "outputs": [],
   "source": [
    "np.random.seed(42)\n",
    "rn.seed(42)\n",
    "tf.random.set_seed(42)"
   ]
  },
  {
   "cell_type": "code",
   "execution_count": 3,
   "id": "f55bcd12",
   "metadata": {
    "scrolled": false
   },
   "outputs": [
    {
     "data": {
      "text/plain": [
       "True"
      ]
     },
     "execution_count": 3,
     "metadata": {},
     "output_type": "execute_result"
    }
   ],
   "source": [
    "tf.test.is_built_with_cuda()"
   ]
  },
  {
   "cell_type": "code",
   "execution_count": 4,
   "id": "597e75b8",
   "metadata": {},
   "outputs": [],
   "source": [
    "path_winn = r'C:\\Users\\adria\\1Python\\Meu_novo_projeto\\WIN_N_1K\\WIN_N_1k.csv'\n",
    "winn = pd.read_csv(path_winn, index_col=0, parse_dates=True)"
   ]
  },
  {
   "cell_type": "code",
   "execution_count": 5,
   "id": "0fc4cc69",
   "metadata": {},
   "outputs": [],
   "source": [
    "path_wing = r'C:\\Users\\adria\\1Python\\Meu_novo_projeto\\WING23\\WING23.csv'\n",
    "wing = pd.read_csv(path_wing, index_col=0, parse_dates=True)"
   ]
  },
  {
   "cell_type": "code",
   "execution_count": 6,
   "id": "16c0a84a",
   "metadata": {},
   "outputs": [],
   "source": [
    "path_winj = r'C:\\Users\\adria\\1Python\\Meu_novo_projeto\\WINJ23\\WINJ23.csv'\n",
    "winj = pd.read_csv(path_winj, index_col=0, parse_dates=True)"
   ]
  },
  {
   "cell_type": "markdown",
   "id": "eb0e030d",
   "metadata": {},
   "source": [
    "# Trasforma os dos dados"
   ]
  },
  {
   "cell_type": "code",
   "execution_count": 7,
   "id": "84a9b9c6",
   "metadata": {},
   "outputs": [],
   "source": [
    "from sklearn.preprocessing import MinMaxScaler\n",
    "scaler = MinMaxScaler()\n",
    "lag = 2"
   ]
  },
  {
   "cell_type": "markdown",
   "id": "44fc199a",
   "metadata": {},
   "source": [
    "### Treino"
   ]
  },
  {
   "cell_type": "code",
   "execution_count": 8,
   "id": "ca2a5337",
   "metadata": {},
   "outputs": [],
   "source": [
    "winn['hl'] = (winn['high'] + winn['low'] + winn['close'] + winn['close']) / 4\n",
    "winn['mvhl'] = winn['hl'].rolling(lag).mean()"
   ]
  },
  {
   "cell_type": "code",
   "execution_count": 9,
   "id": "5e8d898b",
   "metadata": {},
   "outputs": [],
   "source": [
    "winn = winn.drop(['open', 'tick_volume','real_volume'], axis=1)"
   ]
  },
  {
   "cell_type": "code",
   "execution_count": 10,
   "id": "c8570fa5",
   "metadata": {},
   "outputs": [],
   "source": [
    "train = winn.dropna()"
   ]
  },
  {
   "cell_type": "code",
   "execution_count": 11,
   "id": "b8d799cc",
   "metadata": {},
   "outputs": [],
   "source": [
    "train = scaler.fit_transform(train)"
   ]
  },
  {
   "cell_type": "markdown",
   "id": "89bec51c",
   "metadata": {},
   "source": [
    "### Validacao"
   ]
  },
  {
   "cell_type": "code",
   "execution_count": 12,
   "id": "6458c578",
   "metadata": {},
   "outputs": [],
   "source": [
    "wing['hl'] = (wing['high'] + wing['low'] + wing['close'] + wing['close']) / 4\n",
    "wing['mvhl'] = wing['hl'].rolling(lag).mean()"
   ]
  },
  {
   "cell_type": "code",
   "execution_count": 13,
   "id": "569f77f6",
   "metadata": {},
   "outputs": [],
   "source": [
    "wing = wing.drop(['open', 'tick_volume','real_volume'], axis=1)"
   ]
  },
  {
   "cell_type": "code",
   "execution_count": 14,
   "id": "74a06531",
   "metadata": {},
   "outputs": [],
   "source": [
    "valid = wing.dropna()"
   ]
  },
  {
   "cell_type": "code",
   "execution_count": 15,
   "id": "cf199330",
   "metadata": {},
   "outputs": [],
   "source": [
    "valid = scaler.transform(valid)"
   ]
  },
  {
   "cell_type": "markdown",
   "id": "466db068",
   "metadata": {},
   "source": [
    "### Teste"
   ]
  },
  {
   "cell_type": "code",
   "execution_count": 16,
   "id": "db02f295",
   "metadata": {},
   "outputs": [],
   "source": [
    "winj['hl'] = (winj['high'] + winj['low'] + winj['close'] + winj['close']) / 4\n",
    "winj['mvhl'] = winj['hl'].rolling(lag).mean()\n",
    "winj = winj.drop(['open', 'tick_volume','real_volume'], axis=1)\n",
    "test = winj.dropna()\n",
    "test = scaler.transform(test)"
   ]
  },
  {
   "cell_type": "markdown",
   "id": "a7d8ab91",
   "metadata": {},
   "source": [
    "# Preprocessamento"
   ]
  },
  {
   "cell_type": "code",
   "execution_count": 17,
   "id": "5a31c75e",
   "metadata": {},
   "outputs": [],
   "source": [
    "batch_size = 128\n",
    "window_size = 32\n",
    "num_inputs  = train.shape[1]\n",
    "num_targets = 3\n",
    "stride = 3\n",
    "sampling_rate=1"
   ]
  },
  {
   "cell_type": "code",
   "execution_count": 18,
   "id": "3123dcdb",
   "metadata": {},
   "outputs": [],
   "source": [
    "def sliding_window_sequence(data, window_size, num_inputs, num_targets, stride, batch_size, sampling_rate=1):\n",
    "\n",
    "    num_examples = (len(data) - window_size) // stride\n",
    "    num_batches = num_examples // batch_size\n",
    "    inputs = np.zeros((num_examples, window_size, num_inputs))\n",
    "    targets = np.zeros((num_examples, num_targets))\n",
    "    \n",
    "    for i in range(num_examples):\n",
    "        idx = i * stride\n",
    "        inputs[i] = data[idx : idx+window_size : sampling_rate, :num_inputs]\n",
    "        targets[i] = data[idx+window_size : idx+window_size+num_targets, -1]\n",
    "    \n",
    "    batch_inputs = np.zeros((batch_size, window_size, num_inputs))\n",
    "    batch_targets = np.zeros((batch_size, num_targets))\n",
    "    while True:\n",
    "        for b in range(num_batches):\n",
    "            batch_start = b * batch_size\n",
    "            batch_inputs = inputs[batch_start:batch_start+batch_size]\n",
    "            batch_targets = targets[batch_start:batch_start+batch_size]\n",
    "            yield batch_inputs, batch_targets"
   ]
  },
  {
   "cell_type": "markdown",
   "id": "f3807bde",
   "metadata": {},
   "source": [
    " def sliding_window_sequence(data, window_size, num_inputs, num_targets, stride, batch_size, sampling_rate=1):\n",
    "    # Calcula o número total de exemplos que podem ser gerados usando a janela de tamanho fixo\n",
    "    num_examples = (len(data) - window_size) // stride\n",
    "    \n",
    "    # Calcula o número de lotes (batches) que podem ser gerados\n",
    "    num_batches = num_examples // batch_size\n",
    "    \n",
    "    # Cria matrizes numpy para armazenar inputs e targets\n",
    "    inputs = np.zeros((num_examples, window_size, num_inputs))\n",
    "    targets = np.zeros((num_examples, num_targets))\n",
    "    \n",
    "    # Loop através de cada exemplo e armazena-os nas matrizes inputs e targets\n",
    "    for i in range(num_examples):\n",
    "        idx = i * stride  # Calcula o índice inicial do exemplo atual\n",
    "        # Extrai a sequência de entrada do exemplo atual e armazena em inputs\n",
    "        inputs[i] = data[idx : idx+window_size : sampling_rate, :num_inputs]\n",
    "        # Extrai a sequência de targets do exemplo atual e armazena em targets\n",
    "        targets[i] = data[idx+window_size : idx+window_size+num_targets, -1]\n",
    "        #targets[i] = data[idx+window_size : idx+window_size+num_targets, :num_inputs] # todos os valores das linhas\n",
    "    \n",
    "    # Cria matrizes numpy para armazenar os inputs e targets de cada batch\n",
    "    batch_inputs = np.zeros((batch_size, window_size, num_inputs))\n",
    "    batch_targets = np.zeros((batch_size, num_targets))\n",
    "    \n",
    "    # Loop infinito para gerar batches de dados\n",
    "    while True:\n",
    "        # Loop através de cada batch\n",
    "        for b in range(num_batches):\n",
    "            batch_start = b * batch_size  # Calcula o índice inicial do batch atual\n",
    "            # Extrai os inputs do batch atual a partir da matriz inputs\n",
    "            batch_inputs = inputs[batch_start:batch_start+batch_size]\n",
    "            # Extrai os targets do batch atual a partir da matriz targets\n",
    "            batch_targets = targets[batch_start:batch_start+batch_size]\n",
    "            # Gera um batch de dados contendo inputs e targets\n",
    "            yield batch_inputs, batch_targets\n"
   ]
  },
  {
   "cell_type": "code",
   "execution_count": 19,
   "id": "436765cf",
   "metadata": {},
   "outputs": [],
   "source": [
    "train_set = sliding_window_sequence(train, window_size=window_size, num_inputs=num_inputs, num_targets=num_targets, stride=stride, batch_size=batch_size, sampling_rate=sampling_rate)\n",
    "valid_set = sliding_window_sequence(valid, window_size=window_size, num_inputs=num_inputs, num_targets=num_targets, stride=stride, batch_size=batch_size, sampling_rate=sampling_rate)\n",
    "test_set = sliding_window_sequence(test, window_size=window_size, num_inputs=num_inputs, num_targets=num_targets, stride=stride, batch_size=batch_size, sampling_rate=sampling_rate)"
   ]
  },
  {
   "cell_type": "markdown",
   "id": "1e6a83a7",
   "metadata": {},
   "source": [
    "# Treino"
   ]
  },
  {
   "cell_type": "code",
   "execution_count": 20,
   "id": "ae7ae995",
   "metadata": {
    "scrolled": true
   },
   "outputs": [
    {
     "data": {
      "text/plain": [
       "5"
      ]
     },
     "execution_count": 20,
     "metadata": {},
     "output_type": "execute_result"
    }
   ],
   "source": [
    "num_inputs"
   ]
  },
  {
   "cell_type": "markdown",
   "id": "aed22a83",
   "metadata": {},
   "source": [
    "# Resultados"
   ]
  },
  {
   "cell_type": "code",
   "execution_count": 65,
   "id": "d2e3407c",
   "metadata": {},
   "outputs": [
    {
     "name": "stdout",
     "output_type": "stream",
     "text": [
      "Epoch 1/500\n",
      "781/781 [==============================] - 21s 23ms/step - loss: 0.0031 - mse: 8.8094e-04 - val_loss: 0.0095 - val_mse: 0.0155\n"
     ]
    },
    {
     "name": "stderr",
     "output_type": "stream",
     "text": [
      "WARNING:absl:Found untraced functions such as lstm_cell_5_layer_call_fn, lstm_cell_5_layer_call_and_return_conditional_losses, lstm_cell_6_layer_call_fn, lstm_cell_6_layer_call_and_return_conditional_losses, lstm_cell_5_layer_call_fn while saving (showing 5 of 10). These functions will not be directly callable after loading.\n"
     ]
    },
    {
     "name": "stdout",
     "output_type": "stream",
     "text": [
      "INFO:tensorflow:Assets written to: s2s_LSTM_256TimeD_4\\assets\n"
     ]
    },
    {
     "name": "stderr",
     "output_type": "stream",
     "text": [
      "INFO:tensorflow:Assets written to: s2s_LSTM_256TimeD_4\\assets\n"
     ]
    },
    {
     "name": "stdout",
     "output_type": "stream",
     "text": [
      "Epoch 2/500\n",
      "781/781 [==============================] - 19s 24ms/step - loss: 0.0020 - mse: 0.0011 - val_loss: 0.0085 - val_mse: 0.0145\n"
     ]
    },
    {
     "name": "stderr",
     "output_type": "stream",
     "text": [
      "WARNING:absl:Found untraced functions such as lstm_cell_5_layer_call_fn, lstm_cell_5_layer_call_and_return_conditional_losses, lstm_cell_6_layer_call_fn, lstm_cell_6_layer_call_and_return_conditional_losses, lstm_cell_5_layer_call_fn while saving (showing 5 of 10). These functions will not be directly callable after loading.\n"
     ]
    },
    {
     "name": "stdout",
     "output_type": "stream",
     "text": [
      "INFO:tensorflow:Assets written to: s2s_LSTM_256TimeD_4\\assets\n"
     ]
    },
    {
     "name": "stderr",
     "output_type": "stream",
     "text": [
      "INFO:tensorflow:Assets written to: s2s_LSTM_256TimeD_4\\assets\n"
     ]
    },
    {
     "name": "stdout",
     "output_type": "stream",
     "text": [
      "Epoch 3/500\n",
      "781/781 [==============================] - 17s 22ms/step - loss: 0.0015 - mse: 9.5545e-04 - val_loss: 0.0063 - val_mse: 0.0108\n"
     ]
    },
    {
     "name": "stderr",
     "output_type": "stream",
     "text": [
      "WARNING:absl:Found untraced functions such as lstm_cell_5_layer_call_fn, lstm_cell_5_layer_call_and_return_conditional_losses, lstm_cell_6_layer_call_fn, lstm_cell_6_layer_call_and_return_conditional_losses, lstm_cell_5_layer_call_fn while saving (showing 5 of 10). These functions will not be directly callable after loading.\n"
     ]
    },
    {
     "name": "stdout",
     "output_type": "stream",
     "text": [
      "INFO:tensorflow:Assets written to: s2s_LSTM_256TimeD_4\\assets\n"
     ]
    },
    {
     "name": "stderr",
     "output_type": "stream",
     "text": [
      "INFO:tensorflow:Assets written to: s2s_LSTM_256TimeD_4\\assets\n"
     ]
    },
    {
     "name": "stdout",
     "output_type": "stream",
     "text": [
      "Epoch 4/500\n",
      "781/781 [==============================] - 17s 22ms/step - loss: 0.0012 - mse: 7.5500e-04 - val_loss: 0.0041 - val_mse: 0.0067\n"
     ]
    },
    {
     "name": "stderr",
     "output_type": "stream",
     "text": [
      "WARNING:absl:Found untraced functions such as lstm_cell_5_layer_call_fn, lstm_cell_5_layer_call_and_return_conditional_losses, lstm_cell_6_layer_call_fn, lstm_cell_6_layer_call_and_return_conditional_losses, lstm_cell_5_layer_call_fn while saving (showing 5 of 10). These functions will not be directly callable after loading.\n"
     ]
    },
    {
     "name": "stdout",
     "output_type": "stream",
     "text": [
      "INFO:tensorflow:Assets written to: s2s_LSTM_256TimeD_4\\assets\n"
     ]
    },
    {
     "name": "stderr",
     "output_type": "stream",
     "text": [
      "INFO:tensorflow:Assets written to: s2s_LSTM_256TimeD_4\\assets\n"
     ]
    },
    {
     "name": "stdout",
     "output_type": "stream",
     "text": [
      "Epoch 5/500\n",
      "781/781 [==============================] - 17s 21ms/step - loss: 9.4493e-04 - mse: 5.4208e-04 - val_loss: 0.0024 - val_mse: 0.0036\n"
     ]
    },
    {
     "name": "stderr",
     "output_type": "stream",
     "text": [
      "WARNING:absl:Found untraced functions such as lstm_cell_5_layer_call_fn, lstm_cell_5_layer_call_and_return_conditional_losses, lstm_cell_6_layer_call_fn, lstm_cell_6_layer_call_and_return_conditional_losses, lstm_cell_5_layer_call_fn while saving (showing 5 of 10). These functions will not be directly callable after loading.\n"
     ]
    },
    {
     "name": "stdout",
     "output_type": "stream",
     "text": [
      "INFO:tensorflow:Assets written to: s2s_LSTM_256TimeD_4\\assets\n"
     ]
    },
    {
     "name": "stderr",
     "output_type": "stream",
     "text": [
      "INFO:tensorflow:Assets written to: s2s_LSTM_256TimeD_4\\assets\n"
     ]
    },
    {
     "name": "stdout",
     "output_type": "stream",
     "text": [
      "Epoch 6/500\n",
      "781/781 [==============================] - 19s 24ms/step - loss: 7.3455e-04 - mse: 3.7824e-04 - val_loss: 0.0013 - val_mse: 0.0017\n"
     ]
    },
    {
     "name": "stderr",
     "output_type": "stream",
     "text": [
      "WARNING:absl:Found untraced functions such as lstm_cell_5_layer_call_fn, lstm_cell_5_layer_call_and_return_conditional_losses, lstm_cell_6_layer_call_fn, lstm_cell_6_layer_call_and_return_conditional_losses, lstm_cell_5_layer_call_fn while saving (showing 5 of 10). These functions will not be directly callable after loading.\n"
     ]
    },
    {
     "name": "stdout",
     "output_type": "stream",
     "text": [
      "INFO:tensorflow:Assets written to: s2s_LSTM_256TimeD_4\\assets\n"
     ]
    },
    {
     "name": "stderr",
     "output_type": "stream",
     "text": [
      "INFO:tensorflow:Assets written to: s2s_LSTM_256TimeD_4\\assets\n"
     ]
    },
    {
     "name": "stdout",
     "output_type": "stream",
     "text": [
      "Epoch 7/500\n",
      "781/781 [==============================] - 19s 24ms/step - loss: 5.7900e-04 - mse: 2.7494e-04 - val_loss: 8.8008e-04 - val_mse: 9.6792e-04\n"
     ]
    },
    {
     "name": "stderr",
     "output_type": "stream",
     "text": [
      "WARNING:absl:Found untraced functions such as lstm_cell_5_layer_call_fn, lstm_cell_5_layer_call_and_return_conditional_losses, lstm_cell_6_layer_call_fn, lstm_cell_6_layer_call_and_return_conditional_losses, lstm_cell_5_layer_call_fn while saving (showing 5 of 10). These functions will not be directly callable after loading.\n"
     ]
    },
    {
     "name": "stdout",
     "output_type": "stream",
     "text": [
      "INFO:tensorflow:Assets written to: s2s_LSTM_256TimeD_4\\assets\n"
     ]
    },
    {
     "name": "stderr",
     "output_type": "stream",
     "text": [
      "INFO:tensorflow:Assets written to: s2s_LSTM_256TimeD_4\\assets\n"
     ]
    },
    {
     "name": "stdout",
     "output_type": "stream",
     "text": [
      "Epoch 8/500\n",
      "781/781 [==============================] - 19s 24ms/step - loss: 4.8700e-04 - mse: 2.5625e-04 - val_loss: 0.0011 - val_mse: 0.0015\n",
      "Epoch 9/500\n",
      "781/781 [==============================] - 19s 24ms/step - loss: 4.3492e-04 - mse: 2.7873e-04 - val_loss: 0.0010 - val_mse: 0.0015\n",
      "Epoch 10/500\n",
      "781/781 [==============================] - 19s 25ms/step - loss: 3.7528e-04 - mse: 2.5647e-04 - val_loss: 8.3948e-04 - val_mse: 0.0012\n"
     ]
    },
    {
     "name": "stderr",
     "output_type": "stream",
     "text": [
      "WARNING:absl:Found untraced functions such as lstm_cell_5_layer_call_fn, lstm_cell_5_layer_call_and_return_conditional_losses, lstm_cell_6_layer_call_fn, lstm_cell_6_layer_call_and_return_conditional_losses, lstm_cell_5_layer_call_fn while saving (showing 5 of 10). These functions will not be directly callable after loading.\n"
     ]
    },
    {
     "name": "stdout",
     "output_type": "stream",
     "text": [
      "INFO:tensorflow:Assets written to: s2s_LSTM_256TimeD_4\\assets\n"
     ]
    },
    {
     "name": "stderr",
     "output_type": "stream",
     "text": [
      "INFO:tensorflow:Assets written to: s2s_LSTM_256TimeD_4\\assets\n"
     ]
    },
    {
     "name": "stdout",
     "output_type": "stream",
     "text": [
      "Epoch 11/500\n",
      "781/781 [==============================] - 20s 25ms/step - loss: 3.3142e-04 - mse: 2.4350e-04 - val_loss: 8.7114e-04 - val_mse: 0.0014\n",
      "Epoch 12/500\n",
      "781/781 [==============================] - 19s 24ms/step - loss: 2.9558e-04 - mse: 2.2989e-04 - val_loss: 7.1261e-04 - val_mse: 0.0011\n"
     ]
    },
    {
     "name": "stderr",
     "output_type": "stream",
     "text": [
      "WARNING:absl:Found untraced functions such as lstm_cell_5_layer_call_fn, lstm_cell_5_layer_call_and_return_conditional_losses, lstm_cell_6_layer_call_fn, lstm_cell_6_layer_call_and_return_conditional_losses, lstm_cell_5_layer_call_fn while saving (showing 5 of 10). These functions will not be directly callable after loading.\n"
     ]
    },
    {
     "name": "stdout",
     "output_type": "stream",
     "text": [
      "INFO:tensorflow:Assets written to: s2s_LSTM_256TimeD_4\\assets\n"
     ]
    },
    {
     "name": "stderr",
     "output_type": "stream",
     "text": [
      "INFO:tensorflow:Assets written to: s2s_LSTM_256TimeD_4\\assets\n"
     ]
    },
    {
     "name": "stdout",
     "output_type": "stream",
     "text": [
      "Epoch 13/500\n",
      "781/781 [==============================] - 18s 23ms/step - loss: 2.5857e-04 - mse: 2.0251e-04 - val_loss: 6.4623e-04 - val_mse: 9.9954e-04\n"
     ]
    },
    {
     "name": "stderr",
     "output_type": "stream",
     "text": [
      "WARNING:absl:Found untraced functions such as lstm_cell_5_layer_call_fn, lstm_cell_5_layer_call_and_return_conditional_losses, lstm_cell_6_layer_call_fn, lstm_cell_6_layer_call_and_return_conditional_losses, lstm_cell_5_layer_call_fn while saving (showing 5 of 10). These functions will not be directly callable after loading.\n"
     ]
    },
    {
     "name": "stdout",
     "output_type": "stream",
     "text": [
      "INFO:tensorflow:Assets written to: s2s_LSTM_256TimeD_4\\assets\n"
     ]
    },
    {
     "name": "stderr",
     "output_type": "stream",
     "text": [
      "INFO:tensorflow:Assets written to: s2s_LSTM_256TimeD_4\\assets\n"
     ]
    },
    {
     "name": "stdout",
     "output_type": "stream",
     "text": [
      "Epoch 14/500\n",
      "781/781 [==============================] - 19s 24ms/step - loss: 2.3721e-04 - mse: 1.9776e-04 - val_loss: 6.2721e-04 - val_mse: 9.9561e-04\n"
     ]
    },
    {
     "name": "stderr",
     "output_type": "stream",
     "text": [
      "WARNING:absl:Found untraced functions such as lstm_cell_5_layer_call_fn, lstm_cell_5_layer_call_and_return_conditional_losses, lstm_cell_6_layer_call_fn, lstm_cell_6_layer_call_and_return_conditional_losses, lstm_cell_5_layer_call_fn while saving (showing 5 of 10). These functions will not be directly callable after loading.\n"
     ]
    },
    {
     "name": "stdout",
     "output_type": "stream",
     "text": [
      "INFO:tensorflow:Assets written to: s2s_LSTM_256TimeD_4\\assets\n"
     ]
    },
    {
     "name": "stderr",
     "output_type": "stream",
     "text": [
      "INFO:tensorflow:Assets written to: s2s_LSTM_256TimeD_4\\assets\n"
     ]
    },
    {
     "name": "stdout",
     "output_type": "stream",
     "text": [
      "Epoch 15/500\n",
      "781/781 [==============================] - 19s 24ms/step - loss: 2.2153e-04 - mse: 1.9708e-04 - val_loss: 7.0197e-04 - val_mse: 0.0012\n",
      "Epoch 16/500\n",
      "781/781 [==============================] - 19s 25ms/step - loss: 2.0120e-04 - mse: 1.8148e-04 - val_loss: 5.0698e-04 - val_mse: 8.0523e-04\n"
     ]
    },
    {
     "name": "stderr",
     "output_type": "stream",
     "text": [
      "WARNING:absl:Found untraced functions such as lstm_cell_5_layer_call_fn, lstm_cell_5_layer_call_and_return_conditional_losses, lstm_cell_6_layer_call_fn, lstm_cell_6_layer_call_and_return_conditional_losses, lstm_cell_5_layer_call_fn while saving (showing 5 of 10). These functions will not be directly callable after loading.\n"
     ]
    },
    {
     "name": "stdout",
     "output_type": "stream",
     "text": [
      "INFO:tensorflow:Assets written to: s2s_LSTM_256TimeD_4\\assets\n"
     ]
    },
    {
     "name": "stderr",
     "output_type": "stream",
     "text": [
      "INFO:tensorflow:Assets written to: s2s_LSTM_256TimeD_4\\assets\n"
     ]
    },
    {
     "name": "stdout",
     "output_type": "stream",
     "text": [
      "Epoch 17/500\n",
      "781/781 [==============================] - 20s 25ms/step - loss: 1.9143e-04 - mse: 1.8253e-04 - val_loss: 5.5005e-04 - val_mse: 9.1027e-04\n",
      "Epoch 18/500\n",
      "781/781 [==============================] - 19s 24ms/step - loss: 1.7492e-04 - mse: 1.6691e-04 - val_loss: 4.1704e-04 - val_mse: 6.6021e-04\n"
     ]
    },
    {
     "name": "stderr",
     "output_type": "stream",
     "text": [
      "WARNING:absl:Found untraced functions such as lstm_cell_5_layer_call_fn, lstm_cell_5_layer_call_and_return_conditional_losses, lstm_cell_6_layer_call_fn, lstm_cell_6_layer_call_and_return_conditional_losses, lstm_cell_5_layer_call_fn while saving (showing 5 of 10). These functions will not be directly callable after loading.\n"
     ]
    },
    {
     "name": "stdout",
     "output_type": "stream",
     "text": [
      "INFO:tensorflow:Assets written to: s2s_LSTM_256TimeD_4\\assets\n"
     ]
    },
    {
     "name": "stderr",
     "output_type": "stream",
     "text": [
      "INFO:tensorflow:Assets written to: s2s_LSTM_256TimeD_4\\assets\n"
     ]
    },
    {
     "name": "stdout",
     "output_type": "stream",
     "text": [
      "Epoch 19/500\n",
      "781/781 [==============================] - 19s 24ms/step - loss: 1.5873e-04 - mse: 1.4980e-04 - val_loss: 3.6235e-04 - val_mse: 5.6495e-04\n"
     ]
    },
    {
     "name": "stderr",
     "output_type": "stream",
     "text": [
      "WARNING:absl:Found untraced functions such as lstm_cell_5_layer_call_fn, lstm_cell_5_layer_call_and_return_conditional_losses, lstm_cell_6_layer_call_fn, lstm_cell_6_layer_call_and_return_conditional_losses, lstm_cell_5_layer_call_fn while saving (showing 5 of 10). These functions will not be directly callable after loading.\n"
     ]
    },
    {
     "name": "stdout",
     "output_type": "stream",
     "text": [
      "INFO:tensorflow:Assets written to: s2s_LSTM_256TimeD_4\\assets\n"
     ]
    },
    {
     "name": "stderr",
     "output_type": "stream",
     "text": [
      "INFO:tensorflow:Assets written to: s2s_LSTM_256TimeD_4\\assets\n"
     ]
    },
    {
     "name": "stdout",
     "output_type": "stream",
     "text": [
      "Epoch 20/500\n",
      "781/781 [==============================] - 19s 24ms/step - loss: 1.5768e-04 - mse: 1.6064e-04 - val_loss: 4.7458e-04 - val_mse: 8.0136e-04\n",
      "Epoch 21/500\n",
      "781/781 [==============================] - 18s 24ms/step - loss: 1.5438e-04 - mse: 1.6459e-04 - val_loss: 3.3082e-04 - val_mse: 5.2317e-04\n"
     ]
    },
    {
     "name": "stderr",
     "output_type": "stream",
     "text": [
      "WARNING:absl:Found untraced functions such as lstm_cell_5_layer_call_fn, lstm_cell_5_layer_call_and_return_conditional_losses, lstm_cell_6_layer_call_fn, lstm_cell_6_layer_call_and_return_conditional_losses, lstm_cell_5_layer_call_fn while saving (showing 5 of 10). These functions will not be directly callable after loading.\n"
     ]
    },
    {
     "name": "stdout",
     "output_type": "stream",
     "text": [
      "INFO:tensorflow:Assets written to: s2s_LSTM_256TimeD_4\\assets\n"
     ]
    },
    {
     "name": "stderr",
     "output_type": "stream",
     "text": [
      "INFO:tensorflow:Assets written to: s2s_LSTM_256TimeD_4\\assets\n"
     ]
    },
    {
     "name": "stdout",
     "output_type": "stream",
     "text": [
      "Epoch 22/500\n",
      "781/781 [==============================] - 18s 23ms/step - loss: 1.3740e-04 - mse: 1.3983e-04 - val_loss: 2.7404e-04 - val_mse: 4.1835e-04\n"
     ]
    },
    {
     "name": "stderr",
     "output_type": "stream",
     "text": [
      "WARNING:absl:Found untraced functions such as lstm_cell_5_layer_call_fn, lstm_cell_5_layer_call_and_return_conditional_losses, lstm_cell_6_layer_call_fn, lstm_cell_6_layer_call_and_return_conditional_losses, lstm_cell_5_layer_call_fn while saving (showing 5 of 10). These functions will not be directly callable after loading.\n"
     ]
    },
    {
     "name": "stdout",
     "output_type": "stream",
     "text": [
      "INFO:tensorflow:Assets written to: s2s_LSTM_256TimeD_4\\assets\n"
     ]
    },
    {
     "name": "stderr",
     "output_type": "stream",
     "text": [
      "INFO:tensorflow:Assets written to: s2s_LSTM_256TimeD_4\\assets\n"
     ]
    },
    {
     "name": "stdout",
     "output_type": "stream",
     "text": [
      "Epoch 23/500\n",
      "781/781 [==============================] - 18s 23ms/step - loss: 1.3318e-04 - mse: 1.3989e-04 - val_loss: 2.4769e-04 - val_mse: 3.7366e-04\n"
     ]
    },
    {
     "name": "stderr",
     "output_type": "stream",
     "text": [
      "WARNING:absl:Found untraced functions such as lstm_cell_5_layer_call_fn, lstm_cell_5_layer_call_and_return_conditional_losses, lstm_cell_6_layer_call_fn, lstm_cell_6_layer_call_and_return_conditional_losses, lstm_cell_5_layer_call_fn while saving (showing 5 of 10). These functions will not be directly callable after loading.\n"
     ]
    },
    {
     "name": "stdout",
     "output_type": "stream",
     "text": [
      "INFO:tensorflow:Assets written to: s2s_LSTM_256TimeD_4\\assets\n"
     ]
    },
    {
     "name": "stderr",
     "output_type": "stream",
     "text": [
      "INFO:tensorflow:Assets written to: s2s_LSTM_256TimeD_4\\assets\n"
     ]
    },
    {
     "name": "stdout",
     "output_type": "stream",
     "text": [
      "Epoch 24/500\n",
      "781/781 [==============================] - 18s 23ms/step - loss: 1.3075e-04 - mse: 1.4251e-04 - val_loss: 2.1054e-04 - val_mse: 3.0624e-04\n"
     ]
    },
    {
     "name": "stderr",
     "output_type": "stream",
     "text": [
      "WARNING:absl:Found untraced functions such as lstm_cell_5_layer_call_fn, lstm_cell_5_layer_call_and_return_conditional_losses, lstm_cell_6_layer_call_fn, lstm_cell_6_layer_call_and_return_conditional_losses, lstm_cell_5_layer_call_fn while saving (showing 5 of 10). These functions will not be directly callable after loading.\n"
     ]
    },
    {
     "name": "stdout",
     "output_type": "stream",
     "text": [
      "INFO:tensorflow:Assets written to: s2s_LSTM_256TimeD_4\\assets\n"
     ]
    },
    {
     "name": "stderr",
     "output_type": "stream",
     "text": [
      "INFO:tensorflow:Assets written to: s2s_LSTM_256TimeD_4\\assets\n"
     ]
    },
    {
     "name": "stdout",
     "output_type": "stream",
     "text": [
      "Epoch 25/500\n",
      "781/781 [==============================] - 19s 23ms/step - loss: 1.2195e-04 - mse: 1.3148e-04 - val_loss: 1.6868e-04 - val_mse: 2.2862e-04\n"
     ]
    },
    {
     "name": "stderr",
     "output_type": "stream",
     "text": [
      "WARNING:absl:Found untraced functions such as lstm_cell_5_layer_call_fn, lstm_cell_5_layer_call_and_return_conditional_losses, lstm_cell_6_layer_call_fn, lstm_cell_6_layer_call_and_return_conditional_losses, lstm_cell_5_layer_call_fn while saving (showing 5 of 10). These functions will not be directly callable after loading.\n"
     ]
    },
    {
     "name": "stdout",
     "output_type": "stream",
     "text": [
      "INFO:tensorflow:Assets written to: s2s_LSTM_256TimeD_4\\assets\n"
     ]
    },
    {
     "name": "stderr",
     "output_type": "stream",
     "text": [
      "INFO:tensorflow:Assets written to: s2s_LSTM_256TimeD_4\\assets\n"
     ]
    },
    {
     "name": "stdout",
     "output_type": "stream",
     "text": [
      "Epoch 26/500\n",
      "781/781 [==============================] - 19s 24ms/step - loss: 1.1674e-04 - mse: 1.2697e-04 - val_loss: 1.3469e-04 - val_mse: 1.6614e-04\n"
     ]
    },
    {
     "name": "stderr",
     "output_type": "stream",
     "text": [
      "WARNING:absl:Found untraced functions such as lstm_cell_5_layer_call_fn, lstm_cell_5_layer_call_and_return_conditional_losses, lstm_cell_6_layer_call_fn, lstm_cell_6_layer_call_and_return_conditional_losses, lstm_cell_5_layer_call_fn while saving (showing 5 of 10). These functions will not be directly callable after loading.\n"
     ]
    },
    {
     "name": "stdout",
     "output_type": "stream",
     "text": [
      "INFO:tensorflow:Assets written to: s2s_LSTM_256TimeD_4\\assets\n"
     ]
    },
    {
     "name": "stderr",
     "output_type": "stream",
     "text": [
      "INFO:tensorflow:Assets written to: s2s_LSTM_256TimeD_4\\assets\n"
     ]
    },
    {
     "name": "stdout",
     "output_type": "stream",
     "text": [
      "Epoch 27/500\n",
      "781/781 [==============================] - 18s 23ms/step - loss: 1.2063e-04 - mse: 1.4000e-04 - val_loss: 1.1556e-04 - val_mse: 1.3262e-04\n"
     ]
    },
    {
     "name": "stderr",
     "output_type": "stream",
     "text": [
      "WARNING:absl:Found untraced functions such as lstm_cell_5_layer_call_fn, lstm_cell_5_layer_call_and_return_conditional_losses, lstm_cell_6_layer_call_fn, lstm_cell_6_layer_call_and_return_conditional_losses, lstm_cell_5_layer_call_fn while saving (showing 5 of 10). These functions will not be directly callable after loading.\n"
     ]
    },
    {
     "name": "stdout",
     "output_type": "stream",
     "text": [
      "INFO:tensorflow:Assets written to: s2s_LSTM_256TimeD_4\\assets\n"
     ]
    },
    {
     "name": "stderr",
     "output_type": "stream",
     "text": [
      "INFO:tensorflow:Assets written to: s2s_LSTM_256TimeD_4\\assets\n"
     ]
    },
    {
     "name": "stdout",
     "output_type": "stream",
     "text": [
      "Epoch 28/500\n",
      "781/781 [==============================] - 19s 23ms/step - loss: 1.0929e-04 - mse: 1.2183e-04 - val_loss: 8.5010e-05 - val_mse: 7.5745e-05\n"
     ]
    },
    {
     "name": "stderr",
     "output_type": "stream",
     "text": [
      "WARNING:absl:Found untraced functions such as lstm_cell_5_layer_call_fn, lstm_cell_5_layer_call_and_return_conditional_losses, lstm_cell_6_layer_call_fn, lstm_cell_6_layer_call_and_return_conditional_losses, lstm_cell_5_layer_call_fn while saving (showing 5 of 10). These functions will not be directly callable after loading.\n"
     ]
    },
    {
     "name": "stdout",
     "output_type": "stream",
     "text": [
      "INFO:tensorflow:Assets written to: s2s_LSTM_256TimeD_4\\assets\n"
     ]
    },
    {
     "name": "stderr",
     "output_type": "stream",
     "text": [
      "INFO:tensorflow:Assets written to: s2s_LSTM_256TimeD_4\\assets\n"
     ]
    },
    {
     "name": "stdout",
     "output_type": "stream",
     "text": [
      "Epoch 29/500\n",
      "781/781 [==============================] - 18s 23ms/step - loss: 1.0514e-04 - mse: 1.1786e-04 - val_loss: 7.4186e-05 - val_mse: 5.8182e-05\n"
     ]
    },
    {
     "name": "stderr",
     "output_type": "stream",
     "text": [
      "WARNING:absl:Found untraced functions such as lstm_cell_5_layer_call_fn, lstm_cell_5_layer_call_and_return_conditional_losses, lstm_cell_6_layer_call_fn, lstm_cell_6_layer_call_and_return_conditional_losses, lstm_cell_5_layer_call_fn while saving (showing 5 of 10). These functions will not be directly callable after loading.\n"
     ]
    },
    {
     "name": "stdout",
     "output_type": "stream",
     "text": [
      "INFO:tensorflow:Assets written to: s2s_LSTM_256TimeD_4\\assets\n"
     ]
    },
    {
     "name": "stderr",
     "output_type": "stream",
     "text": [
      "INFO:tensorflow:Assets written to: s2s_LSTM_256TimeD_4\\assets\n"
     ]
    },
    {
     "name": "stdout",
     "output_type": "stream",
     "text": [
      "Epoch 30/500\n",
      "781/781 [==============================] - 19s 23ms/step - loss: 1.0560e-04 - mse: 1.2278e-04 - val_loss: 7.3257e-05 - val_mse: 6.0028e-05\n"
     ]
    },
    {
     "name": "stderr",
     "output_type": "stream",
     "text": [
      "WARNING:absl:Found untraced functions such as lstm_cell_5_layer_call_fn, lstm_cell_5_layer_call_and_return_conditional_losses, lstm_cell_6_layer_call_fn, lstm_cell_6_layer_call_and_return_conditional_losses, lstm_cell_5_layer_call_fn while saving (showing 5 of 10). These functions will not be directly callable after loading.\n"
     ]
    },
    {
     "name": "stdout",
     "output_type": "stream",
     "text": [
      "INFO:tensorflow:Assets written to: s2s_LSTM_256TimeD_4\\assets\n"
     ]
    },
    {
     "name": "stderr",
     "output_type": "stream",
     "text": [
      "INFO:tensorflow:Assets written to: s2s_LSTM_256TimeD_4\\assets\n"
     ]
    },
    {
     "name": "stdout",
     "output_type": "stream",
     "text": [
      "Epoch 31/500\n",
      "781/781 [==============================] - 19s 24ms/step - loss: 1.0155e-04 - mse: 1.1821e-04 - val_loss: 7.1952e-05 - val_mse: 6.0654e-05\n"
     ]
    },
    {
     "name": "stderr",
     "output_type": "stream",
     "text": [
      "WARNING:absl:Found untraced functions such as lstm_cell_5_layer_call_fn, lstm_cell_5_layer_call_and_return_conditional_losses, lstm_cell_6_layer_call_fn, lstm_cell_6_layer_call_and_return_conditional_losses, lstm_cell_5_layer_call_fn while saving (showing 5 of 10). These functions will not be directly callable after loading.\n"
     ]
    },
    {
     "name": "stdout",
     "output_type": "stream",
     "text": [
      "INFO:tensorflow:Assets written to: s2s_LSTM_256TimeD_4\\assets\n"
     ]
    },
    {
     "name": "stderr",
     "output_type": "stream",
     "text": [
      "INFO:tensorflow:Assets written to: s2s_LSTM_256TimeD_4\\assets\n"
     ]
    },
    {
     "name": "stdout",
     "output_type": "stream",
     "text": [
      "Epoch 32/500\n",
      "781/781 [==============================] - 19s 24ms/step - loss: 9.5709e-05 - mse: 1.0979e-04 - val_loss: 8.8021e-05 - val_mse: 9.5966e-05\n",
      "Epoch 33/500\n",
      "781/781 [==============================] - 19s 25ms/step - loss: 1.0045e-04 - mse: 1.2235e-04 - val_loss: 9.4463e-05 - val_mse: 1.1155e-04\n",
      "Epoch 34/500\n",
      "781/781 [==============================] - 19s 25ms/step - loss: 9.2108e-05 - mse: 1.0827e-04 - val_loss: 9.5150e-05 - val_mse: 1.1546e-04\n",
      "Epoch 35/500\n",
      "781/781 [==============================] - 19s 24ms/step - loss: 8.6684e-05 - mse: 1.0006e-04 - val_loss: 1.2475e-04 - val_mse: 1.7727e-04\n",
      "Epoch 36/500\n",
      "781/781 [==============================] - 19s 25ms/step - loss: 9.5278e-05 - mse: 1.1977e-04 - val_loss: 1.5920e-04 - val_mse: 2.4831e-04\n",
      "Epoch 37/500\n",
      "781/781 [==============================] - 18s 23ms/step - loss: 8.7248e-05 - mse: 1.0573e-04 - val_loss: 1.4946e-04 - val_mse: 2.3077e-04\n",
      "Epoch 38/500\n",
      "781/781 [==============================] - 18s 23ms/step - loss: 8.3000e-05 - mse: 9.9320e-05 - val_loss: 1.7974e-04 - val_mse: 2.9344e-04\n",
      "Epoch 39/500\n",
      "781/781 [==============================] - 19s 24ms/step - loss: 8.8021e-05 - mse: 1.1136e-04 - val_loss: 1.6247e-04 - val_mse: 2.6074e-04\n",
      "Epoch 40/500\n",
      "781/781 [==============================] - 19s 24ms/step - loss: 8.1529e-05 - mse: 1.0006e-04 - val_loss: 1.1634e-04 - val_mse: 1.7022e-04\n",
      "Epoch 41/500\n",
      "781/781 [==============================] - 18s 24ms/step - loss: 7.6573e-05 - mse: 9.1868e-05 - val_loss: 9.3695e-05 - val_mse: 1.2687e-04\n",
      "Epoch 42/500\n",
      "781/781 [==============================] - 18s 23ms/step - loss: 8.3368e-05 - mse: 1.0719e-04 - val_loss: 9.9214e-05 - val_mse: 1.3942e-04\n",
      "Epoch 43/500\n",
      "781/781 [==============================] - 18s 23ms/step - loss: 8.2386e-05 - mse: 1.0655e-04 - val_loss: 7.9260e-05 - val_mse: 1.0078e-04\n",
      "Epoch 44/500\n",
      "781/781 [==============================] - 19s 24ms/step - loss: 7.2752e-05 - mse: 8.8564e-05 - val_loss: 7.0102e-05 - val_mse: 8.3879e-05\n"
     ]
    },
    {
     "name": "stderr",
     "output_type": "stream",
     "text": [
      "WARNING:absl:Found untraced functions such as lstm_cell_5_layer_call_fn, lstm_cell_5_layer_call_and_return_conditional_losses, lstm_cell_6_layer_call_fn, lstm_cell_6_layer_call_and_return_conditional_losses, lstm_cell_5_layer_call_fn while saving (showing 5 of 10). These functions will not be directly callable after loading.\n"
     ]
    },
    {
     "name": "stdout",
     "output_type": "stream",
     "text": [
      "INFO:tensorflow:Assets written to: s2s_LSTM_256TimeD_4\\assets\n"
     ]
    },
    {
     "name": "stderr",
     "output_type": "stream",
     "text": [
      "INFO:tensorflow:Assets written to: s2s_LSTM_256TimeD_4\\assets\n"
     ]
    },
    {
     "name": "stdout",
     "output_type": "stream",
     "text": [
      "Epoch 45/500\n",
      "781/781 [==============================] - 19s 24ms/step - loss: 7.4331e-05 - mse: 9.3191e-05 - val_loss: 8.2354e-05 - val_mse: 1.0984e-04\n",
      "Epoch 46/500\n",
      "781/781 [==============================] - 18s 23ms/step - loss: 8.0424e-05 - mse: 1.0664e-04 - val_loss: 7.6161e-05 - val_mse: 9.8514e-05\n",
      "Epoch 47/500\n",
      "781/781 [==============================] - 19s 24ms/step - loss: 7.1757e-05 - mse: 9.0325e-05 - val_loss: 6.9304e-05 - val_mse: 8.5867e-05\n"
     ]
    },
    {
     "name": "stderr",
     "output_type": "stream",
     "text": [
      "WARNING:absl:Found untraced functions such as lstm_cell_5_layer_call_fn, lstm_cell_5_layer_call_and_return_conditional_losses, lstm_cell_6_layer_call_fn, lstm_cell_6_layer_call_and_return_conditional_losses, lstm_cell_5_layer_call_fn while saving (showing 5 of 10). These functions will not be directly callable after loading.\n"
     ]
    },
    {
     "name": "stdout",
     "output_type": "stream",
     "text": [
      "INFO:tensorflow:Assets written to: s2s_LSTM_256TimeD_4\\assets\n"
     ]
    },
    {
     "name": "stderr",
     "output_type": "stream",
     "text": [
      "INFO:tensorflow:Assets written to: s2s_LSTM_256TimeD_4\\assets\n"
     ]
    },
    {
     "name": "stdout",
     "output_type": "stream",
     "text": [
      "Epoch 48/500\n",
      "781/781 [==============================] - 19s 24ms/step - loss: 6.8858e-05 - mse: 8.5713e-05 - val_loss: 8.4209e-05 - val_mse: 1.1689e-04\n",
      "Epoch 49/500\n",
      "781/781 [==============================] - 18s 24ms/step - loss: 7.7549e-05 - mse: 1.0428e-04 - val_loss: 7.8277e-05 - val_mse: 1.0608e-04\n",
      "Epoch 50/500\n",
      "781/781 [==============================] - 18s 23ms/step - loss: 7.0995e-05 - mse: 9.2003e-05 - val_loss: 5.8561e-05 - val_mse: 6.7530e-05\n"
     ]
    },
    {
     "name": "stderr",
     "output_type": "stream",
     "text": [
      "WARNING:absl:Found untraced functions such as lstm_cell_5_layer_call_fn, lstm_cell_5_layer_call_and_return_conditional_losses, lstm_cell_6_layer_call_fn, lstm_cell_6_layer_call_and_return_conditional_losses, lstm_cell_5_layer_call_fn while saving (showing 5 of 10). These functions will not be directly callable after loading.\n"
     ]
    },
    {
     "name": "stdout",
     "output_type": "stream",
     "text": [
      "INFO:tensorflow:Assets written to: s2s_LSTM_256TimeD_4\\assets\n"
     ]
    },
    {
     "name": "stderr",
     "output_type": "stream",
     "text": [
      "INFO:tensorflow:Assets written to: s2s_LSTM_256TimeD_4\\assets\n"
     ]
    },
    {
     "name": "stdout",
     "output_type": "stream",
     "text": [
      "Epoch 51/500\n",
      "781/781 [==============================] - 19s 24ms/step - loss: 6.4967e-05 - mse: 8.0890e-05 - val_loss: 5.7511e-05 - val_mse: 6.6483e-05\n"
     ]
    },
    {
     "name": "stderr",
     "output_type": "stream",
     "text": [
      "WARNING:absl:Found untraced functions such as lstm_cell_5_layer_call_fn, lstm_cell_5_layer_call_and_return_conditional_losses, lstm_cell_6_layer_call_fn, lstm_cell_6_layer_call_and_return_conditional_losses, lstm_cell_5_layer_call_fn while saving (showing 5 of 10). These functions will not be directly callable after loading.\n"
     ]
    },
    {
     "name": "stdout",
     "output_type": "stream",
     "text": [
      "INFO:tensorflow:Assets written to: s2s_LSTM_256TimeD_4\\assets\n"
     ]
    },
    {
     "name": "stderr",
     "output_type": "stream",
     "text": [
      "INFO:tensorflow:Assets written to: s2s_LSTM_256TimeD_4\\assets\n"
     ]
    },
    {
     "name": "stdout",
     "output_type": "stream",
     "text": [
      "Epoch 52/500\n",
      "781/781 [==============================] - 19s 24ms/step - loss: 7.2707e-05 - mse: 9.7466e-05 - val_loss: 6.1288e-05 - val_mse: 7.5046e-05\n",
      "Epoch 53/500\n",
      "781/781 [==============================] - 19s 24ms/step - loss: 7.0003e-05 - mse: 9.2798e-05 - val_loss: 5.0160e-05 - val_mse: 5.3503e-05\n"
     ]
    },
    {
     "name": "stderr",
     "output_type": "stream",
     "text": [
      "WARNING:absl:Found untraced functions such as lstm_cell_5_layer_call_fn, lstm_cell_5_layer_call_and_return_conditional_losses, lstm_cell_6_layer_call_fn, lstm_cell_6_layer_call_and_return_conditional_losses, lstm_cell_5_layer_call_fn while saving (showing 5 of 10). These functions will not be directly callable after loading.\n"
     ]
    },
    {
     "name": "stdout",
     "output_type": "stream",
     "text": [
      "INFO:tensorflow:Assets written to: s2s_LSTM_256TimeD_4\\assets\n"
     ]
    },
    {
     "name": "stderr",
     "output_type": "stream",
     "text": [
      "INFO:tensorflow:Assets written to: s2s_LSTM_256TimeD_4\\assets\n"
     ]
    },
    {
     "name": "stdout",
     "output_type": "stream",
     "text": [
      "Epoch 54/500\n",
      "781/781 [==============================] - 19s 24ms/step - loss: 6.2270e-05 - mse: 7.8113e-05 - val_loss: 4.9088e-05 - val_mse: 5.2236e-05\n"
     ]
    },
    {
     "name": "stderr",
     "output_type": "stream",
     "text": [
      "WARNING:absl:Found untraced functions such as lstm_cell_5_layer_call_fn, lstm_cell_5_layer_call_and_return_conditional_losses, lstm_cell_6_layer_call_fn, lstm_cell_6_layer_call_and_return_conditional_losses, lstm_cell_5_layer_call_fn while saving (showing 5 of 10). These functions will not be directly callable after loading.\n"
     ]
    },
    {
     "name": "stdout",
     "output_type": "stream",
     "text": [
      "INFO:tensorflow:Assets written to: s2s_LSTM_256TimeD_4\\assets\n"
     ]
    },
    {
     "name": "stderr",
     "output_type": "stream",
     "text": [
      "INFO:tensorflow:Assets written to: s2s_LSTM_256TimeD_4\\assets\n"
     ]
    },
    {
     "name": "stdout",
     "output_type": "stream",
     "text": [
      "Epoch 55/500\n",
      "781/781 [==============================] - 19s 24ms/step - loss: 6.8785e-05 - mse: 9.2139e-05 - val_loss: 5.6219e-05 - val_mse: 6.7452e-05\n",
      "Epoch 56/500\n",
      "781/781 [==============================] - 18s 24ms/step - loss: 7.0012e-05 - mse: 9.5261e-05 - val_loss: 4.9226e-05 - val_mse: 5.4034e-05\n",
      "Epoch 57/500\n",
      "781/781 [==============================] - 18s 24ms/step - loss: 6.0620e-05 - mse: 7.7088e-05 - val_loss: 4.4724e-05 - val_mse: 4.5741e-05\n"
     ]
    },
    {
     "name": "stderr",
     "output_type": "stream",
     "text": [
      "WARNING:absl:Found untraced functions such as lstm_cell_5_layer_call_fn, lstm_cell_5_layer_call_and_return_conditional_losses, lstm_cell_6_layer_call_fn, lstm_cell_6_layer_call_and_return_conditional_losses, lstm_cell_5_layer_call_fn while saving (showing 5 of 10). These functions will not be directly callable after loading.\n"
     ]
    },
    {
     "name": "stdout",
     "output_type": "stream",
     "text": [
      "INFO:tensorflow:Assets written to: s2s_LSTM_256TimeD_4\\assets\n"
     ]
    },
    {
     "name": "stderr",
     "output_type": "stream",
     "text": [
      "INFO:tensorflow:Assets written to: s2s_LSTM_256TimeD_4\\assets\n"
     ]
    },
    {
     "name": "stdout",
     "output_type": "stream",
     "text": [
      "Epoch 58/500\n",
      "781/781 [==============================] - 19s 24ms/step - loss: 6.2488e-05 - mse: 8.1711e-05 - val_loss: 5.1464e-05 - val_mse: 6.0109e-05\n",
      "Epoch 59/500\n",
      "781/781 [==============================] - 19s 24ms/step - loss: 6.7890e-05 - mse: 9.3213e-05 - val_loss: 5.5175e-05 - val_mse: 6.8031e-05\n",
      "Epoch 60/500\n",
      "781/781 [==============================] - 18s 23ms/step - loss: 6.2335e-05 - mse: 8.2618e-05 - val_loss: 5.3834e-05 - val_mse: 6.5833e-05\n",
      "Epoch 61/500\n",
      "781/781 [==============================] - 19s 24ms/step - loss: 5.7994e-05 - mse: 7.4608e-05 - val_loss: 6.3603e-05 - val_mse: 8.6088e-05\n",
      "Epoch 62/500\n",
      "781/781 [==============================] - 19s 24ms/step - loss: 6.3374e-05 - mse: 8.6102e-05 - val_loss: 7.6259e-05 - val_mse: 1.1199e-04\n",
      "Epoch 63/500\n",
      "781/781 [==============================] - 18s 24ms/step - loss: 6.4589e-05 - mse: 8.9034e-05 - val_loss: 6.5569e-05 - val_mse: 9.1087e-05\n",
      "Epoch 64/500\n",
      "781/781 [==============================] - 19s 24ms/step - loss: 5.5965e-05 - mse: 7.2236e-05 - val_loss: 5.3442e-05 - val_mse: 6.7388e-05\n",
      "Epoch 65/500\n",
      "781/781 [==============================] - 18s 24ms/step - loss: 5.7988e-05 - mse: 7.6989e-05 - val_loss: 6.1581e-05 - val_mse: 8.4364e-05\n",
      "Epoch 66/500\n",
      "781/781 [==============================] - 19s 24ms/step - loss: 6.3929e-05 - mse: 8.9419e-05 - val_loss: 5.2675e-05 - val_mse: 6.7074e-05\n",
      "Epoch 67/500\n",
      "781/781 [==============================] - 19s 24ms/step - loss: 5.7296e-05 - mse: 7.6497e-05 - val_loss: 4.0902e-05 - val_mse: 4.3921e-05\n"
     ]
    },
    {
     "name": "stderr",
     "output_type": "stream",
     "text": [
      "WARNING:absl:Found untraced functions such as lstm_cell_5_layer_call_fn, lstm_cell_5_layer_call_and_return_conditional_losses, lstm_cell_6_layer_call_fn, lstm_cell_6_layer_call_and_return_conditional_losses, lstm_cell_5_layer_call_fn while saving (showing 5 of 10). These functions will not be directly callable after loading.\n"
     ]
    },
    {
     "name": "stdout",
     "output_type": "stream",
     "text": [
      "INFO:tensorflow:Assets written to: s2s_LSTM_256TimeD_4\\assets\n"
     ]
    },
    {
     "name": "stderr",
     "output_type": "stream",
     "text": [
      "INFO:tensorflow:Assets written to: s2s_LSTM_256TimeD_4\\assets\n"
     ]
    },
    {
     "name": "stdout",
     "output_type": "stream",
     "text": [
      "Epoch 68/500\n",
      "781/781 [==============================] - 19s 24ms/step - loss: 5.3095e-05 - mse: 6.8653e-05 - val_loss: 4.3680e-05 - val_mse: 5.0163e-05\n",
      "Epoch 69/500\n",
      "781/781 [==============================] - 18s 23ms/step - loss: 6.1611e-05 - mse: 8.6310e-05 - val_loss: 4.8663e-05 - val_mse: 6.0615e-05\n",
      "Epoch 70/500\n",
      "781/781 [==============================] - 19s 24ms/step - loss: 5.8944e-05 - mse: 8.1266e-05 - val_loss: 4.0655e-05 - val_mse: 4.4846e-05\n"
     ]
    },
    {
     "name": "stderr",
     "output_type": "stream",
     "text": [
      "WARNING:absl:Found untraced functions such as lstm_cell_5_layer_call_fn, lstm_cell_5_layer_call_and_return_conditional_losses, lstm_cell_6_layer_call_fn, lstm_cell_6_layer_call_and_return_conditional_losses, lstm_cell_5_layer_call_fn while saving (showing 5 of 10). These functions will not be directly callable after loading.\n"
     ]
    },
    {
     "name": "stdout",
     "output_type": "stream",
     "text": [
      "INFO:tensorflow:Assets written to: s2s_LSTM_256TimeD_4\\assets\n"
     ]
    },
    {
     "name": "stderr",
     "output_type": "stream",
     "text": [
      "INFO:tensorflow:Assets written to: s2s_LSTM_256TimeD_4\\assets\n"
     ]
    },
    {
     "name": "stdout",
     "output_type": "stream",
     "text": [
      "Epoch 71/500\n",
      "781/781 [==============================] - 19s 24ms/step - loss: 4.9628e-05 - mse: 6.3058e-05 - val_loss: 4.0613e-05 - val_mse: 4.5312e-05\n"
     ]
    },
    {
     "name": "stderr",
     "output_type": "stream",
     "text": [
      "WARNING:absl:Found untraced functions such as lstm_cell_5_layer_call_fn, lstm_cell_5_layer_call_and_return_conditional_losses, lstm_cell_6_layer_call_fn, lstm_cell_6_layer_call_and_return_conditional_losses, lstm_cell_5_layer_call_fn while saving (showing 5 of 10). These functions will not be directly callable after loading.\n"
     ]
    },
    {
     "name": "stdout",
     "output_type": "stream",
     "text": [
      "INFO:tensorflow:Assets written to: s2s_LSTM_256TimeD_4\\assets\n"
     ]
    },
    {
     "name": "stderr",
     "output_type": "stream",
     "text": [
      "INFO:tensorflow:Assets written to: s2s_LSTM_256TimeD_4\\assets\n"
     ]
    },
    {
     "name": "stdout",
     "output_type": "stream",
     "text": [
      "Epoch 72/500\n",
      "781/781 [==============================] - 19s 24ms/step - loss: 5.6839e-05 - mse: 7.8136e-05 - val_loss: 4.8745e-05 - val_mse: 6.2080e-05\n",
      "Epoch 73/500\n",
      "781/781 [==============================] - 18s 23ms/step - loss: 5.8836e-05 - mse: 8.2465e-05 - val_loss: 4.4374e-05 - val_mse: 5.3655e-05\n",
      "Epoch 74/500\n",
      "781/781 [==============================] - 18s 23ms/step - loss: 5.0841e-05 - mse: 6.6800e-05 - val_loss: 3.8991e-05 - val_mse: 4.3289e-05\n"
     ]
    },
    {
     "name": "stderr",
     "output_type": "stream",
     "text": [
      "WARNING:absl:Found untraced functions such as lstm_cell_5_layer_call_fn, lstm_cell_5_layer_call_and_return_conditional_losses, lstm_cell_6_layer_call_fn, lstm_cell_6_layer_call_and_return_conditional_losses, lstm_cell_5_layer_call_fn while saving (showing 5 of 10). These functions will not be directly callable after loading.\n"
     ]
    },
    {
     "name": "stdout",
     "output_type": "stream",
     "text": [
      "INFO:tensorflow:Assets written to: s2s_LSTM_256TimeD_4\\assets\n"
     ]
    },
    {
     "name": "stderr",
     "output_type": "stream",
     "text": [
      "INFO:tensorflow:Assets written to: s2s_LSTM_256TimeD_4\\assets\n"
     ]
    },
    {
     "name": "stdout",
     "output_type": "stream",
     "text": [
      "Epoch 75/500\n",
      "781/781 [==============================] - 19s 23ms/step - loss: 5.2122e-05 - mse: 6.9895e-05 - val_loss: 4.1682e-05 - val_mse: 4.9229e-05\n",
      "Epoch 76/500\n",
      "781/781 [==============================] - 18s 24ms/step - loss: 5.8208e-05 - mse: 8.2468e-05 - val_loss: 4.1081e-05 - val_mse: 4.8395e-05\n",
      "Epoch 77/500\n",
      "781/781 [==============================] - 18s 23ms/step - loss: 5.1717e-05 - mse: 6.9747e-05 - val_loss: 3.7318e-05 - val_mse: 4.1193e-05\n"
     ]
    },
    {
     "name": "stderr",
     "output_type": "stream",
     "text": [
      "WARNING:absl:Found untraced functions such as lstm_cell_5_layer_call_fn, lstm_cell_5_layer_call_and_return_conditional_losses, lstm_cell_6_layer_call_fn, lstm_cell_6_layer_call_and_return_conditional_losses, lstm_cell_5_layer_call_fn while saving (showing 5 of 10). These functions will not be directly callable after loading.\n"
     ]
    },
    {
     "name": "stdout",
     "output_type": "stream",
     "text": [
      "INFO:tensorflow:Assets written to: s2s_LSTM_256TimeD_4\\assets\n"
     ]
    },
    {
     "name": "stderr",
     "output_type": "stream",
     "text": [
      "INFO:tensorflow:Assets written to: s2s_LSTM_256TimeD_4\\assets\n"
     ]
    },
    {
     "name": "stdout",
     "output_type": "stream",
     "text": [
      "Epoch 78/500\n",
      "781/781 [==============================] - 19s 24ms/step - loss: 4.9613e-05 - mse: 6.5996e-05 - val_loss: 4.5333e-05 - val_mse: 5.7773e-05\n",
      "Epoch 79/500\n",
      "781/781 [==============================] - 18s 23ms/step - loss: 5.4882e-05 - mse: 7.6940e-05 - val_loss: 4.6081e-05 - val_mse: 5.9583e-05\n",
      "Epoch 80/500\n",
      "781/781 [==============================] - 18s 23ms/step - loss: 5.3181e-05 - mse: 7.3830e-05 - val_loss: 3.7204e-05 - val_mse: 4.2054e-05\n"
     ]
    },
    {
     "name": "stderr",
     "output_type": "stream",
     "text": [
      "WARNING:absl:Found untraced functions such as lstm_cell_5_layer_call_fn, lstm_cell_5_layer_call_and_return_conditional_losses, lstm_cell_6_layer_call_fn, lstm_cell_6_layer_call_and_return_conditional_losses, lstm_cell_5_layer_call_fn while saving (showing 5 of 10). These functions will not be directly callable after loading.\n"
     ]
    },
    {
     "name": "stdout",
     "output_type": "stream",
     "text": [
      "INFO:tensorflow:Assets written to: s2s_LSTM_256TimeD_4\\assets\n"
     ]
    },
    {
     "name": "stderr",
     "output_type": "stream",
     "text": [
      "INFO:tensorflow:Assets written to: s2s_LSTM_256TimeD_4\\assets\n"
     ]
    },
    {
     "name": "stdout",
     "output_type": "stream",
     "text": [
      "Epoch 81/500\n",
      "781/781 [==============================] - 19s 24ms/step - loss: 4.9216e-05 - mse: 6.6230e-05 - val_loss: 3.8372e-05 - val_mse: 4.4609e-05\n",
      "Epoch 82/500\n",
      "781/781 [==============================] - 18s 23ms/step - loss: 5.2681e-05 - mse: 7.3565e-05 - val_loss: 6.5921e-05 - val_mse: 9.9888e-05\n",
      "Epoch 83/500\n",
      "781/781 [==============================] - 18s 23ms/step - loss: 5.1777e-05 - mse: 7.2014e-05 - val_loss: 1.0102e-04 - val_mse: 1.7018e-04\n",
      "Epoch 84/500\n",
      "781/781 [==============================] - 18s 23ms/step - loss: 4.6419e-05 - mse: 6.1596e-05 - val_loss: 1.8356e-04 - val_mse: 3.3546e-04\n",
      "Epoch 85/500\n",
      "781/781 [==============================] - 18s 23ms/step - loss: 5.3059e-05 - mse: 7.5291e-05 - val_loss: 2.6176e-04 - val_mse: 4.9201e-04\n",
      "Epoch 86/500\n",
      "781/781 [==============================] - 18s 23ms/step - loss: 4.9756e-05 - mse: 6.8860e-05 - val_loss: 2.0605e-04 - val_mse: 3.8090e-04\n",
      "Epoch 87/500\n",
      "781/781 [==============================] - 18s 23ms/step - loss: 4.7446e-05 - mse: 6.4569e-05 - val_loss: 2.0182e-04 - val_mse: 3.7280e-04\n",
      "Epoch 88/500\n",
      "781/781 [==============================] - 18s 24ms/step - loss: 5.1311e-05 - mse: 7.2615e-05 - val_loss: 1.5031e-04 - val_mse: 2.7011e-04\n",
      "Epoch 89/500\n",
      "781/781 [==============================] - 18s 23ms/step - loss: 4.8142e-05 - mse: 6.6500e-05 - val_loss: 8.7049e-05 - val_mse: 1.4405e-04\n",
      "Epoch 90/500\n",
      "781/781 [==============================] - 18s 23ms/step - loss: 4.8445e-05 - mse: 6.7405e-05 - val_loss: 4.9370e-05 - val_mse: 6.9085e-05\n",
      "Epoch 91/500\n",
      "781/781 [==============================] - 18s 23ms/step - loss: 4.7505e-05 - mse: 6.5783e-05 - val_loss: 3.3198e-05 - val_mse: 3.7176e-05\n"
     ]
    },
    {
     "name": "stderr",
     "output_type": "stream",
     "text": [
      "WARNING:absl:Found untraced functions such as lstm_cell_5_layer_call_fn, lstm_cell_5_layer_call_and_return_conditional_losses, lstm_cell_6_layer_call_fn, lstm_cell_6_layer_call_and_return_conditional_losses, lstm_cell_5_layer_call_fn while saving (showing 5 of 10). These functions will not be directly callable after loading.\n"
     ]
    },
    {
     "name": "stdout",
     "output_type": "stream",
     "text": [
      "INFO:tensorflow:Assets written to: s2s_LSTM_256TimeD_4\\assets\n"
     ]
    },
    {
     "name": "stderr",
     "output_type": "stream",
     "text": [
      "INFO:tensorflow:Assets written to: s2s_LSTM_256TimeD_4\\assets\n"
     ]
    },
    {
     "name": "stdout",
     "output_type": "stream",
     "text": [
      "Epoch 92/500\n",
      "781/781 [==============================] - 19s 24ms/step - loss: 4.8670e-05 - mse: 6.8382e-05 - val_loss: 3.6958e-05 - val_mse: 4.5048e-05\n",
      "Epoch 93/500\n",
      "781/781 [==============================] - 18s 23ms/step - loss: 4.6315e-05 - mse: 6.3895e-05 - val_loss: 5.9972e-05 - val_mse: 9.1468e-05\n",
      "Epoch 94/500\n",
      "781/781 [==============================] - 18s 23ms/step - loss: 4.7145e-05 - mse: 6.5831e-05 - val_loss: 9.0925e-05 - val_mse: 1.5374e-04\n",
      "Epoch 95/500\n",
      "781/781 [==============================] - 19s 24ms/step - loss: 4.7884e-05 - mse: 6.7527e-05 - val_loss: 1.1000e-04 - val_mse: 1.9215e-04\n",
      "Epoch 96/500\n",
      "781/781 [==============================] - 19s 24ms/step - loss: 4.5929e-05 - mse: 6.3846e-05 - val_loss: 1.3301e-04 - val_mse: 2.3848e-04\n",
      "Epoch 97/500\n",
      "781/781 [==============================] - 19s 24ms/step - loss: 4.6524e-05 - mse: 6.5279e-05 - val_loss: 1.4730e-04 - val_mse: 2.6730e-04\n",
      "Epoch 98/500\n",
      "781/781 [==============================] - 18s 23ms/step - loss: 4.6694e-05 - mse: 6.5831e-05 - val_loss: 1.2505e-04 - val_mse: 2.2298e-04\n",
      "Epoch 99/500\n",
      "781/781 [==============================] - 18s 24ms/step - loss: 4.5175e-05 - mse: 6.3017e-05 - val_loss: 9.0673e-05 - val_mse: 1.5438e-04\n",
      "Epoch 100/500\n",
      "781/781 [==============================] - 19s 24ms/step - loss: 4.6613e-05 - mse: 6.6123e-05 - val_loss: 5.8172e-05 - val_mse: 8.9457e-05\n",
      "Epoch 101/500\n",
      "781/781 [==============================] - 18s 23ms/step - loss: 4.6309e-05 - mse: 6.5691e-05 - val_loss: 3.5753e-05 - val_mse: 4.4661e-05\n",
      "Epoch 102/500\n",
      "781/781 [==============================] - 19s 24ms/step - loss: 4.3036e-05 - mse: 5.9330e-05 - val_loss: 4.0525e-05 - val_mse: 5.4256e-05\n",
      "Epoch 103/500\n",
      "781/781 [==============================] - 19s 24ms/step - loss: 4.6314e-05 - mse: 6.6126e-05 - val_loss: 6.4057e-05 - val_mse: 1.0137e-04\n",
      "Epoch 104/500\n",
      "781/781 [==============================] - 18s 23ms/step - loss: 4.4171e-05 - mse: 6.1982e-05 - val_loss: 8.9270e-05 - val_mse: 1.5189e-04\n",
      "Epoch 105/500\n",
      "781/781 [==============================] - 19s 24ms/step - loss: 4.3721e-05 - mse: 6.1293e-05 - val_loss: 1.3042e-04 - val_mse: 2.3428e-04\n",
      "Epoch 106/500\n",
      "781/781 [==============================] - 19s 24ms/step - loss: 4.5686e-05 - mse: 6.5401e-05 - val_loss: 1.3040e-04 - val_mse: 2.3438e-04\n",
      "Epoch 107/500\n",
      "781/781 [==============================] - 19s 24ms/step - loss: 4.3743e-05 - mse: 6.1666e-05 - val_loss: 1.0736e-04 - val_mse: 1.8854e-04\n",
      "Epoch 108/500\n",
      "781/781 [==============================] - 19s 24ms/step - loss: 4.3499e-05 - mse: 6.1375e-05 - val_loss: 8.1665e-05 - val_mse: 1.3741e-04\n",
      "Epoch 109/500\n",
      "781/781 [==============================] - 19s 24ms/step - loss: 4.4132e-05 - mse: 6.2811e-05 - val_loss: 6.1281e-05 - val_mse: 9.6838e-05\n",
      "Epoch 110/500\n",
      "781/781 [==============================] - 19s 24ms/step - loss: 4.3012e-05 - mse: 6.0728e-05 - val_loss: 3.9705e-05 - val_mse: 5.3948e-05\n",
      "Epoch 111/500\n",
      "781/781 [==============================] - 18s 23ms/step - loss: 4.3888e-05 - mse: 6.2654e-05 - val_loss: 3.3984e-05 - val_mse: 4.2746e-05\n",
      "Epoch 112/500\n",
      "781/781 [==============================] - 19s 24ms/step - loss: 4.3273e-05 - mse: 6.1562e-05 - val_loss: 3.2506e-05 - val_mse: 3.9968e-05\n"
     ]
    },
    {
     "name": "stderr",
     "output_type": "stream",
     "text": [
      "WARNING:absl:Found untraced functions such as lstm_cell_5_layer_call_fn, lstm_cell_5_layer_call_and_return_conditional_losses, lstm_cell_6_layer_call_fn, lstm_cell_6_layer_call_and_return_conditional_losses, lstm_cell_5_layer_call_fn while saving (showing 5 of 10). These functions will not be directly callable after loading.\n"
     ]
    },
    {
     "name": "stdout",
     "output_type": "stream",
     "text": [
      "INFO:tensorflow:Assets written to: s2s_LSTM_256TimeD_4\\assets\n"
     ]
    },
    {
     "name": "stderr",
     "output_type": "stream",
     "text": [
      "INFO:tensorflow:Assets written to: s2s_LSTM_256TimeD_4\\assets\n"
     ]
    },
    {
     "name": "stdout",
     "output_type": "stream",
     "text": [
      "Epoch 113/500\n",
      "781/781 [==============================] - 19s 24ms/step - loss: 4.1320e-05 - mse: 5.7831e-05 - val_loss: 3.8318e-05 - val_mse: 5.1888e-05\n",
      "Epoch 114/500\n",
      "781/781 [==============================] - 18s 24ms/step - loss: 4.3762e-05 - mse: 6.2876e-05 - val_loss: 4.0075e-05 - val_mse: 5.5479e-05\n",
      "Epoch 115/500\n",
      "781/781 [==============================] - 18s 24ms/step - loss: 4.2913e-05 - mse: 6.1302e-05 - val_loss: 3.6584e-05 - val_mse: 4.8649e-05\n",
      "Epoch 116/500\n",
      "781/781 [==============================] - 17s 22ms/step - loss: 4.1283e-05 - mse: 5.8191e-05 - val_loss: 3.2225e-05 - val_mse: 4.0087e-05\n"
     ]
    },
    {
     "name": "stderr",
     "output_type": "stream",
     "text": [
      "WARNING:absl:Found untraced functions such as lstm_cell_5_layer_call_fn, lstm_cell_5_layer_call_and_return_conditional_losses, lstm_cell_6_layer_call_fn, lstm_cell_6_layer_call_and_return_conditional_losses, lstm_cell_5_layer_call_fn while saving (showing 5 of 10). These functions will not be directly callable after loading.\n"
     ]
    },
    {
     "name": "stdout",
     "output_type": "stream",
     "text": [
      "INFO:tensorflow:Assets written to: s2s_LSTM_256TimeD_4\\assets\n"
     ]
    },
    {
     "name": "stderr",
     "output_type": "stream",
     "text": [
      "INFO:tensorflow:Assets written to: s2s_LSTM_256TimeD_4\\assets\n"
     ]
    },
    {
     "name": "stdout",
     "output_type": "stream",
     "text": [
      "Epoch 117/500\n",
      "781/781 [==============================] - 17s 22ms/step - loss: 4.3012e-05 - mse: 6.1823e-05 - val_loss: 3.3888e-05 - val_mse: 4.3456e-05\n",
      "Epoch 118/500\n",
      "781/781 [==============================] - 18s 23ms/step - loss: 4.2308e-05 - mse: 6.0525e-05 - val_loss: 3.6560e-05 - val_mse: 4.8898e-05\n",
      "Epoch 119/500\n",
      "781/781 [==============================] - 18s 22ms/step - loss: 3.9962e-05 - mse: 5.5981e-05 - val_loss: 5.0759e-05 - val_mse: 7.7404e-05\n",
      "Epoch 120/500\n",
      "781/781 [==============================] - 17s 22ms/step - loss: 4.2077e-05 - mse: 6.0386e-05 - val_loss: 8.3470e-05 - val_mse: 1.4287e-04\n",
      "Epoch 121/500\n",
      "781/781 [==============================] - 17s 22ms/step - loss: 4.2970e-05 - mse: 6.2279e-05 - val_loss: 8.1118e-05 - val_mse: 1.3825e-04\n",
      "Epoch 122/500\n",
      "781/781 [==============================] - 19s 25ms/step - loss: 3.7215e-05 - mse: 5.0893e-05 - val_loss: 9.7105e-05 - val_mse: 1.7040e-04\n",
      "Epoch 123/500\n",
      "781/781 [==============================] - 18s 23ms/step - loss: 4.3595e-05 - mse: 6.3859e-05 - val_loss: 1.3170e-04 - val_mse: 2.3959e-04\n",
      "Epoch 124/500\n",
      "781/781 [==============================] - 17s 22ms/step - loss: 3.9764e-05 - mse: 5.6258e-05 - val_loss: 8.5724e-05 - val_mse: 1.4790e-04\n",
      "Epoch 125/500\n",
      "781/781 [==============================] - 18s 24ms/step - loss: 3.7579e-05 - mse: 5.2080e-05 - val_loss: 7.0951e-05 - val_mse: 1.1860e-04\n",
      "Epoch 126/500\n",
      "781/781 [==============================] - 18s 23ms/step - loss: 4.4199e-05 - mse: 6.5443e-05 - val_loss: 7.0504e-05 - val_mse: 1.1775e-04\n",
      "Epoch 127/500\n",
      "781/781 [==============================] - 19s 24ms/step - loss: 3.6779e-05 - mse: 5.0693e-05 - val_loss: 4.1381e-05 - val_mse: 5.9804e-05\n",
      "Epoch 128/500\n",
      "781/781 [==============================] - 18s 23ms/step - loss: 3.9381e-05 - mse: 5.6092e-05 - val_loss: 3.8540e-05 - val_mse: 5.4312e-05\n",
      "Epoch 129/500\n",
      "781/781 [==============================] - 18s 23ms/step - loss: 4.3088e-05 - mse: 6.3599e-05 - val_loss: 3.1339e-05 - val_mse: 4.0000e-05\n"
     ]
    },
    {
     "name": "stderr",
     "output_type": "stream",
     "text": [
      "WARNING:absl:Found untraced functions such as lstm_cell_5_layer_call_fn, lstm_cell_5_layer_call_and_return_conditional_losses, lstm_cell_6_layer_call_fn, lstm_cell_6_layer_call_and_return_conditional_losses, lstm_cell_5_layer_call_fn while saving (showing 5 of 10). These functions will not be directly callable after loading.\n"
     ]
    },
    {
     "name": "stdout",
     "output_type": "stream",
     "text": [
      "INFO:tensorflow:Assets written to: s2s_LSTM_256TimeD_4\\assets\n"
     ]
    },
    {
     "name": "stderr",
     "output_type": "stream",
     "text": [
      "INFO:tensorflow:Assets written to: s2s_LSTM_256TimeD_4\\assets\n"
     ]
    },
    {
     "name": "stdout",
     "output_type": "stream",
     "text": [
      "Epoch 130/500\n",
      "781/781 [==============================] - 19s 24ms/step - loss: 3.4999e-05 - mse: 4.7523e-05 - val_loss: 2.8736e-05 - val_mse: 3.5088e-05\n"
     ]
    },
    {
     "name": "stderr",
     "output_type": "stream",
     "text": [
      "WARNING:absl:Found untraced functions such as lstm_cell_5_layer_call_fn, lstm_cell_5_layer_call_and_return_conditional_losses, lstm_cell_6_layer_call_fn, lstm_cell_6_layer_call_and_return_conditional_losses, lstm_cell_5_layer_call_fn while saving (showing 5 of 10). These functions will not be directly callable after loading.\n"
     ]
    },
    {
     "name": "stdout",
     "output_type": "stream",
     "text": [
      "INFO:tensorflow:Assets written to: s2s_LSTM_256TimeD_4\\assets\n"
     ]
    },
    {
     "name": "stderr",
     "output_type": "stream",
     "text": [
      "INFO:tensorflow:Assets written to: s2s_LSTM_256TimeD_4\\assets\n"
     ]
    },
    {
     "name": "stdout",
     "output_type": "stream",
     "text": [
      "Epoch 131/500\n",
      "781/781 [==============================] - 19s 24ms/step - loss: 4.1118e-05 - mse: 5.9959e-05 - val_loss: 3.5677e-05 - val_mse: 4.9119e-05\n",
      "Epoch 132/500\n",
      "781/781 [==============================] - 19s 24ms/step - loss: 4.0166e-05 - mse: 5.8112e-05 - val_loss: 2.8287e-05 - val_mse: 3.4384e-05\n"
     ]
    },
    {
     "name": "stderr",
     "output_type": "stream",
     "text": [
      "WARNING:absl:Found untraced functions such as lstm_cell_5_layer_call_fn, lstm_cell_5_layer_call_and_return_conditional_losses, lstm_cell_6_layer_call_fn, lstm_cell_6_layer_call_and_return_conditional_losses, lstm_cell_5_layer_call_fn while saving (showing 5 of 10). These functions will not be directly callable after loading.\n"
     ]
    },
    {
     "name": "stdout",
     "output_type": "stream",
     "text": [
      "INFO:tensorflow:Assets written to: s2s_LSTM_256TimeD_4\\assets\n"
     ]
    },
    {
     "name": "stderr",
     "output_type": "stream",
     "text": [
      "INFO:tensorflow:Assets written to: s2s_LSTM_256TimeD_4\\assets\n"
     ]
    },
    {
     "name": "stdout",
     "output_type": "stream",
     "text": [
      "Epoch 133/500\n",
      "781/781 [==============================] - 18s 23ms/step - loss: 3.4823e-05 - mse: 4.7561e-05 - val_loss: 3.1495e-05 - val_mse: 4.0933e-05\n",
      "Epoch 134/500\n",
      "781/781 [==============================] - 18s 23ms/step - loss: 4.2791e-05 - mse: 6.3653e-05 - val_loss: 3.4157e-05 - val_mse: 4.6273e-05\n",
      "Epoch 135/500\n",
      "781/781 [==============================] - 19s 24ms/step - loss: 3.6619e-05 - mse: 5.1365e-05 - val_loss: 3.8121e-05 - val_mse: 5.4262e-05\n",
      "Epoch 136/500\n",
      "781/781 [==============================] - 18s 23ms/step - loss: 3.6197e-05 - mse: 5.0692e-05 - val_loss: 8.5384e-05 - val_mse: 1.4882e-04\n",
      "Epoch 137/500\n",
      "781/781 [==============================] - 18s 24ms/step - loss: 4.1303e-05 - mse: 6.1016e-05 - val_loss: 7.1366e-05 - val_mse: 1.2085e-04\n",
      "Epoch 138/500\n",
      "781/781 [==============================] - 18s 24ms/step - loss: 3.4904e-05 - mse: 4.8295e-05 - val_loss: 6.8271e-05 - val_mse: 1.1481e-04\n",
      "Epoch 139/500\n",
      "781/781 [==============================] - 17s 22ms/step - loss: 3.7912e-05 - mse: 5.4486e-05 - val_loss: 9.7476e-05 - val_mse: 1.7330e-04\n",
      "Epoch 140/500\n",
      "781/781 [==============================] - 17s 22ms/step - loss: 3.9452e-05 - mse: 5.7648e-05 - val_loss: 6.1701e-05 - val_mse: 1.0189e-04\n",
      "Epoch 141/500\n",
      "781/781 [==============================] - 17s 22ms/step - loss: 3.4299e-05 - mse: 4.7465e-05 - val_loss: 5.1246e-05 - val_mse: 8.1210e-05\n",
      "Epoch 142/500\n",
      "781/781 [==============================] - 18s 23ms/step - loss: 3.9931e-05 - mse: 5.8874e-05 - val_loss: 5.0240e-05 - val_mse: 7.9269e-05\n",
      "Epoch 143/500\n",
      "781/781 [==============================] - 17s 22ms/step - loss: 3.6113e-05 - mse: 5.1296e-05 - val_loss: 2.9313e-05 - val_mse: 3.7592e-05\n",
      "Epoch 144/500\n",
      "781/781 [==============================] - 19s 24ms/step - loss: 3.4459e-05 - mse: 4.8139e-05 - val_loss: 2.7946e-05 - val_mse: 3.5118e-05\n"
     ]
    },
    {
     "name": "stderr",
     "output_type": "stream",
     "text": [
      "WARNING:absl:Found untraced functions such as lstm_cell_5_layer_call_fn, lstm_cell_5_layer_call_and_return_conditional_losses, lstm_cell_6_layer_call_fn, lstm_cell_6_layer_call_and_return_conditional_losses, lstm_cell_5_layer_call_fn while saving (showing 5 of 10). These functions will not be directly callable after loading.\n"
     ]
    },
    {
     "name": "stdout",
     "output_type": "stream",
     "text": [
      "INFO:tensorflow:Assets written to: s2s_LSTM_256TimeD_4\\assets\n"
     ]
    },
    {
     "name": "stderr",
     "output_type": "stream",
     "text": [
      "INFO:tensorflow:Assets written to: s2s_LSTM_256TimeD_4\\assets\n"
     ]
    },
    {
     "name": "stdout",
     "output_type": "stream",
     "text": [
      "Epoch 145/500\n",
      "781/781 [==============================] - 18s 23ms/step - loss: 4.0145e-05 - mse: 5.9627e-05 - val_loss: 2.4916e-05 - val_mse: 2.9119e-05\n"
     ]
    },
    {
     "name": "stderr",
     "output_type": "stream",
     "text": [
      "WARNING:absl:Found untraced functions such as lstm_cell_5_layer_call_fn, lstm_cell_5_layer_call_and_return_conditional_losses, lstm_cell_6_layer_call_fn, lstm_cell_6_layer_call_and_return_conditional_losses, lstm_cell_5_layer_call_fn while saving (showing 5 of 10). These functions will not be directly callable after loading.\n"
     ]
    },
    {
     "name": "stdout",
     "output_type": "stream",
     "text": [
      "INFO:tensorflow:Assets written to: s2s_LSTM_256TimeD_4\\assets\n"
     ]
    },
    {
     "name": "stderr",
     "output_type": "stream",
     "text": [
      "INFO:tensorflow:Assets written to: s2s_LSTM_256TimeD_4\\assets\n"
     ]
    },
    {
     "name": "stdout",
     "output_type": "stream",
     "text": [
      "Epoch 146/500\n",
      "781/781 [==============================] - 18s 22ms/step - loss: 3.2838e-05 - mse: 4.5093e-05 - val_loss: 2.7211e-05 - val_mse: 3.3948e-05\n",
      "Epoch 147/500\n",
      "781/781 [==============================] - 17s 22ms/step - loss: 3.7336e-05 - mse: 5.4271e-05 - val_loss: 3.8375e-05 - val_mse: 5.6453e-05\n",
      "Epoch 148/500\n",
      "781/781 [==============================] - 17s 21ms/step - loss: 3.6844e-05 - mse: 5.3344e-05 - val_loss: 2.7903e-05 - val_mse: 3.5514e-05\n",
      "Epoch 149/500\n",
      "781/781 [==============================] - 17s 21ms/step - loss: 3.1940e-05 - mse: 4.3673e-05 - val_loss: 3.2125e-05 - val_mse: 4.4214e-05\n",
      "Epoch 150/500\n",
      "781/781 [==============================] - 19s 24ms/step - loss: 4.0487e-05 - mse: 6.0904e-05 - val_loss: 2.5393e-05 - val_mse: 3.0684e-05\n",
      "Epoch 151/500\n",
      "781/781 [==============================] - 19s 24ms/step - loss: 3.2109e-05 - mse: 4.4201e-05 - val_loss: 2.5450e-05 - val_mse: 3.0841e-05\n",
      "Epoch 152/500\n",
      "781/781 [==============================] - 18s 23ms/step - loss: 3.5182e-05 - mse: 5.0529e-05 - val_loss: 5.9486e-05 - val_mse: 9.8936e-05\n",
      "Epoch 153/500\n",
      "781/781 [==============================] - 18s 23ms/step - loss: 3.7508e-05 - mse: 5.5248e-05 - val_loss: 6.0631e-05 - val_mse: 1.0120e-04\n",
      "Epoch 154/500\n",
      "781/781 [==============================] - 19s 24ms/step - loss: 3.1413e-05 - mse: 4.3161e-05 - val_loss: 1.1325e-04 - val_mse: 2.0651e-04\n",
      "Epoch 155/500\n",
      "781/781 [==============================] - 18s 24ms/step - loss: 3.7427e-05 - mse: 5.5333e-05 - val_loss: 1.5570e-04 - val_mse: 2.9140e-04\n",
      "Epoch 156/500\n",
      "781/781 [==============================] - 19s 24ms/step - loss: 3.4901e-05 - mse: 5.0336e-05 - val_loss: 1.0586e-04 - val_mse: 1.9187e-04\n",
      "Epoch 157/500\n",
      "781/781 [==============================] - 18s 23ms/step - loss: 3.2042e-05 - mse: 4.4742e-05 - val_loss: 1.1744e-04 - val_mse: 2.1523e-04\n",
      "Epoch 158/500\n",
      "781/781 [==============================] - 18s 23ms/step - loss: 3.7232e-05 - mse: 5.5224e-05 - val_loss: 9.9270e-05 - val_mse: 1.7893e-04\n",
      "Epoch 159/500\n",
      "781/781 [==============================] - 18s 23ms/step - loss: 3.2225e-05 - mse: 4.5290e-05 - val_loss: 5.3877e-05 - val_mse: 8.8394e-05\n",
      "Epoch 160/500\n",
      "781/781 [==============================] - 17s 22ms/step - loss: 3.4787e-05 - mse: 5.0534e-05 - val_loss: 7.4809e-05 - val_mse: 1.3030e-04\n",
      "Epoch 161/500\n",
      "781/781 [==============================] - 17s 22ms/step - loss: 3.5108e-05 - mse: 5.1238e-05 - val_loss: 4.2804e-05 - val_mse: 6.6423e-05\n",
      "Epoch 162/500\n",
      "781/781 [==============================] - 17s 22ms/step - loss: 3.0577e-05 - mse: 4.2282e-05 - val_loss: 6.6270e-05 - val_mse: 1.1348e-04\n",
      "Epoch 163/500\n",
      "781/781 [==============================] - 17s 22ms/step - loss: 3.6814e-05 - mse: 5.4864e-05 - val_loss: 7.4926e-05 - val_mse: 1.3079e-04\n",
      "Epoch 164/500\n",
      "781/781 [==============================] - 17s 22ms/step - loss: 3.1815e-05 - mse: 4.4926e-05 - val_loss: 7.8522e-05 - val_mse: 1.3806e-04\n",
      "Epoch 165/500\n",
      "781/781 [==============================] - 17s 22ms/step - loss: 3.2407e-05 - mse: 4.6236e-05 - val_loss: 1.7761e-04 - val_mse: 3.3624e-04\n",
      "Epoch 166/500\n",
      "781/781 [==============================] - 17s 22ms/step - loss: 3.5955e-05 - mse: 5.3399e-05 - val_loss: 1.0467e-04 - val_mse: 1.9045e-04\n",
      "Epoch 167/500\n",
      "781/781 [==============================] - 17s 22ms/step - loss: 2.9928e-05 - mse: 4.1428e-05 - val_loss: 1.0414e-04 - val_mse: 1.8957e-04\n",
      "Epoch 168/500\n",
      "781/781 [==============================] - 17s 22ms/step - loss: 3.5838e-05 - mse: 5.3364e-05 - val_loss: 1.2092e-04 - val_mse: 2.2315e-04\n",
      "Epoch 169/500\n",
      "781/781 [==============================] - 17s 22ms/step - loss: 3.1951e-05 - mse: 4.5638e-05 - val_loss: 4.2771e-05 - val_mse: 6.7098e-05\n",
      "Epoch 170/500\n",
      "781/781 [==============================] - 17s 22ms/step - loss: 3.0883e-05 - mse: 4.3618e-05 - val_loss: 5.2199e-05 - val_mse: 8.6119e-05\n",
      "Epoch 171/500\n",
      "781/781 [==============================] - 17s 22ms/step - loss: 3.5280e-05 - mse: 5.2485e-05 - val_loss: 3.0130e-05 - val_mse: 4.2045e-05\n",
      "Epoch 172/500\n",
      "781/781 [==============================] - 19s 25ms/step - loss: 2.9822e-05 - mse: 4.1650e-05 - val_loss: 2.7749e-05 - val_mse: 3.7476e-05\n",
      "Epoch 173/500\n",
      "781/781 [==============================] - 19s 25ms/step - loss: 3.4340e-05 - mse: 5.0789e-05 - val_loss: 3.0657e-05 - val_mse: 4.3331e-05\n",
      "Epoch 174/500\n",
      "781/781 [==============================] - 19s 25ms/step - loss: 3.2139e-05 - mse: 4.6427e-05 - val_loss: 2.3552e-05 - val_mse: 2.9187e-05\n"
     ]
    },
    {
     "name": "stderr",
     "output_type": "stream",
     "text": [
      "WARNING:absl:Found untraced functions such as lstm_cell_5_layer_call_fn, lstm_cell_5_layer_call_and_return_conditional_losses, lstm_cell_6_layer_call_fn, lstm_cell_6_layer_call_and_return_conditional_losses, lstm_cell_5_layer_call_fn while saving (showing 5 of 10). These functions will not be directly callable after loading.\n"
     ]
    },
    {
     "name": "stdout",
     "output_type": "stream",
     "text": [
      "INFO:tensorflow:Assets written to: s2s_LSTM_256TimeD_4\\assets\n"
     ]
    },
    {
     "name": "stderr",
     "output_type": "stream",
     "text": [
      "INFO:tensorflow:Assets written to: s2s_LSTM_256TimeD_4\\assets\n"
     ]
    },
    {
     "name": "stdout",
     "output_type": "stream",
     "text": [
      "Epoch 175/500\n",
      "781/781 [==============================] - 17s 22ms/step - loss: 3.0166e-05 - mse: 4.2592e-05 - val_loss: 4.1212e-05 - val_mse: 6.4596e-05\n",
      "Epoch 176/500\n",
      "781/781 [==============================] - 17s 22ms/step - loss: 3.5181e-05 - mse: 5.2685e-05 - val_loss: 3.1913e-05 - val_mse: 4.6021e-05\n",
      "Epoch 177/500\n",
      "781/781 [==============================] - 18s 23ms/step - loss: 2.8179e-05 - mse: 3.8755e-05 - val_loss: 5.3164e-05 - val_mse: 8.8569e-05\n",
      "Epoch 178/500\n",
      "781/781 [==============================] - 18s 24ms/step - loss: 3.4494e-05 - mse: 5.1496e-05 - val_loss: 6.9688e-05 - val_mse: 1.2162e-04\n",
      "Epoch 179/500\n",
      "781/781 [==============================] - 18s 24ms/step - loss: 3.0679e-05 - mse: 4.3892e-05 - val_loss: 5.3461e-05 - val_mse: 8.9256e-05\n",
      "Epoch 180/500\n",
      "781/781 [==============================] - 18s 23ms/step - loss: 3.0155e-05 - mse: 4.2954e-05 - val_loss: 9.2451e-05 - val_mse: 1.6731e-04\n",
      "Epoch 181/500\n",
      "781/781 [==============================] - 18s 23ms/step - loss: 3.4093e-05 - mse: 5.0880e-05 - val_loss: 5.4872e-05 - val_mse: 9.2205e-05\n",
      "Epoch 182/500\n",
      "781/781 [==============================] - 18s 23ms/step - loss: 2.8564e-05 - mse: 3.9892e-05 - val_loss: 3.7284e-05 - val_mse: 5.7207e-05\n",
      "Epoch 183/500\n",
      "781/781 [==============================] - 18s 23ms/step - loss: 3.3191e-05 - mse: 4.9237e-05 - val_loss: 4.9638e-05 - val_mse: 8.1961e-05\n",
      "Epoch 184/500\n",
      "781/781 [==============================] - 19s 24ms/step - loss: 3.0660e-05 - mse: 4.4206e-05 - val_loss: 2.0869e-05 - val_mse: 2.4561e-05\n"
     ]
    },
    {
     "name": "stderr",
     "output_type": "stream",
     "text": [
      "WARNING:absl:Found untraced functions such as lstm_cell_5_layer_call_fn, lstm_cell_5_layer_call_and_return_conditional_losses, lstm_cell_6_layer_call_fn, lstm_cell_6_layer_call_and_return_conditional_losses, lstm_cell_5_layer_call_fn while saving (showing 5 of 10). These functions will not be directly callable after loading.\n"
     ]
    },
    {
     "name": "stdout",
     "output_type": "stream",
     "text": [
      "INFO:tensorflow:Assets written to: s2s_LSTM_256TimeD_4\\assets\n"
     ]
    },
    {
     "name": "stderr",
     "output_type": "stream",
     "text": [
      "INFO:tensorflow:Assets written to: s2s_LSTM_256TimeD_4\\assets\n"
     ]
    },
    {
     "name": "stdout",
     "output_type": "stream",
     "text": [
      "Epoch 185/500\n",
      "781/781 [==============================] - 19s 24ms/step - loss: 2.8301e-05 - mse: 3.9595e-05 - val_loss: 2.4605e-05 - val_mse: 3.2260e-05\n",
      "Epoch 186/500\n",
      "781/781 [==============================] - 19s 24ms/step - loss: 3.5049e-05 - mse: 5.3138e-05 - val_loss: 1.9755e-05 - val_mse: 2.2477e-05\n"
     ]
    },
    {
     "name": "stderr",
     "output_type": "stream",
     "text": [
      "WARNING:absl:Found untraced functions such as lstm_cell_5_layer_call_fn, lstm_cell_5_layer_call_and_return_conditional_losses, lstm_cell_6_layer_call_fn, lstm_cell_6_layer_call_and_return_conditional_losses, lstm_cell_5_layer_call_fn while saving (showing 5 of 10). These functions will not be directly callable after loading.\n"
     ]
    },
    {
     "name": "stdout",
     "output_type": "stream",
     "text": [
      "INFO:tensorflow:Assets written to: s2s_LSTM_256TimeD_4\\assets\n"
     ]
    },
    {
     "name": "stderr",
     "output_type": "stream",
     "text": [
      "INFO:tensorflow:Assets written to: s2s_LSTM_256TimeD_4\\assets\n"
     ]
    },
    {
     "name": "stdout",
     "output_type": "stream",
     "text": [
      "Epoch 187/500\n",
      "781/781 [==============================] - 19s 24ms/step - loss: 2.6316e-05 - mse: 3.5726e-05 - val_loss: 2.6546e-05 - val_mse: 3.6327e-05\n",
      "Epoch 188/500\n",
      "781/781 [==============================] - 19s 24ms/step - loss: 3.3358e-05 - mse: 4.9928e-05 - val_loss: 2.9318e-05 - val_mse: 4.1920e-05\n",
      "Epoch 189/500\n",
      "781/781 [==============================] - 19s 24ms/step - loss: 2.9120e-05 - mse: 4.1488e-05 - val_loss: 2.5762e-05 - val_mse: 3.4857e-05\n",
      "Epoch 190/500\n",
      "781/781 [==============================] - 18s 23ms/step - loss: 2.9750e-05 - mse: 4.2861e-05 - val_loss: 4.8761e-05 - val_mse: 8.1067e-05\n",
      "Epoch 191/500\n",
      "781/781 [==============================] - 18s 23ms/step - loss: 3.2262e-05 - mse: 4.7917e-05 - val_loss: 3.1452e-05 - val_mse: 4.6370e-05\n",
      "Epoch 192/500\n",
      "781/781 [==============================] - 17s 22ms/step - loss: 2.6349e-05 - mse: 3.6176e-05 - val_loss: 4.0828e-05 - val_mse: 6.5347e-05\n",
      "Epoch 193/500\n",
      "781/781 [==============================] - 17s 22ms/step - loss: 3.3801e-05 - mse: 5.1170e-05 - val_loss: 5.7086e-05 - val_mse: 9.7898e-05\n",
      "Epoch 194/500\n",
      "781/781 [==============================] - 19s 24ms/step - loss: 2.7422e-05 - mse: 3.8449e-05 - val_loss: 3.9002e-05 - val_mse: 6.1783e-05\n",
      "Epoch 195/500\n",
      "781/781 [==============================] - 18s 24ms/step - loss: 3.0084e-05 - mse: 4.3893e-05 - val_loss: 8.3172e-05 - val_mse: 1.5034e-04\n",
      "Epoch 196/500\n",
      "781/781 [==============================] - 18s 23ms/step - loss: 3.1216e-05 - mse: 4.6174e-05 - val_loss: 4.4851e-05 - val_mse: 7.3579e-05\n",
      "Epoch 197/500\n",
      "781/781 [==============================] - 18s 23ms/step - loss: 2.6354e-05 - mse: 3.6550e-05 - val_loss: 6.8367e-05 - val_mse: 1.2087e-04\n",
      "Epoch 198/500\n",
      "781/781 [==============================] - 18s 24ms/step - loss: 3.3280e-05 - mse: 5.0473e-05 - val_loss: 7.4782e-05 - val_mse: 1.3365e-04\n",
      "Epoch 199/500\n",
      "781/781 [==============================] - 18s 24ms/step - loss: 2.5970e-05 - mse: 3.5897e-05 - val_loss: 6.1887e-05 - val_mse: 1.0796e-04\n",
      "Epoch 200/500\n",
      "781/781 [==============================] - 18s 24ms/step - loss: 3.0996e-05 - mse: 4.6056e-05 - val_loss: 1.1748e-04 - val_mse: 2.1932e-04\n",
      "Epoch 201/500\n",
      "781/781 [==============================] - 18s 23ms/step - loss: 2.9669e-05 - mse: 4.3425e-05 - val_loss: 6.4782e-05 - val_mse: 1.1381e-04\n",
      "Epoch 202/500\n",
      "781/781 [==============================] - 18s 24ms/step - loss: 2.6106e-05 - mse: 3.6398e-05 - val_loss: 1.1346e-04 - val_mse: 2.1145e-04\n",
      "Epoch 203/500\n",
      "781/781 [==============================] - 18s 23ms/step - loss: 3.3041e-05 - mse: 5.0314e-05 - val_loss: 7.2271e-05 - val_mse: 1.2894e-04\n",
      "Epoch 204/500\n",
      "781/781 [==============================] - 17s 22ms/step - loss: 2.5093e-05 - mse: 3.4474e-05 - val_loss: 6.4346e-05 - val_mse: 1.1321e-04\n",
      "Epoch 205/500\n",
      "781/781 [==============================] - 18s 23ms/step - loss: 3.1203e-05 - mse: 4.6777e-05 - val_loss: 7.0067e-05 - val_mse: 1.2473e-04\n",
      "Epoch 206/500\n",
      "781/781 [==============================] - 18s 23ms/step - loss: 2.7844e-05 - mse: 4.0088e-05 - val_loss: 3.4291e-05 - val_mse: 5.3095e-05\n",
      "Epoch 207/500\n",
      "781/781 [==============================] - 18s 23ms/step - loss: 2.7116e-05 - mse: 3.8732e-05 - val_loss: 4.6041e-05 - val_mse: 7.6789e-05\n",
      "Epoch 208/500\n",
      "781/781 [==============================] - 18s 23ms/step - loss: 3.1643e-05 - mse: 4.7809e-05 - val_loss: 2.3795e-05 - val_mse: 3.2147e-05\n",
      "Epoch 209/500\n",
      "781/781 [==============================] - 19s 24ms/step - loss: 2.4974e-05 - mse: 3.4549e-05 - val_loss: 2.4545e-05 - val_mse: 3.3795e-05\n",
      "Epoch 210/500\n",
      "781/781 [==============================] - 18s 23ms/step - loss: 3.1477e-05 - mse: 4.7612e-05 - val_loss: 2.1655e-05 - val_mse: 2.7988e-05\n",
      "Epoch 211/500\n",
      "781/781 [==============================] - 19s 24ms/step - loss: 2.5523e-05 - mse: 3.5738e-05 - val_loss: 1.8375e-05 - val_mse: 2.1448e-05\n"
     ]
    },
    {
     "name": "stderr",
     "output_type": "stream",
     "text": [
      "WARNING:absl:Found untraced functions such as lstm_cell_5_layer_call_fn, lstm_cell_5_layer_call_and_return_conditional_losses, lstm_cell_6_layer_call_fn, lstm_cell_6_layer_call_and_return_conditional_losses, lstm_cell_5_layer_call_fn while saving (showing 5 of 10). These functions will not be directly callable after loading.\n"
     ]
    },
    {
     "name": "stdout",
     "output_type": "stream",
     "text": [
      "INFO:tensorflow:Assets written to: s2s_LSTM_256TimeD_4\\assets\n"
     ]
    },
    {
     "name": "stderr",
     "output_type": "stream",
     "text": [
      "INFO:tensorflow:Assets written to: s2s_LSTM_256TimeD_4\\assets\n"
     ]
    },
    {
     "name": "stdout",
     "output_type": "stream",
     "text": [
      "Epoch 212/500\n",
      "781/781 [==============================] - 18s 23ms/step - loss: 2.9791e-05 - mse: 4.4362e-05 - val_loss: 2.5501e-05 - val_mse: 3.5821e-05\n",
      "Epoch 213/500\n",
      "781/781 [==============================] - 18s 24ms/step - loss: 2.8070e-05 - mse: 4.0928e-05 - val_loss: 1.9336e-05 - val_mse: 2.3418e-05\n",
      "Epoch 214/500\n",
      "781/781 [==============================] - 19s 24ms/step - loss: 2.5924e-05 - mse: 3.6733e-05 - val_loss: 2.7062e-05 - val_mse: 3.8993e-05\n",
      "Epoch 215/500\n",
      "781/781 [==============================] - 18s 24ms/step - loss: 3.1153e-05 - mse: 4.7207e-05 - val_loss: 2.4285e-05 - val_mse: 3.3403e-05\n",
      "Epoch 216/500\n",
      "781/781 [==============================] - 19s 24ms/step - loss: 2.4175e-05 - mse: 3.3313e-05 - val_loss: 2.7165e-05 - val_mse: 3.9248e-05\n",
      "Epoch 217/500\n",
      "781/781 [==============================] - 18s 23ms/step - loss: 3.0983e-05 - mse: 4.7000e-05 - val_loss: 3.2367e-05 - val_mse: 4.9696e-05\n",
      "Epoch 218/500\n",
      "781/781 [==============================] - 19s 24ms/step - loss: 2.5416e-05 - mse: 3.5883e-05 - val_loss: 2.4104e-05 - val_mse: 3.3188e-05\n",
      "Epoch 219/500\n",
      "781/781 [==============================] - 19s 24ms/step - loss: 2.7654e-05 - mse: 4.0447e-05 - val_loss: 3.6331e-05 - val_mse: 5.7773e-05\n",
      "Epoch 220/500\n",
      "781/781 [==============================] - 18s 23ms/step - loss: 2.9113e-05 - mse: 4.3369e-05 - val_loss: 2.1802e-05 - val_mse: 2.8687e-05\n",
      "Epoch 221/500\n",
      "781/781 [==============================] - 19s 24ms/step - loss: 2.4418e-05 - mse: 3.4052e-05 - val_loss: 2.4861e-05 - val_mse: 3.4921e-05\n",
      "Epoch 222/500\n",
      "781/781 [==============================] - 18s 23ms/step - loss: 3.0564e-05 - mse: 4.6368e-05 - val_loss: 2.4518e-05 - val_mse: 3.4232e-05\n",
      "Epoch 223/500\n",
      "781/781 [==============================] - 18s 23ms/step - loss: 2.4366e-05 - mse: 3.4005e-05 - val_loss: 1.9520e-05 - val_mse: 2.4318e-05\n",
      "Epoch 224/500\n",
      "781/781 [==============================] - 18s 23ms/step - loss: 2.9107e-05 - mse: 4.3572e-05 - val_loss: 2.8285e-05 - val_mse: 4.1936e-05\n",
      "Epoch 225/500\n",
      "781/781 [==============================] - 18s 23ms/step - loss: 2.6888e-05 - mse: 3.9125e-05 - val_loss: 1.7952e-05 - val_mse: 2.1246e-05\n"
     ]
    },
    {
     "name": "stderr",
     "output_type": "stream",
     "text": [
      "WARNING:absl:Found untraced functions such as lstm_cell_5_layer_call_fn, lstm_cell_5_layer_call_and_return_conditional_losses, lstm_cell_6_layer_call_fn, lstm_cell_6_layer_call_and_return_conditional_losses, lstm_cell_5_layer_call_fn while saving (showing 5 of 10). These functions will not be directly callable after loading.\n"
     ]
    },
    {
     "name": "stdout",
     "output_type": "stream",
     "text": [
      "INFO:tensorflow:Assets written to: s2s_LSTM_256TimeD_4\\assets\n"
     ]
    },
    {
     "name": "stderr",
     "output_type": "stream",
     "text": [
      "INFO:tensorflow:Assets written to: s2s_LSTM_256TimeD_4\\assets\n"
     ]
    },
    {
     "name": "stdout",
     "output_type": "stream",
     "text": [
      "Epoch 226/500\n",
      "781/781 [==============================] - 18s 23ms/step - loss: 2.4980e-05 - mse: 3.5394e-05 - val_loss: 2.4004e-05 - val_mse: 3.3477e-05\n",
      "Epoch 227/500\n",
      "781/781 [==============================] - 19s 24ms/step - loss: 3.0165e-05 - mse: 4.5761e-05 - val_loss: 1.9996e-05 - val_mse: 2.5427e-05\n",
      "Epoch 228/500\n",
      "781/781 [==============================] - 18s 23ms/step - loss: 2.3228e-05 - mse: 3.1947e-05 - val_loss: 2.1850e-05 - val_mse: 2.9259e-05\n",
      "Epoch 229/500\n",
      "781/781 [==============================] - 18s 23ms/step - loss: 3.0240e-05 - mse: 4.6027e-05 - val_loss: 2.8563e-05 - val_mse: 4.2740e-05\n",
      "Epoch 230/500\n",
      "781/781 [==============================] - 18s 24ms/step - loss: 2.3978e-05 - mse: 3.3522e-05 - val_loss: 2.2819e-05 - val_mse: 3.1289e-05\n",
      "Epoch 231/500\n",
      "781/781 [==============================] - 18s 23ms/step - loss: 2.7268e-05 - mse: 4.0206e-05 - val_loss: 5.3260e-05 - val_mse: 9.2289e-05\n",
      "Epoch 232/500\n",
      "781/781 [==============================] - 18s 23ms/step - loss: 2.7360e-05 - mse: 4.0371e-05 - val_loss: 3.0827e-05 - val_mse: 4.7412e-05\n",
      "Epoch 233/500\n",
      "781/781 [==============================] - 19s 24ms/step - loss: 2.3786e-05 - mse: 3.3319e-05 - val_loss: 6.1174e-05 - val_mse: 1.0825e-04\n",
      "Epoch 234/500\n",
      "781/781 [==============================] - 18s 24ms/step - loss: 2.9983e-05 - mse: 4.5732e-05 - val_loss: 5.5110e-05 - val_mse: 9.6119e-05\n",
      "Epoch 235/500\n",
      "781/781 [==============================] - 19s 24ms/step - loss: 2.2655e-05 - mse: 3.1120e-05 - val_loss: 5.5779e-05 - val_mse: 9.7546e-05\n",
      "Epoch 236/500\n",
      "781/781 [==============================] - 18s 23ms/step - loss: 2.8581e-05 - mse: 4.3059e-05 - val_loss: 1.3584e-04 - val_mse: 2.5778e-04\n",
      "Epoch 237/500\n",
      "781/781 [==============================] - 18s 23ms/step - loss: 2.4911e-05 - mse: 3.5707e-05 - val_loss: 5.7324e-05 - val_mse: 1.0069e-04\n",
      "Epoch 238/500\n",
      "781/781 [==============================] - 18s 23ms/step - loss: 2.5007e-05 - mse: 3.6005e-05 - val_loss: 2.0253e-04 - val_mse: 3.9121e-04\n",
      "Epoch 239/500\n",
      "781/781 [==============================] - 18s 23ms/step - loss: 2.8282e-05 - mse: 4.2555e-05 - val_loss: 7.8241e-05 - val_mse: 1.4263e-04\n",
      "Epoch 240/500\n",
      "781/781 [==============================] - 19s 24ms/step - loss: 2.2456e-05 - mse: 3.0980e-05 - val_loss: 1.3859e-04 - val_mse: 2.6347e-04\n",
      "Epoch 241/500\n",
      "781/781 [==============================] - 18s 24ms/step - loss: 3.0009e-05 - mse: 4.6119e-05 - val_loss: 1.2953e-04 - val_mse: 2.4533e-04\n",
      "Epoch 242/500\n",
      "781/781 [==============================] - 18s 23ms/step - loss: 2.2014e-05 - mse: 3.0166e-05 - val_loss: 1.0294e-04 - val_mse: 1.9223e-04\n",
      "Epoch 243/500\n",
      "781/781 [==============================] - 18s 23ms/step - loss: 2.7948e-05 - mse: 4.2117e-05 - val_loss: 3.1518e-04 - val_mse: 6.1681e-04\n",
      "Epoch 244/500\n",
      "781/781 [==============================] - 18s 23ms/step - loss: 2.4540e-05 - mse: 3.5284e-05 - val_loss: 8.2673e-05 - val_mse: 1.5173e-04\n",
      "Epoch 245/500\n",
      "781/781 [==============================] - 18s 23ms/step - loss: 2.4529e-05 - mse: 3.5373e-05 - val_loss: 3.2299e-04 - val_mse: 6.3249e-04\n",
      "Epoch 246/500\n",
      "781/781 [==============================] - 18s 23ms/step - loss: 2.7845e-05 - mse: 4.1992e-05 - val_loss: 9.7672e-05 - val_mse: 1.8183e-04\n",
      "Epoch 247/500\n",
      "781/781 [==============================] - 18s 23ms/step - loss: 2.1685e-05 - mse: 2.9758e-05 - val_loss: 1.7164e-04 - val_mse: 3.2994e-04\n",
      "Epoch 248/500\n",
      "781/781 [==============================] - 18s 24ms/step - loss: 2.9569e-05 - mse: 4.5555e-05 - val_loss: 1.6016e-04 - val_mse: 3.0698e-04\n",
      "Epoch 249/500\n",
      "781/781 [==============================] - 18s 23ms/step - loss: 2.1730e-05 - mse: 2.9926e-05 - val_loss: 1.1680e-04 - val_mse: 2.2031e-04\n",
      "Epoch 250/500\n",
      "781/781 [==============================] - 18s 24ms/step - loss: 2.7217e-05 - mse: 4.0978e-05 - val_loss: 2.8996e-04 - val_mse: 5.6681e-04\n",
      "Epoch 251/500\n",
      "781/781 [==============================] - 18s 23ms/step - loss: 2.4214e-05 - mse: 3.4976e-05 - val_loss: 9.7834e-05 - val_mse: 1.8244e-04\n",
      "Epoch 252/500\n",
      "781/781 [==============================] - 18s 23ms/step - loss: 2.3942e-05 - mse: 3.4527e-05 - val_loss: 2.5435e-04 - val_mse: 4.9562e-04\n",
      "Epoch 253/500\n",
      "781/781 [==============================] - 19s 24ms/step - loss: 2.7664e-05 - mse: 4.1943e-05 - val_loss: 1.1894e-04 - val_mse: 2.2475e-04\n",
      "Epoch 254/500\n",
      "781/781 [==============================] - 18s 23ms/step - loss: 2.1068e-05 - mse: 2.8833e-05 - val_loss: 1.5642e-04 - val_mse: 2.9985e-04\n",
      "Epoch 255/500\n",
      "781/781 [==============================] - 18s 23ms/step - loss: 2.8723e-05 - mse: 4.4182e-05 - val_loss: 1.9346e-04 - val_mse: 3.7398e-04\n",
      "Epoch 256/500\n",
      "781/781 [==============================] - 19s 24ms/step - loss: 2.1839e-05 - mse: 3.0443e-05 - val_loss: 1.1461e-04 - val_mse: 2.1627e-04\n",
      "Epoch 257/500\n",
      "781/781 [==============================] - 18s 23ms/step - loss: 2.5854e-05 - mse: 3.8553e-05 - val_loss: 2.8261e-04 - val_mse: 5.5240e-04\n",
      "CPU times: total: 1h 37min 50s\n",
      "Wall time: 1h 28min 13s\n"
     ]
    },
    {
     "data": {
      "text/plain": [
       "<keras.callbacks.History at 0x1ed315c4430>"
      ]
     },
     "execution_count": 65,
     "metadata": {},
     "output_type": "execute_result"
    }
   ],
   "source": [
    "%%time\n",
    "\n",
    "\n",
    "#________________________________ LSTM\n",
    "\n",
    "name_model = \"s2s_LSTM_256TimeD_4\"\n",
    "\n",
    "keras.backend.clear_session()\n",
    "\n",
    "# Definir hiperparâmetros\n",
    "learning_rate = 0.0001\n",
    "l2_reg = 0.00001\n",
    "dropout_rate = 0.001\n",
    "func_act='sigmoid'\n",
    "\n",
    "batch_size = 128\n",
    "window_size = 32\n",
    "num_inputs  = train.shape[1]\n",
    "num_targets = 3\n",
    "stride = 3\n",
    "sampling_rate=1\n",
    "\n",
    "\n",
    "\n",
    "# Definir a entrada da rede\n",
    "inputs = keras.layers.Input(shape=[None, num_inputs])\n",
    "\n",
    "# LSTM\n",
    "reshaped_inputs = keras.layers.Reshape((-1, num_inputs))(inputs)\n",
    "lstm = keras.layers.LSTM(256, return_sequences=True, kernel_regularizer=keras.regularizers.L2(l2_reg))(reshaped_inputs)\n",
    "lstm = keras.layers.LSTM(256, return_sequences=True, kernel_regularizer=keras.regularizers.L2(l2_reg))(reshaped_inputs)\n",
    "lstm = keras.layers.Dropout(rate=dropout_rate)(lstm)\n",
    "lstm = keras.layers.LSTM(256, return_sequences=True, kernel_regularizer=keras.regularizers.L2(l2_reg))(lstm)\n",
    "lstm = keras.layers.LSTM(256, return_sequences=True, kernel_regularizer=keras.regularizers.L2(l2_reg))(reshaped_inputs)\n",
    "lstm = keras.layers.Dropout(rate=dropout_rate)(lstm)\n",
    "lstm = keras.layers.LSTM(256, return_sequences=True, kernel_regularizer=keras.regularizers.L2(l2_reg))(lstm)\n",
    "lstm = keras.layers.LSTM(256, return_sequences=True, kernel_regularizer=keras.regularizers.L2(l2_reg))(reshaped_inputs)\n",
    "lstm = keras.layers.Dropout(rate=dropout_rate)(lstm)\n",
    "\n",
    "# TimeDistributed Dense\n",
    "timed = keras.layers.TimeDistributed(keras.layers.Dense(256))(lstm)\n",
    "timed = keras.layers.TimeDistributed(keras.layers.Dropout(rate=dropout_rate))(timed)\n",
    "\n",
    "\n",
    "# LSTM\n",
    "lstm = keras.layers.LSTM(256, return_sequences=False, kernel_regularizer=keras.regularizers.L2(l2_reg))(timed)\n",
    "output_lstm = keras.layers.Dense(num_targets)(lstm)\n",
    "\n",
    "\n",
    "# Definir o modelo com a entrada e saída\n",
    "model = keras.models.Model(inputs=inputs, outputs=output_lstm)\n",
    "\n",
    "# Definir o otimizador com taxa de aprendizado definida\n",
    "optimizer = keras.optimizers.Adam(learning_rate=learning_rate)\n",
    "\n",
    "\n",
    "# Compilar o modelo com a função de perda, otimizador e métrica desejados\n",
    "model.compile(loss=keras.losses.logcosh, optimizer=optimizer, metrics=[\"mse\"])\n",
    "\n",
    "# Adicionar callbacks para o modelo\n",
    "model_checkpoint = keras.callbacks.ModelCheckpoint(name_model, save_best_only=True)\n",
    "early_stopping = keras.callbacks.EarlyStopping(patience=32)\n",
    "\n",
    "# Treinar o modelo\n",
    "model.fit(train_set,\n",
    "          steps_per_epoch= len(train)//batch_size,\n",
    "          epochs=500,\n",
    "          validation_data=valid_set,\n",
    "          validation_steps=len(valid)//batch_size,\n",
    "          callbacks=[early_stopping,\n",
    "                     model_checkpoint])"
   ]
  },
  {
   "cell_type": "code",
   "execution_count": 66,
   "id": "cd225236",
   "metadata": {},
   "outputs": [
    {
     "data": {
      "text/plain": [
       "'s2s_LSTM_256TimeD_4'"
      ]
     },
     "execution_count": 66,
     "metadata": {},
     "output_type": "execute_result"
    }
   ],
   "source": [
    "name_model"
   ]
  },
  {
   "cell_type": "code",
   "execution_count": 67,
   "id": "08a9bfda",
   "metadata": {},
   "outputs": [
    {
     "name": "stdout",
     "output_type": "stream",
     "text": [
      "160/160 [==============================] - 2s 11ms/step - loss: 5.9971e-05 - mse: 1.0705e-04\n"
     ]
    }
   ],
   "source": [
    "loss, metric = model.evaluate(test_set, steps=len(test)//batch_size)"
   ]
  },
  {
   "cell_type": "code",
   "execution_count": 68,
   "id": "bbfad016",
   "metadata": {},
   "outputs": [],
   "source": [
    "model = keras.models.load_model(name_model)"
   ]
  },
  {
   "cell_type": "code",
   "execution_count": 69,
   "id": "c7e6097c",
   "metadata": {
    "scrolled": true
   },
   "outputs": [
    {
     "name": "stdout",
     "output_type": "stream",
     "text": [
      "160/160 [==============================] - 3s 11ms/step - loss: 2.7936e-05 - mse: 4.1222e-05\n"
     ]
    }
   ],
   "source": [
    "loss, metric = model.evaluate(test_set, steps=len(test)//batch_size)"
   ]
  },
  {
   "cell_type": "code",
   "execution_count": null,
   "id": "5a5dfaf1",
   "metadata": {},
   "outputs": [],
   "source": []
  },
  {
   "cell_type": "code",
   "execution_count": 55,
   "id": "8a14baf5",
   "metadata": {},
   "outputs": [
    {
     "name": "stdout",
     "output_type": "stream",
     "text": [
      "Epoch 1/500\n",
      "781/781 [==============================] - 23s 25ms/step - loss: 0.0014 - mse: 0.0015 - val_loss: 0.0035 - val_mse: 0.0057\n"
     ]
    },
    {
     "name": "stderr",
     "output_type": "stream",
     "text": [
      "WARNING:absl:Found untraced functions such as lstm_cell_layer_call_and_return_conditional_losses, lstm_cell_layer_call_fn, lstm_cell_1_layer_call_and_return_conditional_losses, lstm_cell_1_layer_call_fn, lstm_cell_layer_call_fn while saving (showing 5 of 10). These functions will not be directly callable after loading.\n"
     ]
    },
    {
     "name": "stdout",
     "output_type": "stream",
     "text": [
      "INFO:tensorflow:Assets written to: s2s_LSTM_256TimeD_6\\assets\n"
     ]
    },
    {
     "name": "stderr",
     "output_type": "stream",
     "text": [
      "INFO:tensorflow:Assets written to: s2s_LSTM_256TimeD_6\\assets\n"
     ]
    },
    {
     "name": "stdout",
     "output_type": "stream",
     "text": [
      "Epoch 2/500\n",
      "781/781 [==============================] - 19s 24ms/step - loss: 0.0011 - mse: 8.9844e-04 - val_loss: 0.0014 - val_mse: 0.0016\n"
     ]
    },
    {
     "name": "stderr",
     "output_type": "stream",
     "text": [
      "WARNING:absl:Found untraced functions such as lstm_cell_layer_call_and_return_conditional_losses, lstm_cell_layer_call_fn, lstm_cell_1_layer_call_and_return_conditional_losses, lstm_cell_1_layer_call_fn, lstm_cell_layer_call_fn while saving (showing 5 of 10). These functions will not be directly callable after loading.\n"
     ]
    },
    {
     "name": "stdout",
     "output_type": "stream",
     "text": [
      "INFO:tensorflow:Assets written to: s2s_LSTM_256TimeD_6\\assets\n"
     ]
    },
    {
     "name": "stderr",
     "output_type": "stream",
     "text": [
      "INFO:tensorflow:Assets written to: s2s_LSTM_256TimeD_6\\assets\n"
     ]
    },
    {
     "name": "stdout",
     "output_type": "stream",
     "text": [
      "Epoch 3/500\n",
      "781/781 [==============================] - 20s 25ms/step - loss: 8.1361e-04 - mse: 5.2432e-04 - val_loss: 7.2207e-04 - val_mse: 3.9860e-04\n"
     ]
    },
    {
     "name": "stderr",
     "output_type": "stream",
     "text": [
      "WARNING:absl:Found untraced functions such as lstm_cell_layer_call_and_return_conditional_losses, lstm_cell_layer_call_fn, lstm_cell_1_layer_call_and_return_conditional_losses, lstm_cell_1_layer_call_fn, lstm_cell_layer_call_fn while saving (showing 5 of 10). These functions will not be directly callable after loading.\n"
     ]
    },
    {
     "name": "stdout",
     "output_type": "stream",
     "text": [
      "INFO:tensorflow:Assets written to: s2s_LSTM_256TimeD_6\\assets\n"
     ]
    },
    {
     "name": "stderr",
     "output_type": "stream",
     "text": [
      "INFO:tensorflow:Assets written to: s2s_LSTM_256TimeD_6\\assets\n"
     ]
    },
    {
     "name": "stdout",
     "output_type": "stream",
     "text": [
      "Epoch 4/500\n",
      "781/781 [==============================] - 20s 26ms/step - loss: 6.4676e-04 - mse: 2.9995e-04 - val_loss: 7.3869e-04 - val_mse: 5.3422e-04\n",
      "Epoch 5/500\n",
      "781/781 [==============================] - 20s 25ms/step - loss: 5.5852e-04 - mse: 2.2058e-04 - val_loss: 6.0927e-04 - val_mse: 3.6750e-04\n"
     ]
    },
    {
     "name": "stderr",
     "output_type": "stream",
     "text": [
      "WARNING:absl:Found untraced functions such as lstm_cell_layer_call_and_return_conditional_losses, lstm_cell_layer_call_fn, lstm_cell_1_layer_call_and_return_conditional_losses, lstm_cell_1_layer_call_fn, lstm_cell_layer_call_fn while saving (showing 5 of 10). These functions will not be directly callable after loading.\n"
     ]
    },
    {
     "name": "stdout",
     "output_type": "stream",
     "text": [
      "INFO:tensorflow:Assets written to: s2s_LSTM_256TimeD_6\\assets\n"
     ]
    },
    {
     "name": "stderr",
     "output_type": "stream",
     "text": [
      "INFO:tensorflow:Assets written to: s2s_LSTM_256TimeD_6\\assets\n"
     ]
    },
    {
     "name": "stdout",
     "output_type": "stream",
     "text": [
      "Epoch 6/500\n",
      "781/781 [==============================] - 20s 26ms/step - loss: 5.0994e-04 - mse: 2.1053e-04 - val_loss: 5.5543e-04 - val_mse: 3.4180e-04\n"
     ]
    },
    {
     "name": "stderr",
     "output_type": "stream",
     "text": [
      "WARNING:absl:Found untraced functions such as lstm_cell_layer_call_and_return_conditional_losses, lstm_cell_layer_call_fn, lstm_cell_1_layer_call_and_return_conditional_losses, lstm_cell_1_layer_call_fn, lstm_cell_layer_call_fn while saving (showing 5 of 10). These functions will not be directly callable after loading.\n"
     ]
    },
    {
     "name": "stdout",
     "output_type": "stream",
     "text": [
      "INFO:tensorflow:Assets written to: s2s_LSTM_256TimeD_6\\assets\n"
     ]
    },
    {
     "name": "stderr",
     "output_type": "stream",
     "text": [
      "INFO:tensorflow:Assets written to: s2s_LSTM_256TimeD_6\\assets\n"
     ]
    },
    {
     "name": "stdout",
     "output_type": "stream",
     "text": [
      "Epoch 7/500\n",
      "781/781 [==============================] - 21s 27ms/step - loss: 4.7415e-04 - mse: 2.1527e-04 - val_loss: 5.4826e-04 - val_mse: 3.9824e-04\n"
     ]
    },
    {
     "name": "stderr",
     "output_type": "stream",
     "text": [
      "WARNING:absl:Found untraced functions such as lstm_cell_layer_call_and_return_conditional_losses, lstm_cell_layer_call_fn, lstm_cell_1_layer_call_and_return_conditional_losses, lstm_cell_1_layer_call_fn, lstm_cell_layer_call_fn while saving (showing 5 of 10). These functions will not be directly callable after loading.\n"
     ]
    },
    {
     "name": "stdout",
     "output_type": "stream",
     "text": [
      "INFO:tensorflow:Assets written to: s2s_LSTM_256TimeD_6\\assets\n"
     ]
    },
    {
     "name": "stderr",
     "output_type": "stream",
     "text": [
      "INFO:tensorflow:Assets written to: s2s_LSTM_256TimeD_6\\assets\n"
     ]
    },
    {
     "name": "stdout",
     "output_type": "stream",
     "text": [
      "Epoch 8/500\n",
      "781/781 [==============================] - 22s 27ms/step - loss: 4.3737e-04 - mse: 2.0712e-04 - val_loss: 5.0662e-04 - val_mse: 3.7548e-04\n"
     ]
    },
    {
     "name": "stderr",
     "output_type": "stream",
     "text": [
      "WARNING:absl:Found untraced functions such as lstm_cell_layer_call_and_return_conditional_losses, lstm_cell_layer_call_fn, lstm_cell_1_layer_call_and_return_conditional_losses, lstm_cell_1_layer_call_fn, lstm_cell_layer_call_fn while saving (showing 5 of 10). These functions will not be directly callable after loading.\n"
     ]
    },
    {
     "name": "stdout",
     "output_type": "stream",
     "text": [
      "INFO:tensorflow:Assets written to: s2s_LSTM_256TimeD_6\\assets\n"
     ]
    },
    {
     "name": "stderr",
     "output_type": "stream",
     "text": [
      "INFO:tensorflow:Assets written to: s2s_LSTM_256TimeD_6\\assets\n"
     ]
    },
    {
     "name": "stdout",
     "output_type": "stream",
     "text": [
      "Epoch 9/500\n",
      "781/781 [==============================] - 21s 27ms/step - loss: 4.0033e-04 - mse: 1.8941e-04 - val_loss: 4.5076e-04 - val_mse: 3.1628e-04\n"
     ]
    },
    {
     "name": "stderr",
     "output_type": "stream",
     "text": [
      "WARNING:absl:Found untraced functions such as lstm_cell_layer_call_and_return_conditional_losses, lstm_cell_layer_call_fn, lstm_cell_1_layer_call_and_return_conditional_losses, lstm_cell_1_layer_call_fn, lstm_cell_layer_call_fn while saving (showing 5 of 10). These functions will not be directly callable after loading.\n"
     ]
    },
    {
     "name": "stdout",
     "output_type": "stream",
     "text": [
      "INFO:tensorflow:Assets written to: s2s_LSTM_256TimeD_6\\assets\n"
     ]
    },
    {
     "name": "stderr",
     "output_type": "stream",
     "text": [
      "INFO:tensorflow:Assets written to: s2s_LSTM_256TimeD_6\\assets\n"
     ]
    },
    {
     "name": "stdout",
     "output_type": "stream",
     "text": [
      "Epoch 10/500\n",
      "781/781 [==============================] - 21s 27ms/step - loss: 3.6909e-04 - mse: 1.7617e-04 - val_loss: 4.2479e-04 - val_mse: 3.1043e-04\n"
     ]
    },
    {
     "name": "stderr",
     "output_type": "stream",
     "text": [
      "WARNING:absl:Found untraced functions such as lstm_cell_layer_call_and_return_conditional_losses, lstm_cell_layer_call_fn, lstm_cell_1_layer_call_and_return_conditional_losses, lstm_cell_1_layer_call_fn, lstm_cell_layer_call_fn while saving (showing 5 of 10). These functions will not be directly callable after loading.\n"
     ]
    },
    {
     "name": "stdout",
     "output_type": "stream",
     "text": [
      "INFO:tensorflow:Assets written to: s2s_LSTM_256TimeD_6\\assets\n"
     ]
    },
    {
     "name": "stderr",
     "output_type": "stream",
     "text": [
      "INFO:tensorflow:Assets written to: s2s_LSTM_256TimeD_6\\assets\n"
     ]
    },
    {
     "name": "stdout",
     "output_type": "stream",
     "text": [
      "Epoch 11/500\n",
      "781/781 [==============================] - 22s 28ms/step - loss: 3.4302e-04 - mse: 1.6733e-04 - val_loss: 4.2013e-04 - val_mse: 3.4179e-04\n"
     ]
    },
    {
     "name": "stderr",
     "output_type": "stream",
     "text": [
      "WARNING:absl:Found untraced functions such as lstm_cell_layer_call_and_return_conditional_losses, lstm_cell_layer_call_fn, lstm_cell_1_layer_call_and_return_conditional_losses, lstm_cell_1_layer_call_fn, lstm_cell_layer_call_fn while saving (showing 5 of 10). These functions will not be directly callable after loading.\n"
     ]
    },
    {
     "name": "stdout",
     "output_type": "stream",
     "text": [
      "INFO:tensorflow:Assets written to: s2s_LSTM_256TimeD_6\\assets\n"
     ]
    },
    {
     "name": "stderr",
     "output_type": "stream",
     "text": [
      "INFO:tensorflow:Assets written to: s2s_LSTM_256TimeD_6\\assets\n"
     ]
    },
    {
     "name": "stdout",
     "output_type": "stream",
     "text": [
      "Epoch 12/500\n",
      "781/781 [==============================] - 20s 25ms/step - loss: 3.1906e-04 - mse: 1.5771e-04 - val_loss: 3.7597e-04 - val_mse: 2.8960e-04\n"
     ]
    },
    {
     "name": "stderr",
     "output_type": "stream",
     "text": [
      "WARNING:absl:Found untraced functions such as lstm_cell_layer_call_and_return_conditional_losses, lstm_cell_layer_call_fn, lstm_cell_1_layer_call_and_return_conditional_losses, lstm_cell_1_layer_call_fn, lstm_cell_layer_call_fn while saving (showing 5 of 10). These functions will not be directly callable after loading.\n"
     ]
    },
    {
     "name": "stdout",
     "output_type": "stream",
     "text": [
      "INFO:tensorflow:Assets written to: s2s_LSTM_256TimeD_6\\assets\n"
     ]
    },
    {
     "name": "stderr",
     "output_type": "stream",
     "text": [
      "INFO:tensorflow:Assets written to: s2s_LSTM_256TimeD_6\\assets\n"
     ]
    },
    {
     "name": "stdout",
     "output_type": "stream",
     "text": [
      "Epoch 13/500\n",
      "781/781 [==============================] - 20s 26ms/step - loss: 2.9788e-04 - mse: 1.4973e-04 - val_loss: 3.5638e-04 - val_mse: 2.8310e-04\n"
     ]
    },
    {
     "name": "stderr",
     "output_type": "stream",
     "text": [
      "WARNING:absl:Found untraced functions such as lstm_cell_layer_call_and_return_conditional_losses, lstm_cell_layer_call_fn, lstm_cell_1_layer_call_and_return_conditional_losses, lstm_cell_1_layer_call_fn, lstm_cell_layer_call_fn while saving (showing 5 of 10). These functions will not be directly callable after loading.\n"
     ]
    },
    {
     "name": "stdout",
     "output_type": "stream",
     "text": [
      "INFO:tensorflow:Assets written to: s2s_LSTM_256TimeD_6\\assets\n"
     ]
    },
    {
     "name": "stderr",
     "output_type": "stream",
     "text": [
      "INFO:tensorflow:Assets written to: s2s_LSTM_256TimeD_6\\assets\n"
     ]
    },
    {
     "name": "stdout",
     "output_type": "stream",
     "text": [
      "Epoch 14/500\n",
      "781/781 [==============================] - 20s 25ms/step - loss: 2.7940e-04 - mse: 1.4389e-04 - val_loss: 3.4728e-04 - val_mse: 2.9453e-04\n"
     ]
    },
    {
     "name": "stderr",
     "output_type": "stream",
     "text": [
      "WARNING:absl:Found untraced functions such as lstm_cell_layer_call_and_return_conditional_losses, lstm_cell_layer_call_fn, lstm_cell_1_layer_call_and_return_conditional_losses, lstm_cell_1_layer_call_fn, lstm_cell_layer_call_fn while saving (showing 5 of 10). These functions will not be directly callable after loading.\n"
     ]
    },
    {
     "name": "stdout",
     "output_type": "stream",
     "text": [
      "INFO:tensorflow:Assets written to: s2s_LSTM_256TimeD_6\\assets\n"
     ]
    },
    {
     "name": "stderr",
     "output_type": "stream",
     "text": [
      "INFO:tensorflow:Assets written to: s2s_LSTM_256TimeD_6\\assets\n"
     ]
    },
    {
     "name": "stdout",
     "output_type": "stream",
     "text": [
      "Epoch 15/500\n",
      "781/781 [==============================] - 21s 26ms/step - loss: 2.6211e-04 - mse: 1.3752e-04 - val_loss: 3.2071e-04 - val_mse: 2.6827e-04\n"
     ]
    },
    {
     "name": "stderr",
     "output_type": "stream",
     "text": [
      "WARNING:absl:Found untraced functions such as lstm_cell_layer_call_and_return_conditional_losses, lstm_cell_layer_call_fn, lstm_cell_1_layer_call_and_return_conditional_losses, lstm_cell_1_layer_call_fn, lstm_cell_layer_call_fn while saving (showing 5 of 10). These functions will not be directly callable after loading.\n"
     ]
    },
    {
     "name": "stdout",
     "output_type": "stream",
     "text": [
      "INFO:tensorflow:Assets written to: s2s_LSTM_256TimeD_6\\assets\n"
     ]
    },
    {
     "name": "stderr",
     "output_type": "stream",
     "text": [
      "INFO:tensorflow:Assets written to: s2s_LSTM_256TimeD_6\\assets\n"
     ]
    },
    {
     "name": "stdout",
     "output_type": "stream",
     "text": [
      "Epoch 16/500\n",
      "781/781 [==============================] - 21s 27ms/step - loss: 2.4496e-04 - mse: 1.2888e-04 - val_loss: 2.8246e-04 - val_mse: 2.1626e-04\n"
     ]
    },
    {
     "name": "stderr",
     "output_type": "stream",
     "text": [
      "WARNING:absl:Found untraced functions such as lstm_cell_layer_call_and_return_conditional_losses, lstm_cell_layer_call_fn, lstm_cell_1_layer_call_and_return_conditional_losses, lstm_cell_1_layer_call_fn, lstm_cell_layer_call_fn while saving (showing 5 of 10). These functions will not be directly callable after loading.\n"
     ]
    },
    {
     "name": "stdout",
     "output_type": "stream",
     "text": [
      "INFO:tensorflow:Assets written to: s2s_LSTM_256TimeD_6\\assets\n"
     ]
    },
    {
     "name": "stderr",
     "output_type": "stream",
     "text": [
      "INFO:tensorflow:Assets written to: s2s_LSTM_256TimeD_6\\assets\n"
     ]
    },
    {
     "name": "stdout",
     "output_type": "stream",
     "text": [
      "Epoch 17/500\n",
      "781/781 [==============================] - 22s 28ms/step - loss: 2.3135e-04 - mse: 1.2500e-04 - val_loss: 2.6583e-04 - val_mse: 2.0513e-04\n"
     ]
    },
    {
     "name": "stderr",
     "output_type": "stream",
     "text": [
      "WARNING:absl:Found untraced functions such as lstm_cell_layer_call_and_return_conditional_losses, lstm_cell_layer_call_fn, lstm_cell_1_layer_call_and_return_conditional_losses, lstm_cell_1_layer_call_fn, lstm_cell_layer_call_fn while saving (showing 5 of 10). These functions will not be directly callable after loading.\n"
     ]
    },
    {
     "name": "stdout",
     "output_type": "stream",
     "text": [
      "INFO:tensorflow:Assets written to: s2s_LSTM_256TimeD_6\\assets\n"
     ]
    },
    {
     "name": "stderr",
     "output_type": "stream",
     "text": [
      "INFO:tensorflow:Assets written to: s2s_LSTM_256TimeD_6\\assets\n"
     ]
    },
    {
     "name": "stdout",
     "output_type": "stream",
     "text": [
      "Epoch 18/500\n",
      "781/781 [==============================] - 21s 27ms/step - loss: 2.1938e-04 - mse: 1.2214e-04 - val_loss: 2.3608e-04 - val_mse: 1.6565e-04\n"
     ]
    },
    {
     "name": "stderr",
     "output_type": "stream",
     "text": [
      "WARNING:absl:Found untraced functions such as lstm_cell_layer_call_and_return_conditional_losses, lstm_cell_layer_call_fn, lstm_cell_1_layer_call_and_return_conditional_losses, lstm_cell_1_layer_call_fn, lstm_cell_layer_call_fn while saving (showing 5 of 10). These functions will not be directly callable after loading.\n"
     ]
    },
    {
     "name": "stdout",
     "output_type": "stream",
     "text": [
      "INFO:tensorflow:Assets written to: s2s_LSTM_256TimeD_6\\assets\n"
     ]
    },
    {
     "name": "stderr",
     "output_type": "stream",
     "text": [
      "INFO:tensorflow:Assets written to: s2s_LSTM_256TimeD_6\\assets\n"
     ]
    },
    {
     "name": "stdout",
     "output_type": "stream",
     "text": [
      "Epoch 19/500\n",
      "781/781 [==============================] - 21s 27ms/step - loss: 2.0605e-04 - mse: 1.1467e-04 - val_loss: 2.1299e-04 - val_mse: 1.3783e-04\n"
     ]
    },
    {
     "name": "stderr",
     "output_type": "stream",
     "text": [
      "WARNING:absl:Found untraced functions such as lstm_cell_layer_call_and_return_conditional_losses, lstm_cell_layer_call_fn, lstm_cell_1_layer_call_and_return_conditional_losses, lstm_cell_1_layer_call_fn, lstm_cell_layer_call_fn while saving (showing 5 of 10). These functions will not be directly callable after loading.\n"
     ]
    },
    {
     "name": "stdout",
     "output_type": "stream",
     "text": [
      "INFO:tensorflow:Assets written to: s2s_LSTM_256TimeD_6\\assets\n"
     ]
    },
    {
     "name": "stderr",
     "output_type": "stream",
     "text": [
      "INFO:tensorflow:Assets written to: s2s_LSTM_256TimeD_6\\assets\n"
     ]
    },
    {
     "name": "stdout",
     "output_type": "stream",
     "text": [
      "Epoch 20/500\n",
      "781/781 [==============================] - 21s 27ms/step - loss: 1.9553e-04 - mse: 1.1125e-04 - val_loss: 1.8828e-04 - val_mse: 1.0523e-04\n"
     ]
    },
    {
     "name": "stderr",
     "output_type": "stream",
     "text": [
      "WARNING:absl:Found untraced functions such as lstm_cell_layer_call_and_return_conditional_losses, lstm_cell_layer_call_fn, lstm_cell_1_layer_call_and_return_conditional_losses, lstm_cell_1_layer_call_fn, lstm_cell_layer_call_fn while saving (showing 5 of 10). These functions will not be directly callable after loading.\n"
     ]
    },
    {
     "name": "stdout",
     "output_type": "stream",
     "text": [
      "INFO:tensorflow:Assets written to: s2s_LSTM_256TimeD_6\\assets\n"
     ]
    },
    {
     "name": "stderr",
     "output_type": "stream",
     "text": [
      "INFO:tensorflow:Assets written to: s2s_LSTM_256TimeD_6\\assets\n"
     ]
    },
    {
     "name": "stdout",
     "output_type": "stream",
     "text": [
      "Epoch 21/500\n",
      "781/781 [==============================] - 23s 29ms/step - loss: 1.8587e-04 - mse: 1.0801e-04 - val_loss: 1.7199e-04 - val_mse: 8.7981e-05\n"
     ]
    },
    {
     "name": "stderr",
     "output_type": "stream",
     "text": [
      "WARNING:absl:Found untraced functions such as lstm_cell_layer_call_and_return_conditional_losses, lstm_cell_layer_call_fn, lstm_cell_1_layer_call_and_return_conditional_losses, lstm_cell_1_layer_call_fn, lstm_cell_layer_call_fn while saving (showing 5 of 10). These functions will not be directly callable after loading.\n"
     ]
    },
    {
     "name": "stdout",
     "output_type": "stream",
     "text": [
      "INFO:tensorflow:Assets written to: s2s_LSTM_256TimeD_6\\assets\n"
     ]
    },
    {
     "name": "stderr",
     "output_type": "stream",
     "text": [
      "INFO:tensorflow:Assets written to: s2s_LSTM_256TimeD_6\\assets\n"
     ]
    },
    {
     "name": "stdout",
     "output_type": "stream",
     "text": [
      "Epoch 22/500\n",
      "781/781 [==============================] - 21s 27ms/step - loss: 1.7714e-04 - mse: 1.0523e-04 - val_loss: 1.5700e-04 - val_mse: 7.2017e-05\n"
     ]
    },
    {
     "name": "stderr",
     "output_type": "stream",
     "text": [
      "WARNING:absl:Found untraced functions such as lstm_cell_layer_call_and_return_conditional_losses, lstm_cell_layer_call_fn, lstm_cell_1_layer_call_and_return_conditional_losses, lstm_cell_1_layer_call_fn, lstm_cell_layer_call_fn while saving (showing 5 of 10). These functions will not be directly callable after loading.\n"
     ]
    },
    {
     "name": "stdout",
     "output_type": "stream",
     "text": [
      "INFO:tensorflow:Assets written to: s2s_LSTM_256TimeD_6\\assets\n"
     ]
    },
    {
     "name": "stderr",
     "output_type": "stream",
     "text": [
      "INFO:tensorflow:Assets written to: s2s_LSTM_256TimeD_6\\assets\n"
     ]
    },
    {
     "name": "stdout",
     "output_type": "stream",
     "text": [
      "Epoch 23/500\n",
      "781/781 [==============================] - 22s 28ms/step - loss: 1.6938e-04 - mse: 1.0307e-04 - val_loss: 1.4441e-04 - val_mse: 5.9494e-05\n"
     ]
    },
    {
     "name": "stderr",
     "output_type": "stream",
     "text": [
      "WARNING:absl:Found untraced functions such as lstm_cell_layer_call_and_return_conditional_losses, lstm_cell_layer_call_fn, lstm_cell_1_layer_call_and_return_conditional_losses, lstm_cell_1_layer_call_fn, lstm_cell_layer_call_fn while saving (showing 5 of 10). These functions will not be directly callable after loading.\n"
     ]
    },
    {
     "name": "stdout",
     "output_type": "stream",
     "text": [
      "INFO:tensorflow:Assets written to: s2s_LSTM_256TimeD_6\\assets\n"
     ]
    },
    {
     "name": "stderr",
     "output_type": "stream",
     "text": [
      "INFO:tensorflow:Assets written to: s2s_LSTM_256TimeD_6\\assets\n"
     ]
    },
    {
     "name": "stdout",
     "output_type": "stream",
     "text": [
      "Epoch 24/500\n",
      "781/781 [==============================] - 22s 28ms/step - loss: 1.6267e-04 - mse: 1.0175e-04 - val_loss: 1.3419e-04 - val_mse: 5.0539e-05\n"
     ]
    },
    {
     "name": "stderr",
     "output_type": "stream",
     "text": [
      "WARNING:absl:Found untraced functions such as lstm_cell_layer_call_and_return_conditional_losses, lstm_cell_layer_call_fn, lstm_cell_1_layer_call_and_return_conditional_losses, lstm_cell_1_layer_call_fn, lstm_cell_layer_call_fn while saving (showing 5 of 10). These functions will not be directly callable after loading.\n"
     ]
    },
    {
     "name": "stdout",
     "output_type": "stream",
     "text": [
      "INFO:tensorflow:Assets written to: s2s_LSTM_256TimeD_6\\assets\n"
     ]
    },
    {
     "name": "stderr",
     "output_type": "stream",
     "text": [
      "INFO:tensorflow:Assets written to: s2s_LSTM_256TimeD_6\\assets\n"
     ]
    },
    {
     "name": "stdout",
     "output_type": "stream",
     "text": [
      "Epoch 25/500\n",
      "781/781 [==============================] - 22s 28ms/step - loss: 1.5503e-04 - mse: 9.7445e-05 - val_loss: 1.2631e-04 - val_mse: 4.5295e-05\n"
     ]
    },
    {
     "name": "stderr",
     "output_type": "stream",
     "text": [
      "WARNING:absl:Found untraced functions such as lstm_cell_layer_call_and_return_conditional_losses, lstm_cell_layer_call_fn, lstm_cell_1_layer_call_and_return_conditional_losses, lstm_cell_1_layer_call_fn, lstm_cell_layer_call_fn while saving (showing 5 of 10). These functions will not be directly callable after loading.\n"
     ]
    },
    {
     "name": "stdout",
     "output_type": "stream",
     "text": [
      "INFO:tensorflow:Assets written to: s2s_LSTM_256TimeD_6\\assets\n"
     ]
    },
    {
     "name": "stderr",
     "output_type": "stream",
     "text": [
      "INFO:tensorflow:Assets written to: s2s_LSTM_256TimeD_6\\assets\n"
     ]
    },
    {
     "name": "stdout",
     "output_type": "stream",
     "text": [
      "Epoch 26/500\n",
      "781/781 [==============================] - 22s 27ms/step - loss: 1.4971e-04 - mse: 9.6845e-05 - val_loss: 1.1872e-04 - val_mse: 3.9691e-05\n"
     ]
    },
    {
     "name": "stderr",
     "output_type": "stream",
     "text": [
      "WARNING:absl:Found untraced functions such as lstm_cell_layer_call_and_return_conditional_losses, lstm_cell_layer_call_fn, lstm_cell_1_layer_call_and_return_conditional_losses, lstm_cell_1_layer_call_fn, lstm_cell_layer_call_fn while saving (showing 5 of 10). These functions will not be directly callable after loading.\n"
     ]
    },
    {
     "name": "stdout",
     "output_type": "stream",
     "text": [
      "INFO:tensorflow:Assets written to: s2s_LSTM_256TimeD_6\\assets\n"
     ]
    },
    {
     "name": "stderr",
     "output_type": "stream",
     "text": [
      "INFO:tensorflow:Assets written to: s2s_LSTM_256TimeD_6\\assets\n"
     ]
    },
    {
     "name": "stdout",
     "output_type": "stream",
     "text": [
      "Epoch 27/500\n",
      "781/781 [==============================] - 19s 25ms/step - loss: 1.4389e-04 - mse: 9.4414e-05 - val_loss: 1.1324e-04 - val_mse: 3.7548e-05\n"
     ]
    },
    {
     "name": "stderr",
     "output_type": "stream",
     "text": [
      "WARNING:absl:Found untraced functions such as lstm_cell_layer_call_and_return_conditional_losses, lstm_cell_layer_call_fn, lstm_cell_1_layer_call_and_return_conditional_losses, lstm_cell_1_layer_call_fn, lstm_cell_layer_call_fn while saving (showing 5 of 10). These functions will not be directly callable after loading.\n"
     ]
    },
    {
     "name": "stdout",
     "output_type": "stream",
     "text": [
      "INFO:tensorflow:Assets written to: s2s_LSTM_256TimeD_6\\assets\n"
     ]
    },
    {
     "name": "stderr",
     "output_type": "stream",
     "text": [
      "INFO:tensorflow:Assets written to: s2s_LSTM_256TimeD_6\\assets\n"
     ]
    },
    {
     "name": "stdout",
     "output_type": "stream",
     "text": [
      "Epoch 28/500\n",
      "781/781 [==============================] - 20s 26ms/step - loss: 1.3936e-04 - mse: 9.3833e-05 - val_loss: 1.0816e-04 - val_mse: 3.5514e-05\n"
     ]
    },
    {
     "name": "stderr",
     "output_type": "stream",
     "text": [
      "WARNING:absl:Found untraced functions such as lstm_cell_layer_call_and_return_conditional_losses, lstm_cell_layer_call_fn, lstm_cell_1_layer_call_and_return_conditional_losses, lstm_cell_1_layer_call_fn, lstm_cell_layer_call_fn while saving (showing 5 of 10). These functions will not be directly callable after loading.\n"
     ]
    },
    {
     "name": "stdout",
     "output_type": "stream",
     "text": [
      "INFO:tensorflow:Assets written to: s2s_LSTM_256TimeD_6\\assets\n"
     ]
    },
    {
     "name": "stderr",
     "output_type": "stream",
     "text": [
      "INFO:tensorflow:Assets written to: s2s_LSTM_256TimeD_6\\assets\n"
     ]
    },
    {
     "name": "stdout",
     "output_type": "stream",
     "text": [
      "Epoch 29/500\n",
      "781/781 [==============================] - 22s 28ms/step - loss: 1.3353e-04 - mse: 9.0020e-05 - val_loss: 1.0376e-04 - val_mse: 3.4287e-05\n"
     ]
    },
    {
     "name": "stderr",
     "output_type": "stream",
     "text": [
      "WARNING:absl:Found untraced functions such as lstm_cell_layer_call_and_return_conditional_losses, lstm_cell_layer_call_fn, lstm_cell_1_layer_call_and_return_conditional_losses, lstm_cell_1_layer_call_fn, lstm_cell_layer_call_fn while saving (showing 5 of 10). These functions will not be directly callable after loading.\n"
     ]
    },
    {
     "name": "stdout",
     "output_type": "stream",
     "text": [
      "INFO:tensorflow:Assets written to: s2s_LSTM_256TimeD_6\\assets\n"
     ]
    },
    {
     "name": "stderr",
     "output_type": "stream",
     "text": [
      "INFO:tensorflow:Assets written to: s2s_LSTM_256TimeD_6\\assets\n"
     ]
    },
    {
     "name": "stdout",
     "output_type": "stream",
     "text": [
      "Epoch 30/500\n",
      "781/781 [==============================] - 22s 28ms/step - loss: 1.2904e-04 - mse: 8.8365e-05 - val_loss: 9.9208e-05 - val_mse: 3.2259e-05\n"
     ]
    },
    {
     "name": "stderr",
     "output_type": "stream",
     "text": [
      "WARNING:absl:Found untraced functions such as lstm_cell_layer_call_and_return_conditional_losses, lstm_cell_layer_call_fn, lstm_cell_1_layer_call_and_return_conditional_losses, lstm_cell_1_layer_call_fn, lstm_cell_layer_call_fn while saving (showing 5 of 10). These functions will not be directly callable after loading.\n"
     ]
    },
    {
     "name": "stdout",
     "output_type": "stream",
     "text": [
      "INFO:tensorflow:Assets written to: s2s_LSTM_256TimeD_6\\assets\n"
     ]
    },
    {
     "name": "stderr",
     "output_type": "stream",
     "text": [
      "INFO:tensorflow:Assets written to: s2s_LSTM_256TimeD_6\\assets\n"
     ]
    },
    {
     "name": "stdout",
     "output_type": "stream",
     "text": [
      "Epoch 31/500\n",
      "781/781 [==============================] - 23s 29ms/step - loss: 1.2512e-04 - mse: 8.7402e-05 - val_loss: 9.5702e-05 - val_mse: 3.1887e-05\n"
     ]
    },
    {
     "name": "stderr",
     "output_type": "stream",
     "text": [
      "WARNING:absl:Found untraced functions such as lstm_cell_layer_call_and_return_conditional_losses, lstm_cell_layer_call_fn, lstm_cell_1_layer_call_and_return_conditional_losses, lstm_cell_1_layer_call_fn, lstm_cell_layer_call_fn while saving (showing 5 of 10). These functions will not be directly callable after loading.\n"
     ]
    },
    {
     "name": "stdout",
     "output_type": "stream",
     "text": [
      "INFO:tensorflow:Assets written to: s2s_LSTM_256TimeD_6\\assets\n"
     ]
    },
    {
     "name": "stderr",
     "output_type": "stream",
     "text": [
      "INFO:tensorflow:Assets written to: s2s_LSTM_256TimeD_6\\assets\n"
     ]
    },
    {
     "name": "stdout",
     "output_type": "stream",
     "text": [
      "Epoch 32/500\n",
      "781/781 [==============================] - 21s 27ms/step - loss: 1.2119e-04 - mse: 8.5967e-05 - val_loss: 9.2503e-05 - val_mse: 3.1706e-05\n"
     ]
    },
    {
     "name": "stderr",
     "output_type": "stream",
     "text": [
      "WARNING:absl:Found untraced functions such as lstm_cell_layer_call_and_return_conditional_losses, lstm_cell_layer_call_fn, lstm_cell_1_layer_call_and_return_conditional_losses, lstm_cell_1_layer_call_fn, lstm_cell_layer_call_fn while saving (showing 5 of 10). These functions will not be directly callable after loading.\n"
     ]
    },
    {
     "name": "stdout",
     "output_type": "stream",
     "text": [
      "INFO:tensorflow:Assets written to: s2s_LSTM_256TimeD_6\\assets\n"
     ]
    },
    {
     "name": "stderr",
     "output_type": "stream",
     "text": [
      "INFO:tensorflow:Assets written to: s2s_LSTM_256TimeD_6\\assets\n"
     ]
    },
    {
     "name": "stdout",
     "output_type": "stream",
     "text": [
      "Epoch 33/500\n",
      "781/781 [==============================] - 22s 28ms/step - loss: 1.1787e-04 - mse: 8.5330e-05 - val_loss: 8.9460e-05 - val_mse: 3.1416e-05\n"
     ]
    },
    {
     "name": "stderr",
     "output_type": "stream",
     "text": [
      "WARNING:absl:Found untraced functions such as lstm_cell_layer_call_and_return_conditional_losses, lstm_cell_layer_call_fn, lstm_cell_1_layer_call_and_return_conditional_losses, lstm_cell_1_layer_call_fn, lstm_cell_layer_call_fn while saving (showing 5 of 10). These functions will not be directly callable after loading.\n"
     ]
    },
    {
     "name": "stdout",
     "output_type": "stream",
     "text": [
      "INFO:tensorflow:Assets written to: s2s_LSTM_256TimeD_6\\assets\n"
     ]
    },
    {
     "name": "stderr",
     "output_type": "stream",
     "text": [
      "INFO:tensorflow:Assets written to: s2s_LSTM_256TimeD_6\\assets\n"
     ]
    },
    {
     "name": "stdout",
     "output_type": "stream",
     "text": [
      "Epoch 34/500\n",
      "781/781 [==============================] - 21s 26ms/step - loss: 1.1406e-04 - mse: 8.3314e-05 - val_loss: 8.6631e-05 - val_mse: 3.1172e-05\n"
     ]
    },
    {
     "name": "stderr",
     "output_type": "stream",
     "text": [
      "WARNING:absl:Found untraced functions such as lstm_cell_layer_call_and_return_conditional_losses, lstm_cell_layer_call_fn, lstm_cell_1_layer_call_and_return_conditional_losses, lstm_cell_1_layer_call_fn, lstm_cell_layer_call_fn while saving (showing 5 of 10). These functions will not be directly callable after loading.\n"
     ]
    },
    {
     "name": "stdout",
     "output_type": "stream",
     "text": [
      "INFO:tensorflow:Assets written to: s2s_LSTM_256TimeD_6\\assets\n"
     ]
    },
    {
     "name": "stderr",
     "output_type": "stream",
     "text": [
      "INFO:tensorflow:Assets written to: s2s_LSTM_256TimeD_6\\assets\n"
     ]
    },
    {
     "name": "stdout",
     "output_type": "stream",
     "text": [
      "Epoch 35/500\n",
      "781/781 [==============================] - 20s 26ms/step - loss: 1.1073e-04 - mse: 8.1901e-05 - val_loss: 8.3732e-05 - val_mse: 3.0468e-05\n"
     ]
    },
    {
     "name": "stderr",
     "output_type": "stream",
     "text": [
      "WARNING:absl:Found untraced functions such as lstm_cell_layer_call_and_return_conditional_losses, lstm_cell_layer_call_fn, lstm_cell_1_layer_call_and_return_conditional_losses, lstm_cell_1_layer_call_fn, lstm_cell_layer_call_fn while saving (showing 5 of 10). These functions will not be directly callable after loading.\n"
     ]
    },
    {
     "name": "stdout",
     "output_type": "stream",
     "text": [
      "INFO:tensorflow:Assets written to: s2s_LSTM_256TimeD_6\\assets\n"
     ]
    },
    {
     "name": "stderr",
     "output_type": "stream",
     "text": [
      "INFO:tensorflow:Assets written to: s2s_LSTM_256TimeD_6\\assets\n"
     ]
    },
    {
     "name": "stdout",
     "output_type": "stream",
     "text": [
      "Epoch 36/500\n",
      "781/781 [==============================] - 21s 26ms/step - loss: 1.0828e-04 - mse: 8.1958e-05 - val_loss: 8.1283e-05 - val_mse: 3.0325e-05\n"
     ]
    },
    {
     "name": "stderr",
     "output_type": "stream",
     "text": [
      "WARNING:absl:Found untraced functions such as lstm_cell_layer_call_and_return_conditional_losses, lstm_cell_layer_call_fn, lstm_cell_1_layer_call_and_return_conditional_losses, lstm_cell_1_layer_call_fn, lstm_cell_layer_call_fn while saving (showing 5 of 10). These functions will not be directly callable after loading.\n"
     ]
    },
    {
     "name": "stdout",
     "output_type": "stream",
     "text": [
      "INFO:tensorflow:Assets written to: s2s_LSTM_256TimeD_6\\assets\n"
     ]
    },
    {
     "name": "stderr",
     "output_type": "stream",
     "text": [
      "INFO:tensorflow:Assets written to: s2s_LSTM_256TimeD_6\\assets\n"
     ]
    },
    {
     "name": "stdout",
     "output_type": "stream",
     "text": [
      "Epoch 37/500\n",
      "781/781 [==============================] - 21s 26ms/step - loss: 1.0435e-04 - mse: 7.8733e-05 - val_loss: 7.9580e-05 - val_mse: 3.1407e-05\n"
     ]
    },
    {
     "name": "stderr",
     "output_type": "stream",
     "text": [
      "WARNING:absl:Found untraced functions such as lstm_cell_layer_call_and_return_conditional_losses, lstm_cell_layer_call_fn, lstm_cell_1_layer_call_and_return_conditional_losses, lstm_cell_1_layer_call_fn, lstm_cell_layer_call_fn while saving (showing 5 of 10). These functions will not be directly callable after loading.\n"
     ]
    },
    {
     "name": "stdout",
     "output_type": "stream",
     "text": [
      "INFO:tensorflow:Assets written to: s2s_LSTM_256TimeD_6\\assets\n"
     ]
    },
    {
     "name": "stderr",
     "output_type": "stream",
     "text": [
      "INFO:tensorflow:Assets written to: s2s_LSTM_256TimeD_6\\assets\n"
     ]
    },
    {
     "name": "stdout",
     "output_type": "stream",
     "text": [
      "Epoch 38/500\n",
      "781/781 [==============================] - 23s 28ms/step - loss: 1.0215e-04 - mse: 7.8713e-05 - val_loss: 8.1658e-05 - val_mse: 3.9790e-05\n",
      "Epoch 39/500\n",
      "781/781 [==============================] - 22s 28ms/step - loss: 9.9942e-05 - mse: 7.8411e-05 - val_loss: 9.0260e-05 - val_mse: 6.0925e-05\n",
      "Epoch 40/500\n",
      "781/781 [==============================] - 22s 28ms/step - loss: 9.7607e-05 - mse: 7.7598e-05 - val_loss: 1.0816e-04 - val_mse: 1.0042e-04\n",
      "Epoch 41/500\n",
      "781/781 [==============================] - 20s 26ms/step - loss: 9.4632e-05 - mse: 7.5293e-05 - val_loss: 1.1821e-04 - val_mse: 1.2405e-04\n",
      "Epoch 42/500\n",
      "781/781 [==============================] - 20s 26ms/step - loss: 9.2912e-05 - mse: 7.5331e-05 - val_loss: 1.2346e-04 - val_mse: 1.3794e-04\n",
      "Epoch 43/500\n",
      "781/781 [==============================] - 20s 26ms/step - loss: 9.1245e-05 - mse: 7.5323e-05 - val_loss: 1.1718e-04 - val_mse: 1.2863e-04\n",
      "Epoch 44/500\n",
      "781/781 [==============================] - 20s 26ms/step - loss: 8.8467e-05 - mse: 7.2929e-05 - val_loss: 1.0822e-04 - val_mse: 1.1380e-04\n",
      "Epoch 45/500\n",
      "781/781 [==============================] - 22s 28ms/step - loss: 8.6674e-05 - mse: 7.2370e-05 - val_loss: 9.6953e-05 - val_mse: 9.4243e-05\n",
      "Epoch 46/500\n",
      "781/781 [==============================] - 22s 28ms/step - loss: 8.4685e-05 - mse: 7.1276e-05 - val_loss: 8.9217e-05 - val_mse: 8.1594e-05\n",
      "Epoch 47/500\n",
      "781/781 [==============================] - 22s 28ms/step - loss: 8.3151e-05 - mse: 7.0927e-05 - val_loss: 8.0480e-05 - val_mse: 6.6751e-05\n",
      "Epoch 48/500\n",
      "781/781 [==============================] - 22s 28ms/step - loss: 8.1292e-05 - mse: 6.9757e-05 - val_loss: 7.4679e-05 - val_mse: 5.7657e-05\n"
     ]
    },
    {
     "name": "stderr",
     "output_type": "stream",
     "text": [
      "WARNING:absl:Found untraced functions such as lstm_cell_layer_call_and_return_conditional_losses, lstm_cell_layer_call_fn, lstm_cell_1_layer_call_and_return_conditional_losses, lstm_cell_1_layer_call_fn, lstm_cell_layer_call_fn while saving (showing 5 of 10). These functions will not be directly callable after loading.\n"
     ]
    },
    {
     "name": "stdout",
     "output_type": "stream",
     "text": [
      "INFO:tensorflow:Assets written to: s2s_LSTM_256TimeD_6\\assets\n"
     ]
    },
    {
     "name": "stderr",
     "output_type": "stream",
     "text": [
      "INFO:tensorflow:Assets written to: s2s_LSTM_256TimeD_6\\assets\n"
     ]
    },
    {
     "name": "stdout",
     "output_type": "stream",
     "text": [
      "Epoch 49/500\n",
      "781/781 [==============================] - 19s 25ms/step - loss: 7.9581e-05 - mse: 6.8758e-05 - val_loss: 6.9750e-05 - val_mse: 5.0157e-05\n"
     ]
    },
    {
     "name": "stderr",
     "output_type": "stream",
     "text": [
      "WARNING:absl:Found untraced functions such as lstm_cell_layer_call_and_return_conditional_losses, lstm_cell_layer_call_fn, lstm_cell_1_layer_call_and_return_conditional_losses, lstm_cell_1_layer_call_fn, lstm_cell_layer_call_fn while saving (showing 5 of 10). These functions will not be directly callable after loading.\n"
     ]
    },
    {
     "name": "stdout",
     "output_type": "stream",
     "text": [
      "INFO:tensorflow:Assets written to: s2s_LSTM_256TimeD_6\\assets\n"
     ]
    },
    {
     "name": "stderr",
     "output_type": "stream",
     "text": [
      "INFO:tensorflow:Assets written to: s2s_LSTM_256TimeD_6\\assets\n"
     ]
    },
    {
     "name": "stdout",
     "output_type": "stream",
     "text": [
      "Epoch 50/500\n",
      "781/781 [==============================] - 20s 25ms/step - loss: 7.8269e-05 - mse: 6.8412e-05 - val_loss: 6.5966e-05 - val_mse: 4.4799e-05\n"
     ]
    },
    {
     "name": "stderr",
     "output_type": "stream",
     "text": [
      "WARNING:absl:Found untraced functions such as lstm_cell_layer_call_and_return_conditional_losses, lstm_cell_layer_call_fn, lstm_cell_1_layer_call_and_return_conditional_losses, lstm_cell_1_layer_call_fn, lstm_cell_layer_call_fn while saving (showing 5 of 10). These functions will not be directly callable after loading.\n"
     ]
    },
    {
     "name": "stdout",
     "output_type": "stream",
     "text": [
      "INFO:tensorflow:Assets written to: s2s_LSTM_256TimeD_6\\assets\n"
     ]
    },
    {
     "name": "stderr",
     "output_type": "stream",
     "text": [
      "INFO:tensorflow:Assets written to: s2s_LSTM_256TimeD_6\\assets\n"
     ]
    },
    {
     "name": "stdout",
     "output_type": "stream",
     "text": [
      "Epoch 51/500\n",
      "781/781 [==============================] - 20s 25ms/step - loss: 7.6699e-05 - mse: 6.7427e-05 - val_loss: 6.2487e-05 - val_mse: 3.9962e-05\n"
     ]
    },
    {
     "name": "stderr",
     "output_type": "stream",
     "text": [
      "WARNING:absl:Found untraced functions such as lstm_cell_layer_call_and_return_conditional_losses, lstm_cell_layer_call_fn, lstm_cell_1_layer_call_and_return_conditional_losses, lstm_cell_1_layer_call_fn, lstm_cell_layer_call_fn while saving (showing 5 of 10). These functions will not be directly callable after loading.\n"
     ]
    },
    {
     "name": "stdout",
     "output_type": "stream",
     "text": [
      "INFO:tensorflow:Assets written to: s2s_LSTM_256TimeD_6\\assets\n"
     ]
    },
    {
     "name": "stderr",
     "output_type": "stream",
     "text": [
      "INFO:tensorflow:Assets written to: s2s_LSTM_256TimeD_6\\assets\n"
     ]
    },
    {
     "name": "stdout",
     "output_type": "stream",
     "text": [
      "Epoch 52/500\n",
      "781/781 [==============================] - 22s 27ms/step - loss: 7.6145e-05 - mse: 6.8363e-05 - val_loss: 5.7966e-05 - val_mse: 3.2914e-05\n"
     ]
    },
    {
     "name": "stderr",
     "output_type": "stream",
     "text": [
      "WARNING:absl:Found untraced functions such as lstm_cell_layer_call_and_return_conditional_losses, lstm_cell_layer_call_fn, lstm_cell_1_layer_call_and_return_conditional_losses, lstm_cell_1_layer_call_fn, lstm_cell_layer_call_fn while saving (showing 5 of 10). These functions will not be directly callable after loading.\n"
     ]
    },
    {
     "name": "stdout",
     "output_type": "stream",
     "text": [
      "INFO:tensorflow:Assets written to: s2s_LSTM_256TimeD_6\\assets\n"
     ]
    },
    {
     "name": "stderr",
     "output_type": "stream",
     "text": [
      "INFO:tensorflow:Assets written to: s2s_LSTM_256TimeD_6\\assets\n"
     ]
    },
    {
     "name": "stdout",
     "output_type": "stream",
     "text": [
      "Epoch 53/500\n",
      "781/781 [==============================] - 23s 29ms/step - loss: 7.3503e-05 - mse: 6.5002e-05 - val_loss: 5.5050e-05 - val_mse: 2.8989e-05\n"
     ]
    },
    {
     "name": "stderr",
     "output_type": "stream",
     "text": [
      "WARNING:absl:Found untraced functions such as lstm_cell_layer_call_and_return_conditional_losses, lstm_cell_layer_call_fn, lstm_cell_1_layer_call_and_return_conditional_losses, lstm_cell_1_layer_call_fn, lstm_cell_layer_call_fn while saving (showing 5 of 10). These functions will not be directly callable after loading.\n"
     ]
    },
    {
     "name": "stdout",
     "output_type": "stream",
     "text": [
      "INFO:tensorflow:Assets written to: s2s_LSTM_256TimeD_6\\assets\n"
     ]
    },
    {
     "name": "stderr",
     "output_type": "stream",
     "text": [
      "INFO:tensorflow:Assets written to: s2s_LSTM_256TimeD_6\\assets\n"
     ]
    },
    {
     "name": "stdout",
     "output_type": "stream",
     "text": [
      "Epoch 54/500\n",
      "781/781 [==============================] - 22s 28ms/step - loss: 7.2794e-05 - mse: 6.5450e-05 - val_loss: 5.3916e-05 - val_mse: 2.8571e-05\n"
     ]
    },
    {
     "name": "stderr",
     "output_type": "stream",
     "text": [
      "WARNING:absl:Found untraced functions such as lstm_cell_layer_call_and_return_conditional_losses, lstm_cell_layer_call_fn, lstm_cell_1_layer_call_and_return_conditional_losses, lstm_cell_1_layer_call_fn, lstm_cell_layer_call_fn while saving (showing 5 of 10). These functions will not be directly callable after loading.\n"
     ]
    },
    {
     "name": "stdout",
     "output_type": "stream",
     "text": [
      "INFO:tensorflow:Assets written to: s2s_LSTM_256TimeD_6\\assets\n"
     ]
    },
    {
     "name": "stderr",
     "output_type": "stream",
     "text": [
      "INFO:tensorflow:Assets written to: s2s_LSTM_256TimeD_6\\assets\n"
     ]
    },
    {
     "name": "stdout",
     "output_type": "stream",
     "text": [
      "Epoch 55/500\n",
      "781/781 [==============================] - 25s 32ms/step - loss: 7.1495e-05 - mse: 6.4637e-05 - val_loss: 5.3330e-05 - val_mse: 2.9147e-05\n"
     ]
    },
    {
     "name": "stderr",
     "output_type": "stream",
     "text": [
      "WARNING:absl:Found untraced functions such as lstm_cell_layer_call_and_return_conditional_losses, lstm_cell_layer_call_fn, lstm_cell_1_layer_call_and_return_conditional_losses, lstm_cell_1_layer_call_fn, lstm_cell_layer_call_fn while saving (showing 5 of 10). These functions will not be directly callable after loading.\n"
     ]
    },
    {
     "name": "stdout",
     "output_type": "stream",
     "text": [
      "INFO:tensorflow:Assets written to: s2s_LSTM_256TimeD_6\\assets\n"
     ]
    },
    {
     "name": "stderr",
     "output_type": "stream",
     "text": [
      "INFO:tensorflow:Assets written to: s2s_LSTM_256TimeD_6\\assets\n"
     ]
    },
    {
     "name": "stdout",
     "output_type": "stream",
     "text": [
      "Epoch 56/500\n",
      "781/781 [==============================] - 23s 29ms/step - loss: 7.0857e-05 - mse: 6.5065e-05 - val_loss: 5.2601e-05 - val_mse: 2.9361e-05\n"
     ]
    },
    {
     "name": "stderr",
     "output_type": "stream",
     "text": [
      "WARNING:absl:Found untraced functions such as lstm_cell_layer_call_and_return_conditional_losses, lstm_cell_layer_call_fn, lstm_cell_1_layer_call_and_return_conditional_losses, lstm_cell_1_layer_call_fn, lstm_cell_layer_call_fn while saving (showing 5 of 10). These functions will not be directly callable after loading.\n"
     ]
    },
    {
     "name": "stdout",
     "output_type": "stream",
     "text": [
      "INFO:tensorflow:Assets written to: s2s_LSTM_256TimeD_6\\assets\n"
     ]
    },
    {
     "name": "stderr",
     "output_type": "stream",
     "text": [
      "INFO:tensorflow:Assets written to: s2s_LSTM_256TimeD_6\\assets\n"
     ]
    },
    {
     "name": "stdout",
     "output_type": "stream",
     "text": [
      "Epoch 57/500\n",
      "781/781 [==============================] - 22s 27ms/step - loss: 6.9345e-05 - mse: 6.3668e-05 - val_loss: 5.0749e-05 - val_mse: 2.7237e-05\n"
     ]
    },
    {
     "name": "stderr",
     "output_type": "stream",
     "text": [
      "WARNING:absl:Found untraced functions such as lstm_cell_layer_call_and_return_conditional_losses, lstm_cell_layer_call_fn, lstm_cell_1_layer_call_and_return_conditional_losses, lstm_cell_1_layer_call_fn, lstm_cell_layer_call_fn while saving (showing 5 of 10). These functions will not be directly callable after loading.\n"
     ]
    },
    {
     "name": "stdout",
     "output_type": "stream",
     "text": [
      "INFO:tensorflow:Assets written to: s2s_LSTM_256TimeD_6\\assets\n"
     ]
    },
    {
     "name": "stderr",
     "output_type": "stream",
     "text": [
      "INFO:tensorflow:Assets written to: s2s_LSTM_256TimeD_6\\assets\n"
     ]
    },
    {
     "name": "stdout",
     "output_type": "stream",
     "text": [
      "Epoch 58/500\n",
      "781/781 [==============================] - 22s 27ms/step - loss: 6.7242e-05 - mse: 6.1038e-05 - val_loss: 5.0717e-05 - val_mse: 2.8742e-05\n"
     ]
    },
    {
     "name": "stderr",
     "output_type": "stream",
     "text": [
      "WARNING:absl:Found untraced functions such as lstm_cell_layer_call_and_return_conditional_losses, lstm_cell_layer_call_fn, lstm_cell_1_layer_call_and_return_conditional_losses, lstm_cell_1_layer_call_fn, lstm_cell_layer_call_fn while saving (showing 5 of 10). These functions will not be directly callable after loading.\n"
     ]
    },
    {
     "name": "stdout",
     "output_type": "stream",
     "text": [
      "INFO:tensorflow:Assets written to: s2s_LSTM_256TimeD_6\\assets\n"
     ]
    },
    {
     "name": "stderr",
     "output_type": "stream",
     "text": [
      "INFO:tensorflow:Assets written to: s2s_LSTM_256TimeD_6\\assets\n"
     ]
    },
    {
     "name": "stdout",
     "output_type": "stream",
     "text": [
      "Epoch 59/500\n",
      "781/781 [==============================] - 22s 28ms/step - loss: 6.7748e-05 - mse: 6.3594e-05 - val_loss: 4.9350e-05 - val_mse: 2.7493e-05\n"
     ]
    },
    {
     "name": "stderr",
     "output_type": "stream",
     "text": [
      "WARNING:absl:Found untraced functions such as lstm_cell_layer_call_and_return_conditional_losses, lstm_cell_layer_call_fn, lstm_cell_1_layer_call_and_return_conditional_losses, lstm_cell_1_layer_call_fn, lstm_cell_layer_call_fn while saving (showing 5 of 10). These functions will not be directly callable after loading.\n"
     ]
    },
    {
     "name": "stdout",
     "output_type": "stream",
     "text": [
      "INFO:tensorflow:Assets written to: s2s_LSTM_256TimeD_6\\assets\n"
     ]
    },
    {
     "name": "stderr",
     "output_type": "stream",
     "text": [
      "INFO:tensorflow:Assets written to: s2s_LSTM_256TimeD_6\\assets\n"
     ]
    },
    {
     "name": "stdout",
     "output_type": "stream",
     "text": [
      "Epoch 60/500\n",
      "781/781 [==============================] - 22s 28ms/step - loss: 6.5619e-05 - mse: 6.0801e-05 - val_loss: 4.9233e-05 - val_mse: 2.8715e-05\n"
     ]
    },
    {
     "name": "stderr",
     "output_type": "stream",
     "text": [
      "WARNING:absl:Found untraced functions such as lstm_cell_layer_call_and_return_conditional_losses, lstm_cell_layer_call_fn, lstm_cell_1_layer_call_and_return_conditional_losses, lstm_cell_1_layer_call_fn, lstm_cell_layer_call_fn while saving (showing 5 of 10). These functions will not be directly callable after loading.\n"
     ]
    },
    {
     "name": "stdout",
     "output_type": "stream",
     "text": [
      "INFO:tensorflow:Assets written to: s2s_LSTM_256TimeD_6\\assets\n"
     ]
    },
    {
     "name": "stderr",
     "output_type": "stream",
     "text": [
      "INFO:tensorflow:Assets written to: s2s_LSTM_256TimeD_6\\assets\n"
     ]
    },
    {
     "name": "stdout",
     "output_type": "stream",
     "text": [
      "Epoch 61/500\n",
      "781/781 [==============================] - 21s 27ms/step - loss: 6.5983e-05 - mse: 6.2963e-05 - val_loss: 4.8581e-05 - val_mse: 2.8785e-05\n"
     ]
    },
    {
     "name": "stderr",
     "output_type": "stream",
     "text": [
      "WARNING:absl:Found untraced functions such as lstm_cell_layer_call_and_return_conditional_losses, lstm_cell_layer_call_fn, lstm_cell_1_layer_call_and_return_conditional_losses, lstm_cell_1_layer_call_fn, lstm_cell_layer_call_fn while saving (showing 5 of 10). These functions will not be directly callable after loading.\n"
     ]
    },
    {
     "name": "stdout",
     "output_type": "stream",
     "text": [
      "INFO:tensorflow:Assets written to: s2s_LSTM_256TimeD_6\\assets\n"
     ]
    },
    {
     "name": "stderr",
     "output_type": "stream",
     "text": [
      "INFO:tensorflow:Assets written to: s2s_LSTM_256TimeD_6\\assets\n"
     ]
    },
    {
     "name": "stdout",
     "output_type": "stream",
     "text": [
      "Epoch 62/500\n",
      "781/781 [==============================] - 21s 27ms/step - loss: 6.3333e-05 - mse: 5.9012e-05 - val_loss: 5.1551e-05 - val_mse: 3.6048e-05\n",
      "Epoch 63/500\n",
      "781/781 [==============================] - 21s 27ms/step - loss: 6.4236e-05 - mse: 6.2169e-05 - val_loss: 5.5805e-05 - val_mse: 4.5857e-05\n",
      "Epoch 64/500\n",
      "781/781 [==============================] - 22s 28ms/step - loss: 6.2365e-05 - mse: 5.9693e-05 - val_loss: 5.6030e-05 - val_mse: 4.7532e-05\n",
      "Epoch 65/500\n",
      "781/781 [==============================] - 25s 32ms/step - loss: 6.1287e-05 - mse: 5.8783e-05 - val_loss: 5.8705e-05 - val_mse: 5.4138e-05\n",
      "Epoch 66/500\n",
      "781/781 [==============================] - 22s 29ms/step - loss: 6.1616e-05 - mse: 6.0656e-05 - val_loss: 5.5692e-05 - val_mse: 4.9276e-05\n",
      "Epoch 67/500\n",
      "781/781 [==============================] - 22s 29ms/step - loss: 5.9025e-05 - mse: 5.6619e-05 - val_loss: 5.1113e-05 - val_mse: 4.1271e-05\n",
      "Epoch 68/500\n",
      "781/781 [==============================] - 23s 29ms/step - loss: 5.9456e-05 - mse: 5.8628e-05 - val_loss: 4.7887e-05 - val_mse: 3.5971e-05\n"
     ]
    },
    {
     "name": "stderr",
     "output_type": "stream",
     "text": [
      "WARNING:absl:Found untraced functions such as lstm_cell_layer_call_and_return_conditional_losses, lstm_cell_layer_call_fn, lstm_cell_1_layer_call_and_return_conditional_losses, lstm_cell_1_layer_call_fn, lstm_cell_layer_call_fn while saving (showing 5 of 10). These functions will not be directly callable after loading.\n"
     ]
    },
    {
     "name": "stdout",
     "output_type": "stream",
     "text": [
      "INFO:tensorflow:Assets written to: s2s_LSTM_256TimeD_6\\assets\n"
     ]
    },
    {
     "name": "stderr",
     "output_type": "stream",
     "text": [
      "INFO:tensorflow:Assets written to: s2s_LSTM_256TimeD_6\\assets\n"
     ]
    },
    {
     "name": "stdout",
     "output_type": "stream",
     "text": [
      "Epoch 69/500\n",
      "781/781 [==============================] - 21s 27ms/step - loss: 5.8815e-05 - mse: 5.8451e-05 - val_loss: 4.4269e-05 - val_mse: 2.9820e-05\n"
     ]
    },
    {
     "name": "stderr",
     "output_type": "stream",
     "text": [
      "WARNING:absl:Found untraced functions such as lstm_cell_layer_call_and_return_conditional_losses, lstm_cell_layer_call_fn, lstm_cell_1_layer_call_and_return_conditional_losses, lstm_cell_1_layer_call_fn, lstm_cell_layer_call_fn while saving (showing 5 of 10). These functions will not be directly callable after loading.\n"
     ]
    },
    {
     "name": "stdout",
     "output_type": "stream",
     "text": [
      "INFO:tensorflow:Assets written to: s2s_LSTM_256TimeD_6\\assets\n"
     ]
    },
    {
     "name": "stderr",
     "output_type": "stream",
     "text": [
      "INFO:tensorflow:Assets written to: s2s_LSTM_256TimeD_6\\assets\n"
     ]
    },
    {
     "name": "stdout",
     "output_type": "stream",
     "text": [
      "Epoch 70/500\n",
      "781/781 [==============================] - 20s 25ms/step - loss: 5.6918e-05 - mse: 5.5712e-05 - val_loss: 4.1863e-05 - val_mse: 2.6083e-05\n"
     ]
    },
    {
     "name": "stderr",
     "output_type": "stream",
     "text": [
      "WARNING:absl:Found untraced functions such as lstm_cell_layer_call_and_return_conditional_losses, lstm_cell_layer_call_fn, lstm_cell_1_layer_call_and_return_conditional_losses, lstm_cell_1_layer_call_fn, lstm_cell_layer_call_fn while saving (showing 5 of 10). These functions will not be directly callable after loading.\n"
     ]
    },
    {
     "name": "stdout",
     "output_type": "stream",
     "text": [
      "INFO:tensorflow:Assets written to: s2s_LSTM_256TimeD_6\\assets\n"
     ]
    },
    {
     "name": "stderr",
     "output_type": "stream",
     "text": [
      "INFO:tensorflow:Assets written to: s2s_LSTM_256TimeD_6\\assets\n"
     ]
    },
    {
     "name": "stdout",
     "output_type": "stream",
     "text": [
      "Epoch 71/500\n",
      "781/781 [==============================] - 21s 26ms/step - loss: 5.6942e-05 - mse: 5.6826e-05 - val_loss: 4.1802e-05 - val_mse: 2.7021e-05\n"
     ]
    },
    {
     "name": "stderr",
     "output_type": "stream",
     "text": [
      "WARNING:absl:Found untraced functions such as lstm_cell_layer_call_and_return_conditional_losses, lstm_cell_layer_call_fn, lstm_cell_1_layer_call_and_return_conditional_losses, lstm_cell_1_layer_call_fn, lstm_cell_layer_call_fn while saving (showing 5 of 10). These functions will not be directly callable after loading.\n"
     ]
    },
    {
     "name": "stdout",
     "output_type": "stream",
     "text": [
      "INFO:tensorflow:Assets written to: s2s_LSTM_256TimeD_6\\assets\n"
     ]
    },
    {
     "name": "stderr",
     "output_type": "stream",
     "text": [
      "INFO:tensorflow:Assets written to: s2s_LSTM_256TimeD_6\\assets\n"
     ]
    },
    {
     "name": "stdout",
     "output_type": "stream",
     "text": [
      "Epoch 72/500\n",
      "781/781 [==============================] - 20s 26ms/step - loss: 5.6045e-05 - mse: 5.6047e-05 - val_loss: 4.0616e-05 - val_mse: 2.5644e-05\n"
     ]
    },
    {
     "name": "stderr",
     "output_type": "stream",
     "text": [
      "WARNING:absl:Found untraced functions such as lstm_cell_layer_call_and_return_conditional_losses, lstm_cell_layer_call_fn, lstm_cell_1_layer_call_and_return_conditional_losses, lstm_cell_1_layer_call_fn, lstm_cell_layer_call_fn while saving (showing 5 of 10). These functions will not be directly callable after loading.\n"
     ]
    },
    {
     "name": "stdout",
     "output_type": "stream",
     "text": [
      "INFO:tensorflow:Assets written to: s2s_LSTM_256TimeD_6\\assets\n"
     ]
    },
    {
     "name": "stderr",
     "output_type": "stream",
     "text": [
      "INFO:tensorflow:Assets written to: s2s_LSTM_256TimeD_6\\assets\n"
     ]
    },
    {
     "name": "stdout",
     "output_type": "stream",
     "text": [
      "Epoch 73/500\n",
      "781/781 [==============================] - 22s 28ms/step - loss: 5.5873e-05 - mse: 5.6699e-05 - val_loss: 4.0780e-05 - val_mse: 2.6960e-05\n",
      "Epoch 74/500\n",
      "781/781 [==============================] - 21s 27ms/step - loss: 5.4347e-05 - mse: 5.4602e-05 - val_loss: 3.8905e-05 - val_mse: 2.4139e-05\n"
     ]
    },
    {
     "name": "stderr",
     "output_type": "stream",
     "text": [
      "WARNING:absl:Found untraced functions such as lstm_cell_layer_call_and_return_conditional_losses, lstm_cell_layer_call_fn, lstm_cell_1_layer_call_and_return_conditional_losses, lstm_cell_1_layer_call_fn, lstm_cell_layer_call_fn while saving (showing 5 of 10). These functions will not be directly callable after loading.\n"
     ]
    },
    {
     "name": "stdout",
     "output_type": "stream",
     "text": [
      "INFO:tensorflow:Assets written to: s2s_LSTM_256TimeD_6\\assets\n"
     ]
    },
    {
     "name": "stderr",
     "output_type": "stream",
     "text": [
      "INFO:tensorflow:Assets written to: s2s_LSTM_256TimeD_6\\assets\n"
     ]
    },
    {
     "name": "stdout",
     "output_type": "stream",
     "text": [
      "Epoch 75/500\n",
      "781/781 [==============================] - 26s 33ms/step - loss: 5.3430e-05 - mse: 5.3719e-05 - val_loss: 4.1004e-05 - val_mse: 2.9293e-05\n",
      "Epoch 76/500\n",
      "781/781 [==============================] - 26s 33ms/step - loss: 5.4741e-05 - mse: 5.7282e-05 - val_loss: 3.9455e-05 - val_mse: 2.7085e-05\n",
      "Epoch 77/500\n",
      "781/781 [==============================] - 24s 30ms/step - loss: 5.0997e-05 - mse: 5.0645e-05 - val_loss: 3.7322e-05 - val_mse: 2.3687e-05\n"
     ]
    },
    {
     "name": "stderr",
     "output_type": "stream",
     "text": [
      "WARNING:absl:Found untraced functions such as lstm_cell_layer_call_and_return_conditional_losses, lstm_cell_layer_call_fn, lstm_cell_1_layer_call_and_return_conditional_losses, lstm_cell_1_layer_call_fn, lstm_cell_layer_call_fn while saving (showing 5 of 10). These functions will not be directly callable after loading.\n"
     ]
    },
    {
     "name": "stdout",
     "output_type": "stream",
     "text": [
      "INFO:tensorflow:Assets written to: s2s_LSTM_256TimeD_6\\assets\n"
     ]
    },
    {
     "name": "stderr",
     "output_type": "stream",
     "text": [
      "INFO:tensorflow:Assets written to: s2s_LSTM_256TimeD_6\\assets\n"
     ]
    },
    {
     "name": "stdout",
     "output_type": "stream",
     "text": [
      "Epoch 78/500\n",
      "781/781 [==============================] - 24s 30ms/step - loss: 5.2214e-05 - mse: 5.3999e-05 - val_loss: 3.9026e-05 - val_mse: 2.8031e-05\n",
      "Epoch 79/500\n",
      "781/781 [==============================] - 23s 29ms/step - loss: 5.2809e-05 - mse: 5.6047e-05 - val_loss: 3.6619e-05 - val_mse: 2.4028e-05\n"
     ]
    },
    {
     "name": "stderr",
     "output_type": "stream",
     "text": [
      "WARNING:absl:Found untraced functions such as lstm_cell_layer_call_and_return_conditional_losses, lstm_cell_layer_call_fn, lstm_cell_1_layer_call_and_return_conditional_losses, lstm_cell_1_layer_call_fn, lstm_cell_layer_call_fn while saving (showing 5 of 10). These functions will not be directly callable after loading.\n"
     ]
    },
    {
     "name": "stdout",
     "output_type": "stream",
     "text": [
      "INFO:tensorflow:Assets written to: s2s_LSTM_256TimeD_6\\assets\n"
     ]
    },
    {
     "name": "stderr",
     "output_type": "stream",
     "text": [
      "INFO:tensorflow:Assets written to: s2s_LSTM_256TimeD_6\\assets\n"
     ]
    },
    {
     "name": "stdout",
     "output_type": "stream",
     "text": [
      "Epoch 80/500\n",
      "781/781 [==============================] - 22s 28ms/step - loss: 4.9021e-05 - mse: 4.9266e-05 - val_loss: 3.7035e-05 - val_mse: 2.5704e-05\n",
      "Epoch 81/500\n",
      "781/781 [==============================] - 20s 26ms/step - loss: 5.1710e-05 - mse: 5.5496e-05 - val_loss: 3.8903e-05 - val_mse: 3.0263e-05\n",
      "Epoch 82/500\n",
      "781/781 [==============================] - 21s 27ms/step - loss: 4.9337e-05 - mse: 5.1507e-05 - val_loss: 3.6646e-05 - val_mse: 2.6487e-05\n",
      "Epoch 83/500\n",
      "781/781 [==============================] - 20s 26ms/step - loss: 4.8675e-05 - mse: 5.0952e-05 - val_loss: 3.4967e-05 - val_mse: 2.3880e-05\n"
     ]
    },
    {
     "name": "stderr",
     "output_type": "stream",
     "text": [
      "WARNING:absl:Found untraced functions such as lstm_cell_layer_call_and_return_conditional_losses, lstm_cell_layer_call_fn, lstm_cell_1_layer_call_and_return_conditional_losses, lstm_cell_1_layer_call_fn, lstm_cell_layer_call_fn while saving (showing 5 of 10). These functions will not be directly callable after loading.\n"
     ]
    },
    {
     "name": "stdout",
     "output_type": "stream",
     "text": [
      "INFO:tensorflow:Assets written to: s2s_LSTM_256TimeD_6\\assets\n"
     ]
    },
    {
     "name": "stderr",
     "output_type": "stream",
     "text": [
      "INFO:tensorflow:Assets written to: s2s_LSTM_256TimeD_6\\assets\n"
     ]
    },
    {
     "name": "stdout",
     "output_type": "stream",
     "text": [
      "Epoch 84/500\n",
      "781/781 [==============================] - 19s 25ms/step - loss: 4.9490e-05 - mse: 5.3341e-05 - val_loss: 3.7760e-05 - val_mse: 3.0142e-05\n",
      "Epoch 85/500\n",
      "781/781 [==============================] - 19s 25ms/step - loss: 4.7550e-05 - mse: 5.0152e-05 - val_loss: 5.1514e-05 - val_mse: 5.8283e-05\n",
      "Epoch 86/500\n",
      "781/781 [==============================] - 20s 25ms/step - loss: 4.6476e-05 - mse: 4.8698e-05 - val_loss: 8.8969e-05 - val_mse: 1.3383e-04\n",
      "Epoch 87/500\n",
      "781/781 [==============================] - 19s 25ms/step - loss: 4.8828e-05 - mse: 5.4111e-05 - val_loss: 1.4210e-04 - val_mse: 2.4070e-04\n",
      "Epoch 88/500\n",
      "781/781 [==============================] - 19s 25ms/step - loss: 4.6495e-05 - mse: 5.0054e-05 - val_loss: 1.3695e-04 - val_mse: 2.3099e-04\n",
      "Epoch 89/500\n",
      "781/781 [==============================] - 20s 25ms/step - loss: 4.3857e-05 - mse: 4.5392e-05 - val_loss: 1.7049e-04 - val_mse: 2.9870e-04\n",
      "Epoch 90/500\n",
      "781/781 [==============================] - 20s 25ms/step - loss: 4.8220e-05 - mse: 5.4801e-05 - val_loss: 1.9798e-04 - val_mse: 3.5430e-04\n",
      "Epoch 91/500\n",
      "781/781 [==============================] - 20s 26ms/step - loss: 4.6688e-05 - mse: 5.2300e-05 - val_loss: 1.0476e-04 - val_mse: 1.6848e-04\n",
      "Epoch 92/500\n",
      "781/781 [==============================] - 19s 25ms/step - loss: 4.1439e-05 - mse: 4.2337e-05 - val_loss: 5.7008e-05 - val_mse: 7.3630e-05\n",
      "Epoch 93/500\n",
      "781/781 [==============================] - 19s 24ms/step - loss: 4.5195e-05 - mse: 5.0486e-05 - val_loss: 4.9300e-05 - val_mse: 5.8864e-05\n",
      "Epoch 94/500\n",
      "781/781 [==============================] - 19s 25ms/step - loss: 4.6622e-05 - mse: 5.3907e-05 - val_loss: 3.3890e-05 - val_mse: 2.8617e-05\n"
     ]
    },
    {
     "name": "stderr",
     "output_type": "stream",
     "text": [
      "WARNING:absl:Found untraced functions such as lstm_cell_layer_call_and_return_conditional_losses, lstm_cell_layer_call_fn, lstm_cell_1_layer_call_and_return_conditional_losses, lstm_cell_1_layer_call_fn, lstm_cell_layer_call_fn while saving (showing 5 of 10). These functions will not be directly callable after loading.\n"
     ]
    },
    {
     "name": "stdout",
     "output_type": "stream",
     "text": [
      "INFO:tensorflow:Assets written to: s2s_LSTM_256TimeD_6\\assets\n"
     ]
    },
    {
     "name": "stderr",
     "output_type": "stream",
     "text": [
      "INFO:tensorflow:Assets written to: s2s_LSTM_256TimeD_6\\assets\n"
     ]
    },
    {
     "name": "stdout",
     "output_type": "stream",
     "text": [
      "Epoch 95/500\n",
      "781/781 [==============================] - 20s 25ms/step - loss: 4.1513e-05 - mse: 4.4182e-05 - val_loss: 3.2728e-05 - val_mse: 2.6876e-05\n"
     ]
    },
    {
     "name": "stderr",
     "output_type": "stream",
     "text": [
      "WARNING:absl:Found untraced functions such as lstm_cell_layer_call_and_return_conditional_losses, lstm_cell_layer_call_fn, lstm_cell_1_layer_call_and_return_conditional_losses, lstm_cell_1_layer_call_fn, lstm_cell_layer_call_fn while saving (showing 5 of 10). These functions will not be directly callable after loading.\n"
     ]
    },
    {
     "name": "stdout",
     "output_type": "stream",
     "text": [
      "INFO:tensorflow:Assets written to: s2s_LSTM_256TimeD_6\\assets\n"
     ]
    },
    {
     "name": "stderr",
     "output_type": "stream",
     "text": [
      "INFO:tensorflow:Assets written to: s2s_LSTM_256TimeD_6\\assets\n"
     ]
    },
    {
     "name": "stdout",
     "output_type": "stream",
     "text": [
      "Epoch 96/500\n",
      "781/781 [==============================] - 19s 25ms/step - loss: 4.2977e-05 - mse: 4.7671e-05 - val_loss: 4.9710e-05 - val_mse: 6.1482e-05\n",
      "Epoch 97/500\n",
      "781/781 [==============================] - 19s 25ms/step - loss: 4.4956e-05 - mse: 5.2177e-05 - val_loss: 6.0186e-05 - val_mse: 8.2957e-05\n",
      "Epoch 98/500\n",
      "781/781 [==============================] - 19s 24ms/step - loss: 4.0229e-05 - mse: 4.3190e-05 - val_loss: 7.2745e-05 - val_mse: 1.0858e-04\n",
      "Epoch 99/500\n",
      "781/781 [==============================] - 20s 25ms/step - loss: 4.2254e-05 - mse: 4.7774e-05 - val_loss: 1.0788e-04 - val_mse: 1.7946e-04\n",
      "Epoch 100/500\n",
      "781/781 [==============================] - 19s 24ms/step - loss: 4.3738e-05 - mse: 5.1255e-05 - val_loss: 1.0165e-04 - val_mse: 1.6746e-04\n",
      "Epoch 101/500\n",
      "781/781 [==============================] - 19s 24ms/step - loss: 3.8964e-05 - mse: 4.2139e-05 - val_loss: 7.0023e-05 - val_mse: 1.0460e-04\n",
      "Epoch 102/500\n",
      "781/781 [==============================] - 19s 25ms/step - loss: 4.1295e-05 - mse: 4.7310e-05 - val_loss: 7.0899e-05 - val_mse: 1.0689e-04\n",
      "Epoch 103/500\n",
      "781/781 [==============================] - 19s 24ms/step - loss: 4.3171e-05 - mse: 5.1539e-05 - val_loss: 5.1376e-05 - val_mse: 6.8222e-05\n",
      "Epoch 104/500\n",
      "781/781 [==============================] - 20s 25ms/step - loss: 3.7625e-05 - mse: 4.0831e-05 - val_loss: 2.7590e-05 - val_mse: 2.0966e-05\n"
     ]
    },
    {
     "name": "stderr",
     "output_type": "stream",
     "text": [
      "WARNING:absl:Found untraced functions such as lstm_cell_layer_call_and_return_conditional_losses, lstm_cell_layer_call_fn, lstm_cell_1_layer_call_and_return_conditional_losses, lstm_cell_1_layer_call_fn, lstm_cell_layer_call_fn while saving (showing 5 of 10). These functions will not be directly callable after loading.\n"
     ]
    },
    {
     "name": "stdout",
     "output_type": "stream",
     "text": [
      "INFO:tensorflow:Assets written to: s2s_LSTM_256TimeD_6\\assets\n"
     ]
    },
    {
     "name": "stderr",
     "output_type": "stream",
     "text": [
      "INFO:tensorflow:Assets written to: s2s_LSTM_256TimeD_6\\assets\n"
     ]
    },
    {
     "name": "stdout",
     "output_type": "stream",
     "text": [
      "Epoch 105/500\n",
      "781/781 [==============================] - 20s 25ms/step - loss: 3.8935e-05 - mse: 4.3913e-05 - val_loss: 3.3763e-05 - val_mse: 3.3773e-05\n",
      "Epoch 106/500\n",
      "781/781 [==============================] - 20s 25ms/step - loss: 4.1940e-05 - mse: 5.0382e-05 - val_loss: 4.0151e-05 - val_mse: 4.6927e-05\n",
      "Epoch 107/500\n",
      "781/781 [==============================] - 19s 25ms/step - loss: 3.8604e-05 - mse: 4.4080e-05 - val_loss: 5.2453e-05 - val_mse: 7.1853e-05\n",
      "Epoch 108/500\n",
      "781/781 [==============================] - 19s 25ms/step - loss: 3.7327e-05 - mse: 4.1916e-05 - val_loss: 7.2989e-05 - val_mse: 1.1332e-04\n",
      "Epoch 109/500\n",
      "781/781 [==============================] - 21s 26ms/step - loss: 4.0667e-05 - mse: 4.9022e-05 - val_loss: 8.6274e-05 - val_mse: 1.4029e-04\n",
      "Epoch 110/500\n",
      "781/781 [==============================] - 19s 25ms/step - loss: 3.9297e-05 - mse: 4.6643e-05 - val_loss: 7.1098e-05 - val_mse: 1.1026e-04\n",
      "Epoch 111/500\n",
      "781/781 [==============================] - 19s 25ms/step - loss: 3.5148e-05 - mse: 3.8686e-05 - val_loss: 4.6889e-05 - val_mse: 6.2259e-05\n",
      "Epoch 112/500\n",
      "781/781 [==============================] - 20s 26ms/step - loss: 3.8429e-05 - mse: 4.5668e-05 - val_loss: 3.8251e-05 - val_mse: 4.5406e-05\n",
      "Epoch 113/500\n",
      "781/781 [==============================] - 19s 25ms/step - loss: 4.0724e-05 - mse: 5.0633e-05 - val_loss: 4.0572e-05 - val_mse: 5.0387e-05\n",
      "Epoch 114/500\n",
      "781/781 [==============================] - 19s 25ms/step - loss: 3.4258e-05 - mse: 3.8005e-05 - val_loss: 2.5904e-05 - val_mse: 2.1436e-05\n"
     ]
    },
    {
     "name": "stderr",
     "output_type": "stream",
     "text": [
      "WARNING:absl:Found untraced functions such as lstm_cell_layer_call_and_return_conditional_losses, lstm_cell_layer_call_fn, lstm_cell_1_layer_call_and_return_conditional_losses, lstm_cell_1_layer_call_fn, lstm_cell_layer_call_fn while saving (showing 5 of 10). These functions will not be directly callable after loading.\n"
     ]
    },
    {
     "name": "stdout",
     "output_type": "stream",
     "text": [
      "INFO:tensorflow:Assets written to: s2s_LSTM_256TimeD_6\\assets\n"
     ]
    },
    {
     "name": "stderr",
     "output_type": "stream",
     "text": [
      "INFO:tensorflow:Assets written to: s2s_LSTM_256TimeD_6\\assets\n"
     ]
    },
    {
     "name": "stdout",
     "output_type": "stream",
     "text": [
      "Epoch 115/500\n",
      "781/781 [==============================] - 19s 25ms/step - loss: 3.5876e-05 - mse: 4.1628e-05 - val_loss: 3.2299e-05 - val_mse: 3.4642e-05\n",
      "Epoch 116/500\n",
      "781/781 [==============================] - 19s 25ms/step - loss: 3.9421e-05 - mse: 4.9103e-05 - val_loss: 3.2379e-05 - val_mse: 3.5138e-05\n",
      "Epoch 117/500\n",
      "781/781 [==============================] - 19s 25ms/step - loss: 3.5691e-05 - mse: 4.1942e-05 - val_loss: 2.8208e-05 - val_mse: 2.7129e-05\n",
      "Epoch 118/500\n",
      "781/781 [==============================] - 19s 24ms/step - loss: 3.2958e-05 - mse: 3.6799e-05 - val_loss: 2.8223e-05 - val_mse: 2.7504e-05\n",
      "Epoch 119/500\n",
      "781/781 [==============================] - 19s 24ms/step - loss: 3.6709e-05 - mse: 4.4693e-05 - val_loss: 2.7165e-05 - val_mse: 2.5689e-05\n",
      "Epoch 120/500\n",
      "781/781 [==============================] - 19s 24ms/step - loss: 3.7619e-05 - mse: 4.6845e-05 - val_loss: 2.6095e-05 - val_mse: 2.3889e-05\n",
      "Epoch 121/500\n",
      "781/781 [==============================] - 19s 25ms/step - loss: 3.2422e-05 - mse: 3.6719e-05 - val_loss: 2.6484e-05 - val_mse: 2.4945e-05\n",
      "Epoch 122/500\n",
      "781/781 [==============================] - 20s 25ms/step - loss: 3.4092e-05 - mse: 4.0395e-05 - val_loss: 5.7596e-05 - val_mse: 8.7469e-05\n",
      "Epoch 123/500\n",
      "781/781 [==============================] - 19s 25ms/step - loss: 3.7875e-05 - mse: 4.8300e-05 - val_loss: 4.9631e-05 - val_mse: 7.1829e-05\n",
      "Epoch 124/500\n",
      "781/781 [==============================] - 19s 25ms/step - loss: 3.2787e-05 - mse: 3.8366e-05 - val_loss: 5.1766e-05 - val_mse: 7.6352e-05\n",
      "Epoch 125/500\n",
      "781/781 [==============================] - 19s 25ms/step - loss: 3.2824e-05 - mse: 3.8729e-05 - val_loss: 7.5779e-05 - val_mse: 1.2467e-04\n",
      "Epoch 126/500\n",
      "781/781 [==============================] - 20s 25ms/step - loss: 3.5723e-05 - mse: 4.4842e-05 - val_loss: 7.8931e-05 - val_mse: 1.3126e-04\n",
      "Epoch 127/500\n",
      "781/781 [==============================] - 20s 25ms/step - loss: 3.5435e-05 - mse: 4.4525e-05 - val_loss: 7.0015e-05 - val_mse: 1.1366e-04\n",
      "Epoch 128/500\n",
      "781/781 [==============================] - 19s 25ms/step - loss: 3.0855e-05 - mse: 3.5579e-05 - val_loss: 4.8725e-05 - val_mse: 7.1359e-05\n",
      "Epoch 129/500\n",
      "781/781 [==============================] - 21s 26ms/step - loss: 3.3722e-05 - mse: 4.1606e-05 - val_loss: 3.8351e-05 - val_mse: 5.0939e-05\n",
      "Epoch 130/500\n",
      "781/781 [==============================] - 20s 26ms/step - loss: 3.5339e-05 - mse: 4.5105e-05 - val_loss: 3.4258e-05 - val_mse: 4.2992e-05\n",
      "Epoch 131/500\n",
      "781/781 [==============================] - 19s 25ms/step - loss: 3.2076e-05 - mse: 3.8792e-05 - val_loss: 2.7341e-05 - val_mse: 2.9390e-05\n",
      "Epoch 132/500\n",
      "781/781 [==============================] - 19s 24ms/step - loss: 3.1425e-05 - mse: 3.7728e-05 - val_loss: 2.5481e-05 - val_mse: 2.5973e-05\n"
     ]
    },
    {
     "name": "stderr",
     "output_type": "stream",
     "text": [
      "WARNING:absl:Found untraced functions such as lstm_cell_layer_call_and_return_conditional_losses, lstm_cell_layer_call_fn, lstm_cell_1_layer_call_and_return_conditional_losses, lstm_cell_1_layer_call_fn, lstm_cell_layer_call_fn while saving (showing 5 of 10). These functions will not be directly callable after loading.\n"
     ]
    },
    {
     "name": "stdout",
     "output_type": "stream",
     "text": [
      "INFO:tensorflow:Assets written to: s2s_LSTM_256TimeD_6\\assets\n"
     ]
    },
    {
     "name": "stderr",
     "output_type": "stream",
     "text": [
      "INFO:tensorflow:Assets written to: s2s_LSTM_256TimeD_6\\assets\n"
     ]
    },
    {
     "name": "stdout",
     "output_type": "stream",
     "text": [
      "Epoch 133/500\n",
      "781/781 [==============================] - 20s 26ms/step - loss: 3.4607e-05 - mse: 4.4364e-05 - val_loss: 2.5925e-05 - val_mse: 2.7117e-05\n",
      "Epoch 134/500\n",
      "781/781 [==============================] - 19s 24ms/step - loss: 3.2337e-05 - mse: 4.0036e-05 - val_loss: 2.4448e-05 - val_mse: 2.4357e-05\n"
     ]
    },
    {
     "name": "stderr",
     "output_type": "stream",
     "text": [
      "WARNING:absl:Found untraced functions such as lstm_cell_layer_call_and_return_conditional_losses, lstm_cell_layer_call_fn, lstm_cell_1_layer_call_and_return_conditional_losses, lstm_cell_1_layer_call_fn, lstm_cell_layer_call_fn while saving (showing 5 of 10). These functions will not be directly callable after loading.\n"
     ]
    },
    {
     "name": "stdout",
     "output_type": "stream",
     "text": [
      "INFO:tensorflow:Assets written to: s2s_LSTM_256TimeD_6\\assets\n"
     ]
    },
    {
     "name": "stderr",
     "output_type": "stream",
     "text": [
      "INFO:tensorflow:Assets written to: s2s_LSTM_256TimeD_6\\assets\n"
     ]
    },
    {
     "name": "stdout",
     "output_type": "stream",
     "text": [
      "Epoch 135/500\n",
      "781/781 [==============================] - 20s 26ms/step - loss: 3.0588e-05 - mse: 3.6750e-05 - val_loss: 2.5173e-05 - val_mse: 2.6049e-05\n",
      "Epoch 136/500\n",
      "781/781 [==============================] - 20s 26ms/step - loss: 3.3974e-05 - mse: 4.3788e-05 - val_loss: 2.5778e-05 - val_mse: 2.7483e-05\n",
      "Epoch 137/500\n",
      "781/781 [==============================] - 20s 26ms/step - loss: 3.2046e-05 - mse: 4.0123e-05 - val_loss: 2.4268e-05 - val_mse: 2.4617e-05\n"
     ]
    },
    {
     "name": "stderr",
     "output_type": "stream",
     "text": [
      "WARNING:absl:Found untraced functions such as lstm_cell_layer_call_and_return_conditional_losses, lstm_cell_layer_call_fn, lstm_cell_1_layer_call_and_return_conditional_losses, lstm_cell_1_layer_call_fn, lstm_cell_layer_call_fn while saving (showing 5 of 10). These functions will not be directly callable after loading.\n"
     ]
    },
    {
     "name": "stdout",
     "output_type": "stream",
     "text": [
      "INFO:tensorflow:Assets written to: s2s_LSTM_256TimeD_6\\assets\n"
     ]
    },
    {
     "name": "stderr",
     "output_type": "stream",
     "text": [
      "INFO:tensorflow:Assets written to: s2s_LSTM_256TimeD_6\\assets\n"
     ]
    },
    {
     "name": "stdout",
     "output_type": "stream",
     "text": [
      "Epoch 138/500\n",
      "781/781 [==============================] - 20s 26ms/step - loss: 2.9600e-05 - mse: 3.5427e-05 - val_loss: 4.5124e-05 - val_mse: 6.6507e-05\n",
      "Epoch 139/500\n",
      "781/781 [==============================] - 19s 25ms/step - loss: 3.2617e-05 - mse: 4.1710e-05 - val_loss: 5.9120e-05 - val_mse: 9.4704e-05\n",
      "Epoch 140/500\n",
      "781/781 [==============================] - 20s 25ms/step - loss: 3.2797e-05 - mse: 4.2264e-05 - val_loss: 5.2181e-05 - val_mse: 8.1003e-05\n",
      "Epoch 141/500\n",
      "781/781 [==============================] - 19s 25ms/step - loss: 2.9112e-05 - mse: 3.5061e-05 - val_loss: 5.2008e-05 - val_mse: 8.0839e-05\n",
      "Epoch 142/500\n",
      "781/781 [==============================] - 19s 25ms/step - loss: 3.0363e-05 - mse: 3.7789e-05 - val_loss: 6.7843e-05 - val_mse: 1.1275e-04\n",
      "Epoch 143/500\n",
      "781/781 [==============================] - 19s 25ms/step - loss: 3.2926e-05 - mse: 4.3135e-05 - val_loss: 5.4938e-05 - val_mse: 8.7108e-05\n",
      "Epoch 144/500\n",
      "781/781 [==============================] - 20s 25ms/step - loss: 3.0154e-05 - mse: 3.7746e-05 - val_loss: 3.7172e-05 - val_mse: 5.1787e-05\n",
      "Epoch 145/500\n",
      "781/781 [==============================] - 20s 25ms/step - loss: 2.9261e-05 - mse: 3.6161e-05 - val_loss: 3.2250e-05 - val_mse: 4.2191e-05\n",
      "Epoch 146/500\n",
      "781/781 [==============================] - 19s 25ms/step - loss: 3.2356e-05 - mse: 4.2567e-05 - val_loss: 2.9689e-05 - val_mse: 3.7249e-05\n",
      "Epoch 147/500\n",
      "781/781 [==============================] - 19s 25ms/step - loss: 2.9545e-05 - mse: 3.7102e-05 - val_loss: 2.1595e-05 - val_mse: 2.1238e-05\n"
     ]
    },
    {
     "name": "stderr",
     "output_type": "stream",
     "text": [
      "WARNING:absl:Found untraced functions such as lstm_cell_layer_call_and_return_conditional_losses, lstm_cell_layer_call_fn, lstm_cell_1_layer_call_and_return_conditional_losses, lstm_cell_1_layer_call_fn, lstm_cell_layer_call_fn while saving (showing 5 of 10). These functions will not be directly callable after loading.\n"
     ]
    },
    {
     "name": "stdout",
     "output_type": "stream",
     "text": [
      "INFO:tensorflow:Assets written to: s2s_LSTM_256TimeD_6\\assets\n"
     ]
    },
    {
     "name": "stderr",
     "output_type": "stream",
     "text": [
      "INFO:tensorflow:Assets written to: s2s_LSTM_256TimeD_6\\assets\n"
     ]
    },
    {
     "name": "stdout",
     "output_type": "stream",
     "text": [
      "Epoch 148/500\n",
      "781/781 [==============================] - 22s 28ms/step - loss: 2.8162e-05 - mse: 3.4521e-05 - val_loss: 2.3764e-05 - val_mse: 2.5846e-05\n",
      "Epoch 149/500\n",
      "781/781 [==============================] - 24s 31ms/step - loss: 3.2242e-05 - mse: 4.2909e-05 - val_loss: 2.5998e-05 - val_mse: 3.0510e-05\n",
      "Epoch 150/500\n",
      "781/781 [==============================] - 20s 26ms/step - loss: 2.9519e-05 - mse: 3.7616e-05 - val_loss: 2.3281e-05 - val_mse: 2.5209e-05\n",
      "Epoch 151/500\n",
      "781/781 [==============================] - 21s 26ms/step - loss: 2.7195e-05 - mse: 3.3138e-05 - val_loss: 3.0563e-05 - val_mse: 4.0025e-05\n",
      "Epoch 152/500\n",
      "781/781 [==============================] - 20s 26ms/step - loss: 3.1456e-05 - mse: 4.1884e-05 - val_loss: 2.6904e-05 - val_mse: 3.2870e-05\n",
      "Epoch 153/500\n",
      "781/781 [==============================] - 21s 26ms/step - loss: 2.9224e-05 - mse: 3.7567e-05 - val_loss: 2.0663e-05 - val_mse: 2.0495e-05\n"
     ]
    },
    {
     "name": "stderr",
     "output_type": "stream",
     "text": [
      "WARNING:absl:Found untraced functions such as lstm_cell_layer_call_and_return_conditional_losses, lstm_cell_layer_call_fn, lstm_cell_1_layer_call_and_return_conditional_losses, lstm_cell_1_layer_call_fn, lstm_cell_layer_call_fn while saving (showing 5 of 10). These functions will not be directly callable after loading.\n"
     ]
    },
    {
     "name": "stdout",
     "output_type": "stream",
     "text": [
      "INFO:tensorflow:Assets written to: s2s_LSTM_256TimeD_6\\assets\n"
     ]
    },
    {
     "name": "stderr",
     "output_type": "stream",
     "text": [
      "INFO:tensorflow:Assets written to: s2s_LSTM_256TimeD_6\\assets\n"
     ]
    },
    {
     "name": "stdout",
     "output_type": "stream",
     "text": [
      "Epoch 154/500\n",
      "781/781 [==============================] - 20s 25ms/step - loss: 2.7335e-05 - mse: 3.3957e-05 - val_loss: 2.7093e-05 - val_mse: 3.3524e-05\n",
      "Epoch 155/500\n",
      "781/781 [==============================] - 20s 25ms/step - loss: 3.0369e-05 - mse: 4.0245e-05 - val_loss: 3.7474e-05 - val_mse: 5.4445e-05\n",
      "Epoch 156/500\n",
      "781/781 [==============================] - 20s 26ms/step - loss: 2.8664e-05 - mse: 3.6990e-05 - val_loss: 5.2228e-05 - val_mse: 8.4065e-05\n",
      "Epoch 157/500\n",
      "781/781 [==============================] - 19s 25ms/step - loss: 2.7668e-05 - mse: 3.5174e-05 - val_loss: 1.0221e-04 - val_mse: 1.8418e-04\n",
      "Epoch 158/500\n",
      "781/781 [==============================] - 20s 25ms/step - loss: 2.9579e-05 - mse: 3.9192e-05 - val_loss: 1.1449e-04 - val_mse: 2.0890e-04\n",
      "Epoch 159/500\n",
      "781/781 [==============================] - 19s 25ms/step - loss: 2.8086e-05 - mse: 3.6371e-05 - val_loss: 9.5962e-05 - val_mse: 1.7202e-04\n",
      "Epoch 160/500\n",
      "781/781 [==============================] - 19s 25ms/step - loss: 2.7423e-05 - mse: 3.5219e-05 - val_loss: 1.0845e-04 - val_mse: 1.9721e-04\n",
      "Epoch 161/500\n",
      "781/781 [==============================] - 20s 25ms/step - loss: 2.9283e-05 - mse: 3.9132e-05 - val_loss: 9.0060e-05 - val_mse: 1.6061e-04\n",
      "Epoch 162/500\n",
      "781/781 [==============================] - 20s 25ms/step - loss: 2.7362e-05 - mse: 3.5442e-05 - val_loss: 5.7478e-05 - val_mse: 9.5636e-05\n",
      "Epoch 163/500\n",
      "781/781 [==============================] - 19s 25ms/step - loss: 2.7280e-05 - mse: 3.5448e-05 - val_loss: 5.9251e-05 - val_mse: 9.9365e-05\n",
      "Epoch 164/500\n",
      "781/781 [==============================] - 19s 25ms/step - loss: 2.8738e-05 - mse: 3.8532e-05 - val_loss: 4.7355e-05 - val_mse: 7.5740e-05\n",
      "Epoch 165/500\n",
      "781/781 [==============================] - 20s 25ms/step - loss: 2.6797e-05 - mse: 3.4805e-05 - val_loss: 4.7606e-05 - val_mse: 7.6400e-05\n",
      "Epoch 166/500\n",
      "781/781 [==============================] - 20s 26ms/step - loss: 2.7310e-05 - mse: 3.5998e-05 - val_loss: 6.4873e-05 - val_mse: 1.1108e-04\n",
      "Epoch 167/500\n",
      "781/781 [==============================] - 20s 25ms/step - loss: 2.8131e-05 - mse: 3.7803e-05 - val_loss: 7.4773e-05 - val_mse: 1.3101e-04\n",
      "Epoch 168/500\n",
      "781/781 [==============================] - 20s 25ms/step - loss: 2.6575e-05 - mse: 3.4832e-05 - val_loss: 9.0193e-05 - val_mse: 1.6198e-04\n",
      "Epoch 169/500\n",
      "781/781 [==============================] - 20s 25ms/step - loss: 2.7283e-05 - mse: 3.6399e-05 - val_loss: 1.1218e-04 - val_mse: 2.0610e-04\n",
      "Epoch 170/500\n",
      "781/781 [==============================] - 19s 25ms/step - loss: 2.7148e-05 - mse: 3.6276e-05 - val_loss: 9.2482e-05 - val_mse: 1.6686e-04\n",
      "Epoch 171/500\n",
      "781/781 [==============================] - 20s 25ms/step - loss: 2.6821e-05 - mse: 3.5763e-05 - val_loss: 8.1770e-05 - val_mse: 1.4560e-04\n",
      "Epoch 172/500\n",
      "781/781 [==============================] - 20s 25ms/step - loss: 2.7287e-05 - mse: 3.6835e-05 - val_loss: 5.6848e-05 - val_mse: 9.5915e-05\n",
      "Epoch 173/500\n",
      "781/781 [==============================] - 20s 26ms/step - loss: 2.5974e-05 - mse: 3.4349e-05 - val_loss: 3.9631e-05 - val_mse: 6.1662e-05\n",
      "Epoch 174/500\n",
      "781/781 [==============================] - 19s 25ms/step - loss: 2.6512e-05 - mse: 3.5565e-05 - val_loss: 3.1751e-05 - val_mse: 4.6054e-05\n",
      "Epoch 175/500\n",
      "781/781 [==============================] - 20s 25ms/step - loss: 2.7379e-05 - mse: 3.7426e-05 - val_loss: 2.6192e-05 - val_mse: 3.5066e-05\n",
      "Epoch 176/500\n",
      "781/781 [==============================] - 21s 26ms/step - loss: 2.5944e-05 - mse: 3.4661e-05 - val_loss: 2.2467e-05 - val_mse: 2.7729e-05\n",
      "Epoch 177/500\n",
      "781/781 [==============================] - 20s 25ms/step - loss: 2.6139e-05 - mse: 3.5165e-05 - val_loss: 2.3276e-05 - val_mse: 2.9467e-05\n",
      "Epoch 178/500\n",
      "781/781 [==============================] - 19s 25ms/step - loss: 2.6325e-05 - mse: 3.5651e-05 - val_loss: 2.3710e-05 - val_mse: 3.0441e-05\n",
      "Epoch 179/500\n",
      "781/781 [==============================] - 20s 25ms/step - loss: 2.5611e-05 - mse: 3.4334e-05 - val_loss: 3.1206e-05 - val_mse: 4.5531e-05\n",
      "Epoch 180/500\n",
      "781/781 [==============================] - 20s 26ms/step - loss: 2.6622e-05 - mse: 3.6470e-05 - val_loss: 3.4994e-05 - val_mse: 5.3208e-05\n",
      "Epoch 181/500\n",
      "781/781 [==============================] - 20s 26ms/step - loss: 2.5239e-05 - mse: 3.3810e-05 - val_loss: 4.7806e-05 - val_mse: 7.8917e-05\n",
      "Epoch 182/500\n",
      "781/781 [==============================] - 19s 25ms/step - loss: 2.6767e-05 - mse: 3.6971e-05 - val_loss: 5.0330e-05 - val_mse: 8.4059e-05\n",
      "Epoch 183/500\n",
      "781/781 [==============================] - 19s 25ms/step - loss: 2.5242e-05 - mse: 3.4016e-05 - val_loss: 4.6622e-05 - val_mse: 7.6734e-05\n",
      "Epoch 184/500\n",
      "781/781 [==============================] - 19s 25ms/step - loss: 2.5749e-05 - mse: 3.5134e-05 - val_loss: 5.3426e-05 - val_mse: 9.0453e-05\n",
      "Epoch 185/500\n",
      "781/781 [==============================] - 19s 25ms/step - loss: 2.5899e-05 - mse: 3.5538e-05 - val_loss: 3.7289e-05 - val_mse: 5.8301e-05\n",
      "CPU times: total: 1h 37min 58s\n",
      "Wall time: 1h 16min 43s\n"
     ]
    },
    {
     "data": {
      "text/plain": [
       "<keras.callbacks.History at 0x1f4d6980eb0>"
      ]
     },
     "execution_count": 55,
     "metadata": {},
     "output_type": "execute_result"
    }
   ],
   "source": [
    "%%time\n",
    "\n",
    "\n",
    "#________________________________ LSTM\n",
    "\n",
    "name_model = \"s2s_LSTM_256TimeD_6\"\n",
    "\n",
    "keras.backend.clear_session()\n",
    "\n",
    "# Definir hiperparâmetros\n",
    "learning_rate = 0.0001\n",
    "l2_reg = 0.00001\n",
    "dropout_rate = 0.001\n",
    "func_act='sigmoid'\n",
    "\n",
    "batch_size = 128\n",
    "window_size = 32\n",
    "num_inputs  = train.shape[1]\n",
    "num_targets = 3\n",
    "stride = 3\n",
    "sampling_rate=1\n",
    "\n",
    "\n",
    "\n",
    "# Definir a entrada da rede\n",
    "inputs = keras.layers.Input(shape=[None, num_inputs])\n",
    "\n",
    "# LSTM\n",
    "reshaped_inputs = keras.layers.Reshape((-1, num_inputs))(inputs)\n",
    "lstm = keras.layers.LSTM(375, return_sequences=True, kernel_regularizer=keras.regularizers.L2(l2_reg))(reshaped_inputs)\n",
    "#lstm = keras.layers.LSTM(160, return_sequences=True, kernel_regularizer=keras.regularizers.L2(l2_reg))(lstm)\n",
    "lstm = keras.layers.Dropout(rate=dropout_rate)(lstm)\n",
    "#lstm = keras.layers.LSTM(160, return_sequences=True, kernel_regularizer=keras.regularizers.L2(l2_reg))(lstm)\n",
    "#lstm = keras.layers.LSTM(160, return_sequences=True, kernel_regularizer=keras.regularizers.L2(l2_reg))(lstm)\n",
    "#lstm = keras.layers.Dropout(rate=dropout_rate)(lstm)\n",
    "#lstm = keras.layers.LSTM(256, return_sequences=True, kernel_regularizer=keras.regularizers.L2(l2_reg))(lstm)\n",
    "#lstm = keras.layers.LSTM(256, return_sequences=True, kernel_regularizer=keras.regularizers.L2(l2_reg))(lstm)\n",
    "#lstm = keras.layers.Dropout(rate=dropout_rate)(lstm)\n",
    "\n",
    "# TimeDistributed Dense\n",
    "timed = keras.layers.TimeDistributed(keras.layers.Dense(75))(lstm)\n",
    "timed = keras.layers.TimeDistributed(keras.layers.Dropout(rate=dropout_rate))(timed)\n",
    "\n",
    "\n",
    "# LSTM\n",
    "lstm = keras.layers.LSTM(15, return_sequences=False, kernel_regularizer=keras.regularizers.L2(l2_reg))(timed)\n",
    "output_lstm = keras.layers.Dense(num_targets)(lstm)\n",
    "\n",
    "\n",
    "# Definir o modelo com a entrada e saída\n",
    "model = keras.models.Model(inputs=inputs, outputs=output_lstm)\n",
    "\n",
    "# Definir o otimizador com taxa de aprendizado definida\n",
    "optimizer = keras.optimizers.Adam(learning_rate=learning_rate)\n",
    "\n",
    "\n",
    "# Compilar o modelo com a função de perda, otimizador e métrica desejados\n",
    "model.compile(loss=keras.losses.logcosh, optimizer=optimizer, metrics=[\"mse\"])\n",
    "\n",
    "# Adicionar callbacks para o modelo\n",
    "model_checkpoint = keras.callbacks.ModelCheckpoint(name_model, save_best_only=True)\n",
    "early_stopping = keras.callbacks.EarlyStopping(patience=32)\n",
    "\n",
    "# Treinar o modelo\n",
    "model.fit(train_set,\n",
    "          steps_per_epoch= len(train)//batch_size,\n",
    "          epochs=500,\n",
    "          validation_data=valid_set,\n",
    "          validation_steps=len(valid)//batch_size,\n",
    "          callbacks=[early_stopping,\n",
    "                     model_checkpoint])"
   ]
  },
  {
   "cell_type": "code",
   "execution_count": 56,
   "id": "8fd12086",
   "metadata": {},
   "outputs": [
    {
     "data": {
      "text/plain": [
       "'s2s_LSTM_256TimeD_6'"
      ]
     },
     "execution_count": 56,
     "metadata": {},
     "output_type": "execute_result"
    }
   ],
   "source": [
    "name_model"
   ]
  },
  {
   "cell_type": "code",
   "execution_count": 57,
   "id": "932d898e",
   "metadata": {},
   "outputs": [
    {
     "name": "stdout",
     "output_type": "stream",
     "text": [
      "160/160 [==============================] - 3s 15ms/step - loss: 6.0235e-05 - mse: 1.0420e-04\n"
     ]
    }
   ],
   "source": [
    "loss, metric = model.evaluate(test_set, steps=len(test)//batch_size)"
   ]
  },
  {
   "cell_type": "code",
   "execution_count": 58,
   "id": "90281d6f",
   "metadata": {},
   "outputs": [],
   "source": [
    "model = keras.models.load_model(name_model)"
   ]
  },
  {
   "cell_type": "code",
   "execution_count": 59,
   "id": "2f9fae71",
   "metadata": {},
   "outputs": [
    {
     "name": "stdout",
     "output_type": "stream",
     "text": [
      "160/160 [==============================] - 12s 16ms/step - loss: 3.0426e-05 - mse: 4.0030e-05\n"
     ]
    }
   ],
   "source": [
    "loss, metric = model.evaluate(test_set, steps=len(test)//batch_size)"
   ]
  },
  {
   "cell_type": "code",
   "execution_count": null,
   "id": "773ac795",
   "metadata": {},
   "outputs": [],
   "source": []
  },
  {
   "cell_type": "code",
   "execution_count": 32,
   "id": "31a3eaec",
   "metadata": {
    "scrolled": true
   },
   "outputs": [
    {
     "name": "stdout",
     "output_type": "stream",
     "text": [
      "Epoch 1/500\n",
      "781/781 [==============================] - 32s 36ms/step - loss: 0.0057 - mse: 0.0015 - val_loss: 0.0034 - val_mse: 2.1688e-04\n"
     ]
    },
    {
     "name": "stderr",
     "output_type": "stream",
     "text": [
      "WARNING:absl:Found untraced functions such as lstm_cell_5_layer_call_and_return_conditional_losses, lstm_cell_5_layer_call_fn, lstm_cell_6_layer_call_and_return_conditional_losses, lstm_cell_6_layer_call_fn, lstm_cell_5_layer_call_fn while saving (showing 5 of 10). These functions will not be directly callable after loading.\n"
     ]
    },
    {
     "name": "stdout",
     "output_type": "stream",
     "text": [
      "INFO:tensorflow:Assets written to: s2s_LSTM_256TimeD_43\\assets\n"
     ]
    },
    {
     "name": "stderr",
     "output_type": "stream",
     "text": [
      "INFO:tensorflow:Assets written to: s2s_LSTM_256TimeD_43\\assets\n"
     ]
    },
    {
     "name": "stdout",
     "output_type": "stream",
     "text": [
      "Epoch 2/500\n",
      "781/781 [==============================] - 28s 35ms/step - loss: 0.0027 - mse: 3.3420e-04 - val_loss: 0.0022 - val_mse: 3.1777e-04\n"
     ]
    },
    {
     "name": "stderr",
     "output_type": "stream",
     "text": [
      "WARNING:absl:Found untraced functions such as lstm_cell_5_layer_call_and_return_conditional_losses, lstm_cell_5_layer_call_fn, lstm_cell_6_layer_call_and_return_conditional_losses, lstm_cell_6_layer_call_fn, lstm_cell_5_layer_call_fn while saving (showing 5 of 10). These functions will not be directly callable after loading.\n"
     ]
    },
    {
     "name": "stdout",
     "output_type": "stream",
     "text": [
      "INFO:tensorflow:Assets written to: s2s_LSTM_256TimeD_43\\assets\n"
     ]
    },
    {
     "name": "stderr",
     "output_type": "stream",
     "text": [
      "INFO:tensorflow:Assets written to: s2s_LSTM_256TimeD_43\\assets\n"
     ]
    },
    {
     "name": "stdout",
     "output_type": "stream",
     "text": [
      "Epoch 3/500\n",
      "781/781 [==============================] - 29s 37ms/step - loss: 0.0021 - mse: 6.3795e-04 - val_loss: 0.0020 - val_mse: 8.2754e-04\n"
     ]
    },
    {
     "name": "stderr",
     "output_type": "stream",
     "text": [
      "WARNING:absl:Found untraced functions such as lstm_cell_5_layer_call_and_return_conditional_losses, lstm_cell_5_layer_call_fn, lstm_cell_6_layer_call_and_return_conditional_losses, lstm_cell_6_layer_call_fn, lstm_cell_5_layer_call_fn while saving (showing 5 of 10). These functions will not be directly callable after loading.\n"
     ]
    },
    {
     "name": "stdout",
     "output_type": "stream",
     "text": [
      "INFO:tensorflow:Assets written to: s2s_LSTM_256TimeD_43\\assets\n"
     ]
    },
    {
     "name": "stderr",
     "output_type": "stream",
     "text": [
      "INFO:tensorflow:Assets written to: s2s_LSTM_256TimeD_43\\assets\n"
     ]
    },
    {
     "name": "stdout",
     "output_type": "stream",
     "text": [
      "Epoch 4/500\n",
      "781/781 [==============================] - 29s 36ms/step - loss: 0.0021 - mse: 0.0015 - val_loss: 0.0018 - val_mse: 0.0011\n"
     ]
    },
    {
     "name": "stderr",
     "output_type": "stream",
     "text": [
      "WARNING:absl:Found untraced functions such as lstm_cell_5_layer_call_and_return_conditional_losses, lstm_cell_5_layer_call_fn, lstm_cell_6_layer_call_and_return_conditional_losses, lstm_cell_6_layer_call_fn, lstm_cell_5_layer_call_fn while saving (showing 5 of 10). These functions will not be directly callable after loading.\n"
     ]
    },
    {
     "name": "stdout",
     "output_type": "stream",
     "text": [
      "INFO:tensorflow:Assets written to: s2s_LSTM_256TimeD_43\\assets\n"
     ]
    },
    {
     "name": "stderr",
     "output_type": "stream",
     "text": [
      "INFO:tensorflow:Assets written to: s2s_LSTM_256TimeD_43\\assets\n"
     ]
    },
    {
     "name": "stdout",
     "output_type": "stream",
     "text": [
      "Epoch 5/500\n",
      "781/781 [==============================] - 29s 36ms/step - loss: 0.0020 - mse: 0.0018 - val_loss: 0.0015 - val_mse: 9.6027e-04\n"
     ]
    },
    {
     "name": "stderr",
     "output_type": "stream",
     "text": [
      "WARNING:absl:Found untraced functions such as lstm_cell_5_layer_call_and_return_conditional_losses, lstm_cell_5_layer_call_fn, lstm_cell_6_layer_call_and_return_conditional_losses, lstm_cell_6_layer_call_fn, lstm_cell_5_layer_call_fn while saving (showing 5 of 10). These functions will not be directly callable after loading.\n"
     ]
    },
    {
     "name": "stdout",
     "output_type": "stream",
     "text": [
      "INFO:tensorflow:Assets written to: s2s_LSTM_256TimeD_43\\assets\n"
     ]
    },
    {
     "name": "stderr",
     "output_type": "stream",
     "text": [
      "INFO:tensorflow:Assets written to: s2s_LSTM_256TimeD_43\\assets\n"
     ]
    },
    {
     "name": "stdout",
     "output_type": "stream",
     "text": [
      "Epoch 6/500\n",
      "781/781 [==============================] - 29s 37ms/step - loss: 0.0015 - mse: 0.0012 - val_loss: 0.0012 - val_mse: 6.2605e-04\n"
     ]
    },
    {
     "name": "stderr",
     "output_type": "stream",
     "text": [
      "WARNING:absl:Found untraced functions such as lstm_cell_5_layer_call_and_return_conditional_losses, lstm_cell_5_layer_call_fn, lstm_cell_6_layer_call_and_return_conditional_losses, lstm_cell_6_layer_call_fn, lstm_cell_5_layer_call_fn while saving (showing 5 of 10). These functions will not be directly callable after loading.\n"
     ]
    },
    {
     "name": "stdout",
     "output_type": "stream",
     "text": [
      "INFO:tensorflow:Assets written to: s2s_LSTM_256TimeD_43\\assets\n"
     ]
    },
    {
     "name": "stderr",
     "output_type": "stream",
     "text": [
      "INFO:tensorflow:Assets written to: s2s_LSTM_256TimeD_43\\assets\n"
     ]
    },
    {
     "name": "stdout",
     "output_type": "stream",
     "text": [
      "Epoch 7/500\n",
      "781/781 [==============================] - 29s 36ms/step - loss: 0.0011 - mse: 7.3380e-04 - val_loss: 9.2516e-04 - val_mse: 5.1322e-04\n"
     ]
    },
    {
     "name": "stderr",
     "output_type": "stream",
     "text": [
      "WARNING:absl:Found untraced functions such as lstm_cell_5_layer_call_and_return_conditional_losses, lstm_cell_5_layer_call_fn, lstm_cell_6_layer_call_and_return_conditional_losses, lstm_cell_6_layer_call_fn, lstm_cell_5_layer_call_fn while saving (showing 5 of 10). These functions will not be directly callable after loading.\n"
     ]
    },
    {
     "name": "stdout",
     "output_type": "stream",
     "text": [
      "INFO:tensorflow:Assets written to: s2s_LSTM_256TimeD_43\\assets\n"
     ]
    },
    {
     "name": "stderr",
     "output_type": "stream",
     "text": [
      "INFO:tensorflow:Assets written to: s2s_LSTM_256TimeD_43\\assets\n"
     ]
    },
    {
     "name": "stdout",
     "output_type": "stream",
     "text": [
      "Epoch 8/500\n",
      "781/781 [==============================] - 28s 36ms/step - loss: 8.2320e-04 - mse: 4.5821e-04 - val_loss: 8.2201e-04 - val_mse: 5.9618e-04\n"
     ]
    },
    {
     "name": "stderr",
     "output_type": "stream",
     "text": [
      "WARNING:absl:Found untraced functions such as lstm_cell_5_layer_call_and_return_conditional_losses, lstm_cell_5_layer_call_fn, lstm_cell_6_layer_call_and_return_conditional_losses, lstm_cell_6_layer_call_fn, lstm_cell_5_layer_call_fn while saving (showing 5 of 10). These functions will not be directly callable after loading.\n"
     ]
    },
    {
     "name": "stdout",
     "output_type": "stream",
     "text": [
      "INFO:tensorflow:Assets written to: s2s_LSTM_256TimeD_43\\assets\n"
     ]
    },
    {
     "name": "stderr",
     "output_type": "stream",
     "text": [
      "INFO:tensorflow:Assets written to: s2s_LSTM_256TimeD_43\\assets\n"
     ]
    },
    {
     "name": "stdout",
     "output_type": "stream",
     "text": [
      "Epoch 9/500\n",
      "781/781 [==============================] - 29s 36ms/step - loss: 6.1493e-04 - mse: 3.0570e-04 - val_loss: 7.5683e-04 - val_mse: 7.0367e-04\n"
     ]
    },
    {
     "name": "stderr",
     "output_type": "stream",
     "text": [
      "WARNING:absl:Found untraced functions such as lstm_cell_5_layer_call_and_return_conditional_losses, lstm_cell_5_layer_call_fn, lstm_cell_6_layer_call_and_return_conditional_losses, lstm_cell_6_layer_call_fn, lstm_cell_5_layer_call_fn while saving (showing 5 of 10). These functions will not be directly callable after loading.\n"
     ]
    },
    {
     "name": "stdout",
     "output_type": "stream",
     "text": [
      "INFO:tensorflow:Assets written to: s2s_LSTM_256TimeD_43\\assets\n"
     ]
    },
    {
     "name": "stderr",
     "output_type": "stream",
     "text": [
      "INFO:tensorflow:Assets written to: s2s_LSTM_256TimeD_43\\assets\n"
     ]
    },
    {
     "name": "stdout",
     "output_type": "stream",
     "text": [
      "Epoch 10/500\n",
      "781/781 [==============================] - 28s 36ms/step - loss: 4.7899e-04 - mse: 2.4330e-04 - val_loss: 7.8738e-04 - val_mse: 9.4456e-04\n",
      "Epoch 11/500\n",
      "781/781 [==============================] - 28s 36ms/step - loss: 4.4594e-04 - mse: 3.2901e-04 - val_loss: 9.0020e-04 - val_mse: 0.0013\n",
      "Epoch 12/500\n",
      "781/781 [==============================] - 29s 37ms/step - loss: 3.7756e-04 - mse: 2.9919e-04 - val_loss: 7.3795e-04 - val_mse: 0.0011\n"
     ]
    },
    {
     "name": "stderr",
     "output_type": "stream",
     "text": [
      "WARNING:absl:Found untraced functions such as lstm_cell_5_layer_call_and_return_conditional_losses, lstm_cell_5_layer_call_fn, lstm_cell_6_layer_call_and_return_conditional_losses, lstm_cell_6_layer_call_fn, lstm_cell_5_layer_call_fn while saving (showing 5 of 10). These functions will not be directly callable after loading.\n"
     ]
    },
    {
     "name": "stdout",
     "output_type": "stream",
     "text": [
      "INFO:tensorflow:Assets written to: s2s_LSTM_256TimeD_43\\assets\n"
     ]
    },
    {
     "name": "stderr",
     "output_type": "stream",
     "text": [
      "INFO:tensorflow:Assets written to: s2s_LSTM_256TimeD_43\\assets\n"
     ]
    },
    {
     "name": "stdout",
     "output_type": "stream",
     "text": [
      "Epoch 13/500\n",
      "781/781 [==============================] - 29s 36ms/step - loss: 3.2180e-04 - mse: 2.6579e-04 - val_loss: 5.6168e-04 - val_mse: 7.7681e-04\n"
     ]
    },
    {
     "name": "stderr",
     "output_type": "stream",
     "text": [
      "WARNING:absl:Found untraced functions such as lstm_cell_5_layer_call_and_return_conditional_losses, lstm_cell_5_layer_call_fn, lstm_cell_6_layer_call_and_return_conditional_losses, lstm_cell_6_layer_call_fn, lstm_cell_5_layer_call_fn while saving (showing 5 of 10). These functions will not be directly callable after loading.\n"
     ]
    },
    {
     "name": "stdout",
     "output_type": "stream",
     "text": [
      "INFO:tensorflow:Assets written to: s2s_LSTM_256TimeD_43\\assets\n"
     ]
    },
    {
     "name": "stderr",
     "output_type": "stream",
     "text": [
      "INFO:tensorflow:Assets written to: s2s_LSTM_256TimeD_43\\assets\n"
     ]
    },
    {
     "name": "stdout",
     "output_type": "stream",
     "text": [
      "Epoch 14/500\n",
      "781/781 [==============================] - 29s 36ms/step - loss: 2.7787e-04 - mse: 2.3491e-04 - val_loss: 4.4233e-04 - val_mse: 5.8610e-04\n"
     ]
    },
    {
     "name": "stderr",
     "output_type": "stream",
     "text": [
      "WARNING:absl:Found untraced functions such as lstm_cell_5_layer_call_and_return_conditional_losses, lstm_cell_5_layer_call_fn, lstm_cell_6_layer_call_and_return_conditional_losses, lstm_cell_6_layer_call_fn, lstm_cell_5_layer_call_fn while saving (showing 5 of 10). These functions will not be directly callable after loading.\n"
     ]
    },
    {
     "name": "stdout",
     "output_type": "stream",
     "text": [
      "INFO:tensorflow:Assets written to: s2s_LSTM_256TimeD_43\\assets\n"
     ]
    },
    {
     "name": "stderr",
     "output_type": "stream",
     "text": [
      "INFO:tensorflow:Assets written to: s2s_LSTM_256TimeD_43\\assets\n"
     ]
    },
    {
     "name": "stdout",
     "output_type": "stream",
     "text": [
      "Epoch 15/500\n",
      "781/781 [==============================] - 29s 36ms/step - loss: 2.7003e-04 - mse: 2.5981e-04 - val_loss: 3.5764e-04 - val_mse: 4.5139e-04\n"
     ]
    },
    {
     "name": "stderr",
     "output_type": "stream",
     "text": [
      "WARNING:absl:Found untraced functions such as lstm_cell_5_layer_call_and_return_conditional_losses, lstm_cell_5_layer_call_fn, lstm_cell_6_layer_call_and_return_conditional_losses, lstm_cell_6_layer_call_fn, lstm_cell_5_layer_call_fn while saving (showing 5 of 10). These functions will not be directly callable after loading.\n"
     ]
    },
    {
     "name": "stdout",
     "output_type": "stream",
     "text": [
      "INFO:tensorflow:Assets written to: s2s_LSTM_256TimeD_43\\assets\n"
     ]
    },
    {
     "name": "stderr",
     "output_type": "stream",
     "text": [
      "INFO:tensorflow:Assets written to: s2s_LSTM_256TimeD_43\\assets\n"
     ]
    },
    {
     "name": "stdout",
     "output_type": "stream",
     "text": [
      "Epoch 16/500\n",
      "781/781 [==============================] - 28s 36ms/step - loss: 2.3847e-04 - mse: 2.2772e-04 - val_loss: 2.6592e-04 - val_mse: 2.9621e-04\n"
     ]
    },
    {
     "name": "stderr",
     "output_type": "stream",
     "text": [
      "WARNING:absl:Found untraced functions such as lstm_cell_5_layer_call_and_return_conditional_losses, lstm_cell_5_layer_call_fn, lstm_cell_6_layer_call_and_return_conditional_losses, lstm_cell_6_layer_call_fn, lstm_cell_5_layer_call_fn while saving (showing 5 of 10). These functions will not be directly callable after loading.\n"
     ]
    },
    {
     "name": "stdout",
     "output_type": "stream",
     "text": [
      "INFO:tensorflow:Assets written to: s2s_LSTM_256TimeD_43\\assets\n"
     ]
    },
    {
     "name": "stderr",
     "output_type": "stream",
     "text": [
      "INFO:tensorflow:Assets written to: s2s_LSTM_256TimeD_43\\assets\n"
     ]
    },
    {
     "name": "stdout",
     "output_type": "stream",
     "text": [
      "Epoch 17/500\n",
      "781/781 [==============================] - 28s 36ms/step - loss: 2.1836e-04 - mse: 2.1330e-04 - val_loss: 2.2427e-04 - val_mse: 2.3666e-04\n"
     ]
    },
    {
     "name": "stderr",
     "output_type": "stream",
     "text": [
      "WARNING:absl:Found untraced functions such as lstm_cell_5_layer_call_and_return_conditional_losses, lstm_cell_5_layer_call_fn, lstm_cell_6_layer_call_and_return_conditional_losses, lstm_cell_6_layer_call_fn, lstm_cell_5_layer_call_fn while saving (showing 5 of 10). These functions will not be directly callable after loading.\n"
     ]
    },
    {
     "name": "stdout",
     "output_type": "stream",
     "text": [
      "INFO:tensorflow:Assets written to: s2s_LSTM_256TimeD_43\\assets\n"
     ]
    },
    {
     "name": "stderr",
     "output_type": "stream",
     "text": [
      "INFO:tensorflow:Assets written to: s2s_LSTM_256TimeD_43\\assets\n"
     ]
    },
    {
     "name": "stdout",
     "output_type": "stream",
     "text": [
      "Epoch 18/500\n",
      "781/781 [==============================] - 29s 37ms/step - loss: 1.9870e-04 - mse: 1.9568e-04 - val_loss: 1.9102e-04 - val_mse: 1.9001e-04\n"
     ]
    },
    {
     "name": "stderr",
     "output_type": "stream",
     "text": [
      "WARNING:absl:Found untraced functions such as lstm_cell_5_layer_call_and_return_conditional_losses, lstm_cell_5_layer_call_fn, lstm_cell_6_layer_call_and_return_conditional_losses, lstm_cell_6_layer_call_fn, lstm_cell_5_layer_call_fn while saving (showing 5 of 10). These functions will not be directly callable after loading.\n"
     ]
    },
    {
     "name": "stdout",
     "output_type": "stream",
     "text": [
      "INFO:tensorflow:Assets written to: s2s_LSTM_256TimeD_43\\assets\n"
     ]
    },
    {
     "name": "stderr",
     "output_type": "stream",
     "text": [
      "INFO:tensorflow:Assets written to: s2s_LSTM_256TimeD_43\\assets\n"
     ]
    },
    {
     "name": "stdout",
     "output_type": "stream",
     "text": [
      "Epoch 19/500\n",
      "781/781 [==============================] - 29s 37ms/step - loss: 1.9312e-04 - mse: 2.0238e-04 - val_loss: 1.8030e-04 - val_mse: 1.8472e-04\n"
     ]
    },
    {
     "name": "stderr",
     "output_type": "stream",
     "text": [
      "WARNING:absl:Found untraced functions such as lstm_cell_5_layer_call_and_return_conditional_losses, lstm_cell_5_layer_call_fn, lstm_cell_6_layer_call_and_return_conditional_losses, lstm_cell_6_layer_call_fn, lstm_cell_5_layer_call_fn while saving (showing 5 of 10). These functions will not be directly callable after loading.\n"
     ]
    },
    {
     "name": "stdout",
     "output_type": "stream",
     "text": [
      "INFO:tensorflow:Assets written to: s2s_LSTM_256TimeD_43\\assets\n"
     ]
    },
    {
     "name": "stderr",
     "output_type": "stream",
     "text": [
      "INFO:tensorflow:Assets written to: s2s_LSTM_256TimeD_43\\assets\n"
     ]
    },
    {
     "name": "stdout",
     "output_type": "stream",
     "text": [
      "Epoch 20/500\n",
      "781/781 [==============================] - 29s 37ms/step - loss: 1.8287e-04 - mse: 1.9657e-04 - val_loss: 1.6345e-04 - val_mse: 1.6447e-04\n"
     ]
    },
    {
     "name": "stderr",
     "output_type": "stream",
     "text": [
      "WARNING:absl:Found untraced functions such as lstm_cell_5_layer_call_and_return_conditional_losses, lstm_cell_5_layer_call_fn, lstm_cell_6_layer_call_and_return_conditional_losses, lstm_cell_6_layer_call_fn, lstm_cell_5_layer_call_fn while saving (showing 5 of 10). These functions will not be directly callable after loading.\n"
     ]
    },
    {
     "name": "stdout",
     "output_type": "stream",
     "text": [
      "INFO:tensorflow:Assets written to: s2s_LSTM_256TimeD_43\\assets\n"
     ]
    },
    {
     "name": "stderr",
     "output_type": "stream",
     "text": [
      "INFO:tensorflow:Assets written to: s2s_LSTM_256TimeD_43\\assets\n"
     ]
    },
    {
     "name": "stdout",
     "output_type": "stream",
     "text": [
      "Epoch 21/500\n",
      "781/781 [==============================] - 29s 37ms/step - loss: 1.6829e-04 - mse: 1.8004e-04 - val_loss: 1.5381e-04 - val_mse: 1.5717e-04\n"
     ]
    },
    {
     "name": "stderr",
     "output_type": "stream",
     "text": [
      "WARNING:absl:Found untraced functions such as lstm_cell_5_layer_call_and_return_conditional_losses, lstm_cell_5_layer_call_fn, lstm_cell_6_layer_call_and_return_conditional_losses, lstm_cell_6_layer_call_fn, lstm_cell_5_layer_call_fn while saving (showing 5 of 10). These functions will not be directly callable after loading.\n"
     ]
    },
    {
     "name": "stdout",
     "output_type": "stream",
     "text": [
      "INFO:tensorflow:Assets written to: s2s_LSTM_256TimeD_43\\assets\n"
     ]
    },
    {
     "name": "stderr",
     "output_type": "stream",
     "text": [
      "INFO:tensorflow:Assets written to: s2s_LSTM_256TimeD_43\\assets\n"
     ]
    },
    {
     "name": "stdout",
     "output_type": "stream",
     "text": [
      "Epoch 22/500\n",
      "781/781 [==============================] - 29s 37ms/step - loss: 1.5917e-04 - mse: 1.7308e-04 - val_loss: 1.3227e-04 - val_mse: 1.2468e-04\n"
     ]
    },
    {
     "name": "stderr",
     "output_type": "stream",
     "text": [
      "WARNING:absl:Found untraced functions such as lstm_cell_5_layer_call_and_return_conditional_losses, lstm_cell_5_layer_call_fn, lstm_cell_6_layer_call_and_return_conditional_losses, lstm_cell_6_layer_call_fn, lstm_cell_5_layer_call_fn while saving (showing 5 of 10). These functions will not be directly callable after loading.\n"
     ]
    },
    {
     "name": "stdout",
     "output_type": "stream",
     "text": [
      "INFO:tensorflow:Assets written to: s2s_LSTM_256TimeD_43\\assets\n"
     ]
    },
    {
     "name": "stderr",
     "output_type": "stream",
     "text": [
      "INFO:tensorflow:Assets written to: s2s_LSTM_256TimeD_43\\assets\n"
     ]
    },
    {
     "name": "stdout",
     "output_type": "stream",
     "text": [
      "Epoch 23/500\n",
      "781/781 [==============================] - 29s 37ms/step - loss: 1.5547e-04 - mse: 1.7561e-04 - val_loss: 1.2364e-04 - val_mse: 1.1672e-04\n"
     ]
    },
    {
     "name": "stderr",
     "output_type": "stream",
     "text": [
      "WARNING:absl:Found untraced functions such as lstm_cell_5_layer_call_and_return_conditional_losses, lstm_cell_5_layer_call_fn, lstm_cell_6_layer_call_and_return_conditional_losses, lstm_cell_6_layer_call_fn, lstm_cell_5_layer_call_fn while saving (showing 5 of 10). These functions will not be directly callable after loading.\n"
     ]
    },
    {
     "name": "stdout",
     "output_type": "stream",
     "text": [
      "INFO:tensorflow:Assets written to: s2s_LSTM_256TimeD_43\\assets\n"
     ]
    },
    {
     "name": "stderr",
     "output_type": "stream",
     "text": [
      "INFO:tensorflow:Assets written to: s2s_LSTM_256TimeD_43\\assets\n"
     ]
    },
    {
     "name": "stdout",
     "output_type": "stream",
     "text": [
      "Epoch 24/500\n",
      "781/781 [==============================] - 29s 37ms/step - loss: 1.4217e-04 - mse: 1.5756e-04 - val_loss: 1.1281e-04 - val_mse: 1.0323e-04\n"
     ]
    },
    {
     "name": "stderr",
     "output_type": "stream",
     "text": [
      "WARNING:absl:Found untraced functions such as lstm_cell_5_layer_call_and_return_conditional_losses, lstm_cell_5_layer_call_fn, lstm_cell_6_layer_call_and_return_conditional_losses, lstm_cell_6_layer_call_fn, lstm_cell_5_layer_call_fn while saving (showing 5 of 10). These functions will not be directly callable after loading.\n"
     ]
    },
    {
     "name": "stdout",
     "output_type": "stream",
     "text": [
      "INFO:tensorflow:Assets written to: s2s_LSTM_256TimeD_43\\assets\n"
     ]
    },
    {
     "name": "stderr",
     "output_type": "stream",
     "text": [
      "INFO:tensorflow:Assets written to: s2s_LSTM_256TimeD_43\\assets\n"
     ]
    },
    {
     "name": "stdout",
     "output_type": "stream",
     "text": [
      "Epoch 25/500\n",
      "781/781 [==============================] - 29s 36ms/step - loss: 1.4148e-04 - mse: 1.6398e-04 - val_loss: 1.0174e-04 - val_mse: 8.8501e-05\n"
     ]
    },
    {
     "name": "stderr",
     "output_type": "stream",
     "text": [
      "WARNING:absl:Found untraced functions such as lstm_cell_5_layer_call_and_return_conditional_losses, lstm_cell_5_layer_call_fn, lstm_cell_6_layer_call_and_return_conditional_losses, lstm_cell_6_layer_call_fn, lstm_cell_5_layer_call_fn while saving (showing 5 of 10). These functions will not be directly callable after loading.\n"
     ]
    },
    {
     "name": "stdout",
     "output_type": "stream",
     "text": [
      "INFO:tensorflow:Assets written to: s2s_LSTM_256TimeD_43\\assets\n"
     ]
    },
    {
     "name": "stderr",
     "output_type": "stream",
     "text": [
      "INFO:tensorflow:Assets written to: s2s_LSTM_256TimeD_43\\assets\n"
     ]
    },
    {
     "name": "stdout",
     "output_type": "stream",
     "text": [
      "Epoch 26/500\n",
      "781/781 [==============================] - 29s 36ms/step - loss: 1.3045e-04 - mse: 1.4887e-04 - val_loss: 9.4646e-05 - val_mse: 8.0899e-05\n"
     ]
    },
    {
     "name": "stderr",
     "output_type": "stream",
     "text": [
      "WARNING:absl:Found untraced functions such as lstm_cell_5_layer_call_and_return_conditional_losses, lstm_cell_5_layer_call_fn, lstm_cell_6_layer_call_and_return_conditional_losses, lstm_cell_6_layer_call_fn, lstm_cell_5_layer_call_fn while saving (showing 5 of 10). These functions will not be directly callable after loading.\n"
     ]
    },
    {
     "name": "stdout",
     "output_type": "stream",
     "text": [
      "INFO:tensorflow:Assets written to: s2s_LSTM_256TimeD_43\\assets\n"
     ]
    },
    {
     "name": "stderr",
     "output_type": "stream",
     "text": [
      "INFO:tensorflow:Assets written to: s2s_LSTM_256TimeD_43\\assets\n"
     ]
    },
    {
     "name": "stdout",
     "output_type": "stream",
     "text": [
      "Epoch 27/500\n",
      "781/781 [==============================] - 28s 36ms/step - loss: 1.3003e-04 - mse: 1.5440e-04 - val_loss: 9.5517e-05 - val_mse: 8.8621e-05\n",
      "Epoch 28/500\n",
      "781/781 [==============================] - 29s 37ms/step - loss: 1.2115e-04 - mse: 1.4217e-04 - val_loss: 8.4471e-05 - val_mse: 7.1792e-05\n"
     ]
    },
    {
     "name": "stderr",
     "output_type": "stream",
     "text": [
      "WARNING:absl:Found untraced functions such as lstm_cell_5_layer_call_and_return_conditional_losses, lstm_cell_5_layer_call_fn, lstm_cell_6_layer_call_and_return_conditional_losses, lstm_cell_6_layer_call_fn, lstm_cell_5_layer_call_fn while saving (showing 5 of 10). These functions will not be directly callable after loading.\n"
     ]
    },
    {
     "name": "stdout",
     "output_type": "stream",
     "text": [
      "INFO:tensorflow:Assets written to: s2s_LSTM_256TimeD_43\\assets\n"
     ]
    },
    {
     "name": "stderr",
     "output_type": "stream",
     "text": [
      "INFO:tensorflow:Assets written to: s2s_LSTM_256TimeD_43\\assets\n"
     ]
    },
    {
     "name": "stdout",
     "output_type": "stream",
     "text": [
      "Epoch 29/500\n",
      "781/781 [==============================] - 29s 37ms/step - loss: 1.1803e-04 - mse: 1.4118e-04 - val_loss: 9.0100e-05 - val_mse: 8.8226e-05\n",
      "Epoch 30/500\n",
      "781/781 [==============================] - 29s 37ms/step - loss: 1.1781e-04 - mse: 1.4532e-04 - val_loss: 8.1121e-05 - val_mse: 7.4345e-05\n"
     ]
    },
    {
     "name": "stderr",
     "output_type": "stream",
     "text": [
      "WARNING:absl:Found untraced functions such as lstm_cell_5_layer_call_and_return_conditional_losses, lstm_cell_5_layer_call_fn, lstm_cell_6_layer_call_and_return_conditional_losses, lstm_cell_6_layer_call_fn, lstm_cell_5_layer_call_fn while saving (showing 5 of 10). These functions will not be directly callable after loading.\n"
     ]
    },
    {
     "name": "stdout",
     "output_type": "stream",
     "text": [
      "INFO:tensorflow:Assets written to: s2s_LSTM_256TimeD_43\\assets\n"
     ]
    },
    {
     "name": "stderr",
     "output_type": "stream",
     "text": [
      "INFO:tensorflow:Assets written to: s2s_LSTM_256TimeD_43\\assets\n"
     ]
    },
    {
     "name": "stdout",
     "output_type": "stream",
     "text": [
      "Epoch 31/500\n",
      "781/781 [==============================] - 29s 37ms/step - loss: 1.0928e-04 - mse: 1.3231e-04 - val_loss: 7.8877e-05 - val_mse: 7.3723e-05\n"
     ]
    },
    {
     "name": "stderr",
     "output_type": "stream",
     "text": [
      "WARNING:absl:Found untraced functions such as lstm_cell_5_layer_call_and_return_conditional_losses, lstm_cell_5_layer_call_fn, lstm_cell_6_layer_call_and_return_conditional_losses, lstm_cell_6_layer_call_fn, lstm_cell_5_layer_call_fn while saving (showing 5 of 10). These functions will not be directly callable after loading.\n"
     ]
    },
    {
     "name": "stdout",
     "output_type": "stream",
     "text": [
      "INFO:tensorflow:Assets written to: s2s_LSTM_256TimeD_43\\assets\n"
     ]
    },
    {
     "name": "stderr",
     "output_type": "stream",
     "text": [
      "INFO:tensorflow:Assets written to: s2s_LSTM_256TimeD_43\\assets\n"
     ]
    },
    {
     "name": "stdout",
     "output_type": "stream",
     "text": [
      "Epoch 32/500\n",
      "781/781 [==============================] - 29s 36ms/step - loss: 1.0747e-04 - mse: 1.3256e-04 - val_loss: 8.3895e-05 - val_mse: 8.7413e-05\n",
      "Epoch 33/500\n",
      "781/781 [==============================] - 28s 36ms/step - loss: 1.0429e-04 - mse: 1.2963e-04 - val_loss: 8.8659e-05 - val_mse: 1.0001e-04\n",
      "Epoch 34/500\n",
      "781/781 [==============================] - 28s 36ms/step - loss: 9.7311e-05 - mse: 1.1882e-04 - val_loss: 9.4370e-05 - val_mse: 1.1446e-04\n",
      "Epoch 35/500\n",
      "781/781 [==============================] - 29s 37ms/step - loss: 1.0057e-04 - mse: 1.2840e-04 - val_loss: 1.0622e-04 - val_mse: 1.4099e-04\n",
      "Epoch 36/500\n",
      "781/781 [==============================] - 29s 37ms/step - loss: 9.6756e-05 - mse: 1.2324e-04 - val_loss: 9.3131e-05 - val_mse: 1.1710e-04\n",
      "Epoch 37/500\n",
      "781/781 [==============================] - 29s 37ms/step - loss: 8.8780e-05 - mse: 1.0968e-04 - val_loss: 8.1889e-05 - val_mse: 9.7074e-05\n",
      "Epoch 38/500\n",
      "781/781 [==============================] - 29s 37ms/step - loss: 9.1260e-05 - mse: 1.1706e-04 - val_loss: 8.0450e-05 - val_mse: 9.6544e-05\n",
      "Epoch 39/500\n",
      "781/781 [==============================] - 29s 37ms/step - loss: 9.3204e-05 - mse: 1.2295e-04 - val_loss: 6.4535e-05 - val_mse: 6.6563e-05\n"
     ]
    },
    {
     "name": "stderr",
     "output_type": "stream",
     "text": [
      "WARNING:absl:Found untraced functions such as lstm_cell_5_layer_call_and_return_conditional_losses, lstm_cell_5_layer_call_fn, lstm_cell_6_layer_call_and_return_conditional_losses, lstm_cell_6_layer_call_fn, lstm_cell_5_layer_call_fn while saving (showing 5 of 10). These functions will not be directly callable after loading.\n"
     ]
    },
    {
     "name": "stdout",
     "output_type": "stream",
     "text": [
      "INFO:tensorflow:Assets written to: s2s_LSTM_256TimeD_43\\assets\n"
     ]
    },
    {
     "name": "stderr",
     "output_type": "stream",
     "text": [
      "INFO:tensorflow:Assets written to: s2s_LSTM_256TimeD_43\\assets\n"
     ]
    },
    {
     "name": "stdout",
     "output_type": "stream",
     "text": [
      "Epoch 40/500\n",
      "781/781 [==============================] - 29s 37ms/step - loss: 8.4562e-05 - mse: 1.0748e-04 - val_loss: 6.0850e-05 - val_mse: 6.1139e-05\n"
     ]
    },
    {
     "name": "stderr",
     "output_type": "stream",
     "text": [
      "WARNING:absl:Found untraced functions such as lstm_cell_5_layer_call_and_return_conditional_losses, lstm_cell_5_layer_call_fn, lstm_cell_6_layer_call_and_return_conditional_losses, lstm_cell_6_layer_call_fn, lstm_cell_5_layer_call_fn while saving (showing 5 of 10). These functions will not be directly callable after loading.\n"
     ]
    },
    {
     "name": "stdout",
     "output_type": "stream",
     "text": [
      "INFO:tensorflow:Assets written to: s2s_LSTM_256TimeD_43\\assets\n"
     ]
    },
    {
     "name": "stderr",
     "output_type": "stream",
     "text": [
      "INFO:tensorflow:Assets written to: s2s_LSTM_256TimeD_43\\assets\n"
     ]
    },
    {
     "name": "stdout",
     "output_type": "stream",
     "text": [
      "Epoch 41/500\n",
      "781/781 [==============================] - 29s 36ms/step - loss: 8.5648e-05 - mse: 1.1151e-04 - val_loss: 5.9387e-05 - val_mse: 5.9947e-05\n"
     ]
    },
    {
     "name": "stderr",
     "output_type": "stream",
     "text": [
      "WARNING:absl:Found untraced functions such as lstm_cell_5_layer_call_and_return_conditional_losses, lstm_cell_5_layer_call_fn, lstm_cell_6_layer_call_and_return_conditional_losses, lstm_cell_6_layer_call_fn, lstm_cell_5_layer_call_fn while saving (showing 5 of 10). These functions will not be directly callable after loading.\n"
     ]
    },
    {
     "name": "stdout",
     "output_type": "stream",
     "text": [
      "INFO:tensorflow:Assets written to: s2s_LSTM_256TimeD_43\\assets\n"
     ]
    },
    {
     "name": "stderr",
     "output_type": "stream",
     "text": [
      "INFO:tensorflow:Assets written to: s2s_LSTM_256TimeD_43\\assets\n"
     ]
    },
    {
     "name": "stdout",
     "output_type": "stream",
     "text": [
      "Epoch 42/500\n",
      "781/781 [==============================] - 29s 36ms/step - loss: 8.4975e-05 - mse: 1.1178e-04 - val_loss: 5.7294e-05 - val_mse: 5.7290e-05\n"
     ]
    },
    {
     "name": "stderr",
     "output_type": "stream",
     "text": [
      "WARNING:absl:Found untraced functions such as lstm_cell_5_layer_call_and_return_conditional_losses, lstm_cell_5_layer_call_fn, lstm_cell_6_layer_call_and_return_conditional_losses, lstm_cell_6_layer_call_fn, lstm_cell_5_layer_call_fn while saving (showing 5 of 10). These functions will not be directly callable after loading.\n"
     ]
    },
    {
     "name": "stdout",
     "output_type": "stream",
     "text": [
      "INFO:tensorflow:Assets written to: s2s_LSTM_256TimeD_43\\assets\n"
     ]
    },
    {
     "name": "stderr",
     "output_type": "stream",
     "text": [
      "INFO:tensorflow:Assets written to: s2s_LSTM_256TimeD_43\\assets\n"
     ]
    },
    {
     "name": "stdout",
     "output_type": "stream",
     "text": [
      "Epoch 43/500\n",
      "781/781 [==============================] - 29s 37ms/step - loss: 8.0442e-05 - mse: 1.0420e-04 - val_loss: 5.4744e-05 - val_mse: 5.3627e-05\n"
     ]
    },
    {
     "name": "stderr",
     "output_type": "stream",
     "text": [
      "WARNING:absl:Found untraced functions such as lstm_cell_5_layer_call_and_return_conditional_losses, lstm_cell_5_layer_call_fn, lstm_cell_6_layer_call_and_return_conditional_losses, lstm_cell_6_layer_call_fn, lstm_cell_5_layer_call_fn while saving (showing 5 of 10). These functions will not be directly callable after loading.\n"
     ]
    },
    {
     "name": "stdout",
     "output_type": "stream",
     "text": [
      "INFO:tensorflow:Assets written to: s2s_LSTM_256TimeD_43\\assets\n"
     ]
    },
    {
     "name": "stderr",
     "output_type": "stream",
     "text": [
      "INFO:tensorflow:Assets written to: s2s_LSTM_256TimeD_43\\assets\n"
     ]
    },
    {
     "name": "stdout",
     "output_type": "stream",
     "text": [
      "Epoch 44/500\n",
      "781/781 [==============================] - 29s 37ms/step - loss: 7.8634e-05 - mse: 1.0208e-04 - val_loss: 5.6505e-05 - val_mse: 5.8602e-05\n",
      "Epoch 45/500\n",
      "781/781 [==============================] - 29s 37ms/step - loss: 8.3472e-05 - mse: 1.1322e-04 - val_loss: 6.2142e-05 - val_mse: 7.1154e-05\n",
      "Epoch 46/500\n",
      "781/781 [==============================] - 29s 37ms/step - loss: 8.2517e-05 - mse: 1.1240e-04 - val_loss: 5.7724e-05 - val_mse: 6.3373e-05\n",
      "Epoch 47/500\n",
      "781/781 [==============================] - 29s 37ms/step - loss: 7.4293e-05 - mse: 9.6962e-05 - val_loss: 5.0250e-05 - val_mse: 4.9475e-05\n"
     ]
    },
    {
     "name": "stderr",
     "output_type": "stream",
     "text": [
      "WARNING:absl:Found untraced functions such as lstm_cell_5_layer_call_and_return_conditional_losses, lstm_cell_5_layer_call_fn, lstm_cell_6_layer_call_and_return_conditional_losses, lstm_cell_6_layer_call_fn, lstm_cell_5_layer_call_fn while saving (showing 5 of 10). These functions will not be directly callable after loading.\n"
     ]
    },
    {
     "name": "stdout",
     "output_type": "stream",
     "text": [
      "INFO:tensorflow:Assets written to: s2s_LSTM_256TimeD_43\\assets\n"
     ]
    },
    {
     "name": "stderr",
     "output_type": "stream",
     "text": [
      "INFO:tensorflow:Assets written to: s2s_LSTM_256TimeD_43\\assets\n"
     ]
    },
    {
     "name": "stdout",
     "output_type": "stream",
     "text": [
      "Epoch 48/500\n",
      "781/781 [==============================] - 29s 36ms/step - loss: 7.4935e-05 - mse: 9.9497e-05 - val_loss: 5.2004e-05 - val_mse: 5.4246e-05\n",
      "Epoch 49/500\n",
      "781/781 [==============================] - 30s 38ms/step - loss: 7.6753e-05 - mse: 1.0420e-04 - val_loss: 5.1143e-05 - val_mse: 5.3582e-05\n",
      "Epoch 50/500\n",
      "781/781 [==============================] - 29s 37ms/step - loss: 7.4128e-05 - mse: 9.9883e-05 - val_loss: 5.1608e-05 - val_mse: 5.5475e-05\n",
      "Epoch 51/500\n",
      "781/781 [==============================] - 30s 38ms/step - loss: 7.4544e-05 - mse: 1.0169e-04 - val_loss: 5.7550e-05 - val_mse: 6.8358e-05\n",
      "Epoch 52/500\n",
      "781/781 [==============================] - 28s 36ms/step - loss: 7.5058e-05 - mse: 1.0355e-04 - val_loss: 5.7810e-05 - val_mse: 6.9656e-05\n",
      "Epoch 53/500\n",
      "781/781 [==============================] - 28s 36ms/step - loss: 7.3939e-05 - mse: 1.0209e-04 - val_loss: 4.8657e-05 - val_mse: 5.2012e-05\n"
     ]
    },
    {
     "name": "stderr",
     "output_type": "stream",
     "text": [
      "WARNING:absl:Found untraced functions such as lstm_cell_5_layer_call_and_return_conditional_losses, lstm_cell_5_layer_call_fn, lstm_cell_6_layer_call_and_return_conditional_losses, lstm_cell_6_layer_call_fn, lstm_cell_5_layer_call_fn while saving (showing 5 of 10). These functions will not be directly callable after loading.\n"
     ]
    },
    {
     "name": "stdout",
     "output_type": "stream",
     "text": [
      "INFO:tensorflow:Assets written to: s2s_LSTM_256TimeD_43\\assets\n"
     ]
    },
    {
     "name": "stderr",
     "output_type": "stream",
     "text": [
      "INFO:tensorflow:Assets written to: s2s_LSTM_256TimeD_43\\assets\n"
     ]
    },
    {
     "name": "stdout",
     "output_type": "stream",
     "text": [
      "Epoch 54/500\n",
      "781/781 [==============================] - 29s 37ms/step - loss: 7.0239e-05 - mse: 9.5410e-05 - val_loss: 4.8236e-05 - val_mse: 5.1601e-05\n"
     ]
    },
    {
     "name": "stderr",
     "output_type": "stream",
     "text": [
      "WARNING:absl:Found untraced functions such as lstm_cell_5_layer_call_and_return_conditional_losses, lstm_cell_5_layer_call_fn, lstm_cell_6_layer_call_and_return_conditional_losses, lstm_cell_6_layer_call_fn, lstm_cell_5_layer_call_fn while saving (showing 5 of 10). These functions will not be directly callable after loading.\n"
     ]
    },
    {
     "name": "stdout",
     "output_type": "stream",
     "text": [
      "INFO:tensorflow:Assets written to: s2s_LSTM_256TimeD_43\\assets\n"
     ]
    },
    {
     "name": "stderr",
     "output_type": "stream",
     "text": [
      "INFO:tensorflow:Assets written to: s2s_LSTM_256TimeD_43\\assets\n"
     ]
    },
    {
     "name": "stdout",
     "output_type": "stream",
     "text": [
      "Epoch 55/500\n",
      "781/781 [==============================] - 29s 36ms/step - loss: 6.5710e-05 - mse: 8.7111e-05 - val_loss: 8.0763e-05 - val_mse: 1.1722e-04\n",
      "Epoch 56/500\n",
      "781/781 [==============================] - 29s 37ms/step - loss: 6.8053e-05 - mse: 9.2730e-05 - val_loss: 1.6962e-04 - val_mse: 2.9546e-04\n",
      "Epoch 57/500\n",
      "781/781 [==============================] - 28s 36ms/step - loss: 7.1477e-05 - mse: 1.0030e-04 - val_loss: 2.9715e-04 - val_mse: 5.5091e-04\n",
      "Epoch 58/500\n",
      "781/781 [==============================] - 29s 37ms/step - loss: 6.9619e-05 - mse: 9.7110e-05 - val_loss: 3.3991e-04 - val_mse: 6.3686e-04\n",
      "Epoch 59/500\n",
      "781/781 [==============================] - 28s 36ms/step - loss: 6.2148e-05 - mse: 8.2700e-05 - val_loss: 2.9761e-04 - val_mse: 5.5288e-04\n",
      "Epoch 60/500\n",
      "781/781 [==============================] - 28s 36ms/step - loss: 6.2579e-05 - mse: 8.4369e-05 - val_loss: 3.0917e-04 - val_mse: 5.7685e-04\n",
      "Epoch 61/500\n",
      "781/781 [==============================] - 29s 37ms/step - loss: 6.7966e-05 - mse: 9.5867e-05 - val_loss: 2.7071e-04 - val_mse: 5.0061e-04\n",
      "Epoch 62/500\n",
      "781/781 [==============================] - 28s 36ms/step - loss: 6.6187e-05 - mse: 9.2760e-05 - val_loss: 1.5396e-04 - val_mse: 2.6779e-04\n",
      "Epoch 63/500\n",
      "781/781 [==============================] - 28s 36ms/step - loss: 5.9705e-05 - mse: 8.0252e-05 - val_loss: 6.2939e-05 - val_mse: 8.6639e-05\n",
      "Epoch 64/500\n",
      "781/781 [==============================] - 28s 36ms/step - loss: 6.1174e-05 - mse: 8.3876e-05 - val_loss: 3.9550e-05 - val_mse: 4.0687e-05\n"
     ]
    },
    {
     "name": "stderr",
     "output_type": "stream",
     "text": [
      "WARNING:absl:Found untraced functions such as lstm_cell_5_layer_call_and_return_conditional_losses, lstm_cell_5_layer_call_fn, lstm_cell_6_layer_call_and_return_conditional_losses, lstm_cell_6_layer_call_fn, lstm_cell_5_layer_call_fn while saving (showing 5 of 10). These functions will not be directly callable after loading.\n"
     ]
    },
    {
     "name": "stdout",
     "output_type": "stream",
     "text": [
      "INFO:tensorflow:Assets written to: s2s_LSTM_256TimeD_43\\assets\n"
     ]
    },
    {
     "name": "stderr",
     "output_type": "stream",
     "text": [
      "INFO:tensorflow:Assets written to: s2s_LSTM_256TimeD_43\\assets\n"
     ]
    },
    {
     "name": "stdout",
     "output_type": "stream",
     "text": [
      "Epoch 65/500\n",
      "781/781 [==============================] - 28s 36ms/step - loss: 6.3719e-05 - mse: 8.9520e-05 - val_loss: 4.4569e-05 - val_mse: 5.1366e-05\n",
      "Epoch 66/500\n",
      "781/781 [==============================] - 28s 36ms/step - loss: 6.2696e-05 - mse: 8.7909e-05 - val_loss: 6.6456e-05 - val_mse: 9.5832e-05\n",
      "Epoch 67/500\n",
      "781/781 [==============================] - 28s 36ms/step - loss: 6.1421e-05 - mse: 8.5792e-05 - val_loss: 9.8392e-05 - val_mse: 1.6028e-04\n",
      "Epoch 68/500\n",
      "781/781 [==============================] - 28s 36ms/step - loss: 5.8515e-05 - mse: 8.0410e-05 - val_loss: 1.4345e-04 - val_mse: 2.5098e-04\n",
      "Epoch 69/500\n",
      "781/781 [==============================] - 28s 36ms/step - loss: 5.9003e-05 - mse: 8.1884e-05 - val_loss: 1.7797e-04 - val_mse: 3.2057e-04\n",
      "Epoch 70/500\n",
      "781/781 [==============================] - 28s 36ms/step - loss: 6.0320e-05 - mse: 8.4974e-05 - val_loss: 2.0122e-04 - val_mse: 3.6762e-04\n",
      "Epoch 71/500\n",
      "781/781 [==============================] - 28s 36ms/step - loss: 6.0464e-05 - mse: 8.5642e-05 - val_loss: 1.7738e-04 - val_mse: 3.2024e-04\n",
      "Epoch 72/500\n",
      "781/781 [==============================] - 29s 37ms/step - loss: 5.7247e-05 - mse: 7.9552e-05 - val_loss: 1.1663e-04 - val_mse: 1.9898e-04\n",
      "Epoch 73/500\n",
      "781/781 [==============================] - 29s 37ms/step - loss: 5.7315e-05 - mse: 8.0121e-05 - val_loss: 7.0914e-05 - val_mse: 1.0780e-04\n",
      "Epoch 74/500\n",
      "781/781 [==============================] - 29s 37ms/step - loss: 5.8224e-05 - mse: 8.2340e-05 - val_loss: 4.2046e-05 - val_mse: 5.0232e-05\n",
      "Epoch 75/500\n",
      "781/781 [==============================] - 29s 37ms/step - loss: 5.6861e-05 - mse: 7.9938e-05 - val_loss: 3.9377e-05 - val_mse: 4.5031e-05\n"
     ]
    },
    {
     "name": "stderr",
     "output_type": "stream",
     "text": [
      "WARNING:absl:Found untraced functions such as lstm_cell_5_layer_call_and_return_conditional_losses, lstm_cell_5_layer_call_fn, lstm_cell_6_layer_call_and_return_conditional_losses, lstm_cell_6_layer_call_fn, lstm_cell_5_layer_call_fn while saving (showing 5 of 10). These functions will not be directly callable after loading.\n"
     ]
    },
    {
     "name": "stdout",
     "output_type": "stream",
     "text": [
      "INFO:tensorflow:Assets written to: s2s_LSTM_256TimeD_43\\assets\n"
     ]
    },
    {
     "name": "stderr",
     "output_type": "stream",
     "text": [
      "INFO:tensorflow:Assets written to: s2s_LSTM_256TimeD_43\\assets\n"
     ]
    },
    {
     "name": "stdout",
     "output_type": "stream",
     "text": [
      "Epoch 76/500\n",
      "781/781 [==============================] - 30s 38ms/step - loss: 5.5170e-05 - mse: 7.6900e-05 - val_loss: 6.4528e-05 - val_mse: 9.5497e-05\n",
      "Epoch 77/500\n",
      "781/781 [==============================] - 29s 37ms/step - loss: 5.5863e-05 - mse: 7.8657e-05 - val_loss: 9.9751e-05 - val_mse: 1.6615e-04\n",
      "Epoch 78/500\n",
      "781/781 [==============================] - 28s 35ms/step - loss: 5.4582e-05 - mse: 7.6397e-05 - val_loss: 1.2949e-04 - val_mse: 2.2585e-04\n",
      "Epoch 79/500\n",
      "781/781 [==============================] - 28s 35ms/step - loss: 5.5079e-05 - mse: 7.7749e-05 - val_loss: 1.4851e-04 - val_mse: 2.6418e-04\n",
      "Epoch 80/500\n",
      "781/781 [==============================] - 28s 35ms/step - loss: 5.5386e-05 - mse: 7.8655e-05 - val_loss: 1.2600e-04 - val_mse: 2.1945e-04\n",
      "Epoch 81/500\n",
      "781/781 [==============================] - 29s 37ms/step - loss: 5.2552e-05 - mse: 7.3253e-05 - val_loss: 8.7159e-05 - val_mse: 1.4219e-04\n",
      "Epoch 82/500\n",
      "781/781 [==============================] - 28s 36ms/step - loss: 5.3663e-05 - mse: 7.5840e-05 - val_loss: 5.6552e-05 - val_mse: 8.1362e-05\n",
      "Epoch 83/500\n",
      "781/781 [==============================] - 27s 35ms/step - loss: 5.3168e-05 - mse: 7.5117e-05 - val_loss: 3.9980e-05 - val_mse: 4.8587e-05\n",
      "Epoch 84/500\n",
      "781/781 [==============================] - 28s 36ms/step - loss: 5.1475e-05 - mse: 7.2008e-05 - val_loss: 3.3462e-05 - val_mse: 3.5938e-05\n"
     ]
    },
    {
     "name": "stderr",
     "output_type": "stream",
     "text": [
      "WARNING:absl:Found untraced functions such as lstm_cell_5_layer_call_and_return_conditional_losses, lstm_cell_5_layer_call_fn, lstm_cell_6_layer_call_and_return_conditional_losses, lstm_cell_6_layer_call_fn, lstm_cell_5_layer_call_fn while saving (showing 5 of 10). These functions will not be directly callable after loading.\n"
     ]
    },
    {
     "name": "stdout",
     "output_type": "stream",
     "text": [
      "INFO:tensorflow:Assets written to: s2s_LSTM_256TimeD_43\\assets\n"
     ]
    },
    {
     "name": "stderr",
     "output_type": "stream",
     "text": [
      "INFO:tensorflow:Assets written to: s2s_LSTM_256TimeD_43\\assets\n"
     ]
    },
    {
     "name": "stdout",
     "output_type": "stream",
     "text": [
      "Epoch 85/500\n",
      "781/781 [==============================] - 28s 36ms/step - loss: 5.2135e-05 - mse: 7.3640e-05 - val_loss: 4.1271e-05 - val_mse: 5.1798e-05\n",
      "Epoch 86/500\n",
      "781/781 [==============================] - 28s 36ms/step - loss: 5.0940e-05 - mse: 7.1506e-05 - val_loss: 4.1672e-05 - val_mse: 5.2965e-05\n",
      "Epoch 87/500\n",
      "781/781 [==============================] - 28s 35ms/step - loss: 5.0647e-05 - mse: 7.1204e-05 - val_loss: 4.3963e-05 - val_mse: 5.7773e-05\n",
      "Epoch 88/500\n",
      "781/781 [==============================] - 28s 36ms/step - loss: 5.0623e-05 - mse: 7.1429e-05 - val_loss: 3.6183e-05 - val_mse: 4.2472e-05\n",
      "Epoch 89/500\n",
      "781/781 [==============================] - 28s 35ms/step - loss: 5.1042e-05 - mse: 7.2552e-05 - val_loss: 3.1333e-05 - val_mse: 3.2950e-05\n"
     ]
    },
    {
     "name": "stderr",
     "output_type": "stream",
     "text": [
      "WARNING:absl:Found untraced functions such as lstm_cell_5_layer_call_and_return_conditional_losses, lstm_cell_5_layer_call_fn, lstm_cell_6_layer_call_and_return_conditional_losses, lstm_cell_6_layer_call_fn, lstm_cell_5_layer_call_fn while saving (showing 5 of 10). These functions will not be directly callable after loading.\n"
     ]
    },
    {
     "name": "stdout",
     "output_type": "stream",
     "text": [
      "INFO:tensorflow:Assets written to: s2s_LSTM_256TimeD_43\\assets\n"
     ]
    },
    {
     "name": "stderr",
     "output_type": "stream",
     "text": [
      "INFO:tensorflow:Assets written to: s2s_LSTM_256TimeD_43\\assets\n"
     ]
    },
    {
     "name": "stdout",
     "output_type": "stream",
     "text": [
      "Epoch 90/500\n",
      "781/781 [==============================] - 34s 44ms/step - loss: 4.9751e-05 - mse: 7.0190e-05 - val_loss: 3.4989e-05 - val_mse: 4.0521e-05\n",
      "Epoch 91/500\n",
      "781/781 [==============================] - 30s 38ms/step - loss: 4.8954e-05 - mse: 6.8849e-05 - val_loss: 5.6264e-05 - val_mse: 8.3275e-05\n",
      "Epoch 92/500\n",
      "781/781 [==============================] - 31s 39ms/step - loss: 4.9568e-05 - mse: 7.0338e-05 - val_loss: 6.8018e-05 - val_mse: 1.0699e-04\n",
      "Epoch 93/500\n",
      "781/781 [==============================] - 31s 40ms/step - loss: 4.9370e-05 - mse: 7.0180e-05 - val_loss: 8.6199e-05 - val_mse: 1.4350e-04\n",
      "Epoch 94/500\n",
      "781/781 [==============================] - 31s 39ms/step - loss: 4.7784e-05 - mse: 6.7214e-05 - val_loss: 1.2253e-04 - val_mse: 2.1633e-04\n",
      "Epoch 95/500\n",
      "781/781 [==============================] - 29s 37ms/step - loss: 4.8556e-05 - mse: 6.9013e-05 - val_loss: 1.3189e-04 - val_mse: 2.3525e-04\n",
      "Epoch 96/500\n",
      "781/781 [==============================] - 29s 37ms/step - loss: 4.8016e-05 - mse: 6.8151e-05 - val_loss: 1.2919e-04 - val_mse: 2.3007e-04\n",
      "Epoch 97/500\n",
      "781/781 [==============================] - 31s 40ms/step - loss: 4.6729e-05 - mse: 6.5792e-05 - val_loss: 1.0344e-04 - val_mse: 1.7891e-04\n",
      "Epoch 98/500\n",
      "781/781 [==============================] - 29s 37ms/step - loss: 4.7797e-05 - mse: 6.8181e-05 - val_loss: 8.6548e-05 - val_mse: 1.4540e-04\n",
      "Epoch 99/500\n",
      "781/781 [==============================] - 28s 36ms/step - loss: 4.7269e-05 - mse: 6.7308e-05 - val_loss: 6.4337e-05 - val_mse: 1.0123e-04\n",
      "Epoch 100/500\n",
      "781/781 [==============================] - 28s 36ms/step - loss: 4.5757e-05 - mse: 6.4480e-05 - val_loss: 4.3334e-05 - val_mse: 5.9588e-05\n",
      "Epoch 101/500\n",
      "781/781 [==============================] - 28s 36ms/step - loss: 4.7385e-05 - mse: 6.7966e-05 - val_loss: 3.6342e-05 - val_mse: 4.5840e-05\n",
      "Epoch 102/500\n",
      "781/781 [==============================] - 28s 36ms/step - loss: 4.5679e-05 - mse: 6.4709e-05 - val_loss: 3.1364e-05 - val_mse: 3.6140e-05\n",
      "Epoch 103/500\n",
      "781/781 [==============================] - 28s 36ms/step - loss: 4.4978e-05 - mse: 6.3527e-05 - val_loss: 3.3598e-05 - val_mse: 4.0919e-05\n",
      "Epoch 104/500\n",
      "781/781 [==============================] - 28s 36ms/step - loss: 4.7062e-05 - mse: 6.7906e-05 - val_loss: 3.4175e-05 - val_mse: 4.2257e-05\n",
      "Epoch 105/500\n",
      "781/781 [==============================] - 28s 36ms/step - loss: 4.3789e-05 - mse: 6.1490e-05 - val_loss: 3.3176e-05 - val_mse: 4.0435e-05\n",
      "Epoch 106/500\n",
      "781/781 [==============================] - 28s 36ms/step - loss: 4.5852e-05 - mse: 6.5849e-05 - val_loss: 3.2243e-05 - val_mse: 3.8682e-05\n",
      "Epoch 107/500\n",
      "781/781 [==============================] - 28s 36ms/step - loss: 4.5239e-05 - mse: 6.4786e-05 - val_loss: 3.9668e-05 - val_mse: 5.3556e-05\n",
      "Epoch 108/500\n",
      "781/781 [==============================] - 28s 36ms/step - loss: 4.3491e-05 - mse: 6.1440e-05 - val_loss: 6.6076e-05 - val_mse: 1.0644e-04\n",
      "Epoch 109/500\n",
      "781/781 [==============================] - 28s 36ms/step - loss: 4.5248e-05 - mse: 6.5163e-05 - val_loss: 8.1497e-05 - val_mse: 1.3737e-04\n",
      "Epoch 110/500\n",
      "781/781 [==============================] - 28s 36ms/step - loss: 4.3289e-05 - mse: 6.1386e-05 - val_loss: 1.0184e-04 - val_mse: 1.7817e-04\n",
      "Epoch 111/500\n",
      "781/781 [==============================] - 28s 36ms/step - loss: 4.4218e-05 - mse: 6.3432e-05 - val_loss: 1.1047e-04 - val_mse: 1.9557e-04\n",
      "Epoch 112/500\n",
      "781/781 [==============================] - 28s 36ms/step - loss: 4.4367e-05 - mse: 6.3886e-05 - val_loss: 9.7670e-05 - val_mse: 1.7012e-04\n",
      "Epoch 113/500\n",
      "781/781 [==============================] - 28s 36ms/step - loss: 4.1929e-05 - mse: 5.9123e-05 - val_loss: 8.1028e-05 - val_mse: 1.3706e-04\n",
      "Epoch 114/500\n",
      "781/781 [==============================] - 28s 36ms/step - loss: 4.3419e-05 - mse: 6.2316e-05 - val_loss: 6.7282e-05 - val_mse: 1.0980e-04\n",
      "Epoch 115/500\n",
      "781/781 [==============================] - 28s 36ms/step - loss: 4.3161e-05 - mse: 6.1935e-05 - val_loss: 4.8600e-05 - val_mse: 7.2609e-05\n",
      "Epoch 116/500\n",
      "781/781 [==============================] - 28s 36ms/step - loss: 4.1641e-05 - mse: 5.9039e-05 - val_loss: 3.6362e-05 - val_mse: 4.8410e-05\n",
      "Epoch 117/500\n",
      "781/781 [==============================] - 28s 36ms/step - loss: 4.3971e-05 - mse: 6.3885e-05 - val_loss: 3.0289e-05 - val_mse: 3.6463e-05\n"
     ]
    },
    {
     "name": "stderr",
     "output_type": "stream",
     "text": [
      "WARNING:absl:Found untraced functions such as lstm_cell_5_layer_call_and_return_conditional_losses, lstm_cell_5_layer_call_fn, lstm_cell_6_layer_call_and_return_conditional_losses, lstm_cell_6_layer_call_fn, lstm_cell_5_layer_call_fn while saving (showing 5 of 10). These functions will not be directly callable after loading.\n"
     ]
    },
    {
     "name": "stdout",
     "output_type": "stream",
     "text": [
      "INFO:tensorflow:Assets written to: s2s_LSTM_256TimeD_43\\assets\n"
     ]
    },
    {
     "name": "stderr",
     "output_type": "stream",
     "text": [
      "INFO:tensorflow:Assets written to: s2s_LSTM_256TimeD_43\\assets\n"
     ]
    },
    {
     "name": "stdout",
     "output_type": "stream",
     "text": [
      "Epoch 118/500\n",
      "781/781 [==============================] - 28s 36ms/step - loss: 4.1199e-05 - mse: 5.8429e-05 - val_loss: 2.7973e-05 - val_mse: 3.2026e-05\n"
     ]
    },
    {
     "name": "stderr",
     "output_type": "stream",
     "text": [
      "WARNING:absl:Found untraced functions such as lstm_cell_5_layer_call_and_return_conditional_losses, lstm_cell_5_layer_call_fn, lstm_cell_6_layer_call_and_return_conditional_losses, lstm_cell_6_layer_call_fn, lstm_cell_5_layer_call_fn while saving (showing 5 of 10). These functions will not be directly callable after loading.\n"
     ]
    },
    {
     "name": "stdout",
     "output_type": "stream",
     "text": [
      "INFO:tensorflow:Assets written to: s2s_LSTM_256TimeD_43\\assets\n"
     ]
    },
    {
     "name": "stderr",
     "output_type": "stream",
     "text": [
      "INFO:tensorflow:Assets written to: s2s_LSTM_256TimeD_43\\assets\n"
     ]
    },
    {
     "name": "stdout",
     "output_type": "stream",
     "text": [
      "Epoch 119/500\n",
      "781/781 [==============================] - 34s 43ms/step - loss: 4.1402e-05 - mse: 5.9021e-05 - val_loss: 3.5977e-05 - val_mse: 4.8326e-05\n",
      "Epoch 120/500\n",
      "781/781 [==============================] - 30s 38ms/step - loss: 4.3600e-05 - mse: 6.3576e-05 - val_loss: 3.8307e-05 - val_mse: 5.3099e-05\n",
      "Epoch 121/500\n",
      "781/781 [==============================] - 29s 37ms/step - loss: 4.0352e-05 - mse: 5.7164e-05 - val_loss: 3.9554e-05 - val_mse: 5.5759e-05\n",
      "Epoch 122/500\n",
      "781/781 [==============================] - 29s 38ms/step - loss: 4.2156e-05 - mse: 6.0956e-05 - val_loss: 3.7347e-05 - val_mse: 5.1473e-05\n",
      "Epoch 123/500\n",
      "781/781 [==============================] - 29s 37ms/step - loss: 4.1773e-05 - mse: 6.0295e-05 - val_loss: 2.7502e-05 - val_mse: 3.1757e-05\n"
     ]
    },
    {
     "name": "stderr",
     "output_type": "stream",
     "text": [
      "WARNING:absl:Found untraced functions such as lstm_cell_5_layer_call_and_return_conditional_losses, lstm_cell_5_layer_call_fn, lstm_cell_6_layer_call_and_return_conditional_losses, lstm_cell_6_layer_call_fn, lstm_cell_5_layer_call_fn while saving (showing 5 of 10). These functions will not be directly callable after loading.\n"
     ]
    },
    {
     "name": "stdout",
     "output_type": "stream",
     "text": [
      "INFO:tensorflow:Assets written to: s2s_LSTM_256TimeD_43\\assets\n"
     ]
    },
    {
     "name": "stderr",
     "output_type": "stream",
     "text": [
      "INFO:tensorflow:Assets written to: s2s_LSTM_256TimeD_43\\assets\n"
     ]
    },
    {
     "name": "stdout",
     "output_type": "stream",
     "text": [
      "Epoch 124/500\n",
      "781/781 [==============================] - 29s 37ms/step - loss: 3.9891e-05 - mse: 5.6654e-05 - val_loss: 3.2040e-05 - val_mse: 4.0858e-05\n",
      "Epoch 125/500\n",
      "781/781 [==============================] - 30s 38ms/step - loss: 4.1595e-05 - mse: 6.0225e-05 - val_loss: 5.5904e-05 - val_mse: 8.8573e-05\n",
      "Epoch 126/500\n",
      "781/781 [==============================] - 29s 37ms/step - loss: 4.0544e-05 - mse: 5.8229e-05 - val_loss: 9.9916e-05 - val_mse: 1.7654e-04\n",
      "Epoch 127/500\n",
      "781/781 [==============================] - 30s 38ms/step - loss: 4.0336e-05 - mse: 5.7940e-05 - val_loss: 1.5395e-04 - val_mse: 2.8460e-04\n",
      "Epoch 128/500\n",
      "781/781 [==============================] - 29s 37ms/step - loss: 4.0226e-05 - mse: 5.7858e-05 - val_loss: 1.8824e-04 - val_mse: 3.5325e-04\n",
      "Epoch 129/500\n",
      "781/781 [==============================] - 29s 37ms/step - loss: 3.9960e-05 - mse: 5.7430e-05 - val_loss: 1.8318e-04 - val_mse: 3.4326e-04\n",
      "Epoch 130/500\n",
      "781/781 [==============================] - 29s 37ms/step - loss: 4.0196e-05 - mse: 5.8041e-05 - val_loss: 1.8168e-04 - val_mse: 3.4044e-04\n",
      "Epoch 131/500\n",
      "781/781 [==============================] - 29s 37ms/step - loss: 4.0778e-05 - mse: 5.9314e-05 - val_loss: 1.1492e-04 - val_mse: 2.0711e-04\n",
      "Epoch 132/500\n",
      "781/781 [==============================] - 29s 37ms/step - loss: 3.7593e-05 - mse: 5.3036e-05 - val_loss: 9.3579e-05 - val_mse: 1.6471e-04\n",
      "Epoch 133/500\n",
      "781/781 [==============================] - 29s 37ms/step - loss: 4.1644e-05 - mse: 6.1308e-05 - val_loss: 8.0654e-05 - val_mse: 1.3896e-04\n",
      "Epoch 134/500\n",
      "781/781 [==============================] - 29s 37ms/step - loss: 3.8302e-05 - mse: 5.4664e-05 - val_loss: 5.9510e-05 - val_mse: 9.6859e-05\n",
      "Epoch 135/500\n",
      "781/781 [==============================] - 29s 37ms/step - loss: 3.9041e-05 - mse: 5.6294e-05 - val_loss: 8.2396e-05 - val_mse: 1.4271e-04\n",
      "Epoch 136/500\n",
      "781/781 [==============================] - 29s 37ms/step - loss: 3.9564e-05 - mse: 5.7444e-05 - val_loss: 8.0493e-05 - val_mse: 1.3897e-04\n",
      "Epoch 137/500\n",
      "781/781 [==============================] - 29s 37ms/step - loss: 3.8035e-05 - mse: 5.4483e-05 - val_loss: 1.3674e-04 - val_mse: 2.5147e-04\n",
      "Epoch 138/500\n",
      "781/781 [==============================] - 29s 37ms/step - loss: 3.9933e-05 - mse: 5.8414e-05 - val_loss: 1.5024e-04 - val_mse: 2.7849e-04\n",
      "Epoch 139/500\n",
      "781/781 [==============================] - 29s 37ms/step - loss: 3.8131e-05 - mse: 5.4876e-05 - val_loss: 1.6181e-04 - val_mse: 3.0173e-04\n",
      "Epoch 140/500\n",
      "781/781 [==============================] - 29s 37ms/step - loss: 3.8824e-05 - mse: 5.6391e-05 - val_loss: 1.7224e-04 - val_mse: 3.2270e-04\n",
      "Epoch 141/500\n",
      "781/781 [==============================] - 29s 37ms/step - loss: 3.8702e-05 - mse: 5.6233e-05 - val_loss: 1.1489e-04 - val_mse: 2.0819e-04\n",
      "Epoch 142/500\n",
      "781/781 [==============================] - 29s 37ms/step - loss: 3.7372e-05 - mse: 5.3665e-05 - val_loss: 9.0930e-05 - val_mse: 1.6048e-04\n",
      "Epoch 143/500\n",
      "781/781 [==============================] - 29s 37ms/step - loss: 3.8168e-05 - mse: 5.5375e-05 - val_loss: 6.7539e-05 - val_mse: 1.1387e-04\n",
      "Epoch 144/500\n",
      "781/781 [==============================] - 29s 37ms/step - loss: 3.8415e-05 - mse: 5.5971e-05 - val_loss: 4.9290e-05 - val_mse: 7.7550e-05\n",
      "Epoch 145/500\n",
      "781/781 [==============================] - 29s 37ms/step - loss: 3.7747e-05 - mse: 5.4726e-05 - val_loss: 3.6491e-05 - val_mse: 5.2103e-05\n",
      "Epoch 146/500\n",
      "781/781 [==============================] - 29s 37ms/step - loss: 3.6292e-05 - mse: 5.1909e-05 - val_loss: 3.6634e-05 - val_mse: 5.2562e-05\n",
      "Epoch 147/500\n",
      "781/781 [==============================] - 29s 37ms/step - loss: 3.9427e-05 - mse: 5.8315e-05 - val_loss: 3.4443e-05 - val_mse: 4.8234e-05\n",
      "Epoch 148/500\n",
      "781/781 [==============================] - 29s 37ms/step - loss: 3.5876e-05 - mse: 5.1241e-05 - val_loss: 3.8158e-05 - val_mse: 5.5728e-05\n",
      "Epoch 149/500\n",
      "781/781 [==============================] - 29s 37ms/step - loss: 3.7909e-05 - mse: 5.5460e-05 - val_loss: 5.1444e-05 - val_mse: 8.2380e-05\n",
      "Epoch 150/500\n",
      "781/781 [==============================] - 29s 37ms/step - loss: 3.7185e-05 - mse: 5.4073e-05 - val_loss: 5.8367e-05 - val_mse: 9.6224e-05\n",
      "Epoch 151/500\n",
      "781/781 [==============================] - 29s 37ms/step - loss: 3.6225e-05 - mse: 5.2248e-05 - val_loss: 7.7761e-05 - val_mse: 1.3508e-04\n",
      "Epoch 152/500\n",
      "781/781 [==============================] - 29s 37ms/step - loss: 3.6924e-05 - mse: 5.3746e-05 - val_loss: 9.2376e-05 - val_mse: 1.6436e-04\n",
      "Epoch 153/500\n",
      "781/781 [==============================] - 29s 37ms/step - loss: 3.6815e-05 - mse: 5.3605e-05 - val_loss: 8.0588e-05 - val_mse: 1.4085e-04\n",
      "Epoch 154/500\n",
      "781/781 [==============================] - 29s 37ms/step - loss: 3.6052e-05 - mse: 5.2172e-05 - val_loss: 8.7075e-05 - val_mse: 1.5397e-04\n",
      "Epoch 155/500\n",
      "781/781 [==============================] - 29s 37ms/step - loss: 3.7164e-05 - mse: 5.4493e-05 - val_loss: 6.2865e-05 - val_mse: 1.0563e-04\n",
      "Epoch 156/500\n",
      "781/781 [==============================] - 29s 37ms/step - loss: 3.5488e-05 - mse: 5.1212e-05 - val_loss: 4.5970e-05 - val_mse: 7.2037e-05\n",
      "Epoch 157/500\n",
      "781/781 [==============================] - 29s 37ms/step - loss: 3.6981e-05 - mse: 5.4299e-05 - val_loss: 3.5084e-05 - val_mse: 5.0382e-05\n",
      "Epoch 158/500\n",
      "781/781 [==============================] - 29s 37ms/step - loss: 3.5201e-05 - mse: 5.0793e-05 - val_loss: 2.4841e-05 - val_mse: 3.0024e-05\n"
     ]
    },
    {
     "name": "stderr",
     "output_type": "stream",
     "text": [
      "WARNING:absl:Found untraced functions such as lstm_cell_5_layer_call_and_return_conditional_losses, lstm_cell_5_layer_call_fn, lstm_cell_6_layer_call_and_return_conditional_losses, lstm_cell_6_layer_call_fn, lstm_cell_5_layer_call_fn while saving (showing 5 of 10). These functions will not be directly callable after loading.\n"
     ]
    },
    {
     "name": "stdout",
     "output_type": "stream",
     "text": [
      "INFO:tensorflow:Assets written to: s2s_LSTM_256TimeD_43\\assets\n"
     ]
    },
    {
     "name": "stderr",
     "output_type": "stream",
     "text": [
      "INFO:tensorflow:Assets written to: s2s_LSTM_256TimeD_43\\assets\n"
     ]
    },
    {
     "name": "stdout",
     "output_type": "stream",
     "text": [
      "Epoch 159/500\n",
      "781/781 [==============================] - 29s 37ms/step - loss: 3.5441e-05 - mse: 5.1376e-05 - val_loss: 2.7199e-05 - val_mse: 3.5001e-05\n",
      "Epoch 160/500\n",
      "781/781 [==============================] - 29s 37ms/step - loss: 3.6998e-05 - mse: 5.4576e-05 - val_loss: 2.6384e-05 - val_mse: 3.3366e-05\n",
      "Epoch 161/500\n",
      "781/781 [==============================] - 29s 37ms/step - loss: 3.3918e-05 - mse: 4.8462e-05 - val_loss: 3.5267e-05 - val_mse: 5.1335e-05\n",
      "Epoch 162/500\n",
      "781/781 [==============================] - 29s 37ms/step - loss: 3.6274e-05 - mse: 5.3302e-05 - val_loss: 3.9263e-05 - val_mse: 5.9435e-05\n",
      "Epoch 163/500\n",
      "781/781 [==============================] - 29s 37ms/step - loss: 3.5075e-05 - mse: 5.0953e-05 - val_loss: 4.1116e-05 - val_mse: 6.3181e-05\n",
      "Epoch 164/500\n",
      "781/781 [==============================] - 29s 37ms/step - loss: 3.3892e-05 - mse: 4.8681e-05 - val_loss: 5.3245e-05 - val_mse: 8.7657e-05\n",
      "Epoch 165/500\n",
      "781/781 [==============================] - 29s 37ms/step - loss: 3.7047e-05 - mse: 5.5094e-05 - val_loss: 6.0454e-05 - val_mse: 1.0210e-04\n",
      "Epoch 166/500\n",
      "781/781 [==============================] - 29s 37ms/step - loss: 3.3663e-05 - mse: 4.8352e-05 - val_loss: 5.2405e-05 - val_mse: 8.6023e-05\n",
      "Epoch 167/500\n",
      "781/781 [==============================] - 29s 37ms/step - loss: 3.3920e-05 - mse: 4.8974e-05 - val_loss: 7.9349e-05 - val_mse: 1.4020e-04\n",
      "Epoch 168/500\n",
      "781/781 [==============================] - 29s 37ms/step - loss: 3.6718e-05 - mse: 5.4658e-05 - val_loss: 6.6960e-05 - val_mse: 1.1531e-04\n",
      "Epoch 169/500\n",
      "781/781 [==============================] - 29s 37ms/step - loss: 3.1251e-05 - mse: 4.3741e-05 - val_loss: 6.5181e-05 - val_mse: 1.1190e-04\n",
      "Epoch 170/500\n",
      "781/781 [==============================] - 29s 37ms/step - loss: 3.5708e-05 - mse: 5.2819e-05 - val_loss: 1.0841e-04 - val_mse: 1.9861e-04\n",
      "Epoch 171/500\n",
      "781/781 [==============================] - 29s 37ms/step - loss: 3.3988e-05 - mse: 4.9391e-05 - val_loss: 6.6303e-05 - val_mse: 1.1418e-04\n",
      "Epoch 172/500\n",
      "781/781 [==============================] - 29s 37ms/step - loss: 3.0125e-05 - mse: 4.1760e-05 - val_loss: 1.0701e-04 - val_mse: 1.9598e-04\n",
      "Epoch 173/500\n",
      "781/781 [==============================] - 29s 37ms/step - loss: 3.8112e-05 - mse: 5.7883e-05 - val_loss: 1.1055e-04 - val_mse: 2.0303e-04\n",
      "Epoch 174/500\n",
      "781/781 [==============================] - 29s 37ms/step - loss: 2.9890e-05 - mse: 4.1407e-05 - val_loss: 7.6174e-05 - val_mse: 1.3425e-04\n",
      "Epoch 175/500\n",
      "781/781 [==============================] - 29s 37ms/step - loss: 3.3020e-05 - mse: 4.7853e-05 - val_loss: 1.5762e-04 - val_mse: 2.9761e-04\n",
      "Epoch 176/500\n",
      "781/781 [==============================] - 29s 37ms/step - loss: 3.5977e-05 - mse: 5.3811e-05 - val_loss: 6.4513e-05 - val_mse: 1.1098e-04\n",
      "Epoch 177/500\n",
      "781/781 [==============================] - 29s 37ms/step - loss: 2.7525e-05 - mse: 3.6933e-05 - val_loss: 8.3203e-05 - val_mse: 1.4870e-04\n",
      "Epoch 178/500\n",
      "781/781 [==============================] - 29s 37ms/step - loss: 3.7752e-05 - mse: 5.7596e-05 - val_loss: 7.0564e-05 - val_mse: 1.2344e-04\n",
      "Epoch 179/500\n",
      "781/781 [==============================] - 29s 37ms/step - loss: 3.0198e-05 - mse: 4.2440e-05 - val_loss: 3.5357e-05 - val_mse: 5.2861e-05\n",
      "Epoch 180/500\n",
      "781/781 [==============================] - 30s 38ms/step - loss: 3.0869e-05 - mse: 4.3951e-05 - val_loss: 5.2233e-05 - val_mse: 8.7000e-05\n",
      "Epoch 181/500\n",
      "781/781 [==============================] - 30s 39ms/step - loss: 3.6586e-05 - mse: 5.5453e-05 - val_loss: 2.5569e-05 - val_mse: 3.3407e-05\n",
      "Epoch 182/500\n",
      "781/781 [==============================] - 29s 37ms/step - loss: 2.6902e-05 - mse: 3.6092e-05 - val_loss: 2.4258e-05 - val_mse: 3.0960e-05\n"
     ]
    },
    {
     "name": "stderr",
     "output_type": "stream",
     "text": [
      "WARNING:absl:Found untraced functions such as lstm_cell_5_layer_call_and_return_conditional_losses, lstm_cell_5_layer_call_fn, lstm_cell_6_layer_call_and_return_conditional_losses, lstm_cell_6_layer_call_fn, lstm_cell_5_layer_call_fn while saving (showing 5 of 10). These functions will not be directly callable after loading.\n"
     ]
    },
    {
     "name": "stdout",
     "output_type": "stream",
     "text": [
      "INFO:tensorflow:Assets written to: s2s_LSTM_256TimeD_43\\assets\n"
     ]
    },
    {
     "name": "stderr",
     "output_type": "stream",
     "text": [
      "INFO:tensorflow:Assets written to: s2s_LSTM_256TimeD_43\\assets\n"
     ]
    },
    {
     "name": "stdout",
     "output_type": "stream",
     "text": [
      "Epoch 183/500\n",
      "781/781 [==============================] - 29s 37ms/step - loss: 3.4781e-05 - mse: 5.2067e-05 - val_loss: 2.9440e-05 - val_mse: 4.1519e-05\n",
      "Epoch 184/500\n",
      "781/781 [==============================] - 29s 37ms/step - loss: 3.2696e-05 - mse: 4.7889e-05 - val_loss: 1.9314e-05 - val_mse: 2.1033e-05\n"
     ]
    },
    {
     "name": "stderr",
     "output_type": "stream",
     "text": [
      "WARNING:absl:Found untraced functions such as lstm_cell_5_layer_call_and_return_conditional_losses, lstm_cell_5_layer_call_fn, lstm_cell_6_layer_call_and_return_conditional_losses, lstm_cell_6_layer_call_fn, lstm_cell_5_layer_call_fn while saving (showing 5 of 10). These functions will not be directly callable after loading.\n"
     ]
    },
    {
     "name": "stdout",
     "output_type": "stream",
     "text": [
      "INFO:tensorflow:Assets written to: s2s_LSTM_256TimeD_43\\assets\n"
     ]
    },
    {
     "name": "stderr",
     "output_type": "stream",
     "text": [
      "INFO:tensorflow:Assets written to: s2s_LSTM_256TimeD_43\\assets\n"
     ]
    },
    {
     "name": "stdout",
     "output_type": "stream",
     "text": [
      "Epoch 185/500\n",
      "781/781 [==============================] - 29s 37ms/step - loss: 2.7389e-05 - mse: 3.7368e-05 - val_loss: 2.5344e-05 - val_mse: 3.3421e-05\n",
      "Epoch 186/500\n",
      "781/781 [==============================] - 29s 37ms/step - loss: 3.7365e-05 - mse: 5.7473e-05 - val_loss: 2.5329e-05 - val_mse: 3.3311e-05\n",
      "Epoch 187/500\n",
      "781/781 [==============================] - 29s 37ms/step - loss: 2.7028e-05 - mse: 3.6746e-05 - val_loss: 2.2538e-05 - val_mse: 2.7752e-05\n",
      "Epoch 188/500\n",
      "781/781 [==============================] - 30s 39ms/step - loss: 3.1781e-05 - mse: 4.6471e-05 - val_loss: 4.0564e-05 - val_mse: 6.4121e-05\n",
      "Epoch 189/500\n",
      "781/781 [==============================] - 30s 39ms/step - loss: 3.4052e-05 - mse: 5.1024e-05 - val_loss: 2.3462e-05 - val_mse: 2.9655e-05\n",
      "Epoch 190/500\n",
      "781/781 [==============================] - 29s 37ms/step - loss: 2.5791e-05 - mse: 3.4544e-05 - val_loss: 3.1706e-05 - val_mse: 4.6438e-05\n",
      "Epoch 191/500\n",
      "781/781 [==============================] - 29s 37ms/step - loss: 3.6601e-05 - mse: 5.6356e-05 - val_loss: 3.5726e-05 - val_mse: 5.4516e-05\n",
      "Epoch 192/500\n",
      "781/781 [==============================] - 29s 37ms/step - loss: 2.7574e-05 - mse: 3.8228e-05 - val_loss: 2.2341e-05 - val_mse: 2.7703e-05\n",
      "Epoch 193/500\n",
      "781/781 [==============================] - 29s 37ms/step - loss: 2.9340e-05 - mse: 4.1951e-05 - val_loss: 3.8337e-05 - val_mse: 6.0002e-05\n",
      "Epoch 194/500\n",
      "781/781 [==============================] - 29s 37ms/step - loss: 3.5216e-05 - mse: 5.3743e-05 - val_loss: 2.2849e-05 - val_mse: 2.8883e-05\n",
      "Epoch 195/500\n",
      "781/781 [==============================] - 29s 37ms/step - loss: 2.4858e-05 - mse: 3.3031e-05 - val_loss: 2.1937e-05 - val_mse: 2.7268e-05\n",
      "Epoch 196/500\n",
      "781/781 [==============================] - 29s 37ms/step - loss: 3.4929e-05 - mse: 5.3376e-05 - val_loss: 3.2109e-05 - val_mse: 4.7737e-05\n",
      "Epoch 197/500\n",
      "781/781 [==============================] - 29s 37ms/step - loss: 2.8639e-05 - mse: 4.0738e-05 - val_loss: 1.8947e-05 - val_mse: 2.1326e-05\n"
     ]
    },
    {
     "name": "stderr",
     "output_type": "stream",
     "text": [
      "WARNING:absl:Found untraced functions such as lstm_cell_5_layer_call_and_return_conditional_losses, lstm_cell_5_layer_call_fn, lstm_cell_6_layer_call_and_return_conditional_losses, lstm_cell_6_layer_call_fn, lstm_cell_5_layer_call_fn while saving (showing 5 of 10). These functions will not be directly callable after loading.\n"
     ]
    },
    {
     "name": "stdout",
     "output_type": "stream",
     "text": [
      "INFO:tensorflow:Assets written to: s2s_LSTM_256TimeD_43\\assets\n"
     ]
    },
    {
     "name": "stderr",
     "output_type": "stream",
     "text": [
      "INFO:tensorflow:Assets written to: s2s_LSTM_256TimeD_43\\assets\n"
     ]
    },
    {
     "name": "stdout",
     "output_type": "stream",
     "text": [
      "Epoch 198/500\n",
      "781/781 [==============================] - 28s 36ms/step - loss: 2.8052e-05 - mse: 3.9716e-05 - val_loss: 2.8398e-05 - val_mse: 4.0524e-05\n",
      "Epoch 199/500\n",
      "781/781 [==============================] - 29s 37ms/step - loss: 3.4586e-05 - mse: 5.2842e-05 - val_loss: 2.1546e-05 - val_mse: 2.6713e-05\n",
      "Epoch 200/500\n",
      "781/781 [==============================] - 29s 37ms/step - loss: 2.5323e-05 - mse: 3.4309e-05 - val_loss: 2.1250e-05 - val_mse: 2.6273e-05\n",
      "Epoch 201/500\n",
      "781/781 [==============================] - 29s 37ms/step - loss: 3.2432e-05 - mse: 4.8688e-05 - val_loss: 3.3331e-05 - val_mse: 5.0647e-05\n",
      "Epoch 202/500\n",
      "781/781 [==============================] - 29s 37ms/step - loss: 3.0308e-05 - mse: 4.4407e-05 - val_loss: 2.0900e-05 - val_mse: 2.5597e-05\n",
      "Epoch 203/500\n",
      "781/781 [==============================] - 28s 36ms/step - loss: 2.5366e-05 - mse: 3.4621e-05 - val_loss: 3.8742e-05 - val_mse: 6.1633e-05\n",
      "Epoch 204/500\n",
      "781/781 [==============================] - 28s 36ms/step - loss: 3.5899e-05 - mse: 5.5796e-05 - val_loss: 3.6985e-05 - val_mse: 5.8032e-05\n",
      "Epoch 205/500\n",
      "781/781 [==============================] - 28s 36ms/step - loss: 2.4840e-05 - mse: 3.3618e-05 - val_loss: 3.3553e-05 - val_mse: 5.1229e-05\n",
      "Epoch 206/500\n",
      "781/781 [==============================] - 29s 37ms/step - loss: 3.0988e-05 - mse: 4.6109e-05 - val_loss: 1.0420e-04 - val_mse: 1.9284e-04\n",
      "Epoch 207/500\n",
      "781/781 [==============================] - 29s 36ms/step - loss: 3.1409e-05 - mse: 4.6910e-05 - val_loss: 3.9972e-05 - val_mse: 6.4097e-05\n",
      "Epoch 208/500\n",
      "781/781 [==============================] - 29s 37ms/step - loss: 2.3916e-05 - mse: 3.1991e-05 - val_loss: 8.9874e-05 - val_mse: 1.6424e-04\n",
      "Epoch 209/500\n",
      "781/781 [==============================] - 30s 38ms/step - loss: 3.5228e-05 - mse: 5.4770e-05 - val_loss: 1.3131e-04 - val_mse: 2.4716e-04\n",
      "Epoch 210/500\n",
      "781/781 [==============================] - 30s 38ms/step - loss: 2.5342e-05 - mse: 3.4909e-05 - val_loss: 6.2452e-05 - val_mse: 1.0932e-04\n",
      "Epoch 211/500\n",
      "781/781 [==============================] - 30s 38ms/step - loss: 2.7977e-05 - mse: 4.0362e-05 - val_loss: 3.8539e-04 - val_mse: 7.5530e-04\n",
      "Epoch 212/500\n",
      "781/781 [==============================] - 30s 38ms/step - loss: 3.2679e-05 - mse: 4.9756e-05 - val_loss: 8.4698e-05 - val_mse: 1.5393e-04\n",
      "Epoch 213/500\n",
      "781/781 [==============================] - 29s 37ms/step - loss: 2.3488e-05 - mse: 3.1409e-05 - val_loss: 1.3861e-04 - val_mse: 2.6199e-04\n",
      "Epoch 214/500\n",
      "781/781 [==============================] - 29s 37ms/step - loss: 3.4046e-05 - mse: 5.2673e-05 - val_loss: 2.3997e-04 - val_mse: 4.6480e-04\n",
      "Epoch 215/500\n",
      "781/781 [==============================] - 29s 37ms/step - loss: 2.5348e-05 - mse: 3.5197e-05 - val_loss: 9.3851e-05 - val_mse: 1.7242e-04\n",
      "Epoch 216/500\n",
      "781/781 [==============================] - 29s 37ms/step - loss: 2.7322e-05 - mse: 3.9322e-05 - val_loss: 4.6949e-04 - val_mse: 9.2385e-04\n",
      "Epoch 217/500\n",
      "781/781 [==============================] - 29s 38ms/step - loss: 3.1987e-05 - mse: 4.8664e-05 - val_loss: 1.3540e-04 - val_mse: 2.5567e-04\n",
      "Epoch 218/500\n",
      "781/781 [==============================] - 29s 37ms/step - loss: 2.3648e-05 - mse: 3.1996e-05 - val_loss: 1.6474e-04 - val_mse: 3.1451e-04\n",
      "Epoch 219/500\n",
      "781/781 [==============================] - 29s 37ms/step - loss: 3.2149e-05 - mse: 4.9134e-05 - val_loss: 2.9868e-04 - val_mse: 5.8256e-04\n",
      "Epoch 220/500\n",
      "781/781 [==============================] - 29s 37ms/step - loss: 2.6055e-05 - mse: 3.6896e-05 - val_loss: 1.1300e-04 - val_mse: 2.1101e-04\n",
      "Epoch 221/500\n",
      "781/781 [==============================] - 29s 37ms/step - loss: 2.6496e-05 - mse: 3.7914e-05 - val_loss: 3.3054e-04 - val_mse: 6.4635e-04\n",
      "Epoch 222/500\n",
      "781/781 [==============================] - 29s 37ms/step - loss: 3.2248e-05 - mse: 4.9433e-05 - val_loss: 1.3759e-04 - val_mse: 2.6033e-04\n",
      "Epoch 223/500\n",
      "781/781 [==============================] - 29s 37ms/step - loss: 2.2443e-05 - mse: 2.9838e-05 - val_loss: 1.4410e-04 - val_mse: 2.7353e-04\n",
      "Epoch 224/500\n",
      "781/781 [==============================] - 29s 37ms/step - loss: 3.1515e-05 - mse: 4.8150e-05 - val_loss: 2.9117e-04 - val_mse: 5.6791e-04\n",
      "Epoch 225/500\n",
      "781/781 [==============================] - 29s 37ms/step - loss: 2.6187e-05 - mse: 3.7432e-05 - val_loss: 9.9334e-05 - val_mse: 1.8395e-04\n",
      "Epoch 226/500\n",
      "781/781 [==============================] - 29s 37ms/step - loss: 2.4996e-05 - mse: 3.5192e-05 - val_loss: 2.6197e-04 - val_mse: 5.0949e-04\n",
      "Epoch 227/500\n",
      "781/781 [==============================] - 30s 38ms/step - loss: 3.2923e-05 - mse: 5.1086e-05 - val_loss: 1.4649e-04 - val_mse: 2.7848e-04\n",
      "Epoch 228/500\n",
      "781/781 [==============================] - 30s 38ms/step - loss: 2.1758e-05 - mse: 2.8744e-05 - val_loss: 1.1847e-04 - val_mse: 2.2252e-04\n",
      "Epoch 229/500\n",
      "781/781 [==============================] - 30s 38ms/step - loss: 2.9528e-05 - mse: 4.4472e-05 - val_loss: 3.2481e-04 - val_mse: 6.3551e-04\n",
      "Epoch 230/500\n",
      "781/781 [==============================] - 30s 38ms/step - loss: 2.8221e-05 - mse: 4.1796e-05 - val_loss: 9.1567e-05 - val_mse: 1.6870e-04\n",
      "Epoch 231/500\n",
      "781/781 [==============================] - 30s 39ms/step - loss: 2.2669e-05 - mse: 3.0814e-05 - val_loss: 2.0359e-04 - val_mse: 3.9310e-04\n",
      "Epoch 232/500\n",
      "781/781 [==============================] - 30s 38ms/step - loss: 3.1817e-05 - mse: 4.9201e-05 - val_loss: 2.2667e-04 - val_mse: 4.3930e-04\n",
      "Epoch 233/500\n",
      "781/781 [==============================] - 29s 37ms/step - loss: 2.3516e-05 - mse: 3.2571e-05 - val_loss: 1.1506e-04 - val_mse: 2.1597e-04\n",
      "Epoch 234/500\n",
      "781/781 [==============================] - 29s 37ms/step - loss: 2.7125e-05 - mse: 3.9951e-05 - val_loss: 3.0804e-04 - val_mse: 6.0218e-04\n",
      "Epoch 235/500\n",
      "781/781 [==============================] - 29s 37ms/step - loss: 3.0116e-05 - mse: 4.5902e-05 - val_loss: 1.0269e-04 - val_mse: 1.9126e-04\n",
      "Epoch 236/500\n",
      "781/781 [==============================] - 29s 37ms/step - loss: 2.1540e-05 - mse: 2.8823e-05 - val_loss: 1.7302e-04 - val_mse: 3.3218e-04\n",
      "Epoch 237/500\n",
      "781/781 [==============================] - 29s 37ms/step - loss: 3.1953e-05 - mse: 4.9769e-05 - val_loss: 2.3770e-04 - val_mse: 4.6160e-04\n",
      "Epoch 238/500\n",
      "781/781 [==============================] - 29s 37ms/step - loss: 2.2641e-05 - mse: 3.1092e-05 - val_loss: 1.0239e-04 - val_mse: 1.9088e-04\n",
      "Epoch 239/500\n",
      "781/781 [==============================] - 29s 37ms/step - loss: 2.6859e-05 - mse: 3.9701e-05 - val_loss: 3.0689e-04 - val_mse: 6.0014e-04\n",
      "Epoch 240/500\n",
      "781/781 [==============================] - 29s 37ms/step - loss: 2.9285e-05 - mse: 4.4522e-05 - val_loss: 9.6102e-05 - val_mse: 1.7836e-04\n",
      "Epoch 241/500\n",
      "781/781 [==============================] - 29s 37ms/step - loss: 2.1181e-05 - mse: 2.8397e-05 - val_loss: 1.7092e-04 - val_mse: 3.2824e-04\n",
      "Epoch 242/500\n",
      "781/781 [==============================] - 29s 37ms/step - loss: 3.1180e-05 - mse: 4.8509e-05 - val_loss: 2.5369e-04 - val_mse: 4.9387e-04\n",
      "Epoch 243/500\n",
      "781/781 [==============================] - 29s 37ms/step - loss: 2.3031e-05 - mse: 3.2153e-05 - val_loss: 9.6346e-05 - val_mse: 1.7903e-04\n",
      "Epoch 244/500\n",
      "781/781 [==============================] - 29s 37ms/step - loss: 2.4974e-05 - mse: 3.6194e-05 - val_loss: 2.7532e-04 - val_mse: 5.3721e-04\n",
      "Epoch 245/500\n",
      "781/781 [==============================] - 29s 37ms/step - loss: 2.9430e-05 - mse: 4.5116e-05 - val_loss: 1.3596e-04 - val_mse: 2.5841e-04\n",
      "Epoch 246/500\n",
      "781/781 [==============================] - 29s 37ms/step - loss: 2.1223e-05 - mse: 2.8723e-05 - val_loss: 1.3517e-04 - val_mse: 2.5694e-04\n",
      "Epoch 247/500\n",
      "781/781 [==============================] - 29s 37ms/step - loss: 2.8652e-05 - mse: 4.3707e-05 - val_loss: 2.5979e-04 - val_mse: 5.0634e-04\n",
      "Epoch 248/500\n",
      "781/781 [==============================] - 29s 37ms/step - loss: 2.5200e-05 - mse: 3.6758e-05 - val_loss: 1.0041e-04 - val_mse: 1.8742e-04\n",
      "Epoch 249/500\n",
      "781/781 [==============================] - 29s 37ms/step - loss: 2.2995e-05 - mse: 3.2468e-05 - val_loss: 2.2963e-04 - val_mse: 4.4609e-04\n",
      "Epoch 250/500\n",
      "781/781 [==============================] - 29s 37ms/step - loss: 3.0877e-05 - mse: 4.8254e-05 - val_loss: 1.4480e-04 - val_mse: 2.7636e-04\n",
      "Epoch 251/500\n",
      "781/781 [==============================] - 29s 37ms/step - loss: 2.0500e-05 - mse: 2.7491e-05 - val_loss: 1.0532e-04 - val_mse: 1.9746e-04\n",
      "Epoch 252/500\n",
      "781/781 [==============================] - 29s 37ms/step - loss: 2.7416e-05 - mse: 4.1485e-05 - val_loss: 2.3867e-04 - val_mse: 4.6440e-04\n",
      "Epoch 253/500\n",
      "781/781 [==============================] - 29s 37ms/step - loss: 2.6637e-05 - mse: 3.9864e-05 - val_loss: 8.4626e-05 - val_mse: 1.5606e-04\n",
      "Epoch 254/500\n",
      "781/781 [==============================] - 29s 37ms/step - loss: 2.1284e-05 - mse: 2.9248e-05 - val_loss: 1.5707e-04 - val_mse: 3.0122e-04\n",
      "Epoch 255/500\n",
      "781/781 [==============================] - 29s 37ms/step - loss: 2.9650e-05 - mse: 4.6045e-05 - val_loss: 1.6083e-04 - val_mse: 3.0870e-04\n",
      "Epoch 256/500\n",
      "781/781 [==============================] - 29s 37ms/step - loss: 2.1539e-05 - mse: 2.9789e-05 - val_loss: 8.1593e-05 - val_mse: 1.5019e-04\n",
      "Epoch 257/500\n",
      "781/781 [==============================] - 29s 37ms/step - loss: 2.5606e-05 - mse: 3.8076e-05 - val_loss: 1.7962e-04 - val_mse: 3.4646e-04\n",
      "Epoch 258/500\n",
      "781/781 [==============================] - 29s 37ms/step - loss: 2.7416e-05 - mse: 4.1637e-05 - val_loss: 5.8709e-05 - val_mse: 1.0440e-04\n",
      "Epoch 259/500\n",
      "781/781 [==============================] - 29s 37ms/step - loss: 2.0340e-05 - mse: 2.7562e-05 - val_loss: 7.9616e-05 - val_mse: 1.4646e-04\n",
      "Epoch 260/500\n",
      "781/781 [==============================] - 29s 37ms/step - loss: 2.9206e-05 - mse: 4.5378e-05 - val_loss: 7.7001e-05 - val_mse: 1.4116e-04\n",
      "Epoch 261/500\n",
      "781/781 [==============================] - 29s 37ms/step - loss: 2.1871e-05 - mse: 3.0650e-05 - val_loss: 2.9499e-05 - val_mse: 4.6094e-05\n",
      "CPU times: total: 2h 23min 55s\n",
      "Wall time: 2h 13min 44s\n"
     ]
    },
    {
     "data": {
      "text/plain": [
       "<keras.callbacks.History at 0x1a732e91eb0>"
      ]
     },
     "execution_count": 32,
     "metadata": {},
     "output_type": "execute_result"
    }
   ],
   "source": [
    "%%time\n",
    "\n",
    "\n",
    "#________________________________ LSTM\n",
    "\n",
    "name_model = \"s2s_LSTM_256TimeD_43\"\n",
    "\n",
    "keras.backend.clear_session()\n",
    "\n",
    "# Definir hiperparâmetros\n",
    "learning_rate = 0.0001\n",
    "l2_reg = 0.00001\n",
    "dropout_rate = 0.001\n",
    "func_act='sigmoid'\n",
    "\n",
    "batch_size = 128\n",
    "window_size = 32\n",
    "num_inputs  = train.shape[1]\n",
    "num_targets = 3\n",
    "stride = 3\n",
    "sampling_rate=1\n",
    "\n",
    "\n",
    "\n",
    "# Definir a entrada da rede\n",
    "inputs = keras.layers.Input(shape=[None, num_inputs])\n",
    "\n",
    "# LSTM\n",
    "reshaped_inputs = keras.layers.Reshape((-1, num_inputs))(inputs)\n",
    "lstm = keras.layers.LSTM(512, return_sequences=True, kernel_regularizer=keras.regularizers.L2(l2_reg))(reshaped_inputs)\n",
    "lstm = keras.layers.LSTM(512, return_sequences=True, kernel_regularizer=keras.regularizers.L2(l2_reg))(reshaped_inputs)\n",
    "lstm = keras.layers.Dropout(rate=dropout_rate)(lstm)\n",
    "lstm = keras.layers.LSTM(512, return_sequences=True, kernel_regularizer=keras.regularizers.L2(l2_reg))(lstm)\n",
    "lstm = keras.layers.LSTM(512, return_sequences=True, kernel_regularizer=keras.regularizers.L2(l2_reg))(reshaped_inputs)\n",
    "lstm = keras.layers.Dropout(rate=dropout_rate)(lstm)\n",
    "lstm = keras.layers.LSTM(512, return_sequences=True, kernel_regularizer=keras.regularizers.L2(l2_reg))(lstm)\n",
    "lstm = keras.layers.LSTM(512, return_sequences=True, kernel_regularizer=keras.regularizers.L2(l2_reg))(reshaped_inputs)\n",
    "lstm = keras.layers.Dropout(rate=dropout_rate)(lstm)\n",
    "\n",
    "# TimeDistributed Dense\n",
    "timed = keras.layers.TimeDistributed(keras.layers.Dense(512))(lstm)\n",
    "timed = keras.layers.TimeDistributed(keras.layers.Dropout(rate=dropout_rate))(timed)\n",
    "\n",
    "\n",
    "# LSTM\n",
    "lstm = keras.layers.LSTM(256, return_sequences=False, kernel_regularizer=keras.regularizers.L2(l2_reg))(timed)\n",
    "output_lstm = keras.layers.Dense(num_targets)(lstm)\n",
    "\n",
    "\n",
    "# Definir o modelo com a entrada e saída\n",
    "model = keras.models.Model(inputs=inputs, outputs=output_lstm)\n",
    "\n",
    "# Definir o otimizador com taxa de aprendizado definida\n",
    "optimizer = keras.optimizers.Adam(learning_rate=learning_rate)\n",
    "\n",
    "\n",
    "# Compilar o modelo com a função de perda, otimizador e métrica desejados\n",
    "model.compile(loss=keras.losses.logcosh, optimizer=optimizer, metrics=[\"mse\"])\n",
    "\n",
    "# Adicionar callbacks para o modelo\n",
    "model_checkpoint = keras.callbacks.ModelCheckpoint(name_model, save_best_only=True)\n",
    "early_stopping = keras.callbacks.EarlyStopping(patience=64)\n",
    "\n",
    "# Treinar o modelo\n",
    "model.fit(train_set,\n",
    "          steps_per_epoch= len(train)//batch_size,\n",
    "          epochs=500,\n",
    "          validation_data=valid_set,\n",
    "          validation_steps=len(valid)//batch_size,\n",
    "          callbacks=[early_stopping,\n",
    "                     model_checkpoint])"
   ]
  },
  {
   "cell_type": "code",
   "execution_count": 33,
   "id": "0c6bee90",
   "metadata": {
    "scrolled": true
   },
   "outputs": [
    {
     "data": {
      "text/plain": [
       "'s2s_LSTM_256TimeD_43'"
      ]
     },
     "execution_count": 33,
     "metadata": {},
     "output_type": "execute_result"
    }
   ],
   "source": [
    "name_model"
   ]
  },
  {
   "cell_type": "code",
   "execution_count": 34,
   "id": "d83bfbb0",
   "metadata": {},
   "outputs": [],
   "source": [
    "model = keras.models.load_model(name_model)"
   ]
  },
  {
   "cell_type": "code",
   "execution_count": 35,
   "id": "58fbc975",
   "metadata": {},
   "outputs": [
    {
     "name": "stdout",
     "output_type": "stream",
     "text": [
      "160/160 [==============================] - 3s 16ms/step - loss: 3.1208e-05 - mse: 4.5855e-05\n"
     ]
    }
   ],
   "source": [
    "loss, metric = model.evaluate(test_set, steps=len(test)//batch_size)"
   ]
  },
  {
   "cell_type": "code",
   "execution_count": null,
   "id": "f261fcbf",
   "metadata": {},
   "outputs": [],
   "source": []
  },
  {
   "cell_type": "code",
   "execution_count": 36,
   "id": "7ce4f0ad",
   "metadata": {},
   "outputs": [
    {
     "name": "stdout",
     "output_type": "stream",
     "text": [
      "Epoch 1/500\n",
      "781/781 [==============================] - 45s 54ms/step - loss: 0.0062 - mse: 0.0018 - val_loss: 0.0032 - val_mse: 9.8705e-05\n"
     ]
    },
    {
     "name": "stderr",
     "output_type": "stream",
     "text": [
      "WARNING:absl:Found untraced functions such as lstm_cell_5_layer_call_and_return_conditional_losses, lstm_cell_5_layer_call_fn, lstm_cell_6_layer_call_and_return_conditional_losses, lstm_cell_6_layer_call_fn, lstm_cell_5_layer_call_fn while saving (showing 5 of 10). These functions will not be directly callable after loading.\n"
     ]
    },
    {
     "name": "stdout",
     "output_type": "stream",
     "text": [
      "INFO:tensorflow:Assets written to: s2s_LSTM_256TimeD_44\\assets\n"
     ]
    },
    {
     "name": "stderr",
     "output_type": "stream",
     "text": [
      "INFO:tensorflow:Assets written to: s2s_LSTM_256TimeD_44\\assets\n"
     ]
    },
    {
     "name": "stdout",
     "output_type": "stream",
     "text": [
      "Epoch 2/500\n",
      "781/781 [==============================] - 41s 52ms/step - loss: 0.0025 - mse: 1.8440e-04 - val_loss: 0.0020 - val_mse: 1.5508e-04\n"
     ]
    },
    {
     "name": "stderr",
     "output_type": "stream",
     "text": [
      "WARNING:absl:Found untraced functions such as lstm_cell_5_layer_call_and_return_conditional_losses, lstm_cell_5_layer_call_fn, lstm_cell_6_layer_call_and_return_conditional_losses, lstm_cell_6_layer_call_fn, lstm_cell_5_layer_call_fn while saving (showing 5 of 10). These functions will not be directly callable after loading.\n"
     ]
    },
    {
     "name": "stdout",
     "output_type": "stream",
     "text": [
      "INFO:tensorflow:Assets written to: s2s_LSTM_256TimeD_44\\assets\n"
     ]
    },
    {
     "name": "stderr",
     "output_type": "stream",
     "text": [
      "INFO:tensorflow:Assets written to: s2s_LSTM_256TimeD_44\\assets\n"
     ]
    },
    {
     "name": "stdout",
     "output_type": "stream",
     "text": [
      "Epoch 3/500\n",
      "781/781 [==============================] - 41s 52ms/step - loss: 0.0018 - mse: 2.9910e-04 - val_loss: 0.0015 - val_mse: 1.6923e-04\n"
     ]
    },
    {
     "name": "stderr",
     "output_type": "stream",
     "text": [
      "WARNING:absl:Found untraced functions such as lstm_cell_5_layer_call_and_return_conditional_losses, lstm_cell_5_layer_call_fn, lstm_cell_6_layer_call_and_return_conditional_losses, lstm_cell_6_layer_call_fn, lstm_cell_5_layer_call_fn while saving (showing 5 of 10). These functions will not be directly callable after loading.\n"
     ]
    },
    {
     "name": "stdout",
     "output_type": "stream",
     "text": [
      "INFO:tensorflow:Assets written to: s2s_LSTM_256TimeD_44\\assets\n"
     ]
    },
    {
     "name": "stderr",
     "output_type": "stream",
     "text": [
      "INFO:tensorflow:Assets written to: s2s_LSTM_256TimeD_44\\assets\n"
     ]
    },
    {
     "name": "stdout",
     "output_type": "stream",
     "text": [
      "Epoch 4/500\n",
      "781/781 [==============================] - 41s 53ms/step - loss: 0.0014 - mse: 2.6370e-04 - val_loss: 0.0012 - val_mse: 2.1469e-04\n"
     ]
    },
    {
     "name": "stderr",
     "output_type": "stream",
     "text": [
      "WARNING:absl:Found untraced functions such as lstm_cell_5_layer_call_and_return_conditional_losses, lstm_cell_5_layer_call_fn, lstm_cell_6_layer_call_and_return_conditional_losses, lstm_cell_6_layer_call_fn, lstm_cell_5_layer_call_fn while saving (showing 5 of 10). These functions will not be directly callable after loading.\n"
     ]
    },
    {
     "name": "stdout",
     "output_type": "stream",
     "text": [
      "INFO:tensorflow:Assets written to: s2s_LSTM_256TimeD_44\\assets\n"
     ]
    },
    {
     "name": "stderr",
     "output_type": "stream",
     "text": [
      "INFO:tensorflow:Assets written to: s2s_LSTM_256TimeD_44\\assets\n"
     ]
    },
    {
     "name": "stdout",
     "output_type": "stream",
     "text": [
      "Epoch 5/500\n",
      "781/781 [==============================] - 41s 53ms/step - loss: 0.0011 - mse: 2.4995e-04 - val_loss: 9.9268e-04 - val_mse: 3.2533e-04\n"
     ]
    },
    {
     "name": "stderr",
     "output_type": "stream",
     "text": [
      "WARNING:absl:Found untraced functions such as lstm_cell_5_layer_call_and_return_conditional_losses, lstm_cell_5_layer_call_fn, lstm_cell_6_layer_call_and_return_conditional_losses, lstm_cell_6_layer_call_fn, lstm_cell_5_layer_call_fn while saving (showing 5 of 10). These functions will not be directly callable after loading.\n"
     ]
    },
    {
     "name": "stdout",
     "output_type": "stream",
     "text": [
      "INFO:tensorflow:Assets written to: s2s_LSTM_256TimeD_44\\assets\n"
     ]
    },
    {
     "name": "stderr",
     "output_type": "stream",
     "text": [
      "INFO:tensorflow:Assets written to: s2s_LSTM_256TimeD_44\\assets\n"
     ]
    },
    {
     "name": "stdout",
     "output_type": "stream",
     "text": [
      "Epoch 6/500\n",
      "781/781 [==============================] - 41s 53ms/step - loss: 8.8597e-04 - mse: 3.1188e-04 - val_loss: 0.0010 - val_mse: 7.9028e-04\n",
      "Epoch 7/500\n",
      "781/781 [==============================] - 41s 53ms/step - loss: 8.6288e-04 - mse: 5.9359e-04 - val_loss: 0.0016 - val_mse: 0.0023\n",
      "Epoch 8/500\n",
      "781/781 [==============================] - 41s 53ms/step - loss: 9.9752e-04 - mse: 0.0011 - val_loss: 0.0025 - val_mse: 0.0041\n",
      "Epoch 9/500\n",
      "781/781 [==============================] - 41s 53ms/step - loss: 8.7815e-04 - mse: 0.0010 - val_loss: 0.0029 - val_mse: 0.0052\n",
      "Epoch 10/500\n",
      "781/781 [==============================] - 41s 52ms/step - loss: 7.6248e-04 - mse: 9.1317e-04 - val_loss: 0.0022 - val_mse: 0.0038\n",
      "Epoch 11/500\n",
      "781/781 [==============================] - 41s 52ms/step - loss: 5.2910e-04 - mse: 5.5731e-04 - val_loss: 0.0013 - val_mse: 0.0021\n",
      "Epoch 12/500\n",
      "781/781 [==============================] - 41s 52ms/step - loss: 3.9012e-04 - mse: 3.6876e-04 - val_loss: 6.8966e-04 - val_mse: 0.0010\n"
     ]
    },
    {
     "name": "stderr",
     "output_type": "stream",
     "text": [
      "WARNING:absl:Found untraced functions such as lstm_cell_5_layer_call_and_return_conditional_losses, lstm_cell_5_layer_call_fn, lstm_cell_6_layer_call_and_return_conditional_losses, lstm_cell_6_layer_call_fn, lstm_cell_5_layer_call_fn while saving (showing 5 of 10). These functions will not be directly callable after loading.\n"
     ]
    },
    {
     "name": "stdout",
     "output_type": "stream",
     "text": [
      "INFO:tensorflow:Assets written to: s2s_LSTM_256TimeD_44\\assets\n"
     ]
    },
    {
     "name": "stderr",
     "output_type": "stream",
     "text": [
      "INFO:tensorflow:Assets written to: s2s_LSTM_256TimeD_44\\assets\n"
     ]
    },
    {
     "name": "stdout",
     "output_type": "stream",
     "text": [
      "Epoch 13/500\n",
      "781/781 [==============================] - 42s 53ms/step - loss: 3.2153e-04 - mse: 3.0073e-04 - val_loss: 4.0998e-04 - val_mse: 5.0583e-04\n"
     ]
    },
    {
     "name": "stderr",
     "output_type": "stream",
     "text": [
      "WARNING:absl:Found untraced functions such as lstm_cell_5_layer_call_and_return_conditional_losses, lstm_cell_5_layer_call_fn, lstm_cell_6_layer_call_and_return_conditional_losses, lstm_cell_6_layer_call_fn, lstm_cell_5_layer_call_fn while saving (showing 5 of 10). These functions will not be directly callable after loading.\n"
     ]
    },
    {
     "name": "stdout",
     "output_type": "stream",
     "text": [
      "INFO:tensorflow:Assets written to: s2s_LSTM_256TimeD_44\\assets\n"
     ]
    },
    {
     "name": "stderr",
     "output_type": "stream",
     "text": [
      "INFO:tensorflow:Assets written to: s2s_LSTM_256TimeD_44\\assets\n"
     ]
    },
    {
     "name": "stdout",
     "output_type": "stream",
     "text": [
      "Epoch 14/500\n",
      "781/781 [==============================] - 42s 54ms/step - loss: 2.8736e-04 - mse: 2.8489e-04 - val_loss: 3.1584e-04 - val_mse: 3.6390e-04\n"
     ]
    },
    {
     "name": "stderr",
     "output_type": "stream",
     "text": [
      "WARNING:absl:Found untraced functions such as lstm_cell_5_layer_call_and_return_conditional_losses, lstm_cell_5_layer_call_fn, lstm_cell_6_layer_call_and_return_conditional_losses, lstm_cell_6_layer_call_fn, lstm_cell_5_layer_call_fn while saving (showing 5 of 10). These functions will not be directly callable after loading.\n"
     ]
    },
    {
     "name": "stdout",
     "output_type": "stream",
     "text": [
      "INFO:tensorflow:Assets written to: s2s_LSTM_256TimeD_44\\assets\n"
     ]
    },
    {
     "name": "stderr",
     "output_type": "stream",
     "text": [
      "INFO:tensorflow:Assets written to: s2s_LSTM_256TimeD_44\\assets\n"
     ]
    },
    {
     "name": "stdout",
     "output_type": "stream",
     "text": [
      "Epoch 15/500\n",
      "781/781 [==============================] - 42s 53ms/step - loss: 2.7967e-04 - mse: 3.0902e-04 - val_loss: 3.1492e-04 - val_mse: 3.9561e-04\n"
     ]
    },
    {
     "name": "stderr",
     "output_type": "stream",
     "text": [
      "WARNING:absl:Found untraced functions such as lstm_cell_5_layer_call_and_return_conditional_losses, lstm_cell_5_layer_call_fn, lstm_cell_6_layer_call_and_return_conditional_losses, lstm_cell_6_layer_call_fn, lstm_cell_5_layer_call_fn while saving (showing 5 of 10). These functions will not be directly callable after loading.\n"
     ]
    },
    {
     "name": "stdout",
     "output_type": "stream",
     "text": [
      "INFO:tensorflow:Assets written to: s2s_LSTM_256TimeD_44\\assets\n"
     ]
    },
    {
     "name": "stderr",
     "output_type": "stream",
     "text": [
      "INFO:tensorflow:Assets written to: s2s_LSTM_256TimeD_44\\assets\n"
     ]
    },
    {
     "name": "stdout",
     "output_type": "stream",
     "text": [
      "Epoch 16/500\n",
      "781/781 [==============================] - 41s 53ms/step - loss: 2.5548e-04 - mse: 2.9068e-04 - val_loss: 2.5672e-04 - val_mse: 3.0615e-04\n"
     ]
    },
    {
     "name": "stderr",
     "output_type": "stream",
     "text": [
      "WARNING:absl:Found untraced functions such as lstm_cell_5_layer_call_and_return_conditional_losses, lstm_cell_5_layer_call_fn, lstm_cell_6_layer_call_and_return_conditional_losses, lstm_cell_6_layer_call_fn, lstm_cell_5_layer_call_fn while saving (showing 5 of 10). These functions will not be directly callable after loading.\n"
     ]
    },
    {
     "name": "stdout",
     "output_type": "stream",
     "text": [
      "INFO:tensorflow:Assets written to: s2s_LSTM_256TimeD_44\\assets\n"
     ]
    },
    {
     "name": "stderr",
     "output_type": "stream",
     "text": [
      "INFO:tensorflow:Assets written to: s2s_LSTM_256TimeD_44\\assets\n"
     ]
    },
    {
     "name": "stdout",
     "output_type": "stream",
     "text": [
      "Epoch 17/500\n",
      "781/781 [==============================] - 42s 53ms/step - loss: 2.3043e-04 - mse: 2.6389e-04 - val_loss: 2.1972e-04 - val_mse: 2.5281e-04\n"
     ]
    },
    {
     "name": "stderr",
     "output_type": "stream",
     "text": [
      "WARNING:absl:Found untraced functions such as lstm_cell_5_layer_call_and_return_conditional_losses, lstm_cell_5_layer_call_fn, lstm_cell_6_layer_call_and_return_conditional_losses, lstm_cell_6_layer_call_fn, lstm_cell_5_layer_call_fn while saving (showing 5 of 10). These functions will not be directly callable after loading.\n"
     ]
    },
    {
     "name": "stdout",
     "output_type": "stream",
     "text": [
      "INFO:tensorflow:Assets written to: s2s_LSTM_256TimeD_44\\assets\n"
     ]
    },
    {
     "name": "stderr",
     "output_type": "stream",
     "text": [
      "INFO:tensorflow:Assets written to: s2s_LSTM_256TimeD_44\\assets\n"
     ]
    },
    {
     "name": "stdout",
     "output_type": "stream",
     "text": [
      "Epoch 18/500\n",
      "781/781 [==============================] - 42s 53ms/step - loss: 2.1645e-04 - mse: 2.5417e-04 - val_loss: 1.9095e-04 - val_mse: 2.1162e-04\n"
     ]
    },
    {
     "name": "stderr",
     "output_type": "stream",
     "text": [
      "WARNING:absl:Found untraced functions such as lstm_cell_5_layer_call_and_return_conditional_losses, lstm_cell_5_layer_call_fn, lstm_cell_6_layer_call_and_return_conditional_losses, lstm_cell_6_layer_call_fn, lstm_cell_5_layer_call_fn while saving (showing 5 of 10). These functions will not be directly callable after loading.\n"
     ]
    },
    {
     "name": "stdout",
     "output_type": "stream",
     "text": [
      "INFO:tensorflow:Assets written to: s2s_LSTM_256TimeD_44\\assets\n"
     ]
    },
    {
     "name": "stderr",
     "output_type": "stream",
     "text": [
      "INFO:tensorflow:Assets written to: s2s_LSTM_256TimeD_44\\assets\n"
     ]
    },
    {
     "name": "stdout",
     "output_type": "stream",
     "text": [
      "Epoch 19/500\n",
      "781/781 [==============================] - 42s 53ms/step - loss: 2.0242e-04 - mse: 2.4129e-04 - val_loss: 1.8770e-04 - val_mse: 2.1888e-04\n"
     ]
    },
    {
     "name": "stderr",
     "output_type": "stream",
     "text": [
      "WARNING:absl:Found untraced functions such as lstm_cell_5_layer_call_and_return_conditional_losses, lstm_cell_5_layer_call_fn, lstm_cell_6_layer_call_and_return_conditional_losses, lstm_cell_6_layer_call_fn, lstm_cell_5_layer_call_fn while saving (showing 5 of 10). These functions will not be directly callable after loading.\n"
     ]
    },
    {
     "name": "stdout",
     "output_type": "stream",
     "text": [
      "INFO:tensorflow:Assets written to: s2s_LSTM_256TimeD_44\\assets\n"
     ]
    },
    {
     "name": "stderr",
     "output_type": "stream",
     "text": [
      "INFO:tensorflow:Assets written to: s2s_LSTM_256TimeD_44\\assets\n"
     ]
    },
    {
     "name": "stdout",
     "output_type": "stream",
     "text": [
      "Epoch 20/500\n",
      "781/781 [==============================] - 42s 53ms/step - loss: 1.8786e-04 - mse: 2.2487e-04 - val_loss: 1.5742e-04 - val_mse: 1.7030e-04\n"
     ]
    },
    {
     "name": "stderr",
     "output_type": "stream",
     "text": [
      "WARNING:absl:Found untraced functions such as lstm_cell_5_layer_call_and_return_conditional_losses, lstm_cell_5_layer_call_fn, lstm_cell_6_layer_call_and_return_conditional_losses, lstm_cell_6_layer_call_fn, lstm_cell_5_layer_call_fn while saving (showing 5 of 10). These functions will not be directly callable after loading.\n"
     ]
    },
    {
     "name": "stdout",
     "output_type": "stream",
     "text": [
      "INFO:tensorflow:Assets written to: s2s_LSTM_256TimeD_44\\assets\n"
     ]
    },
    {
     "name": "stderr",
     "output_type": "stream",
     "text": [
      "INFO:tensorflow:Assets written to: s2s_LSTM_256TimeD_44\\assets\n"
     ]
    },
    {
     "name": "stdout",
     "output_type": "stream",
     "text": [
      "Epoch 21/500\n",
      "781/781 [==============================] - 42s 54ms/step - loss: 1.7269e-04 - mse: 2.0571e-04 - val_loss: 1.3943e-04 - val_mse: 1.4488e-04\n"
     ]
    },
    {
     "name": "stderr",
     "output_type": "stream",
     "text": [
      "WARNING:absl:Found untraced functions such as lstm_cell_5_layer_call_and_return_conditional_losses, lstm_cell_5_layer_call_fn, lstm_cell_6_layer_call_and_return_conditional_losses, lstm_cell_6_layer_call_fn, lstm_cell_5_layer_call_fn while saving (showing 5 of 10). These functions will not be directly callable after loading.\n"
     ]
    },
    {
     "name": "stdout",
     "output_type": "stream",
     "text": [
      "INFO:tensorflow:Assets written to: s2s_LSTM_256TimeD_44\\assets\n"
     ]
    },
    {
     "name": "stderr",
     "output_type": "stream",
     "text": [
      "INFO:tensorflow:Assets written to: s2s_LSTM_256TimeD_44\\assets\n"
     ]
    },
    {
     "name": "stdout",
     "output_type": "stream",
     "text": [
      "Epoch 22/500\n",
      "781/781 [==============================] - 42s 54ms/step - loss: 1.6443e-04 - mse: 1.9909e-04 - val_loss: 1.3367e-04 - val_mse: 1.4269e-04\n"
     ]
    },
    {
     "name": "stderr",
     "output_type": "stream",
     "text": [
      "WARNING:absl:Found untraced functions such as lstm_cell_5_layer_call_and_return_conditional_losses, lstm_cell_5_layer_call_fn, lstm_cell_6_layer_call_and_return_conditional_losses, lstm_cell_6_layer_call_fn, lstm_cell_5_layer_call_fn while saving (showing 5 of 10). These functions will not be directly callable after loading.\n"
     ]
    },
    {
     "name": "stdout",
     "output_type": "stream",
     "text": [
      "INFO:tensorflow:Assets written to: s2s_LSTM_256TimeD_44\\assets\n"
     ]
    },
    {
     "name": "stderr",
     "output_type": "stream",
     "text": [
      "INFO:tensorflow:Assets written to: s2s_LSTM_256TimeD_44\\assets\n"
     ]
    },
    {
     "name": "stdout",
     "output_type": "stream",
     "text": [
      "Epoch 23/500\n",
      "781/781 [==============================] - 42s 54ms/step - loss: 1.6527e-04 - mse: 2.0920e-04 - val_loss: 1.1414e-04 - val_mse: 1.1146e-04\n"
     ]
    },
    {
     "name": "stderr",
     "output_type": "stream",
     "text": [
      "WARNING:absl:Found untraced functions such as lstm_cell_5_layer_call_and_return_conditional_losses, lstm_cell_5_layer_call_fn, lstm_cell_6_layer_call_and_return_conditional_losses, lstm_cell_6_layer_call_fn, lstm_cell_5_layer_call_fn while saving (showing 5 of 10). These functions will not be directly callable after loading.\n"
     ]
    },
    {
     "name": "stdout",
     "output_type": "stream",
     "text": [
      "INFO:tensorflow:Assets written to: s2s_LSTM_256TimeD_44\\assets\n"
     ]
    },
    {
     "name": "stderr",
     "output_type": "stream",
     "text": [
      "INFO:tensorflow:Assets written to: s2s_LSTM_256TimeD_44\\assets\n"
     ]
    },
    {
     "name": "stdout",
     "output_type": "stream",
     "text": [
      "Epoch 24/500\n",
      "781/781 [==============================] - 42s 54ms/step - loss: 1.5267e-04 - mse: 1.9139e-04 - val_loss: 1.1681e-04 - val_mse: 1.2366e-04\n",
      "Epoch 25/500\n",
      "781/781 [==============================] - 42s 54ms/step - loss: 1.4285e-04 - mse: 1.7834e-04 - val_loss: 1.0242e-04 - val_mse: 1.0118e-04\n"
     ]
    },
    {
     "name": "stderr",
     "output_type": "stream",
     "text": [
      "WARNING:absl:Found untraced functions such as lstm_cell_5_layer_call_and_return_conditional_losses, lstm_cell_5_layer_call_fn, lstm_cell_6_layer_call_and_return_conditional_losses, lstm_cell_6_layer_call_fn, lstm_cell_5_layer_call_fn while saving (showing 5 of 10). These functions will not be directly callable after loading.\n"
     ]
    },
    {
     "name": "stdout",
     "output_type": "stream",
     "text": [
      "INFO:tensorflow:Assets written to: s2s_LSTM_256TimeD_44\\assets\n"
     ]
    },
    {
     "name": "stderr",
     "output_type": "stream",
     "text": [
      "INFO:tensorflow:Assets written to: s2s_LSTM_256TimeD_44\\assets\n"
     ]
    },
    {
     "name": "stdout",
     "output_type": "stream",
     "text": [
      "Epoch 26/500\n",
      "781/781 [==============================] - 42s 53ms/step - loss: 1.3640e-04 - mse: 1.7162e-04 - val_loss: 1.0527e-04 - val_mse: 1.1283e-04\n",
      "Epoch 27/500\n",
      "781/781 [==============================] - 42s 53ms/step - loss: 1.3591e-04 - mse: 1.7599e-04 - val_loss: 9.6460e-05 - val_mse: 1.0016e-04\n"
     ]
    },
    {
     "name": "stderr",
     "output_type": "stream",
     "text": [
      "WARNING:absl:Found untraced functions such as lstm_cell_5_layer_call_and_return_conditional_losses, lstm_cell_5_layer_call_fn, lstm_cell_6_layer_call_and_return_conditional_losses, lstm_cell_6_layer_call_fn, lstm_cell_5_layer_call_fn while saving (showing 5 of 10). These functions will not be directly callable after loading.\n"
     ]
    },
    {
     "name": "stdout",
     "output_type": "stream",
     "text": [
      "INFO:tensorflow:Assets written to: s2s_LSTM_256TimeD_44\\assets\n"
     ]
    },
    {
     "name": "stderr",
     "output_type": "stream",
     "text": [
      "INFO:tensorflow:Assets written to: s2s_LSTM_256TimeD_44\\assets\n"
     ]
    },
    {
     "name": "stdout",
     "output_type": "stream",
     "text": [
      "Epoch 28/500\n",
      "781/781 [==============================] - 41s 53ms/step - loss: 1.2689e-04 - mse: 1.6277e-04 - val_loss: 8.9579e-05 - val_mse: 9.0973e-05\n"
     ]
    },
    {
     "name": "stderr",
     "output_type": "stream",
     "text": [
      "WARNING:absl:Found untraced functions such as lstm_cell_5_layer_call_and_return_conditional_losses, lstm_cell_5_layer_call_fn, lstm_cell_6_layer_call_and_return_conditional_losses, lstm_cell_6_layer_call_fn, lstm_cell_5_layer_call_fn while saving (showing 5 of 10). These functions will not be directly callable after loading.\n"
     ]
    },
    {
     "name": "stdout",
     "output_type": "stream",
     "text": [
      "INFO:tensorflow:Assets written to: s2s_LSTM_256TimeD_44\\assets\n"
     ]
    },
    {
     "name": "stderr",
     "output_type": "stream",
     "text": [
      "INFO:tensorflow:Assets written to: s2s_LSTM_256TimeD_44\\assets\n"
     ]
    },
    {
     "name": "stdout",
     "output_type": "stream",
     "text": [
      "Epoch 29/500\n",
      "781/781 [==============================] - 42s 54ms/step - loss: 1.2398e-04 - mse: 1.6148e-04 - val_loss: 9.5809e-05 - val_mse: 1.0780e-04\n",
      "Epoch 30/500\n",
      "781/781 [==============================] - 43s 54ms/step - loss: 1.2401e-04 - mse: 1.6523e-04 - val_loss: 9.1440e-05 - val_mse: 1.0206e-04\n",
      "Epoch 31/500\n",
      "781/781 [==============================] - 42s 54ms/step - loss: 1.0887e-04 - mse: 1.3852e-04 - val_loss: 1.0007e-04 - val_mse: 1.2288e-04\n",
      "Epoch 32/500\n",
      "781/781 [==============================] - 42s 54ms/step - loss: 1.1742e-04 - mse: 1.5915e-04 - val_loss: 1.2099e-04 - val_mse: 1.6785e-04\n",
      "Epoch 33/500\n",
      "781/781 [==============================] - 42s 54ms/step - loss: 1.1262e-04 - mse: 1.5203e-04 - val_loss: 1.0881e-04 - val_mse: 1.4559e-04\n",
      "Epoch 34/500\n",
      "781/781 [==============================] - 41s 53ms/step - loss: 9.9331e-05 - mse: 1.2816e-04 - val_loss: 1.0725e-04 - val_mse: 1.4543e-04\n",
      "Epoch 35/500\n",
      "781/781 [==============================] - 41s 52ms/step - loss: 1.0738e-04 - mse: 1.4693e-04 - val_loss: 1.0271e-04 - val_mse: 1.3863e-04\n",
      "Epoch 36/500\n",
      "781/781 [==============================] - 41s 53ms/step - loss: 9.9810e-05 - mse: 1.3377e-04 - val_loss: 7.8738e-05 - val_mse: 9.2744e-05\n"
     ]
    },
    {
     "name": "stderr",
     "output_type": "stream",
     "text": [
      "WARNING:absl:Found untraced functions such as lstm_cell_5_layer_call_and_return_conditional_losses, lstm_cell_5_layer_call_fn, lstm_cell_6_layer_call_and_return_conditional_losses, lstm_cell_6_layer_call_fn, lstm_cell_5_layer_call_fn while saving (showing 5 of 10). These functions will not be directly callable after loading.\n"
     ]
    },
    {
     "name": "stdout",
     "output_type": "stream",
     "text": [
      "INFO:tensorflow:Assets written to: s2s_LSTM_256TimeD_44\\assets\n"
     ]
    },
    {
     "name": "stderr",
     "output_type": "stream",
     "text": [
      "INFO:tensorflow:Assets written to: s2s_LSTM_256TimeD_44\\assets\n"
     ]
    },
    {
     "name": "stdout",
     "output_type": "stream",
     "text": [
      "Epoch 37/500\n",
      "781/781 [==============================] - 41s 53ms/step - loss: 9.6521e-05 - mse: 1.2935e-04 - val_loss: 7.3244e-05 - val_mse: 8.3970e-05\n"
     ]
    },
    {
     "name": "stderr",
     "output_type": "stream",
     "text": [
      "WARNING:absl:Found untraced functions such as lstm_cell_5_layer_call_and_return_conditional_losses, lstm_cell_5_layer_call_fn, lstm_cell_6_layer_call_and_return_conditional_losses, lstm_cell_6_layer_call_fn, lstm_cell_5_layer_call_fn while saving (showing 5 of 10). These functions will not be directly callable after loading.\n"
     ]
    },
    {
     "name": "stdout",
     "output_type": "stream",
     "text": [
      "INFO:tensorflow:Assets written to: s2s_LSTM_256TimeD_44\\assets\n"
     ]
    },
    {
     "name": "stderr",
     "output_type": "stream",
     "text": [
      "INFO:tensorflow:Assets written to: s2s_LSTM_256TimeD_44\\assets\n"
     ]
    },
    {
     "name": "stdout",
     "output_type": "stream",
     "text": [
      "Epoch 38/500\n",
      "781/781 [==============================] - 41s 52ms/step - loss: 9.8476e-05 - mse: 1.3524e-04 - val_loss: 7.3422e-05 - val_mse: 8.6206e-05\n",
      "Epoch 39/500\n",
      "781/781 [==============================] - 41s 53ms/step - loss: 9.8836e-05 - mse: 1.3753e-04 - val_loss: 6.8087e-05 - val_mse: 7.6991e-05\n"
     ]
    },
    {
     "name": "stderr",
     "output_type": "stream",
     "text": [
      "WARNING:absl:Found untraced functions such as lstm_cell_5_layer_call_and_return_conditional_losses, lstm_cell_5_layer_call_fn, lstm_cell_6_layer_call_and_return_conditional_losses, lstm_cell_6_layer_call_fn, lstm_cell_5_layer_call_fn while saving (showing 5 of 10). These functions will not be directly callable after loading.\n"
     ]
    },
    {
     "name": "stdout",
     "output_type": "stream",
     "text": [
      "INFO:tensorflow:Assets written to: s2s_LSTM_256TimeD_44\\assets\n"
     ]
    },
    {
     "name": "stderr",
     "output_type": "stream",
     "text": [
      "INFO:tensorflow:Assets written to: s2s_LSTM_256TimeD_44\\assets\n"
     ]
    },
    {
     "name": "stdout",
     "output_type": "stream",
     "text": [
      "Epoch 40/500\n",
      "781/781 [==============================] - 41s 53ms/step - loss: 9.5004e-05 - mse: 1.3130e-04 - val_loss: 6.2965e-05 - val_mse: 6.8114e-05\n"
     ]
    },
    {
     "name": "stderr",
     "output_type": "stream",
     "text": [
      "WARNING:absl:Found untraced functions such as lstm_cell_5_layer_call_and_return_conditional_losses, lstm_cell_5_layer_call_fn, lstm_cell_6_layer_call_and_return_conditional_losses, lstm_cell_6_layer_call_fn, lstm_cell_5_layer_call_fn while saving (showing 5 of 10). These functions will not be directly callable after loading.\n"
     ]
    },
    {
     "name": "stdout",
     "output_type": "stream",
     "text": [
      "INFO:tensorflow:Assets written to: s2s_LSTM_256TimeD_44\\assets\n"
     ]
    },
    {
     "name": "stderr",
     "output_type": "stream",
     "text": [
      "INFO:tensorflow:Assets written to: s2s_LSTM_256TimeD_44\\assets\n"
     ]
    },
    {
     "name": "stdout",
     "output_type": "stream",
     "text": [
      "Epoch 41/500\n",
      "781/781 [==============================] - 41s 53ms/step - loss: 9.0464e-05 - mse: 1.2365e-04 - val_loss: 6.2654e-05 - val_mse: 6.8888e-05\n"
     ]
    },
    {
     "name": "stderr",
     "output_type": "stream",
     "text": [
      "WARNING:absl:Found untraced functions such as lstm_cell_5_layer_call_and_return_conditional_losses, lstm_cell_5_layer_call_fn, lstm_cell_6_layer_call_and_return_conditional_losses, lstm_cell_6_layer_call_fn, lstm_cell_5_layer_call_fn while saving (showing 5 of 10). These functions will not be directly callable after loading.\n"
     ]
    },
    {
     "name": "stdout",
     "output_type": "stream",
     "text": [
      "INFO:tensorflow:Assets written to: s2s_LSTM_256TimeD_44\\assets\n"
     ]
    },
    {
     "name": "stderr",
     "output_type": "stream",
     "text": [
      "INFO:tensorflow:Assets written to: s2s_LSTM_256TimeD_44\\assets\n"
     ]
    },
    {
     "name": "stdout",
     "output_type": "stream",
     "text": [
      "Epoch 42/500\n",
      "781/781 [==============================] - 41s 52ms/step - loss: 8.9092e-05 - mse: 1.2224e-04 - val_loss: 6.1111e-05 - val_mse: 6.7006e-05\n"
     ]
    },
    {
     "name": "stderr",
     "output_type": "stream",
     "text": [
      "WARNING:absl:Found untraced functions such as lstm_cell_5_layer_call_and_return_conditional_losses, lstm_cell_5_layer_call_fn, lstm_cell_6_layer_call_and_return_conditional_losses, lstm_cell_6_layer_call_fn, lstm_cell_5_layer_call_fn while saving (showing 5 of 10). These functions will not be directly callable after loading.\n"
     ]
    },
    {
     "name": "stdout",
     "output_type": "stream",
     "text": [
      "INFO:tensorflow:Assets written to: s2s_LSTM_256TimeD_44\\assets\n"
     ]
    },
    {
     "name": "stderr",
     "output_type": "stream",
     "text": [
      "INFO:tensorflow:Assets written to: s2s_LSTM_256TimeD_44\\assets\n"
     ]
    },
    {
     "name": "stdout",
     "output_type": "stream",
     "text": [
      "Epoch 43/500\n",
      "781/781 [==============================] - 41s 53ms/step - loss: 8.6986e-05 - mse: 1.1935e-04 - val_loss: 6.0641e-05 - val_mse: 6.7313e-05\n"
     ]
    },
    {
     "name": "stderr",
     "output_type": "stream",
     "text": [
      "WARNING:absl:Found untraced functions such as lstm_cell_5_layer_call_and_return_conditional_losses, lstm_cell_5_layer_call_fn, lstm_cell_6_layer_call_and_return_conditional_losses, lstm_cell_6_layer_call_fn, lstm_cell_5_layer_call_fn while saving (showing 5 of 10). These functions will not be directly callable after loading.\n"
     ]
    },
    {
     "name": "stdout",
     "output_type": "stream",
     "text": [
      "INFO:tensorflow:Assets written to: s2s_LSTM_256TimeD_44\\assets\n"
     ]
    },
    {
     "name": "stderr",
     "output_type": "stream",
     "text": [
      "INFO:tensorflow:Assets written to: s2s_LSTM_256TimeD_44\\assets\n"
     ]
    },
    {
     "name": "stdout",
     "output_type": "stream",
     "text": [
      "Epoch 44/500\n",
      "781/781 [==============================] - 41s 53ms/step - loss: 8.5895e-05 - mse: 1.1842e-04 - val_loss: 6.3391e-05 - val_mse: 7.4069e-05\n",
      "Epoch 45/500\n",
      "781/781 [==============================] - 41s 53ms/step - loss: 8.9369e-05 - mse: 1.2654e-04 - val_loss: 6.3722e-05 - val_mse: 7.5763e-05\n",
      "Epoch 46/500\n",
      "781/781 [==============================] - 41s 53ms/step - loss: 8.8711e-05 - mse: 1.2606e-04 - val_loss: 5.8530e-05 - val_mse: 6.6242e-05\n"
     ]
    },
    {
     "name": "stderr",
     "output_type": "stream",
     "text": [
      "WARNING:absl:Found untraced functions such as lstm_cell_5_layer_call_and_return_conditional_losses, lstm_cell_5_layer_call_fn, lstm_cell_6_layer_call_and_return_conditional_losses, lstm_cell_6_layer_call_fn, lstm_cell_5_layer_call_fn while saving (showing 5 of 10). These functions will not be directly callable after loading.\n"
     ]
    },
    {
     "name": "stdout",
     "output_type": "stream",
     "text": [
      "INFO:tensorflow:Assets written to: s2s_LSTM_256TimeD_44\\assets\n"
     ]
    },
    {
     "name": "stderr",
     "output_type": "stream",
     "text": [
      "INFO:tensorflow:Assets written to: s2s_LSTM_256TimeD_44\\assets\n"
     ]
    },
    {
     "name": "stdout",
     "output_type": "stream",
     "text": [
      "Epoch 47/500\n",
      "781/781 [==============================] - 41s 53ms/step - loss: 8.3935e-05 - mse: 1.1731e-04 - val_loss: 5.4212e-05 - val_mse: 5.8507e-05\n"
     ]
    },
    {
     "name": "stderr",
     "output_type": "stream",
     "text": [
      "WARNING:absl:Found untraced functions such as lstm_cell_5_layer_call_and_return_conditional_losses, lstm_cell_5_layer_call_fn, lstm_cell_6_layer_call_and_return_conditional_losses, lstm_cell_6_layer_call_fn, lstm_cell_5_layer_call_fn while saving (showing 5 of 10). These functions will not be directly callable after loading.\n"
     ]
    },
    {
     "name": "stdout",
     "output_type": "stream",
     "text": [
      "INFO:tensorflow:Assets written to: s2s_LSTM_256TimeD_44\\assets\n"
     ]
    },
    {
     "name": "stderr",
     "output_type": "stream",
     "text": [
      "INFO:tensorflow:Assets written to: s2s_LSTM_256TimeD_44\\assets\n"
     ]
    },
    {
     "name": "stdout",
     "output_type": "stream",
     "text": [
      "Epoch 48/500\n",
      "781/781 [==============================] - 41s 52ms/step - loss: 8.1969e-05 - mse: 1.1432e-04 - val_loss: 5.5700e-05 - val_mse: 6.2463e-05\n",
      "Epoch 49/500\n",
      "781/781 [==============================] - 42s 54ms/step - loss: 8.1105e-05 - mse: 1.1346e-04 - val_loss: 6.0581e-05 - val_mse: 7.3133e-05\n",
      "Epoch 50/500\n",
      "781/781 [==============================] - 41s 53ms/step - loss: 8.1194e-05 - mse: 1.1443e-04 - val_loss: 5.9294e-05 - val_mse: 7.1277e-05\n",
      "Epoch 51/500\n",
      "781/781 [==============================] - 41s 53ms/step - loss: 7.4548e-05 - mse: 1.0183e-04 - val_loss: 4.6129e-05 - val_mse: 4.5545e-05\n"
     ]
    },
    {
     "name": "stderr",
     "output_type": "stream",
     "text": [
      "WARNING:absl:Found untraced functions such as lstm_cell_5_layer_call_and_return_conditional_losses, lstm_cell_5_layer_call_fn, lstm_cell_6_layer_call_and_return_conditional_losses, lstm_cell_6_layer_call_fn, lstm_cell_5_layer_call_fn while saving (showing 5 of 10). These functions will not be directly callable after loading.\n"
     ]
    },
    {
     "name": "stdout",
     "output_type": "stream",
     "text": [
      "INFO:tensorflow:Assets written to: s2s_LSTM_256TimeD_44\\assets\n"
     ]
    },
    {
     "name": "stderr",
     "output_type": "stream",
     "text": [
      "INFO:tensorflow:Assets written to: s2s_LSTM_256TimeD_44\\assets\n"
     ]
    },
    {
     "name": "stdout",
     "output_type": "stream",
     "text": [
      "Epoch 52/500\n",
      "781/781 [==============================] - 44s 55ms/step - loss: 7.5567e-05 - mse: 1.0492e-04 - val_loss: 5.6598e-05 - val_mse: 6.7175e-05\n",
      "Epoch 53/500\n",
      "781/781 [==============================] - 42s 54ms/step - loss: 8.2483e-05 - mse: 1.1945e-04 - val_loss: 9.5831e-05 - val_mse: 1.4587e-04\n",
      "Epoch 54/500\n",
      "781/781 [==============================] - 43s 54ms/step - loss: 7.5833e-05 - mse: 1.0664e-04 - val_loss: 1.7158e-04 - val_mse: 2.9756e-04\n",
      "Epoch 55/500\n",
      "781/781 [==============================] - 43s 55ms/step - loss: 7.1389e-05 - mse: 9.8430e-05 - val_loss: 2.9524e-04 - val_mse: 5.4528e-04\n",
      "Epoch 56/500\n",
      "781/781 [==============================] - 42s 53ms/step - loss: 7.6544e-05 - mse: 1.0954e-04 - val_loss: 4.3829e-04 - val_mse: 8.3181e-04\n",
      "Epoch 57/500\n",
      "781/781 [==============================] - 41s 53ms/step - loss: 7.6689e-05 - mse: 1.1033e-04 - val_loss: 4.5606e-04 - val_mse: 8.6779e-04\n",
      "Epoch 58/500\n",
      "781/781 [==============================] - 42s 53ms/step - loss: 7.3258e-05 - mse: 1.0392e-04 - val_loss: 3.6785e-04 - val_mse: 6.9199e-04\n",
      "Epoch 59/500\n",
      "781/781 [==============================] - 42s 53ms/step - loss: 6.9673e-05 - mse: 9.7330e-05 - val_loss: 2.5600e-04 - val_mse: 4.6915e-04\n",
      "Epoch 60/500\n",
      "781/781 [==============================] - 41s 53ms/step - loss: 7.1839e-05 - mse: 1.0232e-04 - val_loss: 1.7631e-04 - val_mse: 3.1054e-04\n",
      "Epoch 61/500\n",
      "781/781 [==============================] - 41s 53ms/step - loss: 7.2223e-05 - mse: 1.0357e-04 - val_loss: 1.0116e-04 - val_mse: 1.6099e-04\n",
      "Epoch 62/500\n",
      "781/781 [==============================] - 42s 54ms/step - loss: 7.0180e-05 - mse: 9.9942e-05 - val_loss: 4.7786e-05 - val_mse: 5.5082e-05\n",
      "Epoch 63/500\n",
      "781/781 [==============================] - 41s 53ms/step - loss: 6.8350e-05 - mse: 9.6757e-05 - val_loss: 4.5785e-05 - val_mse: 5.1876e-05\n"
     ]
    },
    {
     "name": "stderr",
     "output_type": "stream",
     "text": [
      "WARNING:absl:Found untraced functions such as lstm_cell_5_layer_call_and_return_conditional_losses, lstm_cell_5_layer_call_fn, lstm_cell_6_layer_call_and_return_conditional_losses, lstm_cell_6_layer_call_fn, lstm_cell_5_layer_call_fn while saving (showing 5 of 10). These functions will not be directly callable after loading.\n"
     ]
    },
    {
     "name": "stdout",
     "output_type": "stream",
     "text": [
      "INFO:tensorflow:Assets written to: s2s_LSTM_256TimeD_44\\assets\n"
     ]
    },
    {
     "name": "stderr",
     "output_type": "stream",
     "text": [
      "INFO:tensorflow:Assets written to: s2s_LSTM_256TimeD_44\\assets\n"
     ]
    },
    {
     "name": "stdout",
     "output_type": "stream",
     "text": [
      "Epoch 64/500\n",
      "781/781 [==============================] - 41s 52ms/step - loss: 6.7350e-05 - mse: 9.5271e-05 - val_loss: 7.3443e-05 - val_mse: 1.0797e-04\n",
      "Epoch 65/500\n",
      "781/781 [==============================] - 41s 53ms/step - loss: 6.7853e-05 - mse: 9.6761e-05 - val_loss: 1.1513e-04 - val_mse: 1.9200e-04\n",
      "Epoch 66/500\n",
      "781/781 [==============================] - 41s 53ms/step - loss: 6.7189e-05 - mse: 9.5865e-05 - val_loss: 1.6033e-04 - val_mse: 2.8297e-04\n",
      "Epoch 67/500\n",
      "781/781 [==============================] - 41s 52ms/step - loss: 6.6429e-05 - mse: 9.4760e-05 - val_loss: 2.0300e-04 - val_mse: 3.6883e-04\n",
      "Epoch 68/500\n",
      "781/781 [==============================] - 41s 53ms/step - loss: 6.5906e-05 - mse: 9.4140e-05 - val_loss: 2.1556e-04 - val_mse: 3.9446e-04\n",
      "Epoch 69/500\n",
      "781/781 [==============================] - 41s 53ms/step - loss: 6.4719e-05 - mse: 9.2160e-05 - val_loss: 1.8761e-04 - val_mse: 3.3891e-04\n",
      "Epoch 70/500\n",
      "781/781 [==============================] - 41s 52ms/step - loss: 6.3462e-05 - mse: 9.0042e-05 - val_loss: 1.2613e-04 - val_mse: 2.1620e-04\n",
      "Epoch 71/500\n",
      "781/781 [==============================] - 41s 53ms/step - loss: 6.5159e-05 - mse: 9.3885e-05 - val_loss: 8.4544e-05 - val_mse: 1.3323e-04\n",
      "Epoch 72/500\n",
      "781/781 [==============================] - 41s 53ms/step - loss: 6.3444e-05 - mse: 9.0770e-05 - val_loss: 4.6605e-05 - val_mse: 5.7399e-05\n",
      "Epoch 73/500\n",
      "781/781 [==============================] - 41s 52ms/step - loss: 6.1187e-05 - mse: 8.6599e-05 - val_loss: 4.5237e-05 - val_mse: 5.4764e-05\n"
     ]
    },
    {
     "name": "stderr",
     "output_type": "stream",
     "text": [
      "WARNING:absl:Found untraced functions such as lstm_cell_5_layer_call_and_return_conditional_losses, lstm_cell_5_layer_call_fn, lstm_cell_6_layer_call_and_return_conditional_losses, lstm_cell_6_layer_call_fn, lstm_cell_5_layer_call_fn while saving (showing 5 of 10). These functions will not be directly callable after loading.\n"
     ]
    },
    {
     "name": "stdout",
     "output_type": "stream",
     "text": [
      "INFO:tensorflow:Assets written to: s2s_LSTM_256TimeD_44\\assets\n"
     ]
    },
    {
     "name": "stderr",
     "output_type": "stream",
     "text": [
      "INFO:tensorflow:Assets written to: s2s_LSTM_256TimeD_44\\assets\n"
     ]
    },
    {
     "name": "stdout",
     "output_type": "stream",
     "text": [
      "Epoch 74/500\n",
      "781/781 [==============================] - 41s 52ms/step - loss: 6.1925e-05 - mse: 8.8491e-05 - val_loss: 7.6608e-05 - val_mse: 1.1765e-04\n",
      "Epoch 75/500\n",
      "781/781 [==============================] - 41s 53ms/step - loss: 6.0855e-05 - mse: 8.6662e-05 - val_loss: 1.0979e-04 - val_mse: 1.8415e-04\n",
      "Epoch 76/500\n",
      "781/781 [==============================] - 41s 53ms/step - loss: 5.9473e-05 - mse: 8.4269e-05 - val_loss: 1.6139e-04 - val_mse: 2.8759e-04\n",
      "Epoch 77/500\n",
      "781/781 [==============================] - 41s 53ms/step - loss: 6.1514e-05 - mse: 8.8708e-05 - val_loss: 1.6303e-04 - val_mse: 2.9112e-04\n",
      "Epoch 78/500\n",
      "781/781 [==============================] - 41s 53ms/step - loss: 5.9356e-05 - mse: 8.4635e-05 - val_loss: 1.3019e-04 - val_mse: 2.2579e-04\n",
      "Epoch 79/500\n",
      "781/781 [==============================] - 41s 53ms/step - loss: 5.8925e-05 - mse: 8.4145e-05 - val_loss: 9.6796e-05 - val_mse: 1.5949e-04\n",
      "Epoch 80/500\n",
      "781/781 [==============================] - 41s 52ms/step - loss: 5.9198e-05 - mse: 8.4995e-05 - val_loss: 5.7880e-05 - val_mse: 8.2075e-05\n",
      "Epoch 81/500\n",
      "781/781 [==============================] - 41s 52ms/step - loss: 5.7464e-05 - mse: 8.1771e-05 - val_loss: 4.0994e-05 - val_mse: 4.8644e-05\n"
     ]
    },
    {
     "name": "stderr",
     "output_type": "stream",
     "text": [
      "WARNING:absl:Found untraced functions such as lstm_cell_5_layer_call_and_return_conditional_losses, lstm_cell_5_layer_call_fn, lstm_cell_6_layer_call_and_return_conditional_losses, lstm_cell_6_layer_call_fn, lstm_cell_5_layer_call_fn while saving (showing 5 of 10). These functions will not be directly callable after loading.\n"
     ]
    },
    {
     "name": "stdout",
     "output_type": "stream",
     "text": [
      "INFO:tensorflow:Assets written to: s2s_LSTM_256TimeD_44\\assets\n"
     ]
    },
    {
     "name": "stderr",
     "output_type": "stream",
     "text": [
      "INFO:tensorflow:Assets written to: s2s_LSTM_256TimeD_44\\assets\n"
     ]
    },
    {
     "name": "stdout",
     "output_type": "stream",
     "text": [
      "Epoch 82/500\n",
      "781/781 [==============================] - 41s 52ms/step - loss: 5.5859e-05 - mse: 7.8898e-05 - val_loss: 3.7816e-05 - val_mse: 4.2833e-05\n"
     ]
    },
    {
     "name": "stderr",
     "output_type": "stream",
     "text": [
      "WARNING:absl:Found untraced functions such as lstm_cell_5_layer_call_and_return_conditional_losses, lstm_cell_5_layer_call_fn, lstm_cell_6_layer_call_and_return_conditional_losses, lstm_cell_6_layer_call_fn, lstm_cell_5_layer_call_fn while saving (showing 5 of 10). These functions will not be directly callable after loading.\n"
     ]
    },
    {
     "name": "stdout",
     "output_type": "stream",
     "text": [
      "INFO:tensorflow:Assets written to: s2s_LSTM_256TimeD_44\\assets\n"
     ]
    },
    {
     "name": "stderr",
     "output_type": "stream",
     "text": [
      "INFO:tensorflow:Assets written to: s2s_LSTM_256TimeD_44\\assets\n"
     ]
    },
    {
     "name": "stdout",
     "output_type": "stream",
     "text": [
      "Epoch 83/500\n",
      "781/781 [==============================] - 41s 52ms/step - loss: 5.7023e-05 - mse: 8.1538e-05 - val_loss: 4.4824e-05 - val_mse: 5.7117e-05\n",
      "Epoch 84/500\n",
      "781/781 [==============================] - 41s 52ms/step - loss: 5.6707e-05 - mse: 8.1180e-05 - val_loss: 5.0504e-05 - val_mse: 6.8788e-05\n",
      "Epoch 85/500\n",
      "781/781 [==============================] - 41s 52ms/step - loss: 5.6296e-05 - mse: 8.0609e-05 - val_loss: 4.7614e-05 - val_mse: 6.3252e-05\n",
      "Epoch 86/500\n",
      "781/781 [==============================] - 41s 53ms/step - loss: 5.5444e-05 - mse: 7.9200e-05 - val_loss: 4.1238e-05 - val_mse: 5.0770e-05\n",
      "Epoch 87/500\n",
      "781/781 [==============================] - 41s 53ms/step - loss: 5.4626e-05 - mse: 7.7799e-05 - val_loss: 3.5670e-05 - val_mse: 3.9826e-05\n"
     ]
    },
    {
     "name": "stderr",
     "output_type": "stream",
     "text": [
      "WARNING:absl:Found untraced functions such as lstm_cell_5_layer_call_and_return_conditional_losses, lstm_cell_5_layer_call_fn, lstm_cell_6_layer_call_and_return_conditional_losses, lstm_cell_6_layer_call_fn, lstm_cell_5_layer_call_fn while saving (showing 5 of 10). These functions will not be directly callable after loading.\n"
     ]
    },
    {
     "name": "stdout",
     "output_type": "stream",
     "text": [
      "INFO:tensorflow:Assets written to: s2s_LSTM_256TimeD_44\\assets\n"
     ]
    },
    {
     "name": "stderr",
     "output_type": "stream",
     "text": [
      "INFO:tensorflow:Assets written to: s2s_LSTM_256TimeD_44\\assets\n"
     ]
    },
    {
     "name": "stdout",
     "output_type": "stream",
     "text": [
      "Epoch 88/500\n",
      "781/781 [==============================] - 42s 53ms/step - loss: 5.4704e-05 - mse: 7.8248e-05 - val_loss: 4.2547e-05 - val_mse: 5.3765e-05\n",
      "Epoch 89/500\n",
      "781/781 [==============================] - 42s 53ms/step - loss: 5.4535e-05 - mse: 7.8167e-05 - val_loss: 5.4179e-05 - val_mse: 7.7193e-05\n",
      "Epoch 90/500\n",
      "781/781 [==============================] - 41s 53ms/step - loss: 5.3654e-05 - mse: 7.6647e-05 - val_loss: 7.9762e-05 - val_mse: 1.2851e-04\n",
      "Epoch 91/500\n",
      "781/781 [==============================] - 42s 54ms/step - loss: 5.2971e-05 - mse: 7.5534e-05 - val_loss: 9.3343e-05 - val_mse: 1.5588e-04\n",
      "Epoch 92/500\n",
      "781/781 [==============================] - 42s 53ms/step - loss: 5.2977e-05 - mse: 7.5800e-05 - val_loss: 1.3184e-04 - val_mse: 2.3301e-04\n",
      "Epoch 93/500\n",
      "781/781 [==============================] - 41s 53ms/step - loss: 5.2798e-05 - mse: 7.5679e-05 - val_loss: 1.4700e-04 - val_mse: 2.6354e-04\n",
      "Epoch 94/500\n",
      "781/781 [==============================] - 40s 51ms/step - loss: 5.1710e-05 - mse: 7.3725e-05 - val_loss: 1.3678e-04 - val_mse: 2.4337e-04\n",
      "Epoch 95/500\n",
      "781/781 [==============================] - 41s 52ms/step - loss: 5.2234e-05 - mse: 7.5062e-05 - val_loss: 1.2730e-04 - val_mse: 2.2473e-04\n",
      "Epoch 96/500\n",
      "781/781 [==============================] - 41s 53ms/step - loss: 5.1875e-05 - mse: 7.4525e-05 - val_loss: 8.9990e-05 - val_mse: 1.5041e-04\n",
      "Epoch 97/500\n",
      "781/781 [==============================] - 41s 52ms/step - loss: 5.0684e-05 - mse: 7.2378e-05 - val_loss: 6.6325e-05 - val_mse: 1.0347e-04\n",
      "Epoch 98/500\n",
      "781/781 [==============================] - 41s 53ms/step - loss: 5.1446e-05 - mse: 7.4153e-05 - val_loss: 5.0602e-05 - val_mse: 7.2341e-05\n",
      "Epoch 99/500\n",
      "781/781 [==============================] - 41s 52ms/step - loss: 5.0989e-05 - mse: 7.3429e-05 - val_loss: 4.0458e-05 - val_mse: 5.2360e-05\n",
      "Epoch 100/500\n",
      "781/781 [==============================] - 42s 54ms/step - loss: 4.9724e-05 - mse: 7.1108e-05 - val_loss: 3.6111e-05 - val_mse: 4.3966e-05\n",
      "Epoch 101/500\n",
      "781/781 [==============================] - 43s 55ms/step - loss: 5.0578e-05 - mse: 7.3050e-05 - val_loss: 3.6948e-05 - val_mse: 4.5930e-05\n",
      "Epoch 102/500\n",
      "781/781 [==============================] - 43s 55ms/step - loss: 5.0182e-05 - mse: 7.2457e-05 - val_loss: 3.8656e-05 - val_mse: 4.9595e-05\n",
      "Epoch 103/500\n",
      "781/781 [==============================] - 43s 55ms/step - loss: 4.9800e-05 - mse: 7.1870e-05 - val_loss: 3.6539e-05 - val_mse: 4.5525e-05\n",
      "Epoch 104/500\n",
      "781/781 [==============================] - 43s 56ms/step - loss: 4.8407e-05 - mse: 6.9270e-05 - val_loss: 3.4852e-05 - val_mse: 4.2270e-05\n"
     ]
    },
    {
     "name": "stderr",
     "output_type": "stream",
     "text": [
      "WARNING:absl:Found untraced functions such as lstm_cell_5_layer_call_and_return_conditional_losses, lstm_cell_5_layer_call_fn, lstm_cell_6_layer_call_and_return_conditional_losses, lstm_cell_6_layer_call_fn, lstm_cell_5_layer_call_fn while saving (showing 5 of 10). These functions will not be directly callable after loading.\n"
     ]
    },
    {
     "name": "stdout",
     "output_type": "stream",
     "text": [
      "INFO:tensorflow:Assets written to: s2s_LSTM_256TimeD_44\\assets\n"
     ]
    },
    {
     "name": "stderr",
     "output_type": "stream",
     "text": [
      "INFO:tensorflow:Assets written to: s2s_LSTM_256TimeD_44\\assets\n"
     ]
    },
    {
     "name": "stdout",
     "output_type": "stream",
     "text": [
      "Epoch 105/500\n",
      "781/781 [==============================] - 42s 54ms/step - loss: 4.8540e-05 - mse: 6.9785e-05 - val_loss: 4.9649e-05 - val_mse: 7.1919e-05\n",
      "Epoch 106/500\n",
      "781/781 [==============================] - 41s 52ms/step - loss: 5.0711e-05 - mse: 7.4299e-05 - val_loss: 6.0086e-05 - val_mse: 9.2820e-05\n",
      "Epoch 107/500\n",
      "781/781 [==============================] - 44s 57ms/step - loss: 4.5921e-05 - mse: 6.4862e-05 - val_loss: 9.3255e-05 - val_mse: 1.5923e-04\n",
      "Epoch 108/500\n",
      "781/781 [==============================] - 45s 57ms/step - loss: 4.8448e-05 - mse: 7.0177e-05 - val_loss: 1.1739e-04 - val_mse: 2.0763e-04\n",
      "Epoch 109/500\n",
      "781/781 [==============================] - 46s 58ms/step - loss: 4.9337e-05 - mse: 7.2112e-05 - val_loss: 1.0949e-04 - val_mse: 1.9198e-04\n",
      "Epoch 110/500\n",
      "781/781 [==============================] - 45s 58ms/step - loss: 4.6198e-05 - mse: 6.5984e-05 - val_loss: 1.1092e-04 - val_mse: 1.9504e-04\n",
      "Epoch 111/500\n",
      "781/781 [==============================] - 44s 57ms/step - loss: 4.7539e-05 - mse: 6.8870e-05 - val_loss: 9.6083e-05 - val_mse: 1.6558e-04\n",
      "Epoch 112/500\n",
      "781/781 [==============================] - 45s 57ms/step - loss: 4.7726e-05 - mse: 6.9420e-05 - val_loss: 7.5695e-05 - val_mse: 1.2504e-04\n",
      "Epoch 113/500\n",
      "781/781 [==============================] - 44s 56ms/step - loss: 4.5953e-05 - mse: 6.6006e-05 - val_loss: 5.4316e-05 - val_mse: 8.2542e-05\n",
      "Epoch 114/500\n",
      "781/781 [==============================] - 41s 52ms/step - loss: 4.5952e-05 - mse: 6.6208e-05 - val_loss: 4.1907e-05 - val_mse: 5.7999e-05\n",
      "Epoch 115/500\n",
      "781/781 [==============================] - 40s 52ms/step - loss: 4.7256e-05 - mse: 6.8972e-05 - val_loss: 3.3406e-05 - val_mse: 4.1173e-05\n"
     ]
    },
    {
     "name": "stderr",
     "output_type": "stream",
     "text": [
      "WARNING:absl:Found untraced functions such as lstm_cell_5_layer_call_and_return_conditional_losses, lstm_cell_5_layer_call_fn, lstm_cell_6_layer_call_and_return_conditional_losses, lstm_cell_6_layer_call_fn, lstm_cell_5_layer_call_fn while saving (showing 5 of 10). These functions will not be directly callable after loading.\n"
     ]
    },
    {
     "name": "stdout",
     "output_type": "stream",
     "text": [
      "INFO:tensorflow:Assets written to: s2s_LSTM_256TimeD_44\\assets\n"
     ]
    },
    {
     "name": "stderr",
     "output_type": "stream",
     "text": [
      "INFO:tensorflow:Assets written to: s2s_LSTM_256TimeD_44\\assets\n"
     ]
    },
    {
     "name": "stdout",
     "output_type": "stream",
     "text": [
      "Epoch 116/500\n",
      "781/781 [==============================] - 42s 53ms/step - loss: 4.5219e-05 - mse: 6.5043e-05 - val_loss: 3.0944e-05 - val_mse: 3.6540e-05\n"
     ]
    },
    {
     "name": "stderr",
     "output_type": "stream",
     "text": [
      "WARNING:absl:Found untraced functions such as lstm_cell_5_layer_call_and_return_conditional_losses, lstm_cell_5_layer_call_fn, lstm_cell_6_layer_call_and_return_conditional_losses, lstm_cell_6_layer_call_fn, lstm_cell_5_layer_call_fn while saving (showing 5 of 10). These functions will not be directly callable after loading.\n"
     ]
    },
    {
     "name": "stdout",
     "output_type": "stream",
     "text": [
      "INFO:tensorflow:Assets written to: s2s_LSTM_256TimeD_44\\assets\n"
     ]
    },
    {
     "name": "stderr",
     "output_type": "stream",
     "text": [
      "INFO:tensorflow:Assets written to: s2s_LSTM_256TimeD_44\\assets\n"
     ]
    },
    {
     "name": "stdout",
     "output_type": "stream",
     "text": [
      "Epoch 117/500\n",
      "781/781 [==============================] - 39s 50ms/step - loss: 4.5638e-05 - mse: 6.6062e-05 - val_loss: 3.7558e-05 - val_mse: 5.0025e-05\n",
      "Epoch 118/500\n",
      "781/781 [==============================] - 43s 54ms/step - loss: 4.6841e-05 - mse: 6.8595e-05 - val_loss: 3.9146e-05 - val_mse: 5.3325e-05\n",
      "Epoch 119/500\n",
      "781/781 [==============================] - 41s 52ms/step - loss: 4.3633e-05 - mse: 6.2324e-05 - val_loss: 4.2992e-05 - val_mse: 6.1239e-05\n",
      "Epoch 120/500\n",
      "781/781 [==============================] - 39s 50ms/step - loss: 4.5096e-05 - mse: 6.5437e-05 - val_loss: 3.9977e-05 - val_mse: 5.5353e-05\n",
      "Epoch 121/500\n",
      "781/781 [==============================] - 41s 53ms/step - loss: 4.6682e-05 - mse: 6.8754e-05 - val_loss: 3.1117e-05 - val_mse: 3.7619e-05\n",
      "Epoch 122/500\n",
      "781/781 [==============================] - 39s 50ms/step - loss: 4.3233e-05 - mse: 6.1952e-05 - val_loss: 3.2163e-05 - val_mse: 3.9717e-05\n",
      "Epoch 123/500\n",
      "781/781 [==============================] - 38s 49ms/step - loss: 4.4214e-05 - mse: 6.4105e-05 - val_loss: 6.2277e-05 - val_mse: 9.9922e-05\n",
      "Epoch 124/500\n",
      "781/781 [==============================] - 39s 50ms/step - loss: 4.6249e-05 - mse: 6.8320e-05 - val_loss: 9.4920e-05 - val_mse: 1.6512e-04\n",
      "Epoch 125/500\n",
      "781/781 [==============================] - 39s 50ms/step - loss: 4.2206e-05 - mse: 6.0320e-05 - val_loss: 1.3631e-04 - val_mse: 2.4793e-04\n",
      "Epoch 126/500\n",
      "781/781 [==============================] - 40s 51ms/step - loss: 4.3087e-05 - mse: 6.2276e-05 - val_loss: 2.1267e-04 - val_mse: 4.0074e-04\n",
      "Epoch 127/500\n",
      "781/781 [==============================] - 39s 50ms/step - loss: 4.6583e-05 - mse: 6.9407e-05 - val_loss: 2.0164e-04 - val_mse: 3.7873e-04\n",
      "Epoch 128/500\n",
      "781/781 [==============================] - 39s 50ms/step - loss: 4.1351e-05 - mse: 5.9006e-05 - val_loss: 1.3537e-04 - val_mse: 2.4649e-04\n",
      "Epoch 129/500\n",
      "781/781 [==============================] - 39s 50ms/step - loss: 4.1985e-05 - mse: 6.0487e-05 - val_loss: 1.5027e-04 - val_mse: 2.7657e-04\n",
      "Epoch 130/500\n",
      "781/781 [==============================] - 40s 51ms/step - loss: 4.6485e-05 - mse: 6.9632e-05 - val_loss: 1.0901e-04 - val_mse: 1.9416e-04\n",
      "Epoch 131/500\n",
      "781/781 [==============================] - 39s 49ms/step - loss: 3.9339e-05 - mse: 5.5368e-05 - val_loss: 5.7236e-05 - val_mse: 9.0952e-05\n",
      "Epoch 132/500\n",
      "781/781 [==============================] - 39s 50ms/step - loss: 4.1104e-05 - mse: 5.9147e-05 - val_loss: 1.0158e-04 - val_mse: 1.7971e-04\n",
      "Epoch 133/500\n",
      "781/781 [==============================] - 40s 51ms/step - loss: 4.6419e-05 - mse: 6.9905e-05 - val_loss: 6.7916e-05 - val_mse: 1.1254e-04\n",
      "Epoch 134/500\n",
      "781/781 [==============================] - 39s 50ms/step - loss: 3.7029e-05 - mse: 5.1173e-05 - val_loss: 8.0372e-05 - val_mse: 1.3758e-04\n",
      "Epoch 135/500\n",
      "781/781 [==============================] - 41s 53ms/step - loss: 4.1281e-05 - mse: 5.9946e-05 - val_loss: 1.9948e-04 - val_mse: 3.7581e-04\n",
      "Epoch 136/500\n",
      "781/781 [==============================] - 41s 53ms/step - loss: 4.6477e-05 - mse: 7.0470e-05 - val_loss: 1.4090e-04 - val_mse: 2.5865e-04\n",
      "Epoch 137/500\n",
      "781/781 [==============================] - 41s 52ms/step - loss: 3.6158e-05 - mse: 4.9826e-05 - val_loss: 1.2151e-04 - val_mse: 2.2011e-04\n",
      "Epoch 138/500\n",
      "781/781 [==============================] - 41s 52ms/step - loss: 4.1270e-05 - mse: 6.0341e-05 - val_loss: 2.5054e-04 - val_mse: 4.7826e-04\n",
      "Epoch 139/500\n",
      "781/781 [==============================] - 41s 52ms/step - loss: 4.3451e-05 - mse: 6.4780e-05 - val_loss: 9.4811e-05 - val_mse: 1.6697e-04\n",
      "Epoch 140/500\n",
      "781/781 [==============================] - 41s 52ms/step - loss: 3.5580e-05 - mse: 4.9129e-05 - val_loss: 8.4915e-05 - val_mse: 1.4763e-04\n",
      "Epoch 141/500\n",
      "781/781 [==============================] - 42s 54ms/step - loss: 4.4017e-05 - mse: 6.6229e-05 - val_loss: 8.2273e-05 - val_mse: 1.4242e-04\n",
      "Epoch 142/500\n",
      "781/781 [==============================] - 40s 52ms/step - loss: 3.9355e-05 - mse: 5.6934e-05 - val_loss: 3.7567e-05 - val_mse: 5.3216e-05\n",
      "Epoch 143/500\n",
      "781/781 [==============================] - 41s 53ms/step - loss: 3.8318e-05 - mse: 5.5016e-05 - val_loss: 4.4143e-05 - val_mse: 6.6629e-05\n",
      "Epoch 144/500\n",
      "781/781 [==============================] - 41s 52ms/step - loss: 4.2915e-05 - mse: 6.4365e-05 - val_loss: 3.8711e-05 - val_mse: 5.5834e-05\n",
      "Epoch 145/500\n",
      "781/781 [==============================] - 41s 52ms/step - loss: 3.8612e-05 - mse: 5.5778e-05 - val_loss: 2.9668e-05 - val_mse: 3.7822e-05\n"
     ]
    },
    {
     "name": "stderr",
     "output_type": "stream",
     "text": [
      "WARNING:absl:Found untraced functions such as lstm_cell_5_layer_call_and_return_conditional_losses, lstm_cell_5_layer_call_fn, lstm_cell_6_layer_call_and_return_conditional_losses, lstm_cell_6_layer_call_fn, lstm_cell_5_layer_call_fn while saving (showing 5 of 10). These functions will not be directly callable after loading.\n"
     ]
    },
    {
     "name": "stdout",
     "output_type": "stream",
     "text": [
      "INFO:tensorflow:Assets written to: s2s_LSTM_256TimeD_44\\assets\n"
     ]
    },
    {
     "name": "stderr",
     "output_type": "stream",
     "text": [
      "INFO:tensorflow:Assets written to: s2s_LSTM_256TimeD_44\\assets\n"
     ]
    },
    {
     "name": "stdout",
     "output_type": "stream",
     "text": [
      "Epoch 146/500\n",
      "781/781 [==============================] - 41s 52ms/step - loss: 3.6952e-05 - mse: 5.2622e-05 - val_loss: 5.5399e-05 - val_mse: 8.9478e-05\n",
      "Epoch 147/500\n",
      "781/781 [==============================] - 41s 52ms/step - loss: 4.4108e-05 - mse: 6.7090e-05 - val_loss: 4.4636e-05 - val_mse: 6.7924e-05\n",
      "Epoch 148/500\n",
      "781/781 [==============================] - 41s 52ms/step - loss: 3.5025e-05 - mse: 4.8913e-05 - val_loss: 5.2244e-05 - val_mse: 8.3160e-05\n",
      "Epoch 149/500\n",
      "781/781 [==============================] - 40s 51ms/step - loss: 3.6881e-05 - mse: 5.2859e-05 - val_loss: 1.4991e-04 - val_mse: 2.7866e-04\n",
      "Epoch 150/500\n",
      "781/781 [==============================] - 41s 52ms/step - loss: 4.3217e-05 - mse: 6.5639e-05 - val_loss: 6.5967e-05 - val_mse: 1.1072e-04\n",
      "Epoch 151/500\n",
      "781/781 [==============================] - 41s 52ms/step - loss: 3.2895e-05 - mse: 4.5024e-05 - val_loss: 7.7711e-05 - val_mse: 1.3450e-04\n",
      "Epoch 152/500\n",
      "781/781 [==============================] - 40s 52ms/step - loss: 4.0776e-05 - mse: 6.1028e-05 - val_loss: 1.1001e-04 - val_mse: 1.9917e-04\n",
      "Epoch 153/500\n",
      "781/781 [==============================] - 44s 57ms/step - loss: 3.9213e-05 - mse: 5.7937e-05 - val_loss: 5.3096e-05 - val_mse: 8.5404e-05\n",
      "Epoch 154/500\n",
      "781/781 [==============================] - 45s 58ms/step - loss: 3.4527e-05 - mse: 4.8637e-05 - val_loss: 4.3566e-05 - val_mse: 6.6693e-05\n",
      "Epoch 155/500\n",
      "781/781 [==============================] - 45s 57ms/step - loss: 4.0452e-05 - mse: 6.0671e-05 - val_loss: 3.9323e-05 - val_mse: 5.8286e-05\n",
      "Epoch 156/500\n",
      "781/781 [==============================] - 41s 53ms/step - loss: 3.8147e-05 - mse: 5.6083e-05 - val_loss: 2.4484e-05 - val_mse: 2.8672e-05\n"
     ]
    },
    {
     "name": "stderr",
     "output_type": "stream",
     "text": [
      "WARNING:absl:Found untraced functions such as lstm_cell_5_layer_call_and_return_conditional_losses, lstm_cell_5_layer_call_fn, lstm_cell_6_layer_call_and_return_conditional_losses, lstm_cell_6_layer_call_fn, lstm_cell_5_layer_call_fn while saving (showing 5 of 10). These functions will not be directly callable after loading.\n"
     ]
    },
    {
     "name": "stdout",
     "output_type": "stream",
     "text": [
      "INFO:tensorflow:Assets written to: s2s_LSTM_256TimeD_44\\assets\n"
     ]
    },
    {
     "name": "stderr",
     "output_type": "stream",
     "text": [
      "INFO:tensorflow:Assets written to: s2s_LSTM_256TimeD_44\\assets\n"
     ]
    },
    {
     "name": "stdout",
     "output_type": "stream",
     "text": [
      "Epoch 157/500\n",
      "781/781 [==============================] - 41s 52ms/step - loss: 3.4792e-05 - mse: 4.9474e-05 - val_loss: 2.9462e-05 - val_mse: 3.9026e-05\n",
      "Epoch 158/500\n",
      "781/781 [==============================] - 40s 52ms/step - loss: 4.0626e-05 - mse: 6.1283e-05 - val_loss: 2.7907e-05 - val_mse: 3.5887e-05\n",
      "Epoch 159/500\n",
      "781/781 [==============================] - 41s 52ms/step - loss: 3.5719e-05 - mse: 5.1491e-05 - val_loss: 2.9105e-05 - val_mse: 3.8348e-05\n",
      "Epoch 160/500\n",
      "781/781 [==============================] - 41s 52ms/step - loss: 3.4688e-05 - mse: 4.9585e-05 - val_loss: 5.3980e-05 - val_mse: 8.8527e-05\n",
      "Epoch 161/500\n",
      "781/781 [==============================] - 40s 51ms/step - loss: 4.0366e-05 - mse: 6.1044e-05 - val_loss: 4.2282e-05 - val_mse: 6.5004e-05\n",
      "Epoch 162/500\n",
      "781/781 [==============================] - 41s 53ms/step - loss: 3.3701e-05 - mse: 4.7752e-05 - val_loss: 4.3263e-05 - val_mse: 6.7098e-05\n",
      "Epoch 163/500\n",
      "781/781 [==============================] - 41s 52ms/step - loss: 3.6381e-05 - mse: 5.3271e-05 - val_loss: 7.5663e-05 - val_mse: 1.3224e-04\n",
      "Epoch 164/500\n",
      "781/781 [==============================] - 40s 52ms/step - loss: 3.8885e-05 - mse: 5.8357e-05 - val_loss: 5.6090e-05 - val_mse: 9.2912e-05\n",
      "Epoch 165/500\n",
      "781/781 [==============================] - 41s 52ms/step - loss: 3.2507e-05 - mse: 4.5643e-05 - val_loss: 6.0485e-05 - val_mse: 1.0195e-04\n",
      "Epoch 166/500\n",
      "781/781 [==============================] - 41s 52ms/step - loss: 3.8118e-05 - mse: 5.7045e-05 - val_loss: 9.6724e-05 - val_mse: 1.7465e-04\n",
      "Epoch 167/500\n",
      "781/781 [==============================] - 40s 52ms/step - loss: 3.6897e-05 - mse: 5.4628e-05 - val_loss: 5.9107e-05 - val_mse: 9.9202e-05\n",
      "Epoch 168/500\n",
      "781/781 [==============================] - 41s 53ms/step - loss: 3.0067e-05 - mse: 4.1051e-05 - val_loss: 8.0685e-05 - val_mse: 1.4277e-04\n",
      "Epoch 169/500\n",
      "781/781 [==============================] - 42s 53ms/step - loss: 4.0977e-05 - mse: 6.3051e-05 - val_loss: 1.1695e-04 - val_mse: 2.1532e-04\n",
      "Epoch 170/500\n",
      "781/781 [==============================] - 42s 54ms/step - loss: 3.2149e-05 - mse: 4.5373e-05 - val_loss: 6.3880e-05 - val_mse: 1.0908e-04\n",
      "Epoch 171/500\n",
      "781/781 [==============================] - 41s 53ms/step - loss: 3.2015e-05 - mse: 4.5306e-05 - val_loss: 1.5137e-04 - val_mse: 2.8458e-04\n",
      "Epoch 172/500\n",
      "781/781 [==============================] - 40s 51ms/step - loss: 4.0018e-05 - mse: 6.1394e-05 - val_loss: 9.1722e-05 - val_mse: 1.6501e-04\n",
      "Epoch 173/500\n",
      "781/781 [==============================] - 40s 52ms/step - loss: 2.9296e-05 - mse: 3.9977e-05 - val_loss: 9.5030e-05 - val_mse: 1.7187e-04\n",
      "Epoch 174/500\n",
      "781/781 [==============================] - 41s 52ms/step - loss: 3.6637e-05 - mse: 5.4873e-05 - val_loss: 1.3883e-04 - val_mse: 2.5975e-04\n",
      "Epoch 175/500\n",
      "781/781 [==============================] - 40s 51ms/step - loss: 3.5409e-05 - mse: 5.2416e-05 - val_loss: 6.2207e-05 - val_mse: 1.0619e-04\n",
      "Epoch 176/500\n",
      "781/781 [==============================] - 41s 52ms/step - loss: 3.0829e-05 - mse: 4.3356e-05 - val_loss: 7.8430e-05 - val_mse: 1.3898e-04\n",
      "Epoch 177/500\n",
      "781/781 [==============================] - 41s 52ms/step - loss: 3.7997e-05 - mse: 5.7811e-05 - val_loss: 5.0171e-05 - val_mse: 8.2356e-05\n",
      "Epoch 178/500\n",
      "781/781 [==============================] - 40s 52ms/step - loss: 3.1380e-05 - mse: 4.4594e-05 - val_loss: 3.3337e-05 - val_mse: 4.8649e-05\n",
      "Epoch 179/500\n",
      "781/781 [==============================] - 44s 56ms/step - loss: 3.3540e-05 - mse: 4.9067e-05 - val_loss: 4.3347e-05 - val_mse: 6.9006e-05\n",
      "Epoch 180/500\n",
      "781/781 [==============================] - 44s 56ms/step - loss: 3.7248e-05 - mse: 5.6528e-05 - val_loss: 2.2936e-05 - val_mse: 2.7864e-05\n"
     ]
    },
    {
     "name": "stderr",
     "output_type": "stream",
     "text": [
      "WARNING:absl:Found untraced functions such as lstm_cell_5_layer_call_and_return_conditional_losses, lstm_cell_5_layer_call_fn, lstm_cell_6_layer_call_and_return_conditional_losses, lstm_cell_6_layer_call_fn, lstm_cell_5_layer_call_fn while saving (showing 5 of 10). These functions will not be directly callable after loading.\n"
     ]
    },
    {
     "name": "stdout",
     "output_type": "stream",
     "text": [
      "INFO:tensorflow:Assets written to: s2s_LSTM_256TimeD_44\\assets\n"
     ]
    },
    {
     "name": "stderr",
     "output_type": "stream",
     "text": [
      "INFO:tensorflow:Assets written to: s2s_LSTM_256TimeD_44\\assets\n"
     ]
    },
    {
     "name": "stdout",
     "output_type": "stream",
     "text": [
      "Epoch 181/500\n",
      "781/781 [==============================] - 44s 56ms/step - loss: 2.8498e-05 - mse: 3.9072e-05 - val_loss: 2.3442e-05 - val_mse: 2.9103e-05\n",
      "Epoch 182/500\n",
      "781/781 [==============================] - 43s 55ms/step - loss: 3.7113e-05 - mse: 5.6474e-05 - val_loss: 2.6686e-05 - val_mse: 3.5701e-05\n",
      "Epoch 183/500\n",
      "781/781 [==============================] - 44s 57ms/step - loss: 3.2190e-05 - mse: 4.6639e-05 - val_loss: 2.1661e-05 - val_mse: 2.5521e-05\n"
     ]
    },
    {
     "name": "stderr",
     "output_type": "stream",
     "text": [
      "WARNING:absl:Found untraced functions such as lstm_cell_5_layer_call_and_return_conditional_losses, lstm_cell_5_layer_call_fn, lstm_cell_6_layer_call_and_return_conditional_losses, lstm_cell_6_layer_call_fn, lstm_cell_5_layer_call_fn while saving (showing 5 of 10). These functions will not be directly callable after loading.\n"
     ]
    },
    {
     "name": "stdout",
     "output_type": "stream",
     "text": [
      "INFO:tensorflow:Assets written to: s2s_LSTM_256TimeD_44\\assets\n"
     ]
    },
    {
     "name": "stderr",
     "output_type": "stream",
     "text": [
      "INFO:tensorflow:Assets written to: s2s_LSTM_256TimeD_44\\assets\n"
     ]
    },
    {
     "name": "stdout",
     "output_type": "stream",
     "text": [
      "Epoch 184/500\n",
      "781/781 [==============================] - 43s 55ms/step - loss: 3.0621e-05 - mse: 4.3628e-05 - val_loss: 2.9839e-05 - val_mse: 4.2166e-05\n",
      "Epoch 185/500\n",
      "781/781 [==============================] - 44s 56ms/step - loss: 3.7051e-05 - mse: 5.6573e-05 - val_loss: 2.8814e-05 - val_mse: 4.0048e-05\n",
      "Epoch 186/500\n",
      "781/781 [==============================] - 45s 58ms/step - loss: 2.9778e-05 - mse: 4.2046e-05 - val_loss: 2.7212e-05 - val_mse: 3.6858e-05\n",
      "Epoch 187/500\n",
      "781/781 [==============================] - 45s 57ms/step - loss: 3.2666e-05 - mse: 4.7983e-05 - val_loss: 4.2070e-05 - val_mse: 6.6842e-05\n",
      "Epoch 188/500\n",
      "781/781 [==============================] - 44s 56ms/step - loss: 3.5770e-05 - mse: 5.4216e-05 - val_loss: 2.8444e-05 - val_mse: 3.9435e-05\n",
      "Epoch 189/500\n",
      "781/781 [==============================] - 43s 56ms/step - loss: 2.7978e-05 - mse: 3.8688e-05 - val_loss: 3.0603e-05 - val_mse: 4.3944e-05\n",
      "Epoch 190/500\n",
      "781/781 [==============================] - 44s 56ms/step - loss: 3.5415e-05 - mse: 5.3728e-05 - val_loss: 4.0407e-05 - val_mse: 6.3734e-05\n",
      "Epoch 191/500\n",
      "781/781 [==============================] - 43s 54ms/step - loss: 3.2167e-05 - mse: 4.7242e-05 - val_loss: 2.3231e-05 - val_mse: 2.9279e-05\n",
      "Epoch 192/500\n",
      "781/781 [==============================] - 43s 55ms/step - loss: 2.7988e-05 - mse: 3.9000e-05 - val_loss: 3.0706e-05 - val_mse: 4.4533e-05\n",
      "Epoch 193/500\n",
      "781/781 [==============================] - 41s 52ms/step - loss: 3.7712e-05 - mse: 5.8548e-05 - val_loss: 2.7664e-05 - val_mse: 3.8399e-05\n",
      "Epoch 194/500\n",
      "781/781 [==============================] - 40s 52ms/step - loss: 2.7204e-05 - mse: 3.7538e-05 - val_loss: 2.0450e-05 - val_mse: 2.4063e-05\n"
     ]
    },
    {
     "name": "stderr",
     "output_type": "stream",
     "text": [
      "WARNING:absl:Found untraced functions such as lstm_cell_5_layer_call_and_return_conditional_losses, lstm_cell_5_layer_call_fn, lstm_cell_6_layer_call_and_return_conditional_losses, lstm_cell_6_layer_call_fn, lstm_cell_5_layer_call_fn while saving (showing 5 of 10). These functions will not be directly callable after loading.\n"
     ]
    },
    {
     "name": "stdout",
     "output_type": "stream",
     "text": [
      "INFO:tensorflow:Assets written to: s2s_LSTM_256TimeD_44\\assets\n"
     ]
    },
    {
     "name": "stderr",
     "output_type": "stream",
     "text": [
      "INFO:tensorflow:Assets written to: s2s_LSTM_256TimeD_44\\assets\n"
     ]
    },
    {
     "name": "stdout",
     "output_type": "stream",
     "text": [
      "Epoch 195/500\n",
      "781/781 [==============================] - 40s 51ms/step - loss: 3.2209e-05 - mse: 4.7740e-05 - val_loss: 3.3908e-05 - val_mse: 5.1262e-05\n",
      "Epoch 196/500\n",
      "781/781 [==============================] - 40s 52ms/step - loss: 3.4199e-05 - mse: 5.1719e-05 - val_loss: 2.0218e-05 - val_mse: 2.3711e-05\n"
     ]
    },
    {
     "name": "stderr",
     "output_type": "stream",
     "text": [
      "WARNING:absl:Found untraced functions such as lstm_cell_5_layer_call_and_return_conditional_losses, lstm_cell_5_layer_call_fn, lstm_cell_6_layer_call_and_return_conditional_losses, lstm_cell_6_layer_call_fn, lstm_cell_5_layer_call_fn while saving (showing 5 of 10). These functions will not be directly callable after loading.\n"
     ]
    },
    {
     "name": "stdout",
     "output_type": "stream",
     "text": [
      "INFO:tensorflow:Assets written to: s2s_LSTM_256TimeD_44\\assets\n"
     ]
    },
    {
     "name": "stderr",
     "output_type": "stream",
     "text": [
      "INFO:tensorflow:Assets written to: s2s_LSTM_256TimeD_44\\assets\n"
     ]
    },
    {
     "name": "stdout",
     "output_type": "stream",
     "text": [
      "Epoch 197/500\n",
      "781/781 [==============================] - 40s 52ms/step - loss: 2.6326e-05 - mse: 3.6058e-05 - val_loss: 2.3829e-05 - val_mse: 3.1203e-05\n",
      "Epoch 198/500\n",
      "781/781 [==============================] - 40s 51ms/step - loss: 3.6232e-05 - mse: 5.6001e-05 - val_loss: 2.9030e-05 - val_mse: 4.1676e-05\n",
      "Epoch 199/500\n",
      "781/781 [==============================] - 40s 52ms/step - loss: 2.8553e-05 - mse: 4.0626e-05 - val_loss: 2.0387e-05 - val_mse: 2.4335e-05\n",
      "Epoch 200/500\n",
      "781/781 [==============================] - 40s 52ms/step - loss: 2.8922e-05 - mse: 4.1535e-05 - val_loss: 4.0362e-05 - val_mse: 6.4555e-05\n",
      "Epoch 201/500\n",
      "781/781 [==============================] - 40s 52ms/step - loss: 3.5804e-05 - mse: 5.5326e-05 - val_loss: 2.9651e-05 - val_mse: 4.3080e-05\n",
      "Epoch 202/500\n",
      "781/781 [==============================] - 40s 52ms/step - loss: 2.6071e-05 - mse: 3.5880e-05 - val_loss: 3.3473e-05 - val_mse: 5.0868e-05\n",
      "Epoch 203/500\n",
      "781/781 [==============================] - 41s 53ms/step - loss: 3.2824e-05 - mse: 4.9558e-05 - val_loss: 7.6737e-05 - val_mse: 1.3765e-04\n",
      "Epoch 204/500\n",
      "781/781 [==============================] - 40s 52ms/step - loss: 3.1898e-05 - mse: 4.7699e-05 - val_loss: 3.8425e-05 - val_mse: 6.0835e-05\n",
      "Epoch 205/500\n",
      "781/781 [==============================] - 40s 51ms/step - loss: 2.5959e-05 - mse: 3.5917e-05 - val_loss: 9.7434e-05 - val_mse: 1.7906e-04\n",
      "Epoch 206/500\n",
      "781/781 [==============================] - 40s 51ms/step - loss: 3.6497e-05 - mse: 5.7085e-05 - val_loss: 9.9205e-05 - val_mse: 1.8272e-04\n",
      "Epoch 207/500\n",
      "781/781 [==============================] - 40s 52ms/step - loss: 2.5928e-05 - mse: 3.5905e-05 - val_loss: 5.5362e-05 - val_mse: 9.4960e-05\n",
      "Epoch 208/500\n",
      "781/781 [==============================] - 40s 52ms/step - loss: 2.9615e-05 - mse: 4.3488e-05 - val_loss: 3.0374e-04 - val_mse: 5.9183e-04\n",
      "Epoch 209/500\n",
      "781/781 [==============================] - 40s 51ms/step - loss: 3.3835e-05 - mse: 5.1903e-05 - val_loss: 8.5052e-05 - val_mse: 1.5446e-04\n",
      "Epoch 210/500\n",
      "781/781 [==============================] - 41s 52ms/step - loss: 2.4575e-05 - mse: 3.3438e-05 - val_loss: 1.2755e-04 - val_mse: 2.3965e-04\n",
      "Epoch 211/500\n",
      "781/781 [==============================] - 40s 52ms/step - loss: 3.3921e-05 - mse: 5.2278e-05 - val_loss: 2.8410e-04 - val_mse: 5.5291e-04\n",
      "Epoch 212/500\n",
      "781/781 [==============================] - 40s 51ms/step - loss: 2.8923e-05 - mse: 4.2233e-05 - val_loss: 8.7482e-05 - val_mse: 1.5949e-04\n",
      "Epoch 213/500\n",
      "781/781 [==============================] - 40s 52ms/step - loss: 2.6177e-05 - mse: 3.6881e-05 - val_loss: 3.7336e-04 - val_mse: 7.3130e-04\n",
      "Epoch 214/500\n",
      "781/781 [==============================] - 41s 52ms/step - loss: 3.5440e-05 - mse: 5.5437e-05 - val_loss: 1.5930e-04 - val_mse: 3.0335e-04\n",
      "Epoch 215/500\n",
      "781/781 [==============================] - 41s 52ms/step - loss: 2.3933e-05 - mse: 3.2423e-05 - val_loss: 1.1835e-04 - val_mse: 2.2152e-04\n",
      "Epoch 216/500\n",
      "781/781 [==============================] - 41s 52ms/step - loss: 3.0482e-05 - mse: 4.5689e-05 - val_loss: 3.5795e-04 - val_mse: 7.0097e-04\n",
      "Epoch 217/500\n",
      "781/781 [==============================] - 40s 52ms/step - loss: 3.2689e-05 - mse: 5.0060e-05 - val_loss: 1.1304e-04 - val_mse: 2.1090e-04\n",
      "Epoch 218/500\n",
      "781/781 [==============================] - 40s 51ms/step - loss: 2.3199e-05 - mse: 3.1144e-05 - val_loss: 1.7344e-04 - val_mse: 3.3195e-04\n",
      "Epoch 219/500\n",
      "781/781 [==============================] - 40s 52ms/step - loss: 3.4100e-05 - mse: 5.3070e-05 - val_loss: 3.6364e-04 - val_mse: 7.1253e-04\n",
      "Epoch 220/500\n",
      "781/781 [==============================] - 40s 51ms/step - loss: 2.7003e-05 - mse: 3.8799e-05 - val_loss: 9.1264e-05 - val_mse: 1.6752e-04\n",
      "Epoch 221/500\n",
      "781/781 [==============================] - 41s 52ms/step - loss: 2.6339e-05 - mse: 3.7647e-05 - val_loss: 3.0666e-04 - val_mse: 5.9854e-04\n",
      "Epoch 222/500\n",
      "781/781 [==============================] - 41s 52ms/step - loss: 3.4110e-05 - mse: 5.3183e-05 - val_loss: 1.7592e-04 - val_mse: 3.3709e-04\n",
      "Epoch 223/500\n",
      "781/781 [==============================] - 40s 51ms/step - loss: 2.3254e-05 - mse: 3.1478e-05 - val_loss: 1.2993e-04 - val_mse: 2.4517e-04\n",
      "Epoch 224/500\n",
      "781/781 [==============================] - 41s 52ms/step - loss: 2.9843e-05 - mse: 4.4802e-05 - val_loss: 2.9580e-04 - val_mse: 5.7715e-04\n",
      "Epoch 225/500\n",
      "781/781 [==============================] - 40s 51ms/step - loss: 3.0865e-05 - mse: 4.6816e-05 - val_loss: 1.3064e-04 - val_mse: 2.4661e-04\n",
      "Epoch 226/500\n",
      "781/781 [==============================] - 40s 51ms/step - loss: 2.3572e-05 - mse: 3.2297e-05 - val_loss: 1.8230e-04 - val_mse: 3.5011e-04\n",
      "Epoch 227/500\n",
      "781/781 [==============================] - 41s 53ms/step - loss: 3.2954e-05 - mse: 5.1144e-05 - val_loss: 3.2487e-04 - val_mse: 6.3545e-04\n",
      "Epoch 228/500\n",
      "781/781 [==============================] - 41s 52ms/step - loss: 2.6450e-05 - mse: 3.8082e-05 - val_loss: 9.8248e-05 - val_mse: 1.8194e-04\n",
      "Epoch 229/500\n",
      "781/781 [==============================] - 40s 51ms/step - loss: 2.5692e-05 - mse: 3.6740e-05 - val_loss: 2.9928e-04 - val_mse: 5.8401e-04\n",
      "Epoch 230/500\n",
      "781/781 [==============================] - 41s 52ms/step - loss: 3.2385e-05 - mse: 5.0125e-05 - val_loss: 2.2124e-04 - val_mse: 4.2821e-04\n",
      "Epoch 231/500\n",
      "781/781 [==============================] - 40s 52ms/step - loss: 2.3446e-05 - mse: 3.2252e-05 - val_loss: 1.2274e-04 - val_mse: 2.3116e-04\n",
      "Epoch 232/500\n",
      "781/781 [==============================] - 41s 52ms/step - loss: 2.7917e-05 - mse: 4.1341e-05 - val_loss: 2.7332e-04 - val_mse: 5.3255e-04\n",
      "Epoch 233/500\n",
      "781/781 [==============================] - 41s 52ms/step - loss: 3.1412e-05 - mse: 4.8306e-05 - val_loss: 1.2289e-04 - val_mse: 2.3147e-04\n",
      "Epoch 234/500\n",
      "781/781 [==============================] - 40s 51ms/step - loss: 2.1957e-05 - mse: 2.9464e-05 - val_loss: 1.6097e-04 - val_mse: 3.0783e-04\n",
      "Epoch 235/500\n",
      "781/781 [==============================] - 40s 52ms/step - loss: 3.1725e-05 - mse: 4.9105e-05 - val_loss: 3.3145e-04 - val_mse: 6.4889e-04\n",
      "Epoch 236/500\n",
      "781/781 [==============================] - 41s 52ms/step - loss: 2.6765e-05 - mse: 3.9123e-05 - val_loss: 1.0126e-04 - val_mse: 1.8835e-04\n",
      "Epoch 237/500\n",
      "781/781 [==============================] - 40s 51ms/step - loss: 2.3666e-05 - mse: 3.3080e-05 - val_loss: 2.2415e-04 - val_mse: 4.3433e-04\n",
      "Epoch 238/500\n",
      "781/781 [==============================] - 42s 54ms/step - loss: 3.2977e-05 - mse: 5.1719e-05 - val_loss: 2.4489e-04 - val_mse: 4.7584e-04\n",
      "Epoch 239/500\n",
      "781/781 [==============================] - 45s 58ms/step - loss: 2.3211e-05 - mse: 3.2175e-05 - val_loss: 1.0883e-04 - val_mse: 2.0369e-04\n",
      "Epoch 240/500\n",
      "781/781 [==============================] - 44s 57ms/step - loss: 2.6165e-05 - mse: 3.8243e-05 - val_loss: 2.7311e-04 - val_mse: 5.3249e-04\n",
      "Epoch 241/500\n",
      "781/781 [==============================] - 43s 55ms/step - loss: 3.1536e-05 - mse: 4.8945e-05 - val_loss: 1.4403e-04 - val_mse: 2.7419e-04\n",
      "Epoch 242/500\n",
      "781/781 [==============================] - 40s 52ms/step - loss: 2.1649e-05 - mse: 2.9245e-05 - val_loss: 1.4592e-04 - val_mse: 2.7811e-04\n",
      "Epoch 243/500\n",
      "781/781 [==============================] - 41s 53ms/step - loss: 2.9742e-05 - mse: 4.5534e-05 - val_loss: 3.2174e-04 - val_mse: 6.2993e-04\n",
      "Epoch 244/500\n",
      "781/781 [==============================] - 40s 52ms/step - loss: 2.7697e-05 - mse: 4.1397e-05 - val_loss: 1.0777e-04 - val_mse: 2.0180e-04\n",
      "Epoch 245/500\n",
      "781/781 [==============================] - 41s 52ms/step - loss: 2.2606e-05 - mse: 3.1355e-05 - val_loss: 2.0456e-04 - val_mse: 3.9560e-04\n",
      "Epoch 246/500\n",
      "781/781 [==============================] - 42s 54ms/step - loss: 3.1415e-05 - mse: 4.8997e-05 - val_loss: 2.5325e-04 - val_mse: 4.9298e-04\n",
      "Epoch 247/500\n",
      "781/781 [==============================] - 41s 52ms/step - loss: 2.3362e-05 - mse: 3.2873e-05 - val_loss: 1.0520e-04 - val_mse: 1.9685e-04\n",
      "Epoch 248/500\n",
      "781/781 [==============================] - 41s 52ms/step - loss: 2.5340e-05 - mse: 3.6985e-05 - val_loss: 2.6413e-04 - val_mse: 5.1493e-04\n",
      "Epoch 249/500\n",
      "781/781 [==============================] - 41s 52ms/step - loss: 3.1011e-05 - mse: 4.8293e-05 - val_loss: 1.3854e-04 - val_mse: 2.6367e-04\n",
      "Epoch 250/500\n",
      "781/781 [==============================] - 40s 51ms/step - loss: 2.0667e-05 - mse: 2.7678e-05 - val_loss: 1.2618e-04 - val_mse: 2.3907e-04\n",
      "Epoch 251/500\n",
      "781/781 [==============================] - 41s 52ms/step - loss: 2.8909e-05 - mse: 4.4271e-05 - val_loss: 2.6886e-04 - val_mse: 5.2459e-04\n",
      "Epoch 252/500\n",
      "781/781 [==============================] - 41s 53ms/step - loss: 2.7150e-05 - mse: 4.0688e-05 - val_loss: 9.1073e-05 - val_mse: 1.6883e-04\n",
      "Epoch 253/500\n",
      "781/781 [==============================] - 41s 52ms/step - loss: 2.1751e-05 - mse: 3.0048e-05 - val_loss: 1.5278e-04 - val_mse: 2.9246e-04\n",
      "Epoch 254/500\n",
      "781/781 [==============================] - 41s 52ms/step - loss: 3.1180e-05 - mse: 4.8913e-05 - val_loss: 1.9629e-04 - val_mse: 3.7951e-04\n",
      "Epoch 255/500\n",
      "781/781 [==============================] - 40s 51ms/step - loss: 2.2530e-05 - mse: 3.1621e-05 - val_loss: 7.5023e-05 - val_mse: 1.3693e-04\n",
      "Epoch 256/500\n",
      "781/781 [==============================] - 42s 53ms/step - loss: 2.4501e-05 - mse: 3.5715e-05 - val_loss: 1.1683e-04 - val_mse: 2.2058e-04\n",
      "Epoch 257/500\n",
      "781/781 [==============================] - 42s 54ms/step - loss: 3.0164e-05 - mse: 4.7002e-05 - val_loss: 9.0174e-05 - val_mse: 1.6733e-04\n",
      "Epoch 258/500\n",
      "781/781 [==============================] - 41s 53ms/step - loss: 2.0483e-05 - mse: 2.7706e-05 - val_loss: 4.6415e-05 - val_mse: 7.9860e-05\n",
      "Epoch 259/500\n",
      "781/781 [==============================] - 41s 53ms/step - loss: 2.6293e-05 - mse: 3.9415e-05 - val_loss: 6.0384e-05 - val_mse: 1.0786e-04\n",
      "Epoch 260/500\n",
      "781/781 [==============================] - 42s 54ms/step - loss: 2.8369e-05 - mse: 4.3553e-05 - val_loss: 2.5924e-05 - val_mse: 3.8849e-05\n",
      "CPU times: total: 3h 1min 6s\n",
      "Wall time: 3h 8min 15s\n"
     ]
    },
    {
     "data": {
      "text/plain": [
       "<keras.callbacks.History at 0x1a754a21220>"
      ]
     },
     "execution_count": 36,
     "metadata": {},
     "output_type": "execute_result"
    }
   ],
   "source": [
    "%%time\n",
    "\n",
    "\n",
    "#________________________________ LSTM\n",
    "\n",
    "name_model = \"s2s_LSTM_256TimeD_44\"\n",
    "\n",
    "keras.backend.clear_session()\n",
    "\n",
    "# Definir hiperparâmetros\n",
    "learning_rate = 0.0001\n",
    "l2_reg = 0.00001\n",
    "dropout_rate = 0.001\n",
    "func_act='sigmoid'\n",
    "\n",
    "batch_size = 128\n",
    "window_size = 32\n",
    "num_inputs  = train.shape[1]\n",
    "num_targets = 3\n",
    "stride = 3\n",
    "sampling_rate=1\n",
    "\n",
    "\n",
    "\n",
    "# Definir a entrada da rede\n",
    "inputs = keras.layers.Input(shape=[None, num_inputs])\n",
    "\n",
    "# LSTM\n",
    "reshaped_inputs = keras.layers.Reshape((-1, num_inputs))(inputs)\n",
    "lstm = keras.layers.LSTM(512, return_sequences=True, kernel_regularizer=keras.regularizers.L2(l2_reg))(reshaped_inputs)\n",
    "lstm = keras.layers.LSTM(512, return_sequences=True, kernel_regularizer=keras.regularizers.L2(l2_reg))(reshaped_inputs)\n",
    "lstm = keras.layers.Dropout(rate=dropout_rate)(lstm)\n",
    "lstm = keras.layers.LSTM(512, return_sequences=True, kernel_regularizer=keras.regularizers.L2(l2_reg))(lstm)\n",
    "lstm = keras.layers.LSTM(512, return_sequences=True, kernel_regularizer=keras.regularizers.L2(l2_reg))(reshaped_inputs)\n",
    "lstm = keras.layers.Dropout(rate=dropout_rate)(lstm)\n",
    "lstm = keras.layers.LSTM(512, return_sequences=True, kernel_regularizer=keras.regularizers.L2(l2_reg))(lstm)\n",
    "lstm = keras.layers.LSTM(512, return_sequences=True, kernel_regularizer=keras.regularizers.L2(l2_reg))(reshaped_inputs)\n",
    "lstm = keras.layers.Dropout(rate=dropout_rate)(lstm)\n",
    "\n",
    "# TimeDistributed Dense\n",
    "timed = keras.layers.TimeDistributed(keras.layers.Dense(512))(lstm)\n",
    "timed = keras.layers.TimeDistributed(keras.layers.Dropout(rate=dropout_rate))(timed)\n",
    "\n",
    "\n",
    "# LSTM\n",
    "lstm = keras.layers.LSTM(512, return_sequences=False, kernel_regularizer=keras.regularizers.L2(l2_reg))(timed)\n",
    "output_lstm = keras.layers.Dense(num_targets)(lstm)\n",
    "\n",
    "\n",
    "# Definir o modelo com a entrada e saída\n",
    "model = keras.models.Model(inputs=inputs, outputs=output_lstm)\n",
    "\n",
    "# Definir o otimizador com taxa de aprendizado definida\n",
    "optimizer = keras.optimizers.Adam(learning_rate=learning_rate)\n",
    "\n",
    "\n",
    "# Compilar o modelo com a função de perda, otimizador e métrica desejados\n",
    "model.compile(loss=keras.losses.logcosh, optimizer=optimizer, metrics=[\"mse\"])\n",
    "\n",
    "# Adicionar callbacks para o modelo\n",
    "model_checkpoint = keras.callbacks.ModelCheckpoint(name_model, save_best_only=True)\n",
    "early_stopping = keras.callbacks.EarlyStopping(patience=64)\n",
    "\n",
    "# Treinar o modelo\n",
    "model.fit(train_set,\n",
    "          steps_per_epoch= len(train)//batch_size,\n",
    "          epochs=500,\n",
    "          validation_data=valid_set,\n",
    "          validation_steps=len(valid)//batch_size,\n",
    "          callbacks=[early_stopping,\n",
    "                     model_checkpoint])"
   ]
  },
  {
   "cell_type": "code",
   "execution_count": 37,
   "id": "032054f4",
   "metadata": {},
   "outputs": [
    {
     "data": {
      "text/plain": [
       "'s2s_LSTM_256TimeD_44'"
      ]
     },
     "execution_count": 37,
     "metadata": {},
     "output_type": "execute_result"
    }
   ],
   "source": [
    "name_model"
   ]
  },
  {
   "cell_type": "code",
   "execution_count": 38,
   "id": "dbe360b5",
   "metadata": {},
   "outputs": [],
   "source": [
    "model = keras.models.load_model(name_model)"
   ]
  },
  {
   "cell_type": "code",
   "execution_count": 39,
   "id": "a1b540a8",
   "metadata": {},
   "outputs": [
    {
     "name": "stdout",
     "output_type": "stream",
     "text": [
      "160/160 [==============================] - 4s 21ms/step - loss: 3.4933e-05 - mse: 5.3149e-05\n"
     ]
    }
   ],
   "source": [
    "loss, metric = model.evaluate(test_set, steps=len(test)//batch_size)"
   ]
  },
  {
   "cell_type": "code",
   "execution_count": null,
   "id": "bc1827fb",
   "metadata": {},
   "outputs": [],
   "source": []
  },
  {
   "cell_type": "markdown",
   "id": "a87f1c30",
   "metadata": {},
   "source": [
    "### Avaliação"
   ]
  },
  {
   "cell_type": "code",
   "execution_count": 44,
   "id": "ec7e7770",
   "metadata": {},
   "outputs": [
    {
     "data": {
      "text/plain": [
       "'s2s_LSTM_320'"
      ]
     },
     "execution_count": 44,
     "metadata": {},
     "output_type": "execute_result"
    }
   ],
   "source": [
    "name_model"
   ]
  },
  {
   "cell_type": "code",
   "execution_count": 45,
   "id": "1d8a8042",
   "metadata": {},
   "outputs": [
    {
     "name": "stdout",
     "output_type": "stream",
     "text": [
      "160/160 [==============================] - 5s 29ms/step - loss: 0.0029 - mse: 0.0057\n"
     ]
    }
   ],
   "source": [
    "loss, metric = model.evaluate(test_set, steps=len(test)//batch_size)"
   ]
  },
  {
   "cell_type": "code",
   "execution_count": 46,
   "id": "73b92bfa",
   "metadata": {},
   "outputs": [],
   "source": [
    "model = keras.models.load_model(name_model)"
   ]
  },
  {
   "cell_type": "code",
   "execution_count": 47,
   "id": "2394c89f",
   "metadata": {},
   "outputs": [
    {
     "name": "stdout",
     "output_type": "stream",
     "text": [
      "160/160 [==============================] - 7s 30ms/step - loss: 1.3018e-04 - mse: 8.4895e-05\n"
     ]
    }
   ],
   "source": [
    "loss, metric = model.evaluate(test_set, steps=len(test)//batch_size)"
   ]
  },
  {
   "cell_type": "code",
   "execution_count": null,
   "id": "d01fe58c",
   "metadata": {},
   "outputs": [],
   "source": []
  },
  {
   "cell_type": "code",
   "execution_count": 39,
   "id": "3a9bdd5c",
   "metadata": {
    "scrolled": true
   },
   "outputs": [
    {
     "data": {
      "text/plain": [
       "'s2s_LSTM_2'"
      ]
     },
     "execution_count": 39,
     "metadata": {},
     "output_type": "execute_result"
    }
   ],
   "source": [
    "name_model"
   ]
  },
  {
   "cell_type": "code",
   "execution_count": 40,
   "id": "978f2973",
   "metadata": {
    "scrolled": true
   },
   "outputs": [
    {
     "name": "stdout",
     "output_type": "stream",
     "text": [
      "160/160 [==============================] - 3s 15ms/step - loss: 1.2440e-04 - mse: 1.1023e-04\n"
     ]
    }
   ],
   "source": [
    "loss, metric = model.evaluate(test_set, steps=len(test)//batch_size)"
   ]
  },
  {
   "cell_type": "code",
   "execution_count": 41,
   "id": "edfe95e9",
   "metadata": {},
   "outputs": [],
   "source": [
    "model = keras.models.load_model(name_model)"
   ]
  },
  {
   "cell_type": "code",
   "execution_count": 42,
   "id": "5463b336",
   "metadata": {
    "scrolled": true
   },
   "outputs": [
    {
     "name": "stdout",
     "output_type": "stream",
     "text": [
      "160/160 [==============================] - 4s 15ms/step - loss: 2.4870e-04 - mse: 3.4340e-04\n"
     ]
    }
   ],
   "source": [
    "loss, metric = model.evaluate(test_set, steps=len(test)//batch_size)"
   ]
  },
  {
   "cell_type": "code",
   "execution_count": null,
   "id": "8fdd9763",
   "metadata": {
    "scrolled": true
   },
   "outputs": [],
   "source": [
    "name_model "
   ]
  },
  {
   "cell_type": "code",
   "execution_count": null,
   "id": "3f1d1a2d",
   "metadata": {},
   "outputs": [],
   "source": [
    "model = keras.models.load_model(name_model)"
   ]
  },
  {
   "cell_type": "markdown",
   "id": "13713143",
   "metadata": {},
   "source": [
    "### Predições"
   ]
  },
  {
   "cell_type": "code",
   "execution_count": null,
   "id": "2b60ac97",
   "metadata": {},
   "outputs": [],
   "source": [
    "predictions = model.predict(test_set, steps=len(test)//batch_size)"
   ]
  },
  {
   "cell_type": "code",
   "execution_count": null,
   "id": "7f61c6f2",
   "metadata": {},
   "outputs": [],
   "source": [
    "predictions2 = model.predict(test_set, steps=len(test)//batch_size*2)"
   ]
  },
  {
   "cell_type": "code",
   "execution_count": null,
   "id": "a3bf45c0",
   "metadata": {},
   "outputs": [],
   "source": [
    "predictions3 = model.predict(test_set, steps=1)"
   ]
  },
  {
   "cell_type": "code",
   "execution_count": null,
   "id": "1bc335d6",
   "metadata": {
    "scrolled": false
   },
   "outputs": [],
   "source": [
    "predictions4 = model.predict(test_set_2, steps=1)"
   ]
  },
  {
   "cell_type": "code",
   "execution_count": null,
   "id": "e783040c",
   "metadata": {
    "scrolled": false
   },
   "outputs": [],
   "source": [
    "predictions4"
   ]
  },
  {
   "cell_type": "code",
   "execution_count": null,
   "id": "4afd1b34",
   "metadata": {},
   "outputs": [],
   "source": [
    "test_2 = test[17276:]"
   ]
  },
  {
   "cell_type": "code",
   "execution_count": null,
   "id": "4f751145",
   "metadata": {},
   "outputs": [],
   "source": [
    "batch_size = 1\n",
    "window_size = 32\n",
    "num_inputs  = train.shape[1]\n",
    "num_targets = 3\n",
    "stride = 1\n",
    "sampling_rate=1"
   ]
  },
  {
   "cell_type": "code",
   "execution_count": null,
   "id": "c24cf1c3",
   "metadata": {},
   "outputs": [],
   "source": [
    "test_set_2 = sliding_window_sequence(test_2, window_size=window_size, num_inputs=num_inputs, num_targets=num_targets, stride=stride, batch_size=batch_size, sampling_rate=sampling_rate)"
   ]
  },
  {
   "cell_type": "code",
   "execution_count": null,
   "id": "80d22a51",
   "metadata": {
    "scrolled": false
   },
   "outputs": [],
   "source": [
    "len(test_2)"
   ]
  },
  {
   "cell_type": "code",
   "execution_count": null,
   "id": "7a4b8bef",
   "metadata": {
    "scrolled": true
   },
   "outputs": [],
   "source": [
    "predictions3"
   ]
  },
  {
   "cell_type": "code",
   "execution_count": null,
   "id": "8e5b77e0",
   "metadata": {},
   "outputs": [],
   "source": [
    "predictions.shape"
   ]
  },
  {
   "cell_type": "code",
   "execution_count": null,
   "id": "63ea8af1",
   "metadata": {
    "scrolled": true
   },
   "outputs": [],
   "source": [
    "predictions"
   ]
  },
  {
   "cell_type": "code",
   "execution_count": null,
   "id": "765abe1c",
   "metadata": {},
   "outputs": [],
   "source": [
    "steps=len(test)//batch_size"
   ]
  },
  {
   "cell_type": "code",
   "execution_count": null,
   "id": "b689d93a",
   "metadata": {},
   "outputs": [],
   "source": [
    "x = 1%1"
   ]
  },
  {
   "cell_type": "code",
   "execution_count": null,
   "id": "f77ef3df",
   "metadata": {},
   "outputs": [],
   "source": [
    "x"
   ]
  },
  {
   "cell_type": "code",
   "execution_count": null,
   "id": "fed65b45",
   "metadata": {},
   "outputs": [],
   "source": [
    "steps"
   ]
  },
  {
   "cell_type": "code",
   "execution_count": null,
   "id": "5c4aa3b8",
   "metadata": {},
   "outputs": [],
   "source": [
    "len(test)"
   ]
  },
  {
   "cell_type": "code",
   "execution_count": null,
   "id": "e4766221",
   "metadata": {},
   "outputs": [],
   "source": [
    "len(predictions2)"
   ]
  },
  {
   "cell_type": "code",
   "execution_count": null,
   "id": "a59538f6",
   "metadata": {
    "scrolled": true
   },
   "outputs": [],
   "source": [
    "len(predictions)"
   ]
  },
  {
   "cell_type": "code",
   "execution_count": null,
   "id": "091a5c2f",
   "metadata": {},
   "outputs": [],
   "source": [
    "train2 = winn.dropna()"
   ]
  },
  {
   "cell_type": "code",
   "execution_count": null,
   "id": "836dc140",
   "metadata": {
    "scrolled": true
   },
   "outputs": [],
   "source": [
    "train2"
   ]
  },
  {
   "cell_type": "code",
   "execution_count": null,
   "id": "f977c231",
   "metadata": {
    "scrolled": true
   },
   "outputs": [],
   "source": [
    "train2 = train2.drop(['high', 'low','close', 'hl'], axis=1)"
   ]
  },
  {
   "cell_type": "code",
   "execution_count": null,
   "id": "dd1ab9a9",
   "metadata": {},
   "outputs": [],
   "source": [
    "mvhl = scaler.fit_transform(train2)"
   ]
  },
  {
   "cell_type": "code",
   "execution_count": null,
   "id": "9540680e",
   "metadata": {
    "scrolled": true
   },
   "outputs": [],
   "source": []
  },
  {
   "cell_type": "code",
   "execution_count": null,
   "id": "628e92aa",
   "metadata": {
    "scrolled": true
   },
   "outputs": [],
   "source": [
    "train"
   ]
  },
  {
   "cell_type": "code",
   "execution_count": null,
   "id": "c8c928ee",
   "metadata": {},
   "outputs": [],
   "source": [
    "test"
   ]
  },
  {
   "cell_type": "code",
   "execution_count": null,
   "id": "ce328b8c",
   "metadata": {},
   "outputs": [],
   "source": [
    "scaler_target.fit_transform(data[:, -1].reshape(-1, 1))"
   ]
  },
  {
   "cell_type": "code",
   "execution_count": null,
   "id": "ad09c389",
   "metadata": {
    "scrolled": false
   },
   "outputs": [],
   "source": [
    "predict= scaler.inverse_transform(predictions4)"
   ]
  },
  {
   "cell_type": "code",
   "execution_count": null,
   "id": "4ca54e8f",
   "metadata": {
    "scrolled": false
   },
   "outputs": [],
   "source": [
    "winj"
   ]
  },
  {
   "cell_type": "code",
   "execution_count": null,
   "id": "dacb6608",
   "metadata": {},
   "outputs": [],
   "source": [
    "test"
   ]
  },
  {
   "cell_type": "code",
   "execution_count": null,
   "id": "ea1d4aae",
   "metadata": {
    "scrolled": true
   },
   "outputs": [],
   "source": [
    "test_2"
   ]
  },
  {
   "cell_type": "code",
   "execution_count": null,
   "id": "81190092",
   "metadata": {},
   "outputs": [],
   "source": [
    "predict"
   ]
  },
  {
   "cell_type": "code",
   "execution_count": null,
   "id": "76a1385d",
   "metadata": {},
   "outputs": [],
   "source": []
  }
 ],
 "metadata": {
  "kernelspec": {
   "display_name": "Python 3 (ipykernel)",
   "language": "python",
   "name": "python3"
  },
  "language_info": {
   "codemirror_mode": {
    "name": "ipython",
    "version": 3
   },
   "file_extension": ".py",
   "mimetype": "text/x-python",
   "name": "python",
   "nbconvert_exporter": "python",
   "pygments_lexer": "ipython3",
   "version": "3.9.13"
  }
 },
 "nbformat": 4,
 "nbformat_minor": 5
}
