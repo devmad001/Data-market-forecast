{
 "cells": [
  {
   "cell_type": "code",
   "execution_count": 1,
   "id": "05a5d8df",
   "metadata": {},
   "outputs": [],
   "source": [
    "import numpy as np\n",
    "import pandas as pd\n",
    "from keras.models import Sequential\n",
    "from keras.layers import LSTM, Dense\n"
   ]
  },
  {
   "cell_type": "code",
   "execution_count": 2,
   "id": "aba85936",
   "metadata": {},
   "outputs": [],
   "source": [
    "path = r'C:\\Users\\adria\\1Python\\Meu_novo_projeto\\WIN_N_1K\\WIN_N_1k.csv'\n",
    "raw = pd.read_csv(path, index_col=0, parse_dates=True)"
   ]
  },
  {
   "cell_type": "code",
   "execution_count": 3,
   "id": "f441d2a3",
   "metadata": {},
   "outputs": [],
   "source": [
    "df = pd.DataFrame()"
   ]
  },
  {
   "cell_type": "code",
   "execution_count": 4,
   "id": "0db8bcf4",
   "metadata": {},
   "outputs": [],
   "source": [
    "df['close'] = (raw['high'] + raw['low']) / 2"
   ]
  },
  {
   "cell_type": "code",
   "execution_count": 7,
   "id": "73c28dae",
   "metadata": {
    "scrolled": true
   },
   "outputs": [
    {
     "data": {
      "text/html": [
       "<div>\n",
       "<style scoped>\n",
       "    .dataframe tbody tr th:only-of-type {\n",
       "        vertical-align: middle;\n",
       "    }\n",
       "\n",
       "    .dataframe tbody tr th {\n",
       "        vertical-align: top;\n",
       "    }\n",
       "\n",
       "    .dataframe thead th {\n",
       "        text-align: right;\n",
       "    }\n",
       "</style>\n",
       "<table border=\"1\" class=\"dataframe\">\n",
       "  <thead>\n",
       "    <tr style=\"text-align: right;\">\n",
       "      <th></th>\n",
       "      <th>close</th>\n",
       "      <th>high</th>\n",
       "    </tr>\n",
       "    <tr>\n",
       "      <th>time</th>\n",
       "      <th></th>\n",
       "      <th></th>\n",
       "    </tr>\n",
       "  </thead>\n",
       "  <tbody>\n",
       "    <tr>\n",
       "      <th>2022-01-18 11:38:00</th>\n",
       "      <td>106667.5</td>\n",
       "      <td>106725.0</td>\n",
       "    </tr>\n",
       "    <tr>\n",
       "      <th>2022-01-18 11:39:00</th>\n",
       "      <td>106745.0</td>\n",
       "      <td>106825.0</td>\n",
       "    </tr>\n",
       "    <tr>\n",
       "      <th>2022-01-18 11:40:00</th>\n",
       "      <td>106767.5</td>\n",
       "      <td>106860.0</td>\n",
       "    </tr>\n",
       "    <tr>\n",
       "      <th>2022-01-18 11:41:00</th>\n",
       "      <td>106787.5</td>\n",
       "      <td>106910.0</td>\n",
       "    </tr>\n",
       "    <tr>\n",
       "      <th>2022-01-18 11:42:00</th>\n",
       "      <td>106882.5</td>\n",
       "      <td>106965.0</td>\n",
       "    </tr>\n",
       "    <tr>\n",
       "      <th>...</th>\n",
       "      <td>...</td>\n",
       "      <td>...</td>\n",
       "    </tr>\n",
       "    <tr>\n",
       "      <th>2022-10-13 16:55:00</th>\n",
       "      <td>114917.5</td>\n",
       "      <td>114920.0</td>\n",
       "    </tr>\n",
       "    <tr>\n",
       "      <th>2022-10-13 16:56:00</th>\n",
       "      <td>114917.5</td>\n",
       "      <td>114920.0</td>\n",
       "    </tr>\n",
       "    <tr>\n",
       "      <th>2022-10-13 16:57:00</th>\n",
       "      <td>114917.5</td>\n",
       "      <td>114920.0</td>\n",
       "    </tr>\n",
       "    <tr>\n",
       "      <th>2022-10-13 16:58:00</th>\n",
       "      <td>114915.0</td>\n",
       "      <td>114920.0</td>\n",
       "    </tr>\n",
       "    <tr>\n",
       "      <th>2022-10-13 16:59:00</th>\n",
       "      <td>114912.5</td>\n",
       "      <td>114915.0</td>\n",
       "    </tr>\n",
       "  </tbody>\n",
       "</table>\n",
       "<p>99999 rows × 2 columns</p>\n",
       "</div>"
      ],
      "text/plain": [
       "                        close      high\n",
       "time                                   \n",
       "2022-01-18 11:38:00  106667.5  106725.0\n",
       "2022-01-18 11:39:00  106745.0  106825.0\n",
       "2022-01-18 11:40:00  106767.5  106860.0\n",
       "2022-01-18 11:41:00  106787.5  106910.0\n",
       "2022-01-18 11:42:00  106882.5  106965.0\n",
       "...                       ...       ...\n",
       "2022-10-13 16:55:00  114917.5  114920.0\n",
       "2022-10-13 16:56:00  114917.5  114920.0\n",
       "2022-10-13 16:57:00  114917.5  114920.0\n",
       "2022-10-13 16:58:00  114915.0  114920.0\n",
       "2022-10-13 16:59:00  114912.5  114915.0\n",
       "\n",
       "[99999 rows x 2 columns]"
      ]
     },
     "execution_count": 7,
     "metadata": {},
     "output_type": "execute_result"
    }
   ],
   "source": [
    "df"
   ]
  },
  {
   "cell_type": "code",
   "execution_count": 6,
   "id": "23f1f051",
   "metadata": {},
   "outputs": [],
   "source": [
    "df['high'] = raw['high']"
   ]
  },
  {
   "cell_type": "code",
   "execution_count": 8,
   "id": "f5b19a53",
   "metadata": {},
   "outputs": [],
   "source": [
    "df['low'] = raw['low']"
   ]
  },
  {
   "cell_type": "code",
   "execution_count": 10,
   "id": "02e4d897",
   "metadata": {},
   "outputs": [],
   "source": [
    "recursos = ['high', 'low', 'close']"
   ]
  },
  {
   "cell_type": "code",
   "execution_count": 11,
   "id": "4b3688b1",
   "metadata": {},
   "outputs": [
    {
     "data": {
      "text/plain": [
       "['high', 'low', 'close']"
      ]
     },
     "execution_count": 11,
     "metadata": {},
     "output_type": "execute_result"
    }
   ],
   "source": [
    "recursos"
   ]
  },
  {
   "cell_type": "code",
   "execution_count": 12,
   "id": "5b5674ce",
   "metadata": {},
   "outputs": [],
   "source": [
    "X = df[recursos].values\n",
    "Y = df['close'].values"
   ]
  },
  {
   "cell_type": "code",
   "execution_count": 14,
   "id": "16025d91",
   "metadata": {},
   "outputs": [],
   "source": [
    "X = (X - np.mean(X)) / np.std(X)\n",
    "Y = (Y - np.mean(Y)) / np.std(Y)"
   ]
  },
  {
   "cell_type": "code",
   "execution_count": 15,
   "id": "cd1b6277",
   "metadata": {},
   "outputs": [],
   "source": [
    "janela_tempo = 10\n",
    "\n",
    "X_train = []\n",
    "Y_train = []\n",
    "X_test = []\n",
    "Y_test = []\n",
    "\n",
    "for i in range(janela_tempo, len(X)):\n",
    "    X_train.append(X[i-janela_tempo:i])\n",
    "    Y_train.append(Y[i])\n",
    "    \n",
    "X_train, Y_train = np.array(X_train), np.array(Y_train)\n",
    "\n",
    "X_test = X[len(X)-janela_tempo:]\n",
    "Y_test = Y[len(Y)-janela_tempo:]"
   ]
  },
  {
   "cell_type": "code",
   "execution_count": 18,
   "id": "721cb8e8",
   "metadata": {},
   "outputs": [
    {
     "data": {
      "text/plain": [
       "10"
      ]
     },
     "execution_count": 18,
     "metadata": {},
     "output_type": "execute_result"
    }
   ],
   "source": [
    "len(X_test)"
   ]
  },
  {
   "cell_type": "code",
   "execution_count": 19,
   "id": "10dfce26",
   "metadata": {},
   "outputs": [],
   "source": [
    "modelo = Sequential()\n",
    "modelo.add(LSTM(units=50, return_sequences=True, input_shape=(X_train.shape[1], X_train.shape[2])))\n",
    "modelo.add(LSTM(units=50, return_sequences=True))\n",
    "modelo.add(LSTM(units=50))\n",
    "modelo.add(Dense(units=1))\n",
    "\n",
    "modelo.compile(optimizer='adam', loss='mean_squared_error')\n"
   ]
  },
  {
   "cell_type": "code",
   "execution_count": 20,
   "id": "bb451377",
   "metadata": {},
   "outputs": [
    {
     "name": "stdout",
     "output_type": "stream",
     "text": [
      "Epoch 1/100\n",
      "3125/3125 [==============================] - 53s 15ms/step - loss: 0.0027\n",
      "Epoch 2/100\n",
      "3125/3125 [==============================] - 46s 15ms/step - loss: 5.5880e-04\n",
      "Epoch 3/100\n",
      "3125/3125 [==============================] - 47s 15ms/step - loss: 2.7649e-04\n",
      "Epoch 4/100\n",
      "3125/3125 [==============================] - 46s 15ms/step - loss: 1.4705e-04\n",
      "Epoch 5/100\n",
      "3125/3125 [==============================] - 46s 15ms/step - loss: 1.3552e-04\n",
      "Epoch 6/100\n",
      "3125/3125 [==============================] - 47s 15ms/step - loss: 1.3447e-04\n",
      "Epoch 7/100\n",
      "3125/3125 [==============================] - 46s 15ms/step - loss: 1.2952e-04\n",
      "Epoch 8/100\n",
      "3125/3125 [==============================] - 46s 15ms/step - loss: 1.2436e-04\n",
      "Epoch 9/100\n",
      "3125/3125 [==============================] - 43s 14ms/step - loss: 1.2318e-04\n",
      "Epoch 10/100\n",
      "3125/3125 [==============================] - 47s 15ms/step - loss: 1.2180e-04\n",
      "Epoch 11/100\n",
      "3125/3125 [==============================] - 47s 15ms/step - loss: 1.1909e-04\n",
      "Epoch 12/100\n",
      "3125/3125 [==============================] - 46s 15ms/step - loss: 1.1494e-04\n",
      "Epoch 13/100\n",
      "3125/3125 [==============================] - 46s 15ms/step - loss: 1.1777e-04\n",
      "Epoch 14/100\n",
      "3125/3125 [==============================] - 45s 15ms/step - loss: 1.1226e-04\n",
      "Epoch 15/100\n",
      "3125/3125 [==============================] - 46s 15ms/step - loss: 1.1264e-04\n",
      "Epoch 16/100\n",
      "3125/3125 [==============================] - 47s 15ms/step - loss: 1.1448e-04\n",
      "Epoch 17/100\n",
      "3125/3125 [==============================] - 47s 15ms/step - loss: 1.0754e-04\n",
      "Epoch 18/100\n",
      "3125/3125 [==============================] - 48s 15ms/step - loss: 1.1176e-04\n",
      "Epoch 19/100\n",
      "3125/3125 [==============================] - 48s 15ms/step - loss: 1.1074e-04\n",
      "Epoch 20/100\n",
      "3125/3125 [==============================] - 47s 15ms/step - loss: 1.0848e-04\n",
      "Epoch 21/100\n",
      "3125/3125 [==============================] - 45s 14ms/step - loss: 1.0925e-04\n",
      "Epoch 22/100\n",
      "3125/3125 [==============================] - 45s 15ms/step - loss: 1.0889e-04\n",
      "Epoch 23/100\n",
      "3125/3125 [==============================] - 47s 15ms/step - loss: 1.1079e-04\n",
      "Epoch 24/100\n",
      "3125/3125 [==============================] - 46s 15ms/step - loss: 1.0959e-04\n",
      "Epoch 25/100\n",
      "3125/3125 [==============================] - 48s 15ms/step - loss: 1.0943e-04\n",
      "Epoch 26/100\n",
      "3125/3125 [==============================] - 44s 14ms/step - loss: 1.0515e-04\n",
      "Epoch 27/100\n",
      "3125/3125 [==============================] - 46s 15ms/step - loss: 1.0710e-04\n",
      "Epoch 28/100\n",
      "3125/3125 [==============================] - 47s 15ms/step - loss: 1.0549e-04\n",
      "Epoch 29/100\n",
      "3125/3125 [==============================] - 47s 15ms/step - loss: 1.0442e-04\n",
      "Epoch 30/100\n",
      "3125/3125 [==============================] - 48s 15ms/step - loss: 1.0703e-04\n",
      "Epoch 31/100\n",
      "3125/3125 [==============================] - 48s 15ms/step - loss: 1.0432e-04\n",
      "Epoch 32/100\n",
      "3125/3125 [==============================] - 46s 15ms/step - loss: 1.0464e-04\n",
      "Epoch 33/100\n",
      "3125/3125 [==============================] - 48s 15ms/step - loss: 1.0442e-04\n",
      "Epoch 34/100\n",
      "3125/3125 [==============================] - 48s 15ms/step - loss: 1.0505e-04\n",
      "Epoch 35/100\n",
      "3125/3125 [==============================] - 48s 15ms/step - loss: 1.0462e-04\n",
      "Epoch 36/100\n",
      "3125/3125 [==============================] - 48s 15ms/step - loss: 1.0266e-04\n",
      "Epoch 37/100\n",
      "3125/3125 [==============================] - 47s 15ms/step - loss: 1.0245e-04\n",
      "Epoch 38/100\n",
      "3125/3125 [==============================] - 47s 15ms/step - loss: 1.0261e-04\n",
      "Epoch 39/100\n",
      "3125/3125 [==============================] - 48s 15ms/step - loss: 1.0403e-04\n",
      "Epoch 40/100\n",
      "3125/3125 [==============================] - 48s 15ms/step - loss: 1.0202e-04\n",
      "Epoch 41/100\n",
      "3125/3125 [==============================] - 47s 15ms/step - loss: 1.0308e-04\n",
      "Epoch 42/100\n",
      "3125/3125 [==============================] - 47s 15ms/step - loss: 1.0190e-04\n",
      "Epoch 43/100\n",
      "3125/3125 [==============================] - 48s 15ms/step - loss: 1.0156e-04\n",
      "Epoch 44/100\n",
      "3125/3125 [==============================] - 47s 15ms/step - loss: 1.0223e-04\n",
      "Epoch 45/100\n",
      "3125/3125 [==============================] - 48s 15ms/step - loss: 1.0138e-04\n",
      "Epoch 46/100\n",
      "3125/3125 [==============================] - 50s 16ms/step - loss: 1.0106e-04\n",
      "Epoch 47/100\n",
      "3125/3125 [==============================] - 50s 16ms/step - loss: 1.0208e-04\n",
      "Epoch 48/100\n",
      "3125/3125 [==============================] - 49s 16ms/step - loss: 1.0190e-04\n",
      "Epoch 49/100\n",
      "3125/3125 [==============================] - 50s 16ms/step - loss: 1.0101e-04\n",
      "Epoch 50/100\n",
      "3125/3125 [==============================] - 50s 16ms/step - loss: 1.0067e-04\n",
      "Epoch 51/100\n",
      "3125/3125 [==============================] - 50s 16ms/step - loss: 1.0108e-04\n",
      "Epoch 52/100\n",
      "3125/3125 [==============================] - 50s 16ms/step - loss: 9.9770e-05\n",
      "Epoch 53/100\n",
      "3125/3125 [==============================] - 50s 16ms/step - loss: 1.0144e-04\n",
      "Epoch 54/100\n",
      "3125/3125 [==============================] - 50s 16ms/step - loss: 1.0050e-04\n",
      "Epoch 55/100\n",
      "3125/3125 [==============================] - 50s 16ms/step - loss: 9.9720e-05\n",
      "Epoch 56/100\n",
      "3125/3125 [==============================] - 50s 16ms/step - loss: 9.9270e-05\n",
      "Epoch 57/100\n",
      "3125/3125 [==============================] - 46s 15ms/step - loss: 1.0088e-04\n",
      "Epoch 58/100\n",
      "3125/3125 [==============================] - 46s 15ms/step - loss: 1.0009e-04\n",
      "Epoch 59/100\n",
      "3125/3125 [==============================] - 46s 15ms/step - loss: 9.9958e-05\n",
      "Epoch 60/100\n",
      "3125/3125 [==============================] - 46s 15ms/step - loss: 9.9316e-05\n",
      "Epoch 61/100\n",
      "3125/3125 [==============================] - 46s 15ms/step - loss: 1.0024e-04\n",
      "Epoch 62/100\n",
      "3125/3125 [==============================] - 46s 15ms/step - loss: 9.9560e-05\n",
      "Epoch 63/100\n",
      "3125/3125 [==============================] - 47s 15ms/step - loss: 9.9191e-05\n",
      "Epoch 64/100\n",
      "3125/3125 [==============================] - 50s 16ms/step - loss: 9.8802e-05\n",
      "Epoch 65/100\n",
      "3125/3125 [==============================] - 50s 16ms/step - loss: 9.8498e-05\n",
      "Epoch 66/100\n",
      "3125/3125 [==============================] - 50s 16ms/step - loss: 9.8773e-05\n",
      "Epoch 67/100\n",
      "3125/3125 [==============================] - 44s 14ms/step - loss: 9.9588e-05\n",
      "Epoch 68/100\n",
      "3125/3125 [==============================] - 48s 15ms/step - loss: 9.9694e-05\n",
      "Epoch 69/100\n",
      "3125/3125 [==============================] - 44s 14ms/step - loss: 9.9414e-05\n",
      "Epoch 70/100\n",
      "3125/3125 [==============================] - 44s 14ms/step - loss: 9.8873e-05\n",
      "Epoch 71/100\n",
      "3125/3125 [==============================] - 43s 14ms/step - loss: 9.8415e-05\n",
      "Epoch 72/100\n",
      "3125/3125 [==============================] - 46s 15ms/step - loss: 9.8765e-05\n",
      "Epoch 73/100\n",
      "3125/3125 [==============================] - 48s 15ms/step - loss: 9.8501e-05\n",
      "Epoch 74/100\n",
      "3125/3125 [==============================] - 47s 15ms/step - loss: 9.8676e-05\n",
      "Epoch 75/100\n",
      "3125/3125 [==============================] - 46s 15ms/step - loss: 9.8385e-05\n",
      "Epoch 76/100\n",
      "3125/3125 [==============================] - 47s 15ms/step - loss: 9.7994e-05\n",
      "Epoch 77/100\n",
      "3125/3125 [==============================] - 44s 14ms/step - loss: 9.8377e-05\n",
      "Epoch 78/100\n",
      "3125/3125 [==============================] - 45s 14ms/step - loss: 9.8438e-05\n",
      "Epoch 79/100\n",
      "3125/3125 [==============================] - 47s 15ms/step - loss: 9.7696e-05\n",
      "Epoch 80/100\n",
      "3125/3125 [==============================] - 46s 15ms/step - loss: 9.8703e-05\n",
      "Epoch 81/100\n",
      "3125/3125 [==============================] - 45s 15ms/step - loss: 9.7677e-05\n",
      "Epoch 82/100\n",
      "3125/3125 [==============================] - 44s 14ms/step - loss: 9.8465e-05\n",
      "Epoch 83/100\n",
      "3125/3125 [==============================] - 46s 15ms/step - loss: 9.7537e-05\n",
      "Epoch 84/100\n",
      "3125/3125 [==============================] - 46s 15ms/step - loss: 9.7556e-05\n",
      "Epoch 85/100\n",
      "3125/3125 [==============================] - 45s 14ms/step - loss: 9.6930e-05\n",
      "Epoch 86/100\n",
      "3125/3125 [==============================] - 46s 15ms/step - loss: 9.6506e-05\n",
      "Epoch 87/100\n",
      "3125/3125 [==============================] - 48s 15ms/step - loss: 9.7672e-05\n",
      "Epoch 88/100\n",
      "3125/3125 [==============================] - 46s 15ms/step - loss: 9.7096e-05\n",
      "Epoch 89/100\n",
      "3125/3125 [==============================] - 46s 15ms/step - loss: 9.7107e-05\n",
      "Epoch 90/100\n",
      "3125/3125 [==============================] - 47s 15ms/step - loss: 9.7888e-05\n",
      "Epoch 91/100\n"
     ]
    },
    {
     "name": "stdout",
     "output_type": "stream",
     "text": [
      "3125/3125 [==============================] - 48s 15ms/step - loss: 9.9167e-05\n",
      "Epoch 92/100\n",
      "3125/3125 [==============================] - 48s 15ms/step - loss: 9.6773e-05\n",
      "Epoch 93/100\n",
      "3125/3125 [==============================] - 47s 15ms/step - loss: 9.7477e-05\n",
      "Epoch 94/100\n",
      "3125/3125 [==============================] - 46s 15ms/step - loss: 9.7655e-05\n",
      "Epoch 95/100\n",
      "3125/3125 [==============================] - 45s 14ms/step - loss: 9.6723e-05\n",
      "Epoch 96/100\n",
      "3125/3125 [==============================] - 46s 15ms/step - loss: 9.6021e-05\n",
      "Epoch 97/100\n",
      "3125/3125 [==============================] - 45s 14ms/step - loss: 9.7897e-05\n",
      "Epoch 98/100\n",
      "3125/3125 [==============================] - 46s 15ms/step - loss: 9.5872e-05\n",
      "Epoch 99/100\n",
      "3125/3125 [==============================] - 46s 15ms/step - loss: 9.5889e-05\n",
      "Epoch 100/100\n",
      "3125/3125 [==============================] - 46s 15ms/step - loss: 9.8152e-05\n"
     ]
    },
    {
     "data": {
      "text/plain": [
       "<keras.callbacks.History at 0x20317e77af0>"
      ]
     },
     "execution_count": 20,
     "metadata": {},
     "output_type": "execute_result"
    }
   ],
   "source": [
    "modelo.fit(X_train, Y_train, epochs=100, batch_size=32)"
   ]
  },
  {
   "cell_type": "code",
   "execution_count": 23,
   "id": "9f3aa69e",
   "metadata": {},
   "outputs": [
    {
     "ename": "ValueError",
     "evalue": "in user code:\n\n    C:\\Users\\adria\\anaconda3\\envs\\tf-gpu\\lib\\site-packages\\keras\\engine\\training.py:1586 predict_function  *\n        return step_function(self, iterator)\n    C:\\Users\\adria\\anaconda3\\envs\\tf-gpu\\lib\\site-packages\\keras\\engine\\training.py:1576 step_function  **\n        outputs = model.distribute_strategy.run(run_step, args=(data,))\n    C:\\Users\\adria\\anaconda3\\envs\\tf-gpu\\lib\\site-packages\\tensorflow\\python\\distribute\\distribute_lib.py:1286 run\n        return self._extended.call_for_each_replica(fn, args=args, kwargs=kwargs)\n    C:\\Users\\adria\\anaconda3\\envs\\tf-gpu\\lib\\site-packages\\tensorflow\\python\\distribute\\distribute_lib.py:2849 call_for_each_replica\n        return self._call_for_each_replica(fn, args, kwargs)\n    C:\\Users\\adria\\anaconda3\\envs\\tf-gpu\\lib\\site-packages\\tensorflow\\python\\distribute\\distribute_lib.py:3632 _call_for_each_replica\n        return fn(*args, **kwargs)\n    C:\\Users\\adria\\anaconda3\\envs\\tf-gpu\\lib\\site-packages\\keras\\engine\\training.py:1569 run_step  **\n        outputs = model.predict_step(data)\n    C:\\Users\\adria\\anaconda3\\envs\\tf-gpu\\lib\\site-packages\\keras\\engine\\training.py:1537 predict_step\n        return self(x, training=False)\n    C:\\Users\\adria\\anaconda3\\envs\\tf-gpu\\lib\\site-packages\\keras\\engine\\base_layer.py:1020 __call__\n        input_spec.assert_input_compatibility(self.input_spec, inputs, self.name)\n    C:\\Users\\adria\\anaconda3\\envs\\tf-gpu\\lib\\site-packages\\keras\\engine\\input_spec.py:214 assert_input_compatibility\n        raise ValueError('Input ' + str(input_index) + ' of layer ' +\n\n    ValueError: Input 0 of layer sequential is incompatible with the layer: expected ndim=3, found ndim=2. Full shape received: (None, 3)\n",
     "output_type": "error",
     "traceback": [
      "\u001b[1;31m---------------------------------------------------------------------------\u001b[0m",
      "\u001b[1;31mValueError\u001b[0m                                Traceback (most recent call last)",
      "Cell \u001b[1;32mIn[23], line 1\u001b[0m\n\u001b[1;32m----> 1\u001b[0m previsao \u001b[38;5;241m=\u001b[39m \u001b[43mmodelo\u001b[49m\u001b[38;5;241;43m.\u001b[39;49m\u001b[43mpredict\u001b[49m\u001b[43m(\u001b[49m\u001b[43mX_test\u001b[49m\u001b[43m)\u001b[49m\n\u001b[0;32m      3\u001b[0m previsao \u001b[38;5;241m=\u001b[39m previsao\u001b[38;5;241m.\u001b[39mreshape((previsao\u001b[38;5;241m.\u001b[39mshape[\u001b[38;5;241m0\u001b[39m], \u001b[38;5;241m1\u001b[39m))\n\u001b[0;32m      5\u001b[0m previsao \u001b[38;5;241m=\u001b[39m (previsao \u001b[38;5;241m*\u001b[39m np\u001b[38;5;241m.\u001b[39mstd(Y)) \u001b[38;5;241m+\u001b[39m np\u001b[38;5;241m.\u001b[39mmean(Y)\n",
      "File \u001b[1;32m~\\anaconda3\\envs\\tf-gpu\\lib\\site-packages\\keras\\engine\\training.py:1751\u001b[0m, in \u001b[0;36mModel.predict\u001b[1;34m(self, x, batch_size, verbose, steps, callbacks, max_queue_size, workers, use_multiprocessing)\u001b[0m\n\u001b[0;32m   1749\u001b[0m \u001b[38;5;28;01mfor\u001b[39;00m step \u001b[38;5;129;01min\u001b[39;00m data_handler\u001b[38;5;241m.\u001b[39msteps():\n\u001b[0;32m   1750\u001b[0m   callbacks\u001b[38;5;241m.\u001b[39mon_predict_batch_begin(step)\n\u001b[1;32m-> 1751\u001b[0m   tmp_batch_outputs \u001b[38;5;241m=\u001b[39m \u001b[38;5;28;43mself\u001b[39;49m\u001b[38;5;241;43m.\u001b[39;49m\u001b[43mpredict_function\u001b[49m\u001b[43m(\u001b[49m\u001b[43miterator\u001b[49m\u001b[43m)\u001b[49m\n\u001b[0;32m   1752\u001b[0m   \u001b[38;5;28;01mif\u001b[39;00m data_handler\u001b[38;5;241m.\u001b[39mshould_sync:\n\u001b[0;32m   1753\u001b[0m     context\u001b[38;5;241m.\u001b[39masync_wait()\n",
      "File \u001b[1;32m~\\anaconda3\\envs\\tf-gpu\\lib\\site-packages\\tensorflow\\python\\eager\\def_function.py:885\u001b[0m, in \u001b[0;36mFunction.__call__\u001b[1;34m(self, *args, **kwds)\u001b[0m\n\u001b[0;32m    882\u001b[0m compiler \u001b[38;5;241m=\u001b[39m \u001b[38;5;124m\"\u001b[39m\u001b[38;5;124mxla\u001b[39m\u001b[38;5;124m\"\u001b[39m \u001b[38;5;28;01mif\u001b[39;00m \u001b[38;5;28mself\u001b[39m\u001b[38;5;241m.\u001b[39m_jit_compile \u001b[38;5;28;01melse\u001b[39;00m \u001b[38;5;124m\"\u001b[39m\u001b[38;5;124mnonXla\u001b[39m\u001b[38;5;124m\"\u001b[39m\n\u001b[0;32m    884\u001b[0m \u001b[38;5;28;01mwith\u001b[39;00m OptionalXlaContext(\u001b[38;5;28mself\u001b[39m\u001b[38;5;241m.\u001b[39m_jit_compile):\n\u001b[1;32m--> 885\u001b[0m   result \u001b[38;5;241m=\u001b[39m \u001b[38;5;28mself\u001b[39m\u001b[38;5;241m.\u001b[39m_call(\u001b[38;5;241m*\u001b[39margs, \u001b[38;5;241m*\u001b[39m\u001b[38;5;241m*\u001b[39mkwds)\n\u001b[0;32m    887\u001b[0m new_tracing_count \u001b[38;5;241m=\u001b[39m \u001b[38;5;28mself\u001b[39m\u001b[38;5;241m.\u001b[39mexperimental_get_tracing_count()\n\u001b[0;32m    888\u001b[0m without_tracing \u001b[38;5;241m=\u001b[39m (tracing_count \u001b[38;5;241m==\u001b[39m new_tracing_count)\n",
      "File \u001b[1;32m~\\anaconda3\\envs\\tf-gpu\\lib\\site-packages\\tensorflow\\python\\eager\\def_function.py:924\u001b[0m, in \u001b[0;36mFunction._call\u001b[1;34m(self, *args, **kwds)\u001b[0m\n\u001b[0;32m    921\u001b[0m \u001b[38;5;28mself\u001b[39m\u001b[38;5;241m.\u001b[39m_lock\u001b[38;5;241m.\u001b[39mrelease()\n\u001b[0;32m    922\u001b[0m \u001b[38;5;66;03m# In this case we have not created variables on the first call. So we can\u001b[39;00m\n\u001b[0;32m    923\u001b[0m \u001b[38;5;66;03m# run the first trace but we should fail if variables are created.\u001b[39;00m\n\u001b[1;32m--> 924\u001b[0m results \u001b[38;5;241m=\u001b[39m \u001b[38;5;28mself\u001b[39m\u001b[38;5;241m.\u001b[39m_stateful_fn(\u001b[38;5;241m*\u001b[39margs, \u001b[38;5;241m*\u001b[39m\u001b[38;5;241m*\u001b[39mkwds)\n\u001b[0;32m    925\u001b[0m \u001b[38;5;28;01mif\u001b[39;00m \u001b[38;5;28mself\u001b[39m\u001b[38;5;241m.\u001b[39m_created_variables \u001b[38;5;129;01mand\u001b[39;00m \u001b[38;5;129;01mnot\u001b[39;00m ALLOW_DYNAMIC_VARIABLE_CREATION:\n\u001b[0;32m    926\u001b[0m   \u001b[38;5;28;01mraise\u001b[39;00m \u001b[38;5;167;01mValueError\u001b[39;00m(\u001b[38;5;124m\"\u001b[39m\u001b[38;5;124mCreating variables on a non-first call to a function\u001b[39m\u001b[38;5;124m\"\u001b[39m\n\u001b[0;32m    927\u001b[0m                    \u001b[38;5;124m\"\u001b[39m\u001b[38;5;124m decorated with tf.function.\u001b[39m\u001b[38;5;124m\"\u001b[39m)\n",
      "File \u001b[1;32m~\\anaconda3\\envs\\tf-gpu\\lib\\site-packages\\tensorflow\\python\\eager\\function.py:3038\u001b[0m, in \u001b[0;36mFunction.__call__\u001b[1;34m(self, *args, **kwargs)\u001b[0m\n\u001b[0;32m   3035\u001b[0m \u001b[38;5;124;03m\"\"\"Calls a graph function specialized to the inputs.\"\"\"\u001b[39;00m\n\u001b[0;32m   3036\u001b[0m \u001b[38;5;28;01mwith\u001b[39;00m \u001b[38;5;28mself\u001b[39m\u001b[38;5;241m.\u001b[39m_lock:\n\u001b[0;32m   3037\u001b[0m   (graph_function,\n\u001b[1;32m-> 3038\u001b[0m    filtered_flat_args) \u001b[38;5;241m=\u001b[39m \u001b[38;5;28;43mself\u001b[39;49m\u001b[38;5;241;43m.\u001b[39;49m\u001b[43m_maybe_define_function\u001b[49m\u001b[43m(\u001b[49m\u001b[43margs\u001b[49m\u001b[43m,\u001b[49m\u001b[43m \u001b[49m\u001b[43mkwargs\u001b[49m\u001b[43m)\u001b[49m\n\u001b[0;32m   3039\u001b[0m \u001b[38;5;28;01mreturn\u001b[39;00m graph_function\u001b[38;5;241m.\u001b[39m_call_flat(\n\u001b[0;32m   3040\u001b[0m     filtered_flat_args, captured_inputs\u001b[38;5;241m=\u001b[39mgraph_function\u001b[38;5;241m.\u001b[39mcaptured_inputs)\n",
      "File \u001b[1;32m~\\anaconda3\\envs\\tf-gpu\\lib\\site-packages\\tensorflow\\python\\eager\\function.py:3459\u001b[0m, in \u001b[0;36mFunction._maybe_define_function\u001b[1;34m(self, args, kwargs)\u001b[0m\n\u001b[0;32m   3449\u001b[0m \u001b[38;5;28;01mwith\u001b[39;00m ag_ctx\u001b[38;5;241m.\u001b[39mControlStatusCtx(\n\u001b[0;32m   3450\u001b[0m     status\u001b[38;5;241m=\u001b[39mag_status, options\u001b[38;5;241m=\u001b[39m\u001b[38;5;28mself\u001b[39m\u001b[38;5;241m.\u001b[39m_autograph_options):\n\u001b[0;32m   3451\u001b[0m \n\u001b[1;32m   (...)\u001b[0m\n\u001b[0;32m   3454\u001b[0m   \u001b[38;5;66;03m# and 2. there's no provided input signature\u001b[39;00m\n\u001b[0;32m   3455\u001b[0m   \u001b[38;5;66;03m# and 3. there's been a cache miss for this calling context\u001b[39;00m\n\u001b[0;32m   3456\u001b[0m   \u001b[38;5;28;01mif\u001b[39;00m (\u001b[38;5;28mself\u001b[39m\u001b[38;5;241m.\u001b[39m_experimental_relax_shapes \u001b[38;5;129;01mand\u001b[39;00m\n\u001b[0;32m   3457\u001b[0m       \u001b[38;5;28mself\u001b[39m\u001b[38;5;241m.\u001b[39minput_signature \u001b[38;5;129;01mis\u001b[39;00m \u001b[38;5;28;01mNone\u001b[39;00m \u001b[38;5;129;01mand\u001b[39;00m\n\u001b[0;32m   3458\u001b[0m       call_context_key \u001b[38;5;129;01min\u001b[39;00m \u001b[38;5;28mself\u001b[39m\u001b[38;5;241m.\u001b[39m_function_cache\u001b[38;5;241m.\u001b[39mmissed):\n\u001b[1;32m-> 3459\u001b[0m     \u001b[38;5;28;01mreturn\u001b[39;00m \u001b[38;5;28;43mself\u001b[39;49m\u001b[38;5;241;43m.\u001b[39;49m\u001b[43m_define_function_with_shape_relaxation\u001b[49m\u001b[43m(\u001b[49m\n\u001b[0;32m   3460\u001b[0m \u001b[43m        \u001b[49m\u001b[43margs\u001b[49m\u001b[43m,\u001b[49m\u001b[43m \u001b[49m\u001b[43mkwargs\u001b[49m\u001b[43m,\u001b[49m\u001b[43m \u001b[49m\u001b[43mflat_args\u001b[49m\u001b[43m,\u001b[49m\u001b[43m \u001b[49m\u001b[43mfiltered_flat_args\u001b[49m\u001b[43m,\u001b[49m\u001b[43m \u001b[49m\u001b[43mcache_key_context\u001b[49m\u001b[43m)\u001b[49m\n\u001b[0;32m   3462\u001b[0m   \u001b[38;5;28mself\u001b[39m\u001b[38;5;241m.\u001b[39m_function_cache\u001b[38;5;241m.\u001b[39mmissed\u001b[38;5;241m.\u001b[39madd(call_context_key)\n\u001b[0;32m   3463\u001b[0m   graph_function \u001b[38;5;241m=\u001b[39m \u001b[38;5;28mself\u001b[39m\u001b[38;5;241m.\u001b[39m_create_graph_function(args, kwargs)\n",
      "File \u001b[1;32m~\\anaconda3\\envs\\tf-gpu\\lib\\site-packages\\tensorflow\\python\\eager\\function.py:3381\u001b[0m, in \u001b[0;36mFunction._define_function_with_shape_relaxation\u001b[1;34m(self, args, kwargs, flat_args, filtered_flat_args, cache_key_context)\u001b[0m\n\u001b[0;32m   3374\u001b[0m   (relaxed_arg_specs, relaxed_kwarg_specs) \u001b[38;5;241m=\u001b[39m nest\u001b[38;5;241m.\u001b[39mpack_sequence_as(\n\u001b[0;32m   3375\u001b[0m       (args, kwargs), relaxed_arg_specs, expand_composites\u001b[38;5;241m=\u001b[39m\u001b[38;5;28;01mFalse\u001b[39;00m)\n\u001b[0;32m   3376\u001b[0m   (args, kwargs) \u001b[38;5;241m=\u001b[39m nest\u001b[38;5;241m.\u001b[39mpack_sequence_as(\n\u001b[0;32m   3377\u001b[0m       (relaxed_arg_specs, relaxed_kwarg_specs),\n\u001b[0;32m   3378\u001b[0m       flat_args,\n\u001b[0;32m   3379\u001b[0m       expand_composites\u001b[38;5;241m=\u001b[39m\u001b[38;5;28;01mTrue\u001b[39;00m)\n\u001b[1;32m-> 3381\u001b[0m graph_function \u001b[38;5;241m=\u001b[39m \u001b[38;5;28;43mself\u001b[39;49m\u001b[38;5;241;43m.\u001b[39;49m\u001b[43m_create_graph_function\u001b[49m\u001b[43m(\u001b[49m\n\u001b[0;32m   3382\u001b[0m \u001b[43m    \u001b[49m\u001b[43margs\u001b[49m\u001b[43m,\u001b[49m\u001b[43m \u001b[49m\u001b[43mkwargs\u001b[49m\u001b[43m,\u001b[49m\u001b[43m \u001b[49m\u001b[43moverride_flat_arg_shapes\u001b[49m\u001b[38;5;241;43m=\u001b[39;49m\u001b[43mrelaxed_arg_shapes\u001b[49m\u001b[43m)\u001b[49m\n\u001b[0;32m   3383\u001b[0m \u001b[38;5;28mself\u001b[39m\u001b[38;5;241m.\u001b[39m_function_cache\u001b[38;5;241m.\u001b[39marg_relaxed[rank_only_cache_key] \u001b[38;5;241m=\u001b[39m graph_function\n\u001b[0;32m   3385\u001b[0m \u001b[38;5;28;01mreturn\u001b[39;00m (graph_function, [\n\u001b[0;32m   3386\u001b[0m     t \u001b[38;5;28;01mfor\u001b[39;00m t \u001b[38;5;129;01min\u001b[39;00m nest\u001b[38;5;241m.\u001b[39mflatten((args, kwargs), expand_composites\u001b[38;5;241m=\u001b[39m\u001b[38;5;28;01mTrue\u001b[39;00m)\n\u001b[0;32m   3387\u001b[0m     \u001b[38;5;28;01mif\u001b[39;00m \u001b[38;5;28misinstance\u001b[39m(t, (ops\u001b[38;5;241m.\u001b[39mTensor,\n\u001b[0;32m   3388\u001b[0m                       resource_variable_ops\u001b[38;5;241m.\u001b[39mBaseResourceVariable))\n\u001b[0;32m   3389\u001b[0m ])\n",
      "File \u001b[1;32m~\\anaconda3\\envs\\tf-gpu\\lib\\site-packages\\tensorflow\\python\\eager\\function.py:3298\u001b[0m, in \u001b[0;36mFunction._create_graph_function\u001b[1;34m(self, args, kwargs, override_flat_arg_shapes)\u001b[0m\n\u001b[0;32m   3293\u001b[0m missing_arg_names \u001b[38;5;241m=\u001b[39m [\n\u001b[0;32m   3294\u001b[0m     \u001b[38;5;124m\"\u001b[39m\u001b[38;5;132;01m%s\u001b[39;00m\u001b[38;5;124m_\u001b[39m\u001b[38;5;132;01m%d\u001b[39;00m\u001b[38;5;124m\"\u001b[39m \u001b[38;5;241m%\u001b[39m (arg, i) \u001b[38;5;28;01mfor\u001b[39;00m i, arg \u001b[38;5;129;01min\u001b[39;00m \u001b[38;5;28menumerate\u001b[39m(missing_arg_names)\n\u001b[0;32m   3295\u001b[0m ]\n\u001b[0;32m   3296\u001b[0m arg_names \u001b[38;5;241m=\u001b[39m base_arg_names \u001b[38;5;241m+\u001b[39m missing_arg_names\n\u001b[0;32m   3297\u001b[0m graph_function \u001b[38;5;241m=\u001b[39m ConcreteFunction(\n\u001b[1;32m-> 3298\u001b[0m     \u001b[43mfunc_graph_module\u001b[49m\u001b[38;5;241;43m.\u001b[39;49m\u001b[43mfunc_graph_from_py_func\u001b[49m\u001b[43m(\u001b[49m\n\u001b[0;32m   3299\u001b[0m \u001b[43m        \u001b[49m\u001b[38;5;28;43mself\u001b[39;49m\u001b[38;5;241;43m.\u001b[39;49m\u001b[43m_name\u001b[49m\u001b[43m,\u001b[49m\n\u001b[0;32m   3300\u001b[0m \u001b[43m        \u001b[49m\u001b[38;5;28;43mself\u001b[39;49m\u001b[38;5;241;43m.\u001b[39;49m\u001b[43m_python_function\u001b[49m\u001b[43m,\u001b[49m\n\u001b[0;32m   3301\u001b[0m \u001b[43m        \u001b[49m\u001b[43margs\u001b[49m\u001b[43m,\u001b[49m\n\u001b[0;32m   3302\u001b[0m \u001b[43m        \u001b[49m\u001b[43mkwargs\u001b[49m\u001b[43m,\u001b[49m\n\u001b[0;32m   3303\u001b[0m \u001b[43m        \u001b[49m\u001b[38;5;28;43mself\u001b[39;49m\u001b[38;5;241;43m.\u001b[39;49m\u001b[43minput_signature\u001b[49m\u001b[43m,\u001b[49m\n\u001b[0;32m   3304\u001b[0m \u001b[43m        \u001b[49m\u001b[43mautograph\u001b[49m\u001b[38;5;241;43m=\u001b[39;49m\u001b[38;5;28;43mself\u001b[39;49m\u001b[38;5;241;43m.\u001b[39;49m\u001b[43m_autograph\u001b[49m\u001b[43m,\u001b[49m\n\u001b[0;32m   3305\u001b[0m \u001b[43m        \u001b[49m\u001b[43mautograph_options\u001b[49m\u001b[38;5;241;43m=\u001b[39;49m\u001b[38;5;28;43mself\u001b[39;49m\u001b[38;5;241;43m.\u001b[39;49m\u001b[43m_autograph_options\u001b[49m\u001b[43m,\u001b[49m\n\u001b[0;32m   3306\u001b[0m \u001b[43m        \u001b[49m\u001b[43marg_names\u001b[49m\u001b[38;5;241;43m=\u001b[39;49m\u001b[43marg_names\u001b[49m\u001b[43m,\u001b[49m\n\u001b[0;32m   3307\u001b[0m \u001b[43m        \u001b[49m\u001b[43moverride_flat_arg_shapes\u001b[49m\u001b[38;5;241;43m=\u001b[39;49m\u001b[43moverride_flat_arg_shapes\u001b[49m\u001b[43m,\u001b[49m\n\u001b[0;32m   3308\u001b[0m \u001b[43m        \u001b[49m\u001b[43mcapture_by_value\u001b[49m\u001b[38;5;241;43m=\u001b[39;49m\u001b[38;5;28;43mself\u001b[39;49m\u001b[38;5;241;43m.\u001b[39;49m\u001b[43m_capture_by_value\u001b[49m\u001b[43m)\u001b[49m,\n\u001b[0;32m   3309\u001b[0m     \u001b[38;5;28mself\u001b[39m\u001b[38;5;241m.\u001b[39m_function_attributes,\n\u001b[0;32m   3310\u001b[0m     function_spec\u001b[38;5;241m=\u001b[39m\u001b[38;5;28mself\u001b[39m\u001b[38;5;241m.\u001b[39mfunction_spec,\n\u001b[0;32m   3311\u001b[0m     \u001b[38;5;66;03m# Tell the ConcreteFunction to clean up its graph once it goes out of\u001b[39;00m\n\u001b[0;32m   3312\u001b[0m     \u001b[38;5;66;03m# scope. This is not the default behavior since it gets used in some\u001b[39;00m\n\u001b[0;32m   3313\u001b[0m     \u001b[38;5;66;03m# places (like Keras) where the FuncGraph lives longer than the\u001b[39;00m\n\u001b[0;32m   3314\u001b[0m     \u001b[38;5;66;03m# ConcreteFunction.\u001b[39;00m\n\u001b[0;32m   3315\u001b[0m     shared_func_graph\u001b[38;5;241m=\u001b[39m\u001b[38;5;28;01mFalse\u001b[39;00m)\n\u001b[0;32m   3316\u001b[0m \u001b[38;5;28;01mreturn\u001b[39;00m graph_function\n",
      "File \u001b[1;32m~\\anaconda3\\envs\\tf-gpu\\lib\\site-packages\\tensorflow\\python\\framework\\func_graph.py:1007\u001b[0m, in \u001b[0;36mfunc_graph_from_py_func\u001b[1;34m(name, python_func, args, kwargs, signature, func_graph, autograph, autograph_options, add_control_dependencies, arg_names, op_return_value, collections, capture_by_value, override_flat_arg_shapes, acd_record_initial_resource_uses)\u001b[0m\n\u001b[0;32m   1004\u001b[0m \u001b[38;5;28;01melse\u001b[39;00m:\n\u001b[0;32m   1005\u001b[0m   _, original_func \u001b[38;5;241m=\u001b[39m tf_decorator\u001b[38;5;241m.\u001b[39munwrap(python_func)\n\u001b[1;32m-> 1007\u001b[0m func_outputs \u001b[38;5;241m=\u001b[39m python_func(\u001b[38;5;241m*\u001b[39mfunc_args, \u001b[38;5;241m*\u001b[39m\u001b[38;5;241m*\u001b[39mfunc_kwargs)\n\u001b[0;32m   1009\u001b[0m \u001b[38;5;66;03m# invariant: `func_outputs` contains only Tensors, CompositeTensors,\u001b[39;00m\n\u001b[0;32m   1010\u001b[0m \u001b[38;5;66;03m# TensorArrays and `None`s.\u001b[39;00m\n\u001b[0;32m   1011\u001b[0m func_outputs \u001b[38;5;241m=\u001b[39m nest\u001b[38;5;241m.\u001b[39mmap_structure(convert, func_outputs,\n\u001b[0;32m   1012\u001b[0m                                   expand_composites\u001b[38;5;241m=\u001b[39m\u001b[38;5;28;01mTrue\u001b[39;00m)\n",
      "File \u001b[1;32m~\\anaconda3\\envs\\tf-gpu\\lib\\site-packages\\tensorflow\\python\\eager\\def_function.py:668\u001b[0m, in \u001b[0;36mFunction._defun_with_scope.<locals>.wrapped_fn\u001b[1;34m(*args, **kwds)\u001b[0m\n\u001b[0;32m    664\u001b[0m \u001b[38;5;28;01mwith\u001b[39;00m default_graph\u001b[38;5;241m.\u001b[39m_variable_creator_scope(scope, priority\u001b[38;5;241m=\u001b[39m\u001b[38;5;241m50\u001b[39m):  \u001b[38;5;66;03m# pylint: disable=protected-access\u001b[39;00m\n\u001b[0;32m    665\u001b[0m   \u001b[38;5;66;03m# __wrapped__ allows AutoGraph to swap in a converted function. We give\u001b[39;00m\n\u001b[0;32m    666\u001b[0m   \u001b[38;5;66;03m# the function a weak reference to itself to avoid a reference cycle.\u001b[39;00m\n\u001b[0;32m    667\u001b[0m   \u001b[38;5;28;01mwith\u001b[39;00m OptionalXlaContext(compile_with_xla):\n\u001b[1;32m--> 668\u001b[0m     out \u001b[38;5;241m=\u001b[39m weak_wrapped_fn()\u001b[38;5;241m.\u001b[39m__wrapped__(\u001b[38;5;241m*\u001b[39margs, \u001b[38;5;241m*\u001b[39m\u001b[38;5;241m*\u001b[39mkwds)\n\u001b[0;32m    669\u001b[0m   \u001b[38;5;28;01mreturn\u001b[39;00m out\n",
      "File \u001b[1;32m~\\anaconda3\\envs\\tf-gpu\\lib\\site-packages\\tensorflow\\python\\framework\\func_graph.py:994\u001b[0m, in \u001b[0;36mfunc_graph_from_py_func.<locals>.wrapper\u001b[1;34m(*args, **kwargs)\u001b[0m\n\u001b[0;32m    992\u001b[0m \u001b[38;5;28;01mexcept\u001b[39;00m \u001b[38;5;167;01mException\u001b[39;00m \u001b[38;5;28;01mas\u001b[39;00m e:  \u001b[38;5;66;03m# pylint:disable=broad-except\u001b[39;00m\n\u001b[0;32m    993\u001b[0m   \u001b[38;5;28;01mif\u001b[39;00m \u001b[38;5;28mhasattr\u001b[39m(e, \u001b[38;5;124m\"\u001b[39m\u001b[38;5;124mag_error_metadata\u001b[39m\u001b[38;5;124m\"\u001b[39m):\n\u001b[1;32m--> 994\u001b[0m     \u001b[38;5;28;01mraise\u001b[39;00m e\u001b[38;5;241m.\u001b[39mag_error_metadata\u001b[38;5;241m.\u001b[39mto_exception(e)\n\u001b[0;32m    995\u001b[0m   \u001b[38;5;28;01melse\u001b[39;00m:\n\u001b[0;32m    996\u001b[0m     \u001b[38;5;28;01mraise\u001b[39;00m\n",
      "\u001b[1;31mValueError\u001b[0m: in user code:\n\n    C:\\Users\\adria\\anaconda3\\envs\\tf-gpu\\lib\\site-packages\\keras\\engine\\training.py:1586 predict_function  *\n        return step_function(self, iterator)\n    C:\\Users\\adria\\anaconda3\\envs\\tf-gpu\\lib\\site-packages\\keras\\engine\\training.py:1576 step_function  **\n        outputs = model.distribute_strategy.run(run_step, args=(data,))\n    C:\\Users\\adria\\anaconda3\\envs\\tf-gpu\\lib\\site-packages\\tensorflow\\python\\distribute\\distribute_lib.py:1286 run\n        return self._extended.call_for_each_replica(fn, args=args, kwargs=kwargs)\n    C:\\Users\\adria\\anaconda3\\envs\\tf-gpu\\lib\\site-packages\\tensorflow\\python\\distribute\\distribute_lib.py:2849 call_for_each_replica\n        return self._call_for_each_replica(fn, args, kwargs)\n    C:\\Users\\adria\\anaconda3\\envs\\tf-gpu\\lib\\site-packages\\tensorflow\\python\\distribute\\distribute_lib.py:3632 _call_for_each_replica\n        return fn(*args, **kwargs)\n    C:\\Users\\adria\\anaconda3\\envs\\tf-gpu\\lib\\site-packages\\keras\\engine\\training.py:1569 run_step  **\n        outputs = model.predict_step(data)\n    C:\\Users\\adria\\anaconda3\\envs\\tf-gpu\\lib\\site-packages\\keras\\engine\\training.py:1537 predict_step\n        return self(x, training=False)\n    C:\\Users\\adria\\anaconda3\\envs\\tf-gpu\\lib\\site-packages\\keras\\engine\\base_layer.py:1020 __call__\n        input_spec.assert_input_compatibility(self.input_spec, inputs, self.name)\n    C:\\Users\\adria\\anaconda3\\envs\\tf-gpu\\lib\\site-packages\\keras\\engine\\input_spec.py:214 assert_input_compatibility\n        raise ValueError('Input ' + str(input_index) + ' of layer ' +\n\n    ValueError: Input 0 of layer sequential is incompatible with the layer: expected ndim=3, found ndim=2. Full shape received: (None, 3)\n"
     ]
    }
   ],
   "source": [
    "previsao = modelo.predict(X_test)\n",
    "\n",
    "previsao = previsao.reshape((previsao.shape[0], 1))\n",
    "\n",
    "previsao = (previsao * np.std(Y)) + np.mean(Y)\n"
   ]
  },
  {
   "cell_type": "code",
   "execution_count": null,
   "id": "cc2add75",
   "metadata": {},
   "outputs": [],
   "source": []
  }
 ],
 "metadata": {
  "kernelspec": {
   "display_name": "Python 3 (ipykernel)",
   "language": "python",
   "name": "python3"
  },
  "language_info": {
   "codemirror_mode": {
    "name": "ipython",
    "version": 3
   },
   "file_extension": ".py",
   "mimetype": "text/x-python",
   "name": "python",
   "nbconvert_exporter": "python",
   "pygments_lexer": "ipython3",
   "version": "3.9.16"
  }
 },
 "nbformat": 4,
 "nbformat_minor": 5
}
