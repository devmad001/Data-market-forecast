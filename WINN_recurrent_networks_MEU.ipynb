{
 "cells": [
  {
   "cell_type": "markdown",
   "metadata": {},
   "source": [
    "# Artificial Intelligence in Finance"
   ]
  },
  {
   "cell_type": "markdown",
   "metadata": {},
   "source": [
    "## Recurrent Neural Networks"
   ]
  },
  {
   "cell_type": "markdown",
   "metadata": {},
   "source": [
    "MEU PROJETO COM WINN"
   ]
  },
  {
   "cell_type": "markdown",
   "metadata": {},
   "source": [
    "## First Example"
   ]
  },
  {
   "cell_type": "code",
   "execution_count": 1,
   "metadata": {},
   "outputs": [],
   "source": [
    "import os\n",
    "os.environ['TF_CPP_MIN_LOG_LEVEL'] = '3'"
   ]
  },
  {
   "cell_type": "code",
   "execution_count": 2,
   "metadata": {},
   "outputs": [
    {
     "name": "stderr",
     "output_type": "stream",
     "text": [
      "C:\\Users\\adria\\AppData\\Local\\Temp\\ipykernel_6688\\1632325378.py:7: MatplotlibDeprecationWarning: The seaborn styles shipped by Matplotlib are deprecated since 3.6, as they no longer correspond to the styles shipped by seaborn. However, they will remain available as 'seaborn-v0_8-<style>'. Alternatively, directly use the seaborn API instead.\n",
      "  plt.style.use('seaborn')\n"
     ]
    }
   ],
   "source": [
    "import random\n",
    "import numpy as np\n",
    "import pandas as pd\n",
    "import tensorflow as tf\n",
    "from pprint import pprint\n",
    "from pylab import plt, mpl\n",
    "plt.style.use('seaborn')\n",
    "mpl.rcParams['savefig.dpi'] = 300\n",
    "mpl.rcParams['font.family'] = 'serif'\n",
    "#pd.set_option('precision', 4)\n",
    "np.set_printoptions(suppress=True, precision=4)\n",
    "os.environ['PYTHONHASHSEED'] = '0'"
   ]
  },
  {
   "cell_type": "code",
   "execution_count": 3,
   "metadata": {},
   "outputs": [],
   "source": [
    "from sklearn.metrics import accuracy_score\n",
    "from keras.preprocessing.sequence import TimeseriesGenerator\n",
    "from keras.models import Sequential\n",
    "from keras.layers import SimpleRNN, LSTM, Dense\n",
    "from keras.layers import Dropout"
   ]
  },
  {
   "cell_type": "code",
   "execution_count": 4,
   "metadata": {},
   "outputs": [
    {
     "data": {
      "text/plain": [
       "True"
      ]
     },
     "execution_count": 4,
     "metadata": {},
     "output_type": "execute_result"
    }
   ],
   "source": [
    "tf.test.is_built_with_cuda()"
   ]
  },
  {
   "cell_type": "code",
   "execution_count": 5,
   "metadata": {},
   "outputs": [],
   "source": [
    "def set_seeds(seed=100):\n",
    "    random.seed(seed)\n",
    "    np.random.seed(seed)\n",
    "    tf.random.set_seed(seed)\n",
    "set_seeds()"
   ]
  },
  {
   "cell_type": "code",
   "execution_count": 6,
   "metadata": {},
   "outputs": [
    {
     "data": {
      "text/html": [
       "<div>\n",
       "<style scoped>\n",
       "    .dataframe tbody tr th:only-of-type {\n",
       "        vertical-align: middle;\n",
       "    }\n",
       "\n",
       "    .dataframe tbody tr th {\n",
       "        vertical-align: top;\n",
       "    }\n",
       "\n",
       "    .dataframe thead th {\n",
       "        text-align: right;\n",
       "    }\n",
       "</style>\n",
       "<table border=\"1\" class=\"dataframe\">\n",
       "  <thead>\n",
       "    <tr style=\"text-align: right;\">\n",
       "      <th></th>\n",
       "      <th>open</th>\n",
       "      <th>high</th>\n",
       "      <th>low</th>\n",
       "      <th>close</th>\n",
       "      <th>tick_volume</th>\n",
       "      <th>real_volume</th>\n",
       "    </tr>\n",
       "    <tr>\n",
       "      <th>time</th>\n",
       "      <th></th>\n",
       "      <th></th>\n",
       "      <th></th>\n",
       "      <th></th>\n",
       "      <th></th>\n",
       "      <th></th>\n",
       "    </tr>\n",
       "  </thead>\n",
       "  <tbody>\n",
       "    <tr>\n",
       "      <th>2022-01-18 11:38:00</th>\n",
       "      <td>106635.0</td>\n",
       "      <td>106725.0</td>\n",
       "      <td>106610.0</td>\n",
       "      <td>106705.0</td>\n",
       "      <td>17263</td>\n",
       "      <td>64315</td>\n",
       "    </tr>\n",
       "    <tr>\n",
       "      <th>2022-01-18 11:39:00</th>\n",
       "      <td>106710.0</td>\n",
       "      <td>106825.0</td>\n",
       "      <td>106665.0</td>\n",
       "      <td>106785.0</td>\n",
       "      <td>25017</td>\n",
       "      <td>90996</td>\n",
       "    </tr>\n",
       "    <tr>\n",
       "      <th>2022-01-18 11:40:00</th>\n",
       "      <td>106780.0</td>\n",
       "      <td>106860.0</td>\n",
       "      <td>106675.0</td>\n",
       "      <td>106685.0</td>\n",
       "      <td>30803</td>\n",
       "      <td>110379</td>\n",
       "    </tr>\n",
       "    <tr>\n",
       "      <th>2022-01-18 11:41:00</th>\n",
       "      <td>106690.0</td>\n",
       "      <td>106910.0</td>\n",
       "      <td>106665.0</td>\n",
       "      <td>106885.0</td>\n",
       "      <td>30323</td>\n",
       "      <td>112419</td>\n",
       "    </tr>\n",
       "    <tr>\n",
       "      <th>2022-01-18 11:42:00</th>\n",
       "      <td>106880.0</td>\n",
       "      <td>106965.0</td>\n",
       "      <td>106800.0</td>\n",
       "      <td>106955.0</td>\n",
       "      <td>22614</td>\n",
       "      <td>80706</td>\n",
       "    </tr>\n",
       "    <tr>\n",
       "      <th>...</th>\n",
       "      <td>...</td>\n",
       "      <td>...</td>\n",
       "      <td>...</td>\n",
       "      <td>...</td>\n",
       "      <td>...</td>\n",
       "      <td>...</td>\n",
       "    </tr>\n",
       "    <tr>\n",
       "      <th>2022-10-13 16:55:00</th>\n",
       "      <td>114915.0</td>\n",
       "      <td>114920.0</td>\n",
       "      <td>114915.0</td>\n",
       "      <td>114915.0</td>\n",
       "      <td>38</td>\n",
       "      <td>275</td>\n",
       "    </tr>\n",
       "    <tr>\n",
       "      <th>2022-10-13 16:56:00</th>\n",
       "      <td>114920.0</td>\n",
       "      <td>114920.0</td>\n",
       "      <td>114915.0</td>\n",
       "      <td>114920.0</td>\n",
       "      <td>56</td>\n",
       "      <td>240</td>\n",
       "    </tr>\n",
       "    <tr>\n",
       "      <th>2022-10-13 16:57:00</th>\n",
       "      <td>114920.0</td>\n",
       "      <td>114920.0</td>\n",
       "      <td>114915.0</td>\n",
       "      <td>114920.0</td>\n",
       "      <td>42</td>\n",
       "      <td>200</td>\n",
       "    </tr>\n",
       "    <tr>\n",
       "      <th>2022-10-13 16:58:00</th>\n",
       "      <td>114920.0</td>\n",
       "      <td>114920.0</td>\n",
       "      <td>114910.0</td>\n",
       "      <td>114915.0</td>\n",
       "      <td>86</td>\n",
       "      <td>817</td>\n",
       "    </tr>\n",
       "    <tr>\n",
       "      <th>2022-10-13 16:59:00</th>\n",
       "      <td>114915.0</td>\n",
       "      <td>114915.0</td>\n",
       "      <td>114910.0</td>\n",
       "      <td>114910.0</td>\n",
       "      <td>258</td>\n",
       "      <td>779</td>\n",
       "    </tr>\n",
       "  </tbody>\n",
       "</table>\n",
       "<p>99999 rows × 6 columns</p>\n",
       "</div>"
      ],
      "text/plain": [
       "                         open      high       low     close  tick_volume  \\\n",
       "time                                                                       \n",
       "2022-01-18 11:38:00  106635.0  106725.0  106610.0  106705.0        17263   \n",
       "2022-01-18 11:39:00  106710.0  106825.0  106665.0  106785.0        25017   \n",
       "2022-01-18 11:40:00  106780.0  106860.0  106675.0  106685.0        30803   \n",
       "2022-01-18 11:41:00  106690.0  106910.0  106665.0  106885.0        30323   \n",
       "2022-01-18 11:42:00  106880.0  106965.0  106800.0  106955.0        22614   \n",
       "...                       ...       ...       ...       ...          ...   \n",
       "2022-10-13 16:55:00  114915.0  114920.0  114915.0  114915.0           38   \n",
       "2022-10-13 16:56:00  114920.0  114920.0  114915.0  114920.0           56   \n",
       "2022-10-13 16:57:00  114920.0  114920.0  114915.0  114920.0           42   \n",
       "2022-10-13 16:58:00  114920.0  114920.0  114910.0  114915.0           86   \n",
       "2022-10-13 16:59:00  114915.0  114915.0  114910.0  114910.0          258   \n",
       "\n",
       "                     real_volume  \n",
       "time                              \n",
       "2022-01-18 11:38:00        64315  \n",
       "2022-01-18 11:39:00        90996  \n",
       "2022-01-18 11:40:00       110379  \n",
       "2022-01-18 11:41:00       112419  \n",
       "2022-01-18 11:42:00        80706  \n",
       "...                          ...  \n",
       "2022-10-13 16:55:00          275  \n",
       "2022-10-13 16:56:00          240  \n",
       "2022-10-13 16:57:00          200  \n",
       "2022-10-13 16:58:00          817  \n",
       "2022-10-13 16:59:00          779  \n",
       "\n",
       "[99999 rows x 6 columns]"
      ]
     },
     "execution_count": 6,
     "metadata": {},
     "output_type": "execute_result"
    }
   ],
   "source": [
    "### Meus dados\n",
    "\n",
    "path = r'C:\\Users\\adria\\1Python\\Meu_novo_projeto\\WIN_N_1K\\WIN_N_1k.csv'\n",
    "symbol = 'WIN_N'\n",
    "raw = pd.read_csv(path, index_col=0, parse_dates=True)\n",
    "raw"
   ]
  },
  {
   "cell_type": "code",
   "execution_count": 7,
   "metadata": {},
   "outputs": [],
   "source": [
    "### FUNÇÃO PARA EXTRAIR FECHAMENTO E COLOCAR EM UM DATAFRAME CHAMADO DATA\n",
    "def generate_data():\n",
    "    data = pd.DataFrame(raw['close'])\n",
    "    data.columns = [symbol]\n",
    "    return data"
   ]
  },
  {
   "cell_type": "code",
   "execution_count": 8,
   "metadata": {},
   "outputs": [
    {
     "data": {
      "text/html": [
       "<div>\n",
       "<style scoped>\n",
       "    .dataframe tbody tr th:only-of-type {\n",
       "        vertical-align: middle;\n",
       "    }\n",
       "\n",
       "    .dataframe tbody tr th {\n",
       "        vertical-align: top;\n",
       "    }\n",
       "\n",
       "    .dataframe thead th {\n",
       "        text-align: right;\n",
       "    }\n",
       "</style>\n",
       "<table border=\"1\" class=\"dataframe\">\n",
       "  <thead>\n",
       "    <tr style=\"text-align: right;\">\n",
       "      <th></th>\n",
       "      <th>WIN_N</th>\n",
       "    </tr>\n",
       "    <tr>\n",
       "      <th>time</th>\n",
       "      <th></th>\n",
       "    </tr>\n",
       "  </thead>\n",
       "  <tbody>\n",
       "    <tr>\n",
       "      <th>2022-01-18 11:38:00</th>\n",
       "      <td>106705.0</td>\n",
       "    </tr>\n",
       "    <tr>\n",
       "      <th>2022-01-18 11:39:00</th>\n",
       "      <td>106785.0</td>\n",
       "    </tr>\n",
       "    <tr>\n",
       "      <th>2022-01-18 11:40:00</th>\n",
       "      <td>106685.0</td>\n",
       "    </tr>\n",
       "    <tr>\n",
       "      <th>2022-01-18 11:41:00</th>\n",
       "      <td>106885.0</td>\n",
       "    </tr>\n",
       "    <tr>\n",
       "      <th>2022-01-18 11:42:00</th>\n",
       "      <td>106955.0</td>\n",
       "    </tr>\n",
       "    <tr>\n",
       "      <th>...</th>\n",
       "      <td>...</td>\n",
       "    </tr>\n",
       "    <tr>\n",
       "      <th>2022-10-13 16:55:00</th>\n",
       "      <td>114915.0</td>\n",
       "    </tr>\n",
       "    <tr>\n",
       "      <th>2022-10-13 16:56:00</th>\n",
       "      <td>114920.0</td>\n",
       "    </tr>\n",
       "    <tr>\n",
       "      <th>2022-10-13 16:57:00</th>\n",
       "      <td>114920.0</td>\n",
       "    </tr>\n",
       "    <tr>\n",
       "      <th>2022-10-13 16:58:00</th>\n",
       "      <td>114915.0</td>\n",
       "    </tr>\n",
       "    <tr>\n",
       "      <th>2022-10-13 16:59:00</th>\n",
       "      <td>114910.0</td>\n",
       "    </tr>\n",
       "  </tbody>\n",
       "</table>\n",
       "<p>99999 rows × 1 columns</p>\n",
       "</div>"
      ],
      "text/plain": [
       "                        WIN_N\n",
       "time                         \n",
       "2022-01-18 11:38:00  106705.0\n",
       "2022-01-18 11:39:00  106785.0\n",
       "2022-01-18 11:40:00  106685.0\n",
       "2022-01-18 11:41:00  106885.0\n",
       "2022-01-18 11:42:00  106955.0\n",
       "...                       ...\n",
       "2022-10-13 16:55:00  114915.0\n",
       "2022-10-13 16:56:00  114920.0\n",
       "2022-10-13 16:57:00  114920.0\n",
       "2022-10-13 16:58:00  114915.0\n",
       "2022-10-13 16:59:00  114910.0\n",
       "\n",
       "[99999 rows x 1 columns]"
      ]
     },
     "execution_count": 8,
     "metadata": {},
     "output_type": "execute_result"
    }
   ],
   "source": [
    "## CRIA O DATA CONFORME A FUNÇÃO | DATA SERÁ UM DATAFRAME CLOSE\n",
    "data = generate_data()\n",
    "data"
   ]
  },
  {
   "cell_type": "code",
   "execution_count": 9,
   "metadata": {},
   "outputs": [
    {
     "data": {
      "text/html": [
       "<div>\n",
       "<style scoped>\n",
       "    .dataframe tbody tr th:only-of-type {\n",
       "        vertical-align: middle;\n",
       "    }\n",
       "\n",
       "    .dataframe tbody tr th {\n",
       "        vertical-align: top;\n",
       "    }\n",
       "\n",
       "    .dataframe thead th {\n",
       "        text-align: right;\n",
       "    }\n",
       "</style>\n",
       "<table border=\"1\" class=\"dataframe\">\n",
       "  <thead>\n",
       "    <tr style=\"text-align: right;\">\n",
       "      <th></th>\n",
       "      <th>WIN_N</th>\n",
       "      <th>r</th>\n",
       "    </tr>\n",
       "    <tr>\n",
       "      <th>time</th>\n",
       "      <th></th>\n",
       "      <th></th>\n",
       "    </tr>\n",
       "  </thead>\n",
       "  <tbody>\n",
       "    <tr>\n",
       "      <th>2022-01-18 11:38:00</th>\n",
       "      <td>106705.0</td>\n",
       "      <td>NaN</td>\n",
       "    </tr>\n",
       "    <tr>\n",
       "      <th>2022-01-18 11:39:00</th>\n",
       "      <td>106785.0</td>\n",
       "      <td>0.000749</td>\n",
       "    </tr>\n",
       "    <tr>\n",
       "      <th>2022-01-18 11:40:00</th>\n",
       "      <td>106685.0</td>\n",
       "      <td>-0.000937</td>\n",
       "    </tr>\n",
       "    <tr>\n",
       "      <th>2022-01-18 11:41:00</th>\n",
       "      <td>106885.0</td>\n",
       "      <td>0.001873</td>\n",
       "    </tr>\n",
       "    <tr>\n",
       "      <th>2022-01-18 11:42:00</th>\n",
       "      <td>106955.0</td>\n",
       "      <td>0.000655</td>\n",
       "    </tr>\n",
       "    <tr>\n",
       "      <th>...</th>\n",
       "      <td>...</td>\n",
       "      <td>...</td>\n",
       "    </tr>\n",
       "    <tr>\n",
       "      <th>2022-10-13 16:55:00</th>\n",
       "      <td>114915.0</td>\n",
       "      <td>-0.000044</td>\n",
       "    </tr>\n",
       "    <tr>\n",
       "      <th>2022-10-13 16:56:00</th>\n",
       "      <td>114920.0</td>\n",
       "      <td>0.000044</td>\n",
       "    </tr>\n",
       "    <tr>\n",
       "      <th>2022-10-13 16:57:00</th>\n",
       "      <td>114920.0</td>\n",
       "      <td>0.000000</td>\n",
       "    </tr>\n",
       "    <tr>\n",
       "      <th>2022-10-13 16:58:00</th>\n",
       "      <td>114915.0</td>\n",
       "      <td>-0.000044</td>\n",
       "    </tr>\n",
       "    <tr>\n",
       "      <th>2022-10-13 16:59:00</th>\n",
       "      <td>114910.0</td>\n",
       "      <td>-0.000044</td>\n",
       "    </tr>\n",
       "  </tbody>\n",
       "</table>\n",
       "<p>99999 rows × 2 columns</p>\n",
       "</div>"
      ],
      "text/plain": [
       "                        WIN_N         r\n",
       "time                                   \n",
       "2022-01-18 11:38:00  106705.0       NaN\n",
       "2022-01-18 11:39:00  106785.0  0.000749\n",
       "2022-01-18 11:40:00  106685.0 -0.000937\n",
       "2022-01-18 11:41:00  106885.0  0.001873\n",
       "2022-01-18 11:42:00  106955.0  0.000655\n",
       "...                       ...       ...\n",
       "2022-10-13 16:55:00  114915.0 -0.000044\n",
       "2022-10-13 16:56:00  114920.0  0.000044\n",
       "2022-10-13 16:57:00  114920.0  0.000000\n",
       "2022-10-13 16:58:00  114915.0 -0.000044\n",
       "2022-10-13 16:59:00  114910.0 -0.000044\n",
       "\n",
       "[99999 rows x 2 columns]"
      ]
     },
     "execution_count": 9,
     "metadata": {},
     "output_type": "execute_result"
    }
   ],
   "source": [
    "## CRIA UMA COLUNA R COM OS RETORNOS\n",
    "data['r'] = np.log(data / data.shift(1))\n",
    "data"
   ]
  },
  {
   "cell_type": "code",
   "execution_count": 10,
   "metadata": {},
   "outputs": [],
   "source": [
    "## REMOVE OS NA\n",
    "data.dropna(inplace=True)"
   ]
  },
  {
   "cell_type": "code",
   "execution_count": 11,
   "metadata": {},
   "outputs": [
    {
     "data": {
      "text/html": [
       "<div>\n",
       "<style scoped>\n",
       "    .dataframe tbody tr th:only-of-type {\n",
       "        vertical-align: middle;\n",
       "    }\n",
       "\n",
       "    .dataframe tbody tr th {\n",
       "        vertical-align: top;\n",
       "    }\n",
       "\n",
       "    .dataframe thead th {\n",
       "        text-align: right;\n",
       "    }\n",
       "</style>\n",
       "<table border=\"1\" class=\"dataframe\">\n",
       "  <thead>\n",
       "    <tr style=\"text-align: right;\">\n",
       "      <th></th>\n",
       "      <th>WIN_N</th>\n",
       "      <th>r</th>\n",
       "    </tr>\n",
       "    <tr>\n",
       "      <th>time</th>\n",
       "      <th></th>\n",
       "      <th></th>\n",
       "    </tr>\n",
       "  </thead>\n",
       "  <tbody>\n",
       "    <tr>\n",
       "      <th>2022-01-18 11:39:00</th>\n",
       "      <td>-0.620366</td>\n",
       "      <td>1.269051</td>\n",
       "    </tr>\n",
       "    <tr>\n",
       "      <th>2022-01-18 11:40:00</th>\n",
       "      <td>-0.637436</td>\n",
       "      <td>-1.589288</td>\n",
       "    </tr>\n",
       "    <tr>\n",
       "      <th>2022-01-18 11:41:00</th>\n",
       "      <td>-0.603296</td>\n",
       "      <td>3.173323</td>\n",
       "    </tr>\n",
       "    <tr>\n",
       "      <th>2022-01-18 11:42:00</th>\n",
       "      <td>-0.591347</td>\n",
       "      <td>1.108444</td>\n",
       "    </tr>\n",
       "    <tr>\n",
       "      <th>2022-01-18 11:43:00</th>\n",
       "      <td>-0.560620</td>\n",
       "      <td>2.848925</td>\n",
       "    </tr>\n",
       "    <tr>\n",
       "      <th>...</th>\n",
       "      <td>...</td>\n",
       "      <td>...</td>\n",
       "    </tr>\n",
       "    <tr>\n",
       "      <th>2022-10-13 16:55:00</th>\n",
       "      <td>0.767445</td>\n",
       "      <td>-0.075004</td>\n",
       "    </tr>\n",
       "    <tr>\n",
       "      <th>2022-10-13 16:56:00</th>\n",
       "      <td>0.768299</td>\n",
       "      <td>0.072492</td>\n",
       "    </tr>\n",
       "    <tr>\n",
       "      <th>2022-10-13 16:57:00</th>\n",
       "      <td>0.768299</td>\n",
       "      <td>-0.001256</td>\n",
       "    </tr>\n",
       "    <tr>\n",
       "      <th>2022-10-13 16:58:00</th>\n",
       "      <td>0.767445</td>\n",
       "      <td>-0.075004</td>\n",
       "    </tr>\n",
       "    <tr>\n",
       "      <th>2022-10-13 16:59:00</th>\n",
       "      <td>0.766592</td>\n",
       "      <td>-0.075007</td>\n",
       "    </tr>\n",
       "  </tbody>\n",
       "</table>\n",
       "<p>99998 rows × 2 columns</p>\n",
       "</div>"
      ],
      "text/plain": [
       "                        WIN_N         r\n",
       "time                                   \n",
       "2022-01-18 11:39:00 -0.620366  1.269051\n",
       "2022-01-18 11:40:00 -0.637436 -1.589288\n",
       "2022-01-18 11:41:00 -0.603296  3.173323\n",
       "2022-01-18 11:42:00 -0.591347  1.108444\n",
       "2022-01-18 11:43:00 -0.560620  2.848925\n",
       "...                       ...       ...\n",
       "2022-10-13 16:55:00  0.767445 -0.075004\n",
       "2022-10-13 16:56:00  0.768299  0.072492\n",
       "2022-10-13 16:57:00  0.768299 -0.001256\n",
       "2022-10-13 16:58:00  0.767445 -0.075004\n",
       "2022-10-13 16:59:00  0.766592 -0.075007\n",
       "\n",
       "[99998 rows x 2 columns]"
      ]
     },
     "execution_count": 11,
     "metadata": {},
     "output_type": "execute_result"
    }
   ],
   "source": [
    "## NORMALIZAÇÃO DOS DADOS  \n",
    "## = >> REPARE QUE A NORMALIZAÇÂO ESTA SENDO FEITA ANTES DE DIVIDIR O TREINO\n",
    "data = (data - data.mean()) / data.std()\n",
    "data"
   ]
  },
  {
   "cell_type": "code",
   "execution_count": 12,
   "metadata": {},
   "outputs": [],
   "source": [
    "### DIVIDIR OS DADOS ENTRE TREINAMENTO E TESTE\n",
    "split = int(len(data) * 0.8)\n",
    "train = data.iloc[:split].copy()\n",
    "test = data.iloc[split:].copy()"
   ]
  },
  {
   "cell_type": "code",
   "execution_count": 13,
   "metadata": {},
   "outputs": [
    {
     "data": {
      "text/html": [
       "<div>\n",
       "<style scoped>\n",
       "    .dataframe tbody tr th:only-of-type {\n",
       "        vertical-align: middle;\n",
       "    }\n",
       "\n",
       "    .dataframe tbody tr th {\n",
       "        vertical-align: top;\n",
       "    }\n",
       "\n",
       "    .dataframe thead th {\n",
       "        text-align: right;\n",
       "    }\n",
       "</style>\n",
       "<table border=\"1\" class=\"dataframe\">\n",
       "  <thead>\n",
       "    <tr style=\"text-align: right;\">\n",
       "      <th></th>\n",
       "      <th>WIN_N</th>\n",
       "      <th>r</th>\n",
       "    </tr>\n",
       "    <tr>\n",
       "      <th>time</th>\n",
       "      <th></th>\n",
       "      <th></th>\n",
       "    </tr>\n",
       "  </thead>\n",
       "  <tbody>\n",
       "    <tr>\n",
       "      <th>2022-01-18 11:39:00</th>\n",
       "      <td>-0.620366</td>\n",
       "      <td>1.269051</td>\n",
       "    </tr>\n",
       "    <tr>\n",
       "      <th>2022-01-18 11:40:00</th>\n",
       "      <td>-0.637436</td>\n",
       "      <td>-1.589288</td>\n",
       "    </tr>\n",
       "    <tr>\n",
       "      <th>2022-01-18 11:41:00</th>\n",
       "      <td>-0.603296</td>\n",
       "      <td>3.173323</td>\n",
       "    </tr>\n",
       "    <tr>\n",
       "      <th>2022-01-18 11:42:00</th>\n",
       "      <td>-0.591347</td>\n",
       "      <td>1.108444</td>\n",
       "    </tr>\n",
       "    <tr>\n",
       "      <th>2022-01-18 11:43:00</th>\n",
       "      <td>-0.560620</td>\n",
       "      <td>2.848925</td>\n",
       "    </tr>\n",
       "    <tr>\n",
       "      <th>...</th>\n",
       "      <td>...</td>\n",
       "      <td>...</td>\n",
       "    </tr>\n",
       "    <tr>\n",
       "      <th>2022-08-19 11:53:00</th>\n",
       "      <td>0.525048</td>\n",
       "      <td>-0.075926</td>\n",
       "    </tr>\n",
       "    <tr>\n",
       "      <th>2022-08-19 11:54:00</th>\n",
       "      <td>0.516513</td>\n",
       "      <td>-0.748143</td>\n",
       "    </tr>\n",
       "    <tr>\n",
       "      <th>2022-08-19 11:55:00</th>\n",
       "      <td>0.541264</td>\n",
       "      <td>2.163812</td>\n",
       "    </tr>\n",
       "    <tr>\n",
       "      <th>2022-08-19 11:56:00</th>\n",
       "      <td>0.550653</td>\n",
       "      <td>0.819254</td>\n",
       "    </tr>\n",
       "    <tr>\n",
       "      <th>2022-08-19 11:57:00</th>\n",
       "      <td>0.549800</td>\n",
       "      <td>-0.075831</td>\n",
       "    </tr>\n",
       "  </tbody>\n",
       "</table>\n",
       "<p>79998 rows × 2 columns</p>\n",
       "</div>"
      ],
      "text/plain": [
       "                        WIN_N         r\n",
       "time                                   \n",
       "2022-01-18 11:39:00 -0.620366  1.269051\n",
       "2022-01-18 11:40:00 -0.637436 -1.589288\n",
       "2022-01-18 11:41:00 -0.603296  3.173323\n",
       "2022-01-18 11:42:00 -0.591347  1.108444\n",
       "2022-01-18 11:43:00 -0.560620  2.848925\n",
       "...                       ...       ...\n",
       "2022-08-19 11:53:00  0.525048 -0.075926\n",
       "2022-08-19 11:54:00  0.516513 -0.748143\n",
       "2022-08-19 11:55:00  0.541264  2.163812\n",
       "2022-08-19 11:56:00  0.550653  0.819254\n",
       "2022-08-19 11:57:00  0.549800 -0.075831\n",
       "\n",
       "[79998 rows x 2 columns]"
      ]
     },
     "execution_count": 13,
     "metadata": {},
     "output_type": "execute_result"
    }
   ],
   "source": [
    "train"
   ]
  },
  {
   "cell_type": "code",
   "execution_count": 14,
   "metadata": {},
   "outputs": [
    {
     "data": {
      "text/html": [
       "<div>\n",
       "<style scoped>\n",
       "    .dataframe tbody tr th:only-of-type {\n",
       "        vertical-align: middle;\n",
       "    }\n",
       "\n",
       "    .dataframe tbody tr th {\n",
       "        vertical-align: top;\n",
       "    }\n",
       "\n",
       "    .dataframe thead th {\n",
       "        text-align: right;\n",
       "    }\n",
       "</style>\n",
       "<table border=\"1\" class=\"dataframe\">\n",
       "  <thead>\n",
       "    <tr style=\"text-align: right;\">\n",
       "      <th></th>\n",
       "      <th>WIN_N</th>\n",
       "      <th>r</th>\n",
       "    </tr>\n",
       "    <tr>\n",
       "      <th>time</th>\n",
       "      <th></th>\n",
       "      <th></th>\n",
       "    </tr>\n",
       "  </thead>\n",
       "  <tbody>\n",
       "    <tr>\n",
       "      <th>2022-08-19 11:58:00</th>\n",
       "      <td>0.540411</td>\n",
       "      <td>-0.821801</td>\n",
       "    </tr>\n",
       "    <tr>\n",
       "      <th>2022-08-19 11:59:00</th>\n",
       "      <td>0.548093</td>\n",
       "      <td>0.670129</td>\n",
       "    </tr>\n",
       "    <tr>\n",
       "      <th>2022-08-19 12:00:00</th>\n",
       "      <td>0.553214</td>\n",
       "      <td>0.446187</td>\n",
       "    </tr>\n",
       "    <tr>\n",
       "      <th>2022-08-19 12:01:00</th>\n",
       "      <td>0.546386</td>\n",
       "      <td>-0.597872</td>\n",
       "    </tr>\n",
       "    <tr>\n",
       "      <th>2022-08-19 12:02:00</th>\n",
       "      <td>0.550653</td>\n",
       "      <td>0.371654</td>\n",
       "    </tr>\n",
       "    <tr>\n",
       "      <th>...</th>\n",
       "      <td>...</td>\n",
       "      <td>...</td>\n",
       "    </tr>\n",
       "    <tr>\n",
       "      <th>2022-10-13 16:55:00</th>\n",
       "      <td>0.767445</td>\n",
       "      <td>-0.075004</td>\n",
       "    </tr>\n",
       "    <tr>\n",
       "      <th>2022-10-13 16:56:00</th>\n",
       "      <td>0.768299</td>\n",
       "      <td>0.072492</td>\n",
       "    </tr>\n",
       "    <tr>\n",
       "      <th>2022-10-13 16:57:00</th>\n",
       "      <td>0.768299</td>\n",
       "      <td>-0.001256</td>\n",
       "    </tr>\n",
       "    <tr>\n",
       "      <th>2022-10-13 16:58:00</th>\n",
       "      <td>0.767445</td>\n",
       "      <td>-0.075004</td>\n",
       "    </tr>\n",
       "    <tr>\n",
       "      <th>2022-10-13 16:59:00</th>\n",
       "      <td>0.766592</td>\n",
       "      <td>-0.075007</td>\n",
       "    </tr>\n",
       "  </tbody>\n",
       "</table>\n",
       "<p>20000 rows × 2 columns</p>\n",
       "</div>"
      ],
      "text/plain": [
       "                        WIN_N         r\n",
       "time                                   \n",
       "2022-08-19 11:58:00  0.540411 -0.821801\n",
       "2022-08-19 11:59:00  0.548093  0.670129\n",
       "2022-08-19 12:00:00  0.553214  0.446187\n",
       "2022-08-19 12:01:00  0.546386 -0.597872\n",
       "2022-08-19 12:02:00  0.550653  0.371654\n",
       "...                       ...       ...\n",
       "2022-10-13 16:55:00  0.767445 -0.075004\n",
       "2022-10-13 16:56:00  0.768299  0.072492\n",
       "2022-10-13 16:57:00  0.768299 -0.001256\n",
       "2022-10-13 16:58:00  0.767445 -0.075004\n",
       "2022-10-13 16:59:00  0.766592 -0.075007\n",
       "\n",
       "[20000 rows x 2 columns]"
      ]
     },
     "execution_count": 14,
     "metadata": {},
     "output_type": "execute_result"
    }
   ],
   "source": [
    "test"
   ]
  },
  {
   "cell_type": "code",
   "execution_count": 15,
   "metadata": {},
   "outputs": [
    {
     "data": {
      "text/plain": [
       "array([ 1.2691, -1.5893,  3.1733, ..., -0.0013, -0.075 , -0.075 ])"
      ]
     },
     "execution_count": 15,
     "metadata": {},
     "output_type": "execute_result"
    }
   ],
   "source": [
    "## CRIA UM ARRAY COM OS VALORES DE FECHAMENTO\n",
    "#p = data[symbol].values ## Valores brutos\n",
    "train = data['r'].values ## Valores dos retornos\n",
    "train"
   ]
  },
  {
   "cell_type": "code",
   "execution_count": 16,
   "metadata": {},
   "outputs": [
    {
     "data": {
      "text/plain": [
       "array([[ 1.2691],\n",
       "       [-1.5893],\n",
       "       [ 3.1733],\n",
       "       ...,\n",
       "       [-0.0013],\n",
       "       [-0.075 ],\n",
       "       [-0.075 ]])"
      ]
     },
     "execution_count": 16,
     "metadata": {},
     "output_type": "execute_result"
    }
   ],
   "source": [
    "## TRASNFORMA P QUE É 'UMA LINHA COM VARIAS COLUNAS' EM 'UMA COLUNA COM VARIAS LINHAS'\n",
    "train = train.reshape((len(train), -1))\n",
    "train"
   ]
  },
  {
   "cell_type": "code",
   "execution_count": 17,
   "metadata": {},
   "outputs": [],
   "source": [
    "lags = 5"
   ]
  },
  {
   "cell_type": "code",
   "execution_count": 18,
   "metadata": {},
   "outputs": [],
   "source": [
    "### TRANSFORMA O P EM UMA SERIE TEMPORAL TENSORFLOW PARA SER TREINADA\n",
    "g = TimeseriesGenerator(train, train, length=lags, batch_size=5)"
   ]
  },
  {
   "cell_type": "code",
   "execution_count": 19,
   "metadata": {},
   "outputs": [
    {
     "name": "stdout",
     "output_type": "stream",
     "text": [
      "(array([[[ 1.2691],\n",
      "        [-1.5893],\n",
      "        [ 3.1733],\n",
      "        [ 1.1084],\n",
      "        [ 2.8489]],\n",
      "\n",
      "       [[-1.5893],\n",
      "        [ 3.1733],\n",
      "        [ 1.1084],\n",
      "        [ 2.8489],\n",
      "        [ 0.0778]],\n",
      "\n",
      "       [[ 3.1733],\n",
      "        [ 1.1084],\n",
      "        [ 2.8489],\n",
      "        [ 0.0778],\n",
      "        [-1.5049]],\n",
      "\n",
      "       [[ 1.1084],\n",
      "        [ 2.8489],\n",
      "        [ 0.0778],\n",
      "        [-1.5049],\n",
      "        [-1.4269]],\n",
      "\n",
      "       [[ 2.8489],\n",
      "        [ 0.0778],\n",
      "        [-1.5049],\n",
      "        [-1.4269],\n",
      "        [ 0.2364]]]),\n",
      " array([[ 0.0778],\n",
      "       [-1.5049],\n",
      "       [-1.4269],\n",
      "       [ 0.2364],\n",
      "       [-2.0624]]))\n"
     ]
    }
   ],
   "source": [
    "pprint(list(g)[0])"
   ]
  },
  {
   "cell_type": "code",
   "execution_count": 20,
   "metadata": {},
   "outputs": [],
   "source": [
    "### FUNÇÃO PARA CRIAR MODELOS\n",
    "### DEPOIS ALTERAR PARA MODELO FIXO E NÃO A PARTIR DE FUNÇÃO\n",
    "def create_deep_rnn_model(hl=2, hu=100, layer='SimpleRNN',\n",
    "                          optimizer='rmsprop', features=1,\n",
    "                          dropout=False, rate=0.3, seed=100):\n",
    "    if hl <= 2: hl = 2\n",
    "    if layer == 'SimpleRNN':\n",
    "        layer = SimpleRNN\n",
    "    else:\n",
    "        layer = LSTM\n",
    "    model = Sequential()\n",
    "    model.add(layer(hu, input_shape=(lags, features),\n",
    "                     return_sequences=True,\n",
    "                    ))\n",
    "    if dropout:\n",
    "        model.add(Dropout(rate, seed=seed))\n",
    "    for _ in range(2, hl):\n",
    "        model.add(layer(hu, return_sequences=True))\n",
    "        if dropout:\n",
    "            model.add(Dropout(rate, seed=seed))\n",
    "    model.add(layer(hu))\n",
    "    model.add(Dense(1, activation=None))\n",
    "    model.compile(optimizer='adam',loss='mse',metrics=['mae'])\n",
    "    return model"
   ]
  },
  {
   "cell_type": "code",
   "execution_count": null,
   "metadata": {},
   "outputs": [],
   "source": [
    "### FUNÇÃO PARA CRIAR MODELOS\n",
    "### DEPOIS ALTERAR PARA MODELO FIXO E NÃO A PARTIR DE FUNÇÃO\n",
    "hu=100\n",
    "features=1,\n",
    "rate=0.3\n",
    "seed=100\n",
    "layer = LSTM\n",
    "\n",
    "model = Sequential()\n",
    "model.add(layer(hu, input_shape=(lags, features),return_sequences=True))\n",
    "model.add(layer(hu, return_sequences=True))\n",
    "model.add(Dropout(rate, seed=seed))\n",
    "model.add(layer(hu))\n",
    "model.add(Dense(1, activation=None))\n",
    "model.compile(optimizer='adam',loss='mse')"
   ]
  },
  {
   "cell_type": "code",
   "execution_count": null,
   "metadata": {},
   "outputs": [],
   "source": [
    "#model = Sequential()\n",
    "#model.add(SimpleRNN(500, activation='relu', input_shape=(lags, 1)))\n",
    "#model.add(Dense(1, activation='linear'))\n",
    "#model.compile(optimizer='rmsprop', loss='mse', metrics=['mae'])"
   ]
  },
  {
   "cell_type": "code",
   "execution_count": 21,
   "metadata": {},
   "outputs": [],
   "source": [
    "## CRIA O MODELO A APARTIR DA FUNÇÃO\n",
    "set_seeds()\n",
    "model = create_deep_rnn_model(\n",
    "            hl=2, hu=50, layer='LSTM',\n",
    "            features=len(data.columns),\n",
    "            dropout=True, rate=0.3)"
   ]
  },
  {
   "cell_type": "code",
   "execution_count": 22,
   "metadata": {},
   "outputs": [
    {
     "name": "stdout",
     "output_type": "stream",
     "text": [
      "Model: \"sequential\"\n",
      "_________________________________________________________________\n",
      "Layer (type)                 Output Shape              Param #   \n",
      "=================================================================\n",
      "lstm (LSTM)                  (None, 5, 50)             10600     \n",
      "_________________________________________________________________\n",
      "dropout (Dropout)            (None, 5, 50)             0         \n",
      "_________________________________________________________________\n",
      "lstm_1 (LSTM)                (None, 50)                20200     \n",
      "_________________________________________________________________\n",
      "dense (Dense)                (None, 1)                 51        \n",
      "=================================================================\n",
      "Total params: 30,851\n",
      "Trainable params: 30,851\n",
      "Non-trainable params: 0\n",
      "_________________________________________________________________\n"
     ]
    }
   ],
   "source": [
    "### VIZUALIZA O MODELO QUE SERÁ USADO PARA TREINAR A SERIE G\n",
    "model.summary()"
   ]
  },
  {
   "cell_type": "code",
   "execution_count": 24,
   "metadata": {},
   "outputs": [
    {
     "name": "stdout",
     "output_type": "stream",
     "text": [
      "CPU times: total: 1min 34s\n",
      "Wall time: 1min 20s\n"
     ]
    },
    {
     "data": {
      "text/plain": [
       "<keras.callbacks.History at 0x12fdd0f1a00>"
      ]
     },
     "execution_count": 24,
     "metadata": {},
     "output_type": "execute_result"
    }
   ],
   "source": [
    "%%time\n",
    "### TREINA DA SERIE G A PARTIR DO MODELO\n",
    "model.fit(g, epochs=500, steps_per_epoch=10, verbose=False)"
   ]
  },
  {
   "cell_type": "code",
   "execution_count": 25,
   "metadata": {
    "scrolled": true
   },
   "outputs": [
    {
     "data": {
      "text/html": [
       "<div>\n",
       "<style scoped>\n",
       "    .dataframe tbody tr th:only-of-type {\n",
       "        vertical-align: middle;\n",
       "    }\n",
       "\n",
       "    .dataframe tbody tr th {\n",
       "        vertical-align: top;\n",
       "    }\n",
       "\n",
       "    .dataframe thead th {\n",
       "        text-align: right;\n",
       "    }\n",
       "</style>\n",
       "<table border=\"1\" class=\"dataframe\">\n",
       "  <thead>\n",
       "    <tr style=\"text-align: right;\">\n",
       "      <th></th>\n",
       "      <th>loss</th>\n",
       "      <th>mse</th>\n",
       "    </tr>\n",
       "  </thead>\n",
       "  <tbody>\n",
       "    <tr>\n",
       "      <th>497</th>\n",
       "      <td>0.453893</td>\n",
       "      <td>0.453893</td>\n",
       "    </tr>\n",
       "    <tr>\n",
       "      <th>498</th>\n",
       "      <td>0.640431</td>\n",
       "      <td>0.640431</td>\n",
       "    </tr>\n",
       "    <tr>\n",
       "      <th>499</th>\n",
       "      <td>0.688985</td>\n",
       "      <td>0.688985</td>\n",
       "    </tr>\n",
       "  </tbody>\n",
       "</table>\n",
       "</div>"
      ],
      "text/plain": [
       "         loss       mse\n",
       "497  0.453893  0.453893\n",
       "498  0.640431  0.640431\n",
       "499  0.688985  0.688985"
      ]
     },
     "execution_count": 25,
     "metadata": {},
     "output_type": "execute_result"
    }
   ],
   "source": [
    "### INFORMAÇÔES DO TREINO\n",
    "res = pd.DataFrame(model.history.history)\n",
    "res.tail(3)"
   ]
  },
  {
   "cell_type": "code",
   "execution_count": 26,
   "metadata": {},
   "outputs": [
    {
     "data": {
      "image/png": "[encoded data removed]",
      "text/plain": [
       "<Figure size 1000x600 with 1 Axes>"
      ]
     },
     "metadata": {},
     "output_type": "display_data"
    }
   ],
   "source": [
    "res.iloc[10:].plot(figsize=(10, 6), style=['--', '--']);"
   ]
  },
  {
   "cell_type": "code",
   "execution_count": 27,
   "metadata": {},
   "outputs": [],
   "source": [
    "### CRIA UMA SERIE COM OS VALORES PARA SER TESTADO\n",
    "g_ = TimeseriesGenerator(test.values, test['r'].values,\n",
    "                         length=lags, batch_size=5)"
   ]
  },
  {
   "cell_type": "code",
   "execution_count": 28,
   "metadata": {
    "scrolled": false
   },
   "outputs": [
    {
     "name": "stdout",
     "output_type": "stream",
     "text": [
      "CPU times: total: 17.7 s\n",
      "Wall time: 14.4 s\n"
     ]
    }
   ],
   "source": [
    "%%time\n",
    "### ACHATA AS PREVISÕES PARA UM ARRAY\n",
    "y = model.predict(g_).flatten()"
   ]
  },
  {
   "cell_type": "code",
   "execution_count": 29,
   "metadata": {},
   "outputs": [
    {
     "data": {
      "text/plain": [
       "19995"
      ]
     },
     "execution_count": 29,
     "metadata": {},
     "output_type": "execute_result"
    }
   ],
   "source": [
    "len(y)"
   ]
  },
  {
   "cell_type": "code",
   "execution_count": null,
   "metadata": {},
   "outputs": [],
   "source": []
  },
  {
   "cell_type": "code",
   "execution_count": 30,
   "metadata": {},
   "outputs": [],
   "source": [
    "test['pred'] = np.nan\n",
    "test['pred'].iloc[lags:] = y"
   ]
  },
  {
   "cell_type": "code",
   "execution_count": 32,
   "metadata": {
    "scrolled": true
   },
   "outputs": [
    {
     "data": {
      "image/png": "[encoded data removed]",
      "text/plain": [
       "<Figure size 1000x600 with 1 Axes>"
      ]
     },
     "metadata": {},
     "output_type": "display_data"
    }
   ],
   "source": [
    "test[['r', 'pred']].iloc[50:100].plot(\n",
    "            figsize=(10, 6), style=['b', 'r-.'],\n",
    "            alpha=0.75);"
   ]
  },
  {
   "cell_type": "code",
   "execution_count": null,
   "metadata": {},
   "outputs": [],
   "source": [
    "test[['r', 'pred']].plot(\n",
    "            figsize=(10, 6), style=['b', 'r-.'],\n",
    "            alpha=0.75);"
   ]
  },
  {
   "cell_type": "code",
   "execution_count": 33,
   "metadata": {},
   "outputs": [
    {
     "data": {
      "text/plain": [
       "0.4865716429107277"
      ]
     },
     "execution_count": 33,
     "metadata": {},
     "output_type": "execute_result"
    }
   ],
   "source": [
    "### MEDE A ACURACIA DO MODELO\n",
    "## REMOVE OS NA\n",
    "test.dropna(inplace=True)\n",
    "accuracy_score(np.sign(test['r']), np.sign(test['pred']))"
   ]
  },
  {
   "cell_type": "code",
   "execution_count": 35,
   "metadata": {},
   "outputs": [
    {
     "data": {
      "text/html": [
       "<div>\n",
       "<style scoped>\n",
       "    .dataframe tbody tr th:only-of-type {\n",
       "        vertical-align: middle;\n",
       "    }\n",
       "\n",
       "    .dataframe tbody tr th {\n",
       "        vertical-align: top;\n",
       "    }\n",
       "\n",
       "    .dataframe thead th {\n",
       "        text-align: right;\n",
       "    }\n",
       "</style>\n",
       "<table border=\"1\" class=\"dataframe\">\n",
       "  <thead>\n",
       "    <tr style=\"text-align: right;\">\n",
       "      <th></th>\n",
       "      <th>WIN_N</th>\n",
       "      <th>r</th>\n",
       "    </tr>\n",
       "    <tr>\n",
       "      <th>time</th>\n",
       "      <th></th>\n",
       "      <th></th>\n",
       "    </tr>\n",
       "  </thead>\n",
       "  <tbody>\n",
       "    <tr>\n",
       "      <th>2022-01-18 11:39:00</th>\n",
       "      <td>-0.620366</td>\n",
       "      <td>1.269051</td>\n",
       "    </tr>\n",
       "    <tr>\n",
       "      <th>2022-01-18 11:40:00</th>\n",
       "      <td>-0.637436</td>\n",
       "      <td>-1.589288</td>\n",
       "    </tr>\n",
       "    <tr>\n",
       "      <th>2022-01-18 11:41:00</th>\n",
       "      <td>-0.603296</td>\n",
       "      <td>3.173323</td>\n",
       "    </tr>\n",
       "    <tr>\n",
       "      <th>2022-01-18 11:42:00</th>\n",
       "      <td>-0.591347</td>\n",
       "      <td>1.108444</td>\n",
       "    </tr>\n",
       "    <tr>\n",
       "      <th>2022-01-18 11:43:00</th>\n",
       "      <td>-0.560620</td>\n",
       "      <td>2.848925</td>\n",
       "    </tr>\n",
       "    <tr>\n",
       "      <th>...</th>\n",
       "      <td>...</td>\n",
       "      <td>...</td>\n",
       "    </tr>\n",
       "    <tr>\n",
       "      <th>2022-10-13 16:55:00</th>\n",
       "      <td>0.767445</td>\n",
       "      <td>-0.075004</td>\n",
       "    </tr>\n",
       "    <tr>\n",
       "      <th>2022-10-13 16:56:00</th>\n",
       "      <td>0.768299</td>\n",
       "      <td>0.072492</td>\n",
       "    </tr>\n",
       "    <tr>\n",
       "      <th>2022-10-13 16:57:00</th>\n",
       "      <td>0.768299</td>\n",
       "      <td>-0.001256</td>\n",
       "    </tr>\n",
       "    <tr>\n",
       "      <th>2022-10-13 16:58:00</th>\n",
       "      <td>0.767445</td>\n",
       "      <td>-0.075004</td>\n",
       "    </tr>\n",
       "    <tr>\n",
       "      <th>2022-10-13 16:59:00</th>\n",
       "      <td>0.766592</td>\n",
       "      <td>-0.075007</td>\n",
       "    </tr>\n",
       "  </tbody>\n",
       "</table>\n",
       "<p>99998 rows × 2 columns</p>\n",
       "</div>"
      ],
      "text/plain": [
       "                        WIN_N         r\n",
       "time                                   \n",
       "2022-01-18 11:39:00 -0.620366  1.269051\n",
       "2022-01-18 11:40:00 -0.637436 -1.589288\n",
       "2022-01-18 11:41:00 -0.603296  3.173323\n",
       "2022-01-18 11:42:00 -0.591347  1.108444\n",
       "2022-01-18 11:43:00 -0.560620  2.848925\n",
       "...                       ...       ...\n",
       "2022-10-13 16:55:00  0.767445 -0.075004\n",
       "2022-10-13 16:56:00  0.768299  0.072492\n",
       "2022-10-13 16:57:00  0.768299 -0.001256\n",
       "2022-10-13 16:58:00  0.767445 -0.075004\n",
       "2022-10-13 16:59:00  0.766592 -0.075007\n",
       "\n",
       "[99998 rows x 2 columns]"
      ]
     },
     "execution_count": 35,
     "metadata": {},
     "output_type": "execute_result"
    }
   ],
   "source": [
    "data"
   ]
  },
  {
   "cell_type": "code",
   "execution_count": 36,
   "metadata": {},
   "outputs": [
    {
     "data": {
      "text/plain": [
       "array([[ 1.2691],\n",
       "       [-1.5893],\n",
       "       [ 3.1733],\n",
       "       ...,\n",
       "       [-0.0013],\n",
       "       [-0.075 ],\n",
       "       [-0.075 ]])"
      ]
     },
     "execution_count": 36,
     "metadata": {},
     "output_type": "execute_result"
    }
   ],
   "source": [
    "train"
   ]
  },
  {
   "cell_type": "code",
   "execution_count": 37,
   "metadata": {},
   "outputs": [
    {
     "data": {
      "text/html": [
       "<div>\n",
       "<style scoped>\n",
       "    .dataframe tbody tr th:only-of-type {\n",
       "        vertical-align: middle;\n",
       "    }\n",
       "\n",
       "    .dataframe tbody tr th {\n",
       "        vertical-align: top;\n",
       "    }\n",
       "\n",
       "    .dataframe thead th {\n",
       "        text-align: right;\n",
       "    }\n",
       "</style>\n",
       "<table border=\"1\" class=\"dataframe\">\n",
       "  <thead>\n",
       "    <tr style=\"text-align: right;\">\n",
       "      <th></th>\n",
       "      <th>WIN_N</th>\n",
       "      <th>r</th>\n",
       "      <th>pred</th>\n",
       "    </tr>\n",
       "    <tr>\n",
       "      <th>time</th>\n",
       "      <th></th>\n",
       "      <th></th>\n",
       "      <th></th>\n",
       "    </tr>\n",
       "  </thead>\n",
       "  <tbody>\n",
       "    <tr>\n",
       "      <th>2022-08-19 12:03:00</th>\n",
       "      <td>0.544679</td>\n",
       "      <td>-0.523352</td>\n",
       "      <td>0.011851</td>\n",
       "    </tr>\n",
       "    <tr>\n",
       "      <th>2022-08-19 12:04:00</th>\n",
       "      <td>0.530169</td>\n",
       "      <td>-1.269874</td>\n",
       "      <td>0.011222</td>\n",
       "    </tr>\n",
       "    <tr>\n",
       "      <th>2022-08-19 12:05:00</th>\n",
       "      <td>0.536997</td>\n",
       "      <td>0.595860</td>\n",
       "      <td>0.005132</td>\n",
       "    </tr>\n",
       "    <tr>\n",
       "      <th>2022-08-19 12:06:00</th>\n",
       "      <td>0.535290</td>\n",
       "      <td>-0.150515</td>\n",
       "      <td>0.006000</td>\n",
       "    </tr>\n",
       "    <tr>\n",
       "      <th>2022-08-19 12:07:00</th>\n",
       "      <td>0.523341</td>\n",
       "      <td>-1.046438</td>\n",
       "      <td>0.007948</td>\n",
       "    </tr>\n",
       "    <tr>\n",
       "      <th>...</th>\n",
       "      <td>...</td>\n",
       "      <td>...</td>\n",
       "      <td>...</td>\n",
       "    </tr>\n",
       "    <tr>\n",
       "      <th>2022-10-13 16:55:00</th>\n",
       "      <td>0.767445</td>\n",
       "      <td>-0.075004</td>\n",
       "      <td>0.016316</td>\n",
       "    </tr>\n",
       "    <tr>\n",
       "      <th>2022-10-13 16:56:00</th>\n",
       "      <td>0.768299</td>\n",
       "      <td>0.072492</td>\n",
       "      <td>0.016271</td>\n",
       "    </tr>\n",
       "    <tr>\n",
       "      <th>2022-10-13 16:57:00</th>\n",
       "      <td>0.768299</td>\n",
       "      <td>-0.001256</td>\n",
       "      <td>0.016322</td>\n",
       "    </tr>\n",
       "    <tr>\n",
       "      <th>2022-10-13 16:58:00</th>\n",
       "      <td>0.767445</td>\n",
       "      <td>-0.075004</td>\n",
       "      <td>0.016431</td>\n",
       "    </tr>\n",
       "    <tr>\n",
       "      <th>2022-10-13 16:59:00</th>\n",
       "      <td>0.766592</td>\n",
       "      <td>-0.075007</td>\n",
       "      <td>0.016284</td>\n",
       "    </tr>\n",
       "  </tbody>\n",
       "</table>\n",
       "<p>19995 rows × 3 columns</p>\n",
       "</div>"
      ],
      "text/plain": [
       "                        WIN_N         r      pred\n",
       "time                                             \n",
       "2022-08-19 12:03:00  0.544679 -0.523352  0.011851\n",
       "2022-08-19 12:04:00  0.530169 -1.269874  0.011222\n",
       "2022-08-19 12:05:00  0.536997  0.595860  0.005132\n",
       "2022-08-19 12:06:00  0.535290 -0.150515  0.006000\n",
       "2022-08-19 12:07:00  0.523341 -1.046438  0.007948\n",
       "...                       ...       ...       ...\n",
       "2022-10-13 16:55:00  0.767445 -0.075004  0.016316\n",
       "2022-10-13 16:56:00  0.768299  0.072492  0.016271\n",
       "2022-10-13 16:57:00  0.768299 -0.001256  0.016322\n",
       "2022-10-13 16:58:00  0.767445 -0.075004  0.016431\n",
       "2022-10-13 16:59:00  0.766592 -0.075007  0.016284\n",
       "\n",
       "[19995 rows x 3 columns]"
      ]
     },
     "execution_count": 37,
     "metadata": {},
     "output_type": "execute_result"
    }
   ],
   "source": [
    "test"
   ]
  },
  {
   "cell_type": "code",
   "execution_count": 34,
   "metadata": {},
   "outputs": [
    {
     "data": {
      "image/png": "[encoded data removed]",
      "text/plain": [
       "<Figure size 1000x600 with 1 Axes>"
      ]
     },
     "metadata": {},
     "output_type": "display_data"
    }
   ],
   "source": []
  },
  {
   "cell_type": "code",
   "execution_count": null,
   "metadata": {},
   "outputs": [],
   "source": []
  }
 ],
 "metadata": {
  "kernelspec": {
   "display_name": "Python 3 (ipykernel)",
   "language": "python",
   "name": "python3"
  },
  "language_info": {
   "codemirror_mode": {
    "name": "ipython",
    "version": 3
   },
   "file_extension": ".py",
   "mimetype": "text/x-python",
   "name": "python",
   "nbconvert_exporter": "python",
   "pygments_lexer": "ipython3",
   "version": "3.9.13"
  }
 },
 "nbformat": 4,
 "nbformat_minor": 4
}
