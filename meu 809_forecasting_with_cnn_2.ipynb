{
 "cells": [
  {
   "cell_type": "markdown",
   "metadata": {
    "id": "vidayERjaO5q"
   },
   "source": [
    "## Setup"
   ]
  },
  {
   "cell_type": "code",
   "execution_count": null,
   "metadata": {
    "id": "gqWabzlJ63nL"
   },
   "outputs": [],
   "source": [
    "import numpy as np\n",
    "import matplotlib.pyplot as plt\n",
    "import pandas as pd\n",
    "\n",
    "import tensorflow as tf\n",
    "keras = tf.keras"
   ]
  },
  {
   "cell_type": "code",
   "execution_count": null,
   "metadata": {},
   "outputs": [],
   "source": [
    "from tensorflow.keras.preprocessing.sequence import TimeseriesGenerator"
   ]
  },
  {
   "cell_type": "code",
   "execution_count": null,
   "metadata": {},
   "outputs": [],
   "source": [
    "tf.test.is_built_with_cuda()"
   ]
  },
  {
   "cell_type": "code",
   "execution_count": null,
   "metadata": {
    "id": "cg1hfKCPldZG"
   },
   "outputs": [],
   "source": [
    "def seq2seq_window_dataset(series, window_size, batch_size=32):\n",
    "    series = tf.expand_dims(series, axis=-1)\n",
    "    ds = tf.data.Dataset.from_tensor_slices(series)\n",
    "    ds = ds.window(window_size + 1, shift=1, drop_remainder=True)\n",
    "    ds = ds.flat_map(lambda w: w.batch(window_size + 1))\n",
    "    ds = ds.map(lambda w: (w[:-1], w[1:]))\n",
    "    return ds.batch(batch_size).prefetch(1)\n",
    "  \n",
    "\n",
    "def model_forecast(model, series, window_size):\n",
    "    ds = tf.data.Dataset.from_tensor_slices(series)\n",
    "    ds = ds.window(window_size, shift=1, drop_remainder=True)\n",
    "    ds = ds.flat_map(lambda w: w.batch(window_size))\n",
    "    ds = ds.batch(32).prefetch(1)\n",
    "    forecast = model.predict(ds)\n",
    "    return forecast"
   ]
  },
  {
   "cell_type": "code",
   "execution_count": null,
   "metadata": {},
   "outputs": [],
   "source": [
    "path = r'C:\\Users\\adria\\1Python\\Meu_novo_projeto\\WIN_N_1K\\WIN_N_1k.csv'\n",
    "raw = pd.read_csv(path, index_col=0, parse_dates=True)"
   ]
  },
  {
   "cell_type": "code",
   "execution_count": null,
   "metadata": {},
   "outputs": [],
   "source": [
    "df = pd.DataFrame()"
   ]
  },
  {
   "cell_type": "code",
   "execution_count": null,
   "metadata": {},
   "outputs": [],
   "source": [
    "df['close'] = (raw['high'] + raw['low']) / 2"
   ]
  },
  {
   "cell_type": "code",
   "execution_count": null,
   "metadata": {},
   "outputs": [],
   "source": [
    "media_movel = df['close'].rolling(window=2).mean()"
   ]
  },
  {
   "cell_type": "code",
   "execution_count": null,
   "metadata": {},
   "outputs": [],
   "source": [
    "df['media_movel'] = media_movel"
   ]
  },
  {
   "cell_type": "code",
   "execution_count": null,
   "metadata": {
    "scrolled": true
   },
   "outputs": [],
   "source": [
    "df"
   ]
  },
  {
   "cell_type": "code",
   "execution_count": null,
   "metadata": {},
   "outputs": [],
   "source": [
    "df['r'] = df['media_movel'].pct_change()"
   ]
  },
  {
   "cell_type": "code",
   "execution_count": null,
   "metadata": {},
   "outputs": [],
   "source": [
    "df = df.dropna()\n",
    "\n",
    "series = df['r'].values\n",
    "\n",
    "time = np.arange(len(series))"
   ]
  },
  {
   "cell_type": "code",
   "execution_count": null,
   "metadata": {},
   "outputs": [],
   "source": [
    "#################\n",
    "\n",
    "#df = pd.DataFrame()\n",
    "#df['close'] = (raw['high'] + raw['low']) / 2\n",
    "#media_movel = df['close'].rolling(window=2).mean()\n",
    "#df['media_movel'] = media_movel\n",
    "\n",
    "#df['r'] = df['close'].pct_change()\n",
    "\n",
    "#df = df.dropna()\n",
    "\n",
    "#series = df['r'].values\n",
    "\n",
    "#time = np.arange(len(series))"
   ]
  },
  {
   "cell_type": "code",
   "execution_count": null,
   "metadata": {
    "id": "Zmp1JXKxk9Vb"
   },
   "outputs": [],
   "source": [
    "split_time = 70000\n",
    "time_train = time[:split_time]\n",
    "x_train = series[:split_time]\n",
    "time_valid = time[split_time:]\n",
    "x_valid = series[split_time:]"
   ]
  },
  {
   "cell_type": "code",
   "execution_count": null,
   "metadata": {},
   "outputs": [],
   "source": [
    "def sequential_window_dataset(series, window_size):\n",
    "    series = tf.expand_dims(series, axis=-1)\n",
    "    ds = tf.data.Dataset.from_tensor_slices(series)\n",
    "    ds = ds.window(window_size + 1, shift=window_size, drop_remainder=True)\n",
    "    ds = ds.flat_map(lambda window: window.batch(window_size + 1))\n",
    "    ds = ds.map(lambda window: (window[:-1], window[1:]))\n",
    "    return ds.batch(1).prefetch(1)"
   ]
  },
  {
   "cell_type": "code",
   "execution_count": null,
   "metadata": {},
   "outputs": [],
   "source": [
    "class ResetStatesCallback(keras.callbacks.Callback):\n",
    "    def on_epoch_begin(self, epoch, logs):\n",
    "        self.model.reset_states()"
   ]
  },
  {
   "cell_type": "markdown",
   "metadata": {
    "id": "kfPTmghd8OJe"
   },
   "source": [
    "## WaveNet"
   ]
  },
  {
   "cell_type": "code",
   "execution_count": null,
   "metadata": {
    "id": "WVrxlzbk8OJg",
    "scrolled": false
   },
   "outputs": [],
   "source": [
    "%%time\n",
    "keras.backend.clear_session()\n",
    "tf.random.set_seed(42)\n",
    "np.random.seed(42)\n",
    "\n",
    "window_size = 30\n",
    "train_set = sequential_window_dataset(x_train, window_size)\n",
    "valid_set = sequential_window_dataset(x_valid, window_size)\n",
    "\n",
    "model = keras.models.Sequential([\n",
    "  keras.layers.LSTM(100, return_sequences=True, stateful=True,\n",
    "                         batch_input_shape=[1, None, 1]),\n",
    "  keras.layers.LSTM(100, return_sequences=True, stateful=True),\n",
    "  keras.layers.Dense(1),\n",
    "])\n",
    "optimizer = keras.optimizers.Adam()\n",
    "model.compile(loss=keras.losses.Huber(),\n",
    "              optimizer=optimizer,\n",
    "              metrics=[\"mse\"])\n",
    "reset_states = ResetStatesCallback()\n",
    "model_checkpoint = keras.callbacks.ModelCheckpoint(\n",
    "    \"my_checkpoint.h5\", save_best_only=True)\n",
    "early_stopping = keras.callbacks.EarlyStopping(patience=50)\n",
    "model.fit(train_set, epochs=200,\n",
    "          validation_data=valid_set,\n",
    "          callbacks=[early_stopping, model_checkpoint, reset_states])"
   ]
  },
  {
   "cell_type": "code",
   "execution_count": null,
   "metadata": {
    "id": "eNwWZB0d8OJh"
   },
   "outputs": [],
   "source": [
    "model = keras.models.load_model(\"my_checkpoint.h5\")"
   ]
  },
  {
   "cell_type": "code",
   "execution_count": null,
   "metadata": {
    "id": "PgYwn9VM8OJi"
   },
   "outputs": [],
   "source": [
    "cnn_forecast = model_forecast(model, series[..., np.newaxis], window_size)\n",
    "cnn_forecast = cnn_forecast[split_time - window_size:-1, -1, 0]"
   ]
  },
  {
   "cell_type": "code",
   "execution_count": null,
   "metadata": {},
   "outputs": [],
   "source": []
  },
  {
   "cell_type": "code",
   "execution_count": null,
   "metadata": {
    "id": "MCgshNPx8OJi"
   },
   "outputs": [],
   "source": [
    "plt.figure(figsize=(10, 6))\n",
    "plot_series(time_valid, x_valid)\n",
    "plot_series(time_valid, cnn_forecast)"
   ]
  },
  {
   "cell_type": "code",
   "execution_count": null,
   "metadata": {
    "id": "epK1gFEN8OJj"
   },
   "outputs": [],
   "source": [
    "keras.metrics.mean_absolute_error(x_valid, cnn_forecast).numpy()"
   ]
  },
  {
   "cell_type": "code",
   "execution_count": null,
   "metadata": {},
   "outputs": [],
   "source": [
    "keras.metrics.mean_squared_error(x_valid, cnn_forecast).numpy()"
   ]
  },
  {
   "cell_type": "code",
   "execution_count": null,
   "metadata": {},
   "outputs": [],
   "source": [
    "df2 = pd.DataFrame()\n",
    "\n",
    "df2['diff_moving_avg_plus_past'] = cnn_forecast\n",
    "df2['x_valid'] = x_valid\n",
    "\n",
    "ultimo_preco_fechamento = 113630.0\n",
    "\n",
    "df2['preco_valid'] = (1 + df2['x_valid']).cumprod()\n",
    "df2['preco_valid'] = ultimo_preco_fechamento * df2['preco_valid']\n",
    "\n",
    "df2['desr_prev'] = (1 + df2['diff_moving_avg_plus_past']).cumprod()\n",
    "df2['desr_prev'] = ultimo_preco_fechamento * df2['desr_prev']"
   ]
  },
  {
   "cell_type": "code",
   "execution_count": null,
   "metadata": {},
   "outputs": [],
   "source": [
    "df2"
   ]
  },
  {
   "cell_type": "code",
   "execution_count": null,
   "metadata": {},
   "outputs": [],
   "source": [
    "len(x_valid)"
   ]
  },
  {
   "cell_type": "code",
   "execution_count": null,
   "metadata": {},
   "outputs": [],
   "source": [
    "len(x_train)"
   ]
  },
  {
   "cell_type": "code",
   "execution_count": null,
   "metadata": {},
   "outputs": [],
   "source": [
    "df2['diff'] = df2['preco_valid']-df2['desr_prev']"
   ]
  },
  {
   "cell_type": "code",
   "execution_count": null,
   "metadata": {},
   "outputs": [],
   "source": [
    "df2['diff'].mean()"
   ]
  },
  {
   "cell_type": "code",
   "execution_count": null,
   "metadata": {},
   "outputs": [],
   "source": []
  }
 ],
 "metadata": {
  "accelerator": "GPU",
  "colab": {
   "collapsed_sections": [
    "vidayERjaO5q"
   ],
   "name": "l08c09_forecasting_with_cnn.ipynb",
   "toc_visible": true
  },
  "kernelspec": {
   "display_name": "Python 3 (ipykernel)",
   "language": "python",
   "name": "python3"
  },
  "language_info": {
   "codemirror_mode": {
    "name": "ipython",
    "version": 3
   },
   "file_extension": ".py",
   "mimetype": "text/x-python",
   "name": "python",
   "nbconvert_exporter": "python",
   "pygments_lexer": "ipython3",
   "version": "3.9.16"
  }
 },
 "nbformat": 4,
 "nbformat_minor": 1
}
