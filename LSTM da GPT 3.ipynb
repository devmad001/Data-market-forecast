{
 "cells": [
  {
   "cell_type": "code",
   "execution_count": 1,
   "id": "17e8abdf",
   "metadata": {},
   "outputs": [],
   "source": [
    "import numpy as np\n",
    "import pandas as pd\n",
    "import tensorflow as tf\n",
    "import matplotlib.pyplot as plt\n",
    "\n",
    "from tensorflow.keras.models import Sequential\n",
    "from tensorflow.keras.layers import LSTM, Dense, Dropout\n",
    "from tensorflow.keras.preprocessing.sequence import TimeseriesGenerator\n",
    "from tensorflow.keras.callbacks import ModelCheckpoint, EarlyStopping\n",
    "from sklearn.metrics import mean_absolute_error, mean_squared_error, r2_score\n"
   ]
  },
  {
   "cell_type": "code",
   "execution_count": 2,
   "id": "74e78fd7",
   "metadata": {
    "scrolled": true
   },
   "outputs": [
    {
     "data": {
      "text/plain": [
       "True"
      ]
     },
     "execution_count": 2,
     "metadata": {},
     "output_type": "execute_result"
    }
   ],
   "source": [
    "tf.test.is_built_with_cuda()"
   ]
  },
  {
   "cell_type": "markdown",
   "id": "0d12ace9",
   "metadata": {},
   "source": [
    "# Tratamento de Dados"
   ]
  },
  {
   "cell_type": "markdown",
   "id": "537d7bfb",
   "metadata": {},
   "source": [
    "## Dados cru"
   ]
  },
  {
   "cell_type": "code",
   "execution_count": 3,
   "id": "0a5ff79c",
   "metadata": {},
   "outputs": [],
   "source": [
    "path = r'C:\\Users\\adria\\1Python\\Meu_novo_projeto\\WIN_N_1K\\WIN_N_1k.csv'\n",
    "raw = pd.read_csv(path, index_col=0, parse_dates=True)"
   ]
  },
  {
   "cell_type": "code",
   "execution_count": 4,
   "id": "11f760d7",
   "metadata": {
    "scrolled": true
   },
   "outputs": [
    {
     "data": {
      "text/html": [
       "<div>\n",
       "<style scoped>\n",
       "    .dataframe tbody tr th:only-of-type {\n",
       "        vertical-align: middle;\n",
       "    }\n",
       "\n",
       "    .dataframe tbody tr th {\n",
       "        vertical-align: top;\n",
       "    }\n",
       "\n",
       "    .dataframe thead th {\n",
       "        text-align: right;\n",
       "    }\n",
       "</style>\n",
       "<table border=\"1\" class=\"dataframe\">\n",
       "  <thead>\n",
       "    <tr style=\"text-align: right;\">\n",
       "      <th></th>\n",
       "      <th>open</th>\n",
       "      <th>high</th>\n",
       "      <th>low</th>\n",
       "      <th>close</th>\n",
       "      <th>tick_volume</th>\n",
       "      <th>real_volume</th>\n",
       "    </tr>\n",
       "    <tr>\n",
       "      <th>time</th>\n",
       "      <th></th>\n",
       "      <th></th>\n",
       "      <th></th>\n",
       "      <th></th>\n",
       "      <th></th>\n",
       "      <th></th>\n",
       "    </tr>\n",
       "  </thead>\n",
       "  <tbody>\n",
       "    <tr>\n",
       "      <th>2022-01-18 11:38:00</th>\n",
       "      <td>106635.0</td>\n",
       "      <td>106725.0</td>\n",
       "      <td>106610.0</td>\n",
       "      <td>106705.0</td>\n",
       "      <td>17263</td>\n",
       "      <td>64315</td>\n",
       "    </tr>\n",
       "    <tr>\n",
       "      <th>2022-01-18 11:39:00</th>\n",
       "      <td>106710.0</td>\n",
       "      <td>106825.0</td>\n",
       "      <td>106665.0</td>\n",
       "      <td>106785.0</td>\n",
       "      <td>25017</td>\n",
       "      <td>90996</td>\n",
       "    </tr>\n",
       "    <tr>\n",
       "      <th>2022-01-18 11:40:00</th>\n",
       "      <td>106780.0</td>\n",
       "      <td>106860.0</td>\n",
       "      <td>106675.0</td>\n",
       "      <td>106685.0</td>\n",
       "      <td>30803</td>\n",
       "      <td>110379</td>\n",
       "    </tr>\n",
       "    <tr>\n",
       "      <th>2022-01-18 11:41:00</th>\n",
       "      <td>106690.0</td>\n",
       "      <td>106910.0</td>\n",
       "      <td>106665.0</td>\n",
       "      <td>106885.0</td>\n",
       "      <td>30323</td>\n",
       "      <td>112419</td>\n",
       "    </tr>\n",
       "    <tr>\n",
       "      <th>2022-01-18 11:42:00</th>\n",
       "      <td>106880.0</td>\n",
       "      <td>106965.0</td>\n",
       "      <td>106800.0</td>\n",
       "      <td>106955.0</td>\n",
       "      <td>22614</td>\n",
       "      <td>80706</td>\n",
       "    </tr>\n",
       "    <tr>\n",
       "      <th>...</th>\n",
       "      <td>...</td>\n",
       "      <td>...</td>\n",
       "      <td>...</td>\n",
       "      <td>...</td>\n",
       "      <td>...</td>\n",
       "      <td>...</td>\n",
       "    </tr>\n",
       "    <tr>\n",
       "      <th>2022-10-13 16:55:00</th>\n",
       "      <td>114915.0</td>\n",
       "      <td>114920.0</td>\n",
       "      <td>114915.0</td>\n",
       "      <td>114915.0</td>\n",
       "      <td>38</td>\n",
       "      <td>275</td>\n",
       "    </tr>\n",
       "    <tr>\n",
       "      <th>2022-10-13 16:56:00</th>\n",
       "      <td>114920.0</td>\n",
       "      <td>114920.0</td>\n",
       "      <td>114915.0</td>\n",
       "      <td>114920.0</td>\n",
       "      <td>56</td>\n",
       "      <td>240</td>\n",
       "    </tr>\n",
       "    <tr>\n",
       "      <th>2022-10-13 16:57:00</th>\n",
       "      <td>114920.0</td>\n",
       "      <td>114920.0</td>\n",
       "      <td>114915.0</td>\n",
       "      <td>114920.0</td>\n",
       "      <td>42</td>\n",
       "      <td>200</td>\n",
       "    </tr>\n",
       "    <tr>\n",
       "      <th>2022-10-13 16:58:00</th>\n",
       "      <td>114920.0</td>\n",
       "      <td>114920.0</td>\n",
       "      <td>114910.0</td>\n",
       "      <td>114915.0</td>\n",
       "      <td>86</td>\n",
       "      <td>817</td>\n",
       "    </tr>\n",
       "    <tr>\n",
       "      <th>2022-10-13 16:59:00</th>\n",
       "      <td>114915.0</td>\n",
       "      <td>114915.0</td>\n",
       "      <td>114910.0</td>\n",
       "      <td>114910.0</td>\n",
       "      <td>258</td>\n",
       "      <td>779</td>\n",
       "    </tr>\n",
       "  </tbody>\n",
       "</table>\n",
       "<p>99999 rows × 6 columns</p>\n",
       "</div>"
      ],
      "text/plain": [
       "                         open      high       low     close  tick_volume  \\\n",
       "time                                                                       \n",
       "2022-01-18 11:38:00  106635.0  106725.0  106610.0  106705.0        17263   \n",
       "2022-01-18 11:39:00  106710.0  106825.0  106665.0  106785.0        25017   \n",
       "2022-01-18 11:40:00  106780.0  106860.0  106675.0  106685.0        30803   \n",
       "2022-01-18 11:41:00  106690.0  106910.0  106665.0  106885.0        30323   \n",
       "2022-01-18 11:42:00  106880.0  106965.0  106800.0  106955.0        22614   \n",
       "...                       ...       ...       ...       ...          ...   \n",
       "2022-10-13 16:55:00  114915.0  114920.0  114915.0  114915.0           38   \n",
       "2022-10-13 16:56:00  114920.0  114920.0  114915.0  114920.0           56   \n",
       "2022-10-13 16:57:00  114920.0  114920.0  114915.0  114920.0           42   \n",
       "2022-10-13 16:58:00  114920.0  114920.0  114910.0  114915.0           86   \n",
       "2022-10-13 16:59:00  114915.0  114915.0  114910.0  114910.0          258   \n",
       "\n",
       "                     real_volume  \n",
       "time                              \n",
       "2022-01-18 11:38:00        64315  \n",
       "2022-01-18 11:39:00        90996  \n",
       "2022-01-18 11:40:00       110379  \n",
       "2022-01-18 11:41:00       112419  \n",
       "2022-01-18 11:42:00        80706  \n",
       "...                          ...  \n",
       "2022-10-13 16:55:00          275  \n",
       "2022-10-13 16:56:00          240  \n",
       "2022-10-13 16:57:00          200  \n",
       "2022-10-13 16:58:00          817  \n",
       "2022-10-13 16:59:00          779  \n",
       "\n",
       "[99999 rows x 6 columns]"
      ]
     },
     "execution_count": 4,
     "metadata": {},
     "output_type": "execute_result"
    }
   ],
   "source": [
    "raw"
   ]
  },
  {
   "cell_type": "code",
   "execution_count": 7,
   "id": "74b008e6",
   "metadata": {},
   "outputs": [
    {
     "data": {
      "image/png": "[encoded data removed]",
      "text/plain": [
       "<Figure size 640x480 with 1 Axes>"
      ]
     },
     "metadata": {},
     "output_type": "display_data"
    }
   ],
   "source": [
    "plt.plot(raw['close'])\n",
    "#plt.plot(df['x'], df['y2'], label='y2')\n",
    "\n",
    "# Adicione um título e legendas aos eixos\n",
    "plt.title('raw_winN')\n",
    "#plt.xlabel('Eixo x')\n",
    "#plt.ylabel('Eixo y')\n",
    "#plt.legend()\n",
    "\n",
    "# Exiba o gráfico\n",
    "plt.show()"
   ]
  },
  {
   "cell_type": "markdown",
   "id": "9b18448c",
   "metadata": {},
   "source": [
    "## Extração e modelagem de dados"
   ]
  },
  {
   "cell_type": "code",
   "execution_count": null,
   "id": "c754f4e5",
   "metadata": {},
   "outputs": [],
   "source": [
    "# 1,2,4,8,16,32,64,128,256,512"
   ]
  },
  {
   "cell_type": "code",
   "execution_count": 8,
   "id": "3b670323",
   "metadata": {},
   "outputs": [],
   "source": [
    "df = pd.DataFrame()"
   ]
  },
  {
   "cell_type": "code",
   "execution_count": 10,
   "id": "f7d9bb3e",
   "metadata": {},
   "outputs": [],
   "source": [
    "# Seta os dados\n",
    "df['high'] = raw['high']\n",
    "df['low'] = raw['low']\n",
    "df['close'] = raw['close']\n",
    "df['open'] = raw['open']"
   ]
  },
  {
   "cell_type": "code",
   "execution_count": 12,
   "id": "68a33608",
   "metadata": {},
   "outputs": [],
   "source": [
    "# Dados fabricados\n",
    "df['media_hl'] = (raw['high'] + raw['low']) / 2\n",
    "df['media_oc'] = (raw['open'] + raw['close']) / 2\n",
    "\n",
    "df['media_hl'] = (raw['high'] + raw['low']) / 2\n",
    "df['media_oc'] = (raw['open'] + raw['close']) / 2\n",
    "\n",
    "#Bolinger High\n",
    "periodo = 12\n",
    "desvios = 2\n",
    "\n",
    "df[\"mm\"] = raw[\"high\"].rolling(periodo).mean()\n",
    "\n",
    "df[\"desvio\"] = raw[\"high\"].rolling(periodo).std()\n",
    "df[\"Banda_Sup\"] = df[\"mm\"] + (df[\"desvio\"]*desvios)\n",
    "df[\"Banda_Inf\"] = df[\"mm\"] - (df[\"desvio\"]*desvios)\n",
    "\n",
    "df = df.drop('desvio', axis=1)\n"
   ]
  },
  {
   "cell_type": "code",
   "execution_count": 13,
   "id": "a9716762",
   "metadata": {},
   "outputs": [
    {
     "data": {
      "text/html": [
       "<div>\n",
       "<style scoped>\n",
       "    .dataframe tbody tr th:only-of-type {\n",
       "        vertical-align: middle;\n",
       "    }\n",
       "\n",
       "    .dataframe tbody tr th {\n",
       "        vertical-align: top;\n",
       "    }\n",
       "\n",
       "    .dataframe thead th {\n",
       "        text-align: right;\n",
       "    }\n",
       "</style>\n",
       "<table border=\"1\" class=\"dataframe\">\n",
       "  <thead>\n",
       "    <tr style=\"text-align: right;\">\n",
       "      <th></th>\n",
       "      <th>high</th>\n",
       "      <th>low</th>\n",
       "      <th>close</th>\n",
       "      <th>open</th>\n",
       "      <th>media_hl</th>\n",
       "      <th>media_oc</th>\n",
       "      <th>desvio</th>\n",
       "      <th>mm</th>\n",
       "      <th>Banda_Sup</th>\n",
       "      <th>Banda_Inf</th>\n",
       "    </tr>\n",
       "    <tr>\n",
       "      <th>time</th>\n",
       "      <th></th>\n",
       "      <th></th>\n",
       "      <th></th>\n",
       "      <th></th>\n",
       "      <th></th>\n",
       "      <th></th>\n",
       "      <th></th>\n",
       "      <th></th>\n",
       "      <th></th>\n",
       "      <th></th>\n",
       "    </tr>\n",
       "  </thead>\n",
       "  <tbody>\n",
       "    <tr>\n",
       "      <th>2022-01-18 11:38:00</th>\n",
       "      <td>106725.0</td>\n",
       "      <td>106610.0</td>\n",
       "      <td>106705.0</td>\n",
       "      <td>106635.0</td>\n",
       "      <td>106667.5</td>\n",
       "      <td>106670.0</td>\n",
       "      <td>NaN</td>\n",
       "      <td>NaN</td>\n",
       "      <td>NaN</td>\n",
       "      <td>NaN</td>\n",
       "    </tr>\n",
       "    <tr>\n",
       "      <th>2022-01-18 11:39:00</th>\n",
       "      <td>106825.0</td>\n",
       "      <td>106665.0</td>\n",
       "      <td>106785.0</td>\n",
       "      <td>106710.0</td>\n",
       "      <td>106745.0</td>\n",
       "      <td>106747.5</td>\n",
       "      <td>NaN</td>\n",
       "      <td>NaN</td>\n",
       "      <td>NaN</td>\n",
       "      <td>NaN</td>\n",
       "    </tr>\n",
       "    <tr>\n",
       "      <th>2022-01-18 11:40:00</th>\n",
       "      <td>106860.0</td>\n",
       "      <td>106675.0</td>\n",
       "      <td>106685.0</td>\n",
       "      <td>106780.0</td>\n",
       "      <td>106767.5</td>\n",
       "      <td>106732.5</td>\n",
       "      <td>NaN</td>\n",
       "      <td>NaN</td>\n",
       "      <td>NaN</td>\n",
       "      <td>NaN</td>\n",
       "    </tr>\n",
       "    <tr>\n",
       "      <th>2022-01-18 11:41:00</th>\n",
       "      <td>106910.0</td>\n",
       "      <td>106665.0</td>\n",
       "      <td>106885.0</td>\n",
       "      <td>106690.0</td>\n",
       "      <td>106787.5</td>\n",
       "      <td>106787.5</td>\n",
       "      <td>NaN</td>\n",
       "      <td>NaN</td>\n",
       "      <td>NaN</td>\n",
       "      <td>NaN</td>\n",
       "    </tr>\n",
       "    <tr>\n",
       "      <th>2022-01-18 11:42:00</th>\n",
       "      <td>106965.0</td>\n",
       "      <td>106800.0</td>\n",
       "      <td>106955.0</td>\n",
       "      <td>106880.0</td>\n",
       "      <td>106882.5</td>\n",
       "      <td>106917.5</td>\n",
       "      <td>NaN</td>\n",
       "      <td>NaN</td>\n",
       "      <td>NaN</td>\n",
       "      <td>NaN</td>\n",
       "    </tr>\n",
       "    <tr>\n",
       "      <th>...</th>\n",
       "      <td>...</td>\n",
       "      <td>...</td>\n",
       "      <td>...</td>\n",
       "      <td>...</td>\n",
       "      <td>...</td>\n",
       "      <td>...</td>\n",
       "      <td>...</td>\n",
       "      <td>...</td>\n",
       "      <td>...</td>\n",
       "      <td>...</td>\n",
       "    </tr>\n",
       "    <tr>\n",
       "      <th>2022-10-13 16:55:00</th>\n",
       "      <td>114920.0</td>\n",
       "      <td>114915.0</td>\n",
       "      <td>114915.0</td>\n",
       "      <td>114915.0</td>\n",
       "      <td>114917.5</td>\n",
       "      <td>114915.0</td>\n",
       "      <td>4.330127</td>\n",
       "      <td>114925.000000</td>\n",
       "      <td>114933.660254</td>\n",
       "      <td>114916.339746</td>\n",
       "    </tr>\n",
       "    <tr>\n",
       "      <th>2022-10-13 16:56:00</th>\n",
       "      <td>114920.0</td>\n",
       "      <td>114915.0</td>\n",
       "      <td>114920.0</td>\n",
       "      <td>114920.0</td>\n",
       "      <td>114917.5</td>\n",
       "      <td>114920.0</td>\n",
       "      <td>4.166667</td>\n",
       "      <td>114923.888889</td>\n",
       "      <td>114932.222222</td>\n",
       "      <td>114915.555556</td>\n",
       "    </tr>\n",
       "    <tr>\n",
       "      <th>2022-10-13 16:57:00</th>\n",
       "      <td>114920.0</td>\n",
       "      <td>114915.0</td>\n",
       "      <td>114920.0</td>\n",
       "      <td>114920.0</td>\n",
       "      <td>114917.5</td>\n",
       "      <td>114920.0</td>\n",
       "      <td>3.632416</td>\n",
       "      <td>114922.777778</td>\n",
       "      <td>114930.042609</td>\n",
       "      <td>114915.512946</td>\n",
       "    </tr>\n",
       "    <tr>\n",
       "      <th>2022-10-13 16:58:00</th>\n",
       "      <td>114920.0</td>\n",
       "      <td>114910.0</td>\n",
       "      <td>114915.0</td>\n",
       "      <td>114920.0</td>\n",
       "      <td>114915.0</td>\n",
       "      <td>114917.5</td>\n",
       "      <td>2.500000</td>\n",
       "      <td>114921.666667</td>\n",
       "      <td>114926.666667</td>\n",
       "      <td>114916.666667</td>\n",
       "    </tr>\n",
       "    <tr>\n",
       "      <th>2022-10-13 16:59:00</th>\n",
       "      <td>114915.0</td>\n",
       "      <td>114910.0</td>\n",
       "      <td>114910.0</td>\n",
       "      <td>114915.0</td>\n",
       "      <td>114912.5</td>\n",
       "      <td>114912.5</td>\n",
       "      <td>3.004626</td>\n",
       "      <td>114920.555556</td>\n",
       "      <td>114926.564808</td>\n",
       "      <td>114914.546303</td>\n",
       "    </tr>\n",
       "  </tbody>\n",
       "</table>\n",
       "<p>99999 rows × 10 columns</p>\n",
       "</div>"
      ],
      "text/plain": [
       "                         high       low     close      open  media_hl  \\\n",
       "time                                                                    \n",
       "2022-01-18 11:38:00  106725.0  106610.0  106705.0  106635.0  106667.5   \n",
       "2022-01-18 11:39:00  106825.0  106665.0  106785.0  106710.0  106745.0   \n",
       "2022-01-18 11:40:00  106860.0  106675.0  106685.0  106780.0  106767.5   \n",
       "2022-01-18 11:41:00  106910.0  106665.0  106885.0  106690.0  106787.5   \n",
       "2022-01-18 11:42:00  106965.0  106800.0  106955.0  106880.0  106882.5   \n",
       "...                       ...       ...       ...       ...       ...   \n",
       "2022-10-13 16:55:00  114920.0  114915.0  114915.0  114915.0  114917.5   \n",
       "2022-10-13 16:56:00  114920.0  114915.0  114920.0  114920.0  114917.5   \n",
       "2022-10-13 16:57:00  114920.0  114915.0  114920.0  114920.0  114917.5   \n",
       "2022-10-13 16:58:00  114920.0  114910.0  114915.0  114920.0  114915.0   \n",
       "2022-10-13 16:59:00  114915.0  114910.0  114910.0  114915.0  114912.5   \n",
       "\n",
       "                     media_oc    desvio             mm      Banda_Sup  \\\n",
       "time                                                                    \n",
       "2022-01-18 11:38:00  106670.0       NaN            NaN            NaN   \n",
       "2022-01-18 11:39:00  106747.5       NaN            NaN            NaN   \n",
       "2022-01-18 11:40:00  106732.5       NaN            NaN            NaN   \n",
       "2022-01-18 11:41:00  106787.5       NaN            NaN            NaN   \n",
       "2022-01-18 11:42:00  106917.5       NaN            NaN            NaN   \n",
       "...                       ...       ...            ...            ...   \n",
       "2022-10-13 16:55:00  114915.0  4.330127  114925.000000  114933.660254   \n",
       "2022-10-13 16:56:00  114920.0  4.166667  114923.888889  114932.222222   \n",
       "2022-10-13 16:57:00  114920.0  3.632416  114922.777778  114930.042609   \n",
       "2022-10-13 16:58:00  114917.5  2.500000  114921.666667  114926.666667   \n",
       "2022-10-13 16:59:00  114912.5  3.004626  114920.555556  114926.564808   \n",
       "\n",
       "                         Banda_Inf  \n",
       "time                                \n",
       "2022-01-18 11:38:00            NaN  \n",
       "2022-01-18 11:39:00            NaN  \n",
       "2022-01-18 11:40:00            NaN  \n",
       "2022-01-18 11:41:00            NaN  \n",
       "2022-01-18 11:42:00            NaN  \n",
       "...                            ...  \n",
       "2022-10-13 16:55:00  114916.339746  \n",
       "2022-10-13 16:56:00  114915.555556  \n",
       "2022-10-13 16:57:00  114915.512946  \n",
       "2022-10-13 16:58:00  114916.666667  \n",
       "2022-10-13 16:59:00  114914.546303  \n",
       "\n",
       "[99999 rows x 10 columns]"
      ]
     },
     "execution_count": 13,
     "metadata": {},
     "output_type": "execute_result"
    }
   ],
   "source": [
    "df"
   ]
  },
  {
   "cell_type": "code",
   "execution_count": null,
   "id": "8ba0d734",
   "metadata": {},
   "outputs": [],
   "source": [
    "df = df.reset_index()"
   ]
  },
  {
   "cell_type": "code",
   "execution_count": null,
   "id": "708dcede",
   "metadata": {},
   "outputs": [],
   "source": [
    "df = df.drop('time', axis=1)"
   ]
  },
  {
   "cell_type": "code",
   "execution_count": null,
   "id": "3d2a462c",
   "metadata": {},
   "outputs": [],
   "source": [
    "# Calcula os retornos dos recursos e da saída\n",
    "retornos = df.pct_change().dropna()"
   ]
  },
  {
   "cell_type": "code",
   "execution_count": null,
   "id": "d53039ce",
   "metadata": {},
   "outputs": [],
   "source": [
    "retornos = retornos.reset_index()"
   ]
  },
  {
   "cell_type": "code",
   "execution_count": null,
   "id": "cac3a945",
   "metadata": {},
   "outputs": [],
   "source": [
    "retornos = retornos.drop('index', axis=1)"
   ]
  },
  {
   "cell_type": "code",
   "execution_count": null,
   "id": "a96eadf5",
   "metadata": {},
   "outputs": [],
   "source": [
    "# Calcula os valores iniciais dos retornos acumulados\n",
    "ret_acum = (1 + retornos).cumprod()"
   ]
  },
  {
   "cell_type": "code",
   "execution_count": null,
   "id": "b32109d4",
   "metadata": {},
   "outputs": [],
   "source": [
    "# Separa os dados em treino, validação e teste\n",
    "tamanho_treino = int(len(retornos) * 0.7)\n",
    "tamanho_valid = int(len(retornos) * 0.2)\n",
    "tamanho_teste = len(retornos) - tamanho_treino - tamanho_valid\n",
    "\n",
    "dados_treino = retornos[:tamanho_treino]\n",
    "dados_valid = retornos[tamanho_treino:tamanho_treino+tamanho_valid]\n",
    "dados_teste = retornos[-tamanho_teste:]"
   ]
  },
  {
   "cell_type": "code",
   "execution_count": null,
   "id": "0a201a70",
   "metadata": {},
   "outputs": [],
   "source": [
    "# Define a janela de tempo para as sequências\n",
    "janela_tempo = 5"
   ]
  },
  {
   "cell_type": "code",
   "execution_count": null,
   "id": "53433918",
   "metadata": {},
   "outputs": [],
   "source": [
    "# Cria os geradores de sequências\n",
    "gerador_treino = TimeseriesGenerator(dados_treino[['close', 'high', 'low']].values, \n",
    "                                     dados_treino[['close', 'high', 'low']].values, \n",
    "                                     length=janela_tempo, batch_size=512)\n",
    "\n",
    "gerador_valid = TimeseriesGenerator(dados_valid[['close', 'high', 'low']].values, \n",
    "                                    dados_valid[['close', 'high', 'low']].values, \n",
    "                                    length=janela_tempo, batch_size=512)\n",
    "\n",
    "gerador_teste = TimeseriesGenerator(dados_teste[['close', 'high', 'low']].values, \n",
    "                                    dados_teste[['close', 'high', 'low']].values, \n",
    "                                    length=janela_tempo, batch_size=512)"
   ]
  },
  {
   "cell_type": "code",
   "execution_count": null,
   "id": "a67d44cc",
   "metadata": {},
   "outputs": [],
   "source": [
    "# Cria o modelo LSTM\n",
    "modelo = Sequential()\n",
    "modelo.add(LSTM(64, input_shape=(janela_tempo, 3), return_sequences=True))\n",
    "#modelo.add(Dropout(0.2))\n",
    "modelo.add(LSTM(32, return_sequences=True))\n",
    "#modelo.add(Dropout(0.1))\n",
    "modelo.add(LSTM(16, return_sequences=True))\n",
    "modelo.add(LSTM(8))\n",
    "modelo.add(Dense(1))"
   ]
  },
  {
   "cell_type": "code",
   "execution_count": null,
   "id": "2d8d08a6",
   "metadata": {},
   "outputs": [],
   "source": [
    "# Compila o modelo\n",
    "modelo.compile(optimizer=tf.keras.optimizers.Adam(), loss=tf.keras.losses.MeanAbsolutePercentageError(), metrics='mse')"
   ]
  },
  {
   "cell_type": "code",
   "execution_count": null,
   "id": "32bdcbab",
   "metadata": {},
   "outputs": [],
   "source": [
    "# Define os callbacks\n",
    "checkpoint = ModelCheckpoint(\"my_checkpoint.h5\", save_best_only=True)\n",
    "early_stop = EarlyStopping(monitor='val_loss', patience=100)\n"
   ]
  },
  {
   "cell_type": "code",
   "execution_count": null,
   "id": "aa176e30",
   "metadata": {},
   "outputs": [],
   "source": [
    "%%time\n",
    "# Treina o modelo\n",
    "modelo.fit(gerador_treino, epochs=500, validation_data=gerador_valid, callbacks=[checkpoint, early_stop])"
   ]
  },
  {
   "cell_type": "code",
   "execution_count": null,
   "id": "d867ee3c",
   "metadata": {},
   "outputs": [],
   "source": [
    "# Carrega o melhor modelo salvo\n",
    "modelo.load_weights(\"my_checkpoint.h5\")"
   ]
  },
  {
   "cell_type": "code",
   "execution_count": null,
   "id": "8c894be1",
   "metadata": {},
   "outputs": [],
   "source": [
    "# Faz as previsões no conjunto de teste\n",
    "previsao = modelo.predict(gerador_teste)"
   ]
  },
  {
   "cell_type": "code",
   "execution_count": null,
   "id": "29f5ff3c",
   "metadata": {},
   "outputs": [],
   "source": [
    "len(previsao)"
   ]
  },
  {
   "cell_type": "code",
   "execution_count": null,
   "id": "7f80e81a",
   "metadata": {},
   "outputs": [],
   "source": [
    "df2 = pd.DataFrame()"
   ]
  },
  {
   "cell_type": "code",
   "execution_count": null,
   "id": "651ecced",
   "metadata": {},
   "outputs": [],
   "source": [
    "df2['close'] = dados_teste['close']"
   ]
  },
  {
   "cell_type": "code",
   "execution_count": null,
   "id": "b0f32eb2",
   "metadata": {},
   "outputs": [],
   "source": [
    "df4 = pd.DataFrame()"
   ]
  },
  {
   "cell_type": "code",
   "execution_count": null,
   "id": "39e4f79f",
   "metadata": {},
   "outputs": [],
   "source": [
    "df4['close'] = dados_teste['close'].iloc[janela_tempo:]"
   ]
  },
  {
   "cell_type": "code",
   "execution_count": null,
   "id": "59749157",
   "metadata": {
    "scrolled": true
   },
   "outputs": [],
   "source": [
    "df4"
   ]
  },
  {
   "cell_type": "code",
   "execution_count": null,
   "id": "8b6e2862",
   "metadata": {},
   "outputs": [],
   "source": [
    "df4 = df4.reset_index()"
   ]
  },
  {
   "cell_type": "code",
   "execution_count": null,
   "id": "6e4efc7d",
   "metadata": {},
   "outputs": [],
   "source": [
    "df4 = df4.drop('index', axis=1)"
   ]
  },
  {
   "cell_type": "code",
   "execution_count": null,
   "id": "87358bc7",
   "metadata": {},
   "outputs": [],
   "source": [
    "df4['previsao'] = previsao"
   ]
  },
  {
   "cell_type": "code",
   "execution_count": null,
   "id": "f36780bf",
   "metadata": {
    "scrolled": true
   },
   "outputs": [],
   "source": [
    "df4"
   ]
  },
  {
   "cell_type": "code",
   "execution_count": null,
   "id": "0468a01a",
   "metadata": {},
   "outputs": [],
   "source": [
    "import matplotlib.pyplot as plt"
   ]
  },
  {
   "cell_type": "code",
   "execution_count": null,
   "id": "121b3983",
   "metadata": {
    "scrolled": false
   },
   "outputs": [],
   "source": [
    "plt.plot(df4['close'][:20], label='close')\n",
    "plt.plot(df4['previsao'][:20], label='previsao')\n",
    "#plt.plot(retornos['low'][:20], label='previsao')\n",
    "plt.show()"
   ]
  },
  {
   "cell_type": "code",
   "execution_count": null,
   "id": "94441493",
   "metadata": {},
   "outputs": [],
   "source": [
    "plt.plot(df4['previsao'])"
   ]
  },
  {
   "cell_type": "code",
   "execution_count": null,
   "id": "60b3e054",
   "metadata": {},
   "outputs": [],
   "source": [
    "plt.plot(df5['close'], df5[''], label='y1')\n",
    "plt.plot(df['x'], df['y2'], label='y2')\n",
    "\n",
    "# Adicione um título e legendas aos eixos\n",
    "plt.title('Gráfico de exemplo')\n",
    "plt.xlabel('Eixo x')\n",
    "plt.ylabel('Eixo y')\n",
    "plt.legend()\n",
    "\n",
    "# Exiba o gráfico\n",
    "plt.show()"
   ]
  },
  {
   "cell_type": "code",
   "execution_count": null,
   "id": "f2f46747",
   "metadata": {},
   "outputs": [],
   "source": []
  },
  {
   "cell_type": "code",
   "execution_count": null,
   "id": "3df08709",
   "metadata": {},
   "outputs": [],
   "source": []
  },
  {
   "cell_type": "code",
   "execution_count": null,
   "id": "4ea275c2",
   "metadata": {},
   "outputs": [],
   "source": []
  },
  {
   "cell_type": "code",
   "execution_count": null,
   "id": "e8791193",
   "metadata": {},
   "outputs": [],
   "source": [
    "gerador_teste"
   ]
  },
  {
   "cell_type": "code",
   "execution_count": null,
   "id": "3491511a",
   "metadata": {},
   "outputs": [],
   "source": [
    "dados_teste.index"
   ]
  },
  {
   "cell_type": "code",
   "execution_count": null,
   "id": "8a57b437",
   "metadata": {},
   "outputs": [],
   "source": [
    "# Obtém os retornos acumulados do conjunto de teste\n",
    "saida = 2\n",
    "ret_acum_teste = ret_acum[dados_teste.index][saida:]"
   ]
  },
  {
   "cell_type": "code",
   "execution_count": null,
   "id": "b619ac59",
   "metadata": {},
   "outputs": [],
   "source": [
    "# Reverte o cálculo dos retornos para obter as previsões em termos de preços\n",
    "preco_teste = np.zeros_like(previsao)\n",
    "preco_teste[0] = ret_acum_teste[saida] * (1 + previsao[0])\n",
    "for i in range(1, len(previsao)):\n",
    "    preco_teste[i] = preco_teste[i-1] * (1 + previsao[i])"
   ]
  },
  {
   "cell_type": "code",
   "execution_count": null,
   "id": "095caee0",
   "metadata": {},
   "outputs": [],
   "source": [
    "# Reverte o cálculo dos retornos do conjunto de teste para obter os preços reais\n",
    "\n",
    "preco_real_teste = dados_teste['close'][janela_tempo:]"
   ]
  },
  {
   "cell_type": "code",
   "execution_count": null,
   "id": "5766abf7",
   "metadata": {},
   "outputs": [],
   "source": [
    "# Calcula as métricas de avaliação\n",
    "mae = mean_absolute_error(preco_real_teste, preco_teste)\n",
    "mse = mean_squared_error(preco_real_teste, preco_teste)\n",
    "r2 = r2_score(preco_real_teste, preco_teste)"
   ]
  },
  {
   "cell_type": "code",
   "execution_count": null,
   "id": "be6c5ac9",
   "metadata": {},
   "outputs": [],
   "source": [
    "# Imprime as métricas de avaliação\n",
    "print('MAE:', mae)\n",
    "print('MSE:', mse)\n",
    "print('R2:', r2)"
   ]
  }
 ],
 "metadata": {
  "kernelspec": {
   "display_name": "Python 3 (ipykernel)",
   "language": "python",
   "name": "python3"
  },
  "language_info": {
   "codemirror_mode": {
    "name": "ipython",
    "version": 3
   },
   "file_extension": ".py",
   "mimetype": "text/x-python",
   "name": "python",
   "nbconvert_exporter": "python",
   "pygments_lexer": "ipython3",
   "version": "3.9.16"
  }
 },
 "nbformat": 4,
 "nbformat_minor": 5
}
