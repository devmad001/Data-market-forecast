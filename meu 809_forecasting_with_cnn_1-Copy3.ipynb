{
 "cells": [
  {
   "cell_type": "markdown",
   "metadata": {
    "id": "vidayERjaO5q"
   },
   "source": [
    "## Setup"
   ]
  },
  {
   "cell_type": "code",
   "execution_count": 1,
   "metadata": {
    "id": "gqWabzlJ63nL"
   },
   "outputs": [],
   "source": [
    "import numpy as np\n",
    "import matplotlib.pyplot as plt\n",
    "import pandas as pd\n",
    "\n",
    "import tensorflow as tf\n",
    "keras = tf.keras"
   ]
  },
  {
   "cell_type": "code",
   "execution_count": 2,
   "metadata": {},
   "outputs": [
    {
     "data": {
      "text/plain": [
       "True"
      ]
     },
     "execution_count": 2,
     "metadata": {},
     "output_type": "execute_result"
    }
   ],
   "source": [
    "tf.test.is_built_with_cuda()"
   ]
  },
  {
   "cell_type": "code",
   "execution_count": 3,
   "metadata": {
    "id": "cg1hfKCPldZG"
   },
   "outputs": [],
   "source": [
    "def timeseries_dataset(series, window_size, batch_size=32):\n",
    "    \"\"\"\n",
    "    This function creates a TimeseriesGenerator object that can be used to generate batches of data from a time series.\n",
    "    \"\"\"\n",
    "    series = np.expand_dims(series, axis=-1)\n",
    "    generator = keras.preprocessing.sequence.TimeseriesGenerator(\n",
    "        data=series[:-1],\n",
    "        targets=series[1:],\n",
    "        length=window_size,\n",
    "        batch_size=batch_size,\n",
    "    )\n",
    "    return generator\n",
    "  \n",
    "\n",
    "def model_forecast(model, series, window_size):\n",
    "    ds = tf.data.Dataset.from_tensor_slices(series)\n",
    "    ds = ds.window(window_size, shift=1, drop_remainder=True)\n",
    "    ds = ds.flat_map(lambda w: w.batch(window_size))\n",
    "    ds = ds.batch(32).prefetch(1)\n",
    "    forecast = model.predict(ds)\n",
    "    return forecast"
   ]
  },
  {
   "cell_type": "code",
   "execution_count": 20,
   "metadata": {},
   "outputs": [],
   "source": [
    "def plot_series(time, series, format=\"-\", start=0, end=None, label=None):\n",
    "    plt.plot(time[start:end], series[start:end], format, label=label)\n",
    "    plt.xlabel(\"Time\")\n",
    "    plt.ylabel(\"Value\")\n",
    "    if label:\n",
    "        plt.legend(fontsize=14)\n",
    "    plt.grid(True)"
   ]
  },
  {
   "cell_type": "code",
   "execution_count": 4,
   "metadata": {},
   "outputs": [],
   "source": [
    "path = r'C:\\Users\\adria\\1Python\\Meu_novo_projeto\\WIN_N_1K\\WIN_N_1k.csv'\n",
    "raw = pd.read_csv(path, index_col=0, parse_dates=True)"
   ]
  },
  {
   "cell_type": "code",
   "execution_count": 5,
   "metadata": {},
   "outputs": [],
   "source": [
    "df = pd.DataFrame()"
   ]
  },
  {
   "cell_type": "code",
   "execution_count": 6,
   "metadata": {},
   "outputs": [],
   "source": [
    "df['media'] = (raw['high'] + raw['low']) / 2"
   ]
  },
  {
   "cell_type": "code",
   "execution_count": 7,
   "metadata": {},
   "outputs": [],
   "source": [
    "media_movel = df['media'].rolling(window=2).mean()"
   ]
  },
  {
   "cell_type": "code",
   "execution_count": 8,
   "metadata": {},
   "outputs": [],
   "source": [
    "df['media_movel'] = media_movel"
   ]
  },
  {
   "cell_type": "code",
   "execution_count": 9,
   "metadata": {
    "scrolled": false
   },
   "outputs": [
    {
     "data": {
      "text/html": [
       "<div>\n",
       "<style scoped>\n",
       "    .dataframe tbody tr th:only-of-type {\n",
       "        vertical-align: middle;\n",
       "    }\n",
       "\n",
       "    .dataframe tbody tr th {\n",
       "        vertical-align: top;\n",
       "    }\n",
       "\n",
       "    .dataframe thead th {\n",
       "        text-align: right;\n",
       "    }\n",
       "</style>\n",
       "<table border=\"1\" class=\"dataframe\">\n",
       "  <thead>\n",
       "    <tr style=\"text-align: right;\">\n",
       "      <th></th>\n",
       "      <th>close</th>\n",
       "      <th>media_movel</th>\n",
       "    </tr>\n",
       "    <tr>\n",
       "      <th>time</th>\n",
       "      <th></th>\n",
       "      <th></th>\n",
       "    </tr>\n",
       "  </thead>\n",
       "  <tbody>\n",
       "    <tr>\n",
       "      <th>2022-01-18 11:38:00</th>\n",
       "      <td>106667.5</td>\n",
       "      <td>NaN</td>\n",
       "    </tr>\n",
       "    <tr>\n",
       "      <th>2022-01-18 11:39:00</th>\n",
       "      <td>106745.0</td>\n",
       "      <td>106706.25</td>\n",
       "    </tr>\n",
       "    <tr>\n",
       "      <th>2022-01-18 11:40:00</th>\n",
       "      <td>106767.5</td>\n",
       "      <td>106756.25</td>\n",
       "    </tr>\n",
       "    <tr>\n",
       "      <th>2022-01-18 11:41:00</th>\n",
       "      <td>106787.5</td>\n",
       "      <td>106777.50</td>\n",
       "    </tr>\n",
       "    <tr>\n",
       "      <th>2022-01-18 11:42:00</th>\n",
       "      <td>106882.5</td>\n",
       "      <td>106835.00</td>\n",
       "    </tr>\n",
       "    <tr>\n",
       "      <th>...</th>\n",
       "      <td>...</td>\n",
       "      <td>...</td>\n",
       "    </tr>\n",
       "    <tr>\n",
       "      <th>2022-10-13 16:55:00</th>\n",
       "      <td>114917.5</td>\n",
       "      <td>114917.50</td>\n",
       "    </tr>\n",
       "    <tr>\n",
       "      <th>2022-10-13 16:56:00</th>\n",
       "      <td>114917.5</td>\n",
       "      <td>114917.50</td>\n",
       "    </tr>\n",
       "    <tr>\n",
       "      <th>2022-10-13 16:57:00</th>\n",
       "      <td>114917.5</td>\n",
       "      <td>114917.50</td>\n",
       "    </tr>\n",
       "    <tr>\n",
       "      <th>2022-10-13 16:58:00</th>\n",
       "      <td>114915.0</td>\n",
       "      <td>114916.25</td>\n",
       "    </tr>\n",
       "    <tr>\n",
       "      <th>2022-10-13 16:59:00</th>\n",
       "      <td>114912.5</td>\n",
       "      <td>114913.75</td>\n",
       "    </tr>\n",
       "  </tbody>\n",
       "</table>\n",
       "<p>99999 rows × 2 columns</p>\n",
       "</div>"
      ],
      "text/plain": [
       "                        close  media_movel\n",
       "time                                      \n",
       "2022-01-18 11:38:00  106667.5          NaN\n",
       "2022-01-18 11:39:00  106745.0    106706.25\n",
       "2022-01-18 11:40:00  106767.5    106756.25\n",
       "2022-01-18 11:41:00  106787.5    106777.50\n",
       "2022-01-18 11:42:00  106882.5    106835.00\n",
       "...                       ...          ...\n",
       "2022-10-13 16:55:00  114917.5    114917.50\n",
       "2022-10-13 16:56:00  114917.5    114917.50\n",
       "2022-10-13 16:57:00  114917.5    114917.50\n",
       "2022-10-13 16:58:00  114915.0    114916.25\n",
       "2022-10-13 16:59:00  114912.5    114913.75\n",
       "\n",
       "[99999 rows x 2 columns]"
      ]
     },
     "execution_count": 9,
     "metadata": {},
     "output_type": "execute_result"
    }
   ],
   "source": [
    "df"
   ]
  },
  {
   "cell_type": "code",
   "execution_count": 10,
   "metadata": {},
   "outputs": [],
   "source": [
    "df['r'] = df['media_movel'].pct_change()"
   ]
  },
  {
   "cell_type": "code",
   "execution_count": 11,
   "metadata": {},
   "outputs": [],
   "source": [
    "df = df.dropna()\n",
    "\n",
    "series = df['r'].values\n",
    "\n",
    "time = np.arange(len(series))"
   ]
  },
  {
   "cell_type": "code",
   "execution_count": 12,
   "metadata": {},
   "outputs": [
    {
     "data": {
      "text/plain": [
       "99997"
      ]
     },
     "execution_count": 12,
     "metadata": {},
     "output_type": "execute_result"
    }
   ],
   "source": [
    "len(series)"
   ]
  },
  {
   "cell_type": "code",
   "execution_count": 13,
   "metadata": {},
   "outputs": [
    {
     "data": {
      "text/plain": [
       "99997"
      ]
     },
     "execution_count": 13,
     "metadata": {},
     "output_type": "execute_result"
    }
   ],
   "source": [
    "len(time)"
   ]
  },
  {
   "cell_type": "code",
   "execution_count": 15,
   "metadata": {
    "id": "Zmp1JXKxk9Vb"
   },
   "outputs": [],
   "source": [
    "split_time = 70000\n",
    "time_train = time[:split_time]\n",
    "x_train = series[:split_time]\n",
    "time_valid = time[split_time:]\n",
    "x_valid = series[split_time:]"
   ]
  },
  {
   "cell_type": "code",
   "execution_count": null,
   "metadata": {},
   "outputs": [],
   "source": []
  },
  {
   "cell_type": "markdown",
   "metadata": {
    "id": "kfPTmghd8OJe"
   },
   "source": [
    "## WaveNet"
   ]
  },
  {
   "cell_type": "code",
   "execution_count": 16,
   "metadata": {
    "id": "WVrxlzbk8OJg",
    "scrolled": false
   },
   "outputs": [
    {
     "name": "stdout",
     "output_type": "stream",
     "text": [
      "Epoch 1/500\n",
      "547/547 [==============================] - 19s 14ms/step - loss: 8.8690e-08 - mse: 1.7738e-07 - val_loss: 9.4747e-08 - val_mse: 1.8949e-07\n",
      "Epoch 2/500\n",
      "547/547 [==============================] - 7s 13ms/step - loss: 8.0637e-08 - mse: 1.6127e-07 - val_loss: 8.3165e-08 - val_mse: 1.6633e-07\n",
      "Epoch 3/500\n",
      "547/547 [==============================] - 7s 13ms/step - loss: 8.0488e-08 - mse: 1.6098e-07 - val_loss: 1.6034e-07 - val_mse: 3.2069e-07\n",
      "Epoch 4/500\n",
      "547/547 [==============================] - 7s 14ms/step - loss: 8.1622e-08 - mse: 1.6324e-07 - val_loss: 8.7489e-08 - val_mse: 1.7498e-07\n",
      "Epoch 5/500\n",
      "547/547 [==============================] - 7s 13ms/step - loss: 7.9699e-08 - mse: 1.5940e-07 - val_loss: 8.4481e-08 - val_mse: 1.6896e-07\n",
      "Epoch 6/500\n",
      "547/547 [==============================] - 7s 14ms/step - loss: 8.1087e-08 - mse: 1.6217e-07 - val_loss: 8.1413e-08 - val_mse: 1.6283e-07\n",
      "Epoch 7/500\n",
      "547/547 [==============================] - 8s 14ms/step - loss: 8.0281e-08 - mse: 1.6056e-07 - val_loss: 8.6898e-08 - val_mse: 1.7380e-07\n",
      "Epoch 8/500\n",
      "547/547 [==============================] - 8s 14ms/step - loss: 7.8778e-08 - mse: 1.5756e-07 - val_loss: 9.5199e-08 - val_mse: 1.9040e-07\n",
      "Epoch 9/500\n",
      "547/547 [==============================] - 8s 14ms/step - loss: 7.9690e-08 - mse: 1.5938e-07 - val_loss: 8.2690e-08 - val_mse: 1.6538e-07\n",
      "Epoch 10/500\n",
      "547/547 [==============================] - 7s 14ms/step - loss: 7.7953e-08 - mse: 1.5591e-07 - val_loss: 8.0965e-08 - val_mse: 1.6193e-07\n",
      "Epoch 11/500\n",
      "547/547 [==============================] - 8s 14ms/step - loss: 7.8895e-08 - mse: 1.5779e-07 - val_loss: 8.4932e-08 - val_mse: 1.6986e-07\n",
      "Epoch 12/500\n",
      "547/547 [==============================] - 7s 13ms/step - loss: 8.0074e-08 - mse: 1.6015e-07 - val_loss: 8.3556e-08 - val_mse: 1.6711e-07\n",
      "Epoch 13/500\n",
      "547/547 [==============================] - 8s 14ms/step - loss: 7.7299e-08 - mse: 1.5460e-07 - val_loss: 8.7719e-08 - val_mse: 1.7544e-07\n",
      "Epoch 14/500\n",
      "547/547 [==============================] - 7s 13ms/step - loss: 7.7845e-08 - mse: 1.5569e-07 - val_loss: 8.1079e-08 - val_mse: 1.6216e-07\n",
      "Epoch 15/500\n",
      "547/547 [==============================] - 8s 14ms/step - loss: 8.4192e-08 - mse: 1.6838e-07 - val_loss: 8.6224e-08 - val_mse: 1.7245e-07\n",
      "Epoch 16/500\n",
      "547/547 [==============================] - 7s 13ms/step - loss: 7.6503e-08 - mse: 1.5301e-07 - val_loss: 1.0863e-07 - val_mse: 2.1726e-07\n",
      "Epoch 17/500\n",
      "547/547 [==============================] - 8s 14ms/step - loss: 7.7125e-08 - mse: 1.5425e-07 - val_loss: 8.2350e-08 - val_mse: 1.6470e-07\n",
      "Epoch 18/500\n",
      "547/547 [==============================] - 7s 13ms/step - loss: 7.7771e-08 - mse: 1.5554e-07 - val_loss: 8.4175e-08 - val_mse: 1.6835e-07\n",
      "Epoch 19/500\n",
      "547/547 [==============================] - 7s 14ms/step - loss: 7.6264e-08 - mse: 1.5253e-07 - val_loss: 8.5471e-08 - val_mse: 1.7094e-07\n",
      "Epoch 20/500\n",
      "547/547 [==============================] - 7s 13ms/step - loss: 7.7767e-08 - mse: 1.5553e-07 - val_loss: 8.4067e-08 - val_mse: 1.6813e-07\n",
      "Epoch 21/500\n",
      "547/547 [==============================] - 7s 14ms/step - loss: 7.6368e-08 - mse: 1.5274e-07 - val_loss: 8.5449e-08 - val_mse: 1.7090e-07\n",
      "Epoch 22/500\n",
      "547/547 [==============================] - 7s 13ms/step - loss: 7.7552e-08 - mse: 1.5510e-07 - val_loss: 8.2750e-08 - val_mse: 1.6550e-07\n",
      "Epoch 23/500\n",
      "547/547 [==============================] - 7s 13ms/step - loss: 7.6474e-08 - mse: 1.5295e-07 - val_loss: 8.2911e-08 - val_mse: 1.6582e-07\n",
      "Epoch 24/500\n",
      "547/547 [==============================] - 7s 14ms/step - loss: 7.7370e-08 - mse: 1.5474e-07 - val_loss: 9.3551e-08 - val_mse: 1.8710e-07\n",
      "Epoch 25/500\n",
      "547/547 [==============================] - 7s 13ms/step - loss: 7.7001e-08 - mse: 1.5400e-07 - val_loss: 8.1582e-08 - val_mse: 1.6316e-07\n",
      "Epoch 26/500\n",
      "547/547 [==============================] - 8s 14ms/step - loss: 7.8364e-08 - mse: 1.5673e-07 - val_loss: 8.7165e-08 - val_mse: 1.7433e-07\n",
      "Epoch 27/500\n",
      "547/547 [==============================] - 7s 13ms/step - loss: 7.7125e-08 - mse: 1.5425e-07 - val_loss: 8.3885e-08 - val_mse: 1.6777e-07\n",
      "Epoch 28/500\n",
      "547/547 [==============================] - 8s 14ms/step - loss: 7.7162e-08 - mse: 1.5432e-07 - val_loss: 8.7704e-08 - val_mse: 1.7541e-07\n",
      "Epoch 29/500\n",
      "547/547 [==============================] - 7s 13ms/step - loss: 7.5508e-08 - mse: 1.5102e-07 - val_loss: 8.7550e-08 - val_mse: 1.7510e-07\n",
      "Epoch 30/500\n",
      "547/547 [==============================] - 8s 14ms/step - loss: 7.7557e-08 - mse: 1.5511e-07 - val_loss: 9.5926e-08 - val_mse: 1.9185e-07\n",
      "Epoch 31/500\n",
      "547/547 [==============================] - 7s 14ms/step - loss: 7.7708e-08 - mse: 1.5542e-07 - val_loss: 8.1042e-08 - val_mse: 1.6208e-07\n",
      "Epoch 32/500\n",
      "547/547 [==============================] - 8s 14ms/step - loss: 7.7117e-08 - mse: 1.5423e-07 - val_loss: 8.0975e-08 - val_mse: 1.6195e-07\n",
      "Epoch 33/500\n",
      "547/547 [==============================] - 7s 13ms/step - loss: 7.7963e-08 - mse: 1.5593e-07 - val_loss: 8.4368e-08 - val_mse: 1.6874e-07\n",
      "Epoch 34/500\n",
      "547/547 [==============================] - 8s 14ms/step - loss: 7.7928e-08 - mse: 1.5586e-07 - val_loss: 8.0997e-08 - val_mse: 1.6199e-07\n",
      "Epoch 35/500\n",
      "547/547 [==============================] - 8s 14ms/step - loss: 7.7262e-08 - mse: 1.5452e-07 - val_loss: 8.7608e-08 - val_mse: 1.7522e-07\n",
      "Epoch 36/500\n",
      "547/547 [==============================] - 7s 14ms/step - loss: 7.7740e-08 - mse: 1.5548e-07 - val_loss: 8.5498e-08 - val_mse: 1.7100e-07\n",
      "Epoch 37/500\n",
      "547/547 [==============================] - 7s 13ms/step - loss: 7.6845e-08 - mse: 1.5369e-07 - val_loss: 8.1289e-08 - val_mse: 1.6258e-07\n",
      "Epoch 38/500\n",
      "547/547 [==============================] - 7s 13ms/step - loss: 7.7584e-08 - mse: 1.5517e-07 - val_loss: 8.4991e-08 - val_mse: 1.6998e-07\n",
      "Epoch 39/500\n",
      "547/547 [==============================] - 7s 14ms/step - loss: 7.7375e-08 - mse: 1.5475e-07 - val_loss: 8.0974e-08 - val_mse: 1.6195e-07\n",
      "Epoch 40/500\n",
      "547/547 [==============================] - 7s 13ms/step - loss: 7.5957e-08 - mse: 1.5191e-07 - val_loss: 8.2390e-08 - val_mse: 1.6478e-07\n",
      "Epoch 41/500\n",
      "547/547 [==============================] - 8s 14ms/step - loss: 7.9100e-08 - mse: 1.5820e-07 - val_loss: 1.1045e-07 - val_mse: 2.2091e-07\n",
      "Epoch 42/500\n",
      "547/547 [==============================] - 7s 13ms/step - loss: 7.6597e-08 - mse: 1.5319e-07 - val_loss: 8.1679e-08 - val_mse: 1.6336e-07\n",
      "Epoch 43/500\n",
      "547/547 [==============================] - 8s 14ms/step - loss: 7.5870e-08 - mse: 1.5174e-07 - val_loss: 1.0660e-07 - val_mse: 2.1320e-07\n",
      "Epoch 44/500\n",
      "547/547 [==============================] - 7s 13ms/step - loss: 7.6055e-08 - mse: 1.5211e-07 - val_loss: 9.2631e-08 - val_mse: 1.8526e-07\n",
      "Epoch 45/500\n",
      "547/547 [==============================] - 8s 14ms/step - loss: 7.7051e-08 - mse: 1.5410e-07 - val_loss: 8.8058e-08 - val_mse: 1.7612e-07\n",
      "Epoch 46/500\n",
      "547/547 [==============================] - 7s 13ms/step - loss: 7.8413e-08 - mse: 1.5683e-07 - val_loss: 8.5215e-08 - val_mse: 1.7043e-07\n",
      "Epoch 47/500\n",
      "547/547 [==============================] - 8s 14ms/step - loss: 7.7806e-08 - mse: 1.5561e-07 - val_loss: 8.1363e-08 - val_mse: 1.6273e-07\n",
      "Epoch 48/500\n",
      "547/547 [==============================] - 7s 13ms/step - loss: 7.7245e-08 - mse: 1.5449e-07 - val_loss: 8.3694e-08 - val_mse: 1.6739e-07\n",
      "Epoch 49/500\n",
      "547/547 [==============================] - 7s 14ms/step - loss: 7.7575e-08 - mse: 1.5515e-07 - val_loss: 8.0955e-08 - val_mse: 1.6191e-07\n",
      "Epoch 50/500\n",
      "547/547 [==============================] - 7s 13ms/step - loss: 7.7587e-08 - mse: 1.5517e-07 - val_loss: 8.5496e-08 - val_mse: 1.7099e-07\n",
      "Epoch 51/500\n",
      "547/547 [==============================] - 7s 13ms/step - loss: 7.7688e-08 - mse: 1.5538e-07 - val_loss: 8.1005e-08 - val_mse: 1.6201e-07\n",
      "Epoch 52/500\n",
      "547/547 [==============================] - 8s 14ms/step - loss: 7.7506e-08 - mse: 1.5501e-07 - val_loss: 8.3463e-08 - val_mse: 1.6693e-07\n",
      "Epoch 53/500\n",
      "547/547 [==============================] - 7s 13ms/step - loss: 7.8682e-08 - mse: 1.5736e-07 - val_loss: 8.3859e-08 - val_mse: 1.6772e-07\n",
      "Epoch 54/500\n",
      "547/547 [==============================] - 8s 14ms/step - loss: 7.7551e-08 - mse: 1.5510e-07 - val_loss: 8.6068e-08 - val_mse: 1.7214e-07\n",
      "Epoch 55/500\n",
      "547/547 [==============================] - 7s 13ms/step - loss: 7.6182e-08 - mse: 1.5236e-07 - val_loss: 8.4441e-08 - val_mse: 1.6888e-07\n",
      "Epoch 56/500\n",
      "547/547 [==============================] - 8s 14ms/step - loss: 7.6809e-08 - mse: 1.5362e-07 - val_loss: 8.0868e-08 - val_mse: 1.6174e-07\n",
      "Epoch 57/500\n",
      "547/547 [==============================] - 7s 13ms/step - loss: 7.6342e-08 - mse: 1.5268e-07 - val_loss: 8.8054e-08 - val_mse: 1.7611e-07\n",
      "Epoch 58/500\n",
      "547/547 [==============================] - 8s 14ms/step - loss: 7.6953e-08 - mse: 1.5391e-07 - val_loss: 9.6759e-08 - val_mse: 1.9352e-07\n",
      "Epoch 59/500\n",
      "547/547 [==============================] - 7s 13ms/step - loss: 7.6268e-08 - mse: 1.5254e-07 - val_loss: 8.2770e-08 - val_mse: 1.6554e-07\n",
      "Epoch 60/500\n",
      "547/547 [==============================] - 8s 14ms/step - loss: 7.8348e-08 - mse: 1.5670e-07 - val_loss: 8.0871e-08 - val_mse: 1.6174e-07\n",
      "Epoch 61/500\n",
      "547/547 [==============================] - 8s 14ms/step - loss: 7.7037e-08 - mse: 1.5407e-07 - val_loss: 8.0873e-08 - val_mse: 1.6175e-07\n",
      "Epoch 62/500\n",
      "547/547 [==============================] - 7s 14ms/step - loss: 7.7928e-08 - mse: 1.5586e-07 - val_loss: 8.7374e-08 - val_mse: 1.7475e-07\n",
      "Epoch 63/500\n",
      "547/547 [==============================] - 7s 13ms/step - loss: 7.7391e-08 - mse: 1.5478e-07 - val_loss: 8.0964e-08 - val_mse: 1.6193e-07\n",
      "Epoch 64/500\n",
      "547/547 [==============================] - 7s 14ms/step - loss: 7.6879e-08 - mse: 1.5376e-07 - val_loss: 8.0955e-08 - val_mse: 1.6191e-07\n",
      "Epoch 65/500\n",
      "547/547 [==============================] - 7s 13ms/step - loss: 7.6384e-08 - mse: 1.5277e-07 - val_loss: 8.3121e-08 - val_mse: 1.6624e-07\n",
      "Epoch 66/500\n",
      "547/547 [==============================] - 7s 13ms/step - loss: 7.8003e-08 - mse: 1.5601e-07 - val_loss: 8.4104e-08 - val_mse: 1.6821e-07\n",
      "Epoch 67/500\n",
      "547/547 [==============================] - 8s 14ms/step - loss: 7.7262e-08 - mse: 1.5452e-07 - val_loss: 9.2156e-08 - val_mse: 1.8431e-07\n",
      "Epoch 68/500\n",
      "547/547 [==============================] - 7s 13ms/step - loss: 7.6739e-08 - mse: 1.5348e-07 - val_loss: 9.5705e-08 - val_mse: 1.9141e-07\n",
      "Epoch 69/500\n",
      "547/547 [==============================] - 8s 14ms/step - loss: 7.7251e-08 - mse: 1.5450e-07 - val_loss: 8.7354e-08 - val_mse: 1.7471e-07\n",
      "Epoch 70/500\n",
      "547/547 [==============================] - 7s 13ms/step - loss: 7.7503e-08 - mse: 1.5501e-07 - val_loss: 9.4558e-08 - val_mse: 1.8912e-07\n",
      "Epoch 71/500\n",
      "547/547 [==============================] - 8s 14ms/step - loss: 7.6152e-08 - mse: 1.5230e-07 - val_loss: 8.1584e-08 - val_mse: 1.6317e-07\n",
      "Epoch 72/500\n",
      "547/547 [==============================] - 7s 13ms/step - loss: 7.7022e-08 - mse: 1.5404e-07 - val_loss: 8.1195e-08 - val_mse: 1.6239e-07\n",
      "Epoch 73/500\n",
      "547/547 [==============================] - 8s 14ms/step - loss: 7.6739e-08 - mse: 1.5348e-07 - val_loss: 8.7776e-08 - val_mse: 1.7555e-07\n",
      "Epoch 74/500\n",
      "547/547 [==============================] - 7s 13ms/step - loss: 7.6850e-08 - mse: 1.5370e-07 - val_loss: 8.1347e-08 - val_mse: 1.6269e-07\n",
      "Epoch 75/500\n",
      "547/547 [==============================] - 8s 14ms/step - loss: 7.7398e-08 - mse: 1.5480e-07 - val_loss: 9.1013e-08 - val_mse: 1.8203e-07\n",
      "Epoch 76/500\n",
      "547/547 [==============================] - 7s 13ms/step - loss: 7.8098e-08 - mse: 1.5620e-07 - val_loss: 9.3752e-08 - val_mse: 1.8750e-07\n",
      "Epoch 77/500\n",
      "547/547 [==============================] - 7s 13ms/step - loss: 7.9310e-08 - mse: 1.5862e-07 - val_loss: 8.4859e-08 - val_mse: 1.6972e-07\n",
      "Epoch 78/500\n",
      "547/547 [==============================] - 8s 14ms/step - loss: 7.5494e-08 - mse: 1.5099e-07 - val_loss: 8.1085e-08 - val_mse: 1.6217e-07\n",
      "Epoch 79/500\n",
      "547/547 [==============================] - 7s 13ms/step - loss: 7.7017e-08 - mse: 1.5403e-07 - val_loss: 8.0877e-08 - val_mse: 1.6175e-07\n",
      "Epoch 80/500\n",
      "547/547 [==============================] - 8s 14ms/step - loss: 7.6785e-08 - mse: 1.5357e-07 - val_loss: 8.1179e-08 - val_mse: 1.6236e-07\n",
      "Epoch 81/500\n",
      "547/547 [==============================] - 8s 16ms/step - loss: 7.7650e-08 - mse: 1.5530e-07 - val_loss: 8.2595e-08 - val_mse: 1.6519e-07\n",
      "Epoch 82/500\n",
      "547/547 [==============================] - 9s 16ms/step - loss: 7.7994e-08 - mse: 1.5599e-07 - val_loss: 9.0273e-08 - val_mse: 1.8055e-07\n",
      "Epoch 83/500\n",
      "547/547 [==============================] - 9s 17ms/step - loss: 7.6013e-08 - mse: 1.5203e-07 - val_loss: 8.2269e-08 - val_mse: 1.6454e-07\n",
      "Epoch 84/500\n",
      "547/547 [==============================] - 8s 15ms/step - loss: 7.8297e-08 - mse: 1.5659e-07 - val_loss: 1.1015e-07 - val_mse: 2.2029e-07\n",
      "Epoch 85/500\n",
      "547/547 [==============================] - 8s 15ms/step - loss: 7.7214e-08 - mse: 1.5443e-07 - val_loss: 8.9247e-08 - val_mse: 1.7849e-07\n",
      "Epoch 86/500\n",
      "547/547 [==============================] - 8s 15ms/step - loss: 7.5970e-08 - mse: 1.5194e-07 - val_loss: 8.1155e-08 - val_mse: 1.6231e-07\n",
      "Epoch 87/500\n",
      "547/547 [==============================] - 8s 15ms/step - loss: 7.5903e-08 - mse: 1.5181e-07 - val_loss: 8.1606e-08 - val_mse: 1.6321e-07\n",
      "Epoch 88/500\n",
      "547/547 [==============================] - 8s 14ms/step - loss: 7.5394e-08 - mse: 1.5079e-07 - val_loss: 1.0184e-07 - val_mse: 2.0368e-07\n",
      "Epoch 89/500\n",
      "547/547 [==============================] - 8s 15ms/step - loss: 7.6328e-08 - mse: 1.5266e-07 - val_loss: 8.2236e-08 - val_mse: 1.6447e-07\n",
      "Epoch 90/500\n",
      "547/547 [==============================] - 8s 15ms/step - loss: 7.7689e-08 - mse: 1.5538e-07 - val_loss: 8.6864e-08 - val_mse: 1.7373e-07\n",
      "Epoch 91/500\n",
      "547/547 [==============================] - 8s 15ms/step - loss: 7.7980e-08 - mse: 1.5596e-07 - val_loss: 9.0764e-08 - val_mse: 1.8153e-07\n",
      "Epoch 92/500\n",
      "547/547 [==============================] - 8s 15ms/step - loss: 7.6226e-08 - mse: 1.5245e-07 - val_loss: 8.2227e-08 - val_mse: 1.6445e-07\n",
      "Epoch 93/500\n",
      "547/547 [==============================] - 8s 15ms/step - loss: 7.7457e-08 - mse: 1.5491e-07 - val_loss: 8.1853e-08 - val_mse: 1.6371e-07\n",
      "Epoch 94/500\n",
      "547/547 [==============================] - 7s 13ms/step - loss: 7.7800e-08 - mse: 1.5560e-07 - val_loss: 8.2492e-08 - val_mse: 1.6498e-07\n",
      "Epoch 95/500\n",
      "547/547 [==============================] - 8s 15ms/step - loss: 7.6247e-08 - mse: 1.5249e-07 - val_loss: 8.1554e-08 - val_mse: 1.6311e-07\n",
      "Epoch 96/500\n",
      "547/547 [==============================] - 8s 14ms/step - loss: 7.6574e-08 - mse: 1.5315e-07 - val_loss: 8.0867e-08 - val_mse: 1.6173e-07\n",
      "Epoch 97/500\n",
      "547/547 [==============================] - 8s 15ms/step - loss: 7.4654e-08 - mse: 1.4931e-07 - val_loss: 9.3974e-08 - val_mse: 1.8795e-07\n",
      "Epoch 98/500\n",
      "547/547 [==============================] - 8s 14ms/step - loss: 7.7893e-08 - mse: 1.5579e-07 - val_loss: 8.3993e-08 - val_mse: 1.6799e-07\n",
      "Epoch 99/500\n",
      "547/547 [==============================] - 8s 15ms/step - loss: 7.5980e-08 - mse: 1.5196e-07 - val_loss: 8.1175e-08 - val_mse: 1.6235e-07\n",
      "Epoch 100/500\n",
      "547/547 [==============================] - 8s 14ms/step - loss: 7.7743e-08 - mse: 1.5549e-07 - val_loss: 8.1266e-08 - val_mse: 1.6253e-07\n",
      "Epoch 101/500\n",
      "547/547 [==============================] - 8s 15ms/step - loss: 7.8579e-08 - mse: 1.5716e-07 - val_loss: 8.9854e-08 - val_mse: 1.7971e-07\n",
      "Epoch 102/500\n",
      "547/547 [==============================] - 8s 14ms/step - loss: 7.6888e-08 - mse: 1.5378e-07 - val_loss: 9.2343e-08 - val_mse: 1.8469e-07\n",
      "Epoch 103/500\n",
      "547/547 [==============================] - 8s 15ms/step - loss: 7.6970e-08 - mse: 1.5394e-07 - val_loss: 8.0869e-08 - val_mse: 1.6174e-07\n",
      "Epoch 104/500\n",
      "547/547 [==============================] - 8s 14ms/step - loss: 7.7204e-08 - mse: 1.5441e-07 - val_loss: 8.1624e-08 - val_mse: 1.6325e-07\n",
      "Epoch 105/500\n",
      "547/547 [==============================] - 8s 15ms/step - loss: 7.8197e-08 - mse: 1.5639e-07 - val_loss: 8.8291e-08 - val_mse: 1.7658e-07\n",
      "Epoch 106/500\n",
      "547/547 [==============================] - 8s 14ms/step - loss: 7.7326e-08 - mse: 1.5465e-07 - val_loss: 8.1099e-08 - val_mse: 1.6220e-07\n",
      "Epoch 107/500\n",
      "547/547 [==============================] - 8s 15ms/step - loss: 7.6296e-08 - mse: 1.5259e-07 - val_loss: 1.0537e-07 - val_mse: 2.1074e-07\n",
      "Epoch 108/500\n",
      "547/547 [==============================] - 7s 14ms/step - loss: 7.6757e-08 - mse: 1.5351e-07 - val_loss: 8.5007e-08 - val_mse: 1.7001e-07\n",
      "Epoch 109/500\n"
     ]
    },
    {
     "name": "stdout",
     "output_type": "stream",
     "text": [
      "547/547 [==============================] - 8s 14ms/step - loss: 8.0403e-08 - mse: 1.6081e-07 - val_loss: 1.1339e-07 - val_mse: 2.2679e-07\n",
      "Epoch 110/500\n",
      "547/547 [==============================] - 7s 13ms/step - loss: 7.6394e-08 - mse: 1.5279e-07 - val_loss: 1.1360e-07 - val_mse: 2.2720e-07\n",
      "Epoch 111/500\n",
      "547/547 [==============================] - 7s 14ms/step - loss: 7.5839e-08 - mse: 1.5168e-07 - val_loss: 1.1445e-07 - val_mse: 2.2890e-07\n",
      "Epoch 112/500\n",
      "547/547 [==============================] - 7s 13ms/step - loss: 7.7883e-08 - mse: 1.5577e-07 - val_loss: 8.1157e-08 - val_mse: 1.6231e-07\n",
      "Epoch 113/500\n",
      "547/547 [==============================] - 8s 14ms/step - loss: 7.6719e-08 - mse: 1.5344e-07 - val_loss: 8.3559e-08 - val_mse: 1.6712e-07\n",
      "Epoch 114/500\n",
      "547/547 [==============================] - 8s 14ms/step - loss: 7.6544e-08 - mse: 1.5309e-07 - val_loss: 8.1146e-08 - val_mse: 1.6229e-07\n",
      "Epoch 115/500\n",
      "547/547 [==============================] - 8s 14ms/step - loss: 7.6318e-08 - mse: 1.5264e-07 - val_loss: 8.7535e-08 - val_mse: 1.7507e-07\n",
      "Epoch 116/500\n",
      "547/547 [==============================] - 8s 15ms/step - loss: 7.8991e-08 - mse: 1.5798e-07 - val_loss: 8.1167e-08 - val_mse: 1.6233e-07\n",
      "Epoch 117/500\n",
      "547/547 [==============================] - 9s 17ms/step - loss: 7.5303e-08 - mse: 1.5061e-07 - val_loss: 8.2384e-08 - val_mse: 1.6477e-07\n",
      "Epoch 118/500\n",
      "547/547 [==============================] - 9s 16ms/step - loss: 7.6367e-08 - mse: 1.5273e-07 - val_loss: 9.0953e-08 - val_mse: 1.8191e-07\n",
      "Epoch 119/500\n",
      "547/547 [==============================] - 9s 16ms/step - loss: 7.5616e-08 - mse: 1.5123e-07 - val_loss: 8.7298e-08 - val_mse: 1.7460e-07\n",
      "Epoch 120/500\n",
      "547/547 [==============================] - 8s 15ms/step - loss: 7.7674e-08 - mse: 1.5535e-07 - val_loss: 9.3600e-08 - val_mse: 1.8720e-07\n",
      "Epoch 121/500\n",
      "547/547 [==============================] - 9s 16ms/step - loss: 7.7173e-08 - mse: 1.5435e-07 - val_loss: 1.1295e-07 - val_mse: 2.2591e-07\n",
      "Epoch 122/500\n",
      "547/547 [==============================] - 9s 16ms/step - loss: 7.6141e-08 - mse: 1.5228e-07 - val_loss: 8.2359e-08 - val_mse: 1.6472e-07\n",
      "Epoch 123/500\n",
      "547/547 [==============================] - 9s 16ms/step - loss: 7.5648e-08 - mse: 1.5130e-07 - val_loss: 8.1967e-08 - val_mse: 1.6393e-07\n",
      "Epoch 124/500\n",
      "547/547 [==============================] - 9s 16ms/step - loss: 7.9338e-08 - mse: 1.5868e-07 - val_loss: 8.1129e-08 - val_mse: 1.6226e-07\n",
      "Epoch 125/500\n",
      "547/547 [==============================] - 9s 16ms/step - loss: 7.6690e-08 - mse: 1.5338e-07 - val_loss: 8.0931e-08 - val_mse: 1.6186e-07\n",
      "Epoch 126/500\n",
      "547/547 [==============================] - 8s 15ms/step - loss: 7.6835e-08 - mse: 1.5367e-07 - val_loss: 8.3273e-08 - val_mse: 1.6655e-07\n",
      "Epoch 127/500\n",
      "547/547 [==============================] - 8s 14ms/step - loss: 7.7812e-08 - mse: 1.5562e-07 - val_loss: 8.6332e-08 - val_mse: 1.7266e-07\n",
      "Epoch 128/500\n",
      "547/547 [==============================] - 9s 16ms/step - loss: 7.6819e-08 - mse: 1.5364e-07 - val_loss: 8.6601e-08 - val_mse: 1.7320e-07\n",
      "Epoch 129/500\n",
      "547/547 [==============================] - 8s 15ms/step - loss: 7.6318e-08 - mse: 1.5264e-07 - val_loss: 8.6841e-08 - val_mse: 1.7368e-07\n",
      "Epoch 130/500\n",
      "547/547 [==============================] - 9s 16ms/step - loss: 7.7110e-08 - mse: 1.5422e-07 - val_loss: 8.6967e-08 - val_mse: 1.7393e-07\n",
      "Epoch 131/500\n",
      "547/547 [==============================] - 8s 15ms/step - loss: 7.7457e-08 - mse: 1.5491e-07 - val_loss: 8.0873e-08 - val_mse: 1.6175e-07\n",
      "Epoch 132/500\n",
      "547/547 [==============================] - 9s 16ms/step - loss: 7.7697e-08 - mse: 1.5539e-07 - val_loss: 8.1662e-08 - val_mse: 1.6332e-07\n",
      "Epoch 133/500\n",
      "547/547 [==============================] - 8s 15ms/step - loss: 7.5764e-08 - mse: 1.5153e-07 - val_loss: 8.3661e-08 - val_mse: 1.6732e-07\n",
      "Epoch 134/500\n",
      "547/547 [==============================] - 9s 16ms/step - loss: 7.7249e-08 - mse: 1.5450e-07 - val_loss: 9.6267e-08 - val_mse: 1.9253e-07\n",
      "Epoch 135/500\n",
      "547/547 [==============================] - 8s 15ms/step - loss: 7.9020e-08 - mse: 1.5804e-07 - val_loss: 8.1393e-08 - val_mse: 1.6279e-07\n",
      "Epoch 136/500\n",
      "547/547 [==============================] - 8s 15ms/step - loss: 7.6423e-08 - mse: 1.5285e-07 - val_loss: 8.2849e-08 - val_mse: 1.6570e-07\n",
      "Epoch 137/500\n",
      "547/547 [==============================] - 8s 15ms/step - loss: 7.7015e-08 - mse: 1.5403e-07 - val_loss: 8.3182e-08 - val_mse: 1.6636e-07\n",
      "Epoch 138/500\n",
      "547/547 [==============================] - 8s 15ms/step - loss: 7.6016e-08 - mse: 1.5203e-07 - val_loss: 1.0062e-07 - val_mse: 2.0125e-07\n",
      "Epoch 139/500\n",
      "547/547 [==============================] - 8s 15ms/step - loss: 7.7783e-08 - mse: 1.5557e-07 - val_loss: 8.1760e-08 - val_mse: 1.6352e-07\n",
      "Epoch 140/500\n",
      "547/547 [==============================] - 8s 15ms/step - loss: 7.6598e-08 - mse: 1.5320e-07 - val_loss: 9.0722e-08 - val_mse: 1.8144e-07\n",
      "Epoch 141/500\n",
      "547/547 [==============================] - 8s 15ms/step - loss: 7.7716e-08 - mse: 1.5543e-07 - val_loss: 8.6145e-08 - val_mse: 1.7229e-07\n",
      "Epoch 142/500\n",
      "547/547 [==============================] - 8s 15ms/step - loss: 7.6188e-08 - mse: 1.5238e-07 - val_loss: 8.1542e-08 - val_mse: 1.6308e-07\n",
      "Epoch 143/500\n",
      "547/547 [==============================] - 8s 15ms/step - loss: 7.7398e-08 - mse: 1.5480e-07 - val_loss: 8.0965e-08 - val_mse: 1.6193e-07\n",
      "Epoch 144/500\n",
      "547/547 [==============================] - 8s 15ms/step - loss: 7.6299e-08 - mse: 1.5260e-07 - val_loss: 8.0880e-08 - val_mse: 1.6176e-07\n",
      "Epoch 145/500\n",
      "547/547 [==============================] - 8s 15ms/step - loss: 7.8979e-08 - mse: 1.5796e-07 - val_loss: 1.1220e-07 - val_mse: 2.2440e-07\n",
      "Epoch 146/500\n",
      "547/547 [==============================] - 8s 15ms/step - loss: 7.7807e-08 - mse: 1.5561e-07 - val_loss: 8.2528e-08 - val_mse: 1.6506e-07\n",
      "CPU times: total: 20min 37s\n",
      "Wall time: 19min 16s\n"
     ]
    }
   ],
   "source": [
    "%%time\n",
    "keras.backend.clear_session()\n",
    "tf.random.set_seed(42)\n",
    "np.random.seed(42)\n",
    "\n",
    "window_size = 64\n",
    "train_set = timeseries_dataset(x_train, window_size, batch_size=128)\n",
    "valid_set = timeseries_dataset(x_valid, window_size, batch_size=128)\n",
    "\n",
    "model = keras.models.Sequential()\n",
    "model.add(keras.layers.InputLayer(input_shape=[None, 1]))\n",
    "for dilation_rate in (1, 2, 4, 8, 16, 32):\n",
    "    model.add(\n",
    "      keras.layers.Conv1D(filters=32,\n",
    "                          kernel_size=2,\n",
    "                          strides=1,\n",
    "                          dilation_rate=dilation_rate,\n",
    "                          padding=\"causal\",\n",
    "                          activation=\"relu\")\n",
    "    )\n",
    "model.add(keras.layers.Conv1D(filters=1, kernel_size=1))\n",
    "optimizer = keras.optimizers.Adam()\n",
    "model.compile(loss=keras.losses.Huber(),\n",
    "              optimizer=optimizer,\n",
    "              metrics=[\"mse\"])\n",
    "\n",
    "model_checkpoint = keras.callbacks.ModelCheckpoint(\n",
    "    \"my_checkpoint.h5\", save_best_only=True)\n",
    "early_stopping = keras.callbacks.EarlyStopping(patience=50)\n",
    "history = model.fit(train_set, epochs=500,\n",
    "                    validation_data=valid_set,\n",
    "                    callbacks=[early_stopping, model_checkpoint])"
   ]
  },
  {
   "cell_type": "code",
   "execution_count": 17,
   "metadata": {
    "id": "eNwWZB0d8OJh"
   },
   "outputs": [],
   "source": [
    "model = keras.models.load_model(\"my_checkpoint.h5\")"
   ]
  },
  {
   "cell_type": "code",
   "execution_count": 18,
   "metadata": {
    "id": "PgYwn9VM8OJi"
   },
   "outputs": [],
   "source": [
    "cnn_forecast = model_forecast(model, series[..., np.newaxis], window_size)\n",
    "cnn_forecast = cnn_forecast[split_time - window_size:-1, -1, 0]"
   ]
  },
  {
   "cell_type": "code",
   "execution_count": 21,
   "metadata": {
    "id": "MCgshNPx8OJi",
    "scrolled": true
   },
   "outputs": [
    {
     "data": {
      "image/png": "[encoded data removed]",
      "text/plain": [
       "<Figure size 1000x600 with 1 Axes>"
      ]
     },
     "metadata": {},
     "output_type": "display_data"
    }
   ],
   "source": [
    "plt.figure(figsize=(10, 6))\n",
    "plot_series(time_valid, x_valid)\n",
    "plot_series(time_valid, cnn_forecast)"
   ]
  },
  {
   "cell_type": "code",
   "execution_count": 22,
   "metadata": {
    "id": "epK1gFEN8OJj"
   },
   "outputs": [
    {
     "data": {
      "text/plain": [
       "0.00024140191"
      ]
     },
     "execution_count": 22,
     "metadata": {},
     "output_type": "execute_result"
    }
   ],
   "source": [
    "keras.metrics.mean_absolute_error(x_valid, cnn_forecast).numpy()"
   ]
  },
  {
   "cell_type": "code",
   "execution_count": 23,
   "metadata": {},
   "outputs": [
    {
     "data": {
      "text/plain": [
       "1.6154935e-07"
      ]
     },
     "execution_count": 23,
     "metadata": {},
     "output_type": "execute_result"
    }
   ],
   "source": [
    "keras.metrics.mean_squared_error(x_valid, cnn_forecast).numpy()"
   ]
  },
  {
   "cell_type": "code",
   "execution_count": 24,
   "metadata": {},
   "outputs": [],
   "source": [
    "df2 = pd.DataFrame()\n",
    "\n",
    "df2['diff_moving_avg_plus_past'] = cnn_forecast\n",
    "df2['x_valid'] = x_valid\n",
    "\n",
    "ultimo_preco_fechamento = 113630.0\n",
    "\n",
    "df2['preco_valid'] = (1 + df2['x_valid']).cumprod()\n",
    "df2['preco_valid'] = ultimo_preco_fechamento * df2['preco_valid']\n",
    "\n",
    "df2['desr_prev'] = (1 + df2['diff_moving_avg_plus_past']).cumprod()\n",
    "df2['desr_prev'] = ultimo_preco_fechamento * df2['desr_prev']"
   ]
  },
  {
   "cell_type": "code",
   "execution_count": 25,
   "metadata": {},
   "outputs": [
    {
     "data": {
      "text/html": [
       "<div>\n",
       "<style scoped>\n",
       "    .dataframe tbody tr th:only-of-type {\n",
       "        vertical-align: middle;\n",
       "    }\n",
       "\n",
       "    .dataframe tbody tr th {\n",
       "        vertical-align: top;\n",
       "    }\n",
       "\n",
       "    .dataframe thead th {\n",
       "        text-align: right;\n",
       "    }\n",
       "</style>\n",
       "<table border=\"1\" class=\"dataframe\">\n",
       "  <thead>\n",
       "    <tr style=\"text-align: right;\">\n",
       "      <th></th>\n",
       "      <th>diff_moving_avg_plus_past</th>\n",
       "      <th>x_valid</th>\n",
       "      <th>preco_valid</th>\n",
       "      <th>desr_prev</th>\n",
       "    </tr>\n",
       "  </thead>\n",
       "  <tbody>\n",
       "    <tr>\n",
       "      <th>0</th>\n",
       "      <td>0.000004</td>\n",
       "      <td>-0.000174</td>\n",
       "      <td>113610.282839</td>\n",
       "      <td>113630.445312</td>\n",
       "    </tr>\n",
       "    <tr>\n",
       "      <th>1</th>\n",
       "      <td>0.000004</td>\n",
       "      <td>-0.000074</td>\n",
       "      <td>113601.832627</td>\n",
       "      <td>113630.890625</td>\n",
       "    </tr>\n",
       "    <tr>\n",
       "      <th>2</th>\n",
       "      <td>0.000004</td>\n",
       "      <td>0.000149</td>\n",
       "      <td>113618.733051</td>\n",
       "      <td>113631.343750</td>\n",
       "    </tr>\n",
       "    <tr>\n",
       "      <th>3</th>\n",
       "      <td>0.000004</td>\n",
       "      <td>-0.000037</td>\n",
       "      <td>113614.507945</td>\n",
       "      <td>113631.789062</td>\n",
       "    </tr>\n",
       "    <tr>\n",
       "      <th>4</th>\n",
       "      <td>0.000004</td>\n",
       "      <td>-0.000136</td>\n",
       "      <td>113599.015890</td>\n",
       "      <td>113632.234375</td>\n",
       "    </tr>\n",
       "    <tr>\n",
       "      <th>...</th>\n",
       "      <td>...</td>\n",
       "      <td>...</td>\n",
       "      <td>...</td>\n",
       "      <td>...</td>\n",
       "    </tr>\n",
       "    <tr>\n",
       "      <th>29992</th>\n",
       "      <td>0.000004</td>\n",
       "      <td>-0.000011</td>\n",
       "      <td>129476.964131</td>\n",
       "      <td>127857.320312</td>\n",
       "    </tr>\n",
       "    <tr>\n",
       "      <th>29993</th>\n",
       "      <td>0.000004</td>\n",
       "      <td>0.000000</td>\n",
       "      <td>129476.964131</td>\n",
       "      <td>127857.820312</td>\n",
       "    </tr>\n",
       "    <tr>\n",
       "      <th>29994</th>\n",
       "      <td>0.000004</td>\n",
       "      <td>0.000000</td>\n",
       "      <td>129476.964131</td>\n",
       "      <td>127858.320312</td>\n",
       "    </tr>\n",
       "    <tr>\n",
       "      <th>29995</th>\n",
       "      <td>0.000004</td>\n",
       "      <td>-0.000011</td>\n",
       "      <td>129475.555762</td>\n",
       "      <td>127858.820312</td>\n",
       "    </tr>\n",
       "    <tr>\n",
       "      <th>29996</th>\n",
       "      <td>0.000004</td>\n",
       "      <td>-0.000022</td>\n",
       "      <td>129472.739025</td>\n",
       "      <td>127859.328125</td>\n",
       "    </tr>\n",
       "  </tbody>\n",
       "</table>\n",
       "<p>29997 rows × 4 columns</p>\n",
       "</div>"
      ],
      "text/plain": [
       "       diff_moving_avg_plus_past   x_valid    preco_valid      desr_prev\n",
       "0                       0.000004 -0.000174  113610.282839  113630.445312\n",
       "1                       0.000004 -0.000074  113601.832627  113630.890625\n",
       "2                       0.000004  0.000149  113618.733051  113631.343750\n",
       "3                       0.000004 -0.000037  113614.507945  113631.789062\n",
       "4                       0.000004 -0.000136  113599.015890  113632.234375\n",
       "...                          ...       ...            ...            ...\n",
       "29992                   0.000004 -0.000011  129476.964131  127857.320312\n",
       "29993                   0.000004  0.000000  129476.964131  127857.820312\n",
       "29994                   0.000004  0.000000  129476.964131  127858.320312\n",
       "29995                   0.000004 -0.000011  129475.555762  127858.820312\n",
       "29996                   0.000004 -0.000022  129472.739025  127859.328125\n",
       "\n",
       "[29997 rows x 4 columns]"
      ]
     },
     "execution_count": 25,
     "metadata": {},
     "output_type": "execute_result"
    }
   ],
   "source": [
    "df2"
   ]
  },
  {
   "cell_type": "code",
   "execution_count": 26,
   "metadata": {},
   "outputs": [
    {
     "data": {
      "text/plain": [
       "29997"
      ]
     },
     "execution_count": 26,
     "metadata": {},
     "output_type": "execute_result"
    }
   ],
   "source": [
    "len(x_valid)"
   ]
  },
  {
   "cell_type": "code",
   "execution_count": 27,
   "metadata": {},
   "outputs": [
    {
     "data": {
      "text/plain": [
       "70000"
      ]
     },
     "execution_count": 27,
     "metadata": {},
     "output_type": "execute_result"
    }
   ],
   "source": [
    "len(x_train)"
   ]
  },
  {
   "cell_type": "code",
   "execution_count": 28,
   "metadata": {},
   "outputs": [],
   "source": [
    "df2['diff'] = df2['preco_valid']-df2['desr_prev']"
   ]
  },
  {
   "cell_type": "code",
   "execution_count": 29,
   "metadata": {},
   "outputs": [
    {
     "data": {
      "text/plain": [
       "4762.245806314424"
      ]
     },
     "execution_count": 29,
     "metadata": {},
     "output_type": "execute_result"
    }
   ],
   "source": [
    "df2['diff'].mean()"
   ]
  },
  {
   "cell_type": "code",
   "execution_count": null,
   "metadata": {},
   "outputs": [],
   "source": []
  }
 ],
 "metadata": {
  "accelerator": "GPU",
  "colab": {
   "collapsed_sections": [
    "vidayERjaO5q"
   ],
   "name": "l08c09_forecasting_with_cnn.ipynb",
   "toc_visible": true
  },
  "kernelspec": {
   "display_name": "Python 3 (ipykernel)",
   "language": "python",
   "name": "python3"
  },
  "language_info": {
   "codemirror_mode": {
    "name": "ipython",
    "version": 3
   },
   "file_extension": ".py",
   "mimetype": "text/x-python",
   "name": "python",
   "nbconvert_exporter": "python",
   "pygments_lexer": "ipython3",
   "version": "3.9.16"
  }
 },
 "nbformat": 4,
 "nbformat_minor": 1
}
