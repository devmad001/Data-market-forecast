{
 "cells": [
  {
   "cell_type": "code",
   "execution_count": 1,
   "id": "0b74c2ab",
   "metadata": {},
   "outputs": [],
   "source": [
    "import numpy as np\n",
    "import matplotlib.pyplot as plt\n",
    "import tensorflow as tf\n",
    "import pandas as pd\n",
    "import random as rn\n",
    "keras = tf.keras"
   ]
  },
  {
   "cell_type": "code",
   "execution_count": 2,
   "id": "e927a50a",
   "metadata": {},
   "outputs": [],
   "source": [
    "np.random.seed(42)\n",
    "rn.seed(42)\n",
    "tf.random.set_seed(42)"
   ]
  },
  {
   "cell_type": "code",
   "execution_count": 3,
   "id": "f55bcd12",
   "metadata": {
    "scrolled": false
   },
   "outputs": [
    {
     "data": {
      "text/plain": [
       "True"
      ]
     },
     "execution_count": 3,
     "metadata": {},
     "output_type": "execute_result"
    }
   ],
   "source": [
    "tf.test.is_built_with_cuda()"
   ]
  },
  {
   "cell_type": "code",
   "execution_count": 4,
   "id": "597e75b8",
   "metadata": {},
   "outputs": [],
   "source": [
    "path_winn = r'C:\\Users\\adria\\1Python\\Meu_novo_projeto\\WIN_N_1K\\WIN_N_1k.csv'\n",
    "winn = pd.read_csv(path_winn, index_col=0, parse_dates=True)"
   ]
  },
  {
   "cell_type": "code",
   "execution_count": 5,
   "id": "0fc4cc69",
   "metadata": {},
   "outputs": [],
   "source": [
    "path_wing = r'C:\\Users\\adria\\1Python\\Meu_novo_projeto\\WING23\\WING23.csv'\n",
    "wing = pd.read_csv(path_wing, index_col=0, parse_dates=True)"
   ]
  },
  {
   "cell_type": "code",
   "execution_count": 6,
   "id": "16c0a84a",
   "metadata": {},
   "outputs": [],
   "source": [
    "path_winj = r'C:\\Users\\adria\\1Python\\Meu_novo_projeto\\WINJ23\\WINJ23.csv'\n",
    "winj = pd.read_csv(path_winj, index_col=0, parse_dates=True)"
   ]
  },
  {
   "cell_type": "markdown",
   "id": "eb0e030d",
   "metadata": {},
   "source": [
    "# Trasforma os dos dados"
   ]
  },
  {
   "cell_type": "code",
   "execution_count": 7,
   "id": "84a9b9c6",
   "metadata": {},
   "outputs": [],
   "source": [
    "from sklearn.preprocessing import MinMaxScaler\n",
    "scaler = MinMaxScaler()\n",
    "lag = 2"
   ]
  },
  {
   "cell_type": "markdown",
   "id": "44fc199a",
   "metadata": {},
   "source": [
    "### Treino"
   ]
  },
  {
   "cell_type": "code",
   "execution_count": 8,
   "id": "ca2a5337",
   "metadata": {},
   "outputs": [],
   "source": [
    "winn['hl'] = (winn['high'] + winn['low'] + winn['close'] + winn['close']) / 4\n",
    "winn['mvhl'] = winn['hl'].rolling(lag).mean()"
   ]
  },
  {
   "cell_type": "code",
   "execution_count": 9,
   "id": "5e8d898b",
   "metadata": {},
   "outputs": [],
   "source": [
    "winn = winn.drop(['open', 'tick_volume','real_volume'], axis=1)"
   ]
  },
  {
   "cell_type": "code",
   "execution_count": 10,
   "id": "c8570fa5",
   "metadata": {},
   "outputs": [],
   "source": [
    "train = winn.dropna()"
   ]
  },
  {
   "cell_type": "code",
   "execution_count": 11,
   "id": "b8d799cc",
   "metadata": {},
   "outputs": [],
   "source": [
    "train = scaler.fit_transform(train)"
   ]
  },
  {
   "cell_type": "markdown",
   "id": "89bec51c",
   "metadata": {},
   "source": [
    "### Validacao"
   ]
  },
  {
   "cell_type": "code",
   "execution_count": 12,
   "id": "6458c578",
   "metadata": {},
   "outputs": [],
   "source": [
    "wing['hl'] = (wing['high'] + wing['low'] + wing['close'] + wing['close']) / 4\n",
    "wing['mvhl'] = wing['hl'].rolling(lag).mean()"
   ]
  },
  {
   "cell_type": "code",
   "execution_count": 13,
   "id": "569f77f6",
   "metadata": {},
   "outputs": [],
   "source": [
    "wing = wing.drop(['open', 'tick_volume','real_volume'], axis=1)"
   ]
  },
  {
   "cell_type": "code",
   "execution_count": 14,
   "id": "74a06531",
   "metadata": {},
   "outputs": [],
   "source": [
    "valid = wing.dropna()"
   ]
  },
  {
   "cell_type": "code",
   "execution_count": 15,
   "id": "cf199330",
   "metadata": {},
   "outputs": [],
   "source": [
    "valid = scaler.transform(valid)"
   ]
  },
  {
   "cell_type": "markdown",
   "id": "466db068",
   "metadata": {},
   "source": [
    "### Teste"
   ]
  },
  {
   "cell_type": "code",
   "execution_count": 16,
   "id": "db02f295",
   "metadata": {},
   "outputs": [],
   "source": [
    "winj['hl'] = (winj['high'] + winj['low'] + winj['close'] + winj['close']) / 4\n",
    "winj['mvhl'] = winj['hl'].rolling(lag).mean()\n",
    "winj = winj.drop(['open', 'tick_volume','real_volume'], axis=1)\n",
    "test = winj.dropna()\n",
    "test = scaler.transform(test)"
   ]
  },
  {
   "cell_type": "markdown",
   "id": "a7d8ab91",
   "metadata": {},
   "source": [
    "# Preprocessamento"
   ]
  },
  {
   "cell_type": "code",
   "execution_count": 17,
   "id": "5a31c75e",
   "metadata": {},
   "outputs": [],
   "source": [
    "batch_size = 128\n",
    "window_size = 32\n",
    "num_inputs  = train.shape[1]\n",
    "num_targets = 3\n",
    "stride = 3\n",
    "sampling_rate=1"
   ]
  },
  {
   "cell_type": "code",
   "execution_count": 18,
   "id": "3123dcdb",
   "metadata": {},
   "outputs": [],
   "source": [
    "def sliding_window_sequence(data, window_size, num_inputs, num_targets, stride, batch_size, sampling_rate=1):\n",
    "\n",
    "    num_examples = (len(data) - window_size) // stride\n",
    "    num_batches = num_examples // batch_size\n",
    "    inputs = np.zeros((num_examples, window_size, num_inputs))\n",
    "    targets = np.zeros((num_examples, num_targets))\n",
    "    \n",
    "    for i in range(num_examples):\n",
    "        idx = i * stride\n",
    "        inputs[i] = data[idx : idx+window_size : sampling_rate, :num_inputs]\n",
    "        targets[i] = data[idx+window_size : idx+window_size+num_targets, -1]\n",
    "    \n",
    "    batch_inputs = np.zeros((batch_size, window_size, num_inputs))\n",
    "    batch_targets = np.zeros((batch_size, num_targets))\n",
    "    while True:\n",
    "        for b in range(num_batches):\n",
    "            batch_start = b * batch_size\n",
    "            batch_inputs = inputs[batch_start:batch_start+batch_size]\n",
    "            batch_targets = targets[batch_start:batch_start+batch_size]\n",
    "            yield batch_inputs, batch_targets"
   ]
  },
  {
   "cell_type": "code",
   "execution_count": null,
   "id": "dc54af4b",
   "metadata": {},
   "outputs": [],
   "source": [
    " def sliding_window_sequence(data, window_size, num_inputs, num_targets, stride, batch_size, sampling_rate=1):\n",
    "    # Calcula o número total de exemplos que podem ser gerados usando a janela de tamanho fixo\n",
    "    num_examples = (len(data) - window_size) // stride\n",
    "    \n",
    "    # Calcula o número de lotes (batches) que podem ser gerados\n",
    "    num_batches = num_examples // batch_size\n",
    "    \n",
    "    # Cria matrizes numpy para armazenar inputs e targets\n",
    "    inputs = np.zeros((num_examples, window_size, num_inputs))\n",
    "    targets = np.zeros((num_examples, num_targets))\n",
    "    \n",
    "    # Loop através de cada exemplo e armazena-os nas matrizes inputs e targets\n",
    "    for i in range(num_examples):\n",
    "        idx = i * stride  # Calcula o índice inicial do exemplo atual\n",
    "        # Extrai a sequência de entrada do exemplo atual e armazena em inputs\n",
    "        inputs[i] = data[idx : idx+window_size : sampling_rate, :num_inputs]\n",
    "        # Extrai a sequência de targets do exemplo atual e armazena em targets\n",
    "        targets[i] = data[idx+window_size : idx+window_size+num_targets, -1]\n",
    "        #targets[i] = data[idx+window_size : idx+window_size+num_targets, :num_inputs] # todos os valores das linhas\n",
    "    \n",
    "    # Cria matrizes numpy para armazenar os inputs e targets de cada batch\n",
    "    batch_inputs = np.zeros((batch_size, window_size, num_inputs))\n",
    "    batch_targets = np.zeros((batch_size, num_targets))\n",
    "    \n",
    "    # Loop infinito para gerar batches de dados\n",
    "    while True:\n",
    "        # Loop através de cada batch\n",
    "        for b in range(num_batches):\n",
    "            batch_start = b * batch_size  # Calcula o índice inicial do batch atual\n",
    "            # Extrai os inputs do batch atual a partir da matriz inputs\n",
    "            batch_inputs = inputs[batch_start:batch_start+batch_size]\n",
    "            # Extrai os targets do batch atual a partir da matriz targets\n",
    "            batch_targets = targets[batch_start:batch_start+batch_size]\n",
    "            # Gera um batch de dados contendo inputs e targets\n",
    "            yield batch_inputs, batch_targets\n"
   ]
  },
  {
   "cell_type": "code",
   "execution_count": 19,
   "id": "436765cf",
   "metadata": {},
   "outputs": [],
   "source": [
    "train_set = sliding_window_sequence(train, window_size=window_size, num_inputs=num_inputs, num_targets=num_targets, stride=stride, batch_size=batch_size, sampling_rate=sampling_rate)\n",
    "valid_set = sliding_window_sequence(valid, window_size=window_size, num_inputs=num_inputs, num_targets=num_targets, stride=stride, batch_size=batch_size, sampling_rate=sampling_rate)\n",
    "test_set = sliding_window_sequence(test, window_size=window_size, num_inputs=num_inputs, num_targets=num_targets, stride=stride, batch_size=batch_size, sampling_rate=sampling_rate)"
   ]
  },
  {
   "cell_type": "markdown",
   "id": "1e6a83a7",
   "metadata": {},
   "source": [
    "# Treino"
   ]
  },
  {
   "cell_type": "code",
   "execution_count": 20,
   "id": "ae7ae995",
   "metadata": {
    "scrolled": true
   },
   "outputs": [
    {
     "data": {
      "text/plain": [
       "5"
      ]
     },
     "execution_count": 20,
     "metadata": {},
     "output_type": "execute_result"
    }
   ],
   "source": [
    "num_inputs"
   ]
  },
  {
   "cell_type": "code",
   "execution_count": 48,
   "id": "37c0a984",
   "metadata": {
    "scrolled": true
   },
   "outputs": [
    {
     "name": "stdout",
     "output_type": "stream",
     "text": [
      "Epoch 1/500\n",
      "781/781 [==============================] - 24s 26ms/step - loss: 0.0031 - mse: 0.0041 - val_loss: 0.0015 - val_mse: 0.0012\n"
     ]
    },
    {
     "name": "stderr",
     "output_type": "stream",
     "text": [
      "WARNING:absl:Found untraced functions such as gru_cell_2_layer_call_fn, gru_cell_2_layer_call_and_return_conditional_losses, lstm_cell_3_layer_call_fn, lstm_cell_3_layer_call_and_return_conditional_losses, gru_cell_2_layer_call_fn while saving (showing 5 of 10). These functions will not be directly callable after loading.\n"
     ]
    },
    {
     "name": "stdout",
     "output_type": "stream",
     "text": [
      "INFO:tensorflow:Assets written to: s2s_LSTM_256TimeD\\assets\n"
     ]
    },
    {
     "name": "stderr",
     "output_type": "stream",
     "text": [
      "INFO:tensorflow:Assets written to: s2s_LSTM_256TimeD\\assets\n"
     ]
    },
    {
     "name": "stdout",
     "output_type": "stream",
     "text": [
      "Epoch 2/500\n",
      "781/781 [==============================] - 16s 20ms/step - loss: 0.0011 - mse: 5.5543e-04 - val_loss: 0.0014 - val_mse: 0.0014\n"
     ]
    },
    {
     "name": "stderr",
     "output_type": "stream",
     "text": [
      "WARNING:absl:Found untraced functions such as gru_cell_2_layer_call_fn, gru_cell_2_layer_call_and_return_conditional_losses, lstm_cell_3_layer_call_fn, lstm_cell_3_layer_call_and_return_conditional_losses, gru_cell_2_layer_call_fn while saving (showing 5 of 10). These functions will not be directly callable after loading.\n"
     ]
    },
    {
     "name": "stdout",
     "output_type": "stream",
     "text": [
      "INFO:tensorflow:Assets written to: s2s_LSTM_256TimeD\\assets\n"
     ]
    },
    {
     "name": "stderr",
     "output_type": "stream",
     "text": [
      "INFO:tensorflow:Assets written to: s2s_LSTM_256TimeD\\assets\n"
     ]
    },
    {
     "name": "stdout",
     "output_type": "stream",
     "text": [
      "Epoch 3/500\n",
      "781/781 [==============================] - 16s 20ms/step - loss: 8.9114e-04 - mse: 5.8340e-04 - val_loss: 0.0014 - val_mse: 0.0017\n",
      "Epoch 4/500\n",
      "781/781 [==============================] - 16s 20ms/step - loss: 7.2758e-04 - mse: 4.6684e-04 - val_loss: 0.0013 - val_mse: 0.0017\n"
     ]
    },
    {
     "name": "stderr",
     "output_type": "stream",
     "text": [
      "WARNING:absl:Found untraced functions such as gru_cell_2_layer_call_fn, gru_cell_2_layer_call_and_return_conditional_losses, lstm_cell_3_layer_call_fn, lstm_cell_3_layer_call_and_return_conditional_losses, gru_cell_2_layer_call_fn while saving (showing 5 of 10). These functions will not be directly callable after loading.\n"
     ]
    },
    {
     "name": "stdout",
     "output_type": "stream",
     "text": [
      "INFO:tensorflow:Assets written to: s2s_LSTM_256TimeD\\assets\n"
     ]
    },
    {
     "name": "stderr",
     "output_type": "stream",
     "text": [
      "INFO:tensorflow:Assets written to: s2s_LSTM_256TimeD\\assets\n"
     ]
    },
    {
     "name": "stdout",
     "output_type": "stream",
     "text": [
      "Epoch 5/500\n",
      "781/781 [==============================] - 16s 20ms/step - loss: 6.3608e-04 - mse: 4.3301e-04 - val_loss: 0.0013 - val_mse: 0.0018\n"
     ]
    },
    {
     "name": "stderr",
     "output_type": "stream",
     "text": [
      "WARNING:absl:Found untraced functions such as gru_cell_2_layer_call_fn, gru_cell_2_layer_call_and_return_conditional_losses, lstm_cell_3_layer_call_fn, lstm_cell_3_layer_call_and_return_conditional_losses, gru_cell_2_layer_call_fn while saving (showing 5 of 10). These functions will not be directly callable after loading.\n"
     ]
    },
    {
     "name": "stdout",
     "output_type": "stream",
     "text": [
      "INFO:tensorflow:Assets written to: s2s_LSTM_256TimeD\\assets\n"
     ]
    },
    {
     "name": "stderr",
     "output_type": "stream",
     "text": [
      "INFO:tensorflow:Assets written to: s2s_LSTM_256TimeD\\assets\n"
     ]
    },
    {
     "name": "stdout",
     "output_type": "stream",
     "text": [
      "Epoch 6/500\n",
      "781/781 [==============================] - 16s 21ms/step - loss: 5.2305e-04 - mse: 3.2292e-04 - val_loss: 9.2386e-04 - val_mse: 0.0012\n"
     ]
    },
    {
     "name": "stderr",
     "output_type": "stream",
     "text": [
      "WARNING:absl:Found untraced functions such as gru_cell_2_layer_call_fn, gru_cell_2_layer_call_and_return_conditional_losses, lstm_cell_3_layer_call_fn, lstm_cell_3_layer_call_and_return_conditional_losses, gru_cell_2_layer_call_fn while saving (showing 5 of 10). These functions will not be directly callable after loading.\n"
     ]
    },
    {
     "name": "stdout",
     "output_type": "stream",
     "text": [
      "INFO:tensorflow:Assets written to: s2s_LSTM_256TimeD\\assets\n"
     ]
    },
    {
     "name": "stderr",
     "output_type": "stream",
     "text": [
      "INFO:tensorflow:Assets written to: s2s_LSTM_256TimeD\\assets\n"
     ]
    },
    {
     "name": "stdout",
     "output_type": "stream",
     "text": [
      "Epoch 7/500\n",
      "781/781 [==============================] - 16s 20ms/step - loss: 4.5030e-04 - mse: 2.7314e-04 - val_loss: 6.3714e-04 - val_mse: 6.8929e-04\n"
     ]
    },
    {
     "name": "stderr",
     "output_type": "stream",
     "text": [
      "WARNING:absl:Found untraced functions such as gru_cell_2_layer_call_fn, gru_cell_2_layer_call_and_return_conditional_losses, lstm_cell_3_layer_call_fn, lstm_cell_3_layer_call_and_return_conditional_losses, gru_cell_2_layer_call_fn while saving (showing 5 of 10). These functions will not be directly callable after loading.\n"
     ]
    },
    {
     "name": "stdout",
     "output_type": "stream",
     "text": [
      "INFO:tensorflow:Assets written to: s2s_LSTM_256TimeD\\assets\n"
     ]
    },
    {
     "name": "stderr",
     "output_type": "stream",
     "text": [
      "INFO:tensorflow:Assets written to: s2s_LSTM_256TimeD\\assets\n"
     ]
    },
    {
     "name": "stdout",
     "output_type": "stream",
     "text": [
      "Epoch 8/500\n",
      "781/781 [==============================] - 16s 20ms/step - loss: 4.0140e-04 - mse: 2.5653e-04 - val_loss: 4.4175e-04 - val_mse: 3.7372e-04\n"
     ]
    },
    {
     "name": "stderr",
     "output_type": "stream",
     "text": [
      "WARNING:absl:Found untraced functions such as gru_cell_2_layer_call_fn, gru_cell_2_layer_call_and_return_conditional_losses, lstm_cell_3_layer_call_fn, lstm_cell_3_layer_call_and_return_conditional_losses, gru_cell_2_layer_call_fn while saving (showing 5 of 10). These functions will not be directly callable after loading.\n"
     ]
    },
    {
     "name": "stdout",
     "output_type": "stream",
     "text": [
      "INFO:tensorflow:Assets written to: s2s_LSTM_256TimeD\\assets\n"
     ]
    },
    {
     "name": "stderr",
     "output_type": "stream",
     "text": [
      "INFO:tensorflow:Assets written to: s2s_LSTM_256TimeD\\assets\n"
     ]
    },
    {
     "name": "stdout",
     "output_type": "stream",
     "text": [
      "Epoch 9/500\n",
      "781/781 [==============================] - 18s 22ms/step - loss: 3.4839e-04 - mse: 2.2064e-04 - val_loss: 3.1356e-04 - val_mse: 1.8279e-04\n"
     ]
    },
    {
     "name": "stderr",
     "output_type": "stream",
     "text": [
      "WARNING:absl:Found untraced functions such as gru_cell_2_layer_call_fn, gru_cell_2_layer_call_and_return_conditional_losses, lstm_cell_3_layer_call_fn, lstm_cell_3_layer_call_and_return_conditional_losses, gru_cell_2_layer_call_fn while saving (showing 5 of 10). These functions will not be directly callable after loading.\n"
     ]
    },
    {
     "name": "stdout",
     "output_type": "stream",
     "text": [
      "INFO:tensorflow:Assets written to: s2s_LSTM_256TimeD\\assets\n"
     ]
    },
    {
     "name": "stderr",
     "output_type": "stream",
     "text": [
      "INFO:tensorflow:Assets written to: s2s_LSTM_256TimeD\\assets\n"
     ]
    },
    {
     "name": "stdout",
     "output_type": "stream",
     "text": [
      "Epoch 10/500\n",
      "781/781 [==============================] - 16s 20ms/step - loss: 2.9258e-04 - mse: 1.6959e-04 - val_loss: 2.9592e-04 - val_mse: 2.0356e-04\n"
     ]
    },
    {
     "name": "stderr",
     "output_type": "stream",
     "text": [
      "WARNING:absl:Found untraced functions such as gru_cell_2_layer_call_fn, gru_cell_2_layer_call_and_return_conditional_losses, lstm_cell_3_layer_call_fn, lstm_cell_3_layer_call_and_return_conditional_losses, gru_cell_2_layer_call_fn while saving (showing 5 of 10). These functions will not be directly callable after loading.\n"
     ]
    },
    {
     "name": "stdout",
     "output_type": "stream",
     "text": [
      "INFO:tensorflow:Assets written to: s2s_LSTM_256TimeD\\assets\n"
     ]
    },
    {
     "name": "stderr",
     "output_type": "stream",
     "text": [
      "INFO:tensorflow:Assets written to: s2s_LSTM_256TimeD\\assets\n"
     ]
    },
    {
     "name": "stdout",
     "output_type": "stream",
     "text": [
      "Epoch 11/500\n",
      "781/781 [==============================] - 16s 21ms/step - loss: 3.0147e-04 - mse: 2.3783e-04 - val_loss: 2.9149e-04 - val_mse: 2.3950e-04\n"
     ]
    },
    {
     "name": "stderr",
     "output_type": "stream",
     "text": [
      "WARNING:absl:Found untraced functions such as gru_cell_2_layer_call_fn, gru_cell_2_layer_call_and_return_conditional_losses, lstm_cell_3_layer_call_fn, lstm_cell_3_layer_call_and_return_conditional_losses, gru_cell_2_layer_call_fn while saving (showing 5 of 10). These functions will not be directly callable after loading.\n"
     ]
    },
    {
     "name": "stdout",
     "output_type": "stream",
     "text": [
      "INFO:tensorflow:Assets written to: s2s_LSTM_256TimeD\\assets\n"
     ]
    },
    {
     "name": "stderr",
     "output_type": "stream",
     "text": [
      "INFO:tensorflow:Assets written to: s2s_LSTM_256TimeD\\assets\n"
     ]
    },
    {
     "name": "stdout",
     "output_type": "stream",
     "text": [
      "Epoch 12/500\n",
      "781/781 [==============================] - 17s 21ms/step - loss: 2.9179e-04 - mse: 2.5831e-04 - val_loss: 2.1362e-04 - val_mse: 1.1947e-04\n"
     ]
    },
    {
     "name": "stderr",
     "output_type": "stream",
     "text": [
      "WARNING:absl:Found untraced functions such as gru_cell_2_layer_call_fn, gru_cell_2_layer_call_and_return_conditional_losses, lstm_cell_3_layer_call_fn, lstm_cell_3_layer_call_and_return_conditional_losses, gru_cell_2_layer_call_fn while saving (showing 5 of 10). These functions will not be directly callable after loading.\n"
     ]
    },
    {
     "name": "stdout",
     "output_type": "stream",
     "text": [
      "INFO:tensorflow:Assets written to: s2s_LSTM_256TimeD\\assets\n"
     ]
    },
    {
     "name": "stderr",
     "output_type": "stream",
     "text": [
      "INFO:tensorflow:Assets written to: s2s_LSTM_256TimeD\\assets\n"
     ]
    },
    {
     "name": "stdout",
     "output_type": "stream",
     "text": [
      "Epoch 13/500\n",
      "781/781 [==============================] - 17s 21ms/step - loss: 2.4209e-04 - mse: 1.9224e-04 - val_loss: 2.0180e-04 - val_mse: 1.2723e-04\n"
     ]
    },
    {
     "name": "stderr",
     "output_type": "stream",
     "text": [
      "WARNING:absl:Found untraced functions such as gru_cell_2_layer_call_fn, gru_cell_2_layer_call_and_return_conditional_losses, lstm_cell_3_layer_call_fn, lstm_cell_3_layer_call_and_return_conditional_losses, gru_cell_2_layer_call_fn while saving (showing 5 of 10). These functions will not be directly callable after loading.\n"
     ]
    },
    {
     "name": "stdout",
     "output_type": "stream",
     "text": [
      "INFO:tensorflow:Assets written to: s2s_LSTM_256TimeD\\assets\n"
     ]
    },
    {
     "name": "stderr",
     "output_type": "stream",
     "text": [
      "INFO:tensorflow:Assets written to: s2s_LSTM_256TimeD\\assets\n"
     ]
    },
    {
     "name": "stdout",
     "output_type": "stream",
     "text": [
      "Epoch 14/500\n",
      "781/781 [==============================] - 17s 22ms/step - loss: 2.1575e-04 - mse: 1.6916e-04 - val_loss: 1.7562e-04 - val_mse: 1.0282e-04\n"
     ]
    },
    {
     "name": "stderr",
     "output_type": "stream",
     "text": [
      "WARNING:absl:Found untraced functions such as gru_cell_2_layer_call_fn, gru_cell_2_layer_call_and_return_conditional_losses, lstm_cell_3_layer_call_fn, lstm_cell_3_layer_call_and_return_conditional_losses, gru_cell_2_layer_call_fn while saving (showing 5 of 10). These functions will not be directly callable after loading.\n"
     ]
    },
    {
     "name": "stdout",
     "output_type": "stream",
     "text": [
      "INFO:tensorflow:Assets written to: s2s_LSTM_256TimeD\\assets\n"
     ]
    },
    {
     "name": "stderr",
     "output_type": "stream",
     "text": [
      "INFO:tensorflow:Assets written to: s2s_LSTM_256TimeD\\assets\n"
     ]
    },
    {
     "name": "stdout",
     "output_type": "stream",
     "text": [
      "Epoch 15/500\n",
      "781/781 [==============================] - 17s 22ms/step - loss: 1.9963e-04 - mse: 1.6328e-04 - val_loss: 1.4983e-04 - val_mse: 7.5895e-05\n"
     ]
    },
    {
     "name": "stderr",
     "output_type": "stream",
     "text": [
      "WARNING:absl:Found untraced functions such as gru_cell_2_layer_call_fn, gru_cell_2_layer_call_and_return_conditional_losses, lstm_cell_3_layer_call_fn, lstm_cell_3_layer_call_and_return_conditional_losses, gru_cell_2_layer_call_fn while saving (showing 5 of 10). These functions will not be directly callable after loading.\n"
     ]
    },
    {
     "name": "stdout",
     "output_type": "stream",
     "text": [
      "INFO:tensorflow:Assets written to: s2s_LSTM_256TimeD\\assets\n"
     ]
    },
    {
     "name": "stderr",
     "output_type": "stream",
     "text": [
      "INFO:tensorflow:Assets written to: s2s_LSTM_256TimeD\\assets\n"
     ]
    },
    {
     "name": "stdout",
     "output_type": "stream",
     "text": [
      "Epoch 16/500\n",
      "781/781 [==============================] - 17s 21ms/step - loss: 1.7890e-04 - mse: 1.4479e-04 - val_loss: 1.5984e-04 - val_mse: 1.1688e-04\n",
      "Epoch 17/500\n",
      "781/781 [==============================] - 17s 22ms/step - loss: 1.7371e-04 - mse: 1.5363e-04 - val_loss: 2.1146e-04 - val_mse: 2.3718e-04\n",
      "Epoch 18/500\n",
      "781/781 [==============================] - 16s 21ms/step - loss: 1.7197e-04 - mse: 1.6549e-04 - val_loss: 1.9055e-04 - val_mse: 2.0906e-04\n",
      "Epoch 19/500\n",
      "781/781 [==============================] - 17s 21ms/step - loss: 1.5459e-04 - mse: 1.4361e-04 - val_loss: 2.4379e-04 - val_mse: 3.2766e-04\n",
      "Epoch 20/500\n",
      "781/781 [==============================] - 17s 22ms/step - loss: 1.4134e-04 - mse: 1.2901e-04 - val_loss: 3.2908e-04 - val_mse: 5.0972e-04\n",
      "Epoch 21/500\n",
      "781/781 [==============================] - 18s 23ms/step - loss: 1.3461e-04 - mse: 1.2663e-04 - val_loss: 3.8390e-04 - val_mse: 6.2973e-04\n",
      "Epoch 22/500\n",
      "781/781 [==============================] - 18s 23ms/step - loss: 1.2937e-04 - mse: 1.2575e-04 - val_loss: 3.3905e-04 - val_mse: 5.4884e-04\n",
      "Epoch 23/500\n",
      "781/781 [==============================] - 17s 21ms/step - loss: 1.2715e-04 - mse: 1.2942e-04 - val_loss: 3.3132e-04 - val_mse: 5.4093e-04\n",
      "Epoch 24/500\n",
      "781/781 [==============================] - 16s 21ms/step - loss: 1.1697e-04 - mse: 1.1615e-04 - val_loss: 2.2527e-04 - val_mse: 3.3560e-04\n",
      "Epoch 25/500\n",
      "781/781 [==============================] - 16s 21ms/step - loss: 1.1399e-04 - mse: 1.1654e-04 - val_loss: 1.5643e-04 - val_mse: 2.0407e-04\n",
      "Epoch 26/500\n",
      "781/781 [==============================] - 17s 21ms/step - loss: 1.0764e-04 - mse: 1.0954e-04 - val_loss: 9.9893e-05 - val_mse: 9.6519e-05\n"
     ]
    },
    {
     "name": "stderr",
     "output_type": "stream",
     "text": [
      "WARNING:absl:Found untraced functions such as gru_cell_2_layer_call_fn, gru_cell_2_layer_call_and_return_conditional_losses, lstm_cell_3_layer_call_fn, lstm_cell_3_layer_call_and_return_conditional_losses, gru_cell_2_layer_call_fn while saving (showing 5 of 10). These functions will not be directly callable after loading.\n"
     ]
    },
    {
     "name": "stdout",
     "output_type": "stream",
     "text": [
      "INFO:tensorflow:Assets written to: s2s_LSTM_256TimeD\\assets\n"
     ]
    },
    {
     "name": "stderr",
     "output_type": "stream",
     "text": [
      "INFO:tensorflow:Assets written to: s2s_LSTM_256TimeD\\assets\n"
     ]
    },
    {
     "name": "stdout",
     "output_type": "stream",
     "text": [
      "Epoch 27/500\n",
      "781/781 [==============================] - 17s 21ms/step - loss: 1.0633e-04 - mse: 1.1202e-04 - val_loss: 8.0765e-05 - val_mse: 6.3109e-05\n"
     ]
    },
    {
     "name": "stderr",
     "output_type": "stream",
     "text": [
      "WARNING:absl:Found untraced functions such as gru_cell_2_layer_call_fn, gru_cell_2_layer_call_and_return_conditional_losses, lstm_cell_3_layer_call_fn, lstm_cell_3_layer_call_and_return_conditional_losses, gru_cell_2_layer_call_fn while saving (showing 5 of 10). These functions will not be directly callable after loading.\n"
     ]
    },
    {
     "name": "stdout",
     "output_type": "stream",
     "text": [
      "INFO:tensorflow:Assets written to: s2s_LSTM_256TimeD\\assets\n"
     ]
    },
    {
     "name": "stderr",
     "output_type": "stream",
     "text": [
      "INFO:tensorflow:Assets written to: s2s_LSTM_256TimeD\\assets\n"
     ]
    },
    {
     "name": "stdout",
     "output_type": "stream",
     "text": [
      "Epoch 28/500\n",
      "781/781 [==============================] - 17s 22ms/step - loss: 1.0013e-04 - mse: 1.0408e-04 - val_loss: 6.9471e-05 - val_mse: 4.4878e-05\n"
     ]
    },
    {
     "name": "stderr",
     "output_type": "stream",
     "text": [
      "WARNING:absl:Found untraced functions such as gru_cell_2_layer_call_fn, gru_cell_2_layer_call_and_return_conditional_losses, lstm_cell_3_layer_call_fn, lstm_cell_3_layer_call_and_return_conditional_losses, gru_cell_2_layer_call_fn while saving (showing 5 of 10). These functions will not be directly callable after loading.\n"
     ]
    },
    {
     "name": "stdout",
     "output_type": "stream",
     "text": [
      "INFO:tensorflow:Assets written to: s2s_LSTM_256TimeD\\assets\n"
     ]
    },
    {
     "name": "stderr",
     "output_type": "stream",
     "text": [
      "INFO:tensorflow:Assets written to: s2s_LSTM_256TimeD\\assets\n"
     ]
    },
    {
     "name": "stdout",
     "output_type": "stream",
     "text": [
      "Epoch 29/500\n",
      "781/781 [==============================] - 16s 20ms/step - loss: 9.9284e-05 - mse: 1.0640e-04 - val_loss: 7.4024e-05 - val_mse: 5.7894e-05\n",
      "Epoch 30/500\n",
      "781/781 [==============================] - 16s 20ms/step - loss: 9.3268e-05 - mse: 9.8051e-05 - val_loss: 7.2354e-05 - val_mse: 5.8129e-05\n",
      "Epoch 31/500\n",
      "781/781 [==============================] - 16s 20ms/step - loss: 9.0261e-05 - mse: 9.5500e-05 - val_loss: 6.1603e-05 - val_mse: 3.9832e-05\n"
     ]
    },
    {
     "name": "stderr",
     "output_type": "stream",
     "text": [
      "WARNING:absl:Found untraced functions such as gru_cell_2_layer_call_fn, gru_cell_2_layer_call_and_return_conditional_losses, lstm_cell_3_layer_call_fn, lstm_cell_3_layer_call_and_return_conditional_losses, gru_cell_2_layer_call_fn while saving (showing 5 of 10). These functions will not be directly callable after loading.\n"
     ]
    },
    {
     "name": "stdout",
     "output_type": "stream",
     "text": [
      "INFO:tensorflow:Assets written to: s2s_LSTM_256TimeD\\assets\n"
     ]
    },
    {
     "name": "stderr",
     "output_type": "stream",
     "text": [
      "INFO:tensorflow:Assets written to: s2s_LSTM_256TimeD\\assets\n"
     ]
    },
    {
     "name": "stdout",
     "output_type": "stream",
     "text": [
      "Epoch 32/500\n",
      "781/781 [==============================] - 16s 21ms/step - loss: 9.2899e-05 - mse: 1.0391e-04 - val_loss: 6.3995e-05 - val_mse: 4.7412e-05\n",
      "Epoch 33/500\n",
      "781/781 [==============================] - 16s 21ms/step - loss: 8.7932e-05 - mse: 9.6637e-05 - val_loss: 7.6841e-05 - val_mse: 7.5520e-05\n",
      "Epoch 34/500\n",
      "781/781 [==============================] - 16s 21ms/step - loss: 8.1542e-05 - mse: 8.6411e-05 - val_loss: 1.3337e-04 - val_mse: 1.9101e-04\n",
      "Epoch 35/500\n",
      "781/781 [==============================] - 16s 21ms/step - loss: 8.2937e-05 - mse: 9.1743e-05 - val_loss: 1.8983e-04 - val_mse: 3.0625e-04\n",
      "Epoch 36/500\n",
      "781/781 [==============================] - 16s 21ms/step - loss: 8.2886e-05 - mse: 9.3894e-05 - val_loss: 1.6846e-04 - val_mse: 2.6562e-04\n",
      "Epoch 37/500\n",
      "781/781 [==============================] - 16s 21ms/step - loss: 7.6554e-05 - mse: 8.3249e-05 - val_loss: 1.6280e-04 - val_mse: 2.5631e-04\n",
      "Epoch 38/500\n",
      "781/781 [==============================] - 16s 21ms/step - loss: 7.6881e-05 - mse: 8.5912e-05 - val_loss: 1.3569e-04 - val_mse: 2.0409e-04\n",
      "Epoch 39/500\n",
      "781/781 [==============================] - 16s 21ms/step - loss: 7.5351e-05 - mse: 8.4743e-05 - val_loss: 1.1780e-04 - val_mse: 1.7020e-04\n",
      "Epoch 40/500\n",
      "781/781 [==============================] - 16s 20ms/step - loss: 7.4008e-05 - mse: 8.3835e-05 - val_loss: 8.3955e-05 - val_mse: 1.0425e-04\n",
      "Epoch 41/500\n",
      "781/781 [==============================] - 16s 21ms/step - loss: 6.9339e-05 - mse: 7.6147e-05 - val_loss: 5.6152e-05 - val_mse: 5.0457e-05\n"
     ]
    },
    {
     "name": "stderr",
     "output_type": "stream",
     "text": [
      "WARNING:absl:Found untraced functions such as gru_cell_2_layer_call_fn, gru_cell_2_layer_call_and_return_conditional_losses, lstm_cell_3_layer_call_fn, lstm_cell_3_layer_call_and_return_conditional_losses, gru_cell_2_layer_call_fn while saving (showing 5 of 10). These functions will not be directly callable after loading.\n"
     ]
    },
    {
     "name": "stdout",
     "output_type": "stream",
     "text": [
      "INFO:tensorflow:Assets written to: s2s_LSTM_256TimeD\\assets\n"
     ]
    },
    {
     "name": "stderr",
     "output_type": "stream",
     "text": [
      "INFO:tensorflow:Assets written to: s2s_LSTM_256TimeD\\assets\n"
     ]
    },
    {
     "name": "stdout",
     "output_type": "stream",
     "text": [
      "Epoch 42/500\n",
      "781/781 [==============================] - 16s 21ms/step - loss: 7.3309e-05 - mse: 8.5749e-05 - val_loss: 4.8631e-05 - val_mse: 3.6989e-05\n"
     ]
    },
    {
     "name": "stderr",
     "output_type": "stream",
     "text": [
      "WARNING:absl:Found untraced functions such as gru_cell_2_layer_call_fn, gru_cell_2_layer_call_and_return_conditional_losses, lstm_cell_3_layer_call_fn, lstm_cell_3_layer_call_and_return_conditional_losses, gru_cell_2_layer_call_fn while saving (showing 5 of 10). These functions will not be directly callable after loading.\n"
     ]
    },
    {
     "name": "stdout",
     "output_type": "stream",
     "text": [
      "INFO:tensorflow:Assets written to: s2s_LSTM_256TimeD\\assets\n"
     ]
    },
    {
     "name": "stderr",
     "output_type": "stream",
     "text": [
      "INFO:tensorflow:Assets written to: s2s_LSTM_256TimeD\\assets\n"
     ]
    },
    {
     "name": "stdout",
     "output_type": "stream",
     "text": [
      "Epoch 43/500\n",
      "781/781 [==============================] - 16s 20ms/step - loss: 6.9451e-05 - mse: 7.9436e-05 - val_loss: 4.4145e-05 - val_mse: 2.9450e-05\n"
     ]
    },
    {
     "name": "stderr",
     "output_type": "stream",
     "text": [
      "WARNING:absl:Found untraced functions such as gru_cell_2_layer_call_fn, gru_cell_2_layer_call_and_return_conditional_losses, lstm_cell_3_layer_call_fn, lstm_cell_3_layer_call_and_return_conditional_losses, gru_cell_2_layer_call_fn while saving (showing 5 of 10). These functions will not be directly callable after loading.\n"
     ]
    },
    {
     "name": "stdout",
     "output_type": "stream",
     "text": [
      "INFO:tensorflow:Assets written to: s2s_LSTM_256TimeD\\assets\n"
     ]
    },
    {
     "name": "stderr",
     "output_type": "stream",
     "text": [
      "INFO:tensorflow:Assets written to: s2s_LSTM_256TimeD\\assets\n"
     ]
    },
    {
     "name": "stdout",
     "output_type": "stream",
     "text": [
      "Epoch 44/500\n",
      "781/781 [==============================] - 17s 21ms/step - loss: 6.4837e-05 - mse: 7.1603e-05 - val_loss: 6.2453e-05 - val_mse: 6.7621e-05\n",
      "Epoch 45/500\n",
      "781/781 [==============================] - 16s 21ms/step - loss: 6.9600e-05 - mse: 8.2575e-05 - val_loss: 6.0116e-05 - val_mse: 6.4284e-05\n",
      "Epoch 46/500\n",
      "781/781 [==============================] - 16s 20ms/step - loss: 6.3345e-05 - mse: 7.1263e-05 - val_loss: 6.1022e-05 - val_mse: 6.7313e-05\n",
      "Epoch 47/500\n",
      "781/781 [==============================] - 16s 21ms/step - loss: 6.4325e-05 - mse: 7.4481e-05 - val_loss: 5.7248e-05 - val_mse: 6.0993e-05\n",
      "Epoch 48/500\n",
      "781/781 [==============================] - 16s 21ms/step - loss: 6.3283e-05 - mse: 7.3544e-05 - val_loss: 4.2143e-05 - val_mse: 3.1754e-05\n"
     ]
    },
    {
     "name": "stderr",
     "output_type": "stream",
     "text": [
      "WARNING:absl:Found untraced functions such as gru_cell_2_layer_call_fn, gru_cell_2_layer_call_and_return_conditional_losses, lstm_cell_3_layer_call_fn, lstm_cell_3_layer_call_and_return_conditional_losses, gru_cell_2_layer_call_fn while saving (showing 5 of 10). These functions will not be directly callable after loading.\n"
     ]
    },
    {
     "name": "stdout",
     "output_type": "stream",
     "text": [
      "INFO:tensorflow:Assets written to: s2s_LSTM_256TimeD\\assets\n"
     ]
    },
    {
     "name": "stderr",
     "output_type": "stream",
     "text": [
      "INFO:tensorflow:Assets written to: s2s_LSTM_256TimeD\\assets\n"
     ]
    },
    {
     "name": "stdout",
     "output_type": "stream",
     "text": [
      "Epoch 49/500\n",
      "781/781 [==============================] - 17s 21ms/step - loss: 6.2662e-05 - mse: 7.3356e-05 - val_loss: 4.4543e-05 - val_mse: 3.7442e-05\n",
      "Epoch 50/500\n",
      "781/781 [==============================] - 16s 21ms/step - loss: 6.1336e-05 - mse: 7.1724e-05 - val_loss: 8.8173e-05 - val_mse: 1.2555e-04\n",
      "Epoch 51/500\n",
      "781/781 [==============================] - 16s 21ms/step - loss: 5.9745e-05 - mse: 6.9505e-05 - val_loss: 1.5521e-04 - val_mse: 2.6042e-04\n",
      "Epoch 52/500\n",
      "781/781 [==============================] - 16s 21ms/step - loss: 5.9202e-05 - mse: 6.9340e-05 - val_loss: 2.8917e-04 - val_mse: 5.2910e-04\n",
      "Epoch 53/500\n",
      "781/781 [==============================] - 16s 21ms/step - loss: 6.0749e-05 - mse: 7.3297e-05 - val_loss: 2.9400e-04 - val_mse: 5.3950e-04\n",
      "Epoch 54/500\n",
      "781/781 [==============================] - 16s 21ms/step - loss: 5.3427e-05 - mse: 5.9444e-05 - val_loss: 2.8643e-04 - val_mse: 5.2528e-04\n",
      "Epoch 55/500\n",
      "781/781 [==============================] - 17s 22ms/step - loss: 5.8022e-05 - mse: 6.9576e-05 - val_loss: 3.8345e-04 - val_mse: 7.2016e-04\n",
      "Epoch 56/500\n",
      "781/781 [==============================] - 16s 21ms/step - loss: 6.1715e-05 - mse: 7.7697e-05 - val_loss: 2.6231e-04 - val_mse: 4.7853e-04\n",
      "Epoch 57/500\n",
      "781/781 [==============================] - 17s 21ms/step - loss: 5.0964e-05 - mse: 5.6785e-05 - val_loss: 1.3691e-04 - val_mse: 2.2867e-04\n",
      "Epoch 58/500\n",
      "781/781 [==============================] - 16s 21ms/step - loss: 5.3228e-05 - mse: 6.2147e-05 - val_loss: 1.4181e-04 - val_mse: 2.3925e-04\n",
      "Epoch 59/500\n",
      "781/781 [==============================] - 18s 23ms/step - loss: 6.0203e-05 - mse: 7.6810e-05 - val_loss: 1.2986e-04 - val_mse: 2.1597e-04\n",
      "Epoch 60/500\n",
      "781/781 [==============================] - 16s 20ms/step - loss: 4.9711e-05 - mse: 5.6341e-05 - val_loss: 9.7125e-05 - val_mse: 1.5120e-04\n",
      "Epoch 61/500\n",
      "781/781 [==============================] - 15s 20ms/step - loss: 5.2523e-05 - mse: 6.2725e-05 - val_loss: 1.8040e-04 - val_mse: 3.1834e-04\n",
      "Epoch 62/500\n",
      "781/781 [==============================] - 15s 20ms/step - loss: 5.5619e-05 - mse: 6.9506e-05 - val_loss: 1.5555e-04 - val_mse: 2.6915e-04\n",
      "Epoch 63/500\n",
      "781/781 [==============================] - 16s 20ms/step - loss: 4.8237e-05 - mse: 5.5244e-05 - val_loss: 2.3366e-04 - val_mse: 4.2589e-04\n",
      "Epoch 64/500\n",
      "781/781 [==============================] - 15s 20ms/step - loss: 5.1804e-05 - mse: 6.3050e-05 - val_loss: 3.2459e-04 - val_mse: 6.0833e-04\n",
      "Epoch 65/500\n",
      "781/781 [==============================] - 15s 19ms/step - loss: 5.4236e-05 - mse: 6.8438e-05 - val_loss: 2.3791e-04 - val_mse: 4.3545e-04\n",
      "Epoch 66/500\n",
      "781/781 [==============================] - 16s 20ms/step - loss: 4.7198e-05 - mse: 5.4789e-05 - val_loss: 1.6942e-04 - val_mse: 2.9904e-04\n",
      "Epoch 67/500\n",
      "781/781 [==============================] - 16s 20ms/step - loss: 4.9426e-05 - mse: 5.9819e-05 - val_loss: 1.8036e-04 - val_mse: 3.2150e-04\n",
      "Epoch 68/500\n",
      "781/781 [==============================] - 16s 20ms/step - loss: 5.1835e-05 - mse: 6.5110e-05 - val_loss: 1.0591e-04 - val_mse: 1.7308e-04\n",
      "Epoch 69/500\n",
      "781/781 [==============================] - 15s 20ms/step - loss: 4.5618e-05 - mse: 5.3056e-05 - val_loss: 5.4277e-05 - val_mse: 7.0426e-05\n",
      "Epoch 70/500\n",
      "781/781 [==============================] - 16s 20ms/step - loss: 4.9153e-05 - mse: 6.0655e-05 - val_loss: 5.7953e-05 - val_mse: 7.8260e-05\n",
      "Epoch 71/500\n",
      "781/781 [==============================] - 15s 20ms/step - loss: 5.0119e-05 - mse: 6.2969e-05 - val_loss: 4.0871e-05 - val_mse: 4.4455e-05\n"
     ]
    },
    {
     "name": "stderr",
     "output_type": "stream",
     "text": [
      "WARNING:absl:Found untraced functions such as gru_cell_2_layer_call_fn, gru_cell_2_layer_call_and_return_conditional_losses, lstm_cell_3_layer_call_fn, lstm_cell_3_layer_call_and_return_conditional_losses, gru_cell_2_layer_call_fn while saving (showing 5 of 10). These functions will not be directly callable after loading.\n"
     ]
    },
    {
     "name": "stdout",
     "output_type": "stream",
     "text": [
      "INFO:tensorflow:Assets written to: s2s_LSTM_256TimeD\\assets\n"
     ]
    },
    {
     "name": "stderr",
     "output_type": "stream",
     "text": [
      "INFO:tensorflow:Assets written to: s2s_LSTM_256TimeD\\assets\n"
     ]
    },
    {
     "name": "stdout",
     "output_type": "stream",
     "text": [
      "Epoch 72/500\n",
      "781/781 [==============================] - 16s 20ms/step - loss: 4.2695e-05 - mse: 4.8473e-05 - val_loss: 4.3144e-05 - val_mse: 4.9489e-05\n",
      "Epoch 73/500\n",
      "781/781 [==============================] - 16s 20ms/step - loss: 4.8982e-05 - mse: 6.1574e-05 - val_loss: 5.2580e-05 - val_mse: 6.8766e-05\n",
      "Epoch 74/500\n",
      "781/781 [==============================] - 16s 20ms/step - loss: 4.8255e-05 - mse: 6.0443e-05 - val_loss: 4.4031e-05 - val_mse: 5.1963e-05\n",
      "Epoch 75/500\n",
      "781/781 [==============================] - 16s 20ms/step - loss: 4.1130e-05 - mse: 4.6536e-05 - val_loss: 9.2956e-05 - val_mse: 1.5019e-04\n",
      "Epoch 76/500\n",
      "781/781 [==============================] - 16s 20ms/step - loss: 4.7665e-05 - mse: 6.0090e-05 - val_loss: 1.3568e-04 - val_mse: 2.3594e-04\n",
      "Epoch 77/500\n",
      "781/781 [==============================] - 16s 20ms/step - loss: 4.6943e-05 - mse: 5.8939e-05 - val_loss: 8.3783e-05 - val_mse: 1.3243e-04\n",
      "Epoch 78/500\n",
      "781/781 [==============================] - 16s 20ms/step - loss: 3.9504e-05 - mse: 4.4359e-05 - val_loss: 1.1556e-04 - val_mse: 1.9641e-04\n",
      "Epoch 79/500\n",
      "781/781 [==============================] - 15s 20ms/step - loss: 4.7074e-05 - mse: 5.9969e-05 - val_loss: 1.4226e-04 - val_mse: 2.5013e-04\n",
      "Epoch 80/500\n",
      "781/781 [==============================] - 16s 20ms/step - loss: 4.5035e-05 - mse: 5.6140e-05 - val_loss: 6.0640e-05 - val_mse: 8.7223e-05\n",
      "Epoch 81/500\n",
      "781/781 [==============================] - 16s 20ms/step - loss: 3.9609e-05 - mse: 4.5596e-05 - val_loss: 5.1898e-05 - val_mse: 7.0222e-05\n",
      "Epoch 82/500\n",
      "781/781 [==============================] - 16s 20ms/step - loss: 4.6158e-05 - mse: 5.9101e-05 - val_loss: 5.0125e-05 - val_mse: 6.6981e-05\n",
      "Epoch 83/500\n",
      "781/781 [==============================] - 16s 20ms/step - loss: 4.3679e-05 - mse: 5.4375e-05 - val_loss: 2.8243e-05 - val_mse: 2.3494e-05\n"
     ]
    },
    {
     "name": "stderr",
     "output_type": "stream",
     "text": [
      "WARNING:absl:Found untraced functions such as gru_cell_2_layer_call_fn, gru_cell_2_layer_call_and_return_conditional_losses, lstm_cell_3_layer_call_fn, lstm_cell_3_layer_call_and_return_conditional_losses, gru_cell_2_layer_call_fn while saving (showing 5 of 10). These functions will not be directly callable after loading.\n"
     ]
    },
    {
     "name": "stdout",
     "output_type": "stream",
     "text": [
      "INFO:tensorflow:Assets written to: s2s_LSTM_256TimeD\\assets\n"
     ]
    },
    {
     "name": "stderr",
     "output_type": "stream",
     "text": [
      "INFO:tensorflow:Assets written to: s2s_LSTM_256TimeD\\assets\n"
     ]
    },
    {
     "name": "stdout",
     "output_type": "stream",
     "text": [
      "Epoch 84/500\n",
      "781/781 [==============================] - 16s 20ms/step - loss: 3.7611e-05 - mse: 4.2514e-05 - val_loss: 3.9894e-05 - val_mse: 4.7344e-05\n",
      "Epoch 85/500\n",
      "781/781 [==============================] - 15s 20ms/step - loss: 4.5028e-05 - mse: 5.7754e-05 - val_loss: 4.3187e-05 - val_mse: 5.4219e-05\n",
      "Epoch 86/500\n",
      "781/781 [==============================] - 16s 20ms/step - loss: 4.3671e-05 - mse: 5.5254e-05 - val_loss: 3.5501e-05 - val_mse: 3.9010e-05\n",
      "Epoch 87/500\n",
      "781/781 [==============================] - 16s 20ms/step - loss: 3.7213e-05 - mse: 4.2585e-05 - val_loss: 5.1793e-05 - val_mse: 7.2036e-05\n",
      "Epoch 88/500\n",
      "781/781 [==============================] - 16s 20ms/step - loss: 4.3170e-05 - mse: 5.4881e-05 - val_loss: 6.9470e-05 - val_mse: 1.0772e-04\n",
      "Epoch 89/500\n",
      "781/781 [==============================] - 16s 20ms/step - loss: 4.2693e-05 - mse: 5.4147e-05 - val_loss: 5.2690e-05 - val_mse: 7.4299e-05\n",
      "Epoch 90/500\n",
      "781/781 [==============================] - 16s 20ms/step - loss: 3.6867e-05 - mse: 4.2731e-05 - val_loss: 6.1158e-05 - val_mse: 9.1641e-05\n",
      "Epoch 91/500\n",
      "781/781 [==============================] - 16s 20ms/step - loss: 4.3003e-05 - mse: 5.5365e-05 - val_loss: 9.0760e-05 - val_mse: 1.5113e-04\n",
      "Epoch 92/500\n",
      "781/781 [==============================] - 16s 20ms/step - loss: 4.1504e-05 - mse: 5.2544e-05 - val_loss: 6.1843e-05 - val_mse: 9.3415e-05\n",
      "Epoch 93/500\n",
      "781/781 [==============================] - 16s 21ms/step - loss: 3.5966e-05 - mse: 4.1698e-05 - val_loss: 6.6175e-05 - val_mse: 1.0244e-04\n",
      "Epoch 94/500\n",
      "781/781 [==============================] - 16s 21ms/step - loss: 4.1925e-05 - mse: 5.3959e-05 - val_loss: 1.0596e-04 - val_mse: 1.8231e-04\n",
      "Epoch 95/500\n",
      "781/781 [==============================] - 17s 21ms/step - loss: 4.0049e-05 - mse: 5.0375e-05 - val_loss: 6.9343e-05 - val_mse: 1.0918e-04\n",
      "Epoch 96/500\n",
      "781/781 [==============================] - 17s 21ms/step - loss: 3.5277e-05 - mse: 4.1072e-05 - val_loss: 9.4330e-05 - val_mse: 1.5958e-04\n",
      "Epoch 97/500\n",
      "781/781 [==============================] - 17s 21ms/step - loss: 4.2544e-05 - mse: 5.5921e-05 - val_loss: 1.2264e-04 - val_mse: 2.1640e-04\n",
      "Epoch 98/500\n",
      "781/781 [==============================] - 16s 21ms/step - loss: 3.7475e-05 - mse: 4.5911e-05 - val_loss: 8.3827e-05 - val_mse: 1.3890e-04\n",
      "Epoch 99/500\n",
      "781/781 [==============================] - 16s 21ms/step - loss: 3.6465e-05 - mse: 4.4162e-05 - val_loss: 1.3445e-04 - val_mse: 2.4056e-04\n",
      "Epoch 100/500\n",
      "781/781 [==============================] - 17s 21ms/step - loss: 4.2082e-05 - mse: 5.5644e-05 - val_loss: 1.0945e-04 - val_mse: 1.9063e-04\n",
      "Epoch 101/500\n",
      "781/781 [==============================] - 16s 20ms/step - loss: 3.5356e-05 - mse: 4.2333e-05 - val_loss: 8.4509e-05 - val_mse: 1.4095e-04\n",
      "Epoch 102/500\n",
      "781/781 [==============================] - 16s 21ms/step - loss: 3.6950e-05 - mse: 4.5794e-05 - val_loss: 1.0293e-04 - val_mse: 1.7808e-04\n",
      "Epoch 103/500\n",
      "781/781 [==============================] - 16s 20ms/step - loss: 4.1942e-05 - mse: 5.5977e-05 - val_loss: 6.4924e-05 - val_mse: 1.0210e-04\n",
      "Epoch 104/500\n",
      "781/781 [==============================] - 16s 21ms/step - loss: 3.4910e-05 - mse: 4.2048e-05 - val_loss: 4.4770e-05 - val_mse: 6.1964e-05\n",
      "Epoch 105/500\n",
      "781/781 [==============================] - 16s 21ms/step - loss: 3.5856e-05 - mse: 4.4206e-05 - val_loss: 4.5440e-05 - val_mse: 6.3581e-05\n",
      "Epoch 106/500\n",
      "781/781 [==============================] - 16s 20ms/step - loss: 4.1392e-05 - mse: 5.5480e-05 - val_loss: 3.3896e-05 - val_mse: 4.0532e-05\n",
      "Epoch 107/500\n",
      "781/781 [==============================] - 16s 21ms/step - loss: 3.4366e-05 - mse: 4.1556e-05 - val_loss: 2.7886e-05 - val_mse: 2.8694e-05\n"
     ]
    },
    {
     "name": "stderr",
     "output_type": "stream",
     "text": [
      "WARNING:absl:Found untraced functions such as gru_cell_2_layer_call_fn, gru_cell_2_layer_call_and_return_conditional_losses, lstm_cell_3_layer_call_fn, lstm_cell_3_layer_call_and_return_conditional_losses, gru_cell_2_layer_call_fn while saving (showing 5 of 10). These functions will not be directly callable after loading.\n"
     ]
    },
    {
     "name": "stdout",
     "output_type": "stream",
     "text": [
      "INFO:tensorflow:Assets written to: s2s_LSTM_256TimeD\\assets\n"
     ]
    },
    {
     "name": "stderr",
     "output_type": "stream",
     "text": [
      "INFO:tensorflow:Assets written to: s2s_LSTM_256TimeD\\assets\n"
     ]
    },
    {
     "name": "stdout",
     "output_type": "stream",
     "text": [
      "Epoch 108/500\n",
      "781/781 [==============================] - 16s 21ms/step - loss: 3.5426e-05 - mse: 4.3931e-05 - val_loss: 3.3019e-05 - val_mse: 3.9236e-05\n",
      "Epoch 109/500\n",
      "781/781 [==============================] - 16s 21ms/step - loss: 4.1218e-05 - mse: 5.5709e-05 - val_loss: 3.0071e-05 - val_mse: 3.3367e-05\n",
      "Epoch 110/500\n",
      "781/781 [==============================] - 16s 21ms/step - loss: 3.2866e-05 - mse: 3.9113e-05 - val_loss: 2.8716e-05 - val_mse: 3.0837e-05\n",
      "Epoch 111/500\n",
      "781/781 [==============================] - 16s 20ms/step - loss: 3.4714e-05 - mse: 4.3099e-05 - val_loss: 4.0662e-05 - val_mse: 5.5052e-05\n",
      "Epoch 112/500\n",
      "781/781 [==============================] - 15s 19ms/step - loss: 4.2194e-05 - mse: 5.8223e-05 - val_loss: 3.2064e-05 - val_mse: 3.7847e-05\n",
      "Epoch 113/500\n",
      "781/781 [==============================] - 15s 19ms/step - loss: 3.0441e-05 - mse: 3.4828e-05 - val_loss: 3.2908e-05 - val_mse: 3.9799e-05\n",
      "Epoch 114/500\n",
      "781/781 [==============================] - 16s 20ms/step - loss: 3.6466e-05 - mse: 4.7186e-05 - val_loss: 5.0665e-05 - val_mse: 7.5560e-05\n",
      "Epoch 115/500\n",
      "781/781 [==============================] - 16s 21ms/step - loss: 4.0153e-05 - mse: 5.4664e-05 - val_loss: 3.2206e-05 - val_mse: 3.8649e-05\n",
      "Epoch 116/500\n",
      "781/781 [==============================] - 16s 21ms/step - loss: 2.9892e-05 - mse: 3.4271e-05 - val_loss: 3.2130e-05 - val_mse: 3.8806e-05\n",
      "Epoch 117/500\n",
      "781/781 [==============================] - 16s 21ms/step - loss: 3.7098e-05 - mse: 4.8989e-05 - val_loss: 5.0102e-05 - val_mse: 7.4948e-05\n",
      "Epoch 118/500\n",
      "781/781 [==============================] - 16s 20ms/step - loss: 3.8580e-05 - mse: 5.2034e-05 - val_loss: 2.8095e-05 - val_mse: 3.0981e-05\n",
      "Epoch 119/500\n",
      "781/781 [==============================] - 16s 21ms/step - loss: 2.9579e-05 - mse: 3.4192e-05 - val_loss: 2.8931e-05 - val_mse: 3.2989e-05\n",
      "Epoch 120/500\n",
      "781/781 [==============================] - 17s 21ms/step - loss: 3.8630e-05 - mse: 5.2566e-05 - val_loss: 4.2140e-05 - val_mse: 5.9537e-05\n",
      "Epoch 121/500\n",
      "781/781 [==============================] - 16s 21ms/step - loss: 3.5896e-05 - mse: 4.7148e-05 - val_loss: 2.4231e-05 - val_mse: 2.3792e-05\n"
     ]
    },
    {
     "name": "stderr",
     "output_type": "stream",
     "text": [
      "WARNING:absl:Found untraced functions such as gru_cell_2_layer_call_fn, gru_cell_2_layer_call_and_return_conditional_losses, lstm_cell_3_layer_call_fn, lstm_cell_3_layer_call_and_return_conditional_losses, gru_cell_2_layer_call_fn while saving (showing 5 of 10). These functions will not be directly callable after loading.\n"
     ]
    },
    {
     "name": "stdout",
     "output_type": "stream",
     "text": [
      "INFO:tensorflow:Assets written to: s2s_LSTM_256TimeD\\assets\n"
     ]
    },
    {
     "name": "stderr",
     "output_type": "stream",
     "text": [
      "INFO:tensorflow:Assets written to: s2s_LSTM_256TimeD\\assets\n"
     ]
    },
    {
     "name": "stdout",
     "output_type": "stream",
     "text": [
      "Epoch 122/500\n",
      "781/781 [==============================] - 16s 21ms/step - loss: 2.9042e-05 - mse: 3.3635e-05 - val_loss: 3.0068e-05 - val_mse: 3.5794e-05\n",
      "Epoch 123/500\n",
      "781/781 [==============================] - 16s 20ms/step - loss: 4.0362e-05 - mse: 5.6502e-05 - val_loss: 3.3553e-05 - val_mse: 4.2831e-05\n",
      "Epoch 124/500\n",
      "781/781 [==============================] - 16s 21ms/step - loss: 3.1820e-05 - mse: 3.9453e-05 - val_loss: 2.4083e-05 - val_mse: 2.4040e-05\n"
     ]
    },
    {
     "name": "stderr",
     "output_type": "stream",
     "text": [
      "WARNING:absl:Found untraced functions such as gru_cell_2_layer_call_fn, gru_cell_2_layer_call_and_return_conditional_losses, lstm_cell_3_layer_call_fn, lstm_cell_3_layer_call_and_return_conditional_losses, gru_cell_2_layer_call_fn while saving (showing 5 of 10). These functions will not be directly callable after loading.\n"
     ]
    },
    {
     "name": "stdout",
     "output_type": "stream",
     "text": [
      "INFO:tensorflow:Assets written to: s2s_LSTM_256TimeD\\assets\n"
     ]
    },
    {
     "name": "stderr",
     "output_type": "stream",
     "text": [
      "INFO:tensorflow:Assets written to: s2s_LSTM_256TimeD\\assets\n"
     ]
    },
    {
     "name": "stdout",
     "output_type": "stream",
     "text": [
      "Epoch 125/500\n",
      "781/781 [==============================] - 17s 21ms/step - loss: 3.0750e-05 - mse: 3.7562e-05 - val_loss: 3.2896e-05 - val_mse: 4.1960e-05\n",
      "Epoch 126/500\n",
      "781/781 [==============================] - 16s 20ms/step - loss: 3.9995e-05 - mse: 5.6209e-05 - val_loss: 3.1135e-05 - val_mse: 3.8477e-05\n",
      "Epoch 127/500\n",
      "781/781 [==============================] - 16s 20ms/step - loss: 3.0334e-05 - mse: 3.6939e-05 - val_loss: 2.6715e-05 - val_mse: 2.9799e-05\n",
      "Epoch 128/500\n",
      "781/781 [==============================] - 16s 20ms/step - loss: 3.2054e-05 - mse: 4.0607e-05 - val_loss: 5.2155e-05 - val_mse: 8.0954e-05\n",
      "Epoch 129/500\n",
      "781/781 [==============================] - 16s 21ms/step - loss: 3.8917e-05 - mse: 5.4432e-05 - val_loss: 4.1248e-05 - val_mse: 5.9151e-05\n",
      "Epoch 130/500\n",
      "781/781 [==============================] - 17s 21ms/step - loss: 2.8079e-05 - mse: 3.2837e-05 - val_loss: 4.6202e-05 - val_mse: 6.9306e-05\n",
      "Epoch 131/500\n",
      "781/781 [==============================] - 17s 21ms/step - loss: 3.4022e-05 - mse: 4.4987e-05 - val_loss: 1.3690e-04 - val_mse: 2.5102e-04\n",
      "Epoch 132/500\n",
      "781/781 [==============================] - 16s 20ms/step - loss: 3.6882e-05 - mse: 5.0763e-05 - val_loss: 6.5365e-05 - val_mse: 1.0786e-04\n",
      "Epoch 133/500\n",
      "781/781 [==============================] - 16s 20ms/step - loss: 2.7472e-05 - mse: 3.2056e-05 - val_loss: 1.1909e-04 - val_mse: 2.1565e-04\n",
      "Epoch 134/500\n",
      "781/781 [==============================] - 16s 21ms/step - loss: 3.6428e-05 - mse: 5.0202e-05 - val_loss: 2.8280e-04 - val_mse: 5.4330e-04\n",
      "Epoch 135/500\n",
      "781/781 [==============================] - 16s 21ms/step - loss: 3.3246e-05 - mse: 4.3859e-05 - val_loss: 1.0172e-04 - val_mse: 1.8102e-04\n",
      "Epoch 136/500\n",
      "781/781 [==============================] - 16s 21ms/step - loss: 2.7668e-05 - mse: 3.2872e-05 - val_loss: 2.6150e-04 - val_mse: 5.0097e-04\n",
      "Epoch 137/500\n",
      "781/781 [==============================] - 17s 22ms/step - loss: 3.8104e-05 - mse: 5.3918e-05 - val_loss: 2.7257e-04 - val_mse: 5.2318e-04\n",
      "Epoch 138/500\n",
      "781/781 [==============================] - 17s 21ms/step - loss: 2.9473e-05 - mse: 3.6677e-05 - val_loss: 1.7180e-04 - val_mse: 3.2168e-04\n",
      "Epoch 139/500\n",
      "781/781 [==============================] - 16s 21ms/step - loss: 2.9667e-05 - mse: 3.7282e-05 - val_loss: 4.4334e-04 - val_mse: 8.6516e-04\n",
      "Epoch 140/500\n",
      "781/781 [==============================] - 17s 21ms/step - loss: 3.7436e-05 - mse: 5.2920e-05 - val_loss: 3.1432e-04 - val_mse: 6.0705e-04\n",
      "Epoch 141/500\n",
      "781/781 [==============================] - 16s 21ms/step - loss: 2.8320e-05 - mse: 3.4726e-05 - val_loss: 2.1745e-04 - val_mse: 4.1337e-04\n",
      "Epoch 142/500\n",
      "781/781 [==============================] - 16s 21ms/step - loss: 3.0888e-05 - mse: 4.0074e-05 - val_loss: 6.0451e-04 - val_mse: 0.0012\n",
      "Epoch 143/500\n",
      "781/781 [==============================] - 17s 21ms/step - loss: 3.6321e-05 - mse: 5.0985e-05 - val_loss: 2.5108e-04 - val_mse: 4.8083e-04\n",
      "Epoch 144/500\n",
      "781/781 [==============================] - 17s 21ms/step - loss: 2.6271e-05 - mse: 3.0970e-05 - val_loss: 2.5356e-04 - val_mse: 4.8600e-04\n",
      "Epoch 145/500\n",
      "781/781 [==============================] - 16s 21ms/step - loss: 3.3448e-05 - mse: 4.5543e-05 - val_loss: 5.8030e-04 - val_mse: 0.0011\n",
      "Epoch 146/500\n",
      "781/781 [==============================] - 17s 21ms/step - loss: 3.3202e-05 - mse: 4.5065e-05 - val_loss: 2.0711e-04 - val_mse: 3.9319e-04\n",
      "Epoch 147/500\n",
      "781/781 [==============================] - 16s 21ms/step - loss: 2.6462e-05 - mse: 3.1710e-05 - val_loss: 3.2207e-04 - val_mse: 6.2346e-04\n",
      "Epoch 148/500\n",
      "781/781 [==============================] - 17s 21ms/step - loss: 3.5699e-05 - mse: 5.0339e-05 - val_loss: 4.0167e-04 - val_mse: 7.8276e-04\n",
      "Epoch 149/500\n",
      "781/781 [==============================] - 16s 21ms/step - loss: 2.8441e-05 - mse: 3.5836e-05 - val_loss: 1.9779e-04 - val_mse: 3.7490e-04\n",
      "Epoch 150/500\n",
      "781/781 [==============================] - 16s 21ms/step - loss: 2.8740e-05 - mse: 3.6623e-05 - val_loss: 3.9902e-04 - val_mse: 7.7773e-04\n",
      "Epoch 151/500\n",
      "781/781 [==============================] - 16s 21ms/step - loss: 3.5205e-05 - mse: 4.9641e-05 - val_loss: 3.0491e-04 - val_mse: 5.8946e-04\n",
      "Epoch 152/500\n",
      "781/781 [==============================] - 16s 21ms/step - loss: 2.7246e-05 - mse: 3.3759e-05 - val_loss: 2.0694e-04 - val_mse: 3.9356e-04\n",
      "Epoch 153/500\n",
      "781/781 [==============================] - 16s 21ms/step - loss: 3.0860e-05 - mse: 4.1177e-05 - val_loss: 4.7492e-04 - val_mse: 9.2988e-04\n",
      "Epoch 154/500\n",
      "781/781 [==============================] - 16s 21ms/step - loss: 3.2757e-05 - mse: 4.4991e-05 - val_loss: 2.1793e-04 - val_mse: 4.1569e-04\n",
      "Epoch 155/500\n",
      "781/781 [==============================] - 16s 21ms/step - loss: 2.6172e-05 - mse: 3.1937e-05 - val_loss: 2.6828e-04 - val_mse: 5.1662e-04\n",
      "Epoch 156/500\n",
      "781/781 [==============================] - 17s 21ms/step - loss: 3.2619e-05 - mse: 4.4972e-05 - val_loss: 4.7616e-04 - val_mse: 9.3266e-04\n",
      "CPU times: total: 52min 45s\n",
      "Wall time: 47min 2s\n"
     ]
    },
    {
     "data": {
      "text/plain": [
       "<keras.callbacks.History at 0x1eca2074850>"
      ]
     },
     "execution_count": 48,
     "metadata": {},
     "output_type": "execute_result"
    }
   ],
   "source": [
    "%%time\n",
    "\n",
    "\n",
    "#________________________________ LSTM\n",
    "\n",
    "name_model = \"s2s_LSTM_256TimeD\"\n",
    "\n",
    "keras.backend.clear_session()\n",
    "\n",
    "# Definir hiperparâmetros\n",
    "learning_rate = 0.0001\n",
    "l2_reg = 0.00001\n",
    "dropout_rate = 0.001\n",
    "func_act='sigmoid'\n",
    "\n",
    "batch_size = 128\n",
    "window_size = 32\n",
    "num_inputs  = train.shape[1]\n",
    "num_targets = 3\n",
    "stride = 3\n",
    "sampling_rate=1\n",
    "\n",
    "\n",
    "\n",
    "# Definir a entrada da rede\n",
    "inputs = keras.layers.Input(shape=[None, num_inputs])\n",
    "\n",
    "# LSTM\n",
    "reshaped_inputs = keras.layers.Reshape((-1, num_inputs))(inputs)\n",
    "lstm = keras.layers.LSTM(256, return_sequences=True, kernel_regularizer=keras.regularizers.L2(l2_reg))(reshaped_inputs)\n",
    "lstm = keras.layers.GRU(256, return_sequences=True, kernel_regularizer=keras.regularizers.L2(l2_reg))(reshaped_inputs)\n",
    "lstm = keras.layers.Dropout(rate=dropout_rate)(lstm)\n",
    "lstm = keras.layers.LSTM(256, return_sequences=True, kernel_regularizer=keras.regularizers.L2(l2_reg))(lstm)\n",
    "lstm = keras.layers.GRU(256, return_sequences=True, kernel_regularizer=keras.regularizers.L2(l2_reg))(reshaped_inputs)\n",
    "lstm = keras.layers.Dropout(rate=dropout_rate)(lstm)\n",
    "lstm = keras.layers.LSTM(256, return_sequences=True, kernel_regularizer=keras.regularizers.L2(l2_reg))(lstm)\n",
    "lstm = keras.layers.GRU(256, return_sequences=True, kernel_regularizer=keras.regularizers.L2(l2_reg))(reshaped_inputs)\n",
    "lstm = keras.layers.Dropout(rate=dropout_rate)(lstm)\n",
    "\n",
    "# TimeDistributed Dense\n",
    "dense = keras.layers.TimeDistributed(keras.layers.Dense(64))(lstm)\n",
    "dense = keras.layers.TimeDistributed(keras.layers.Dropout(rate=dropout_rate))(dense)\n",
    "\n",
    "# LSTM\n",
    "lstm = keras.layers.LSTM(256, return_sequences=False, kernel_regularizer=keras.regularizers.L2(l2_reg))(dense)\n",
    "output_lstm = keras.layers.Dense(num_targets)(lstm)\n",
    "\n",
    "# Definir o modelo com a entrada e saída\n",
    "model = keras.models.Model(inputs=inputs, outputs=output_lstm)\n",
    "\n",
    "# Definir o otimizador com taxa de aprendizado definida\n",
    "optimizer = keras.optimizers.Adam(learning_rate=learning_rate)\n",
    "\n",
    "\n",
    "# Compilar o modelo com a função de perda, otimizador e métrica desejados\n",
    "model.compile(loss=keras.losses.logcosh, optimizer=optimizer, metrics=[\"mse\"])\n",
    "\n",
    "# Adicionar callbacks para o modelo\n",
    "model_checkpoint = keras.callbacks.ModelCheckpoint(name_model, save_best_only=True)\n",
    "early_stopping = keras.callbacks.EarlyStopping(patience=32)\n",
    "\n",
    "# Treinar o modelo\n",
    "model.fit(train_set,\n",
    "          steps_per_epoch= len(train)//batch_size,\n",
    "          epochs=500,\n",
    "          validation_data=valid_set,\n",
    "          validation_steps=len(valid)//batch_size,\n",
    "          callbacks=[early_stopping,\n",
    "                     model_checkpoint])"
   ]
  },
  {
   "cell_type": "markdown",
   "id": "aed22a83",
   "metadata": {},
   "source": [
    "# Resultados"
   ]
  },
  {
   "cell_type": "code",
   "execution_count": 49,
   "id": "6df76ed6",
   "metadata": {},
   "outputs": [
    {
     "data": {
      "text/plain": [
       "'s2s_LSTM_256TimeD'"
      ]
     },
     "execution_count": 49,
     "metadata": {},
     "output_type": "execute_result"
    }
   ],
   "source": [
    "name_model"
   ]
  },
  {
   "cell_type": "code",
   "execution_count": 50,
   "id": "9de4be43",
   "metadata": {},
   "outputs": [
    {
     "name": "stdout",
     "output_type": "stream",
     "text": [
      "160/160 [==============================] - 2s 11ms/step - loss: 1.0467e-04 - mse: 1.8949e-04\n"
     ]
    }
   ],
   "source": [
    "loss, metric = model.evaluate(test_set, steps=len(test)//batch_size)"
   ]
  },
  {
   "cell_type": "code",
   "execution_count": 51,
   "id": "f8639c7f",
   "metadata": {},
   "outputs": [],
   "source": [
    "model = keras.models.load_model(name_model)"
   ]
  },
  {
   "cell_type": "code",
   "execution_count": 52,
   "id": "332022b2",
   "metadata": {},
   "outputs": [
    {
     "name": "stdout",
     "output_type": "stream",
     "text": [
      "160/160 [==============================] - 3s 11ms/step - loss: 4.4455e-05 - mse: 6.4795e-05\n"
     ]
    }
   ],
   "source": [
    "loss, metric = model.evaluate(test_set, steps=len(test)//batch_size)"
   ]
  },
  {
   "cell_type": "code",
   "execution_count": null,
   "id": "6f544937",
   "metadata": {},
   "outputs": [],
   "source": []
  },
  {
   "cell_type": "code",
   "execution_count": 55,
   "id": "dae6f77d",
   "metadata": {},
   "outputs": [
    {
     "name": "stdout",
     "output_type": "stream",
     "text": [
      "Epoch 1/500\n",
      "781/781 [==============================] - 22s 23ms/step - loss: 0.0029 - mse: 5.8464e-04 - val_loss: 0.0060 - val_mse: 0.0086\n"
     ]
    },
    {
     "name": "stderr",
     "output_type": "stream",
     "text": [
      "WARNING:absl:Found untraced functions such as gru_cell_2_layer_call_fn, gru_cell_2_layer_call_and_return_conditional_losses, lstm_cell_3_layer_call_fn, lstm_cell_3_layer_call_and_return_conditional_losses, gru_cell_2_layer_call_fn while saving (showing 5 of 10). These functions will not be directly callable after loading.\n"
     ]
    },
    {
     "name": "stdout",
     "output_type": "stream",
     "text": [
      "INFO:tensorflow:Assets written to: s2s_LSTM_256TimeD_2\\assets\n"
     ]
    },
    {
     "name": "stderr",
     "output_type": "stream",
     "text": [
      "INFO:tensorflow:Assets written to: s2s_LSTM_256TimeD_2\\assets\n"
     ]
    },
    {
     "name": "stdout",
     "output_type": "stream",
     "text": [
      "Epoch 2/500\n",
      "781/781 [==============================] - 18s 23ms/step - loss: 0.0017 - mse: 6.9239e-04 - val_loss: 0.0056 - val_mse: 0.0088\n"
     ]
    },
    {
     "name": "stderr",
     "output_type": "stream",
     "text": [
      "WARNING:absl:Found untraced functions such as gru_cell_2_layer_call_fn, gru_cell_2_layer_call_and_return_conditional_losses, lstm_cell_3_layer_call_fn, lstm_cell_3_layer_call_and_return_conditional_losses, gru_cell_2_layer_call_fn while saving (showing 5 of 10). These functions will not be directly callable after loading.\n"
     ]
    },
    {
     "name": "stdout",
     "output_type": "stream",
     "text": [
      "INFO:tensorflow:Assets written to: s2s_LSTM_256TimeD_2\\assets\n"
     ]
    },
    {
     "name": "stderr",
     "output_type": "stream",
     "text": [
      "INFO:tensorflow:Assets written to: s2s_LSTM_256TimeD_2\\assets\n"
     ]
    },
    {
     "name": "stdout",
     "output_type": "stream",
     "text": [
      "Epoch 3/500\n",
      "781/781 [==============================] - 18s 23ms/step - loss: 0.0014 - mse: 7.3096e-04 - val_loss: 0.0034 - val_mse: 0.0051\n"
     ]
    },
    {
     "name": "stderr",
     "output_type": "stream",
     "text": [
      "WARNING:absl:Found untraced functions such as gru_cell_2_layer_call_fn, gru_cell_2_layer_call_and_return_conditional_losses, lstm_cell_3_layer_call_fn, lstm_cell_3_layer_call_and_return_conditional_losses, gru_cell_2_layer_call_fn while saving (showing 5 of 10). These functions will not be directly callable after loading.\n"
     ]
    },
    {
     "name": "stdout",
     "output_type": "stream",
     "text": [
      "INFO:tensorflow:Assets written to: s2s_LSTM_256TimeD_2\\assets\n"
     ]
    },
    {
     "name": "stderr",
     "output_type": "stream",
     "text": [
      "INFO:tensorflow:Assets written to: s2s_LSTM_256TimeD_2\\assets\n"
     ]
    },
    {
     "name": "stdout",
     "output_type": "stream",
     "text": [
      "Epoch 4/500\n",
      "781/781 [==============================] - 18s 23ms/step - loss: 0.0010 - mse: 4.9856e-04 - val_loss: 0.0017 - val_mse: 0.0021\n"
     ]
    },
    {
     "name": "stderr",
     "output_type": "stream",
     "text": [
      "WARNING:absl:Found untraced functions such as gru_cell_2_layer_call_fn, gru_cell_2_layer_call_and_return_conditional_losses, lstm_cell_3_layer_call_fn, lstm_cell_3_layer_call_and_return_conditional_losses, gru_cell_2_layer_call_fn while saving (showing 5 of 10). These functions will not be directly callable after loading.\n"
     ]
    },
    {
     "name": "stdout",
     "output_type": "stream",
     "text": [
      "INFO:tensorflow:Assets written to: s2s_LSTM_256TimeD_2\\assets\n"
     ]
    },
    {
     "name": "stderr",
     "output_type": "stream",
     "text": [
      "INFO:tensorflow:Assets written to: s2s_LSTM_256TimeD_2\\assets\n"
     ]
    },
    {
     "name": "stdout",
     "output_type": "stream",
     "text": [
      "Epoch 5/500\n",
      "781/781 [==============================] - 18s 23ms/step - loss: 8.2290e-04 - mse: 3.6391e-04 - val_loss: 0.0011 - val_mse: 9.7933e-04\n"
     ]
    },
    {
     "name": "stderr",
     "output_type": "stream",
     "text": [
      "WARNING:absl:Found untraced functions such as gru_cell_2_layer_call_fn, gru_cell_2_layer_call_and_return_conditional_losses, lstm_cell_3_layer_call_fn, lstm_cell_3_layer_call_and_return_conditional_losses, gru_cell_2_layer_call_fn while saving (showing 5 of 10). These functions will not be directly callable after loading.\n"
     ]
    },
    {
     "name": "stdout",
     "output_type": "stream",
     "text": [
      "INFO:tensorflow:Assets written to: s2s_LSTM_256TimeD_2\\assets\n"
     ]
    },
    {
     "name": "stderr",
     "output_type": "stream",
     "text": [
      "INFO:tensorflow:Assets written to: s2s_LSTM_256TimeD_2\\assets\n"
     ]
    },
    {
     "name": "stdout",
     "output_type": "stream",
     "text": [
      "Epoch 6/500\n",
      "781/781 [==============================] - 18s 23ms/step - loss: 6.7187e-04 - mse: 3.0405e-04 - val_loss: 8.5732e-04 - val_mse: 7.7877e-04\n"
     ]
    },
    {
     "name": "stderr",
     "output_type": "stream",
     "text": [
      "WARNING:absl:Found untraced functions such as gru_cell_2_layer_call_fn, gru_cell_2_layer_call_and_return_conditional_losses, lstm_cell_3_layer_call_fn, lstm_cell_3_layer_call_and_return_conditional_losses, gru_cell_2_layer_call_fn while saving (showing 5 of 10). These functions will not be directly callable after loading.\n"
     ]
    },
    {
     "name": "stdout",
     "output_type": "stream",
     "text": [
      "INFO:tensorflow:Assets written to: s2s_LSTM_256TimeD_2\\assets\n"
     ]
    },
    {
     "name": "stderr",
     "output_type": "stream",
     "text": [
      "INFO:tensorflow:Assets written to: s2s_LSTM_256TimeD_2\\assets\n"
     ]
    },
    {
     "name": "stdout",
     "output_type": "stream",
     "text": [
      "Epoch 7/500\n",
      "781/781 [==============================] - 18s 23ms/step - loss: 5.6098e-04 - mse: 2.7195e-04 - val_loss: 9.2817e-04 - val_mse: 0.0011\n",
      "Epoch 8/500\n",
      "781/781 [==============================] - 18s 23ms/step - loss: 4.9216e-04 - mse: 2.7995e-04 - val_loss: 7.9966e-04 - val_mse: 9.5701e-04\n"
     ]
    },
    {
     "name": "stderr",
     "output_type": "stream",
     "text": [
      "WARNING:absl:Found untraced functions such as gru_cell_2_layer_call_fn, gru_cell_2_layer_call_and_return_conditional_losses, lstm_cell_3_layer_call_fn, lstm_cell_3_layer_call_and_return_conditional_losses, gru_cell_2_layer_call_fn while saving (showing 5 of 10). These functions will not be directly callable after loading.\n"
     ]
    },
    {
     "name": "stdout",
     "output_type": "stream",
     "text": [
      "INFO:tensorflow:Assets written to: s2s_LSTM_256TimeD_2\\assets\n"
     ]
    },
    {
     "name": "stderr",
     "output_type": "stream",
     "text": [
      "INFO:tensorflow:Assets written to: s2s_LSTM_256TimeD_2\\assets\n"
     ]
    },
    {
     "name": "stdout",
     "output_type": "stream",
     "text": [
      "Epoch 9/500\n",
      "781/781 [==============================] - 20s 25ms/step - loss: 4.4130e-04 - mse: 2.9022e-04 - val_loss: 7.7643e-04 - val_mse: 0.0010\n"
     ]
    },
    {
     "name": "stderr",
     "output_type": "stream",
     "text": [
      "WARNING:absl:Found untraced functions such as gru_cell_2_layer_call_fn, gru_cell_2_layer_call_and_return_conditional_losses, lstm_cell_3_layer_call_fn, lstm_cell_3_layer_call_and_return_conditional_losses, gru_cell_2_layer_call_fn while saving (showing 5 of 10). These functions will not be directly callable after loading.\n"
     ]
    },
    {
     "name": "stdout",
     "output_type": "stream",
     "text": [
      "INFO:tensorflow:Assets written to: s2s_LSTM_256TimeD_2\\assets\n"
     ]
    },
    {
     "name": "stderr",
     "output_type": "stream",
     "text": [
      "INFO:tensorflow:Assets written to: s2s_LSTM_256TimeD_2\\assets\n"
     ]
    },
    {
     "name": "stdout",
     "output_type": "stream",
     "text": [
      "Epoch 10/500\n",
      "781/781 [==============================] - 18s 23ms/step - loss: 3.7825e-04 - mse: 2.5225e-04 - val_loss: 5.6828e-04 - val_mse: 6.7161e-04\n"
     ]
    },
    {
     "name": "stderr",
     "output_type": "stream",
     "text": [
      "WARNING:absl:Found untraced functions such as gru_cell_2_layer_call_fn, gru_cell_2_layer_call_and_return_conditional_losses, lstm_cell_3_layer_call_fn, lstm_cell_3_layer_call_and_return_conditional_losses, gru_cell_2_layer_call_fn while saving (showing 5 of 10). These functions will not be directly callable after loading.\n"
     ]
    },
    {
     "name": "stdout",
     "output_type": "stream",
     "text": [
      "INFO:tensorflow:Assets written to: s2s_LSTM_256TimeD_2\\assets\n"
     ]
    },
    {
     "name": "stderr",
     "output_type": "stream",
     "text": [
      "INFO:tensorflow:Assets written to: s2s_LSTM_256TimeD_2\\assets\n"
     ]
    },
    {
     "name": "stdout",
     "output_type": "stream",
     "text": [
      "Epoch 11/500\n",
      "781/781 [==============================] - 18s 23ms/step - loss: 3.2930e-04 - mse: 2.2608e-04 - val_loss: 4.9848e-04 - val_mse: 5.9674e-04\n"
     ]
    },
    {
     "name": "stderr",
     "output_type": "stream",
     "text": [
      "WARNING:absl:Found untraced functions such as gru_cell_2_layer_call_fn, gru_cell_2_layer_call_and_return_conditional_losses, lstm_cell_3_layer_call_fn, lstm_cell_3_layer_call_and_return_conditional_losses, gru_cell_2_layer_call_fn while saving (showing 5 of 10). These functions will not be directly callable after loading.\n"
     ]
    },
    {
     "name": "stdout",
     "output_type": "stream",
     "text": [
      "INFO:tensorflow:Assets written to: s2s_LSTM_256TimeD_2\\assets\n"
     ]
    },
    {
     "name": "stderr",
     "output_type": "stream",
     "text": [
      "INFO:tensorflow:Assets written to: s2s_LSTM_256TimeD_2\\assets\n"
     ]
    },
    {
     "name": "stdout",
     "output_type": "stream",
     "text": [
      "Epoch 12/500\n",
      "781/781 [==============================] - 18s 23ms/step - loss: 2.9314e-04 - mse: 2.1182e-04 - val_loss: 5.6745e-04 - val_mse: 7.8651e-04\n",
      "Epoch 13/500\n",
      "781/781 [==============================] - 19s 24ms/step - loss: 2.6530e-04 - mse: 2.0244e-04 - val_loss: 4.6170e-04 - val_mse: 6.1622e-04\n"
     ]
    },
    {
     "name": "stderr",
     "output_type": "stream",
     "text": [
      "WARNING:absl:Found untraced functions such as gru_cell_2_layer_call_fn, gru_cell_2_layer_call_and_return_conditional_losses, lstm_cell_3_layer_call_fn, lstm_cell_3_layer_call_and_return_conditional_losses, gru_cell_2_layer_call_fn while saving (showing 5 of 10). These functions will not be directly callable after loading.\n"
     ]
    },
    {
     "name": "stdout",
     "output_type": "stream",
     "text": [
      "INFO:tensorflow:Assets written to: s2s_LSTM_256TimeD_2\\assets\n"
     ]
    },
    {
     "name": "stderr",
     "output_type": "stream",
     "text": [
      "INFO:tensorflow:Assets written to: s2s_LSTM_256TimeD_2\\assets\n"
     ]
    },
    {
     "name": "stdout",
     "output_type": "stream",
     "text": [
      "Epoch 14/500\n",
      "781/781 [==============================] - 19s 24ms/step - loss: 2.4244e-04 - mse: 1.9349e-04 - val_loss: 5.9338e-04 - val_mse: 9.1246e-04\n",
      "Epoch 15/500\n",
      "781/781 [==============================] - 18s 23ms/step - loss: 2.2940e-04 - mse: 1.9690e-04 - val_loss: 4.4194e-04 - val_mse: 6.3620e-04\n"
     ]
    },
    {
     "name": "stderr",
     "output_type": "stream",
     "text": [
      "WARNING:absl:Found untraced functions such as gru_cell_2_layer_call_fn, gru_cell_2_layer_call_and_return_conditional_losses, lstm_cell_3_layer_call_fn, lstm_cell_3_layer_call_and_return_conditional_losses, gru_cell_2_layer_call_fn while saving (showing 5 of 10). These functions will not be directly callable after loading.\n"
     ]
    },
    {
     "name": "stdout",
     "output_type": "stream",
     "text": [
      "INFO:tensorflow:Assets written to: s2s_LSTM_256TimeD_2\\assets\n"
     ]
    },
    {
     "name": "stderr",
     "output_type": "stream",
     "text": [
      "INFO:tensorflow:Assets written to: s2s_LSTM_256TimeD_2\\assets\n"
     ]
    },
    {
     "name": "stdout",
     "output_type": "stream",
     "text": [
      "Epoch 16/500\n",
      "781/781 [==============================] - 18s 23ms/step - loss: 2.0666e-04 - mse: 1.7613e-04 - val_loss: 4.3271e-04 - val_mse: 6.4053e-04\n"
     ]
    },
    {
     "name": "stderr",
     "output_type": "stream",
     "text": [
      "WARNING:absl:Found untraced functions such as gru_cell_2_layer_call_fn, gru_cell_2_layer_call_and_return_conditional_losses, lstm_cell_3_layer_call_fn, lstm_cell_3_layer_call_and_return_conditional_losses, gru_cell_2_layer_call_fn while saving (showing 5 of 10). These functions will not be directly callable after loading.\n"
     ]
    },
    {
     "name": "stdout",
     "output_type": "stream",
     "text": [
      "INFO:tensorflow:Assets written to: s2s_LSTM_256TimeD_2\\assets\n"
     ]
    },
    {
     "name": "stderr",
     "output_type": "stream",
     "text": [
      "INFO:tensorflow:Assets written to: s2s_LSTM_256TimeD_2\\assets\n"
     ]
    },
    {
     "name": "stdout",
     "output_type": "stream",
     "text": [
      "Epoch 17/500\n",
      "781/781 [==============================] - 18s 23ms/step - loss: 1.9386e-04 - mse: 1.7164e-04 - val_loss: 3.8691e-04 - val_mse: 5.6845e-04\n"
     ]
    },
    {
     "name": "stderr",
     "output_type": "stream",
     "text": [
      "WARNING:absl:Found untraced functions such as gru_cell_2_layer_call_fn, gru_cell_2_layer_call_and_return_conditional_losses, lstm_cell_3_layer_call_fn, lstm_cell_3_layer_call_and_return_conditional_losses, gru_cell_2_layer_call_fn while saving (showing 5 of 10). These functions will not be directly callable after loading.\n"
     ]
    },
    {
     "name": "stdout",
     "output_type": "stream",
     "text": [
      "INFO:tensorflow:Assets written to: s2s_LSTM_256TimeD_2\\assets\n"
     ]
    },
    {
     "name": "stderr",
     "output_type": "stream",
     "text": [
      "INFO:tensorflow:Assets written to: s2s_LSTM_256TimeD_2\\assets\n"
     ]
    },
    {
     "name": "stdout",
     "output_type": "stream",
     "text": [
      "Epoch 18/500\n",
      "781/781 [==============================] - 18s 22ms/step - loss: 1.8255e-04 - mse: 1.6726e-04 - val_loss: 3.8855e-04 - val_mse: 5.8873e-04\n",
      "Epoch 19/500\n",
      "781/781 [==============================] - 18s 23ms/step - loss: 1.7049e-04 - mse: 1.5899e-04 - val_loss: 3.4614e-04 - val_mse: 5.1877e-04\n"
     ]
    },
    {
     "name": "stderr",
     "output_type": "stream",
     "text": [
      "WARNING:absl:Found untraced functions such as gru_cell_2_layer_call_fn, gru_cell_2_layer_call_and_return_conditional_losses, lstm_cell_3_layer_call_fn, lstm_cell_3_layer_call_and_return_conditional_losses, gru_cell_2_layer_call_fn while saving (showing 5 of 10). These functions will not be directly callable after loading.\n"
     ]
    },
    {
     "name": "stdout",
     "output_type": "stream",
     "text": [
      "INFO:tensorflow:Assets written to: s2s_LSTM_256TimeD_2\\assets\n"
     ]
    },
    {
     "name": "stderr",
     "output_type": "stream",
     "text": [
      "INFO:tensorflow:Assets written to: s2s_LSTM_256TimeD_2\\assets\n"
     ]
    },
    {
     "name": "stdout",
     "output_type": "stream",
     "text": [
      "Epoch 20/500\n",
      "781/781 [==============================] - 18s 23ms/step - loss: 1.5756e-04 - mse: 1.4725e-04 - val_loss: 2.9682e-04 - val_mse: 4.3330e-04\n"
     ]
    },
    {
     "name": "stderr",
     "output_type": "stream",
     "text": [
      "WARNING:absl:Found untraced functions such as gru_cell_2_layer_call_fn, gru_cell_2_layer_call_and_return_conditional_losses, lstm_cell_3_layer_call_fn, lstm_cell_3_layer_call_and_return_conditional_losses, gru_cell_2_layer_call_fn while saving (showing 5 of 10). These functions will not be directly callable after loading.\n"
     ]
    },
    {
     "name": "stdout",
     "output_type": "stream",
     "text": [
      "INFO:tensorflow:Assets written to: s2s_LSTM_256TimeD_2\\assets\n"
     ]
    },
    {
     "name": "stderr",
     "output_type": "stream",
     "text": [
      "INFO:tensorflow:Assets written to: s2s_LSTM_256TimeD_2\\assets\n"
     ]
    },
    {
     "name": "stdout",
     "output_type": "stream",
     "text": [
      "Epoch 21/500\n",
      "781/781 [==============================] - 17s 22ms/step - loss: 1.4264e-04 - mse: 1.2976e-04 - val_loss: 2.8135e-04 - val_mse: 4.1373e-04\n"
     ]
    },
    {
     "name": "stderr",
     "output_type": "stream",
     "text": [
      "WARNING:absl:Found untraced functions such as gru_cell_2_layer_call_fn, gru_cell_2_layer_call_and_return_conditional_losses, lstm_cell_3_layer_call_fn, lstm_cell_3_layer_call_and_return_conditional_losses, gru_cell_2_layer_call_fn while saving (showing 5 of 10). These functions will not be directly callable after loading.\n"
     ]
    },
    {
     "name": "stdout",
     "output_type": "stream",
     "text": [
      "INFO:tensorflow:Assets written to: s2s_LSTM_256TimeD_2\\assets\n"
     ]
    },
    {
     "name": "stderr",
     "output_type": "stream",
     "text": [
      "INFO:tensorflow:Assets written to: s2s_LSTM_256TimeD_2\\assets\n"
     ]
    },
    {
     "name": "stdout",
     "output_type": "stream",
     "text": [
      "Epoch 22/500\n",
      "781/781 [==============================] - 18s 23ms/step - loss: 1.5672e-04 - mse: 1.6851e-04 - val_loss: 3.6866e-04 - val_mse: 5.9815e-04\n",
      "Epoch 23/500\n",
      "781/781 [==============================] - 17s 22ms/step - loss: 1.4254e-04 - mse: 1.4872e-04 - val_loss: 2.1940e-04 - val_mse: 3.0727e-04\n"
     ]
    },
    {
     "name": "stderr",
     "output_type": "stream",
     "text": [
      "WARNING:absl:Found untraced functions such as gru_cell_2_layer_call_fn, gru_cell_2_layer_call_and_return_conditional_losses, lstm_cell_3_layer_call_fn, lstm_cell_3_layer_call_and_return_conditional_losses, gru_cell_2_layer_call_fn while saving (showing 5 of 10). These functions will not be directly callable after loading.\n"
     ]
    },
    {
     "name": "stdout",
     "output_type": "stream",
     "text": [
      "INFO:tensorflow:Assets written to: s2s_LSTM_256TimeD_2\\assets\n"
     ]
    },
    {
     "name": "stderr",
     "output_type": "stream",
     "text": [
      "INFO:tensorflow:Assets written to: s2s_LSTM_256TimeD_2\\assets\n"
     ]
    },
    {
     "name": "stdout",
     "output_type": "stream",
     "text": [
      "Epoch 24/500\n",
      "781/781 [==============================] - 18s 23ms/step - loss: 1.2539e-04 - mse: 1.2242e-04 - val_loss: 1.9698e-04 - val_mse: 2.7045e-04\n"
     ]
    },
    {
     "name": "stderr",
     "output_type": "stream",
     "text": [
      "WARNING:absl:Found untraced functions such as gru_cell_2_layer_call_fn, gru_cell_2_layer_call_and_return_conditional_losses, lstm_cell_3_layer_call_fn, lstm_cell_3_layer_call_and_return_conditional_losses, gru_cell_2_layer_call_fn while saving (showing 5 of 10). These functions will not be directly callable after loading.\n"
     ]
    },
    {
     "name": "stdout",
     "output_type": "stream",
     "text": [
      "INFO:tensorflow:Assets written to: s2s_LSTM_256TimeD_2\\assets\n"
     ]
    },
    {
     "name": "stderr",
     "output_type": "stream",
     "text": [
      "INFO:tensorflow:Assets written to: s2s_LSTM_256TimeD_2\\assets\n"
     ]
    },
    {
     "name": "stdout",
     "output_type": "stream",
     "text": [
      "Epoch 25/500\n",
      "781/781 [==============================] - 18s 22ms/step - loss: 1.2626e-04 - mse: 1.3194e-04 - val_loss: 1.9650e-04 - val_mse: 2.7687e-04\n"
     ]
    },
    {
     "name": "stderr",
     "output_type": "stream",
     "text": [
      "WARNING:absl:Found untraced functions such as gru_cell_2_layer_call_fn, gru_cell_2_layer_call_and_return_conditional_losses, lstm_cell_3_layer_call_fn, lstm_cell_3_layer_call_and_return_conditional_losses, gru_cell_2_layer_call_fn while saving (showing 5 of 10). These functions will not be directly callable after loading.\n"
     ]
    },
    {
     "name": "stdout",
     "output_type": "stream",
     "text": [
      "INFO:tensorflow:Assets written to: s2s_LSTM_256TimeD_2\\assets\n"
     ]
    },
    {
     "name": "stderr",
     "output_type": "stream",
     "text": [
      "INFO:tensorflow:Assets written to: s2s_LSTM_256TimeD_2\\assets\n"
     ]
    },
    {
     "name": "stdout",
     "output_type": "stream",
     "text": [
      "Epoch 26/500\n",
      "781/781 [==============================] - 18s 23ms/step - loss: 1.2327e-04 - mse: 1.3266e-04 - val_loss: 1.4858e-04 - val_mse: 1.8695e-04\n"
     ]
    },
    {
     "name": "stderr",
     "output_type": "stream",
     "text": [
      "WARNING:absl:Found untraced functions such as gru_cell_2_layer_call_fn, gru_cell_2_layer_call_and_return_conditional_losses, lstm_cell_3_layer_call_fn, lstm_cell_3_layer_call_and_return_conditional_losses, gru_cell_2_layer_call_fn while saving (showing 5 of 10). These functions will not be directly callable after loading.\n"
     ]
    },
    {
     "name": "stdout",
     "output_type": "stream",
     "text": [
      "INFO:tensorflow:Assets written to: s2s_LSTM_256TimeD_2\\assets\n"
     ]
    },
    {
     "name": "stderr",
     "output_type": "stream",
     "text": [
      "INFO:tensorflow:Assets written to: s2s_LSTM_256TimeD_2\\assets\n"
     ]
    },
    {
     "name": "stdout",
     "output_type": "stream",
     "text": [
      "Epoch 27/500\n",
      "781/781 [==============================] - 18s 22ms/step - loss: 1.1488e-04 - mse: 1.2170e-04 - val_loss: 1.1863e-04 - val_mse: 1.3260e-04\n"
     ]
    },
    {
     "name": "stderr",
     "output_type": "stream",
     "text": [
      "WARNING:absl:Found untraced functions such as gru_cell_2_layer_call_fn, gru_cell_2_layer_call_and_return_conditional_losses, lstm_cell_3_layer_call_fn, lstm_cell_3_layer_call_and_return_conditional_losses, gru_cell_2_layer_call_fn while saving (showing 5 of 10). These functions will not be directly callable after loading.\n"
     ]
    },
    {
     "name": "stdout",
     "output_type": "stream",
     "text": [
      "INFO:tensorflow:Assets written to: s2s_LSTM_256TimeD_2\\assets\n"
     ]
    },
    {
     "name": "stderr",
     "output_type": "stream",
     "text": [
      "INFO:tensorflow:Assets written to: s2s_LSTM_256TimeD_2\\assets\n"
     ]
    },
    {
     "name": "stdout",
     "output_type": "stream",
     "text": [
      "Epoch 28/500\n",
      "781/781 [==============================] - 18s 23ms/step - loss: 1.1134e-04 - mse: 1.2005e-04 - val_loss: 9.8035e-05 - val_mse: 9.6461e-05\n"
     ]
    },
    {
     "name": "stderr",
     "output_type": "stream",
     "text": [
      "WARNING:absl:Found untraced functions such as gru_cell_2_layer_call_fn, gru_cell_2_layer_call_and_return_conditional_losses, lstm_cell_3_layer_call_fn, lstm_cell_3_layer_call_and_return_conditional_losses, gru_cell_2_layer_call_fn while saving (showing 5 of 10). These functions will not be directly callable after loading.\n"
     ]
    },
    {
     "name": "stdout",
     "output_type": "stream",
     "text": [
      "INFO:tensorflow:Assets written to: s2s_LSTM_256TimeD_2\\assets\n"
     ]
    },
    {
     "name": "stderr",
     "output_type": "stream",
     "text": [
      "INFO:tensorflow:Assets written to: s2s_LSTM_256TimeD_2\\assets\n"
     ]
    },
    {
     "name": "stdout",
     "output_type": "stream",
     "text": [
      "Epoch 29/500\n",
      "781/781 [==============================] - 18s 23ms/step - loss: 1.1118e-04 - mse: 1.2454e-04 - val_loss: 8.1628e-05 - val_mse: 6.7982e-05\n"
     ]
    },
    {
     "name": "stderr",
     "output_type": "stream",
     "text": [
      "WARNING:absl:Found untraced functions such as gru_cell_2_layer_call_fn, gru_cell_2_layer_call_and_return_conditional_losses, lstm_cell_3_layer_call_fn, lstm_cell_3_layer_call_and_return_conditional_losses, gru_cell_2_layer_call_fn while saving (showing 5 of 10). These functions will not be directly callable after loading.\n"
     ]
    },
    {
     "name": "stdout",
     "output_type": "stream",
     "text": [
      "INFO:tensorflow:Assets written to: s2s_LSTM_256TimeD_2\\assets\n"
     ]
    },
    {
     "name": "stderr",
     "output_type": "stream",
     "text": [
      "INFO:tensorflow:Assets written to: s2s_LSTM_256TimeD_2\\assets\n"
     ]
    },
    {
     "name": "stdout",
     "output_type": "stream",
     "text": [
      "Epoch 30/500\n",
      "781/781 [==============================] - 18s 23ms/step - loss: 1.0192e-04 - mse: 1.1025e-04 - val_loss: 7.1550e-05 - val_mse: 5.1859e-05\n"
     ]
    },
    {
     "name": "stderr",
     "output_type": "stream",
     "text": [
      "WARNING:absl:Found untraced functions such as gru_cell_2_layer_call_fn, gru_cell_2_layer_call_and_return_conditional_losses, lstm_cell_3_layer_call_fn, lstm_cell_3_layer_call_and_return_conditional_losses, gru_cell_2_layer_call_fn while saving (showing 5 of 10). These functions will not be directly callable after loading.\n"
     ]
    },
    {
     "name": "stdout",
     "output_type": "stream",
     "text": [
      "INFO:tensorflow:Assets written to: s2s_LSTM_256TimeD_2\\assets\n"
     ]
    },
    {
     "name": "stderr",
     "output_type": "stream",
     "text": [
      "INFO:tensorflow:Assets written to: s2s_LSTM_256TimeD_2\\assets\n"
     ]
    },
    {
     "name": "stdout",
     "output_type": "stream",
     "text": [
      "Epoch 31/500\n",
      "781/781 [==============================] - 18s 23ms/step - loss: 9.9344e-05 - mse: 1.0919e-04 - val_loss: 7.5479e-05 - val_mse: 6.3626e-05\n",
      "Epoch 32/500\n",
      "781/781 [==============================] - 18s 23ms/step - loss: 1.0191e-04 - mse: 1.1802e-04 - val_loss: 7.7835e-05 - val_mse: 7.1546e-05\n",
      "Epoch 33/500\n",
      "781/781 [==============================] - 20s 26ms/step - loss: 9.2673e-05 - mse: 1.0264e-04 - val_loss: 8.5235e-05 - val_mse: 8.9355e-05\n",
      "Epoch 34/500\n",
      "781/781 [==============================] - 19s 25ms/step - loss: 9.5813e-05 - mse: 1.1203e-04 - val_loss: 1.0537e-04 - val_mse: 1.3255e-04\n",
      "Epoch 35/500\n",
      "781/781 [==============================] - 21s 26ms/step - loss: 8.8071e-05 - mse: 9.9192e-05 - val_loss: 1.0660e-04 - val_mse: 1.3743e-04\n",
      "Epoch 36/500\n",
      "781/781 [==============================] - 18s 24ms/step - loss: 8.4835e-05 - mse: 9.5369e-05 - val_loss: 1.6823e-04 - val_mse: 2.6342e-04\n",
      "Epoch 37/500\n",
      "781/781 [==============================] - 18s 23ms/step - loss: 9.1410e-05 - mse: 1.1099e-04 - val_loss: 1.7117e-04 - val_mse: 2.7121e-04\n",
      "Epoch 38/500\n",
      "781/781 [==============================] - 18s 23ms/step - loss: 8.2166e-05 - mse: 9.4433e-05 - val_loss: 1.6831e-04 - val_mse: 2.6747e-04\n",
      "Epoch 39/500\n",
      "781/781 [==============================] - 18s 23ms/step - loss: 8.1978e-05 - mse: 9.6134e-05 - val_loss: 1.7820e-04 - val_mse: 2.8939e-04\n",
      "Epoch 40/500\n",
      "781/781 [==============================] - 18s 23ms/step - loss: 8.2448e-05 - mse: 9.8964e-05 - val_loss: 1.3079e-04 - val_mse: 1.9624e-04\n",
      "Epoch 41/500\n",
      "781/781 [==============================] - 18s 23ms/step - loss: 7.4028e-05 - mse: 8.3759e-05 - val_loss: 1.0322e-04 - val_mse: 1.4298e-04\n",
      "Epoch 42/500\n",
      "781/781 [==============================] - 18s 23ms/step - loss: 8.0061e-05 - mse: 9.7715e-05 - val_loss: 1.1019e-04 - val_mse: 1.5881e-04\n",
      "Epoch 43/500\n",
      "781/781 [==============================] - 18s 23ms/step - loss: 7.8984e-05 - mse: 9.6919e-05 - val_loss: 7.4750e-05 - val_mse: 8.9001e-05\n",
      "Epoch 44/500\n",
      "781/781 [==============================] - 18s 23ms/step - loss: 6.8329e-05 - mse: 7.6898e-05 - val_loss: 6.9497e-05 - val_mse: 8.0172e-05\n"
     ]
    },
    {
     "name": "stderr",
     "output_type": "stream",
     "text": [
      "WARNING:absl:Found untraced functions such as gru_cell_2_layer_call_fn, gru_cell_2_layer_call_and_return_conditional_losses, lstm_cell_3_layer_call_fn, lstm_cell_3_layer_call_and_return_conditional_losses, gru_cell_2_layer_call_fn while saving (showing 5 of 10). These functions will not be directly callable after loading.\n"
     ]
    },
    {
     "name": "stdout",
     "output_type": "stream",
     "text": [
      "INFO:tensorflow:Assets written to: s2s_LSTM_256TimeD_2\\assets\n"
     ]
    },
    {
     "name": "stderr",
     "output_type": "stream",
     "text": [
      "INFO:tensorflow:Assets written to: s2s_LSTM_256TimeD_2\\assets\n"
     ]
    },
    {
     "name": "stdout",
     "output_type": "stream",
     "text": [
      "Epoch 45/500\n",
      "781/781 [==============================] - 17s 22ms/step - loss: 7.6045e-05 - mse: 9.3953e-05 - val_loss: 7.7339e-05 - val_mse: 9.7255e-05\n",
      "Epoch 46/500\n",
      "781/781 [==============================] - 17s 22ms/step - loss: 7.1718e-05 - mse: 8.6418e-05 - val_loss: 6.2162e-05 - val_mse: 6.7883e-05\n"
     ]
    },
    {
     "name": "stderr",
     "output_type": "stream",
     "text": [
      "WARNING:absl:Found untraced functions such as gru_cell_2_layer_call_fn, gru_cell_2_layer_call_and_return_conditional_losses, lstm_cell_3_layer_call_fn, lstm_cell_3_layer_call_and_return_conditional_losses, gru_cell_2_layer_call_fn while saving (showing 5 of 10). These functions will not be directly callable after loading.\n"
     ]
    },
    {
     "name": "stdout",
     "output_type": "stream",
     "text": [
      "INFO:tensorflow:Assets written to: s2s_LSTM_256TimeD_2\\assets\n"
     ]
    },
    {
     "name": "stderr",
     "output_type": "stream",
     "text": [
      "INFO:tensorflow:Assets written to: s2s_LSTM_256TimeD_2\\assets\n"
     ]
    },
    {
     "name": "stdout",
     "output_type": "stream",
     "text": [
      "Epoch 47/500\n",
      "781/781 [==============================] - 18s 23ms/step - loss: 6.8697e-05 - mse: 8.1589e-05 - val_loss: 7.3824e-05 - val_mse: 9.2589e-05\n",
      "Epoch 48/500\n",
      "781/781 [==============================] - 17s 22ms/step - loss: 7.3416e-05 - mse: 9.2214e-05 - val_loss: 6.3043e-05 - val_mse: 7.1985e-05\n",
      "Epoch 49/500\n",
      "781/781 [==============================] - 17s 22ms/step - loss: 6.4166e-05 - mse: 7.4605e-05 - val_loss: 5.7592e-05 - val_mse: 6.2119e-05\n"
     ]
    },
    {
     "name": "stderr",
     "output_type": "stream",
     "text": [
      "WARNING:absl:Found untraced functions such as gru_cell_2_layer_call_fn, gru_cell_2_layer_call_and_return_conditional_losses, lstm_cell_3_layer_call_fn, lstm_cell_3_layer_call_and_return_conditional_losses, gru_cell_2_layer_call_fn while saving (showing 5 of 10). These functions will not be directly callable after loading.\n"
     ]
    },
    {
     "name": "stdout",
     "output_type": "stream",
     "text": [
      "INFO:tensorflow:Assets written to: s2s_LSTM_256TimeD_2\\assets\n"
     ]
    },
    {
     "name": "stderr",
     "output_type": "stream",
     "text": [
      "INFO:tensorflow:Assets written to: s2s_LSTM_256TimeD_2\\assets\n"
     ]
    },
    {
     "name": "stdout",
     "output_type": "stream",
     "text": [
      "Epoch 50/500\n",
      "781/781 [==============================] - 18s 22ms/step - loss: 6.8302e-05 - mse: 8.4090e-05 - val_loss: 6.2769e-05 - val_mse: 7.3699e-05\n",
      "Epoch 51/500\n",
      "781/781 [==============================] - 17s 22ms/step - loss: 6.8039e-05 - mse: 8.4454e-05 - val_loss: 4.7609e-05 - val_mse: 4.4083e-05\n"
     ]
    },
    {
     "name": "stderr",
     "output_type": "stream",
     "text": [
      "WARNING:absl:Found untraced functions such as gru_cell_2_layer_call_fn, gru_cell_2_layer_call_and_return_conditional_losses, lstm_cell_3_layer_call_fn, lstm_cell_3_layer_call_and_return_conditional_losses, gru_cell_2_layer_call_fn while saving (showing 5 of 10). These functions will not be directly callable after loading.\n"
     ]
    },
    {
     "name": "stdout",
     "output_type": "stream",
     "text": [
      "INFO:tensorflow:Assets written to: s2s_LSTM_256TimeD_2\\assets\n"
     ]
    },
    {
     "name": "stderr",
     "output_type": "stream",
     "text": [
      "INFO:tensorflow:Assets written to: s2s_LSTM_256TimeD_2\\assets\n"
     ]
    },
    {
     "name": "stdout",
     "output_type": "stream",
     "text": [
      "Epoch 52/500\n",
      "781/781 [==============================] - 17s 22ms/step - loss: 6.0358e-05 - mse: 6.9926e-05 - val_loss: 4.7480e-05 - val_mse: 4.4879e-05\n"
     ]
    },
    {
     "name": "stderr",
     "output_type": "stream",
     "text": [
      "WARNING:absl:Found untraced functions such as gru_cell_2_layer_call_fn, gru_cell_2_layer_call_and_return_conditional_losses, lstm_cell_3_layer_call_fn, lstm_cell_3_layer_call_and_return_conditional_losses, gru_cell_2_layer_call_fn while saving (showing 5 of 10). These functions will not be directly callable after loading.\n"
     ]
    },
    {
     "name": "stdout",
     "output_type": "stream",
     "text": [
      "INFO:tensorflow:Assets written to: s2s_LSTM_256TimeD_2\\assets\n"
     ]
    },
    {
     "name": "stderr",
     "output_type": "stream",
     "text": [
      "INFO:tensorflow:Assets written to: s2s_LSTM_256TimeD_2\\assets\n"
     ]
    },
    {
     "name": "stdout",
     "output_type": "stream",
     "text": [
      "Epoch 53/500\n",
      "781/781 [==============================] - 18s 23ms/step - loss: 6.6593e-05 - mse: 8.3517e-05 - val_loss: 5.5514e-05 - val_mse: 6.2064e-05\n",
      "Epoch 54/500\n",
      "781/781 [==============================] - 17s 22ms/step - loss: 6.6996e-05 - mse: 8.5031e-05 - val_loss: 4.2283e-05 - val_mse: 3.6005e-05\n"
     ]
    },
    {
     "name": "stderr",
     "output_type": "stream",
     "text": [
      "WARNING:absl:Found untraced functions such as gru_cell_2_layer_call_fn, gru_cell_2_layer_call_and_return_conditional_losses, lstm_cell_3_layer_call_fn, lstm_cell_3_layer_call_and_return_conditional_losses, gru_cell_2_layer_call_fn while saving (showing 5 of 10). These functions will not be directly callable after loading.\n"
     ]
    },
    {
     "name": "stdout",
     "output_type": "stream",
     "text": [
      "INFO:tensorflow:Assets written to: s2s_LSTM_256TimeD_2\\assets\n"
     ]
    },
    {
     "name": "stderr",
     "output_type": "stream",
     "text": [
      "INFO:tensorflow:Assets written to: s2s_LSTM_256TimeD_2\\assets\n"
     ]
    },
    {
     "name": "stdout",
     "output_type": "stream",
     "text": [
      "Epoch 55/500\n",
      "781/781 [==============================] - 16s 21ms/step - loss: 5.5750e-05 - mse: 6.3200e-05 - val_loss: 4.3868e-05 - val_mse: 4.0159e-05\n",
      "Epoch 56/500\n",
      "781/781 [==============================] - 16s 21ms/step - loss: 6.3865e-05 - mse: 8.0512e-05 - val_loss: 5.0594e-05 - val_mse: 5.4586e-05\n",
      "Epoch 57/500\n",
      "781/781 [==============================] - 16s 21ms/step - loss: 6.6362e-05 - mse: 8.6143e-05 - val_loss: 4.2744e-05 - val_mse: 3.9285e-05\n",
      "Epoch 58/500\n",
      "781/781 [==============================] - 16s 21ms/step - loss: 5.4268e-05 - mse: 6.2438e-05 - val_loss: 4.1005e-05 - val_mse: 3.6482e-05\n"
     ]
    },
    {
     "name": "stderr",
     "output_type": "stream",
     "text": [
      "WARNING:absl:Found untraced functions such as gru_cell_2_layer_call_fn, gru_cell_2_layer_call_and_return_conditional_losses, lstm_cell_3_layer_call_fn, lstm_cell_3_layer_call_and_return_conditional_losses, gru_cell_2_layer_call_fn while saving (showing 5 of 10). These functions will not be directly callable after loading.\n"
     ]
    },
    {
     "name": "stdout",
     "output_type": "stream",
     "text": [
      "INFO:tensorflow:Assets written to: s2s_LSTM_256TimeD_2\\assets\n"
     ]
    },
    {
     "name": "stderr",
     "output_type": "stream",
     "text": [
      "INFO:tensorflow:Assets written to: s2s_LSTM_256TimeD_2\\assets\n"
     ]
    },
    {
     "name": "stdout",
     "output_type": "stream",
     "text": [
      "Epoch 59/500\n",
      "781/781 [==============================] - 16s 21ms/step - loss: 6.0840e-05 - mse: 7.6570e-05 - val_loss: 5.3571e-05 - val_mse: 6.2554e-05\n",
      "Epoch 60/500\n",
      "781/781 [==============================] - 16s 21ms/step - loss: 6.2069e-05 - mse: 7.9557e-05 - val_loss: 4.8852e-05 - val_mse: 5.3336e-05\n",
      "Epoch 61/500\n",
      "781/781 [==============================] - 17s 22ms/step - loss: 5.3184e-05 - mse: 6.2298e-05 - val_loss: 5.8109e-05 - val_mse: 7.2617e-05\n",
      "Epoch 62/500\n",
      "781/781 [==============================] - 16s 21ms/step - loss: 6.1800e-05 - mse: 8.0379e-05 - val_loss: 7.0238e-05 - val_mse: 9.7499e-05\n",
      "Epoch 63/500\n",
      "781/781 [==============================] - 16s 21ms/step - loss: 5.6843e-05 - mse: 7.0822e-05 - val_loss: 5.0487e-05 - val_mse: 5.8282e-05\n",
      "Epoch 64/500\n",
      "781/781 [==============================] - 16s 21ms/step - loss: 4.9603e-05 - mse: 5.6915e-05 - val_loss: 5.2812e-05 - val_mse: 6.3791e-05\n",
      "Epoch 65/500\n",
      "781/781 [==============================] - 16s 21ms/step - loss: 6.0037e-05 - mse: 7.8623e-05 - val_loss: 5.5878e-05 - val_mse: 7.0587e-05\n",
      "Epoch 66/500\n",
      "781/781 [==============================] - 17s 21ms/step - loss: 5.8933e-05 - mse: 7.6762e-05 - val_loss: 3.8510e-05 - val_mse: 3.6084e-05\n"
     ]
    },
    {
     "name": "stderr",
     "output_type": "stream",
     "text": [
      "WARNING:absl:Found untraced functions such as gru_cell_2_layer_call_fn, gru_cell_2_layer_call_and_return_conditional_losses, lstm_cell_3_layer_call_fn, lstm_cell_3_layer_call_and_return_conditional_losses, gru_cell_2_layer_call_fn while saving (showing 5 of 10). These functions will not be directly callable after loading.\n"
     ]
    },
    {
     "name": "stdout",
     "output_type": "stream",
     "text": [
      "INFO:tensorflow:Assets written to: s2s_LSTM_256TimeD_2\\assets\n"
     ]
    },
    {
     "name": "stderr",
     "output_type": "stream",
     "text": [
      "INFO:tensorflow:Assets written to: s2s_LSTM_256TimeD_2\\assets\n"
     ]
    },
    {
     "name": "stdout",
     "output_type": "stream",
     "text": [
      "Epoch 67/500\n",
      "781/781 [==============================] - 17s 21ms/step - loss: 4.7518e-05 - mse: 5.4273e-05 - val_loss: 3.5667e-05 - val_mse: 3.1034e-05\n"
     ]
    },
    {
     "name": "stderr",
     "output_type": "stream",
     "text": [
      "WARNING:absl:Found untraced functions such as gru_cell_2_layer_call_fn, gru_cell_2_layer_call_and_return_conditional_losses, lstm_cell_3_layer_call_fn, lstm_cell_3_layer_call_and_return_conditional_losses, gru_cell_2_layer_call_fn while saving (showing 5 of 10). These functions will not be directly callable after loading.\n"
     ]
    },
    {
     "name": "stdout",
     "output_type": "stream",
     "text": [
      "INFO:tensorflow:Assets written to: s2s_LSTM_256TimeD_2\\assets\n"
     ]
    },
    {
     "name": "stderr",
     "output_type": "stream",
     "text": [
      "INFO:tensorflow:Assets written to: s2s_LSTM_256TimeD_2\\assets\n"
     ]
    },
    {
     "name": "stdout",
     "output_type": "stream",
     "text": [
      "Epoch 68/500\n",
      "781/781 [==============================] - 17s 21ms/step - loss: 5.4462e-05 - mse: 6.8977e-05 - val_loss: 4.2370e-05 - val_mse: 4.5175e-05\n",
      "Epoch 69/500\n",
      "781/781 [==============================] - 17s 21ms/step - loss: 5.9724e-05 - mse: 7.9946e-05 - val_loss: 3.9886e-05 - val_mse: 4.0509e-05\n",
      "Epoch 70/500\n",
      "781/781 [==============================] - 17s 21ms/step - loss: 4.8859e-05 - mse: 5.8409e-05 - val_loss: 3.2664e-05 - val_mse: 2.6309e-05\n"
     ]
    },
    {
     "name": "stderr",
     "output_type": "stream",
     "text": [
      "WARNING:absl:Found untraced functions such as gru_cell_2_layer_call_fn, gru_cell_2_layer_call_and_return_conditional_losses, lstm_cell_3_layer_call_fn, lstm_cell_3_layer_call_and_return_conditional_losses, gru_cell_2_layer_call_fn while saving (showing 5 of 10). These functions will not be directly callable after loading.\n"
     ]
    },
    {
     "name": "stdout",
     "output_type": "stream",
     "text": [
      "INFO:tensorflow:Assets written to: s2s_LSTM_256TimeD_2\\assets\n"
     ]
    },
    {
     "name": "stderr",
     "output_type": "stream",
     "text": [
      "INFO:tensorflow:Assets written to: s2s_LSTM_256TimeD_2\\assets\n"
     ]
    },
    {
     "name": "stdout",
     "output_type": "stream",
     "text": [
      "Epoch 71/500\n",
      "781/781 [==============================] - 17s 21ms/step - loss: 4.8843e-05 - mse: 5.9024e-05 - val_loss: 3.9006e-05 - val_mse: 3.9740e-05\n",
      "Epoch 72/500\n",
      "781/781 [==============================] - 18s 22ms/step - loss: 5.6036e-05 - mse: 7.3952e-05 - val_loss: 4.2510e-05 - val_mse: 4.7112e-05\n",
      "Epoch 73/500\n",
      "781/781 [==============================] - 17s 22ms/step - loss: 5.1842e-05 - mse: 6.5790e-05 - val_loss: 3.5143e-05 - val_mse: 3.2562e-05\n",
      "Epoch 74/500\n",
      "781/781 [==============================] - 17s 22ms/step - loss: 4.6216e-05 - mse: 5.4957e-05 - val_loss: 3.7222e-05 - val_mse: 3.7338e-05\n",
      "Epoch 75/500\n",
      "781/781 [==============================] - 17s 21ms/step - loss: 5.3781e-05 - mse: 7.0671e-05 - val_loss: 3.8858e-05 - val_mse: 4.1049e-05\n",
      "Epoch 76/500\n",
      "781/781 [==============================] - 17s 21ms/step - loss: 5.1804e-05 - mse: 6.6920e-05 - val_loss: 3.2775e-05 - val_mse: 2.9054e-05\n",
      "Epoch 77/500\n",
      "781/781 [==============================] - 16s 21ms/step - loss: 4.4957e-05 - mse: 5.3547e-05 - val_loss: 3.3963e-05 - val_mse: 3.1946e-05\n",
      "Epoch 78/500\n",
      "781/781 [==============================] - 16s 21ms/step - loss: 5.0589e-05 - mse: 6.5377e-05 - val_loss: 4.1169e-05 - val_mse: 4.6860e-05\n",
      "Epoch 79/500\n",
      "781/781 [==============================] - 16s 21ms/step - loss: 5.2778e-05 - mse: 7.0028e-05 - val_loss: 3.9519e-05 - val_mse: 4.3761e-05\n",
      "Epoch 80/500\n",
      "781/781 [==============================] - 16s 21ms/step - loss: 4.6190e-05 - mse: 5.7016e-05 - val_loss: 2.9587e-05 - val_mse: 2.3994e-05\n"
     ]
    },
    {
     "name": "stderr",
     "output_type": "stream",
     "text": [
      "WARNING:absl:Found untraced functions such as gru_cell_2_layer_call_fn, gru_cell_2_layer_call_and_return_conditional_losses, lstm_cell_3_layer_call_fn, lstm_cell_3_layer_call_and_return_conditional_losses, gru_cell_2_layer_call_fn while saving (showing 5 of 10). These functions will not be directly callable after loading.\n"
     ]
    },
    {
     "name": "stdout",
     "output_type": "stream",
     "text": [
      "INFO:tensorflow:Assets written to: s2s_LSTM_256TimeD_2\\assets\n"
     ]
    },
    {
     "name": "stderr",
     "output_type": "stream",
     "text": [
      "INFO:tensorflow:Assets written to: s2s_LSTM_256TimeD_2\\assets\n"
     ]
    },
    {
     "name": "stdout",
     "output_type": "stream",
     "text": [
      "Epoch 81/500\n",
      "781/781 [==============================] - 17s 21ms/step - loss: 4.3999e-05 - mse: 5.3076e-05 - val_loss: 3.5753e-05 - val_mse: 3.6743e-05\n",
      "Epoch 82/500\n",
      "781/781 [==============================] - 16s 21ms/step - loss: 5.0359e-05 - mse: 6.6263e-05 - val_loss: 6.6174e-05 - val_mse: 9.7766e-05\n",
      "Epoch 83/500\n",
      "781/781 [==============================] - 16s 21ms/step - loss: 5.1298e-05 - mse: 6.8330e-05 - val_loss: 9.8917e-05 - val_mse: 1.6325e-04\n",
      "Epoch 84/500\n",
      "781/781 [==============================] - 16s 21ms/step - loss: 4.1968e-05 - mse: 4.9810e-05 - val_loss: 1.3356e-04 - val_mse: 2.3268e-04\n",
      "Epoch 85/500\n",
      "781/781 [==============================] - 16s 21ms/step - loss: 4.5781e-05 - mse: 5.7946e-05 - val_loss: 2.4323e-04 - val_mse: 4.5230e-04\n",
      "Epoch 86/500\n",
      "781/781 [==============================] - 16s 21ms/step - loss: 5.0032e-05 - mse: 6.6718e-05 - val_loss: 2.4886e-04 - val_mse: 4.6379e-04\n",
      "Epoch 87/500\n",
      "781/781 [==============================] - 16s 21ms/step - loss: 4.4106e-05 - mse: 5.4983e-05 - val_loss: 1.3623e-04 - val_mse: 2.3883e-04\n",
      "Epoch 88/500\n",
      "781/781 [==============================] - 17s 22ms/step - loss: 4.1628e-05 - mse: 5.0391e-05 - val_loss: 1.1989e-04 - val_mse: 2.0663e-04\n",
      "Epoch 89/500\n",
      "781/781 [==============================] - 18s 23ms/step - loss: 4.7537e-05 - mse: 6.2609e-05 - val_loss: 9.9471e-05 - val_mse: 1.6616e-04\n",
      "Epoch 90/500\n",
      "781/781 [==============================] - 18s 23ms/step - loss: 4.7815e-05 - mse: 6.3322e-05 - val_loss: 4.8340e-05 - val_mse: 6.4165e-05\n",
      "Epoch 91/500\n",
      "781/781 [==============================] - 18s 24ms/step - loss: 3.9765e-05 - mse: 4.7343e-05 - val_loss: 2.6302e-05 - val_mse: 2.0508e-05\n"
     ]
    },
    {
     "name": "stderr",
     "output_type": "stream",
     "text": [
      "WARNING:absl:Found untraced functions such as gru_cell_2_layer_call_fn, gru_cell_2_layer_call_and_return_conditional_losses, lstm_cell_3_layer_call_fn, lstm_cell_3_layer_call_and_return_conditional_losses, gru_cell_2_layer_call_fn while saving (showing 5 of 10). These functions will not be directly callable after loading.\n"
     ]
    },
    {
     "name": "stdout",
     "output_type": "stream",
     "text": [
      "INFO:tensorflow:Assets written to: s2s_LSTM_256TimeD_2\\assets\n"
     ]
    },
    {
     "name": "stderr",
     "output_type": "stream",
     "text": [
      "INFO:tensorflow:Assets written to: s2s_LSTM_256TimeD_2\\assets\n"
     ]
    },
    {
     "name": "stdout",
     "output_type": "stream",
     "text": [
      "Epoch 92/500\n",
      "781/781 [==============================] - 17s 21ms/step - loss: 4.3011e-05 - mse: 5.4285e-05 - val_loss: 4.2108e-05 - val_mse: 5.2629e-05\n",
      "Epoch 93/500\n",
      "781/781 [==============================] - 18s 22ms/step - loss: 4.7474e-05 - mse: 6.3463e-05 - val_loss: 5.4642e-05 - val_mse: 7.7945e-05\n",
      "Epoch 94/500\n",
      "781/781 [==============================] - 18s 23ms/step - loss: 4.2751e-05 - mse: 5.4109e-05 - val_loss: 6.4754e-05 - val_mse: 9.8347e-05\n",
      "Epoch 95/500\n",
      "781/781 [==============================] - 18s 23ms/step - loss: 3.8991e-05 - mse: 4.6852e-05 - val_loss: 1.0763e-04 - val_mse: 1.8458e-04\n",
      "Epoch 96/500\n",
      "781/781 [==============================] - 18s 23ms/step - loss: 4.4069e-05 - mse: 5.7396e-05 - val_loss: 1.4570e-04 - val_mse: 2.6106e-04\n",
      "Epoch 97/500\n",
      "781/781 [==============================] - 18s 23ms/step - loss: 4.5893e-05 - mse: 6.1202e-05 - val_loss: 1.3253e-04 - val_mse: 2.3484e-04\n",
      "Epoch 98/500\n",
      "781/781 [==============================] - 18s 23ms/step - loss: 3.9255e-05 - mse: 4.8019e-05 - val_loss: 8.8458e-05 - val_mse: 1.4681e-04\n",
      "Epoch 99/500\n",
      "781/781 [==============================] - 18s 23ms/step - loss: 4.1203e-05 - mse: 5.2292e-05 - val_loss: 8.0989e-05 - val_mse: 1.3221e-04\n",
      "Epoch 100/500\n",
      "781/781 [==============================] - 18s 23ms/step - loss: 4.4376e-05 - mse: 5.8854e-05 - val_loss: 5.5359e-05 - val_mse: 8.1014e-05\n",
      "Epoch 101/500\n",
      "781/781 [==============================] - 18s 23ms/step - loss: 4.1211e-05 - mse: 5.2659e-05 - val_loss: 2.9826e-05 - val_mse: 2.9982e-05\n",
      "Epoch 102/500\n",
      "781/781 [==============================] - 18s 23ms/step - loss: 3.9310e-05 - mse: 4.9072e-05 - val_loss: 3.6165e-05 - val_mse: 4.2783e-05\n",
      "Epoch 103/500\n",
      "781/781 [==============================] - 18s 23ms/step - loss: 4.2842e-05 - mse: 5.6431e-05 - val_loss: 5.5846e-05 - val_mse: 8.2282e-05\n",
      "Epoch 104/500\n",
      "781/781 [==============================] - 18s 23ms/step - loss: 4.1218e-05 - mse: 5.3303e-05 - val_loss: 6.6178e-05 - val_mse: 1.0303e-04\n",
      "Epoch 105/500\n",
      "781/781 [==============================] - 18s 22ms/step - loss: 3.7722e-05 - mse: 4.6490e-05 - val_loss: 9.6029e-05 - val_mse: 1.6291e-04\n",
      "Epoch 106/500\n",
      "781/781 [==============================] - 18s 24ms/step - loss: 4.0539e-05 - mse: 5.2417e-05 - val_loss: 1.0970e-04 - val_mse: 1.9043e-04\n",
      "Epoch 107/500\n",
      "781/781 [==============================] - 18s 23ms/step - loss: 4.2157e-05 - mse: 5.5821e-05 - val_loss: 1.0106e-04 - val_mse: 1.7334e-04\n",
      "Epoch 108/500\n",
      "781/781 [==============================] - 18s 23ms/step - loss: 3.6995e-05 - mse: 4.5609e-05 - val_loss: 6.1785e-05 - val_mse: 9.5047e-05\n",
      "Epoch 109/500\n",
      "781/781 [==============================] - 17s 22ms/step - loss: 3.8419e-05 - mse: 4.8754e-05 - val_loss: 4.1957e-05 - val_mse: 5.5740e-05\n",
      "Epoch 110/500\n",
      "781/781 [==============================] - 18s 22ms/step - loss: 4.1809e-05 - mse: 5.5738e-05 - val_loss: 3.9415e-05 - val_mse: 5.0800e-05\n",
      "Epoch 111/500\n",
      "781/781 [==============================] - 18s 23ms/step - loss: 3.7573e-05 - mse: 4.7332e-05 - val_loss: 2.7262e-05 - val_mse: 2.6709e-05\n",
      "Epoch 112/500\n",
      "781/781 [==============================] - 17s 22ms/step - loss: 3.6674e-05 - mse: 4.5788e-05 - val_loss: 3.4062e-05 - val_mse: 4.0660e-05\n",
      "Epoch 113/500\n",
      "781/781 [==============================] - 18s 22ms/step - loss: 3.9989e-05 - mse: 5.2652e-05 - val_loss: 3.4170e-05 - val_mse: 4.1034e-05\n",
      "Epoch 114/500\n",
      "781/781 [==============================] - 18s 22ms/step - loss: 3.8555e-05 - mse: 4.9881e-05 - val_loss: 3.2342e-05 - val_mse: 3.7564e-05\n",
      "Epoch 115/500\n",
      "781/781 [==============================] - 18s 23ms/step - loss: 3.6141e-05 - mse: 4.5230e-05 - val_loss: 2.9216e-05 - val_mse: 3.1455e-05\n",
      "Epoch 116/500\n",
      "781/781 [==============================] - 18s 23ms/step - loss: 3.8323e-05 - mse: 4.9815e-05 - val_loss: 2.8161e-05 - val_mse: 2.9474e-05\n",
      "Epoch 117/500\n",
      "781/781 [==============================] - 18s 24ms/step - loss: 3.9427e-05 - mse: 5.2168e-05 - val_loss: 2.6613e-05 - val_mse: 2.6518e-05\n",
      "Epoch 118/500\n",
      "781/781 [==============================] - 18s 23ms/step - loss: 3.4733e-05 - mse: 4.2873e-05 - val_loss: 3.1716e-05 - val_mse: 3.6842e-05\n",
      "Epoch 119/500\n",
      "781/781 [==============================] - 17s 22ms/step - loss: 3.5782e-05 - mse: 4.5233e-05 - val_loss: 6.3274e-05 - val_mse: 1.0006e-04\n",
      "Epoch 120/500\n",
      "781/781 [==============================] - 17s 22ms/step - loss: 3.9278e-05 - mse: 5.2404e-05 - val_loss: 6.5228e-05 - val_mse: 1.0408e-04\n",
      "Epoch 121/500\n",
      "781/781 [==============================] - 18s 23ms/step - loss: 3.6107e-05 - mse: 4.6121e-05 - val_loss: 7.3865e-05 - val_mse: 1.2144e-04\n",
      "Epoch 122/500\n",
      "781/781 [==============================] - 18s 23ms/step - loss: 3.5330e-05 - mse: 4.4763e-05 - val_loss: 9.4038e-05 - val_mse: 1.6195e-04\n",
      "Epoch 123/500\n",
      "781/781 [==============================] - 17s 22ms/step - loss: 3.6480e-05 - mse: 4.7245e-05 - val_loss: 9.9431e-05 - val_mse: 1.7288e-04\n",
      "CPU times: total: 47min 19s\n",
      "Wall time: 42min 25s\n"
     ]
    },
    {
     "data": {
      "text/plain": [
       "<keras.callbacks.History at 0x1ed2d12f280>"
      ]
     },
     "execution_count": 55,
     "metadata": {},
     "output_type": "execute_result"
    }
   ],
   "source": [
    "%%time\n",
    "\n",
    "\n",
    "#________________________________ LSTM\n",
    "\n",
    "name_model = \"s2s_LSTM_256TimeD_2\"\n",
    "\n",
    "keras.backend.clear_session()\n",
    "\n",
    "# Definir hiperparâmetros\n",
    "learning_rate = 0.0001\n",
    "l2_reg = 0.00001\n",
    "dropout_rate = 0.001\n",
    "func_act='sigmoid'\n",
    "\n",
    "batch_size = 128\n",
    "window_size = 32\n",
    "num_inputs  = train.shape[1]\n",
    "num_targets = 3\n",
    "stride = 3\n",
    "sampling_rate=1\n",
    "\n",
    "\n",
    "\n",
    "# Definir a entrada da rede\n",
    "inputs = keras.layers.Input(shape=[None, num_inputs])\n",
    "\n",
    "# LSTM\n",
    "reshaped_inputs = keras.layers.Reshape((-1, num_inputs))(inputs)\n",
    "lstm = keras.layers.LSTM(256, return_sequences=True, kernel_regularizer=keras.regularizers.L2(l2_reg))(reshaped_inputs)\n",
    "lstm = keras.layers.GRU(256, return_sequences=True, kernel_regularizer=keras.regularizers.L2(l2_reg))(reshaped_inputs)\n",
    "lstm = keras.layers.Dropout(rate=dropout_rate)(lstm)\n",
    "lstm = keras.layers.LSTM(256, return_sequences=True, kernel_regularizer=keras.regularizers.L2(l2_reg))(lstm)\n",
    "lstm = keras.layers.GRU(256, return_sequences=True, kernel_regularizer=keras.regularizers.L2(l2_reg))(reshaped_inputs)\n",
    "lstm = keras.layers.Dropout(rate=dropout_rate)(lstm)\n",
    "lstm = keras.layers.LSTM(256, return_sequences=True, kernel_regularizer=keras.regularizers.L2(l2_reg))(lstm)\n",
    "lstm = keras.layers.GRU(256, return_sequences=True, kernel_regularizer=keras.regularizers.L2(l2_reg))(reshaped_inputs)\n",
    "lstm = keras.layers.Dropout(rate=dropout_rate)(lstm)\n",
    "\n",
    "# TimeDistributed Dense\n",
    "dense = keras.layers.TimeDistributed(keras.layers.Dense(256))(lstm)\n",
    "dense = keras.layers.TimeDistributed(keras.layers.Dropout(rate=dropout_rate))(dense)\n",
    "\n",
    "# LSTM\n",
    "lstm = keras.layers.LSTM(256, return_sequences=False, kernel_regularizer=keras.regularizers.L2(l2_reg))(dense)\n",
    "output_lstm = keras.layers.Dense(num_targets)(lstm)\n",
    "\n",
    "# Definir o modelo com a entrada e saída\n",
    "model = keras.models.Model(inputs=inputs, outputs=output_lstm)\n",
    "\n",
    "# Definir o otimizador com taxa de aprendizado definida\n",
    "optimizer = keras.optimizers.Adam(learning_rate=learning_rate)\n",
    "\n",
    "\n",
    "# Compilar o modelo com a função de perda, otimizador e métrica desejados\n",
    "model.compile(loss=keras.losses.logcosh, optimizer=optimizer, metrics=[\"mse\"])\n",
    "\n",
    "# Adicionar callbacks para o modelo\n",
    "model_checkpoint = keras.callbacks.ModelCheckpoint(name_model, save_best_only=True)\n",
    "early_stopping = keras.callbacks.EarlyStopping(patience=32)\n",
    "\n",
    "# Treinar o modelo\n",
    "model.fit(train_set,\n",
    "          steps_per_epoch= len(train)//batch_size,\n",
    "          epochs=500,\n",
    "          validation_data=valid_set,\n",
    "          validation_steps=len(valid)//batch_size,\n",
    "          callbacks=[early_stopping,\n",
    "                     model_checkpoint])"
   ]
  },
  {
   "cell_type": "code",
   "execution_count": 56,
   "id": "dd518a01",
   "metadata": {},
   "outputs": [
    {
     "data": {
      "text/plain": [
       "'s2s_LSTM_256TimeD_2'"
      ]
     },
     "execution_count": 56,
     "metadata": {},
     "output_type": "execute_result"
    }
   ],
   "source": [
    "name_model"
   ]
  },
  {
   "cell_type": "code",
   "execution_count": 57,
   "id": "d282e129",
   "metadata": {},
   "outputs": [],
   "source": [
    "model = keras.models.load_model(name_model)"
   ]
  },
  {
   "cell_type": "code",
   "execution_count": 58,
   "id": "c39c349a",
   "metadata": {},
   "outputs": [
    {
     "name": "stdout",
     "output_type": "stream",
     "text": [
      "160/160 [==============================] - 3s 11ms/step - loss: 3.6565e-05 - mse: 4.1042e-05\n"
     ]
    }
   ],
   "source": [
    "loss, metric = model.evaluate(test_set, steps=len(test)//batch_size)"
   ]
  },
  {
   "cell_type": "code",
   "execution_count": null,
   "id": "2b9a4af4",
   "metadata": {},
   "outputs": [],
   "source": []
  },
  {
   "cell_type": "code",
   "execution_count": 60,
   "id": "75aa91e1",
   "metadata": {},
   "outputs": [
    {
     "name": "stdout",
     "output_type": "stream",
     "text": [
      "Epoch 1/500\n",
      "781/781 [==============================] - 20s 21ms/step - loss: 0.0049 - mse: 0.0033 - val_loss: 0.0026 - val_mse: 2.3855e-04\n"
     ]
    },
    {
     "name": "stderr",
     "output_type": "stream",
     "text": [
      "WARNING:absl:Found untraced functions such as gru_cell_2_layer_call_fn, gru_cell_2_layer_call_and_return_conditional_losses, lstm_cell_3_layer_call_fn, lstm_cell_3_layer_call_and_return_conditional_losses, gru_cell_2_layer_call_fn while saving (showing 5 of 10). These functions will not be directly callable after loading.\n"
     ]
    },
    {
     "name": "stdout",
     "output_type": "stream",
     "text": [
      "INFO:tensorflow:Assets written to: s2s_LSTM_256TimeD_3\\assets\n"
     ]
    },
    {
     "name": "stderr",
     "output_type": "stream",
     "text": [
      "INFO:tensorflow:Assets written to: s2s_LSTM_256TimeD_3\\assets\n"
     ]
    },
    {
     "name": "stdout",
     "output_type": "stream",
     "text": [
      "Epoch 2/500\n",
      "781/781 [==============================] - 17s 22ms/step - loss: 0.0021 - mse: 1.6858e-04 - val_loss: 0.0017 - val_mse: 2.8678e-04\n"
     ]
    },
    {
     "name": "stderr",
     "output_type": "stream",
     "text": [
      "WARNING:absl:Found untraced functions such as gru_cell_2_layer_call_fn, gru_cell_2_layer_call_and_return_conditional_losses, lstm_cell_3_layer_call_fn, lstm_cell_3_layer_call_and_return_conditional_losses, gru_cell_2_layer_call_fn while saving (showing 5 of 10). These functions will not be directly callable after loading.\n"
     ]
    },
    {
     "name": "stdout",
     "output_type": "stream",
     "text": [
      "INFO:tensorflow:Assets written to: s2s_LSTM_256TimeD_3\\assets\n"
     ]
    },
    {
     "name": "stderr",
     "output_type": "stream",
     "text": [
      "INFO:tensorflow:Assets written to: s2s_LSTM_256TimeD_3\\assets\n"
     ]
    },
    {
     "name": "stdout",
     "output_type": "stream",
     "text": [
      "Epoch 3/500\n",
      "781/781 [==============================] - 18s 22ms/step - loss: 0.0015 - mse: 2.3494e-04 - val_loss: 0.0014 - val_mse: 4.1941e-04\n"
     ]
    },
    {
     "name": "stderr",
     "output_type": "stream",
     "text": [
      "WARNING:absl:Found untraced functions such as gru_cell_2_layer_call_fn, gru_cell_2_layer_call_and_return_conditional_losses, lstm_cell_3_layer_call_fn, lstm_cell_3_layer_call_and_return_conditional_losses, gru_cell_2_layer_call_fn while saving (showing 5 of 10). These functions will not be directly callable after loading.\n"
     ]
    },
    {
     "name": "stdout",
     "output_type": "stream",
     "text": [
      "INFO:tensorflow:Assets written to: s2s_LSTM_256TimeD_3\\assets\n"
     ]
    },
    {
     "name": "stderr",
     "output_type": "stream",
     "text": [
      "INFO:tensorflow:Assets written to: s2s_LSTM_256TimeD_3\\assets\n"
     ]
    },
    {
     "name": "stdout",
     "output_type": "stream",
     "text": [
      "Epoch 4/500\n",
      "781/781 [==============================] - 18s 23ms/step - loss: 0.0013 - mse: 5.4107e-04 - val_loss: 0.0016 - val_mse: 0.0013\n",
      "Epoch 5/500\n",
      "781/781 [==============================] - 17s 22ms/step - loss: 0.0012 - mse: 7.1026e-04 - val_loss: 0.0012 - val_mse: 8.5633e-04\n"
     ]
    },
    {
     "name": "stderr",
     "output_type": "stream",
     "text": [
      "WARNING:absl:Found untraced functions such as gru_cell_2_layer_call_fn, gru_cell_2_layer_call_and_return_conditional_losses, lstm_cell_3_layer_call_fn, lstm_cell_3_layer_call_and_return_conditional_losses, gru_cell_2_layer_call_fn while saving (showing 5 of 10). These functions will not be directly callable after loading.\n"
     ]
    },
    {
     "name": "stdout",
     "output_type": "stream",
     "text": [
      "INFO:tensorflow:Assets written to: s2s_LSTM_256TimeD_3\\assets\n"
     ]
    },
    {
     "name": "stderr",
     "output_type": "stream",
     "text": [
      "INFO:tensorflow:Assets written to: s2s_LSTM_256TimeD_3\\assets\n"
     ]
    },
    {
     "name": "stdout",
     "output_type": "stream",
     "text": [
      "Epoch 6/500\n",
      "781/781 [==============================] - 18s 23ms/step - loss: 0.0010 - mse: 6.1190e-04 - val_loss: 0.0011 - val_mse: 7.9794e-04\n"
     ]
    },
    {
     "name": "stderr",
     "output_type": "stream",
     "text": [
      "WARNING:absl:Found untraced functions such as gru_cell_2_layer_call_fn, gru_cell_2_layer_call_and_return_conditional_losses, lstm_cell_3_layer_call_fn, lstm_cell_3_layer_call_and_return_conditional_losses, gru_cell_2_layer_call_fn while saving (showing 5 of 10). These functions will not be directly callable after loading.\n"
     ]
    },
    {
     "name": "stdout",
     "output_type": "stream",
     "text": [
      "INFO:tensorflow:Assets written to: s2s_LSTM_256TimeD_3\\assets\n"
     ]
    },
    {
     "name": "stderr",
     "output_type": "stream",
     "text": [
      "INFO:tensorflow:Assets written to: s2s_LSTM_256TimeD_3\\assets\n"
     ]
    },
    {
     "name": "stdout",
     "output_type": "stream",
     "text": [
      "Epoch 7/500\n",
      "781/781 [==============================] - 18s 22ms/step - loss: 8.2979e-04 - mse: 4.0824e-04 - val_loss: 6.7180e-04 - val_mse: 1.9867e-04\n"
     ]
    },
    {
     "name": "stderr",
     "output_type": "stream",
     "text": [
      "WARNING:absl:Found untraced functions such as gru_cell_2_layer_call_fn, gru_cell_2_layer_call_and_return_conditional_losses, lstm_cell_3_layer_call_fn, lstm_cell_3_layer_call_and_return_conditional_losses, gru_cell_2_layer_call_fn while saving (showing 5 of 10). These functions will not be directly callable after loading.\n"
     ]
    },
    {
     "name": "stdout",
     "output_type": "stream",
     "text": [
      "INFO:tensorflow:Assets written to: s2s_LSTM_256TimeD_3\\assets\n"
     ]
    },
    {
     "name": "stderr",
     "output_type": "stream",
     "text": [
      "INFO:tensorflow:Assets written to: s2s_LSTM_256TimeD_3\\assets\n"
     ]
    },
    {
     "name": "stdout",
     "output_type": "stream",
     "text": [
      "Epoch 8/500\n",
      "781/781 [==============================] - 17s 22ms/step - loss: 6.7955e-04 - mse: 3.1297e-04 - val_loss: 5.3712e-04 - val_mse: 1.2292e-04\n"
     ]
    },
    {
     "name": "stderr",
     "output_type": "stream",
     "text": [
      "WARNING:absl:Found untraced functions such as gru_cell_2_layer_call_fn, gru_cell_2_layer_call_and_return_conditional_losses, lstm_cell_3_layer_call_fn, lstm_cell_3_layer_call_and_return_conditional_losses, gru_cell_2_layer_call_fn while saving (showing 5 of 10). These functions will not be directly callable after loading.\n"
     ]
    },
    {
     "name": "stdout",
     "output_type": "stream",
     "text": [
      "INFO:tensorflow:Assets written to: s2s_LSTM_256TimeD_3\\assets\n"
     ]
    },
    {
     "name": "stderr",
     "output_type": "stream",
     "text": [
      "INFO:tensorflow:Assets written to: s2s_LSTM_256TimeD_3\\assets\n"
     ]
    },
    {
     "name": "stdout",
     "output_type": "stream",
     "text": [
      "Epoch 9/500\n",
      "781/781 [==============================] - 17s 21ms/step - loss: 5.7634e-04 - mse: 2.8683e-04 - val_loss: 4.5728e-04 - val_mse: 1.2974e-04\n"
     ]
    },
    {
     "name": "stderr",
     "output_type": "stream",
     "text": [
      "WARNING:absl:Found untraced functions such as gru_cell_2_layer_call_fn, gru_cell_2_layer_call_and_return_conditional_losses, lstm_cell_3_layer_call_fn, lstm_cell_3_layer_call_and_return_conditional_losses, gru_cell_2_layer_call_fn while saving (showing 5 of 10). These functions will not be directly callable after loading.\n"
     ]
    },
    {
     "name": "stdout",
     "output_type": "stream",
     "text": [
      "INFO:tensorflow:Assets written to: s2s_LSTM_256TimeD_3\\assets\n"
     ]
    },
    {
     "name": "stderr",
     "output_type": "stream",
     "text": [
      "INFO:tensorflow:Assets written to: s2s_LSTM_256TimeD_3\\assets\n"
     ]
    },
    {
     "name": "stdout",
     "output_type": "stream",
     "text": [
      "Epoch 10/500\n",
      "781/781 [==============================] - 17s 21ms/step - loss: 4.9542e-04 - mse: 2.7707e-04 - val_loss: 4.0949e-04 - val_mse: 1.7166e-04\n"
     ]
    },
    {
     "name": "stderr",
     "output_type": "stream",
     "text": [
      "WARNING:absl:Found untraced functions such as gru_cell_2_layer_call_fn, gru_cell_2_layer_call_and_return_conditional_losses, lstm_cell_3_layer_call_fn, lstm_cell_3_layer_call_and_return_conditional_losses, gru_cell_2_layer_call_fn while saving (showing 5 of 10). These functions will not be directly callable after loading.\n"
     ]
    },
    {
     "name": "stdout",
     "output_type": "stream",
     "text": [
      "INFO:tensorflow:Assets written to: s2s_LSTM_256TimeD_3\\assets\n"
     ]
    },
    {
     "name": "stderr",
     "output_type": "stream",
     "text": [
      "INFO:tensorflow:Assets written to: s2s_LSTM_256TimeD_3\\assets\n"
     ]
    },
    {
     "name": "stdout",
     "output_type": "stream",
     "text": [
      "Epoch 11/500\n",
      "781/781 [==============================] - 17s 21ms/step - loss: 4.2735e-04 - mse: 2.6366e-04 - val_loss: 4.1599e-04 - val_mse: 2.9215e-04\n",
      "Epoch 12/500\n",
      "781/781 [==============================] - 16s 21ms/step - loss: 3.8510e-04 - mse: 2.7358e-04 - val_loss: 3.8085e-04 - val_mse: 3.0428e-04\n"
     ]
    },
    {
     "name": "stderr",
     "output_type": "stream",
     "text": [
      "WARNING:absl:Found untraced functions such as gru_cell_2_layer_call_fn, gru_cell_2_layer_call_and_return_conditional_losses, lstm_cell_3_layer_call_fn, lstm_cell_3_layer_call_and_return_conditional_losses, gru_cell_2_layer_call_fn while saving (showing 5 of 10). These functions will not be directly callable after loading.\n"
     ]
    },
    {
     "name": "stdout",
     "output_type": "stream",
     "text": [
      "INFO:tensorflow:Assets written to: s2s_LSTM_256TimeD_3\\assets\n"
     ]
    },
    {
     "name": "stderr",
     "output_type": "stream",
     "text": [
      "INFO:tensorflow:Assets written to: s2s_LSTM_256TimeD_3\\assets\n"
     ]
    },
    {
     "name": "stdout",
     "output_type": "stream",
     "text": [
      "Epoch 13/500\n",
      "781/781 [==============================] - 17s 21ms/step - loss: 3.2624e-04 - mse: 2.2967e-04 - val_loss: 5.0969e-04 - val_mse: 6.2741e-04\n",
      "Epoch 14/500\n",
      "781/781 [==============================] - 17s 22ms/step - loss: 2.9644e-04 - mse: 2.2842e-04 - val_loss: 4.9371e-04 - val_mse: 6.4691e-04\n",
      "Epoch 15/500\n",
      "781/781 [==============================] - 18s 23ms/step - loss: 2.6501e-04 - mse: 2.1176e-04 - val_loss: 4.2521e-04 - val_mse: 5.5143e-04\n",
      "Epoch 16/500\n",
      "781/781 [==============================] - 18s 22ms/step - loss: 2.3922e-04 - mse: 1.9781e-04 - val_loss: 4.0899e-04 - val_mse: 5.5274e-04\n",
      "Epoch 17/500\n",
      "781/781 [==============================] - 18s 23ms/step - loss: 2.2092e-04 - mse: 1.9147e-04 - val_loss: 3.2547e-04 - val_mse: 4.1290e-04\n"
     ]
    },
    {
     "name": "stderr",
     "output_type": "stream",
     "text": [
      "WARNING:absl:Found untraced functions such as gru_cell_2_layer_call_fn, gru_cell_2_layer_call_and_return_conditional_losses, lstm_cell_3_layer_call_fn, lstm_cell_3_layer_call_and_return_conditional_losses, gru_cell_2_layer_call_fn while saving (showing 5 of 10). These functions will not be directly callable after loading.\n"
     ]
    },
    {
     "name": "stdout",
     "output_type": "stream",
     "text": [
      "INFO:tensorflow:Assets written to: s2s_LSTM_256TimeD_3\\assets\n"
     ]
    },
    {
     "name": "stderr",
     "output_type": "stream",
     "text": [
      "INFO:tensorflow:Assets written to: s2s_LSTM_256TimeD_3\\assets\n"
     ]
    },
    {
     "name": "stdout",
     "output_type": "stream",
     "text": [
      "Epoch 18/500\n",
      "781/781 [==============================] - 18s 22ms/step - loss: 2.0427e-04 - mse: 1.8299e-04 - val_loss: 2.3994e-04 - val_mse: 2.6477e-04\n"
     ]
    },
    {
     "name": "stderr",
     "output_type": "stream",
     "text": [
      "WARNING:absl:Found untraced functions such as gru_cell_2_layer_call_fn, gru_cell_2_layer_call_and_return_conditional_losses, lstm_cell_3_layer_call_fn, lstm_cell_3_layer_call_and_return_conditional_losses, gru_cell_2_layer_call_fn while saving (showing 5 of 10). These functions will not be directly callable after loading.\n"
     ]
    },
    {
     "name": "stdout",
     "output_type": "stream",
     "text": [
      "INFO:tensorflow:Assets written to: s2s_LSTM_256TimeD_3\\assets\n"
     ]
    },
    {
     "name": "stderr",
     "output_type": "stream",
     "text": [
      "INFO:tensorflow:Assets written to: s2s_LSTM_256TimeD_3\\assets\n"
     ]
    },
    {
     "name": "stdout",
     "output_type": "stream",
     "text": [
      "Epoch 19/500\n",
      "781/781 [==============================] - 18s 23ms/step - loss: 1.8655e-04 - mse: 1.6867e-04 - val_loss: 1.7247e-04 - val_mse: 1.4943e-04\n"
     ]
    },
    {
     "name": "stderr",
     "output_type": "stream",
     "text": [
      "WARNING:absl:Found untraced functions such as gru_cell_2_layer_call_fn, gru_cell_2_layer_call_and_return_conditional_losses, lstm_cell_3_layer_call_fn, lstm_cell_3_layer_call_and_return_conditional_losses, gru_cell_2_layer_call_fn while saving (showing 5 of 10). These functions will not be directly callable after loading.\n"
     ]
    },
    {
     "name": "stdout",
     "output_type": "stream",
     "text": [
      "INFO:tensorflow:Assets written to: s2s_LSTM_256TimeD_3\\assets\n"
     ]
    },
    {
     "name": "stderr",
     "output_type": "stream",
     "text": [
      "INFO:tensorflow:Assets written to: s2s_LSTM_256TimeD_3\\assets\n"
     ]
    },
    {
     "name": "stdout",
     "output_type": "stream",
     "text": [
      "Epoch 20/500\n",
      "781/781 [==============================] - 18s 22ms/step - loss: 1.7662e-04 - mse: 1.6666e-04 - val_loss: 1.3106e-04 - val_mse: 8.3041e-05\n"
     ]
    },
    {
     "name": "stderr",
     "output_type": "stream",
     "text": [
      "WARNING:absl:Found untraced functions such as gru_cell_2_layer_call_fn, gru_cell_2_layer_call_and_return_conditional_losses, lstm_cell_3_layer_call_fn, lstm_cell_3_layer_call_and_return_conditional_losses, gru_cell_2_layer_call_fn while saving (showing 5 of 10). These functions will not be directly callable after loading.\n"
     ]
    },
    {
     "name": "stdout",
     "output_type": "stream",
     "text": [
      "INFO:tensorflow:Assets written to: s2s_LSTM_256TimeD_3\\assets\n"
     ]
    },
    {
     "name": "stderr",
     "output_type": "stream",
     "text": [
      "INFO:tensorflow:Assets written to: s2s_LSTM_256TimeD_3\\assets\n"
     ]
    },
    {
     "name": "stdout",
     "output_type": "stream",
     "text": [
      "Epoch 21/500\n",
      "781/781 [==============================] - 18s 22ms/step - loss: 1.6632e-04 - mse: 1.6103e-04 - val_loss: 1.0974e-04 - val_mse: 5.4341e-05\n"
     ]
    },
    {
     "name": "stderr",
     "output_type": "stream",
     "text": [
      "WARNING:absl:Found untraced functions such as gru_cell_2_layer_call_fn, gru_cell_2_layer_call_and_return_conditional_losses, lstm_cell_3_layer_call_fn, lstm_cell_3_layer_call_and_return_conditional_losses, gru_cell_2_layer_call_fn while saving (showing 5 of 10). These functions will not be directly callable after loading.\n"
     ]
    },
    {
     "name": "stdout",
     "output_type": "stream",
     "text": [
      "INFO:tensorflow:Assets written to: s2s_LSTM_256TimeD_3\\assets\n"
     ]
    },
    {
     "name": "stderr",
     "output_type": "stream",
     "text": [
      "INFO:tensorflow:Assets written to: s2s_LSTM_256TimeD_3\\assets\n"
     ]
    },
    {
     "name": "stdout",
     "output_type": "stream",
     "text": [
      "Epoch 22/500\n",
      "781/781 [==============================] - 18s 22ms/step - loss: 1.5367e-04 - mse: 1.4858e-04 - val_loss: 1.1224e-04 - val_mse: 7.1615e-05\n",
      "Epoch 23/500\n",
      "781/781 [==============================] - 17s 22ms/step - loss: 1.4781e-04 - mse: 1.4820e-04 - val_loss: 1.2440e-04 - val_mse: 1.0662e-04\n",
      "Epoch 24/500\n",
      "781/781 [==============================] - 17s 22ms/step - loss: 1.3994e-04 - mse: 1.4232e-04 - val_loss: 1.3060e-04 - val_mse: 1.2822e-04\n",
      "Epoch 25/500\n",
      "781/781 [==============================] - 17s 22ms/step - loss: 1.3430e-04 - mse: 1.3966e-04 - val_loss: 1.1401e-04 - val_mse: 1.0314e-04\n",
      "Epoch 26/500\n",
      "781/781 [==============================] - 18s 23ms/step - loss: 1.2699e-04 - mse: 1.3267e-04 - val_loss: 8.2175e-05 - val_mse: 4.6429e-05\n"
     ]
    },
    {
     "name": "stderr",
     "output_type": "stream",
     "text": [
      "WARNING:absl:Found untraced functions such as gru_cell_2_layer_call_fn, gru_cell_2_layer_call_and_return_conditional_losses, lstm_cell_3_layer_call_fn, lstm_cell_3_layer_call_and_return_conditional_losses, gru_cell_2_layer_call_fn while saving (showing 5 of 10). These functions will not be directly callable after loading.\n"
     ]
    },
    {
     "name": "stdout",
     "output_type": "stream",
     "text": [
      "INFO:tensorflow:Assets written to: s2s_LSTM_256TimeD_3\\assets\n"
     ]
    },
    {
     "name": "stderr",
     "output_type": "stream",
     "text": [
      "INFO:tensorflow:Assets written to: s2s_LSTM_256TimeD_3\\assets\n"
     ]
    },
    {
     "name": "stdout",
     "output_type": "stream",
     "text": [
      "Epoch 27/500\n",
      "781/781 [==============================] - 18s 22ms/step - loss: 1.2551e-04 - mse: 1.3647e-04 - val_loss: 8.0829e-05 - val_mse: 4.9799e-05\n"
     ]
    },
    {
     "name": "stderr",
     "output_type": "stream",
     "text": [
      "WARNING:absl:Found untraced functions such as gru_cell_2_layer_call_fn, gru_cell_2_layer_call_and_return_conditional_losses, lstm_cell_3_layer_call_fn, lstm_cell_3_layer_call_and_return_conditional_losses, gru_cell_2_layer_call_fn while saving (showing 5 of 10). These functions will not be directly callable after loading.\n"
     ]
    },
    {
     "name": "stdout",
     "output_type": "stream",
     "text": [
      "INFO:tensorflow:Assets written to: s2s_LSTM_256TimeD_3\\assets\n"
     ]
    },
    {
     "name": "stderr",
     "output_type": "stream",
     "text": [
      "INFO:tensorflow:Assets written to: s2s_LSTM_256TimeD_3\\assets\n"
     ]
    },
    {
     "name": "stdout",
     "output_type": "stream",
     "text": [
      "Epoch 28/500\n",
      "781/781 [==============================] - 18s 23ms/step - loss: 1.1609e-04 - mse: 1.2354e-04 - val_loss: 1.3187e-04 - val_mse: 1.5724e-04\n",
      "Epoch 29/500\n",
      "781/781 [==============================] - 18s 23ms/step - loss: 1.1260e-04 - mse: 1.2200e-04 - val_loss: 2.6253e-04 - val_mse: 4.2338e-04\n",
      "Epoch 30/500\n",
      "781/781 [==============================] - 18s 23ms/step - loss: 1.0667e-04 - mse: 1.1500e-04 - val_loss: 5.2146e-04 - val_mse: 9.4563e-04\n",
      "Epoch 31/500\n",
      "781/781 [==============================] - 18s 23ms/step - loss: 1.1384e-04 - mse: 1.3378e-04 - val_loss: 5.5959e-04 - val_mse: 0.0010\n",
      "Epoch 32/500\n",
      "781/781 [==============================] - 17s 22ms/step - loss: 9.6977e-05 - mse: 1.0370e-04 - val_loss: 5.9698e-04 - val_mse: 0.0011\n",
      "Epoch 33/500\n",
      "781/781 [==============================] - 18s 23ms/step - loss: 9.7155e-05 - mse: 1.0773e-04 - val_loss: 7.2037e-04 - val_mse: 0.0014\n",
      "Epoch 34/500\n",
      "781/781 [==============================] - 17s 22ms/step - loss: 1.0150e-04 - mse: 1.1981e-04 - val_loss: 5.8722e-04 - val_mse: 0.0011\n",
      "Epoch 35/500\n",
      "781/781 [==============================] - 18s 22ms/step - loss: 9.0200e-05 - mse: 9.9947e-05 - val_loss: 3.7538e-04 - val_mse: 6.7060e-04\n",
      "Epoch 36/500\n",
      "781/781 [==============================] - 18s 23ms/step - loss: 8.9806e-05 - mse: 1.0197e-04 - val_loss: 2.9545e-04 - val_mse: 5.1345e-04\n",
      "Epoch 37/500\n",
      "781/781 [==============================] - 18s 23ms/step - loss: 9.4621e-05 - mse: 1.1415e-04 - val_loss: 2.6405e-04 - val_mse: 4.5307e-04\n",
      "Epoch 38/500\n",
      "781/781 [==============================] - 18s 23ms/step - loss: 8.0764e-05 - mse: 8.8487e-05 - val_loss: 1.9866e-04 - val_mse: 3.2457e-04\n",
      "Epoch 39/500\n",
      "781/781 [==============================] - 18s 23ms/step - loss: 8.1077e-05 - mse: 9.1451e-05 - val_loss: 3.6392e-04 - val_mse: 6.5728e-04\n",
      "Epoch 40/500\n",
      "781/781 [==============================] - 18s 24ms/step - loss: 9.3077e-05 - mse: 1.1766e-04 - val_loss: 2.8966e-04 - val_mse: 5.1063e-04\n",
      "Epoch 41/500\n",
      "781/781 [==============================] - 18s 23ms/step - loss: 7.6685e-05 - mse: 8.6352e-05 - val_loss: 3.3895e-04 - val_mse: 6.1072e-04\n",
      "Epoch 42/500\n",
      "781/781 [==============================] - 18s 23ms/step - loss: 7.6660e-05 - mse: 8.8079e-05 - val_loss: 5.9544e-04 - val_mse: 0.0011\n",
      "Epoch 43/500\n",
      "781/781 [==============================] - 18s 23ms/step - loss: 8.2256e-05 - mse: 1.0102e-04 - val_loss: 4.0859e-04 - val_mse: 7.5330e-04\n",
      "Epoch 44/500\n",
      "781/781 [==============================] - 18s 23ms/step - loss: 7.1550e-05 - mse: 8.0954e-05 - val_loss: 3.0018e-04 - val_mse: 5.3797e-04\n",
      "Epoch 45/500\n",
      "781/781 [==============================] - 18s 23ms/step - loss: 7.8756e-05 - mse: 9.7001e-05 - val_loss: 3.1144e-04 - val_mse: 5.6205e-04\n",
      "Epoch 46/500\n",
      "781/781 [==============================] - 18s 22ms/step - loss: 7.2104e-05 - mse: 8.4878e-05 - val_loss: 1.6618e-04 - val_mse: 2.7290e-04\n",
      "Epoch 47/500\n",
      "781/781 [==============================] - 18s 23ms/step - loss: 6.9442e-05 - mse: 8.0817e-05 - val_loss: 9.4816e-05 - val_mse: 1.3167e-04\n",
      "Epoch 48/500\n",
      "781/781 [==============================] - 18s 23ms/step - loss: 7.4955e-05 - mse: 9.3172e-05 - val_loss: 8.1493e-05 - val_mse: 1.0623e-04\n",
      "Epoch 49/500\n",
      "781/781 [==============================] - 17s 22ms/step - loss: 6.6936e-05 - mse: 7.8107e-05 - val_loss: 5.8619e-05 - val_mse: 6.1701e-05\n"
     ]
    },
    {
     "name": "stderr",
     "output_type": "stream",
     "text": [
      "WARNING:absl:Found untraced functions such as gru_cell_2_layer_call_fn, gru_cell_2_layer_call_and_return_conditional_losses, lstm_cell_3_layer_call_fn, lstm_cell_3_layer_call_and_return_conditional_losses, gru_cell_2_layer_call_fn while saving (showing 5 of 10). These functions will not be directly callable after loading.\n"
     ]
    },
    {
     "name": "stdout",
     "output_type": "stream",
     "text": [
      "INFO:tensorflow:Assets written to: s2s_LSTM_256TimeD_3\\assets\n"
     ]
    },
    {
     "name": "stderr",
     "output_type": "stream",
     "text": [
      "INFO:tensorflow:Assets written to: s2s_LSTM_256TimeD_3\\assets\n"
     ]
    },
    {
     "name": "stdout",
     "output_type": "stream",
     "text": [
      "Epoch 50/500\n",
      "781/781 [==============================] - 17s 22ms/step - loss: 6.7842e-05 - mse: 8.1115e-05 - val_loss: 6.3017e-05 - val_mse: 7.1801e-05\n",
      "Epoch 51/500\n",
      "781/781 [==============================] - 17s 22ms/step - loss: 7.3655e-05 - mse: 9.3826e-05 - val_loss: 5.6372e-05 - val_mse: 5.9263e-05\n"
     ]
    },
    {
     "name": "stderr",
     "output_type": "stream",
     "text": [
      "WARNING:absl:Found untraced functions such as gru_cell_2_layer_call_fn, gru_cell_2_layer_call_and_return_conditional_losses, lstm_cell_3_layer_call_fn, lstm_cell_3_layer_call_and_return_conditional_losses, gru_cell_2_layer_call_fn while saving (showing 5 of 10). These functions will not be directly callable after loading.\n"
     ]
    },
    {
     "name": "stdout",
     "output_type": "stream",
     "text": [
      "INFO:tensorflow:Assets written to: s2s_LSTM_256TimeD_3\\assets\n"
     ]
    },
    {
     "name": "stderr",
     "output_type": "stream",
     "text": [
      "INFO:tensorflow:Assets written to: s2s_LSTM_256TimeD_3\\assets\n"
     ]
    },
    {
     "name": "stdout",
     "output_type": "stream",
     "text": [
      "Epoch 52/500\n",
      "781/781 [==============================] - 18s 23ms/step - loss: 6.1300e-05 - mse: 6.9825e-05 - val_loss: 8.4098e-05 - val_mse: 1.1550e-04\n",
      "Epoch 53/500\n",
      "781/781 [==============================] - 17s 22ms/step - loss: 6.5909e-05 - mse: 8.0167e-05 - val_loss: 1.5486e-04 - val_mse: 2.5800e-04\n",
      "Epoch 54/500\n",
      "781/781 [==============================] - 18s 23ms/step - loss: 6.8650e-05 - mse: 8.6577e-05 - val_loss: 1.0510e-04 - val_mse: 1.5927e-04\n",
      "Epoch 55/500\n",
      "781/781 [==============================] - 18s 23ms/step - loss: 5.8176e-05 - mse: 6.6265e-05 - val_loss: 2.0531e-04 - val_mse: 3.6036e-04\n",
      "Epoch 56/500\n",
      "781/781 [==============================] - 17s 22ms/step - loss: 6.6086e-05 - mse: 8.3130e-05 - val_loss: 2.1678e-04 - val_mse: 3.8428e-04\n",
      "Epoch 57/500\n",
      "781/781 [==============================] - 18s 23ms/step - loss: 6.4466e-05 - mse: 8.0591e-05 - val_loss: 1.2961e-04 - val_mse: 2.1056e-04\n",
      "Epoch 58/500\n",
      "781/781 [==============================] - 17s 22ms/step - loss: 5.5185e-05 - mse: 6.2611e-05 - val_loss: 1.0486e-04 - val_mse: 1.6202e-04\n",
      "Epoch 59/500\n",
      "781/781 [==============================] - 18s 23ms/step - loss: 6.3010e-05 - mse: 7.9226e-05 - val_loss: 1.1039e-04 - val_mse: 1.7395e-04\n",
      "Epoch 60/500\n",
      "781/781 [==============================] - 17s 22ms/step - loss: 6.4352e-05 - mse: 8.2570e-05 - val_loss: 5.7364e-05 - val_mse: 6.8424e-05\n",
      "Epoch 61/500\n",
      "781/781 [==============================] - 17s 22ms/step - loss: 5.3437e-05 - mse: 6.1177e-05 - val_loss: 3.5993e-05 - val_mse: 2.6557e-05\n"
     ]
    },
    {
     "name": "stderr",
     "output_type": "stream",
     "text": [
      "WARNING:absl:Found untraced functions such as gru_cell_2_layer_call_fn, gru_cell_2_layer_call_and_return_conditional_losses, lstm_cell_3_layer_call_fn, lstm_cell_3_layer_call_and_return_conditional_losses, gru_cell_2_layer_call_fn while saving (showing 5 of 10). These functions will not be directly callable after loading.\n"
     ]
    },
    {
     "name": "stdout",
     "output_type": "stream",
     "text": [
      "INFO:tensorflow:Assets written to: s2s_LSTM_256TimeD_3\\assets\n"
     ]
    },
    {
     "name": "stderr",
     "output_type": "stream",
     "text": [
      "INFO:tensorflow:Assets written to: s2s_LSTM_256TimeD_3\\assets\n"
     ]
    },
    {
     "name": "stdout",
     "output_type": "stream",
     "text": [
      "Epoch 62/500\n",
      "781/781 [==============================] - 18s 23ms/step - loss: 5.8126e-05 - mse: 7.1393e-05 - val_loss: 4.2813e-05 - val_mse: 4.1117e-05\n",
      "Epoch 63/500\n",
      "781/781 [==============================] - 18s 23ms/step - loss: 6.4136e-05 - mse: 8.4099e-05 - val_loss: 4.2415e-05 - val_mse: 4.0814e-05\n",
      "Epoch 64/500\n",
      "781/781 [==============================] - 17s 22ms/step - loss: 5.4544e-05 - mse: 6.5280e-05 - val_loss: 4.7746e-05 - val_mse: 5.1907e-05\n",
      "Epoch 65/500\n",
      "781/781 [==============================] - 18s 23ms/step - loss: 5.1188e-05 - mse: 5.9162e-05 - val_loss: 9.8325e-05 - val_mse: 1.5412e-04\n",
      "Epoch 66/500\n",
      "781/781 [==============================] - 18s 23ms/step - loss: 6.1355e-05 - mse: 8.0288e-05 - val_loss: 8.7653e-05 - val_mse: 1.3327e-04\n",
      "Epoch 67/500\n",
      "781/781 [==============================] - 17s 22ms/step - loss: 5.5939e-05 - mse: 6.9825e-05 - val_loss: 7.2978e-05 - val_mse: 1.0416e-04\n",
      "Epoch 68/500\n",
      "781/781 [==============================] - 16s 21ms/step - loss: 4.8144e-05 - mse: 5.4652e-05 - val_loss: 8.8423e-05 - val_mse: 1.3587e-04\n",
      "Epoch 69/500\n",
      "781/781 [==============================] - 19s 24ms/step - loss: 5.7435e-05 - mse: 7.3995e-05 - val_loss: 1.3035e-04 - val_mse: 2.2035e-04\n",
      "Epoch 70/500\n",
      "781/781 [==============================] - 16s 21ms/step - loss: 5.7820e-05 - mse: 7.5171e-05 - val_loss: 9.0464e-05 - val_mse: 1.4070e-04\n",
      "Epoch 71/500\n",
      "781/781 [==============================] - 17s 21ms/step - loss: 4.6141e-05 - mse: 5.2072e-05 - val_loss: 7.1552e-05 - val_mse: 1.0338e-04\n",
      "Epoch 72/500\n",
      "781/781 [==============================] - 17s 21ms/step - loss: 5.1148e-05 - mse: 6.2776e-05 - val_loss: 1.2011e-04 - val_mse: 2.0129e-04\n",
      "Epoch 73/500\n",
      "781/781 [==============================] - 18s 23ms/step - loss: 5.8211e-05 - mse: 7.7429e-05 - val_loss: 1.3589e-04 - val_mse: 2.3321e-04\n",
      "Epoch 74/500\n",
      "781/781 [==============================] - 18s 23ms/step - loss: 5.1344e-05 - mse: 6.3913e-05 - val_loss: 7.5803e-05 - val_mse: 1.1308e-04\n",
      "Epoch 75/500\n",
      "781/781 [==============================] - 19s 24ms/step - loss: 4.4853e-05 - mse: 5.1289e-05 - val_loss: 8.2643e-05 - val_mse: 1.2746e-04\n",
      "Epoch 76/500\n",
      "781/781 [==============================] - 18s 23ms/step - loss: 5.3004e-05 - mse: 6.8222e-05 - val_loss: 1.3446e-04 - val_mse: 2.3163e-04\n",
      "Epoch 77/500\n",
      "781/781 [==============================] - 18s 23ms/step - loss: 5.4363e-05 - mse: 7.1274e-05 - val_loss: 9.8172e-05 - val_mse: 1.5918e-04\n",
      "Epoch 78/500\n",
      "781/781 [==============================] - 19s 25ms/step - loss: 4.5028e-05 - mse: 5.2798e-05 - val_loss: 6.5487e-05 - val_mse: 9.4081e-05\n",
      "Epoch 79/500\n",
      "781/781 [==============================] - 16s 21ms/step - loss: 4.7159e-05 - mse: 5.7570e-05 - val_loss: 9.4507e-05 - val_mse: 1.5277e-04\n",
      "Epoch 80/500\n",
      "781/781 [==============================] - 17s 21ms/step - loss: 5.3236e-05 - mse: 7.0162e-05 - val_loss: 8.7164e-05 - val_mse: 1.3835e-04\n",
      "Epoch 81/500\n",
      "781/781 [==============================] - 16s 21ms/step - loss: 4.8202e-05 - mse: 6.0288e-05 - val_loss: 4.3590e-05 - val_mse: 5.1213e-05\n",
      "Epoch 82/500\n",
      "781/781 [==============================] - 17s 22ms/step - loss: 4.2866e-05 - mse: 4.9929e-05 - val_loss: 4.9628e-05 - val_mse: 6.3874e-05\n",
      "Epoch 83/500\n",
      "781/781 [==============================] - 17s 22ms/step - loss: 4.9513e-05 - mse: 6.3735e-05 - val_loss: 4.2050e-05 - val_mse: 4.9010e-05\n",
      "Epoch 84/500\n",
      "781/781 [==============================] - 17s 21ms/step - loss: 4.9229e-05 - mse: 6.3421e-05 - val_loss: 3.5139e-05 - val_mse: 3.5355e-05\n"
     ]
    },
    {
     "name": "stderr",
     "output_type": "stream",
     "text": [
      "WARNING:absl:Found untraced functions such as gru_cell_2_layer_call_fn, gru_cell_2_layer_call_and_return_conditional_losses, lstm_cell_3_layer_call_fn, lstm_cell_3_layer_call_and_return_conditional_losses, gru_cell_2_layer_call_fn while saving (showing 5 of 10). These functions will not be directly callable after loading.\n"
     ]
    },
    {
     "name": "stdout",
     "output_type": "stream",
     "text": [
      "INFO:tensorflow:Assets written to: s2s_LSTM_256TimeD_3\\assets\n"
     ]
    },
    {
     "name": "stderr",
     "output_type": "stream",
     "text": [
      "INFO:tensorflow:Assets written to: s2s_LSTM_256TimeD_3\\assets\n"
     ]
    },
    {
     "name": "stdout",
     "output_type": "stream",
     "text": [
      "Epoch 85/500\n",
      "781/781 [==============================] - 17s 21ms/step - loss: 4.5151e-05 - mse: 5.5506e-05 - val_loss: 3.2123e-05 - val_mse: 2.9618e-05\n"
     ]
    },
    {
     "name": "stderr",
     "output_type": "stream",
     "text": [
      "WARNING:absl:Found untraced functions such as gru_cell_2_layer_call_fn, gru_cell_2_layer_call_and_return_conditional_losses, lstm_cell_3_layer_call_fn, lstm_cell_3_layer_call_and_return_conditional_losses, gru_cell_2_layer_call_fn while saving (showing 5 of 10). These functions will not be directly callable after loading.\n"
     ]
    },
    {
     "name": "stdout",
     "output_type": "stream",
     "text": [
      "INFO:tensorflow:Assets written to: s2s_LSTM_256TimeD_3\\assets\n"
     ]
    },
    {
     "name": "stderr",
     "output_type": "stream",
     "text": [
      "INFO:tensorflow:Assets written to: s2s_LSTM_256TimeD_3\\assets\n"
     ]
    },
    {
     "name": "stdout",
     "output_type": "stream",
     "text": [
      "Epoch 86/500\n",
      "781/781 [==============================] - 17s 21ms/step - loss: 4.6028e-05 - mse: 5.7635e-05 - val_loss: 3.4336e-05 - val_mse: 3.4437e-05\n",
      "Epoch 87/500\n",
      "781/781 [==============================] - 17s 21ms/step - loss: 4.8335e-05 - mse: 6.2561e-05 - val_loss: 3.3695e-05 - val_mse: 3.3353e-05\n",
      "Epoch 88/500\n",
      "781/781 [==============================] - 17s 21ms/step - loss: 4.5457e-05 - mse: 5.7034e-05 - val_loss: 3.0819e-05 - val_mse: 2.7834e-05\n"
     ]
    },
    {
     "name": "stderr",
     "output_type": "stream",
     "text": [
      "WARNING:absl:Found untraced functions such as gru_cell_2_layer_call_fn, gru_cell_2_layer_call_and_return_conditional_losses, lstm_cell_3_layer_call_fn, lstm_cell_3_layer_call_and_return_conditional_losses, gru_cell_2_layer_call_fn while saving (showing 5 of 10). These functions will not be directly callable after loading.\n"
     ]
    },
    {
     "name": "stdout",
     "output_type": "stream",
     "text": [
      "INFO:tensorflow:Assets written to: s2s_LSTM_256TimeD_3\\assets\n"
     ]
    },
    {
     "name": "stderr",
     "output_type": "stream",
     "text": [
      "INFO:tensorflow:Assets written to: s2s_LSTM_256TimeD_3\\assets\n"
     ]
    },
    {
     "name": "stdout",
     "output_type": "stream",
     "text": [
      "Epoch 89/500\n",
      "781/781 [==============================] - 17s 21ms/step - loss: 4.3916e-05 - mse: 5.4257e-05 - val_loss: 3.3582e-05 - val_mse: 3.3703e-05\n",
      "Epoch 90/500\n",
      "781/781 [==============================] - 17s 21ms/step - loss: 4.6212e-05 - mse: 5.9178e-05 - val_loss: 3.6009e-05 - val_mse: 3.8828e-05\n",
      "Epoch 91/500\n",
      "781/781 [==============================] - 16s 21ms/step - loss: 4.5090e-05 - mse: 5.7172e-05 - val_loss: 3.4238e-05 - val_mse: 3.5497e-05\n",
      "Epoch 92/500\n",
      "781/781 [==============================] - 16s 21ms/step - loss: 4.4109e-05 - mse: 5.5486e-05 - val_loss: 3.7181e-05 - val_mse: 4.1676e-05\n",
      "Epoch 93/500\n",
      "781/781 [==============================] - 17s 21ms/step - loss: 4.4806e-05 - mse: 5.7145e-05 - val_loss: 3.8471e-05 - val_mse: 4.4500e-05\n",
      "Epoch 94/500\n",
      "781/781 [==============================] - 17s 22ms/step - loss: 4.3444e-05 - mse: 5.4666e-05 - val_loss: 3.6635e-05 - val_mse: 4.1073e-05\n",
      "Epoch 95/500\n",
      "781/781 [==============================] - 17s 22ms/step - loss: 4.3546e-05 - mse: 5.5150e-05 - val_loss: 3.9054e-05 - val_mse: 4.6202e-05\n",
      "Epoch 96/500\n",
      "781/781 [==============================] - 16s 21ms/step - loss: 4.4542e-05 - mse: 5.7372e-05 - val_loss: 3.6380e-05 - val_mse: 4.1051e-05\n",
      "Epoch 97/500\n",
      "781/781 [==============================] - 17s 22ms/step - loss: 4.1457e-05 - mse: 5.1415e-05 - val_loss: 3.3122e-05 - val_mse: 3.4802e-05\n",
      "Epoch 98/500\n",
      "781/781 [==============================] - 16s 21ms/step - loss: 4.1824e-05 - mse: 5.2435e-05 - val_loss: 3.5048e-05 - val_mse: 3.8953e-05\n",
      "Epoch 99/500\n",
      "781/781 [==============================] - 17s 22ms/step - loss: 4.3379e-05 - mse: 5.5801e-05 - val_loss: 3.3881e-05 - val_mse: 3.6852e-05\n",
      "Epoch 100/500\n",
      "781/781 [==============================] - 17s 22ms/step - loss: 4.3216e-05 - mse: 5.5691e-05 - val_loss: 3.2113e-05 - val_mse: 3.3526e-05\n",
      "Epoch 101/500\n",
      "781/781 [==============================] - 17s 22ms/step - loss: 4.0724e-05 - mse: 5.0894e-05 - val_loss: 3.0186e-05 - val_mse: 2.9910e-05\n"
     ]
    },
    {
     "name": "stderr",
     "output_type": "stream",
     "text": [
      "WARNING:absl:Found untraced functions such as gru_cell_2_layer_call_fn, gru_cell_2_layer_call_and_return_conditional_losses, lstm_cell_3_layer_call_fn, lstm_cell_3_layer_call_and_return_conditional_losses, gru_cell_2_layer_call_fn while saving (showing 5 of 10). These functions will not be directly callable after loading.\n"
     ]
    },
    {
     "name": "stdout",
     "output_type": "stream",
     "text": [
      "INFO:tensorflow:Assets written to: s2s_LSTM_256TimeD_3\\assets\n"
     ]
    },
    {
     "name": "stderr",
     "output_type": "stream",
     "text": [
      "INFO:tensorflow:Assets written to: s2s_LSTM_256TimeD_3\\assets\n"
     ]
    },
    {
     "name": "stdout",
     "output_type": "stream",
     "text": [
      "Epoch 102/500\n",
      "781/781 [==============================] - 18s 22ms/step - loss: 4.1283e-05 - mse: 5.2287e-05 - val_loss: 3.1419e-05 - val_mse: 3.2677e-05\n",
      "Epoch 103/500\n",
      "781/781 [==============================] - 17s 22ms/step - loss: 4.2459e-05 - mse: 5.4862e-05 - val_loss: 3.1394e-05 - val_mse: 3.2821e-05\n",
      "Epoch 104/500\n",
      "781/781 [==============================] - 17s 22ms/step - loss: 4.0340e-05 - mse: 5.0804e-05 - val_loss: 3.1610e-05 - val_mse: 3.3495e-05\n",
      "Epoch 105/500\n",
      "781/781 [==============================] - 17s 22ms/step - loss: 4.0516e-05 - mse: 5.1398e-05 - val_loss: 3.5573e-05 - val_mse: 4.1671e-05\n",
      "Epoch 106/500\n",
      "781/781 [==============================] - 18s 23ms/step - loss: 4.0747e-05 - mse: 5.2067e-05 - val_loss: 4.1038e-05 - val_mse: 5.2857e-05\n",
      "Epoch 107/500\n",
      "781/781 [==============================] - 17s 22ms/step - loss: 4.1081e-05 - mse: 5.2953e-05 - val_loss: 5.1055e-05 - val_mse: 7.3126e-05\n",
      "Epoch 108/500\n",
      "781/781 [==============================] - 17s 22ms/step - loss: 4.0047e-05 - mse: 5.1068e-05 - val_loss: 6.0176e-05 - val_mse: 9.1580e-05\n",
      "Epoch 109/500\n",
      "781/781 [==============================] - 17s 22ms/step - loss: 3.9680e-05 - mse: 5.0547e-05 - val_loss: 8.4084e-05 - val_mse: 1.3969e-04\n",
      "Epoch 110/500\n",
      "781/781 [==============================] - 17s 22ms/step - loss: 4.0333e-05 - mse: 5.2057e-05 - val_loss: 9.8658e-05 - val_mse: 1.6901e-04\n",
      "Epoch 111/500\n",
      "781/781 [==============================] - 17s 22ms/step - loss: 3.9522e-05 - mse: 5.0615e-05 - val_loss: 1.3254e-04 - val_mse: 2.3702e-04\n",
      "Epoch 112/500\n",
      "781/781 [==============================] - 17s 22ms/step - loss: 3.9796e-05 - mse: 5.1343e-05 - val_loss: 1.4255e-04 - val_mse: 2.5722e-04\n",
      "Epoch 113/500\n",
      "781/781 [==============================] - 17s 22ms/step - loss: 3.8708e-05 - mse: 4.9352e-05 - val_loss: 2.0402e-04 - val_mse: 3.8041e-04\n",
      "Epoch 114/500\n",
      "781/781 [==============================] - 17s 22ms/step - loss: 3.9458e-05 - mse: 5.1053e-05 - val_loss: 2.2697e-04 - val_mse: 4.2652e-04\n",
      "Epoch 115/500\n",
      "781/781 [==============================] - 18s 23ms/step - loss: 3.9408e-05 - mse: 5.1117e-05 - val_loss: 2.6447e-04 - val_mse: 5.0171e-04\n",
      "Epoch 116/500\n",
      "781/781 [==============================] - 17s 22ms/step - loss: 3.8227e-05 - mse: 4.8917e-05 - val_loss: 2.6331e-04 - val_mse: 4.9957e-04\n",
      "Epoch 117/500\n",
      "781/781 [==============================] - 18s 23ms/step - loss: 3.8463e-05 - mse: 4.9590e-05 - val_loss: 3.4205e-04 - val_mse: 6.5731e-04\n",
      "Epoch 118/500\n",
      "781/781 [==============================] - 18s 23ms/step - loss: 3.8979e-05 - mse: 5.0776e-05 - val_loss: 3.7212e-04 - val_mse: 7.1759e-04\n",
      "Epoch 119/500\n",
      "781/781 [==============================] - 18s 23ms/step - loss: 3.7979e-05 - mse: 4.8934e-05 - val_loss: 3.8136e-04 - val_mse: 7.3627e-04\n",
      "Epoch 120/500\n",
      "781/781 [==============================] - 18s 23ms/step - loss: 3.8420e-05 - mse: 4.9980e-05 - val_loss: 4.3540e-04 - val_mse: 8.4456e-04\n",
      "Epoch 121/500\n",
      "781/781 [==============================] - 17s 22ms/step - loss: 3.8391e-05 - mse: 5.0079e-05 - val_loss: 4.0425e-04 - val_mse: 7.8239e-04\n",
      "Epoch 122/500\n",
      "781/781 [==============================] - 17s 22ms/step - loss: 3.7510e-05 - mse: 4.8474e-05 - val_loss: 4.0093e-04 - val_mse: 7.7591e-04\n",
      "Epoch 123/500\n",
      "781/781 [==============================] - 18s 23ms/step - loss: 3.7864e-05 - mse: 4.9363e-05 - val_loss: 4.2380e-04 - val_mse: 8.2185e-04\n",
      "Epoch 124/500\n",
      "781/781 [==============================] - 17s 22ms/step - loss: 3.8152e-05 - mse: 5.0088e-05 - val_loss: 4.4537e-04 - val_mse: 8.6516e-04\n",
      "Epoch 125/500\n",
      "781/781 [==============================] - 17s 22ms/step - loss: 3.7320e-05 - mse: 4.8551e-05 - val_loss: 3.5916e-04 - val_mse: 6.9281e-04\n",
      "Epoch 126/500\n",
      "781/781 [==============================] - 17s 22ms/step - loss: 3.7065e-05 - mse: 4.8220e-05 - val_loss: 4.1133e-04 - val_mse: 7.9739e-04\n",
      "Epoch 127/500\n",
      "781/781 [==============================] - 18s 23ms/step - loss: 3.7549e-05 - mse: 4.9320e-05 - val_loss: 3.5585e-04 - val_mse: 6.8649e-04\n",
      "Epoch 128/500\n",
      "781/781 [==============================] - 18s 23ms/step - loss: 3.6777e-05 - mse: 4.7926e-05 - val_loss: 3.9153e-04 - val_mse: 7.5805e-04\n",
      "Epoch 129/500\n",
      "781/781 [==============================] - 18s 23ms/step - loss: 3.7030e-05 - mse: 4.8570e-05 - val_loss: 3.5913e-04 - val_mse: 6.9334e-04\n",
      "Epoch 130/500\n",
      "781/781 [==============================] - 18s 23ms/step - loss: 3.6903e-05 - mse: 4.8454e-05 - val_loss: 3.6430e-04 - val_mse: 7.0382e-04\n",
      "Epoch 131/500\n",
      "781/781 [==============================] - 18s 23ms/step - loss: 3.6316e-05 - mse: 4.7413e-05 - val_loss: 3.7430e-04 - val_mse: 7.2397e-04\n",
      "Epoch 132/500\n",
      "781/781 [==============================] - 19s 24ms/step - loss: 3.6895e-05 - mse: 4.8698e-05 - val_loss: 3.6419e-04 - val_mse: 7.0386e-04\n",
      "Epoch 133/500\n",
      "781/781 [==============================] - 19s 24ms/step - loss: 3.6309e-05 - mse: 4.7653e-05 - val_loss: 3.6190e-04 - val_mse: 6.9944e-04\n",
      "CPU times: total: 47min 47s\n",
      "Wall time: 43min 2s\n"
     ]
    },
    {
     "data": {
      "text/plain": [
       "<keras.callbacks.History at 0x1ed3158a940>"
      ]
     },
     "execution_count": 60,
     "metadata": {},
     "output_type": "execute_result"
    }
   ],
   "source": [
    "%%time\n",
    "\n",
    "\n",
    "#________________________________ LSTM\n",
    "\n",
    "name_model = \"s2s_LSTM_256TimeD_3\"\n",
    "\n",
    "keras.backend.clear_session()\n",
    "\n",
    "# Definir hiperparâmetros\n",
    "learning_rate = 0.0001\n",
    "l2_reg = 0.00001\n",
    "dropout_rate = 0.001\n",
    "func_act='sigmoid'\n",
    "\n",
    "batch_size = 128\n",
    "window_size = 32\n",
    "num_inputs  = train.shape[1]\n",
    "num_targets = 3\n",
    "stride = 3\n",
    "sampling_rate=1\n",
    "\n",
    "\n",
    "\n",
    "# Definir a entrada da rede\n",
    "inputs = keras.layers.Input(shape=[None, num_inputs])\n",
    "\n",
    "# LSTM\n",
    "reshaped_inputs = keras.layers.Reshape((-1, num_inputs))(inputs)\n",
    "lstm = keras.layers.LSTM(256, return_sequences=True, kernel_regularizer=keras.regularizers.L2(l2_reg))(reshaped_inputs)\n",
    "lstm = keras.layers.GRU(256, return_sequences=True, kernel_regularizer=keras.regularizers.L2(l2_reg))(reshaped_inputs)\n",
    "lstm = keras.layers.Dropout(rate=dropout_rate)(lstm)\n",
    "lstm = keras.layers.LSTM(256, return_sequences=True, kernel_regularizer=keras.regularizers.L2(l2_reg))(lstm)\n",
    "lstm = keras.layers.GRU(256, return_sequences=True, kernel_regularizer=keras.regularizers.L2(l2_reg))(reshaped_inputs)\n",
    "lstm = keras.layers.Dropout(rate=dropout_rate)(lstm)\n",
    "lstm = keras.layers.LSTM(256, return_sequences=True, kernel_regularizer=keras.regularizers.L2(l2_reg))(lstm)\n",
    "lstm = keras.layers.GRU(256, return_sequences=True, kernel_regularizer=keras.regularizers.L2(l2_reg))(reshaped_inputs)\n",
    "lstm = keras.layers.Dropout(rate=dropout_rate)(lstm)\n",
    "\n",
    "# TimeDistributed Dense\n",
    "timed = keras.layers.TimeDistributed(keras.layers.Dense(256))(lstm)\n",
    "timed = keras.layers.TimeDistributed(keras.layers.Dropout(rate=dropout_rate))(timed)\n",
    "timed = keras.layers.TimeDistributed(keras.layers.Dense(256))(lstm)\n",
    "timed = keras.layers.TimeDistributed(keras.layers.Dropout(rate=dropout_rate))(timed)\n",
    "\n",
    "# LSTM\n",
    "lstm = keras.layers.LSTM(256, return_sequences=False, kernel_regularizer=keras.regularizers.L2(l2_reg))(timed)\n",
    "output_lstm = keras.layers.Dense(num_targets)(lstm)\n",
    "\n",
    "\n",
    "# Definir o modelo com a entrada e saída\n",
    "model = keras.models.Model(inputs=inputs, outputs=output_lstm)\n",
    "\n",
    "# Definir o otimizador com taxa de aprendizado definida\n",
    "optimizer = keras.optimizers.Adam(learning_rate=learning_rate)\n",
    "\n",
    "\n",
    "# Compilar o modelo com a função de perda, otimizador e métrica desejados\n",
    "model.compile(loss=keras.losses.logcosh, optimizer=optimizer, metrics=[\"mse\"])\n",
    "\n",
    "# Adicionar callbacks para o modelo\n",
    "model_checkpoint = keras.callbacks.ModelCheckpoint(name_model, save_best_only=True)\n",
    "early_stopping = keras.callbacks.EarlyStopping(patience=32)\n",
    "\n",
    "# Treinar o modelo\n",
    "model.fit(train_set,\n",
    "          steps_per_epoch= len(train)//batch_size,\n",
    "          epochs=500,\n",
    "          validation_data=valid_set,\n",
    "          validation_steps=len(valid)//batch_size,\n",
    "          callbacks=[early_stopping,\n",
    "                     model_checkpoint])"
   ]
  },
  {
   "cell_type": "code",
   "execution_count": 61,
   "id": "5dc5dbd2",
   "metadata": {},
   "outputs": [
    {
     "data": {
      "text/plain": [
       "'s2s_LSTM_256TimeD_3'"
      ]
     },
     "execution_count": 61,
     "metadata": {},
     "output_type": "execute_result"
    }
   ],
   "source": [
    "name_model"
   ]
  },
  {
   "cell_type": "code",
   "execution_count": 62,
   "id": "0c230104",
   "metadata": {},
   "outputs": [],
   "source": [
    "model = keras.models.load_model(name_model)"
   ]
  },
  {
   "cell_type": "code",
   "execution_count": 63,
   "id": "cfe9915c",
   "metadata": {},
   "outputs": [
    {
     "name": "stdout",
     "output_type": "stream",
     "text": [
      "160/160 [==============================] - 2s 11ms/step - loss: 6.0660e-05 - mse: 9.0866e-05\n"
     ]
    }
   ],
   "source": [
    "loss, metric = model.evaluate(test_set, steps=len(test)//batch_size)"
   ]
  },
  {
   "cell_type": "code",
   "execution_count": null,
   "id": "bdfe816f",
   "metadata": {},
   "outputs": [],
   "source": []
  },
  {
   "cell_type": "code",
   "execution_count": 65,
   "id": "d2e3407c",
   "metadata": {},
   "outputs": [
    {
     "name": "stdout",
     "output_type": "stream",
     "text": [
      "Epoch 1/500\n",
      "781/781 [==============================] - 21s 23ms/step - loss: 0.0031 - mse: 8.8094e-04 - val_loss: 0.0095 - val_mse: 0.0155\n"
     ]
    },
    {
     "name": "stderr",
     "output_type": "stream",
     "text": [
      "WARNING:absl:Found untraced functions such as lstm_cell_5_layer_call_fn, lstm_cell_5_layer_call_and_return_conditional_losses, lstm_cell_6_layer_call_fn, lstm_cell_6_layer_call_and_return_conditional_losses, lstm_cell_5_layer_call_fn while saving (showing 5 of 10). These functions will not be directly callable after loading.\n"
     ]
    },
    {
     "name": "stdout",
     "output_type": "stream",
     "text": [
      "INFO:tensorflow:Assets written to: s2s_LSTM_256TimeD_4\\assets\n"
     ]
    },
    {
     "name": "stderr",
     "output_type": "stream",
     "text": [
      "INFO:tensorflow:Assets written to: s2s_LSTM_256TimeD_4\\assets\n"
     ]
    },
    {
     "name": "stdout",
     "output_type": "stream",
     "text": [
      "Epoch 2/500\n",
      "781/781 [==============================] - 19s 24ms/step - loss: 0.0020 - mse: 0.0011 - val_loss: 0.0085 - val_mse: 0.0145\n"
     ]
    },
    {
     "name": "stderr",
     "output_type": "stream",
     "text": [
      "WARNING:absl:Found untraced functions such as lstm_cell_5_layer_call_fn, lstm_cell_5_layer_call_and_return_conditional_losses, lstm_cell_6_layer_call_fn, lstm_cell_6_layer_call_and_return_conditional_losses, lstm_cell_5_layer_call_fn while saving (showing 5 of 10). These functions will not be directly callable after loading.\n"
     ]
    },
    {
     "name": "stdout",
     "output_type": "stream",
     "text": [
      "INFO:tensorflow:Assets written to: s2s_LSTM_256TimeD_4\\assets\n"
     ]
    },
    {
     "name": "stderr",
     "output_type": "stream",
     "text": [
      "INFO:tensorflow:Assets written to: s2s_LSTM_256TimeD_4\\assets\n"
     ]
    },
    {
     "name": "stdout",
     "output_type": "stream",
     "text": [
      "Epoch 3/500\n",
      "781/781 [==============================] - 17s 22ms/step - loss: 0.0015 - mse: 9.5545e-04 - val_loss: 0.0063 - val_mse: 0.0108\n"
     ]
    },
    {
     "name": "stderr",
     "output_type": "stream",
     "text": [
      "WARNING:absl:Found untraced functions such as lstm_cell_5_layer_call_fn, lstm_cell_5_layer_call_and_return_conditional_losses, lstm_cell_6_layer_call_fn, lstm_cell_6_layer_call_and_return_conditional_losses, lstm_cell_5_layer_call_fn while saving (showing 5 of 10). These functions will not be directly callable after loading.\n"
     ]
    },
    {
     "name": "stdout",
     "output_type": "stream",
     "text": [
      "INFO:tensorflow:Assets written to: s2s_LSTM_256TimeD_4\\assets\n"
     ]
    },
    {
     "name": "stderr",
     "output_type": "stream",
     "text": [
      "INFO:tensorflow:Assets written to: s2s_LSTM_256TimeD_4\\assets\n"
     ]
    },
    {
     "name": "stdout",
     "output_type": "stream",
     "text": [
      "Epoch 4/500\n",
      "781/781 [==============================] - 17s 22ms/step - loss: 0.0012 - mse: 7.5500e-04 - val_loss: 0.0041 - val_mse: 0.0067\n"
     ]
    },
    {
     "name": "stderr",
     "output_type": "stream",
     "text": [
      "WARNING:absl:Found untraced functions such as lstm_cell_5_layer_call_fn, lstm_cell_5_layer_call_and_return_conditional_losses, lstm_cell_6_layer_call_fn, lstm_cell_6_layer_call_and_return_conditional_losses, lstm_cell_5_layer_call_fn while saving (showing 5 of 10). These functions will not be directly callable after loading.\n"
     ]
    },
    {
     "name": "stdout",
     "output_type": "stream",
     "text": [
      "INFO:tensorflow:Assets written to: s2s_LSTM_256TimeD_4\\assets\n"
     ]
    },
    {
     "name": "stderr",
     "output_type": "stream",
     "text": [
      "INFO:tensorflow:Assets written to: s2s_LSTM_256TimeD_4\\assets\n"
     ]
    },
    {
     "name": "stdout",
     "output_type": "stream",
     "text": [
      "Epoch 5/500\n",
      "781/781 [==============================] - 17s 21ms/step - loss: 9.4493e-04 - mse: 5.4208e-04 - val_loss: 0.0024 - val_mse: 0.0036\n"
     ]
    },
    {
     "name": "stderr",
     "output_type": "stream",
     "text": [
      "WARNING:absl:Found untraced functions such as lstm_cell_5_layer_call_fn, lstm_cell_5_layer_call_and_return_conditional_losses, lstm_cell_6_layer_call_fn, lstm_cell_6_layer_call_and_return_conditional_losses, lstm_cell_5_layer_call_fn while saving (showing 5 of 10). These functions will not be directly callable after loading.\n"
     ]
    },
    {
     "name": "stdout",
     "output_type": "stream",
     "text": [
      "INFO:tensorflow:Assets written to: s2s_LSTM_256TimeD_4\\assets\n"
     ]
    },
    {
     "name": "stderr",
     "output_type": "stream",
     "text": [
      "INFO:tensorflow:Assets written to: s2s_LSTM_256TimeD_4\\assets\n"
     ]
    },
    {
     "name": "stdout",
     "output_type": "stream",
     "text": [
      "Epoch 6/500\n",
      "781/781 [==============================] - 19s 24ms/step - loss: 7.3455e-04 - mse: 3.7824e-04 - val_loss: 0.0013 - val_mse: 0.0017\n"
     ]
    },
    {
     "name": "stderr",
     "output_type": "stream",
     "text": [
      "WARNING:absl:Found untraced functions such as lstm_cell_5_layer_call_fn, lstm_cell_5_layer_call_and_return_conditional_losses, lstm_cell_6_layer_call_fn, lstm_cell_6_layer_call_and_return_conditional_losses, lstm_cell_5_layer_call_fn while saving (showing 5 of 10). These functions will not be directly callable after loading.\n"
     ]
    },
    {
     "name": "stdout",
     "output_type": "stream",
     "text": [
      "INFO:tensorflow:Assets written to: s2s_LSTM_256TimeD_4\\assets\n"
     ]
    },
    {
     "name": "stderr",
     "output_type": "stream",
     "text": [
      "INFO:tensorflow:Assets written to: s2s_LSTM_256TimeD_4\\assets\n"
     ]
    },
    {
     "name": "stdout",
     "output_type": "stream",
     "text": [
      "Epoch 7/500\n",
      "781/781 [==============================] - 19s 24ms/step - loss: 5.7900e-04 - mse: 2.7494e-04 - val_loss: 8.8008e-04 - val_mse: 9.6792e-04\n"
     ]
    },
    {
     "name": "stderr",
     "output_type": "stream",
     "text": [
      "WARNING:absl:Found untraced functions such as lstm_cell_5_layer_call_fn, lstm_cell_5_layer_call_and_return_conditional_losses, lstm_cell_6_layer_call_fn, lstm_cell_6_layer_call_and_return_conditional_losses, lstm_cell_5_layer_call_fn while saving (showing 5 of 10). These functions will not be directly callable after loading.\n"
     ]
    },
    {
     "name": "stdout",
     "output_type": "stream",
     "text": [
      "INFO:tensorflow:Assets written to: s2s_LSTM_256TimeD_4\\assets\n"
     ]
    },
    {
     "name": "stderr",
     "output_type": "stream",
     "text": [
      "INFO:tensorflow:Assets written to: s2s_LSTM_256TimeD_4\\assets\n"
     ]
    },
    {
     "name": "stdout",
     "output_type": "stream",
     "text": [
      "Epoch 8/500\n",
      "781/781 [==============================] - 19s 24ms/step - loss: 4.8700e-04 - mse: 2.5625e-04 - val_loss: 0.0011 - val_mse: 0.0015\n",
      "Epoch 9/500\n",
      "781/781 [==============================] - 19s 24ms/step - loss: 4.3492e-04 - mse: 2.7873e-04 - val_loss: 0.0010 - val_mse: 0.0015\n",
      "Epoch 10/500\n",
      "781/781 [==============================] - 19s 25ms/step - loss: 3.7528e-04 - mse: 2.5647e-04 - val_loss: 8.3948e-04 - val_mse: 0.0012\n"
     ]
    },
    {
     "name": "stderr",
     "output_type": "stream",
     "text": [
      "WARNING:absl:Found untraced functions such as lstm_cell_5_layer_call_fn, lstm_cell_5_layer_call_and_return_conditional_losses, lstm_cell_6_layer_call_fn, lstm_cell_6_layer_call_and_return_conditional_losses, lstm_cell_5_layer_call_fn while saving (showing 5 of 10). These functions will not be directly callable after loading.\n"
     ]
    },
    {
     "name": "stdout",
     "output_type": "stream",
     "text": [
      "INFO:tensorflow:Assets written to: s2s_LSTM_256TimeD_4\\assets\n"
     ]
    },
    {
     "name": "stderr",
     "output_type": "stream",
     "text": [
      "INFO:tensorflow:Assets written to: s2s_LSTM_256TimeD_4\\assets\n"
     ]
    },
    {
     "name": "stdout",
     "output_type": "stream",
     "text": [
      "Epoch 11/500\n",
      "781/781 [==============================] - 20s 25ms/step - loss: 3.3142e-04 - mse: 2.4350e-04 - val_loss: 8.7114e-04 - val_mse: 0.0014\n",
      "Epoch 12/500\n",
      "781/781 [==============================] - 19s 24ms/step - loss: 2.9558e-04 - mse: 2.2989e-04 - val_loss: 7.1261e-04 - val_mse: 0.0011\n"
     ]
    },
    {
     "name": "stderr",
     "output_type": "stream",
     "text": [
      "WARNING:absl:Found untraced functions such as lstm_cell_5_layer_call_fn, lstm_cell_5_layer_call_and_return_conditional_losses, lstm_cell_6_layer_call_fn, lstm_cell_6_layer_call_and_return_conditional_losses, lstm_cell_5_layer_call_fn while saving (showing 5 of 10). These functions will not be directly callable after loading.\n"
     ]
    },
    {
     "name": "stdout",
     "output_type": "stream",
     "text": [
      "INFO:tensorflow:Assets written to: s2s_LSTM_256TimeD_4\\assets\n"
     ]
    },
    {
     "name": "stderr",
     "output_type": "stream",
     "text": [
      "INFO:tensorflow:Assets written to: s2s_LSTM_256TimeD_4\\assets\n"
     ]
    },
    {
     "name": "stdout",
     "output_type": "stream",
     "text": [
      "Epoch 13/500\n",
      "781/781 [==============================] - 18s 23ms/step - loss: 2.5857e-04 - mse: 2.0251e-04 - val_loss: 6.4623e-04 - val_mse: 9.9954e-04\n"
     ]
    },
    {
     "name": "stderr",
     "output_type": "stream",
     "text": [
      "WARNING:absl:Found untraced functions such as lstm_cell_5_layer_call_fn, lstm_cell_5_layer_call_and_return_conditional_losses, lstm_cell_6_layer_call_fn, lstm_cell_6_layer_call_and_return_conditional_losses, lstm_cell_5_layer_call_fn while saving (showing 5 of 10). These functions will not be directly callable after loading.\n"
     ]
    },
    {
     "name": "stdout",
     "output_type": "stream",
     "text": [
      "INFO:tensorflow:Assets written to: s2s_LSTM_256TimeD_4\\assets\n"
     ]
    },
    {
     "name": "stderr",
     "output_type": "stream",
     "text": [
      "INFO:tensorflow:Assets written to: s2s_LSTM_256TimeD_4\\assets\n"
     ]
    },
    {
     "name": "stdout",
     "output_type": "stream",
     "text": [
      "Epoch 14/500\n",
      "781/781 [==============================] - 19s 24ms/step - loss: 2.3721e-04 - mse: 1.9776e-04 - val_loss: 6.2721e-04 - val_mse: 9.9561e-04\n"
     ]
    },
    {
     "name": "stderr",
     "output_type": "stream",
     "text": [
      "WARNING:absl:Found untraced functions such as lstm_cell_5_layer_call_fn, lstm_cell_5_layer_call_and_return_conditional_losses, lstm_cell_6_layer_call_fn, lstm_cell_6_layer_call_and_return_conditional_losses, lstm_cell_5_layer_call_fn while saving (showing 5 of 10). These functions will not be directly callable after loading.\n"
     ]
    },
    {
     "name": "stdout",
     "output_type": "stream",
     "text": [
      "INFO:tensorflow:Assets written to: s2s_LSTM_256TimeD_4\\assets\n"
     ]
    },
    {
     "name": "stderr",
     "output_type": "stream",
     "text": [
      "INFO:tensorflow:Assets written to: s2s_LSTM_256TimeD_4\\assets\n"
     ]
    },
    {
     "name": "stdout",
     "output_type": "stream",
     "text": [
      "Epoch 15/500\n",
      "781/781 [==============================] - 19s 24ms/step - loss: 2.2153e-04 - mse: 1.9708e-04 - val_loss: 7.0197e-04 - val_mse: 0.0012\n",
      "Epoch 16/500\n",
      "781/781 [==============================] - 19s 25ms/step - loss: 2.0120e-04 - mse: 1.8148e-04 - val_loss: 5.0698e-04 - val_mse: 8.0523e-04\n"
     ]
    },
    {
     "name": "stderr",
     "output_type": "stream",
     "text": [
      "WARNING:absl:Found untraced functions such as lstm_cell_5_layer_call_fn, lstm_cell_5_layer_call_and_return_conditional_losses, lstm_cell_6_layer_call_fn, lstm_cell_6_layer_call_and_return_conditional_losses, lstm_cell_5_layer_call_fn while saving (showing 5 of 10). These functions will not be directly callable after loading.\n"
     ]
    },
    {
     "name": "stdout",
     "output_type": "stream",
     "text": [
      "INFO:tensorflow:Assets written to: s2s_LSTM_256TimeD_4\\assets\n"
     ]
    },
    {
     "name": "stderr",
     "output_type": "stream",
     "text": [
      "INFO:tensorflow:Assets written to: s2s_LSTM_256TimeD_4\\assets\n"
     ]
    },
    {
     "name": "stdout",
     "output_type": "stream",
     "text": [
      "Epoch 17/500\n",
      "781/781 [==============================] - 20s 25ms/step - loss: 1.9143e-04 - mse: 1.8253e-04 - val_loss: 5.5005e-04 - val_mse: 9.1027e-04\n",
      "Epoch 18/500\n",
      "781/781 [==============================] - 19s 24ms/step - loss: 1.7492e-04 - mse: 1.6691e-04 - val_loss: 4.1704e-04 - val_mse: 6.6021e-04\n"
     ]
    },
    {
     "name": "stderr",
     "output_type": "stream",
     "text": [
      "WARNING:absl:Found untraced functions such as lstm_cell_5_layer_call_fn, lstm_cell_5_layer_call_and_return_conditional_losses, lstm_cell_6_layer_call_fn, lstm_cell_6_layer_call_and_return_conditional_losses, lstm_cell_5_layer_call_fn while saving (showing 5 of 10). These functions will not be directly callable after loading.\n"
     ]
    },
    {
     "name": "stdout",
     "output_type": "stream",
     "text": [
      "INFO:tensorflow:Assets written to: s2s_LSTM_256TimeD_4\\assets\n"
     ]
    },
    {
     "name": "stderr",
     "output_type": "stream",
     "text": [
      "INFO:tensorflow:Assets written to: s2s_LSTM_256TimeD_4\\assets\n"
     ]
    },
    {
     "name": "stdout",
     "output_type": "stream",
     "text": [
      "Epoch 19/500\n",
      "781/781 [==============================] - 19s 24ms/step - loss: 1.5873e-04 - mse: 1.4980e-04 - val_loss: 3.6235e-04 - val_mse: 5.6495e-04\n"
     ]
    },
    {
     "name": "stderr",
     "output_type": "stream",
     "text": [
      "WARNING:absl:Found untraced functions such as lstm_cell_5_layer_call_fn, lstm_cell_5_layer_call_and_return_conditional_losses, lstm_cell_6_layer_call_fn, lstm_cell_6_layer_call_and_return_conditional_losses, lstm_cell_5_layer_call_fn while saving (showing 5 of 10). These functions will not be directly callable after loading.\n"
     ]
    },
    {
     "name": "stdout",
     "output_type": "stream",
     "text": [
      "INFO:tensorflow:Assets written to: s2s_LSTM_256TimeD_4\\assets\n"
     ]
    },
    {
     "name": "stderr",
     "output_type": "stream",
     "text": [
      "INFO:tensorflow:Assets written to: s2s_LSTM_256TimeD_4\\assets\n"
     ]
    },
    {
     "name": "stdout",
     "output_type": "stream",
     "text": [
      "Epoch 20/500\n",
      "781/781 [==============================] - 19s 24ms/step - loss: 1.5768e-04 - mse: 1.6064e-04 - val_loss: 4.7458e-04 - val_mse: 8.0136e-04\n",
      "Epoch 21/500\n",
      "781/781 [==============================] - 18s 24ms/step - loss: 1.5438e-04 - mse: 1.6459e-04 - val_loss: 3.3082e-04 - val_mse: 5.2317e-04\n"
     ]
    },
    {
     "name": "stderr",
     "output_type": "stream",
     "text": [
      "WARNING:absl:Found untraced functions such as lstm_cell_5_layer_call_fn, lstm_cell_5_layer_call_and_return_conditional_losses, lstm_cell_6_layer_call_fn, lstm_cell_6_layer_call_and_return_conditional_losses, lstm_cell_5_layer_call_fn while saving (showing 5 of 10). These functions will not be directly callable after loading.\n"
     ]
    },
    {
     "name": "stdout",
     "output_type": "stream",
     "text": [
      "INFO:tensorflow:Assets written to: s2s_LSTM_256TimeD_4\\assets\n"
     ]
    },
    {
     "name": "stderr",
     "output_type": "stream",
     "text": [
      "INFO:tensorflow:Assets written to: s2s_LSTM_256TimeD_4\\assets\n"
     ]
    },
    {
     "name": "stdout",
     "output_type": "stream",
     "text": [
      "Epoch 22/500\n",
      "781/781 [==============================] - 18s 23ms/step - loss: 1.3740e-04 - mse: 1.3983e-04 - val_loss: 2.7404e-04 - val_mse: 4.1835e-04\n"
     ]
    },
    {
     "name": "stderr",
     "output_type": "stream",
     "text": [
      "WARNING:absl:Found untraced functions such as lstm_cell_5_layer_call_fn, lstm_cell_5_layer_call_and_return_conditional_losses, lstm_cell_6_layer_call_fn, lstm_cell_6_layer_call_and_return_conditional_losses, lstm_cell_5_layer_call_fn while saving (showing 5 of 10). These functions will not be directly callable after loading.\n"
     ]
    },
    {
     "name": "stdout",
     "output_type": "stream",
     "text": [
      "INFO:tensorflow:Assets written to: s2s_LSTM_256TimeD_4\\assets\n"
     ]
    },
    {
     "name": "stderr",
     "output_type": "stream",
     "text": [
      "INFO:tensorflow:Assets written to: s2s_LSTM_256TimeD_4\\assets\n"
     ]
    },
    {
     "name": "stdout",
     "output_type": "stream",
     "text": [
      "Epoch 23/500\n",
      "781/781 [==============================] - 18s 23ms/step - loss: 1.3318e-04 - mse: 1.3989e-04 - val_loss: 2.4769e-04 - val_mse: 3.7366e-04\n"
     ]
    },
    {
     "name": "stderr",
     "output_type": "stream",
     "text": [
      "WARNING:absl:Found untraced functions such as lstm_cell_5_layer_call_fn, lstm_cell_5_layer_call_and_return_conditional_losses, lstm_cell_6_layer_call_fn, lstm_cell_6_layer_call_and_return_conditional_losses, lstm_cell_5_layer_call_fn while saving (showing 5 of 10). These functions will not be directly callable after loading.\n"
     ]
    },
    {
     "name": "stdout",
     "output_type": "stream",
     "text": [
      "INFO:tensorflow:Assets written to: s2s_LSTM_256TimeD_4\\assets\n"
     ]
    },
    {
     "name": "stderr",
     "output_type": "stream",
     "text": [
      "INFO:tensorflow:Assets written to: s2s_LSTM_256TimeD_4\\assets\n"
     ]
    },
    {
     "name": "stdout",
     "output_type": "stream",
     "text": [
      "Epoch 24/500\n",
      "781/781 [==============================] - 18s 23ms/step - loss: 1.3075e-04 - mse: 1.4251e-04 - val_loss: 2.1054e-04 - val_mse: 3.0624e-04\n"
     ]
    },
    {
     "name": "stderr",
     "output_type": "stream",
     "text": [
      "WARNING:absl:Found untraced functions such as lstm_cell_5_layer_call_fn, lstm_cell_5_layer_call_and_return_conditional_losses, lstm_cell_6_layer_call_fn, lstm_cell_6_layer_call_and_return_conditional_losses, lstm_cell_5_layer_call_fn while saving (showing 5 of 10). These functions will not be directly callable after loading.\n"
     ]
    },
    {
     "name": "stdout",
     "output_type": "stream",
     "text": [
      "INFO:tensorflow:Assets written to: s2s_LSTM_256TimeD_4\\assets\n"
     ]
    },
    {
     "name": "stderr",
     "output_type": "stream",
     "text": [
      "INFO:tensorflow:Assets written to: s2s_LSTM_256TimeD_4\\assets\n"
     ]
    },
    {
     "name": "stdout",
     "output_type": "stream",
     "text": [
      "Epoch 25/500\n",
      "781/781 [==============================] - 19s 23ms/step - loss: 1.2195e-04 - mse: 1.3148e-04 - val_loss: 1.6868e-04 - val_mse: 2.2862e-04\n"
     ]
    },
    {
     "name": "stderr",
     "output_type": "stream",
     "text": [
      "WARNING:absl:Found untraced functions such as lstm_cell_5_layer_call_fn, lstm_cell_5_layer_call_and_return_conditional_losses, lstm_cell_6_layer_call_fn, lstm_cell_6_layer_call_and_return_conditional_losses, lstm_cell_5_layer_call_fn while saving (showing 5 of 10). These functions will not be directly callable after loading.\n"
     ]
    },
    {
     "name": "stdout",
     "output_type": "stream",
     "text": [
      "INFO:tensorflow:Assets written to: s2s_LSTM_256TimeD_4\\assets\n"
     ]
    },
    {
     "name": "stderr",
     "output_type": "stream",
     "text": [
      "INFO:tensorflow:Assets written to: s2s_LSTM_256TimeD_4\\assets\n"
     ]
    },
    {
     "name": "stdout",
     "output_type": "stream",
     "text": [
      "Epoch 26/500\n",
      "781/781 [==============================] - 19s 24ms/step - loss: 1.1674e-04 - mse: 1.2697e-04 - val_loss: 1.3469e-04 - val_mse: 1.6614e-04\n"
     ]
    },
    {
     "name": "stderr",
     "output_type": "stream",
     "text": [
      "WARNING:absl:Found untraced functions such as lstm_cell_5_layer_call_fn, lstm_cell_5_layer_call_and_return_conditional_losses, lstm_cell_6_layer_call_fn, lstm_cell_6_layer_call_and_return_conditional_losses, lstm_cell_5_layer_call_fn while saving (showing 5 of 10). These functions will not be directly callable after loading.\n"
     ]
    },
    {
     "name": "stdout",
     "output_type": "stream",
     "text": [
      "INFO:tensorflow:Assets written to: s2s_LSTM_256TimeD_4\\assets\n"
     ]
    },
    {
     "name": "stderr",
     "output_type": "stream",
     "text": [
      "INFO:tensorflow:Assets written to: s2s_LSTM_256TimeD_4\\assets\n"
     ]
    },
    {
     "name": "stdout",
     "output_type": "stream",
     "text": [
      "Epoch 27/500\n",
      "781/781 [==============================] - 18s 23ms/step - loss: 1.2063e-04 - mse: 1.4000e-04 - val_loss: 1.1556e-04 - val_mse: 1.3262e-04\n"
     ]
    },
    {
     "name": "stderr",
     "output_type": "stream",
     "text": [
      "WARNING:absl:Found untraced functions such as lstm_cell_5_layer_call_fn, lstm_cell_5_layer_call_and_return_conditional_losses, lstm_cell_6_layer_call_fn, lstm_cell_6_layer_call_and_return_conditional_losses, lstm_cell_5_layer_call_fn while saving (showing 5 of 10). These functions will not be directly callable after loading.\n"
     ]
    },
    {
     "name": "stdout",
     "output_type": "stream",
     "text": [
      "INFO:tensorflow:Assets written to: s2s_LSTM_256TimeD_4\\assets\n"
     ]
    },
    {
     "name": "stderr",
     "output_type": "stream",
     "text": [
      "INFO:tensorflow:Assets written to: s2s_LSTM_256TimeD_4\\assets\n"
     ]
    },
    {
     "name": "stdout",
     "output_type": "stream",
     "text": [
      "Epoch 28/500\n",
      "781/781 [==============================] - 19s 23ms/step - loss: 1.0929e-04 - mse: 1.2183e-04 - val_loss: 8.5010e-05 - val_mse: 7.5745e-05\n"
     ]
    },
    {
     "name": "stderr",
     "output_type": "stream",
     "text": [
      "WARNING:absl:Found untraced functions such as lstm_cell_5_layer_call_fn, lstm_cell_5_layer_call_and_return_conditional_losses, lstm_cell_6_layer_call_fn, lstm_cell_6_layer_call_and_return_conditional_losses, lstm_cell_5_layer_call_fn while saving (showing 5 of 10). These functions will not be directly callable after loading.\n"
     ]
    },
    {
     "name": "stdout",
     "output_type": "stream",
     "text": [
      "INFO:tensorflow:Assets written to: s2s_LSTM_256TimeD_4\\assets\n"
     ]
    },
    {
     "name": "stderr",
     "output_type": "stream",
     "text": [
      "INFO:tensorflow:Assets written to: s2s_LSTM_256TimeD_4\\assets\n"
     ]
    },
    {
     "name": "stdout",
     "output_type": "stream",
     "text": [
      "Epoch 29/500\n",
      "781/781 [==============================] - 18s 23ms/step - loss: 1.0514e-04 - mse: 1.1786e-04 - val_loss: 7.4186e-05 - val_mse: 5.8182e-05\n"
     ]
    },
    {
     "name": "stderr",
     "output_type": "stream",
     "text": [
      "WARNING:absl:Found untraced functions such as lstm_cell_5_layer_call_fn, lstm_cell_5_layer_call_and_return_conditional_losses, lstm_cell_6_layer_call_fn, lstm_cell_6_layer_call_and_return_conditional_losses, lstm_cell_5_layer_call_fn while saving (showing 5 of 10). These functions will not be directly callable after loading.\n"
     ]
    },
    {
     "name": "stdout",
     "output_type": "stream",
     "text": [
      "INFO:tensorflow:Assets written to: s2s_LSTM_256TimeD_4\\assets\n"
     ]
    },
    {
     "name": "stderr",
     "output_type": "stream",
     "text": [
      "INFO:tensorflow:Assets written to: s2s_LSTM_256TimeD_4\\assets\n"
     ]
    },
    {
     "name": "stdout",
     "output_type": "stream",
     "text": [
      "Epoch 30/500\n",
      "781/781 [==============================] - 19s 23ms/step - loss: 1.0560e-04 - mse: 1.2278e-04 - val_loss: 7.3257e-05 - val_mse: 6.0028e-05\n"
     ]
    },
    {
     "name": "stderr",
     "output_type": "stream",
     "text": [
      "WARNING:absl:Found untraced functions such as lstm_cell_5_layer_call_fn, lstm_cell_5_layer_call_and_return_conditional_losses, lstm_cell_6_layer_call_fn, lstm_cell_6_layer_call_and_return_conditional_losses, lstm_cell_5_layer_call_fn while saving (showing 5 of 10). These functions will not be directly callable after loading.\n"
     ]
    },
    {
     "name": "stdout",
     "output_type": "stream",
     "text": [
      "INFO:tensorflow:Assets written to: s2s_LSTM_256TimeD_4\\assets\n"
     ]
    },
    {
     "name": "stderr",
     "output_type": "stream",
     "text": [
      "INFO:tensorflow:Assets written to: s2s_LSTM_256TimeD_4\\assets\n"
     ]
    },
    {
     "name": "stdout",
     "output_type": "stream",
     "text": [
      "Epoch 31/500\n",
      "781/781 [==============================] - 19s 24ms/step - loss: 1.0155e-04 - mse: 1.1821e-04 - val_loss: 7.1952e-05 - val_mse: 6.0654e-05\n"
     ]
    },
    {
     "name": "stderr",
     "output_type": "stream",
     "text": [
      "WARNING:absl:Found untraced functions such as lstm_cell_5_layer_call_fn, lstm_cell_5_layer_call_and_return_conditional_losses, lstm_cell_6_layer_call_fn, lstm_cell_6_layer_call_and_return_conditional_losses, lstm_cell_5_layer_call_fn while saving (showing 5 of 10). These functions will not be directly callable after loading.\n"
     ]
    },
    {
     "name": "stdout",
     "output_type": "stream",
     "text": [
      "INFO:tensorflow:Assets written to: s2s_LSTM_256TimeD_4\\assets\n"
     ]
    },
    {
     "name": "stderr",
     "output_type": "stream",
     "text": [
      "INFO:tensorflow:Assets written to: s2s_LSTM_256TimeD_4\\assets\n"
     ]
    },
    {
     "name": "stdout",
     "output_type": "stream",
     "text": [
      "Epoch 32/500\n",
      "781/781 [==============================] - 19s 24ms/step - loss: 9.5709e-05 - mse: 1.0979e-04 - val_loss: 8.8021e-05 - val_mse: 9.5966e-05\n",
      "Epoch 33/500\n",
      "781/781 [==============================] - 19s 25ms/step - loss: 1.0045e-04 - mse: 1.2235e-04 - val_loss: 9.4463e-05 - val_mse: 1.1155e-04\n",
      "Epoch 34/500\n",
      "781/781 [==============================] - 19s 25ms/step - loss: 9.2108e-05 - mse: 1.0827e-04 - val_loss: 9.5150e-05 - val_mse: 1.1546e-04\n",
      "Epoch 35/500\n",
      "781/781 [==============================] - 19s 24ms/step - loss: 8.6684e-05 - mse: 1.0006e-04 - val_loss: 1.2475e-04 - val_mse: 1.7727e-04\n",
      "Epoch 36/500\n",
      "781/781 [==============================] - 19s 25ms/step - loss: 9.5278e-05 - mse: 1.1977e-04 - val_loss: 1.5920e-04 - val_mse: 2.4831e-04\n",
      "Epoch 37/500\n",
      "781/781 [==============================] - 18s 23ms/step - loss: 8.7248e-05 - mse: 1.0573e-04 - val_loss: 1.4946e-04 - val_mse: 2.3077e-04\n",
      "Epoch 38/500\n",
      "781/781 [==============================] - 18s 23ms/step - loss: 8.3000e-05 - mse: 9.9320e-05 - val_loss: 1.7974e-04 - val_mse: 2.9344e-04\n",
      "Epoch 39/500\n",
      "781/781 [==============================] - 19s 24ms/step - loss: 8.8021e-05 - mse: 1.1136e-04 - val_loss: 1.6247e-04 - val_mse: 2.6074e-04\n",
      "Epoch 40/500\n",
      "781/781 [==============================] - 19s 24ms/step - loss: 8.1529e-05 - mse: 1.0006e-04 - val_loss: 1.1634e-04 - val_mse: 1.7022e-04\n",
      "Epoch 41/500\n",
      "781/781 [==============================] - 18s 24ms/step - loss: 7.6573e-05 - mse: 9.1868e-05 - val_loss: 9.3695e-05 - val_mse: 1.2687e-04\n",
      "Epoch 42/500\n",
      "781/781 [==============================] - 18s 23ms/step - loss: 8.3368e-05 - mse: 1.0719e-04 - val_loss: 9.9214e-05 - val_mse: 1.3942e-04\n",
      "Epoch 43/500\n",
      "781/781 [==============================] - 18s 23ms/step - loss: 8.2386e-05 - mse: 1.0655e-04 - val_loss: 7.9260e-05 - val_mse: 1.0078e-04\n",
      "Epoch 44/500\n",
      "781/781 [==============================] - 19s 24ms/step - loss: 7.2752e-05 - mse: 8.8564e-05 - val_loss: 7.0102e-05 - val_mse: 8.3879e-05\n"
     ]
    },
    {
     "name": "stderr",
     "output_type": "stream",
     "text": [
      "WARNING:absl:Found untraced functions such as lstm_cell_5_layer_call_fn, lstm_cell_5_layer_call_and_return_conditional_losses, lstm_cell_6_layer_call_fn, lstm_cell_6_layer_call_and_return_conditional_losses, lstm_cell_5_layer_call_fn while saving (showing 5 of 10). These functions will not be directly callable after loading.\n"
     ]
    },
    {
     "name": "stdout",
     "output_type": "stream",
     "text": [
      "INFO:tensorflow:Assets written to: s2s_LSTM_256TimeD_4\\assets\n"
     ]
    },
    {
     "name": "stderr",
     "output_type": "stream",
     "text": [
      "INFO:tensorflow:Assets written to: s2s_LSTM_256TimeD_4\\assets\n"
     ]
    },
    {
     "name": "stdout",
     "output_type": "stream",
     "text": [
      "Epoch 45/500\n",
      "781/781 [==============================] - 19s 24ms/step - loss: 7.4331e-05 - mse: 9.3191e-05 - val_loss: 8.2354e-05 - val_mse: 1.0984e-04\n",
      "Epoch 46/500\n",
      "781/781 [==============================] - 18s 23ms/step - loss: 8.0424e-05 - mse: 1.0664e-04 - val_loss: 7.6161e-05 - val_mse: 9.8514e-05\n",
      "Epoch 47/500\n",
      "781/781 [==============================] - 19s 24ms/step - loss: 7.1757e-05 - mse: 9.0325e-05 - val_loss: 6.9304e-05 - val_mse: 8.5867e-05\n"
     ]
    },
    {
     "name": "stderr",
     "output_type": "stream",
     "text": [
      "WARNING:absl:Found untraced functions such as lstm_cell_5_layer_call_fn, lstm_cell_5_layer_call_and_return_conditional_losses, lstm_cell_6_layer_call_fn, lstm_cell_6_layer_call_and_return_conditional_losses, lstm_cell_5_layer_call_fn while saving (showing 5 of 10). These functions will not be directly callable after loading.\n"
     ]
    },
    {
     "name": "stdout",
     "output_type": "stream",
     "text": [
      "INFO:tensorflow:Assets written to: s2s_LSTM_256TimeD_4\\assets\n"
     ]
    },
    {
     "name": "stderr",
     "output_type": "stream",
     "text": [
      "INFO:tensorflow:Assets written to: s2s_LSTM_256TimeD_4\\assets\n"
     ]
    },
    {
     "name": "stdout",
     "output_type": "stream",
     "text": [
      "Epoch 48/500\n",
      "781/781 [==============================] - 19s 24ms/step - loss: 6.8858e-05 - mse: 8.5713e-05 - val_loss: 8.4209e-05 - val_mse: 1.1689e-04\n",
      "Epoch 49/500\n",
      "781/781 [==============================] - 18s 24ms/step - loss: 7.7549e-05 - mse: 1.0428e-04 - val_loss: 7.8277e-05 - val_mse: 1.0608e-04\n",
      "Epoch 50/500\n",
      "781/781 [==============================] - 18s 23ms/step - loss: 7.0995e-05 - mse: 9.2003e-05 - val_loss: 5.8561e-05 - val_mse: 6.7530e-05\n"
     ]
    },
    {
     "name": "stderr",
     "output_type": "stream",
     "text": [
      "WARNING:absl:Found untraced functions such as lstm_cell_5_layer_call_fn, lstm_cell_5_layer_call_and_return_conditional_losses, lstm_cell_6_layer_call_fn, lstm_cell_6_layer_call_and_return_conditional_losses, lstm_cell_5_layer_call_fn while saving (showing 5 of 10). These functions will not be directly callable after loading.\n"
     ]
    },
    {
     "name": "stdout",
     "output_type": "stream",
     "text": [
      "INFO:tensorflow:Assets written to: s2s_LSTM_256TimeD_4\\assets\n"
     ]
    },
    {
     "name": "stderr",
     "output_type": "stream",
     "text": [
      "INFO:tensorflow:Assets written to: s2s_LSTM_256TimeD_4\\assets\n"
     ]
    },
    {
     "name": "stdout",
     "output_type": "stream",
     "text": [
      "Epoch 51/500\n",
      "781/781 [==============================] - 19s 24ms/step - loss: 6.4967e-05 - mse: 8.0890e-05 - val_loss: 5.7511e-05 - val_mse: 6.6483e-05\n"
     ]
    },
    {
     "name": "stderr",
     "output_type": "stream",
     "text": [
      "WARNING:absl:Found untraced functions such as lstm_cell_5_layer_call_fn, lstm_cell_5_layer_call_and_return_conditional_losses, lstm_cell_6_layer_call_fn, lstm_cell_6_layer_call_and_return_conditional_losses, lstm_cell_5_layer_call_fn while saving (showing 5 of 10). These functions will not be directly callable after loading.\n"
     ]
    },
    {
     "name": "stdout",
     "output_type": "stream",
     "text": [
      "INFO:tensorflow:Assets written to: s2s_LSTM_256TimeD_4\\assets\n"
     ]
    },
    {
     "name": "stderr",
     "output_type": "stream",
     "text": [
      "INFO:tensorflow:Assets written to: s2s_LSTM_256TimeD_4\\assets\n"
     ]
    },
    {
     "name": "stdout",
     "output_type": "stream",
     "text": [
      "Epoch 52/500\n",
      "781/781 [==============================] - 19s 24ms/step - loss: 7.2707e-05 - mse: 9.7466e-05 - val_loss: 6.1288e-05 - val_mse: 7.5046e-05\n",
      "Epoch 53/500\n",
      "781/781 [==============================] - 19s 24ms/step - loss: 7.0003e-05 - mse: 9.2798e-05 - val_loss: 5.0160e-05 - val_mse: 5.3503e-05\n"
     ]
    },
    {
     "name": "stderr",
     "output_type": "stream",
     "text": [
      "WARNING:absl:Found untraced functions such as lstm_cell_5_layer_call_fn, lstm_cell_5_layer_call_and_return_conditional_losses, lstm_cell_6_layer_call_fn, lstm_cell_6_layer_call_and_return_conditional_losses, lstm_cell_5_layer_call_fn while saving (showing 5 of 10). These functions will not be directly callable after loading.\n"
     ]
    },
    {
     "name": "stdout",
     "output_type": "stream",
     "text": [
      "INFO:tensorflow:Assets written to: s2s_LSTM_256TimeD_4\\assets\n"
     ]
    },
    {
     "name": "stderr",
     "output_type": "stream",
     "text": [
      "INFO:tensorflow:Assets written to: s2s_LSTM_256TimeD_4\\assets\n"
     ]
    },
    {
     "name": "stdout",
     "output_type": "stream",
     "text": [
      "Epoch 54/500\n",
      "781/781 [==============================] - 19s 24ms/step - loss: 6.2270e-05 - mse: 7.8113e-05 - val_loss: 4.9088e-05 - val_mse: 5.2236e-05\n"
     ]
    },
    {
     "name": "stderr",
     "output_type": "stream",
     "text": [
      "WARNING:absl:Found untraced functions such as lstm_cell_5_layer_call_fn, lstm_cell_5_layer_call_and_return_conditional_losses, lstm_cell_6_layer_call_fn, lstm_cell_6_layer_call_and_return_conditional_losses, lstm_cell_5_layer_call_fn while saving (showing 5 of 10). These functions will not be directly callable after loading.\n"
     ]
    },
    {
     "name": "stdout",
     "output_type": "stream",
     "text": [
      "INFO:tensorflow:Assets written to: s2s_LSTM_256TimeD_4\\assets\n"
     ]
    },
    {
     "name": "stderr",
     "output_type": "stream",
     "text": [
      "INFO:tensorflow:Assets written to: s2s_LSTM_256TimeD_4\\assets\n"
     ]
    },
    {
     "name": "stdout",
     "output_type": "stream",
     "text": [
      "Epoch 55/500\n",
      "781/781 [==============================] - 19s 24ms/step - loss: 6.8785e-05 - mse: 9.2139e-05 - val_loss: 5.6219e-05 - val_mse: 6.7452e-05\n",
      "Epoch 56/500\n",
      "781/781 [==============================] - 18s 24ms/step - loss: 7.0012e-05 - mse: 9.5261e-05 - val_loss: 4.9226e-05 - val_mse: 5.4034e-05\n",
      "Epoch 57/500\n",
      "781/781 [==============================] - 18s 24ms/step - loss: 6.0620e-05 - mse: 7.7088e-05 - val_loss: 4.4724e-05 - val_mse: 4.5741e-05\n"
     ]
    },
    {
     "name": "stderr",
     "output_type": "stream",
     "text": [
      "WARNING:absl:Found untraced functions such as lstm_cell_5_layer_call_fn, lstm_cell_5_layer_call_and_return_conditional_losses, lstm_cell_6_layer_call_fn, lstm_cell_6_layer_call_and_return_conditional_losses, lstm_cell_5_layer_call_fn while saving (showing 5 of 10). These functions will not be directly callable after loading.\n"
     ]
    },
    {
     "name": "stdout",
     "output_type": "stream",
     "text": [
      "INFO:tensorflow:Assets written to: s2s_LSTM_256TimeD_4\\assets\n"
     ]
    },
    {
     "name": "stderr",
     "output_type": "stream",
     "text": [
      "INFO:tensorflow:Assets written to: s2s_LSTM_256TimeD_4\\assets\n"
     ]
    },
    {
     "name": "stdout",
     "output_type": "stream",
     "text": [
      "Epoch 58/500\n",
      "781/781 [==============================] - 19s 24ms/step - loss: 6.2488e-05 - mse: 8.1711e-05 - val_loss: 5.1464e-05 - val_mse: 6.0109e-05\n",
      "Epoch 59/500\n",
      "781/781 [==============================] - 19s 24ms/step - loss: 6.7890e-05 - mse: 9.3213e-05 - val_loss: 5.5175e-05 - val_mse: 6.8031e-05\n",
      "Epoch 60/500\n",
      "781/781 [==============================] - 18s 23ms/step - loss: 6.2335e-05 - mse: 8.2618e-05 - val_loss: 5.3834e-05 - val_mse: 6.5833e-05\n",
      "Epoch 61/500\n",
      "781/781 [==============================] - 19s 24ms/step - loss: 5.7994e-05 - mse: 7.4608e-05 - val_loss: 6.3603e-05 - val_mse: 8.6088e-05\n",
      "Epoch 62/500\n",
      "781/781 [==============================] - 19s 24ms/step - loss: 6.3374e-05 - mse: 8.6102e-05 - val_loss: 7.6259e-05 - val_mse: 1.1199e-04\n",
      "Epoch 63/500\n",
      "781/781 [==============================] - 18s 24ms/step - loss: 6.4589e-05 - mse: 8.9034e-05 - val_loss: 6.5569e-05 - val_mse: 9.1087e-05\n",
      "Epoch 64/500\n",
      "781/781 [==============================] - 19s 24ms/step - loss: 5.5965e-05 - mse: 7.2236e-05 - val_loss: 5.3442e-05 - val_mse: 6.7388e-05\n",
      "Epoch 65/500\n",
      "781/781 [==============================] - 18s 24ms/step - loss: 5.7988e-05 - mse: 7.6989e-05 - val_loss: 6.1581e-05 - val_mse: 8.4364e-05\n",
      "Epoch 66/500\n",
      "781/781 [==============================] - 19s 24ms/step - loss: 6.3929e-05 - mse: 8.9419e-05 - val_loss: 5.2675e-05 - val_mse: 6.7074e-05\n",
      "Epoch 67/500\n",
      "781/781 [==============================] - 19s 24ms/step - loss: 5.7296e-05 - mse: 7.6497e-05 - val_loss: 4.0902e-05 - val_mse: 4.3921e-05\n"
     ]
    },
    {
     "name": "stderr",
     "output_type": "stream",
     "text": [
      "WARNING:absl:Found untraced functions such as lstm_cell_5_layer_call_fn, lstm_cell_5_layer_call_and_return_conditional_losses, lstm_cell_6_layer_call_fn, lstm_cell_6_layer_call_and_return_conditional_losses, lstm_cell_5_layer_call_fn while saving (showing 5 of 10). These functions will not be directly callable after loading.\n"
     ]
    },
    {
     "name": "stdout",
     "output_type": "stream",
     "text": [
      "INFO:tensorflow:Assets written to: s2s_LSTM_256TimeD_4\\assets\n"
     ]
    },
    {
     "name": "stderr",
     "output_type": "stream",
     "text": [
      "INFO:tensorflow:Assets written to: s2s_LSTM_256TimeD_4\\assets\n"
     ]
    },
    {
     "name": "stdout",
     "output_type": "stream",
     "text": [
      "Epoch 68/500\n",
      "781/781 [==============================] - 19s 24ms/step - loss: 5.3095e-05 - mse: 6.8653e-05 - val_loss: 4.3680e-05 - val_mse: 5.0163e-05\n",
      "Epoch 69/500\n",
      "781/781 [==============================] - 18s 23ms/step - loss: 6.1611e-05 - mse: 8.6310e-05 - val_loss: 4.8663e-05 - val_mse: 6.0615e-05\n",
      "Epoch 70/500\n",
      "781/781 [==============================] - 19s 24ms/step - loss: 5.8944e-05 - mse: 8.1266e-05 - val_loss: 4.0655e-05 - val_mse: 4.4846e-05\n"
     ]
    },
    {
     "name": "stderr",
     "output_type": "stream",
     "text": [
      "WARNING:absl:Found untraced functions such as lstm_cell_5_layer_call_fn, lstm_cell_5_layer_call_and_return_conditional_losses, lstm_cell_6_layer_call_fn, lstm_cell_6_layer_call_and_return_conditional_losses, lstm_cell_5_layer_call_fn while saving (showing 5 of 10). These functions will not be directly callable after loading.\n"
     ]
    },
    {
     "name": "stdout",
     "output_type": "stream",
     "text": [
      "INFO:tensorflow:Assets written to: s2s_LSTM_256TimeD_4\\assets\n"
     ]
    },
    {
     "name": "stderr",
     "output_type": "stream",
     "text": [
      "INFO:tensorflow:Assets written to: s2s_LSTM_256TimeD_4\\assets\n"
     ]
    },
    {
     "name": "stdout",
     "output_type": "stream",
     "text": [
      "Epoch 71/500\n",
      "781/781 [==============================] - 19s 24ms/step - loss: 4.9628e-05 - mse: 6.3058e-05 - val_loss: 4.0613e-05 - val_mse: 4.5312e-05\n"
     ]
    },
    {
     "name": "stderr",
     "output_type": "stream",
     "text": [
      "WARNING:absl:Found untraced functions such as lstm_cell_5_layer_call_fn, lstm_cell_5_layer_call_and_return_conditional_losses, lstm_cell_6_layer_call_fn, lstm_cell_6_layer_call_and_return_conditional_losses, lstm_cell_5_layer_call_fn while saving (showing 5 of 10). These functions will not be directly callable after loading.\n"
     ]
    },
    {
     "name": "stdout",
     "output_type": "stream",
     "text": [
      "INFO:tensorflow:Assets written to: s2s_LSTM_256TimeD_4\\assets\n"
     ]
    },
    {
     "name": "stderr",
     "output_type": "stream",
     "text": [
      "INFO:tensorflow:Assets written to: s2s_LSTM_256TimeD_4\\assets\n"
     ]
    },
    {
     "name": "stdout",
     "output_type": "stream",
     "text": [
      "Epoch 72/500\n",
      "781/781 [==============================] - 19s 24ms/step - loss: 5.6839e-05 - mse: 7.8136e-05 - val_loss: 4.8745e-05 - val_mse: 6.2080e-05\n",
      "Epoch 73/500\n",
      "781/781 [==============================] - 18s 23ms/step - loss: 5.8836e-05 - mse: 8.2465e-05 - val_loss: 4.4374e-05 - val_mse: 5.3655e-05\n",
      "Epoch 74/500\n",
      "781/781 [==============================] - 18s 23ms/step - loss: 5.0841e-05 - mse: 6.6800e-05 - val_loss: 3.8991e-05 - val_mse: 4.3289e-05\n"
     ]
    },
    {
     "name": "stderr",
     "output_type": "stream",
     "text": [
      "WARNING:absl:Found untraced functions such as lstm_cell_5_layer_call_fn, lstm_cell_5_layer_call_and_return_conditional_losses, lstm_cell_6_layer_call_fn, lstm_cell_6_layer_call_and_return_conditional_losses, lstm_cell_5_layer_call_fn while saving (showing 5 of 10). These functions will not be directly callable after loading.\n"
     ]
    },
    {
     "name": "stdout",
     "output_type": "stream",
     "text": [
      "INFO:tensorflow:Assets written to: s2s_LSTM_256TimeD_4\\assets\n"
     ]
    },
    {
     "name": "stderr",
     "output_type": "stream",
     "text": [
      "INFO:tensorflow:Assets written to: s2s_LSTM_256TimeD_4\\assets\n"
     ]
    },
    {
     "name": "stdout",
     "output_type": "stream",
     "text": [
      "Epoch 75/500\n",
      "781/781 [==============================] - 19s 23ms/step - loss: 5.2122e-05 - mse: 6.9895e-05 - val_loss: 4.1682e-05 - val_mse: 4.9229e-05\n",
      "Epoch 76/500\n",
      "781/781 [==============================] - 18s 24ms/step - loss: 5.8208e-05 - mse: 8.2468e-05 - val_loss: 4.1081e-05 - val_mse: 4.8395e-05\n",
      "Epoch 77/500\n",
      "781/781 [==============================] - 18s 23ms/step - loss: 5.1717e-05 - mse: 6.9747e-05 - val_loss: 3.7318e-05 - val_mse: 4.1193e-05\n"
     ]
    },
    {
     "name": "stderr",
     "output_type": "stream",
     "text": [
      "WARNING:absl:Found untraced functions such as lstm_cell_5_layer_call_fn, lstm_cell_5_layer_call_and_return_conditional_losses, lstm_cell_6_layer_call_fn, lstm_cell_6_layer_call_and_return_conditional_losses, lstm_cell_5_layer_call_fn while saving (showing 5 of 10). These functions will not be directly callable after loading.\n"
     ]
    },
    {
     "name": "stdout",
     "output_type": "stream",
     "text": [
      "INFO:tensorflow:Assets written to: s2s_LSTM_256TimeD_4\\assets\n"
     ]
    },
    {
     "name": "stderr",
     "output_type": "stream",
     "text": [
      "INFO:tensorflow:Assets written to: s2s_LSTM_256TimeD_4\\assets\n"
     ]
    },
    {
     "name": "stdout",
     "output_type": "stream",
     "text": [
      "Epoch 78/500\n",
      "781/781 [==============================] - 19s 24ms/step - loss: 4.9613e-05 - mse: 6.5996e-05 - val_loss: 4.5333e-05 - val_mse: 5.7773e-05\n",
      "Epoch 79/500\n",
      "781/781 [==============================] - 18s 23ms/step - loss: 5.4882e-05 - mse: 7.6940e-05 - val_loss: 4.6081e-05 - val_mse: 5.9583e-05\n",
      "Epoch 80/500\n",
      "781/781 [==============================] - 18s 23ms/step - loss: 5.3181e-05 - mse: 7.3830e-05 - val_loss: 3.7204e-05 - val_mse: 4.2054e-05\n"
     ]
    },
    {
     "name": "stderr",
     "output_type": "stream",
     "text": [
      "WARNING:absl:Found untraced functions such as lstm_cell_5_layer_call_fn, lstm_cell_5_layer_call_and_return_conditional_losses, lstm_cell_6_layer_call_fn, lstm_cell_6_layer_call_and_return_conditional_losses, lstm_cell_5_layer_call_fn while saving (showing 5 of 10). These functions will not be directly callable after loading.\n"
     ]
    },
    {
     "name": "stdout",
     "output_type": "stream",
     "text": [
      "INFO:tensorflow:Assets written to: s2s_LSTM_256TimeD_4\\assets\n"
     ]
    },
    {
     "name": "stderr",
     "output_type": "stream",
     "text": [
      "INFO:tensorflow:Assets written to: s2s_LSTM_256TimeD_4\\assets\n"
     ]
    },
    {
     "name": "stdout",
     "output_type": "stream",
     "text": [
      "Epoch 81/500\n",
      "781/781 [==============================] - 19s 24ms/step - loss: 4.9216e-05 - mse: 6.6230e-05 - val_loss: 3.8372e-05 - val_mse: 4.4609e-05\n",
      "Epoch 82/500\n",
      "781/781 [==============================] - 18s 23ms/step - loss: 5.2681e-05 - mse: 7.3565e-05 - val_loss: 6.5921e-05 - val_mse: 9.9888e-05\n",
      "Epoch 83/500\n",
      "781/781 [==============================] - 18s 23ms/step - loss: 5.1777e-05 - mse: 7.2014e-05 - val_loss: 1.0102e-04 - val_mse: 1.7018e-04\n",
      "Epoch 84/500\n",
      "781/781 [==============================] - 18s 23ms/step - loss: 4.6419e-05 - mse: 6.1596e-05 - val_loss: 1.8356e-04 - val_mse: 3.3546e-04\n",
      "Epoch 85/500\n",
      "781/781 [==============================] - 18s 23ms/step - loss: 5.3059e-05 - mse: 7.5291e-05 - val_loss: 2.6176e-04 - val_mse: 4.9201e-04\n",
      "Epoch 86/500\n",
      "781/781 [==============================] - 18s 23ms/step - loss: 4.9756e-05 - mse: 6.8860e-05 - val_loss: 2.0605e-04 - val_mse: 3.8090e-04\n",
      "Epoch 87/500\n",
      "781/781 [==============================] - 18s 23ms/step - loss: 4.7446e-05 - mse: 6.4569e-05 - val_loss: 2.0182e-04 - val_mse: 3.7280e-04\n",
      "Epoch 88/500\n",
      "781/781 [==============================] - 18s 24ms/step - loss: 5.1311e-05 - mse: 7.2615e-05 - val_loss: 1.5031e-04 - val_mse: 2.7011e-04\n",
      "Epoch 89/500\n",
      "781/781 [==============================] - 18s 23ms/step - loss: 4.8142e-05 - mse: 6.6500e-05 - val_loss: 8.7049e-05 - val_mse: 1.4405e-04\n",
      "Epoch 90/500\n",
      "781/781 [==============================] - 18s 23ms/step - loss: 4.8445e-05 - mse: 6.7405e-05 - val_loss: 4.9370e-05 - val_mse: 6.9085e-05\n",
      "Epoch 91/500\n",
      "781/781 [==============================] - 18s 23ms/step - loss: 4.7505e-05 - mse: 6.5783e-05 - val_loss: 3.3198e-05 - val_mse: 3.7176e-05\n"
     ]
    },
    {
     "name": "stderr",
     "output_type": "stream",
     "text": [
      "WARNING:absl:Found untraced functions such as lstm_cell_5_layer_call_fn, lstm_cell_5_layer_call_and_return_conditional_losses, lstm_cell_6_layer_call_fn, lstm_cell_6_layer_call_and_return_conditional_losses, lstm_cell_5_layer_call_fn while saving (showing 5 of 10). These functions will not be directly callable after loading.\n"
     ]
    },
    {
     "name": "stdout",
     "output_type": "stream",
     "text": [
      "INFO:tensorflow:Assets written to: s2s_LSTM_256TimeD_4\\assets\n"
     ]
    },
    {
     "name": "stderr",
     "output_type": "stream",
     "text": [
      "INFO:tensorflow:Assets written to: s2s_LSTM_256TimeD_4\\assets\n"
     ]
    },
    {
     "name": "stdout",
     "output_type": "stream",
     "text": [
      "Epoch 92/500\n",
      "781/781 [==============================] - 19s 24ms/step - loss: 4.8670e-05 - mse: 6.8382e-05 - val_loss: 3.6958e-05 - val_mse: 4.5048e-05\n",
      "Epoch 93/500\n",
      "781/781 [==============================] - 18s 23ms/step - loss: 4.6315e-05 - mse: 6.3895e-05 - val_loss: 5.9972e-05 - val_mse: 9.1468e-05\n",
      "Epoch 94/500\n",
      "781/781 [==============================] - 18s 23ms/step - loss: 4.7145e-05 - mse: 6.5831e-05 - val_loss: 9.0925e-05 - val_mse: 1.5374e-04\n",
      "Epoch 95/500\n",
      "781/781 [==============================] - 19s 24ms/step - loss: 4.7884e-05 - mse: 6.7527e-05 - val_loss: 1.1000e-04 - val_mse: 1.9215e-04\n",
      "Epoch 96/500\n",
      "781/781 [==============================] - 19s 24ms/step - loss: 4.5929e-05 - mse: 6.3846e-05 - val_loss: 1.3301e-04 - val_mse: 2.3848e-04\n",
      "Epoch 97/500\n",
      "781/781 [==============================] - 19s 24ms/step - loss: 4.6524e-05 - mse: 6.5279e-05 - val_loss: 1.4730e-04 - val_mse: 2.6730e-04\n",
      "Epoch 98/500\n",
      "781/781 [==============================] - 18s 23ms/step - loss: 4.6694e-05 - mse: 6.5831e-05 - val_loss: 1.2505e-04 - val_mse: 2.2298e-04\n",
      "Epoch 99/500\n",
      "781/781 [==============================] - 18s 24ms/step - loss: 4.5175e-05 - mse: 6.3017e-05 - val_loss: 9.0673e-05 - val_mse: 1.5438e-04\n",
      "Epoch 100/500\n",
      "781/781 [==============================] - 19s 24ms/step - loss: 4.6613e-05 - mse: 6.6123e-05 - val_loss: 5.8172e-05 - val_mse: 8.9457e-05\n",
      "Epoch 101/500\n",
      "781/781 [==============================] - 18s 23ms/step - loss: 4.6309e-05 - mse: 6.5691e-05 - val_loss: 3.5753e-05 - val_mse: 4.4661e-05\n",
      "Epoch 102/500\n",
      "781/781 [==============================] - 19s 24ms/step - loss: 4.3036e-05 - mse: 5.9330e-05 - val_loss: 4.0525e-05 - val_mse: 5.4256e-05\n",
      "Epoch 103/500\n",
      "781/781 [==============================] - 19s 24ms/step - loss: 4.6314e-05 - mse: 6.6126e-05 - val_loss: 6.4057e-05 - val_mse: 1.0137e-04\n",
      "Epoch 104/500\n",
      "781/781 [==============================] - 18s 23ms/step - loss: 4.4171e-05 - mse: 6.1982e-05 - val_loss: 8.9270e-05 - val_mse: 1.5189e-04\n",
      "Epoch 105/500\n",
      "781/781 [==============================] - 19s 24ms/step - loss: 4.3721e-05 - mse: 6.1293e-05 - val_loss: 1.3042e-04 - val_mse: 2.3428e-04\n",
      "Epoch 106/500\n",
      "781/781 [==============================] - 19s 24ms/step - loss: 4.5686e-05 - mse: 6.5401e-05 - val_loss: 1.3040e-04 - val_mse: 2.3438e-04\n",
      "Epoch 107/500\n",
      "781/781 [==============================] - 19s 24ms/step - loss: 4.3743e-05 - mse: 6.1666e-05 - val_loss: 1.0736e-04 - val_mse: 1.8854e-04\n",
      "Epoch 108/500\n",
      "781/781 [==============================] - 19s 24ms/step - loss: 4.3499e-05 - mse: 6.1375e-05 - val_loss: 8.1665e-05 - val_mse: 1.3741e-04\n",
      "Epoch 109/500\n",
      "781/781 [==============================] - 19s 24ms/step - loss: 4.4132e-05 - mse: 6.2811e-05 - val_loss: 6.1281e-05 - val_mse: 9.6838e-05\n",
      "Epoch 110/500\n",
      "781/781 [==============================] - 19s 24ms/step - loss: 4.3012e-05 - mse: 6.0728e-05 - val_loss: 3.9705e-05 - val_mse: 5.3948e-05\n",
      "Epoch 111/500\n",
      "781/781 [==============================] - 18s 23ms/step - loss: 4.3888e-05 - mse: 6.2654e-05 - val_loss: 3.3984e-05 - val_mse: 4.2746e-05\n",
      "Epoch 112/500\n",
      "781/781 [==============================] - 19s 24ms/step - loss: 4.3273e-05 - mse: 6.1562e-05 - val_loss: 3.2506e-05 - val_mse: 3.9968e-05\n"
     ]
    },
    {
     "name": "stderr",
     "output_type": "stream",
     "text": [
      "WARNING:absl:Found untraced functions such as lstm_cell_5_layer_call_fn, lstm_cell_5_layer_call_and_return_conditional_losses, lstm_cell_6_layer_call_fn, lstm_cell_6_layer_call_and_return_conditional_losses, lstm_cell_5_layer_call_fn while saving (showing 5 of 10). These functions will not be directly callable after loading.\n"
     ]
    },
    {
     "name": "stdout",
     "output_type": "stream",
     "text": [
      "INFO:tensorflow:Assets written to: s2s_LSTM_256TimeD_4\\assets\n"
     ]
    },
    {
     "name": "stderr",
     "output_type": "stream",
     "text": [
      "INFO:tensorflow:Assets written to: s2s_LSTM_256TimeD_4\\assets\n"
     ]
    },
    {
     "name": "stdout",
     "output_type": "stream",
     "text": [
      "Epoch 113/500\n",
      "781/781 [==============================] - 19s 24ms/step - loss: 4.1320e-05 - mse: 5.7831e-05 - val_loss: 3.8318e-05 - val_mse: 5.1888e-05\n",
      "Epoch 114/500\n",
      "781/781 [==============================] - 18s 24ms/step - loss: 4.3762e-05 - mse: 6.2876e-05 - val_loss: 4.0075e-05 - val_mse: 5.5479e-05\n",
      "Epoch 115/500\n",
      "781/781 [==============================] - 18s 24ms/step - loss: 4.2913e-05 - mse: 6.1302e-05 - val_loss: 3.6584e-05 - val_mse: 4.8649e-05\n",
      "Epoch 116/500\n",
      "781/781 [==============================] - 17s 22ms/step - loss: 4.1283e-05 - mse: 5.8191e-05 - val_loss: 3.2225e-05 - val_mse: 4.0087e-05\n"
     ]
    },
    {
     "name": "stderr",
     "output_type": "stream",
     "text": [
      "WARNING:absl:Found untraced functions such as lstm_cell_5_layer_call_fn, lstm_cell_5_layer_call_and_return_conditional_losses, lstm_cell_6_layer_call_fn, lstm_cell_6_layer_call_and_return_conditional_losses, lstm_cell_5_layer_call_fn while saving (showing 5 of 10). These functions will not be directly callable after loading.\n"
     ]
    },
    {
     "name": "stdout",
     "output_type": "stream",
     "text": [
      "INFO:tensorflow:Assets written to: s2s_LSTM_256TimeD_4\\assets\n"
     ]
    },
    {
     "name": "stderr",
     "output_type": "stream",
     "text": [
      "INFO:tensorflow:Assets written to: s2s_LSTM_256TimeD_4\\assets\n"
     ]
    },
    {
     "name": "stdout",
     "output_type": "stream",
     "text": [
      "Epoch 117/500\n",
      "781/781 [==============================] - 17s 22ms/step - loss: 4.3012e-05 - mse: 6.1823e-05 - val_loss: 3.3888e-05 - val_mse: 4.3456e-05\n",
      "Epoch 118/500\n",
      "781/781 [==============================] - 18s 23ms/step - loss: 4.2308e-05 - mse: 6.0525e-05 - val_loss: 3.6560e-05 - val_mse: 4.8898e-05\n",
      "Epoch 119/500\n",
      "781/781 [==============================] - 18s 22ms/step - loss: 3.9962e-05 - mse: 5.5981e-05 - val_loss: 5.0759e-05 - val_mse: 7.7404e-05\n",
      "Epoch 120/500\n",
      "781/781 [==============================] - 17s 22ms/step - loss: 4.2077e-05 - mse: 6.0386e-05 - val_loss: 8.3470e-05 - val_mse: 1.4287e-04\n",
      "Epoch 121/500\n",
      "781/781 [==============================] - 17s 22ms/step - loss: 4.2970e-05 - mse: 6.2279e-05 - val_loss: 8.1118e-05 - val_mse: 1.3825e-04\n",
      "Epoch 122/500\n",
      "781/781 [==============================] - 19s 25ms/step - loss: 3.7215e-05 - mse: 5.0893e-05 - val_loss: 9.7105e-05 - val_mse: 1.7040e-04\n",
      "Epoch 123/500\n",
      "781/781 [==============================] - 18s 23ms/step - loss: 4.3595e-05 - mse: 6.3859e-05 - val_loss: 1.3170e-04 - val_mse: 2.3959e-04\n",
      "Epoch 124/500\n",
      "781/781 [==============================] - 17s 22ms/step - loss: 3.9764e-05 - mse: 5.6258e-05 - val_loss: 8.5724e-05 - val_mse: 1.4790e-04\n",
      "Epoch 125/500\n",
      "781/781 [==============================] - 18s 24ms/step - loss: 3.7579e-05 - mse: 5.2080e-05 - val_loss: 7.0951e-05 - val_mse: 1.1860e-04\n",
      "Epoch 126/500\n",
      "781/781 [==============================] - 18s 23ms/step - loss: 4.4199e-05 - mse: 6.5443e-05 - val_loss: 7.0504e-05 - val_mse: 1.1775e-04\n",
      "Epoch 127/500\n",
      "781/781 [==============================] - 19s 24ms/step - loss: 3.6779e-05 - mse: 5.0693e-05 - val_loss: 4.1381e-05 - val_mse: 5.9804e-05\n",
      "Epoch 128/500\n",
      "781/781 [==============================] - 18s 23ms/step - loss: 3.9381e-05 - mse: 5.6092e-05 - val_loss: 3.8540e-05 - val_mse: 5.4312e-05\n",
      "Epoch 129/500\n",
      "781/781 [==============================] - 18s 23ms/step - loss: 4.3088e-05 - mse: 6.3599e-05 - val_loss: 3.1339e-05 - val_mse: 4.0000e-05\n"
     ]
    },
    {
     "name": "stderr",
     "output_type": "stream",
     "text": [
      "WARNING:absl:Found untraced functions such as lstm_cell_5_layer_call_fn, lstm_cell_5_layer_call_and_return_conditional_losses, lstm_cell_6_layer_call_fn, lstm_cell_6_layer_call_and_return_conditional_losses, lstm_cell_5_layer_call_fn while saving (showing 5 of 10). These functions will not be directly callable after loading.\n"
     ]
    },
    {
     "name": "stdout",
     "output_type": "stream",
     "text": [
      "INFO:tensorflow:Assets written to: s2s_LSTM_256TimeD_4\\assets\n"
     ]
    },
    {
     "name": "stderr",
     "output_type": "stream",
     "text": [
      "INFO:tensorflow:Assets written to: s2s_LSTM_256TimeD_4\\assets\n"
     ]
    },
    {
     "name": "stdout",
     "output_type": "stream",
     "text": [
      "Epoch 130/500\n",
      "781/781 [==============================] - 19s 24ms/step - loss: 3.4999e-05 - mse: 4.7523e-05 - val_loss: 2.8736e-05 - val_mse: 3.5088e-05\n"
     ]
    },
    {
     "name": "stderr",
     "output_type": "stream",
     "text": [
      "WARNING:absl:Found untraced functions such as lstm_cell_5_layer_call_fn, lstm_cell_5_layer_call_and_return_conditional_losses, lstm_cell_6_layer_call_fn, lstm_cell_6_layer_call_and_return_conditional_losses, lstm_cell_5_layer_call_fn while saving (showing 5 of 10). These functions will not be directly callable after loading.\n"
     ]
    },
    {
     "name": "stdout",
     "output_type": "stream",
     "text": [
      "INFO:tensorflow:Assets written to: s2s_LSTM_256TimeD_4\\assets\n"
     ]
    },
    {
     "name": "stderr",
     "output_type": "stream",
     "text": [
      "INFO:tensorflow:Assets written to: s2s_LSTM_256TimeD_4\\assets\n"
     ]
    },
    {
     "name": "stdout",
     "output_type": "stream",
     "text": [
      "Epoch 131/500\n",
      "781/781 [==============================] - 19s 24ms/step - loss: 4.1118e-05 - mse: 5.9959e-05 - val_loss: 3.5677e-05 - val_mse: 4.9119e-05\n",
      "Epoch 132/500\n",
      "781/781 [==============================] - 19s 24ms/step - loss: 4.0166e-05 - mse: 5.8112e-05 - val_loss: 2.8287e-05 - val_mse: 3.4384e-05\n"
     ]
    },
    {
     "name": "stderr",
     "output_type": "stream",
     "text": [
      "WARNING:absl:Found untraced functions such as lstm_cell_5_layer_call_fn, lstm_cell_5_layer_call_and_return_conditional_losses, lstm_cell_6_layer_call_fn, lstm_cell_6_layer_call_and_return_conditional_losses, lstm_cell_5_layer_call_fn while saving (showing 5 of 10). These functions will not be directly callable after loading.\n"
     ]
    },
    {
     "name": "stdout",
     "output_type": "stream",
     "text": [
      "INFO:tensorflow:Assets written to: s2s_LSTM_256TimeD_4\\assets\n"
     ]
    },
    {
     "name": "stderr",
     "output_type": "stream",
     "text": [
      "INFO:tensorflow:Assets written to: s2s_LSTM_256TimeD_4\\assets\n"
     ]
    },
    {
     "name": "stdout",
     "output_type": "stream",
     "text": [
      "Epoch 133/500\n",
      "781/781 [==============================] - 18s 23ms/step - loss: 3.4823e-05 - mse: 4.7561e-05 - val_loss: 3.1495e-05 - val_mse: 4.0933e-05\n",
      "Epoch 134/500\n",
      "781/781 [==============================] - 18s 23ms/step - loss: 4.2791e-05 - mse: 6.3653e-05 - val_loss: 3.4157e-05 - val_mse: 4.6273e-05\n",
      "Epoch 135/500\n",
      "781/781 [==============================] - 19s 24ms/step - loss: 3.6619e-05 - mse: 5.1365e-05 - val_loss: 3.8121e-05 - val_mse: 5.4262e-05\n",
      "Epoch 136/500\n",
      "781/781 [==============================] - 18s 23ms/step - loss: 3.6197e-05 - mse: 5.0692e-05 - val_loss: 8.5384e-05 - val_mse: 1.4882e-04\n",
      "Epoch 137/500\n",
      "781/781 [==============================] - 18s 24ms/step - loss: 4.1303e-05 - mse: 6.1016e-05 - val_loss: 7.1366e-05 - val_mse: 1.2085e-04\n",
      "Epoch 138/500\n",
      "781/781 [==============================] - 18s 24ms/step - loss: 3.4904e-05 - mse: 4.8295e-05 - val_loss: 6.8271e-05 - val_mse: 1.1481e-04\n",
      "Epoch 139/500\n",
      "781/781 [==============================] - 17s 22ms/step - loss: 3.7912e-05 - mse: 5.4486e-05 - val_loss: 9.7476e-05 - val_mse: 1.7330e-04\n",
      "Epoch 140/500\n",
      "781/781 [==============================] - 17s 22ms/step - loss: 3.9452e-05 - mse: 5.7648e-05 - val_loss: 6.1701e-05 - val_mse: 1.0189e-04\n",
      "Epoch 141/500\n",
      "781/781 [==============================] - 17s 22ms/step - loss: 3.4299e-05 - mse: 4.7465e-05 - val_loss: 5.1246e-05 - val_mse: 8.1210e-05\n",
      "Epoch 142/500\n",
      "781/781 [==============================] - 18s 23ms/step - loss: 3.9931e-05 - mse: 5.8874e-05 - val_loss: 5.0240e-05 - val_mse: 7.9269e-05\n",
      "Epoch 143/500\n",
      "781/781 [==============================] - 17s 22ms/step - loss: 3.6113e-05 - mse: 5.1296e-05 - val_loss: 2.9313e-05 - val_mse: 3.7592e-05\n",
      "Epoch 144/500\n",
      "781/781 [==============================] - 19s 24ms/step - loss: 3.4459e-05 - mse: 4.8139e-05 - val_loss: 2.7946e-05 - val_mse: 3.5118e-05\n"
     ]
    },
    {
     "name": "stderr",
     "output_type": "stream",
     "text": [
      "WARNING:absl:Found untraced functions such as lstm_cell_5_layer_call_fn, lstm_cell_5_layer_call_and_return_conditional_losses, lstm_cell_6_layer_call_fn, lstm_cell_6_layer_call_and_return_conditional_losses, lstm_cell_5_layer_call_fn while saving (showing 5 of 10). These functions will not be directly callable after loading.\n"
     ]
    },
    {
     "name": "stdout",
     "output_type": "stream",
     "text": [
      "INFO:tensorflow:Assets written to: s2s_LSTM_256TimeD_4\\assets\n"
     ]
    },
    {
     "name": "stderr",
     "output_type": "stream",
     "text": [
      "INFO:tensorflow:Assets written to: s2s_LSTM_256TimeD_4\\assets\n"
     ]
    },
    {
     "name": "stdout",
     "output_type": "stream",
     "text": [
      "Epoch 145/500\n",
      "781/781 [==============================] - 18s 23ms/step - loss: 4.0145e-05 - mse: 5.9627e-05 - val_loss: 2.4916e-05 - val_mse: 2.9119e-05\n"
     ]
    },
    {
     "name": "stderr",
     "output_type": "stream",
     "text": [
      "WARNING:absl:Found untraced functions such as lstm_cell_5_layer_call_fn, lstm_cell_5_layer_call_and_return_conditional_losses, lstm_cell_6_layer_call_fn, lstm_cell_6_layer_call_and_return_conditional_losses, lstm_cell_5_layer_call_fn while saving (showing 5 of 10). These functions will not be directly callable after loading.\n"
     ]
    },
    {
     "name": "stdout",
     "output_type": "stream",
     "text": [
      "INFO:tensorflow:Assets written to: s2s_LSTM_256TimeD_4\\assets\n"
     ]
    },
    {
     "name": "stderr",
     "output_type": "stream",
     "text": [
      "INFO:tensorflow:Assets written to: s2s_LSTM_256TimeD_4\\assets\n"
     ]
    },
    {
     "name": "stdout",
     "output_type": "stream",
     "text": [
      "Epoch 146/500\n",
      "781/781 [==============================] - 18s 22ms/step - loss: 3.2838e-05 - mse: 4.5093e-05 - val_loss: 2.7211e-05 - val_mse: 3.3948e-05\n",
      "Epoch 147/500\n",
      "781/781 [==============================] - 17s 22ms/step - loss: 3.7336e-05 - mse: 5.4271e-05 - val_loss: 3.8375e-05 - val_mse: 5.6453e-05\n",
      "Epoch 148/500\n",
      "781/781 [==============================] - 17s 21ms/step - loss: 3.6844e-05 - mse: 5.3344e-05 - val_loss: 2.7903e-05 - val_mse: 3.5514e-05\n",
      "Epoch 149/500\n",
      "781/781 [==============================] - 17s 21ms/step - loss: 3.1940e-05 - mse: 4.3673e-05 - val_loss: 3.2125e-05 - val_mse: 4.4214e-05\n",
      "Epoch 150/500\n",
      "781/781 [==============================] - 19s 24ms/step - loss: 4.0487e-05 - mse: 6.0904e-05 - val_loss: 2.5393e-05 - val_mse: 3.0684e-05\n",
      "Epoch 151/500\n",
      "781/781 [==============================] - 19s 24ms/step - loss: 3.2109e-05 - mse: 4.4201e-05 - val_loss: 2.5450e-05 - val_mse: 3.0841e-05\n",
      "Epoch 152/500\n",
      "781/781 [==============================] - 18s 23ms/step - loss: 3.5182e-05 - mse: 5.0529e-05 - val_loss: 5.9486e-05 - val_mse: 9.8936e-05\n",
      "Epoch 153/500\n",
      "781/781 [==============================] - 18s 23ms/step - loss: 3.7508e-05 - mse: 5.5248e-05 - val_loss: 6.0631e-05 - val_mse: 1.0120e-04\n",
      "Epoch 154/500\n",
      "781/781 [==============================] - 19s 24ms/step - loss: 3.1413e-05 - mse: 4.3161e-05 - val_loss: 1.1325e-04 - val_mse: 2.0651e-04\n",
      "Epoch 155/500\n",
      "781/781 [==============================] - 18s 24ms/step - loss: 3.7427e-05 - mse: 5.5333e-05 - val_loss: 1.5570e-04 - val_mse: 2.9140e-04\n",
      "Epoch 156/500\n",
      "781/781 [==============================] - 19s 24ms/step - loss: 3.4901e-05 - mse: 5.0336e-05 - val_loss: 1.0586e-04 - val_mse: 1.9187e-04\n",
      "Epoch 157/500\n",
      "781/781 [==============================] - 18s 23ms/step - loss: 3.2042e-05 - mse: 4.4742e-05 - val_loss: 1.1744e-04 - val_mse: 2.1523e-04\n",
      "Epoch 158/500\n",
      "781/781 [==============================] - 18s 23ms/step - loss: 3.7232e-05 - mse: 5.5224e-05 - val_loss: 9.9270e-05 - val_mse: 1.7893e-04\n",
      "Epoch 159/500\n",
      "781/781 [==============================] - 18s 23ms/step - loss: 3.2225e-05 - mse: 4.5290e-05 - val_loss: 5.3877e-05 - val_mse: 8.8394e-05\n",
      "Epoch 160/500\n",
      "781/781 [==============================] - 17s 22ms/step - loss: 3.4787e-05 - mse: 5.0534e-05 - val_loss: 7.4809e-05 - val_mse: 1.3030e-04\n",
      "Epoch 161/500\n",
      "781/781 [==============================] - 17s 22ms/step - loss: 3.5108e-05 - mse: 5.1238e-05 - val_loss: 4.2804e-05 - val_mse: 6.6423e-05\n",
      "Epoch 162/500\n",
      "781/781 [==============================] - 17s 22ms/step - loss: 3.0577e-05 - mse: 4.2282e-05 - val_loss: 6.6270e-05 - val_mse: 1.1348e-04\n",
      "Epoch 163/500\n",
      "781/781 [==============================] - 17s 22ms/step - loss: 3.6814e-05 - mse: 5.4864e-05 - val_loss: 7.4926e-05 - val_mse: 1.3079e-04\n",
      "Epoch 164/500\n",
      "781/781 [==============================] - 17s 22ms/step - loss: 3.1815e-05 - mse: 4.4926e-05 - val_loss: 7.8522e-05 - val_mse: 1.3806e-04\n",
      "Epoch 165/500\n",
      "781/781 [==============================] - 17s 22ms/step - loss: 3.2407e-05 - mse: 4.6236e-05 - val_loss: 1.7761e-04 - val_mse: 3.3624e-04\n",
      "Epoch 166/500\n",
      "781/781 [==============================] - 17s 22ms/step - loss: 3.5955e-05 - mse: 5.3399e-05 - val_loss: 1.0467e-04 - val_mse: 1.9045e-04\n",
      "Epoch 167/500\n",
      "781/781 [==============================] - 17s 22ms/step - loss: 2.9928e-05 - mse: 4.1428e-05 - val_loss: 1.0414e-04 - val_mse: 1.8957e-04\n",
      "Epoch 168/500\n",
      "781/781 [==============================] - 17s 22ms/step - loss: 3.5838e-05 - mse: 5.3364e-05 - val_loss: 1.2092e-04 - val_mse: 2.2315e-04\n",
      "Epoch 169/500\n",
      "781/781 [==============================] - 17s 22ms/step - loss: 3.1951e-05 - mse: 4.5638e-05 - val_loss: 4.2771e-05 - val_mse: 6.7098e-05\n",
      "Epoch 170/500\n",
      "781/781 [==============================] - 17s 22ms/step - loss: 3.0883e-05 - mse: 4.3618e-05 - val_loss: 5.2199e-05 - val_mse: 8.6119e-05\n",
      "Epoch 171/500\n",
      "781/781 [==============================] - 17s 22ms/step - loss: 3.5280e-05 - mse: 5.2485e-05 - val_loss: 3.0130e-05 - val_mse: 4.2045e-05\n",
      "Epoch 172/500\n",
      "781/781 [==============================] - 19s 25ms/step - loss: 2.9822e-05 - mse: 4.1650e-05 - val_loss: 2.7749e-05 - val_mse: 3.7476e-05\n",
      "Epoch 173/500\n",
      "781/781 [==============================] - 19s 25ms/step - loss: 3.4340e-05 - mse: 5.0789e-05 - val_loss: 3.0657e-05 - val_mse: 4.3331e-05\n",
      "Epoch 174/500\n",
      "781/781 [==============================] - 19s 25ms/step - loss: 3.2139e-05 - mse: 4.6427e-05 - val_loss: 2.3552e-05 - val_mse: 2.9187e-05\n"
     ]
    },
    {
     "name": "stderr",
     "output_type": "stream",
     "text": [
      "WARNING:absl:Found untraced functions such as lstm_cell_5_layer_call_fn, lstm_cell_5_layer_call_and_return_conditional_losses, lstm_cell_6_layer_call_fn, lstm_cell_6_layer_call_and_return_conditional_losses, lstm_cell_5_layer_call_fn while saving (showing 5 of 10). These functions will not be directly callable after loading.\n"
     ]
    },
    {
     "name": "stdout",
     "output_type": "stream",
     "text": [
      "INFO:tensorflow:Assets written to: s2s_LSTM_256TimeD_4\\assets\n"
     ]
    },
    {
     "name": "stderr",
     "output_type": "stream",
     "text": [
      "INFO:tensorflow:Assets written to: s2s_LSTM_256TimeD_4\\assets\n"
     ]
    },
    {
     "name": "stdout",
     "output_type": "stream",
     "text": [
      "Epoch 175/500\n",
      "781/781 [==============================] - 17s 22ms/step - loss: 3.0166e-05 - mse: 4.2592e-05 - val_loss: 4.1212e-05 - val_mse: 6.4596e-05\n",
      "Epoch 176/500\n",
      "781/781 [==============================] - 17s 22ms/step - loss: 3.5181e-05 - mse: 5.2685e-05 - val_loss: 3.1913e-05 - val_mse: 4.6021e-05\n",
      "Epoch 177/500\n",
      "781/781 [==============================] - 18s 23ms/step - loss: 2.8179e-05 - mse: 3.8755e-05 - val_loss: 5.3164e-05 - val_mse: 8.8569e-05\n",
      "Epoch 178/500\n",
      "781/781 [==============================] - 18s 24ms/step - loss: 3.4494e-05 - mse: 5.1496e-05 - val_loss: 6.9688e-05 - val_mse: 1.2162e-04\n",
      "Epoch 179/500\n",
      "781/781 [==============================] - 18s 24ms/step - loss: 3.0679e-05 - mse: 4.3892e-05 - val_loss: 5.3461e-05 - val_mse: 8.9256e-05\n",
      "Epoch 180/500\n",
      "781/781 [==============================] - 18s 23ms/step - loss: 3.0155e-05 - mse: 4.2954e-05 - val_loss: 9.2451e-05 - val_mse: 1.6731e-04\n",
      "Epoch 181/500\n",
      "781/781 [==============================] - 18s 23ms/step - loss: 3.4093e-05 - mse: 5.0880e-05 - val_loss: 5.4872e-05 - val_mse: 9.2205e-05\n",
      "Epoch 182/500\n",
      "781/781 [==============================] - 18s 23ms/step - loss: 2.8564e-05 - mse: 3.9892e-05 - val_loss: 3.7284e-05 - val_mse: 5.7207e-05\n",
      "Epoch 183/500\n",
      "781/781 [==============================] - 18s 23ms/step - loss: 3.3191e-05 - mse: 4.9237e-05 - val_loss: 4.9638e-05 - val_mse: 8.1961e-05\n",
      "Epoch 184/500\n",
      "781/781 [==============================] - 19s 24ms/step - loss: 3.0660e-05 - mse: 4.4206e-05 - val_loss: 2.0869e-05 - val_mse: 2.4561e-05\n"
     ]
    },
    {
     "name": "stderr",
     "output_type": "stream",
     "text": [
      "WARNING:absl:Found untraced functions such as lstm_cell_5_layer_call_fn, lstm_cell_5_layer_call_and_return_conditional_losses, lstm_cell_6_layer_call_fn, lstm_cell_6_layer_call_and_return_conditional_losses, lstm_cell_5_layer_call_fn while saving (showing 5 of 10). These functions will not be directly callable after loading.\n"
     ]
    },
    {
     "name": "stdout",
     "output_type": "stream",
     "text": [
      "INFO:tensorflow:Assets written to: s2s_LSTM_256TimeD_4\\assets\n"
     ]
    },
    {
     "name": "stderr",
     "output_type": "stream",
     "text": [
      "INFO:tensorflow:Assets written to: s2s_LSTM_256TimeD_4\\assets\n"
     ]
    },
    {
     "name": "stdout",
     "output_type": "stream",
     "text": [
      "Epoch 185/500\n",
      "781/781 [==============================] - 19s 24ms/step - loss: 2.8301e-05 - mse: 3.9595e-05 - val_loss: 2.4605e-05 - val_mse: 3.2260e-05\n",
      "Epoch 186/500\n",
      "781/781 [==============================] - 19s 24ms/step - loss: 3.5049e-05 - mse: 5.3138e-05 - val_loss: 1.9755e-05 - val_mse: 2.2477e-05\n"
     ]
    },
    {
     "name": "stderr",
     "output_type": "stream",
     "text": [
      "WARNING:absl:Found untraced functions such as lstm_cell_5_layer_call_fn, lstm_cell_5_layer_call_and_return_conditional_losses, lstm_cell_6_layer_call_fn, lstm_cell_6_layer_call_and_return_conditional_losses, lstm_cell_5_layer_call_fn while saving (showing 5 of 10). These functions will not be directly callable after loading.\n"
     ]
    },
    {
     "name": "stdout",
     "output_type": "stream",
     "text": [
      "INFO:tensorflow:Assets written to: s2s_LSTM_256TimeD_4\\assets\n"
     ]
    },
    {
     "name": "stderr",
     "output_type": "stream",
     "text": [
      "INFO:tensorflow:Assets written to: s2s_LSTM_256TimeD_4\\assets\n"
     ]
    },
    {
     "name": "stdout",
     "output_type": "stream",
     "text": [
      "Epoch 187/500\n",
      "781/781 [==============================] - 19s 24ms/step - loss: 2.6316e-05 - mse: 3.5726e-05 - val_loss: 2.6546e-05 - val_mse: 3.6327e-05\n",
      "Epoch 188/500\n",
      "781/781 [==============================] - 19s 24ms/step - loss: 3.3358e-05 - mse: 4.9928e-05 - val_loss: 2.9318e-05 - val_mse: 4.1920e-05\n",
      "Epoch 189/500\n",
      "781/781 [==============================] - 19s 24ms/step - loss: 2.9120e-05 - mse: 4.1488e-05 - val_loss: 2.5762e-05 - val_mse: 3.4857e-05\n",
      "Epoch 190/500\n",
      "781/781 [==============================] - 18s 23ms/step - loss: 2.9750e-05 - mse: 4.2861e-05 - val_loss: 4.8761e-05 - val_mse: 8.1067e-05\n",
      "Epoch 191/500\n",
      "781/781 [==============================] - 18s 23ms/step - loss: 3.2262e-05 - mse: 4.7917e-05 - val_loss: 3.1452e-05 - val_mse: 4.6370e-05\n",
      "Epoch 192/500\n",
      "781/781 [==============================] - 17s 22ms/step - loss: 2.6349e-05 - mse: 3.6176e-05 - val_loss: 4.0828e-05 - val_mse: 6.5347e-05\n",
      "Epoch 193/500\n",
      "781/781 [==============================] - 17s 22ms/step - loss: 3.3801e-05 - mse: 5.1170e-05 - val_loss: 5.7086e-05 - val_mse: 9.7898e-05\n",
      "Epoch 194/500\n",
      "781/781 [==============================] - 19s 24ms/step - loss: 2.7422e-05 - mse: 3.8449e-05 - val_loss: 3.9002e-05 - val_mse: 6.1783e-05\n",
      "Epoch 195/500\n",
      "781/781 [==============================] - 18s 24ms/step - loss: 3.0084e-05 - mse: 4.3893e-05 - val_loss: 8.3172e-05 - val_mse: 1.5034e-04\n",
      "Epoch 196/500\n",
      "781/781 [==============================] - 18s 23ms/step - loss: 3.1216e-05 - mse: 4.6174e-05 - val_loss: 4.4851e-05 - val_mse: 7.3579e-05\n",
      "Epoch 197/500\n",
      "781/781 [==============================] - 18s 23ms/step - loss: 2.6354e-05 - mse: 3.6550e-05 - val_loss: 6.8367e-05 - val_mse: 1.2087e-04\n",
      "Epoch 198/500\n",
      "781/781 [==============================] - 18s 24ms/step - loss: 3.3280e-05 - mse: 5.0473e-05 - val_loss: 7.4782e-05 - val_mse: 1.3365e-04\n",
      "Epoch 199/500\n",
      "781/781 [==============================] - 18s 24ms/step - loss: 2.5970e-05 - mse: 3.5897e-05 - val_loss: 6.1887e-05 - val_mse: 1.0796e-04\n",
      "Epoch 200/500\n",
      "781/781 [==============================] - 18s 24ms/step - loss: 3.0996e-05 - mse: 4.6056e-05 - val_loss: 1.1748e-04 - val_mse: 2.1932e-04\n",
      "Epoch 201/500\n",
      "781/781 [==============================] - 18s 23ms/step - loss: 2.9669e-05 - mse: 4.3425e-05 - val_loss: 6.4782e-05 - val_mse: 1.1381e-04\n",
      "Epoch 202/500\n",
      "781/781 [==============================] - 18s 24ms/step - loss: 2.6106e-05 - mse: 3.6398e-05 - val_loss: 1.1346e-04 - val_mse: 2.1145e-04\n",
      "Epoch 203/500\n",
      "781/781 [==============================] - 18s 23ms/step - loss: 3.3041e-05 - mse: 5.0314e-05 - val_loss: 7.2271e-05 - val_mse: 1.2894e-04\n",
      "Epoch 204/500\n",
      "781/781 [==============================] - 17s 22ms/step - loss: 2.5093e-05 - mse: 3.4474e-05 - val_loss: 6.4346e-05 - val_mse: 1.1321e-04\n",
      "Epoch 205/500\n",
      "781/781 [==============================] - 18s 23ms/step - loss: 3.1203e-05 - mse: 4.6777e-05 - val_loss: 7.0067e-05 - val_mse: 1.2473e-04\n",
      "Epoch 206/500\n",
      "781/781 [==============================] - 18s 23ms/step - loss: 2.7844e-05 - mse: 4.0088e-05 - val_loss: 3.4291e-05 - val_mse: 5.3095e-05\n",
      "Epoch 207/500\n",
      "781/781 [==============================] - 18s 23ms/step - loss: 2.7116e-05 - mse: 3.8732e-05 - val_loss: 4.6041e-05 - val_mse: 7.6789e-05\n",
      "Epoch 208/500\n",
      "781/781 [==============================] - 18s 23ms/step - loss: 3.1643e-05 - mse: 4.7809e-05 - val_loss: 2.3795e-05 - val_mse: 3.2147e-05\n",
      "Epoch 209/500\n",
      "781/781 [==============================] - 19s 24ms/step - loss: 2.4974e-05 - mse: 3.4549e-05 - val_loss: 2.4545e-05 - val_mse: 3.3795e-05\n",
      "Epoch 210/500\n",
      "781/781 [==============================] - 18s 23ms/step - loss: 3.1477e-05 - mse: 4.7612e-05 - val_loss: 2.1655e-05 - val_mse: 2.7988e-05\n",
      "Epoch 211/500\n",
      "781/781 [==============================] - 19s 24ms/step - loss: 2.5523e-05 - mse: 3.5738e-05 - val_loss: 1.8375e-05 - val_mse: 2.1448e-05\n"
     ]
    },
    {
     "name": "stderr",
     "output_type": "stream",
     "text": [
      "WARNING:absl:Found untraced functions such as lstm_cell_5_layer_call_fn, lstm_cell_5_layer_call_and_return_conditional_losses, lstm_cell_6_layer_call_fn, lstm_cell_6_layer_call_and_return_conditional_losses, lstm_cell_5_layer_call_fn while saving (showing 5 of 10). These functions will not be directly callable after loading.\n"
     ]
    },
    {
     "name": "stdout",
     "output_type": "stream",
     "text": [
      "INFO:tensorflow:Assets written to: s2s_LSTM_256TimeD_4\\assets\n"
     ]
    },
    {
     "name": "stderr",
     "output_type": "stream",
     "text": [
      "INFO:tensorflow:Assets written to: s2s_LSTM_256TimeD_4\\assets\n"
     ]
    },
    {
     "name": "stdout",
     "output_type": "stream",
     "text": [
      "Epoch 212/500\n",
      "781/781 [==============================] - 18s 23ms/step - loss: 2.9791e-05 - mse: 4.4362e-05 - val_loss: 2.5501e-05 - val_mse: 3.5821e-05\n",
      "Epoch 213/500\n",
      "781/781 [==============================] - 18s 24ms/step - loss: 2.8070e-05 - mse: 4.0928e-05 - val_loss: 1.9336e-05 - val_mse: 2.3418e-05\n",
      "Epoch 214/500\n",
      "781/781 [==============================] - 19s 24ms/step - loss: 2.5924e-05 - mse: 3.6733e-05 - val_loss: 2.7062e-05 - val_mse: 3.8993e-05\n",
      "Epoch 215/500\n",
      "781/781 [==============================] - 18s 24ms/step - loss: 3.1153e-05 - mse: 4.7207e-05 - val_loss: 2.4285e-05 - val_mse: 3.3403e-05\n",
      "Epoch 216/500\n",
      "781/781 [==============================] - 19s 24ms/step - loss: 2.4175e-05 - mse: 3.3313e-05 - val_loss: 2.7165e-05 - val_mse: 3.9248e-05\n",
      "Epoch 217/500\n",
      "781/781 [==============================] - 18s 23ms/step - loss: 3.0983e-05 - mse: 4.7000e-05 - val_loss: 3.2367e-05 - val_mse: 4.9696e-05\n",
      "Epoch 218/500\n",
      "781/781 [==============================] - 19s 24ms/step - loss: 2.5416e-05 - mse: 3.5883e-05 - val_loss: 2.4104e-05 - val_mse: 3.3188e-05\n",
      "Epoch 219/500\n",
      "781/781 [==============================] - 19s 24ms/step - loss: 2.7654e-05 - mse: 4.0447e-05 - val_loss: 3.6331e-05 - val_mse: 5.7773e-05\n",
      "Epoch 220/500\n",
      "781/781 [==============================] - 18s 23ms/step - loss: 2.9113e-05 - mse: 4.3369e-05 - val_loss: 2.1802e-05 - val_mse: 2.8687e-05\n",
      "Epoch 221/500\n",
      "781/781 [==============================] - 19s 24ms/step - loss: 2.4418e-05 - mse: 3.4052e-05 - val_loss: 2.4861e-05 - val_mse: 3.4921e-05\n",
      "Epoch 222/500\n",
      "781/781 [==============================] - 18s 23ms/step - loss: 3.0564e-05 - mse: 4.6368e-05 - val_loss: 2.4518e-05 - val_mse: 3.4232e-05\n",
      "Epoch 223/500\n",
      "781/781 [==============================] - 18s 23ms/step - loss: 2.4366e-05 - mse: 3.4005e-05 - val_loss: 1.9520e-05 - val_mse: 2.4318e-05\n",
      "Epoch 224/500\n",
      "781/781 [==============================] - 18s 23ms/step - loss: 2.9107e-05 - mse: 4.3572e-05 - val_loss: 2.8285e-05 - val_mse: 4.1936e-05\n",
      "Epoch 225/500\n",
      "781/781 [==============================] - 18s 23ms/step - loss: 2.6888e-05 - mse: 3.9125e-05 - val_loss: 1.7952e-05 - val_mse: 2.1246e-05\n"
     ]
    },
    {
     "name": "stderr",
     "output_type": "stream",
     "text": [
      "WARNING:absl:Found untraced functions such as lstm_cell_5_layer_call_fn, lstm_cell_5_layer_call_and_return_conditional_losses, lstm_cell_6_layer_call_fn, lstm_cell_6_layer_call_and_return_conditional_losses, lstm_cell_5_layer_call_fn while saving (showing 5 of 10). These functions will not be directly callable after loading.\n"
     ]
    },
    {
     "name": "stdout",
     "output_type": "stream",
     "text": [
      "INFO:tensorflow:Assets written to: s2s_LSTM_256TimeD_4\\assets\n"
     ]
    },
    {
     "name": "stderr",
     "output_type": "stream",
     "text": [
      "INFO:tensorflow:Assets written to: s2s_LSTM_256TimeD_4\\assets\n"
     ]
    },
    {
     "name": "stdout",
     "output_type": "stream",
     "text": [
      "Epoch 226/500\n",
      "781/781 [==============================] - 18s 23ms/step - loss: 2.4980e-05 - mse: 3.5394e-05 - val_loss: 2.4004e-05 - val_mse: 3.3477e-05\n",
      "Epoch 227/500\n",
      "781/781 [==============================] - 19s 24ms/step - loss: 3.0165e-05 - mse: 4.5761e-05 - val_loss: 1.9996e-05 - val_mse: 2.5427e-05\n",
      "Epoch 228/500\n",
      "781/781 [==============================] - 18s 23ms/step - loss: 2.3228e-05 - mse: 3.1947e-05 - val_loss: 2.1850e-05 - val_mse: 2.9259e-05\n",
      "Epoch 229/500\n",
      "781/781 [==============================] - 18s 23ms/step - loss: 3.0240e-05 - mse: 4.6027e-05 - val_loss: 2.8563e-05 - val_mse: 4.2740e-05\n",
      "Epoch 230/500\n",
      "781/781 [==============================] - 18s 24ms/step - loss: 2.3978e-05 - mse: 3.3522e-05 - val_loss: 2.2819e-05 - val_mse: 3.1289e-05\n",
      "Epoch 231/500\n",
      "781/781 [==============================] - 18s 23ms/step - loss: 2.7268e-05 - mse: 4.0206e-05 - val_loss: 5.3260e-05 - val_mse: 9.2289e-05\n",
      "Epoch 232/500\n",
      "781/781 [==============================] - 18s 23ms/step - loss: 2.7360e-05 - mse: 4.0371e-05 - val_loss: 3.0827e-05 - val_mse: 4.7412e-05\n",
      "Epoch 233/500\n",
      "781/781 [==============================] - 19s 24ms/step - loss: 2.3786e-05 - mse: 3.3319e-05 - val_loss: 6.1174e-05 - val_mse: 1.0825e-04\n",
      "Epoch 234/500\n",
      "781/781 [==============================] - 18s 24ms/step - loss: 2.9983e-05 - mse: 4.5732e-05 - val_loss: 5.5110e-05 - val_mse: 9.6119e-05\n",
      "Epoch 235/500\n",
      "781/781 [==============================] - 19s 24ms/step - loss: 2.2655e-05 - mse: 3.1120e-05 - val_loss: 5.5779e-05 - val_mse: 9.7546e-05\n",
      "Epoch 236/500\n",
      "781/781 [==============================] - 18s 23ms/step - loss: 2.8581e-05 - mse: 4.3059e-05 - val_loss: 1.3584e-04 - val_mse: 2.5778e-04\n",
      "Epoch 237/500\n",
      "781/781 [==============================] - 18s 23ms/step - loss: 2.4911e-05 - mse: 3.5707e-05 - val_loss: 5.7324e-05 - val_mse: 1.0069e-04\n",
      "Epoch 238/500\n",
      "781/781 [==============================] - 18s 23ms/step - loss: 2.5007e-05 - mse: 3.6005e-05 - val_loss: 2.0253e-04 - val_mse: 3.9121e-04\n",
      "Epoch 239/500\n",
      "781/781 [==============================] - 18s 23ms/step - loss: 2.8282e-05 - mse: 4.2555e-05 - val_loss: 7.8241e-05 - val_mse: 1.4263e-04\n",
      "Epoch 240/500\n",
      "781/781 [==============================] - 19s 24ms/step - loss: 2.2456e-05 - mse: 3.0980e-05 - val_loss: 1.3859e-04 - val_mse: 2.6347e-04\n",
      "Epoch 241/500\n",
      "781/781 [==============================] - 18s 24ms/step - loss: 3.0009e-05 - mse: 4.6119e-05 - val_loss: 1.2953e-04 - val_mse: 2.4533e-04\n",
      "Epoch 242/500\n",
      "781/781 [==============================] - 18s 23ms/step - loss: 2.2014e-05 - mse: 3.0166e-05 - val_loss: 1.0294e-04 - val_mse: 1.9223e-04\n",
      "Epoch 243/500\n",
      "781/781 [==============================] - 18s 23ms/step - loss: 2.7948e-05 - mse: 4.2117e-05 - val_loss: 3.1518e-04 - val_mse: 6.1681e-04\n",
      "Epoch 244/500\n",
      "781/781 [==============================] - 18s 23ms/step - loss: 2.4540e-05 - mse: 3.5284e-05 - val_loss: 8.2673e-05 - val_mse: 1.5173e-04\n",
      "Epoch 245/500\n",
      "781/781 [==============================] - 18s 23ms/step - loss: 2.4529e-05 - mse: 3.5373e-05 - val_loss: 3.2299e-04 - val_mse: 6.3249e-04\n",
      "Epoch 246/500\n",
      "781/781 [==============================] - 18s 23ms/step - loss: 2.7845e-05 - mse: 4.1992e-05 - val_loss: 9.7672e-05 - val_mse: 1.8183e-04\n",
      "Epoch 247/500\n",
      "781/781 [==============================] - 18s 23ms/step - loss: 2.1685e-05 - mse: 2.9758e-05 - val_loss: 1.7164e-04 - val_mse: 3.2994e-04\n",
      "Epoch 248/500\n",
      "781/781 [==============================] - 18s 24ms/step - loss: 2.9569e-05 - mse: 4.5555e-05 - val_loss: 1.6016e-04 - val_mse: 3.0698e-04\n",
      "Epoch 249/500\n",
      "781/781 [==============================] - 18s 23ms/step - loss: 2.1730e-05 - mse: 2.9926e-05 - val_loss: 1.1680e-04 - val_mse: 2.2031e-04\n",
      "Epoch 250/500\n",
      "781/781 [==============================] - 18s 24ms/step - loss: 2.7217e-05 - mse: 4.0978e-05 - val_loss: 2.8996e-04 - val_mse: 5.6681e-04\n",
      "Epoch 251/500\n",
      "781/781 [==============================] - 18s 23ms/step - loss: 2.4214e-05 - mse: 3.4976e-05 - val_loss: 9.7834e-05 - val_mse: 1.8244e-04\n",
      "Epoch 252/500\n",
      "781/781 [==============================] - 18s 23ms/step - loss: 2.3942e-05 - mse: 3.4527e-05 - val_loss: 2.5435e-04 - val_mse: 4.9562e-04\n",
      "Epoch 253/500\n",
      "781/781 [==============================] - 19s 24ms/step - loss: 2.7664e-05 - mse: 4.1943e-05 - val_loss: 1.1894e-04 - val_mse: 2.2475e-04\n",
      "Epoch 254/500\n",
      "781/781 [==============================] - 18s 23ms/step - loss: 2.1068e-05 - mse: 2.8833e-05 - val_loss: 1.5642e-04 - val_mse: 2.9985e-04\n",
      "Epoch 255/500\n",
      "781/781 [==============================] - 18s 23ms/step - loss: 2.8723e-05 - mse: 4.4182e-05 - val_loss: 1.9346e-04 - val_mse: 3.7398e-04\n",
      "Epoch 256/500\n",
      "781/781 [==============================] - 19s 24ms/step - loss: 2.1839e-05 - mse: 3.0443e-05 - val_loss: 1.1461e-04 - val_mse: 2.1627e-04\n",
      "Epoch 257/500\n",
      "781/781 [==============================] - 18s 23ms/step - loss: 2.5854e-05 - mse: 3.8553e-05 - val_loss: 2.8261e-04 - val_mse: 5.5240e-04\n",
      "CPU times: total: 1h 37min 50s\n",
      "Wall time: 1h 28min 13s\n"
     ]
    },
    {
     "data": {
      "text/plain": [
       "<keras.callbacks.History at 0x1ed315c4430>"
      ]
     },
     "execution_count": 65,
     "metadata": {},
     "output_type": "execute_result"
    }
   ],
   "source": [
    "%%time\n",
    "\n",
    "\n",
    "#________________________________ LSTM\n",
    "\n",
    "name_model = \"s2s_LSTM_256TimeD_4\"\n",
    "\n",
    "keras.backend.clear_session()\n",
    "\n",
    "# Definir hiperparâmetros\n",
    "learning_rate = 0.0001\n",
    "l2_reg = 0.00001\n",
    "dropout_rate = 0.001\n",
    "func_act='sigmoid'\n",
    "\n",
    "batch_size = 128\n",
    "window_size = 32\n",
    "num_inputs  = train.shape[1]\n",
    "num_targets = 3\n",
    "stride = 3\n",
    "sampling_rate=1\n",
    "\n",
    "\n",
    "\n",
    "# Definir a entrada da rede\n",
    "inputs = keras.layers.Input(shape=[None, num_inputs])\n",
    "\n",
    "# LSTM\n",
    "reshaped_inputs = keras.layers.Reshape((-1, num_inputs))(inputs)\n",
    "lstm = keras.layers.LSTM(256, return_sequences=True, kernel_regularizer=keras.regularizers.L2(l2_reg))(reshaped_inputs)\n",
    "lstm = keras.layers.LSTM(256, return_sequences=True, kernel_regularizer=keras.regularizers.L2(l2_reg))(reshaped_inputs)\n",
    "lstm = keras.layers.Dropout(rate=dropout_rate)(lstm)\n",
    "lstm = keras.layers.LSTM(256, return_sequences=True, kernel_regularizer=keras.regularizers.L2(l2_reg))(lstm)\n",
    "lstm = keras.layers.LSTM(256, return_sequences=True, kernel_regularizer=keras.regularizers.L2(l2_reg))(reshaped_inputs)\n",
    "lstm = keras.layers.Dropout(rate=dropout_rate)(lstm)\n",
    "lstm = keras.layers.LSTM(256, return_sequences=True, kernel_regularizer=keras.regularizers.L2(l2_reg))(lstm)\n",
    "lstm = keras.layers.LSTM(256, return_sequences=True, kernel_regularizer=keras.regularizers.L2(l2_reg))(reshaped_inputs)\n",
    "lstm = keras.layers.Dropout(rate=dropout_rate)(lstm)\n",
    "\n",
    "# TimeDistributed Dense\n",
    "timed = keras.layers.TimeDistributed(keras.layers.Dense(256))(lstm)\n",
    "timed = keras.layers.TimeDistributed(keras.layers.Dropout(rate=dropout_rate))(timed)\n",
    "\n",
    "\n",
    "# LSTM\n",
    "lstm = keras.layers.LSTM(256, return_sequences=False, kernel_regularizer=keras.regularizers.L2(l2_reg))(timed)\n",
    "output_lstm = keras.layers.Dense(num_targets)(lstm)\n",
    "\n",
    "\n",
    "# Definir o modelo com a entrada e saída\n",
    "model = keras.models.Model(inputs=inputs, outputs=output_lstm)\n",
    "\n",
    "# Definir o otimizador com taxa de aprendizado definida\n",
    "optimizer = keras.optimizers.Adam(learning_rate=learning_rate)\n",
    "\n",
    "\n",
    "# Compilar o modelo com a função de perda, otimizador e métrica desejados\n",
    "model.compile(loss=keras.losses.logcosh, optimizer=optimizer, metrics=[\"mse\"])\n",
    "\n",
    "# Adicionar callbacks para o modelo\n",
    "model_checkpoint = keras.callbacks.ModelCheckpoint(name_model, save_best_only=True)\n",
    "early_stopping = keras.callbacks.EarlyStopping(patience=32)\n",
    "\n",
    "# Treinar o modelo\n",
    "model.fit(train_set,\n",
    "          steps_per_epoch= len(train)//batch_size,\n",
    "          epochs=500,\n",
    "          validation_data=valid_set,\n",
    "          validation_steps=len(valid)//batch_size,\n",
    "          callbacks=[early_stopping,\n",
    "                     model_checkpoint])"
   ]
  },
  {
   "cell_type": "code",
   "execution_count": 66,
   "id": "cd225236",
   "metadata": {},
   "outputs": [
    {
     "data": {
      "text/plain": [
       "'s2s_LSTM_256TimeD_4'"
      ]
     },
     "execution_count": 66,
     "metadata": {},
     "output_type": "execute_result"
    }
   ],
   "source": [
    "name_model"
   ]
  },
  {
   "cell_type": "code",
   "execution_count": 67,
   "id": "08a9bfda",
   "metadata": {},
   "outputs": [
    {
     "name": "stdout",
     "output_type": "stream",
     "text": [
      "160/160 [==============================] - 2s 11ms/step - loss: 5.9971e-05 - mse: 1.0705e-04\n"
     ]
    }
   ],
   "source": [
    "loss, metric = model.evaluate(test_set, steps=len(test)//batch_size)"
   ]
  },
  {
   "cell_type": "code",
   "execution_count": 68,
   "id": "bbfad016",
   "metadata": {},
   "outputs": [],
   "source": [
    "model = keras.models.load_model(name_model)"
   ]
  },
  {
   "cell_type": "code",
   "execution_count": 69,
   "id": "c7e6097c",
   "metadata": {},
   "outputs": [
    {
     "name": "stdout",
     "output_type": "stream",
     "text": [
      "160/160 [==============================] - 3s 11ms/step - loss: 2.7936e-05 - mse: 4.1222e-05\n"
     ]
    }
   ],
   "source": [
    "loss, metric = model.evaluate(test_set, steps=len(test)//batch_size)"
   ]
  },
  {
   "cell_type": "code",
   "execution_count": null,
   "id": "5a5dfaf1",
   "metadata": {},
   "outputs": [],
   "source": []
  },
  {
   "cell_type": "code",
   "execution_count": 50,
   "id": "aab5ffa0",
   "metadata": {
    "scrolled": true
   },
   "outputs": [
    {
     "name": "stdout",
     "output_type": "stream",
     "text": [
      "Epoch 1/500\n",
      "781/781 [==============================] - 16s 17ms/step - loss: 0.0033 - mse: 0.0045 - val_loss: 0.0013 - val_mse: 5.5616e-04\n"
     ]
    },
    {
     "name": "stderr",
     "output_type": "stream",
     "text": [
      "WARNING:absl:Found untraced functions such as lstm_cell_layer_call_and_return_conditional_losses, lstm_cell_layer_call_fn, lstm_cell_1_layer_call_and_return_conditional_losses, lstm_cell_1_layer_call_fn, lstm_cell_layer_call_fn while saving (showing 5 of 10). These functions will not be directly callable after loading.\n"
     ]
    },
    {
     "name": "stdout",
     "output_type": "stream",
     "text": [
      "INFO:tensorflow:Assets written to: s2s_LSTM_256TimeD_5\\assets\n"
     ]
    },
    {
     "name": "stderr",
     "output_type": "stream",
     "text": [
      "INFO:tensorflow:Assets written to: s2s_LSTM_256TimeD_5\\assets\n"
     ]
    },
    {
     "name": "stdout",
     "output_type": "stream",
     "text": [
      "Epoch 2/500\n",
      "781/781 [==============================] - 12s 15ms/step - loss: 0.0012 - mse: 5.3075e-04 - val_loss: 9.6147e-04 - val_mse: 1.5550e-04\n"
     ]
    },
    {
     "name": "stderr",
     "output_type": "stream",
     "text": [
      "WARNING:absl:Found untraced functions such as lstm_cell_layer_call_and_return_conditional_losses, lstm_cell_layer_call_fn, lstm_cell_1_layer_call_and_return_conditional_losses, lstm_cell_1_layer_call_fn, lstm_cell_layer_call_fn while saving (showing 5 of 10). These functions will not be directly callable after loading.\n"
     ]
    },
    {
     "name": "stdout",
     "output_type": "stream",
     "text": [
      "INFO:tensorflow:Assets written to: s2s_LSTM_256TimeD_5\\assets\n"
     ]
    },
    {
     "name": "stderr",
     "output_type": "stream",
     "text": [
      "INFO:tensorflow:Assets written to: s2s_LSTM_256TimeD_5\\assets\n"
     ]
    },
    {
     "name": "stdout",
     "output_type": "stream",
     "text": [
      "Epoch 3/500\n",
      "781/781 [==============================] - 12s 15ms/step - loss: 9.8844e-04 - mse: 3.1558e-04 - val_loss: 8.3208e-04 - val_mse: 1.0557e-04\n"
     ]
    },
    {
     "name": "stderr",
     "output_type": "stream",
     "text": [
      "WARNING:absl:Found untraced functions such as lstm_cell_layer_call_and_return_conditional_losses, lstm_cell_layer_call_fn, lstm_cell_1_layer_call_and_return_conditional_losses, lstm_cell_1_layer_call_fn, lstm_cell_layer_call_fn while saving (showing 5 of 10). These functions will not be directly callable after loading.\n"
     ]
    },
    {
     "name": "stdout",
     "output_type": "stream",
     "text": [
      "INFO:tensorflow:Assets written to: s2s_LSTM_256TimeD_5\\assets\n"
     ]
    },
    {
     "name": "stderr",
     "output_type": "stream",
     "text": [
      "INFO:tensorflow:Assets written to: s2s_LSTM_256TimeD_5\\assets\n"
     ]
    },
    {
     "name": "stdout",
     "output_type": "stream",
     "text": [
      "Epoch 4/500\n",
      "781/781 [==============================] - 12s 15ms/step - loss: 8.4938e-04 - mse: 2.3440e-04 - val_loss: 7.3181e-04 - val_mse: 9.0172e-05\n"
     ]
    },
    {
     "name": "stderr",
     "output_type": "stream",
     "text": [
      "WARNING:absl:Found untraced functions such as lstm_cell_layer_call_and_return_conditional_losses, lstm_cell_layer_call_fn, lstm_cell_1_layer_call_and_return_conditional_losses, lstm_cell_1_layer_call_fn, lstm_cell_layer_call_fn while saving (showing 5 of 10). These functions will not be directly callable after loading.\n"
     ]
    },
    {
     "name": "stdout",
     "output_type": "stream",
     "text": [
      "INFO:tensorflow:Assets written to: s2s_LSTM_256TimeD_5\\assets\n"
     ]
    },
    {
     "name": "stderr",
     "output_type": "stream",
     "text": [
      "INFO:tensorflow:Assets written to: s2s_LSTM_256TimeD_5\\assets\n"
     ]
    },
    {
     "name": "stdout",
     "output_type": "stream",
     "text": [
      "Epoch 5/500\n",
      "781/781 [==============================] - 13s 16ms/step - loss: 7.5946e-04 - mse: 2.2807e-04 - val_loss: 6.5485e-04 - val_mse: 9.8090e-05\n"
     ]
    },
    {
     "name": "stderr",
     "output_type": "stream",
     "text": [
      "WARNING:absl:Found untraced functions such as lstm_cell_layer_call_and_return_conditional_losses, lstm_cell_layer_call_fn, lstm_cell_1_layer_call_and_return_conditional_losses, lstm_cell_1_layer_call_fn, lstm_cell_layer_call_fn while saving (showing 5 of 10). These functions will not be directly callable after loading.\n"
     ]
    },
    {
     "name": "stdout",
     "output_type": "stream",
     "text": [
      "INFO:tensorflow:Assets written to: s2s_LSTM_256TimeD_5\\assets\n"
     ]
    },
    {
     "name": "stderr",
     "output_type": "stream",
     "text": [
      "INFO:tensorflow:Assets written to: s2s_LSTM_256TimeD_5\\assets\n"
     ]
    },
    {
     "name": "stdout",
     "output_type": "stream",
     "text": [
      "Epoch 6/500\n",
      "781/781 [==============================] - 12s 16ms/step - loss: 6.9081e-04 - mse: 2.4109e-04 - val_loss: 5.7658e-04 - val_mse: 8.0568e-05\n"
     ]
    },
    {
     "name": "stderr",
     "output_type": "stream",
     "text": [
      "WARNING:absl:Found untraced functions such as lstm_cell_layer_call_and_return_conditional_losses, lstm_cell_layer_call_fn, lstm_cell_1_layer_call_and_return_conditional_losses, lstm_cell_1_layer_call_fn, lstm_cell_layer_call_fn while saving (showing 5 of 10). These functions will not be directly callable after loading.\n"
     ]
    },
    {
     "name": "stdout",
     "output_type": "stream",
     "text": [
      "INFO:tensorflow:Assets written to: s2s_LSTM_256TimeD_5\\assets\n"
     ]
    },
    {
     "name": "stderr",
     "output_type": "stream",
     "text": [
      "INFO:tensorflow:Assets written to: s2s_LSTM_256TimeD_5\\assets\n"
     ]
    },
    {
     "name": "stdout",
     "output_type": "stream",
     "text": [
      "Epoch 7/500\n",
      "781/781 [==============================] - 13s 17ms/step - loss: 6.2096e-04 - mse: 2.3014e-04 - val_loss: 5.2910e-04 - val_mse: 1.0463e-04\n"
     ]
    },
    {
     "name": "stderr",
     "output_type": "stream",
     "text": [
      "WARNING:absl:Found untraced functions such as lstm_cell_layer_call_and_return_conditional_losses, lstm_cell_layer_call_fn, lstm_cell_1_layer_call_and_return_conditional_losses, lstm_cell_1_layer_call_fn, lstm_cell_layer_call_fn while saving (showing 5 of 10). These functions will not be directly callable after loading.\n"
     ]
    },
    {
     "name": "stdout",
     "output_type": "stream",
     "text": [
      "INFO:tensorflow:Assets written to: s2s_LSTM_256TimeD_5\\assets\n"
     ]
    },
    {
     "name": "stderr",
     "output_type": "stream",
     "text": [
      "INFO:tensorflow:Assets written to: s2s_LSTM_256TimeD_5\\assets\n"
     ]
    },
    {
     "name": "stdout",
     "output_type": "stream",
     "text": [
      "Epoch 8/500\n",
      "781/781 [==============================] - 13s 16ms/step - loss: 5.5609e-04 - mse: 2.1098e-04 - val_loss: 5.5219e-04 - val_mse: 2.5325e-04\n",
      "Epoch 9/500\n",
      "781/781 [==============================] - 12s 16ms/step - loss: 4.9670e-04 - mse: 1.8788e-04 - val_loss: 6.5370e-04 - val_mse: 5.4545e-04\n",
      "Epoch 10/500\n",
      "781/781 [==============================] - 13s 17ms/step - loss: 4.4713e-04 - mse: 1.7243e-04 - val_loss: 8.1541e-04 - val_mse: 9.4710e-04\n",
      "Epoch 11/500\n",
      "781/781 [==============================] - 13s 17ms/step - loss: 4.0640e-04 - mse: 1.6419e-04 - val_loss: 9.5623e-04 - val_mse: 0.0013\n",
      "Epoch 12/500\n",
      "781/781 [==============================] - 13s 17ms/step - loss: 3.7025e-04 - mse: 1.5574e-04 - val_loss: 9.7397e-04 - val_mse: 0.0014\n",
      "Epoch 13/500\n",
      "781/781 [==============================] - 12s 16ms/step - loss: 3.3854e-04 - mse: 1.4789e-04 - val_loss: 8.5909e-04 - val_mse: 0.0012\n",
      "Epoch 14/500\n",
      "781/781 [==============================] - 13s 17ms/step - loss: 3.1075e-04 - mse: 1.4054e-04 - val_loss: 6.7839e-04 - val_mse: 8.9746e-04\n",
      "Epoch 15/500\n",
      "781/781 [==============================] - 13s 16ms/step - loss: 2.8720e-04 - mse: 1.3535e-04 - val_loss: 4.6794e-04 - val_mse: 5.1562e-04\n"
     ]
    },
    {
     "name": "stderr",
     "output_type": "stream",
     "text": [
      "WARNING:absl:Found untraced functions such as lstm_cell_layer_call_and_return_conditional_losses, lstm_cell_layer_call_fn, lstm_cell_1_layer_call_and_return_conditional_losses, lstm_cell_1_layer_call_fn, lstm_cell_layer_call_fn while saving (showing 5 of 10). These functions will not be directly callable after loading.\n"
     ]
    },
    {
     "name": "stdout",
     "output_type": "stream",
     "text": [
      "INFO:tensorflow:Assets written to: s2s_LSTM_256TimeD_5\\assets\n"
     ]
    },
    {
     "name": "stderr",
     "output_type": "stream",
     "text": [
      "INFO:tensorflow:Assets written to: s2s_LSTM_256TimeD_5\\assets\n"
     ]
    },
    {
     "name": "stdout",
     "output_type": "stream",
     "text": [
      "Epoch 16/500\n",
      "781/781 [==============================] - 13s 17ms/step - loss: 2.6558e-04 - mse: 1.2862e-04 - val_loss: 3.0757e-04 - val_mse: 2.2914e-04\n"
     ]
    },
    {
     "name": "stderr",
     "output_type": "stream",
     "text": [
      "WARNING:absl:Found untraced functions such as lstm_cell_layer_call_and_return_conditional_losses, lstm_cell_layer_call_fn, lstm_cell_1_layer_call_and_return_conditional_losses, lstm_cell_1_layer_call_fn, lstm_cell_layer_call_fn while saving (showing 5 of 10). These functions will not be directly callable after loading.\n"
     ]
    },
    {
     "name": "stdout",
     "output_type": "stream",
     "text": [
      "INFO:tensorflow:Assets written to: s2s_LSTM_256TimeD_5\\assets\n"
     ]
    },
    {
     "name": "stderr",
     "output_type": "stream",
     "text": [
      "INFO:tensorflow:Assets written to: s2s_LSTM_256TimeD_5\\assets\n"
     ]
    },
    {
     "name": "stdout",
     "output_type": "stream",
     "text": [
      "Epoch 17/500\n",
      "781/781 [==============================] - 13s 17ms/step - loss: 2.4692e-04 - mse: 1.2338e-04 - val_loss: 2.1590e-04 - val_mse: 7.6004e-05\n"
     ]
    },
    {
     "name": "stderr",
     "output_type": "stream",
     "text": [
      "WARNING:absl:Found untraced functions such as lstm_cell_layer_call_and_return_conditional_losses, lstm_cell_layer_call_fn, lstm_cell_1_layer_call_and_return_conditional_losses, lstm_cell_1_layer_call_fn, lstm_cell_layer_call_fn while saving (showing 5 of 10). These functions will not be directly callable after loading.\n"
     ]
    },
    {
     "name": "stdout",
     "output_type": "stream",
     "text": [
      "INFO:tensorflow:Assets written to: s2s_LSTM_256TimeD_5\\assets\n"
     ]
    },
    {
     "name": "stderr",
     "output_type": "stream",
     "text": [
      "INFO:tensorflow:Assets written to: s2s_LSTM_256TimeD_5\\assets\n"
     ]
    },
    {
     "name": "stdout",
     "output_type": "stream",
     "text": [
      "Epoch 18/500\n",
      "781/781 [==============================] - 13s 17ms/step - loss: 2.3029e-04 - mse: 1.1842e-04 - val_loss: 1.8555e-04 - val_mse: 4.2086e-05\n"
     ]
    },
    {
     "name": "stderr",
     "output_type": "stream",
     "text": [
      "WARNING:absl:Found untraced functions such as lstm_cell_layer_call_and_return_conditional_losses, lstm_cell_layer_call_fn, lstm_cell_1_layer_call_and_return_conditional_losses, lstm_cell_1_layer_call_fn, lstm_cell_layer_call_fn while saving (showing 5 of 10). These functions will not be directly callable after loading.\n"
     ]
    },
    {
     "name": "stdout",
     "output_type": "stream",
     "text": [
      "INFO:tensorflow:Assets written to: s2s_LSTM_256TimeD_5\\assets\n"
     ]
    },
    {
     "name": "stderr",
     "output_type": "stream",
     "text": [
      "INFO:tensorflow:Assets written to: s2s_LSTM_256TimeD_5\\assets\n"
     ]
    },
    {
     "name": "stdout",
     "output_type": "stream",
     "text": [
      "Epoch 19/500\n",
      "781/781 [==============================] - 13s 16ms/step - loss: 2.1498e-04 - mse: 1.1315e-04 - val_loss: 2.0545e-04 - val_mse: 1.0610e-04\n",
      "Epoch 20/500\n",
      "781/781 [==============================] - 14s 18ms/step - loss: 2.0322e-04 - mse: 1.1245e-04 - val_loss: 2.4307e-04 - val_mse: 2.0301e-04\n",
      "Epoch 21/500\n",
      "781/781 [==============================] - 13s 17ms/step - loss: 1.9022e-04 - mse: 1.0689e-04 - val_loss: 2.8800e-04 - val_mse: 3.1239e-04\n",
      "Epoch 22/500\n",
      "781/781 [==============================] - 14s 17ms/step - loss: 1.7963e-04 - mse: 1.0419e-04 - val_loss: 3.1699e-04 - val_mse: 3.8786e-04\n",
      "Epoch 23/500\n",
      "781/781 [==============================] - 13s 16ms/step - loss: 1.7097e-04 - mse: 1.0328e-04 - val_loss: 3.3140e-04 - val_mse: 4.3217e-04\n",
      "Epoch 24/500\n",
      "781/781 [==============================] - 14s 18ms/step - loss: 1.6204e-04 - mse: 9.9981e-05 - val_loss: 2.8947e-04 - val_mse: 3.6204e-04\n",
      "Epoch 25/500\n",
      "781/781 [==============================] - 14s 18ms/step - loss: 1.5413e-04 - mse: 9.7233e-05 - val_loss: 2.2883e-04 - val_mse: 2.5302e-04\n",
      "Epoch 26/500\n",
      "781/781 [==============================] - 13s 16ms/step - loss: 1.4800e-04 - mse: 9.6634e-05 - val_loss: 1.6972e-04 - val_mse: 1.4574e-04\n"
     ]
    },
    {
     "name": "stderr",
     "output_type": "stream",
     "text": [
      "WARNING:absl:Found untraced functions such as lstm_cell_layer_call_and_return_conditional_losses, lstm_cell_layer_call_fn, lstm_cell_1_layer_call_and_return_conditional_losses, lstm_cell_1_layer_call_fn, lstm_cell_layer_call_fn while saving (showing 5 of 10). These functions will not be directly callable after loading.\n"
     ]
    },
    {
     "name": "stdout",
     "output_type": "stream",
     "text": [
      "INFO:tensorflow:Assets written to: s2s_LSTM_256TimeD_5\\assets\n"
     ]
    },
    {
     "name": "stderr",
     "output_type": "stream",
     "text": [
      "INFO:tensorflow:Assets written to: s2s_LSTM_256TimeD_5\\assets\n"
     ]
    },
    {
     "name": "stdout",
     "output_type": "stream",
     "text": [
      "Epoch 27/500\n",
      "781/781 [==============================] - 13s 17ms/step - loss: 1.4005e-04 - mse: 9.1188e-05 - val_loss: 1.1832e-04 - val_mse: 5.2774e-05\n"
     ]
    },
    {
     "name": "stderr",
     "output_type": "stream",
     "text": [
      "WARNING:absl:Found untraced functions such as lstm_cell_layer_call_and_return_conditional_losses, lstm_cell_layer_call_fn, lstm_cell_1_layer_call_and_return_conditional_losses, lstm_cell_1_layer_call_fn, lstm_cell_layer_call_fn while saving (showing 5 of 10). These functions will not be directly callable after loading.\n"
     ]
    },
    {
     "name": "stdout",
     "output_type": "stream",
     "text": [
      "INFO:tensorflow:Assets written to: s2s_LSTM_256TimeD_5\\assets\n"
     ]
    },
    {
     "name": "stderr",
     "output_type": "stream",
     "text": [
      "INFO:tensorflow:Assets written to: s2s_LSTM_256TimeD_5\\assets\n"
     ]
    },
    {
     "name": "stdout",
     "output_type": "stream",
     "text": [
      "Epoch 28/500\n",
      "781/781 [==============================] - 13s 17ms/step - loss: 1.3608e-04 - mse: 9.2702e-05 - val_loss: 1.0629e-04 - val_mse: 3.7511e-05\n"
     ]
    },
    {
     "name": "stderr",
     "output_type": "stream",
     "text": [
      "WARNING:absl:Found untraced functions such as lstm_cell_layer_call_and_return_conditional_losses, lstm_cell_layer_call_fn, lstm_cell_1_layer_call_and_return_conditional_losses, lstm_cell_1_layer_call_fn, lstm_cell_layer_call_fn while saving (showing 5 of 10). These functions will not be directly callable after loading.\n"
     ]
    },
    {
     "name": "stdout",
     "output_type": "stream",
     "text": [
      "INFO:tensorflow:Assets written to: s2s_LSTM_256TimeD_5\\assets\n"
     ]
    },
    {
     "name": "stderr",
     "output_type": "stream",
     "text": [
      "INFO:tensorflow:Assets written to: s2s_LSTM_256TimeD_5\\assets\n"
     ]
    },
    {
     "name": "stdout",
     "output_type": "stream",
     "text": [
      "Epoch 29/500\n",
      "781/781 [==============================] - 14s 18ms/step - loss: 1.2944e-04 - mse: 8.7902e-05 - val_loss: 1.2113e-04 - val_mse: 7.5232e-05\n",
      "Epoch 30/500\n",
      "781/781 [==============================] - 13s 16ms/step - loss: 1.2542e-04 - mse: 8.7697e-05 - val_loss: 1.4898e-04 - val_mse: 1.3833e-04\n",
      "Epoch 31/500\n",
      "781/781 [==============================] - 13s 17ms/step - loss: 1.2072e-04 - mse: 8.5443e-05 - val_loss: 1.7615e-04 - val_mse: 1.9949e-04\n",
      "Epoch 32/500\n",
      "781/781 [==============================] - 13s 16ms/step - loss: 1.1668e-04 - mse: 8.4004e-05 - val_loss: 1.8824e-04 - val_mse: 2.3007e-04\n",
      "Epoch 33/500\n",
      "781/781 [==============================] - 14s 17ms/step - loss: 1.1262e-04 - mse: 8.2106e-05 - val_loss: 1.8190e-04 - val_mse: 2.2339e-04\n",
      "Epoch 34/500\n",
      "781/781 [==============================] - 13s 17ms/step - loss: 1.1012e-04 - mse: 8.2862e-05 - val_loss: 1.5479e-04 - val_mse: 1.7473e-04\n",
      "Epoch 35/500\n",
      "781/781 [==============================] - 13s 17ms/step - loss: 1.0579e-04 - mse: 7.9566e-05 - val_loss: 1.2102e-04 - val_mse: 1.1245e-04\n",
      "Epoch 36/500\n",
      "781/781 [==============================] - 13s 17ms/step - loss: 1.0306e-04 - mse: 7.9154e-05 - val_loss: 9.6870e-05 - val_mse: 6.9084e-05\n"
     ]
    },
    {
     "name": "stderr",
     "output_type": "stream",
     "text": [
      "WARNING:absl:Found untraced functions such as lstm_cell_layer_call_and_return_conditional_losses, lstm_cell_layer_call_fn, lstm_cell_1_layer_call_and_return_conditional_losses, lstm_cell_1_layer_call_fn, lstm_cell_layer_call_fn while saving (showing 5 of 10). These functions will not be directly callable after loading.\n"
     ]
    },
    {
     "name": "stdout",
     "output_type": "stream",
     "text": [
      "INFO:tensorflow:Assets written to: s2s_LSTM_256TimeD_5\\assets\n"
     ]
    },
    {
     "name": "stderr",
     "output_type": "stream",
     "text": [
      "INFO:tensorflow:Assets written to: s2s_LSTM_256TimeD_5\\assets\n"
     ]
    },
    {
     "name": "stdout",
     "output_type": "stream",
     "text": [
      "Epoch 37/500\n",
      "781/781 [==============================] - 14s 17ms/step - loss: 9.9836e-05 - mse: 7.7387e-05 - val_loss: 7.9222e-05 - val_mse: 3.8347e-05\n"
     ]
    },
    {
     "name": "stderr",
     "output_type": "stream",
     "text": [
      "WARNING:absl:Found untraced functions such as lstm_cell_layer_call_and_return_conditional_losses, lstm_cell_layer_call_fn, lstm_cell_1_layer_call_and_return_conditional_losses, lstm_cell_1_layer_call_fn, lstm_cell_layer_call_fn while saving (showing 5 of 10). These functions will not be directly callable after loading.\n"
     ]
    },
    {
     "name": "stdout",
     "output_type": "stream",
     "text": [
      "INFO:tensorflow:Assets written to: s2s_LSTM_256TimeD_5\\assets\n"
     ]
    },
    {
     "name": "stderr",
     "output_type": "stream",
     "text": [
      "INFO:tensorflow:Assets written to: s2s_LSTM_256TimeD_5\\assets\n"
     ]
    },
    {
     "name": "stdout",
     "output_type": "stream",
     "text": [
      "Epoch 38/500\n",
      "781/781 [==============================] - 14s 18ms/step - loss: 9.7311e-05 - mse: 7.6663e-05 - val_loss: 7.3848e-05 - val_mse: 3.1828e-05\n"
     ]
    },
    {
     "name": "stderr",
     "output_type": "stream",
     "text": [
      "WARNING:absl:Found untraced functions such as lstm_cell_layer_call_and_return_conditional_losses, lstm_cell_layer_call_fn, lstm_cell_1_layer_call_and_return_conditional_losses, lstm_cell_1_layer_call_fn, lstm_cell_layer_call_fn while saving (showing 5 of 10). These functions will not be directly callable after loading.\n"
     ]
    },
    {
     "name": "stdout",
     "output_type": "stream",
     "text": [
      "INFO:tensorflow:Assets written to: s2s_LSTM_256TimeD_5\\assets\n"
     ]
    },
    {
     "name": "stderr",
     "output_type": "stream",
     "text": [
      "INFO:tensorflow:Assets written to: s2s_LSTM_256TimeD_5\\assets\n"
     ]
    },
    {
     "name": "stdout",
     "output_type": "stream",
     "text": [
      "Epoch 39/500\n",
      "781/781 [==============================] - 13s 17ms/step - loss: 9.3974e-05 - mse: 7.4073e-05 - val_loss: 7.6480e-05 - val_mse: 4.1145e-05\n",
      "Epoch 40/500\n",
      "781/781 [==============================] - 13s 17ms/step - loss: 9.2621e-05 - mse: 7.5276e-05 - val_loss: 7.9859e-05 - val_mse: 5.1708e-05\n",
      "Epoch 41/500\n",
      "781/781 [==============================] - 14s 18ms/step - loss: 8.9797e-05 - mse: 7.3268e-05 - val_loss: 7.8291e-05 - val_mse: 5.2088e-05\n",
      "Epoch 42/500\n",
      "781/781 [==============================] - 14s 18ms/step - loss: 8.7324e-05 - mse: 7.1716e-05 - val_loss: 7.2088e-05 - val_mse: 4.2960e-05\n"
     ]
    },
    {
     "name": "stderr",
     "output_type": "stream",
     "text": [
      "WARNING:absl:Found untraced functions such as lstm_cell_layer_call_and_return_conditional_losses, lstm_cell_layer_call_fn, lstm_cell_1_layer_call_and_return_conditional_losses, lstm_cell_1_layer_call_fn, lstm_cell_layer_call_fn while saving (showing 5 of 10). These functions will not be directly callable after loading.\n"
     ]
    },
    {
     "name": "stdout",
     "output_type": "stream",
     "text": [
      "INFO:tensorflow:Assets written to: s2s_LSTM_256TimeD_5\\assets\n"
     ]
    },
    {
     "name": "stderr",
     "output_type": "stream",
     "text": [
      "INFO:tensorflow:Assets written to: s2s_LSTM_256TimeD_5\\assets\n"
     ]
    },
    {
     "name": "stdout",
     "output_type": "stream",
     "text": [
      "Epoch 43/500\n",
      "781/781 [==============================] - 14s 18ms/step - loss: 8.5621e-05 - mse: 7.1531e-05 - val_loss: 6.5021e-05 - val_mse: 3.1920e-05\n"
     ]
    },
    {
     "name": "stderr",
     "output_type": "stream",
     "text": [
      "WARNING:absl:Found untraced functions such as lstm_cell_layer_call_and_return_conditional_losses, lstm_cell_layer_call_fn, lstm_cell_1_layer_call_and_return_conditional_losses, lstm_cell_1_layer_call_fn, lstm_cell_layer_call_fn while saving (showing 5 of 10). These functions will not be directly callable after loading.\n"
     ]
    },
    {
     "name": "stdout",
     "output_type": "stream",
     "text": [
      "INFO:tensorflow:Assets written to: s2s_LSTM_256TimeD_5\\assets\n"
     ]
    },
    {
     "name": "stderr",
     "output_type": "stream",
     "text": [
      "INFO:tensorflow:Assets written to: s2s_LSTM_256TimeD_5\\assets\n"
     ]
    },
    {
     "name": "stdout",
     "output_type": "stream",
     "text": [
      "Epoch 44/500\n",
      "781/781 [==============================] - 14s 18ms/step - loss: 8.4474e-05 - mse: 7.2287e-05 - val_loss: 6.2757e-05 - val_mse: 3.0292e-05\n"
     ]
    },
    {
     "name": "stderr",
     "output_type": "stream",
     "text": [
      "WARNING:absl:Found untraced functions such as lstm_cell_layer_call_and_return_conditional_losses, lstm_cell_layer_call_fn, lstm_cell_1_layer_call_and_return_conditional_losses, lstm_cell_1_layer_call_fn, lstm_cell_layer_call_fn while saving (showing 5 of 10). These functions will not be directly callable after loading.\n"
     ]
    },
    {
     "name": "stdout",
     "output_type": "stream",
     "text": [
      "INFO:tensorflow:Assets written to: s2s_LSTM_256TimeD_5\\assets\n"
     ]
    },
    {
     "name": "stderr",
     "output_type": "stream",
     "text": [
      "INFO:tensorflow:Assets written to: s2s_LSTM_256TimeD_5\\assets\n"
     ]
    },
    {
     "name": "stdout",
     "output_type": "stream",
     "text": [
      "Epoch 45/500\n",
      "781/781 [==============================] - 15s 19ms/step - loss: 8.1142e-05 - mse: 6.8474e-05 - val_loss: 7.0957e-05 - val_mse: 4.9430e-05\n",
      "Epoch 46/500\n",
      "781/781 [==============================] - 14s 18ms/step - loss: 8.0575e-05 - mse: 7.0078e-05 - val_loss: 8.4059e-05 - val_mse: 7.8240e-05\n",
      "Epoch 47/500\n",
      "781/781 [==============================] - 15s 19ms/step - loss: 7.8236e-05 - mse: 6.7987e-05 - val_loss: 1.1806e-04 - val_mse: 1.4871e-04\n",
      "Epoch 48/500\n",
      "781/781 [==============================] - 15s 20ms/step - loss: 7.7078e-05 - mse: 6.8137e-05 - val_loss: 1.4549e-04 - val_mse: 2.0589e-04\n",
      "Epoch 49/500\n",
      "781/781 [==============================] - 14s 18ms/step - loss: 7.5701e-05 - mse: 6.7724e-05 - val_loss: 1.6605e-04 - val_mse: 2.4929e-04\n",
      "Epoch 50/500\n",
      "781/781 [==============================] - 14s 18ms/step - loss: 7.4126e-05 - mse: 6.6815e-05 - val_loss: 1.6122e-04 - val_mse: 2.4181e-04\n",
      "Epoch 51/500\n",
      "781/781 [==============================] - 14s 17ms/step - loss: 7.3038e-05 - mse: 6.6765e-05 - val_loss: 1.4084e-04 - val_mse: 2.0316e-04\n",
      "Epoch 52/500\n",
      "781/781 [==============================] - 14s 17ms/step - loss: 7.1030e-05 - mse: 6.4782e-05 - val_loss: 1.0747e-04 - val_mse: 1.3847e-04\n",
      "Epoch 53/500\n",
      "781/781 [==============================] - 14s 18ms/step - loss: 6.9649e-05 - mse: 6.4004e-05 - val_loss: 8.3722e-05 - val_mse: 9.2984e-05\n",
      "Epoch 54/500\n",
      "781/781 [==============================] - 14s 18ms/step - loss: 6.8089e-05 - mse: 6.2784e-05 - val_loss: 6.0573e-05 - val_mse: 4.8606e-05\n"
     ]
    },
    {
     "name": "stderr",
     "output_type": "stream",
     "text": [
      "WARNING:absl:Found untraced functions such as lstm_cell_layer_call_and_return_conditional_losses, lstm_cell_layer_call_fn, lstm_cell_1_layer_call_and_return_conditional_losses, lstm_cell_1_layer_call_fn, lstm_cell_layer_call_fn while saving (showing 5 of 10). These functions will not be directly callable after loading.\n"
     ]
    },
    {
     "name": "stdout",
     "output_type": "stream",
     "text": [
      "INFO:tensorflow:Assets written to: s2s_LSTM_256TimeD_5\\assets\n"
     ]
    },
    {
     "name": "stderr",
     "output_type": "stream",
     "text": [
      "INFO:tensorflow:Assets written to: s2s_LSTM_256TimeD_5\\assets\n"
     ]
    },
    {
     "name": "stdout",
     "output_type": "stream",
     "text": [
      "Epoch 55/500\n",
      "781/781 [==============================] - 15s 19ms/step - loss: 6.7094e-05 - mse: 6.2631e-05 - val_loss: 5.0892e-05 - val_mse: 3.1115e-05\n"
     ]
    },
    {
     "name": "stderr",
     "output_type": "stream",
     "text": [
      "WARNING:absl:Found untraced functions such as lstm_cell_layer_call_and_return_conditional_losses, lstm_cell_layer_call_fn, lstm_cell_1_layer_call_and_return_conditional_losses, lstm_cell_1_layer_call_fn, lstm_cell_layer_call_fn while saving (showing 5 of 10). These functions will not be directly callable after loading.\n"
     ]
    },
    {
     "name": "stdout",
     "output_type": "stream",
     "text": [
      "INFO:tensorflow:Assets written to: s2s_LSTM_256TimeD_5\\assets\n"
     ]
    },
    {
     "name": "stderr",
     "output_type": "stream",
     "text": [
      "INFO:tensorflow:Assets written to: s2s_LSTM_256TimeD_5\\assets\n"
     ]
    },
    {
     "name": "stdout",
     "output_type": "stream",
     "text": [
      "Epoch 56/500\n",
      "781/781 [==============================] - 15s 19ms/step - loss: 6.6002e-05 - mse: 6.2218e-05 - val_loss: 4.9087e-05 - val_mse: 2.9284e-05\n"
     ]
    },
    {
     "name": "stderr",
     "output_type": "stream",
     "text": [
      "WARNING:absl:Found untraced functions such as lstm_cell_layer_call_and_return_conditional_losses, lstm_cell_layer_call_fn, lstm_cell_1_layer_call_and_return_conditional_losses, lstm_cell_1_layer_call_fn, lstm_cell_layer_call_fn while saving (showing 5 of 10). These functions will not be directly callable after loading.\n"
     ]
    },
    {
     "name": "stdout",
     "output_type": "stream",
     "text": [
      "INFO:tensorflow:Assets written to: s2s_LSTM_256TimeD_5\\assets\n"
     ]
    },
    {
     "name": "stderr",
     "output_type": "stream",
     "text": [
      "INFO:tensorflow:Assets written to: s2s_LSTM_256TimeD_5\\assets\n"
     ]
    },
    {
     "name": "stdout",
     "output_type": "stream",
     "text": [
      "Epoch 57/500\n",
      "781/781 [==============================] - 17s 21ms/step - loss: 6.4601e-05 - mse: 6.1122e-05 - val_loss: 5.2982e-05 - val_mse: 3.8797e-05\n",
      "Epoch 58/500\n",
      "781/781 [==============================] - 16s 20ms/step - loss: 6.3996e-05 - mse: 6.1559e-05 - val_loss: 5.1590e-05 - val_mse: 3.7623e-05\n",
      "Epoch 59/500\n",
      "781/781 [==============================] - 16s 20ms/step - loss: 6.3559e-05 - mse: 6.2270e-05 - val_loss: 4.7250e-05 - val_mse: 3.0459e-05\n"
     ]
    },
    {
     "name": "stderr",
     "output_type": "stream",
     "text": [
      "WARNING:absl:Found untraced functions such as lstm_cell_layer_call_and_return_conditional_losses, lstm_cell_layer_call_fn, lstm_cell_1_layer_call_and_return_conditional_losses, lstm_cell_1_layer_call_fn, lstm_cell_layer_call_fn while saving (showing 5 of 10). These functions will not be directly callable after loading.\n"
     ]
    },
    {
     "name": "stdout",
     "output_type": "stream",
     "text": [
      "INFO:tensorflow:Assets written to: s2s_LSTM_256TimeD_5\\assets\n"
     ]
    },
    {
     "name": "stderr",
     "output_type": "stream",
     "text": [
      "INFO:tensorflow:Assets written to: s2s_LSTM_256TimeD_5\\assets\n"
     ]
    },
    {
     "name": "stdout",
     "output_type": "stream",
     "text": [
      "Epoch 60/500\n",
      "781/781 [==============================] - 16s 20ms/step - loss: 6.0961e-05 - mse: 5.8588e-05 - val_loss: 4.6672e-05 - val_mse: 3.0728e-05\n"
     ]
    },
    {
     "name": "stderr",
     "output_type": "stream",
     "text": [
      "WARNING:absl:Found untraced functions such as lstm_cell_layer_call_and_return_conditional_losses, lstm_cell_layer_call_fn, lstm_cell_1_layer_call_and_return_conditional_losses, lstm_cell_1_layer_call_fn, lstm_cell_layer_call_fn while saving (showing 5 of 10). These functions will not be directly callable after loading.\n"
     ]
    },
    {
     "name": "stdout",
     "output_type": "stream",
     "text": [
      "INFO:tensorflow:Assets written to: s2s_LSTM_256TimeD_5\\assets\n"
     ]
    },
    {
     "name": "stderr",
     "output_type": "stream",
     "text": [
      "INFO:tensorflow:Assets written to: s2s_LSTM_256TimeD_5\\assets\n"
     ]
    },
    {
     "name": "stdout",
     "output_type": "stream",
     "text": [
      "Epoch 61/500\n",
      "781/781 [==============================] - 16s 20ms/step - loss: 6.1073e-05 - mse: 6.0303e-05 - val_loss: 5.6858e-05 - val_mse: 5.2506e-05\n",
      "Epoch 62/500\n",
      "781/781 [==============================] - 15s 19ms/step - loss: 5.9695e-05 - mse: 5.8964e-05 - val_loss: 7.2814e-05 - val_mse: 8.5744e-05\n",
      "Epoch 63/500\n",
      "781/781 [==============================] - 16s 20ms/step - loss: 5.8513e-05 - mse: 5.7964e-05 - val_loss: 9.6793e-05 - val_mse: 1.3501e-04\n",
      "Epoch 64/500\n",
      "781/781 [==============================] - 15s 19ms/step - loss: 5.8603e-05 - mse: 5.9467e-05 - val_loss: 9.3417e-05 - val_mse: 1.2953e-04\n",
      "Epoch 65/500\n",
      "781/781 [==============================] - 15s 20ms/step - loss: 5.6302e-05 - mse: 5.6120e-05 - val_loss: 9.5921e-05 - val_mse: 1.3579e-04\n",
      "Epoch 66/500\n",
      "781/781 [==============================] - 15s 19ms/step - loss: 5.6864e-05 - mse: 5.8481e-05 - val_loss: 8.7162e-05 - val_mse: 1.1949e-04\n",
      "Epoch 67/500\n",
      "781/781 [==============================] - 15s 20ms/step - loss: 5.5710e-05 - mse: 5.7335e-05 - val_loss: 6.9418e-05 - val_mse: 8.5162e-05\n",
      "Epoch 68/500\n",
      "781/781 [==============================] - 15s 19ms/step - loss: 5.4456e-05 - mse: 5.5942e-05 - val_loss: 5.6295e-05 - val_mse: 6.0058e-05\n",
      "Epoch 69/500\n",
      "781/781 [==============================] - 15s 19ms/step - loss: 5.3870e-05 - mse: 5.5856e-05 - val_loss: 4.5055e-05 - val_mse: 3.8677e-05\n"
     ]
    },
    {
     "name": "stderr",
     "output_type": "stream",
     "text": [
      "WARNING:absl:Found untraced functions such as lstm_cell_layer_call_and_return_conditional_losses, lstm_cell_layer_call_fn, lstm_cell_1_layer_call_and_return_conditional_losses, lstm_cell_1_layer_call_fn, lstm_cell_layer_call_fn while saving (showing 5 of 10). These functions will not be directly callable after loading.\n"
     ]
    },
    {
     "name": "stdout",
     "output_type": "stream",
     "text": [
      "INFO:tensorflow:Assets written to: s2s_LSTM_256TimeD_5\\assets\n"
     ]
    },
    {
     "name": "stderr",
     "output_type": "stream",
     "text": [
      "INFO:tensorflow:Assets written to: s2s_LSTM_256TimeD_5\\assets\n"
     ]
    },
    {
     "name": "stdout",
     "output_type": "stream",
     "text": [
      "Epoch 70/500\n",
      "781/781 [==============================] - 16s 20ms/step - loss: 5.3119e-05 - mse: 5.5399e-05 - val_loss: 3.8654e-05 - val_mse: 2.6940e-05\n"
     ]
    },
    {
     "name": "stderr",
     "output_type": "stream",
     "text": [
      "WARNING:absl:Found untraced functions such as lstm_cell_layer_call_and_return_conditional_losses, lstm_cell_layer_call_fn, lstm_cell_1_layer_call_and_return_conditional_losses, lstm_cell_1_layer_call_fn, lstm_cell_layer_call_fn while saving (showing 5 of 10). These functions will not be directly callable after loading.\n"
     ]
    },
    {
     "name": "stdout",
     "output_type": "stream",
     "text": [
      "INFO:tensorflow:Assets written to: s2s_LSTM_256TimeD_5\\assets\n"
     ]
    },
    {
     "name": "stderr",
     "output_type": "stream",
     "text": [
      "INFO:tensorflow:Assets written to: s2s_LSTM_256TimeD_5\\assets\n"
     ]
    },
    {
     "name": "stdout",
     "output_type": "stream",
     "text": [
      "Epoch 71/500\n",
      "781/781 [==============================] - 16s 20ms/step - loss: 5.2919e-05 - mse: 5.5994e-05 - val_loss: 3.7377e-05 - val_mse: 2.5387e-05\n"
     ]
    },
    {
     "name": "stderr",
     "output_type": "stream",
     "text": [
      "WARNING:absl:Found untraced functions such as lstm_cell_layer_call_and_return_conditional_losses, lstm_cell_layer_call_fn, lstm_cell_1_layer_call_and_return_conditional_losses, lstm_cell_1_layer_call_fn, lstm_cell_layer_call_fn while saving (showing 5 of 10). These functions will not be directly callable after loading.\n"
     ]
    },
    {
     "name": "stdout",
     "output_type": "stream",
     "text": [
      "INFO:tensorflow:Assets written to: s2s_LSTM_256TimeD_5\\assets\n"
     ]
    },
    {
     "name": "stderr",
     "output_type": "stream",
     "text": [
      "INFO:tensorflow:Assets written to: s2s_LSTM_256TimeD_5\\assets\n"
     ]
    },
    {
     "name": "stdout",
     "output_type": "stream",
     "text": [
      "Epoch 72/500\n",
      "781/781 [==============================] - 15s 19ms/step - loss: 5.1120e-05 - mse: 5.3344e-05 - val_loss: 4.3126e-05 - val_mse: 3.7887e-05\n",
      "Epoch 73/500\n",
      "781/781 [==============================] - 15s 19ms/step - loss: 5.2129e-05 - mse: 5.6304e-05 - val_loss: 4.5905e-05 - val_mse: 4.4364e-05\n",
      "Epoch 74/500\n",
      "781/781 [==============================] - 15s 19ms/step - loss: 4.9879e-05 - mse: 5.2670e-05 - val_loss: 4.6190e-05 - val_mse: 4.5796e-05\n",
      "Epoch 75/500\n",
      "781/781 [==============================] - 16s 20ms/step - loss: 4.9787e-05 - mse: 5.3349e-05 - val_loss: 4.3659e-05 - val_mse: 4.1583e-05\n",
      "Epoch 76/500\n",
      "781/781 [==============================] - 15s 19ms/step - loss: 5.0241e-05 - mse: 5.5088e-05 - val_loss: 3.5503e-05 - val_mse: 2.6005e-05\n"
     ]
    },
    {
     "name": "stderr",
     "output_type": "stream",
     "text": [
      "WARNING:absl:Found untraced functions such as lstm_cell_layer_call_and_return_conditional_losses, lstm_cell_layer_call_fn, lstm_cell_1_layer_call_and_return_conditional_losses, lstm_cell_1_layer_call_fn, lstm_cell_layer_call_fn while saving (showing 5 of 10). These functions will not be directly callable after loading.\n"
     ]
    },
    {
     "name": "stdout",
     "output_type": "stream",
     "text": [
      "INFO:tensorflow:Assets written to: s2s_LSTM_256TimeD_5\\assets\n"
     ]
    },
    {
     "name": "stderr",
     "output_type": "stream",
     "text": [
      "INFO:tensorflow:Assets written to: s2s_LSTM_256TimeD_5\\assets\n"
     ]
    },
    {
     "name": "stdout",
     "output_type": "stream",
     "text": [
      "Epoch 77/500\n",
      "781/781 [==============================] - 14s 18ms/step - loss: 4.7998e-05 - mse: 5.1375e-05 - val_loss: 3.8025e-05 - val_mse: 3.1760e-05\n",
      "Epoch 78/500\n",
      "781/781 [==============================] - 15s 19ms/step - loss: 4.9187e-05 - mse: 5.4536e-05 - val_loss: 5.2949e-05 - val_mse: 6.2287e-05\n",
      "Epoch 79/500\n",
      "781/781 [==============================] - 14s 17ms/step - loss: 4.7209e-05 - mse: 5.1300e-05 - val_loss: 9.3943e-05 - val_mse: 1.4490e-04\n",
      "Epoch 80/500\n",
      "781/781 [==============================] - 14s 18ms/step - loss: 4.8111e-05 - mse: 5.3817e-05 - val_loss: 1.4498e-04 - val_mse: 2.4758e-04\n",
      "Epoch 81/500\n",
      "781/781 [==============================] - 14s 17ms/step - loss: 4.5758e-05 - mse: 4.9783e-05 - val_loss: 1.8531e-04 - val_mse: 3.2887e-04\n",
      "Epoch 82/500\n",
      "781/781 [==============================] - 14s 18ms/step - loss: 4.6937e-05 - mse: 5.2819e-05 - val_loss: 1.9158e-04 - val_mse: 3.4207e-04\n",
      "Epoch 83/500\n",
      "781/781 [==============================] - 14s 19ms/step - loss: 4.5777e-05 - mse: 5.1142e-05 - val_loss: 2.0208e-04 - val_mse: 3.6371e-04\n",
      "Epoch 84/500\n",
      "781/781 [==============================] - 15s 20ms/step - loss: 4.5975e-05 - mse: 5.2168e-05 - val_loss: 1.6240e-04 - val_mse: 2.8499e-04\n",
      "Epoch 85/500\n",
      "781/781 [==============================] - 15s 19ms/step - loss: 4.4271e-05 - mse: 4.9355e-05 - val_loss: 1.1651e-04 - val_mse: 1.9388e-04\n",
      "Epoch 86/500\n",
      "781/781 [==============================] - 16s 20ms/step - loss: 4.4901e-05 - mse: 5.1210e-05 - val_loss: 1.0171e-04 - val_mse: 1.6487e-04\n",
      "Epoch 87/500\n",
      "781/781 [==============================] - 15s 19ms/step - loss: 4.4544e-05 - mse: 5.1063e-05 - val_loss: 8.4494e-05 - val_mse: 1.3103e-04\n",
      "Epoch 88/500\n",
      "781/781 [==============================] - 15s 20ms/step - loss: 4.3208e-05 - mse: 4.8934e-05 - val_loss: 8.0557e-05 - val_mse: 1.2370e-04\n",
      "Epoch 89/500\n",
      "781/781 [==============================] - 15s 20ms/step - loss: 4.3286e-05 - mse: 4.9631e-05 - val_loss: 1.0728e-04 - val_mse: 1.7766e-04\n",
      "Epoch 90/500\n",
      "781/781 [==============================] - 15s 19ms/step - loss: 4.3824e-05 - mse: 5.1231e-05 - val_loss: 1.1420e-04 - val_mse: 1.9197e-04\n",
      "Epoch 91/500\n",
      "781/781 [==============================] - 15s 19ms/step - loss: 4.1603e-05 - mse: 4.7269e-05 - val_loss: 1.5782e-04 - val_mse: 2.7965e-04\n",
      "Epoch 92/500\n",
      "781/781 [==============================] - 15s 19ms/step - loss: 4.3242e-05 - mse: 5.1052e-05 - val_loss: 1.9816e-04 - val_mse: 3.6079e-04\n",
      "Epoch 93/500\n",
      "781/781 [==============================] - 14s 18ms/step - loss: 4.1904e-05 - mse: 4.8829e-05 - val_loss: 1.4284e-04 - val_mse: 2.5062e-04\n",
      "Epoch 94/500\n",
      "781/781 [==============================] - 15s 19ms/step - loss: 4.1341e-05 - mse: 4.8155e-05 - val_loss: 1.4883e-04 - val_mse: 2.6310e-04\n",
      "Epoch 95/500\n",
      "781/781 [==============================] - 15s 19ms/step - loss: 4.1530e-05 - mse: 4.8994e-05 - val_loss: 8.5153e-05 - val_mse: 1.3624e-04\n",
      "Epoch 96/500\n",
      "781/781 [==============================] - 15s 20ms/step - loss: 3.9631e-05 - mse: 4.5627e-05 - val_loss: 6.6757e-05 - val_mse: 9.9953e-05\n",
      "Epoch 97/500\n",
      "781/781 [==============================] - 14s 18ms/step - loss: 4.2353e-05 - mse: 5.1538e-05 - val_loss: 4.9212e-05 - val_mse: 6.5312e-05\n",
      "Epoch 98/500\n",
      "781/781 [==============================] - 15s 19ms/step - loss: 3.8024e-05 - mse: 4.3275e-05 - val_loss: 3.6900e-05 - val_mse: 4.1184e-05\n",
      "Epoch 99/500\n",
      "781/781 [==============================] - 14s 18ms/step - loss: 4.1427e-05 - mse: 5.0540e-05 - val_loss: 3.6937e-05 - val_mse: 4.1678e-05\n",
      "Epoch 100/500\n",
      "781/781 [==============================] - 16s 20ms/step - loss: 3.9022e-05 - mse: 4.6121e-05 - val_loss: 3.1041e-05 - val_mse: 3.0298e-05\n"
     ]
    },
    {
     "name": "stderr",
     "output_type": "stream",
     "text": [
      "WARNING:absl:Found untraced functions such as lstm_cell_layer_call_and_return_conditional_losses, lstm_cell_layer_call_fn, lstm_cell_1_layer_call_and_return_conditional_losses, lstm_cell_1_layer_call_fn, lstm_cell_layer_call_fn while saving (showing 5 of 10). These functions will not be directly callable after loading.\n"
     ]
    },
    {
     "name": "stdout",
     "output_type": "stream",
     "text": [
      "INFO:tensorflow:Assets written to: s2s_LSTM_256TimeD_5\\assets\n"
     ]
    },
    {
     "name": "stderr",
     "output_type": "stream",
     "text": [
      "INFO:tensorflow:Assets written to: s2s_LSTM_256TimeD_5\\assets\n"
     ]
    },
    {
     "name": "stdout",
     "output_type": "stream",
     "text": [
      "Epoch 101/500\n",
      "781/781 [==============================] - 16s 20ms/step - loss: 3.8589e-05 - mse: 4.5661e-05 - val_loss: 3.9068e-05 - val_mse: 4.6755e-05\n",
      "Epoch 102/500\n",
      "781/781 [==============================] - 16s 20ms/step - loss: 4.0968e-05 - mse: 5.0833e-05 - val_loss: 3.9456e-05 - val_mse: 4.7877e-05\n",
      "Epoch 103/500\n",
      "781/781 [==============================] - 16s 21ms/step - loss: 3.7073e-05 - mse: 4.3386e-05 - val_loss: 5.1095e-05 - val_mse: 7.1496e-05\n",
      "Epoch 104/500\n",
      "781/781 [==============================] - 16s 20ms/step - loss: 3.8758e-05 - mse: 4.7152e-05 - val_loss: 7.2465e-05 - val_mse: 1.1459e-04\n",
      "Epoch 105/500\n",
      "781/781 [==============================] - 16s 21ms/step - loss: 3.8181e-05 - mse: 4.6362e-05 - val_loss: 7.1938e-05 - val_mse: 1.1387e-04\n",
      "Epoch 106/500\n",
      "781/781 [==============================] - 15s 20ms/step - loss: 3.7378e-05 - mse: 4.5104e-05 - val_loss: 8.9790e-05 - val_mse: 1.4993e-04\n",
      "Epoch 107/500\n",
      "781/781 [==============================] - 15s 20ms/step - loss: 3.8398e-05 - mse: 4.7506e-05 - val_loss: 6.8137e-05 - val_mse: 1.0697e-04\n",
      "Epoch 108/500\n",
      "781/781 [==============================] - 15s 19ms/step - loss: 3.6738e-05 - mse: 4.4515e-05 - val_loss: 6.1880e-05 - val_mse: 9.4824e-05\n",
      "Epoch 109/500\n",
      "781/781 [==============================] - 15s 19ms/step - loss: 3.7359e-05 - mse: 4.6102e-05 - val_loss: 4.5110e-05 - val_mse: 6.1650e-05\n",
      "Epoch 110/500\n",
      "781/781 [==============================] - 15s 19ms/step - loss: 3.6607e-05 - mse: 4.4921e-05 - val_loss: 3.2829e-05 - val_mse: 3.7458e-05\n",
      "Epoch 111/500\n",
      "781/781 [==============================] - 15s 20ms/step - loss: 3.7545e-05 - mse: 4.7122e-05 - val_loss: 2.8692e-05 - val_mse: 2.9509e-05\n"
     ]
    },
    {
     "name": "stderr",
     "output_type": "stream",
     "text": [
      "WARNING:absl:Found untraced functions such as lstm_cell_layer_call_and_return_conditional_losses, lstm_cell_layer_call_fn, lstm_cell_1_layer_call_and_return_conditional_losses, lstm_cell_1_layer_call_fn, lstm_cell_layer_call_fn while saving (showing 5 of 10). These functions will not be directly callable after loading.\n"
     ]
    },
    {
     "name": "stdout",
     "output_type": "stream",
     "text": [
      "INFO:tensorflow:Assets written to: s2s_LSTM_256TimeD_5\\assets\n"
     ]
    },
    {
     "name": "stderr",
     "output_type": "stream",
     "text": [
      "INFO:tensorflow:Assets written to: s2s_LSTM_256TimeD_5\\assets\n"
     ]
    },
    {
     "name": "stdout",
     "output_type": "stream",
     "text": [
      "Epoch 112/500\n",
      "781/781 [==============================] - 16s 20ms/step - loss: 3.5962e-05 - mse: 4.4255e-05 - val_loss: 2.7799e-05 - val_mse: 2.8095e-05\n"
     ]
    },
    {
     "name": "stderr",
     "output_type": "stream",
     "text": [
      "WARNING:absl:Found untraced functions such as lstm_cell_layer_call_and_return_conditional_losses, lstm_cell_layer_call_fn, lstm_cell_1_layer_call_and_return_conditional_losses, lstm_cell_1_layer_call_fn, lstm_cell_layer_call_fn while saving (showing 5 of 10). These functions will not be directly callable after loading.\n"
     ]
    },
    {
     "name": "stdout",
     "output_type": "stream",
     "text": [
      "INFO:tensorflow:Assets written to: s2s_LSTM_256TimeD_5\\assets\n"
     ]
    },
    {
     "name": "stderr",
     "output_type": "stream",
     "text": [
      "INFO:tensorflow:Assets written to: s2s_LSTM_256TimeD_5\\assets\n"
     ]
    },
    {
     "name": "stdout",
     "output_type": "stream",
     "text": [
      "Epoch 113/500\n",
      "781/781 [==============================] - 15s 19ms/step - loss: 3.7139e-05 - mse: 4.6927e-05 - val_loss: 3.0643e-05 - val_mse: 3.4103e-05\n",
      "Epoch 114/500\n",
      "781/781 [==============================] - 15s 19ms/step - loss: 3.5772e-05 - mse: 4.4473e-05 - val_loss: 3.3124e-05 - val_mse: 3.9362e-05\n",
      "Epoch 115/500\n",
      "781/781 [==============================] - 15s 20ms/step - loss: 3.5849e-05 - mse: 4.4921e-05 - val_loss: 3.9225e-05 - val_mse: 5.1889e-05\n",
      "Epoch 116/500\n",
      "781/781 [==============================] - 15s 19ms/step - loss: 3.5910e-05 - mse: 4.5329e-05 - val_loss: 4.2271e-05 - val_mse: 5.8253e-05\n",
      "Epoch 117/500\n",
      "781/781 [==============================] - 15s 19ms/step - loss: 3.5567e-05 - mse: 4.4916e-05 - val_loss: 4.8373e-05 - val_mse: 7.0761e-05\n",
      "Epoch 118/500\n",
      "781/781 [==============================] - 16s 21ms/step - loss: 3.5702e-05 - mse: 4.5456e-05 - val_loss: 5.0713e-05 - val_mse: 7.5697e-05\n",
      "Epoch 119/500\n",
      "781/781 [==============================] - 16s 20ms/step - loss: 3.5090e-05 - mse: 4.4487e-05 - val_loss: 5.5464e-05 - val_mse: 8.5480e-05\n",
      "Epoch 120/500\n",
      "781/781 [==============================] - 16s 20ms/step - loss: 3.5912e-05 - mse: 4.6393e-05 - val_loss: 6.1325e-05 - val_mse: 9.7461e-05\n",
      "Epoch 121/500\n",
      "781/781 [==============================] - 16s 20ms/step - loss: 3.4318e-05 - mse: 4.3451e-05 - val_loss: 5.9812e-05 - val_mse: 9.4687e-05\n",
      "Epoch 122/500\n",
      "781/781 [==============================] - 15s 20ms/step - loss: 3.5034e-05 - mse: 4.5143e-05 - val_loss: 6.9591e-05 - val_mse: 1.1451e-04\n",
      "Epoch 123/500\n",
      "781/781 [==============================] - 16s 20ms/step - loss: 3.5051e-05 - mse: 4.5408e-05 - val_loss: 6.8436e-05 - val_mse: 1.1242e-04\n",
      "Epoch 124/500\n",
      "781/781 [==============================] - 15s 20ms/step - loss: 3.3436e-05 - mse: 4.2415e-05 - val_loss: 7.9622e-05 - val_mse: 1.3508e-04\n",
      "Epoch 125/500\n",
      "781/781 [==============================] - 16s 21ms/step - loss: 3.6638e-05 - mse: 4.9065e-05 - val_loss: 9.3976e-05 - val_mse: 1.6400e-04\n",
      "Epoch 126/500\n",
      "781/781 [==============================] - 16s 20ms/step - loss: 3.2095e-05 - mse: 4.0174e-05 - val_loss: 8.1956e-05 - val_mse: 1.4017e-04\n",
      "Epoch 127/500\n",
      "781/781 [==============================] - 15s 20ms/step - loss: 3.4569e-05 - mse: 4.5373e-05 - val_loss: 1.1440e-04 - val_mse: 2.0536e-04\n",
      "Epoch 128/500\n",
      "781/781 [==============================] - 16s 21ms/step - loss: 3.4221e-05 - mse: 4.4881e-05 - val_loss: 8.4854e-05 - val_mse: 1.4638e-04\n",
      "Epoch 129/500\n",
      "781/781 [==============================] - 17s 21ms/step - loss: 3.2360e-05 - mse: 4.1361e-05 - val_loss: 8.8280e-05 - val_mse: 1.5348e-04\n",
      "Epoch 130/500\n",
      "781/781 [==============================] - 17s 22ms/step - loss: 3.5303e-05 - mse: 4.7457e-05 - val_loss: 7.3086e-05 - val_mse: 1.2324e-04\n",
      "Epoch 131/500\n",
      "781/781 [==============================] - 16s 21ms/step - loss: 3.2041e-05 - mse: 4.1111e-05 - val_loss: 5.1176e-05 - val_mse: 7.9575e-05\n",
      "Epoch 132/500\n",
      "781/781 [==============================] - 16s 21ms/step - loss: 3.2994e-05 - mse: 4.3226e-05 - val_loss: 4.3773e-05 - val_mse: 6.4968e-05\n",
      "Epoch 133/500\n",
      "781/781 [==============================] - 17s 21ms/step - loss: 3.4146e-05 - mse: 4.5725e-05 - val_loss: 3.2691e-05 - val_mse: 4.2939e-05\n",
      "Epoch 134/500\n",
      "781/781 [==============================] - 16s 20ms/step - loss: 3.1964e-05 - mse: 4.1537e-05 - val_loss: 2.8763e-05 - val_mse: 3.5249e-05\n",
      "Epoch 135/500\n",
      "781/781 [==============================] - 16s 20ms/step - loss: 3.3502e-05 - mse: 4.4792e-05 - val_loss: 2.6352e-05 - val_mse: 3.0564e-05\n"
     ]
    },
    {
     "name": "stderr",
     "output_type": "stream",
     "text": [
      "WARNING:absl:Found untraced functions such as lstm_cell_layer_call_and_return_conditional_losses, lstm_cell_layer_call_fn, lstm_cell_1_layer_call_and_return_conditional_losses, lstm_cell_1_layer_call_fn, lstm_cell_layer_call_fn while saving (showing 5 of 10). These functions will not be directly callable after loading.\n"
     ]
    },
    {
     "name": "stdout",
     "output_type": "stream",
     "text": [
      "INFO:tensorflow:Assets written to: s2s_LSTM_256TimeD_5\\assets\n"
     ]
    },
    {
     "name": "stderr",
     "output_type": "stream",
     "text": [
      "INFO:tensorflow:Assets written to: s2s_LSTM_256TimeD_5\\assets\n"
     ]
    },
    {
     "name": "stdout",
     "output_type": "stream",
     "text": [
      "Epoch 136/500\n",
      "781/781 [==============================] - 17s 21ms/step - loss: 3.1771e-05 - mse: 4.1496e-05 - val_loss: 2.4938e-05 - val_mse: 2.7891e-05\n"
     ]
    },
    {
     "name": "stderr",
     "output_type": "stream",
     "text": [
      "WARNING:absl:Found untraced functions such as lstm_cell_layer_call_and_return_conditional_losses, lstm_cell_layer_call_fn, lstm_cell_1_layer_call_and_return_conditional_losses, lstm_cell_1_layer_call_fn, lstm_cell_layer_call_fn while saving (showing 5 of 10). These functions will not be directly callable after loading.\n"
     ]
    },
    {
     "name": "stdout",
     "output_type": "stream",
     "text": [
      "INFO:tensorflow:Assets written to: s2s_LSTM_256TimeD_5\\assets\n"
     ]
    },
    {
     "name": "stderr",
     "output_type": "stream",
     "text": [
      "INFO:tensorflow:Assets written to: s2s_LSTM_256TimeD_5\\assets\n"
     ]
    },
    {
     "name": "stdout",
     "output_type": "stream",
     "text": [
      "Epoch 137/500\n",
      "781/781 [==============================] - 17s 21ms/step - loss: 3.3034e-05 - mse: 4.4201e-05 - val_loss: 2.6790e-05 - val_mse: 3.1760e-05\n",
      "Epoch 138/500\n",
      "781/781 [==============================] - 17s 21ms/step - loss: 3.1821e-05 - mse: 4.1946e-05 - val_loss: 2.6911e-05 - val_mse: 3.2149e-05\n",
      "Epoch 139/500\n",
      "781/781 [==============================] - 16s 20ms/step - loss: 3.1665e-05 - mse: 4.1810e-05 - val_loss: 3.0729e-05 - val_mse: 3.9961e-05\n",
      "Epoch 140/500\n",
      "781/781 [==============================] - 16s 21ms/step - loss: 3.3439e-05 - mse: 4.5525e-05 - val_loss: 3.0928e-05 - val_mse: 4.0494e-05\n",
      "Epoch 141/500\n",
      "781/781 [==============================] - 16s 20ms/step - loss: 3.0142e-05 - mse: 3.9087e-05 - val_loss: 3.0948e-05 - val_mse: 4.0705e-05\n",
      "Epoch 142/500\n",
      "781/781 [==============================] - 17s 21ms/step - loss: 3.3165e-05 - mse: 4.5298e-05 - val_loss: 3.3899e-05 - val_mse: 4.6763e-05\n",
      "Epoch 143/500\n",
      "781/781 [==============================] - 15s 20ms/step - loss: 3.0705e-05 - mse: 4.0527e-05 - val_loss: 2.9136e-05 - val_mse: 3.7380e-05\n",
      "Epoch 144/500\n",
      "781/781 [==============================] - 16s 21ms/step - loss: 3.0768e-05 - mse: 4.0826e-05 - val_loss: 3.3348e-05 - val_mse: 4.5996e-05\n",
      "Epoch 145/500\n",
      "781/781 [==============================] - 15s 19ms/step - loss: 3.2862e-05 - mse: 4.5169e-05 - val_loss: 2.6942e-05 - val_mse: 3.3323e-05\n",
      "Epoch 146/500\n",
      "781/781 [==============================] - 15s 19ms/step - loss: 2.9326e-05 - mse: 3.8239e-05 - val_loss: 2.6997e-05 - val_mse: 3.3600e-05\n",
      "Epoch 147/500\n",
      "781/781 [==============================] - 17s 22ms/step - loss: 3.1802e-05 - mse: 4.3349e-05 - val_loss: 2.8685e-05 - val_mse: 3.7126e-05\n",
      "Epoch 148/500\n",
      "781/781 [==============================] - 16s 20ms/step - loss: 3.0960e-05 - mse: 4.1792e-05 - val_loss: 2.3896e-05 - val_mse: 2.7675e-05\n"
     ]
    },
    {
     "name": "stderr",
     "output_type": "stream",
     "text": [
      "WARNING:absl:Found untraced functions such as lstm_cell_layer_call_and_return_conditional_losses, lstm_cell_layer_call_fn, lstm_cell_1_layer_call_and_return_conditional_losses, lstm_cell_1_layer_call_fn, lstm_cell_layer_call_fn while saving (showing 5 of 10). These functions will not be directly callable after loading.\n"
     ]
    },
    {
     "name": "stdout",
     "output_type": "stream",
     "text": [
      "INFO:tensorflow:Assets written to: s2s_LSTM_256TimeD_5\\assets\n"
     ]
    },
    {
     "name": "stderr",
     "output_type": "stream",
     "text": [
      "INFO:tensorflow:Assets written to: s2s_LSTM_256TimeD_5\\assets\n"
     ]
    },
    {
     "name": "stdout",
     "output_type": "stream",
     "text": [
      "Epoch 149/500\n",
      "781/781 [==============================] - 15s 20ms/step - loss: 2.9914e-05 - mse: 3.9834e-05 - val_loss: 2.7381e-05 - val_mse: 3.4802e-05\n",
      "Epoch 150/500\n",
      "781/781 [==============================] - 16s 20ms/step - loss: 3.1822e-05 - mse: 4.3780e-05 - val_loss: 2.3654e-05 - val_mse: 2.7458e-05\n"
     ]
    },
    {
     "name": "stderr",
     "output_type": "stream",
     "text": [
      "WARNING:absl:Found untraced functions such as lstm_cell_layer_call_and_return_conditional_losses, lstm_cell_layer_call_fn, lstm_cell_1_layer_call_and_return_conditional_losses, lstm_cell_1_layer_call_fn, lstm_cell_layer_call_fn while saving (showing 5 of 10). These functions will not be directly callable after loading.\n"
     ]
    },
    {
     "name": "stdout",
     "output_type": "stream",
     "text": [
      "INFO:tensorflow:Assets written to: s2s_LSTM_256TimeD_5\\assets\n"
     ]
    },
    {
     "name": "stderr",
     "output_type": "stream",
     "text": [
      "INFO:tensorflow:Assets written to: s2s_LSTM_256TimeD_5\\assets\n"
     ]
    },
    {
     "name": "stdout",
     "output_type": "stream",
     "text": [
      "Epoch 151/500\n",
      "781/781 [==============================] - 16s 20ms/step - loss: 2.8586e-05 - mse: 3.7426e-05 - val_loss: 2.4676e-05 - val_mse: 2.9651e-05\n",
      "Epoch 152/500\n",
      "781/781 [==============================] - 16s 20ms/step - loss: 3.1691e-05 - mse: 4.3764e-05 - val_loss: 2.4976e-05 - val_mse: 3.0368e-05\n",
      "Epoch 153/500\n",
      "781/781 [==============================] - 16s 20ms/step - loss: 2.8673e-05 - mse: 3.7848e-05 - val_loss: 2.4117e-05 - val_mse: 2.8797e-05\n",
      "Epoch 154/500\n",
      "781/781 [==============================] - 16s 20ms/step - loss: 3.1074e-05 - mse: 4.2789e-05 - val_loss: 2.7360e-05 - val_mse: 3.5419e-05\n",
      "Epoch 155/500\n",
      "781/781 [==============================] - 16s 20ms/step - loss: 2.9054e-05 - mse: 3.8858e-05 - val_loss: 2.5398e-05 - val_mse: 3.1618e-05\n",
      "Epoch 156/500\n",
      "781/781 [==============================] - 16s 20ms/step - loss: 2.9524e-05 - mse: 3.9936e-05 - val_loss: 3.3619e-05 - val_mse: 4.8215e-05\n",
      "Epoch 157/500\n",
      "781/781 [==============================] - 16s 20ms/step - loss: 2.9951e-05 - mse: 4.0913e-05 - val_loss: 3.2083e-05 - val_mse: 4.5280e-05\n",
      "Epoch 158/500\n",
      "781/781 [==============================] - 16s 21ms/step - loss: 2.8945e-05 - mse: 3.9036e-05 - val_loss: 5.1575e-05 - val_mse: 8.4436e-05\n",
      "Epoch 159/500\n",
      "781/781 [==============================] - 16s 20ms/step - loss: 3.0464e-05 - mse: 4.2187e-05 - val_loss: 5.0864e-05 - val_mse: 8.3121e-05\n",
      "Epoch 160/500\n",
      "781/781 [==============================] - 16s 21ms/step - loss: 2.7889e-05 - mse: 3.7152e-05 - val_loss: 7.3221e-05 - val_mse: 1.2801e-04\n",
      "Epoch 161/500\n",
      "781/781 [==============================] - 16s 21ms/step - loss: 3.0095e-05 - mse: 4.1687e-05 - val_loss: 9.1789e-05 - val_mse: 1.6528e-04\n",
      "Epoch 162/500\n",
      "781/781 [==============================] - 16s 20ms/step - loss: 2.7782e-05 - mse: 3.7179e-05 - val_loss: 1.0740e-04 - val_mse: 1.9666e-04\n",
      "Epoch 163/500\n",
      "781/781 [==============================] - 16s 21ms/step - loss: 2.9910e-05 - mse: 4.1551e-05 - val_loss: 1.4445e-04 - val_mse: 2.7089e-04\n",
      "Epoch 164/500\n",
      "781/781 [==============================] - 17s 22ms/step - loss: 2.7855e-05 - mse: 3.7546e-05 - val_loss: 1.3724e-04 - val_mse: 2.5657e-04\n",
      "Epoch 165/500\n",
      "781/781 [==============================] - 16s 21ms/step - loss: 2.8636e-05 - mse: 3.9234e-05 - val_loss: 1.9961e-04 - val_mse: 3.8150e-04\n",
      "Epoch 166/500\n",
      "781/781 [==============================] - 17s 21ms/step - loss: 2.9403e-05 - mse: 4.0873e-05 - val_loss: 1.8646e-04 - val_mse: 3.5527e-04\n",
      "Epoch 167/500\n",
      "781/781 [==============================] - 16s 21ms/step - loss: 2.7174e-05 - mse: 3.6510e-05 - val_loss: 2.2237e-04 - val_mse: 4.2724e-04\n",
      "Epoch 168/500\n",
      "781/781 [==============================] - 16s 20ms/step - loss: 2.9602e-05 - mse: 4.1462e-05 - val_loss: 2.3423e-04 - val_mse: 4.5106e-04\n",
      "Epoch 169/500\n",
      "781/781 [==============================] - 16s 21ms/step - loss: 2.7505e-05 - mse: 3.7366e-05 - val_loss: 2.3145e-04 - val_mse: 4.4560e-04\n",
      "Epoch 170/500\n",
      "781/781 [==============================] - 16s 21ms/step - loss: 2.7866e-05 - mse: 3.8191e-05 - val_loss: 2.8278e-04 - val_mse: 5.4841e-04\n",
      "Epoch 171/500\n",
      "781/781 [==============================] - 16s 20ms/step - loss: 2.8928e-05 - mse: 4.0406e-05 - val_loss: 2.3568e-04 - val_mse: 4.5424e-04\n",
      "Epoch 172/500\n",
      "781/781 [==============================] - 16s 20ms/step - loss: 2.6896e-05 - mse: 3.6438e-05 - val_loss: 2.6451e-04 - val_mse: 5.1203e-04\n",
      "Epoch 173/500\n",
      "781/781 [==============================] - 16s 20ms/step - loss: 2.8718e-05 - mse: 4.0167e-05 - val_loss: 2.7470e-04 - val_mse: 5.3246e-04\n",
      "Epoch 174/500\n",
      "781/781 [==============================] - 16s 20ms/step - loss: 2.7300e-05 - mse: 3.7418e-05 - val_loss: 2.5174e-04 - val_mse: 4.8664e-04\n",
      "Epoch 175/500\n",
      "781/781 [==============================] - 16s 20ms/step - loss: 2.7501e-05 - mse: 3.7922e-05 - val_loss: 2.5650e-04 - val_mse: 4.9628e-04\n",
      "Epoch 176/500\n",
      "781/781 [==============================] - 16s 21ms/step - loss: 2.7674e-05 - mse: 3.8358e-05 - val_loss: 2.5601e-04 - val_mse: 4.9537e-04\n",
      "Epoch 177/500\n",
      "781/781 [==============================] - 16s 21ms/step - loss: 2.7269e-05 - mse: 3.7630e-05 - val_loss: 2.4732e-04 - val_mse: 4.7807e-04\n",
      "Epoch 178/500\n",
      "781/781 [==============================] - 16s 20ms/step - loss: 2.7427e-05 - mse: 3.8028e-05 - val_loss: 2.4409e-04 - val_mse: 4.7169e-04\n",
      "Epoch 179/500\n",
      "781/781 [==============================] - 16s 20ms/step - loss: 2.7294e-05 - mse: 3.7839e-05 - val_loss: 2.4090e-04 - val_mse: 4.6539e-04\n",
      "Epoch 180/500\n",
      "781/781 [==============================] - 18s 23ms/step - loss: 2.6857e-05 - mse: 3.7039e-05 - val_loss: 2.5538e-04 - val_mse: 4.9446e-04\n",
      "Epoch 181/500\n",
      "781/781 [==============================] - 16s 20ms/step - loss: 2.7660e-05 - mse: 3.8731e-05 - val_loss: 2.3444e-04 - val_mse: 4.5263e-04\n",
      "Epoch 182/500\n",
      "781/781 [==============================] - 17s 21ms/step - loss: 2.6275e-05 - mse: 3.6019e-05 - val_loss: 2.2896e-04 - val_mse: 4.4172e-04\n",
      "CPU times: total: 1h 9min 8s\n",
      "Wall time: 58min 22s\n"
     ]
    },
    {
     "data": {
      "text/plain": [
       "<keras.callbacks.History at 0x1f7ce6eae20>"
      ]
     },
     "execution_count": 50,
     "metadata": {},
     "output_type": "execute_result"
    }
   ],
   "source": [
    "%%time\n",
    "\n",
    "\n",
    "#________________________________ LSTM\n",
    "\n",
    "name_model = \"s2s_LSTM_256TimeD_5\"\n",
    "\n",
    "keras.backend.clear_session()\n",
    "\n",
    "# Definir hiperparâmetros\n",
    "learning_rate = 0.0001\n",
    "l2_reg = 0.00001\n",
    "dropout_rate = 0.001\n",
    "func_act='sigmoid'\n",
    "\n",
    "batch_size = 128\n",
    "window_size = 32\n",
    "num_inputs  = train.shape[1]\n",
    "num_targets = 3\n",
    "stride = 3\n",
    "sampling_rate=1\n",
    "\n",
    "\n",
    "\n",
    "# Definir a entrada da rede\n",
    "inputs = keras.layers.Input(shape=[None, num_inputs])\n",
    "\n",
    "# LSTM\n",
    "reshaped_inputs = keras.layers.Reshape((-1, num_inputs))(inputs)\n",
    "lstm = keras.layers.LSTM(160, return_sequences=True, kernel_regularizer=keras.regularizers.L2(l2_reg))(reshaped_inputs)\n",
    "#lstm = keras.layers.LSTM(160, return_sequences=True, kernel_regularizer=keras.regularizers.L2(l2_reg))(lstm)\n",
    "lstm = keras.layers.Dropout(rate=dropout_rate)(lstm)\n",
    "#lstm = keras.layers.LSTM(160, return_sequences=True, kernel_regularizer=keras.regularizers.L2(l2_reg))(lstm)\n",
    "#lstm = keras.layers.LSTM(160, return_sequences=True, kernel_regularizer=keras.regularizers.L2(l2_reg))(lstm)\n",
    "#lstm = keras.layers.Dropout(rate=dropout_rate)(lstm)\n",
    "#lstm = keras.layers.LSTM(256, return_sequences=True, kernel_regularizer=keras.regularizers.L2(l2_reg))(lstm)\n",
    "#lstm = keras.layers.LSTM(256, return_sequences=True, kernel_regularizer=keras.regularizers.L2(l2_reg))(lstm)\n",
    "#lstm = keras.layers.Dropout(rate=dropout_rate)(lstm)\n",
    "\n",
    "# TimeDistributed Dense\n",
    "timed = keras.layers.TimeDistributed(keras.layers.Dense(80))(lstm)\n",
    "timed = keras.layers.TimeDistributed(keras.layers.Dropout(rate=dropout_rate))(timed)\n",
    "\n",
    "\n",
    "# LSTM\n",
    "lstm = keras.layers.LSTM(32, return_sequences=False, kernel_regularizer=keras.regularizers.L2(l2_reg))(timed)\n",
    "output_lstm = keras.layers.Dense(num_targets)(lstm)\n",
    "\n",
    "\n",
    "# Definir o modelo com a entrada e saída\n",
    "model = keras.models.Model(inputs=inputs, outputs=output_lstm)\n",
    "\n",
    "# Definir o otimizador com taxa de aprendizado definida\n",
    "optimizer = keras.optimizers.Adam(learning_rate=learning_rate)\n",
    "\n",
    "\n",
    "# Compilar o modelo com a função de perda, otimizador e métrica desejados\n",
    "model.compile(loss=keras.losses.logcosh, optimizer=optimizer, metrics=[\"mse\"])\n",
    "\n",
    "# Adicionar callbacks para o modelo\n",
    "model_checkpoint = keras.callbacks.ModelCheckpoint(name_model, save_best_only=True)\n",
    "early_stopping = keras.callbacks.EarlyStopping(patience=32)\n",
    "\n",
    "# Treinar o modelo\n",
    "model.fit(train_set,\n",
    "          steps_per_epoch= len(train)//batch_size,\n",
    "          epochs=500,\n",
    "          validation_data=valid_set,\n",
    "          validation_steps=len(valid)//batch_size,\n",
    "          callbacks=[early_stopping,\n",
    "                     model_checkpoint])"
   ]
  },
  {
   "cell_type": "code",
   "execution_count": 51,
   "id": "bb12f7bf",
   "metadata": {
    "scrolled": true
   },
   "outputs": [
    {
     "data": {
      "text/plain": [
       "'s2s_LSTM_256TimeD_5'"
      ]
     },
     "execution_count": 51,
     "metadata": {},
     "output_type": "execute_result"
    }
   ],
   "source": [
    "name_model"
   ]
  },
  {
   "cell_type": "code",
   "execution_count": 53,
   "id": "4b5bf002",
   "metadata": {},
   "outputs": [],
   "source": [
    "model = keras.models.load_model(name_model)"
   ]
  },
  {
   "cell_type": "code",
   "execution_count": 52,
   "id": "2712b0ee",
   "metadata": {},
   "outputs": [
    {
     "name": "stdout",
     "output_type": "stream",
     "text": [
      "160/160 [==============================] - 2s 10ms/step - loss: 5.6501e-05 - mse: 9.6756e-05\n"
     ]
    }
   ],
   "source": [
    "loss, metric = model.evaluate(test_set, steps=len(test)//batch_size)"
   ]
  },
  {
   "cell_type": "code",
   "execution_count": 54,
   "id": "4cb3fe66",
   "metadata": {},
   "outputs": [
    {
     "name": "stdout",
     "output_type": "stream",
     "text": [
      "160/160 [==============================] - 2s 9ms/step - loss: 5.2075e-05 - mse: 8.4311e-05\n"
     ]
    }
   ],
   "source": [
    "loss, metric = model.evaluate(test_set, steps=len(test)//batch_size)"
   ]
  },
  {
   "cell_type": "code",
   "execution_count": null,
   "id": "ff0d6612",
   "metadata": {},
   "outputs": [],
   "source": []
  },
  {
   "cell_type": "code",
   "execution_count": 55,
   "id": "f72fe516",
   "metadata": {},
   "outputs": [
    {
     "name": "stdout",
     "output_type": "stream",
     "text": [
      "Epoch 1/500\n",
      "781/781 [==============================] - 23s 25ms/step - loss: 0.0014 - mse: 0.0015 - val_loss: 0.0035 - val_mse: 0.0057\n"
     ]
    },
    {
     "name": "stderr",
     "output_type": "stream",
     "text": [
      "WARNING:absl:Found untraced functions such as lstm_cell_layer_call_and_return_conditional_losses, lstm_cell_layer_call_fn, lstm_cell_1_layer_call_and_return_conditional_losses, lstm_cell_1_layer_call_fn, lstm_cell_layer_call_fn while saving (showing 5 of 10). These functions will not be directly callable after loading.\n"
     ]
    },
    {
     "name": "stdout",
     "output_type": "stream",
     "text": [
      "INFO:tensorflow:Assets written to: s2s_LSTM_256TimeD_6\\assets\n"
     ]
    },
    {
     "name": "stderr",
     "output_type": "stream",
     "text": [
      "INFO:tensorflow:Assets written to: s2s_LSTM_256TimeD_6\\assets\n"
     ]
    },
    {
     "name": "stdout",
     "output_type": "stream",
     "text": [
      "Epoch 2/500\n",
      "781/781 [==============================] - 19s 24ms/step - loss: 0.0011 - mse: 8.9844e-04 - val_loss: 0.0014 - val_mse: 0.0016\n"
     ]
    },
    {
     "name": "stderr",
     "output_type": "stream",
     "text": [
      "WARNING:absl:Found untraced functions such as lstm_cell_layer_call_and_return_conditional_losses, lstm_cell_layer_call_fn, lstm_cell_1_layer_call_and_return_conditional_losses, lstm_cell_1_layer_call_fn, lstm_cell_layer_call_fn while saving (showing 5 of 10). These functions will not be directly callable after loading.\n"
     ]
    },
    {
     "name": "stdout",
     "output_type": "stream",
     "text": [
      "INFO:tensorflow:Assets written to: s2s_LSTM_256TimeD_6\\assets\n"
     ]
    },
    {
     "name": "stderr",
     "output_type": "stream",
     "text": [
      "INFO:tensorflow:Assets written to: s2s_LSTM_256TimeD_6\\assets\n"
     ]
    },
    {
     "name": "stdout",
     "output_type": "stream",
     "text": [
      "Epoch 3/500\n",
      "781/781 [==============================] - 20s 25ms/step - loss: 8.1361e-04 - mse: 5.2432e-04 - val_loss: 7.2207e-04 - val_mse: 3.9860e-04\n"
     ]
    },
    {
     "name": "stderr",
     "output_type": "stream",
     "text": [
      "WARNING:absl:Found untraced functions such as lstm_cell_layer_call_and_return_conditional_losses, lstm_cell_layer_call_fn, lstm_cell_1_layer_call_and_return_conditional_losses, lstm_cell_1_layer_call_fn, lstm_cell_layer_call_fn while saving (showing 5 of 10). These functions will not be directly callable after loading.\n"
     ]
    },
    {
     "name": "stdout",
     "output_type": "stream",
     "text": [
      "INFO:tensorflow:Assets written to: s2s_LSTM_256TimeD_6\\assets\n"
     ]
    },
    {
     "name": "stderr",
     "output_type": "stream",
     "text": [
      "INFO:tensorflow:Assets written to: s2s_LSTM_256TimeD_6\\assets\n"
     ]
    },
    {
     "name": "stdout",
     "output_type": "stream",
     "text": [
      "Epoch 4/500\n",
      "781/781 [==============================] - 20s 26ms/step - loss: 6.4676e-04 - mse: 2.9995e-04 - val_loss: 7.3869e-04 - val_mse: 5.3422e-04\n",
      "Epoch 5/500\n",
      "781/781 [==============================] - 20s 25ms/step - loss: 5.5852e-04 - mse: 2.2058e-04 - val_loss: 6.0927e-04 - val_mse: 3.6750e-04\n"
     ]
    },
    {
     "name": "stderr",
     "output_type": "stream",
     "text": [
      "WARNING:absl:Found untraced functions such as lstm_cell_layer_call_and_return_conditional_losses, lstm_cell_layer_call_fn, lstm_cell_1_layer_call_and_return_conditional_losses, lstm_cell_1_layer_call_fn, lstm_cell_layer_call_fn while saving (showing 5 of 10). These functions will not be directly callable after loading.\n"
     ]
    },
    {
     "name": "stdout",
     "output_type": "stream",
     "text": [
      "INFO:tensorflow:Assets written to: s2s_LSTM_256TimeD_6\\assets\n"
     ]
    },
    {
     "name": "stderr",
     "output_type": "stream",
     "text": [
      "INFO:tensorflow:Assets written to: s2s_LSTM_256TimeD_6\\assets\n"
     ]
    },
    {
     "name": "stdout",
     "output_type": "stream",
     "text": [
      "Epoch 6/500\n",
      "781/781 [==============================] - 20s 26ms/step - loss: 5.0994e-04 - mse: 2.1053e-04 - val_loss: 5.5543e-04 - val_mse: 3.4180e-04\n"
     ]
    },
    {
     "name": "stderr",
     "output_type": "stream",
     "text": [
      "WARNING:absl:Found untraced functions such as lstm_cell_layer_call_and_return_conditional_losses, lstm_cell_layer_call_fn, lstm_cell_1_layer_call_and_return_conditional_losses, lstm_cell_1_layer_call_fn, lstm_cell_layer_call_fn while saving (showing 5 of 10). These functions will not be directly callable after loading.\n"
     ]
    },
    {
     "name": "stdout",
     "output_type": "stream",
     "text": [
      "INFO:tensorflow:Assets written to: s2s_LSTM_256TimeD_6\\assets\n"
     ]
    },
    {
     "name": "stderr",
     "output_type": "stream",
     "text": [
      "INFO:tensorflow:Assets written to: s2s_LSTM_256TimeD_6\\assets\n"
     ]
    },
    {
     "name": "stdout",
     "output_type": "stream",
     "text": [
      "Epoch 7/500\n",
      "781/781 [==============================] - 21s 27ms/step - loss: 4.7415e-04 - mse: 2.1527e-04 - val_loss: 5.4826e-04 - val_mse: 3.9824e-04\n"
     ]
    },
    {
     "name": "stderr",
     "output_type": "stream",
     "text": [
      "WARNING:absl:Found untraced functions such as lstm_cell_layer_call_and_return_conditional_losses, lstm_cell_layer_call_fn, lstm_cell_1_layer_call_and_return_conditional_losses, lstm_cell_1_layer_call_fn, lstm_cell_layer_call_fn while saving (showing 5 of 10). These functions will not be directly callable after loading.\n"
     ]
    },
    {
     "name": "stdout",
     "output_type": "stream",
     "text": [
      "INFO:tensorflow:Assets written to: s2s_LSTM_256TimeD_6\\assets\n"
     ]
    },
    {
     "name": "stderr",
     "output_type": "stream",
     "text": [
      "INFO:tensorflow:Assets written to: s2s_LSTM_256TimeD_6\\assets\n"
     ]
    },
    {
     "name": "stdout",
     "output_type": "stream",
     "text": [
      "Epoch 8/500\n",
      "781/781 [==============================] - 22s 27ms/step - loss: 4.3737e-04 - mse: 2.0712e-04 - val_loss: 5.0662e-04 - val_mse: 3.7548e-04\n"
     ]
    },
    {
     "name": "stderr",
     "output_type": "stream",
     "text": [
      "WARNING:absl:Found untraced functions such as lstm_cell_layer_call_and_return_conditional_losses, lstm_cell_layer_call_fn, lstm_cell_1_layer_call_and_return_conditional_losses, lstm_cell_1_layer_call_fn, lstm_cell_layer_call_fn while saving (showing 5 of 10). These functions will not be directly callable after loading.\n"
     ]
    },
    {
     "name": "stdout",
     "output_type": "stream",
     "text": [
      "INFO:tensorflow:Assets written to: s2s_LSTM_256TimeD_6\\assets\n"
     ]
    },
    {
     "name": "stderr",
     "output_type": "stream",
     "text": [
      "INFO:tensorflow:Assets written to: s2s_LSTM_256TimeD_6\\assets\n"
     ]
    },
    {
     "name": "stdout",
     "output_type": "stream",
     "text": [
      "Epoch 9/500\n",
      "781/781 [==============================] - 21s 27ms/step - loss: 4.0033e-04 - mse: 1.8941e-04 - val_loss: 4.5076e-04 - val_mse: 3.1628e-04\n"
     ]
    },
    {
     "name": "stderr",
     "output_type": "stream",
     "text": [
      "WARNING:absl:Found untraced functions such as lstm_cell_layer_call_and_return_conditional_losses, lstm_cell_layer_call_fn, lstm_cell_1_layer_call_and_return_conditional_losses, lstm_cell_1_layer_call_fn, lstm_cell_layer_call_fn while saving (showing 5 of 10). These functions will not be directly callable after loading.\n"
     ]
    },
    {
     "name": "stdout",
     "output_type": "stream",
     "text": [
      "INFO:tensorflow:Assets written to: s2s_LSTM_256TimeD_6\\assets\n"
     ]
    },
    {
     "name": "stderr",
     "output_type": "stream",
     "text": [
      "INFO:tensorflow:Assets written to: s2s_LSTM_256TimeD_6\\assets\n"
     ]
    },
    {
     "name": "stdout",
     "output_type": "stream",
     "text": [
      "Epoch 10/500\n",
      "781/781 [==============================] - 21s 27ms/step - loss: 3.6909e-04 - mse: 1.7617e-04 - val_loss: 4.2479e-04 - val_mse: 3.1043e-04\n"
     ]
    },
    {
     "name": "stderr",
     "output_type": "stream",
     "text": [
      "WARNING:absl:Found untraced functions such as lstm_cell_layer_call_and_return_conditional_losses, lstm_cell_layer_call_fn, lstm_cell_1_layer_call_and_return_conditional_losses, lstm_cell_1_layer_call_fn, lstm_cell_layer_call_fn while saving (showing 5 of 10). These functions will not be directly callable after loading.\n"
     ]
    },
    {
     "name": "stdout",
     "output_type": "stream",
     "text": [
      "INFO:tensorflow:Assets written to: s2s_LSTM_256TimeD_6\\assets\n"
     ]
    },
    {
     "name": "stderr",
     "output_type": "stream",
     "text": [
      "INFO:tensorflow:Assets written to: s2s_LSTM_256TimeD_6\\assets\n"
     ]
    },
    {
     "name": "stdout",
     "output_type": "stream",
     "text": [
      "Epoch 11/500\n",
      "781/781 [==============================] - 22s 28ms/step - loss: 3.4302e-04 - mse: 1.6733e-04 - val_loss: 4.2013e-04 - val_mse: 3.4179e-04\n"
     ]
    },
    {
     "name": "stderr",
     "output_type": "stream",
     "text": [
      "WARNING:absl:Found untraced functions such as lstm_cell_layer_call_and_return_conditional_losses, lstm_cell_layer_call_fn, lstm_cell_1_layer_call_and_return_conditional_losses, lstm_cell_1_layer_call_fn, lstm_cell_layer_call_fn while saving (showing 5 of 10). These functions will not be directly callable after loading.\n"
     ]
    },
    {
     "name": "stdout",
     "output_type": "stream",
     "text": [
      "INFO:tensorflow:Assets written to: s2s_LSTM_256TimeD_6\\assets\n"
     ]
    },
    {
     "name": "stderr",
     "output_type": "stream",
     "text": [
      "INFO:tensorflow:Assets written to: s2s_LSTM_256TimeD_6\\assets\n"
     ]
    },
    {
     "name": "stdout",
     "output_type": "stream",
     "text": [
      "Epoch 12/500\n",
      "781/781 [==============================] - 20s 25ms/step - loss: 3.1906e-04 - mse: 1.5771e-04 - val_loss: 3.7597e-04 - val_mse: 2.8960e-04\n"
     ]
    },
    {
     "name": "stderr",
     "output_type": "stream",
     "text": [
      "WARNING:absl:Found untraced functions such as lstm_cell_layer_call_and_return_conditional_losses, lstm_cell_layer_call_fn, lstm_cell_1_layer_call_and_return_conditional_losses, lstm_cell_1_layer_call_fn, lstm_cell_layer_call_fn while saving (showing 5 of 10). These functions will not be directly callable after loading.\n"
     ]
    },
    {
     "name": "stdout",
     "output_type": "stream",
     "text": [
      "INFO:tensorflow:Assets written to: s2s_LSTM_256TimeD_6\\assets\n"
     ]
    },
    {
     "name": "stderr",
     "output_type": "stream",
     "text": [
      "INFO:tensorflow:Assets written to: s2s_LSTM_256TimeD_6\\assets\n"
     ]
    },
    {
     "name": "stdout",
     "output_type": "stream",
     "text": [
      "Epoch 13/500\n",
      "781/781 [==============================] - 20s 26ms/step - loss: 2.9788e-04 - mse: 1.4973e-04 - val_loss: 3.5638e-04 - val_mse: 2.8310e-04\n"
     ]
    },
    {
     "name": "stderr",
     "output_type": "stream",
     "text": [
      "WARNING:absl:Found untraced functions such as lstm_cell_layer_call_and_return_conditional_losses, lstm_cell_layer_call_fn, lstm_cell_1_layer_call_and_return_conditional_losses, lstm_cell_1_layer_call_fn, lstm_cell_layer_call_fn while saving (showing 5 of 10). These functions will not be directly callable after loading.\n"
     ]
    },
    {
     "name": "stdout",
     "output_type": "stream",
     "text": [
      "INFO:tensorflow:Assets written to: s2s_LSTM_256TimeD_6\\assets\n"
     ]
    },
    {
     "name": "stderr",
     "output_type": "stream",
     "text": [
      "INFO:tensorflow:Assets written to: s2s_LSTM_256TimeD_6\\assets\n"
     ]
    },
    {
     "name": "stdout",
     "output_type": "stream",
     "text": [
      "Epoch 14/500\n",
      "781/781 [==============================] - 20s 25ms/step - loss: 2.7940e-04 - mse: 1.4389e-04 - val_loss: 3.4728e-04 - val_mse: 2.9453e-04\n"
     ]
    },
    {
     "name": "stderr",
     "output_type": "stream",
     "text": [
      "WARNING:absl:Found untraced functions such as lstm_cell_layer_call_and_return_conditional_losses, lstm_cell_layer_call_fn, lstm_cell_1_layer_call_and_return_conditional_losses, lstm_cell_1_layer_call_fn, lstm_cell_layer_call_fn while saving (showing 5 of 10). These functions will not be directly callable after loading.\n"
     ]
    },
    {
     "name": "stdout",
     "output_type": "stream",
     "text": [
      "INFO:tensorflow:Assets written to: s2s_LSTM_256TimeD_6\\assets\n"
     ]
    },
    {
     "name": "stderr",
     "output_type": "stream",
     "text": [
      "INFO:tensorflow:Assets written to: s2s_LSTM_256TimeD_6\\assets\n"
     ]
    },
    {
     "name": "stdout",
     "output_type": "stream",
     "text": [
      "Epoch 15/500\n",
      "781/781 [==============================] - 21s 26ms/step - loss: 2.6211e-04 - mse: 1.3752e-04 - val_loss: 3.2071e-04 - val_mse: 2.6827e-04\n"
     ]
    },
    {
     "name": "stderr",
     "output_type": "stream",
     "text": [
      "WARNING:absl:Found untraced functions such as lstm_cell_layer_call_and_return_conditional_losses, lstm_cell_layer_call_fn, lstm_cell_1_layer_call_and_return_conditional_losses, lstm_cell_1_layer_call_fn, lstm_cell_layer_call_fn while saving (showing 5 of 10). These functions will not be directly callable after loading.\n"
     ]
    },
    {
     "name": "stdout",
     "output_type": "stream",
     "text": [
      "INFO:tensorflow:Assets written to: s2s_LSTM_256TimeD_6\\assets\n"
     ]
    },
    {
     "name": "stderr",
     "output_type": "stream",
     "text": [
      "INFO:tensorflow:Assets written to: s2s_LSTM_256TimeD_6\\assets\n"
     ]
    },
    {
     "name": "stdout",
     "output_type": "stream",
     "text": [
      "Epoch 16/500\n",
      "781/781 [==============================] - 21s 27ms/step - loss: 2.4496e-04 - mse: 1.2888e-04 - val_loss: 2.8246e-04 - val_mse: 2.1626e-04\n"
     ]
    },
    {
     "name": "stderr",
     "output_type": "stream",
     "text": [
      "WARNING:absl:Found untraced functions such as lstm_cell_layer_call_and_return_conditional_losses, lstm_cell_layer_call_fn, lstm_cell_1_layer_call_and_return_conditional_losses, lstm_cell_1_layer_call_fn, lstm_cell_layer_call_fn while saving (showing 5 of 10). These functions will not be directly callable after loading.\n"
     ]
    },
    {
     "name": "stdout",
     "output_type": "stream",
     "text": [
      "INFO:tensorflow:Assets written to: s2s_LSTM_256TimeD_6\\assets\n"
     ]
    },
    {
     "name": "stderr",
     "output_type": "stream",
     "text": [
      "INFO:tensorflow:Assets written to: s2s_LSTM_256TimeD_6\\assets\n"
     ]
    },
    {
     "name": "stdout",
     "output_type": "stream",
     "text": [
      "Epoch 17/500\n",
      "781/781 [==============================] - 22s 28ms/step - loss: 2.3135e-04 - mse: 1.2500e-04 - val_loss: 2.6583e-04 - val_mse: 2.0513e-04\n"
     ]
    },
    {
     "name": "stderr",
     "output_type": "stream",
     "text": [
      "WARNING:absl:Found untraced functions such as lstm_cell_layer_call_and_return_conditional_losses, lstm_cell_layer_call_fn, lstm_cell_1_layer_call_and_return_conditional_losses, lstm_cell_1_layer_call_fn, lstm_cell_layer_call_fn while saving (showing 5 of 10). These functions will not be directly callable after loading.\n"
     ]
    },
    {
     "name": "stdout",
     "output_type": "stream",
     "text": [
      "INFO:tensorflow:Assets written to: s2s_LSTM_256TimeD_6\\assets\n"
     ]
    },
    {
     "name": "stderr",
     "output_type": "stream",
     "text": [
      "INFO:tensorflow:Assets written to: s2s_LSTM_256TimeD_6\\assets\n"
     ]
    },
    {
     "name": "stdout",
     "output_type": "stream",
     "text": [
      "Epoch 18/500\n",
      "781/781 [==============================] - 21s 27ms/step - loss: 2.1938e-04 - mse: 1.2214e-04 - val_loss: 2.3608e-04 - val_mse: 1.6565e-04\n"
     ]
    },
    {
     "name": "stderr",
     "output_type": "stream",
     "text": [
      "WARNING:absl:Found untraced functions such as lstm_cell_layer_call_and_return_conditional_losses, lstm_cell_layer_call_fn, lstm_cell_1_layer_call_and_return_conditional_losses, lstm_cell_1_layer_call_fn, lstm_cell_layer_call_fn while saving (showing 5 of 10). These functions will not be directly callable after loading.\n"
     ]
    },
    {
     "name": "stdout",
     "output_type": "stream",
     "text": [
      "INFO:tensorflow:Assets written to: s2s_LSTM_256TimeD_6\\assets\n"
     ]
    },
    {
     "name": "stderr",
     "output_type": "stream",
     "text": [
      "INFO:tensorflow:Assets written to: s2s_LSTM_256TimeD_6\\assets\n"
     ]
    },
    {
     "name": "stdout",
     "output_type": "stream",
     "text": [
      "Epoch 19/500\n",
      "781/781 [==============================] - 21s 27ms/step - loss: 2.0605e-04 - mse: 1.1467e-04 - val_loss: 2.1299e-04 - val_mse: 1.3783e-04\n"
     ]
    },
    {
     "name": "stderr",
     "output_type": "stream",
     "text": [
      "WARNING:absl:Found untraced functions such as lstm_cell_layer_call_and_return_conditional_losses, lstm_cell_layer_call_fn, lstm_cell_1_layer_call_and_return_conditional_losses, lstm_cell_1_layer_call_fn, lstm_cell_layer_call_fn while saving (showing 5 of 10). These functions will not be directly callable after loading.\n"
     ]
    },
    {
     "name": "stdout",
     "output_type": "stream",
     "text": [
      "INFO:tensorflow:Assets written to: s2s_LSTM_256TimeD_6\\assets\n"
     ]
    },
    {
     "name": "stderr",
     "output_type": "stream",
     "text": [
      "INFO:tensorflow:Assets written to: s2s_LSTM_256TimeD_6\\assets\n"
     ]
    },
    {
     "name": "stdout",
     "output_type": "stream",
     "text": [
      "Epoch 20/500\n",
      "781/781 [==============================] - 21s 27ms/step - loss: 1.9553e-04 - mse: 1.1125e-04 - val_loss: 1.8828e-04 - val_mse: 1.0523e-04\n"
     ]
    },
    {
     "name": "stderr",
     "output_type": "stream",
     "text": [
      "WARNING:absl:Found untraced functions such as lstm_cell_layer_call_and_return_conditional_losses, lstm_cell_layer_call_fn, lstm_cell_1_layer_call_and_return_conditional_losses, lstm_cell_1_layer_call_fn, lstm_cell_layer_call_fn while saving (showing 5 of 10). These functions will not be directly callable after loading.\n"
     ]
    },
    {
     "name": "stdout",
     "output_type": "stream",
     "text": [
      "INFO:tensorflow:Assets written to: s2s_LSTM_256TimeD_6\\assets\n"
     ]
    },
    {
     "name": "stderr",
     "output_type": "stream",
     "text": [
      "INFO:tensorflow:Assets written to: s2s_LSTM_256TimeD_6\\assets\n"
     ]
    },
    {
     "name": "stdout",
     "output_type": "stream",
     "text": [
      "Epoch 21/500\n",
      "781/781 [==============================] - 23s 29ms/step - loss: 1.8587e-04 - mse: 1.0801e-04 - val_loss: 1.7199e-04 - val_mse: 8.7981e-05\n"
     ]
    },
    {
     "name": "stderr",
     "output_type": "stream",
     "text": [
      "WARNING:absl:Found untraced functions such as lstm_cell_layer_call_and_return_conditional_losses, lstm_cell_layer_call_fn, lstm_cell_1_layer_call_and_return_conditional_losses, lstm_cell_1_layer_call_fn, lstm_cell_layer_call_fn while saving (showing 5 of 10). These functions will not be directly callable after loading.\n"
     ]
    },
    {
     "name": "stdout",
     "output_type": "stream",
     "text": [
      "INFO:tensorflow:Assets written to: s2s_LSTM_256TimeD_6\\assets\n"
     ]
    },
    {
     "name": "stderr",
     "output_type": "stream",
     "text": [
      "INFO:tensorflow:Assets written to: s2s_LSTM_256TimeD_6\\assets\n"
     ]
    },
    {
     "name": "stdout",
     "output_type": "stream",
     "text": [
      "Epoch 22/500\n",
      "781/781 [==============================] - 21s 27ms/step - loss: 1.7714e-04 - mse: 1.0523e-04 - val_loss: 1.5700e-04 - val_mse: 7.2017e-05\n"
     ]
    },
    {
     "name": "stderr",
     "output_type": "stream",
     "text": [
      "WARNING:absl:Found untraced functions such as lstm_cell_layer_call_and_return_conditional_losses, lstm_cell_layer_call_fn, lstm_cell_1_layer_call_and_return_conditional_losses, lstm_cell_1_layer_call_fn, lstm_cell_layer_call_fn while saving (showing 5 of 10). These functions will not be directly callable after loading.\n"
     ]
    },
    {
     "name": "stdout",
     "output_type": "stream",
     "text": [
      "INFO:tensorflow:Assets written to: s2s_LSTM_256TimeD_6\\assets\n"
     ]
    },
    {
     "name": "stderr",
     "output_type": "stream",
     "text": [
      "INFO:tensorflow:Assets written to: s2s_LSTM_256TimeD_6\\assets\n"
     ]
    },
    {
     "name": "stdout",
     "output_type": "stream",
     "text": [
      "Epoch 23/500\n",
      "781/781 [==============================] - 22s 28ms/step - loss: 1.6938e-04 - mse: 1.0307e-04 - val_loss: 1.4441e-04 - val_mse: 5.9494e-05\n"
     ]
    },
    {
     "name": "stderr",
     "output_type": "stream",
     "text": [
      "WARNING:absl:Found untraced functions such as lstm_cell_layer_call_and_return_conditional_losses, lstm_cell_layer_call_fn, lstm_cell_1_layer_call_and_return_conditional_losses, lstm_cell_1_layer_call_fn, lstm_cell_layer_call_fn while saving (showing 5 of 10). These functions will not be directly callable after loading.\n"
     ]
    },
    {
     "name": "stdout",
     "output_type": "stream",
     "text": [
      "INFO:tensorflow:Assets written to: s2s_LSTM_256TimeD_6\\assets\n"
     ]
    },
    {
     "name": "stderr",
     "output_type": "stream",
     "text": [
      "INFO:tensorflow:Assets written to: s2s_LSTM_256TimeD_6\\assets\n"
     ]
    },
    {
     "name": "stdout",
     "output_type": "stream",
     "text": [
      "Epoch 24/500\n",
      "781/781 [==============================] - 22s 28ms/step - loss: 1.6267e-04 - mse: 1.0175e-04 - val_loss: 1.3419e-04 - val_mse: 5.0539e-05\n"
     ]
    },
    {
     "name": "stderr",
     "output_type": "stream",
     "text": [
      "WARNING:absl:Found untraced functions such as lstm_cell_layer_call_and_return_conditional_losses, lstm_cell_layer_call_fn, lstm_cell_1_layer_call_and_return_conditional_losses, lstm_cell_1_layer_call_fn, lstm_cell_layer_call_fn while saving (showing 5 of 10). These functions will not be directly callable after loading.\n"
     ]
    },
    {
     "name": "stdout",
     "output_type": "stream",
     "text": [
      "INFO:tensorflow:Assets written to: s2s_LSTM_256TimeD_6\\assets\n"
     ]
    },
    {
     "name": "stderr",
     "output_type": "stream",
     "text": [
      "INFO:tensorflow:Assets written to: s2s_LSTM_256TimeD_6\\assets\n"
     ]
    },
    {
     "name": "stdout",
     "output_type": "stream",
     "text": [
      "Epoch 25/500\n",
      "781/781 [==============================] - 22s 28ms/step - loss: 1.5503e-04 - mse: 9.7445e-05 - val_loss: 1.2631e-04 - val_mse: 4.5295e-05\n"
     ]
    },
    {
     "name": "stderr",
     "output_type": "stream",
     "text": [
      "WARNING:absl:Found untraced functions such as lstm_cell_layer_call_and_return_conditional_losses, lstm_cell_layer_call_fn, lstm_cell_1_layer_call_and_return_conditional_losses, lstm_cell_1_layer_call_fn, lstm_cell_layer_call_fn while saving (showing 5 of 10). These functions will not be directly callable after loading.\n"
     ]
    },
    {
     "name": "stdout",
     "output_type": "stream",
     "text": [
      "INFO:tensorflow:Assets written to: s2s_LSTM_256TimeD_6\\assets\n"
     ]
    },
    {
     "name": "stderr",
     "output_type": "stream",
     "text": [
      "INFO:tensorflow:Assets written to: s2s_LSTM_256TimeD_6\\assets\n"
     ]
    },
    {
     "name": "stdout",
     "output_type": "stream",
     "text": [
      "Epoch 26/500\n",
      "781/781 [==============================] - 22s 27ms/step - loss: 1.4971e-04 - mse: 9.6845e-05 - val_loss: 1.1872e-04 - val_mse: 3.9691e-05\n"
     ]
    },
    {
     "name": "stderr",
     "output_type": "stream",
     "text": [
      "WARNING:absl:Found untraced functions such as lstm_cell_layer_call_and_return_conditional_losses, lstm_cell_layer_call_fn, lstm_cell_1_layer_call_and_return_conditional_losses, lstm_cell_1_layer_call_fn, lstm_cell_layer_call_fn while saving (showing 5 of 10). These functions will not be directly callable after loading.\n"
     ]
    },
    {
     "name": "stdout",
     "output_type": "stream",
     "text": [
      "INFO:tensorflow:Assets written to: s2s_LSTM_256TimeD_6\\assets\n"
     ]
    },
    {
     "name": "stderr",
     "output_type": "stream",
     "text": [
      "INFO:tensorflow:Assets written to: s2s_LSTM_256TimeD_6\\assets\n"
     ]
    },
    {
     "name": "stdout",
     "output_type": "stream",
     "text": [
      "Epoch 27/500\n",
      "781/781 [==============================] - 19s 25ms/step - loss: 1.4389e-04 - mse: 9.4414e-05 - val_loss: 1.1324e-04 - val_mse: 3.7548e-05\n"
     ]
    },
    {
     "name": "stderr",
     "output_type": "stream",
     "text": [
      "WARNING:absl:Found untraced functions such as lstm_cell_layer_call_and_return_conditional_losses, lstm_cell_layer_call_fn, lstm_cell_1_layer_call_and_return_conditional_losses, lstm_cell_1_layer_call_fn, lstm_cell_layer_call_fn while saving (showing 5 of 10). These functions will not be directly callable after loading.\n"
     ]
    },
    {
     "name": "stdout",
     "output_type": "stream",
     "text": [
      "INFO:tensorflow:Assets written to: s2s_LSTM_256TimeD_6\\assets\n"
     ]
    },
    {
     "name": "stderr",
     "output_type": "stream",
     "text": [
      "INFO:tensorflow:Assets written to: s2s_LSTM_256TimeD_6\\assets\n"
     ]
    },
    {
     "name": "stdout",
     "output_type": "stream",
     "text": [
      "Epoch 28/500\n",
      "781/781 [==============================] - 20s 26ms/step - loss: 1.3936e-04 - mse: 9.3833e-05 - val_loss: 1.0816e-04 - val_mse: 3.5514e-05\n"
     ]
    },
    {
     "name": "stderr",
     "output_type": "stream",
     "text": [
      "WARNING:absl:Found untraced functions such as lstm_cell_layer_call_and_return_conditional_losses, lstm_cell_layer_call_fn, lstm_cell_1_layer_call_and_return_conditional_losses, lstm_cell_1_layer_call_fn, lstm_cell_layer_call_fn while saving (showing 5 of 10). These functions will not be directly callable after loading.\n"
     ]
    },
    {
     "name": "stdout",
     "output_type": "stream",
     "text": [
      "INFO:tensorflow:Assets written to: s2s_LSTM_256TimeD_6\\assets\n"
     ]
    },
    {
     "name": "stderr",
     "output_type": "stream",
     "text": [
      "INFO:tensorflow:Assets written to: s2s_LSTM_256TimeD_6\\assets\n"
     ]
    },
    {
     "name": "stdout",
     "output_type": "stream",
     "text": [
      "Epoch 29/500\n",
      "781/781 [==============================] - 22s 28ms/step - loss: 1.3353e-04 - mse: 9.0020e-05 - val_loss: 1.0376e-04 - val_mse: 3.4287e-05\n"
     ]
    },
    {
     "name": "stderr",
     "output_type": "stream",
     "text": [
      "WARNING:absl:Found untraced functions such as lstm_cell_layer_call_and_return_conditional_losses, lstm_cell_layer_call_fn, lstm_cell_1_layer_call_and_return_conditional_losses, lstm_cell_1_layer_call_fn, lstm_cell_layer_call_fn while saving (showing 5 of 10). These functions will not be directly callable after loading.\n"
     ]
    },
    {
     "name": "stdout",
     "output_type": "stream",
     "text": [
      "INFO:tensorflow:Assets written to: s2s_LSTM_256TimeD_6\\assets\n"
     ]
    },
    {
     "name": "stderr",
     "output_type": "stream",
     "text": [
      "INFO:tensorflow:Assets written to: s2s_LSTM_256TimeD_6\\assets\n"
     ]
    },
    {
     "name": "stdout",
     "output_type": "stream",
     "text": [
      "Epoch 30/500\n",
      "781/781 [==============================] - 22s 28ms/step - loss: 1.2904e-04 - mse: 8.8365e-05 - val_loss: 9.9208e-05 - val_mse: 3.2259e-05\n"
     ]
    },
    {
     "name": "stderr",
     "output_type": "stream",
     "text": [
      "WARNING:absl:Found untraced functions such as lstm_cell_layer_call_and_return_conditional_losses, lstm_cell_layer_call_fn, lstm_cell_1_layer_call_and_return_conditional_losses, lstm_cell_1_layer_call_fn, lstm_cell_layer_call_fn while saving (showing 5 of 10). These functions will not be directly callable after loading.\n"
     ]
    },
    {
     "name": "stdout",
     "output_type": "stream",
     "text": [
      "INFO:tensorflow:Assets written to: s2s_LSTM_256TimeD_6\\assets\n"
     ]
    },
    {
     "name": "stderr",
     "output_type": "stream",
     "text": [
      "INFO:tensorflow:Assets written to: s2s_LSTM_256TimeD_6\\assets\n"
     ]
    },
    {
     "name": "stdout",
     "output_type": "stream",
     "text": [
      "Epoch 31/500\n",
      "781/781 [==============================] - 23s 29ms/step - loss: 1.2512e-04 - mse: 8.7402e-05 - val_loss: 9.5702e-05 - val_mse: 3.1887e-05\n"
     ]
    },
    {
     "name": "stderr",
     "output_type": "stream",
     "text": [
      "WARNING:absl:Found untraced functions such as lstm_cell_layer_call_and_return_conditional_losses, lstm_cell_layer_call_fn, lstm_cell_1_layer_call_and_return_conditional_losses, lstm_cell_1_layer_call_fn, lstm_cell_layer_call_fn while saving (showing 5 of 10). These functions will not be directly callable after loading.\n"
     ]
    },
    {
     "name": "stdout",
     "output_type": "stream",
     "text": [
      "INFO:tensorflow:Assets written to: s2s_LSTM_256TimeD_6\\assets\n"
     ]
    },
    {
     "name": "stderr",
     "output_type": "stream",
     "text": [
      "INFO:tensorflow:Assets written to: s2s_LSTM_256TimeD_6\\assets\n"
     ]
    },
    {
     "name": "stdout",
     "output_type": "stream",
     "text": [
      "Epoch 32/500\n",
      "781/781 [==============================] - 21s 27ms/step - loss: 1.2119e-04 - mse: 8.5967e-05 - val_loss: 9.2503e-05 - val_mse: 3.1706e-05\n"
     ]
    },
    {
     "name": "stderr",
     "output_type": "stream",
     "text": [
      "WARNING:absl:Found untraced functions such as lstm_cell_layer_call_and_return_conditional_losses, lstm_cell_layer_call_fn, lstm_cell_1_layer_call_and_return_conditional_losses, lstm_cell_1_layer_call_fn, lstm_cell_layer_call_fn while saving (showing 5 of 10). These functions will not be directly callable after loading.\n"
     ]
    },
    {
     "name": "stdout",
     "output_type": "stream",
     "text": [
      "INFO:tensorflow:Assets written to: s2s_LSTM_256TimeD_6\\assets\n"
     ]
    },
    {
     "name": "stderr",
     "output_type": "stream",
     "text": [
      "INFO:tensorflow:Assets written to: s2s_LSTM_256TimeD_6\\assets\n"
     ]
    },
    {
     "name": "stdout",
     "output_type": "stream",
     "text": [
      "Epoch 33/500\n",
      "781/781 [==============================] - 22s 28ms/step - loss: 1.1787e-04 - mse: 8.5330e-05 - val_loss: 8.9460e-05 - val_mse: 3.1416e-05\n"
     ]
    },
    {
     "name": "stderr",
     "output_type": "stream",
     "text": [
      "WARNING:absl:Found untraced functions such as lstm_cell_layer_call_and_return_conditional_losses, lstm_cell_layer_call_fn, lstm_cell_1_layer_call_and_return_conditional_losses, lstm_cell_1_layer_call_fn, lstm_cell_layer_call_fn while saving (showing 5 of 10). These functions will not be directly callable after loading.\n"
     ]
    },
    {
     "name": "stdout",
     "output_type": "stream",
     "text": [
      "INFO:tensorflow:Assets written to: s2s_LSTM_256TimeD_6\\assets\n"
     ]
    },
    {
     "name": "stderr",
     "output_type": "stream",
     "text": [
      "INFO:tensorflow:Assets written to: s2s_LSTM_256TimeD_6\\assets\n"
     ]
    },
    {
     "name": "stdout",
     "output_type": "stream",
     "text": [
      "Epoch 34/500\n",
      "781/781 [==============================] - 21s 26ms/step - loss: 1.1406e-04 - mse: 8.3314e-05 - val_loss: 8.6631e-05 - val_mse: 3.1172e-05\n"
     ]
    },
    {
     "name": "stderr",
     "output_type": "stream",
     "text": [
      "WARNING:absl:Found untraced functions such as lstm_cell_layer_call_and_return_conditional_losses, lstm_cell_layer_call_fn, lstm_cell_1_layer_call_and_return_conditional_losses, lstm_cell_1_layer_call_fn, lstm_cell_layer_call_fn while saving (showing 5 of 10). These functions will not be directly callable after loading.\n"
     ]
    },
    {
     "name": "stdout",
     "output_type": "stream",
     "text": [
      "INFO:tensorflow:Assets written to: s2s_LSTM_256TimeD_6\\assets\n"
     ]
    },
    {
     "name": "stderr",
     "output_type": "stream",
     "text": [
      "INFO:tensorflow:Assets written to: s2s_LSTM_256TimeD_6\\assets\n"
     ]
    },
    {
     "name": "stdout",
     "output_type": "stream",
     "text": [
      "Epoch 35/500\n",
      "781/781 [==============================] - 20s 26ms/step - loss: 1.1073e-04 - mse: 8.1901e-05 - val_loss: 8.3732e-05 - val_mse: 3.0468e-05\n"
     ]
    },
    {
     "name": "stderr",
     "output_type": "stream",
     "text": [
      "WARNING:absl:Found untraced functions such as lstm_cell_layer_call_and_return_conditional_losses, lstm_cell_layer_call_fn, lstm_cell_1_layer_call_and_return_conditional_losses, lstm_cell_1_layer_call_fn, lstm_cell_layer_call_fn while saving (showing 5 of 10). These functions will not be directly callable after loading.\n"
     ]
    },
    {
     "name": "stdout",
     "output_type": "stream",
     "text": [
      "INFO:tensorflow:Assets written to: s2s_LSTM_256TimeD_6\\assets\n"
     ]
    },
    {
     "name": "stderr",
     "output_type": "stream",
     "text": [
      "INFO:tensorflow:Assets written to: s2s_LSTM_256TimeD_6\\assets\n"
     ]
    },
    {
     "name": "stdout",
     "output_type": "stream",
     "text": [
      "Epoch 36/500\n",
      "781/781 [==============================] - 21s 26ms/step - loss: 1.0828e-04 - mse: 8.1958e-05 - val_loss: 8.1283e-05 - val_mse: 3.0325e-05\n"
     ]
    },
    {
     "name": "stderr",
     "output_type": "stream",
     "text": [
      "WARNING:absl:Found untraced functions such as lstm_cell_layer_call_and_return_conditional_losses, lstm_cell_layer_call_fn, lstm_cell_1_layer_call_and_return_conditional_losses, lstm_cell_1_layer_call_fn, lstm_cell_layer_call_fn while saving (showing 5 of 10). These functions will not be directly callable after loading.\n"
     ]
    },
    {
     "name": "stdout",
     "output_type": "stream",
     "text": [
      "INFO:tensorflow:Assets written to: s2s_LSTM_256TimeD_6\\assets\n"
     ]
    },
    {
     "name": "stderr",
     "output_type": "stream",
     "text": [
      "INFO:tensorflow:Assets written to: s2s_LSTM_256TimeD_6\\assets\n"
     ]
    },
    {
     "name": "stdout",
     "output_type": "stream",
     "text": [
      "Epoch 37/500\n",
      "781/781 [==============================] - 21s 26ms/step - loss: 1.0435e-04 - mse: 7.8733e-05 - val_loss: 7.9580e-05 - val_mse: 3.1407e-05\n"
     ]
    },
    {
     "name": "stderr",
     "output_type": "stream",
     "text": [
      "WARNING:absl:Found untraced functions such as lstm_cell_layer_call_and_return_conditional_losses, lstm_cell_layer_call_fn, lstm_cell_1_layer_call_and_return_conditional_losses, lstm_cell_1_layer_call_fn, lstm_cell_layer_call_fn while saving (showing 5 of 10). These functions will not be directly callable after loading.\n"
     ]
    },
    {
     "name": "stdout",
     "output_type": "stream",
     "text": [
      "INFO:tensorflow:Assets written to: s2s_LSTM_256TimeD_6\\assets\n"
     ]
    },
    {
     "name": "stderr",
     "output_type": "stream",
     "text": [
      "INFO:tensorflow:Assets written to: s2s_LSTM_256TimeD_6\\assets\n"
     ]
    },
    {
     "name": "stdout",
     "output_type": "stream",
     "text": [
      "Epoch 38/500\n",
      "781/781 [==============================] - 23s 28ms/step - loss: 1.0215e-04 - mse: 7.8713e-05 - val_loss: 8.1658e-05 - val_mse: 3.9790e-05\n",
      "Epoch 39/500\n",
      "781/781 [==============================] - 22s 28ms/step - loss: 9.9942e-05 - mse: 7.8411e-05 - val_loss: 9.0260e-05 - val_mse: 6.0925e-05\n",
      "Epoch 40/500\n",
      "781/781 [==============================] - 22s 28ms/step - loss: 9.7607e-05 - mse: 7.7598e-05 - val_loss: 1.0816e-04 - val_mse: 1.0042e-04\n",
      "Epoch 41/500\n",
      "781/781 [==============================] - 20s 26ms/step - loss: 9.4632e-05 - mse: 7.5293e-05 - val_loss: 1.1821e-04 - val_mse: 1.2405e-04\n",
      "Epoch 42/500\n",
      "781/781 [==============================] - 20s 26ms/step - loss: 9.2912e-05 - mse: 7.5331e-05 - val_loss: 1.2346e-04 - val_mse: 1.3794e-04\n",
      "Epoch 43/500\n",
      "781/781 [==============================] - 20s 26ms/step - loss: 9.1245e-05 - mse: 7.5323e-05 - val_loss: 1.1718e-04 - val_mse: 1.2863e-04\n",
      "Epoch 44/500\n",
      "781/781 [==============================] - 20s 26ms/step - loss: 8.8467e-05 - mse: 7.2929e-05 - val_loss: 1.0822e-04 - val_mse: 1.1380e-04\n",
      "Epoch 45/500\n",
      "781/781 [==============================] - 22s 28ms/step - loss: 8.6674e-05 - mse: 7.2370e-05 - val_loss: 9.6953e-05 - val_mse: 9.4243e-05\n",
      "Epoch 46/500\n",
      "781/781 [==============================] - 22s 28ms/step - loss: 8.4685e-05 - mse: 7.1276e-05 - val_loss: 8.9217e-05 - val_mse: 8.1594e-05\n",
      "Epoch 47/500\n",
      "781/781 [==============================] - 22s 28ms/step - loss: 8.3151e-05 - mse: 7.0927e-05 - val_loss: 8.0480e-05 - val_mse: 6.6751e-05\n",
      "Epoch 48/500\n",
      "781/781 [==============================] - 22s 28ms/step - loss: 8.1292e-05 - mse: 6.9757e-05 - val_loss: 7.4679e-05 - val_mse: 5.7657e-05\n"
     ]
    },
    {
     "name": "stderr",
     "output_type": "stream",
     "text": [
      "WARNING:absl:Found untraced functions such as lstm_cell_layer_call_and_return_conditional_losses, lstm_cell_layer_call_fn, lstm_cell_1_layer_call_and_return_conditional_losses, lstm_cell_1_layer_call_fn, lstm_cell_layer_call_fn while saving (showing 5 of 10). These functions will not be directly callable after loading.\n"
     ]
    },
    {
     "name": "stdout",
     "output_type": "stream",
     "text": [
      "INFO:tensorflow:Assets written to: s2s_LSTM_256TimeD_6\\assets\n"
     ]
    },
    {
     "name": "stderr",
     "output_type": "stream",
     "text": [
      "INFO:tensorflow:Assets written to: s2s_LSTM_256TimeD_6\\assets\n"
     ]
    },
    {
     "name": "stdout",
     "output_type": "stream",
     "text": [
      "Epoch 49/500\n",
      "781/781 [==============================] - 19s 25ms/step - loss: 7.9581e-05 - mse: 6.8758e-05 - val_loss: 6.9750e-05 - val_mse: 5.0157e-05\n"
     ]
    },
    {
     "name": "stderr",
     "output_type": "stream",
     "text": [
      "WARNING:absl:Found untraced functions such as lstm_cell_layer_call_and_return_conditional_losses, lstm_cell_layer_call_fn, lstm_cell_1_layer_call_and_return_conditional_losses, lstm_cell_1_layer_call_fn, lstm_cell_layer_call_fn while saving (showing 5 of 10). These functions will not be directly callable after loading.\n"
     ]
    },
    {
     "name": "stdout",
     "output_type": "stream",
     "text": [
      "INFO:tensorflow:Assets written to: s2s_LSTM_256TimeD_6\\assets\n"
     ]
    },
    {
     "name": "stderr",
     "output_type": "stream",
     "text": [
      "INFO:tensorflow:Assets written to: s2s_LSTM_256TimeD_6\\assets\n"
     ]
    },
    {
     "name": "stdout",
     "output_type": "stream",
     "text": [
      "Epoch 50/500\n",
      "781/781 [==============================] - 20s 25ms/step - loss: 7.8269e-05 - mse: 6.8412e-05 - val_loss: 6.5966e-05 - val_mse: 4.4799e-05\n"
     ]
    },
    {
     "name": "stderr",
     "output_type": "stream",
     "text": [
      "WARNING:absl:Found untraced functions such as lstm_cell_layer_call_and_return_conditional_losses, lstm_cell_layer_call_fn, lstm_cell_1_layer_call_and_return_conditional_losses, lstm_cell_1_layer_call_fn, lstm_cell_layer_call_fn while saving (showing 5 of 10). These functions will not be directly callable after loading.\n"
     ]
    },
    {
     "name": "stdout",
     "output_type": "stream",
     "text": [
      "INFO:tensorflow:Assets written to: s2s_LSTM_256TimeD_6\\assets\n"
     ]
    },
    {
     "name": "stderr",
     "output_type": "stream",
     "text": [
      "INFO:tensorflow:Assets written to: s2s_LSTM_256TimeD_6\\assets\n"
     ]
    },
    {
     "name": "stdout",
     "output_type": "stream",
     "text": [
      "Epoch 51/500\n",
      "781/781 [==============================] - 20s 25ms/step - loss: 7.6699e-05 - mse: 6.7427e-05 - val_loss: 6.2487e-05 - val_mse: 3.9962e-05\n"
     ]
    },
    {
     "name": "stderr",
     "output_type": "stream",
     "text": [
      "WARNING:absl:Found untraced functions such as lstm_cell_layer_call_and_return_conditional_losses, lstm_cell_layer_call_fn, lstm_cell_1_layer_call_and_return_conditional_losses, lstm_cell_1_layer_call_fn, lstm_cell_layer_call_fn while saving (showing 5 of 10). These functions will not be directly callable after loading.\n"
     ]
    },
    {
     "name": "stdout",
     "output_type": "stream",
     "text": [
      "INFO:tensorflow:Assets written to: s2s_LSTM_256TimeD_6\\assets\n"
     ]
    },
    {
     "name": "stderr",
     "output_type": "stream",
     "text": [
      "INFO:tensorflow:Assets written to: s2s_LSTM_256TimeD_6\\assets\n"
     ]
    },
    {
     "name": "stdout",
     "output_type": "stream",
     "text": [
      "Epoch 52/500\n",
      "781/781 [==============================] - 22s 27ms/step - loss: 7.6145e-05 - mse: 6.8363e-05 - val_loss: 5.7966e-05 - val_mse: 3.2914e-05\n"
     ]
    },
    {
     "name": "stderr",
     "output_type": "stream",
     "text": [
      "WARNING:absl:Found untraced functions such as lstm_cell_layer_call_and_return_conditional_losses, lstm_cell_layer_call_fn, lstm_cell_1_layer_call_and_return_conditional_losses, lstm_cell_1_layer_call_fn, lstm_cell_layer_call_fn while saving (showing 5 of 10). These functions will not be directly callable after loading.\n"
     ]
    },
    {
     "name": "stdout",
     "output_type": "stream",
     "text": [
      "INFO:tensorflow:Assets written to: s2s_LSTM_256TimeD_6\\assets\n"
     ]
    },
    {
     "name": "stderr",
     "output_type": "stream",
     "text": [
      "INFO:tensorflow:Assets written to: s2s_LSTM_256TimeD_6\\assets\n"
     ]
    },
    {
     "name": "stdout",
     "output_type": "stream",
     "text": [
      "Epoch 53/500\n",
      "781/781 [==============================] - 23s 29ms/step - loss: 7.3503e-05 - mse: 6.5002e-05 - val_loss: 5.5050e-05 - val_mse: 2.8989e-05\n"
     ]
    },
    {
     "name": "stderr",
     "output_type": "stream",
     "text": [
      "WARNING:absl:Found untraced functions such as lstm_cell_layer_call_and_return_conditional_losses, lstm_cell_layer_call_fn, lstm_cell_1_layer_call_and_return_conditional_losses, lstm_cell_1_layer_call_fn, lstm_cell_layer_call_fn while saving (showing 5 of 10). These functions will not be directly callable after loading.\n"
     ]
    },
    {
     "name": "stdout",
     "output_type": "stream",
     "text": [
      "INFO:tensorflow:Assets written to: s2s_LSTM_256TimeD_6\\assets\n"
     ]
    },
    {
     "name": "stderr",
     "output_type": "stream",
     "text": [
      "INFO:tensorflow:Assets written to: s2s_LSTM_256TimeD_6\\assets\n"
     ]
    },
    {
     "name": "stdout",
     "output_type": "stream",
     "text": [
      "Epoch 54/500\n",
      "781/781 [==============================] - 22s 28ms/step - loss: 7.2794e-05 - mse: 6.5450e-05 - val_loss: 5.3916e-05 - val_mse: 2.8571e-05\n"
     ]
    },
    {
     "name": "stderr",
     "output_type": "stream",
     "text": [
      "WARNING:absl:Found untraced functions such as lstm_cell_layer_call_and_return_conditional_losses, lstm_cell_layer_call_fn, lstm_cell_1_layer_call_and_return_conditional_losses, lstm_cell_1_layer_call_fn, lstm_cell_layer_call_fn while saving (showing 5 of 10). These functions will not be directly callable after loading.\n"
     ]
    },
    {
     "name": "stdout",
     "output_type": "stream",
     "text": [
      "INFO:tensorflow:Assets written to: s2s_LSTM_256TimeD_6\\assets\n"
     ]
    },
    {
     "name": "stderr",
     "output_type": "stream",
     "text": [
      "INFO:tensorflow:Assets written to: s2s_LSTM_256TimeD_6\\assets\n"
     ]
    },
    {
     "name": "stdout",
     "output_type": "stream",
     "text": [
      "Epoch 55/500\n",
      "781/781 [==============================] - 25s 32ms/step - loss: 7.1495e-05 - mse: 6.4637e-05 - val_loss: 5.3330e-05 - val_mse: 2.9147e-05\n"
     ]
    },
    {
     "name": "stderr",
     "output_type": "stream",
     "text": [
      "WARNING:absl:Found untraced functions such as lstm_cell_layer_call_and_return_conditional_losses, lstm_cell_layer_call_fn, lstm_cell_1_layer_call_and_return_conditional_losses, lstm_cell_1_layer_call_fn, lstm_cell_layer_call_fn while saving (showing 5 of 10). These functions will not be directly callable after loading.\n"
     ]
    },
    {
     "name": "stdout",
     "output_type": "stream",
     "text": [
      "INFO:tensorflow:Assets written to: s2s_LSTM_256TimeD_6\\assets\n"
     ]
    },
    {
     "name": "stderr",
     "output_type": "stream",
     "text": [
      "INFO:tensorflow:Assets written to: s2s_LSTM_256TimeD_6\\assets\n"
     ]
    },
    {
     "name": "stdout",
     "output_type": "stream",
     "text": [
      "Epoch 56/500\n",
      "781/781 [==============================] - 23s 29ms/step - loss: 7.0857e-05 - mse: 6.5065e-05 - val_loss: 5.2601e-05 - val_mse: 2.9361e-05\n"
     ]
    },
    {
     "name": "stderr",
     "output_type": "stream",
     "text": [
      "WARNING:absl:Found untraced functions such as lstm_cell_layer_call_and_return_conditional_losses, lstm_cell_layer_call_fn, lstm_cell_1_layer_call_and_return_conditional_losses, lstm_cell_1_layer_call_fn, lstm_cell_layer_call_fn while saving (showing 5 of 10). These functions will not be directly callable after loading.\n"
     ]
    },
    {
     "name": "stdout",
     "output_type": "stream",
     "text": [
      "INFO:tensorflow:Assets written to: s2s_LSTM_256TimeD_6\\assets\n"
     ]
    },
    {
     "name": "stderr",
     "output_type": "stream",
     "text": [
      "INFO:tensorflow:Assets written to: s2s_LSTM_256TimeD_6\\assets\n"
     ]
    },
    {
     "name": "stdout",
     "output_type": "stream",
     "text": [
      "Epoch 57/500\n",
      "781/781 [==============================] - 22s 27ms/step - loss: 6.9345e-05 - mse: 6.3668e-05 - val_loss: 5.0749e-05 - val_mse: 2.7237e-05\n"
     ]
    },
    {
     "name": "stderr",
     "output_type": "stream",
     "text": [
      "WARNING:absl:Found untraced functions such as lstm_cell_layer_call_and_return_conditional_losses, lstm_cell_layer_call_fn, lstm_cell_1_layer_call_and_return_conditional_losses, lstm_cell_1_layer_call_fn, lstm_cell_layer_call_fn while saving (showing 5 of 10). These functions will not be directly callable after loading.\n"
     ]
    },
    {
     "name": "stdout",
     "output_type": "stream",
     "text": [
      "INFO:tensorflow:Assets written to: s2s_LSTM_256TimeD_6\\assets\n"
     ]
    },
    {
     "name": "stderr",
     "output_type": "stream",
     "text": [
      "INFO:tensorflow:Assets written to: s2s_LSTM_256TimeD_6\\assets\n"
     ]
    },
    {
     "name": "stdout",
     "output_type": "stream",
     "text": [
      "Epoch 58/500\n",
      "781/781 [==============================] - 22s 27ms/step - loss: 6.7242e-05 - mse: 6.1038e-05 - val_loss: 5.0717e-05 - val_mse: 2.8742e-05\n"
     ]
    },
    {
     "name": "stderr",
     "output_type": "stream",
     "text": [
      "WARNING:absl:Found untraced functions such as lstm_cell_layer_call_and_return_conditional_losses, lstm_cell_layer_call_fn, lstm_cell_1_layer_call_and_return_conditional_losses, lstm_cell_1_layer_call_fn, lstm_cell_layer_call_fn while saving (showing 5 of 10). These functions will not be directly callable after loading.\n"
     ]
    },
    {
     "name": "stdout",
     "output_type": "stream",
     "text": [
      "INFO:tensorflow:Assets written to: s2s_LSTM_256TimeD_6\\assets\n"
     ]
    },
    {
     "name": "stderr",
     "output_type": "stream",
     "text": [
      "INFO:tensorflow:Assets written to: s2s_LSTM_256TimeD_6\\assets\n"
     ]
    },
    {
     "name": "stdout",
     "output_type": "stream",
     "text": [
      "Epoch 59/500\n",
      "781/781 [==============================] - 22s 28ms/step - loss: 6.7748e-05 - mse: 6.3594e-05 - val_loss: 4.9350e-05 - val_mse: 2.7493e-05\n"
     ]
    },
    {
     "name": "stderr",
     "output_type": "stream",
     "text": [
      "WARNING:absl:Found untraced functions such as lstm_cell_layer_call_and_return_conditional_losses, lstm_cell_layer_call_fn, lstm_cell_1_layer_call_and_return_conditional_losses, lstm_cell_1_layer_call_fn, lstm_cell_layer_call_fn while saving (showing 5 of 10). These functions will not be directly callable after loading.\n"
     ]
    },
    {
     "name": "stdout",
     "output_type": "stream",
     "text": [
      "INFO:tensorflow:Assets written to: s2s_LSTM_256TimeD_6\\assets\n"
     ]
    },
    {
     "name": "stderr",
     "output_type": "stream",
     "text": [
      "INFO:tensorflow:Assets written to: s2s_LSTM_256TimeD_6\\assets\n"
     ]
    },
    {
     "name": "stdout",
     "output_type": "stream",
     "text": [
      "Epoch 60/500\n",
      "781/781 [==============================] - 22s 28ms/step - loss: 6.5619e-05 - mse: 6.0801e-05 - val_loss: 4.9233e-05 - val_mse: 2.8715e-05\n"
     ]
    },
    {
     "name": "stderr",
     "output_type": "stream",
     "text": [
      "WARNING:absl:Found untraced functions such as lstm_cell_layer_call_and_return_conditional_losses, lstm_cell_layer_call_fn, lstm_cell_1_layer_call_and_return_conditional_losses, lstm_cell_1_layer_call_fn, lstm_cell_layer_call_fn while saving (showing 5 of 10). These functions will not be directly callable after loading.\n"
     ]
    },
    {
     "name": "stdout",
     "output_type": "stream",
     "text": [
      "INFO:tensorflow:Assets written to: s2s_LSTM_256TimeD_6\\assets\n"
     ]
    },
    {
     "name": "stderr",
     "output_type": "stream",
     "text": [
      "INFO:tensorflow:Assets written to: s2s_LSTM_256TimeD_6\\assets\n"
     ]
    },
    {
     "name": "stdout",
     "output_type": "stream",
     "text": [
      "Epoch 61/500\n",
      "781/781 [==============================] - 21s 27ms/step - loss: 6.5983e-05 - mse: 6.2963e-05 - val_loss: 4.8581e-05 - val_mse: 2.8785e-05\n"
     ]
    },
    {
     "name": "stderr",
     "output_type": "stream",
     "text": [
      "WARNING:absl:Found untraced functions such as lstm_cell_layer_call_and_return_conditional_losses, lstm_cell_layer_call_fn, lstm_cell_1_layer_call_and_return_conditional_losses, lstm_cell_1_layer_call_fn, lstm_cell_layer_call_fn while saving (showing 5 of 10). These functions will not be directly callable after loading.\n"
     ]
    },
    {
     "name": "stdout",
     "output_type": "stream",
     "text": [
      "INFO:tensorflow:Assets written to: s2s_LSTM_256TimeD_6\\assets\n"
     ]
    },
    {
     "name": "stderr",
     "output_type": "stream",
     "text": [
      "INFO:tensorflow:Assets written to: s2s_LSTM_256TimeD_6\\assets\n"
     ]
    },
    {
     "name": "stdout",
     "output_type": "stream",
     "text": [
      "Epoch 62/500\n",
      "781/781 [==============================] - 21s 27ms/step - loss: 6.3333e-05 - mse: 5.9012e-05 - val_loss: 5.1551e-05 - val_mse: 3.6048e-05\n",
      "Epoch 63/500\n",
      "781/781 [==============================] - 21s 27ms/step - loss: 6.4236e-05 - mse: 6.2169e-05 - val_loss: 5.5805e-05 - val_mse: 4.5857e-05\n",
      "Epoch 64/500\n",
      "781/781 [==============================] - 22s 28ms/step - loss: 6.2365e-05 - mse: 5.9693e-05 - val_loss: 5.6030e-05 - val_mse: 4.7532e-05\n",
      "Epoch 65/500\n",
      "781/781 [==============================] - 25s 32ms/step - loss: 6.1287e-05 - mse: 5.8783e-05 - val_loss: 5.8705e-05 - val_mse: 5.4138e-05\n",
      "Epoch 66/500\n",
      "781/781 [==============================] - 22s 29ms/step - loss: 6.1616e-05 - mse: 6.0656e-05 - val_loss: 5.5692e-05 - val_mse: 4.9276e-05\n",
      "Epoch 67/500\n",
      "781/781 [==============================] - 22s 29ms/step - loss: 5.9025e-05 - mse: 5.6619e-05 - val_loss: 5.1113e-05 - val_mse: 4.1271e-05\n",
      "Epoch 68/500\n",
      "781/781 [==============================] - 23s 29ms/step - loss: 5.9456e-05 - mse: 5.8628e-05 - val_loss: 4.7887e-05 - val_mse: 3.5971e-05\n"
     ]
    },
    {
     "name": "stderr",
     "output_type": "stream",
     "text": [
      "WARNING:absl:Found untraced functions such as lstm_cell_layer_call_and_return_conditional_losses, lstm_cell_layer_call_fn, lstm_cell_1_layer_call_and_return_conditional_losses, lstm_cell_1_layer_call_fn, lstm_cell_layer_call_fn while saving (showing 5 of 10). These functions will not be directly callable after loading.\n"
     ]
    },
    {
     "name": "stdout",
     "output_type": "stream",
     "text": [
      "INFO:tensorflow:Assets written to: s2s_LSTM_256TimeD_6\\assets\n"
     ]
    },
    {
     "name": "stderr",
     "output_type": "stream",
     "text": [
      "INFO:tensorflow:Assets written to: s2s_LSTM_256TimeD_6\\assets\n"
     ]
    },
    {
     "name": "stdout",
     "output_type": "stream",
     "text": [
      "Epoch 69/500\n",
      "781/781 [==============================] - 21s 27ms/step - loss: 5.8815e-05 - mse: 5.8451e-05 - val_loss: 4.4269e-05 - val_mse: 2.9820e-05\n"
     ]
    },
    {
     "name": "stderr",
     "output_type": "stream",
     "text": [
      "WARNING:absl:Found untraced functions such as lstm_cell_layer_call_and_return_conditional_losses, lstm_cell_layer_call_fn, lstm_cell_1_layer_call_and_return_conditional_losses, lstm_cell_1_layer_call_fn, lstm_cell_layer_call_fn while saving (showing 5 of 10). These functions will not be directly callable after loading.\n"
     ]
    },
    {
     "name": "stdout",
     "output_type": "stream",
     "text": [
      "INFO:tensorflow:Assets written to: s2s_LSTM_256TimeD_6\\assets\n"
     ]
    },
    {
     "name": "stderr",
     "output_type": "stream",
     "text": [
      "INFO:tensorflow:Assets written to: s2s_LSTM_256TimeD_6\\assets\n"
     ]
    },
    {
     "name": "stdout",
     "output_type": "stream",
     "text": [
      "Epoch 70/500\n",
      "781/781 [==============================] - 20s 25ms/step - loss: 5.6918e-05 - mse: 5.5712e-05 - val_loss: 4.1863e-05 - val_mse: 2.6083e-05\n"
     ]
    },
    {
     "name": "stderr",
     "output_type": "stream",
     "text": [
      "WARNING:absl:Found untraced functions such as lstm_cell_layer_call_and_return_conditional_losses, lstm_cell_layer_call_fn, lstm_cell_1_layer_call_and_return_conditional_losses, lstm_cell_1_layer_call_fn, lstm_cell_layer_call_fn while saving (showing 5 of 10). These functions will not be directly callable after loading.\n"
     ]
    },
    {
     "name": "stdout",
     "output_type": "stream",
     "text": [
      "INFO:tensorflow:Assets written to: s2s_LSTM_256TimeD_6\\assets\n"
     ]
    },
    {
     "name": "stderr",
     "output_type": "stream",
     "text": [
      "INFO:tensorflow:Assets written to: s2s_LSTM_256TimeD_6\\assets\n"
     ]
    },
    {
     "name": "stdout",
     "output_type": "stream",
     "text": [
      "Epoch 71/500\n",
      "781/781 [==============================] - 21s 26ms/step - loss: 5.6942e-05 - mse: 5.6826e-05 - val_loss: 4.1802e-05 - val_mse: 2.7021e-05\n"
     ]
    },
    {
     "name": "stderr",
     "output_type": "stream",
     "text": [
      "WARNING:absl:Found untraced functions such as lstm_cell_layer_call_and_return_conditional_losses, lstm_cell_layer_call_fn, lstm_cell_1_layer_call_and_return_conditional_losses, lstm_cell_1_layer_call_fn, lstm_cell_layer_call_fn while saving (showing 5 of 10). These functions will not be directly callable after loading.\n"
     ]
    },
    {
     "name": "stdout",
     "output_type": "stream",
     "text": [
      "INFO:tensorflow:Assets written to: s2s_LSTM_256TimeD_6\\assets\n"
     ]
    },
    {
     "name": "stderr",
     "output_type": "stream",
     "text": [
      "INFO:tensorflow:Assets written to: s2s_LSTM_256TimeD_6\\assets\n"
     ]
    },
    {
     "name": "stdout",
     "output_type": "stream",
     "text": [
      "Epoch 72/500\n",
      "781/781 [==============================] - 20s 26ms/step - loss: 5.6045e-05 - mse: 5.6047e-05 - val_loss: 4.0616e-05 - val_mse: 2.5644e-05\n"
     ]
    },
    {
     "name": "stderr",
     "output_type": "stream",
     "text": [
      "WARNING:absl:Found untraced functions such as lstm_cell_layer_call_and_return_conditional_losses, lstm_cell_layer_call_fn, lstm_cell_1_layer_call_and_return_conditional_losses, lstm_cell_1_layer_call_fn, lstm_cell_layer_call_fn while saving (showing 5 of 10). These functions will not be directly callable after loading.\n"
     ]
    },
    {
     "name": "stdout",
     "output_type": "stream",
     "text": [
      "INFO:tensorflow:Assets written to: s2s_LSTM_256TimeD_6\\assets\n"
     ]
    },
    {
     "name": "stderr",
     "output_type": "stream",
     "text": [
      "INFO:tensorflow:Assets written to: s2s_LSTM_256TimeD_6\\assets\n"
     ]
    },
    {
     "name": "stdout",
     "output_type": "stream",
     "text": [
      "Epoch 73/500\n",
      "781/781 [==============================] - 22s 28ms/step - loss: 5.5873e-05 - mse: 5.6699e-05 - val_loss: 4.0780e-05 - val_mse: 2.6960e-05\n",
      "Epoch 74/500\n",
      "781/781 [==============================] - 21s 27ms/step - loss: 5.4347e-05 - mse: 5.4602e-05 - val_loss: 3.8905e-05 - val_mse: 2.4139e-05\n"
     ]
    },
    {
     "name": "stderr",
     "output_type": "stream",
     "text": [
      "WARNING:absl:Found untraced functions such as lstm_cell_layer_call_and_return_conditional_losses, lstm_cell_layer_call_fn, lstm_cell_1_layer_call_and_return_conditional_losses, lstm_cell_1_layer_call_fn, lstm_cell_layer_call_fn while saving (showing 5 of 10). These functions will not be directly callable after loading.\n"
     ]
    },
    {
     "name": "stdout",
     "output_type": "stream",
     "text": [
      "INFO:tensorflow:Assets written to: s2s_LSTM_256TimeD_6\\assets\n"
     ]
    },
    {
     "name": "stderr",
     "output_type": "stream",
     "text": [
      "INFO:tensorflow:Assets written to: s2s_LSTM_256TimeD_6\\assets\n"
     ]
    },
    {
     "name": "stdout",
     "output_type": "stream",
     "text": [
      "Epoch 75/500\n",
      "781/781 [==============================] - 26s 33ms/step - loss: 5.3430e-05 - mse: 5.3719e-05 - val_loss: 4.1004e-05 - val_mse: 2.9293e-05\n",
      "Epoch 76/500\n",
      "781/781 [==============================] - 26s 33ms/step - loss: 5.4741e-05 - mse: 5.7282e-05 - val_loss: 3.9455e-05 - val_mse: 2.7085e-05\n",
      "Epoch 77/500\n",
      "781/781 [==============================] - 24s 30ms/step - loss: 5.0997e-05 - mse: 5.0645e-05 - val_loss: 3.7322e-05 - val_mse: 2.3687e-05\n"
     ]
    },
    {
     "name": "stderr",
     "output_type": "stream",
     "text": [
      "WARNING:absl:Found untraced functions such as lstm_cell_layer_call_and_return_conditional_losses, lstm_cell_layer_call_fn, lstm_cell_1_layer_call_and_return_conditional_losses, lstm_cell_1_layer_call_fn, lstm_cell_layer_call_fn while saving (showing 5 of 10). These functions will not be directly callable after loading.\n"
     ]
    },
    {
     "name": "stdout",
     "output_type": "stream",
     "text": [
      "INFO:tensorflow:Assets written to: s2s_LSTM_256TimeD_6\\assets\n"
     ]
    },
    {
     "name": "stderr",
     "output_type": "stream",
     "text": [
      "INFO:tensorflow:Assets written to: s2s_LSTM_256TimeD_6\\assets\n"
     ]
    },
    {
     "name": "stdout",
     "output_type": "stream",
     "text": [
      "Epoch 78/500\n",
      "781/781 [==============================] - 24s 30ms/step - loss: 5.2214e-05 - mse: 5.3999e-05 - val_loss: 3.9026e-05 - val_mse: 2.8031e-05\n",
      "Epoch 79/500\n",
      "781/781 [==============================] - 23s 29ms/step - loss: 5.2809e-05 - mse: 5.6047e-05 - val_loss: 3.6619e-05 - val_mse: 2.4028e-05\n"
     ]
    },
    {
     "name": "stderr",
     "output_type": "stream",
     "text": [
      "WARNING:absl:Found untraced functions such as lstm_cell_layer_call_and_return_conditional_losses, lstm_cell_layer_call_fn, lstm_cell_1_layer_call_and_return_conditional_losses, lstm_cell_1_layer_call_fn, lstm_cell_layer_call_fn while saving (showing 5 of 10). These functions will not be directly callable after loading.\n"
     ]
    },
    {
     "name": "stdout",
     "output_type": "stream",
     "text": [
      "INFO:tensorflow:Assets written to: s2s_LSTM_256TimeD_6\\assets\n"
     ]
    },
    {
     "name": "stderr",
     "output_type": "stream",
     "text": [
      "INFO:tensorflow:Assets written to: s2s_LSTM_256TimeD_6\\assets\n"
     ]
    },
    {
     "name": "stdout",
     "output_type": "stream",
     "text": [
      "Epoch 80/500\n",
      "781/781 [==============================] - 22s 28ms/step - loss: 4.9021e-05 - mse: 4.9266e-05 - val_loss: 3.7035e-05 - val_mse: 2.5704e-05\n",
      "Epoch 81/500\n",
      "781/781 [==============================] - 20s 26ms/step - loss: 5.1710e-05 - mse: 5.5496e-05 - val_loss: 3.8903e-05 - val_mse: 3.0263e-05\n",
      "Epoch 82/500\n",
      "781/781 [==============================] - 21s 27ms/step - loss: 4.9337e-05 - mse: 5.1507e-05 - val_loss: 3.6646e-05 - val_mse: 2.6487e-05\n",
      "Epoch 83/500\n",
      "781/781 [==============================] - 20s 26ms/step - loss: 4.8675e-05 - mse: 5.0952e-05 - val_loss: 3.4967e-05 - val_mse: 2.3880e-05\n"
     ]
    },
    {
     "name": "stderr",
     "output_type": "stream",
     "text": [
      "WARNING:absl:Found untraced functions such as lstm_cell_layer_call_and_return_conditional_losses, lstm_cell_layer_call_fn, lstm_cell_1_layer_call_and_return_conditional_losses, lstm_cell_1_layer_call_fn, lstm_cell_layer_call_fn while saving (showing 5 of 10). These functions will not be directly callable after loading.\n"
     ]
    },
    {
     "name": "stdout",
     "output_type": "stream",
     "text": [
      "INFO:tensorflow:Assets written to: s2s_LSTM_256TimeD_6\\assets\n"
     ]
    },
    {
     "name": "stderr",
     "output_type": "stream",
     "text": [
      "INFO:tensorflow:Assets written to: s2s_LSTM_256TimeD_6\\assets\n"
     ]
    },
    {
     "name": "stdout",
     "output_type": "stream",
     "text": [
      "Epoch 84/500\n",
      "781/781 [==============================] - 19s 25ms/step - loss: 4.9490e-05 - mse: 5.3341e-05 - val_loss: 3.7760e-05 - val_mse: 3.0142e-05\n",
      "Epoch 85/500\n",
      "781/781 [==============================] - 19s 25ms/step - loss: 4.7550e-05 - mse: 5.0152e-05 - val_loss: 5.1514e-05 - val_mse: 5.8283e-05\n",
      "Epoch 86/500\n",
      "781/781 [==============================] - 20s 25ms/step - loss: 4.6476e-05 - mse: 4.8698e-05 - val_loss: 8.8969e-05 - val_mse: 1.3383e-04\n",
      "Epoch 87/500\n",
      "781/781 [==============================] - 19s 25ms/step - loss: 4.8828e-05 - mse: 5.4111e-05 - val_loss: 1.4210e-04 - val_mse: 2.4070e-04\n",
      "Epoch 88/500\n",
      "781/781 [==============================] - 19s 25ms/step - loss: 4.6495e-05 - mse: 5.0054e-05 - val_loss: 1.3695e-04 - val_mse: 2.3099e-04\n",
      "Epoch 89/500\n",
      "781/781 [==============================] - 20s 25ms/step - loss: 4.3857e-05 - mse: 4.5392e-05 - val_loss: 1.7049e-04 - val_mse: 2.9870e-04\n",
      "Epoch 90/500\n",
      "781/781 [==============================] - 20s 25ms/step - loss: 4.8220e-05 - mse: 5.4801e-05 - val_loss: 1.9798e-04 - val_mse: 3.5430e-04\n",
      "Epoch 91/500\n",
      "781/781 [==============================] - 20s 26ms/step - loss: 4.6688e-05 - mse: 5.2300e-05 - val_loss: 1.0476e-04 - val_mse: 1.6848e-04\n",
      "Epoch 92/500\n",
      "781/781 [==============================] - 19s 25ms/step - loss: 4.1439e-05 - mse: 4.2337e-05 - val_loss: 5.7008e-05 - val_mse: 7.3630e-05\n",
      "Epoch 93/500\n",
      "781/781 [==============================] - 19s 24ms/step - loss: 4.5195e-05 - mse: 5.0486e-05 - val_loss: 4.9300e-05 - val_mse: 5.8864e-05\n",
      "Epoch 94/500\n",
      "781/781 [==============================] - 19s 25ms/step - loss: 4.6622e-05 - mse: 5.3907e-05 - val_loss: 3.3890e-05 - val_mse: 2.8617e-05\n"
     ]
    },
    {
     "name": "stderr",
     "output_type": "stream",
     "text": [
      "WARNING:absl:Found untraced functions such as lstm_cell_layer_call_and_return_conditional_losses, lstm_cell_layer_call_fn, lstm_cell_1_layer_call_and_return_conditional_losses, lstm_cell_1_layer_call_fn, lstm_cell_layer_call_fn while saving (showing 5 of 10). These functions will not be directly callable after loading.\n"
     ]
    },
    {
     "name": "stdout",
     "output_type": "stream",
     "text": [
      "INFO:tensorflow:Assets written to: s2s_LSTM_256TimeD_6\\assets\n"
     ]
    },
    {
     "name": "stderr",
     "output_type": "stream",
     "text": [
      "INFO:tensorflow:Assets written to: s2s_LSTM_256TimeD_6\\assets\n"
     ]
    },
    {
     "name": "stdout",
     "output_type": "stream",
     "text": [
      "Epoch 95/500\n",
      "781/781 [==============================] - 20s 25ms/step - loss: 4.1513e-05 - mse: 4.4182e-05 - val_loss: 3.2728e-05 - val_mse: 2.6876e-05\n"
     ]
    },
    {
     "name": "stderr",
     "output_type": "stream",
     "text": [
      "WARNING:absl:Found untraced functions such as lstm_cell_layer_call_and_return_conditional_losses, lstm_cell_layer_call_fn, lstm_cell_1_layer_call_and_return_conditional_losses, lstm_cell_1_layer_call_fn, lstm_cell_layer_call_fn while saving (showing 5 of 10). These functions will not be directly callable after loading.\n"
     ]
    },
    {
     "name": "stdout",
     "output_type": "stream",
     "text": [
      "INFO:tensorflow:Assets written to: s2s_LSTM_256TimeD_6\\assets\n"
     ]
    },
    {
     "name": "stderr",
     "output_type": "stream",
     "text": [
      "INFO:tensorflow:Assets written to: s2s_LSTM_256TimeD_6\\assets\n"
     ]
    },
    {
     "name": "stdout",
     "output_type": "stream",
     "text": [
      "Epoch 96/500\n",
      "781/781 [==============================] - 19s 25ms/step - loss: 4.2977e-05 - mse: 4.7671e-05 - val_loss: 4.9710e-05 - val_mse: 6.1482e-05\n",
      "Epoch 97/500\n",
      "781/781 [==============================] - 19s 25ms/step - loss: 4.4956e-05 - mse: 5.2177e-05 - val_loss: 6.0186e-05 - val_mse: 8.2957e-05\n",
      "Epoch 98/500\n",
      "781/781 [==============================] - 19s 24ms/step - loss: 4.0229e-05 - mse: 4.3190e-05 - val_loss: 7.2745e-05 - val_mse: 1.0858e-04\n",
      "Epoch 99/500\n",
      "781/781 [==============================] - 20s 25ms/step - loss: 4.2254e-05 - mse: 4.7774e-05 - val_loss: 1.0788e-04 - val_mse: 1.7946e-04\n",
      "Epoch 100/500\n",
      "781/781 [==============================] - 19s 24ms/step - loss: 4.3738e-05 - mse: 5.1255e-05 - val_loss: 1.0165e-04 - val_mse: 1.6746e-04\n",
      "Epoch 101/500\n",
      "781/781 [==============================] - 19s 24ms/step - loss: 3.8964e-05 - mse: 4.2139e-05 - val_loss: 7.0023e-05 - val_mse: 1.0460e-04\n",
      "Epoch 102/500\n",
      "781/781 [==============================] - 19s 25ms/step - loss: 4.1295e-05 - mse: 4.7310e-05 - val_loss: 7.0899e-05 - val_mse: 1.0689e-04\n",
      "Epoch 103/500\n",
      "781/781 [==============================] - 19s 24ms/step - loss: 4.3171e-05 - mse: 5.1539e-05 - val_loss: 5.1376e-05 - val_mse: 6.8222e-05\n",
      "Epoch 104/500\n",
      "781/781 [==============================] - 20s 25ms/step - loss: 3.7625e-05 - mse: 4.0831e-05 - val_loss: 2.7590e-05 - val_mse: 2.0966e-05\n"
     ]
    },
    {
     "name": "stderr",
     "output_type": "stream",
     "text": [
      "WARNING:absl:Found untraced functions such as lstm_cell_layer_call_and_return_conditional_losses, lstm_cell_layer_call_fn, lstm_cell_1_layer_call_and_return_conditional_losses, lstm_cell_1_layer_call_fn, lstm_cell_layer_call_fn while saving (showing 5 of 10). These functions will not be directly callable after loading.\n"
     ]
    },
    {
     "name": "stdout",
     "output_type": "stream",
     "text": [
      "INFO:tensorflow:Assets written to: s2s_LSTM_256TimeD_6\\assets\n"
     ]
    },
    {
     "name": "stderr",
     "output_type": "stream",
     "text": [
      "INFO:tensorflow:Assets written to: s2s_LSTM_256TimeD_6\\assets\n"
     ]
    },
    {
     "name": "stdout",
     "output_type": "stream",
     "text": [
      "Epoch 105/500\n",
      "781/781 [==============================] - 20s 25ms/step - loss: 3.8935e-05 - mse: 4.3913e-05 - val_loss: 3.3763e-05 - val_mse: 3.3773e-05\n",
      "Epoch 106/500\n",
      "781/781 [==============================] - 20s 25ms/step - loss: 4.1940e-05 - mse: 5.0382e-05 - val_loss: 4.0151e-05 - val_mse: 4.6927e-05\n",
      "Epoch 107/500\n",
      "781/781 [==============================] - 19s 25ms/step - loss: 3.8604e-05 - mse: 4.4080e-05 - val_loss: 5.2453e-05 - val_mse: 7.1853e-05\n",
      "Epoch 108/500\n",
      "781/781 [==============================] - 19s 25ms/step - loss: 3.7327e-05 - mse: 4.1916e-05 - val_loss: 7.2989e-05 - val_mse: 1.1332e-04\n",
      "Epoch 109/500\n",
      "781/781 [==============================] - 21s 26ms/step - loss: 4.0667e-05 - mse: 4.9022e-05 - val_loss: 8.6274e-05 - val_mse: 1.4029e-04\n",
      "Epoch 110/500\n",
      "781/781 [==============================] - 19s 25ms/step - loss: 3.9297e-05 - mse: 4.6643e-05 - val_loss: 7.1098e-05 - val_mse: 1.1026e-04\n",
      "Epoch 111/500\n",
      "781/781 [==============================] - 19s 25ms/step - loss: 3.5148e-05 - mse: 3.8686e-05 - val_loss: 4.6889e-05 - val_mse: 6.2259e-05\n",
      "Epoch 112/500\n",
      "781/781 [==============================] - 20s 26ms/step - loss: 3.8429e-05 - mse: 4.5668e-05 - val_loss: 3.8251e-05 - val_mse: 4.5406e-05\n",
      "Epoch 113/500\n",
      "781/781 [==============================] - 19s 25ms/step - loss: 4.0724e-05 - mse: 5.0633e-05 - val_loss: 4.0572e-05 - val_mse: 5.0387e-05\n",
      "Epoch 114/500\n",
      "781/781 [==============================] - 19s 25ms/step - loss: 3.4258e-05 - mse: 3.8005e-05 - val_loss: 2.5904e-05 - val_mse: 2.1436e-05\n"
     ]
    },
    {
     "name": "stderr",
     "output_type": "stream",
     "text": [
      "WARNING:absl:Found untraced functions such as lstm_cell_layer_call_and_return_conditional_losses, lstm_cell_layer_call_fn, lstm_cell_1_layer_call_and_return_conditional_losses, lstm_cell_1_layer_call_fn, lstm_cell_layer_call_fn while saving (showing 5 of 10). These functions will not be directly callable after loading.\n"
     ]
    },
    {
     "name": "stdout",
     "output_type": "stream",
     "text": [
      "INFO:tensorflow:Assets written to: s2s_LSTM_256TimeD_6\\assets\n"
     ]
    },
    {
     "name": "stderr",
     "output_type": "stream",
     "text": [
      "INFO:tensorflow:Assets written to: s2s_LSTM_256TimeD_6\\assets\n"
     ]
    },
    {
     "name": "stdout",
     "output_type": "stream",
     "text": [
      "Epoch 115/500\n",
      "781/781 [==============================] - 19s 25ms/step - loss: 3.5876e-05 - mse: 4.1628e-05 - val_loss: 3.2299e-05 - val_mse: 3.4642e-05\n",
      "Epoch 116/500\n",
      "781/781 [==============================] - 19s 25ms/step - loss: 3.9421e-05 - mse: 4.9103e-05 - val_loss: 3.2379e-05 - val_mse: 3.5138e-05\n",
      "Epoch 117/500\n",
      "781/781 [==============================] - 19s 25ms/step - loss: 3.5691e-05 - mse: 4.1942e-05 - val_loss: 2.8208e-05 - val_mse: 2.7129e-05\n",
      "Epoch 118/500\n",
      "781/781 [==============================] - 19s 24ms/step - loss: 3.2958e-05 - mse: 3.6799e-05 - val_loss: 2.8223e-05 - val_mse: 2.7504e-05\n",
      "Epoch 119/500\n",
      "781/781 [==============================] - 19s 24ms/step - loss: 3.6709e-05 - mse: 4.4693e-05 - val_loss: 2.7165e-05 - val_mse: 2.5689e-05\n",
      "Epoch 120/500\n",
      "781/781 [==============================] - 19s 24ms/step - loss: 3.7619e-05 - mse: 4.6845e-05 - val_loss: 2.6095e-05 - val_mse: 2.3889e-05\n",
      "Epoch 121/500\n",
      "781/781 [==============================] - 19s 25ms/step - loss: 3.2422e-05 - mse: 3.6719e-05 - val_loss: 2.6484e-05 - val_mse: 2.4945e-05\n",
      "Epoch 122/500\n",
      "781/781 [==============================] - 20s 25ms/step - loss: 3.4092e-05 - mse: 4.0395e-05 - val_loss: 5.7596e-05 - val_mse: 8.7469e-05\n",
      "Epoch 123/500\n",
      "781/781 [==============================] - 19s 25ms/step - loss: 3.7875e-05 - mse: 4.8300e-05 - val_loss: 4.9631e-05 - val_mse: 7.1829e-05\n",
      "Epoch 124/500\n",
      "781/781 [==============================] - 19s 25ms/step - loss: 3.2787e-05 - mse: 3.8366e-05 - val_loss: 5.1766e-05 - val_mse: 7.6352e-05\n",
      "Epoch 125/500\n",
      "781/781 [==============================] - 19s 25ms/step - loss: 3.2824e-05 - mse: 3.8729e-05 - val_loss: 7.5779e-05 - val_mse: 1.2467e-04\n",
      "Epoch 126/500\n",
      "781/781 [==============================] - 20s 25ms/step - loss: 3.5723e-05 - mse: 4.4842e-05 - val_loss: 7.8931e-05 - val_mse: 1.3126e-04\n",
      "Epoch 127/500\n",
      "781/781 [==============================] - 20s 25ms/step - loss: 3.5435e-05 - mse: 4.4525e-05 - val_loss: 7.0015e-05 - val_mse: 1.1366e-04\n",
      "Epoch 128/500\n",
      "781/781 [==============================] - 19s 25ms/step - loss: 3.0855e-05 - mse: 3.5579e-05 - val_loss: 4.8725e-05 - val_mse: 7.1359e-05\n",
      "Epoch 129/500\n",
      "781/781 [==============================] - 21s 26ms/step - loss: 3.3722e-05 - mse: 4.1606e-05 - val_loss: 3.8351e-05 - val_mse: 5.0939e-05\n",
      "Epoch 130/500\n",
      "781/781 [==============================] - 20s 26ms/step - loss: 3.5339e-05 - mse: 4.5105e-05 - val_loss: 3.4258e-05 - val_mse: 4.2992e-05\n",
      "Epoch 131/500\n",
      "781/781 [==============================] - 19s 25ms/step - loss: 3.2076e-05 - mse: 3.8792e-05 - val_loss: 2.7341e-05 - val_mse: 2.9390e-05\n",
      "Epoch 132/500\n",
      "781/781 [==============================] - 19s 24ms/step - loss: 3.1425e-05 - mse: 3.7728e-05 - val_loss: 2.5481e-05 - val_mse: 2.5973e-05\n"
     ]
    },
    {
     "name": "stderr",
     "output_type": "stream",
     "text": [
      "WARNING:absl:Found untraced functions such as lstm_cell_layer_call_and_return_conditional_losses, lstm_cell_layer_call_fn, lstm_cell_1_layer_call_and_return_conditional_losses, lstm_cell_1_layer_call_fn, lstm_cell_layer_call_fn while saving (showing 5 of 10). These functions will not be directly callable after loading.\n"
     ]
    },
    {
     "name": "stdout",
     "output_type": "stream",
     "text": [
      "INFO:tensorflow:Assets written to: s2s_LSTM_256TimeD_6\\assets\n"
     ]
    },
    {
     "name": "stderr",
     "output_type": "stream",
     "text": [
      "INFO:tensorflow:Assets written to: s2s_LSTM_256TimeD_6\\assets\n"
     ]
    },
    {
     "name": "stdout",
     "output_type": "stream",
     "text": [
      "Epoch 133/500\n",
      "781/781 [==============================] - 20s 26ms/step - loss: 3.4607e-05 - mse: 4.4364e-05 - val_loss: 2.5925e-05 - val_mse: 2.7117e-05\n",
      "Epoch 134/500\n",
      "781/781 [==============================] - 19s 24ms/step - loss: 3.2337e-05 - mse: 4.0036e-05 - val_loss: 2.4448e-05 - val_mse: 2.4357e-05\n"
     ]
    },
    {
     "name": "stderr",
     "output_type": "stream",
     "text": [
      "WARNING:absl:Found untraced functions such as lstm_cell_layer_call_and_return_conditional_losses, lstm_cell_layer_call_fn, lstm_cell_1_layer_call_and_return_conditional_losses, lstm_cell_1_layer_call_fn, lstm_cell_layer_call_fn while saving (showing 5 of 10). These functions will not be directly callable after loading.\n"
     ]
    },
    {
     "name": "stdout",
     "output_type": "stream",
     "text": [
      "INFO:tensorflow:Assets written to: s2s_LSTM_256TimeD_6\\assets\n"
     ]
    },
    {
     "name": "stderr",
     "output_type": "stream",
     "text": [
      "INFO:tensorflow:Assets written to: s2s_LSTM_256TimeD_6\\assets\n"
     ]
    },
    {
     "name": "stdout",
     "output_type": "stream",
     "text": [
      "Epoch 135/500\n",
      "781/781 [==============================] - 20s 26ms/step - loss: 3.0588e-05 - mse: 3.6750e-05 - val_loss: 2.5173e-05 - val_mse: 2.6049e-05\n",
      "Epoch 136/500\n",
      "781/781 [==============================] - 20s 26ms/step - loss: 3.3974e-05 - mse: 4.3788e-05 - val_loss: 2.5778e-05 - val_mse: 2.7483e-05\n",
      "Epoch 137/500\n",
      "781/781 [==============================] - 20s 26ms/step - loss: 3.2046e-05 - mse: 4.0123e-05 - val_loss: 2.4268e-05 - val_mse: 2.4617e-05\n"
     ]
    },
    {
     "name": "stderr",
     "output_type": "stream",
     "text": [
      "WARNING:absl:Found untraced functions such as lstm_cell_layer_call_and_return_conditional_losses, lstm_cell_layer_call_fn, lstm_cell_1_layer_call_and_return_conditional_losses, lstm_cell_1_layer_call_fn, lstm_cell_layer_call_fn while saving (showing 5 of 10). These functions will not be directly callable after loading.\n"
     ]
    },
    {
     "name": "stdout",
     "output_type": "stream",
     "text": [
      "INFO:tensorflow:Assets written to: s2s_LSTM_256TimeD_6\\assets\n"
     ]
    },
    {
     "name": "stderr",
     "output_type": "stream",
     "text": [
      "INFO:tensorflow:Assets written to: s2s_LSTM_256TimeD_6\\assets\n"
     ]
    },
    {
     "name": "stdout",
     "output_type": "stream",
     "text": [
      "Epoch 138/500\n",
      "781/781 [==============================] - 20s 26ms/step - loss: 2.9600e-05 - mse: 3.5427e-05 - val_loss: 4.5124e-05 - val_mse: 6.6507e-05\n",
      "Epoch 139/500\n",
      "781/781 [==============================] - 19s 25ms/step - loss: 3.2617e-05 - mse: 4.1710e-05 - val_loss: 5.9120e-05 - val_mse: 9.4704e-05\n",
      "Epoch 140/500\n",
      "781/781 [==============================] - 20s 25ms/step - loss: 3.2797e-05 - mse: 4.2264e-05 - val_loss: 5.2181e-05 - val_mse: 8.1003e-05\n",
      "Epoch 141/500\n",
      "781/781 [==============================] - 19s 25ms/step - loss: 2.9112e-05 - mse: 3.5061e-05 - val_loss: 5.2008e-05 - val_mse: 8.0839e-05\n",
      "Epoch 142/500\n",
      "781/781 [==============================] - 19s 25ms/step - loss: 3.0363e-05 - mse: 3.7789e-05 - val_loss: 6.7843e-05 - val_mse: 1.1275e-04\n",
      "Epoch 143/500\n",
      "781/781 [==============================] - 19s 25ms/step - loss: 3.2926e-05 - mse: 4.3135e-05 - val_loss: 5.4938e-05 - val_mse: 8.7108e-05\n",
      "Epoch 144/500\n",
      "781/781 [==============================] - 20s 25ms/step - loss: 3.0154e-05 - mse: 3.7746e-05 - val_loss: 3.7172e-05 - val_mse: 5.1787e-05\n",
      "Epoch 145/500\n",
      "781/781 [==============================] - 20s 25ms/step - loss: 2.9261e-05 - mse: 3.6161e-05 - val_loss: 3.2250e-05 - val_mse: 4.2191e-05\n",
      "Epoch 146/500\n",
      "781/781 [==============================] - 19s 25ms/step - loss: 3.2356e-05 - mse: 4.2567e-05 - val_loss: 2.9689e-05 - val_mse: 3.7249e-05\n",
      "Epoch 147/500\n",
      "781/781 [==============================] - 19s 25ms/step - loss: 2.9545e-05 - mse: 3.7102e-05 - val_loss: 2.1595e-05 - val_mse: 2.1238e-05\n"
     ]
    },
    {
     "name": "stderr",
     "output_type": "stream",
     "text": [
      "WARNING:absl:Found untraced functions such as lstm_cell_layer_call_and_return_conditional_losses, lstm_cell_layer_call_fn, lstm_cell_1_layer_call_and_return_conditional_losses, lstm_cell_1_layer_call_fn, lstm_cell_layer_call_fn while saving (showing 5 of 10). These functions will not be directly callable after loading.\n"
     ]
    },
    {
     "name": "stdout",
     "output_type": "stream",
     "text": [
      "INFO:tensorflow:Assets written to: s2s_LSTM_256TimeD_6\\assets\n"
     ]
    },
    {
     "name": "stderr",
     "output_type": "stream",
     "text": [
      "INFO:tensorflow:Assets written to: s2s_LSTM_256TimeD_6\\assets\n"
     ]
    },
    {
     "name": "stdout",
     "output_type": "stream",
     "text": [
      "Epoch 148/500\n",
      "781/781 [==============================] - 22s 28ms/step - loss: 2.8162e-05 - mse: 3.4521e-05 - val_loss: 2.3764e-05 - val_mse: 2.5846e-05\n",
      "Epoch 149/500\n",
      "781/781 [==============================] - 24s 31ms/step - loss: 3.2242e-05 - mse: 4.2909e-05 - val_loss: 2.5998e-05 - val_mse: 3.0510e-05\n",
      "Epoch 150/500\n",
      "781/781 [==============================] - 20s 26ms/step - loss: 2.9519e-05 - mse: 3.7616e-05 - val_loss: 2.3281e-05 - val_mse: 2.5209e-05\n",
      "Epoch 151/500\n",
      "781/781 [==============================] - 21s 26ms/step - loss: 2.7195e-05 - mse: 3.3138e-05 - val_loss: 3.0563e-05 - val_mse: 4.0025e-05\n",
      "Epoch 152/500\n",
      "781/781 [==============================] - 20s 26ms/step - loss: 3.1456e-05 - mse: 4.1884e-05 - val_loss: 2.6904e-05 - val_mse: 3.2870e-05\n",
      "Epoch 153/500\n",
      "781/781 [==============================] - 21s 26ms/step - loss: 2.9224e-05 - mse: 3.7567e-05 - val_loss: 2.0663e-05 - val_mse: 2.0495e-05\n"
     ]
    },
    {
     "name": "stderr",
     "output_type": "stream",
     "text": [
      "WARNING:absl:Found untraced functions such as lstm_cell_layer_call_and_return_conditional_losses, lstm_cell_layer_call_fn, lstm_cell_1_layer_call_and_return_conditional_losses, lstm_cell_1_layer_call_fn, lstm_cell_layer_call_fn while saving (showing 5 of 10). These functions will not be directly callable after loading.\n"
     ]
    },
    {
     "name": "stdout",
     "output_type": "stream",
     "text": [
      "INFO:tensorflow:Assets written to: s2s_LSTM_256TimeD_6\\assets\n"
     ]
    },
    {
     "name": "stderr",
     "output_type": "stream",
     "text": [
      "INFO:tensorflow:Assets written to: s2s_LSTM_256TimeD_6\\assets\n"
     ]
    },
    {
     "name": "stdout",
     "output_type": "stream",
     "text": [
      "Epoch 154/500\n",
      "781/781 [==============================] - 20s 25ms/step - loss: 2.7335e-05 - mse: 3.3957e-05 - val_loss: 2.7093e-05 - val_mse: 3.3524e-05\n",
      "Epoch 155/500\n",
      "781/781 [==============================] - 20s 25ms/step - loss: 3.0369e-05 - mse: 4.0245e-05 - val_loss: 3.7474e-05 - val_mse: 5.4445e-05\n",
      "Epoch 156/500\n",
      "781/781 [==============================] - 20s 26ms/step - loss: 2.8664e-05 - mse: 3.6990e-05 - val_loss: 5.2228e-05 - val_mse: 8.4065e-05\n",
      "Epoch 157/500\n",
      "781/781 [==============================] - 19s 25ms/step - loss: 2.7668e-05 - mse: 3.5174e-05 - val_loss: 1.0221e-04 - val_mse: 1.8418e-04\n",
      "Epoch 158/500\n",
      "781/781 [==============================] - 20s 25ms/step - loss: 2.9579e-05 - mse: 3.9192e-05 - val_loss: 1.1449e-04 - val_mse: 2.0890e-04\n",
      "Epoch 159/500\n",
      "781/781 [==============================] - 19s 25ms/step - loss: 2.8086e-05 - mse: 3.6371e-05 - val_loss: 9.5962e-05 - val_mse: 1.7202e-04\n",
      "Epoch 160/500\n",
      "781/781 [==============================] - 19s 25ms/step - loss: 2.7423e-05 - mse: 3.5219e-05 - val_loss: 1.0845e-04 - val_mse: 1.9721e-04\n",
      "Epoch 161/500\n",
      "781/781 [==============================] - 20s 25ms/step - loss: 2.9283e-05 - mse: 3.9132e-05 - val_loss: 9.0060e-05 - val_mse: 1.6061e-04\n",
      "Epoch 162/500\n",
      "781/781 [==============================] - 20s 25ms/step - loss: 2.7362e-05 - mse: 3.5442e-05 - val_loss: 5.7478e-05 - val_mse: 9.5636e-05\n",
      "Epoch 163/500\n",
      "781/781 [==============================] - 19s 25ms/step - loss: 2.7280e-05 - mse: 3.5448e-05 - val_loss: 5.9251e-05 - val_mse: 9.9365e-05\n",
      "Epoch 164/500\n",
      "781/781 [==============================] - 19s 25ms/step - loss: 2.8738e-05 - mse: 3.8532e-05 - val_loss: 4.7355e-05 - val_mse: 7.5740e-05\n",
      "Epoch 165/500\n",
      "781/781 [==============================] - 20s 25ms/step - loss: 2.6797e-05 - mse: 3.4805e-05 - val_loss: 4.7606e-05 - val_mse: 7.6400e-05\n",
      "Epoch 166/500\n",
      "781/781 [==============================] - 20s 26ms/step - loss: 2.7310e-05 - mse: 3.5998e-05 - val_loss: 6.4873e-05 - val_mse: 1.1108e-04\n",
      "Epoch 167/500\n",
      "781/781 [==============================] - 20s 25ms/step - loss: 2.8131e-05 - mse: 3.7803e-05 - val_loss: 7.4773e-05 - val_mse: 1.3101e-04\n",
      "Epoch 168/500\n",
      "781/781 [==============================] - 20s 25ms/step - loss: 2.6575e-05 - mse: 3.4832e-05 - val_loss: 9.0193e-05 - val_mse: 1.6198e-04\n",
      "Epoch 169/500\n",
      "781/781 [==============================] - 20s 25ms/step - loss: 2.7283e-05 - mse: 3.6399e-05 - val_loss: 1.1218e-04 - val_mse: 2.0610e-04\n",
      "Epoch 170/500\n",
      "781/781 [==============================] - 19s 25ms/step - loss: 2.7148e-05 - mse: 3.6276e-05 - val_loss: 9.2482e-05 - val_mse: 1.6686e-04\n",
      "Epoch 171/500\n",
      "781/781 [==============================] - 20s 25ms/step - loss: 2.6821e-05 - mse: 3.5763e-05 - val_loss: 8.1770e-05 - val_mse: 1.4560e-04\n",
      "Epoch 172/500\n",
      "781/781 [==============================] - 20s 25ms/step - loss: 2.7287e-05 - mse: 3.6835e-05 - val_loss: 5.6848e-05 - val_mse: 9.5915e-05\n",
      "Epoch 173/500\n",
      "781/781 [==============================] - 20s 26ms/step - loss: 2.5974e-05 - mse: 3.4349e-05 - val_loss: 3.9631e-05 - val_mse: 6.1662e-05\n",
      "Epoch 174/500\n",
      "781/781 [==============================] - 19s 25ms/step - loss: 2.6512e-05 - mse: 3.5565e-05 - val_loss: 3.1751e-05 - val_mse: 4.6054e-05\n",
      "Epoch 175/500\n",
      "781/781 [==============================] - 20s 25ms/step - loss: 2.7379e-05 - mse: 3.7426e-05 - val_loss: 2.6192e-05 - val_mse: 3.5066e-05\n",
      "Epoch 176/500\n",
      "781/781 [==============================] - 21s 26ms/step - loss: 2.5944e-05 - mse: 3.4661e-05 - val_loss: 2.2467e-05 - val_mse: 2.7729e-05\n",
      "Epoch 177/500\n",
      "781/781 [==============================] - 20s 25ms/step - loss: 2.6139e-05 - mse: 3.5165e-05 - val_loss: 2.3276e-05 - val_mse: 2.9467e-05\n",
      "Epoch 178/500\n",
      "781/781 [==============================] - 19s 25ms/step - loss: 2.6325e-05 - mse: 3.5651e-05 - val_loss: 2.3710e-05 - val_mse: 3.0441e-05\n",
      "Epoch 179/500\n",
      "781/781 [==============================] - 20s 25ms/step - loss: 2.5611e-05 - mse: 3.4334e-05 - val_loss: 3.1206e-05 - val_mse: 4.5531e-05\n",
      "Epoch 180/500\n",
      "781/781 [==============================] - 20s 26ms/step - loss: 2.6622e-05 - mse: 3.6470e-05 - val_loss: 3.4994e-05 - val_mse: 5.3208e-05\n",
      "Epoch 181/500\n",
      "781/781 [==============================] - 20s 26ms/step - loss: 2.5239e-05 - mse: 3.3810e-05 - val_loss: 4.7806e-05 - val_mse: 7.8917e-05\n",
      "Epoch 182/500\n",
      "781/781 [==============================] - 19s 25ms/step - loss: 2.6767e-05 - mse: 3.6971e-05 - val_loss: 5.0330e-05 - val_mse: 8.4059e-05\n",
      "Epoch 183/500\n",
      "781/781 [==============================] - 19s 25ms/step - loss: 2.5242e-05 - mse: 3.4016e-05 - val_loss: 4.6622e-05 - val_mse: 7.6734e-05\n",
      "Epoch 184/500\n",
      "781/781 [==============================] - 19s 25ms/step - loss: 2.5749e-05 - mse: 3.5134e-05 - val_loss: 5.3426e-05 - val_mse: 9.0453e-05\n",
      "Epoch 185/500\n",
      "781/781 [==============================] - 19s 25ms/step - loss: 2.5899e-05 - mse: 3.5538e-05 - val_loss: 3.7289e-05 - val_mse: 5.8301e-05\n",
      "CPU times: total: 1h 37min 58s\n",
      "Wall time: 1h 16min 43s\n"
     ]
    },
    {
     "data": {
      "text/plain": [
       "<keras.callbacks.History at 0x1f4d6980eb0>"
      ]
     },
     "execution_count": 55,
     "metadata": {},
     "output_type": "execute_result"
    }
   ],
   "source": [
    "%%time\n",
    "\n",
    "\n",
    "#________________________________ LSTM\n",
    "\n",
    "name_model = \"s2s_LSTM_256TimeD_6\"\n",
    "\n",
    "keras.backend.clear_session()\n",
    "\n",
    "# Definir hiperparâmetros\n",
    "learning_rate = 0.0001\n",
    "l2_reg = 0.00001\n",
    "dropout_rate = 0.001\n",
    "func_act='sigmoid'\n",
    "\n",
    "batch_size = 128\n",
    "window_size = 32\n",
    "num_inputs  = train.shape[1]\n",
    "num_targets = 3\n",
    "stride = 3\n",
    "sampling_rate=1\n",
    "\n",
    "\n",
    "\n",
    "# Definir a entrada da rede\n",
    "inputs = keras.layers.Input(shape=[None, num_inputs])\n",
    "\n",
    "# LSTM\n",
    "reshaped_inputs = keras.layers.Reshape((-1, num_inputs))(inputs)\n",
    "lstm = keras.layers.LSTM(375, return_sequences=True, kernel_regularizer=keras.regularizers.L2(l2_reg))(reshaped_inputs)\n",
    "#lstm = keras.layers.LSTM(160, return_sequences=True, kernel_regularizer=keras.regularizers.L2(l2_reg))(lstm)\n",
    "lstm = keras.layers.Dropout(rate=dropout_rate)(lstm)\n",
    "#lstm = keras.layers.LSTM(160, return_sequences=True, kernel_regularizer=keras.regularizers.L2(l2_reg))(lstm)\n",
    "#lstm = keras.layers.LSTM(160, return_sequences=True, kernel_regularizer=keras.regularizers.L2(l2_reg))(lstm)\n",
    "#lstm = keras.layers.Dropout(rate=dropout_rate)(lstm)\n",
    "#lstm = keras.layers.LSTM(256, return_sequences=True, kernel_regularizer=keras.regularizers.L2(l2_reg))(lstm)\n",
    "#lstm = keras.layers.LSTM(256, return_sequences=True, kernel_regularizer=keras.regularizers.L2(l2_reg))(lstm)\n",
    "#lstm = keras.layers.Dropout(rate=dropout_rate)(lstm)\n",
    "\n",
    "# TimeDistributed Dense\n",
    "timed = keras.layers.TimeDistributed(keras.layers.Dense(75))(lstm)\n",
    "timed = keras.layers.TimeDistributed(keras.layers.Dropout(rate=dropout_rate))(timed)\n",
    "\n",
    "\n",
    "# LSTM\n",
    "lstm = keras.layers.LSTM(15, return_sequences=False, kernel_regularizer=keras.regularizers.L2(l2_reg))(timed)\n",
    "output_lstm = keras.layers.Dense(num_targets)(lstm)\n",
    "\n",
    "\n",
    "# Definir o modelo com a entrada e saída\n",
    "model = keras.models.Model(inputs=inputs, outputs=output_lstm)\n",
    "\n",
    "# Definir o otimizador com taxa de aprendizado definida\n",
    "optimizer = keras.optimizers.Adam(learning_rate=learning_rate)\n",
    "\n",
    "\n",
    "# Compilar o modelo com a função de perda, otimizador e métrica desejados\n",
    "model.compile(loss=keras.losses.logcosh, optimizer=optimizer, metrics=[\"mse\"])\n",
    "\n",
    "# Adicionar callbacks para o modelo\n",
    "model_checkpoint = keras.callbacks.ModelCheckpoint(name_model, save_best_only=True)\n",
    "early_stopping = keras.callbacks.EarlyStopping(patience=32)\n",
    "\n",
    "# Treinar o modelo\n",
    "model.fit(train_set,\n",
    "          steps_per_epoch= len(train)//batch_size,\n",
    "          epochs=500,\n",
    "          validation_data=valid_set,\n",
    "          validation_steps=len(valid)//batch_size,\n",
    "          callbacks=[early_stopping,\n",
    "                     model_checkpoint])"
   ]
  },
  {
   "cell_type": "code",
   "execution_count": 56,
   "id": "186a0dd5",
   "metadata": {},
   "outputs": [
    {
     "data": {
      "text/plain": [
       "'s2s_LSTM_256TimeD_6'"
      ]
     },
     "execution_count": 56,
     "metadata": {},
     "output_type": "execute_result"
    }
   ],
   "source": [
    "name_model"
   ]
  },
  {
   "cell_type": "code",
   "execution_count": 57,
   "id": "dce2fc01",
   "metadata": {},
   "outputs": [
    {
     "name": "stdout",
     "output_type": "stream",
     "text": [
      "160/160 [==============================] - 3s 15ms/step - loss: 6.0235e-05 - mse: 1.0420e-04\n"
     ]
    }
   ],
   "source": [
    "loss, metric = model.evaluate(test_set, steps=len(test)//batch_size)"
   ]
  },
  {
   "cell_type": "code",
   "execution_count": 58,
   "id": "20fd8230",
   "metadata": {},
   "outputs": [],
   "source": [
    "model = keras.models.load_model(name_model)"
   ]
  },
  {
   "cell_type": "code",
   "execution_count": 59,
   "id": "21cf9c54",
   "metadata": {},
   "outputs": [
    {
     "name": "stdout",
     "output_type": "stream",
     "text": [
      "160/160 [==============================] - 12s 16ms/step - loss: 3.0426e-05 - mse: 4.0030e-05\n"
     ]
    }
   ],
   "source": [
    "loss, metric = model.evaluate(test_set, steps=len(test)//batch_size)"
   ]
  },
  {
   "cell_type": "code",
   "execution_count": null,
   "id": "3da54a77",
   "metadata": {},
   "outputs": [],
   "source": []
  },
  {
   "cell_type": "markdown",
   "id": "a87f1c30",
   "metadata": {},
   "source": [
    "### Avaliação"
   ]
  },
  {
   "cell_type": "code",
   "execution_count": 44,
   "id": "ec7e7770",
   "metadata": {},
   "outputs": [
    {
     "data": {
      "text/plain": [
       "'s2s_LSTM_320'"
      ]
     },
     "execution_count": 44,
     "metadata": {},
     "output_type": "execute_result"
    }
   ],
   "source": [
    "name_model"
   ]
  },
  {
   "cell_type": "code",
   "execution_count": 45,
   "id": "1d8a8042",
   "metadata": {},
   "outputs": [
    {
     "name": "stdout",
     "output_type": "stream",
     "text": [
      "160/160 [==============================] - 5s 29ms/step - loss: 0.0029 - mse: 0.0057\n"
     ]
    }
   ],
   "source": [
    "loss, metric = model.evaluate(test_set, steps=len(test)//batch_size)"
   ]
  },
  {
   "cell_type": "code",
   "execution_count": 46,
   "id": "73b92bfa",
   "metadata": {},
   "outputs": [],
   "source": [
    "model = keras.models.load_model(name_model)"
   ]
  },
  {
   "cell_type": "code",
   "execution_count": 47,
   "id": "2394c89f",
   "metadata": {},
   "outputs": [
    {
     "name": "stdout",
     "output_type": "stream",
     "text": [
      "160/160 [==============================] - 7s 30ms/step - loss: 1.3018e-04 - mse: 8.4895e-05\n"
     ]
    }
   ],
   "source": [
    "loss, metric = model.evaluate(test_set, steps=len(test)//batch_size)"
   ]
  },
  {
   "cell_type": "code",
   "execution_count": null,
   "id": "d01fe58c",
   "metadata": {},
   "outputs": [],
   "source": []
  },
  {
   "cell_type": "code",
   "execution_count": 39,
   "id": "3a9bdd5c",
   "metadata": {
    "scrolled": true
   },
   "outputs": [
    {
     "data": {
      "text/plain": [
       "'s2s_LSTM_2'"
      ]
     },
     "execution_count": 39,
     "metadata": {},
     "output_type": "execute_result"
    }
   ],
   "source": [
    "name_model"
   ]
  },
  {
   "cell_type": "code",
   "execution_count": 40,
   "id": "978f2973",
   "metadata": {
    "scrolled": true
   },
   "outputs": [
    {
     "name": "stdout",
     "output_type": "stream",
     "text": [
      "160/160 [==============================] - 3s 15ms/step - loss: 1.2440e-04 - mse: 1.1023e-04\n"
     ]
    }
   ],
   "source": [
    "loss, metric = model.evaluate(test_set, steps=len(test)//batch_size)"
   ]
  },
  {
   "cell_type": "code",
   "execution_count": 41,
   "id": "edfe95e9",
   "metadata": {},
   "outputs": [],
   "source": [
    "model = keras.models.load_model(name_model)"
   ]
  },
  {
   "cell_type": "code",
   "execution_count": 42,
   "id": "5463b336",
   "metadata": {
    "scrolled": true
   },
   "outputs": [
    {
     "name": "stdout",
     "output_type": "stream",
     "text": [
      "160/160 [==============================] - 4s 15ms/step - loss: 2.4870e-04 - mse: 3.4340e-04\n"
     ]
    }
   ],
   "source": [
    "loss, metric = model.evaluate(test_set, steps=len(test)//batch_size)"
   ]
  },
  {
   "cell_type": "code",
   "execution_count": null,
   "id": "8fdd9763",
   "metadata": {
    "scrolled": true
   },
   "outputs": [],
   "source": [
    "name_model "
   ]
  },
  {
   "cell_type": "code",
   "execution_count": null,
   "id": "3f1d1a2d",
   "metadata": {},
   "outputs": [],
   "source": [
    "model = keras.models.load_model(name_model)"
   ]
  },
  {
   "cell_type": "markdown",
   "id": "13713143",
   "metadata": {},
   "source": [
    "### Predições"
   ]
  },
  {
   "cell_type": "code",
   "execution_count": null,
   "id": "2b60ac97",
   "metadata": {},
   "outputs": [],
   "source": [
    "predictions = model.predict(test_set, steps=len(test)//batch_size)"
   ]
  },
  {
   "cell_type": "code",
   "execution_count": null,
   "id": "7f61c6f2",
   "metadata": {},
   "outputs": [],
   "source": [
    "predictions2 = model.predict(test_set, steps=len(test)//batch_size*2)"
   ]
  },
  {
   "cell_type": "code",
   "execution_count": null,
   "id": "a3bf45c0",
   "metadata": {},
   "outputs": [],
   "source": [
    "predictions3 = model.predict(test_set, steps=1)"
   ]
  },
  {
   "cell_type": "code",
   "execution_count": null,
   "id": "1bc335d6",
   "metadata": {
    "scrolled": false
   },
   "outputs": [],
   "source": [
    "predictions4 = model.predict(test_set_2, steps=1)"
   ]
  },
  {
   "cell_type": "code",
   "execution_count": null,
   "id": "e783040c",
   "metadata": {
    "scrolled": false
   },
   "outputs": [],
   "source": [
    "predictions4"
   ]
  },
  {
   "cell_type": "code",
   "execution_count": null,
   "id": "4afd1b34",
   "metadata": {},
   "outputs": [],
   "source": [
    "test_2 = test[17276:]"
   ]
  },
  {
   "cell_type": "code",
   "execution_count": null,
   "id": "4f751145",
   "metadata": {},
   "outputs": [],
   "source": [
    "batch_size = 1\n",
    "window_size = 32\n",
    "num_inputs  = train.shape[1]\n",
    "num_targets = 3\n",
    "stride = 1\n",
    "sampling_rate=1"
   ]
  },
  {
   "cell_type": "code",
   "execution_count": null,
   "id": "c24cf1c3",
   "metadata": {},
   "outputs": [],
   "source": [
    "test_set_2 = sliding_window_sequence(test_2, window_size=window_size, num_inputs=num_inputs, num_targets=num_targets, stride=stride, batch_size=batch_size, sampling_rate=sampling_rate)"
   ]
  },
  {
   "cell_type": "code",
   "execution_count": null,
   "id": "80d22a51",
   "metadata": {
    "scrolled": false
   },
   "outputs": [],
   "source": [
    "len(test_2)"
   ]
  },
  {
   "cell_type": "code",
   "execution_count": null,
   "id": "7a4b8bef",
   "metadata": {
    "scrolled": true
   },
   "outputs": [],
   "source": [
    "predictions3"
   ]
  },
  {
   "cell_type": "code",
   "execution_count": null,
   "id": "8e5b77e0",
   "metadata": {},
   "outputs": [],
   "source": [
    "predictions.shape"
   ]
  },
  {
   "cell_type": "code",
   "execution_count": null,
   "id": "63ea8af1",
   "metadata": {
    "scrolled": true
   },
   "outputs": [],
   "source": [
    "predictions"
   ]
  },
  {
   "cell_type": "code",
   "execution_count": null,
   "id": "765abe1c",
   "metadata": {},
   "outputs": [],
   "source": [
    "steps=len(test)//batch_size"
   ]
  },
  {
   "cell_type": "code",
   "execution_count": null,
   "id": "b689d93a",
   "metadata": {},
   "outputs": [],
   "source": [
    "x = 1%1"
   ]
  },
  {
   "cell_type": "code",
   "execution_count": null,
   "id": "f77ef3df",
   "metadata": {},
   "outputs": [],
   "source": [
    "x"
   ]
  },
  {
   "cell_type": "code",
   "execution_count": null,
   "id": "fed65b45",
   "metadata": {},
   "outputs": [],
   "source": [
    "steps"
   ]
  },
  {
   "cell_type": "code",
   "execution_count": null,
   "id": "5c4aa3b8",
   "metadata": {},
   "outputs": [],
   "source": [
    "len(test)"
   ]
  },
  {
   "cell_type": "code",
   "execution_count": null,
   "id": "e4766221",
   "metadata": {},
   "outputs": [],
   "source": [
    "len(predictions2)"
   ]
  },
  {
   "cell_type": "code",
   "execution_count": null,
   "id": "a59538f6",
   "metadata": {
    "scrolled": true
   },
   "outputs": [],
   "source": [
    "len(predictions)"
   ]
  },
  {
   "cell_type": "code",
   "execution_count": null,
   "id": "091a5c2f",
   "metadata": {},
   "outputs": [],
   "source": [
    "train2 = winn.dropna()"
   ]
  },
  {
   "cell_type": "code",
   "execution_count": null,
   "id": "836dc140",
   "metadata": {
    "scrolled": true
   },
   "outputs": [],
   "source": [
    "train2"
   ]
  },
  {
   "cell_type": "code",
   "execution_count": null,
   "id": "f977c231",
   "metadata": {
    "scrolled": true
   },
   "outputs": [],
   "source": [
    "train2 = train2.drop(['high', 'low','close', 'hl'], axis=1)"
   ]
  },
  {
   "cell_type": "code",
   "execution_count": null,
   "id": "dd1ab9a9",
   "metadata": {},
   "outputs": [],
   "source": [
    "mvhl = scaler.fit_transform(train2)"
   ]
  },
  {
   "cell_type": "code",
   "execution_count": null,
   "id": "9540680e",
   "metadata": {
    "scrolled": true
   },
   "outputs": [],
   "source": []
  },
  {
   "cell_type": "code",
   "execution_count": null,
   "id": "628e92aa",
   "metadata": {
    "scrolled": true
   },
   "outputs": [],
   "source": [
    "train"
   ]
  },
  {
   "cell_type": "code",
   "execution_count": null,
   "id": "c8c928ee",
   "metadata": {},
   "outputs": [],
   "source": [
    "test"
   ]
  },
  {
   "cell_type": "code",
   "execution_count": null,
   "id": "ce328b8c",
   "metadata": {},
   "outputs": [],
   "source": [
    "scaler_target.fit_transform(data[:, -1].reshape(-1, 1))"
   ]
  },
  {
   "cell_type": "code",
   "execution_count": null,
   "id": "ad09c389",
   "metadata": {
    "scrolled": false
   },
   "outputs": [],
   "source": [
    "predict= scaler.inverse_transform(predictions4)"
   ]
  },
  {
   "cell_type": "code",
   "execution_count": null,
   "id": "4ca54e8f",
   "metadata": {
    "scrolled": false
   },
   "outputs": [],
   "source": [
    "winj"
   ]
  },
  {
   "cell_type": "code",
   "execution_count": null,
   "id": "dacb6608",
   "metadata": {},
   "outputs": [],
   "source": [
    "test"
   ]
  },
  {
   "cell_type": "code",
   "execution_count": null,
   "id": "ea1d4aae",
   "metadata": {
    "scrolled": true
   },
   "outputs": [],
   "source": [
    "test_2"
   ]
  },
  {
   "cell_type": "code",
   "execution_count": null,
   "id": "81190092",
   "metadata": {},
   "outputs": [],
   "source": [
    "predict"
   ]
  },
  {
   "cell_type": "code",
   "execution_count": null,
   "id": "76a1385d",
   "metadata": {},
   "outputs": [],
   "source": []
  }
 ],
 "metadata": {
  "kernelspec": {
   "display_name": "Python 3 (ipykernel)",
   "language": "python",
   "name": "python3"
  },
  "language_info": {
   "codemirror_mode": {
    "name": "ipython",
    "version": 3
   },
   "file_extension": ".py",
   "mimetype": "text/x-python",
   "name": "python",
   "nbconvert_exporter": "python",
   "pygments_lexer": "ipython3",
   "version": "3.9.16"
  }
 },
 "nbformat": 4,
 "nbformat_minor": 5
}
