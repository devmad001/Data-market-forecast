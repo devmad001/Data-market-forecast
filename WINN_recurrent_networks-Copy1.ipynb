{
 "cells": [
  {
   "cell_type": "markdown",
   "metadata": {},
   "source": [
    "<img src=\"https://certificate.tpq.io/taim_logo.png\" width=\"350px\" align=\"right\">"
   ]
  },
  {
   "cell_type": "markdown",
   "metadata": {},
   "source": [
    "# Artificial Intelligence in Finance"
   ]
  },
  {
   "cell_type": "markdown",
   "metadata": {},
   "source": [
    "## Recurrent Neural Networks"
   ]
  },
  {
   "cell_type": "markdown",
   "metadata": {},
   "source": [
    "Dr Yves J Hilpisch | The AI Machine\n",
    "\n",
    "http://aimachine.io | http://twitter.com/dyjh"
   ]
  },
  {
   "cell_type": "markdown",
   "metadata": {},
   "source": [
    "## First Example"
   ]
  },
  {
   "cell_type": "code",
   "execution_count": 1,
   "metadata": {},
   "outputs": [],
   "source": [
    "import os\n",
    "os.environ['TF_CPP_MIN_LOG_LEVEL'] = '3'"
   ]
  },
  {
   "cell_type": "code",
   "execution_count": 2,
   "metadata": {},
   "outputs": [
    {
     "name": "stderr",
     "output_type": "stream",
     "text": [
      "C:\\Users\\adria\\AppData\\Local\\Temp\\ipykernel_10948\\1632325378.py:7: MatplotlibDeprecationWarning: The seaborn styles shipped by Matplotlib are deprecated since 3.6, as they no longer correspond to the styles shipped by seaborn. However, they will remain available as 'seaborn-v0_8-<style>'. Alternatively, directly use the seaborn API instead.\n",
      "  plt.style.use('seaborn')\n"
     ]
    }
   ],
   "source": [
    "import random\n",
    "import numpy as np\n",
    "import pandas as pd\n",
    "import tensorflow as tf\n",
    "from pprint import pprint\n",
    "from pylab import plt, mpl\n",
    "plt.style.use('seaborn')\n",
    "mpl.rcParams['savefig.dpi'] = 300\n",
    "mpl.rcParams['font.family'] = 'serif'\n",
    "#pd.set_option('precision', 4)\n",
    "np.set_printoptions(suppress=True, precision=4)\n",
    "os.environ['PYTHONHASHSEED'] = '0'"
   ]
  },
  {
   "cell_type": "code",
   "execution_count": 3,
   "metadata": {},
   "outputs": [
    {
     "data": {
      "text/plain": [
       "True"
      ]
     },
     "execution_count": 3,
     "metadata": {},
     "output_type": "execute_result"
    }
   ],
   "source": [
    "tf.test.is_built_with_cuda()"
   ]
  },
  {
   "cell_type": "code",
   "execution_count": 4,
   "metadata": {},
   "outputs": [],
   "source": [
    "def set_seeds(seed=100):\n",
    "    random.seed(seed)\n",
    "    np.random.seed(seed)\n",
    "    tf.random.set_seed(seed)\n",
    "set_seeds()"
   ]
  },
  {
   "cell_type": "code",
   "execution_count": 5,
   "metadata": {},
   "outputs": [
    {
     "data": {
      "text/plain": [
       "array([ 0,  1,  2,  3,  4,  5,  6,  7,  8,  9, 10, 11, 12, 13, 14, 15, 16,\n",
       "       17, 18, 19, 20, 21, 22, 23, 24, 25, 26, 27, 28, 29, 30, 31, 32, 33,\n",
       "       34, 35, 36, 37, 38, 39, 40, 41, 42, 43, 44, 45, 46, 47, 48, 49, 50,\n",
       "       51, 52, 53, 54, 55, 56, 57, 58, 59, 60, 61, 62, 63, 64, 65, 66, 67,\n",
       "       68, 69, 70, 71, 72, 73, 74, 75, 76, 77, 78, 79, 80, 81, 82, 83, 84,\n",
       "       85, 86, 87, 88, 89, 90, 91, 92, 93, 94, 95, 96, 97, 98, 99])"
      ]
     },
     "execution_count": 5,
     "metadata": {},
     "output_type": "execute_result"
    }
   ],
   "source": [
    "a = np.arange(100)\n",
    "a"
   ]
  },
  {
   "cell_type": "code",
   "execution_count": 6,
   "metadata": {},
   "outputs": [],
   "source": [
    "a = a.reshape((len(a), -1))"
   ]
  },
  {
   "cell_type": "code",
   "execution_count": 7,
   "metadata": {},
   "outputs": [
    {
     "data": {
      "text/plain": [
       "array([[ 0],\n",
       "       [ 1],\n",
       "       [ 2],\n",
       "       [ 3],\n",
       "       [ 4],\n",
       "       [ 5],\n",
       "       [ 6],\n",
       "       [ 7],\n",
       "       [ 8],\n",
       "       [ 9],\n",
       "       [10],\n",
       "       [11],\n",
       "       [12],\n",
       "       [13],\n",
       "       [14],\n",
       "       [15],\n",
       "       [16],\n",
       "       [17],\n",
       "       [18],\n",
       "       [19],\n",
       "       [20],\n",
       "       [21],\n",
       "       [22],\n",
       "       [23],\n",
       "       [24],\n",
       "       [25],\n",
       "       [26],\n",
       "       [27],\n",
       "       [28],\n",
       "       [29],\n",
       "       [30],\n",
       "       [31],\n",
       "       [32],\n",
       "       [33],\n",
       "       [34],\n",
       "       [35],\n",
       "       [36],\n",
       "       [37],\n",
       "       [38],\n",
       "       [39],\n",
       "       [40],\n",
       "       [41],\n",
       "       [42],\n",
       "       [43],\n",
       "       [44],\n",
       "       [45],\n",
       "       [46],\n",
       "       [47],\n",
       "       [48],\n",
       "       [49],\n",
       "       [50],\n",
       "       [51],\n",
       "       [52],\n",
       "       [53],\n",
       "       [54],\n",
       "       [55],\n",
       "       [56],\n",
       "       [57],\n",
       "       [58],\n",
       "       [59],\n",
       "       [60],\n",
       "       [61],\n",
       "       [62],\n",
       "       [63],\n",
       "       [64],\n",
       "       [65],\n",
       "       [66],\n",
       "       [67],\n",
       "       [68],\n",
       "       [69],\n",
       "       [70],\n",
       "       [71],\n",
       "       [72],\n",
       "       [73],\n",
       "       [74],\n",
       "       [75],\n",
       "       [76],\n",
       "       [77],\n",
       "       [78],\n",
       "       [79],\n",
       "       [80],\n",
       "       [81],\n",
       "       [82],\n",
       "       [83],\n",
       "       [84],\n",
       "       [85],\n",
       "       [86],\n",
       "       [87],\n",
       "       [88],\n",
       "       [89],\n",
       "       [90],\n",
       "       [91],\n",
       "       [92],\n",
       "       [93],\n",
       "       [94],\n",
       "       [95],\n",
       "       [96],\n",
       "       [97],\n",
       "       [98],\n",
       "       [99]])"
      ]
     },
     "execution_count": 7,
     "metadata": {},
     "output_type": "execute_result"
    }
   ],
   "source": [
    "a"
   ]
  },
  {
   "cell_type": "code",
   "execution_count": 8,
   "metadata": {},
   "outputs": [
    {
     "data": {
      "text/plain": [
       "(100, 1)"
      ]
     },
     "execution_count": 8,
     "metadata": {},
     "output_type": "execute_result"
    }
   ],
   "source": [
    "a.shape"
   ]
  },
  {
   "cell_type": "code",
   "execution_count": 9,
   "metadata": {},
   "outputs": [
    {
     "data": {
      "text/plain": [
       "array([[0],\n",
       "       [1],\n",
       "       [2],\n",
       "       [3],\n",
       "       [4]])"
      ]
     },
     "execution_count": 9,
     "metadata": {},
     "output_type": "execute_result"
    }
   ],
   "source": [
    "a[:5]"
   ]
  },
  {
   "cell_type": "code",
   "execution_count": 10,
   "metadata": {},
   "outputs": [],
   "source": [
    "from keras.preprocessing.sequence import TimeseriesGenerator"
   ]
  },
  {
   "cell_type": "code",
   "execution_count": 11,
   "metadata": {},
   "outputs": [],
   "source": [
    "lags = 3"
   ]
  },
  {
   "cell_type": "code",
   "execution_count": 12,
   "metadata": {},
   "outputs": [],
   "source": [
    "g = TimeseriesGenerator(a, a, length=lags, batch_size=5)"
   ]
  },
  {
   "cell_type": "code",
   "execution_count": 13,
   "metadata": {},
   "outputs": [
    {
     "data": {
      "text/plain": [
       "<keras.preprocessing.sequence.TimeseriesGenerator at 0x1979eeb2d90>"
      ]
     },
     "execution_count": 13,
     "metadata": {},
     "output_type": "execute_result"
    }
   ],
   "source": [
    "g"
   ]
  },
  {
   "cell_type": "code",
   "execution_count": 14,
   "metadata": {},
   "outputs": [
    {
     "name": "stdout",
     "output_type": "stream",
     "text": [
      "(array([[[0],\n",
      "        [1],\n",
      "        [2]],\n",
      "\n",
      "       [[1],\n",
      "        [2],\n",
      "        [3]],\n",
      "\n",
      "       [[2],\n",
      "        [3],\n",
      "        [4]],\n",
      "\n",
      "       [[3],\n",
      "        [4],\n",
      "        [5]],\n",
      "\n",
      "       [[4],\n",
      "        [5],\n",
      "        [6]]]),\n",
      " array([[3],\n",
      "       [4],\n",
      "       [5],\n",
      "       [6],\n",
      "       [7]]))\n"
     ]
    }
   ],
   "source": [
    "pprint(list(g)[0])"
   ]
  },
  {
   "cell_type": "code",
   "execution_count": 15,
   "metadata": {},
   "outputs": [],
   "source": [
    "from keras.models import Sequential\n",
    "from keras.layers import SimpleRNN, LSTM, Dense"
   ]
  },
  {
   "cell_type": "code",
   "execution_count": 16,
   "metadata": {},
   "outputs": [],
   "source": [
    "model = Sequential()\n",
    "model.add(SimpleRNN(100, activation='relu',\n",
    "                    input_shape=(lags, 1)))\n",
    "model.add(Dense(1, activation='linear'))\n",
    "model.compile(optimizer='adagrad', loss='mse',\n",
    "              metrics=['mae'])"
   ]
  },
  {
   "cell_type": "code",
   "execution_count": 17,
   "metadata": {},
   "outputs": [
    {
     "name": "stdout",
     "output_type": "stream",
     "text": [
      "Model: \"sequential\"\n",
      "_________________________________________________________________\n",
      "Layer (type)                 Output Shape              Param #   \n",
      "=================================================================\n",
      "simple_rnn (SimpleRNN)       (None, 100)               10200     \n",
      "_________________________________________________________________\n",
      "dense (Dense)                (None, 1)                 101       \n",
      "=================================================================\n",
      "Total params: 10,301\n",
      "Trainable params: 10,301\n",
      "Non-trainable params: 0\n",
      "_________________________________________________________________\n"
     ]
    }
   ],
   "source": [
    "model.summary()"
   ]
  },
  {
   "cell_type": "code",
   "execution_count": 18,
   "metadata": {},
   "outputs": [
    {
     "name": "stdout",
     "output_type": "stream",
     "text": [
      "CPU times: total: 1min 50s\n",
      "Wall time: 1min 28s\n"
     ]
    },
    {
     "data": {
      "text/plain": [
       "<keras.callbacks.History at 0x1979eeb26d0>"
      ]
     },
     "execution_count": 18,
     "metadata": {},
     "output_type": "execute_result"
    }
   ],
   "source": [
    "%%time\n",
    "model.fit(g, epochs=1000, steps_per_epoch=5,\n",
    "            verbose=False)"
   ]
  },
  {
   "cell_type": "code",
   "execution_count": 19,
   "metadata": {},
   "outputs": [],
   "source": [
    "res = pd.DataFrame(model.history.history)"
   ]
  },
  {
   "cell_type": "code",
   "execution_count": 20,
   "metadata": {},
   "outputs": [
    {
     "data": {
      "text/html": [
       "<div>\n",
       "<style scoped>\n",
       "    .dataframe tbody tr th:only-of-type {\n",
       "        vertical-align: middle;\n",
       "    }\n",
       "\n",
       "    .dataframe tbody tr th {\n",
       "        vertical-align: top;\n",
       "    }\n",
       "\n",
       "    .dataframe thead th {\n",
       "        text-align: right;\n",
       "    }\n",
       "</style>\n",
       "<table border=\"1\" class=\"dataframe\">\n",
       "  <thead>\n",
       "    <tr style=\"text-align: right;\">\n",
       "      <th></th>\n",
       "      <th>loss</th>\n",
       "      <th>mae</th>\n",
       "    </tr>\n",
       "  </thead>\n",
       "  <tbody>\n",
       "    <tr>\n",
       "      <th>997</th>\n",
       "      <td>1.159415</td>\n",
       "      <td>0.978617</td>\n",
       "    </tr>\n",
       "    <tr>\n",
       "      <th>998</th>\n",
       "      <td>1.327364</td>\n",
       "      <td>1.000324</td>\n",
       "    </tr>\n",
       "    <tr>\n",
       "      <th>999</th>\n",
       "      <td>0.308312</td>\n",
       "      <td>0.521992</td>\n",
       "    </tr>\n",
       "  </tbody>\n",
       "</table>\n",
       "</div>"
      ],
      "text/plain": [
       "         loss       mae\n",
       "997  1.159415  0.978617\n",
       "998  1.327364  1.000324\n",
       "999  0.308312  0.521992"
      ]
     },
     "execution_count": 20,
     "metadata": {},
     "output_type": "execute_result"
    }
   ],
   "source": [
    "res.tail(3)"
   ]
  },
  {
   "cell_type": "code",
   "execution_count": 21,
   "metadata": {},
   "outputs": [
    {
     "data": {
      "image/png": "[encoded data removed]",
      "text/plain": [
       "<Figure size 1000x600 with 1 Axes>"
      ]
     },
     "metadata": {},
     "output_type": "display_data"
    }
   ],
   "source": [
    "res.iloc[10:].plot(figsize=(10, 6), style=['--', '--']);"
   ]
  },
  {
   "cell_type": "code",
   "execution_count": 22,
   "metadata": {},
   "outputs": [
    {
     "data": {
      "text/plain": [
       "23"
      ]
     },
     "execution_count": 22,
     "metadata": {},
     "output_type": "execute_result"
    }
   ],
   "source": [
    "x = np.array([21, 22, 23]).reshape((1, lags, 1))\n",
    "y = model.predict(x, verbose=False)\n",
    "int(round(y[0, 0]))"
   ]
  },
  {
   "cell_type": "code",
   "execution_count": 23,
   "metadata": {
    "scrolled": true
   },
   "outputs": [
    {
     "data": {
      "text/plain": [
       "array([[[21],\n",
       "        [22],\n",
       "        [23]]])"
      ]
     },
     "execution_count": 23,
     "metadata": {},
     "output_type": "execute_result"
    }
   ],
   "source": [
    "x"
   ]
  },
  {
   "cell_type": "code",
   "execution_count": 24,
   "metadata": {},
   "outputs": [
    {
     "data": {
      "text/plain": [
       "array([[22.7307]], dtype=float32)"
      ]
     },
     "execution_count": 24,
     "metadata": {},
     "output_type": "execute_result"
    }
   ],
   "source": [
    "y"
   ]
  },
  {
   "cell_type": "code",
   "execution_count": 25,
   "metadata": {},
   "outputs": [
    {
     "data": {
      "text/plain": [
       "91"
      ]
     },
     "execution_count": 25,
     "metadata": {},
     "output_type": "execute_result"
    }
   ],
   "source": [
    "x = np.array([87, 88, 89]).reshape((1, lags, 1))\n",
    "y = model.predict(x, verbose=0)\n",
    "int(round(y[0, 0]))"
   ]
  },
  {
   "cell_type": "code",
   "execution_count": 26,
   "metadata": {},
   "outputs": [
    {
     "data": {
      "text/plain": [
       "193"
      ]
     },
     "execution_count": 26,
     "metadata": {},
     "output_type": "execute_result"
    }
   ],
   "source": [
    "x = np.array([187, 188, 189]).reshape((1, lags, 1))\n",
    "y = model.predict(x, verbose=False)\n",
    "int(round(y[0, 0]))"
   ]
  },
  {
   "cell_type": "code",
   "execution_count": 27,
   "metadata": {},
   "outputs": [
    {
     "data": {
      "text/plain": [
       "1220"
      ]
     },
     "execution_count": 27,
     "metadata": {},
     "output_type": "execute_result"
    }
   ],
   "source": [
    "x = np.array([1187, 1188, 1189]).reshape((1, lags, 1))\n",
    "y = model.predict(x, verbose=False)\n",
    "int(round(y[0, 0]))"
   ]
  },
  {
   "cell_type": "markdown",
   "metadata": {},
   "source": [
    "## Second Example"
   ]
  },
  {
   "cell_type": "code",
   "execution_count": 28,
   "metadata": {},
   "outputs": [],
   "source": [
    "def transform(x):\n",
    "    y = 0.05 * x ** 2 + 0.2 * x + np.sin(x) + 5\n",
    "    y += np.random.standard_normal(len(x)) * 0.2\n",
    "    return y"
   ]
  },
  {
   "cell_type": "code",
   "execution_count": 29,
   "metadata": {},
   "outputs": [],
   "source": [
    "x = np.linspace(-2 * np.pi, 2 * np.pi, 500)\n",
    "a = transform(x)"
   ]
  },
  {
   "cell_type": "code",
   "execution_count": 30,
   "metadata": {},
   "outputs": [
    {
     "data": {
      "image/png": "[encoded data removed]",
      "text/plain": [
       "<Figure size 1000x600 with 1 Axes>"
      ]
     },
     "metadata": {},
     "output_type": "display_data"
    }
   ],
   "source": [
    "plt.figure(figsize=(10, 6))\n",
    "plt.plot(x, a);"
   ]
  },
  {
   "cell_type": "code",
   "execution_count": 31,
   "metadata": {},
   "outputs": [],
   "source": [
    "a = a.reshape((len(a), -1))"
   ]
  },
  {
   "cell_type": "code",
   "execution_count": 32,
   "metadata": {},
   "outputs": [
    {
     "data": {
      "text/plain": [
       "array([[5.3673],\n",
       "       [5.8002],\n",
       "       [5.9768],\n",
       "       [5.7102],\n",
       "       [5.9715]])"
      ]
     },
     "execution_count": 32,
     "metadata": {},
     "output_type": "execute_result"
    }
   ],
   "source": [
    "a[:5]"
   ]
  },
  {
   "cell_type": "code",
   "execution_count": 33,
   "metadata": {},
   "outputs": [],
   "source": [
    "lags = 5"
   ]
  },
  {
   "cell_type": "code",
   "execution_count": 34,
   "metadata": {},
   "outputs": [],
   "source": [
    "g = TimeseriesGenerator(a, a, length=lags, batch_size=5)"
   ]
  },
  {
   "cell_type": "code",
   "execution_count": 35,
   "metadata": {},
   "outputs": [],
   "source": [
    "model = Sequential()\n",
    "model.add(SimpleRNN(500, activation='relu', input_shape=(lags, 1)))\n",
    "model.add(Dense(1, activation='linear'))\n",
    "model.compile(optimizer='rmsprop', loss='mse', metrics=['mae'])"
   ]
  },
  {
   "cell_type": "code",
   "execution_count": 36,
   "metadata": {},
   "outputs": [
    {
     "name": "stdout",
     "output_type": "stream",
     "text": [
      "Model: \"sequential_1\"\n",
      "_________________________________________________________________\n",
      "Layer (type)                 Output Shape              Param #   \n",
      "=================================================================\n",
      "simple_rnn_1 (SimpleRNN)     (None, 500)               251000    \n",
      "_________________________________________________________________\n",
      "dense_1 (Dense)              (None, 1)                 501       \n",
      "=================================================================\n",
      "Total params: 251,501\n",
      "Trainable params: 251,501\n",
      "Non-trainable params: 0\n",
      "_________________________________________________________________\n"
     ]
    }
   ],
   "source": [
    "model.summary()"
   ]
  },
  {
   "cell_type": "code",
   "execution_count": 37,
   "metadata": {},
   "outputs": [
    {
     "name": "stdout",
     "output_type": "stream",
     "text": [
      "CPU times: total: 2min 17s\n",
      "Wall time: 1min 39s\n"
     ]
    },
    {
     "data": {
      "text/plain": [
       "<keras.callbacks.History at 0x197ca14e9a0>"
      ]
     },
     "execution_count": 37,
     "metadata": {},
     "output_type": "execute_result"
    }
   ],
   "source": [
    "%%time\n",
    "model.fit(g, epochs=500,\n",
    "          steps_per_epoch=10,\n",
    "          verbose=False)"
   ]
  },
  {
   "cell_type": "code",
   "execution_count": 38,
   "metadata": {},
   "outputs": [],
   "source": [
    "x = np.linspace(-6 * np.pi, 6 * np.pi, 1000)\n",
    "d = transform(x)"
   ]
  },
  {
   "cell_type": "code",
   "execution_count": 39,
   "metadata": {},
   "outputs": [],
   "source": [
    "g_ = TimeseriesGenerator(d, d, length=lags, batch_size=len(d))"
   ]
  },
  {
   "cell_type": "code",
   "execution_count": 40,
   "metadata": {},
   "outputs": [],
   "source": [
    "f = list(g_)[0][0].reshape((len(d) - lags, lags, 1))"
   ]
  },
  {
   "cell_type": "code",
   "execution_count": 41,
   "metadata": {},
   "outputs": [],
   "source": [
    "y = model.predict(f, verbose=False)"
   ]
  },
  {
   "cell_type": "code",
   "execution_count": 42,
   "metadata": {},
   "outputs": [
    {
     "data": {
      "image/png": "[encoded data removed]",
      "text/plain": [
       "<Figure size 1000x600 with 1 Axes>"
      ]
     },
     "metadata": {},
     "output_type": "display_data"
    }
   ],
   "source": [
    "plt.figure(figsize=(10, 6))\n",
    "plt.plot(x[lags:], d[lags:], label='data', alpha=0.75)\n",
    "plt.plot(x[lags:], y, 'r.', label='pred', ms=3)\n",
    "plt.axvline(-2 * np.pi, c='g', ls='--')\n",
    "plt.axvline(2 * np.pi, c='g', ls='--')\n",
    "plt.text(-15, 22, 'out-of-sample')\n",
    "plt.text(-2, 22, 'in-sample')\n",
    "plt.text(10, 22, 'out-of-sample')\n",
    "plt.legend();"
   ]
  },
  {
   "cell_type": "markdown",
   "metadata": {},
   "source": [
    "## Financial Price Series"
   ]
  },
  {
   "cell_type": "code",
   "execution_count": 43,
   "metadata": {},
   "outputs": [],
   "source": [
    "url2 = 'http://hilpisch.com/aiif_eikon_id_eur_usd.csv'"
   ]
  },
  {
   "cell_type": "code",
   "execution_count": 51,
   "metadata": {
    "scrolled": false
   },
   "outputs": [],
   "source": [
    "path = r'C:\\Users\\adria\\1Python\\Meu_novo_projeto\\WIN_N_1K\\WIN_N_1k.csv'"
   ]
  },
  {
   "cell_type": "code",
   "execution_count": null,
   "metadata": {},
   "outputs": [],
   "source": [
    "symbol2 = 'EUR_USD'"
   ]
  },
  {
   "cell_type": "code",
   "execution_count": 52,
   "metadata": {},
   "outputs": [],
   "source": [
    "symbol = 'WIN_N'"
   ]
  },
  {
   "cell_type": "code",
   "execution_count": 53,
   "metadata": {},
   "outputs": [],
   "source": [
    "raw = pd.read_csv(path, index_col=0, parse_dates=True)"
   ]
  },
  {
   "cell_type": "code",
   "execution_count": 54,
   "metadata": {},
   "outputs": [
    {
     "data": {
      "text/html": [
       "<div>\n",
       "<style scoped>\n",
       "    .dataframe tbody tr th:only-of-type {\n",
       "        vertical-align: middle;\n",
       "    }\n",
       "\n",
       "    .dataframe tbody tr th {\n",
       "        vertical-align: top;\n",
       "    }\n",
       "\n",
       "    .dataframe thead th {\n",
       "        text-align: right;\n",
       "    }\n",
       "</style>\n",
       "<table border=\"1\" class=\"dataframe\">\n",
       "  <thead>\n",
       "    <tr style=\"text-align: right;\">\n",
       "      <th></th>\n",
       "      <th>open</th>\n",
       "      <th>high</th>\n",
       "      <th>low</th>\n",
       "      <th>close</th>\n",
       "      <th>tick_volume</th>\n",
       "      <th>real_volume</th>\n",
       "    </tr>\n",
       "    <tr>\n",
       "      <th>time</th>\n",
       "      <th></th>\n",
       "      <th></th>\n",
       "      <th></th>\n",
       "      <th></th>\n",
       "      <th></th>\n",
       "      <th></th>\n",
       "    </tr>\n",
       "  </thead>\n",
       "  <tbody>\n",
       "    <tr>\n",
       "      <th>2022-01-18 11:38:00</th>\n",
       "      <td>106635.0</td>\n",
       "      <td>106725.0</td>\n",
       "      <td>106610.0</td>\n",
       "      <td>106705.0</td>\n",
       "      <td>17263</td>\n",
       "      <td>64315</td>\n",
       "    </tr>\n",
       "    <tr>\n",
       "      <th>2022-01-18 11:39:00</th>\n",
       "      <td>106710.0</td>\n",
       "      <td>106825.0</td>\n",
       "      <td>106665.0</td>\n",
       "      <td>106785.0</td>\n",
       "      <td>25017</td>\n",
       "      <td>90996</td>\n",
       "    </tr>\n",
       "    <tr>\n",
       "      <th>2022-01-18 11:40:00</th>\n",
       "      <td>106780.0</td>\n",
       "      <td>106860.0</td>\n",
       "      <td>106675.0</td>\n",
       "      <td>106685.0</td>\n",
       "      <td>30803</td>\n",
       "      <td>110379</td>\n",
       "    </tr>\n",
       "    <tr>\n",
       "      <th>2022-01-18 11:41:00</th>\n",
       "      <td>106690.0</td>\n",
       "      <td>106910.0</td>\n",
       "      <td>106665.0</td>\n",
       "      <td>106885.0</td>\n",
       "      <td>30323</td>\n",
       "      <td>112419</td>\n",
       "    </tr>\n",
       "    <tr>\n",
       "      <th>2022-01-18 11:42:00</th>\n",
       "      <td>106880.0</td>\n",
       "      <td>106965.0</td>\n",
       "      <td>106800.0</td>\n",
       "      <td>106955.0</td>\n",
       "      <td>22614</td>\n",
       "      <td>80706</td>\n",
       "    </tr>\n",
       "    <tr>\n",
       "      <th>...</th>\n",
       "      <td>...</td>\n",
       "      <td>...</td>\n",
       "      <td>...</td>\n",
       "      <td>...</td>\n",
       "      <td>...</td>\n",
       "      <td>...</td>\n",
       "    </tr>\n",
       "    <tr>\n",
       "      <th>2022-10-13 16:55:00</th>\n",
       "      <td>114915.0</td>\n",
       "      <td>114920.0</td>\n",
       "      <td>114915.0</td>\n",
       "      <td>114915.0</td>\n",
       "      <td>38</td>\n",
       "      <td>275</td>\n",
       "    </tr>\n",
       "    <tr>\n",
       "      <th>2022-10-13 16:56:00</th>\n",
       "      <td>114920.0</td>\n",
       "      <td>114920.0</td>\n",
       "      <td>114915.0</td>\n",
       "      <td>114920.0</td>\n",
       "      <td>56</td>\n",
       "      <td>240</td>\n",
       "    </tr>\n",
       "    <tr>\n",
       "      <th>2022-10-13 16:57:00</th>\n",
       "      <td>114920.0</td>\n",
       "      <td>114920.0</td>\n",
       "      <td>114915.0</td>\n",
       "      <td>114920.0</td>\n",
       "      <td>42</td>\n",
       "      <td>200</td>\n",
       "    </tr>\n",
       "    <tr>\n",
       "      <th>2022-10-13 16:58:00</th>\n",
       "      <td>114920.0</td>\n",
       "      <td>114920.0</td>\n",
       "      <td>114910.0</td>\n",
       "      <td>114915.0</td>\n",
       "      <td>86</td>\n",
       "      <td>817</td>\n",
       "    </tr>\n",
       "    <tr>\n",
       "      <th>2022-10-13 16:59:00</th>\n",
       "      <td>114915.0</td>\n",
       "      <td>114915.0</td>\n",
       "      <td>114910.0</td>\n",
       "      <td>114910.0</td>\n",
       "      <td>258</td>\n",
       "      <td>779</td>\n",
       "    </tr>\n",
       "  </tbody>\n",
       "</table>\n",
       "<p>99999 rows × 6 columns</p>\n",
       "</div>"
      ],
      "text/plain": [
       "                         open      high       low     close  tick_volume  \\\n",
       "time                                                                       \n",
       "2022-01-18 11:38:00  106635.0  106725.0  106610.0  106705.0        17263   \n",
       "2022-01-18 11:39:00  106710.0  106825.0  106665.0  106785.0        25017   \n",
       "2022-01-18 11:40:00  106780.0  106860.0  106675.0  106685.0        30803   \n",
       "2022-01-18 11:41:00  106690.0  106910.0  106665.0  106885.0        30323   \n",
       "2022-01-18 11:42:00  106880.0  106965.0  106800.0  106955.0        22614   \n",
       "...                       ...       ...       ...       ...          ...   \n",
       "2022-10-13 16:55:00  114915.0  114920.0  114915.0  114915.0           38   \n",
       "2022-10-13 16:56:00  114920.0  114920.0  114915.0  114920.0           56   \n",
       "2022-10-13 16:57:00  114920.0  114920.0  114915.0  114920.0           42   \n",
       "2022-10-13 16:58:00  114920.0  114920.0  114910.0  114915.0           86   \n",
       "2022-10-13 16:59:00  114915.0  114915.0  114910.0  114910.0          258   \n",
       "\n",
       "                     real_volume  \n",
       "time                              \n",
       "2022-01-18 11:38:00        64315  \n",
       "2022-01-18 11:39:00        90996  \n",
       "2022-01-18 11:40:00       110379  \n",
       "2022-01-18 11:41:00       112419  \n",
       "2022-01-18 11:42:00        80706  \n",
       "...                          ...  \n",
       "2022-10-13 16:55:00          275  \n",
       "2022-10-13 16:56:00          240  \n",
       "2022-10-13 16:57:00          200  \n",
       "2022-10-13 16:58:00          817  \n",
       "2022-10-13 16:59:00          779  \n",
       "\n",
       "[99999 rows x 6 columns]"
      ]
     },
     "execution_count": 54,
     "metadata": {},
     "output_type": "execute_result"
    }
   ],
   "source": [
    "raw"
   ]
  },
  {
   "cell_type": "code",
   "execution_count": 55,
   "metadata": {},
   "outputs": [],
   "source": [
    "def generate_data():\n",
    "    data = pd.DataFrame(raw['close'])\n",
    "    data.columns = [symbol]\n",
    "    return data"
   ]
  },
  {
   "cell_type": "code",
   "execution_count": 56,
   "metadata": {},
   "outputs": [],
   "source": [
    "data = generate_data()"
   ]
  },
  {
   "cell_type": "code",
   "execution_count": 57,
   "metadata": {},
   "outputs": [
    {
     "data": {
      "text/html": [
       "<div>\n",
       "<style scoped>\n",
       "    .dataframe tbody tr th:only-of-type {\n",
       "        vertical-align: middle;\n",
       "    }\n",
       "\n",
       "    .dataframe tbody tr th {\n",
       "        vertical-align: top;\n",
       "    }\n",
       "\n",
       "    .dataframe thead th {\n",
       "        text-align: right;\n",
       "    }\n",
       "</style>\n",
       "<table border=\"1\" class=\"dataframe\">\n",
       "  <thead>\n",
       "    <tr style=\"text-align: right;\">\n",
       "      <th></th>\n",
       "      <th>WIN_N</th>\n",
       "    </tr>\n",
       "    <tr>\n",
       "      <th>time</th>\n",
       "      <th></th>\n",
       "    </tr>\n",
       "  </thead>\n",
       "  <tbody>\n",
       "    <tr>\n",
       "      <th>2022-01-18 11:38:00</th>\n",
       "      <td>106705.0</td>\n",
       "    </tr>\n",
       "    <tr>\n",
       "      <th>2022-01-18 11:39:00</th>\n",
       "      <td>106785.0</td>\n",
       "    </tr>\n",
       "    <tr>\n",
       "      <th>2022-01-18 11:40:00</th>\n",
       "      <td>106685.0</td>\n",
       "    </tr>\n",
       "    <tr>\n",
       "      <th>2022-01-18 11:41:00</th>\n",
       "      <td>106885.0</td>\n",
       "    </tr>\n",
       "    <tr>\n",
       "      <th>2022-01-18 11:42:00</th>\n",
       "      <td>106955.0</td>\n",
       "    </tr>\n",
       "    <tr>\n",
       "      <th>...</th>\n",
       "      <td>...</td>\n",
       "    </tr>\n",
       "    <tr>\n",
       "      <th>2022-10-13 16:55:00</th>\n",
       "      <td>114915.0</td>\n",
       "    </tr>\n",
       "    <tr>\n",
       "      <th>2022-10-13 16:56:00</th>\n",
       "      <td>114920.0</td>\n",
       "    </tr>\n",
       "    <tr>\n",
       "      <th>2022-10-13 16:57:00</th>\n",
       "      <td>114920.0</td>\n",
       "    </tr>\n",
       "    <tr>\n",
       "      <th>2022-10-13 16:58:00</th>\n",
       "      <td>114915.0</td>\n",
       "    </tr>\n",
       "    <tr>\n",
       "      <th>2022-10-13 16:59:00</th>\n",
       "      <td>114910.0</td>\n",
       "    </tr>\n",
       "  </tbody>\n",
       "</table>\n",
       "<p>99999 rows × 1 columns</p>\n",
       "</div>"
      ],
      "text/plain": [
       "                        WIN_N\n",
       "time                         \n",
       "2022-01-18 11:38:00  106705.0\n",
       "2022-01-18 11:39:00  106785.0\n",
       "2022-01-18 11:40:00  106685.0\n",
       "2022-01-18 11:41:00  106885.0\n",
       "2022-01-18 11:42:00  106955.0\n",
       "...                       ...\n",
       "2022-10-13 16:55:00  114915.0\n",
       "2022-10-13 16:56:00  114920.0\n",
       "2022-10-13 16:57:00  114920.0\n",
       "2022-10-13 16:58:00  114915.0\n",
       "2022-10-13 16:59:00  114910.0\n",
       "\n",
       "[99999 rows x 1 columns]"
      ]
     },
     "execution_count": 57,
     "metadata": {},
     "output_type": "execute_result"
    }
   ],
   "source": [
    "data"
   ]
  },
  {
   "cell_type": "code",
   "execution_count": 58,
   "metadata": {},
   "outputs": [],
   "source": [
    "data = (data - data.mean()) / data.std()"
   ]
  },
  {
   "cell_type": "code",
   "execution_count": 59,
   "metadata": {},
   "outputs": [
    {
     "data": {
      "text/html": [
       "<div>\n",
       "<style scoped>\n",
       "    .dataframe tbody tr th:only-of-type {\n",
       "        vertical-align: middle;\n",
       "    }\n",
       "\n",
       "    .dataframe tbody tr th {\n",
       "        vertical-align: top;\n",
       "    }\n",
       "\n",
       "    .dataframe thead th {\n",
       "        text-align: right;\n",
       "    }\n",
       "</style>\n",
       "<table border=\"1\" class=\"dataframe\">\n",
       "  <thead>\n",
       "    <tr style=\"text-align: right;\">\n",
       "      <th></th>\n",
       "      <th>WIN_N</th>\n",
       "    </tr>\n",
       "    <tr>\n",
       "      <th>time</th>\n",
       "      <th></th>\n",
       "    </tr>\n",
       "  </thead>\n",
       "  <tbody>\n",
       "    <tr>\n",
       "      <th>2022-01-18 11:38:00</th>\n",
       "      <td>-0.634018</td>\n",
       "    </tr>\n",
       "    <tr>\n",
       "      <th>2022-01-18 11:39:00</th>\n",
       "      <td>-0.620362</td>\n",
       "    </tr>\n",
       "    <tr>\n",
       "      <th>2022-01-18 11:40:00</th>\n",
       "      <td>-0.637432</td>\n",
       "    </tr>\n",
       "    <tr>\n",
       "      <th>2022-01-18 11:41:00</th>\n",
       "      <td>-0.603291</td>\n",
       "    </tr>\n",
       "    <tr>\n",
       "      <th>2022-01-18 11:42:00</th>\n",
       "      <td>-0.591342</td>\n",
       "    </tr>\n",
       "    <tr>\n",
       "      <th>...</th>\n",
       "      <td>...</td>\n",
       "    </tr>\n",
       "    <tr>\n",
       "      <th>2022-10-13 16:55:00</th>\n",
       "      <td>0.767454</td>\n",
       "    </tr>\n",
       "    <tr>\n",
       "      <th>2022-10-13 16:56:00</th>\n",
       "      <td>0.768307</td>\n",
       "    </tr>\n",
       "    <tr>\n",
       "      <th>2022-10-13 16:57:00</th>\n",
       "      <td>0.768307</td>\n",
       "    </tr>\n",
       "    <tr>\n",
       "      <th>2022-10-13 16:58:00</th>\n",
       "      <td>0.767454</td>\n",
       "    </tr>\n",
       "    <tr>\n",
       "      <th>2022-10-13 16:59:00</th>\n",
       "      <td>0.766600</td>\n",
       "    </tr>\n",
       "  </tbody>\n",
       "</table>\n",
       "<p>99999 rows × 1 columns</p>\n",
       "</div>"
      ],
      "text/plain": [
       "                        WIN_N\n",
       "time                         \n",
       "2022-01-18 11:38:00 -0.634018\n",
       "2022-01-18 11:39:00 -0.620362\n",
       "2022-01-18 11:40:00 -0.637432\n",
       "2022-01-18 11:41:00 -0.603291\n",
       "2022-01-18 11:42:00 -0.591342\n",
       "...                       ...\n",
       "2022-10-13 16:55:00  0.767454\n",
       "2022-10-13 16:56:00  0.768307\n",
       "2022-10-13 16:57:00  0.768307\n",
       "2022-10-13 16:58:00  0.767454\n",
       "2022-10-13 16:59:00  0.766600\n",
       "\n",
       "[99999 rows x 1 columns]"
      ]
     },
     "execution_count": 59,
     "metadata": {},
     "output_type": "execute_result"
    }
   ],
   "source": [
    "data"
   ]
  },
  {
   "cell_type": "code",
   "execution_count": 60,
   "metadata": {},
   "outputs": [],
   "source": [
    "p = data[symbol].values"
   ]
  },
  {
   "cell_type": "code",
   "execution_count": 61,
   "metadata": {},
   "outputs": [
    {
     "data": {
      "text/plain": [
       "array([-0.634 , -0.6204, -0.6374, ...,  0.7683,  0.7675,  0.7666])"
      ]
     },
     "execution_count": 61,
     "metadata": {},
     "output_type": "execute_result"
    }
   ],
   "source": [
    "p"
   ]
  },
  {
   "cell_type": "code",
   "execution_count": 62,
   "metadata": {},
   "outputs": [],
   "source": [
    "p = p.reshape((len(p), -1))"
   ]
  },
  {
   "cell_type": "code",
   "execution_count": 63,
   "metadata": {},
   "outputs": [
    {
     "data": {
      "text/plain": [
       "array([[-0.634 ],\n",
       "       [-0.6204],\n",
       "       [-0.6374],\n",
       "       ...,\n",
       "       [ 0.7683],\n",
       "       [ 0.7675],\n",
       "       [ 0.7666]])"
      ]
     },
     "execution_count": 63,
     "metadata": {},
     "output_type": "execute_result"
    }
   ],
   "source": [
    "p"
   ]
  },
  {
   "cell_type": "code",
   "execution_count": 64,
   "metadata": {},
   "outputs": [],
   "source": [
    "lags = 5"
   ]
  },
  {
   "cell_type": "code",
   "execution_count": 65,
   "metadata": {},
   "outputs": [],
   "source": [
    "g = TimeseriesGenerator(p, p, length=lags, batch_size=5)"
   ]
  },
  {
   "cell_type": "code",
   "execution_count": 66,
   "metadata": {},
   "outputs": [],
   "source": [
    "def create_rnn_model(hu=100, lags=lags, layer='SimpleRNN',\n",
    "                           features=1, algorithm='estimation'):\n",
    "    model = Sequential()\n",
    "    if layer == 'SimpleRNN':\n",
    "        model.add(SimpleRNN(hu, activation='relu',\n",
    "                            input_shape=(lags, features)))\n",
    "    else:\n",
    "        model.add(LSTM(hu, activation='relu',\n",
    "                       input_shape=(lags, features)))\n",
    "    if algorithm == 'estimation':\n",
    "        model.add(Dense(1, activation='linear'))\n",
    "        model.compile(optimizer='adam', loss='mse', metrics=['mae'])\n",
    "    else:\n",
    "        model.add(Dense(1, activation='sigmoid'))\n",
    "        model.compile(optimizer='adam', loss='binary_crossentropy',\n",
    "                      metrics=['accuracy'])\n",
    "    return model"
   ]
  },
  {
   "cell_type": "code",
   "execution_count": 67,
   "metadata": {},
   "outputs": [],
   "source": [
    "model = create_rnn_model()"
   ]
  },
  {
   "cell_type": "code",
   "execution_count": 68,
   "metadata": {
    "scrolled": false
   },
   "outputs": [
    {
     "name": "stdout",
     "output_type": "stream",
     "text": [
      "Epoch 1/500\n",
      "10/10 [==============================] - 2s 19ms/step - loss: 2.1413 - mae: 1.3555\n",
      "Epoch 2/500\n",
      "10/10 [==============================] - 0s 16ms/step - loss: 0.4386 - mae: 0.5558\n",
      "Epoch 3/500\n",
      "10/10 [==============================] - 0s 19ms/step - loss: 0.2901 - mae: 0.4295\n",
      "Epoch 4/500\n",
      "10/10 [==============================] - 0s 18ms/step - loss: 0.1582 - mae: 0.2412\n",
      "Epoch 5/500\n",
      "10/10 [==============================] - 0s 17ms/step - loss: 0.0156 - mae: 0.1112\n",
      "Epoch 6/500\n",
      "10/10 [==============================] - 0s 17ms/step - loss: 0.0051 - mae: 0.0510\n",
      "Epoch 7/500\n",
      "10/10 [==============================] - 0s 17ms/step - loss: 0.0010 - mae: 0.0251\n",
      "Epoch 8/500\n",
      "10/10 [==============================] - 0s 16ms/step - loss: 0.0116 - mae: 0.0749\n",
      "Epoch 9/500\n",
      "10/10 [==============================] - 0s 16ms/step - loss: 0.0050 - mae: 0.0525\n",
      "Epoch 10/500\n",
      "10/10 [==============================] - 0s 18ms/step - loss: 7.7522e-04 - mae: 0.0212\n",
      "Epoch 11/500\n",
      "10/10 [==============================] - 0s 16ms/step - loss: 2.4851e-04 - mae: 0.0131\n",
      "Epoch 12/500\n",
      "10/10 [==============================] - 0s 19ms/step - loss: 0.0036 - mae: 0.0429\n",
      "Epoch 13/500\n",
      "10/10 [==============================] - 0s 18ms/step - loss: 0.0021 - mae: 0.0401\n",
      "Epoch 14/500\n",
      "10/10 [==============================] - 0s 18ms/step - loss: 7.3500e-04 - mae: 0.0238\n",
      "Epoch 15/500\n",
      "10/10 [==============================] - 0s 17ms/step - loss: 5.2911e-04 - mae: 0.0204\n",
      "Epoch 16/500\n",
      "10/10 [==============================] - 0s 18ms/step - loss: 3.1584e-04 - mae: 0.0131\n",
      "Epoch 17/500\n",
      "10/10 [==============================] - 0s 17ms/step - loss: 5.3107e-04 - mae: 0.0197\n",
      "Epoch 18/500\n",
      "10/10 [==============================] - 0s 19ms/step - loss: 5.0267e-04 - mae: 0.0190\n",
      "Epoch 19/500\n",
      "10/10 [==============================] - 0s 17ms/step - loss: 4.0218e-04 - mae: 0.0164\n",
      "Epoch 20/500\n",
      "10/10 [==============================] - 0s 18ms/step - loss: 2.1654e-04 - mae: 0.0117\n",
      "Epoch 21/500\n",
      "10/10 [==============================] - 0s 19ms/step - loss: 2.1766e-04 - mae: 0.0121\n",
      "Epoch 22/500\n",
      "10/10 [==============================] - 0s 17ms/step - loss: 6.0040e-04 - mae: 0.0188\n",
      "Epoch 23/500\n",
      "10/10 [==============================] - 0s 18ms/step - loss: 3.2585e-04 - mae: 0.0131\n",
      "Epoch 24/500\n",
      "10/10 [==============================] - 0s 17ms/step - loss: 8.0885e-04 - mae: 0.0216\n",
      "Epoch 25/500\n",
      "10/10 [==============================] - 0s 19ms/step - loss: 1.6221e-04 - mae: 0.0098\n",
      "Epoch 26/500\n",
      "10/10 [==============================] - 0s 19ms/step - loss: 5.2097e-04 - mae: 0.0145\n",
      "Epoch 27/500\n",
      "10/10 [==============================] - 0s 17ms/step - loss: 2.9660e-04 - mae: 0.0131\n",
      "Epoch 28/500\n",
      "10/10 [==============================] - 0s 20ms/step - loss: 2.0694e-04 - mae: 0.0116\n",
      "Epoch 29/500\n",
      "10/10 [==============================] - 0s 17ms/step - loss: 2.3074e-04 - mae: 0.0106\n",
      "Epoch 30/500\n",
      "10/10 [==============================] - 0s 16ms/step - loss: 2.8447e-04 - mae: 0.0117\n",
      "Epoch 31/500\n",
      "10/10 [==============================] - 0s 18ms/step - loss: 4.5027e-04 - mae: 0.0156\n",
      "Epoch 32/500\n",
      "10/10 [==============================] - 0s 17ms/step - loss: 4.6385e-04 - mae: 0.0159\n",
      "Epoch 33/500\n",
      "10/10 [==============================] - 0s 17ms/step - loss: 2.3561e-04 - mae: 0.0109\n",
      "Epoch 34/500\n",
      "10/10 [==============================] - 0s 17ms/step - loss: 9.1792e-04 - mae: 0.0239\n",
      "Epoch 35/500\n",
      "10/10 [==============================] - 0s 18ms/step - loss: 3.3342e-04 - mae: 0.0148\n",
      "Epoch 36/500\n",
      "10/10 [==============================] - 0s 16ms/step - loss: 5.2048e-04 - mae: 0.0197\n",
      "Epoch 37/500\n",
      "10/10 [==============================] - 0s 16ms/step - loss: 3.0854e-04 - mae: 0.0142\n",
      "Epoch 38/500\n",
      "10/10 [==============================] - 0s 15ms/step - loss: 4.4252e-04 - mae: 0.0169\n",
      "Epoch 39/500\n",
      "10/10 [==============================] - 0s 16ms/step - loss: 6.3779e-04 - mae: 0.0192\n",
      "Epoch 40/500\n",
      "10/10 [==============================] - 0s 18ms/step - loss: 0.0011 - mae: 0.0211\n",
      "Epoch 41/500\n",
      "10/10 [==============================] - 0s 17ms/step - loss: 0.0011 - mae: 0.0277\n",
      "Epoch 42/500\n",
      "10/10 [==============================] - 0s 17ms/step - loss: 7.9722e-04 - mae: 0.0234\n",
      "Epoch 43/500\n",
      "10/10 [==============================] - 0s 17ms/step - loss: 5.2138e-04 - mae: 0.0181\n",
      "Epoch 44/500\n",
      "10/10 [==============================] - 0s 17ms/step - loss: 2.7019e-04 - mae: 0.0127\n",
      "Epoch 45/500\n",
      "10/10 [==============================] - 0s 17ms/step - loss: 1.5732e-04 - mae: 0.0094\n",
      "Epoch 46/500\n",
      "10/10 [==============================] - 0s 16ms/step - loss: 5.7317e-04 - mae: 0.0185\n",
      "Epoch 47/500\n",
      "10/10 [==============================] - 0s 16ms/step - loss: 1.2547e-04 - mae: 0.0077\n",
      "Epoch 48/500\n",
      "10/10 [==============================] - 0s 16ms/step - loss: 1.9597e-04 - mae: 0.0110\n",
      "Epoch 49/500\n",
      "10/10 [==============================] - 0s 17ms/step - loss: 1.3412e-04 - mae: 0.0088\n",
      "Epoch 50/500\n",
      "10/10 [==============================] - 0s 16ms/step - loss: 1.7774e-04 - mae: 0.0103\n",
      "Epoch 51/500\n",
      "10/10 [==============================] - 0s 17ms/step - loss: 5.5690e-04 - mae: 0.0104\n",
      "Epoch 52/500\n",
      "10/10 [==============================] - 0s 16ms/step - loss: 8.5895e-05 - mae: 0.0072\n",
      "Epoch 53/500\n",
      "10/10 [==============================] - 0s 18ms/step - loss: 2.6578e-04 - mae: 0.0116\n",
      "Epoch 54/500\n",
      "10/10 [==============================] - 0s 18ms/step - loss: 3.3190e-04 - mae: 0.0144\n",
      "Epoch 55/500\n",
      "10/10 [==============================] - 0s 18ms/step - loss: 1.4911e-04 - mae: 0.0091\n",
      "Epoch 56/500\n",
      "10/10 [==============================] - 0s 17ms/step - loss: 8.7170e-05 - mae: 0.0075\n",
      "Epoch 57/500\n",
      "10/10 [==============================] - 0s 17ms/step - loss: 5.1487e-04 - mae: 0.0158\n",
      "Epoch 58/500\n",
      "10/10 [==============================] - 0s 17ms/step - loss: 1.3319e-04 - mae: 0.0085\n",
      "Epoch 59/500\n",
      "10/10 [==============================] - 0s 18ms/step - loss: 2.0498e-04 - mae: 0.0107\n",
      "Epoch 60/500\n",
      "10/10 [==============================] - 0s 20ms/step - loss: 3.5640e-04 - mae: 0.0153\n",
      "Epoch 61/500\n",
      "10/10 [==============================] - 0s 17ms/step - loss: 2.2051e-04 - mae: 0.0109\n",
      "Epoch 62/500\n",
      "10/10 [==============================] - 0s 17ms/step - loss: 6.5451e-04 - mae: 0.0208\n",
      "Epoch 63/500\n",
      "10/10 [==============================] - 0s 20ms/step - loss: 8.3586e-04 - mae: 0.0239\n",
      "Epoch 64/500\n",
      "10/10 [==============================] - 0s 18ms/step - loss: 0.0010 - mae: 0.0227\n",
      "Epoch 65/500\n",
      "10/10 [==============================] - 0s 17ms/step - loss: 4.6172e-04 - mae: 0.0171\n",
      "Epoch 66/500\n",
      "10/10 [==============================] - 0s 20ms/step - loss: 5.8350e-04 - mae: 0.0203\n",
      "Epoch 67/500\n",
      "10/10 [==============================] - 0s 20ms/step - loss: 0.0019 - mae: 0.0342\n",
      "Epoch 68/500\n",
      "10/10 [==============================] - 0s 17ms/step - loss: 0.0014 - mae: 0.0264\n",
      "Epoch 69/500\n",
      "10/10 [==============================] - 0s 17ms/step - loss: 9.2138e-04 - mae: 0.0227\n",
      "Epoch 70/500\n",
      "10/10 [==============================] - 0s 19ms/step - loss: 5.4907e-04 - mae: 0.0200\n",
      "Epoch 71/500\n",
      "10/10 [==============================] - 0s 18ms/step - loss: 0.0015 - mae: 0.0318\n",
      "Epoch 72/500\n",
      "10/10 [==============================] - 0s 15ms/step - loss: 0.0012 - mae: 0.0263\n",
      "Epoch 73/500\n",
      "10/10 [==============================] - 0s 17ms/step - loss: 5.6447e-04 - mae: 0.0185\n",
      "Epoch 74/500\n",
      "10/10 [==============================] - 0s 17ms/step - loss: 2.5149e-04 - mae: 0.0113\n",
      "Epoch 75/500\n",
      "10/10 [==============================] - 0s 18ms/step - loss: 1.4973e-04 - mae: 0.0097\n",
      "Epoch 76/500\n",
      "10/10 [==============================] - 0s 16ms/step - loss: 7.0950e-04 - mae: 0.0188\n",
      "Epoch 77/500\n",
      "10/10 [==============================] - 0s 16ms/step - loss: 0.0024 - mae: 0.0279\n",
      "Epoch 78/500\n",
      "10/10 [==============================] - 0s 17ms/step - loss: 0.0012 - mae: 0.0255\n",
      "Epoch 79/500\n",
      "10/10 [==============================] - 0s 17ms/step - loss: 2.3274e-04 - mae: 0.0109\n",
      "Epoch 80/500\n",
      "10/10 [==============================] - 0s 17ms/step - loss: 4.8238e-04 - mae: 0.0148\n",
      "Epoch 81/500\n",
      "10/10 [==============================] - 0s 17ms/step - loss: 2.2098e-04 - mae: 0.0091\n",
      "Epoch 82/500\n",
      "10/10 [==============================] - 0s 19ms/step - loss: 2.5293e-04 - mae: 0.0118\n",
      "Epoch 83/500\n"
     ]
    },
    {
     "name": "stdout",
     "output_type": "stream",
     "text": [
      "10/10 [==============================] - 0s 19ms/step - loss: 3.5966e-04 - mae: 0.0136\n",
      "Epoch 84/500\n",
      "10/10 [==============================] - 0s 21ms/step - loss: 3.8811e-04 - mae: 0.0159\n",
      "Epoch 85/500\n",
      "10/10 [==============================] - 0s 19ms/step - loss: 2.6386e-04 - mae: 0.0111\n",
      "Epoch 86/500\n",
      "10/10 [==============================] - 0s 22ms/step - loss: 3.8882e-04 - mae: 0.0155\n",
      "Epoch 87/500\n",
      "10/10 [==============================] - 0s 21ms/step - loss: 1.4811e-04 - mae: 0.0095\n",
      "Epoch 88/500\n",
      "10/10 [==============================] - 0s 21ms/step - loss: 1.1764e-04 - mae: 0.0086\n",
      "Epoch 89/500\n",
      "10/10 [==============================] - 0s 17ms/step - loss: 2.8310e-04 - mae: 0.0150\n",
      "Epoch 90/500\n",
      "10/10 [==============================] - 0s 19ms/step - loss: 2.9015e-04 - mae: 0.0134\n",
      "Epoch 91/500\n",
      "10/10 [==============================] - 0s 18ms/step - loss: 1.5981e-04 - mae: 0.0099\n",
      "Epoch 92/500\n",
      "10/10 [==============================] - 0s 19ms/step - loss: 8.6814e-04 - mae: 0.0225\n",
      "Epoch 93/500\n",
      "10/10 [==============================] - 0s 17ms/step - loss: 0.0023 - mae: 0.0270\n",
      "Epoch 94/500\n",
      "10/10 [==============================] - 0s 17ms/step - loss: 8.6675e-04 - mae: 0.0207\n",
      "Epoch 95/500\n",
      "10/10 [==============================] - 0s 18ms/step - loss: 0.0013 - mae: 0.0275\n",
      "Epoch 96/500\n",
      "10/10 [==============================] - 0s 24ms/step - loss: 0.0027 - mae: 0.0254\n",
      "Epoch 97/500\n",
      "10/10 [==============================] - 0s 19ms/step - loss: 0.0169 - mae: 0.0632\n",
      "Epoch 98/500\n",
      "10/10 [==============================] - 0s 16ms/step - loss: 0.0051 - mae: 0.0458\n",
      "Epoch 99/500\n",
      "10/10 [==============================] - 0s 16ms/step - loss: 0.0050 - mae: 0.0448\n",
      "Epoch 100/500\n",
      "10/10 [==============================] - 0s 16ms/step - loss: 7.3517e-04 - mae: 0.0173\n",
      "Epoch 101/500\n",
      "10/10 [==============================] - 0s 19ms/step - loss: 0.0086 - mae: 0.0546\n",
      "Epoch 102/500\n",
      "10/10 [==============================] - 0s 20ms/step - loss: 0.0567 - mae: 0.1608\n",
      "Epoch 103/500\n",
      "10/10 [==============================] - 0s 17ms/step - loss: 0.0291 - mae: 0.0995\n",
      "Epoch 104/500\n",
      "10/10 [==============================] - 0s 19ms/step - loss: 0.0274 - mae: 0.0952\n",
      "Epoch 105/500\n",
      "10/10 [==============================] - 0s 17ms/step - loss: 0.0222 - mae: 0.0903\n",
      "Epoch 106/500\n",
      "10/10 [==============================] - 0s 19ms/step - loss: 0.0037 - mae: 0.0312\n",
      "Epoch 107/500\n",
      "10/10 [==============================] - 0s 17ms/step - loss: 0.0328 - mae: 0.0690\n",
      "Epoch 108/500\n",
      "10/10 [==============================] - 0s 19ms/step - loss: 0.0109 - mae: 0.0559\n",
      "Epoch 109/500\n",
      "10/10 [==============================] - 0s 16ms/step - loss: 0.0039 - mae: 0.0302\n",
      "Epoch 110/500\n",
      "10/10 [==============================] - 0s 17ms/step - loss: 0.0100 - mae: 0.0414\n",
      "Epoch 111/500\n",
      "10/10 [==============================] - 0s 17ms/step - loss: 0.0088 - mae: 0.0476\n",
      "Epoch 112/500\n",
      "10/10 [==============================] - 0s 18ms/step - loss: 0.0022 - mae: 0.0389\n",
      "Epoch 113/500\n",
      "10/10 [==============================] - 0s 18ms/step - loss: 0.0019 - mae: 0.0348\n",
      "Epoch 114/500\n",
      "10/10 [==============================] - 0s 25ms/step - loss: 3.7428e-04 - mae: 0.0164\n",
      "Epoch 115/500\n",
      "10/10 [==============================] - 0s 16ms/step - loss: 4.8091e-04 - mae: 0.0182\n",
      "Epoch 116/500\n",
      "10/10 [==============================] - 0s 16ms/step - loss: 3.3301e-04 - mae: 0.0140\n",
      "Epoch 117/500\n",
      "10/10 [==============================] - 0s 17ms/step - loss: 3.0443e-04 - mae: 0.0128\n",
      "Epoch 118/500\n",
      "10/10 [==============================] - 0s 17ms/step - loss: 2.1576e-04 - mae: 0.0114\n",
      "Epoch 119/500\n",
      "10/10 [==============================] - 0s 17ms/step - loss: 5.0679e-04 - mae: 0.0185\n",
      "Epoch 120/500\n",
      "10/10 [==============================] - 0s 17ms/step - loss: 0.0012 - mae: 0.0264\n",
      "Epoch 121/500\n",
      "10/10 [==============================] - 0s 17ms/step - loss: 3.2371e-04 - mae: 0.0136\n",
      "Epoch 122/500\n",
      "10/10 [==============================] - 0s 17ms/step - loss: 4.8114e-04 - mae: 0.0179\n",
      "Epoch 123/500\n",
      "10/10 [==============================] - 0s 18ms/step - loss: 6.8237e-04 - mae: 0.0179\n",
      "Epoch 124/500\n",
      "10/10 [==============================] - 0s 17ms/step - loss: 5.0637e-04 - mae: 0.0129\n",
      "Epoch 125/500\n",
      "10/10 [==============================] - 0s 17ms/step - loss: 2.0050e-04 - mae: 0.0121\n",
      "Epoch 126/500\n",
      "10/10 [==============================] - 0s 16ms/step - loss: 3.1089e-04 - mae: 0.0145\n",
      "Epoch 127/500\n",
      "10/10 [==============================] - 0s 17ms/step - loss: 8.6496e-05 - mae: 0.0071\n",
      "Epoch 128/500\n",
      "10/10 [==============================] - 0s 17ms/step - loss: 3.2579e-04 - mae: 0.0159\n",
      "Epoch 129/500\n",
      "10/10 [==============================] - 0s 19ms/step - loss: 3.0214e-04 - mae: 0.0149\n",
      "Epoch 130/500\n",
      "10/10 [==============================] - 0s 19ms/step - loss: 1.3983e-04 - mae: 0.0095\n",
      "Epoch 131/500\n",
      "10/10 [==============================] - 0s 17ms/step - loss: 1.7111e-04 - mae: 0.0107\n",
      "Epoch 132/500\n",
      "10/10 [==============================] - 0s 19ms/step - loss: 5.3851e-05 - mae: 0.0062\n",
      "Epoch 133/500\n",
      "10/10 [==============================] - 0s 17ms/step - loss: 2.1046e-04 - mae: 0.0112\n",
      "Epoch 134/500\n",
      "10/10 [==============================] - 0s 17ms/step - loss: 1.3300e-04 - mae: 0.0100\n",
      "Epoch 135/500\n",
      "10/10 [==============================] - 0s 17ms/step - loss: 1.3023e-04 - mae: 0.0089\n",
      "Epoch 136/500\n",
      "10/10 [==============================] - 0s 17ms/step - loss: 4.0711e-04 - mae: 0.0165\n",
      "Epoch 137/500\n",
      "10/10 [==============================] - 0s 18ms/step - loss: 2.3069e-04 - mae: 0.0114\n",
      "Epoch 138/500\n",
      "10/10 [==============================] - 0s 18ms/step - loss: 3.8906e-04 - mae: 0.0144\n",
      "Epoch 139/500\n",
      "10/10 [==============================] - 0s 20ms/step - loss: 6.7366e-04 - mae: 0.0157\n",
      "Epoch 140/500\n",
      "10/10 [==============================] - 0s 19ms/step - loss: 9.5540e-04 - mae: 0.0214\n",
      "Epoch 141/500\n",
      "10/10 [==============================] - 0s 17ms/step - loss: 3.8699e-04 - mae: 0.0171\n",
      "Epoch 142/500\n",
      "10/10 [==============================] - 0s 18ms/step - loss: 0.0049 - mae: 0.0476\n",
      "Epoch 143/500\n",
      "10/10 [==============================] - 0s 17ms/step - loss: 0.0040 - mae: 0.0398\n",
      "Epoch 144/500\n",
      "10/10 [==============================] - 0s 17ms/step - loss: 0.0043 - mae: 0.0463\n",
      "Epoch 145/500\n",
      "10/10 [==============================] - 0s 17ms/step - loss: 0.0029 - mae: 0.0316\n",
      "Epoch 146/500\n",
      "10/10 [==============================] - 0s 16ms/step - loss: 0.0034 - mae: 0.0464\n",
      "Epoch 147/500\n",
      "10/10 [==============================] - 0s 20ms/step - loss: 0.0023 - mae: 0.0368\n",
      "Epoch 148/500\n",
      "10/10 [==============================] - 0s 17ms/step - loss: 0.0037 - mae: 0.0337\n",
      "Epoch 149/500\n",
      "10/10 [==============================] - 0s 16ms/step - loss: 9.4184e-04 - mae: 0.0240\n",
      "Epoch 150/500\n",
      "10/10 [==============================] - 0s 18ms/step - loss: 4.8046e-04 - mae: 0.0186\n",
      "Epoch 151/500\n",
      "10/10 [==============================] - 0s 19ms/step - loss: 8.3189e-04 - mae: 0.0233\n",
      "Epoch 152/500\n",
      "10/10 [==============================] - 0s 18ms/step - loss: 0.0015 - mae: 0.0269\n",
      "Epoch 153/500\n",
      "10/10 [==============================] - 0s 18ms/step - loss: 0.0017 - mae: 0.0324\n",
      "Epoch 154/500\n",
      "10/10 [==============================] - 0s 19ms/step - loss: 9.8905e-04 - mae: 0.0257\n",
      "Epoch 155/500\n",
      "10/10 [==============================] - 0s 19ms/step - loss: 0.0015 - mae: 0.0297\n",
      "Epoch 156/500\n",
      "10/10 [==============================] - 0s 19ms/step - loss: 2.9706e-04 - mae: 0.0141\n",
      "Epoch 157/500\n",
      "10/10 [==============================] - 0s 20ms/step - loss: 3.3688e-04 - mae: 0.0155\n",
      "Epoch 158/500\n",
      "10/10 [==============================] - 0s 17ms/step - loss: 3.6086e-04 - mae: 0.0164\n",
      "Epoch 159/500\n",
      "10/10 [==============================] - 0s 16ms/step - loss: 2.8844e-04 - mae: 0.0130\n",
      "Epoch 160/500\n",
      "10/10 [==============================] - 0s 17ms/step - loss: 2.0999e-04 - mae: 0.0113\n",
      "Epoch 161/500\n",
      "10/10 [==============================] - 0s 18ms/step - loss: 1.1721e-04 - mae: 0.0089\n",
      "Epoch 162/500\n",
      "10/10 [==============================] - 0s 18ms/step - loss: 0.0017 - mae: 0.0201\n",
      "Epoch 163/500\n",
      "10/10 [==============================] - 0s 17ms/step - loss: 2.6320e-04 - mae: 0.0134\n",
      "Epoch 164/500\n",
      "10/10 [==============================] - 0s 17ms/step - loss: 3.4476e-04 - mae: 0.0121\n",
      "Epoch 165/500\n"
     ]
    },
    {
     "name": "stdout",
     "output_type": "stream",
     "text": [
      "10/10 [==============================] - 0s 17ms/step - loss: 5.0405e-04 - mae: 0.0164\n",
      "Epoch 166/500\n",
      "10/10 [==============================] - 0s 16ms/step - loss: 2.4428e-04 - mae: 0.0118\n",
      "Epoch 167/500\n",
      "10/10 [==============================] - 0s 18ms/step - loss: 3.0921e-04 - mae: 0.0110\n",
      "Epoch 168/500\n",
      "10/10 [==============================] - 0s 17ms/step - loss: 8.1042e-05 - mae: 0.0070\n",
      "Epoch 169/500\n",
      "10/10 [==============================] - 0s 17ms/step - loss: 2.0909e-04 - mae: 0.0117\n",
      "Epoch 170/500\n",
      "10/10 [==============================] - 0s 18ms/step - loss: 1.7368e-04 - mae: 0.0095\n",
      "Epoch 171/500\n",
      "10/10 [==============================] - 0s 16ms/step - loss: 2.7084e-04 - mae: 0.0122\n",
      "Epoch 172/500\n",
      "10/10 [==============================] - 0s 18ms/step - loss: 5.0721e-04 - mae: 0.0150\n",
      "Epoch 173/500\n",
      "10/10 [==============================] - 0s 15ms/step - loss: 3.7812e-04 - mae: 0.0160\n",
      "Epoch 174/500\n",
      "10/10 [==============================] - 0s 15ms/step - loss: 6.0846e-04 - mae: 0.0196\n",
      "Epoch 175/500\n",
      "10/10 [==============================] - 0s 15ms/step - loss: 4.5750e-04 - mae: 0.0193\n",
      "Epoch 176/500\n",
      "10/10 [==============================] - 0s 15ms/step - loss: 0.0012 - mae: 0.0265\n",
      "Epoch 177/500\n",
      "10/10 [==============================] - 0s 17ms/step - loss: 4.0115e-04 - mae: 0.0165\n",
      "Epoch 178/500\n",
      "10/10 [==============================] - 0s 18ms/step - loss: 0.0010 - mae: 0.0206\n",
      "Epoch 179/500\n",
      "10/10 [==============================] - 0s 19ms/step - loss: 6.9523e-04 - mae: 0.0207\n",
      "Epoch 180/500\n",
      "10/10 [==============================] - 0s 17ms/step - loss: 9.8508e-04 - mae: 0.0266\n",
      "Epoch 181/500\n",
      "10/10 [==============================] - 0s 16ms/step - loss: 3.8555e-04 - mae: 0.0131\n",
      "Epoch 182/500\n",
      "10/10 [==============================] - 0s 16ms/step - loss: 6.2824e-04 - mae: 0.0173\n",
      "Epoch 183/500\n",
      "10/10 [==============================] - 0s 17ms/step - loss: 3.4148e-04 - mae: 0.0156\n",
      "Epoch 184/500\n",
      "10/10 [==============================] - 0s 17ms/step - loss: 1.5566e-04 - mae: 0.0093\n",
      "Epoch 185/500\n",
      "10/10 [==============================] - 0s 17ms/step - loss: 3.7442e-04 - mae: 0.0144\n",
      "Epoch 186/500\n",
      "10/10 [==============================] - 0s 20ms/step - loss: 1.6240e-04 - mae: 0.0104\n",
      "Epoch 187/500\n",
      "10/10 [==============================] - 0s 17ms/step - loss: 1.3049e-04 - mae: 0.0096\n",
      "Epoch 188/500\n",
      "10/10 [==============================] - 0s 17ms/step - loss: 4.0078e-04 - mae: 0.0173\n",
      "Epoch 189/500\n",
      "10/10 [==============================] - 0s 22ms/step - loss: 1.2089e-04 - mae: 0.0083\n",
      "Epoch 190/500\n",
      "10/10 [==============================] - 0s 17ms/step - loss: 0.0013 - mae: 0.0304\n",
      "Epoch 191/500\n",
      "10/10 [==============================] - 0s 18ms/step - loss: 0.0014 - mae: 0.0312\n",
      "Epoch 192/500\n",
      "10/10 [==============================] - 0s 17ms/step - loss: 4.7240e-04 - mae: 0.0150\n",
      "Epoch 193/500\n",
      "10/10 [==============================] - 0s 18ms/step - loss: 0.0013 - mae: 0.0231\n",
      "Epoch 194/500\n",
      "10/10 [==============================] - 0s 18ms/step - loss: 9.8665e-04 - mae: 0.0245\n",
      "Epoch 195/500\n",
      "10/10 [==============================] - 0s 21ms/step - loss: 5.8096e-04 - mae: 0.0200\n",
      "Epoch 196/500\n",
      "10/10 [==============================] - 0s 17ms/step - loss: 4.0009e-04 - mae: 0.0155\n",
      "Epoch 197/500\n",
      "10/10 [==============================] - 0s 18ms/step - loss: 3.9438e-04 - mae: 0.0114\n",
      "Epoch 198/500\n",
      "10/10 [==============================] - 0s 17ms/step - loss: 3.1624e-04 - mae: 0.0131\n",
      "Epoch 199/500\n",
      "10/10 [==============================] - 0s 19ms/step - loss: 4.2657e-04 - mae: 0.0152\n",
      "Epoch 200/500\n",
      "10/10 [==============================] - 0s 17ms/step - loss: 1.4913e-04 - mae: 0.0095\n",
      "Epoch 201/500\n",
      "10/10 [==============================] - 0s 20ms/step - loss: 1.9471e-04 - mae: 0.0117\n",
      "Epoch 202/500\n",
      "10/10 [==============================] - 0s 18ms/step - loss: 8.3653e-04 - mae: 0.0189\n",
      "Epoch 203/500\n",
      "10/10 [==============================] - 0s 17ms/step - loss: 0.0011 - mae: 0.0270\n",
      "Epoch 204/500\n",
      "10/10 [==============================] - 0s 18ms/step - loss: 0.0025 - mae: 0.0370\n",
      "Epoch 205/500\n",
      "10/10 [==============================] - 0s 18ms/step - loss: 5.4754e-04 - mae: 0.0209\n",
      "Epoch 206/500\n",
      "10/10 [==============================] - 0s 17ms/step - loss: 0.0028 - mae: 0.0292\n",
      "Epoch 207/500\n",
      "10/10 [==============================] - 0s 19ms/step - loss: 8.6608e-04 - mae: 0.0212\n",
      "Epoch 208/500\n",
      "10/10 [==============================] - 0s 17ms/step - loss: 0.0011 - mae: 0.0226\n",
      "Epoch 209/500\n",
      "10/10 [==============================] - 0s 17ms/step - loss: 5.1078e-04 - mae: 0.0186\n",
      "Epoch 210/500\n",
      "10/10 [==============================] - 0s 17ms/step - loss: 6.2936e-04 - mae: 0.0188\n",
      "Epoch 211/500\n",
      "10/10 [==============================] - 0s 18ms/step - loss: 0.0013 - mae: 0.0285\n",
      "Epoch 212/500\n",
      "10/10 [==============================] - 0s 17ms/step - loss: 0.0013 - mae: 0.0285\n",
      "Epoch 213/500\n",
      "10/10 [==============================] - 0s 19ms/step - loss: 6.6730e-04 - mae: 0.0228\n",
      "Epoch 214/500\n",
      "10/10 [==============================] - 0s 17ms/step - loss: 5.4821e-04 - mae: 0.0185\n",
      "Epoch 215/500\n",
      "10/10 [==============================] - 0s 18ms/step - loss: 4.1338e-04 - mae: 0.0168\n",
      "Epoch 216/500\n",
      "10/10 [==============================] - 0s 17ms/step - loss: 3.6396e-04 - mae: 0.0148\n",
      "Epoch 217/500\n",
      "10/10 [==============================] - 0s 18ms/step - loss: 2.8259e-04 - mae: 0.0135\n",
      "Epoch 218/500\n",
      "10/10 [==============================] - 0s 19ms/step - loss: 1.7556e-04 - mae: 0.0102\n",
      "Epoch 219/500\n",
      "10/10 [==============================] - 0s 18ms/step - loss: 1.4641e-04 - mae: 0.0086\n",
      "Epoch 220/500\n",
      "10/10 [==============================] - 0s 17ms/step - loss: 3.0856e-04 - mae: 0.0129\n",
      "Epoch 221/500\n",
      "10/10 [==============================] - 0s 16ms/step - loss: 2.6486e-04 - mae: 0.0135\n",
      "Epoch 222/500\n",
      "10/10 [==============================] - 0s 18ms/step - loss: 1.4483e-04 - mae: 0.0094\n",
      "Epoch 223/500\n",
      "10/10 [==============================] - 0s 17ms/step - loss: 5.3842e-04 - mae: 0.0121\n",
      "Epoch 224/500\n",
      "10/10 [==============================] - 0s 18ms/step - loss: 4.7707e-04 - mae: 0.0158\n",
      "Epoch 225/500\n",
      "10/10 [==============================] - 0s 17ms/step - loss: 6.4497e-04 - mae: 0.0183\n",
      "Epoch 226/500\n",
      "10/10 [==============================] - 0s 19ms/step - loss: 0.0011 - mae: 0.0182\n",
      "Epoch 227/500\n",
      "10/10 [==============================] - 0s 17ms/step - loss: 0.0054 - mae: 0.0407\n",
      "Epoch 228/500\n",
      "10/10 [==============================] - 0s 20ms/step - loss: 4.2034e-04 - mae: 0.0147\n",
      "Epoch 229/500\n",
      "10/10 [==============================] - 0s 19ms/step - loss: 0.0311 - mae: 0.1035\n",
      "Epoch 230/500\n",
      "10/10 [==============================] - 0s 18ms/step - loss: 0.0310 - mae: 0.0847\n",
      "Epoch 231/500\n",
      "10/10 [==============================] - 0s 18ms/step - loss: 0.0113 - mae: 0.0695\n",
      "Epoch 232/500\n",
      "10/10 [==============================] - 0s 18ms/step - loss: 0.0350 - mae: 0.0981\n",
      "Epoch 233/500\n",
      "10/10 [==============================] - 0s 18ms/step - loss: 0.0153 - mae: 0.0771\n",
      "Epoch 234/500\n",
      "10/10 [==============================] - 0s 19ms/step - loss: 0.0093 - mae: 0.0391\n",
      "Epoch 235/500\n",
      "10/10 [==============================] - 0s 19ms/step - loss: 0.0018 - mae: 0.0305\n",
      "Epoch 236/500\n",
      "10/10 [==============================] - 0s 19ms/step - loss: 4.6990e-04 - mae: 0.0163\n",
      "Epoch 237/500\n",
      "10/10 [==============================] - 0s 18ms/step - loss: 2.0584e-04 - mae: 0.0128\n",
      "Epoch 238/500\n",
      "10/10 [==============================] - 0s 26ms/step - loss: 8.8650e-04 - mae: 0.0175\n",
      "Epoch 239/500\n",
      "10/10 [==============================] - 0s 17ms/step - loss: 1.3672e-04 - mae: 0.0090\n",
      "Epoch 240/500\n",
      "10/10 [==============================] - 0s 19ms/step - loss: 6.3159e-04 - mae: 0.0214\n",
      "Epoch 241/500\n",
      "10/10 [==============================] - 0s 18ms/step - loss: 6.7914e-04 - mae: 0.0207\n",
      "Epoch 242/500\n",
      "10/10 [==============================] - 0s 18ms/step - loss: 9.8507e-04 - mae: 0.0242\n",
      "Epoch 243/500\n",
      "10/10 [==============================] - 0s 19ms/step - loss: 6.4878e-04 - mae: 0.0191\n",
      "Epoch 244/500\n",
      "10/10 [==============================] - 0s 17ms/step - loss: 5.3760e-04 - mae: 0.0174\n",
      "Epoch 245/500\n",
      "10/10 [==============================] - 0s 19ms/step - loss: 1.2971e-04 - mae: 0.0089\n",
      "Epoch 246/500\n",
      "10/10 [==============================] - 0s 20ms/step - loss: 2.4399e-04 - mae: 0.0115\n",
      "Epoch 247/500\n"
     ]
    },
    {
     "name": "stdout",
     "output_type": "stream",
     "text": [
      "10/10 [==============================] - 0s 18ms/step - loss: 1.2623e-04 - mae: 0.0090\n",
      "Epoch 248/500\n",
      "10/10 [==============================] - 0s 18ms/step - loss: 1.3651e-04 - mae: 0.0096\n",
      "Epoch 249/500\n",
      "10/10 [==============================] - 0s 20ms/step - loss: 2.0544e-04 - mae: 0.0116\n",
      "Epoch 250/500\n",
      "10/10 [==============================] - 0s 22ms/step - loss: 1.7931e-04 - mae: 0.0111\n",
      "Epoch 251/500\n",
      "10/10 [==============================] - 0s 18ms/step - loss: 3.0893e-04 - mae: 0.0150\n",
      "Epoch 252/500\n",
      "10/10 [==============================] - 0s 18ms/step - loss: 1.0704e-04 - mae: 0.0081\n",
      "Epoch 253/500\n",
      "10/10 [==============================] - 0s 18ms/step - loss: 1.3072e-04 - mae: 0.0097\n",
      "Epoch 254/500\n",
      "10/10 [==============================] - 0s 19ms/step - loss: 2.2564e-04 - mae: 0.0120\n",
      "Epoch 255/500\n",
      "10/10 [==============================] - 0s 17ms/step - loss: 3.4142e-04 - mae: 0.0128\n",
      "Epoch 256/500\n",
      "10/10 [==============================] - 0s 19ms/step - loss: 2.1234e-04 - mae: 0.0108\n",
      "Epoch 257/500\n",
      "10/10 [==============================] - 0s 19ms/step - loss: 2.1994e-04 - mae: 0.0125\n",
      "Epoch 258/500\n",
      "10/10 [==============================] - 0s 20ms/step - loss: 1.5888e-04 - mae: 0.0098\n",
      "Epoch 259/500\n",
      "10/10 [==============================] - 0s 19ms/step - loss: 2.6885e-04 - mae: 0.0124\n",
      "Epoch 260/500\n",
      "10/10 [==============================] - 0s 18ms/step - loss: 8.4996e-04 - mae: 0.0148\n",
      "Epoch 261/500\n",
      "10/10 [==============================] - 0s 20ms/step - loss: 1.6052e-04 - mae: 0.0099\n",
      "Epoch 262/500\n",
      "10/10 [==============================] - 0s 19ms/step - loss: 5.4060e-04 - mae: 0.0163\n",
      "Epoch 263/500\n",
      "10/10 [==============================] - 0s 20ms/step - loss: 2.1008e-04 - mae: 0.0104\n",
      "Epoch 264/500\n",
      "10/10 [==============================] - 0s 19ms/step - loss: 1.2771e-04 - mae: 0.0093\n",
      "Epoch 265/500\n",
      "10/10 [==============================] - 0s 19ms/step - loss: 1.3713e-04 - mae: 0.0085\n",
      "Epoch 266/500\n",
      "10/10 [==============================] - 0s 20ms/step - loss: 1.2309e-04 - mae: 0.0088\n",
      "Epoch 267/500\n",
      "10/10 [==============================] - 0s 21ms/step - loss: 1.3132e-04 - mae: 0.0090\n",
      "Epoch 268/500\n",
      "10/10 [==============================] - 0s 23ms/step - loss: 1.1815e-04 - mae: 0.0090\n",
      "Epoch 269/500\n",
      "10/10 [==============================] - 0s 25ms/step - loss: 2.8186e-04 - mae: 0.0125\n",
      "Epoch 270/500\n",
      "10/10 [==============================] - 0s 19ms/step - loss: 1.1493e-04 - mae: 0.0086\n",
      "Epoch 271/500\n",
      "10/10 [==============================] - 0s 20ms/step - loss: 2.4770e-04 - mae: 0.0127\n",
      "Epoch 272/500\n",
      "10/10 [==============================] - 0s 18ms/step - loss: 9.6317e-05 - mae: 0.0077\n",
      "Epoch 273/500\n",
      "10/10 [==============================] - 0s 21ms/step - loss: 1.0806e-04 - mae: 0.0073\n",
      "Epoch 274/500\n",
      "10/10 [==============================] - 0s 20ms/step - loss: 9.4460e-05 - mae: 0.0066\n",
      "Epoch 275/500\n",
      "10/10 [==============================] - 0s 17ms/step - loss: 1.5054e-04 - mae: 0.0100\n",
      "Epoch 276/500\n",
      "10/10 [==============================] - 0s 19ms/step - loss: 1.0935e-04 - mae: 0.0076\n",
      "Epoch 277/500\n",
      "10/10 [==============================] - 0s 19ms/step - loss: 5.7351e-04 - mae: 0.0133\n",
      "Epoch 278/500\n",
      "10/10 [==============================] - 0s 20ms/step - loss: 3.5068e-04 - mae: 0.0134\n",
      "Epoch 279/500\n",
      "10/10 [==============================] - 0s 18ms/step - loss: 6.6043e-04 - mae: 0.0193\n",
      "Epoch 280/500\n",
      "10/10 [==============================] - 0s 18ms/step - loss: 0.0013 - mae: 0.0312\n",
      "Epoch 281/500\n",
      "10/10 [==============================] - 0s 18ms/step - loss: 0.0029 - mae: 0.0437\n",
      "Epoch 282/500\n",
      "10/10 [==============================] - 0s 19ms/step - loss: 0.0019 - mae: 0.0327\n",
      "Epoch 283/500\n",
      "10/10 [==============================] - 0s 18ms/step - loss: 0.0017 - mae: 0.0336\n",
      "Epoch 284/500\n",
      "10/10 [==============================] - 0s 18ms/step - loss: 0.0077 - mae: 0.0734\n",
      "Epoch 285/500\n",
      "10/10 [==============================] - 0s 19ms/step - loss: 0.0068 - mae: 0.0581\n",
      "Epoch 286/500\n",
      "10/10 [==============================] - 0s 17ms/step - loss: 0.0262 - mae: 0.0895\n",
      "Epoch 287/500\n",
      "10/10 [==============================] - 0s 17ms/step - loss: 0.0292 - mae: 0.1034\n",
      "Epoch 288/500\n",
      "10/10 [==============================] - 0s 17ms/step - loss: 0.0036 - mae: 0.0503\n",
      "Epoch 289/500\n",
      "10/10 [==============================] - 0s 20ms/step - loss: 0.0014 - mae: 0.0297\n",
      "Epoch 290/500\n",
      "10/10 [==============================] - 0s 19ms/step - loss: 7.5530e-04 - mae: 0.0227\n",
      "Epoch 291/500\n",
      "10/10 [==============================] - 0s 19ms/step - loss: 5.4805e-04 - mae: 0.0197\n",
      "Epoch 292/500\n",
      "10/10 [==============================] - 0s 19ms/step - loss: 5.3885e-04 - mae: 0.0173\n",
      "Epoch 293/500\n",
      "10/10 [==============================] - 0s 21ms/step - loss: 0.0016 - mae: 0.0307\n",
      "Epoch 294/500\n",
      "10/10 [==============================] - 0s 19ms/step - loss: 0.0025 - mae: 0.0371\n",
      "Epoch 295/500\n",
      "10/10 [==============================] - 0s 19ms/step - loss: 0.0011 - mae: 0.0264\n",
      "Epoch 296/500\n",
      "10/10 [==============================] - 0s 19ms/step - loss: 3.6038e-04 - mae: 0.0156\n",
      "Epoch 297/500\n",
      "10/10 [==============================] - 0s 18ms/step - loss: 2.3895e-04 - mae: 0.0122\n",
      "Epoch 298/500\n",
      "10/10 [==============================] - 0s 18ms/step - loss: 3.4932e-04 - mae: 0.0144\n",
      "Epoch 299/500\n",
      "10/10 [==============================] - 0s 16ms/step - loss: 2.0936e-04 - mae: 0.0114\n",
      "Epoch 300/500\n",
      "10/10 [==============================] - 0s 19ms/step - loss: 2.8141e-04 - mae: 0.0127\n",
      "Epoch 301/500\n",
      "10/10 [==============================] - 0s 19ms/step - loss: 2.0567e-04 - mae: 0.0105\n",
      "Epoch 302/500\n",
      "10/10 [==============================] - 0s 17ms/step - loss: 4.6585e-04 - mae: 0.0165\n",
      "Epoch 303/500\n",
      "10/10 [==============================] - 0s 18ms/step - loss: 2.9690e-04 - mae: 0.0144\n",
      "Epoch 304/500\n",
      "10/10 [==============================] - 0s 32ms/step - loss: 5.5537e-04 - mae: 0.0183\n",
      "Epoch 305/500\n",
      "10/10 [==============================] - 0s 17ms/step - loss: 2.0180e-04 - mae: 0.0118\n",
      "Epoch 306/500\n",
      "10/10 [==============================] - 0s 19ms/step - loss: 9.4544e-04 - mae: 0.0225\n",
      "Epoch 307/500\n",
      "10/10 [==============================] - 0s 18ms/step - loss: 4.0589e-04 - mae: 0.0143\n",
      "Epoch 308/500\n",
      "10/10 [==============================] - 0s 18ms/step - loss: 2.7743e-04 - mae: 0.0136\n",
      "Epoch 309/500\n",
      "10/10 [==============================] - 0s 19ms/step - loss: 5.7679e-04 - mae: 0.0176\n",
      "Epoch 310/500\n",
      "10/10 [==============================] - 0s 18ms/step - loss: 5.8426e-04 - mae: 0.0201\n",
      "Epoch 311/500\n",
      "10/10 [==============================] - 0s 20ms/step - loss: 4.1473e-04 - mae: 0.0163\n",
      "Epoch 312/500\n",
      "10/10 [==============================] - 0s 18ms/step - loss: 5.0086e-04 - mae: 0.0187\n",
      "Epoch 313/500\n",
      "10/10 [==============================] - 0s 19ms/step - loss: 7.8559e-04 - mae: 0.0230\n",
      "Epoch 314/500\n",
      "10/10 [==============================] - 0s 18ms/step - loss: 2.4264e-04 - mae: 0.0132\n",
      "Epoch 315/500\n",
      "10/10 [==============================] - 0s 18ms/step - loss: 8.5615e-04 - mae: 0.0223\n",
      "Epoch 316/500\n",
      "10/10 [==============================] - 0s 17ms/step - loss: 6.8412e-04 - mae: 0.0187\n",
      "Epoch 317/500\n",
      "10/10 [==============================] - 0s 18ms/step - loss: 4.0097e-04 - mae: 0.0159\n",
      "Epoch 318/500\n",
      "10/10 [==============================] - 0s 17ms/step - loss: 3.0882e-04 - mae: 0.0139\n",
      "Epoch 319/500\n",
      "10/10 [==============================] - 0s 16ms/step - loss: 1.5437e-04 - mae: 0.0099\n",
      "Epoch 320/500\n",
      "10/10 [==============================] - 0s 18ms/step - loss: 1.7036e-04 - mae: 0.0109\n",
      "Epoch 321/500\n",
      "10/10 [==============================] - 0s 18ms/step - loss: 2.7738e-04 - mae: 0.0116\n",
      "Epoch 322/500\n",
      "10/10 [==============================] - 0s 18ms/step - loss: 2.1466e-04 - mae: 0.0113\n",
      "Epoch 323/500\n",
      "10/10 [==============================] - 0s 18ms/step - loss: 2.6257e-04 - mae: 0.0123\n",
      "Epoch 324/500\n",
      "10/10 [==============================] - 0s 18ms/step - loss: 2.0821e-04 - mae: 0.0113\n",
      "Epoch 325/500\n",
      "10/10 [==============================] - 0s 18ms/step - loss: 3.1742e-04 - mae: 0.0125\n",
      "Epoch 326/500\n",
      "10/10 [==============================] - 0s 20ms/step - loss: 8.2682e-05 - mae: 0.0073\n",
      "Epoch 327/500\n",
      "10/10 [==============================] - 0s 21ms/step - loss: 1.6508e-04 - mae: 0.0097\n",
      "Epoch 328/500\n"
     ]
    },
    {
     "name": "stdout",
     "output_type": "stream",
     "text": [
      "10/10 [==============================] - 0s 20ms/step - loss: 2.0383e-04 - mae: 0.0107\n",
      "Epoch 329/500\n",
      "10/10 [==============================] - 0s 19ms/step - loss: 9.2530e-05 - mae: 0.0067\n",
      "Epoch 330/500\n",
      "10/10 [==============================] - 0s 18ms/step - loss: 1.2178e-04 - mae: 0.0086\n",
      "Epoch 331/500\n",
      "10/10 [==============================] - 0s 18ms/step - loss: 2.2386e-04 - mae: 0.0120\n",
      "Epoch 332/500\n",
      "10/10 [==============================] - 0s 19ms/step - loss: 2.2058e-04 - mae: 0.0117\n",
      "Epoch 333/500\n",
      "10/10 [==============================] - 0s 18ms/step - loss: 2.6583e-04 - mae: 0.0127\n",
      "Epoch 334/500\n",
      "10/10 [==============================] - 0s 19ms/step - loss: 2.3992e-04 - mae: 0.0120\n",
      "Epoch 335/500\n",
      "10/10 [==============================] - 0s 17ms/step - loss: 6.1011e-04 - mae: 0.0156\n",
      "Epoch 336/500\n",
      "10/10 [==============================] - 0s 19ms/step - loss: 0.0026 - mae: 0.0246\n",
      "Epoch 337/500\n",
      "10/10 [==============================] - 0s 22ms/step - loss: 2.0859e-04 - mae: 0.0124\n",
      "Epoch 338/500\n",
      "10/10 [==============================] - 0s 19ms/step - loss: 1.0184e-04 - mae: 0.0081\n",
      "Epoch 339/500\n",
      "10/10 [==============================] - 0s 19ms/step - loss: 3.6914e-04 - mae: 0.0154\n",
      "Epoch 340/500\n",
      "10/10 [==============================] - 0s 21ms/step - loss: 2.9032e-04 - mae: 0.0135\n",
      "Epoch 341/500\n",
      "10/10 [==============================] - 0s 19ms/step - loss: 8.3176e-04 - mae: 0.0181\n",
      "Epoch 342/500\n",
      "10/10 [==============================] - 0s 19ms/step - loss: 9.6848e-04 - mae: 0.0223\n",
      "Epoch 343/500\n",
      "10/10 [==============================] - 0s 22ms/step - loss: 9.2783e-04 - mae: 0.0223\n",
      "Epoch 344/500\n",
      "10/10 [==============================] - 0s 18ms/step - loss: 0.0055 - mae: 0.0536\n",
      "Epoch 345/500\n",
      "10/10 [==============================] - 0s 20ms/step - loss: 4.5806e-04 - mae: 0.0160\n",
      "Epoch 346/500\n",
      "10/10 [==============================] - 0s 18ms/step - loss: 0.0082 - mae: 0.0557\n",
      "Epoch 347/500\n",
      "10/10 [==============================] - 0s 19ms/step - loss: 7.8567e-04 - mae: 0.0222\n",
      "Epoch 348/500\n",
      "10/10 [==============================] - 0s 24ms/step - loss: 6.9889e-04 - mae: 0.0204\n",
      "Epoch 349/500\n",
      "10/10 [==============================] - 0s 19ms/step - loss: 4.5974e-04 - mae: 0.0149\n",
      "Epoch 350/500\n",
      "10/10 [==============================] - 0s 18ms/step - loss: 2.0738e-04 - mae: 0.0111\n",
      "Epoch 351/500\n",
      "10/10 [==============================] - 0s 19ms/step - loss: 6.3817e-04 - mae: 0.0195\n",
      "Epoch 352/500\n",
      "10/10 [==============================] - 0s 18ms/step - loss: 1.1759e-04 - mae: 0.0083\n",
      "Epoch 353/500\n",
      "10/10 [==============================] - 0s 20ms/step - loss: 6.8696e-05 - mae: 0.0064\n",
      "Epoch 354/500\n",
      "10/10 [==============================] - 0s 20ms/step - loss: 2.1865e-04 - mae: 0.0106\n",
      "Epoch 355/500\n",
      "10/10 [==============================] - 0s 16ms/step - loss: 1.7814e-04 - mae: 0.0103\n",
      "Epoch 356/500\n",
      "10/10 [==============================] - 0s 18ms/step - loss: 7.1818e-05 - mae: 0.0070\n",
      "Epoch 357/500\n",
      "10/10 [==============================] - 0s 17ms/step - loss: 5.4481e-04 - mae: 0.0146\n",
      "Epoch 358/500\n",
      "10/10 [==============================] - 0s 19ms/step - loss: 0.0013 - mae: 0.0281\n",
      "Epoch 359/500\n",
      "10/10 [==============================] - 0s 18ms/step - loss: 5.9330e-04 - mae: 0.0185\n",
      "Epoch 360/500\n",
      "10/10 [==============================] - 0s 17ms/step - loss: 0.0013 - mae: 0.0284\n",
      "Epoch 361/500\n",
      "10/10 [==============================] - 0s 17ms/step - loss: 0.0027 - mae: 0.0330\n",
      "Epoch 362/500\n",
      "10/10 [==============================] - 0s 19ms/step - loss: 0.0018 - mae: 0.0305\n",
      "Epoch 363/500\n",
      "10/10 [==============================] - 0s 19ms/step - loss: 0.0017 - mae: 0.0275\n",
      "Epoch 364/500\n",
      "10/10 [==============================] - 0s 17ms/step - loss: 0.0018 - mae: 0.0281\n",
      "Epoch 365/500\n",
      "10/10 [==============================] - 0s 19ms/step - loss: 9.6067e-04 - mae: 0.0224\n",
      "Epoch 366/500\n",
      "10/10 [==============================] - 0s 17ms/step - loss: 5.7363e-04 - mae: 0.0208\n",
      "Epoch 367/500\n",
      "10/10 [==============================] - 0s 20ms/step - loss: 0.0015 - mae: 0.0253\n",
      "Epoch 368/500\n",
      "10/10 [==============================] - 0s 19ms/step - loss: 0.0017 - mae: 0.0238\n",
      "Epoch 369/500\n",
      "10/10 [==============================] - 0s 19ms/step - loss: 0.0017 - mae: 0.0266\n",
      "Epoch 370/500\n",
      "10/10 [==============================] - 0s 17ms/step - loss: 2.2565e-04 - mae: 0.0116\n",
      "Epoch 371/500\n",
      "10/10 [==============================] - 0s 16ms/step - loss: 1.5118e-04 - mae: 0.0093\n",
      "Epoch 372/500\n",
      "10/10 [==============================] - 0s 17ms/step - loss: 1.7815e-04 - mae: 0.0103\n",
      "Epoch 373/500\n",
      "10/10 [==============================] - 0s 20ms/step - loss: 1.8135e-04 - mae: 0.0111\n",
      "Epoch 374/500\n",
      "10/10 [==============================] - 0s 16ms/step - loss: 1.0235e-04 - mae: 0.0079\n",
      "Epoch 375/500\n",
      "10/10 [==============================] - 0s 18ms/step - loss: 1.4403e-04 - mae: 0.0093\n",
      "Epoch 376/500\n",
      "10/10 [==============================] - 0s 18ms/step - loss: 2.6680e-04 - mae: 0.0128\n",
      "Epoch 377/500\n",
      "10/10 [==============================] - 0s 19ms/step - loss: 2.3265e-04 - mae: 0.0117\n",
      "Epoch 378/500\n",
      "10/10 [==============================] - 0s 17ms/step - loss: 1.1316e-04 - mae: 0.0088\n",
      "Epoch 379/500\n",
      "10/10 [==============================] - 0s 19ms/step - loss: 5.1211e-04 - mae: 0.0138\n",
      "Epoch 380/500\n",
      "10/10 [==============================] - 0s 19ms/step - loss: 2.6199e-04 - mae: 0.0100\n",
      "Epoch 381/500\n",
      "10/10 [==============================] - 0s 18ms/step - loss: 1.9671e-04 - mae: 0.0112\n",
      "Epoch 382/500\n",
      "10/10 [==============================] - 0s 18ms/step - loss: 1.5090e-04 - mae: 0.0089\n",
      "Epoch 383/500\n",
      "10/10 [==============================] - 0s 17ms/step - loss: 1.4713e-04 - mae: 0.0086\n",
      "Epoch 384/500\n",
      "10/10 [==============================] - 0s 18ms/step - loss: 0.0011 - mae: 0.0212\n",
      "Epoch 385/500\n",
      "10/10 [==============================] - 0s 21ms/step - loss: 4.4663e-04 - mae: 0.0150\n",
      "Epoch 386/500\n",
      "10/10 [==============================] - 0s 19ms/step - loss: 0.0050 - mae: 0.0512\n",
      "Epoch 387/500\n",
      "10/10 [==============================] - 0s 17ms/step - loss: 0.0011 - mae: 0.0249\n",
      "Epoch 388/500\n",
      "10/10 [==============================] - 0s 18ms/step - loss: 0.0012 - mae: 0.0229\n",
      "Epoch 389/500\n",
      "10/10 [==============================] - 0s 17ms/step - loss: 0.0018 - mae: 0.0329\n",
      "Epoch 390/500\n",
      "10/10 [==============================] - 0s 19ms/step - loss: 5.4051e-04 - mae: 0.0188\n",
      "Epoch 391/500\n",
      "10/10 [==============================] - 0s 17ms/step - loss: 6.5366e-04 - mae: 0.0155\n",
      "Epoch 392/500\n",
      "10/10 [==============================] - 0s 18ms/step - loss: 5.0030e-04 - mae: 0.0171\n",
      "Epoch 393/500\n",
      "10/10 [==============================] - 0s 19ms/step - loss: 0.0041 - mae: 0.0378\n",
      "Epoch 394/500\n",
      "10/10 [==============================] - 0s 19ms/step - loss: 9.3515e-04 - mae: 0.0168\n",
      "Epoch 395/500\n",
      "10/10 [==============================] - 0s 18ms/step - loss: 0.0019 - mae: 0.0345\n",
      "Epoch 396/500\n",
      "10/10 [==============================] - 0s 19ms/step - loss: 3.8623e-04 - mae: 0.0146\n",
      "Epoch 397/500\n",
      "10/10 [==============================] - 0s 20ms/step - loss: 4.0982e-04 - mae: 0.0149\n",
      "Epoch 398/500\n",
      "10/10 [==============================] - 0s 18ms/step - loss: 6.1729e-04 - mae: 0.0209\n",
      "Epoch 399/500\n",
      "10/10 [==============================] - 0s 20ms/step - loss: 5.3893e-04 - mae: 0.0209\n",
      "Epoch 400/500\n",
      "10/10 [==============================] - 0s 20ms/step - loss: 1.3751e-04 - mae: 0.0103\n",
      "Epoch 401/500\n",
      "10/10 [==============================] - 0s 18ms/step - loss: 1.9423e-04 - mae: 0.0108\n",
      "Epoch 402/500\n",
      "10/10 [==============================] - 0s 19ms/step - loss: 6.0684e-05 - mae: 0.0065\n",
      "Epoch 403/500\n",
      "10/10 [==============================] - 0s 19ms/step - loss: 2.0224e-04 - mae: 0.0116\n",
      "Epoch 404/500\n",
      "10/10 [==============================] - 0s 18ms/step - loss: 2.0472e-04 - mae: 0.0123\n",
      "Epoch 405/500\n",
      "10/10 [==============================] - 0s 17ms/step - loss: 2.9494e-04 - mae: 0.0124\n",
      "Epoch 406/500\n",
      "10/10 [==============================] - 0s 21ms/step - loss: 1.7229e-04 - mae: 0.0104\n",
      "Epoch 407/500\n",
      "10/10 [==============================] - 0s 19ms/step - loss: 3.7843e-04 - mae: 0.0154\n",
      "Epoch 408/500\n",
      "10/10 [==============================] - 0s 17ms/step - loss: 3.7883e-04 - mae: 0.0158\n",
      "Epoch 409/500\n",
      "10/10 [==============================] - 0s 18ms/step - loss: 8.1170e-04 - mae: 0.0225\n",
      "Epoch 410/500\n"
     ]
    },
    {
     "name": "stdout",
     "output_type": "stream",
     "text": [
      "10/10 [==============================] - 0s 18ms/step - loss: 0.0063 - mae: 0.0411\n",
      "Epoch 411/500\n",
      "10/10 [==============================] - 0s 19ms/step - loss: 0.0298 - mae: 0.0782\n",
      "Epoch 412/500\n",
      "10/10 [==============================] - 0s 17ms/step - loss: 4.1553e-04 - mae: 0.0164\n",
      "Epoch 413/500\n",
      "10/10 [==============================] - 0s 26ms/step - loss: 0.0235 - mae: 0.0845\n",
      "Epoch 414/500\n",
      "10/10 [==============================] - 0s 18ms/step - loss: 0.0843 - mae: 0.1378\n",
      "Epoch 415/500\n",
      "10/10 [==============================] - 0s 17ms/step - loss: 0.0025 - mae: 0.0388\n",
      "Epoch 416/500\n",
      "10/10 [==============================] - 0s 19ms/step - loss: 0.0250 - mae: 0.1040\n",
      "Epoch 417/500\n",
      "10/10 [==============================] - 0s 16ms/step - loss: 0.0028 - mae: 0.0336\n",
      "Epoch 418/500\n",
      "10/10 [==============================] - 0s 18ms/step - loss: 0.0090 - mae: 0.0538\n",
      "Epoch 419/500\n",
      "10/10 [==============================] - 0s 18ms/step - loss: 1.9962e-04 - mae: 0.0115\n",
      "Epoch 420/500\n",
      "10/10 [==============================] - 0s 20ms/step - loss: 0.0020 - mae: 0.0315\n",
      "Epoch 421/500\n",
      "10/10 [==============================] - 0s 19ms/step - loss: 0.0010 - mae: 0.0240\n",
      "Epoch 422/500\n",
      "10/10 [==============================] - 0s 20ms/step - loss: 2.3561e-04 - mae: 0.0109\n",
      "Epoch 423/500\n",
      "10/10 [==============================] - 0s 18ms/step - loss: 1.5092e-04 - mae: 0.0101\n",
      "Epoch 424/500\n",
      "10/10 [==============================] - 0s 19ms/step - loss: 1.8307e-04 - mae: 0.0097\n",
      "Epoch 425/500\n",
      "10/10 [==============================] - 0s 20ms/step - loss: 3.0561e-04 - mae: 0.0126\n",
      "Epoch 426/500\n",
      "10/10 [==============================] - 0s 17ms/step - loss: 3.6800e-04 - mae: 0.0119\n",
      "Epoch 427/500\n",
      "10/10 [==============================] - 0s 18ms/step - loss: 1.7928e-04 - mae: 0.0108\n",
      "Epoch 428/500\n",
      "10/10 [==============================] - 0s 17ms/step - loss: 1.3953e-04 - mae: 0.0093\n",
      "Epoch 429/500\n",
      "10/10 [==============================] - 0s 18ms/step - loss: 1.9805e-04 - mae: 0.0095\n",
      "Epoch 430/500\n",
      "10/10 [==============================] - 0s 18ms/step - loss: 1.7706e-04 - mae: 0.0094\n",
      "Epoch 431/500\n",
      "10/10 [==============================] - 0s 18ms/step - loss: 2.7361e-04 - mae: 0.0127\n",
      "Epoch 432/500\n",
      "10/10 [==============================] - 0s 18ms/step - loss: 1.1667e-04 - mae: 0.0083\n",
      "Epoch 433/500\n",
      "10/10 [==============================] - 0s 19ms/step - loss: 2.2018e-04 - mae: 0.0124\n",
      "Epoch 434/500\n",
      "10/10 [==============================] - 0s 20ms/step - loss: 2.3035e-04 - mae: 0.0115\n",
      "Epoch 435/500\n",
      "10/10 [==============================] - 0s 17ms/step - loss: 1.5748e-04 - mae: 0.0091\n",
      "Epoch 436/500\n",
      "10/10 [==============================] - 0s 20ms/step - loss: 8.5158e-05 - mae: 0.0076\n",
      "Epoch 437/500\n",
      "10/10 [==============================] - 0s 20ms/step - loss: 2.1970e-04 - mae: 0.0105\n",
      "Epoch 438/500\n",
      "10/10 [==============================] - 0s 19ms/step - loss: 2.1258e-04 - mae: 0.0115\n",
      "Epoch 439/500\n",
      "10/10 [==============================] - 0s 18ms/step - loss: 3.0942e-04 - mae: 0.0111\n",
      "Epoch 440/500\n",
      "10/10 [==============================] - 0s 18ms/step - loss: 1.5968e-04 - mae: 0.0094\n",
      "Epoch 441/500\n",
      "10/10 [==============================] - 0s 21ms/step - loss: 2.0922e-04 - mae: 0.0104\n",
      "Epoch 442/500\n",
      "10/10 [==============================] - 0s 19ms/step - loss: 2.4191e-04 - mae: 0.0133\n",
      "Epoch 443/500\n",
      "10/10 [==============================] - 0s 20ms/step - loss: 1.7802e-04 - mae: 0.0106\n",
      "Epoch 444/500\n",
      "10/10 [==============================] - 0s 17ms/step - loss: 2.5037e-04 - mae: 0.0130\n",
      "Epoch 445/500\n",
      "10/10 [==============================] - 0s 20ms/step - loss: 2.3472e-04 - mae: 0.0115\n",
      "Epoch 446/500\n",
      "10/10 [==============================] - 0s 18ms/step - loss: 0.0033 - mae: 0.0244\n",
      "Epoch 447/500\n",
      "10/10 [==============================] - 0s 17ms/step - loss: 9.9348e-04 - mae: 0.0233\n",
      "Epoch 448/500\n",
      "10/10 [==============================] - 0s 20ms/step - loss: 8.1832e-04 - mae: 0.0242\n",
      "Epoch 449/500\n",
      "10/10 [==============================] - 0s 19ms/step - loss: 0.0023 - mae: 0.0404\n",
      "Epoch 450/500\n",
      "10/10 [==============================] - 0s 18ms/step - loss: 6.7790e-04 - mae: 0.0207\n",
      "Epoch 451/500\n",
      "10/10 [==============================] - 0s 20ms/step - loss: 2.3923e-04 - mae: 0.0103\n",
      "Epoch 452/500\n",
      "10/10 [==============================] - 0s 19ms/step - loss: 0.0014 - mae: 0.0256\n",
      "Epoch 453/500\n",
      "10/10 [==============================] - 0s 19ms/step - loss: 0.0016 - mae: 0.0344\n",
      "Epoch 454/500\n",
      "10/10 [==============================] - 0s 23ms/step - loss: 0.0012 - mae: 0.0258\n",
      "Epoch 455/500\n",
      "10/10 [==============================] - 0s 19ms/step - loss: 5.4231e-04 - mae: 0.0196\n",
      "Epoch 456/500\n",
      "10/10 [==============================] - 0s 21ms/step - loss: 4.7445e-04 - mae: 0.0192\n",
      "Epoch 457/500\n",
      "10/10 [==============================] - 0s 19ms/step - loss: 6.5242e-04 - mae: 0.0171\n",
      "Epoch 458/500\n",
      "10/10 [==============================] - 0s 18ms/step - loss: 5.8927e-04 - mae: 0.0169\n",
      "Epoch 459/500\n",
      "10/10 [==============================] - 0s 19ms/step - loss: 2.1324e-04 - mae: 0.0123\n",
      "Epoch 460/500\n",
      "10/10 [==============================] - 0s 17ms/step - loss: 0.0015 - mae: 0.0248\n",
      "Epoch 461/500\n",
      "10/10 [==============================] - 0s 19ms/step - loss: 0.0024 - mae: 0.0363\n",
      "Epoch 462/500\n",
      "10/10 [==============================] - 0s 19ms/step - loss: 0.0032 - mae: 0.0395\n",
      "Epoch 463/500\n",
      "10/10 [==============================] - 0s 20ms/step - loss: 0.0015 - mae: 0.0272\n",
      "Epoch 464/500\n",
      "10/10 [==============================] - 0s 28ms/step - loss: 7.0617e-04 - mae: 0.0212\n",
      "Epoch 465/500\n",
      "10/10 [==============================] - 0s 23ms/step - loss: 5.3634e-04 - mae: 0.0171\n",
      "Epoch 466/500\n",
      "10/10 [==============================] - 0s 21ms/step - loss: 3.8185e-04 - mae: 0.0175\n",
      "Epoch 467/500\n",
      "10/10 [==============================] - 0s 20ms/step - loss: 8.2621e-04 - mae: 0.0228\n",
      "Epoch 468/500\n",
      "10/10 [==============================] - 0s 19ms/step - loss: 5.2695e-04 - mae: 0.0182\n",
      "Epoch 469/500\n",
      "10/10 [==============================] - 0s 19ms/step - loss: 5.4613e-04 - mae: 0.0188\n",
      "Epoch 470/500\n",
      "10/10 [==============================] - 0s 20ms/step - loss: 2.6981e-04 - mae: 0.0151\n",
      "Epoch 471/500\n",
      "10/10 [==============================] - 0s 21ms/step - loss: 1.0119e-04 - mae: 0.0082\n",
      "Epoch 472/500\n",
      "10/10 [==============================] - 0s 20ms/step - loss: 2.7022e-04 - mae: 0.0133\n",
      "Epoch 473/500\n",
      "10/10 [==============================] - 0s 21ms/step - loss: 2.3947e-04 - mae: 0.0111\n",
      "Epoch 474/500\n",
      "10/10 [==============================] - 0s 20ms/step - loss: 4.5349e-04 - mae: 0.0169\n",
      "Epoch 475/500\n",
      "10/10 [==============================] - 0s 18ms/step - loss: 3.6911e-04 - mae: 0.0153\n",
      "Epoch 476/500\n",
      "10/10 [==============================] - 0s 18ms/step - loss: 1.9939e-04 - mae: 0.0110\n",
      "Epoch 477/500\n",
      "10/10 [==============================] - 0s 21ms/step - loss: 1.3117e-04 - mae: 0.0082\n",
      "Epoch 478/500\n",
      "10/10 [==============================] - 0s 20ms/step - loss: 1.8779e-04 - mae: 0.0107\n",
      "Epoch 479/500\n",
      "10/10 [==============================] - 0s 19ms/step - loss: 9.2780e-05 - mae: 0.0080\n",
      "Epoch 480/500\n",
      "10/10 [==============================] - 0s 24ms/step - loss: 1.6288e-04 - mae: 0.0096\n",
      "Epoch 481/500\n",
      "10/10 [==============================] - 0s 19ms/step - loss: 2.4112e-04 - mae: 0.0125\n",
      "Epoch 482/500\n",
      "10/10 [==============================] - 0s 18ms/step - loss: 2.8076e-04 - mae: 0.0140\n",
      "Epoch 483/500\n",
      "10/10 [==============================] - 0s 19ms/step - loss: 3.6428e-04 - mae: 0.0137\n",
      "Epoch 484/500\n",
      "10/10 [==============================] - 0s 20ms/step - loss: 1.7786e-04 - mae: 0.0099\n",
      "Epoch 485/500\n",
      "10/10 [==============================] - 0s 24ms/step - loss: 2.8627e-04 - mae: 0.0130\n",
      "Epoch 486/500\n",
      "10/10 [==============================] - 0s 19ms/step - loss: 2.0801e-04 - mae: 0.0109\n",
      "Epoch 487/500\n",
      "10/10 [==============================] - 0s 18ms/step - loss: 4.4106e-04 - mae: 0.0155\n",
      "Epoch 488/500\n",
      "10/10 [==============================] - 0s 17ms/step - loss: 4.4606e-04 - mae: 0.0169\n",
      "Epoch 489/500\n",
      "10/10 [==============================] - 0s 19ms/step - loss: 4.9611e-04 - mae: 0.0161\n",
      "Epoch 490/500\n",
      "10/10 [==============================] - 0s 17ms/step - loss: 2.2688e-04 - mae: 0.0121\n",
      "Epoch 491/500\n",
      "10/10 [==============================] - 0s 17ms/step - loss: 3.0023e-04 - mae: 0.0135\n",
      "Epoch 492/500\n"
     ]
    },
    {
     "name": "stdout",
     "output_type": "stream",
     "text": [
      "10/10 [==============================] - 0s 17ms/step - loss: 2.6430e-04 - mae: 0.0130\n",
      "Epoch 493/500\n",
      "10/10 [==============================] - 0s 18ms/step - loss: 5.5574e-04 - mae: 0.0199\n",
      "Epoch 494/500\n",
      "10/10 [==============================] - 0s 17ms/step - loss: 4.7780e-04 - mae: 0.0182\n",
      "Epoch 495/500\n",
      "10/10 [==============================] - 0s 20ms/step - loss: 5.3606e-04 - mae: 0.0167\n",
      "Epoch 496/500\n",
      "10/10 [==============================] - 0s 18ms/step - loss: 2.7925e-04 - mae: 0.0134\n",
      "Epoch 497/500\n",
      "10/10 [==============================] - 0s 17ms/step - loss: 1.2581e-04 - mae: 0.0088\n",
      "Epoch 498/500\n",
      "10/10 [==============================] - 0s 19ms/step - loss: 1.5239e-04 - mae: 0.0098\n",
      "Epoch 499/500\n",
      "10/10 [==============================] - 0s 18ms/step - loss: 1.6545e-04 - mae: 0.0094\n",
      "Epoch 500/500\n",
      "10/10 [==============================] - 0s 19ms/step - loss: 2.6028e-04 - mae: 0.0123\n",
      "CPU times: total: 2min 14s\n",
      "Wall time: 2min 9s\n"
     ]
    },
    {
     "data": {
      "text/plain": [
       "<keras.callbacks.History at 0x198df45b400>"
      ]
     },
     "execution_count": 68,
     "metadata": {},
     "output_type": "execute_result"
    }
   ],
   "source": [
    "%%time\n",
    "model.fit(g, epochs=500, steps_per_epoch=10, verbose=False)"
   ]
  },
  {
   "cell_type": "code",
   "execution_count": 69,
   "metadata": {},
   "outputs": [],
   "source": [
    "y = model.predict(g, verbose=False)"
   ]
  },
  {
   "cell_type": "code",
   "execution_count": 70,
   "metadata": {},
   "outputs": [],
   "source": [
    "data['pred'] = np.nan\n",
    "data['pred'].iloc[lags:] = y.flatten()"
   ]
  },
  {
   "cell_type": "code",
   "execution_count": 71,
   "metadata": {},
   "outputs": [
    {
     "data": {
      "image/png": "[encoded data removed]",
      "text/plain": [
       "<Figure size 1000x600 with 1 Axes>"
      ]
     },
     "metadata": {},
     "output_type": "display_data"
    }
   ],
   "source": [
    "data[[symbol, 'pred']].plot(\n",
    "            figsize=(10, 6), style=['b', 'r-.'],\n",
    "            alpha=0.75);"
   ]
  },
  {
   "cell_type": "code",
   "execution_count": 72,
   "metadata": {
    "scrolled": true
   },
   "outputs": [
    {
     "data": {
      "image/png": "[encoded data removed]",
      "text/plain": [
       "<Figure size 1000x600 with 1 Axes>"
      ]
     },
     "metadata": {},
     "output_type": "display_data"
    }
   ],
   "source": [
    "data[[symbol, 'pred']].iloc[50:100].plot(\n",
    "            figsize=(10, 6), style=['b', 'r-.'],\n",
    "            alpha=0.75);"
   ]
  },
  {
   "cell_type": "markdown",
   "metadata": {},
   "source": [
    "## Financial Return Series "
   ]
  },
  {
   "cell_type": "code",
   "execution_count": 73,
   "metadata": {},
   "outputs": [],
   "source": [
    "data = generate_data()"
   ]
  },
  {
   "cell_type": "code",
   "execution_count": 74,
   "metadata": {},
   "outputs": [
    {
     "data": {
      "text/html": [
       "<div>\n",
       "<style scoped>\n",
       "    .dataframe tbody tr th:only-of-type {\n",
       "        vertical-align: middle;\n",
       "    }\n",
       "\n",
       "    .dataframe tbody tr th {\n",
       "        vertical-align: top;\n",
       "    }\n",
       "\n",
       "    .dataframe thead th {\n",
       "        text-align: right;\n",
       "    }\n",
       "</style>\n",
       "<table border=\"1\" class=\"dataframe\">\n",
       "  <thead>\n",
       "    <tr style=\"text-align: right;\">\n",
       "      <th></th>\n",
       "      <th>WIN_N</th>\n",
       "    </tr>\n",
       "    <tr>\n",
       "      <th>time</th>\n",
       "      <th></th>\n",
       "    </tr>\n",
       "  </thead>\n",
       "  <tbody>\n",
       "    <tr>\n",
       "      <th>2022-01-18 11:38:00</th>\n",
       "      <td>106705.0</td>\n",
       "    </tr>\n",
       "    <tr>\n",
       "      <th>2022-01-18 11:39:00</th>\n",
       "      <td>106785.0</td>\n",
       "    </tr>\n",
       "    <tr>\n",
       "      <th>2022-01-18 11:40:00</th>\n",
       "      <td>106685.0</td>\n",
       "    </tr>\n",
       "    <tr>\n",
       "      <th>2022-01-18 11:41:00</th>\n",
       "      <td>106885.0</td>\n",
       "    </tr>\n",
       "    <tr>\n",
       "      <th>2022-01-18 11:42:00</th>\n",
       "      <td>106955.0</td>\n",
       "    </tr>\n",
       "    <tr>\n",
       "      <th>...</th>\n",
       "      <td>...</td>\n",
       "    </tr>\n",
       "    <tr>\n",
       "      <th>2022-10-13 16:55:00</th>\n",
       "      <td>114915.0</td>\n",
       "    </tr>\n",
       "    <tr>\n",
       "      <th>2022-10-13 16:56:00</th>\n",
       "      <td>114920.0</td>\n",
       "    </tr>\n",
       "    <tr>\n",
       "      <th>2022-10-13 16:57:00</th>\n",
       "      <td>114920.0</td>\n",
       "    </tr>\n",
       "    <tr>\n",
       "      <th>2022-10-13 16:58:00</th>\n",
       "      <td>114915.0</td>\n",
       "    </tr>\n",
       "    <tr>\n",
       "      <th>2022-10-13 16:59:00</th>\n",
       "      <td>114910.0</td>\n",
       "    </tr>\n",
       "  </tbody>\n",
       "</table>\n",
       "<p>99999 rows × 1 columns</p>\n",
       "</div>"
      ],
      "text/plain": [
       "                        WIN_N\n",
       "time                         \n",
       "2022-01-18 11:38:00  106705.0\n",
       "2022-01-18 11:39:00  106785.0\n",
       "2022-01-18 11:40:00  106685.0\n",
       "2022-01-18 11:41:00  106885.0\n",
       "2022-01-18 11:42:00  106955.0\n",
       "...                       ...\n",
       "2022-10-13 16:55:00  114915.0\n",
       "2022-10-13 16:56:00  114920.0\n",
       "2022-10-13 16:57:00  114920.0\n",
       "2022-10-13 16:58:00  114915.0\n",
       "2022-10-13 16:59:00  114910.0\n",
       "\n",
       "[99999 rows x 1 columns]"
      ]
     },
     "execution_count": 74,
     "metadata": {},
     "output_type": "execute_result"
    }
   ],
   "source": [
    "data"
   ]
  },
  {
   "cell_type": "code",
   "execution_count": 75,
   "metadata": {},
   "outputs": [],
   "source": [
    "data['r'] = np.log(data / data.shift(1))"
   ]
  },
  {
   "cell_type": "code",
   "execution_count": 77,
   "metadata": {},
   "outputs": [
    {
     "data": {
      "text/html": [
       "<div>\n",
       "<style scoped>\n",
       "    .dataframe tbody tr th:only-of-type {\n",
       "        vertical-align: middle;\n",
       "    }\n",
       "\n",
       "    .dataframe tbody tr th {\n",
       "        vertical-align: top;\n",
       "    }\n",
       "\n",
       "    .dataframe thead th {\n",
       "        text-align: right;\n",
       "    }\n",
       "</style>\n",
       "<table border=\"1\" class=\"dataframe\">\n",
       "  <thead>\n",
       "    <tr style=\"text-align: right;\">\n",
       "      <th></th>\n",
       "      <th>WIN_N</th>\n",
       "      <th>r</th>\n",
       "    </tr>\n",
       "    <tr>\n",
       "      <th>time</th>\n",
       "      <th></th>\n",
       "      <th></th>\n",
       "    </tr>\n",
       "  </thead>\n",
       "  <tbody>\n",
       "    <tr>\n",
       "      <th>2022-01-18 11:39:00</th>\n",
       "      <td>106785.0</td>\n",
       "      <td>0.000749</td>\n",
       "    </tr>\n",
       "    <tr>\n",
       "      <th>2022-01-18 11:40:00</th>\n",
       "      <td>106685.0</td>\n",
       "      <td>-0.000937</td>\n",
       "    </tr>\n",
       "    <tr>\n",
       "      <th>2022-01-18 11:41:00</th>\n",
       "      <td>106885.0</td>\n",
       "      <td>0.001873</td>\n",
       "    </tr>\n",
       "    <tr>\n",
       "      <th>2022-01-18 11:42:00</th>\n",
       "      <td>106955.0</td>\n",
       "      <td>0.000655</td>\n",
       "    </tr>\n",
       "    <tr>\n",
       "      <th>2022-01-18 11:43:00</th>\n",
       "      <td>107135.0</td>\n",
       "      <td>0.001682</td>\n",
       "    </tr>\n",
       "    <tr>\n",
       "      <th>...</th>\n",
       "      <td>...</td>\n",
       "      <td>...</td>\n",
       "    </tr>\n",
       "    <tr>\n",
       "      <th>2022-10-13 16:55:00</th>\n",
       "      <td>114915.0</td>\n",
       "      <td>-0.000044</td>\n",
       "    </tr>\n",
       "    <tr>\n",
       "      <th>2022-10-13 16:56:00</th>\n",
       "      <td>114920.0</td>\n",
       "      <td>0.000044</td>\n",
       "    </tr>\n",
       "    <tr>\n",
       "      <th>2022-10-13 16:57:00</th>\n",
       "      <td>114920.0</td>\n",
       "      <td>0.000000</td>\n",
       "    </tr>\n",
       "    <tr>\n",
       "      <th>2022-10-13 16:58:00</th>\n",
       "      <td>114915.0</td>\n",
       "      <td>-0.000044</td>\n",
       "    </tr>\n",
       "    <tr>\n",
       "      <th>2022-10-13 16:59:00</th>\n",
       "      <td>114910.0</td>\n",
       "      <td>-0.000044</td>\n",
       "    </tr>\n",
       "  </tbody>\n",
       "</table>\n",
       "<p>99998 rows × 2 columns</p>\n",
       "</div>"
      ],
      "text/plain": [
       "                        WIN_N         r\n",
       "time                                   \n",
       "2022-01-18 11:39:00  106785.0  0.000749\n",
       "2022-01-18 11:40:00  106685.0 -0.000937\n",
       "2022-01-18 11:41:00  106885.0  0.001873\n",
       "2022-01-18 11:42:00  106955.0  0.000655\n",
       "2022-01-18 11:43:00  107135.0  0.001682\n",
       "...                       ...       ...\n",
       "2022-10-13 16:55:00  114915.0 -0.000044\n",
       "2022-10-13 16:56:00  114920.0  0.000044\n",
       "2022-10-13 16:57:00  114920.0  0.000000\n",
       "2022-10-13 16:58:00  114915.0 -0.000044\n",
       "2022-10-13 16:59:00  114910.0 -0.000044\n",
       "\n",
       "[99998 rows x 2 columns]"
      ]
     },
     "execution_count": 77,
     "metadata": {},
     "output_type": "execute_result"
    }
   ],
   "source": [
    "data"
   ]
  },
  {
   "cell_type": "code",
   "execution_count": 78,
   "metadata": {},
   "outputs": [],
   "source": [
    "data.dropna(inplace=True)"
   ]
  },
  {
   "cell_type": "code",
   "execution_count": 79,
   "metadata": {},
   "outputs": [
    {
     "data": {
      "text/html": [
       "<div>\n",
       "<style scoped>\n",
       "    .dataframe tbody tr th:only-of-type {\n",
       "        vertical-align: middle;\n",
       "    }\n",
       "\n",
       "    .dataframe tbody tr th {\n",
       "        vertical-align: top;\n",
       "    }\n",
       "\n",
       "    .dataframe thead th {\n",
       "        text-align: right;\n",
       "    }\n",
       "</style>\n",
       "<table border=\"1\" class=\"dataframe\">\n",
       "  <thead>\n",
       "    <tr style=\"text-align: right;\">\n",
       "      <th></th>\n",
       "      <th>WIN_N</th>\n",
       "      <th>r</th>\n",
       "    </tr>\n",
       "    <tr>\n",
       "      <th>time</th>\n",
       "      <th></th>\n",
       "      <th></th>\n",
       "    </tr>\n",
       "  </thead>\n",
       "  <tbody>\n",
       "    <tr>\n",
       "      <th>2022-01-18 11:39:00</th>\n",
       "      <td>106785.0</td>\n",
       "      <td>0.000749</td>\n",
       "    </tr>\n",
       "    <tr>\n",
       "      <th>2022-01-18 11:40:00</th>\n",
       "      <td>106685.0</td>\n",
       "      <td>-0.000937</td>\n",
       "    </tr>\n",
       "    <tr>\n",
       "      <th>2022-01-18 11:41:00</th>\n",
       "      <td>106885.0</td>\n",
       "      <td>0.001873</td>\n",
       "    </tr>\n",
       "    <tr>\n",
       "      <th>2022-01-18 11:42:00</th>\n",
       "      <td>106955.0</td>\n",
       "      <td>0.000655</td>\n",
       "    </tr>\n",
       "    <tr>\n",
       "      <th>2022-01-18 11:43:00</th>\n",
       "      <td>107135.0</td>\n",
       "      <td>0.001682</td>\n",
       "    </tr>\n",
       "    <tr>\n",
       "      <th>...</th>\n",
       "      <td>...</td>\n",
       "      <td>...</td>\n",
       "    </tr>\n",
       "    <tr>\n",
       "      <th>2022-10-13 16:55:00</th>\n",
       "      <td>114915.0</td>\n",
       "      <td>-0.000044</td>\n",
       "    </tr>\n",
       "    <tr>\n",
       "      <th>2022-10-13 16:56:00</th>\n",
       "      <td>114920.0</td>\n",
       "      <td>0.000044</td>\n",
       "    </tr>\n",
       "    <tr>\n",
       "      <th>2022-10-13 16:57:00</th>\n",
       "      <td>114920.0</td>\n",
       "      <td>0.000000</td>\n",
       "    </tr>\n",
       "    <tr>\n",
       "      <th>2022-10-13 16:58:00</th>\n",
       "      <td>114915.0</td>\n",
       "      <td>-0.000044</td>\n",
       "    </tr>\n",
       "    <tr>\n",
       "      <th>2022-10-13 16:59:00</th>\n",
       "      <td>114910.0</td>\n",
       "      <td>-0.000044</td>\n",
       "    </tr>\n",
       "  </tbody>\n",
       "</table>\n",
       "<p>99998 rows × 2 columns</p>\n",
       "</div>"
      ],
      "text/plain": [
       "                        WIN_N         r\n",
       "time                                   \n",
       "2022-01-18 11:39:00  106785.0  0.000749\n",
       "2022-01-18 11:40:00  106685.0 -0.000937\n",
       "2022-01-18 11:41:00  106885.0  0.001873\n",
       "2022-01-18 11:42:00  106955.0  0.000655\n",
       "2022-01-18 11:43:00  107135.0  0.001682\n",
       "...                       ...       ...\n",
       "2022-10-13 16:55:00  114915.0 -0.000044\n",
       "2022-10-13 16:56:00  114920.0  0.000044\n",
       "2022-10-13 16:57:00  114920.0  0.000000\n",
       "2022-10-13 16:58:00  114915.0 -0.000044\n",
       "2022-10-13 16:59:00  114910.0 -0.000044\n",
       "\n",
       "[99998 rows x 2 columns]"
      ]
     },
     "execution_count": 79,
     "metadata": {},
     "output_type": "execute_result"
    }
   ],
   "source": [
    "data"
   ]
  },
  {
   "cell_type": "code",
   "execution_count": 80,
   "metadata": {},
   "outputs": [],
   "source": [
    "data = (data - data.mean()) / data.std()"
   ]
  },
  {
   "cell_type": "code",
   "execution_count": 81,
   "metadata": {},
   "outputs": [
    {
     "data": {
      "text/html": [
       "<div>\n",
       "<style scoped>\n",
       "    .dataframe tbody tr th:only-of-type {\n",
       "        vertical-align: middle;\n",
       "    }\n",
       "\n",
       "    .dataframe tbody tr th {\n",
       "        vertical-align: top;\n",
       "    }\n",
       "\n",
       "    .dataframe thead th {\n",
       "        text-align: right;\n",
       "    }\n",
       "</style>\n",
       "<table border=\"1\" class=\"dataframe\">\n",
       "  <thead>\n",
       "    <tr style=\"text-align: right;\">\n",
       "      <th></th>\n",
       "      <th>WIN_N</th>\n",
       "      <th>r</th>\n",
       "    </tr>\n",
       "    <tr>\n",
       "      <th>time</th>\n",
       "      <th></th>\n",
       "      <th></th>\n",
       "    </tr>\n",
       "  </thead>\n",
       "  <tbody>\n",
       "    <tr>\n",
       "      <th>2022-01-18 11:39:00</th>\n",
       "      <td>-0.620366</td>\n",
       "      <td>1.269051</td>\n",
       "    </tr>\n",
       "    <tr>\n",
       "      <th>2022-01-18 11:40:00</th>\n",
       "      <td>-0.637436</td>\n",
       "      <td>-1.589288</td>\n",
       "    </tr>\n",
       "    <tr>\n",
       "      <th>2022-01-18 11:41:00</th>\n",
       "      <td>-0.603296</td>\n",
       "      <td>3.173323</td>\n",
       "    </tr>\n",
       "    <tr>\n",
       "      <th>2022-01-18 11:42:00</th>\n",
       "      <td>-0.591347</td>\n",
       "      <td>1.108444</td>\n",
       "    </tr>\n",
       "    <tr>\n",
       "      <th>2022-01-18 11:43:00</th>\n",
       "      <td>-0.560620</td>\n",
       "      <td>2.848925</td>\n",
       "    </tr>\n",
       "    <tr>\n",
       "      <th>...</th>\n",
       "      <td>...</td>\n",
       "      <td>...</td>\n",
       "    </tr>\n",
       "    <tr>\n",
       "      <th>2022-10-13 16:55:00</th>\n",
       "      <td>0.767445</td>\n",
       "      <td>-0.075004</td>\n",
       "    </tr>\n",
       "    <tr>\n",
       "      <th>2022-10-13 16:56:00</th>\n",
       "      <td>0.768299</td>\n",
       "      <td>0.072492</td>\n",
       "    </tr>\n",
       "    <tr>\n",
       "      <th>2022-10-13 16:57:00</th>\n",
       "      <td>0.768299</td>\n",
       "      <td>-0.001256</td>\n",
       "    </tr>\n",
       "    <tr>\n",
       "      <th>2022-10-13 16:58:00</th>\n",
       "      <td>0.767445</td>\n",
       "      <td>-0.075004</td>\n",
       "    </tr>\n",
       "    <tr>\n",
       "      <th>2022-10-13 16:59:00</th>\n",
       "      <td>0.766592</td>\n",
       "      <td>-0.075007</td>\n",
       "    </tr>\n",
       "  </tbody>\n",
       "</table>\n",
       "<p>99998 rows × 2 columns</p>\n",
       "</div>"
      ],
      "text/plain": [
       "                        WIN_N         r\n",
       "time                                   \n",
       "2022-01-18 11:39:00 -0.620366  1.269051\n",
       "2022-01-18 11:40:00 -0.637436 -1.589288\n",
       "2022-01-18 11:41:00 -0.603296  3.173323\n",
       "2022-01-18 11:42:00 -0.591347  1.108444\n",
       "2022-01-18 11:43:00 -0.560620  2.848925\n",
       "...                       ...       ...\n",
       "2022-10-13 16:55:00  0.767445 -0.075004\n",
       "2022-10-13 16:56:00  0.768299  0.072492\n",
       "2022-10-13 16:57:00  0.768299 -0.001256\n",
       "2022-10-13 16:58:00  0.767445 -0.075004\n",
       "2022-10-13 16:59:00  0.766592 -0.075007\n",
       "\n",
       "[99998 rows x 2 columns]"
      ]
     },
     "execution_count": 81,
     "metadata": {},
     "output_type": "execute_result"
    }
   ],
   "source": [
    "data"
   ]
  },
  {
   "cell_type": "code",
   "execution_count": 82,
   "metadata": {},
   "outputs": [],
   "source": [
    "r = data['r'].values"
   ]
  },
  {
   "cell_type": "code",
   "execution_count": 83,
   "metadata": {},
   "outputs": [],
   "source": [
    "r = r.reshape((len(r), -1))"
   ]
  },
  {
   "cell_type": "code",
   "execution_count": 84,
   "metadata": {},
   "outputs": [
    {
     "data": {
      "text/plain": [
       "array([[ 1.2691],\n",
       "       [-1.5893],\n",
       "       [ 3.1733],\n",
       "       ...,\n",
       "       [-0.0013],\n",
       "       [-0.075 ],\n",
       "       [-0.075 ]])"
      ]
     },
     "execution_count": 84,
     "metadata": {},
     "output_type": "execute_result"
    }
   ],
   "source": [
    "r"
   ]
  },
  {
   "cell_type": "code",
   "execution_count": 85,
   "metadata": {},
   "outputs": [],
   "source": [
    "g = TimeseriesGenerator(r, r, length=lags, batch_size=5)"
   ]
  },
  {
   "cell_type": "code",
   "execution_count": 86,
   "metadata": {},
   "outputs": [
    {
     "data": {
      "text/plain": [
       "(array([[[ 1.2691],\n",
       "         [-1.5893],\n",
       "         [ 3.1733],\n",
       "         [ 1.1084],\n",
       "         [ 2.8489]],\n",
       " \n",
       "        [[-1.5893],\n",
       "         [ 3.1733],\n",
       "         [ 1.1084],\n",
       "         [ 2.8489],\n",
       "         [ 0.0778]],\n",
       " \n",
       "        [[ 3.1733],\n",
       "         [ 1.1084],\n",
       "         [ 2.8489],\n",
       "         [ 0.0778],\n",
       "         [-1.5049]],\n",
       " \n",
       "        [[ 1.1084],\n",
       "         [ 2.8489],\n",
       "         [ 0.0778],\n",
       "         [-1.5049],\n",
       "         [-1.4269]],\n",
       " \n",
       "        [[ 2.8489],\n",
       "         [ 0.0778],\n",
       "         [-1.5049],\n",
       "         [-1.4269],\n",
       "         [ 0.2364]]]),\n",
       " array([[ 0.0778],\n",
       "        [-1.5049],\n",
       "        [-1.4269],\n",
       "        [ 0.2364],\n",
       "        [-2.0624]]))"
      ]
     },
     "execution_count": 86,
     "metadata": {},
     "output_type": "execute_result"
    }
   ],
   "source": [
    "list(g)[0]"
   ]
  },
  {
   "cell_type": "code",
   "execution_count": 87,
   "metadata": {},
   "outputs": [],
   "source": [
    "model = create_rnn_model()"
   ]
  },
  {
   "cell_type": "code",
   "execution_count": 88,
   "metadata": {},
   "outputs": [
    {
     "name": "stdout",
     "output_type": "stream",
     "text": [
      "CPU times: total: 2min 2s\n",
      "Wall time: 1min 38s\n"
     ]
    },
    {
     "data": {
      "text/plain": [
       "<keras.callbacks.History at 0x198f45256d0>"
      ]
     },
     "execution_count": 88,
     "metadata": {},
     "output_type": "execute_result"
    }
   ],
   "source": [
    "%%time\n",
    "model.fit(g, epochs=500, steps_per_epoch=10,\n",
    "          verbose=False)"
   ]
  },
  {
   "cell_type": "code",
   "execution_count": 89,
   "metadata": {},
   "outputs": [],
   "source": [
    "y = model.predict(g, verbose=False)"
   ]
  },
  {
   "cell_type": "code",
   "execution_count": 90,
   "metadata": {},
   "outputs": [],
   "source": [
    "data['pred'] = np.nan\n",
    "data['pred'].iloc[lags:] = y.flatten()\n",
    "data.dropna(inplace=True)"
   ]
  },
  {
   "cell_type": "code",
   "execution_count": 91,
   "metadata": {},
   "outputs": [
    {
     "data": {
      "image/png": "[encoded data removed]",
      "text/plain": [
       "<Figure size 1000x600 with 1 Axes>"
      ]
     },
     "metadata": {},
     "output_type": "display_data"
    }
   ],
   "source": [
    "data[['r', 'pred']].iloc[50:100].plot(\n",
    "            figsize=(10, 6), style=['b', 'r-.'],\n",
    "            alpha=0.75);\n",
    "plt.axhline(0, c='grey', ls='--');"
   ]
  },
  {
   "cell_type": "code",
   "execution_count": 92,
   "metadata": {},
   "outputs": [],
   "source": [
    "from sklearn.metrics import accuracy_score"
   ]
  },
  {
   "cell_type": "code",
   "execution_count": 93,
   "metadata": {},
   "outputs": [
    {
     "data": {
      "text/plain": [
       "0.4818237276609363"
      ]
     },
     "execution_count": 93,
     "metadata": {},
     "output_type": "execute_result"
    }
   ],
   "source": [
    "accuracy_score(np.sign(data['r']), np.sign(data['pred']))"
   ]
  },
  {
   "cell_type": "code",
   "execution_count": 94,
   "metadata": {},
   "outputs": [],
   "source": [
    "split = int(len(r) * 0.8)"
   ]
  },
  {
   "cell_type": "code",
   "execution_count": 95,
   "metadata": {},
   "outputs": [],
   "source": [
    "train = r[:split]"
   ]
  },
  {
   "cell_type": "code",
   "execution_count": 97,
   "metadata": {},
   "outputs": [],
   "source": [
    "test = r[split:]"
   ]
  },
  {
   "cell_type": "code",
   "execution_count": 98,
   "metadata": {},
   "outputs": [],
   "source": [
    "g = TimeseriesGenerator(train, train, length=lags, batch_size=5)"
   ]
  },
  {
   "cell_type": "code",
   "execution_count": 99,
   "metadata": {},
   "outputs": [],
   "source": [
    "set_seeds()\n",
    "model = create_rnn_model(hu=100)"
   ]
  },
  {
   "cell_type": "code",
   "execution_count": 100,
   "metadata": {},
   "outputs": [
    {
     "name": "stdout",
     "output_type": "stream",
     "text": [
      "CPU times: total: 25 s\n",
      "Wall time: 19.3 s\n"
     ]
    },
    {
     "data": {
      "text/plain": [
       "<keras.callbacks.History at 0x198d9033160>"
      ]
     },
     "execution_count": 100,
     "metadata": {},
     "output_type": "execute_result"
    }
   ],
   "source": [
    "%%time\n",
    "model.fit(g, epochs=100, steps_per_epoch=10, verbose=False)"
   ]
  },
  {
   "cell_type": "code",
   "execution_count": 101,
   "metadata": {},
   "outputs": [],
   "source": [
    "g_ = TimeseriesGenerator(test, test, length=lags, batch_size=5)"
   ]
  },
  {
   "cell_type": "code",
   "execution_count": 102,
   "metadata": {},
   "outputs": [],
   "source": [
    "y = model.predict(g_)"
   ]
  },
  {
   "cell_type": "code",
   "execution_count": 103,
   "metadata": {},
   "outputs": [
    {
     "data": {
      "text/plain": [
       "0.5049262315578895"
      ]
     },
     "execution_count": 103,
     "metadata": {},
     "output_type": "execute_result"
    }
   ],
   "source": [
    "accuracy_score(np.sign(test[lags:]), np.sign(y))"
   ]
  },
  {
   "cell_type": "markdown",
   "metadata": {},
   "source": [
    "## Financial Features"
   ]
  },
  {
   "cell_type": "code",
   "execution_count": 104,
   "metadata": {},
   "outputs": [],
   "source": [
    "data = generate_data()"
   ]
  },
  {
   "cell_type": "code",
   "execution_count": 105,
   "metadata": {},
   "outputs": [],
   "source": [
    "data['r'] = np.log(data / data.shift(1))"
   ]
  },
  {
   "cell_type": "code",
   "execution_count": 106,
   "metadata": {},
   "outputs": [
    {
     "data": {
      "text/html": [
       "<div>\n",
       "<style scoped>\n",
       "    .dataframe tbody tr th:only-of-type {\n",
       "        vertical-align: middle;\n",
       "    }\n",
       "\n",
       "    .dataframe tbody tr th {\n",
       "        vertical-align: top;\n",
       "    }\n",
       "\n",
       "    .dataframe thead th {\n",
       "        text-align: right;\n",
       "    }\n",
       "</style>\n",
       "<table border=\"1\" class=\"dataframe\">\n",
       "  <thead>\n",
       "    <tr style=\"text-align: right;\">\n",
       "      <th></th>\n",
       "      <th>WIN_N</th>\n",
       "      <th>r</th>\n",
       "    </tr>\n",
       "    <tr>\n",
       "      <th>time</th>\n",
       "      <th></th>\n",
       "      <th></th>\n",
       "    </tr>\n",
       "  </thead>\n",
       "  <tbody>\n",
       "    <tr>\n",
       "      <th>2022-01-18 11:38:00</th>\n",
       "      <td>106705.0</td>\n",
       "      <td>NaN</td>\n",
       "    </tr>\n",
       "    <tr>\n",
       "      <th>2022-01-18 11:39:00</th>\n",
       "      <td>106785.0</td>\n",
       "      <td>0.000749</td>\n",
       "    </tr>\n",
       "    <tr>\n",
       "      <th>2022-01-18 11:40:00</th>\n",
       "      <td>106685.0</td>\n",
       "      <td>-0.000937</td>\n",
       "    </tr>\n",
       "    <tr>\n",
       "      <th>2022-01-18 11:41:00</th>\n",
       "      <td>106885.0</td>\n",
       "      <td>0.001873</td>\n",
       "    </tr>\n",
       "    <tr>\n",
       "      <th>2022-01-18 11:42:00</th>\n",
       "      <td>106955.0</td>\n",
       "      <td>0.000655</td>\n",
       "    </tr>\n",
       "    <tr>\n",
       "      <th>...</th>\n",
       "      <td>...</td>\n",
       "      <td>...</td>\n",
       "    </tr>\n",
       "    <tr>\n",
       "      <th>2022-10-13 16:55:00</th>\n",
       "      <td>114915.0</td>\n",
       "      <td>-0.000044</td>\n",
       "    </tr>\n",
       "    <tr>\n",
       "      <th>2022-10-13 16:56:00</th>\n",
       "      <td>114920.0</td>\n",
       "      <td>0.000044</td>\n",
       "    </tr>\n",
       "    <tr>\n",
       "      <th>2022-10-13 16:57:00</th>\n",
       "      <td>114920.0</td>\n",
       "      <td>0.000000</td>\n",
       "    </tr>\n",
       "    <tr>\n",
       "      <th>2022-10-13 16:58:00</th>\n",
       "      <td>114915.0</td>\n",
       "      <td>-0.000044</td>\n",
       "    </tr>\n",
       "    <tr>\n",
       "      <th>2022-10-13 16:59:00</th>\n",
       "      <td>114910.0</td>\n",
       "      <td>-0.000044</td>\n",
       "    </tr>\n",
       "  </tbody>\n",
       "</table>\n",
       "<p>99999 rows × 2 columns</p>\n",
       "</div>"
      ],
      "text/plain": [
       "                        WIN_N         r\n",
       "time                                   \n",
       "2022-01-18 11:38:00  106705.0       NaN\n",
       "2022-01-18 11:39:00  106785.0  0.000749\n",
       "2022-01-18 11:40:00  106685.0 -0.000937\n",
       "2022-01-18 11:41:00  106885.0  0.001873\n",
       "2022-01-18 11:42:00  106955.0  0.000655\n",
       "...                       ...       ...\n",
       "2022-10-13 16:55:00  114915.0 -0.000044\n",
       "2022-10-13 16:56:00  114920.0  0.000044\n",
       "2022-10-13 16:57:00  114920.0  0.000000\n",
       "2022-10-13 16:58:00  114915.0 -0.000044\n",
       "2022-10-13 16:59:00  114910.0 -0.000044\n",
       "\n",
       "[99999 rows x 2 columns]"
      ]
     },
     "execution_count": 106,
     "metadata": {},
     "output_type": "execute_result"
    }
   ],
   "source": [
    "data"
   ]
  },
  {
   "cell_type": "code",
   "execution_count": 107,
   "metadata": {},
   "outputs": [],
   "source": [
    "window = 20\n",
    "data['mom'] = data['r'].rolling(window).mean()\n",
    "data['vol'] = data['r'].rolling(window).std()"
   ]
  },
  {
   "cell_type": "code",
   "execution_count": 109,
   "metadata": {},
   "outputs": [
    {
     "data": {
      "text/html": [
       "<div>\n",
       "<style scoped>\n",
       "    .dataframe tbody tr th:only-of-type {\n",
       "        vertical-align: middle;\n",
       "    }\n",
       "\n",
       "    .dataframe tbody tr th {\n",
       "        vertical-align: top;\n",
       "    }\n",
       "\n",
       "    .dataframe thead th {\n",
       "        text-align: right;\n",
       "    }\n",
       "</style>\n",
       "<table border=\"1\" class=\"dataframe\">\n",
       "  <thead>\n",
       "    <tr style=\"text-align: right;\">\n",
       "      <th></th>\n",
       "      <th>WIN_N</th>\n",
       "      <th>r</th>\n",
       "      <th>mom</th>\n",
       "      <th>vol</th>\n",
       "    </tr>\n",
       "    <tr>\n",
       "      <th>time</th>\n",
       "      <th></th>\n",
       "      <th></th>\n",
       "      <th></th>\n",
       "      <th></th>\n",
       "    </tr>\n",
       "  </thead>\n",
       "  <tbody>\n",
       "    <tr>\n",
       "      <th>2022-10-13 16:55:00</th>\n",
       "      <td>114915.0</td>\n",
       "      <td>-0.000044</td>\n",
       "      <td>0.000013</td>\n",
       "      <td>0.000051</td>\n",
       "    </tr>\n",
       "    <tr>\n",
       "      <th>2022-10-13 16:56:00</th>\n",
       "      <td>114920.0</td>\n",
       "      <td>0.000044</td>\n",
       "      <td>0.000011</td>\n",
       "      <td>0.000049</td>\n",
       "    </tr>\n",
       "    <tr>\n",
       "      <th>2022-10-13 16:57:00</th>\n",
       "      <td>114920.0</td>\n",
       "      <td>0.000000</td>\n",
       "      <td>0.000013</td>\n",
       "      <td>0.000047</td>\n",
       "    </tr>\n",
       "    <tr>\n",
       "      <th>2022-10-13 16:58:00</th>\n",
       "      <td>114915.0</td>\n",
       "      <td>-0.000044</td>\n",
       "      <td>0.000007</td>\n",
       "      <td>0.000045</td>\n",
       "    </tr>\n",
       "    <tr>\n",
       "      <th>2022-10-13 16:59:00</th>\n",
       "      <td>114910.0</td>\n",
       "      <td>-0.000044</td>\n",
       "      <td>0.000004</td>\n",
       "      <td>0.000047</td>\n",
       "    </tr>\n",
       "  </tbody>\n",
       "</table>\n",
       "</div>"
      ],
      "text/plain": [
       "                        WIN_N         r       mom       vol\n",
       "time                                                       \n",
       "2022-10-13 16:55:00  114915.0 -0.000044  0.000013  0.000051\n",
       "2022-10-13 16:56:00  114920.0  0.000044  0.000011  0.000049\n",
       "2022-10-13 16:57:00  114920.0  0.000000  0.000013  0.000047\n",
       "2022-10-13 16:58:00  114915.0 -0.000044  0.000007  0.000045\n",
       "2022-10-13 16:59:00  114910.0 -0.000044  0.000004  0.000047"
      ]
     },
     "execution_count": 109,
     "metadata": {},
     "output_type": "execute_result"
    }
   ],
   "source": [
    "data.tail()"
   ]
  },
  {
   "cell_type": "code",
   "execution_count": 110,
   "metadata": {},
   "outputs": [],
   "source": [
    "data.dropna(inplace=True)"
   ]
  },
  {
   "cell_type": "markdown",
   "metadata": {},
   "source": [
    "### Estimation"
   ]
  },
  {
   "cell_type": "code",
   "execution_count": 111,
   "metadata": {},
   "outputs": [],
   "source": [
    "split = int(len(data) * 0.8)"
   ]
  },
  {
   "cell_type": "code",
   "execution_count": 112,
   "metadata": {},
   "outputs": [],
   "source": [
    "train = data.iloc[:split].copy()"
   ]
  },
  {
   "cell_type": "code",
   "execution_count": 113,
   "metadata": {},
   "outputs": [],
   "source": [
    "mu, std = train.mean(), train.std()"
   ]
  },
  {
   "cell_type": "code",
   "execution_count": 114,
   "metadata": {},
   "outputs": [
    {
     "data": {
      "text/html": [
       "<div>\n",
       "<style scoped>\n",
       "    .dataframe tbody tr th:only-of-type {\n",
       "        vertical-align: middle;\n",
       "    }\n",
       "\n",
       "    .dataframe tbody tr th {\n",
       "        vertical-align: top;\n",
       "    }\n",
       "\n",
       "    .dataframe thead th {\n",
       "        text-align: right;\n",
       "    }\n",
       "</style>\n",
       "<table border=\"1\" class=\"dataframe\">\n",
       "  <thead>\n",
       "    <tr style=\"text-align: right;\">\n",
       "      <th></th>\n",
       "      <th>WIN_N</th>\n",
       "      <th>r</th>\n",
       "      <th>mom</th>\n",
       "      <th>vol</th>\n",
       "    </tr>\n",
       "    <tr>\n",
       "      <th>time</th>\n",
       "      <th></th>\n",
       "      <th></th>\n",
       "      <th></th>\n",
       "      <th></th>\n",
       "    </tr>\n",
       "  </thead>\n",
       "  <tbody>\n",
       "    <tr>\n",
       "      <th>2022-01-18 11:58:00</th>\n",
       "      <td>106945.0</td>\n",
       "      <td>0.000468</td>\n",
       "      <td>0.000112</td>\n",
       "      <td>0.000846</td>\n",
       "    </tr>\n",
       "    <tr>\n",
       "      <th>2022-01-18 11:59:00</th>\n",
       "      <td>106980.0</td>\n",
       "      <td>0.000327</td>\n",
       "      <td>0.000091</td>\n",
       "      <td>0.000834</td>\n",
       "    </tr>\n",
       "    <tr>\n",
       "      <th>2022-01-18 12:00:00</th>\n",
       "      <td>106995.0</td>\n",
       "      <td>0.000140</td>\n",
       "      <td>0.000145</td>\n",
       "      <td>0.000798</td>\n",
       "    </tr>\n",
       "    <tr>\n",
       "      <th>2022-01-18 12:01:00</th>\n",
       "      <td>106950.0</td>\n",
       "      <td>-0.000421</td>\n",
       "      <td>0.000030</td>\n",
       "      <td>0.000695</td>\n",
       "    </tr>\n",
       "    <tr>\n",
       "      <th>2022-01-18 12:02:00</th>\n",
       "      <td>106975.0</td>\n",
       "      <td>0.000234</td>\n",
       "      <td>0.000009</td>\n",
       "      <td>0.000681</td>\n",
       "    </tr>\n",
       "    <tr>\n",
       "      <th>...</th>\n",
       "      <td>...</td>\n",
       "      <td>...</td>\n",
       "      <td>...</td>\n",
       "      <td>...</td>\n",
       "    </tr>\n",
       "    <tr>\n",
       "      <th>2022-08-19 11:57:00</th>\n",
       "      <td>113640.0</td>\n",
       "      <td>-0.000044</td>\n",
       "      <td>-0.000004</td>\n",
       "      <td>0.000545</td>\n",
       "    </tr>\n",
       "    <tr>\n",
       "      <th>2022-08-19 11:58:00</th>\n",
       "      <td>113585.0</td>\n",
       "      <td>-0.000484</td>\n",
       "      <td>-0.000053</td>\n",
       "      <td>0.000542</td>\n",
       "    </tr>\n",
       "    <tr>\n",
       "      <th>2022-08-19 11:59:00</th>\n",
       "      <td>113630.0</td>\n",
       "      <td>0.000396</td>\n",
       "      <td>-0.000002</td>\n",
       "      <td>0.000534</td>\n",
       "    </tr>\n",
       "    <tr>\n",
       "      <th>2022-08-19 12:00:00</th>\n",
       "      <td>113660.0</td>\n",
       "      <td>0.000264</td>\n",
       "      <td>0.000035</td>\n",
       "      <td>0.000525</td>\n",
       "    </tr>\n",
       "    <tr>\n",
       "      <th>2022-08-19 12:01:00</th>\n",
       "      <td>113620.0</td>\n",
       "      <td>-0.000352</td>\n",
       "      <td>0.000053</td>\n",
       "      <td>0.000504</td>\n",
       "    </tr>\n",
       "  </tbody>\n",
       "</table>\n",
       "<p>79983 rows × 4 columns</p>\n",
       "</div>"
      ],
      "text/plain": [
       "                        WIN_N         r       mom       vol\n",
       "time                                                       \n",
       "2022-01-18 11:58:00  106945.0  0.000468  0.000112  0.000846\n",
       "2022-01-18 11:59:00  106980.0  0.000327  0.000091  0.000834\n",
       "2022-01-18 12:00:00  106995.0  0.000140  0.000145  0.000798\n",
       "2022-01-18 12:01:00  106950.0 -0.000421  0.000030  0.000695\n",
       "2022-01-18 12:02:00  106975.0  0.000234  0.000009  0.000681\n",
       "...                       ...       ...       ...       ...\n",
       "2022-08-19 11:57:00  113640.0 -0.000044 -0.000004  0.000545\n",
       "2022-08-19 11:58:00  113585.0 -0.000484 -0.000053  0.000542\n",
       "2022-08-19 11:59:00  113630.0  0.000396 -0.000002  0.000534\n",
       "2022-08-19 12:00:00  113660.0  0.000264  0.000035  0.000525\n",
       "2022-08-19 12:01:00  113620.0 -0.000352  0.000053  0.000504\n",
       "\n",
       "[79983 rows x 4 columns]"
      ]
     },
     "execution_count": 114,
     "metadata": {},
     "output_type": "execute_result"
    }
   ],
   "source": [
    "train"
   ]
  },
  {
   "cell_type": "code",
   "execution_count": 115,
   "metadata": {},
   "outputs": [],
   "source": [
    "train = (train - mu) / std"
   ]
  },
  {
   "cell_type": "code",
   "execution_count": 116,
   "metadata": {},
   "outputs": [
    {
     "data": {
      "text/html": [
       "<div>\n",
       "<style scoped>\n",
       "    .dataframe tbody tr th:only-of-type {\n",
       "        vertical-align: middle;\n",
       "    }\n",
       "\n",
       "    .dataframe tbody tr th {\n",
       "        vertical-align: top;\n",
       "    }\n",
       "\n",
       "    .dataframe thead th {\n",
       "        text-align: right;\n",
       "    }\n",
       "</style>\n",
       "<table border=\"1\" class=\"dataframe\">\n",
       "  <thead>\n",
       "    <tr style=\"text-align: right;\">\n",
       "      <th></th>\n",
       "      <th>WIN_N</th>\n",
       "      <th>r</th>\n",
       "      <th>mom</th>\n",
       "      <th>vol</th>\n",
       "    </tr>\n",
       "    <tr>\n",
       "      <th>time</th>\n",
       "      <th></th>\n",
       "      <th></th>\n",
       "      <th></th>\n",
       "      <th></th>\n",
       "    </tr>\n",
       "  </thead>\n",
       "  <tbody>\n",
       "    <tr>\n",
       "      <th>2022-01-18 11:58:00</th>\n",
       "      <td>-0.449799</td>\n",
       "      <td>0.816276</td>\n",
       "      <td>0.892396</td>\n",
       "      <td>1.161218</td>\n",
       "    </tr>\n",
       "    <tr>\n",
       "      <th>2022-01-18 11:59:00</th>\n",
       "      <td>-0.444208</td>\n",
       "      <td>0.570766</td>\n",
       "      <td>0.723536</td>\n",
       "      <td>1.124954</td>\n",
       "    </tr>\n",
       "    <tr>\n",
       "      <th>2022-01-18 12:00:00</th>\n",
       "      <td>-0.441811</td>\n",
       "      <td>0.243795</td>\n",
       "      <td>1.154294</td>\n",
       "      <td>1.012329</td>\n",
       "    </tr>\n",
       "    <tr>\n",
       "      <th>2022-01-18 12:01:00</th>\n",
       "      <td>-0.449000</td>\n",
       "      <td>-0.736821</td>\n",
       "      <td>0.237034</td>\n",
       "      <td>0.688300</td>\n",
       "    </tr>\n",
       "    <tr>\n",
       "      <th>2022-01-18 12:02:00</th>\n",
       "      <td>-0.445006</td>\n",
       "      <td>0.407309</td>\n",
       "      <td>0.068680</td>\n",
       "      <td>0.645412</td>\n",
       "    </tr>\n",
       "    <tr>\n",
       "      <th>...</th>\n",
       "      <td>...</td>\n",
       "      <td>...</td>\n",
       "      <td>...</td>\n",
       "      <td>...</td>\n",
       "    </tr>\n",
       "    <tr>\n",
       "      <th>2022-08-19 11:57:00</th>\n",
       "      <td>0.619698</td>\n",
       "      <td>-0.078258</td>\n",
       "      <td>-0.041287</td>\n",
       "      <td>0.216462</td>\n",
       "    </tr>\n",
       "    <tr>\n",
       "      <th>2022-08-19 11:58:00</th>\n",
       "      <td>0.610912</td>\n",
       "      <td>-0.847726</td>\n",
       "      <td>-0.428383</td>\n",
       "      <td>0.208086</td>\n",
       "    </tr>\n",
       "    <tr>\n",
       "      <th>2022-08-19 11:59:00</th>\n",
       "      <td>0.618101</td>\n",
       "      <td>0.691200</td>\n",
       "      <td>-0.023694</td>\n",
       "      <td>0.182492</td>\n",
       "    </tr>\n",
       "    <tr>\n",
       "      <th>2022-08-19 12:00:00</th>\n",
       "      <td>0.622893</td>\n",
       "      <td>0.460203</td>\n",
       "      <td>0.275489</td>\n",
       "      <td>0.152930</td>\n",
       "    </tr>\n",
       "    <tr>\n",
       "      <th>2022-08-19 12:01:00</th>\n",
       "      <td>0.616504</td>\n",
       "      <td>-0.616743</td>\n",
       "      <td>0.416506</td>\n",
       "      <td>0.088087</td>\n",
       "    </tr>\n",
       "  </tbody>\n",
       "</table>\n",
       "<p>79983 rows × 4 columns</p>\n",
       "</div>"
      ],
      "text/plain": [
       "                        WIN_N         r       mom       vol\n",
       "time                                                       \n",
       "2022-01-18 11:58:00 -0.449799  0.816276  0.892396  1.161218\n",
       "2022-01-18 11:59:00 -0.444208  0.570766  0.723536  1.124954\n",
       "2022-01-18 12:00:00 -0.441811  0.243795  1.154294  1.012329\n",
       "2022-01-18 12:01:00 -0.449000 -0.736821  0.237034  0.688300\n",
       "2022-01-18 12:02:00 -0.445006  0.407309  0.068680  0.645412\n",
       "...                       ...       ...       ...       ...\n",
       "2022-08-19 11:57:00  0.619698 -0.078258 -0.041287  0.216462\n",
       "2022-08-19 11:58:00  0.610912 -0.847726 -0.428383  0.208086\n",
       "2022-08-19 11:59:00  0.618101  0.691200 -0.023694  0.182492\n",
       "2022-08-19 12:00:00  0.622893  0.460203  0.275489  0.152930\n",
       "2022-08-19 12:01:00  0.616504 -0.616743  0.416506  0.088087\n",
       "\n",
       "[79983 rows x 4 columns]"
      ]
     },
     "execution_count": 116,
     "metadata": {},
     "output_type": "execute_result"
    }
   ],
   "source": [
    "train"
   ]
  },
  {
   "cell_type": "code",
   "execution_count": 117,
   "metadata": {},
   "outputs": [],
   "source": [
    "test = data.iloc[split:].copy()"
   ]
  },
  {
   "cell_type": "code",
   "execution_count": 118,
   "metadata": {},
   "outputs": [],
   "source": [
    "test = (test - mu) / std"
   ]
  },
  {
   "cell_type": "code",
   "execution_count": 119,
   "metadata": {},
   "outputs": [],
   "source": [
    "g = TimeseriesGenerator(train.values, train['r'].values,\n",
    "                        length=lags, batch_size=5)"
   ]
  },
  {
   "cell_type": "code",
   "execution_count": 120,
   "metadata": {},
   "outputs": [],
   "source": [
    "set_seeds()\n",
    "model = create_rnn_model(hu=100, features=len(data.columns),\n",
    "                         layer='SimpleRNN')"
   ]
  },
  {
   "cell_type": "code",
   "execution_count": 121,
   "metadata": {},
   "outputs": [
    {
     "name": "stdout",
     "output_type": "stream",
     "text": [
      "Epoch 1/100\n",
      "10/10 - 1s - loss: 0.5182 - mae: 0.5371\n",
      "Epoch 2/100\n",
      "10/10 - 0s - loss: 1.6462 - mae: 0.6336\n",
      "Epoch 3/100\n",
      "10/10 - 0s - loss: 1.1935 - mae: 0.7691\n",
      "Epoch 4/100\n",
      "10/10 - 0s - loss: 0.5295 - mae: 0.5730\n",
      "Epoch 5/100\n",
      "10/10 - 0s - loss: 0.5977 - mae: 0.5200\n",
      "Epoch 6/100\n",
      "10/10 - 0s - loss: 1.1593 - mae: 0.7460\n",
      "Epoch 7/100\n",
      "10/10 - 0s - loss: 0.9003 - mae: 0.7537\n",
      "Epoch 8/100\n",
      "10/10 - 0s - loss: 0.4827 - mae: 0.5168\n",
      "Epoch 9/100\n",
      "10/10 - 0s - loss: 0.5594 - mae: 0.5569\n",
      "Epoch 10/100\n",
      "10/10 - 0s - loss: 0.4742 - mae: 0.5117\n",
      "Epoch 11/100\n",
      "10/10 - 0s - loss: 0.6829 - mae: 0.6183\n",
      "Epoch 12/100\n",
      "10/10 - 0s - loss: 0.8089 - mae: 0.6351\n",
      "Epoch 13/100\n",
      "10/10 - 0s - loss: 0.5758 - mae: 0.5758\n",
      "Epoch 14/100\n",
      "10/10 - 0s - loss: 0.7417 - mae: 0.6399\n",
      "Epoch 15/100\n",
      "10/10 - 0s - loss: 0.6546 - mae: 0.6029\n",
      "Epoch 16/100\n",
      "10/10 - 0s - loss: 1.1973 - mae: 0.7643\n",
      "Epoch 17/100\n",
      "10/10 - 0s - loss: 0.6450 - mae: 0.6217\n",
      "Epoch 18/100\n",
      "10/10 - 0s - loss: 0.5888 - mae: 0.6152\n",
      "Epoch 19/100\n",
      "10/10 - 0s - loss: 1.3379 - mae: 0.8140\n",
      "Epoch 20/100\n",
      "10/10 - 0s - loss: 0.6220 - mae: 0.4756\n",
      "Epoch 21/100\n",
      "10/10 - 0s - loss: 0.5944 - mae: 0.5552\n",
      "Epoch 22/100\n",
      "10/10 - 0s - loss: 0.3402 - mae: 0.4603\n",
      "Epoch 23/100\n",
      "10/10 - 0s - loss: 0.8871 - mae: 0.6463\n",
      "Epoch 24/100\n",
      "10/10 - 0s - loss: 0.6464 - mae: 0.5519\n",
      "Epoch 25/100\n",
      "10/10 - 0s - loss: 0.4621 - mae: 0.5125\n",
      "Epoch 26/100\n",
      "10/10 - 0s - loss: 0.5152 - mae: 0.4582\n",
      "Epoch 27/100\n",
      "10/10 - 0s - loss: 0.3643 - mae: 0.4405\n",
      "Epoch 28/100\n",
      "10/10 - 0s - loss: 0.7674 - mae: 0.6475\n",
      "Epoch 29/100\n",
      "10/10 - 0s - loss: 0.7799 - mae: 0.5873\n",
      "Epoch 30/100\n",
      "10/10 - 0s - loss: 0.6540 - mae: 0.5694\n",
      "Epoch 31/100\n",
      "10/10 - 0s - loss: 0.7483 - mae: 0.6522\n",
      "Epoch 32/100\n",
      "10/10 - 0s - loss: 0.8110 - mae: 0.6086\n",
      "Epoch 33/100\n",
      "10/10 - 0s - loss: 0.4887 - mae: 0.5597\n",
      "Epoch 34/100\n",
      "10/10 - 0s - loss: 1.1368 - mae: 0.8307\n",
      "Epoch 35/100\n",
      "10/10 - 0s - loss: 1.1153 - mae: 0.7500\n",
      "Epoch 36/100\n",
      "10/10 - 0s - loss: 0.3418 - mae: 0.4234\n",
      "Epoch 37/100\n",
      "10/10 - 0s - loss: 0.4158 - mae: 0.4975\n",
      "Epoch 38/100\n",
      "10/10 - 0s - loss: 2.3653 - mae: 0.9143\n",
      "Epoch 39/100\n",
      "10/10 - 0s - loss: 0.4825 - mae: 0.5238\n",
      "Epoch 40/100\n",
      "10/10 - 0s - loss: 0.4596 - mae: 0.5308\n",
      "Epoch 41/100\n",
      "10/10 - 0s - loss: 0.8567 - mae: 0.6822\n",
      "Epoch 42/100\n",
      "10/10 - 0s - loss: 1.4726 - mae: 0.8481\n",
      "Epoch 43/100\n",
      "10/10 - 0s - loss: 0.6077 - mae: 0.5768\n",
      "Epoch 44/100\n",
      "10/10 - 0s - loss: 20.0542 - mae: 1.2865\n",
      "Epoch 45/100\n",
      "10/10 - 0s - loss: 1.4912 - mae: 0.9313\n",
      "Epoch 46/100\n",
      "10/10 - 0s - loss: 0.5930 - mae: 0.4721\n",
      "Epoch 47/100\n",
      "10/10 - 0s - loss: 1.0281 - mae: 0.7629\n",
      "Epoch 48/100\n",
      "10/10 - 0s - loss: 0.6086 - mae: 0.5966\n",
      "Epoch 49/100\n",
      "10/10 - 0s - loss: 0.9130 - mae: 0.6910\n",
      "Epoch 50/100\n",
      "10/10 - 0s - loss: 0.6896 - mae: 0.6229\n",
      "Epoch 51/100\n",
      "10/10 - 0s - loss: 2.4257 - mae: 0.9506\n",
      "Epoch 52/100\n",
      "10/10 - 0s - loss: 1.5603 - mae: 0.8656\n",
      "Epoch 53/100\n",
      "10/10 - 0s - loss: 0.5542 - mae: 0.6044\n",
      "Epoch 54/100\n",
      "10/10 - 0s - loss: 0.6110 - mae: 0.5497\n",
      "Epoch 55/100\n",
      "10/10 - 0s - loss: 0.4510 - mae: 0.4958\n",
      "Epoch 56/100\n",
      "10/10 - 0s - loss: 0.4870 - mae: 0.5210\n",
      "Epoch 57/100\n",
      "10/10 - 0s - loss: 2.3275 - mae: 0.7906\n",
      "Epoch 58/100\n",
      "10/10 - 0s - loss: 0.8454 - mae: 0.7475\n",
      "Epoch 59/100\n",
      "10/10 - 0s - loss: 0.6871 - mae: 0.5968\n",
      "Epoch 60/100\n",
      "10/10 - 0s - loss: 0.6627 - mae: 0.6487\n",
      "Epoch 61/100\n",
      "10/10 - 0s - loss: 0.5033 - mae: 0.5701\n",
      "Epoch 62/100\n",
      "10/10 - 0s - loss: 1.2613 - mae: 0.7936\n",
      "Epoch 63/100\n",
      "10/10 - 0s - loss: 0.8604 - mae: 0.6529\n",
      "Epoch 64/100\n",
      "10/10 - 0s - loss: 0.3933 - mae: 0.4714\n",
      "Epoch 65/100\n",
      "10/10 - 0s - loss: 1.1339 - mae: 0.6927\n",
      "Epoch 66/100\n",
      "10/10 - 0s - loss: 0.7457 - mae: 0.5535\n",
      "Epoch 67/100\n",
      "10/10 - 0s - loss: 0.6582 - mae: 0.6121\n",
      "Epoch 68/100\n",
      "10/10 - 0s - loss: 0.7459 - mae: 0.6517\n",
      "Epoch 69/100\n",
      "10/10 - 0s - loss: 0.9413 - mae: 0.6981\n",
      "Epoch 70/100\n",
      "10/10 - 0s - loss: 0.7223 - mae: 0.6598\n",
      "Epoch 71/100\n",
      "10/10 - 0s - loss: 0.5915 - mae: 0.6190\n",
      "Epoch 72/100\n",
      "10/10 - 0s - loss: 0.3587 - mae: 0.4570\n",
      "Epoch 73/100\n",
      "10/10 - 0s - loss: 0.4726 - mae: 0.5573\n",
      "Epoch 74/100\n",
      "10/10 - 0s - loss: 0.9224 - mae: 0.7431\n",
      "Epoch 75/100\n",
      "10/10 - 0s - loss: 0.3847 - mae: 0.4806\n",
      "Epoch 76/100\n",
      "10/10 - 0s - loss: 0.6058 - mae: 0.5168\n",
      "Epoch 77/100\n",
      "10/10 - 0s - loss: 0.5404 - mae: 0.5442\n",
      "Epoch 78/100\n",
      "10/10 - 0s - loss: 0.5319 - mae: 0.5786\n",
      "Epoch 79/100\n",
      "10/10 - 0s - loss: 0.5254 - mae: 0.5551\n",
      "Epoch 80/100\n",
      "10/10 - 0s - loss: 0.5697 - mae: 0.5546\n",
      "Epoch 81/100\n",
      "10/10 - 0s - loss: 1.2654 - mae: 0.7751\n",
      "Epoch 82/100\n",
      "10/10 - 0s - loss: 0.7831 - mae: 0.6327\n",
      "Epoch 83/100\n",
      "10/10 - 0s - loss: 0.5253 - mae: 0.5224\n",
      "Epoch 84/100\n",
      "10/10 - 0s - loss: 0.4131 - mae: 0.4702\n",
      "Epoch 85/100\n",
      "10/10 - 0s - loss: 0.3396 - mae: 0.4545\n",
      "Epoch 86/100\n",
      "10/10 - 0s - loss: 0.4145 - mae: 0.4701\n",
      "Epoch 87/100\n",
      "10/10 - 0s - loss: 0.5025 - mae: 0.5726\n",
      "Epoch 88/100\n",
      "10/10 - 0s - loss: 0.9201 - mae: 0.6255\n",
      "Epoch 89/100\n",
      "10/10 - 0s - loss: 0.3352 - mae: 0.4325\n",
      "Epoch 90/100\n",
      "10/10 - 0s - loss: 0.8784 - mae: 0.5998\n",
      "Epoch 91/100\n",
      "10/10 - 0s - loss: 0.6349 - mae: 0.5859\n",
      "Epoch 92/100\n",
      "10/10 - 0s - loss: 3.9756 - mae: 1.2310\n",
      "Epoch 93/100\n",
      "10/10 - 0s - loss: 0.5148 - mae: 0.5540\n",
      "Epoch 94/100\n",
      "10/10 - 0s - loss: 0.7993 - mae: 0.6272\n",
      "Epoch 95/100\n",
      "10/10 - 0s - loss: 0.5058 - mae: 0.4736\n",
      "Epoch 96/100\n",
      "10/10 - 0s - loss: 0.7099 - mae: 0.5944\n",
      "Epoch 97/100\n",
      "10/10 - 0s - loss: 1.0683 - mae: 0.8118\n",
      "Epoch 98/100\n",
      "10/10 - 0s - loss: 0.9519 - mae: 0.6823\n",
      "Epoch 99/100\n",
      "10/10 - 0s - loss: 1.8974 - mae: 0.8208\n",
      "Epoch 100/100\n",
      "10/10 - 0s - loss: 0.8380 - mae: 0.6340\n",
      "CPU times: total: 26.2 s\n",
      "Wall time: 20.6 s\n"
     ]
    },
    {
     "data": {
      "text/plain": [
       "<keras.callbacks.History at 0x198f34abe80>"
      ]
     },
     "execution_count": 121,
     "metadata": {},
     "output_type": "execute_result"
    }
   ],
   "source": [
    "%%time\n",
    "model.fit(g, epochs=100, steps_per_epoch=10,\n",
    "                verbose=0)"
   ]
  },
  {
   "cell_type": "code",
   "execution_count": 122,
   "metadata": {},
   "outputs": [],
   "source": [
    "g_ = TimeseriesGenerator(test.values, test['r'].values,\n",
    "                         length=lags, batch_size=5)"
   ]
  },
  {
   "cell_type": "code",
   "execution_count": 123,
   "metadata": {},
   "outputs": [],
   "source": [
    "y = model.predict(g_).flatten()"
   ]
  },
  {
   "cell_type": "code",
   "execution_count": 124,
   "metadata": {},
   "outputs": [
    {
     "data": {
      "text/plain": [
       "0.49427242259016557"
      ]
     },
     "execution_count": 124,
     "metadata": {},
     "output_type": "execute_result"
    }
   ],
   "source": [
    "accuracy_score(np.sign(test['r'].iloc[lags:]), np.sign(y))"
   ]
  },
  {
   "cell_type": "markdown",
   "metadata": {},
   "source": [
    "### Classification"
   ]
  },
  {
   "cell_type": "code",
   "execution_count": 125,
   "metadata": {},
   "outputs": [
    {
     "name": "stdout",
     "output_type": "stream",
     "text": [
      "WARNING:tensorflow:Layer lstm will not use cuDNN kernels since it doesn't meet the criteria. It will use a generic GPU kernel as fallback when running on GPU.\n"
     ]
    }
   ],
   "source": [
    "set_seeds()\n",
    "model = create_rnn_model(hu=50,\n",
    "            features=len(data.columns),\n",
    "            layer='LSTM',\n",
    "            algorithm='classification')"
   ]
  },
  {
   "cell_type": "code",
   "execution_count": 126,
   "metadata": {},
   "outputs": [],
   "source": [
    "train_y = np.where(train['r'] > 0, 1, 0)"
   ]
  },
  {
   "cell_type": "code",
   "execution_count": 127,
   "metadata": {},
   "outputs": [
    {
     "data": {
      "text/plain": [
       "array([41868, 38115], dtype=int64)"
      ]
     },
     "execution_count": 127,
     "metadata": {},
     "output_type": "execute_result"
    }
   ],
   "source": [
    "np.bincount(train_y)"
   ]
  },
  {
   "cell_type": "code",
   "execution_count": 128,
   "metadata": {},
   "outputs": [],
   "source": [
    "def cw(a):\n",
    "    c0, c1 = np.bincount(a)\n",
    "    w0 = (1 / c0) * (len(a)) / 2\n",
    "    w1 = (1 / c1) * (len(a)) / 2\n",
    "    return {0: w0, 1: w1}"
   ]
  },
  {
   "cell_type": "code",
   "execution_count": 129,
   "metadata": {},
   "outputs": [],
   "source": [
    "g = TimeseriesGenerator(train.values, train_y,\n",
    "                        length=lags, batch_size=5)"
   ]
  },
  {
   "cell_type": "code",
   "execution_count": 130,
   "metadata": {},
   "outputs": [
    {
     "name": "stdout",
     "output_type": "stream",
     "text": [
      "CPU times: total: 4.06 s\n",
      "Wall time: 3.09 s\n"
     ]
    },
    {
     "data": {
      "text/plain": [
       "<keras.callbacks.History at 0x198f00ff580>"
      ]
     },
     "execution_count": 130,
     "metadata": {},
     "output_type": "execute_result"
    }
   ],
   "source": [
    "%%time\n",
    "model.fit(g, epochs=5, steps_per_epoch=10,\n",
    "          verbose=False, class_weight=cw(train_y))"
   ]
  },
  {
   "cell_type": "code",
   "execution_count": 131,
   "metadata": {},
   "outputs": [],
   "source": [
    "test_y = np.where(test['r'] > 0, 1, 0)"
   ]
  },
  {
   "cell_type": "code",
   "execution_count": 132,
   "metadata": {},
   "outputs": [],
   "source": [
    "g_ = TimeseriesGenerator(test.values, test_y,\n",
    "                         length=lags, batch_size=5)"
   ]
  },
  {
   "cell_type": "code",
   "execution_count": 133,
   "metadata": {},
   "outputs": [],
   "source": [
    "y = np.where(model.predict(g_, batch_size=None) > 0.5,\n",
    "             1, 0).flatten()"
   ]
  },
  {
   "cell_type": "code",
   "execution_count": 134,
   "metadata": {},
   "outputs": [
    {
     "data": {
      "text/plain": [
       "array([19251,   740], dtype=int64)"
      ]
     },
     "execution_count": 134,
     "metadata": {},
     "output_type": "execute_result"
    }
   ],
   "source": [
    "np.bincount(y)"
   ]
  },
  {
   "cell_type": "code",
   "execution_count": 135,
   "metadata": {},
   "outputs": [
    {
     "data": {
      "text/plain": [
       "0.5231354109349207"
      ]
     },
     "execution_count": 135,
     "metadata": {},
     "output_type": "execute_result"
    }
   ],
   "source": [
    "accuracy_score(test_y[lags:], y)"
   ]
  },
  {
   "cell_type": "markdown",
   "metadata": {},
   "source": [
    "### Deep RNNs"
   ]
  },
  {
   "cell_type": "code",
   "execution_count": 136,
   "metadata": {},
   "outputs": [],
   "source": [
    "from keras.layers import Dropout"
   ]
  },
  {
   "cell_type": "code",
   "execution_count": 137,
   "metadata": {},
   "outputs": [],
   "source": [
    "def create_deep_rnn_model(hl=2, hu=100, layer='SimpleRNN',\n",
    "                          optimizer='rmsprop', features=1,\n",
    "                          dropout=False, rate=0.3, seed=100):\n",
    "    if hl <= 2: hl = 2\n",
    "    if layer == 'SimpleRNN':\n",
    "        layer = SimpleRNN\n",
    "    else:\n",
    "        layer = LSTM\n",
    "    model = Sequential()\n",
    "    model.add(layer(hu, input_shape=(lags, features),\n",
    "                     return_sequences=True,\n",
    "                    ))\n",
    "    if dropout:\n",
    "        model.add(Dropout(rate, seed=seed))\n",
    "    for _ in range(2, hl):\n",
    "        model.add(layer(hu, return_sequences=True))\n",
    "        if dropout:\n",
    "            model.add(Dropout(rate, seed=seed))\n",
    "    model.add(layer(hu))\n",
    "    model.add(Dense(1, activation='sigmoid'))\n",
    "    model.compile(optimizer=optimizer,\n",
    "                  loss='binary_crossentropy',\n",
    "                  metrics=['accuracy'])\n",
    "    return model"
   ]
  },
  {
   "cell_type": "code",
   "execution_count": 144,
   "metadata": {},
   "outputs": [],
   "source": [
    "set_seeds()\n",
    "model = create_deep_rnn_model(\n",
    "            hl=2, hu=50, layer='LSTM',\n",
    "            features=len(data.columns),\n",
    "            dropout=True, rate=0.3)"
   ]
  },
  {
   "cell_type": "code",
   "execution_count": 145,
   "metadata": {},
   "outputs": [
    {
     "name": "stdout",
     "output_type": "stream",
     "text": [
      "Model: \"sequential_8\"\n",
      "_________________________________________________________________\n",
      "Layer (type)                 Output Shape              Param #   \n",
      "=================================================================\n",
      "lstm_1 (LSTM)                (None, 5, 50)             11000     \n",
      "_________________________________________________________________\n",
      "dropout_1 (Dropout)          (None, 5, 50)             0         \n",
      "_________________________________________________________________\n",
      "lstm_2 (LSTM)                (None, 50)                20200     \n",
      "_________________________________________________________________\n",
      "dense_8 (Dense)              (None, 1)                 51        \n",
      "=================================================================\n",
      "Total params: 31,251\n",
      "Trainable params: 31,251\n",
      "Non-trainable params: 0\n",
      "_________________________________________________________________\n"
     ]
    }
   ],
   "source": [
    "model.summary()"
   ]
  },
  {
   "cell_type": "code",
   "execution_count": 146,
   "metadata": {},
   "outputs": [
    {
     "name": "stdout",
     "output_type": "stream",
     "text": [
      "CPU times: total: 50.5 s\n",
      "Wall time: 47.2 s\n"
     ]
    },
    {
     "data": {
      "text/plain": [
       "<keras.callbacks.History at 0x198f5fbc610>"
      ]
     },
     "execution_count": 146,
     "metadata": {},
     "output_type": "execute_result"
    }
   ],
   "source": [
    "%%time\n",
    "model.fit(g, epochs=200, steps_per_epoch=10,\n",
    "          verbose=False, class_weight=cw(train_y))"
   ]
  },
  {
   "cell_type": "code",
   "execution_count": 147,
   "metadata": {},
   "outputs": [
    {
     "name": "stdout",
     "output_type": "stream",
     "text": [
      "CPU times: total: 19.5 s\n",
      "Wall time: 15.5 s\n"
     ]
    }
   ],
   "source": [
    "%%time\n",
    "y = np.where(model.predict(g_, batch_size=None) > 0.5,\n",
    "             1, 0).flatten()"
   ]
  },
  {
   "cell_type": "code",
   "execution_count": 148,
   "metadata": {},
   "outputs": [
    {
     "data": {
      "text/plain": [
       "array([ 8611, 11380], dtype=int64)"
      ]
     },
     "execution_count": 148,
     "metadata": {},
     "output_type": "execute_result"
    }
   ],
   "source": [
    "np.bincount(y)"
   ]
  },
  {
   "cell_type": "code",
   "execution_count": 149,
   "metadata": {},
   "outputs": [
    {
     "data": {
      "text/plain": [
       "0.5020259116602471"
      ]
     },
     "execution_count": 149,
     "metadata": {},
     "output_type": "execute_result"
    }
   ],
   "source": [
    "accuracy_score(test_y[lags:], y)"
   ]
  },
  {
   "cell_type": "code",
   "execution_count": 150,
   "metadata": {},
   "outputs": [
    {
     "data": {
      "text/plain": [
       "(array([[[-0.4498,  0.8163,  0.8924,  1.1612],\n",
       "         [-0.4442,  0.5708,  0.7235,  1.125 ],\n",
       "         [-0.4418,  0.2438,  1.1543,  1.0123],\n",
       "         [-0.449 , -0.7368,  0.237 ,  0.6883],\n",
       "         [-0.445 ,  0.4073,  0.0687,  0.6454]],\n",
       " \n",
       "        [[-0.4442,  0.5708,  0.7235,  1.125 ],\n",
       "         [-0.4418,  0.2438,  1.1543,  1.0123],\n",
       "         [-0.449 , -0.7368,  0.237 ,  0.6883],\n",
       "         [-0.445 ,  0.4073,  0.0687,  0.6454],\n",
       "         [-0.4378,  0.734 , -0.4356,  0.2873]],\n",
       " \n",
       "        [[-0.4418,  0.2438,  1.1543,  1.0123],\n",
       "         [-0.449 , -0.7368,  0.237 ,  0.6883],\n",
       "         [-0.445 ,  0.4073,  0.0687,  0.6454],\n",
       "         [-0.4378,  0.734 , -0.4356,  0.2873],\n",
       "         [-0.4426, -0.4915, -0.5664,  0.2925]],\n",
       " \n",
       "        [[-0.449 , -0.7368,  0.237 ,  0.6883],\n",
       "         [-0.445 ,  0.4073,  0.0687,  0.6454],\n",
       "         [-0.4378,  0.734 , -0.4356,  0.2873],\n",
       "         [-0.4426, -0.4915, -0.5664,  0.2925],\n",
       "         [-0.4418,  0.0804, -0.1929,  0.1882]],\n",
       " \n",
       "        [[-0.445 ,  0.4073,  0.0687,  0.6454],\n",
       "         [-0.4378,  0.734 , -0.4356,  0.2873],\n",
       "         [-0.4426, -0.4915, -0.5664,  0.2925],\n",
       "         [-0.4418,  0.0804, -0.1929,  0.1882],\n",
       "         [-0.4043,  3.8345,  1.0209,  0.6956]]]),\n",
       " array([1, 0, 1, 1, 0]))"
      ]
     },
     "execution_count": 150,
     "metadata": {},
     "output_type": "execute_result"
    }
   ],
   "source": [
    "list(g)[0]"
   ]
  },
  {
   "cell_type": "code",
   "execution_count": null,
   "metadata": {},
   "outputs": [],
   "source": []
  },
  {
   "cell_type": "markdown",
   "metadata": {},
   "source": [
    "<img src='http://hilpisch.com/taim_logo.png' width=\"350px\" align=\"right\">\n",
    "\n",
    "<br><br><br><a href=\"http://tpq.io\" target=\"_blank\">http://tpq.io</a> | <a href=\"http://twitter.com/dyjh\" target=\"_blank\">@dyjh</a> | <a href=\"mailto:ai@tpq.io\">ai@tpq.io</a>"
   ]
  }
 ],
 "metadata": {
  "kernelspec": {
   "display_name": "Python 3 (ipykernel)",
   "language": "python",
   "name": "python3"
  },
  "language_info": {
   "codemirror_mode": {
    "name": "ipython",
    "version": 3
   },
   "file_extension": ".py",
   "mimetype": "text/x-python",
   "name": "python",
   "nbconvert_exporter": "python",
   "pygments_lexer": "ipython3",
   "version": "3.9.16"
  }
 },
 "nbformat": 4,
 "nbformat_minor": 4
}
