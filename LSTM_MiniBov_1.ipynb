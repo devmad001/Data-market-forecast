{
 "cells": [
  {
   "cell_type": "markdown",
   "id": "fec41da7",
   "metadata": {
    "heading_collapsed": true
   },
   "source": [
    "# Projeto - Previsão da Cotação do Minibovesp\n",
    "Projeto de previsão da cotação do contrato mini do Indice Bovespa."
   ]
  },
  {
   "cell_type": "markdown",
   "id": "b342cfa6",
   "metadata": {
    "hidden": true
   },
   "source": [
    "Neste projeto vamos buscar prever a cotação do mini contrato do indice Ibovespa afim de extrair a ineficiencia de mercado e auxiliar a tomada de decisão pro investidor."
   ]
  },
  {
   "cell_type": "markdown",
   "id": "55ccb784",
   "metadata": {
    "heading_collapsed": true
   },
   "source": [
    "# Bibliotecas e Dados\n",
    "Vamos importar todas as que serão necessárias para a realização integral do projeto e iremos carregar nossos dados brutos."
   ]
  },
  {
   "cell_type": "markdown",
   "id": "a350810b",
   "metadata": {
    "heading_collapsed": true,
    "hidden": true
   },
   "source": [
    "## Bibliotecas"
   ]
  },
  {
   "cell_type": "code",
   "execution_count": null,
   "id": "2c9535d8",
   "metadata": {
    "hidden": true
   },
   "outputs": [],
   "source": [
    "import numpy as np\n",
    "import matplotlib.pyplot as plt\n",
    "import tensorflow as tf\n",
    "import pandas as pd\n",
    "import random as rn\n",
    "keras = tf.keras"
   ]
  },
  {
   "cell_type": "markdown",
   "id": "dde1d43a",
   "metadata": {
    "heading_collapsed": true,
    "hidden": true
   },
   "source": [
    "### Vamos definir os parametros de algumas biblitecas.\n",
    "Iremos definir as sementes de aleatóriedades para que nosso projeto possa ser testo e garantir que os resultados sejam reproduzidos para fim de avaliação."
   ]
  },
  {
   "cell_type": "code",
   "execution_count": 2,
   "id": "e927a50a",
   "metadata": {
    "hidden": true
   },
   "outputs": [],
   "source": [
    "np.random.seed(42)\n",
    "rn.seed(42)\n",
    "tf.random.set_seed(42)"
   ]
  },
  {
   "cell_type": "markdown",
   "id": "9db77c97",
   "metadata": {
    "heading_collapsed": true,
    "hidden": true
   },
   "source": [
    "### Vamos verificar se a biblioteca Tensorflow usará a GPU\n",
    "Teste simples para garantirmos que treinamento seja otimizado utilizando a GPU para processamento."
   ]
  },
  {
   "cell_type": "code",
   "execution_count": 3,
   "id": "f55bcd12",
   "metadata": {
    "hidden": true,
    "scrolled": true
   },
   "outputs": [
    {
     "data": {
      "text/plain": [
       "True"
      ]
     },
     "execution_count": 3,
     "metadata": {},
     "output_type": "execute_result"
    }
   ],
   "source": [
    "tf.test.is_built_with_cuda()"
   ]
  },
  {
   "cell_type": "markdown",
   "id": "11860051",
   "metadata": {
    "heading_collapsed": true,
    "hidden": true
   },
   "source": [
    "## Dados\n",
    "Os dados aqui foram disponibilizados pela B3 através de uma corretora. Os dados foram extraidos e organizadospreviamente  conforme o vencimento dos contratos de liquidação previamente. Aqui focarmos exclusivamente na utilização dos dados brutos que foram obtidos anteriormente."
   ]
  },
  {
   "cell_type": "markdown",
   "id": "4c2911ca",
   "metadata": {
    "heading_collapsed": true,
    "hidden": true
   },
   "source": [
    "### WINN\n",
    "Dados tabulares referente aos todos contratos anteriores aos ultimos dois contratos."
   ]
  },
  {
   "cell_type": "code",
   "execution_count": 4,
   "id": "597e75b8",
   "metadata": {
    "hidden": true
   },
   "outputs": [],
   "source": [
    "path_winn = r'C:\\Users\\adria\\1Python\\Meu_novo_projeto\\WIN_N_1K\\WIN_N_1k.csv'\n",
    "winn = pd.read_csv(path_winn, index_col=0, parse_dates=True)"
   ]
  },
  {
   "cell_type": "markdown",
   "id": "8823f8a0",
   "metadata": {
    "heading_collapsed": true,
    "hidden": true
   },
   "source": [
    "### WING\n",
    "Ultimo contrato com vencimento fechado. Neste caso vamos usar o WING23"
   ]
  },
  {
   "cell_type": "code",
   "execution_count": 5,
   "id": "0fc4cc69",
   "metadata": {
    "hidden": true
   },
   "outputs": [],
   "source": [
    "path_wing = r'C:\\Users\\adria\\1Python\\Meu_novo_projeto\\WING23\\WING23.csv'\n",
    "wing = pd.read_csv(path_wing, index_col=0, parse_dates=True)"
   ]
  },
  {
   "cell_type": "markdown",
   "id": "952f1b44",
   "metadata": {
    "heading_collapsed": true,
    "hidden": true
   },
   "source": [
    "### WINJ\n",
    "Atual contrato com vencimento aberto. Neste caso vamos usar o WINJ23"
   ]
  },
  {
   "cell_type": "code",
   "execution_count": 6,
   "id": "16c0a84a",
   "metadata": {
    "hidden": true
   },
   "outputs": [],
   "source": [
    "path_winj = r'C:\\Users\\adria\\1Python\\Meu_novo_projeto\\WINJ23\\WINJ23.csv'\n",
    "winj = pd.read_csv(path_winj, index_col=0, parse_dates=True)"
   ]
  },
  {
   "cell_type": "markdown",
   "id": "eb0e030d",
   "metadata": {
    "heading_collapsed": true
   },
   "source": [
    "# Transformação dos recursos e Tratamento dos Dados\n",
    "Iremos transformar os dados para que fique em um formato que possa ser utilizado como recursos em nosso modelo"
   ]
  },
  {
   "cell_type": "markdown",
   "id": "991a5269",
   "metadata": {
    "heading_collapsed": true,
    "hidden": true
   },
   "source": [
    "## Enriquecimento de dados\n",
    "Adicionaremos um novo recurso (coluna) nos dados para enriquecer a base. Esse novo recurso enquirecedor de nome 'hl' será a média aritimética entre o valor máximo do periodo, o valor minimo, e duas vezes o valor do fechamento.\n",
    "Também adicionaremos a coluna 'mvhl' que será a média móvel de dois periodos da coluna 'hl'.\n",
    "Esses recursos serão adicionados para diminuir o ruido dos preços e podermos captar melhor o sinal de direção do mercado."
   ]
  },
  {
   "cell_type": "code",
   "execution_count": null,
   "id": "e6cb5771",
   "metadata": {
    "hidden": true
   },
   "outputs": [],
   "source": [
    "winn['hl'] = (winn['high'] + winn['low'] + winn['close'] + winn['close']) / 4\n",
    "lag = 2\n",
    "winn['mvhl'] = winn['hl'].rolling(lag).mean()"
   ]
  },
  {
   "cell_type": "markdown",
   "id": "a74a1290",
   "metadata": {
    "heading_collapsed": true,
    "hidden": true
   },
   "source": [
    "### Enriquecimento de dados por limpeza\n",
    "Vamos retirar os dados que não serão usados para nossa analise."
   ]
  },
  {
   "cell_type": "code",
   "execution_count": null,
   "id": "b62aa193",
   "metadata": {
    "hidden": true
   },
   "outputs": [],
   "source": [
    "winn = winn.drop(['open', 'tick_volume','real_volume'], axis=1)"
   ]
  },
  {
   "cell_type": "code",
   "execution_count": null,
   "id": "0f27f7d1",
   "metadata": {
    "hidden": true
   },
   "outputs": [],
   "source": [
    "Removendo dados faltantes"
   ]
  },
  {
   "cell_type": "code",
   "execution_count": null,
   "id": "7c43f8da",
   "metadata": {
    "hidden": true
   },
   "outputs": [],
   "source": [
    "train = winn.dropna()"
   ]
  },
  {
   "cell_type": "markdown",
   "id": "74d0499a",
   "metadata": {
    "hidden": true
   },
   "source": [
    "Iremos criar uma base sem qualquer dado faltante com o nome 'train'. Essa nova base será utilizada para treinamento de nosso modelo."
   ]
  },
  {
   "cell_type": "markdown",
   "id": "c7390326",
   "metadata": {
    "heading_collapsed": true,
    "hidden": true
   },
   "source": [
    "### Escala dos dados\n",
    "Todos os dados já se encontram em valores númericos do tipo float e serão ajustados em uma escala de Minimo e máximo para que sejam melhor aproveitado no treinamento."
   ]
  },
  {
   "cell_type": "code",
   "execution_count": 7,
   "id": "84a9b9c6",
   "metadata": {
    "hidden": true
   },
   "outputs": [],
   "source": [
    "from sklearn.preprocessing import MinMaxScaler\n",
    "scaler = MinMaxScaler()\n",
    "\n",
    "train = scaler.fit_transform(train)"
   ]
  },
  {
   "cell_type": "markdown",
   "id": "89bec51c",
   "metadata": {
    "heading_collapsed": true,
    "hidden": true
   },
   "source": [
    "### Validacao\n",
    "Série temporal referente à serie historica recente contrato wing"
   ]
  },
  {
   "cell_type": "code",
   "execution_count": 12,
   "id": "6458c578",
   "metadata": {
    "hidden": true
   },
   "outputs": [],
   "source": [
    "wing['hl'] = (wing['high'] + wing['low'] + wing['close'] + wing['close']) / 4\n",
    "wing['mvhl'] = wing['hl'].rolling(lag).mean()"
   ]
  },
  {
   "cell_type": "code",
   "execution_count": 13,
   "id": "569f77f6",
   "metadata": {
    "hidden": true
   },
   "outputs": [],
   "source": [
    "wing = wing.drop(['open', 'tick_volume','real_volume'], axis=1)"
   ]
  },
  {
   "cell_type": "code",
   "execution_count": 14,
   "id": "74a06531",
   "metadata": {
    "hidden": true
   },
   "outputs": [],
   "source": [
    "valid = wing.dropna()"
   ]
  },
  {
   "cell_type": "code",
   "execution_count": 15,
   "id": "cf199330",
   "metadata": {
    "hidden": true
   },
   "outputs": [],
   "source": [
    "valid = scaler.transform(valid)"
   ]
  },
  {
   "cell_type": "markdown",
   "id": "466db068",
   "metadata": {
    "heading_collapsed": true,
    "hidden": true
   },
   "source": [
    "### Teste\n",
    "Série temporal referente à serie historica atual contrato winj"
   ]
  },
  {
   "cell_type": "code",
   "execution_count": 16,
   "id": "db02f295",
   "metadata": {
    "hidden": true
   },
   "outputs": [],
   "source": [
    "winj['hl'] = (winj['high'] + winj['low'] + winj['close'] + winj['close']) / 4\n",
    "winj['mvhl'] = winj['hl'].rolling(lag).mean()\n",
    "winj = winj.drop(['open', 'tick_volume','real_volume'], axis=1)\n",
    "test = winj.dropna()\n",
    "test = scaler.transform(test)"
   ]
  },
  {
   "cell_type": "markdown",
   "id": "a7d8ab91",
   "metadata": {
    "heading_collapsed": true
   },
   "source": [
    "# Preprocessamento\n",
    "Para o préprocessamento dos dados iremos escolher o modelo de janelas em sequência devido à baixa quantidade de amostras que temos para teste e treinamento."
   ]
  },
  {
   "cell_type": "markdown",
   "id": "571ed631",
   "metadata": {
    "hidden": true
   },
   "source": [
    "Vamos definir os parametros do nosso préprocessamento."
   ]
  },
  {
   "cell_type": "code",
   "execution_count": null,
   "id": "cc941988",
   "metadata": {
    "hidden": true
   },
   "outputs": [],
   "source": [
    "batch_size = 1\n",
    "window_size = 32\n",
    "num_inputs  = train.shape[1]\n",
    "num_targets = 3\n",
    "stride = 1\n",
    "sampling_rate=1"
   ]
  },
  {
   "cell_type": "code",
   "execution_count": 18,
   "id": "3123dcdb",
   "metadata": {
    "hidden": true
   },
   "outputs": [],
   "source": [
    "def sliding_window_sequence(data, window_size, num_inputs, num_targets, stride, batch_size, sampling_rate=1):\n",
    "\n",
    "    num_examples = (len(data) - window_size) // stride\n",
    "    num_batches = num_examples // batch_size\n",
    "    inputs = np.zeros((num_examples, window_size, num_inputs))\n",
    "    targets = np.zeros((num_examples, num_targets))\n",
    "    \n",
    "    for i in range(num_examples):\n",
    "        idx = i * stride\n",
    "        inputs[i] = data[idx : idx+window_size : sampling_rate, :num_inputs]\n",
    "        targets[i] = data[idx+window_size : idx+window_size+num_targets, -1]\n",
    "    \n",
    "    batch_inputs = np.zeros((batch_size, window_size, num_inputs))\n",
    "    batch_targets = np.zeros((batch_size, num_targets))\n",
    "    while True:\n",
    "        for b in range(num_batches):\n",
    "            batch_start = b * batch_size\n",
    "            batch_inputs = inputs[batch_start:batch_start+batch_size]\n",
    "            batch_targets = targets[batch_start:batch_start+batch_size]\n",
    "            yield batch_inputs, batch_targets"
   ]
  },
  {
   "cell_type": "markdown",
   "id": "f3807bde",
   "metadata": {
    "hidden": true
   },
   "source": [
    " def sliding_window_sequence(data, window_size, num_inputs, num_targets, stride, batch_size, sampling_rate=1):\n",
    "    # Calcula o número total de exemplos que podem ser gerados usando a janela de tamanho fixo\n",
    "    num_examples = (len(data) - window_size) // stride\n",
    "    \n",
    "    # Calcula o número de lotes (batches) que podem ser gerados\n",
    "    num_batches = num_examples // batch_size\n",
    "    \n",
    "    # Cria matrizes numpy para armazenar inputs e targets\n",
    "    inputs = np.zeros((num_examples, window_size, num_inputs))\n",
    "    targets = np.zeros((num_examples, num_targets))\n",
    "    \n",
    "    # Loop através de cada exemplo e armazena-os nas matrizes inputs e targets\n",
    "    for i in range(num_examples):\n",
    "        idx = i * stride  # Calcula o índice inicial do exemplo atual\n",
    "        # Extrai a sequência de entrada do exemplo atual e armazena em inputs\n",
    "        inputs[i] = data[idx : idx+window_size : sampling_rate, :num_inputs]\n",
    "        # Extrai a sequência de targets do exemplo atual e armazena em targets\n",
    "        targets[i] = data[idx+window_size : idx+window_size+num_targets, -1]\n",
    "        #targets[i] = data[idx+window_size : idx+window_size+num_targets, :num_inputs] # todos os valores das linhas\n",
    "    \n",
    "    # Cria matrizes numpy para armazenar os inputs e targets de cada batch\n",
    "    batch_inputs = np.zeros((batch_size, window_size, num_inputs))\n",
    "    batch_targets = np.zeros((batch_size, num_targets))\n",
    "    \n",
    "    # Loop infinito para gerar batches de dados\n",
    "    while True:\n",
    "        # Loop através de cada batch\n",
    "        for b in range(num_batches):\n",
    "            batch_start = b * batch_size  # Calcula o índice inicial do batch atual\n",
    "            # Extrai os inputs do batch atual a partir da matriz inputs\n",
    "            batch_inputs = inputs[batch_start:batch_start+batch_size]\n",
    "            # Extrai os targets do batch atual a partir da matriz targets\n",
    "            batch_targets = targets[batch_start:batch_start+batch_size]\n",
    "            # Gera um batch de dados contendo inputs e targets\n",
    "            yield batch_inputs, batch_targets\n"
   ]
  },
  {
   "cell_type": "code",
   "execution_count": 19,
   "id": "436765cf",
   "metadata": {
    "hidden": true
   },
   "outputs": [],
   "source": [
    "train_set = sliding_window_sequence(train, window_size=window_size, num_inputs=num_inputs, num_targets=num_targets, stride=stride, batch_size=batch_size, sampling_rate=sampling_rate)\n",
    "valid_set = sliding_window_sequence(valid, window_size=window_size, num_inputs=num_inputs, num_targets=num_targets, stride=stride, batch_size=batch_size, sampling_rate=sampling_rate)\n",
    "test_set = sliding_window_sequence(test, window_size=window_size, num_inputs=num_inputs, num_targets=num_targets, stride=stride, batch_size=batch_size, sampling_rate=sampling_rate)"
   ]
  },
  {
   "cell_type": "markdown",
   "id": "1e6a83a7",
   "metadata": {
    "heading_collapsed": true
   },
   "source": [
    "# Treino e Avaliações\n",
    "Para conseguirmos realizar previsões vamos utilizar um rede neural recorrente do tipo LSTM (Long Short-Term Memory)"
   ]
  },
  {
   "cell_type": "markdown",
   "id": "5b1ce1d0",
   "metadata": {
    "hidden": true
   },
   "source": [
    "Numero de recursos que serão utilizados para treino."
   ]
  },
  {
   "cell_type": "code",
   "execution_count": 20,
   "id": "ae7ae995",
   "metadata": {
    "hidden": true,
    "scrolled": true
   },
   "outputs": [
    {
     "data": {
      "text/plain": [
       "5"
      ]
     },
     "execution_count": 20,
     "metadata": {},
     "output_type": "execute_result"
    }
   ],
   "source": [
    "num_inputs"
   ]
  },
  {
   "cell_type": "markdown",
   "id": "8e6d1879",
   "metadata": {
    "hidden": true
   },
   "source": [
    "Modelo para treinamento"
   ]
  },
  {
   "cell_type": "code",
   "execution_count": 32,
   "id": "31a3eaec",
   "metadata": {
    "hidden": true,
    "scrolled": true
   },
   "outputs": [
    {
     "name": "stdout",
     "output_type": "stream",
     "text": [
      "Epoch 1/500\n",
      "781/781 [==============================] - 32s 36ms/step - loss: 0.0057 - mse: 0.0015 - val_loss: 0.0034 - val_mse: 2.1688e-04\n"
     ]
    },
    {
     "name": "stderr",
     "output_type": "stream",
     "text": [
      "WARNING:absl:Found untraced functions such as lstm_cell_5_layer_call_and_return_conditional_losses, lstm_cell_5_layer_call_fn, lstm_cell_6_layer_call_and_return_conditional_losses, lstm_cell_6_layer_call_fn, lstm_cell_5_layer_call_fn while saving (showing 5 of 10). These functions will not be directly callable after loading.\n"
     ]
    },
    {
     "name": "stdout",
     "output_type": "stream",
     "text": [
      "INFO:tensorflow:Assets written to: s2s_LSTM_256TimeD_43\\assets\n"
     ]
    },
    {
     "name": "stderr",
     "output_type": "stream",
     "text": [
      "INFO:tensorflow:Assets written to: s2s_LSTM_256TimeD_43\\assets\n"
     ]
    },
    {
     "name": "stdout",
     "output_type": "stream",
     "text": [
      "Epoch 2/500\n",
      "781/781 [==============================] - 28s 35ms/step - loss: 0.0027 - mse: 3.3420e-04 - val_loss: 0.0022 - val_mse: 3.1777e-04\n"
     ]
    },
    {
     "name": "stderr",
     "output_type": "stream",
     "text": [
      "WARNING:absl:Found untraced functions such as lstm_cell_5_layer_call_and_return_conditional_losses, lstm_cell_5_layer_call_fn, lstm_cell_6_layer_call_and_return_conditional_losses, lstm_cell_6_layer_call_fn, lstm_cell_5_layer_call_fn while saving (showing 5 of 10). These functions will not be directly callable after loading.\n"
     ]
    },
    {
     "name": "stdout",
     "output_type": "stream",
     "text": [
      "INFO:tensorflow:Assets written to: s2s_LSTM_256TimeD_43\\assets\n"
     ]
    },
    {
     "name": "stderr",
     "output_type": "stream",
     "text": [
      "INFO:tensorflow:Assets written to: s2s_LSTM_256TimeD_43\\assets\n"
     ]
    },
    {
     "name": "stdout",
     "output_type": "stream",
     "text": [
      "Epoch 3/500\n",
      "781/781 [==============================] - 29s 37ms/step - loss: 0.0021 - mse: 6.3795e-04 - val_loss: 0.0020 - val_mse: 8.2754e-04\n"
     ]
    },
    {
     "name": "stderr",
     "output_type": "stream",
     "text": [
      "WARNING:absl:Found untraced functions such as lstm_cell_5_layer_call_and_return_conditional_losses, lstm_cell_5_layer_call_fn, lstm_cell_6_layer_call_and_return_conditional_losses, lstm_cell_6_layer_call_fn, lstm_cell_5_layer_call_fn while saving (showing 5 of 10). These functions will not be directly callable after loading.\n"
     ]
    },
    {
     "name": "stdout",
     "output_type": "stream",
     "text": [
      "INFO:tensorflow:Assets written to: s2s_LSTM_256TimeD_43\\assets\n"
     ]
    },
    {
     "name": "stderr",
     "output_type": "stream",
     "text": [
      "INFO:tensorflow:Assets written to: s2s_LSTM_256TimeD_43\\assets\n"
     ]
    },
    {
     "name": "stdout",
     "output_type": "stream",
     "text": [
      "Epoch 4/500\n",
      "781/781 [==============================] - 29s 36ms/step - loss: 0.0021 - mse: 0.0015 - val_loss: 0.0018 - val_mse: 0.0011\n"
     ]
    },
    {
     "name": "stderr",
     "output_type": "stream",
     "text": [
      "WARNING:absl:Found untraced functions such as lstm_cell_5_layer_call_and_return_conditional_losses, lstm_cell_5_layer_call_fn, lstm_cell_6_layer_call_and_return_conditional_losses, lstm_cell_6_layer_call_fn, lstm_cell_5_layer_call_fn while saving (showing 5 of 10). These functions will not be directly callable after loading.\n"
     ]
    },
    {
     "name": "stdout",
     "output_type": "stream",
     "text": [
      "INFO:tensorflow:Assets written to: s2s_LSTM_256TimeD_43\\assets\n"
     ]
    },
    {
     "name": "stderr",
     "output_type": "stream",
     "text": [
      "INFO:tensorflow:Assets written to: s2s_LSTM_256TimeD_43\\assets\n"
     ]
    },
    {
     "name": "stdout",
     "output_type": "stream",
     "text": [
      "Epoch 5/500\n",
      "781/781 [==============================] - 29s 36ms/step - loss: 0.0020 - mse: 0.0018 - val_loss: 0.0015 - val_mse: 9.6027e-04\n"
     ]
    },
    {
     "name": "stderr",
     "output_type": "stream",
     "text": [
      "WARNING:absl:Found untraced functions such as lstm_cell_5_layer_call_and_return_conditional_losses, lstm_cell_5_layer_call_fn, lstm_cell_6_layer_call_and_return_conditional_losses, lstm_cell_6_layer_call_fn, lstm_cell_5_layer_call_fn while saving (showing 5 of 10). These functions will not be directly callable after loading.\n"
     ]
    },
    {
     "name": "stdout",
     "output_type": "stream",
     "text": [
      "INFO:tensorflow:Assets written to: s2s_LSTM_256TimeD_43\\assets\n"
     ]
    },
    {
     "name": "stderr",
     "output_type": "stream",
     "text": [
      "INFO:tensorflow:Assets written to: s2s_LSTM_256TimeD_43\\assets\n"
     ]
    },
    {
     "name": "stdout",
     "output_type": "stream",
     "text": [
      "Epoch 6/500\n",
      "781/781 [==============================] - 29s 37ms/step - loss: 0.0015 - mse: 0.0012 - val_loss: 0.0012 - val_mse: 6.2605e-04\n"
     ]
    },
    {
     "name": "stderr",
     "output_type": "stream",
     "text": [
      "WARNING:absl:Found untraced functions such as lstm_cell_5_layer_call_and_return_conditional_losses, lstm_cell_5_layer_call_fn, lstm_cell_6_layer_call_and_return_conditional_losses, lstm_cell_6_layer_call_fn, lstm_cell_5_layer_call_fn while saving (showing 5 of 10). These functions will not be directly callable after loading.\n"
     ]
    },
    {
     "name": "stdout",
     "output_type": "stream",
     "text": [
      "INFO:tensorflow:Assets written to: s2s_LSTM_256TimeD_43\\assets\n"
     ]
    },
    {
     "name": "stderr",
     "output_type": "stream",
     "text": [
      "INFO:tensorflow:Assets written to: s2s_LSTM_256TimeD_43\\assets\n"
     ]
    },
    {
     "name": "stdout",
     "output_type": "stream",
     "text": [
      "Epoch 7/500\n",
      "781/781 [==============================] - 29s 36ms/step - loss: 0.0011 - mse: 7.3380e-04 - val_loss: 9.2516e-04 - val_mse: 5.1322e-04\n"
     ]
    },
    {
     "name": "stderr",
     "output_type": "stream",
     "text": [
      "WARNING:absl:Found untraced functions such as lstm_cell_5_layer_call_and_return_conditional_losses, lstm_cell_5_layer_call_fn, lstm_cell_6_layer_call_and_return_conditional_losses, lstm_cell_6_layer_call_fn, lstm_cell_5_layer_call_fn while saving (showing 5 of 10). These functions will not be directly callable after loading.\n"
     ]
    },
    {
     "name": "stdout",
     "output_type": "stream",
     "text": [
      "INFO:tensorflow:Assets written to: s2s_LSTM_256TimeD_43\\assets\n"
     ]
    },
    {
     "name": "stderr",
     "output_type": "stream",
     "text": [
      "INFO:tensorflow:Assets written to: s2s_LSTM_256TimeD_43\\assets\n"
     ]
    },
    {
     "name": "stdout",
     "output_type": "stream",
     "text": [
      "Epoch 8/500\n",
      "781/781 [==============================] - 28s 36ms/step - loss: 8.2320e-04 - mse: 4.5821e-04 - val_loss: 8.2201e-04 - val_mse: 5.9618e-04\n"
     ]
    },
    {
     "name": "stderr",
     "output_type": "stream",
     "text": [
      "WARNING:absl:Found untraced functions such as lstm_cell_5_layer_call_and_return_conditional_losses, lstm_cell_5_layer_call_fn, lstm_cell_6_layer_call_and_return_conditional_losses, lstm_cell_6_layer_call_fn, lstm_cell_5_layer_call_fn while saving (showing 5 of 10). These functions will not be directly callable after loading.\n"
     ]
    },
    {
     "name": "stdout",
     "output_type": "stream",
     "text": [
      "INFO:tensorflow:Assets written to: s2s_LSTM_256TimeD_43\\assets\n"
     ]
    },
    {
     "name": "stderr",
     "output_type": "stream",
     "text": [
      "INFO:tensorflow:Assets written to: s2s_LSTM_256TimeD_43\\assets\n"
     ]
    },
    {
     "name": "stdout",
     "output_type": "stream",
     "text": [
      "Epoch 9/500\n",
      "781/781 [==============================] - 29s 36ms/step - loss: 6.1493e-04 - mse: 3.0570e-04 - val_loss: 7.5683e-04 - val_mse: 7.0367e-04\n"
     ]
    },
    {
     "name": "stderr",
     "output_type": "stream",
     "text": [
      "WARNING:absl:Found untraced functions such as lstm_cell_5_layer_call_and_return_conditional_losses, lstm_cell_5_layer_call_fn, lstm_cell_6_layer_call_and_return_conditional_losses, lstm_cell_6_layer_call_fn, lstm_cell_5_layer_call_fn while saving (showing 5 of 10). These functions will not be directly callable after loading.\n"
     ]
    },
    {
     "name": "stdout",
     "output_type": "stream",
     "text": [
      "INFO:tensorflow:Assets written to: s2s_LSTM_256TimeD_43\\assets\n"
     ]
    },
    {
     "name": "stderr",
     "output_type": "stream",
     "text": [
      "INFO:tensorflow:Assets written to: s2s_LSTM_256TimeD_43\\assets\n"
     ]
    },
    {
     "name": "stdout",
     "output_type": "stream",
     "text": [
      "Epoch 10/500\n",
      "781/781 [==============================] - 28s 36ms/step - loss: 4.7899e-04 - mse: 2.4330e-04 - val_loss: 7.8738e-04 - val_mse: 9.4456e-04\n",
      "Epoch 11/500\n",
      "781/781 [==============================] - 28s 36ms/step - loss: 4.4594e-04 - mse: 3.2901e-04 - val_loss: 9.0020e-04 - val_mse: 0.0013\n",
      "Epoch 12/500\n",
      "781/781 [==============================] - 29s 37ms/step - loss: 3.7756e-04 - mse: 2.9919e-04 - val_loss: 7.3795e-04 - val_mse: 0.0011\n"
     ]
    },
    {
     "name": "stderr",
     "output_type": "stream",
     "text": [
      "WARNING:absl:Found untraced functions such as lstm_cell_5_layer_call_and_return_conditional_losses, lstm_cell_5_layer_call_fn, lstm_cell_6_layer_call_and_return_conditional_losses, lstm_cell_6_layer_call_fn, lstm_cell_5_layer_call_fn while saving (showing 5 of 10). These functions will not be directly callable after loading.\n"
     ]
    },
    {
     "name": "stdout",
     "output_type": "stream",
     "text": [
      "INFO:tensorflow:Assets written to: s2s_LSTM_256TimeD_43\\assets\n"
     ]
    },
    {
     "name": "stderr",
     "output_type": "stream",
     "text": [
      "INFO:tensorflow:Assets written to: s2s_LSTM_256TimeD_43\\assets\n"
     ]
    },
    {
     "name": "stdout",
     "output_type": "stream",
     "text": [
      "Epoch 13/500\n",
      "781/781 [==============================] - 29s 36ms/step - loss: 3.2180e-04 - mse: 2.6579e-04 - val_loss: 5.6168e-04 - val_mse: 7.7681e-04\n"
     ]
    },
    {
     "name": "stderr",
     "output_type": "stream",
     "text": [
      "WARNING:absl:Found untraced functions such as lstm_cell_5_layer_call_and_return_conditional_losses, lstm_cell_5_layer_call_fn, lstm_cell_6_layer_call_and_return_conditional_losses, lstm_cell_6_layer_call_fn, lstm_cell_5_layer_call_fn while saving (showing 5 of 10). These functions will not be directly callable after loading.\n"
     ]
    },
    {
     "name": "stdout",
     "output_type": "stream",
     "text": [
      "INFO:tensorflow:Assets written to: s2s_LSTM_256TimeD_43\\assets\n"
     ]
    },
    {
     "name": "stderr",
     "output_type": "stream",
     "text": [
      "INFO:tensorflow:Assets written to: s2s_LSTM_256TimeD_43\\assets\n"
     ]
    },
    {
     "name": "stdout",
     "output_type": "stream",
     "text": [
      "Epoch 14/500\n",
      "781/781 [==============================] - 29s 36ms/step - loss: 2.7787e-04 - mse: 2.3491e-04 - val_loss: 4.4233e-04 - val_mse: 5.8610e-04\n"
     ]
    },
    {
     "name": "stderr",
     "output_type": "stream",
     "text": [
      "WARNING:absl:Found untraced functions such as lstm_cell_5_layer_call_and_return_conditional_losses, lstm_cell_5_layer_call_fn, lstm_cell_6_layer_call_and_return_conditional_losses, lstm_cell_6_layer_call_fn, lstm_cell_5_layer_call_fn while saving (showing 5 of 10). These functions will not be directly callable after loading.\n"
     ]
    },
    {
     "name": "stdout",
     "output_type": "stream",
     "text": [
      "INFO:tensorflow:Assets written to: s2s_LSTM_256TimeD_43\\assets\n"
     ]
    },
    {
     "name": "stderr",
     "output_type": "stream",
     "text": [
      "INFO:tensorflow:Assets written to: s2s_LSTM_256TimeD_43\\assets\n"
     ]
    },
    {
     "name": "stdout",
     "output_type": "stream",
     "text": [
      "Epoch 15/500\n",
      "781/781 [==============================] - 29s 36ms/step - loss: 2.7003e-04 - mse: 2.5981e-04 - val_loss: 3.5764e-04 - val_mse: 4.5139e-04\n"
     ]
    },
    {
     "name": "stderr",
     "output_type": "stream",
     "text": [
      "WARNING:absl:Found untraced functions such as lstm_cell_5_layer_call_and_return_conditional_losses, lstm_cell_5_layer_call_fn, lstm_cell_6_layer_call_and_return_conditional_losses, lstm_cell_6_layer_call_fn, lstm_cell_5_layer_call_fn while saving (showing 5 of 10). These functions will not be directly callable after loading.\n"
     ]
    },
    {
     "name": "stdout",
     "output_type": "stream",
     "text": [
      "INFO:tensorflow:Assets written to: s2s_LSTM_256TimeD_43\\assets\n"
     ]
    },
    {
     "name": "stderr",
     "output_type": "stream",
     "text": [
      "INFO:tensorflow:Assets written to: s2s_LSTM_256TimeD_43\\assets\n"
     ]
    },
    {
     "name": "stdout",
     "output_type": "stream",
     "text": [
      "Epoch 16/500\n",
      "781/781 [==============================] - 28s 36ms/step - loss: 2.3847e-04 - mse: 2.2772e-04 - val_loss: 2.6592e-04 - val_mse: 2.9621e-04\n"
     ]
    },
    {
     "name": "stderr",
     "output_type": "stream",
     "text": [
      "WARNING:absl:Found untraced functions such as lstm_cell_5_layer_call_and_return_conditional_losses, lstm_cell_5_layer_call_fn, lstm_cell_6_layer_call_and_return_conditional_losses, lstm_cell_6_layer_call_fn, lstm_cell_5_layer_call_fn while saving (showing 5 of 10). These functions will not be directly callable after loading.\n"
     ]
    },
    {
     "name": "stdout",
     "output_type": "stream",
     "text": [
      "INFO:tensorflow:Assets written to: s2s_LSTM_256TimeD_43\\assets\n"
     ]
    },
    {
     "name": "stderr",
     "output_type": "stream",
     "text": [
      "INFO:tensorflow:Assets written to: s2s_LSTM_256TimeD_43\\assets\n"
     ]
    },
    {
     "name": "stdout",
     "output_type": "stream",
     "text": [
      "Epoch 17/500\n",
      "781/781 [==============================] - 28s 36ms/step - loss: 2.1836e-04 - mse: 2.1330e-04 - val_loss: 2.2427e-04 - val_mse: 2.3666e-04\n"
     ]
    },
    {
     "name": "stderr",
     "output_type": "stream",
     "text": [
      "WARNING:absl:Found untraced functions such as lstm_cell_5_layer_call_and_return_conditional_losses, lstm_cell_5_layer_call_fn, lstm_cell_6_layer_call_and_return_conditional_losses, lstm_cell_6_layer_call_fn, lstm_cell_5_layer_call_fn while saving (showing 5 of 10). These functions will not be directly callable after loading.\n"
     ]
    },
    {
     "name": "stdout",
     "output_type": "stream",
     "text": [
      "INFO:tensorflow:Assets written to: s2s_LSTM_256TimeD_43\\assets\n"
     ]
    },
    {
     "name": "stderr",
     "output_type": "stream",
     "text": [
      "INFO:tensorflow:Assets written to: s2s_LSTM_256TimeD_43\\assets\n"
     ]
    },
    {
     "name": "stdout",
     "output_type": "stream",
     "text": [
      "Epoch 18/500\n",
      "781/781 [==============================] - 29s 37ms/step - loss: 1.9870e-04 - mse: 1.9568e-04 - val_loss: 1.9102e-04 - val_mse: 1.9001e-04\n"
     ]
    },
    {
     "name": "stderr",
     "output_type": "stream",
     "text": [
      "WARNING:absl:Found untraced functions such as lstm_cell_5_layer_call_and_return_conditional_losses, lstm_cell_5_layer_call_fn, lstm_cell_6_layer_call_and_return_conditional_losses, lstm_cell_6_layer_call_fn, lstm_cell_5_layer_call_fn while saving (showing 5 of 10). These functions will not be directly callable after loading.\n"
     ]
    },
    {
     "name": "stdout",
     "output_type": "stream",
     "text": [
      "INFO:tensorflow:Assets written to: s2s_LSTM_256TimeD_43\\assets\n"
     ]
    },
    {
     "name": "stderr",
     "output_type": "stream",
     "text": [
      "INFO:tensorflow:Assets written to: s2s_LSTM_256TimeD_43\\assets\n"
     ]
    },
    {
     "name": "stdout",
     "output_type": "stream",
     "text": [
      "Epoch 19/500\n",
      "781/781 [==============================] - 29s 37ms/step - loss: 1.9312e-04 - mse: 2.0238e-04 - val_loss: 1.8030e-04 - val_mse: 1.8472e-04\n"
     ]
    },
    {
     "name": "stderr",
     "output_type": "stream",
     "text": [
      "WARNING:absl:Found untraced functions such as lstm_cell_5_layer_call_and_return_conditional_losses, lstm_cell_5_layer_call_fn, lstm_cell_6_layer_call_and_return_conditional_losses, lstm_cell_6_layer_call_fn, lstm_cell_5_layer_call_fn while saving (showing 5 of 10). These functions will not be directly callable after loading.\n"
     ]
    },
    {
     "name": "stdout",
     "output_type": "stream",
     "text": [
      "INFO:tensorflow:Assets written to: s2s_LSTM_256TimeD_43\\assets\n"
     ]
    },
    {
     "name": "stderr",
     "output_type": "stream",
     "text": [
      "INFO:tensorflow:Assets written to: s2s_LSTM_256TimeD_43\\assets\n"
     ]
    },
    {
     "name": "stdout",
     "output_type": "stream",
     "text": [
      "Epoch 20/500\n",
      "781/781 [==============================] - 29s 37ms/step - loss: 1.8287e-04 - mse: 1.9657e-04 - val_loss: 1.6345e-04 - val_mse: 1.6447e-04\n"
     ]
    },
    {
     "name": "stderr",
     "output_type": "stream",
     "text": [
      "WARNING:absl:Found untraced functions such as lstm_cell_5_layer_call_and_return_conditional_losses, lstm_cell_5_layer_call_fn, lstm_cell_6_layer_call_and_return_conditional_losses, lstm_cell_6_layer_call_fn, lstm_cell_5_layer_call_fn while saving (showing 5 of 10). These functions will not be directly callable after loading.\n"
     ]
    },
    {
     "name": "stdout",
     "output_type": "stream",
     "text": [
      "INFO:tensorflow:Assets written to: s2s_LSTM_256TimeD_43\\assets\n"
     ]
    },
    {
     "name": "stderr",
     "output_type": "stream",
     "text": [
      "INFO:tensorflow:Assets written to: s2s_LSTM_256TimeD_43\\assets\n"
     ]
    },
    {
     "name": "stdout",
     "output_type": "stream",
     "text": [
      "Epoch 21/500\n",
      "781/781 [==============================] - 29s 37ms/step - loss: 1.6829e-04 - mse: 1.8004e-04 - val_loss: 1.5381e-04 - val_mse: 1.5717e-04\n"
     ]
    },
    {
     "name": "stderr",
     "output_type": "stream",
     "text": [
      "WARNING:absl:Found untraced functions such as lstm_cell_5_layer_call_and_return_conditional_losses, lstm_cell_5_layer_call_fn, lstm_cell_6_layer_call_and_return_conditional_losses, lstm_cell_6_layer_call_fn, lstm_cell_5_layer_call_fn while saving (showing 5 of 10). These functions will not be directly callable after loading.\n"
     ]
    },
    {
     "name": "stdout",
     "output_type": "stream",
     "text": [
      "INFO:tensorflow:Assets written to: s2s_LSTM_256TimeD_43\\assets\n"
     ]
    },
    {
     "name": "stderr",
     "output_type": "stream",
     "text": [
      "INFO:tensorflow:Assets written to: s2s_LSTM_256TimeD_43\\assets\n"
     ]
    },
    {
     "name": "stdout",
     "output_type": "stream",
     "text": [
      "Epoch 22/500\n",
      "781/781 [==============================] - 29s 37ms/step - loss: 1.5917e-04 - mse: 1.7308e-04 - val_loss: 1.3227e-04 - val_mse: 1.2468e-04\n"
     ]
    },
    {
     "name": "stderr",
     "output_type": "stream",
     "text": [
      "WARNING:absl:Found untraced functions such as lstm_cell_5_layer_call_and_return_conditional_losses, lstm_cell_5_layer_call_fn, lstm_cell_6_layer_call_and_return_conditional_losses, lstm_cell_6_layer_call_fn, lstm_cell_5_layer_call_fn while saving (showing 5 of 10). These functions will not be directly callable after loading.\n"
     ]
    },
    {
     "name": "stdout",
     "output_type": "stream",
     "text": [
      "INFO:tensorflow:Assets written to: s2s_LSTM_256TimeD_43\\assets\n"
     ]
    },
    {
     "name": "stderr",
     "output_type": "stream",
     "text": [
      "INFO:tensorflow:Assets written to: s2s_LSTM_256TimeD_43\\assets\n"
     ]
    },
    {
     "name": "stdout",
     "output_type": "stream",
     "text": [
      "Epoch 23/500\n",
      "781/781 [==============================] - 29s 37ms/step - loss: 1.5547e-04 - mse: 1.7561e-04 - val_loss: 1.2364e-04 - val_mse: 1.1672e-04\n"
     ]
    },
    {
     "name": "stderr",
     "output_type": "stream",
     "text": [
      "WARNING:absl:Found untraced functions such as lstm_cell_5_layer_call_and_return_conditional_losses, lstm_cell_5_layer_call_fn, lstm_cell_6_layer_call_and_return_conditional_losses, lstm_cell_6_layer_call_fn, lstm_cell_5_layer_call_fn while saving (showing 5 of 10). These functions will not be directly callable after loading.\n"
     ]
    },
    {
     "name": "stdout",
     "output_type": "stream",
     "text": [
      "INFO:tensorflow:Assets written to: s2s_LSTM_256TimeD_43\\assets\n"
     ]
    },
    {
     "name": "stderr",
     "output_type": "stream",
     "text": [
      "INFO:tensorflow:Assets written to: s2s_LSTM_256TimeD_43\\assets\n"
     ]
    },
    {
     "name": "stdout",
     "output_type": "stream",
     "text": [
      "Epoch 24/500\n",
      "781/781 [==============================] - 29s 37ms/step - loss: 1.4217e-04 - mse: 1.5756e-04 - val_loss: 1.1281e-04 - val_mse: 1.0323e-04\n"
     ]
    },
    {
     "name": "stderr",
     "output_type": "stream",
     "text": [
      "WARNING:absl:Found untraced functions such as lstm_cell_5_layer_call_and_return_conditional_losses, lstm_cell_5_layer_call_fn, lstm_cell_6_layer_call_and_return_conditional_losses, lstm_cell_6_layer_call_fn, lstm_cell_5_layer_call_fn while saving (showing 5 of 10). These functions will not be directly callable after loading.\n"
     ]
    },
    {
     "name": "stdout",
     "output_type": "stream",
     "text": [
      "INFO:tensorflow:Assets written to: s2s_LSTM_256TimeD_43\\assets\n"
     ]
    },
    {
     "name": "stderr",
     "output_type": "stream",
     "text": [
      "INFO:tensorflow:Assets written to: s2s_LSTM_256TimeD_43\\assets\n"
     ]
    },
    {
     "name": "stdout",
     "output_type": "stream",
     "text": [
      "Epoch 25/500\n",
      "781/781 [==============================] - 29s 36ms/step - loss: 1.4148e-04 - mse: 1.6398e-04 - val_loss: 1.0174e-04 - val_mse: 8.8501e-05\n"
     ]
    },
    {
     "name": "stderr",
     "output_type": "stream",
     "text": [
      "WARNING:absl:Found untraced functions such as lstm_cell_5_layer_call_and_return_conditional_losses, lstm_cell_5_layer_call_fn, lstm_cell_6_layer_call_and_return_conditional_losses, lstm_cell_6_layer_call_fn, lstm_cell_5_layer_call_fn while saving (showing 5 of 10). These functions will not be directly callable after loading.\n"
     ]
    },
    {
     "name": "stdout",
     "output_type": "stream",
     "text": [
      "INFO:tensorflow:Assets written to: s2s_LSTM_256TimeD_43\\assets\n"
     ]
    },
    {
     "name": "stderr",
     "output_type": "stream",
     "text": [
      "INFO:tensorflow:Assets written to: s2s_LSTM_256TimeD_43\\assets\n"
     ]
    },
    {
     "name": "stdout",
     "output_type": "stream",
     "text": [
      "Epoch 26/500\n",
      "781/781 [==============================] - 29s 36ms/step - loss: 1.3045e-04 - mse: 1.4887e-04 - val_loss: 9.4646e-05 - val_mse: 8.0899e-05\n"
     ]
    },
    {
     "name": "stderr",
     "output_type": "stream",
     "text": [
      "WARNING:absl:Found untraced functions such as lstm_cell_5_layer_call_and_return_conditional_losses, lstm_cell_5_layer_call_fn, lstm_cell_6_layer_call_and_return_conditional_losses, lstm_cell_6_layer_call_fn, lstm_cell_5_layer_call_fn while saving (showing 5 of 10). These functions will not be directly callable after loading.\n"
     ]
    },
    {
     "name": "stdout",
     "output_type": "stream",
     "text": [
      "INFO:tensorflow:Assets written to: s2s_LSTM_256TimeD_43\\assets\n"
     ]
    },
    {
     "name": "stderr",
     "output_type": "stream",
     "text": [
      "INFO:tensorflow:Assets written to: s2s_LSTM_256TimeD_43\\assets\n"
     ]
    },
    {
     "name": "stdout",
     "output_type": "stream",
     "text": [
      "Epoch 27/500\n",
      "781/781 [==============================] - 28s 36ms/step - loss: 1.3003e-04 - mse: 1.5440e-04 - val_loss: 9.5517e-05 - val_mse: 8.8621e-05\n",
      "Epoch 28/500\n",
      "781/781 [==============================] - 29s 37ms/step - loss: 1.2115e-04 - mse: 1.4217e-04 - val_loss: 8.4471e-05 - val_mse: 7.1792e-05\n"
     ]
    },
    {
     "name": "stderr",
     "output_type": "stream",
     "text": [
      "WARNING:absl:Found untraced functions such as lstm_cell_5_layer_call_and_return_conditional_losses, lstm_cell_5_layer_call_fn, lstm_cell_6_layer_call_and_return_conditional_losses, lstm_cell_6_layer_call_fn, lstm_cell_5_layer_call_fn while saving (showing 5 of 10). These functions will not be directly callable after loading.\n"
     ]
    },
    {
     "name": "stdout",
     "output_type": "stream",
     "text": [
      "INFO:tensorflow:Assets written to: s2s_LSTM_256TimeD_43\\assets\n"
     ]
    },
    {
     "name": "stderr",
     "output_type": "stream",
     "text": [
      "INFO:tensorflow:Assets written to: s2s_LSTM_256TimeD_43\\assets\n"
     ]
    },
    {
     "name": "stdout",
     "output_type": "stream",
     "text": [
      "Epoch 29/500\n",
      "781/781 [==============================] - 29s 37ms/step - loss: 1.1803e-04 - mse: 1.4118e-04 - val_loss: 9.0100e-05 - val_mse: 8.8226e-05\n",
      "Epoch 30/500\n",
      "781/781 [==============================] - 29s 37ms/step - loss: 1.1781e-04 - mse: 1.4532e-04 - val_loss: 8.1121e-05 - val_mse: 7.4345e-05\n"
     ]
    },
    {
     "name": "stderr",
     "output_type": "stream",
     "text": [
      "WARNING:absl:Found untraced functions such as lstm_cell_5_layer_call_and_return_conditional_losses, lstm_cell_5_layer_call_fn, lstm_cell_6_layer_call_and_return_conditional_losses, lstm_cell_6_layer_call_fn, lstm_cell_5_layer_call_fn while saving (showing 5 of 10). These functions will not be directly callable after loading.\n"
     ]
    },
    {
     "name": "stdout",
     "output_type": "stream",
     "text": [
      "INFO:tensorflow:Assets written to: s2s_LSTM_256TimeD_43\\assets\n"
     ]
    },
    {
     "name": "stderr",
     "output_type": "stream",
     "text": [
      "INFO:tensorflow:Assets written to: s2s_LSTM_256TimeD_43\\assets\n"
     ]
    },
    {
     "name": "stdout",
     "output_type": "stream",
     "text": [
      "Epoch 31/500\n",
      "781/781 [==============================] - 29s 37ms/step - loss: 1.0928e-04 - mse: 1.3231e-04 - val_loss: 7.8877e-05 - val_mse: 7.3723e-05\n"
     ]
    },
    {
     "name": "stderr",
     "output_type": "stream",
     "text": [
      "WARNING:absl:Found untraced functions such as lstm_cell_5_layer_call_and_return_conditional_losses, lstm_cell_5_layer_call_fn, lstm_cell_6_layer_call_and_return_conditional_losses, lstm_cell_6_layer_call_fn, lstm_cell_5_layer_call_fn while saving (showing 5 of 10). These functions will not be directly callable after loading.\n"
     ]
    },
    {
     "name": "stdout",
     "output_type": "stream",
     "text": [
      "INFO:tensorflow:Assets written to: s2s_LSTM_256TimeD_43\\assets\n"
     ]
    },
    {
     "name": "stderr",
     "output_type": "stream",
     "text": [
      "INFO:tensorflow:Assets written to: s2s_LSTM_256TimeD_43\\assets\n"
     ]
    },
    {
     "name": "stdout",
     "output_type": "stream",
     "text": [
      "Epoch 32/500\n",
      "781/781 [==============================] - 29s 36ms/step - loss: 1.0747e-04 - mse: 1.3256e-04 - val_loss: 8.3895e-05 - val_mse: 8.7413e-05\n",
      "Epoch 33/500\n",
      "781/781 [==============================] - 28s 36ms/step - loss: 1.0429e-04 - mse: 1.2963e-04 - val_loss: 8.8659e-05 - val_mse: 1.0001e-04\n",
      "Epoch 34/500\n",
      "781/781 [==============================] - 28s 36ms/step - loss: 9.7311e-05 - mse: 1.1882e-04 - val_loss: 9.4370e-05 - val_mse: 1.1446e-04\n",
      "Epoch 35/500\n",
      "781/781 [==============================] - 29s 37ms/step - loss: 1.0057e-04 - mse: 1.2840e-04 - val_loss: 1.0622e-04 - val_mse: 1.4099e-04\n",
      "Epoch 36/500\n",
      "781/781 [==============================] - 29s 37ms/step - loss: 9.6756e-05 - mse: 1.2324e-04 - val_loss: 9.3131e-05 - val_mse: 1.1710e-04\n",
      "Epoch 37/500\n",
      "781/781 [==============================] - 29s 37ms/step - loss: 8.8780e-05 - mse: 1.0968e-04 - val_loss: 8.1889e-05 - val_mse: 9.7074e-05\n",
      "Epoch 38/500\n",
      "781/781 [==============================] - 29s 37ms/step - loss: 9.1260e-05 - mse: 1.1706e-04 - val_loss: 8.0450e-05 - val_mse: 9.6544e-05\n",
      "Epoch 39/500\n",
      "781/781 [==============================] - 29s 37ms/step - loss: 9.3204e-05 - mse: 1.2295e-04 - val_loss: 6.4535e-05 - val_mse: 6.6563e-05\n"
     ]
    },
    {
     "name": "stderr",
     "output_type": "stream",
     "text": [
      "WARNING:absl:Found untraced functions such as lstm_cell_5_layer_call_and_return_conditional_losses, lstm_cell_5_layer_call_fn, lstm_cell_6_layer_call_and_return_conditional_losses, lstm_cell_6_layer_call_fn, lstm_cell_5_layer_call_fn while saving (showing 5 of 10). These functions will not be directly callable after loading.\n"
     ]
    },
    {
     "name": "stdout",
     "output_type": "stream",
     "text": [
      "INFO:tensorflow:Assets written to: s2s_LSTM_256TimeD_43\\assets\n"
     ]
    },
    {
     "name": "stderr",
     "output_type": "stream",
     "text": [
      "INFO:tensorflow:Assets written to: s2s_LSTM_256TimeD_43\\assets\n"
     ]
    },
    {
     "name": "stdout",
     "output_type": "stream",
     "text": [
      "Epoch 40/500\n",
      "781/781 [==============================] - 29s 37ms/step - loss: 8.4562e-05 - mse: 1.0748e-04 - val_loss: 6.0850e-05 - val_mse: 6.1139e-05\n"
     ]
    },
    {
     "name": "stderr",
     "output_type": "stream",
     "text": [
      "WARNING:absl:Found untraced functions such as lstm_cell_5_layer_call_and_return_conditional_losses, lstm_cell_5_layer_call_fn, lstm_cell_6_layer_call_and_return_conditional_losses, lstm_cell_6_layer_call_fn, lstm_cell_5_layer_call_fn while saving (showing 5 of 10). These functions will not be directly callable after loading.\n"
     ]
    },
    {
     "name": "stdout",
     "output_type": "stream",
     "text": [
      "INFO:tensorflow:Assets written to: s2s_LSTM_256TimeD_43\\assets\n"
     ]
    },
    {
     "name": "stderr",
     "output_type": "stream",
     "text": [
      "INFO:tensorflow:Assets written to: s2s_LSTM_256TimeD_43\\assets\n"
     ]
    },
    {
     "name": "stdout",
     "output_type": "stream",
     "text": [
      "Epoch 41/500\n",
      "781/781 [==============================] - 29s 36ms/step - loss: 8.5648e-05 - mse: 1.1151e-04 - val_loss: 5.9387e-05 - val_mse: 5.9947e-05\n"
     ]
    },
    {
     "name": "stderr",
     "output_type": "stream",
     "text": [
      "WARNING:absl:Found untraced functions such as lstm_cell_5_layer_call_and_return_conditional_losses, lstm_cell_5_layer_call_fn, lstm_cell_6_layer_call_and_return_conditional_losses, lstm_cell_6_layer_call_fn, lstm_cell_5_layer_call_fn while saving (showing 5 of 10). These functions will not be directly callable after loading.\n"
     ]
    },
    {
     "name": "stdout",
     "output_type": "stream",
     "text": [
      "INFO:tensorflow:Assets written to: s2s_LSTM_256TimeD_43\\assets\n"
     ]
    },
    {
     "name": "stderr",
     "output_type": "stream",
     "text": [
      "INFO:tensorflow:Assets written to: s2s_LSTM_256TimeD_43\\assets\n"
     ]
    },
    {
     "name": "stdout",
     "output_type": "stream",
     "text": [
      "Epoch 42/500\n",
      "781/781 [==============================] - 29s 36ms/step - loss: 8.4975e-05 - mse: 1.1178e-04 - val_loss: 5.7294e-05 - val_mse: 5.7290e-05\n"
     ]
    },
    {
     "name": "stderr",
     "output_type": "stream",
     "text": [
      "WARNING:absl:Found untraced functions such as lstm_cell_5_layer_call_and_return_conditional_losses, lstm_cell_5_layer_call_fn, lstm_cell_6_layer_call_and_return_conditional_losses, lstm_cell_6_layer_call_fn, lstm_cell_5_layer_call_fn while saving (showing 5 of 10). These functions will not be directly callable after loading.\n"
     ]
    },
    {
     "name": "stdout",
     "output_type": "stream",
     "text": [
      "INFO:tensorflow:Assets written to: s2s_LSTM_256TimeD_43\\assets\n"
     ]
    },
    {
     "name": "stderr",
     "output_type": "stream",
     "text": [
      "INFO:tensorflow:Assets written to: s2s_LSTM_256TimeD_43\\assets\n"
     ]
    },
    {
     "name": "stdout",
     "output_type": "stream",
     "text": [
      "Epoch 43/500\n",
      "781/781 [==============================] - 29s 37ms/step - loss: 8.0442e-05 - mse: 1.0420e-04 - val_loss: 5.4744e-05 - val_mse: 5.3627e-05\n"
     ]
    },
    {
     "name": "stderr",
     "output_type": "stream",
     "text": [
      "WARNING:absl:Found untraced functions such as lstm_cell_5_layer_call_and_return_conditional_losses, lstm_cell_5_layer_call_fn, lstm_cell_6_layer_call_and_return_conditional_losses, lstm_cell_6_layer_call_fn, lstm_cell_5_layer_call_fn while saving (showing 5 of 10). These functions will not be directly callable after loading.\n"
     ]
    },
    {
     "name": "stdout",
     "output_type": "stream",
     "text": [
      "INFO:tensorflow:Assets written to: s2s_LSTM_256TimeD_43\\assets\n"
     ]
    },
    {
     "name": "stderr",
     "output_type": "stream",
     "text": [
      "INFO:tensorflow:Assets written to: s2s_LSTM_256TimeD_43\\assets\n"
     ]
    },
    {
     "name": "stdout",
     "output_type": "stream",
     "text": [
      "Epoch 44/500\n",
      "781/781 [==============================] - 29s 37ms/step - loss: 7.8634e-05 - mse: 1.0208e-04 - val_loss: 5.6505e-05 - val_mse: 5.8602e-05\n",
      "Epoch 45/500\n",
      "781/781 [==============================] - 29s 37ms/step - loss: 8.3472e-05 - mse: 1.1322e-04 - val_loss: 6.2142e-05 - val_mse: 7.1154e-05\n",
      "Epoch 46/500\n",
      "781/781 [==============================] - 29s 37ms/step - loss: 8.2517e-05 - mse: 1.1240e-04 - val_loss: 5.7724e-05 - val_mse: 6.3373e-05\n",
      "Epoch 47/500\n",
      "781/781 [==============================] - 29s 37ms/step - loss: 7.4293e-05 - mse: 9.6962e-05 - val_loss: 5.0250e-05 - val_mse: 4.9475e-05\n"
     ]
    },
    {
     "name": "stderr",
     "output_type": "stream",
     "text": [
      "WARNING:absl:Found untraced functions such as lstm_cell_5_layer_call_and_return_conditional_losses, lstm_cell_5_layer_call_fn, lstm_cell_6_layer_call_and_return_conditional_losses, lstm_cell_6_layer_call_fn, lstm_cell_5_layer_call_fn while saving (showing 5 of 10). These functions will not be directly callable after loading.\n"
     ]
    },
    {
     "name": "stdout",
     "output_type": "stream",
     "text": [
      "INFO:tensorflow:Assets written to: s2s_LSTM_256TimeD_43\\assets\n"
     ]
    },
    {
     "name": "stderr",
     "output_type": "stream",
     "text": [
      "INFO:tensorflow:Assets written to: s2s_LSTM_256TimeD_43\\assets\n"
     ]
    },
    {
     "name": "stdout",
     "output_type": "stream",
     "text": [
      "Epoch 48/500\n",
      "781/781 [==============================] - 29s 36ms/step - loss: 7.4935e-05 - mse: 9.9497e-05 - val_loss: 5.2004e-05 - val_mse: 5.4246e-05\n",
      "Epoch 49/500\n",
      "781/781 [==============================] - 30s 38ms/step - loss: 7.6753e-05 - mse: 1.0420e-04 - val_loss: 5.1143e-05 - val_mse: 5.3582e-05\n",
      "Epoch 50/500\n",
      "781/781 [==============================] - 29s 37ms/step - loss: 7.4128e-05 - mse: 9.9883e-05 - val_loss: 5.1608e-05 - val_mse: 5.5475e-05\n",
      "Epoch 51/500\n",
      "781/781 [==============================] - 30s 38ms/step - loss: 7.4544e-05 - mse: 1.0169e-04 - val_loss: 5.7550e-05 - val_mse: 6.8358e-05\n",
      "Epoch 52/500\n",
      "781/781 [==============================] - 28s 36ms/step - loss: 7.5058e-05 - mse: 1.0355e-04 - val_loss: 5.7810e-05 - val_mse: 6.9656e-05\n",
      "Epoch 53/500\n",
      "781/781 [==============================] - 28s 36ms/step - loss: 7.3939e-05 - mse: 1.0209e-04 - val_loss: 4.8657e-05 - val_mse: 5.2012e-05\n"
     ]
    },
    {
     "name": "stderr",
     "output_type": "stream",
     "text": [
      "WARNING:absl:Found untraced functions such as lstm_cell_5_layer_call_and_return_conditional_losses, lstm_cell_5_layer_call_fn, lstm_cell_6_layer_call_and_return_conditional_losses, lstm_cell_6_layer_call_fn, lstm_cell_5_layer_call_fn while saving (showing 5 of 10). These functions will not be directly callable after loading.\n"
     ]
    },
    {
     "name": "stdout",
     "output_type": "stream",
     "text": [
      "INFO:tensorflow:Assets written to: s2s_LSTM_256TimeD_43\\assets\n"
     ]
    },
    {
     "name": "stderr",
     "output_type": "stream",
     "text": [
      "INFO:tensorflow:Assets written to: s2s_LSTM_256TimeD_43\\assets\n"
     ]
    },
    {
     "name": "stdout",
     "output_type": "stream",
     "text": [
      "Epoch 54/500\n",
      "781/781 [==============================] - 29s 37ms/step - loss: 7.0239e-05 - mse: 9.5410e-05 - val_loss: 4.8236e-05 - val_mse: 5.1601e-05\n"
     ]
    },
    {
     "name": "stderr",
     "output_type": "stream",
     "text": [
      "WARNING:absl:Found untraced functions such as lstm_cell_5_layer_call_and_return_conditional_losses, lstm_cell_5_layer_call_fn, lstm_cell_6_layer_call_and_return_conditional_losses, lstm_cell_6_layer_call_fn, lstm_cell_5_layer_call_fn while saving (showing 5 of 10). These functions will not be directly callable after loading.\n"
     ]
    },
    {
     "name": "stdout",
     "output_type": "stream",
     "text": [
      "INFO:tensorflow:Assets written to: s2s_LSTM_256TimeD_43\\assets\n"
     ]
    },
    {
     "name": "stderr",
     "output_type": "stream",
     "text": [
      "INFO:tensorflow:Assets written to: s2s_LSTM_256TimeD_43\\assets\n"
     ]
    },
    {
     "name": "stdout",
     "output_type": "stream",
     "text": [
      "Epoch 55/500\n",
      "781/781 [==============================] - 29s 36ms/step - loss: 6.5710e-05 - mse: 8.7111e-05 - val_loss: 8.0763e-05 - val_mse: 1.1722e-04\n",
      "Epoch 56/500\n",
      "781/781 [==============================] - 29s 37ms/step - loss: 6.8053e-05 - mse: 9.2730e-05 - val_loss: 1.6962e-04 - val_mse: 2.9546e-04\n",
      "Epoch 57/500\n",
      "781/781 [==============================] - 28s 36ms/step - loss: 7.1477e-05 - mse: 1.0030e-04 - val_loss: 2.9715e-04 - val_mse: 5.5091e-04\n",
      "Epoch 58/500\n",
      "781/781 [==============================] - 29s 37ms/step - loss: 6.9619e-05 - mse: 9.7110e-05 - val_loss: 3.3991e-04 - val_mse: 6.3686e-04\n",
      "Epoch 59/500\n",
      "781/781 [==============================] - 28s 36ms/step - loss: 6.2148e-05 - mse: 8.2700e-05 - val_loss: 2.9761e-04 - val_mse: 5.5288e-04\n",
      "Epoch 60/500\n",
      "781/781 [==============================] - 28s 36ms/step - loss: 6.2579e-05 - mse: 8.4369e-05 - val_loss: 3.0917e-04 - val_mse: 5.7685e-04\n",
      "Epoch 61/500\n",
      "781/781 [==============================] - 29s 37ms/step - loss: 6.7966e-05 - mse: 9.5867e-05 - val_loss: 2.7071e-04 - val_mse: 5.0061e-04\n",
      "Epoch 62/500\n",
      "781/781 [==============================] - 28s 36ms/step - loss: 6.6187e-05 - mse: 9.2760e-05 - val_loss: 1.5396e-04 - val_mse: 2.6779e-04\n",
      "Epoch 63/500\n",
      "781/781 [==============================] - 28s 36ms/step - loss: 5.9705e-05 - mse: 8.0252e-05 - val_loss: 6.2939e-05 - val_mse: 8.6639e-05\n",
      "Epoch 64/500\n",
      "781/781 [==============================] - 28s 36ms/step - loss: 6.1174e-05 - mse: 8.3876e-05 - val_loss: 3.9550e-05 - val_mse: 4.0687e-05\n"
     ]
    },
    {
     "name": "stderr",
     "output_type": "stream",
     "text": [
      "WARNING:absl:Found untraced functions such as lstm_cell_5_layer_call_and_return_conditional_losses, lstm_cell_5_layer_call_fn, lstm_cell_6_layer_call_and_return_conditional_losses, lstm_cell_6_layer_call_fn, lstm_cell_5_layer_call_fn while saving (showing 5 of 10). These functions will not be directly callable after loading.\n"
     ]
    },
    {
     "name": "stdout",
     "output_type": "stream",
     "text": [
      "INFO:tensorflow:Assets written to: s2s_LSTM_256TimeD_43\\assets\n"
     ]
    },
    {
     "name": "stderr",
     "output_type": "stream",
     "text": [
      "INFO:tensorflow:Assets written to: s2s_LSTM_256TimeD_43\\assets\n"
     ]
    },
    {
     "name": "stdout",
     "output_type": "stream",
     "text": [
      "Epoch 65/500\n",
      "781/781 [==============================] - 28s 36ms/step - loss: 6.3719e-05 - mse: 8.9520e-05 - val_loss: 4.4569e-05 - val_mse: 5.1366e-05\n",
      "Epoch 66/500\n",
      "781/781 [==============================] - 28s 36ms/step - loss: 6.2696e-05 - mse: 8.7909e-05 - val_loss: 6.6456e-05 - val_mse: 9.5832e-05\n",
      "Epoch 67/500\n",
      "781/781 [==============================] - 28s 36ms/step - loss: 6.1421e-05 - mse: 8.5792e-05 - val_loss: 9.8392e-05 - val_mse: 1.6028e-04\n",
      "Epoch 68/500\n",
      "781/781 [==============================] - 28s 36ms/step - loss: 5.8515e-05 - mse: 8.0410e-05 - val_loss: 1.4345e-04 - val_mse: 2.5098e-04\n",
      "Epoch 69/500\n",
      "781/781 [==============================] - 28s 36ms/step - loss: 5.9003e-05 - mse: 8.1884e-05 - val_loss: 1.7797e-04 - val_mse: 3.2057e-04\n",
      "Epoch 70/500\n",
      "781/781 [==============================] - 28s 36ms/step - loss: 6.0320e-05 - mse: 8.4974e-05 - val_loss: 2.0122e-04 - val_mse: 3.6762e-04\n",
      "Epoch 71/500\n",
      "781/781 [==============================] - 28s 36ms/step - loss: 6.0464e-05 - mse: 8.5642e-05 - val_loss: 1.7738e-04 - val_mse: 3.2024e-04\n",
      "Epoch 72/500\n",
      "781/781 [==============================] - 29s 37ms/step - loss: 5.7247e-05 - mse: 7.9552e-05 - val_loss: 1.1663e-04 - val_mse: 1.9898e-04\n",
      "Epoch 73/500\n",
      "781/781 [==============================] - 29s 37ms/step - loss: 5.7315e-05 - mse: 8.0121e-05 - val_loss: 7.0914e-05 - val_mse: 1.0780e-04\n",
      "Epoch 74/500\n",
      "781/781 [==============================] - 29s 37ms/step - loss: 5.8224e-05 - mse: 8.2340e-05 - val_loss: 4.2046e-05 - val_mse: 5.0232e-05\n",
      "Epoch 75/500\n",
      "781/781 [==============================] - 29s 37ms/step - loss: 5.6861e-05 - mse: 7.9938e-05 - val_loss: 3.9377e-05 - val_mse: 4.5031e-05\n"
     ]
    },
    {
     "name": "stderr",
     "output_type": "stream",
     "text": [
      "WARNING:absl:Found untraced functions such as lstm_cell_5_layer_call_and_return_conditional_losses, lstm_cell_5_layer_call_fn, lstm_cell_6_layer_call_and_return_conditional_losses, lstm_cell_6_layer_call_fn, lstm_cell_5_layer_call_fn while saving (showing 5 of 10). These functions will not be directly callable after loading.\n"
     ]
    },
    {
     "name": "stdout",
     "output_type": "stream",
     "text": [
      "INFO:tensorflow:Assets written to: s2s_LSTM_256TimeD_43\\assets\n"
     ]
    },
    {
     "name": "stderr",
     "output_type": "stream",
     "text": [
      "INFO:tensorflow:Assets written to: s2s_LSTM_256TimeD_43\\assets\n"
     ]
    },
    {
     "name": "stdout",
     "output_type": "stream",
     "text": [
      "Epoch 76/500\n",
      "781/781 [==============================] - 30s 38ms/step - loss: 5.5170e-05 - mse: 7.6900e-05 - val_loss: 6.4528e-05 - val_mse: 9.5497e-05\n",
      "Epoch 77/500\n",
      "781/781 [==============================] - 29s 37ms/step - loss: 5.5863e-05 - mse: 7.8657e-05 - val_loss: 9.9751e-05 - val_mse: 1.6615e-04\n",
      "Epoch 78/500\n",
      "781/781 [==============================] - 28s 35ms/step - loss: 5.4582e-05 - mse: 7.6397e-05 - val_loss: 1.2949e-04 - val_mse: 2.2585e-04\n",
      "Epoch 79/500\n",
      "781/781 [==============================] - 28s 35ms/step - loss: 5.5079e-05 - mse: 7.7749e-05 - val_loss: 1.4851e-04 - val_mse: 2.6418e-04\n",
      "Epoch 80/500\n",
      "781/781 [==============================] - 28s 35ms/step - loss: 5.5386e-05 - mse: 7.8655e-05 - val_loss: 1.2600e-04 - val_mse: 2.1945e-04\n",
      "Epoch 81/500\n",
      "781/781 [==============================] - 29s 37ms/step - loss: 5.2552e-05 - mse: 7.3253e-05 - val_loss: 8.7159e-05 - val_mse: 1.4219e-04\n",
      "Epoch 82/500\n",
      "781/781 [==============================] - 28s 36ms/step - loss: 5.3663e-05 - mse: 7.5840e-05 - val_loss: 5.6552e-05 - val_mse: 8.1362e-05\n",
      "Epoch 83/500\n",
      "781/781 [==============================] - 27s 35ms/step - loss: 5.3168e-05 - mse: 7.5117e-05 - val_loss: 3.9980e-05 - val_mse: 4.8587e-05\n",
      "Epoch 84/500\n",
      "781/781 [==============================] - 28s 36ms/step - loss: 5.1475e-05 - mse: 7.2008e-05 - val_loss: 3.3462e-05 - val_mse: 3.5938e-05\n"
     ]
    },
    {
     "name": "stderr",
     "output_type": "stream",
     "text": [
      "WARNING:absl:Found untraced functions such as lstm_cell_5_layer_call_and_return_conditional_losses, lstm_cell_5_layer_call_fn, lstm_cell_6_layer_call_and_return_conditional_losses, lstm_cell_6_layer_call_fn, lstm_cell_5_layer_call_fn while saving (showing 5 of 10). These functions will not be directly callable after loading.\n"
     ]
    },
    {
     "name": "stdout",
     "output_type": "stream",
     "text": [
      "INFO:tensorflow:Assets written to: s2s_LSTM_256TimeD_43\\assets\n"
     ]
    },
    {
     "name": "stderr",
     "output_type": "stream",
     "text": [
      "INFO:tensorflow:Assets written to: s2s_LSTM_256TimeD_43\\assets\n"
     ]
    },
    {
     "name": "stdout",
     "output_type": "stream",
     "text": [
      "Epoch 85/500\n",
      "781/781 [==============================] - 28s 36ms/step - loss: 5.2135e-05 - mse: 7.3640e-05 - val_loss: 4.1271e-05 - val_mse: 5.1798e-05\n",
      "Epoch 86/500\n",
      "781/781 [==============================] - 28s 36ms/step - loss: 5.0940e-05 - mse: 7.1506e-05 - val_loss: 4.1672e-05 - val_mse: 5.2965e-05\n",
      "Epoch 87/500\n",
      "781/781 [==============================] - 28s 35ms/step - loss: 5.0647e-05 - mse: 7.1204e-05 - val_loss: 4.3963e-05 - val_mse: 5.7773e-05\n",
      "Epoch 88/500\n",
      "781/781 [==============================] - 28s 36ms/step - loss: 5.0623e-05 - mse: 7.1429e-05 - val_loss: 3.6183e-05 - val_mse: 4.2472e-05\n",
      "Epoch 89/500\n",
      "781/781 [==============================] - 28s 35ms/step - loss: 5.1042e-05 - mse: 7.2552e-05 - val_loss: 3.1333e-05 - val_mse: 3.2950e-05\n"
     ]
    },
    {
     "name": "stderr",
     "output_type": "stream",
     "text": [
      "WARNING:absl:Found untraced functions such as lstm_cell_5_layer_call_and_return_conditional_losses, lstm_cell_5_layer_call_fn, lstm_cell_6_layer_call_and_return_conditional_losses, lstm_cell_6_layer_call_fn, lstm_cell_5_layer_call_fn while saving (showing 5 of 10). These functions will not be directly callable after loading.\n"
     ]
    },
    {
     "name": "stdout",
     "output_type": "stream",
     "text": [
      "INFO:tensorflow:Assets written to: s2s_LSTM_256TimeD_43\\assets\n"
     ]
    },
    {
     "name": "stderr",
     "output_type": "stream",
     "text": [
      "INFO:tensorflow:Assets written to: s2s_LSTM_256TimeD_43\\assets\n"
     ]
    },
    {
     "name": "stdout",
     "output_type": "stream",
     "text": [
      "Epoch 90/500\n",
      "781/781 [==============================] - 34s 44ms/step - loss: 4.9751e-05 - mse: 7.0190e-05 - val_loss: 3.4989e-05 - val_mse: 4.0521e-05\n",
      "Epoch 91/500\n",
      "781/781 [==============================] - 30s 38ms/step - loss: 4.8954e-05 - mse: 6.8849e-05 - val_loss: 5.6264e-05 - val_mse: 8.3275e-05\n",
      "Epoch 92/500\n",
      "781/781 [==============================] - 31s 39ms/step - loss: 4.9568e-05 - mse: 7.0338e-05 - val_loss: 6.8018e-05 - val_mse: 1.0699e-04\n",
      "Epoch 93/500\n",
      "781/781 [==============================] - 31s 40ms/step - loss: 4.9370e-05 - mse: 7.0180e-05 - val_loss: 8.6199e-05 - val_mse: 1.4350e-04\n",
      "Epoch 94/500\n",
      "781/781 [==============================] - 31s 39ms/step - loss: 4.7784e-05 - mse: 6.7214e-05 - val_loss: 1.2253e-04 - val_mse: 2.1633e-04\n",
      "Epoch 95/500\n",
      "781/781 [==============================] - 29s 37ms/step - loss: 4.8556e-05 - mse: 6.9013e-05 - val_loss: 1.3189e-04 - val_mse: 2.3525e-04\n",
      "Epoch 96/500\n",
      "781/781 [==============================] - 29s 37ms/step - loss: 4.8016e-05 - mse: 6.8151e-05 - val_loss: 1.2919e-04 - val_mse: 2.3007e-04\n",
      "Epoch 97/500\n",
      "781/781 [==============================] - 31s 40ms/step - loss: 4.6729e-05 - mse: 6.5792e-05 - val_loss: 1.0344e-04 - val_mse: 1.7891e-04\n",
      "Epoch 98/500\n",
      "781/781 [==============================] - 29s 37ms/step - loss: 4.7797e-05 - mse: 6.8181e-05 - val_loss: 8.6548e-05 - val_mse: 1.4540e-04\n",
      "Epoch 99/500\n",
      "781/781 [==============================] - 28s 36ms/step - loss: 4.7269e-05 - mse: 6.7308e-05 - val_loss: 6.4337e-05 - val_mse: 1.0123e-04\n",
      "Epoch 100/500\n",
      "781/781 [==============================] - 28s 36ms/step - loss: 4.5757e-05 - mse: 6.4480e-05 - val_loss: 4.3334e-05 - val_mse: 5.9588e-05\n",
      "Epoch 101/500\n",
      "781/781 [==============================] - 28s 36ms/step - loss: 4.7385e-05 - mse: 6.7966e-05 - val_loss: 3.6342e-05 - val_mse: 4.5840e-05\n",
      "Epoch 102/500\n",
      "781/781 [==============================] - 28s 36ms/step - loss: 4.5679e-05 - mse: 6.4709e-05 - val_loss: 3.1364e-05 - val_mse: 3.6140e-05\n",
      "Epoch 103/500\n",
      "781/781 [==============================] - 28s 36ms/step - loss: 4.4978e-05 - mse: 6.3527e-05 - val_loss: 3.3598e-05 - val_mse: 4.0919e-05\n",
      "Epoch 104/500\n",
      "781/781 [==============================] - 28s 36ms/step - loss: 4.7062e-05 - mse: 6.7906e-05 - val_loss: 3.4175e-05 - val_mse: 4.2257e-05\n",
      "Epoch 105/500\n",
      "781/781 [==============================] - 28s 36ms/step - loss: 4.3789e-05 - mse: 6.1490e-05 - val_loss: 3.3176e-05 - val_mse: 4.0435e-05\n",
      "Epoch 106/500\n",
      "781/781 [==============================] - 28s 36ms/step - loss: 4.5852e-05 - mse: 6.5849e-05 - val_loss: 3.2243e-05 - val_mse: 3.8682e-05\n",
      "Epoch 107/500\n",
      "781/781 [==============================] - 28s 36ms/step - loss: 4.5239e-05 - mse: 6.4786e-05 - val_loss: 3.9668e-05 - val_mse: 5.3556e-05\n",
      "Epoch 108/500\n",
      "781/781 [==============================] - 28s 36ms/step - loss: 4.3491e-05 - mse: 6.1440e-05 - val_loss: 6.6076e-05 - val_mse: 1.0644e-04\n",
      "Epoch 109/500\n",
      "781/781 [==============================] - 28s 36ms/step - loss: 4.5248e-05 - mse: 6.5163e-05 - val_loss: 8.1497e-05 - val_mse: 1.3737e-04\n",
      "Epoch 110/500\n",
      "781/781 [==============================] - 28s 36ms/step - loss: 4.3289e-05 - mse: 6.1386e-05 - val_loss: 1.0184e-04 - val_mse: 1.7817e-04\n",
      "Epoch 111/500\n",
      "781/781 [==============================] - 28s 36ms/step - loss: 4.4218e-05 - mse: 6.3432e-05 - val_loss: 1.1047e-04 - val_mse: 1.9557e-04\n",
      "Epoch 112/500\n",
      "781/781 [==============================] - 28s 36ms/step - loss: 4.4367e-05 - mse: 6.3886e-05 - val_loss: 9.7670e-05 - val_mse: 1.7012e-04\n",
      "Epoch 113/500\n",
      "781/781 [==============================] - 28s 36ms/step - loss: 4.1929e-05 - mse: 5.9123e-05 - val_loss: 8.1028e-05 - val_mse: 1.3706e-04\n",
      "Epoch 114/500\n",
      "781/781 [==============================] - 28s 36ms/step - loss: 4.3419e-05 - mse: 6.2316e-05 - val_loss: 6.7282e-05 - val_mse: 1.0980e-04\n",
      "Epoch 115/500\n",
      "781/781 [==============================] - 28s 36ms/step - loss: 4.3161e-05 - mse: 6.1935e-05 - val_loss: 4.8600e-05 - val_mse: 7.2609e-05\n",
      "Epoch 116/500\n",
      "781/781 [==============================] - 28s 36ms/step - loss: 4.1641e-05 - mse: 5.9039e-05 - val_loss: 3.6362e-05 - val_mse: 4.8410e-05\n",
      "Epoch 117/500\n",
      "781/781 [==============================] - 28s 36ms/step - loss: 4.3971e-05 - mse: 6.3885e-05 - val_loss: 3.0289e-05 - val_mse: 3.6463e-05\n"
     ]
    },
    {
     "name": "stderr",
     "output_type": "stream",
     "text": [
      "WARNING:absl:Found untraced functions such as lstm_cell_5_layer_call_and_return_conditional_losses, lstm_cell_5_layer_call_fn, lstm_cell_6_layer_call_and_return_conditional_losses, lstm_cell_6_layer_call_fn, lstm_cell_5_layer_call_fn while saving (showing 5 of 10). These functions will not be directly callable after loading.\n"
     ]
    },
    {
     "name": "stdout",
     "output_type": "stream",
     "text": [
      "INFO:tensorflow:Assets written to: s2s_LSTM_256TimeD_43\\assets\n"
     ]
    },
    {
     "name": "stderr",
     "output_type": "stream",
     "text": [
      "INFO:tensorflow:Assets written to: s2s_LSTM_256TimeD_43\\assets\n"
     ]
    },
    {
     "name": "stdout",
     "output_type": "stream",
     "text": [
      "Epoch 118/500\n",
      "781/781 [==============================] - 28s 36ms/step - loss: 4.1199e-05 - mse: 5.8429e-05 - val_loss: 2.7973e-05 - val_mse: 3.2026e-05\n"
     ]
    },
    {
     "name": "stderr",
     "output_type": "stream",
     "text": [
      "WARNING:absl:Found untraced functions such as lstm_cell_5_layer_call_and_return_conditional_losses, lstm_cell_5_layer_call_fn, lstm_cell_6_layer_call_and_return_conditional_losses, lstm_cell_6_layer_call_fn, lstm_cell_5_layer_call_fn while saving (showing 5 of 10). These functions will not be directly callable after loading.\n"
     ]
    },
    {
     "name": "stdout",
     "output_type": "stream",
     "text": [
      "INFO:tensorflow:Assets written to: s2s_LSTM_256TimeD_43\\assets\n"
     ]
    },
    {
     "name": "stderr",
     "output_type": "stream",
     "text": [
      "INFO:tensorflow:Assets written to: s2s_LSTM_256TimeD_43\\assets\n"
     ]
    },
    {
     "name": "stdout",
     "output_type": "stream",
     "text": [
      "Epoch 119/500\n",
      "781/781 [==============================] - 34s 43ms/step - loss: 4.1402e-05 - mse: 5.9021e-05 - val_loss: 3.5977e-05 - val_mse: 4.8326e-05\n",
      "Epoch 120/500\n",
      "781/781 [==============================] - 30s 38ms/step - loss: 4.3600e-05 - mse: 6.3576e-05 - val_loss: 3.8307e-05 - val_mse: 5.3099e-05\n",
      "Epoch 121/500\n",
      "781/781 [==============================] - 29s 37ms/step - loss: 4.0352e-05 - mse: 5.7164e-05 - val_loss: 3.9554e-05 - val_mse: 5.5759e-05\n",
      "Epoch 122/500\n",
      "781/781 [==============================] - 29s 38ms/step - loss: 4.2156e-05 - mse: 6.0956e-05 - val_loss: 3.7347e-05 - val_mse: 5.1473e-05\n",
      "Epoch 123/500\n",
      "781/781 [==============================] - 29s 37ms/step - loss: 4.1773e-05 - mse: 6.0295e-05 - val_loss: 2.7502e-05 - val_mse: 3.1757e-05\n"
     ]
    },
    {
     "name": "stderr",
     "output_type": "stream",
     "text": [
      "WARNING:absl:Found untraced functions such as lstm_cell_5_layer_call_and_return_conditional_losses, lstm_cell_5_layer_call_fn, lstm_cell_6_layer_call_and_return_conditional_losses, lstm_cell_6_layer_call_fn, lstm_cell_5_layer_call_fn while saving (showing 5 of 10). These functions will not be directly callable after loading.\n"
     ]
    },
    {
     "name": "stdout",
     "output_type": "stream",
     "text": [
      "INFO:tensorflow:Assets written to: s2s_LSTM_256TimeD_43\\assets\n"
     ]
    },
    {
     "name": "stderr",
     "output_type": "stream",
     "text": [
      "INFO:tensorflow:Assets written to: s2s_LSTM_256TimeD_43\\assets\n"
     ]
    },
    {
     "name": "stdout",
     "output_type": "stream",
     "text": [
      "Epoch 124/500\n",
      "781/781 [==============================] - 29s 37ms/step - loss: 3.9891e-05 - mse: 5.6654e-05 - val_loss: 3.2040e-05 - val_mse: 4.0858e-05\n",
      "Epoch 125/500\n",
      "781/781 [==============================] - 30s 38ms/step - loss: 4.1595e-05 - mse: 6.0225e-05 - val_loss: 5.5904e-05 - val_mse: 8.8573e-05\n",
      "Epoch 126/500\n",
      "781/781 [==============================] - 29s 37ms/step - loss: 4.0544e-05 - mse: 5.8229e-05 - val_loss: 9.9916e-05 - val_mse: 1.7654e-04\n",
      "Epoch 127/500\n",
      "781/781 [==============================] - 30s 38ms/step - loss: 4.0336e-05 - mse: 5.7940e-05 - val_loss: 1.5395e-04 - val_mse: 2.8460e-04\n",
      "Epoch 128/500\n",
      "781/781 [==============================] - 29s 37ms/step - loss: 4.0226e-05 - mse: 5.7858e-05 - val_loss: 1.8824e-04 - val_mse: 3.5325e-04\n",
      "Epoch 129/500\n",
      "781/781 [==============================] - 29s 37ms/step - loss: 3.9960e-05 - mse: 5.7430e-05 - val_loss: 1.8318e-04 - val_mse: 3.4326e-04\n",
      "Epoch 130/500\n",
      "781/781 [==============================] - 29s 37ms/step - loss: 4.0196e-05 - mse: 5.8041e-05 - val_loss: 1.8168e-04 - val_mse: 3.4044e-04\n",
      "Epoch 131/500\n",
      "781/781 [==============================] - 29s 37ms/step - loss: 4.0778e-05 - mse: 5.9314e-05 - val_loss: 1.1492e-04 - val_mse: 2.0711e-04\n",
      "Epoch 132/500\n",
      "781/781 [==============================] - 29s 37ms/step - loss: 3.7593e-05 - mse: 5.3036e-05 - val_loss: 9.3579e-05 - val_mse: 1.6471e-04\n",
      "Epoch 133/500\n",
      "781/781 [==============================] - 29s 37ms/step - loss: 4.1644e-05 - mse: 6.1308e-05 - val_loss: 8.0654e-05 - val_mse: 1.3896e-04\n",
      "Epoch 134/500\n",
      "781/781 [==============================] - 29s 37ms/step - loss: 3.8302e-05 - mse: 5.4664e-05 - val_loss: 5.9510e-05 - val_mse: 9.6859e-05\n",
      "Epoch 135/500\n",
      "781/781 [==============================] - 29s 37ms/step - loss: 3.9041e-05 - mse: 5.6294e-05 - val_loss: 8.2396e-05 - val_mse: 1.4271e-04\n",
      "Epoch 136/500\n",
      "781/781 [==============================] - 29s 37ms/step - loss: 3.9564e-05 - mse: 5.7444e-05 - val_loss: 8.0493e-05 - val_mse: 1.3897e-04\n",
      "Epoch 137/500\n",
      "781/781 [==============================] - 29s 37ms/step - loss: 3.8035e-05 - mse: 5.4483e-05 - val_loss: 1.3674e-04 - val_mse: 2.5147e-04\n",
      "Epoch 138/500\n",
      "781/781 [==============================] - 29s 37ms/step - loss: 3.9933e-05 - mse: 5.8414e-05 - val_loss: 1.5024e-04 - val_mse: 2.7849e-04\n",
      "Epoch 139/500\n",
      "781/781 [==============================] - 29s 37ms/step - loss: 3.8131e-05 - mse: 5.4876e-05 - val_loss: 1.6181e-04 - val_mse: 3.0173e-04\n",
      "Epoch 140/500\n",
      "781/781 [==============================] - 29s 37ms/step - loss: 3.8824e-05 - mse: 5.6391e-05 - val_loss: 1.7224e-04 - val_mse: 3.2270e-04\n",
      "Epoch 141/500\n",
      "781/781 [==============================] - 29s 37ms/step - loss: 3.8702e-05 - mse: 5.6233e-05 - val_loss: 1.1489e-04 - val_mse: 2.0819e-04\n",
      "Epoch 142/500\n",
      "781/781 [==============================] - 29s 37ms/step - loss: 3.7372e-05 - mse: 5.3665e-05 - val_loss: 9.0930e-05 - val_mse: 1.6048e-04\n",
      "Epoch 143/500\n",
      "781/781 [==============================] - 29s 37ms/step - loss: 3.8168e-05 - mse: 5.5375e-05 - val_loss: 6.7539e-05 - val_mse: 1.1387e-04\n",
      "Epoch 144/500\n",
      "781/781 [==============================] - 29s 37ms/step - loss: 3.8415e-05 - mse: 5.5971e-05 - val_loss: 4.9290e-05 - val_mse: 7.7550e-05\n",
      "Epoch 145/500\n",
      "781/781 [==============================] - 29s 37ms/step - loss: 3.7747e-05 - mse: 5.4726e-05 - val_loss: 3.6491e-05 - val_mse: 5.2103e-05\n",
      "Epoch 146/500\n",
      "781/781 [==============================] - 29s 37ms/step - loss: 3.6292e-05 - mse: 5.1909e-05 - val_loss: 3.6634e-05 - val_mse: 5.2562e-05\n",
      "Epoch 147/500\n",
      "781/781 [==============================] - 29s 37ms/step - loss: 3.9427e-05 - mse: 5.8315e-05 - val_loss: 3.4443e-05 - val_mse: 4.8234e-05\n",
      "Epoch 148/500\n",
      "781/781 [==============================] - 29s 37ms/step - loss: 3.5876e-05 - mse: 5.1241e-05 - val_loss: 3.8158e-05 - val_mse: 5.5728e-05\n",
      "Epoch 149/500\n",
      "781/781 [==============================] - 29s 37ms/step - loss: 3.7909e-05 - mse: 5.5460e-05 - val_loss: 5.1444e-05 - val_mse: 8.2380e-05\n",
      "Epoch 150/500\n",
      "781/781 [==============================] - 29s 37ms/step - loss: 3.7185e-05 - mse: 5.4073e-05 - val_loss: 5.8367e-05 - val_mse: 9.6224e-05\n",
      "Epoch 151/500\n",
      "781/781 [==============================] - 29s 37ms/step - loss: 3.6225e-05 - mse: 5.2248e-05 - val_loss: 7.7761e-05 - val_mse: 1.3508e-04\n",
      "Epoch 152/500\n",
      "781/781 [==============================] - 29s 37ms/step - loss: 3.6924e-05 - mse: 5.3746e-05 - val_loss: 9.2376e-05 - val_mse: 1.6436e-04\n",
      "Epoch 153/500\n",
      "781/781 [==============================] - 29s 37ms/step - loss: 3.6815e-05 - mse: 5.3605e-05 - val_loss: 8.0588e-05 - val_mse: 1.4085e-04\n",
      "Epoch 154/500\n",
      "781/781 [==============================] - 29s 37ms/step - loss: 3.6052e-05 - mse: 5.2172e-05 - val_loss: 8.7075e-05 - val_mse: 1.5397e-04\n",
      "Epoch 155/500\n",
      "781/781 [==============================] - 29s 37ms/step - loss: 3.7164e-05 - mse: 5.4493e-05 - val_loss: 6.2865e-05 - val_mse: 1.0563e-04\n",
      "Epoch 156/500\n",
      "781/781 [==============================] - 29s 37ms/step - loss: 3.5488e-05 - mse: 5.1212e-05 - val_loss: 4.5970e-05 - val_mse: 7.2037e-05\n",
      "Epoch 157/500\n",
      "781/781 [==============================] - 29s 37ms/step - loss: 3.6981e-05 - mse: 5.4299e-05 - val_loss: 3.5084e-05 - val_mse: 5.0382e-05\n",
      "Epoch 158/500\n",
      "781/781 [==============================] - 29s 37ms/step - loss: 3.5201e-05 - mse: 5.0793e-05 - val_loss: 2.4841e-05 - val_mse: 3.0024e-05\n"
     ]
    },
    {
     "name": "stderr",
     "output_type": "stream",
     "text": [
      "WARNING:absl:Found untraced functions such as lstm_cell_5_layer_call_and_return_conditional_losses, lstm_cell_5_layer_call_fn, lstm_cell_6_layer_call_and_return_conditional_losses, lstm_cell_6_layer_call_fn, lstm_cell_5_layer_call_fn while saving (showing 5 of 10). These functions will not be directly callable after loading.\n"
     ]
    },
    {
     "name": "stdout",
     "output_type": "stream",
     "text": [
      "INFO:tensorflow:Assets written to: s2s_LSTM_256TimeD_43\\assets\n"
     ]
    },
    {
     "name": "stderr",
     "output_type": "stream",
     "text": [
      "INFO:tensorflow:Assets written to: s2s_LSTM_256TimeD_43\\assets\n"
     ]
    },
    {
     "name": "stdout",
     "output_type": "stream",
     "text": [
      "Epoch 159/500\n",
      "781/781 [==============================] - 29s 37ms/step - loss: 3.5441e-05 - mse: 5.1376e-05 - val_loss: 2.7199e-05 - val_mse: 3.5001e-05\n",
      "Epoch 160/500\n",
      "781/781 [==============================] - 29s 37ms/step - loss: 3.6998e-05 - mse: 5.4576e-05 - val_loss: 2.6384e-05 - val_mse: 3.3366e-05\n",
      "Epoch 161/500\n",
      "781/781 [==============================] - 29s 37ms/step - loss: 3.3918e-05 - mse: 4.8462e-05 - val_loss: 3.5267e-05 - val_mse: 5.1335e-05\n",
      "Epoch 162/500\n",
      "781/781 [==============================] - 29s 37ms/step - loss: 3.6274e-05 - mse: 5.3302e-05 - val_loss: 3.9263e-05 - val_mse: 5.9435e-05\n",
      "Epoch 163/500\n",
      "781/781 [==============================] - 29s 37ms/step - loss: 3.5075e-05 - mse: 5.0953e-05 - val_loss: 4.1116e-05 - val_mse: 6.3181e-05\n",
      "Epoch 164/500\n",
      "781/781 [==============================] - 29s 37ms/step - loss: 3.3892e-05 - mse: 4.8681e-05 - val_loss: 5.3245e-05 - val_mse: 8.7657e-05\n",
      "Epoch 165/500\n",
      "781/781 [==============================] - 29s 37ms/step - loss: 3.7047e-05 - mse: 5.5094e-05 - val_loss: 6.0454e-05 - val_mse: 1.0210e-04\n",
      "Epoch 166/500\n",
      "781/781 [==============================] - 29s 37ms/step - loss: 3.3663e-05 - mse: 4.8352e-05 - val_loss: 5.2405e-05 - val_mse: 8.6023e-05\n",
      "Epoch 167/500\n",
      "781/781 [==============================] - 29s 37ms/step - loss: 3.3920e-05 - mse: 4.8974e-05 - val_loss: 7.9349e-05 - val_mse: 1.4020e-04\n",
      "Epoch 168/500\n",
      "781/781 [==============================] - 29s 37ms/step - loss: 3.6718e-05 - mse: 5.4658e-05 - val_loss: 6.6960e-05 - val_mse: 1.1531e-04\n",
      "Epoch 169/500\n",
      "781/781 [==============================] - 29s 37ms/step - loss: 3.1251e-05 - mse: 4.3741e-05 - val_loss: 6.5181e-05 - val_mse: 1.1190e-04\n",
      "Epoch 170/500\n",
      "781/781 [==============================] - 29s 37ms/step - loss: 3.5708e-05 - mse: 5.2819e-05 - val_loss: 1.0841e-04 - val_mse: 1.9861e-04\n",
      "Epoch 171/500\n",
      "781/781 [==============================] - 29s 37ms/step - loss: 3.3988e-05 - mse: 4.9391e-05 - val_loss: 6.6303e-05 - val_mse: 1.1418e-04\n",
      "Epoch 172/500\n",
      "781/781 [==============================] - 29s 37ms/step - loss: 3.0125e-05 - mse: 4.1760e-05 - val_loss: 1.0701e-04 - val_mse: 1.9598e-04\n",
      "Epoch 173/500\n",
      "781/781 [==============================] - 29s 37ms/step - loss: 3.8112e-05 - mse: 5.7883e-05 - val_loss: 1.1055e-04 - val_mse: 2.0303e-04\n",
      "Epoch 174/500\n",
      "781/781 [==============================] - 29s 37ms/step - loss: 2.9890e-05 - mse: 4.1407e-05 - val_loss: 7.6174e-05 - val_mse: 1.3425e-04\n",
      "Epoch 175/500\n",
      "781/781 [==============================] - 29s 37ms/step - loss: 3.3020e-05 - mse: 4.7853e-05 - val_loss: 1.5762e-04 - val_mse: 2.9761e-04\n",
      "Epoch 176/500\n",
      "781/781 [==============================] - 29s 37ms/step - loss: 3.5977e-05 - mse: 5.3811e-05 - val_loss: 6.4513e-05 - val_mse: 1.1098e-04\n",
      "Epoch 177/500\n",
      "781/781 [==============================] - 29s 37ms/step - loss: 2.7525e-05 - mse: 3.6933e-05 - val_loss: 8.3203e-05 - val_mse: 1.4870e-04\n",
      "Epoch 178/500\n",
      "781/781 [==============================] - 29s 37ms/step - loss: 3.7752e-05 - mse: 5.7596e-05 - val_loss: 7.0564e-05 - val_mse: 1.2344e-04\n",
      "Epoch 179/500\n",
      "781/781 [==============================] - 29s 37ms/step - loss: 3.0198e-05 - mse: 4.2440e-05 - val_loss: 3.5357e-05 - val_mse: 5.2861e-05\n",
      "Epoch 180/500\n",
      "781/781 [==============================] - 30s 38ms/step - loss: 3.0869e-05 - mse: 4.3951e-05 - val_loss: 5.2233e-05 - val_mse: 8.7000e-05\n",
      "Epoch 181/500\n",
      "781/781 [==============================] - 30s 39ms/step - loss: 3.6586e-05 - mse: 5.5453e-05 - val_loss: 2.5569e-05 - val_mse: 3.3407e-05\n",
      "Epoch 182/500\n",
      "781/781 [==============================] - 29s 37ms/step - loss: 2.6902e-05 - mse: 3.6092e-05 - val_loss: 2.4258e-05 - val_mse: 3.0960e-05\n"
     ]
    },
    {
     "name": "stderr",
     "output_type": "stream",
     "text": [
      "WARNING:absl:Found untraced functions such as lstm_cell_5_layer_call_and_return_conditional_losses, lstm_cell_5_layer_call_fn, lstm_cell_6_layer_call_and_return_conditional_losses, lstm_cell_6_layer_call_fn, lstm_cell_5_layer_call_fn while saving (showing 5 of 10). These functions will not be directly callable after loading.\n"
     ]
    },
    {
     "name": "stdout",
     "output_type": "stream",
     "text": [
      "INFO:tensorflow:Assets written to: s2s_LSTM_256TimeD_43\\assets\n"
     ]
    },
    {
     "name": "stderr",
     "output_type": "stream",
     "text": [
      "INFO:tensorflow:Assets written to: s2s_LSTM_256TimeD_43\\assets\n"
     ]
    },
    {
     "name": "stdout",
     "output_type": "stream",
     "text": [
      "Epoch 183/500\n",
      "781/781 [==============================] - 29s 37ms/step - loss: 3.4781e-05 - mse: 5.2067e-05 - val_loss: 2.9440e-05 - val_mse: 4.1519e-05\n",
      "Epoch 184/500\n",
      "781/781 [==============================] - 29s 37ms/step - loss: 3.2696e-05 - mse: 4.7889e-05 - val_loss: 1.9314e-05 - val_mse: 2.1033e-05\n"
     ]
    },
    {
     "name": "stderr",
     "output_type": "stream",
     "text": [
      "WARNING:absl:Found untraced functions such as lstm_cell_5_layer_call_and_return_conditional_losses, lstm_cell_5_layer_call_fn, lstm_cell_6_layer_call_and_return_conditional_losses, lstm_cell_6_layer_call_fn, lstm_cell_5_layer_call_fn while saving (showing 5 of 10). These functions will not be directly callable after loading.\n"
     ]
    },
    {
     "name": "stdout",
     "output_type": "stream",
     "text": [
      "INFO:tensorflow:Assets written to: s2s_LSTM_256TimeD_43\\assets\n"
     ]
    },
    {
     "name": "stderr",
     "output_type": "stream",
     "text": [
      "INFO:tensorflow:Assets written to: s2s_LSTM_256TimeD_43\\assets\n"
     ]
    },
    {
     "name": "stdout",
     "output_type": "stream",
     "text": [
      "Epoch 185/500\n",
      "781/781 [==============================] - 29s 37ms/step - loss: 2.7389e-05 - mse: 3.7368e-05 - val_loss: 2.5344e-05 - val_mse: 3.3421e-05\n",
      "Epoch 186/500\n",
      "781/781 [==============================] - 29s 37ms/step - loss: 3.7365e-05 - mse: 5.7473e-05 - val_loss: 2.5329e-05 - val_mse: 3.3311e-05\n",
      "Epoch 187/500\n",
      "781/781 [==============================] - 29s 37ms/step - loss: 2.7028e-05 - mse: 3.6746e-05 - val_loss: 2.2538e-05 - val_mse: 2.7752e-05\n",
      "Epoch 188/500\n",
      "781/781 [==============================] - 30s 39ms/step - loss: 3.1781e-05 - mse: 4.6471e-05 - val_loss: 4.0564e-05 - val_mse: 6.4121e-05\n",
      "Epoch 189/500\n",
      "781/781 [==============================] - 30s 39ms/step - loss: 3.4052e-05 - mse: 5.1024e-05 - val_loss: 2.3462e-05 - val_mse: 2.9655e-05\n",
      "Epoch 190/500\n",
      "781/781 [==============================] - 29s 37ms/step - loss: 2.5791e-05 - mse: 3.4544e-05 - val_loss: 3.1706e-05 - val_mse: 4.6438e-05\n",
      "Epoch 191/500\n",
      "781/781 [==============================] - 29s 37ms/step - loss: 3.6601e-05 - mse: 5.6356e-05 - val_loss: 3.5726e-05 - val_mse: 5.4516e-05\n",
      "Epoch 192/500\n",
      "781/781 [==============================] - 29s 37ms/step - loss: 2.7574e-05 - mse: 3.8228e-05 - val_loss: 2.2341e-05 - val_mse: 2.7703e-05\n",
      "Epoch 193/500\n",
      "781/781 [==============================] - 29s 37ms/step - loss: 2.9340e-05 - mse: 4.1951e-05 - val_loss: 3.8337e-05 - val_mse: 6.0002e-05\n",
      "Epoch 194/500\n",
      "781/781 [==============================] - 29s 37ms/step - loss: 3.5216e-05 - mse: 5.3743e-05 - val_loss: 2.2849e-05 - val_mse: 2.8883e-05\n",
      "Epoch 195/500\n",
      "781/781 [==============================] - 29s 37ms/step - loss: 2.4858e-05 - mse: 3.3031e-05 - val_loss: 2.1937e-05 - val_mse: 2.7268e-05\n",
      "Epoch 196/500\n",
      "781/781 [==============================] - 29s 37ms/step - loss: 3.4929e-05 - mse: 5.3376e-05 - val_loss: 3.2109e-05 - val_mse: 4.7737e-05\n",
      "Epoch 197/500\n",
      "781/781 [==============================] - 29s 37ms/step - loss: 2.8639e-05 - mse: 4.0738e-05 - val_loss: 1.8947e-05 - val_mse: 2.1326e-05\n"
     ]
    },
    {
     "name": "stderr",
     "output_type": "stream",
     "text": [
      "WARNING:absl:Found untraced functions such as lstm_cell_5_layer_call_and_return_conditional_losses, lstm_cell_5_layer_call_fn, lstm_cell_6_layer_call_and_return_conditional_losses, lstm_cell_6_layer_call_fn, lstm_cell_5_layer_call_fn while saving (showing 5 of 10). These functions will not be directly callable after loading.\n"
     ]
    },
    {
     "name": "stdout",
     "output_type": "stream",
     "text": [
      "INFO:tensorflow:Assets written to: s2s_LSTM_256TimeD_43\\assets\n"
     ]
    },
    {
     "name": "stderr",
     "output_type": "stream",
     "text": [
      "INFO:tensorflow:Assets written to: s2s_LSTM_256TimeD_43\\assets\n"
     ]
    },
    {
     "name": "stdout",
     "output_type": "stream",
     "text": [
      "Epoch 198/500\n",
      "781/781 [==============================] - 28s 36ms/step - loss: 2.8052e-05 - mse: 3.9716e-05 - val_loss: 2.8398e-05 - val_mse: 4.0524e-05\n",
      "Epoch 199/500\n",
      "781/781 [==============================] - 29s 37ms/step - loss: 3.4586e-05 - mse: 5.2842e-05 - val_loss: 2.1546e-05 - val_mse: 2.6713e-05\n",
      "Epoch 200/500\n",
      "781/781 [==============================] - 29s 37ms/step - loss: 2.5323e-05 - mse: 3.4309e-05 - val_loss: 2.1250e-05 - val_mse: 2.6273e-05\n",
      "Epoch 201/500\n",
      "781/781 [==============================] - 29s 37ms/step - loss: 3.2432e-05 - mse: 4.8688e-05 - val_loss: 3.3331e-05 - val_mse: 5.0647e-05\n",
      "Epoch 202/500\n",
      "781/781 [==============================] - 29s 37ms/step - loss: 3.0308e-05 - mse: 4.4407e-05 - val_loss: 2.0900e-05 - val_mse: 2.5597e-05\n",
      "Epoch 203/500\n",
      "781/781 [==============================] - 28s 36ms/step - loss: 2.5366e-05 - mse: 3.4621e-05 - val_loss: 3.8742e-05 - val_mse: 6.1633e-05\n",
      "Epoch 204/500\n",
      "781/781 [==============================] - 28s 36ms/step - loss: 3.5899e-05 - mse: 5.5796e-05 - val_loss: 3.6985e-05 - val_mse: 5.8032e-05\n",
      "Epoch 205/500\n",
      "781/781 [==============================] - 28s 36ms/step - loss: 2.4840e-05 - mse: 3.3618e-05 - val_loss: 3.3553e-05 - val_mse: 5.1229e-05\n",
      "Epoch 206/500\n",
      "781/781 [==============================] - 29s 37ms/step - loss: 3.0988e-05 - mse: 4.6109e-05 - val_loss: 1.0420e-04 - val_mse: 1.9284e-04\n",
      "Epoch 207/500\n",
      "781/781 [==============================] - 29s 36ms/step - loss: 3.1409e-05 - mse: 4.6910e-05 - val_loss: 3.9972e-05 - val_mse: 6.4097e-05\n",
      "Epoch 208/500\n",
      "781/781 [==============================] - 29s 37ms/step - loss: 2.3916e-05 - mse: 3.1991e-05 - val_loss: 8.9874e-05 - val_mse: 1.6424e-04\n",
      "Epoch 209/500\n",
      "781/781 [==============================] - 30s 38ms/step - loss: 3.5228e-05 - mse: 5.4770e-05 - val_loss: 1.3131e-04 - val_mse: 2.4716e-04\n",
      "Epoch 210/500\n",
      "781/781 [==============================] - 30s 38ms/step - loss: 2.5342e-05 - mse: 3.4909e-05 - val_loss: 6.2452e-05 - val_mse: 1.0932e-04\n",
      "Epoch 211/500\n",
      "781/781 [==============================] - 30s 38ms/step - loss: 2.7977e-05 - mse: 4.0362e-05 - val_loss: 3.8539e-04 - val_mse: 7.5530e-04\n",
      "Epoch 212/500\n",
      "781/781 [==============================] - 30s 38ms/step - loss: 3.2679e-05 - mse: 4.9756e-05 - val_loss: 8.4698e-05 - val_mse: 1.5393e-04\n",
      "Epoch 213/500\n",
      "781/781 [==============================] - 29s 37ms/step - loss: 2.3488e-05 - mse: 3.1409e-05 - val_loss: 1.3861e-04 - val_mse: 2.6199e-04\n",
      "Epoch 214/500\n",
      "781/781 [==============================] - 29s 37ms/step - loss: 3.4046e-05 - mse: 5.2673e-05 - val_loss: 2.3997e-04 - val_mse: 4.6480e-04\n",
      "Epoch 215/500\n",
      "781/781 [==============================] - 29s 37ms/step - loss: 2.5348e-05 - mse: 3.5197e-05 - val_loss: 9.3851e-05 - val_mse: 1.7242e-04\n",
      "Epoch 216/500\n",
      "781/781 [==============================] - 29s 37ms/step - loss: 2.7322e-05 - mse: 3.9322e-05 - val_loss: 4.6949e-04 - val_mse: 9.2385e-04\n",
      "Epoch 217/500\n",
      "781/781 [==============================] - 29s 38ms/step - loss: 3.1987e-05 - mse: 4.8664e-05 - val_loss: 1.3540e-04 - val_mse: 2.5567e-04\n",
      "Epoch 218/500\n",
      "781/781 [==============================] - 29s 37ms/step - loss: 2.3648e-05 - mse: 3.1996e-05 - val_loss: 1.6474e-04 - val_mse: 3.1451e-04\n",
      "Epoch 219/500\n",
      "781/781 [==============================] - 29s 37ms/step - loss: 3.2149e-05 - mse: 4.9134e-05 - val_loss: 2.9868e-04 - val_mse: 5.8256e-04\n",
      "Epoch 220/500\n",
      "781/781 [==============================] - 29s 37ms/step - loss: 2.6055e-05 - mse: 3.6896e-05 - val_loss: 1.1300e-04 - val_mse: 2.1101e-04\n",
      "Epoch 221/500\n",
      "781/781 [==============================] - 29s 37ms/step - loss: 2.6496e-05 - mse: 3.7914e-05 - val_loss: 3.3054e-04 - val_mse: 6.4635e-04\n",
      "Epoch 222/500\n",
      "781/781 [==============================] - 29s 37ms/step - loss: 3.2248e-05 - mse: 4.9433e-05 - val_loss: 1.3759e-04 - val_mse: 2.6033e-04\n",
      "Epoch 223/500\n",
      "781/781 [==============================] - 29s 37ms/step - loss: 2.2443e-05 - mse: 2.9838e-05 - val_loss: 1.4410e-04 - val_mse: 2.7353e-04\n",
      "Epoch 224/500\n",
      "781/781 [==============================] - 29s 37ms/step - loss: 3.1515e-05 - mse: 4.8150e-05 - val_loss: 2.9117e-04 - val_mse: 5.6791e-04\n",
      "Epoch 225/500\n",
      "781/781 [==============================] - 29s 37ms/step - loss: 2.6187e-05 - mse: 3.7432e-05 - val_loss: 9.9334e-05 - val_mse: 1.8395e-04\n",
      "Epoch 226/500\n",
      "781/781 [==============================] - 29s 37ms/step - loss: 2.4996e-05 - mse: 3.5192e-05 - val_loss: 2.6197e-04 - val_mse: 5.0949e-04\n",
      "Epoch 227/500\n",
      "781/781 [==============================] - 30s 38ms/step - loss: 3.2923e-05 - mse: 5.1086e-05 - val_loss: 1.4649e-04 - val_mse: 2.7848e-04\n",
      "Epoch 228/500\n",
      "781/781 [==============================] - 30s 38ms/step - loss: 2.1758e-05 - mse: 2.8744e-05 - val_loss: 1.1847e-04 - val_mse: 2.2252e-04\n",
      "Epoch 229/500\n",
      "781/781 [==============================] - 30s 38ms/step - loss: 2.9528e-05 - mse: 4.4472e-05 - val_loss: 3.2481e-04 - val_mse: 6.3551e-04\n",
      "Epoch 230/500\n",
      "781/781 [==============================] - 30s 38ms/step - loss: 2.8221e-05 - mse: 4.1796e-05 - val_loss: 9.1567e-05 - val_mse: 1.6870e-04\n",
      "Epoch 231/500\n",
      "781/781 [==============================] - 30s 39ms/step - loss: 2.2669e-05 - mse: 3.0814e-05 - val_loss: 2.0359e-04 - val_mse: 3.9310e-04\n",
      "Epoch 232/500\n",
      "781/781 [==============================] - 30s 38ms/step - loss: 3.1817e-05 - mse: 4.9201e-05 - val_loss: 2.2667e-04 - val_mse: 4.3930e-04\n",
      "Epoch 233/500\n",
      "781/781 [==============================] - 29s 37ms/step - loss: 2.3516e-05 - mse: 3.2571e-05 - val_loss: 1.1506e-04 - val_mse: 2.1597e-04\n",
      "Epoch 234/500\n",
      "781/781 [==============================] - 29s 37ms/step - loss: 2.7125e-05 - mse: 3.9951e-05 - val_loss: 3.0804e-04 - val_mse: 6.0218e-04\n",
      "Epoch 235/500\n",
      "781/781 [==============================] - 29s 37ms/step - loss: 3.0116e-05 - mse: 4.5902e-05 - val_loss: 1.0269e-04 - val_mse: 1.9126e-04\n",
      "Epoch 236/500\n",
      "781/781 [==============================] - 29s 37ms/step - loss: 2.1540e-05 - mse: 2.8823e-05 - val_loss: 1.7302e-04 - val_mse: 3.3218e-04\n",
      "Epoch 237/500\n",
      "781/781 [==============================] - 29s 37ms/step - loss: 3.1953e-05 - mse: 4.9769e-05 - val_loss: 2.3770e-04 - val_mse: 4.6160e-04\n",
      "Epoch 238/500\n",
      "781/781 [==============================] - 29s 37ms/step - loss: 2.2641e-05 - mse: 3.1092e-05 - val_loss: 1.0239e-04 - val_mse: 1.9088e-04\n",
      "Epoch 239/500\n",
      "781/781 [==============================] - 29s 37ms/step - loss: 2.6859e-05 - mse: 3.9701e-05 - val_loss: 3.0689e-04 - val_mse: 6.0014e-04\n",
      "Epoch 240/500\n",
      "781/781 [==============================] - 29s 37ms/step - loss: 2.9285e-05 - mse: 4.4522e-05 - val_loss: 9.6102e-05 - val_mse: 1.7836e-04\n",
      "Epoch 241/500\n",
      "781/781 [==============================] - 29s 37ms/step - loss: 2.1181e-05 - mse: 2.8397e-05 - val_loss: 1.7092e-04 - val_mse: 3.2824e-04\n",
      "Epoch 242/500\n",
      "781/781 [==============================] - 29s 37ms/step - loss: 3.1180e-05 - mse: 4.8509e-05 - val_loss: 2.5369e-04 - val_mse: 4.9387e-04\n",
      "Epoch 243/500\n",
      "781/781 [==============================] - 29s 37ms/step - loss: 2.3031e-05 - mse: 3.2153e-05 - val_loss: 9.6346e-05 - val_mse: 1.7903e-04\n",
      "Epoch 244/500\n",
      "781/781 [==============================] - 29s 37ms/step - loss: 2.4974e-05 - mse: 3.6194e-05 - val_loss: 2.7532e-04 - val_mse: 5.3721e-04\n",
      "Epoch 245/500\n",
      "781/781 [==============================] - 29s 37ms/step - loss: 2.9430e-05 - mse: 4.5116e-05 - val_loss: 1.3596e-04 - val_mse: 2.5841e-04\n",
      "Epoch 246/500\n",
      "781/781 [==============================] - 29s 37ms/step - loss: 2.1223e-05 - mse: 2.8723e-05 - val_loss: 1.3517e-04 - val_mse: 2.5694e-04\n",
      "Epoch 247/500\n",
      "781/781 [==============================] - 29s 37ms/step - loss: 2.8652e-05 - mse: 4.3707e-05 - val_loss: 2.5979e-04 - val_mse: 5.0634e-04\n",
      "Epoch 248/500\n",
      "781/781 [==============================] - 29s 37ms/step - loss: 2.5200e-05 - mse: 3.6758e-05 - val_loss: 1.0041e-04 - val_mse: 1.8742e-04\n",
      "Epoch 249/500\n",
      "781/781 [==============================] - 29s 37ms/step - loss: 2.2995e-05 - mse: 3.2468e-05 - val_loss: 2.2963e-04 - val_mse: 4.4609e-04\n",
      "Epoch 250/500\n",
      "781/781 [==============================] - 29s 37ms/step - loss: 3.0877e-05 - mse: 4.8254e-05 - val_loss: 1.4480e-04 - val_mse: 2.7636e-04\n",
      "Epoch 251/500\n",
      "781/781 [==============================] - 29s 37ms/step - loss: 2.0500e-05 - mse: 2.7491e-05 - val_loss: 1.0532e-04 - val_mse: 1.9746e-04\n",
      "Epoch 252/500\n",
      "781/781 [==============================] - 29s 37ms/step - loss: 2.7416e-05 - mse: 4.1485e-05 - val_loss: 2.3867e-04 - val_mse: 4.6440e-04\n",
      "Epoch 253/500\n",
      "781/781 [==============================] - 29s 37ms/step - loss: 2.6637e-05 - mse: 3.9864e-05 - val_loss: 8.4626e-05 - val_mse: 1.5606e-04\n",
      "Epoch 254/500\n",
      "781/781 [==============================] - 29s 37ms/step - loss: 2.1284e-05 - mse: 2.9248e-05 - val_loss: 1.5707e-04 - val_mse: 3.0122e-04\n",
      "Epoch 255/500\n",
      "781/781 [==============================] - 29s 37ms/step - loss: 2.9650e-05 - mse: 4.6045e-05 - val_loss: 1.6083e-04 - val_mse: 3.0870e-04\n",
      "Epoch 256/500\n",
      "781/781 [==============================] - 29s 37ms/step - loss: 2.1539e-05 - mse: 2.9789e-05 - val_loss: 8.1593e-05 - val_mse: 1.5019e-04\n",
      "Epoch 257/500\n",
      "781/781 [==============================] - 29s 37ms/step - loss: 2.5606e-05 - mse: 3.8076e-05 - val_loss: 1.7962e-04 - val_mse: 3.4646e-04\n",
      "Epoch 258/500\n",
      "781/781 [==============================] - 29s 37ms/step - loss: 2.7416e-05 - mse: 4.1637e-05 - val_loss: 5.8709e-05 - val_mse: 1.0440e-04\n",
      "Epoch 259/500\n",
      "781/781 [==============================] - 29s 37ms/step - loss: 2.0340e-05 - mse: 2.7562e-05 - val_loss: 7.9616e-05 - val_mse: 1.4646e-04\n",
      "Epoch 260/500\n",
      "781/781 [==============================] - 29s 37ms/step - loss: 2.9206e-05 - mse: 4.5378e-05 - val_loss: 7.7001e-05 - val_mse: 1.4116e-04\n",
      "Epoch 261/500\n",
      "781/781 [==============================] - 29s 37ms/step - loss: 2.1871e-05 - mse: 3.0650e-05 - val_loss: 2.9499e-05 - val_mse: 4.6094e-05\n",
      "CPU times: total: 2h 23min 55s\n",
      "Wall time: 2h 13min 44s\n"
     ]
    },
    {
     "data": {
      "text/plain": [
       "<keras.callbacks.History at 0x1a732e91eb0>"
      ]
     },
     "execution_count": 32,
     "metadata": {},
     "output_type": "execute_result"
    }
   ],
   "source": [
    "%%time\n",
    "\n",
    "\n",
    "#________________________________ LSTM\n",
    "\n",
    "name_model = \"s2s_LSTM_256TimeD_43\"\n",
    "\n",
    "keras.backend.clear_session()\n",
    "\n",
    "# Definir hiperparâmetros\n",
    "learning_rate = 0.0001\n",
    "l2_reg = 0.00001\n",
    "dropout_rate = 0.001\n",
    "func_act='sigmoid'\n",
    "\n",
    "batch_size = 128\n",
    "window_size = 32\n",
    "num_inputs  = train.shape[1]\n",
    "num_targets = 3\n",
    "stride = 3\n",
    "sampling_rate=1\n",
    "\n",
    "\n",
    "\n",
    "# Definir a entrada da rede\n",
    "inputs = keras.layers.Input(shape=[None, num_inputs])\n",
    "\n",
    "# LSTM\n",
    "reshaped_inputs = keras.layers.Reshape((-1, num_inputs))(inputs)\n",
    "lstm = keras.layers.LSTM(512, return_sequences=True, kernel_regularizer=keras.regularizers.L2(l2_reg))(reshaped_inputs)\n",
    "lstm = keras.layers.LSTM(512, return_sequences=True, kernel_regularizer=keras.regularizers.L2(l2_reg))(reshaped_inputs)\n",
    "lstm = keras.layers.Dropout(rate=dropout_rate)(lstm)\n",
    "lstm = keras.layers.LSTM(512, return_sequences=True, kernel_regularizer=keras.regularizers.L2(l2_reg))(lstm)\n",
    "lstm = keras.layers.LSTM(512, return_sequences=True, kernel_regularizer=keras.regularizers.L2(l2_reg))(reshaped_inputs)\n",
    "lstm = keras.layers.Dropout(rate=dropout_rate)(lstm)\n",
    "lstm = keras.layers.LSTM(512, return_sequences=True, kernel_regularizer=keras.regularizers.L2(l2_reg))(lstm)\n",
    "lstm = keras.layers.LSTM(512, return_sequences=True, kernel_regularizer=keras.regularizers.L2(l2_reg))(reshaped_inputs)\n",
    "lstm = keras.layers.Dropout(rate=dropout_rate)(lstm)\n",
    "\n",
    "# TimeDistributed Dense\n",
    "timed = keras.layers.TimeDistributed(keras.layers.Dense(512))(lstm)\n",
    "timed = keras.layers.TimeDistributed(keras.layers.Dropout(rate=dropout_rate))(timed)\n",
    "\n",
    "\n",
    "# LSTM\n",
    "lstm = keras.layers.LSTM(256, return_sequences=False, kernel_regularizer=keras.regularizers.L2(l2_reg))(timed)\n",
    "output_lstm = keras.layers.Dense(num_targets)(lstm)\n",
    "\n",
    "\n",
    "# Definir o modelo com a entrada e saída\n",
    "model = keras.models.Model(inputs=inputs, outputs=output_lstm)\n",
    "\n",
    "# Definir o otimizador com taxa de aprendizado definida\n",
    "optimizer = keras.optimizers.Adam(learning_rate=learning_rate)\n",
    "\n",
    "\n",
    "# Compilar o modelo com a função de perda, otimizador e métrica desejados\n",
    "model.compile(loss=keras.losses.logcosh, optimizer=optimizer, metrics=[\"mse\"])\n",
    "\n",
    "# Adicionar callbacks para o modelo\n",
    "model_checkpoint = keras.callbacks.ModelCheckpoint(name_model, save_best_only=True)\n",
    "early_stopping = keras.callbacks.EarlyStopping(patience=64)\n",
    "\n",
    "# Treinar o modelo\n",
    "model.fit(train_set,\n",
    "          steps_per_epoch= len(train)//batch_size,\n",
    "          epochs=500,\n",
    "          validation_data=valid_set,\n",
    "          validation_steps=len(valid)//batch_size,\n",
    "          callbacks=[early_stopping,\n",
    "                     model_checkpoint])"
   ]
  },
  {
   "cell_type": "code",
   "execution_count": 33,
   "id": "0c6bee90",
   "metadata": {
    "hidden": true,
    "scrolled": true
   },
   "outputs": [
    {
     "data": {
      "text/plain": [
       "'s2s_LSTM_256TimeD_43'"
      ]
     },
     "execution_count": 33,
     "metadata": {},
     "output_type": "execute_result"
    }
   ],
   "source": [
    "name_model"
   ]
  },
  {
   "cell_type": "code",
   "execution_count": 34,
   "id": "d83bfbb0",
   "metadata": {
    "hidden": true
   },
   "outputs": [],
   "source": [
    "model = keras.models.load_model(name_model)"
   ]
  },
  {
   "cell_type": "code",
   "execution_count": 35,
   "id": "58fbc975",
   "metadata": {
    "hidden": true
   },
   "outputs": [
    {
     "name": "stdout",
     "output_type": "stream",
     "text": [
      "160/160 [==============================] - 3s 16ms/step - loss: 3.1208e-05 - mse: 4.5855e-05\n"
     ]
    }
   ],
   "source": [
    "loss, metric = model.evaluate(test_set, steps=len(test)//batch_size)"
   ]
  },
  {
   "cell_type": "code",
   "execution_count": null,
   "id": "f261fcbf",
   "metadata": {
    "hidden": true
   },
   "outputs": [],
   "source": []
  },
  {
   "cell_type": "markdown",
   "id": "a87f1c30",
   "metadata": {
    "heading_collapsed": true,
    "hidden": true
   },
   "source": [
    "### Avaliação"
   ]
  },
  {
   "cell_type": "code",
   "execution_count": 44,
   "id": "ec7e7770",
   "metadata": {
    "hidden": true
   },
   "outputs": [
    {
     "data": {
      "text/plain": [
       "'s2s_LSTM_320'"
      ]
     },
     "execution_count": 44,
     "metadata": {},
     "output_type": "execute_result"
    }
   ],
   "source": [
    "name_model"
   ]
  },
  {
   "cell_type": "code",
   "execution_count": 45,
   "id": "1d8a8042",
   "metadata": {
    "hidden": true
   },
   "outputs": [
    {
     "name": "stdout",
     "output_type": "stream",
     "text": [
      "160/160 [==============================] - 5s 29ms/step - loss: 0.0029 - mse: 0.0057\n"
     ]
    }
   ],
   "source": [
    "loss, metric = model.evaluate(test_set, steps=len(test)//batch_size)"
   ]
  },
  {
   "cell_type": "code",
   "execution_count": 46,
   "id": "73b92bfa",
   "metadata": {
    "hidden": true
   },
   "outputs": [],
   "source": [
    "model = keras.models.load_model(name_model)"
   ]
  },
  {
   "cell_type": "code",
   "execution_count": 47,
   "id": "2394c89f",
   "metadata": {
    "hidden": true
   },
   "outputs": [
    {
     "name": "stdout",
     "output_type": "stream",
     "text": [
      "160/160 [==============================] - 7s 30ms/step - loss: 1.3018e-04 - mse: 8.4895e-05\n"
     ]
    }
   ],
   "source": [
    "loss, metric = model.evaluate(test_set, steps=len(test)//batch_size)"
   ]
  },
  {
   "cell_type": "code",
   "execution_count": null,
   "id": "d01fe58c",
   "metadata": {
    "hidden": true
   },
   "outputs": [],
   "source": []
  },
  {
   "cell_type": "markdown",
   "id": "13713143",
   "metadata": {
    "heading_collapsed": true
   },
   "source": [
    "# Previções\n",
    "Realizaremos as previsões concluindo o Projeto."
   ]
  },
  {
   "cell_type": "code",
   "execution_count": null,
   "id": "2b60ac97",
   "metadata": {
    "hidden": true
   },
   "outputs": [],
   "source": [
    "predictions = model.predict(test_set, steps=len(test)//batch_size)"
   ]
  },
  {
   "cell_type": "code",
   "execution_count": null,
   "id": "7f61c6f2",
   "metadata": {
    "hidden": true
   },
   "outputs": [],
   "source": [
    "predictions2 = model.predict(test_set, steps=len(test)//batch_size*2)"
   ]
  },
  {
   "cell_type": "code",
   "execution_count": null,
   "id": "a3bf45c0",
   "metadata": {
    "hidden": true
   },
   "outputs": [],
   "source": [
    "predictions3 = model.predict(test_set, steps=1)"
   ]
  },
  {
   "cell_type": "code",
   "execution_count": null,
   "id": "1bc335d6",
   "metadata": {
    "hidden": true,
    "scrolled": false
   },
   "outputs": [],
   "source": [
    "predictions4 = model.predict(test_set_2, steps=1)"
   ]
  },
  {
   "cell_type": "code",
   "execution_count": null,
   "id": "e783040c",
   "metadata": {
    "hidden": true,
    "scrolled": false
   },
   "outputs": [],
   "source": [
    "predictions4"
   ]
  }
 ],
 "metadata": {
  "kernelspec": {
   "display_name": "Python 3 (ipykernel)",
   "language": "python",
   "name": "python3"
  },
  "language_info": {
   "codemirror_mode": {
    "name": "ipython",
    "version": 3
   },
   "file_extension": ".py",
   "mimetype": "text/x-python",
   "name": "python",
   "nbconvert_exporter": "python",
   "pygments_lexer": "ipython3",
   "version": "3.9.16"
  },
  "toc": {
   "base_numbering": 1,
   "nav_menu": {},
   "number_sections": true,
   "sideBar": true,
   "skip_h1_title": false,
   "title_cell": "Table of Contents",
   "title_sidebar": "Contents",
   "toc_cell": false,
   "toc_position": {},
   "toc_section_display": true,
   "toc_window_display": false
  }
 },
 "nbformat": 4,
 "nbformat_minor": 5
}
