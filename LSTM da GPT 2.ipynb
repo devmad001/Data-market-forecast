{
 "cells": [
  {
   "cell_type": "code",
   "execution_count": 1,
   "id": "5091d949",
   "metadata": {},
   "outputs": [],
   "source": [
    "import numpy as np\n",
    "import pandas as pd\n",
    "from keras.models import Sequential\n",
    "from keras.layers import LSTM, Dense\n",
    "from keras.preprocessing.sequence import TimeseriesGenerator"
   ]
  },
  {
   "cell_type": "code",
   "execution_count": 2,
   "id": "a2b9579f",
   "metadata": {},
   "outputs": [],
   "source": [
    "path = r'C:\\Users\\adria\\1Python\\Meu_novo_projeto\\WIN_N_1K\\WIN_N_1k.csv'\n",
    "raw = pd.read_csv(path, index_col=0, parse_dates=True)"
   ]
  },
  {
   "cell_type": "code",
   "execution_count": 3,
   "id": "b37d9062",
   "metadata": {},
   "outputs": [],
   "source": [
    "df = pd.DataFrame()"
   ]
  },
  {
   "cell_type": "code",
   "execution_count": 4,
   "id": "a279a66f",
   "metadata": {},
   "outputs": [],
   "source": [
    "df['close'] = (raw['high'] + raw['low']) / 2"
   ]
  },
  {
   "cell_type": "code",
   "execution_count": 5,
   "id": "d42b46a3",
   "metadata": {},
   "outputs": [],
   "source": [
    "df['high'] = raw['high']\n",
    "df['low'] = raw['low']"
   ]
  },
  {
   "cell_type": "code",
   "execution_count": null,
   "id": "6facd496",
   "metadata": {},
   "outputs": [],
   "source": []
  },
  {
   "cell_type": "code",
   "execution_count": 6,
   "id": "b5a79d26",
   "metadata": {},
   "outputs": [
    {
     "ename": "NameError",
     "evalue": "name 'qtd_treino' is not defined",
     "output_type": "error",
     "traceback": [
      "\u001b[1;31m---------------------------------------------------------------------------\u001b[0m",
      "\u001b[1;31mNameError\u001b[0m                                 Traceback (most recent call last)",
      "Cell \u001b[1;32mIn[6], line 1\u001b[0m\n\u001b[1;32m----> 1\u001b[0m dados_treino \u001b[38;5;241m=\u001b[39m df\u001b[38;5;241m.\u001b[39miloc[:\u001b[43mqtd_treino\u001b[49m]\n\u001b[0;32m      2\u001b[0m dados_valid \u001b[38;5;241m=\u001b[39m df\u001b[38;5;241m.\u001b[39miloc[qtd_treino:qtd_treino\u001b[38;5;241m+\u001b[39mqtd_valid]\n\u001b[0;32m      3\u001b[0m dados_teste \u001b[38;5;241m=\u001b[39m df\u001b[38;5;241m.\u001b[39miloc[qtd_treino\u001b[38;5;241m+\u001b[39mqtd_valid:]\n",
      "\u001b[1;31mNameError\u001b[0m: name 'qtd_treino' is not defined"
     ]
    }
   ],
   "source": [
    "dados_treino = df.iloc[:qtd_treino]\n",
    "dados_valid = df.iloc[qtd_treino:qtd_treino+qtd_valid]\n",
    "dados_teste = df.iloc[qtd_treino+qtd_valid:]"
   ]
  },
  {
   "cell_type": "code",
   "execution_count": 7,
   "id": "5b10d42c",
   "metadata": {},
   "outputs": [
    {
     "ename": "NameError",
     "evalue": "name 'dados_treino' is not defined",
     "output_type": "error",
     "traceback": [
      "\u001b[1;31m---------------------------------------------------------------------------\u001b[0m",
      "\u001b[1;31mNameError\u001b[0m                                 Traceback (most recent call last)",
      "Cell \u001b[1;32mIn[7], line 2\u001b[0m\n\u001b[0;32m      1\u001b[0m \u001b[38;5;66;03m# Normaliza os dados\u001b[39;00m\n\u001b[1;32m----> 2\u001b[0m media \u001b[38;5;241m=\u001b[39m \u001b[43mdados_treino\u001b[49m\u001b[38;5;241m.\u001b[39mmean()\n\u001b[0;32m      3\u001b[0m std \u001b[38;5;241m=\u001b[39m dados_treino\u001b[38;5;241m.\u001b[39mstd()\n\u001b[0;32m      5\u001b[0m dados_treino_norm \u001b[38;5;241m=\u001b[39m (dados_treino \u001b[38;5;241m-\u001b[39m media) \u001b[38;5;241m/\u001b[39m std\n",
      "\u001b[1;31mNameError\u001b[0m: name 'dados_treino' is not defined"
     ]
    }
   ],
   "source": [
    "# Normaliza os dados\n",
    "media = dados_treino.mean()\n",
    "std = dados_treino.std()\n",
    "\n",
    "dados_treino_norm = (dados_treino - media) / std\n",
    "dados_valid_norm = (dados_valid - media) / std\n",
    "dados_teste_norm = (dados_teste - media) / std"
   ]
  },
  {
   "cell_type": "code",
   "execution_count": null,
   "id": "650920e4",
   "metadata": {},
   "outputs": [],
   "source": [
    "# Prepara os dados de treinamento, validação e teste\n",
    "janela_tempo = 10\n",
    "\n",
    "gen_treino = TimeseriesGenerator(dados_treino_norm[recursos].values,\n",
    "                                 dados_treino_norm[saida].values,\n",
    "                                 length=janela_tempo, batch_size=32)\n",
    "\n",
    "gen_valid = TimeseriesGenerator(dados_valid_norm[recursos].values,\n",
    "                                dados_valid_norm[saida].values,\n",
    "                                length=janela_tempo, batch_size=32)\n",
    "\n",
    "gen_teste = TimeseriesGenerator(dados_teste_norm[recursos].values,\n",
    "                                dados_teste_norm[saida].values,\n",
    "                                length=janela_tempo, batch_size=32)"
   ]
  },
  {
   "cell_type": "code",
   "execution_count": null,
   "id": "19243529",
   "metadata": {},
   "outputs": [],
   "source": [
    "# Cria o modelo da rede neural LSTM\n",
    "modelo = Sequential()\n",
    "modelo.add(LSTM(units=50, return_sequences=True, input_shape=(janela_tempo, len(recursos))))\n",
    "modelo.add(LSTM(units=50, return_sequences=True))\n",
    "modelo.add(LSTM(units=50))\n",
    "modelo.add(Dense(units=1))\n",
    "\n",
    "modelo.compile(optimizer='adam', loss='mean_squared_error')"
   ]
  },
  {
   "cell_type": "code",
   "execution_count": null,
   "id": "14d2a11c",
   "metadata": {},
   "outputs": [],
   "source": [
    "# Treina o modelo\n",
    "hist = modelo.fit_generator(gen_treino, epochs=100, validation_data=gen_valid)"
   ]
  },
  {
   "cell_type": "code",
   "execution_count": null,
   "id": "7574a14e",
   "metadata": {},
   "outputs": [],
   "source": [
    "# Testa o modelo\n",
    "previsao = modelo.predict_generator(gen_teste)\n",
    "previsao = (previsao * std[saida]) + media[saida]\n",
    "Y_teste = (gen_teste.targets * std[saida]) + media[saida]"
   ]
  },
  {
   "cell_type": "code",
   "execution_count": null,
   "id": "8a12b5d2",
   "metadata": {},
   "outputs": [],
   "source": [
    "# Avalia o modelo\n",
    "mse = modelo.evaluate_generator(gen_teste)\n",
    "\n",
    "print(f'MSE: {mse:.4f}')"
   ]
  },
  {
   "cell_type": "code",
   "execution_count": null,
   "id": "fa25c005",
   "metadata": {},
   "outputs": [],
   "source": []
  }
 ],
 "metadata": {
  "kernelspec": {
   "display_name": "Python 3 (ipykernel)",
   "language": "python",
   "name": "python3"
  },
  "language_info": {
   "codemirror_mode": {
    "name": "ipython",
    "version": 3
   },
   "file_extension": ".py",
   "mimetype": "text/x-python",
   "name": "python",
   "nbconvert_exporter": "python",
   "pygments_lexer": "ipython3",
   "version": "3.9.16"
  }
 },
 "nbformat": 4,
 "nbformat_minor": 5
}
