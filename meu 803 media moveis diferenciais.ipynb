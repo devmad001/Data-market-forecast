{
 "cells": [
  {
   "cell_type": "markdown",
   "metadata": {
    "id": "vidayERjaO5q"
   },
   "source": [
    "## Setup"
   ]
  },
  {
   "cell_type": "code",
   "execution_count": 1,
   "metadata": {
    "id": "gqWabzlJ63nL"
   },
   "outputs": [],
   "source": [
    "import numpy as np\n",
    "import matplotlib.pyplot as plt\n",
    "import pandas as pd\n",
    "\n",
    "import tensorflow as tf\n",
    "keras = tf.keras"
   ]
  },
  {
   "cell_type": "markdown",
   "metadata": {},
   "source": [
    "## Meus dados WIN"
   ]
  },
  {
   "cell_type": "code",
   "execution_count": 2,
   "metadata": {},
   "outputs": [],
   "source": [
    "path = r'C:\\Users\\adria\\1Python\\Meu_novo_projeto\\WIN_N_1K\\WIN_N_1k.csv'\n",
    "raw = pd.read_csv(path, index_col=0, parse_dates=True)"
   ]
  },
  {
   "cell_type": "code",
   "execution_count": 3,
   "metadata": {},
   "outputs": [],
   "source": [
    "df = pd.DataFrame()\n",
    "df['close'] = raw['close']"
   ]
  },
  {
   "cell_type": "code",
   "execution_count": 4,
   "metadata": {},
   "outputs": [],
   "source": [
    "df['r'] = df['close'].pct_change()"
   ]
  },
  {
   "cell_type": "code",
   "execution_count": 5,
   "metadata": {},
   "outputs": [],
   "source": [
    "df = df.dropna()"
   ]
  },
  {
   "cell_type": "code",
   "execution_count": 6,
   "metadata": {},
   "outputs": [],
   "source": [
    "series = df['r'].values"
   ]
  },
  {
   "cell_type": "code",
   "execution_count": 7,
   "metadata": {},
   "outputs": [],
   "source": [
    "time = np.arange(len(series))"
   ]
  },
  {
   "cell_type": "code",
   "execution_count": 8,
   "metadata": {},
   "outputs": [],
   "source": [
    "split_time = 80000\n",
    "time_train = time[:split_time]\n",
    "x_train = series[:split_time]\n",
    "time_valid = time[split_time:]\n",
    "x_valid = series[split_time:]"
   ]
  },
  {
   "cell_type": "markdown",
   "metadata": {
    "id": "MLtZbFoU8OH-"
   },
   "source": [
    "## Moving Average"
   ]
  },
  {
   "cell_type": "code",
   "execution_count": 9,
   "metadata": {
    "id": "Le2gNBthBWPN"
   },
   "outputs": [],
   "source": [
    "def moving_average_forecast(series, window_size):\n",
    "  \"\"\"Forecasts the mean of the last few values.\n",
    "     If window_size=1, then this is equivalent to naive forecast\n",
    "     This implementation is *much* faster than the previous one\"\"\"\n",
    "  mov = np.cumsum(series)\n",
    "  mov[window_size:] = mov[window_size:] - mov[:-window_size]\n",
    "  return mov[window_size - 1:-1] / window_size"
   ]
  },
  {
   "cell_type": "code",
   "execution_count": 10,
   "metadata": {
    "id": "F50zyJGoDNJl"
   },
   "outputs": [],
   "source": [
    "moving_avg = moving_average_forecast(series, 5)[split_time - 5:]"
   ]
  },
  {
   "cell_type": "code",
   "execution_count": 11,
   "metadata": {
    "id": "5pqySF7-rJR4"
   },
   "outputs": [],
   "source": [
    "diff_series = (series[10:] - series[:-10])\n",
    "diff_time = time[10:]"
   ]
  },
  {
   "cell_type": "code",
   "execution_count": 12,
   "metadata": {
    "id": "QmZpz7arsjbb"
   },
   "outputs": [],
   "source": [
    "diff_moving_avg = moving_average_forecast(diff_series, 5)[split_time - 10 - 5:]"
   ]
  },
  {
   "cell_type": "code",
   "execution_count": 13,
   "metadata": {
    "id": "Dv6RWFq7TFGB",
    "scrolled": false
   },
   "outputs": [],
   "source": [
    "diff_moving_avg_plus_past = series[split_time - 10:-10] + diff_moving_avg"
   ]
  },
  {
   "cell_type": "code",
   "execution_count": 14,
   "metadata": {
    "id": "59jmBrwcTFCx",
    "scrolled": true
   },
   "outputs": [
    {
     "data": {
      "text/plain": [
       "0.0006491040976419816"
      ]
     },
     "execution_count": 14,
     "metadata": {},
     "output_type": "execute_result"
    }
   ],
   "source": [
    "keras.metrics.mean_absolute_error(x_valid, diff_moving_avg_plus_past).numpy()"
   ]
  },
  {
   "cell_type": "code",
   "execution_count": 15,
   "metadata": {},
   "outputs": [
    {
     "data": {
      "text/plain": [
       "1.0431952563439955e-06"
      ]
     },
     "execution_count": 15,
     "metadata": {},
     "output_type": "execute_result"
    }
   ],
   "source": [
    "keras.metrics.mean_squared_error(x_valid, diff_moving_avg_plus_past).numpy()"
   ]
  },
  {
   "cell_type": "markdown",
   "metadata": {},
   "source": [
    "## DesRetorne os dados e verifique"
   ]
  },
  {
   "cell_type": "code",
   "execution_count": 16,
   "metadata": {},
   "outputs": [],
   "source": [
    "df2 = pd.DataFrame()"
   ]
  },
  {
   "cell_type": "code",
   "execution_count": 17,
   "metadata": {},
   "outputs": [],
   "source": [
    "df2['diff_moving_avg_plus_past'] = diff_moving_avg_plus_past"
   ]
  },
  {
   "cell_type": "code",
   "execution_count": 18,
   "metadata": {
    "scrolled": false
   },
   "outputs": [],
   "source": [
    "df2['x_valid'] = x_valid"
   ]
  },
  {
   "cell_type": "code",
   "execution_count": 19,
   "metadata": {},
   "outputs": [
    {
     "data": {
      "text/html": [
       "<div>\n",
       "<style scoped>\n",
       "    .dataframe tbody tr th:only-of-type {\n",
       "        vertical-align: middle;\n",
       "    }\n",
       "\n",
       "    .dataframe tbody tr th {\n",
       "        vertical-align: top;\n",
       "    }\n",
       "\n",
       "    .dataframe thead th {\n",
       "        text-align: right;\n",
       "    }\n",
       "</style>\n",
       "<table border=\"1\" class=\"dataframe\">\n",
       "  <thead>\n",
       "    <tr style=\"text-align: right;\">\n",
       "      <th></th>\n",
       "      <th>diff_moving_avg_plus_past</th>\n",
       "      <th>x_valid</th>\n",
       "    </tr>\n",
       "  </thead>\n",
       "  <tbody>\n",
       "    <tr>\n",
       "      <th>0</th>\n",
       "      <td>-0.000043</td>\n",
       "      <td>0.000264</td>\n",
       "    </tr>\n",
       "    <tr>\n",
       "      <th>1</th>\n",
       "      <td>0.000097</td>\n",
       "      <td>-0.000352</td>\n",
       "    </tr>\n",
       "    <tr>\n",
       "      <th>2</th>\n",
       "      <td>-0.001012</td>\n",
       "      <td>0.000220</td>\n",
       "    </tr>\n",
       "    <tr>\n",
       "      <th>3</th>\n",
       "      <td>0.000229</td>\n",
       "      <td>-0.000308</td>\n",
       "    </tr>\n",
       "    <tr>\n",
       "      <th>4</th>\n",
       "      <td>-0.000071</td>\n",
       "      <td>-0.000748</td>\n",
       "    </tr>\n",
       "    <tr>\n",
       "      <th>...</th>\n",
       "      <td>...</td>\n",
       "      <td>...</td>\n",
       "    </tr>\n",
       "    <tr>\n",
       "      <th>19993</th>\n",
       "      <td>-0.000009</td>\n",
       "      <td>-0.000044</td>\n",
       "    </tr>\n",
       "    <tr>\n",
       "      <th>19994</th>\n",
       "      <td>0.000122</td>\n",
       "      <td>0.000044</td>\n",
       "    </tr>\n",
       "    <tr>\n",
       "      <th>19995</th>\n",
       "      <td>-0.000044</td>\n",
       "      <td>0.000000</td>\n",
       "    </tr>\n",
       "    <tr>\n",
       "      <th>19996</th>\n",
       "      <td>-0.000078</td>\n",
       "      <td>-0.000044</td>\n",
       "    </tr>\n",
       "    <tr>\n",
       "      <th>19997</th>\n",
       "      <td>0.000017</td>\n",
       "      <td>-0.000044</td>\n",
       "    </tr>\n",
       "  </tbody>\n",
       "</table>\n",
       "<p>19998 rows × 2 columns</p>\n",
       "</div>"
      ],
      "text/plain": [
       "       diff_moving_avg_plus_past   x_valid\n",
       "0                      -0.000043  0.000264\n",
       "1                       0.000097 -0.000352\n",
       "2                      -0.001012  0.000220\n",
       "3                       0.000229 -0.000308\n",
       "4                      -0.000071 -0.000748\n",
       "...                          ...       ...\n",
       "19993                  -0.000009 -0.000044\n",
       "19994                   0.000122  0.000044\n",
       "19995                  -0.000044  0.000000\n",
       "19996                  -0.000078 -0.000044\n",
       "19997                   0.000017 -0.000044\n",
       "\n",
       "[19998 rows x 2 columns]"
      ]
     },
     "execution_count": 19,
     "metadata": {},
     "output_type": "execute_result"
    }
   ],
   "source": [
    "df2"
   ]
  },
  {
   "cell_type": "code",
   "execution_count": 20,
   "metadata": {},
   "outputs": [
    {
     "data": {
      "text/html": [
       "<div>\n",
       "<style scoped>\n",
       "    .dataframe tbody tr th:only-of-type {\n",
       "        vertical-align: middle;\n",
       "    }\n",
       "\n",
       "    .dataframe tbody tr th {\n",
       "        vertical-align: top;\n",
       "    }\n",
       "\n",
       "    .dataframe thead th {\n",
       "        text-align: right;\n",
       "    }\n",
       "</style>\n",
       "<table border=\"1\" class=\"dataframe\">\n",
       "  <thead>\n",
       "    <tr style=\"text-align: right;\">\n",
       "      <th></th>\n",
       "      <th>close</th>\n",
       "      <th>r</th>\n",
       "    </tr>\n",
       "    <tr>\n",
       "      <th>time</th>\n",
       "      <th></th>\n",
       "      <th></th>\n",
       "    </tr>\n",
       "  </thead>\n",
       "  <tbody>\n",
       "    <tr>\n",
       "      <th>2022-08-19 11:58:00</th>\n",
       "      <td>113585.0</td>\n",
       "      <td>-0.000484</td>\n",
       "    </tr>\n",
       "    <tr>\n",
       "      <th>2022-08-19 11:59:00</th>\n",
       "      <td>113630.0</td>\n",
       "      <td>0.000396</td>\n",
       "    </tr>\n",
       "    <tr>\n",
       "      <th>2022-08-19 12:00:00</th>\n",
       "      <td>113660.0</td>\n",
       "      <td>0.000264</td>\n",
       "    </tr>\n",
       "    <tr>\n",
       "      <th>2022-08-19 12:01:00</th>\n",
       "      <td>113620.0</td>\n",
       "      <td>-0.000352</td>\n",
       "    </tr>\n",
       "    <tr>\n",
       "      <th>2022-08-19 12:02:00</th>\n",
       "      <td>113645.0</td>\n",
       "      <td>0.000220</td>\n",
       "    </tr>\n",
       "  </tbody>\n",
       "</table>\n",
       "</div>"
      ],
      "text/plain": [
       "                        close         r\n",
       "time                                   \n",
       "2022-08-19 11:58:00  113585.0 -0.000484\n",
       "2022-08-19 11:59:00  113630.0  0.000396\n",
       "2022-08-19 12:00:00  113660.0  0.000264\n",
       "2022-08-19 12:01:00  113620.0 -0.000352\n",
       "2022-08-19 12:02:00  113645.0  0.000220"
      ]
     },
     "execution_count": 20,
     "metadata": {},
     "output_type": "execute_result"
    }
   ],
   "source": [
    "df.iloc[79998:80003]"
   ]
  },
  {
   "cell_type": "markdown",
   "metadata": {},
   "source": [
    "### desfazendo o x_valid"
   ]
  },
  {
   "cell_type": "code",
   "execution_count": 21,
   "metadata": {},
   "outputs": [],
   "source": [
    "ultimo_preco_fechamento = 113630.0"
   ]
  },
  {
   "cell_type": "code",
   "execution_count": 22,
   "metadata": {},
   "outputs": [],
   "source": [
    "df2['preco_valid'] = (1 + df2['x_valid']).cumprod()"
   ]
  },
  {
   "cell_type": "code",
   "execution_count": 23,
   "metadata": {},
   "outputs": [],
   "source": [
    "df2['preco_valid'] = ultimo_preco_fechamento * df2['preco_valid']"
   ]
  },
  {
   "cell_type": "code",
   "execution_count": 24,
   "metadata": {
    "scrolled": false
   },
   "outputs": [
    {
     "data": {
      "text/html": [
       "<div>\n",
       "<style scoped>\n",
       "    .dataframe tbody tr th:only-of-type {\n",
       "        vertical-align: middle;\n",
       "    }\n",
       "\n",
       "    .dataframe tbody tr th {\n",
       "        vertical-align: top;\n",
       "    }\n",
       "\n",
       "    .dataframe thead th {\n",
       "        text-align: right;\n",
       "    }\n",
       "</style>\n",
       "<table border=\"1\" class=\"dataframe\">\n",
       "  <thead>\n",
       "    <tr style=\"text-align: right;\">\n",
       "      <th></th>\n",
       "      <th>diff_moving_avg_plus_past</th>\n",
       "      <th>x_valid</th>\n",
       "      <th>preco_valid</th>\n",
       "    </tr>\n",
       "  </thead>\n",
       "  <tbody>\n",
       "    <tr>\n",
       "      <th>0</th>\n",
       "      <td>-0.000043</td>\n",
       "      <td>0.000264</td>\n",
       "      <td>113660.0</td>\n",
       "    </tr>\n",
       "    <tr>\n",
       "      <th>1</th>\n",
       "      <td>0.000097</td>\n",
       "      <td>-0.000352</td>\n",
       "      <td>113620.0</td>\n",
       "    </tr>\n",
       "    <tr>\n",
       "      <th>2</th>\n",
       "      <td>-0.001012</td>\n",
       "      <td>0.000220</td>\n",
       "      <td>113645.0</td>\n",
       "    </tr>\n",
       "    <tr>\n",
       "      <th>3</th>\n",
       "      <td>0.000229</td>\n",
       "      <td>-0.000308</td>\n",
       "      <td>113610.0</td>\n",
       "    </tr>\n",
       "    <tr>\n",
       "      <th>4</th>\n",
       "      <td>-0.000071</td>\n",
       "      <td>-0.000748</td>\n",
       "      <td>113525.0</td>\n",
       "    </tr>\n",
       "    <tr>\n",
       "      <th>...</th>\n",
       "      <td>...</td>\n",
       "      <td>...</td>\n",
       "      <td>...</td>\n",
       "    </tr>\n",
       "    <tr>\n",
       "      <th>19993</th>\n",
       "      <td>-0.000009</td>\n",
       "      <td>-0.000044</td>\n",
       "      <td>114915.0</td>\n",
       "    </tr>\n",
       "    <tr>\n",
       "      <th>19994</th>\n",
       "      <td>0.000122</td>\n",
       "      <td>0.000044</td>\n",
       "      <td>114920.0</td>\n",
       "    </tr>\n",
       "    <tr>\n",
       "      <th>19995</th>\n",
       "      <td>-0.000044</td>\n",
       "      <td>0.000000</td>\n",
       "      <td>114920.0</td>\n",
       "    </tr>\n",
       "    <tr>\n",
       "      <th>19996</th>\n",
       "      <td>-0.000078</td>\n",
       "      <td>-0.000044</td>\n",
       "      <td>114915.0</td>\n",
       "    </tr>\n",
       "    <tr>\n",
       "      <th>19997</th>\n",
       "      <td>0.000017</td>\n",
       "      <td>-0.000044</td>\n",
       "      <td>114910.0</td>\n",
       "    </tr>\n",
       "  </tbody>\n",
       "</table>\n",
       "<p>19998 rows × 3 columns</p>\n",
       "</div>"
      ],
      "text/plain": [
       "       diff_moving_avg_plus_past   x_valid  preco_valid\n",
       "0                      -0.000043  0.000264     113660.0\n",
       "1                       0.000097 -0.000352     113620.0\n",
       "2                      -0.001012  0.000220     113645.0\n",
       "3                       0.000229 -0.000308     113610.0\n",
       "4                      -0.000071 -0.000748     113525.0\n",
       "...                          ...       ...          ...\n",
       "19993                  -0.000009 -0.000044     114915.0\n",
       "19994                   0.000122  0.000044     114920.0\n",
       "19995                  -0.000044  0.000000     114920.0\n",
       "19996                  -0.000078 -0.000044     114915.0\n",
       "19997                   0.000017 -0.000044     114910.0\n",
       "\n",
       "[19998 rows x 3 columns]"
      ]
     },
     "execution_count": 24,
     "metadata": {},
     "output_type": "execute_result"
    }
   ],
   "source": [
    "df2"
   ]
  },
  {
   "cell_type": "markdown",
   "metadata": {},
   "source": [
    "### desr a previsão"
   ]
  },
  {
   "cell_type": "code",
   "execution_count": 25,
   "metadata": {},
   "outputs": [],
   "source": [
    "df2['desr_prev'] = (1 + df2['diff_moving_avg_plus_past']).cumprod()"
   ]
  },
  {
   "cell_type": "code",
   "execution_count": 26,
   "metadata": {},
   "outputs": [],
   "source": [
    "df2['desr_prev'] = ultimo_preco_fechamento * df2['desr_prev']"
   ]
  },
  {
   "cell_type": "code",
   "execution_count": 27,
   "metadata": {},
   "outputs": [
    {
     "data": {
      "text/html": [
       "<div>\n",
       "<style scoped>\n",
       "    .dataframe tbody tr th:only-of-type {\n",
       "        vertical-align: middle;\n",
       "    }\n",
       "\n",
       "    .dataframe tbody tr th {\n",
       "        vertical-align: top;\n",
       "    }\n",
       "\n",
       "    .dataframe thead th {\n",
       "        text-align: right;\n",
       "    }\n",
       "</style>\n",
       "<table border=\"1\" class=\"dataframe\">\n",
       "  <thead>\n",
       "    <tr style=\"text-align: right;\">\n",
       "      <th></th>\n",
       "      <th>diff_moving_avg_plus_past</th>\n",
       "      <th>x_valid</th>\n",
       "      <th>preco_valid</th>\n",
       "      <th>desr_prev</th>\n",
       "    </tr>\n",
       "  </thead>\n",
       "  <tbody>\n",
       "    <tr>\n",
       "      <th>0</th>\n",
       "      <td>-0.000043</td>\n",
       "      <td>0.000264</td>\n",
       "      <td>113660.0</td>\n",
       "      <td>113625.057722</td>\n",
       "    </tr>\n",
       "    <tr>\n",
       "      <th>1</th>\n",
       "      <td>0.000097</td>\n",
       "      <td>-0.000352</td>\n",
       "      <td>113620.0</td>\n",
       "      <td>113636.062000</td>\n",
       "    </tr>\n",
       "    <tr>\n",
       "      <th>2</th>\n",
       "      <td>-0.001012</td>\n",
       "      <td>0.000220</td>\n",
       "      <td>113645.0</td>\n",
       "      <td>113521.048253</td>\n",
       "    </tr>\n",
       "    <tr>\n",
       "      <th>3</th>\n",
       "      <td>0.000229</td>\n",
       "      <td>-0.000308</td>\n",
       "      <td>113610.0</td>\n",
       "      <td>113547.024374</td>\n",
       "    </tr>\n",
       "    <tr>\n",
       "      <th>4</th>\n",
       "      <td>-0.000071</td>\n",
       "      <td>-0.000748</td>\n",
       "      <td>113525.0</td>\n",
       "      <td>113538.977604</td>\n",
       "    </tr>\n",
       "    <tr>\n",
       "      <th>...</th>\n",
       "      <td>...</td>\n",
       "      <td>...</td>\n",
       "      <td>...</td>\n",
       "      <td>...</td>\n",
       "    </tr>\n",
       "    <tr>\n",
       "      <th>19993</th>\n",
       "      <td>-0.000009</td>\n",
       "      <td>-0.000044</td>\n",
       "      <td>114915.0</td>\n",
       "      <td>114766.971081</td>\n",
       "    </tr>\n",
       "    <tr>\n",
       "      <th>19994</th>\n",
       "      <td>0.000122</td>\n",
       "      <td>0.000044</td>\n",
       "      <td>114920.0</td>\n",
       "      <td>114780.954263</td>\n",
       "    </tr>\n",
       "    <tr>\n",
       "      <th>19995</th>\n",
       "      <td>-0.000044</td>\n",
       "      <td>0.000000</td>\n",
       "      <td>114920.0</td>\n",
       "      <td>114775.959618</td>\n",
       "    </tr>\n",
       "    <tr>\n",
       "      <th>19996</th>\n",
       "      <td>-0.000078</td>\n",
       "      <td>-0.000044</td>\n",
       "      <td>114915.0</td>\n",
       "      <td>114766.970420</td>\n",
       "    </tr>\n",
       "    <tr>\n",
       "      <th>19997</th>\n",
       "      <td>0.000017</td>\n",
       "      <td>-0.000044</td>\n",
       "      <td>114910.0</td>\n",
       "      <td>114768.967496</td>\n",
       "    </tr>\n",
       "  </tbody>\n",
       "</table>\n",
       "<p>19998 rows × 4 columns</p>\n",
       "</div>"
      ],
      "text/plain": [
       "       diff_moving_avg_plus_past   x_valid  preco_valid      desr_prev\n",
       "0                      -0.000043  0.000264     113660.0  113625.057722\n",
       "1                       0.000097 -0.000352     113620.0  113636.062000\n",
       "2                      -0.001012  0.000220     113645.0  113521.048253\n",
       "3                       0.000229 -0.000308     113610.0  113547.024374\n",
       "4                      -0.000071 -0.000748     113525.0  113538.977604\n",
       "...                          ...       ...          ...            ...\n",
       "19993                  -0.000009 -0.000044     114915.0  114766.971081\n",
       "19994                   0.000122  0.000044     114920.0  114780.954263\n",
       "19995                  -0.000044  0.000000     114920.0  114775.959618\n",
       "19996                  -0.000078 -0.000044     114915.0  114766.970420\n",
       "19997                   0.000017 -0.000044     114910.0  114768.967496\n",
       "\n",
       "[19998 rows x 4 columns]"
      ]
     },
     "execution_count": 27,
     "metadata": {},
     "output_type": "execute_result"
    }
   ],
   "source": [
    "df2"
   ]
  },
  {
   "cell_type": "code",
   "execution_count": 28,
   "metadata": {},
   "outputs": [],
   "source": [
    "df2['diff'] = df2['preco_valid']-df2['desr_prev']"
   ]
  },
  {
   "cell_type": "code",
   "execution_count": 29,
   "metadata": {},
   "outputs": [
    {
     "data": {
      "text/html": [
       "<div>\n",
       "<style scoped>\n",
       "    .dataframe tbody tr th:only-of-type {\n",
       "        vertical-align: middle;\n",
       "    }\n",
       "\n",
       "    .dataframe tbody tr th {\n",
       "        vertical-align: top;\n",
       "    }\n",
       "\n",
       "    .dataframe thead th {\n",
       "        text-align: right;\n",
       "    }\n",
       "</style>\n",
       "<table border=\"1\" class=\"dataframe\">\n",
       "  <thead>\n",
       "    <tr style=\"text-align: right;\">\n",
       "      <th></th>\n",
       "      <th>diff_moving_avg_plus_past</th>\n",
       "      <th>x_valid</th>\n",
       "      <th>preco_valid</th>\n",
       "      <th>desr_prev</th>\n",
       "      <th>diff</th>\n",
       "    </tr>\n",
       "  </thead>\n",
       "  <tbody>\n",
       "    <tr>\n",
       "      <th>0</th>\n",
       "      <td>-0.000043</td>\n",
       "      <td>0.000264</td>\n",
       "      <td>113660.0</td>\n",
       "      <td>113625.057722</td>\n",
       "      <td>34.942278</td>\n",
       "    </tr>\n",
       "    <tr>\n",
       "      <th>1</th>\n",
       "      <td>0.000097</td>\n",
       "      <td>-0.000352</td>\n",
       "      <td>113620.0</td>\n",
       "      <td>113636.062000</td>\n",
       "      <td>-16.062000</td>\n",
       "    </tr>\n",
       "    <tr>\n",
       "      <th>2</th>\n",
       "      <td>-0.001012</td>\n",
       "      <td>0.000220</td>\n",
       "      <td>113645.0</td>\n",
       "      <td>113521.048253</td>\n",
       "      <td>123.951747</td>\n",
       "    </tr>\n",
       "    <tr>\n",
       "      <th>3</th>\n",
       "      <td>0.000229</td>\n",
       "      <td>-0.000308</td>\n",
       "      <td>113610.0</td>\n",
       "      <td>113547.024374</td>\n",
       "      <td>62.975626</td>\n",
       "    </tr>\n",
       "    <tr>\n",
       "      <th>4</th>\n",
       "      <td>-0.000071</td>\n",
       "      <td>-0.000748</td>\n",
       "      <td>113525.0</td>\n",
       "      <td>113538.977604</td>\n",
       "      <td>-13.977604</td>\n",
       "    </tr>\n",
       "    <tr>\n",
       "      <th>...</th>\n",
       "      <td>...</td>\n",
       "      <td>...</td>\n",
       "      <td>...</td>\n",
       "      <td>...</td>\n",
       "      <td>...</td>\n",
       "    </tr>\n",
       "    <tr>\n",
       "      <th>19993</th>\n",
       "      <td>-0.000009</td>\n",
       "      <td>-0.000044</td>\n",
       "      <td>114915.0</td>\n",
       "      <td>114766.971081</td>\n",
       "      <td>148.028919</td>\n",
       "    </tr>\n",
       "    <tr>\n",
       "      <th>19994</th>\n",
       "      <td>0.000122</td>\n",
       "      <td>0.000044</td>\n",
       "      <td>114920.0</td>\n",
       "      <td>114780.954263</td>\n",
       "      <td>139.045737</td>\n",
       "    </tr>\n",
       "    <tr>\n",
       "      <th>19995</th>\n",
       "      <td>-0.000044</td>\n",
       "      <td>0.000000</td>\n",
       "      <td>114920.0</td>\n",
       "      <td>114775.959618</td>\n",
       "      <td>144.040382</td>\n",
       "    </tr>\n",
       "    <tr>\n",
       "      <th>19996</th>\n",
       "      <td>-0.000078</td>\n",
       "      <td>-0.000044</td>\n",
       "      <td>114915.0</td>\n",
       "      <td>114766.970420</td>\n",
       "      <td>148.029580</td>\n",
       "    </tr>\n",
       "    <tr>\n",
       "      <th>19997</th>\n",
       "      <td>0.000017</td>\n",
       "      <td>-0.000044</td>\n",
       "      <td>114910.0</td>\n",
       "      <td>114768.967496</td>\n",
       "      <td>141.032504</td>\n",
       "    </tr>\n",
       "  </tbody>\n",
       "</table>\n",
       "<p>19998 rows × 5 columns</p>\n",
       "</div>"
      ],
      "text/plain": [
       "       diff_moving_avg_plus_past   x_valid  preco_valid      desr_prev  \\\n",
       "0                      -0.000043  0.000264     113660.0  113625.057722   \n",
       "1                       0.000097 -0.000352     113620.0  113636.062000   \n",
       "2                      -0.001012  0.000220     113645.0  113521.048253   \n",
       "3                       0.000229 -0.000308     113610.0  113547.024374   \n",
       "4                      -0.000071 -0.000748     113525.0  113538.977604   \n",
       "...                          ...       ...          ...            ...   \n",
       "19993                  -0.000009 -0.000044     114915.0  114766.971081   \n",
       "19994                   0.000122  0.000044     114920.0  114780.954263   \n",
       "19995                  -0.000044  0.000000     114920.0  114775.959618   \n",
       "19996                  -0.000078 -0.000044     114915.0  114766.970420   \n",
       "19997                   0.000017 -0.000044     114910.0  114768.967496   \n",
       "\n",
       "             diff  \n",
       "0       34.942278  \n",
       "1      -16.062000  \n",
       "2      123.951747  \n",
       "3       62.975626  \n",
       "4      -13.977604  \n",
       "...           ...  \n",
       "19993  148.028919  \n",
       "19994  139.045737  \n",
       "19995  144.040382  \n",
       "19996  148.029580  \n",
       "19997  141.032504  \n",
       "\n",
       "[19998 rows x 5 columns]"
      ]
     },
     "execution_count": 29,
     "metadata": {},
     "output_type": "execute_result"
    }
   ],
   "source": [
    "df2"
   ]
  },
  {
   "cell_type": "code",
   "execution_count": 31,
   "metadata": {},
   "outputs": [
    {
     "data": {
      "text/plain": [
       "40.13865885362546"
      ]
     },
     "execution_count": 31,
     "metadata": {},
     "output_type": "execute_result"
    }
   ],
   "source": [
    "df2['diff'].mean()"
   ]
  },
  {
   "cell_type": "code",
   "execution_count": null,
   "metadata": {},
   "outputs": [],
   "source": []
  }
 ],
 "metadata": {
  "colab": {
   "provenance": [
    {
     "file_id": "https://github.com/tensorflow/examples/blob/master/courses/udacity_intro_to_tensorflow_for_deep_learning/l08c03_moving_average.ipynb",
     "timestamp": 1672012629164
    }
   ],
   "toc_visible": true
  },
  "kernelspec": {
   "display_name": "Python 3 (ipykernel)",
   "language": "python",
   "name": "python3"
  },
  "language_info": {
   "codemirror_mode": {
    "name": "ipython",
    "version": 3
   },
   "file_extension": ".py",
   "mimetype": "text/x-python",
   "name": "python",
   "nbconvert_exporter": "python",
   "pygments_lexer": "ipython3",
   "version": "3.9.16"
  }
 },
 "nbformat": 4,
 "nbformat_minor": 1
}
