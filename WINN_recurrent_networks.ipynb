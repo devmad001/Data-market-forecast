{
 "cells": [
  {
   "cell_type": "markdown",
   "metadata": {},
   "source": [
    "<img src=\"https://certificate.tpq.io/taim_logo.png\" width=\"350px\" align=\"right\">"
   ]
  },
  {
   "cell_type": "markdown",
   "metadata": {},
   "source": [
    "# Artificial Intelligence in Finance"
   ]
  },
  {
   "cell_type": "markdown",
   "metadata": {},
   "source": [
    "## Recurrent Neural Networks"
   ]
  },
  {
   "cell_type": "markdown",
   "metadata": {},
   "source": [
    "Dr Yves J Hilpisch | The AI Machine\n",
    "\n",
    "http://aimachine.io | http://twitter.com/dyjh"
   ]
  },
  {
   "cell_type": "markdown",
   "metadata": {},
   "source": [
    "## First Example"
   ]
  },
  {
   "cell_type": "code",
   "execution_count": 1,
   "metadata": {},
   "outputs": [],
   "source": [
    "import os\n",
    "os.environ['TF_CPP_MIN_LOG_LEVEL'] = '3'"
   ]
  },
  {
   "cell_type": "code",
   "execution_count": 2,
   "metadata": {},
   "outputs": [
    {
     "name": "stderr",
     "output_type": "stream",
     "text": [
      "C:\\Users\\adria\\AppData\\Local\\Temp\\ipykernel_10156\\1632325378.py:7: MatplotlibDeprecationWarning: The seaborn styles shipped by Matplotlib are deprecated since 3.6, as they no longer correspond to the styles shipped by seaborn. However, they will remain available as 'seaborn-v0_8-<style>'. Alternatively, directly use the seaborn API instead.\n",
      "  plt.style.use('seaborn')\n"
     ]
    }
   ],
   "source": [
    "import random\n",
    "import numpy as np\n",
    "import pandas as pd\n",
    "import tensorflow as tf\n",
    "from pprint import pprint\n",
    "from pylab import plt, mpl\n",
    "plt.style.use('seaborn')\n",
    "mpl.rcParams['savefig.dpi'] = 300\n",
    "mpl.rcParams['font.family'] = 'serif'\n",
    "#pd.set_option('precision', 4)\n",
    "np.set_printoptions(suppress=True, precision=4)\n",
    "os.environ['PYTHONHASHSEED'] = '0'"
   ]
  },
  {
   "cell_type": "code",
   "execution_count": 3,
   "metadata": {},
   "outputs": [],
   "source": [
    "def set_seeds(seed=100):\n",
    "    random.seed(seed)\n",
    "    np.random.seed(seed)\n",
    "    tf.random.set_seed(seed)\n",
    "set_seeds()"
   ]
  },
  {
   "cell_type": "code",
   "execution_count": 4,
   "metadata": {},
   "outputs": [
    {
     "data": {
      "text/plain": [
       "array([ 0,  1,  2,  3,  4,  5,  6,  7,  8,  9, 10, 11, 12, 13, 14, 15, 16,\n",
       "       17, 18, 19, 20, 21, 22, 23, 24, 25, 26, 27, 28, 29, 30, 31, 32, 33,\n",
       "       34, 35, 36, 37, 38, 39, 40, 41, 42, 43, 44, 45, 46, 47, 48, 49, 50,\n",
       "       51, 52, 53, 54, 55, 56, 57, 58, 59, 60, 61, 62, 63, 64, 65, 66, 67,\n",
       "       68, 69, 70, 71, 72, 73, 74, 75, 76, 77, 78, 79, 80, 81, 82, 83, 84,\n",
       "       85, 86, 87, 88, 89, 90, 91, 92, 93, 94, 95, 96, 97, 98, 99])"
      ]
     },
     "execution_count": 4,
     "metadata": {},
     "output_type": "execute_result"
    }
   ],
   "source": [
    "a = np.arange(100)\n",
    "a"
   ]
  },
  {
   "cell_type": "code",
   "execution_count": 5,
   "metadata": {},
   "outputs": [],
   "source": [
    "a = a.reshape((len(a), -1))"
   ]
  },
  {
   "cell_type": "code",
   "execution_count": 11,
   "metadata": {},
   "outputs": [
    {
     "data": {
      "text/plain": [
       "array([[ 0],\n",
       "       [ 1],\n",
       "       [ 2],\n",
       "       [ 3],\n",
       "       [ 4],\n",
       "       [ 5],\n",
       "       [ 6],\n",
       "       [ 7],\n",
       "       [ 8],\n",
       "       [ 9],\n",
       "       [10],\n",
       "       [11],\n",
       "       [12],\n",
       "       [13],\n",
       "       [14],\n",
       "       [15],\n",
       "       [16],\n",
       "       [17],\n",
       "       [18],\n",
       "       [19],\n",
       "       [20],\n",
       "       [21],\n",
       "       [22],\n",
       "       [23],\n",
       "       [24],\n",
       "       [25],\n",
       "       [26],\n",
       "       [27],\n",
       "       [28],\n",
       "       [29],\n",
       "       [30],\n",
       "       [31],\n",
       "       [32],\n",
       "       [33],\n",
       "       [34],\n",
       "       [35],\n",
       "       [36],\n",
       "       [37],\n",
       "       [38],\n",
       "       [39],\n",
       "       [40],\n",
       "       [41],\n",
       "       [42],\n",
       "       [43],\n",
       "       [44],\n",
       "       [45],\n",
       "       [46],\n",
       "       [47],\n",
       "       [48],\n",
       "       [49],\n",
       "       [50],\n",
       "       [51],\n",
       "       [52],\n",
       "       [53],\n",
       "       [54],\n",
       "       [55],\n",
       "       [56],\n",
       "       [57],\n",
       "       [58],\n",
       "       [59],\n",
       "       [60],\n",
       "       [61],\n",
       "       [62],\n",
       "       [63],\n",
       "       [64],\n",
       "       [65],\n",
       "       [66],\n",
       "       [67],\n",
       "       [68],\n",
       "       [69],\n",
       "       [70],\n",
       "       [71],\n",
       "       [72],\n",
       "       [73],\n",
       "       [74],\n",
       "       [75],\n",
       "       [76],\n",
       "       [77],\n",
       "       [78],\n",
       "       [79],\n",
       "       [80],\n",
       "       [81],\n",
       "       [82],\n",
       "       [83],\n",
       "       [84],\n",
       "       [85],\n",
       "       [86],\n",
       "       [87],\n",
       "       [88],\n",
       "       [89],\n",
       "       [90],\n",
       "       [91],\n",
       "       [92],\n",
       "       [93],\n",
       "       [94],\n",
       "       [95],\n",
       "       [96],\n",
       "       [97],\n",
       "       [98],\n",
       "       [99]])"
      ]
     },
     "execution_count": 11,
     "metadata": {},
     "output_type": "execute_result"
    }
   ],
   "source": [
    "a"
   ]
  },
  {
   "cell_type": "code",
   "execution_count": 12,
   "metadata": {},
   "outputs": [
    {
     "data": {
      "text/plain": [
       "(100, 1)"
      ]
     },
     "execution_count": 12,
     "metadata": {},
     "output_type": "execute_result"
    }
   ],
   "source": [
    "a.shape"
   ]
  },
  {
   "cell_type": "code",
   "execution_count": 13,
   "metadata": {},
   "outputs": [
    {
     "data": {
      "text/plain": [
       "array([[0],\n",
       "       [1],\n",
       "       [2],\n",
       "       [3],\n",
       "       [4]])"
      ]
     },
     "execution_count": 13,
     "metadata": {},
     "output_type": "execute_result"
    }
   ],
   "source": [
    "a[:5]"
   ]
  },
  {
   "cell_type": "code",
   "execution_count": 14,
   "metadata": {},
   "outputs": [],
   "source": [
    "from keras.preprocessing.sequence import TimeseriesGenerator"
   ]
  },
  {
   "cell_type": "code",
   "execution_count": 15,
   "metadata": {},
   "outputs": [],
   "source": [
    "lags = 3"
   ]
  },
  {
   "cell_type": "code",
   "execution_count": 16,
   "metadata": {},
   "outputs": [],
   "source": [
    "g = TimeseriesGenerator(a, a, length=lags, batch_size=5)"
   ]
  },
  {
   "cell_type": "code",
   "execution_count": 17,
   "metadata": {},
   "outputs": [
    {
     "data": {
      "text/plain": [
       "<keras.preprocessing.sequence.TimeseriesGenerator at 0x2635e546d30>"
      ]
     },
     "execution_count": 17,
     "metadata": {},
     "output_type": "execute_result"
    }
   ],
   "source": [
    "g"
   ]
  },
  {
   "cell_type": "code",
   "execution_count": 18,
   "metadata": {},
   "outputs": [
    {
     "name": "stdout",
     "output_type": "stream",
     "text": [
      "(array([[[0],\n",
      "        [1],\n",
      "        [2]],\n",
      "\n",
      "       [[1],\n",
      "        [2],\n",
      "        [3]],\n",
      "\n",
      "       [[2],\n",
      "        [3],\n",
      "        [4]],\n",
      "\n",
      "       [[3],\n",
      "        [4],\n",
      "        [5]],\n",
      "\n",
      "       [[4],\n",
      "        [5],\n",
      "        [6]]]),\n",
      " array([[3],\n",
      "       [4],\n",
      "       [5],\n",
      "       [6],\n",
      "       [7]]))\n"
     ]
    }
   ],
   "source": [
    "pprint(list(g)[0])"
   ]
  },
  {
   "cell_type": "code",
   "execution_count": 19,
   "metadata": {},
   "outputs": [],
   "source": [
    "from keras.models import Sequential\n",
    "from keras.layers import SimpleRNN, LSTM, Dense"
   ]
  },
  {
   "cell_type": "code",
   "execution_count": 20,
   "metadata": {},
   "outputs": [],
   "source": [
    "model = Sequential()\n",
    "model.add(SimpleRNN(100, activation='relu',\n",
    "                    input_shape=(lags, 1)))\n",
    "model.add(Dense(1, activation='linear'))\n",
    "model.compile(optimizer='adagrad', loss='mse',\n",
    "              metrics=['mae'])"
   ]
  },
  {
   "cell_type": "code",
   "execution_count": 21,
   "metadata": {},
   "outputs": [
    {
     "name": "stdout",
     "output_type": "stream",
     "text": [
      "Model: \"sequential\"\n",
      "_________________________________________________________________\n",
      "Layer (type)                 Output Shape              Param #   \n",
      "=================================================================\n",
      "simple_rnn (SimpleRNN)       (None, 100)               10200     \n",
      "_________________________________________________________________\n",
      "dense (Dense)                (None, 1)                 101       \n",
      "=================================================================\n",
      "Total params: 10,301\n",
      "Trainable params: 10,301\n",
      "Non-trainable params: 0\n",
      "_________________________________________________________________\n"
     ]
    }
   ],
   "source": [
    "model.summary()"
   ]
  },
  {
   "cell_type": "code",
   "execution_count": 22,
   "metadata": {},
   "outputs": [
    {
     "name": "stdout",
     "output_type": "stream",
     "text": [
      "CPU times: total: 1min 44s\n",
      "Wall time: 1min 15s\n"
     ]
    },
    {
     "data": {
      "text/plain": [
       "<keras.callbacks.History at 0x26369c28df0>"
      ]
     },
     "execution_count": 22,
     "metadata": {},
     "output_type": "execute_result"
    }
   ],
   "source": [
    "%%time\n",
    "model.fit(g, epochs=1000, steps_per_epoch=5,\n",
    "            verbose=False)"
   ]
  },
  {
   "cell_type": "code",
   "execution_count": 23,
   "metadata": {},
   "outputs": [],
   "source": [
    "res = pd.DataFrame(model.history.history)"
   ]
  },
  {
   "cell_type": "code",
   "execution_count": 24,
   "metadata": {},
   "outputs": [
    {
     "data": {
      "text/html": [
       "<div>\n",
       "<style scoped>\n",
       "    .dataframe tbody tr th:only-of-type {\n",
       "        vertical-align: middle;\n",
       "    }\n",
       "\n",
       "    .dataframe tbody tr th {\n",
       "        vertical-align: top;\n",
       "    }\n",
       "\n",
       "    .dataframe thead th {\n",
       "        text-align: right;\n",
       "    }\n",
       "</style>\n",
       "<table border=\"1\" class=\"dataframe\">\n",
       "  <thead>\n",
       "    <tr style=\"text-align: right;\">\n",
       "      <th></th>\n",
       "      <th>loss</th>\n",
       "      <th>mae</th>\n",
       "    </tr>\n",
       "  </thead>\n",
       "  <tbody>\n",
       "    <tr>\n",
       "      <th>997</th>\n",
       "      <td>1.159415</td>\n",
       "      <td>0.978617</td>\n",
       "    </tr>\n",
       "    <tr>\n",
       "      <th>998</th>\n",
       "      <td>1.327364</td>\n",
       "      <td>1.000324</td>\n",
       "    </tr>\n",
       "    <tr>\n",
       "      <th>999</th>\n",
       "      <td>0.308312</td>\n",
       "      <td>0.521992</td>\n",
       "    </tr>\n",
       "  </tbody>\n",
       "</table>\n",
       "</div>"
      ],
      "text/plain": [
       "         loss       mae\n",
       "997  1.159415  0.978617\n",
       "998  1.327364  1.000324\n",
       "999  0.308312  0.521992"
      ]
     },
     "execution_count": 24,
     "metadata": {},
     "output_type": "execute_result"
    }
   ],
   "source": [
    "res.tail(3)"
   ]
  },
  {
   "cell_type": "code",
   "execution_count": 25,
   "metadata": {},
   "outputs": [
    {
     "data": {
      "image/png": "[encoded data removed]",
      "text/plain": [
       "<Figure size 1000x600 with 1 Axes>"
      ]
     },
     "metadata": {},
     "output_type": "display_data"
    }
   ],
   "source": [
    "res.iloc[10:].plot(figsize=(10, 6), style=['--', '--']);"
   ]
  },
  {
   "cell_type": "code",
   "execution_count": 26,
   "metadata": {},
   "outputs": [
    {
     "data": {
      "text/plain": [
       "23"
      ]
     },
     "execution_count": 26,
     "metadata": {},
     "output_type": "execute_result"
    }
   ],
   "source": [
    "x = np.array([21, 22, 23]).reshape((1, lags, 1))\n",
    "y = model.predict(x, verbose=False)\n",
    "int(round(y[0, 0]))"
   ]
  },
  {
   "cell_type": "code",
   "execution_count": 27,
   "metadata": {
    "scrolled": true
   },
   "outputs": [
    {
     "data": {
      "text/plain": [
       "array([[[21],\n",
       "        [22],\n",
       "        [23]]])"
      ]
     },
     "execution_count": 27,
     "metadata": {},
     "output_type": "execute_result"
    }
   ],
   "source": [
    "x"
   ]
  },
  {
   "cell_type": "code",
   "execution_count": 28,
   "metadata": {},
   "outputs": [
    {
     "data": {
      "text/plain": [
       "array([[22.7307]], dtype=float32)"
      ]
     },
     "execution_count": 28,
     "metadata": {},
     "output_type": "execute_result"
    }
   ],
   "source": [
    "y"
   ]
  },
  {
   "cell_type": "code",
   "execution_count": 29,
   "metadata": {},
   "outputs": [
    {
     "name": "stdout",
     "output_type": "stream",
     "text": [
      "1/1 [==============================] - 0s 25ms/step\n"
     ]
    },
    {
     "data": {
      "text/plain": [
       "91"
      ]
     },
     "execution_count": 29,
     "metadata": {},
     "output_type": "execute_result"
    }
   ],
   "source": [
    "x = np.array([87, 88, 89]).reshape((1, lags, 1))\n",
    "y = model.predict(x, verbose=0)\n",
    "int(round(y[0, 0]))"
   ]
  },
  {
   "cell_type": "code",
   "execution_count": 30,
   "metadata": {},
   "outputs": [
    {
     "data": {
      "text/plain": [
       "193"
      ]
     },
     "execution_count": 30,
     "metadata": {},
     "output_type": "execute_result"
    }
   ],
   "source": [
    "x = np.array([187, 188, 189]).reshape((1, lags, 1))\n",
    "y = model.predict(x, verbose=False)\n",
    "int(round(y[0, 0]))"
   ]
  },
  {
   "cell_type": "code",
   "execution_count": 31,
   "metadata": {},
   "outputs": [
    {
     "data": {
      "text/plain": [
       "1220"
      ]
     },
     "execution_count": 31,
     "metadata": {},
     "output_type": "execute_result"
    }
   ],
   "source": [
    "x = np.array([1187, 1188, 1189]).reshape((1, lags, 1))\n",
    "y = model.predict(x, verbose=False)\n",
    "int(round(y[0, 0]))"
   ]
  },
  {
   "cell_type": "markdown",
   "metadata": {},
   "source": [
    "## Second Example"
   ]
  },
  {
   "cell_type": "code",
   "execution_count": 32,
   "metadata": {},
   "outputs": [],
   "source": [
    "def transform(x):\n",
    "    y = 0.05 * x ** 2 + 0.2 * x + np.sin(x) + 5\n",
    "    y += np.random.standard_normal(len(x)) * 0.2\n",
    "    return y"
   ]
  },
  {
   "cell_type": "code",
   "execution_count": 33,
   "metadata": {},
   "outputs": [],
   "source": [
    "x = np.linspace(-2 * np.pi, 2 * np.pi, 500)\n",
    "a = transform(x)"
   ]
  },
  {
   "cell_type": "code",
   "execution_count": 34,
   "metadata": {},
   "outputs": [
    {
     "data": {
      "image/png": "[encoded data removed]",
      "text/plain": [
       "<Figure size 1000x600 with 1 Axes>"
      ]
     },
     "metadata": {},
     "output_type": "display_data"
    }
   ],
   "source": [
    "plt.figure(figsize=(10, 6))\n",
    "plt.plot(x, a);"
   ]
  },
  {
   "cell_type": "code",
   "execution_count": 35,
   "metadata": {},
   "outputs": [],
   "source": [
    "a = a.reshape((len(a), -1))"
   ]
  },
  {
   "cell_type": "code",
   "execution_count": 36,
   "metadata": {},
   "outputs": [
    {
     "data": {
      "text/plain": [
       "array([[5.3673],\n",
       "       [5.8002],\n",
       "       [5.9768],\n",
       "       [5.7102],\n",
       "       [5.9715]])"
      ]
     },
     "execution_count": 36,
     "metadata": {},
     "output_type": "execute_result"
    }
   ],
   "source": [
    "a[:5]"
   ]
  },
  {
   "cell_type": "code",
   "execution_count": 37,
   "metadata": {},
   "outputs": [],
   "source": [
    "lags = 5"
   ]
  },
  {
   "cell_type": "code",
   "execution_count": 38,
   "metadata": {},
   "outputs": [],
   "source": [
    "g = TimeseriesGenerator(a, a, length=lags, batch_size=5)"
   ]
  },
  {
   "cell_type": "code",
   "execution_count": 39,
   "metadata": {},
   "outputs": [],
   "source": [
    "model = Sequential()\n",
    "model.add(SimpleRNN(500, activation='relu', input_shape=(lags, 1)))\n",
    "model.add(Dense(1, activation='linear'))\n",
    "model.compile(optimizer='rmsprop', loss='mse', metrics=['mae'])"
   ]
  },
  {
   "cell_type": "code",
   "execution_count": 40,
   "metadata": {},
   "outputs": [
    {
     "name": "stdout",
     "output_type": "stream",
     "text": [
      "Model: \"sequential_1\"\n",
      "_________________________________________________________________\n",
      "Layer (type)                 Output Shape              Param #   \n",
      "=================================================================\n",
      "simple_rnn_1 (SimpleRNN)     (None, 500)               251000    \n",
      "_________________________________________________________________\n",
      "dense_1 (Dense)              (None, 1)                 501       \n",
      "=================================================================\n",
      "Total params: 251,501\n",
      "Trainable params: 251,501\n",
      "Non-trainable params: 0\n",
      "_________________________________________________________________\n"
     ]
    }
   ],
   "source": [
    "model.summary()"
   ]
  },
  {
   "cell_type": "code",
   "execution_count": 41,
   "metadata": {},
   "outputs": [
    {
     "name": "stdout",
     "output_type": "stream",
     "text": [
      "CPU times: total: 2min 15s\n",
      "Wall time: 1min 34s\n"
     ]
    },
    {
     "data": {
      "text/plain": [
       "<keras.callbacks.History at 0x26370745190>"
      ]
     },
     "execution_count": 41,
     "metadata": {},
     "output_type": "execute_result"
    }
   ],
   "source": [
    "%%time\n",
    "model.fit(g, epochs=500,\n",
    "          steps_per_epoch=10,\n",
    "          verbose=False)"
   ]
  },
  {
   "cell_type": "code",
   "execution_count": 42,
   "metadata": {},
   "outputs": [],
   "source": [
    "x = np.linspace(-6 * np.pi, 6 * np.pi, 1000)\n",
    "d = transform(x)"
   ]
  },
  {
   "cell_type": "code",
   "execution_count": 43,
   "metadata": {},
   "outputs": [],
   "source": [
    "g_ = TimeseriesGenerator(d, d, length=lags, batch_size=len(d))"
   ]
  },
  {
   "cell_type": "code",
   "execution_count": 44,
   "metadata": {},
   "outputs": [],
   "source": [
    "f = list(g_)[0][0].reshape((len(d) - lags, lags, 1))"
   ]
  },
  {
   "cell_type": "code",
   "execution_count": 45,
   "metadata": {},
   "outputs": [],
   "source": [
    "y = model.predict(f, verbose=False)"
   ]
  },
  {
   "cell_type": "code",
   "execution_count": 46,
   "metadata": {},
   "outputs": [
    {
     "data": {
      "image/png": "[encoded data removed]",
      "text/plain": [
       "<Figure size 1000x600 with 1 Axes>"
      ]
     },
     "metadata": {},
     "output_type": "display_data"
    }
   ],
   "source": [
    "plt.figure(figsize=(10, 6))\n",
    "plt.plot(x[lags:], d[lags:], label='data', alpha=0.75)\n",
    "plt.plot(x[lags:], y, 'r.', label='pred', ms=3)\n",
    "plt.axvline(-2 * np.pi, c='g', ls='--')\n",
    "plt.axvline(2 * np.pi, c='g', ls='--')\n",
    "plt.text(-15, 22, 'out-of-sample')\n",
    "plt.text(-2, 22, 'in-sample')\n",
    "plt.text(10, 22, 'out-of-sample')\n",
    "plt.legend();"
   ]
  },
  {
   "cell_type": "markdown",
   "metadata": {},
   "source": [
    "## Financial Price Series"
   ]
  },
  {
   "cell_type": "code",
   "execution_count": 47,
   "metadata": {},
   "outputs": [],
   "source": [
    "url = 'http://hilpisch.com/aiif_eikon_id_eur_usd.csv'"
   ]
  },
  {
   "cell_type": "code",
   "execution_count": 48,
   "metadata": {},
   "outputs": [],
   "source": [
    "symbol = 'EUR_USD'"
   ]
  },
  {
   "cell_type": "code",
   "execution_count": 49,
   "metadata": {},
   "outputs": [],
   "source": [
    "raw = pd.read_csv(url, index_col=0, parse_dates=True)"
   ]
  },
  {
   "cell_type": "code",
   "execution_count": 50,
   "metadata": {},
   "outputs": [
    {
     "data": {
      "text/html": [
       "<div>\n",
       "<style scoped>\n",
       "    .dataframe tbody tr th:only-of-type {\n",
       "        vertical-align: middle;\n",
       "    }\n",
       "\n",
       "    .dataframe tbody tr th {\n",
       "        vertical-align: top;\n",
       "    }\n",
       "\n",
       "    .dataframe thead th {\n",
       "        text-align: right;\n",
       "    }\n",
       "</style>\n",
       "<table border=\"1\" class=\"dataframe\">\n",
       "  <thead>\n",
       "    <tr style=\"text-align: right;\">\n",
       "      <th></th>\n",
       "      <th>HIGH</th>\n",
       "      <th>LOW</th>\n",
       "      <th>OPEN</th>\n",
       "      <th>CLOSE</th>\n",
       "    </tr>\n",
       "    <tr>\n",
       "      <th>Date</th>\n",
       "      <th></th>\n",
       "      <th></th>\n",
       "      <th></th>\n",
       "      <th></th>\n",
       "    </tr>\n",
       "  </thead>\n",
       "  <tbody>\n",
       "    <tr>\n",
       "      <th>2019-10-01 00:00:00</th>\n",
       "      <td>1.0899</td>\n",
       "      <td>1.0897</td>\n",
       "      <td>1.0897</td>\n",
       "      <td>1.0899</td>\n",
       "    </tr>\n",
       "    <tr>\n",
       "      <th>2019-10-01 00:01:00</th>\n",
       "      <td>1.0899</td>\n",
       "      <td>1.0896</td>\n",
       "      <td>1.0899</td>\n",
       "      <td>1.0898</td>\n",
       "    </tr>\n",
       "    <tr>\n",
       "      <th>2019-10-01 00:02:00</th>\n",
       "      <td>1.0898</td>\n",
       "      <td>1.0896</td>\n",
       "      <td>1.0898</td>\n",
       "      <td>1.0896</td>\n",
       "    </tr>\n",
       "    <tr>\n",
       "      <th>2019-10-01 00:03:00</th>\n",
       "      <td>1.0898</td>\n",
       "      <td>1.0896</td>\n",
       "      <td>1.0897</td>\n",
       "      <td>1.0898</td>\n",
       "    </tr>\n",
       "    <tr>\n",
       "      <th>2019-10-01 00:04:00</th>\n",
       "      <td>1.0898</td>\n",
       "      <td>1.0896</td>\n",
       "      <td>1.0897</td>\n",
       "      <td>1.0898</td>\n",
       "    </tr>\n",
       "    <tr>\n",
       "      <th>...</th>\n",
       "      <td>...</td>\n",
       "      <td>...</td>\n",
       "      <td>...</td>\n",
       "      <td>...</td>\n",
       "    </tr>\n",
       "    <tr>\n",
       "      <th>2019-12-31 22:11:00</th>\n",
       "      <td>1.1212</td>\n",
       "      <td>1.1211</td>\n",
       "      <td>1.1212</td>\n",
       "      <td>1.1211</td>\n",
       "    </tr>\n",
       "    <tr>\n",
       "      <th>2019-12-31 23:01:00</th>\n",
       "      <td>1.1212</td>\n",
       "      <td>1.1211</td>\n",
       "      <td>1.1211</td>\n",
       "      <td>1.1211</td>\n",
       "    </tr>\n",
       "    <tr>\n",
       "      <th>2019-12-31 23:03:00</th>\n",
       "      <td>1.1212</td>\n",
       "      <td>1.1211</td>\n",
       "      <td>1.1212</td>\n",
       "      <td>1.1211</td>\n",
       "    </tr>\n",
       "    <tr>\n",
       "      <th>2019-12-31 23:05:00</th>\n",
       "      <td>1.1212</td>\n",
       "      <td>1.1212</td>\n",
       "      <td>1.1212</td>\n",
       "      <td>1.1212</td>\n",
       "    </tr>\n",
       "    <tr>\n",
       "      <th>2019-12-31 23:06:00</th>\n",
       "      <td>1.1211</td>\n",
       "      <td>1.1211</td>\n",
       "      <td>1.1211</td>\n",
       "      <td>1.1211</td>\n",
       "    </tr>\n",
       "  </tbody>\n",
       "</table>\n",
       "<p>96526 rows × 4 columns</p>\n",
       "</div>"
      ],
      "text/plain": [
       "                       HIGH     LOW    OPEN   CLOSE\n",
       "Date                                               \n",
       "2019-10-01 00:00:00  1.0899  1.0897  1.0897  1.0899\n",
       "2019-10-01 00:01:00  1.0899  1.0896  1.0899  1.0898\n",
       "2019-10-01 00:02:00  1.0898  1.0896  1.0898  1.0896\n",
       "2019-10-01 00:03:00  1.0898  1.0896  1.0897  1.0898\n",
       "2019-10-01 00:04:00  1.0898  1.0896  1.0897  1.0898\n",
       "...                     ...     ...     ...     ...\n",
       "2019-12-31 22:11:00  1.1212  1.1211  1.1212  1.1211\n",
       "2019-12-31 23:01:00  1.1212  1.1211  1.1211  1.1211\n",
       "2019-12-31 23:03:00  1.1212  1.1211  1.1212  1.1211\n",
       "2019-12-31 23:05:00  1.1212  1.1212  1.1212  1.1212\n",
       "2019-12-31 23:06:00  1.1211  1.1211  1.1211  1.1211\n",
       "\n",
       "[96526 rows x 4 columns]"
      ]
     },
     "execution_count": 50,
     "metadata": {},
     "output_type": "execute_result"
    }
   ],
   "source": [
    "raw"
   ]
  },
  {
   "cell_type": "code",
   "execution_count": 51,
   "metadata": {},
   "outputs": [],
   "source": [
    "def generate_data():\n",
    "    data = pd.DataFrame(raw['CLOSE'])\n",
    "    data.columns = [symbol]\n",
    "    data = data.resample('30min', label='right').last().ffill()\n",
    "    return data"
   ]
  },
  {
   "cell_type": "code",
   "execution_count": 52,
   "metadata": {},
   "outputs": [],
   "source": [
    "data = generate_data()"
   ]
  },
  {
   "cell_type": "code",
   "execution_count": 53,
   "metadata": {},
   "outputs": [
    {
     "data": {
      "text/html": [
       "<div>\n",
       "<style scoped>\n",
       "    .dataframe tbody tr th:only-of-type {\n",
       "        vertical-align: middle;\n",
       "    }\n",
       "\n",
       "    .dataframe tbody tr th {\n",
       "        vertical-align: top;\n",
       "    }\n",
       "\n",
       "    .dataframe thead th {\n",
       "        text-align: right;\n",
       "    }\n",
       "</style>\n",
       "<table border=\"1\" class=\"dataframe\">\n",
       "  <thead>\n",
       "    <tr style=\"text-align: right;\">\n",
       "      <th></th>\n",
       "      <th>EUR_USD</th>\n",
       "    </tr>\n",
       "    <tr>\n",
       "      <th>Date</th>\n",
       "      <th></th>\n",
       "    </tr>\n",
       "  </thead>\n",
       "  <tbody>\n",
       "    <tr>\n",
       "      <th>2019-10-01 00:30:00</th>\n",
       "      <td>1.0899</td>\n",
       "    </tr>\n",
       "    <tr>\n",
       "      <th>2019-10-01 01:00:00</th>\n",
       "      <td>1.0896</td>\n",
       "    </tr>\n",
       "    <tr>\n",
       "      <th>2019-10-01 01:30:00</th>\n",
       "      <td>1.0892</td>\n",
       "    </tr>\n",
       "    <tr>\n",
       "      <th>2019-10-01 02:00:00</th>\n",
       "      <td>1.0890</td>\n",
       "    </tr>\n",
       "    <tr>\n",
       "      <th>2019-10-01 02:30:00</th>\n",
       "      <td>1.0886</td>\n",
       "    </tr>\n",
       "    <tr>\n",
       "      <th>...</th>\n",
       "      <td>...</td>\n",
       "    </tr>\n",
       "    <tr>\n",
       "      <th>2019-12-31 21:30:00</th>\n",
       "      <td>1.1212</td>\n",
       "    </tr>\n",
       "    <tr>\n",
       "      <th>2019-12-31 22:00:00</th>\n",
       "      <td>1.1208</td>\n",
       "    </tr>\n",
       "    <tr>\n",
       "      <th>2019-12-31 22:30:00</th>\n",
       "      <td>1.1211</td>\n",
       "    </tr>\n",
       "    <tr>\n",
       "      <th>2019-12-31 23:00:00</th>\n",
       "      <td>1.1211</td>\n",
       "    </tr>\n",
       "    <tr>\n",
       "      <th>2019-12-31 23:30:00</th>\n",
       "      <td>1.1211</td>\n",
       "    </tr>\n",
       "  </tbody>\n",
       "</table>\n",
       "<p>4415 rows × 1 columns</p>\n",
       "</div>"
      ],
      "text/plain": [
       "                     EUR_USD\n",
       "Date                        \n",
       "2019-10-01 00:30:00   1.0899\n",
       "2019-10-01 01:00:00   1.0896\n",
       "2019-10-01 01:30:00   1.0892\n",
       "2019-10-01 02:00:00   1.0890\n",
       "2019-10-01 02:30:00   1.0886\n",
       "...                      ...\n",
       "2019-12-31 21:30:00   1.1212\n",
       "2019-12-31 22:00:00   1.1208\n",
       "2019-12-31 22:30:00   1.1211\n",
       "2019-12-31 23:00:00   1.1211\n",
       "2019-12-31 23:30:00   1.1211\n",
       "\n",
       "[4415 rows x 1 columns]"
      ]
     },
     "execution_count": 53,
     "metadata": {},
     "output_type": "execute_result"
    }
   ],
   "source": [
    "data"
   ]
  },
  {
   "cell_type": "code",
   "execution_count": 54,
   "metadata": {},
   "outputs": [],
   "source": [
    "data = (data - data.mean()) / data.std()"
   ]
  },
  {
   "cell_type": "code",
   "execution_count": 55,
   "metadata": {},
   "outputs": [
    {
     "data": {
      "text/html": [
       "<div>\n",
       "<style scoped>\n",
       "    .dataframe tbody tr th:only-of-type {\n",
       "        vertical-align: middle;\n",
       "    }\n",
       "\n",
       "    .dataframe tbody tr th {\n",
       "        vertical-align: top;\n",
       "    }\n",
       "\n",
       "    .dataframe thead th {\n",
       "        text-align: right;\n",
       "    }\n",
       "</style>\n",
       "<table border=\"1\" class=\"dataframe\">\n",
       "  <thead>\n",
       "    <tr style=\"text-align: right;\">\n",
       "      <th></th>\n",
       "      <th>EUR_USD</th>\n",
       "    </tr>\n",
       "    <tr>\n",
       "      <th>Date</th>\n",
       "      <th></th>\n",
       "    </tr>\n",
       "  </thead>\n",
       "  <tbody>\n",
       "    <tr>\n",
       "      <th>2019-10-01 00:30:00</th>\n",
       "      <td>-2.711169</td>\n",
       "    </tr>\n",
       "    <tr>\n",
       "      <th>2019-10-01 01:00:00</th>\n",
       "      <td>-2.758273</td>\n",
       "    </tr>\n",
       "    <tr>\n",
       "      <th>2019-10-01 01:30:00</th>\n",
       "      <td>-2.821080</td>\n",
       "    </tr>\n",
       "    <tr>\n",
       "      <th>2019-10-01 02:00:00</th>\n",
       "      <td>-2.852483</td>\n",
       "    </tr>\n",
       "    <tr>\n",
       "      <th>2019-10-01 02:30:00</th>\n",
       "      <td>-2.915289</td>\n",
       "    </tr>\n",
       "    <tr>\n",
       "      <th>...</th>\n",
       "      <td>...</td>\n",
       "    </tr>\n",
       "    <tr>\n",
       "      <th>2019-12-31 21:30:00</th>\n",
       "      <td>2.203404</td>\n",
       "    </tr>\n",
       "    <tr>\n",
       "      <th>2019-12-31 22:00:00</th>\n",
       "      <td>2.140598</td>\n",
       "    </tr>\n",
       "    <tr>\n",
       "      <th>2019-12-31 22:30:00</th>\n",
       "      <td>2.187702</td>\n",
       "    </tr>\n",
       "    <tr>\n",
       "      <th>2019-12-31 23:00:00</th>\n",
       "      <td>2.187702</td>\n",
       "    </tr>\n",
       "    <tr>\n",
       "      <th>2019-12-31 23:30:00</th>\n",
       "      <td>2.187702</td>\n",
       "    </tr>\n",
       "  </tbody>\n",
       "</table>\n",
       "<p>4415 rows × 1 columns</p>\n",
       "</div>"
      ],
      "text/plain": [
       "                      EUR_USD\n",
       "Date                         \n",
       "2019-10-01 00:30:00 -2.711169\n",
       "2019-10-01 01:00:00 -2.758273\n",
       "2019-10-01 01:30:00 -2.821080\n",
       "2019-10-01 02:00:00 -2.852483\n",
       "2019-10-01 02:30:00 -2.915289\n",
       "...                       ...\n",
       "2019-12-31 21:30:00  2.203404\n",
       "2019-12-31 22:00:00  2.140598\n",
       "2019-12-31 22:30:00  2.187702\n",
       "2019-12-31 23:00:00  2.187702\n",
       "2019-12-31 23:30:00  2.187702\n",
       "\n",
       "[4415 rows x 1 columns]"
      ]
     },
     "execution_count": 55,
     "metadata": {},
     "output_type": "execute_result"
    }
   ],
   "source": [
    "data"
   ]
  },
  {
   "cell_type": "code",
   "execution_count": 56,
   "metadata": {},
   "outputs": [],
   "source": [
    "p = data[symbol].values"
   ]
  },
  {
   "cell_type": "code",
   "execution_count": 57,
   "metadata": {},
   "outputs": [
    {
     "data": {
      "text/plain": [
       "array([-2.7112, -2.7583, -2.8211, ...,  2.1877,  2.1877,  2.1877])"
      ]
     },
     "execution_count": 57,
     "metadata": {},
     "output_type": "execute_result"
    }
   ],
   "source": [
    "p"
   ]
  },
  {
   "cell_type": "code",
   "execution_count": 58,
   "metadata": {},
   "outputs": [],
   "source": [
    "p = p.reshape((len(p), -1))"
   ]
  },
  {
   "cell_type": "code",
   "execution_count": 59,
   "metadata": {},
   "outputs": [
    {
     "data": {
      "text/plain": [
       "array([[-2.7112],\n",
       "       [-2.7583],\n",
       "       [-2.8211],\n",
       "       ...,\n",
       "       [ 2.1877],\n",
       "       [ 2.1877],\n",
       "       [ 2.1877]])"
      ]
     },
     "execution_count": 59,
     "metadata": {},
     "output_type": "execute_result"
    }
   ],
   "source": [
    "p"
   ]
  },
  {
   "cell_type": "code",
   "execution_count": 60,
   "metadata": {},
   "outputs": [],
   "source": [
    "lags = 5"
   ]
  },
  {
   "cell_type": "code",
   "execution_count": 61,
   "metadata": {},
   "outputs": [],
   "source": [
    "g = TimeseriesGenerator(p, p, length=lags, batch_size=5)"
   ]
  },
  {
   "cell_type": "code",
   "execution_count": 62,
   "metadata": {},
   "outputs": [],
   "source": [
    "def create_rnn_model(hu=100, lags=lags, layer='SimpleRNN',\n",
    "                           features=1, algorithm='estimation'):\n",
    "    model = Sequential()\n",
    "    if layer == 'SimpleRNN':\n",
    "        model.add(SimpleRNN(hu, activation='relu',\n",
    "                            input_shape=(lags, features)))\n",
    "    else:\n",
    "        model.add(LSTM(hu, activation='relu',\n",
    "                       input_shape=(lags, features)))\n",
    "    if algorithm == 'estimation':\n",
    "        model.add(Dense(1, activation='linear'))\n",
    "        model.compile(optimizer='adam', loss='mse', metrics=['mae'])\n",
    "    else:\n",
    "        model.add(Dense(1, activation='sigmoid'))\n",
    "        model.compile(optimizer='adam', loss='binary_crossentropy',\n",
    "                      metrics=['accuracy'])\n",
    "    return model"
   ]
  },
  {
   "cell_type": "code",
   "execution_count": 63,
   "metadata": {},
   "outputs": [],
   "source": [
    "model = create_rnn_model()"
   ]
  },
  {
   "cell_type": "code",
   "execution_count": 64,
   "metadata": {
    "scrolled": false
   },
   "outputs": [
    {
     "name": "stdout",
     "output_type": "stream",
     "text": [
      "Epoch 1/500\n",
      "10/10 [==============================] - 1s 15ms/step - loss: 1.1005 - mae: 0.9186\n",
      "Epoch 2/500\n",
      "10/10 [==============================] - 0s 15ms/step - loss: 1.0346 - mae: 0.7501\n",
      "Epoch 3/500\n",
      "10/10 [==============================] - 0s 15ms/step - loss: 0.1679 - mae: 0.2692\n",
      "Epoch 4/500\n",
      "10/10 [==============================] - 0s 15ms/step - loss: 0.0372 - mae: 0.1404\n",
      "Epoch 5/500\n",
      "10/10 [==============================] - 0s 14ms/step - loss: 0.0277 - mae: 0.1187\n",
      "Epoch 6/500\n",
      "10/10 [==============================] - 0s 16ms/step - loss: 0.0192 - mae: 0.1234\n",
      "Epoch 7/500\n",
      "10/10 [==============================] - 0s 16ms/step - loss: 0.0623 - mae: 0.1535\n",
      "Epoch 8/500\n",
      "10/10 [==============================] - 0s 16ms/step - loss: 0.0164 - mae: 0.0938\n",
      "Epoch 9/500\n",
      "10/10 [==============================] - 0s 16ms/step - loss: 0.0317 - mae: 0.1434\n",
      "Epoch 10/500\n",
      "10/10 [==============================] - 0s 17ms/step - loss: 0.0355 - mae: 0.1517\n",
      "Epoch 11/500\n",
      "10/10 [==============================] - 0s 17ms/step - loss: 0.0199 - mae: 0.1028\n",
      "Epoch 12/500\n",
      "10/10 [==============================] - 0s 16ms/step - loss: 0.0040 - mae: 0.0488\n",
      "Epoch 13/500\n",
      "10/10 [==============================] - 0s 16ms/step - loss: 0.0089 - mae: 0.0737\n",
      "Epoch 14/500\n",
      "10/10 [==============================] - 0s 16ms/step - loss: 0.0116 - mae: 0.0688\n",
      "Epoch 15/500\n",
      "10/10 [==============================] - 0s 15ms/step - loss: 0.0075 - mae: 0.0610\n",
      "Epoch 16/500\n",
      "10/10 [==============================] - 0s 17ms/step - loss: 0.0180 - mae: 0.0965\n",
      "Epoch 17/500\n",
      "10/10 [==============================] - 0s 20ms/step - loss: 0.0040 - mae: 0.0477\n",
      "Epoch 18/500\n",
      "10/10 [==============================] - 0s 15ms/step - loss: 0.0075 - mae: 0.0657\n",
      "Epoch 19/500\n",
      "10/10 [==============================] - 0s 15ms/step - loss: 0.0025 - mae: 0.0375\n",
      "Epoch 20/500\n",
      "10/10 [==============================] - 0s 16ms/step - loss: 0.0036 - mae: 0.0475\n",
      "Epoch 21/500\n",
      "10/10 [==============================] - 0s 15ms/step - loss: 0.0050 - mae: 0.0516\n",
      "Epoch 22/500\n",
      "10/10 [==============================] - 0s 15ms/step - loss: 0.0032 - mae: 0.0318\n",
      "Epoch 23/500\n",
      "10/10 [==============================] - 0s 15ms/step - loss: 0.0108 - mae: 0.0717\n",
      "Epoch 24/500\n",
      "10/10 [==============================] - 0s 15ms/step - loss: 0.0072 - mae: 0.0642\n",
      "Epoch 25/500\n",
      "10/10 [==============================] - 0s 15ms/step - loss: 0.0063 - mae: 0.0639\n",
      "Epoch 26/500\n",
      "10/10 [==============================] - 0s 14ms/step - loss: 0.0043 - mae: 0.0458\n",
      "Epoch 27/500\n",
      "10/10 [==============================] - 0s 14ms/step - loss: 0.0035 - mae: 0.0466\n",
      "Epoch 28/500\n",
      "10/10 [==============================] - 0s 16ms/step - loss: 0.0049 - mae: 0.0497\n",
      "Epoch 29/500\n",
      "10/10 [==============================] - 0s 17ms/step - loss: 0.0076 - mae: 0.0712\n",
      "Epoch 30/500\n",
      "10/10 [==============================] - 0s 15ms/step - loss: 0.0028 - mae: 0.0407\n",
      "Epoch 31/500\n",
      "10/10 [==============================] - 0s 17ms/step - loss: 0.0125 - mae: 0.0628\n",
      "Epoch 32/500\n",
      "10/10 [==============================] - 0s 15ms/step - loss: 0.0153 - mae: 0.0940\n",
      "Epoch 33/500\n",
      "10/10 [==============================] - 0s 16ms/step - loss: 0.0100 - mae: 0.0798\n",
      "Epoch 34/500\n",
      "10/10 [==============================] - 0s 18ms/step - loss: 0.0190 - mae: 0.0923\n",
      "Epoch 35/500\n",
      "10/10 [==============================] - 0s 17ms/step - loss: 0.0239 - mae: 0.1167\n",
      "Epoch 36/500\n",
      "10/10 [==============================] - 0s 15ms/step - loss: 0.0132 - mae: 0.0866\n",
      "Epoch 37/500\n",
      "10/10 [==============================] - 0s 14ms/step - loss: 0.0060 - mae: 0.0527\n",
      "Epoch 38/500\n",
      "10/10 [==============================] - 0s 13ms/step - loss: 0.0137 - mae: 0.0851\n",
      "Epoch 39/500\n",
      "10/10 [==============================] - 0s 14ms/step - loss: 0.0068 - mae: 0.0610\n",
      "Epoch 40/500\n",
      "10/10 [==============================] - 0s 14ms/step - loss: 0.0074 - mae: 0.0739\n",
      "Epoch 41/500\n",
      "10/10 [==============================] - 0s 17ms/step - loss: 0.0135 - mae: 0.0679\n",
      "Epoch 42/500\n",
      "10/10 [==============================] - 0s 13ms/step - loss: 0.0071 - mae: 0.0551\n",
      "Epoch 43/500\n",
      "10/10 [==============================] - 0s 14ms/step - loss: 0.0114 - mae: 0.0755\n",
      "Epoch 44/500\n",
      "10/10 [==============================] - 0s 13ms/step - loss: 0.0092 - mae: 0.0715\n",
      "Epoch 45/500\n",
      "10/10 [==============================] - 0s 17ms/step - loss: 0.0096 - mae: 0.0749\n",
      "Epoch 46/500\n",
      "10/10 [==============================] - 0s 14ms/step - loss: 0.0178 - mae: 0.0968\n",
      "Epoch 47/500\n",
      "10/10 [==============================] - 0s 14ms/step - loss: 0.0157 - mae: 0.0999\n",
      "Epoch 48/500\n",
      "10/10 [==============================] - 0s 16ms/step - loss: 0.0031 - mae: 0.0380\n",
      "Epoch 49/500\n",
      "10/10 [==============================] - 0s 17ms/step - loss: 0.0023 - mae: 0.0354\n",
      "Epoch 50/500\n",
      "10/10 [==============================] - 0s 13ms/step - loss: 0.0022 - mae: 0.0307\n",
      "Epoch 51/500\n",
      "10/10 [==============================] - 0s 13ms/step - loss: 0.0131 - mae: 0.0796\n",
      "Epoch 52/500\n",
      "10/10 [==============================] - 0s 17ms/step - loss: 0.0070 - mae: 0.0693\n",
      "Epoch 53/500\n",
      "10/10 [==============================] - 0s 14ms/step - loss: 0.0027 - mae: 0.0351\n",
      "Epoch 54/500\n",
      "10/10 [==============================] - 0s 14ms/step - loss: 0.0083 - mae: 0.0661\n",
      "Epoch 55/500\n",
      "10/10 [==============================] - 0s 16ms/step - loss: 0.0040 - mae: 0.0522\n",
      "Epoch 56/500\n",
      "10/10 [==============================] - 0s 14ms/step - loss: 0.0057 - mae: 0.0563\n",
      "Epoch 57/500\n",
      "10/10 [==============================] - 0s 14ms/step - loss: 0.0107 - mae: 0.0682\n",
      "Epoch 58/500\n",
      "10/10 [==============================] - 0s 14ms/step - loss: 0.0086 - mae: 0.0586\n",
      "Epoch 59/500\n",
      "10/10 [==============================] - 0s 14ms/step - loss: 0.0030 - mae: 0.0358\n",
      "Epoch 60/500\n",
      "10/10 [==============================] - 0s 14ms/step - loss: 0.0112 - mae: 0.0678\n",
      "Epoch 61/500\n",
      "10/10 [==============================] - 0s 14ms/step - loss: 0.0068 - mae: 0.0540\n",
      "Epoch 62/500\n",
      "10/10 [==============================] - 0s 14ms/step - loss: 0.0089 - mae: 0.0749\n",
      "Epoch 63/500\n",
      "10/10 [==============================] - 0s 14ms/step - loss: 0.0084 - mae: 0.0568\n",
      "Epoch 64/500\n",
      "10/10 [==============================] - 0s 15ms/step - loss: 0.0031 - mae: 0.0435\n",
      "Epoch 65/500\n",
      "10/10 [==============================] - 0s 14ms/step - loss: 0.0037 - mae: 0.0505\n",
      "Epoch 66/500\n",
      "10/10 [==============================] - 0s 15ms/step - loss: 0.0072 - mae: 0.0558\n",
      "Epoch 67/500\n",
      "10/10 [==============================] - 0s 17ms/step - loss: 0.0104 - mae: 0.0751\n",
      "Epoch 68/500\n",
      "10/10 [==============================] - 0s 15ms/step - loss: 0.0071 - mae: 0.0698\n",
      "Epoch 69/500\n",
      "10/10 [==============================] - 0s 14ms/step - loss: 0.0091 - mae: 0.0725\n",
      "Epoch 70/500\n",
      "10/10 [==============================] - 0s 14ms/step - loss: 0.0202 - mae: 0.0862\n",
      "Epoch 71/500\n",
      "10/10 [==============================] - 0s 14ms/step - loss: 0.0035 - mae: 0.0483\n",
      "Epoch 72/500\n",
      "10/10 [==============================] - 0s 13ms/step - loss: 0.0098 - mae: 0.0715\n",
      "Epoch 73/500\n",
      "10/10 [==============================] - 0s 14ms/step - loss: 0.0072 - mae: 0.0627\n",
      "Epoch 74/500\n",
      "10/10 [==============================] - 0s 14ms/step - loss: 0.0041 - mae: 0.0440\n",
      "Epoch 75/500\n",
      "10/10 [==============================] - 0s 14ms/step - loss: 0.0058 - mae: 0.0528\n",
      "Epoch 76/500\n",
      "10/10 [==============================] - 0s 14ms/step - loss: 0.0039 - mae: 0.0455\n",
      "Epoch 77/500\n",
      "10/10 [==============================] - 0s 14ms/step - loss: 0.0039 - mae: 0.0458\n",
      "Epoch 78/500\n",
      "10/10 [==============================] - 0s 14ms/step - loss: 0.0027 - mae: 0.0389\n",
      "Epoch 79/500\n",
      "10/10 [==============================] - 0s 14ms/step - loss: 0.0054 - mae: 0.0560\n",
      "Epoch 80/500\n",
      "10/10 [==============================] - 0s 15ms/step - loss: 0.0042 - mae: 0.0455\n",
      "Epoch 81/500\n",
      "10/10 [==============================] - 0s 13ms/step - loss: 0.0090 - mae: 0.0685\n",
      "Epoch 82/500\n",
      "10/10 [==============================] - 0s 14ms/step - loss: 0.0070 - mae: 0.0629\n",
      "Epoch 83/500\n",
      "10/10 [==============================] - 0s 14ms/step - loss: 0.0028 - mae: 0.0428\n",
      "Epoch 84/500\n",
      "10/10 [==============================] - 0s 14ms/step - loss: 0.0106 - mae: 0.0764\n",
      "Epoch 85/500\n",
      "10/10 [==============================] - 0s 14ms/step - loss: 0.0183 - mae: 0.0888\n",
      "Epoch 86/500\n",
      "10/10 [==============================] - 0s 15ms/step - loss: 0.0056 - mae: 0.0660\n",
      "Epoch 87/500\n",
      "10/10 [==============================] - 0s 14ms/step - loss: 0.0060 - mae: 0.0593\n",
      "Epoch 88/500\n",
      "10/10 [==============================] - 0s 15ms/step - loss: 0.0031 - mae: 0.0409\n",
      "Epoch 89/500\n",
      "10/10 [==============================] - 0s 14ms/step - loss: 0.0019 - mae: 0.0329\n",
      "Epoch 90/500\n",
      "10/10 [==============================] - 0s 15ms/step - loss: 0.0034 - mae: 0.0324\n",
      "Epoch 91/500\n",
      "10/10 [==============================] - 0s 14ms/step - loss: 0.0137 - mae: 0.0798\n",
      "Epoch 92/500\n",
      "10/10 [==============================] - 0s 14ms/step - loss: 0.0080 - mae: 0.0566\n",
      "Epoch 93/500\n",
      "10/10 [==============================] - 0s 15ms/step - loss: 0.0037 - mae: 0.0480\n",
      "Epoch 94/500\n",
      "10/10 [==============================] - 0s 15ms/step - loss: 0.0117 - mae: 0.0783\n",
      "Epoch 95/500\n",
      "10/10 [==============================] - 0s 14ms/step - loss: 0.0134 - mae: 0.0816 \n",
      "Epoch 96/500\n",
      "10/10 [==============================] - 0s 15ms/step - loss: 0.0042 - mae: 0.0452\n",
      "Epoch 97/500\n",
      "10/10 [==============================] - 0s 14ms/step - loss: 0.0121 - mae: 0.0783\n",
      "Epoch 98/500\n",
      "10/10 [==============================] - 0s 15ms/step - loss: 0.0069 - mae: 0.0638\n",
      "Epoch 99/500\n",
      "10/10 [==============================] - 0s 15ms/step - loss: 0.0075 - mae: 0.0673\n",
      "Epoch 100/500\n",
      "10/10 [==============================] - 0s 15ms/step - loss: 0.0282 - mae: 0.1018\n",
      "Epoch 101/500\n",
      "10/10 [==============================] - 0s 15ms/step - loss: 0.0215 - mae: 0.1094\n",
      "Epoch 102/500\n",
      "10/10 [==============================] - 0s 14ms/step - loss: 0.0041 - mae: 0.0522\n",
      "Epoch 103/500\n",
      "10/10 [==============================] - 0s 15ms/step - loss: 0.0031 - mae: 0.0332\n",
      "Epoch 104/500\n",
      "10/10 [==============================] - 0s 14ms/step - loss: 0.0046 - mae: 0.0507\n",
      "Epoch 105/500\n",
      "10/10 [==============================] - 0s 15ms/step - loss: 0.0163 - mae: 0.0823\n",
      "Epoch 106/500\n",
      "10/10 [==============================] - 0s 15ms/step - loss: 0.0056 - mae: 0.0525\n",
      "Epoch 107/500\n",
      "10/10 [==============================] - 0s 15ms/step - loss: 0.0053 - mae: 0.0532\n",
      "Epoch 108/500\n",
      "10/10 [==============================] - 0s 15ms/step - loss: 0.0047 - mae: 0.0495\n",
      "Epoch 109/500\n",
      "10/10 [==============================] - 0s 14ms/step - loss: 0.0112 - mae: 0.0664\n",
      "Epoch 110/500\n",
      "10/10 [==============================] - 0s 15ms/step - loss: 0.0051 - mae: 0.0390\n",
      "Epoch 111/500\n",
      "10/10 [==============================] - 0s 15ms/step - loss: 0.0035 - mae: 0.0422\n",
      "Epoch 112/500\n",
      "10/10 [==============================] - 0s 15ms/step - loss: 0.0039 - mae: 0.0376\n",
      "Epoch 113/500\n",
      "10/10 [==============================] - 0s 14ms/step - loss: 0.0027 - mae: 0.0373\n",
      "Epoch 114/500\n",
      "10/10 [==============================] - 0s 17ms/step - loss: 0.0014 - mae: 0.0251\n",
      "Epoch 115/500\n",
      "10/10 [==============================] - 0s 15ms/step - loss: 0.0048 - mae: 0.0458\n",
      "Epoch 116/500\n",
      "10/10 [==============================] - 0s 15ms/step - loss: 0.0087 - mae: 0.0683\n",
      "Epoch 117/500\n",
      "10/10 [==============================] - 0s 16ms/step - loss: 0.0013 - mae: 0.0225\n",
      "Epoch 118/500\n",
      "10/10 [==============================] - 0s 15ms/step - loss: 0.0039 - mae: 0.0439\n",
      "Epoch 119/500\n",
      "10/10 [==============================] - 0s 14ms/step - loss: 0.0032 - mae: 0.0349\n",
      "Epoch 120/500\n",
      "10/10 [==============================] - 0s 15ms/step - loss: 0.0023 - mae: 0.0320\n",
      "Epoch 121/500\n",
      "10/10 [==============================] - 0s 15ms/step - loss: 0.0319 - mae: 0.0927\n",
      "Epoch 122/500\n",
      "10/10 [==============================] - 0s 15ms/step - loss: 0.0079 - mae: 0.0540\n",
      "Epoch 123/500\n",
      "10/10 [==============================] - 0s 15ms/step - loss: 0.0162 - mae: 0.0795\n",
      "Epoch 124/500\n",
      "10/10 [==============================] - 0s 14ms/step - loss: 0.0245 - mae: 0.0874\n",
      "Epoch 125/500\n",
      "10/10 [==============================] - 0s 14ms/step - loss: 0.0054 - mae: 0.0591\n",
      "Epoch 126/500\n",
      "10/10 [==============================] - 0s 14ms/step - loss: 0.0060 - mae: 0.0565\n",
      "Epoch 127/500\n",
      "10/10 [==============================] - 0s 13ms/step - loss: 0.0022 - mae: 0.0382\n",
      "Epoch 128/500\n",
      "10/10 [==============================] - 0s 14ms/step - loss: 0.0030 - mae: 0.0378\n",
      "Epoch 129/500\n",
      "10/10 [==============================] - 0s 14ms/step - loss: 0.0054 - mae: 0.0450\n",
      "Epoch 130/500\n",
      "10/10 [==============================] - 0s 13ms/step - loss: 0.0038 - mae: 0.0440\n",
      "Epoch 131/500\n",
      "10/10 [==============================] - 0s 14ms/step - loss: 0.0083 - mae: 0.0720\n",
      "Epoch 132/500\n",
      "10/10 [==============================] - 0s 14ms/step - loss: 0.0117 - mae: 0.0781\n",
      "Epoch 133/500\n",
      "10/10 [==============================] - 0s 15ms/step - loss: 0.0053 - mae: 0.0543\n",
      "Epoch 134/500\n",
      "10/10 [==============================] - 0s 13ms/step - loss: 0.0031 - mae: 0.0412\n",
      "Epoch 135/500\n",
      "10/10 [==============================] - 0s 17ms/step - loss: 0.0051 - mae: 0.0509\n",
      "Epoch 136/500\n",
      "10/10 [==============================] - 0s 15ms/step - loss: 0.0038 - mae: 0.0423\n",
      "Epoch 137/500\n",
      "10/10 [==============================] - 0s 14ms/step - loss: 0.0048 - mae: 0.0486\n",
      "Epoch 138/500\n",
      "10/10 [==============================] - 0s 18ms/step - loss: 0.0043 - mae: 0.0394\n",
      "Epoch 139/500\n",
      "10/10 [==============================] - 0s 14ms/step - loss: 0.0043 - mae: 0.0520\n",
      "Epoch 140/500\n",
      "10/10 [==============================] - 0s 14ms/step - loss: 0.0042 - mae: 0.0473\n",
      "Epoch 141/500\n",
      "10/10 [==============================] - 0s 14ms/step - loss: 0.0097 - mae: 0.0654\n",
      "Epoch 142/500\n",
      "10/10 [==============================] - 0s 15ms/step - loss: 0.0032 - mae: 0.0444\n",
      "Epoch 143/500\n",
      "10/10 [==============================] - 0s 14ms/step - loss: 0.0064 - mae: 0.0610\n",
      "Epoch 144/500\n",
      "10/10 [==============================] - 0s 14ms/step - loss: 0.0053 - mae: 0.0528\n",
      "Epoch 145/500\n",
      "10/10 [==============================] - 0s 14ms/step - loss: 0.0014 - mae: 0.0301\n",
      "Epoch 146/500\n",
      "10/10 [==============================] - 0s 14ms/step - loss: 0.0139 - mae: 0.0732\n",
      "Epoch 147/500\n",
      "10/10 [==============================] - 0s 14ms/step - loss: 0.0054 - mae: 0.0518\n",
      "Epoch 148/500\n",
      "10/10 [==============================] - 0s 14ms/step - loss: 0.0028 - mae: 0.0410\n",
      "Epoch 149/500\n",
      "10/10 [==============================] - 0s 14ms/step - loss: 0.0081 - mae: 0.0587\n",
      "Epoch 150/500\n",
      "10/10 [==============================] - 0s 14ms/step - loss: 0.0037 - mae: 0.0460\n",
      "Epoch 151/500\n",
      "10/10 [==============================] - 0s 14ms/step - loss: 0.0065 - mae: 0.0621\n",
      "Epoch 152/500\n",
      "10/10 [==============================] - 0s 14ms/step - loss: 0.0052 - mae: 0.0464\n",
      "Epoch 153/500\n",
      "10/10 [==============================] - 0s 13ms/step - loss: 0.0031 - mae: 0.0449\n",
      "Epoch 154/500\n",
      "10/10 [==============================] - 0s 13ms/step - loss: 0.0122 - mae: 0.0695\n",
      "Epoch 155/500\n",
      "10/10 [==============================] - 0s 14ms/step - loss: 0.0054 - mae: 0.0480\n",
      "Epoch 156/500\n",
      "10/10 [==============================] - 0s 14ms/step - loss: 0.0047 - mae: 0.0525\n",
      "Epoch 157/500\n",
      "10/10 [==============================] - 0s 14ms/step - loss: 0.0063 - mae: 0.0595\n",
      "Epoch 158/500\n",
      "10/10 [==============================] - 0s 14ms/step - loss: 0.0042 - mae: 0.0482\n",
      "Epoch 159/500\n",
      "10/10 [==============================] - 0s 13ms/step - loss: 0.0057 - mae: 0.0488\n",
      "Epoch 160/500\n",
      "10/10 [==============================] - 0s 13ms/step - loss: 0.0033 - mae: 0.0364\n",
      "Epoch 161/500\n",
      "10/10 [==============================] - 0s 14ms/step - loss: 0.0039 - mae: 0.0430\n",
      "Epoch 162/500\n",
      "10/10 [==============================] - 0s 14ms/step - loss: 0.0052 - mae: 0.0483\n",
      "Epoch 163/500\n",
      "10/10 [==============================] - 0s 13ms/step - loss: 0.0044 - mae: 0.0452\n",
      "Epoch 164/500\n",
      "10/10 [==============================] - 0s 14ms/step - loss: 0.0053 - mae: 0.0584\n",
      "Epoch 165/500\n",
      "10/10 [==============================] - 0s 13ms/step - loss: 0.0067 - mae: 0.0598\n",
      "Epoch 166/500\n",
      "10/10 [==============================] - 0s 14ms/step - loss: 0.0031 - mae: 0.0433\n",
      "Epoch 167/500\n",
      "10/10 [==============================] - 0s 14ms/step - loss: 0.0037 - mae: 0.0426\n",
      "Epoch 168/500\n",
      "10/10 [==============================] - 0s 13ms/step - loss: 0.0027 - mae: 0.0347\n",
      "Epoch 169/500\n",
      "10/10 [==============================] - 0s 14ms/step - loss: 0.0036 - mae: 0.0383\n",
      "Epoch 170/500\n"
     ]
    },
    {
     "name": "stdout",
     "output_type": "stream",
     "text": [
      "10/10 [==============================] - 0s 14ms/step - loss: 0.0015 - mae: 0.0259\n",
      "Epoch 171/500\n",
      "10/10 [==============================] - 0s 13ms/step - loss: 0.0035 - mae: 0.0391\n",
      "Epoch 172/500\n",
      "10/10 [==============================] - 0s 13ms/step - loss: 0.0049 - mae: 0.0485\n",
      "Epoch 173/500\n",
      "10/10 [==============================] - 0s 14ms/step - loss: 0.0035 - mae: 0.0396\n",
      "Epoch 174/500\n",
      "10/10 [==============================] - 0s 14ms/step - loss: 0.0060 - mae: 0.0522\n",
      "Epoch 175/500\n",
      "10/10 [==============================] - 0s 14ms/step - loss: 0.0057 - mae: 0.0508\n",
      "Epoch 176/500\n",
      "10/10 [==============================] - 0s 15ms/step - loss: 0.0062 - mae: 0.0438\n",
      "Epoch 177/500\n",
      "10/10 [==============================] - 0s 15ms/step - loss: 0.0034 - mae: 0.0484\n",
      "Epoch 178/500\n",
      "10/10 [==============================] - 0s 15ms/step - loss: 0.0043 - mae: 0.0467\n",
      "Epoch 179/500\n",
      "10/10 [==============================] - 0s 14ms/step - loss: 0.0040 - mae: 0.0428\n",
      "Epoch 180/500\n",
      "10/10 [==============================] - 0s 14ms/step - loss: 0.0042 - mae: 0.0464\n",
      "Epoch 181/500\n",
      "10/10 [==============================] - 0s 15ms/step - loss: 0.0022 - mae: 0.0401\n",
      "Epoch 182/500\n",
      "10/10 [==============================] - 0s 15ms/step - loss: 0.0021 - mae: 0.0348\n",
      "Epoch 183/500\n",
      "10/10 [==============================] - 0s 15ms/step - loss: 0.0071 - mae: 0.0542\n",
      "Epoch 184/500\n",
      "10/10 [==============================] - 0s 16ms/step - loss: 0.0059 - mae: 0.0561\n",
      "Epoch 185/500\n",
      "10/10 [==============================] - 0s 15ms/step - loss: 0.0050 - mae: 0.0501\n",
      "Epoch 186/500\n",
      "10/10 [==============================] - 0s 14ms/step - loss: 0.0062 - mae: 0.0612\n",
      "Epoch 187/500\n",
      "10/10 [==============================] - 0s 15ms/step - loss: 0.0057 - mae: 0.0536\n",
      "Epoch 188/500\n",
      "10/10 [==============================] - 0s 16ms/step - loss: 0.0029 - mae: 0.0368\n",
      "Epoch 189/500\n",
      "10/10 [==============================] - 0s 16ms/step - loss: 0.0012 - mae: 0.0244\n",
      "Epoch 190/500\n",
      "10/10 [==============================] - 0s 17ms/step - loss: 0.0080 - mae: 0.0566\n",
      "Epoch 191/500\n",
      "10/10 [==============================] - 0s 16ms/step - loss: 0.0039 - mae: 0.0331\n",
      "Epoch 192/500\n",
      "10/10 [==============================] - 0s 18ms/step - loss: 0.0028 - mae: 0.0306\n",
      "Epoch 193/500\n",
      "10/10 [==============================] - 0s 17ms/step - loss: 0.0091 - mae: 0.0668\n",
      "Epoch 194/500\n",
      "10/10 [==============================] - 0s 18ms/step - loss: 0.0068 - mae: 0.0675\n",
      "Epoch 195/500\n",
      "10/10 [==============================] - 0s 15ms/step - loss: 0.0058 - mae: 0.0576\n",
      "Epoch 196/500\n",
      "10/10 [==============================] - 0s 14ms/step - loss: 0.0057 - mae: 0.0540\n",
      "Epoch 197/500\n",
      "10/10 [==============================] - 0s 14ms/step - loss: 0.0078 - mae: 0.0681\n",
      "Epoch 198/500\n",
      "10/10 [==============================] - 0s 17ms/step - loss: 0.0060 - mae: 0.0593\n",
      "Epoch 199/500\n",
      "10/10 [==============================] - 0s 17ms/step - loss: 0.0042 - mae: 0.0501\n",
      "Epoch 200/500\n",
      "10/10 [==============================] - 0s 18ms/step - loss: 0.0027 - mae: 0.0427\n",
      "Epoch 201/500\n",
      "10/10 [==============================] - 0s 16ms/step - loss: 0.0085 - mae: 0.0703\n",
      "Epoch 202/500\n",
      "10/10 [==============================] - 0s 15ms/step - loss: 0.0052 - mae: 0.0395\n",
      "Epoch 203/500\n",
      "10/10 [==============================] - 0s 15ms/step - loss: 0.0019 - mae: 0.0279\n",
      "Epoch 204/500\n",
      "10/10 [==============================] - 0s 14ms/step - loss: 0.0034 - mae: 0.0374\n",
      "Epoch 205/500\n",
      "10/10 [==============================] - 0s 15ms/step - loss: 0.0018 - mae: 0.0251 \n",
      "Epoch 206/500\n",
      "10/10 [==============================] - 0s 14ms/step - loss: 0.0048 - mae: 0.0455\n",
      "Epoch 207/500\n",
      "10/10 [==============================] - 0s 16ms/step - loss: 0.0051 - mae: 0.0457\n",
      "Epoch 208/500\n",
      "10/10 [==============================] - 0s 16ms/step - loss: 0.0033 - mae: 0.0397\n",
      "Epoch 209/500\n",
      "10/10 [==============================] - 0s 15ms/step - loss: 0.0064 - mae: 0.0531\n",
      "Epoch 210/500\n",
      "10/10 [==============================] - 0s 14ms/step - loss: 0.0071 - mae: 0.0697\n",
      "Epoch 211/500\n",
      "10/10 [==============================] - 0s 14ms/step - loss: 0.0020 - mae: 0.0321\n",
      "Epoch 212/500\n",
      "10/10 [==============================] - 0s 14ms/step - loss: 0.0019 - mae: 0.0336\n",
      "Epoch 213/500\n",
      "10/10 [==============================] - 0s 14ms/step - loss: 0.0031 - mae: 0.0297\n",
      "Epoch 214/500\n",
      "10/10 [==============================] - 0s 14ms/step - loss: 0.0034 - mae: 0.0409\n",
      "Epoch 215/500\n",
      "10/10 [==============================] - 0s 13ms/step - loss: 0.0027 - mae: 0.0423\n",
      "Epoch 216/500\n",
      "10/10 [==============================] - 0s 13ms/step - loss: 0.0021 - mae: 0.0328\n",
      "Epoch 217/500\n",
      "10/10 [==============================] - 0s 14ms/step - loss: 0.0011 - mae: 0.0253\n",
      "Epoch 218/500\n",
      "10/10 [==============================] - 0s 14ms/step - loss: 0.0072 - mae: 0.0569\n",
      "Epoch 219/500\n",
      "10/10 [==============================] - 0s 13ms/step - loss: 0.0051 - mae: 0.0572\n",
      "Epoch 220/500\n",
      "10/10 [==============================] - 0s 14ms/step - loss: 0.0073 - mae: 0.0589\n",
      "Epoch 221/500\n",
      "10/10 [==============================] - 0s 14ms/step - loss: 0.0027 - mae: 0.0364\n",
      "Epoch 222/500\n",
      "10/10 [==============================] - 0s 15ms/step - loss: 0.0339 - mae: 0.1001\n",
      "Epoch 223/500\n",
      "10/10 [==============================] - 0s 14ms/step - loss: 0.0044 - mae: 0.0459\n",
      "Epoch 224/500\n",
      "10/10 [==============================] - 0s 14ms/step - loss: 0.0113 - mae: 0.0804\n",
      "Epoch 225/500\n",
      "10/10 [==============================] - 0s 13ms/step - loss: 0.0152 - mae: 0.0769\n",
      "Epoch 226/500\n",
      "10/10 [==============================] - 0s 14ms/step - loss: 0.0059 - mae: 0.0627\n",
      "Epoch 227/500\n",
      "10/10 [==============================] - 0s 14ms/step - loss: 0.0027 - mae: 0.0365\n",
      "Epoch 228/500\n",
      "10/10 [==============================] - 0s 14ms/step - loss: 0.0029 - mae: 0.0396\n",
      "Epoch 229/500\n",
      "10/10 [==============================] - 0s 14ms/step - loss: 0.0084 - mae: 0.0716\n",
      "Epoch 230/500\n",
      "10/10 [==============================] - 0s 14ms/step - loss: 0.0068 - mae: 0.0632\n",
      "Epoch 231/500\n",
      "10/10 [==============================] - 0s 13ms/step - loss: 0.0058 - mae: 0.0580\n",
      "Epoch 232/500\n",
      "10/10 [==============================] - 0s 14ms/step - loss: 0.0083 - mae: 0.0603\n",
      "Epoch 233/500\n",
      "10/10 [==============================] - 0s 14ms/step - loss: 0.0036 - mae: 0.0427\n",
      "Epoch 234/500\n",
      "10/10 [==============================] - 0s 14ms/step - loss: 0.0039 - mae: 0.0506\n",
      "Epoch 235/500\n",
      "10/10 [==============================] - 0s 14ms/step - loss: 0.0108 - mae: 0.0779\n",
      "Epoch 236/500\n",
      "10/10 [==============================] - 0s 14ms/step - loss: 0.0042 - mae: 0.0483\n",
      "Epoch 237/500\n",
      "10/10 [==============================] - 0s 14ms/step - loss: 0.0057 - mae: 0.0536\n",
      "Epoch 238/500\n",
      "10/10 [==============================] - 0s 14ms/step - loss: 0.0028 - mae: 0.0349\n",
      "Epoch 239/500\n",
      "10/10 [==============================] - 0s 13ms/step - loss: 0.0041 - mae: 0.0495\n",
      "Epoch 240/500\n",
      "10/10 [==============================] - 0s 14ms/step - loss: 0.0032 - mae: 0.0419\n",
      "Epoch 241/500\n",
      "10/10 [==============================] - 0s 14ms/step - loss: 0.0058 - mae: 0.0579\n",
      "Epoch 242/500\n",
      "10/10 [==============================] - 0s 14ms/step - loss: 0.0106 - mae: 0.0655\n",
      "Epoch 243/500\n",
      "10/10 [==============================] - 0s 14ms/step - loss: 0.0061 - mae: 0.0647\n",
      "Epoch 244/500\n",
      "10/10 [==============================] - 0s 15ms/step - loss: 0.0039 - mae: 0.0435\n",
      "Epoch 245/500\n",
      "10/10 [==============================] - 0s 14ms/step - loss: 0.0038 - mae: 0.0379\n",
      "Epoch 246/500\n",
      "10/10 [==============================] - 0s 14ms/step - loss: 0.0028 - mae: 0.0452\n",
      "Epoch 247/500\n",
      "10/10 [==============================] - 0s 14ms/step - loss: 0.0084 - mae: 0.0482\n",
      "Epoch 248/500\n",
      "10/10 [==============================] - 0s 14ms/step - loss: 0.0044 - mae: 0.0424\n",
      "Epoch 249/500\n",
      "10/10 [==============================] - 0s 14ms/step - loss: 0.0042 - mae: 0.0474\n",
      "Epoch 250/500\n",
      "10/10 [==============================] - 0s 14ms/step - loss: 0.0074 - mae: 0.0655\n",
      "Epoch 251/500\n",
      "10/10 [==============================] - 0s 15ms/step - loss: 0.0036 - mae: 0.0446\n",
      "Epoch 252/500\n",
      "10/10 [==============================] - 0s 14ms/step - loss: 0.0025 - mae: 0.0290\n",
      "Epoch 253/500\n",
      "10/10 [==============================] - 0s 14ms/step - loss: 0.0037 - mae: 0.0450\n",
      "Epoch 254/500\n",
      "10/10 [==============================] - 0s 14ms/step - loss: 0.0024 - mae: 0.0354\n",
      "Epoch 255/500\n",
      "10/10 [==============================] - 0s 14ms/step - loss: 0.0077 - mae: 0.0517\n",
      "Epoch 256/500\n",
      "10/10 [==============================] - 0s 14ms/step - loss: 0.0059 - mae: 0.0481\n",
      "Epoch 257/500\n",
      "10/10 [==============================] - 0s 14ms/step - loss: 0.0037 - mae: 0.0530\n",
      "Epoch 258/500\n",
      "10/10 [==============================] - 0s 14ms/step - loss: 0.0097 - mae: 0.0644\n",
      "Epoch 259/500\n",
      "10/10 [==============================] - 0s 14ms/step - loss: 0.0062 - mae: 0.0561\n",
      "Epoch 260/500\n",
      "10/10 [==============================] - 0s 14ms/step - loss: 0.0051 - mae: 0.0497\n",
      "Epoch 261/500\n",
      "10/10 [==============================] - 0s 14ms/step - loss: 0.0069 - mae: 0.0621\n",
      "Epoch 262/500\n",
      "10/10 [==============================] - 0s 15ms/step - loss: 0.0037 - mae: 0.0431\n",
      "Epoch 263/500\n",
      "10/10 [==============================] - 0s 14ms/step - loss: 0.0022 - mae: 0.0349\n",
      "Epoch 264/500\n",
      "10/10 [==============================] - 0s 15ms/step - loss: 0.0019 - mae: 0.0320\n",
      "Epoch 265/500\n",
      "10/10 [==============================] - 0s 15ms/step - loss: 0.0027 - mae: 0.0362\n",
      "Epoch 266/500\n",
      "10/10 [==============================] - 0s 14ms/step - loss: 0.0032 - mae: 0.0371\n",
      "Epoch 267/500\n",
      "10/10 [==============================] - 0s 15ms/step - loss: 0.0034 - mae: 0.0481\n",
      "Epoch 268/500\n",
      "10/10 [==============================] - 0s 15ms/step - loss: 0.0032 - mae: 0.0383\n",
      "Epoch 269/500\n",
      "10/10 [==============================] - 0s 14ms/step - loss: 0.0025 - mae: 0.0371\n",
      "Epoch 270/500\n",
      "10/10 [==============================] - 0s 14ms/step - loss: 0.0082 - mae: 0.0593\n",
      "Epoch 271/500\n",
      "10/10 [==============================] - 0s 15ms/step - loss: 0.0047 - mae: 0.0535\n",
      "Epoch 272/500\n",
      "10/10 [==============================] - 0s 15ms/step - loss: 0.0097 - mae: 0.0653\n",
      "Epoch 273/500\n",
      "10/10 [==============================] - 0s 14ms/step - loss: 0.0053 - mae: 0.0493\n",
      "Epoch 274/500\n",
      "10/10 [==============================] - 0s 15ms/step - loss: 0.0038 - mae: 0.0422\n",
      "Epoch 275/500\n",
      "10/10 [==============================] - 0s 14ms/step - loss: 0.0034 - mae: 0.0369\n",
      "Epoch 276/500\n",
      "10/10 [==============================] - 0s 14ms/step - loss: 0.0046 - mae: 0.0436\n",
      "Epoch 277/500\n",
      "10/10 [==============================] - 0s 15ms/step - loss: 0.0023 - mae: 0.0327\n",
      "Epoch 278/500\n",
      "10/10 [==============================] - 0s 14ms/step - loss: 0.0043 - mae: 0.0521\n",
      "Epoch 279/500\n",
      "10/10 [==============================] - 0s 16ms/step - loss: 0.0074 - mae: 0.0665\n",
      "Epoch 280/500\n",
      "10/10 [==============================] - 0s 16ms/step - loss: 0.0047 - mae: 0.0480\n",
      "Epoch 281/500\n",
      "10/10 [==============================] - 0s 16ms/step - loss: 0.0259 - mae: 0.0951\n",
      "Epoch 282/500\n",
      "10/10 [==============================] - 0s 15ms/step - loss: 0.0251 - mae: 0.1053\n",
      "Epoch 283/500\n",
      "10/10 [==============================] - 0s 14ms/step - loss: 0.0061 - mae: 0.0572\n",
      "Epoch 284/500\n",
      "10/10 [==============================] - 0s 14ms/step - loss: 0.0021 - mae: 0.0352\n",
      "Epoch 285/500\n",
      "10/10 [==============================] - 0s 14ms/step - loss: 0.0039 - mae: 0.0348\n",
      "Epoch 286/500\n",
      "10/10 [==============================] - 0s 14ms/step - loss: 0.0072 - mae: 0.0651\n",
      "Epoch 287/500\n",
      "10/10 [==============================] - 0s 14ms/step - loss: 0.0027 - mae: 0.0388\n",
      "Epoch 288/500\n",
      "10/10 [==============================] - 0s 15ms/step - loss: 0.0042 - mae: 0.0488\n",
      "Epoch 289/500\n",
      "10/10 [==============================] - 0s 15ms/step - loss: 0.0056 - mae: 0.0500\n",
      "Epoch 290/500\n",
      "10/10 [==============================] - 0s 14ms/step - loss: 0.0035 - mae: 0.0494\n",
      "Epoch 291/500\n",
      "10/10 [==============================] - 0s 15ms/step - loss: 0.0090 - mae: 0.0687\n",
      "Epoch 292/500\n",
      "10/10 [==============================] - 0s 15ms/step - loss: 0.0087 - mae: 0.0657\n",
      "Epoch 293/500\n",
      "10/10 [==============================] - 0s 15ms/step - loss: 0.0044 - mae: 0.0549\n",
      "Epoch 294/500\n",
      "10/10 [==============================] - 0s 14ms/step - loss: 0.0023 - mae: 0.0351\n",
      "Epoch 295/500\n",
      "10/10 [==============================] - 0s 14ms/step - loss: 0.0016 - mae: 0.0320\n",
      "Epoch 296/500\n",
      "10/10 [==============================] - 0s 16ms/step - loss: 0.0034 - mae: 0.0381\n",
      "Epoch 297/500\n",
      "10/10 [==============================] - 0s 15ms/step - loss: 0.0077 - mae: 0.0534\n",
      "Epoch 298/500\n",
      "10/10 [==============================] - 0s 13ms/step - loss: 0.0059 - mae: 0.0544\n",
      "Epoch 299/500\n",
      "10/10 [==============================] - 0s 14ms/step - loss: 0.0030 - mae: 0.0410\n",
      "Epoch 300/500\n",
      "10/10 [==============================] - 0s 15ms/step - loss: 0.0040 - mae: 0.0385\n",
      "Epoch 301/500\n",
      "10/10 [==============================] - 0s 14ms/step - loss: 0.0060 - mae: 0.0628\n",
      "Epoch 302/500\n",
      "10/10 [==============================] - 0s 14ms/step - loss: 0.0049 - mae: 0.0491\n",
      "Epoch 303/500\n",
      "10/10 [==============================] - 0s 14ms/step - loss: 0.0053 - mae: 0.0536\n",
      "Epoch 304/500\n",
      "10/10 [==============================] - 0s 14ms/step - loss: 0.0029 - mae: 0.0388\n",
      "Epoch 305/500\n",
      "10/10 [==============================] - 0s 14ms/step - loss: 0.0060 - mae: 0.0600\n",
      "Epoch 306/500\n",
      "10/10 [==============================] - 0s 14ms/step - loss: 0.0030 - mae: 0.0348\n",
      "Epoch 307/500\n",
      "10/10 [==============================] - 0s 14ms/step - loss: 0.0029 - mae: 0.0391\n",
      "Epoch 308/500\n",
      "10/10 [==============================] - 0s 14ms/step - loss: 0.0036 - mae: 0.0406\n",
      "Epoch 309/500\n",
      "10/10 [==============================] - 0s 16ms/step - loss: 0.0056 - mae: 0.0498\n",
      "Epoch 310/500\n",
      "10/10 [==============================] - 0s 14ms/step - loss: 0.0031 - mae: 0.0441\n",
      "Epoch 311/500\n",
      "10/10 [==============================] - 0s 14ms/step - loss: 0.0055 - mae: 0.0605\n",
      "Epoch 312/500\n",
      "10/10 [==============================] - 0s 14ms/step - loss: 0.0104 - mae: 0.0697\n",
      "Epoch 313/500\n",
      "10/10 [==============================] - 0s 14ms/step - loss: 0.0034 - mae: 0.0435\n",
      "Epoch 314/500\n",
      "10/10 [==============================] - 0s 14ms/step - loss: 0.0086 - mae: 0.0614\n",
      "Epoch 315/500\n",
      "10/10 [==============================] - 0s 14ms/step - loss: 0.0033 - mae: 0.0442\n",
      "Epoch 316/500\n",
      "10/10 [==============================] - 0s 14ms/step - loss: 0.0051 - mae: 0.0516\n",
      "Epoch 317/500\n",
      "10/10 [==============================] - 0s 14ms/step - loss: 0.0013 - mae: 0.0281\n",
      "Epoch 318/500\n",
      "10/10 [==============================] - 0s 14ms/step - loss: 0.0017 - mae: 0.0289\n",
      "Epoch 319/500\n",
      "10/10 [==============================] - 0s 14ms/step - loss: 0.0030 - mae: 0.0405\n",
      "Epoch 320/500\n",
      "10/10 [==============================] - 0s 14ms/step - loss: 0.0022 - mae: 0.0338\n",
      "Epoch 321/500\n",
      "10/10 [==============================] - 0s 14ms/step - loss: 0.0024 - mae: 0.0404\n",
      "Epoch 322/500\n",
      "10/10 [==============================] - 0s 14ms/step - loss: 0.0032 - mae: 0.0427\n",
      "Epoch 323/500\n",
      "10/10 [==============================] - 0s 14ms/step - loss: 0.0225 - mae: 0.0582\n",
      "Epoch 324/500\n",
      "10/10 [==============================] - 0s 14ms/step - loss: 0.0128 - mae: 0.0814\n",
      "Epoch 325/500\n",
      "10/10 [==============================] - 0s 14ms/step - loss: 0.0135 - mae: 0.0816\n",
      "Epoch 326/500\n",
      "10/10 [==============================] - 0s 14ms/step - loss: 0.0105 - mae: 0.0681\n",
      "Epoch 327/500\n",
      "10/10 [==============================] - 0s 14ms/step - loss: 0.0148 - mae: 0.1058\n",
      "Epoch 328/500\n",
      "10/10 [==============================] - 0s 14ms/step - loss: 0.0095 - mae: 0.0741\n",
      "Epoch 329/500\n",
      "10/10 [==============================] - 0s 14ms/step - loss: 0.0098 - mae: 0.0701\n",
      "Epoch 330/500\n",
      "10/10 [==============================] - 0s 14ms/step - loss: 0.0072 - mae: 0.0561\n",
      "Epoch 331/500\n",
      "10/10 [==============================] - 0s 14ms/step - loss: 0.0064 - mae: 0.0563\n",
      "Epoch 332/500\n",
      "10/10 [==============================] - 0s 14ms/step - loss: 0.0023 - mae: 0.0399\n",
      "Epoch 333/500\n",
      "10/10 [==============================] - 0s 14ms/step - loss: 0.0013 - mae: 0.0286\n",
      "Epoch 334/500\n",
      "10/10 [==============================] - 0s 14ms/step - loss: 0.0019 - mae: 0.0298\n",
      "Epoch 335/500\n",
      "10/10 [==============================] - 0s 14ms/step - loss: 8.6857e-04 - mae: 0.0179\n",
      "Epoch 336/500\n",
      "10/10 [==============================] - 0s 14ms/step - loss: 0.0019 - mae: 0.0259\n",
      "Epoch 337/500\n",
      "10/10 [==============================] - 0s 14ms/step - loss: 0.0065 - mae: 0.0480\n",
      "Epoch 338/500\n"
     ]
    },
    {
     "name": "stdout",
     "output_type": "stream",
     "text": [
      "10/10 [==============================] - 0s 14ms/step - loss: 0.0030 - mae: 0.0382\n",
      "Epoch 339/500\n",
      "10/10 [==============================] - 0s 14ms/step - loss: 0.0025 - mae: 0.0404\n",
      "Epoch 340/500\n",
      "10/10 [==============================] - 0s 14ms/step - loss: 0.0035 - mae: 0.0411\n",
      "Epoch 341/500\n",
      "10/10 [==============================] - 0s 14ms/step - loss: 0.0037 - mae: 0.0379\n",
      "Epoch 342/500\n",
      "10/10 [==============================] - 0s 14ms/step - loss: 0.0016 - mae: 0.0315\n",
      "Epoch 343/500\n",
      "10/10 [==============================] - 0s 14ms/step - loss: 0.0016 - mae: 0.0302\n",
      "Epoch 344/500\n",
      "10/10 [==============================] - 0s 14ms/step - loss: 0.0073 - mae: 0.0632\n",
      "Epoch 345/500\n",
      "10/10 [==============================] - 0s 14ms/step - loss: 0.0074 - mae: 0.0540\n",
      "Epoch 346/500\n",
      "10/10 [==============================] - 0s 14ms/step - loss: 0.0082 - mae: 0.0609\n",
      "Epoch 347/500\n",
      "10/10 [==============================] - 0s 14ms/step - loss: 9.2024e-04 - mae: 0.0209\n",
      "Epoch 348/500\n",
      "10/10 [==============================] - 0s 15ms/step - loss: 0.0078 - mae: 0.0421\n",
      "Epoch 349/500\n",
      "10/10 [==============================] - 0s 14ms/step - loss: 0.0023 - mae: 0.0348\n",
      "Epoch 350/500\n",
      "10/10 [==============================] - 0s 15ms/step - loss: 0.0020 - mae: 0.0319\n",
      "Epoch 351/500\n",
      "10/10 [==============================] - 0s 14ms/step - loss: 0.0022 - mae: 0.0304\n",
      "Epoch 352/500\n",
      "10/10 [==============================] - 0s 15ms/step - loss: 0.0032 - mae: 0.0444\n",
      "Epoch 353/500\n",
      "10/10 [==============================] - 0s 14ms/step - loss: 0.0055 - mae: 0.0556\n",
      "Epoch 354/500\n",
      "10/10 [==============================] - 0s 14ms/step - loss: 0.0040 - mae: 0.0459\n",
      "Epoch 355/500\n",
      "10/10 [==============================] - 0s 15ms/step - loss: 0.0010 - mae: 0.0260\n",
      "Epoch 356/500\n",
      "10/10 [==============================] - 0s 15ms/step - loss: 0.0025 - mae: 0.0363\n",
      "Epoch 357/500\n",
      "10/10 [==============================] - 0s 14ms/step - loss: 0.0061 - mae: 0.0548\n",
      "Epoch 358/500\n",
      "10/10 [==============================] - 0s 15ms/step - loss: 0.0058 - mae: 0.0580\n",
      "Epoch 359/500\n",
      "10/10 [==============================] - 0s 15ms/step - loss: 0.0078 - mae: 0.0639\n",
      "Epoch 360/500\n",
      "10/10 [==============================] - 0s 15ms/step - loss: 0.0086 - mae: 0.0516\n",
      "Epoch 361/500\n",
      "10/10 [==============================] - 0s 14ms/step - loss: 0.0062 - mae: 0.0574\n",
      "Epoch 362/500\n",
      "10/10 [==============================] - 0s 14ms/step - loss: 0.0071 - mae: 0.0586\n",
      "Epoch 363/500\n",
      "10/10 [==============================] - 0s 15ms/step - loss: 0.0024 - mae: 0.0276\n",
      "Epoch 364/500\n",
      "10/10 [==============================] - 0s 14ms/step - loss: 0.0050 - mae: 0.0513\n",
      "Epoch 365/500\n",
      "10/10 [==============================] - 0s 14ms/step - loss: 0.0012 - mae: 0.0245\n",
      "Epoch 366/500\n",
      "10/10 [==============================] - 0s 15ms/step - loss: 0.0029 - mae: 0.0411\n",
      "Epoch 367/500\n",
      "10/10 [==============================] - 0s 14ms/step - loss: 0.0028 - mae: 0.0410\n",
      "Epoch 368/500\n",
      "10/10 [==============================] - 0s 14ms/step - loss: 0.0089 - mae: 0.0629\n",
      "Epoch 369/500\n",
      "10/10 [==============================] - 0s 16ms/step - loss: 0.0067 - mae: 0.0600\n",
      "Epoch 370/500\n",
      "10/10 [==============================] - 0s 14ms/step - loss: 0.0064 - mae: 0.0595\n",
      "Epoch 371/500\n",
      "10/10 [==============================] - 0s 15ms/step - loss: 0.0018 - mae: 0.0313\n",
      "Epoch 372/500\n",
      "10/10 [==============================] - 0s 15ms/step - loss: 0.0023 - mae: 0.0373\n",
      "Epoch 373/500\n",
      "10/10 [==============================] - 0s 14ms/step - loss: 0.0037 - mae: 0.0422 \n",
      "Epoch 374/500\n",
      "10/10 [==============================] - 0s 15ms/step - loss: 0.0026 - mae: 0.0344\n",
      "Epoch 375/500\n",
      "10/10 [==============================] - 0s 15ms/step - loss: 0.0062 - mae: 0.0568\n",
      "Epoch 376/500\n",
      "10/10 [==============================] - 0s 16ms/step - loss: 0.0020 - mae: 0.0343\n",
      "Epoch 377/500\n",
      "10/10 [==============================] - 0s 14ms/step - loss: 0.0034 - mae: 0.0413\n",
      "Epoch 378/500\n",
      "10/10 [==============================] - 0s 14ms/step - loss: 0.0014 - mae: 0.0268\n",
      "Epoch 379/500\n",
      "10/10 [==============================] - 0s 15ms/step - loss: 0.0040 - mae: 0.0468\n",
      "Epoch 380/500\n",
      "10/10 [==============================] - 0s 15ms/step - loss: 0.0043 - mae: 0.0459\n",
      "Epoch 381/500\n",
      "10/10 [==============================] - 0s 15ms/step - loss: 0.0076 - mae: 0.0432\n",
      "Epoch 382/500\n",
      "10/10 [==============================] - 0s 15ms/step - loss: 0.0014 - mae: 0.0242\n",
      "Epoch 383/500\n",
      "10/10 [==============================] - 0s 13ms/step - loss: 0.0036 - mae: 0.0391\n",
      "Epoch 384/500\n",
      "10/10 [==============================] - 0s 13ms/step - loss: 0.0044 - mae: 0.0458\n",
      "Epoch 385/500\n",
      "10/10 [==============================] - 0s 14ms/step - loss: 0.0035 - mae: 0.0393\n",
      "Epoch 386/500\n",
      "10/10 [==============================] - 0s 14ms/step - loss: 0.0087 - mae: 0.0592\n",
      "Epoch 387/500\n",
      "10/10 [==============================] - 0s 13ms/step - loss: 0.0027 - mae: 0.0363\n",
      "Epoch 388/500\n",
      "10/10 [==============================] - 0s 14ms/step - loss: 0.0041 - mae: 0.0446\n",
      "Epoch 389/500\n",
      "10/10 [==============================] - 0s 13ms/step - loss: 0.0051 - mae: 0.0430\n",
      "Epoch 390/500\n",
      "10/10 [==============================] - 0s 14ms/step - loss: 0.0023 - mae: 0.0338\n",
      "Epoch 391/500\n",
      "10/10 [==============================] - 0s 14ms/step - loss: 0.0038 - mae: 0.0360\n",
      "Epoch 392/500\n",
      "10/10 [==============================] - 0s 14ms/step - loss: 0.0014 - mae: 0.0255\n",
      "Epoch 393/500\n",
      "10/10 [==============================] - 0s 14ms/step - loss: 0.0032 - mae: 0.0411\n",
      "Epoch 394/500\n",
      "10/10 [==============================] - 0s 13ms/step - loss: 0.0025 - mae: 0.0348\n",
      "Epoch 395/500\n",
      "10/10 [==============================] - 0s 14ms/step - loss: 0.0051 - mae: 0.0490\n",
      "Epoch 396/500\n",
      "10/10 [==============================] - 0s 13ms/step - loss: 0.0108 - mae: 0.0581\n",
      "Epoch 397/500\n",
      "10/10 [==============================] - 0s 14ms/step - loss: 0.0037 - mae: 0.0464\n",
      "Epoch 398/500\n",
      "10/10 [==============================] - 0s 14ms/step - loss: 0.0057 - mae: 0.0523\n",
      "Epoch 399/500\n",
      "10/10 [==============================] - 0s 14ms/step - loss: 0.0028 - mae: 0.0425\n",
      "Epoch 400/500\n",
      "10/10 [==============================] - 0s 14ms/step - loss: 0.0034 - mae: 0.0388\n",
      "Epoch 401/500\n",
      "10/10 [==============================] - 0s 14ms/step - loss: 0.0090 - mae: 0.0551\n",
      "Epoch 402/500\n",
      "10/10 [==============================] - 0s 14ms/step - loss: 0.0035 - mae: 0.0364\n",
      "Epoch 403/500\n",
      "10/10 [==============================] - 0s 14ms/step - loss: 0.0035 - mae: 0.0404\n",
      "Epoch 404/500\n",
      "10/10 [==============================] - 0s 14ms/step - loss: 0.0024 - mae: 0.0313\n",
      "Epoch 405/500\n",
      "10/10 [==============================] - 0s 14ms/step - loss: 0.0027 - mae: 0.0389\n",
      "Epoch 406/500\n",
      "10/10 [==============================] - 0s 13ms/step - loss: 0.0065 - mae: 0.0461\n",
      "Epoch 407/500\n",
      "10/10 [==============================] - 0s 14ms/step - loss: 0.0034 - mae: 0.0352\n",
      "Epoch 408/500\n",
      "10/10 [==============================] - 0s 14ms/step - loss: 0.0022 - mae: 0.0340\n",
      "Epoch 409/500\n",
      "10/10 [==============================] - 0s 14ms/step - loss: 0.0069 - mae: 0.0518\n",
      "Epoch 410/500\n",
      "10/10 [==============================] - 0s 14ms/step - loss: 0.0024 - mae: 0.0361\n",
      "Epoch 411/500\n",
      "10/10 [==============================] - 0s 15ms/step - loss: 0.0041 - mae: 0.0392\n",
      "Epoch 412/500\n",
      "10/10 [==============================] - 0s 16ms/step - loss: 0.0031 - mae: 0.0414\n",
      "Epoch 413/500\n",
      "10/10 [==============================] - 0s 13ms/step - loss: 0.0041 - mae: 0.0452\n",
      "Epoch 414/500\n",
      "10/10 [==============================] - 0s 14ms/step - loss: 0.0028 - mae: 0.0411\n",
      "Epoch 415/500\n",
      "10/10 [==============================] - 0s 15ms/step - loss: 0.0092 - mae: 0.0716\n",
      "Epoch 416/500\n",
      "10/10 [==============================] - 0s 15ms/step - loss: 0.0063 - mae: 0.0652\n",
      "Epoch 417/500\n",
      "10/10 [==============================] - 0s 14ms/step - loss: 0.0040 - mae: 0.0433\n",
      "Epoch 418/500\n",
      "10/10 [==============================] - 0s 14ms/step - loss: 0.0039 - mae: 0.0466\n",
      "Epoch 419/500\n",
      "10/10 [==============================] - 0s 14ms/step - loss: 0.0026 - mae: 0.0356\n",
      "Epoch 420/500\n",
      "10/10 [==============================] - 0s 13ms/step - loss: 0.0043 - mae: 0.0465\n",
      "Epoch 421/500\n",
      "10/10 [==============================] - 0s 13ms/step - loss: 0.0037 - mae: 0.0449\n",
      "Epoch 422/500\n",
      "10/10 [==============================] - 0s 14ms/step - loss: 0.0049 - mae: 0.0468\n",
      "Epoch 423/500\n",
      "10/10 [==============================] - 0s 15ms/step - loss: 0.0070 - mae: 0.0629\n",
      "Epoch 424/500\n",
      "10/10 [==============================] - 0s 14ms/step - loss: 0.0018 - mae: 0.0333\n",
      "Epoch 425/500\n",
      "10/10 [==============================] - 0s 14ms/step - loss: 0.0050 - mae: 0.0505\n",
      "Epoch 426/500\n",
      "10/10 [==============================] - 0s 15ms/step - loss: 0.0049 - mae: 0.0409\n",
      "Epoch 427/500\n",
      "10/10 [==============================] - 0s 14ms/step - loss: 0.0052 - mae: 0.0521\n",
      "Epoch 428/500\n",
      "10/10 [==============================] - 0s 14ms/step - loss: 0.0032 - mae: 0.0436\n",
      "Epoch 429/500\n",
      "10/10 [==============================] - 0s 14ms/step - loss: 0.0020 - mae: 0.0317\n",
      "Epoch 430/500\n",
      "10/10 [==============================] - 0s 13ms/step - loss: 0.0020 - mae: 0.0332\n",
      "Epoch 431/500\n",
      "10/10 [==============================] - 0s 13ms/step - loss: 0.0051 - mae: 0.0438\n",
      "Epoch 432/500\n",
      "10/10 [==============================] - 0s 14ms/step - loss: 0.0088 - mae: 0.0625\n",
      "Epoch 433/500\n",
      "10/10 [==============================] - 0s 14ms/step - loss: 0.0107 - mae: 0.0786\n",
      "Epoch 434/500\n",
      "10/10 [==============================] - 0s 14ms/step - loss: 0.0032 - mae: 0.0440\n",
      "Epoch 435/500\n",
      "10/10 [==============================] - 0s 14ms/step - loss: 0.0038 - mae: 0.0420\n",
      "Epoch 436/500\n",
      "10/10 [==============================] - 0s 15ms/step - loss: 0.0044 - mae: 0.0554\n",
      "Epoch 437/500\n",
      "10/10 [==============================] - 0s 14ms/step - loss: 0.0078 - mae: 0.0575\n",
      "Epoch 438/500\n",
      "10/10 [==============================] - 0s 16ms/step - loss: 0.0105 - mae: 0.0711\n",
      "Epoch 439/500\n",
      "10/10 [==============================] - 0s 15ms/step - loss: 0.0140 - mae: 0.0688\n",
      "Epoch 440/500\n",
      "10/10 [==============================] - 0s 14ms/step - loss: 0.0143 - mae: 0.0772\n",
      "Epoch 441/500\n",
      "10/10 [==============================] - 0s 15ms/step - loss: 0.0021 - mae: 0.0347\n",
      "Epoch 442/500\n",
      "10/10 [==============================] - 0s 14ms/step - loss: 0.0063 - mae: 0.0547\n",
      "Epoch 443/500\n",
      "10/10 [==============================] - 0s 14ms/step - loss: 0.0039 - mae: 0.0400\n",
      "Epoch 444/500\n",
      "10/10 [==============================] - 0s 14ms/step - loss: 0.0037 - mae: 0.0470\n",
      "Epoch 445/500\n",
      "10/10 [==============================] - 0s 14ms/step - loss: 0.0103 - mae: 0.0631\n",
      "Epoch 446/500\n",
      "10/10 [==============================] - 0s 15ms/step - loss: 0.0117 - mae: 0.0702\n",
      "Epoch 447/500\n",
      "10/10 [==============================] - 0s 15ms/step - loss: 0.0059 - mae: 0.0541\n",
      "Epoch 448/500\n",
      "10/10 [==============================] - 0s 14ms/step - loss: 0.0014 - mae: 0.0265\n",
      "Epoch 449/500\n",
      "10/10 [==============================] - 0s 15ms/step - loss: 0.0024 - mae: 0.0368\n",
      "Epoch 450/500\n",
      "10/10 [==============================] - 0s 14ms/step - loss: 0.0065 - mae: 0.0430\n",
      "Epoch 451/500\n",
      "10/10 [==============================] - 0s 14ms/step - loss: 0.0052 - mae: 0.0486\n",
      "Epoch 452/500\n",
      "10/10 [==============================] - 0s 14ms/step - loss: 0.0046 - mae: 0.0414\n",
      "Epoch 453/500\n",
      "10/10 [==============================] - 0s 14ms/step - loss: 0.0032 - mae: 0.0445\n",
      "Epoch 454/500\n",
      "10/10 [==============================] - 0s 15ms/step - loss: 0.0050 - mae: 0.0552\n",
      "Epoch 455/500\n",
      "10/10 [==============================] - 0s 15ms/step - loss: 0.0028 - mae: 0.0322\n",
      "Epoch 456/500\n",
      "10/10 [==============================] - 0s 14ms/step - loss: 0.0026 - mae: 0.0243\n",
      "Epoch 457/500\n",
      "10/10 [==============================] - 0s 14ms/step - loss: 0.0048 - mae: 0.0495\n",
      "Epoch 458/500\n",
      "10/10 [==============================] - 0s 14ms/step - loss: 0.0075 - mae: 0.0527\n",
      "Epoch 459/500\n",
      "10/10 [==============================] - 0s 15ms/step - loss: 0.0048 - mae: 0.0487\n",
      "Epoch 460/500\n",
      "10/10 [==============================] - 0s 15ms/step - loss: 0.0070 - mae: 0.0625\n",
      "Epoch 461/500\n",
      "10/10 [==============================] - 0s 14ms/step - loss: 0.0052 - mae: 0.0494\n",
      "Epoch 462/500\n",
      "10/10 [==============================] - 0s 15ms/step - loss: 0.0032 - mae: 0.0411\n",
      "Epoch 463/500\n",
      "10/10 [==============================] - 0s 15ms/step - loss: 0.0069 - mae: 0.0638\n",
      "Epoch 464/500\n",
      "10/10 [==============================] - 0s 17ms/step - loss: 0.0144 - mae: 0.0969\n",
      "Epoch 465/500\n",
      "10/10 [==============================] - 0s 14ms/step - loss: 0.0102 - mae: 0.0704\n",
      "Epoch 466/500\n",
      "10/10 [==============================] - 0s 15ms/step - loss: 0.0264 - mae: 0.1120\n",
      "Epoch 467/500\n",
      "10/10 [==============================] - 0s 14ms/step - loss: 0.0189 - mae: 0.0866\n",
      "Epoch 468/500\n",
      "10/10 [==============================] - 0s 15ms/step - loss: 0.0101 - mae: 0.0646\n",
      "Epoch 469/500\n",
      "10/10 [==============================] - 0s 15ms/step - loss: 0.0277 - mae: 0.0947\n",
      "Epoch 470/500\n",
      "10/10 [==============================] - 0s 14ms/step - loss: 0.0049 - mae: 0.0542\n",
      "Epoch 471/500\n",
      "10/10 [==============================] - 0s 14ms/step - loss: 0.0084 - mae: 0.0672\n",
      "Epoch 472/500\n",
      "10/10 [==============================] - 0s 14ms/step - loss: 0.0021 - mae: 0.0356\n",
      "Epoch 473/500\n",
      "10/10 [==============================] - 0s 14ms/step - loss: 0.0022 - mae: 0.0359\n",
      "Epoch 474/500\n",
      "10/10 [==============================] - 0s 14ms/step - loss: 0.0033 - mae: 0.0454\n",
      "Epoch 475/500\n",
      "10/10 [==============================] - 0s 14ms/step - loss: 0.0145 - mae: 0.0937\n",
      "Epoch 476/500\n",
      "10/10 [==============================] - 0s 14ms/step - loss: 0.0051 - mae: 0.0582\n",
      "Epoch 477/500\n",
      "10/10 [==============================] - 0s 14ms/step - loss: 0.0058 - mae: 0.0513\n",
      "Epoch 478/500\n",
      "10/10 [==============================] - 0s 13ms/step - loss: 0.0076 - mae: 0.0570\n",
      "Epoch 479/500\n",
      "10/10 [==============================] - 0s 14ms/step - loss: 0.0048 - mae: 0.0449\n",
      "Epoch 480/500\n",
      "10/10 [==============================] - 0s 14ms/step - loss: 0.0037 - mae: 0.0471\n",
      "Epoch 481/500\n",
      "10/10 [==============================] - 0s 18ms/step - loss: 0.0043 - mae: 0.0419\n",
      "Epoch 482/500\n",
      "10/10 [==============================] - 0s 14ms/step - loss: 0.0019 - mae: 0.0359\n",
      "Epoch 483/500\n",
      "10/10 [==============================] - 0s 14ms/step - loss: 0.0080 - mae: 0.0443\n",
      "Epoch 484/500\n",
      "10/10 [==============================] - 0s 14ms/step - loss: 0.0024 - mae: 0.0279\n",
      "Epoch 485/500\n",
      "10/10 [==============================] - 0s 13ms/step - loss: 0.0027 - mae: 0.0332\n",
      "Epoch 486/500\n",
      "10/10 [==============================] - 0s 13ms/step - loss: 0.0015 - mae: 0.0267\n",
      "Epoch 487/500\n",
      "10/10 [==============================] - 0s 14ms/step - loss: 0.0113 - mae: 0.0680\n",
      "Epoch 488/500\n",
      "10/10 [==============================] - 0s 14ms/step - loss: 0.0062 - mae: 0.0595\n",
      "Epoch 489/500\n",
      "10/10 [==============================] - 0s 14ms/step - loss: 0.0031 - mae: 0.0391\n",
      "Epoch 490/500\n",
      "10/10 [==============================] - 0s 14ms/step - loss: 0.0048 - mae: 0.0533\n",
      "Epoch 491/500\n",
      "10/10 [==============================] - 0s 14ms/step - loss: 0.0048 - mae: 0.0460\n",
      "Epoch 492/500\n",
      "10/10 [==============================] - 0s 14ms/step - loss: 0.0022 - mae: 0.0313\n",
      "Epoch 493/500\n",
      "10/10 [==============================] - 0s 14ms/step - loss: 0.0042 - mae: 0.0455\n",
      "Epoch 494/500\n",
      "10/10 [==============================] - 0s 14ms/step - loss: 0.0148 - mae: 0.0729\n",
      "Epoch 495/500\n",
      "10/10 [==============================] - 0s 14ms/step - loss: 0.0102 - mae: 0.0755\n",
      "Epoch 496/500\n",
      "10/10 [==============================] - 0s 13ms/step - loss: 0.0061 - mae: 0.0574\n",
      "Epoch 497/500\n",
      "10/10 [==============================] - 0s 14ms/step - loss: 0.0137 - mae: 0.0854\n",
      "Epoch 498/500\n",
      "10/10 [==============================] - 0s 15ms/step - loss: 0.0130 - mae: 0.0631\n",
      "Epoch 499/500\n",
      "10/10 [==============================] - 0s 14ms/step - loss: 0.0122 - mae: 0.0767\n",
      "Epoch 500/500\n",
      "10/10 [==============================] - 0s 14ms/step - loss: 0.0068 - mae: 0.0586\n",
      "CPU times: total: 2min 5s\n",
      "Wall time: 1min 33s\n"
     ]
    },
    {
     "data": {
      "text/plain": [
       "<keras.callbacks.History at 0x26442befbe0>"
      ]
     },
     "execution_count": 64,
     "metadata": {},
     "output_type": "execute_result"
    }
   ],
   "source": [
    "%%time\n",
    "model.fit(g, epochs=500, steps_per_epoch=10)"
   ]
  },
  {
   "cell_type": "code",
   "execution_count": 66,
   "metadata": {},
   "outputs": [],
   "source": [
    "y = model.predict(g, verbose=False)"
   ]
  },
  {
   "cell_type": "code",
   "execution_count": 67,
   "metadata": {},
   "outputs": [],
   "source": [
    "data['pred'] = np.nan\n",
    "data['pred'].iloc[lags:] = y.flatten()"
   ]
  },
  {
   "cell_type": "code",
   "execution_count": 68,
   "metadata": {},
   "outputs": [
    {
     "data": {
      "image/png": "[encoded data removed]",
      "text/plain": [
       "<Figure size 1000x600 with 1 Axes>"
      ]
     },
     "metadata": {},
     "output_type": "display_data"
    }
   ],
   "source": [
    "data[[symbol, 'pred']].plot(\n",
    "            figsize=(10, 6), style=['b', 'r-.'],\n",
    "            alpha=0.75);"
   ]
  },
  {
   "cell_type": "code",
   "execution_count": 69,
   "metadata": {
    "scrolled": true
   },
   "outputs": [
    {
     "data": {
      "image/png": "[encoded data removed]",
      "text/plain": [
       "<Figure size 1000x600 with 1 Axes>"
      ]
     },
     "metadata": {},
     "output_type": "display_data"
    }
   ],
   "source": [
    "data[[symbol, 'pred']].iloc[50:100].plot(\n",
    "            figsize=(10, 6), style=['b', 'r-.'],\n",
    "            alpha=0.75);"
   ]
  },
  {
   "cell_type": "markdown",
   "metadata": {},
   "source": [
    "## Financial Return Series "
   ]
  },
  {
   "cell_type": "code",
   "execution_count": 70,
   "metadata": {},
   "outputs": [],
   "source": [
    "data = generate_data()"
   ]
  },
  {
   "cell_type": "code",
   "execution_count": 71,
   "metadata": {},
   "outputs": [
    {
     "data": {
      "text/html": [
       "<div>\n",
       "<style scoped>\n",
       "    .dataframe tbody tr th:only-of-type {\n",
       "        vertical-align: middle;\n",
       "    }\n",
       "\n",
       "    .dataframe tbody tr th {\n",
       "        vertical-align: top;\n",
       "    }\n",
       "\n",
       "    .dataframe thead th {\n",
       "        text-align: right;\n",
       "    }\n",
       "</style>\n",
       "<table border=\"1\" class=\"dataframe\">\n",
       "  <thead>\n",
       "    <tr style=\"text-align: right;\">\n",
       "      <th></th>\n",
       "      <th>EUR_USD</th>\n",
       "    </tr>\n",
       "    <tr>\n",
       "      <th>Date</th>\n",
       "      <th></th>\n",
       "    </tr>\n",
       "  </thead>\n",
       "  <tbody>\n",
       "    <tr>\n",
       "      <th>2019-10-01 00:30:00</th>\n",
       "      <td>1.0899</td>\n",
       "    </tr>\n",
       "    <tr>\n",
       "      <th>2019-10-01 01:00:00</th>\n",
       "      <td>1.0896</td>\n",
       "    </tr>\n",
       "    <tr>\n",
       "      <th>2019-10-01 01:30:00</th>\n",
       "      <td>1.0892</td>\n",
       "    </tr>\n",
       "    <tr>\n",
       "      <th>2019-10-01 02:00:00</th>\n",
       "      <td>1.0890</td>\n",
       "    </tr>\n",
       "    <tr>\n",
       "      <th>2019-10-01 02:30:00</th>\n",
       "      <td>1.0886</td>\n",
       "    </tr>\n",
       "    <tr>\n",
       "      <th>...</th>\n",
       "      <td>...</td>\n",
       "    </tr>\n",
       "    <tr>\n",
       "      <th>2019-12-31 21:30:00</th>\n",
       "      <td>1.1212</td>\n",
       "    </tr>\n",
       "    <tr>\n",
       "      <th>2019-12-31 22:00:00</th>\n",
       "      <td>1.1208</td>\n",
       "    </tr>\n",
       "    <tr>\n",
       "      <th>2019-12-31 22:30:00</th>\n",
       "      <td>1.1211</td>\n",
       "    </tr>\n",
       "    <tr>\n",
       "      <th>2019-12-31 23:00:00</th>\n",
       "      <td>1.1211</td>\n",
       "    </tr>\n",
       "    <tr>\n",
       "      <th>2019-12-31 23:30:00</th>\n",
       "      <td>1.1211</td>\n",
       "    </tr>\n",
       "  </tbody>\n",
       "</table>\n",
       "<p>4415 rows × 1 columns</p>\n",
       "</div>"
      ],
      "text/plain": [
       "                     EUR_USD\n",
       "Date                        \n",
       "2019-10-01 00:30:00   1.0899\n",
       "2019-10-01 01:00:00   1.0896\n",
       "2019-10-01 01:30:00   1.0892\n",
       "2019-10-01 02:00:00   1.0890\n",
       "2019-10-01 02:30:00   1.0886\n",
       "...                      ...\n",
       "2019-12-31 21:30:00   1.1212\n",
       "2019-12-31 22:00:00   1.1208\n",
       "2019-12-31 22:30:00   1.1211\n",
       "2019-12-31 23:00:00   1.1211\n",
       "2019-12-31 23:30:00   1.1211\n",
       "\n",
       "[4415 rows x 1 columns]"
      ]
     },
     "execution_count": 71,
     "metadata": {},
     "output_type": "execute_result"
    }
   ],
   "source": [
    "data"
   ]
  },
  {
   "cell_type": "code",
   "execution_count": 72,
   "metadata": {},
   "outputs": [],
   "source": [
    "data['r'] = np.log(data / data.shift(1))"
   ]
  },
  {
   "cell_type": "code",
   "execution_count": 73,
   "metadata": {},
   "outputs": [],
   "source": [
    "data.dropna(inplace=True)"
   ]
  },
  {
   "cell_type": "code",
   "execution_count": 74,
   "metadata": {},
   "outputs": [],
   "source": [
    "data = (data - data.mean()) / data.std()"
   ]
  },
  {
   "cell_type": "code",
   "execution_count": 75,
   "metadata": {},
   "outputs": [],
   "source": [
    "r = data['r'].values"
   ]
  },
  {
   "cell_type": "code",
   "execution_count": 76,
   "metadata": {},
   "outputs": [],
   "source": [
    "r = r.reshape((len(r), -1))"
   ]
  },
  {
   "cell_type": "code",
   "execution_count": 77,
   "metadata": {},
   "outputs": [],
   "source": [
    "g = TimeseriesGenerator(r, r, length=lags, batch_size=5)"
   ]
  },
  {
   "cell_type": "code",
   "execution_count": 78,
   "metadata": {},
   "outputs": [
    {
     "data": {
      "text/plain": [
       "(array([[[-0.7892],\n",
       "         [-1.0466],\n",
       "         [-0.5324],\n",
       "         [-1.0472],\n",
       "         [-0.0179]],\n",
       " \n",
       "        [[-1.0466],\n",
       "         [-0.5324],\n",
       "         [-1.0472],\n",
       "         [-0.0179],\n",
       "         [-0.0179]],\n",
       " \n",
       "        [[-0.5324],\n",
       "         [-1.0472],\n",
       "         [-0.0179],\n",
       "         [-0.0179],\n",
       "         [ 0.4968]],\n",
       " \n",
       "        [[-1.0472],\n",
       "         [-0.0179],\n",
       "         [-0.0179],\n",
       "         [ 0.4968],\n",
       "         [ 0.4967]],\n",
       " \n",
       "        [[-0.0179],\n",
       "         [-0.0179],\n",
       "         [ 0.4968],\n",
       "         [ 0.4967],\n",
       "         [-0.2752]]]),\n",
       " array([[-0.0179],\n",
       "        [ 0.4968],\n",
       "        [ 0.4967],\n",
       "        [-0.2752],\n",
       "        [ 0.2394]]))"
      ]
     },
     "execution_count": 78,
     "metadata": {},
     "output_type": "execute_result"
    }
   ],
   "source": [
    "list(g)[0]"
   ]
  },
  {
   "cell_type": "code",
   "execution_count": 79,
   "metadata": {},
   "outputs": [],
   "source": [
    "model = create_rnn_model()"
   ]
  },
  {
   "cell_type": "code",
   "execution_count": 80,
   "metadata": {},
   "outputs": [
    {
     "name": "stdout",
     "output_type": "stream",
     "text": [
      "CPU times: total: 1min 49s\n",
      "Wall time: 1min 15s\n"
     ]
    },
    {
     "data": {
      "text/plain": [
       "<keras.callbacks.History at 0x26370577910>"
      ]
     },
     "execution_count": 80,
     "metadata": {},
     "output_type": "execute_result"
    }
   ],
   "source": [
    "%%time\n",
    "model.fit(g, epochs=500, steps_per_epoch=10,\n",
    "          verbose=False)"
   ]
  },
  {
   "cell_type": "code",
   "execution_count": 81,
   "metadata": {},
   "outputs": [],
   "source": [
    "y = model.predict(g, verbose=False)"
   ]
  },
  {
   "cell_type": "code",
   "execution_count": 82,
   "metadata": {},
   "outputs": [],
   "source": [
    "data['pred'] = np.nan\n",
    "data['pred'].iloc[lags:] = y.flatten()\n",
    "data.dropna(inplace=True)"
   ]
  },
  {
   "cell_type": "code",
   "execution_count": 83,
   "metadata": {},
   "outputs": [
    {
     "data": {
      "image/png": "[encoded data removed]",
      "text/plain": [
       "<Figure size 1000x600 with 1 Axes>"
      ]
     },
     "metadata": {},
     "output_type": "display_data"
    }
   ],
   "source": [
    "data[['r', 'pred']].iloc[50:100].plot(\n",
    "            figsize=(10, 6), style=['b', 'r-.'],\n",
    "            alpha=0.75);\n",
    "plt.axhline(0, c='grey', ls='--');"
   ]
  },
  {
   "cell_type": "code",
   "execution_count": 84,
   "metadata": {},
   "outputs": [],
   "source": [
    "from sklearn.metrics import accuracy_score"
   ]
  },
  {
   "cell_type": "code",
   "execution_count": 85,
   "metadata": {},
   "outputs": [
    {
     "data": {
      "text/plain": [
       "0.6400544341120435"
      ]
     },
     "execution_count": 85,
     "metadata": {},
     "output_type": "execute_result"
    }
   ],
   "source": [
    "accuracy_score(np.sign(data['r']), np.sign(data['pred']))"
   ]
  },
  {
   "cell_type": "code",
   "execution_count": 86,
   "metadata": {},
   "outputs": [],
   "source": [
    "split = int(len(r) * 0.8)"
   ]
  },
  {
   "cell_type": "code",
   "execution_count": 87,
   "metadata": {},
   "outputs": [],
   "source": [
    "train = r[:split]"
   ]
  },
  {
   "cell_type": "code",
   "execution_count": 88,
   "metadata": {},
   "outputs": [],
   "source": [
    "test = r[split:]"
   ]
  },
  {
   "cell_type": "code",
   "execution_count": 89,
   "metadata": {},
   "outputs": [],
   "source": [
    "g = TimeseriesGenerator(train, train, length=lags, batch_size=5)"
   ]
  },
  {
   "cell_type": "code",
   "execution_count": 90,
   "metadata": {},
   "outputs": [],
   "source": [
    "set_seeds()\n",
    "model = create_rnn_model(hu=100)"
   ]
  },
  {
   "cell_type": "code",
   "execution_count": 91,
   "metadata": {},
   "outputs": [
    {
     "name": "stdout",
     "output_type": "stream",
     "text": [
      "CPU times: total: 22.1 s\n",
      "Wall time: 15.8 s\n"
     ]
    },
    {
     "data": {
      "text/plain": [
       "<keras.callbacks.History at 0x264638c4280>"
      ]
     },
     "execution_count": 91,
     "metadata": {},
     "output_type": "execute_result"
    }
   ],
   "source": [
    "%%time\n",
    "model.fit(g, epochs=100, steps_per_epoch=10, verbose=False)"
   ]
  },
  {
   "cell_type": "code",
   "execution_count": 92,
   "metadata": {},
   "outputs": [],
   "source": [
    "g_ = TimeseriesGenerator(test, test, length=lags, batch_size=5)"
   ]
  },
  {
   "cell_type": "code",
   "execution_count": 93,
   "metadata": {},
   "outputs": [],
   "source": [
    "y = model.predict(g_)"
   ]
  },
  {
   "cell_type": "code",
   "execution_count": 94,
   "metadata": {},
   "outputs": [
    {
     "data": {
      "text/plain": [
       "0.673120728929385"
      ]
     },
     "execution_count": 94,
     "metadata": {},
     "output_type": "execute_result"
    }
   ],
   "source": [
    "accuracy_score(np.sign(test[lags:]), np.sign(y))"
   ]
  },
  {
   "cell_type": "markdown",
   "metadata": {},
   "source": [
    "## Financial Features"
   ]
  },
  {
   "cell_type": "code",
   "execution_count": 95,
   "metadata": {},
   "outputs": [],
   "source": [
    "data = generate_data()"
   ]
  },
  {
   "cell_type": "code",
   "execution_count": 96,
   "metadata": {},
   "outputs": [],
   "source": [
    "data['r'] = np.log(data / data.shift(1))"
   ]
  },
  {
   "cell_type": "code",
   "execution_count": 97,
   "metadata": {},
   "outputs": [
    {
     "data": {
      "text/html": [
       "<div>\n",
       "<style scoped>\n",
       "    .dataframe tbody tr th:only-of-type {\n",
       "        vertical-align: middle;\n",
       "    }\n",
       "\n",
       "    .dataframe tbody tr th {\n",
       "        vertical-align: top;\n",
       "    }\n",
       "\n",
       "    .dataframe thead th {\n",
       "        text-align: right;\n",
       "    }\n",
       "</style>\n",
       "<table border=\"1\" class=\"dataframe\">\n",
       "  <thead>\n",
       "    <tr style=\"text-align: right;\">\n",
       "      <th></th>\n",
       "      <th>EUR_USD</th>\n",
       "      <th>r</th>\n",
       "    </tr>\n",
       "    <tr>\n",
       "      <th>Date</th>\n",
       "      <th></th>\n",
       "      <th></th>\n",
       "    </tr>\n",
       "  </thead>\n",
       "  <tbody>\n",
       "    <tr>\n",
       "      <th>2019-10-01 00:30:00</th>\n",
       "      <td>1.0899</td>\n",
       "      <td>NaN</td>\n",
       "    </tr>\n",
       "    <tr>\n",
       "      <th>2019-10-01 01:00:00</th>\n",
       "      <td>1.0896</td>\n",
       "      <td>-0.000275</td>\n",
       "    </tr>\n",
       "    <tr>\n",
       "      <th>2019-10-01 01:30:00</th>\n",
       "      <td>1.0892</td>\n",
       "      <td>-0.000367</td>\n",
       "    </tr>\n",
       "    <tr>\n",
       "      <th>2019-10-01 02:00:00</th>\n",
       "      <td>1.0890</td>\n",
       "      <td>-0.000184</td>\n",
       "    </tr>\n",
       "    <tr>\n",
       "      <th>2019-10-01 02:30:00</th>\n",
       "      <td>1.0886</td>\n",
       "      <td>-0.000367</td>\n",
       "    </tr>\n",
       "    <tr>\n",
       "      <th>...</th>\n",
       "      <td>...</td>\n",
       "      <td>...</td>\n",
       "    </tr>\n",
       "    <tr>\n",
       "      <th>2019-12-31 21:30:00</th>\n",
       "      <td>1.1212</td>\n",
       "      <td>-0.000268</td>\n",
       "    </tr>\n",
       "    <tr>\n",
       "      <th>2019-12-31 22:00:00</th>\n",
       "      <td>1.1208</td>\n",
       "      <td>-0.000357</td>\n",
       "    </tr>\n",
       "    <tr>\n",
       "      <th>2019-12-31 22:30:00</th>\n",
       "      <td>1.1211</td>\n",
       "      <td>0.000268</td>\n",
       "    </tr>\n",
       "    <tr>\n",
       "      <th>2019-12-31 23:00:00</th>\n",
       "      <td>1.1211</td>\n",
       "      <td>0.000000</td>\n",
       "    </tr>\n",
       "    <tr>\n",
       "      <th>2019-12-31 23:30:00</th>\n",
       "      <td>1.1211</td>\n",
       "      <td>0.000000</td>\n",
       "    </tr>\n",
       "  </tbody>\n",
       "</table>\n",
       "<p>4415 rows × 2 columns</p>\n",
       "</div>"
      ],
      "text/plain": [
       "                     EUR_USD         r\n",
       "Date                                  \n",
       "2019-10-01 00:30:00   1.0899       NaN\n",
       "2019-10-01 01:00:00   1.0896 -0.000275\n",
       "2019-10-01 01:30:00   1.0892 -0.000367\n",
       "2019-10-01 02:00:00   1.0890 -0.000184\n",
       "2019-10-01 02:30:00   1.0886 -0.000367\n",
       "...                      ...       ...\n",
       "2019-12-31 21:30:00   1.1212 -0.000268\n",
       "2019-12-31 22:00:00   1.1208 -0.000357\n",
       "2019-12-31 22:30:00   1.1211  0.000268\n",
       "2019-12-31 23:00:00   1.1211  0.000000\n",
       "2019-12-31 23:30:00   1.1211  0.000000\n",
       "\n",
       "[4415 rows x 2 columns]"
      ]
     },
     "execution_count": 97,
     "metadata": {},
     "output_type": "execute_result"
    }
   ],
   "source": [
    "data"
   ]
  },
  {
   "cell_type": "code",
   "execution_count": 98,
   "metadata": {},
   "outputs": [],
   "source": [
    "window = 20\n",
    "data['mom'] = data['r'].rolling(window).mean()\n",
    "data['vol'] = data['r'].rolling(window).std()"
   ]
  },
  {
   "cell_type": "code",
   "execution_count": 103,
   "metadata": {},
   "outputs": [
    {
     "data": {
      "text/html": [
       "<div>\n",
       "<style scoped>\n",
       "    .dataframe tbody tr th:only-of-type {\n",
       "        vertical-align: middle;\n",
       "    }\n",
       "\n",
       "    .dataframe tbody tr th {\n",
       "        vertical-align: top;\n",
       "    }\n",
       "\n",
       "    .dataframe thead th {\n",
       "        text-align: right;\n",
       "    }\n",
       "</style>\n",
       "<table border=\"1\" class=\"dataframe\">\n",
       "  <thead>\n",
       "    <tr style=\"text-align: right;\">\n",
       "      <th></th>\n",
       "      <th>EUR_USD</th>\n",
       "      <th>r</th>\n",
       "      <th>mom</th>\n",
       "      <th>vol</th>\n",
       "    </tr>\n",
       "    <tr>\n",
       "      <th>Date</th>\n",
       "      <th></th>\n",
       "      <th></th>\n",
       "      <th></th>\n",
       "      <th></th>\n",
       "    </tr>\n",
       "  </thead>\n",
       "  <tbody>\n",
       "    <tr>\n",
       "      <th>2019-10-01 00:30:00</th>\n",
       "      <td>1.0899</td>\n",
       "      <td>NaN</td>\n",
       "      <td>NaN</td>\n",
       "      <td>NaN</td>\n",
       "    </tr>\n",
       "    <tr>\n",
       "      <th>2019-10-01 01:00:00</th>\n",
       "      <td>1.0896</td>\n",
       "      <td>-0.000275</td>\n",
       "      <td>NaN</td>\n",
       "      <td>NaN</td>\n",
       "    </tr>\n",
       "    <tr>\n",
       "      <th>2019-10-01 01:30:00</th>\n",
       "      <td>1.0892</td>\n",
       "      <td>-0.000367</td>\n",
       "      <td>NaN</td>\n",
       "      <td>NaN</td>\n",
       "    </tr>\n",
       "    <tr>\n",
       "      <th>2019-10-01 02:00:00</th>\n",
       "      <td>1.0890</td>\n",
       "      <td>-0.000184</td>\n",
       "      <td>NaN</td>\n",
       "      <td>NaN</td>\n",
       "    </tr>\n",
       "    <tr>\n",
       "      <th>2019-10-01 02:30:00</th>\n",
       "      <td>1.0886</td>\n",
       "      <td>-0.000367</td>\n",
       "      <td>NaN</td>\n",
       "      <td>NaN</td>\n",
       "    </tr>\n",
       "  </tbody>\n",
       "</table>\n",
       "</div>"
      ],
      "text/plain": [
       "                     EUR_USD         r  mom  vol\n",
       "Date                                            \n",
       "2019-10-01 00:30:00   1.0899       NaN  NaN  NaN\n",
       "2019-10-01 01:00:00   1.0896 -0.000275  NaN  NaN\n",
       "2019-10-01 01:30:00   1.0892 -0.000367  NaN  NaN\n",
       "2019-10-01 02:00:00   1.0890 -0.000184  NaN  NaN\n",
       "2019-10-01 02:30:00   1.0886 -0.000367  NaN  NaN"
      ]
     },
     "execution_count": 103,
     "metadata": {},
     "output_type": "execute_result"
    }
   ],
   "source": [
    "data.head()"
   ]
  },
  {
   "cell_type": "code",
   "execution_count": 104,
   "metadata": {},
   "outputs": [],
   "source": [
    "data.dropna(inplace=True)"
   ]
  },
  {
   "cell_type": "markdown",
   "metadata": {},
   "source": [
    "### Estimation"
   ]
  },
  {
   "cell_type": "code",
   "execution_count": 105,
   "metadata": {},
   "outputs": [],
   "source": [
    "split = int(len(data) * 0.8)"
   ]
  },
  {
   "cell_type": "code",
   "execution_count": 106,
   "metadata": {},
   "outputs": [],
   "source": [
    "train = data.iloc[:split].copy()"
   ]
  },
  {
   "cell_type": "code",
   "execution_count": 107,
   "metadata": {},
   "outputs": [],
   "source": [
    "mu, std = train.mean(), train.std()"
   ]
  },
  {
   "cell_type": "code",
   "execution_count": 108,
   "metadata": {},
   "outputs": [],
   "source": [
    "train = (train - mu) / std"
   ]
  },
  {
   "cell_type": "code",
   "execution_count": 109,
   "metadata": {},
   "outputs": [],
   "source": [
    "test = data.iloc[split:].copy()"
   ]
  },
  {
   "cell_type": "code",
   "execution_count": 110,
   "metadata": {},
   "outputs": [],
   "source": [
    "test = (test - mu) / std"
   ]
  },
  {
   "cell_type": "code",
   "execution_count": 111,
   "metadata": {},
   "outputs": [],
   "source": [
    "g = TimeseriesGenerator(train.values, train['r'].values,\n",
    "                        length=lags, batch_size=5)"
   ]
  },
  {
   "cell_type": "code",
   "execution_count": 112,
   "metadata": {},
   "outputs": [],
   "source": [
    "set_seeds()\n",
    "model = create_rnn_model(hu=100, features=len(data.columns),\n",
    "                         layer='SimpleRNN')"
   ]
  },
  {
   "cell_type": "code",
   "execution_count": 113,
   "metadata": {},
   "outputs": [
    {
     "name": "stdout",
     "output_type": "stream",
     "text": [
      "Epoch 1/100\n",
      "10/10 - 1s - loss: 0.3048 - mae: 0.3410\n",
      "Epoch 2/100\n",
      "10/10 - 0s - loss: 0.6577 - mae: 0.5591\n",
      "Epoch 3/100\n",
      "10/10 - 0s - loss: 0.5845 - mae: 0.5114\n",
      "Epoch 4/100\n",
      "10/10 - 0s - loss: 0.6270 - mae: 0.5325\n",
      "Epoch 5/100\n",
      "10/10 - 0s - loss: 0.4283 - mae: 0.4664\n",
      "Epoch 6/100\n",
      "10/10 - 0s - loss: 1.0184 - mae: 0.6129\n",
      "Epoch 7/100\n",
      "10/10 - 0s - loss: 0.9612 - mae: 0.5582\n",
      "Epoch 8/100\n",
      "10/10 - 0s - loss: 0.5573 - mae: 0.5902\n",
      "Epoch 9/100\n",
      "10/10 - 0s - loss: 1.6800 - mae: 0.8182\n",
      "Epoch 10/100\n",
      "10/10 - 0s - loss: 1.3117 - mae: 0.6132\n",
      "Epoch 11/100\n",
      "10/10 - 0s - loss: 2.2227 - mae: 0.8761\n",
      "Epoch 12/100\n",
      "10/10 - 0s - loss: 0.6981 - mae: 0.6244\n",
      "Epoch 13/100\n",
      "10/10 - 0s - loss: 1.4819 - mae: 0.7097\n",
      "Epoch 14/100\n",
      "10/10 - 0s - loss: 0.5099 - mae: 0.5115\n",
      "Epoch 15/100\n",
      "10/10 - 0s - loss: 0.7733 - mae: 0.6217\n",
      "Epoch 16/100\n",
      "10/10 - 0s - loss: 0.1559 - mae: 0.1994\n",
      "Epoch 17/100\n",
      "10/10 - 0s - loss: 1.0120 - mae: 0.7142\n",
      "Epoch 18/100\n",
      "10/10 - 0s - loss: 0.2973 - mae: 0.3405\n",
      "Epoch 19/100\n",
      "10/10 - 0s - loss: 0.6159 - mae: 0.5657\n",
      "Epoch 20/100\n",
      "10/10 - 0s - loss: 1.1499 - mae: 0.6220\n",
      "Epoch 21/100\n",
      "10/10 - 0s - loss: 1.7118 - mae: 0.7704\n",
      "Epoch 22/100\n",
      "10/10 - 0s - loss: 0.9264 - mae: 0.6235\n",
      "Epoch 23/100\n",
      "10/10 - 0s - loss: 1.0091 - mae: 0.4942\n",
      "Epoch 24/100\n",
      "10/10 - 0s - loss: 0.3954 - mae: 0.4244\n",
      "Epoch 25/100\n",
      "10/10 - 0s - loss: 0.6921 - mae: 0.5526\n",
      "Epoch 26/100\n",
      "10/10 - 0s - loss: 0.6561 - mae: 0.4928\n",
      "Epoch 27/100\n",
      "10/10 - 0s - loss: 1.0780 - mae: 0.6906\n",
      "Epoch 28/100\n",
      "10/10 - 0s - loss: 0.7410 - mae: 0.5922\n",
      "Epoch 29/100\n",
      "10/10 - 0s - loss: 1.3106 - mae: 0.6657\n",
      "Epoch 30/100\n",
      "10/10 - 0s - loss: 1.4420 - mae: 0.8583\n",
      "Epoch 31/100\n",
      "10/10 - 0s - loss: 0.6695 - mae: 0.5688\n",
      "Epoch 32/100\n",
      "10/10 - 0s - loss: 0.3270 - mae: 0.4279\n",
      "Epoch 33/100\n",
      "10/10 - 0s - loss: 1.7060 - mae: 0.6777\n",
      "Epoch 34/100\n",
      "10/10 - 0s - loss: 0.3356 - mae: 0.3605\n",
      "Epoch 35/100\n",
      "10/10 - 0s - loss: 0.1089 - mae: 0.2114\n",
      "Epoch 36/100\n",
      "10/10 - 0s - loss: 1.4129 - mae: 0.5332\n",
      "Epoch 37/100\n",
      "10/10 - 0s - loss: 0.1397 - mae: 0.1951\n",
      "Epoch 38/100\n",
      "10/10 - 0s - loss: 1.3414 - mae: 0.6854\n",
      "Epoch 39/100\n",
      "10/10 - 0s - loss: 0.3526 - mae: 0.3789\n",
      "Epoch 40/100\n",
      "10/10 - 0s - loss: 0.6132 - mae: 0.4314\n",
      "Epoch 41/100\n",
      "10/10 - 0s - loss: 1.2506 - mae: 0.5653\n",
      "Epoch 42/100\n",
      "10/10 - 0s - loss: 0.3972 - mae: 0.4550\n",
      "Epoch 43/100\n",
      "10/10 - 0s - loss: 0.4921 - mae: 0.4471\n",
      "Epoch 44/100\n",
      "10/10 - 0s - loss: 0.3697 - mae: 0.3610\n",
      "Epoch 45/100\n",
      "10/10 - 0s - loss: 1.2175 - mae: 0.6881\n",
      "Epoch 46/100\n",
      "10/10 - 0s - loss: 1.2989 - mae: 0.8141\n",
      "Epoch 47/100\n",
      "10/10 - 0s - loss: 0.8099 - mae: 0.5344\n",
      "Epoch 48/100\n",
      "10/10 - 0s - loss: 0.3699 - mae: 0.4001\n",
      "Epoch 49/100\n",
      "10/10 - 0s - loss: 1.4750 - mae: 0.7908\n",
      "Epoch 50/100\n",
      "10/10 - 0s - loss: 0.4040 - mae: 0.4472\n",
      "Epoch 51/100\n",
      "10/10 - 0s - loss: 0.3967 - mae: 0.4427\n",
      "Epoch 52/100\n",
      "10/10 - 0s - loss: 0.8913 - mae: 0.5434\n",
      "Epoch 53/100\n",
      "10/10 - 0s - loss: 2.2079 - mae: 0.7833\n",
      "Epoch 54/100\n",
      "10/10 - 0s - loss: 1.7010 - mae: 0.8275\n",
      "Epoch 55/100\n",
      "10/10 - 0s - loss: 1.0411 - mae: 0.6124\n",
      "Epoch 56/100\n",
      "10/10 - 0s - loss: 1.2225 - mae: 0.7726\n",
      "Epoch 57/100\n",
      "10/10 - 0s - loss: 0.5199 - mae: 0.4393\n",
      "Epoch 58/100\n",
      "10/10 - 0s - loss: 1.9538 - mae: 0.8519\n",
      "Epoch 59/100\n",
      "10/10 - 0s - loss: 0.6483 - mae: 0.5990\n",
      "Epoch 60/100\n",
      "10/10 - 0s - loss: 0.7421 - mae: 0.5600\n",
      "Epoch 61/100\n",
      "10/10 - 0s - loss: 0.5134 - mae: 0.4177\n",
      "Epoch 62/100\n",
      "10/10 - 0s - loss: 0.5203 - mae: 0.3623\n",
      "Epoch 63/100\n",
      "10/10 - 0s - loss: 0.4272 - mae: 0.4123\n",
      "Epoch 64/100\n",
      "10/10 - 0s - loss: 0.4038 - mae: 0.3540\n",
      "Epoch 65/100\n",
      "10/10 - 0s - loss: 1.4263 - mae: 0.8391\n",
      "Epoch 66/100\n",
      "10/10 - 0s - loss: 1.1940 - mae: 0.5490\n",
      "Epoch 67/100\n",
      "10/10 - 0s - loss: 1.2045 - mae: 0.8595\n",
      "Epoch 68/100\n",
      "10/10 - 0s - loss: 0.5356 - mae: 0.5173\n",
      "Epoch 69/100\n",
      "10/10 - 0s - loss: 0.8403 - mae: 0.5898\n",
      "Epoch 70/100\n",
      "10/10 - 0s - loss: 0.5986 - mae: 0.5099\n",
      "Epoch 71/100\n",
      "10/10 - 0s - loss: 0.5252 - mae: 0.4663\n",
      "Epoch 72/100\n",
      "10/10 - 0s - loss: 0.7923 - mae: 0.7139\n",
      "Epoch 73/100\n",
      "10/10 - 0s - loss: 0.4804 - mae: 0.5069\n",
      "Epoch 74/100\n",
      "10/10 - 0s - loss: 1.0171 - mae: 0.7133\n",
      "Epoch 75/100\n",
      "10/10 - 0s - loss: 1.5871 - mae: 0.8883\n",
      "Epoch 76/100\n",
      "10/10 - 0s - loss: 0.5285 - mae: 0.5126\n",
      "Epoch 77/100\n",
      "10/10 - 0s - loss: 0.8207 - mae: 0.4379\n",
      "Epoch 78/100\n",
      "10/10 - 0s - loss: 0.7289 - mae: 0.5761\n",
      "Epoch 79/100\n",
      "10/10 - 0s - loss: 0.4085 - mae: 0.4508\n",
      "Epoch 80/100\n",
      "10/10 - 0s - loss: 1.4184 - mae: 0.5712\n",
      "Epoch 81/100\n",
      "10/10 - 0s - loss: 0.6455 - mae: 0.4601\n",
      "Epoch 82/100\n",
      "10/10 - 0s - loss: 1.0151 - mae: 0.6449\n",
      "Epoch 83/100\n",
      "10/10 - 0s - loss: 1.0093 - mae: 0.7126\n",
      "Epoch 84/100\n",
      "10/10 - 0s - loss: 1.6365 - mae: 0.7511\n",
      "Epoch 85/100\n",
      "10/10 - 0s - loss: 1.3197 - mae: 0.5483\n",
      "Epoch 86/100\n",
      "10/10 - 0s - loss: 0.6260 - mae: 0.6036\n",
      "Epoch 87/100\n",
      "10/10 - 0s - loss: 0.5976 - mae: 0.4721\n",
      "Epoch 88/100\n",
      "10/10 - 0s - loss: 0.4823 - mae: 0.4100\n",
      "Epoch 89/100\n",
      "10/10 - 0s - loss: 0.7127 - mae: 0.5949\n",
      "Epoch 90/100\n",
      "10/10 - 0s - loss: 0.9507 - mae: 0.5739\n",
      "Epoch 91/100\n",
      "10/10 - 0s - loss: 1.7464 - mae: 0.7252\n",
      "Epoch 92/100\n",
      "10/10 - 0s - loss: 0.8429 - mae: 0.5912\n",
      "Epoch 93/100\n",
      "10/10 - 0s - loss: 0.7809 - mae: 0.6433\n",
      "Epoch 94/100\n",
      "10/10 - 0s - loss: 0.2895 - mae: 0.4283\n",
      "Epoch 95/100\n",
      "10/10 - 0s - loss: 0.6040 - mae: 0.4790\n",
      "Epoch 96/100\n",
      "10/10 - 0s - loss: 0.4914 - mae: 0.5005\n",
      "Epoch 97/100\n",
      "10/10 - 0s - loss: 0.4143 - mae: 0.4263\n",
      "Epoch 98/100\n",
      "10/10 - 0s - loss: 0.8923 - mae: 0.6590\n",
      "Epoch 99/100\n",
      "10/10 - 0s - loss: 0.4322 - mae: 0.4281\n",
      "Epoch 100/100\n",
      "10/10 - 0s - loss: 0.8451 - mae: 0.6863\n",
      "CPU times: total: 24.1 s\n",
      "Wall time: 17.1 s\n"
     ]
    },
    {
     "data": {
      "text/plain": [
       "<keras.callbacks.History at 0x26464a92bb0>"
      ]
     },
     "execution_count": 113,
     "metadata": {},
     "output_type": "execute_result"
    }
   ],
   "source": [
    "%%time\n",
    "model.fit(g, epochs=100, steps_per_epoch=10,\n",
    "                verbose=2)"
   ]
  },
  {
   "cell_type": "code",
   "execution_count": 114,
   "metadata": {},
   "outputs": [],
   "source": [
    "g_ = TimeseriesGenerator(test.values, test['r'].values,\n",
    "                         length=lags, batch_size=5)"
   ]
  },
  {
   "cell_type": "code",
   "execution_count": 115,
   "metadata": {},
   "outputs": [],
   "source": [
    "y = model.predict(g_).flatten()"
   ]
  },
  {
   "cell_type": "code",
   "execution_count": 116,
   "metadata": {},
   "outputs": [
    {
     "data": {
      "text/plain": [
       "0.6864988558352403"
      ]
     },
     "execution_count": 116,
     "metadata": {},
     "output_type": "execute_result"
    }
   ],
   "source": [
    "accuracy_score(np.sign(test['r'].iloc[lags:]), np.sign(y))"
   ]
  },
  {
   "cell_type": "markdown",
   "metadata": {},
   "source": [
    "### Classification"
   ]
  },
  {
   "cell_type": "code",
   "execution_count": 117,
   "metadata": {},
   "outputs": [
    {
     "name": "stdout",
     "output_type": "stream",
     "text": [
      "WARNING:tensorflow:Layer lstm will not use cuDNN kernels since it doesn't meet the criteria. It will use a generic GPU kernel as fallback when running on GPU.\n"
     ]
    }
   ],
   "source": [
    "set_seeds()\n",
    "model = create_rnn_model(hu=50,\n",
    "            features=len(data.columns),\n",
    "            layer='LSTM',\n",
    "            algorithm='classification')"
   ]
  },
  {
   "cell_type": "code",
   "execution_count": 118,
   "metadata": {},
   "outputs": [],
   "source": [
    "train_y = np.where(train['r'] > 0, 1, 0)"
   ]
  },
  {
   "cell_type": "code",
   "execution_count": 119,
   "metadata": {},
   "outputs": [
    {
     "data": {
      "text/plain": [
       "array([2374, 1142], dtype=int64)"
      ]
     },
     "execution_count": 119,
     "metadata": {},
     "output_type": "execute_result"
    }
   ],
   "source": [
    "np.bincount(train_y)"
   ]
  },
  {
   "cell_type": "code",
   "execution_count": 120,
   "metadata": {},
   "outputs": [],
   "source": [
    "def cw(a):\n",
    "    c0, c1 = np.bincount(a)\n",
    "    w0 = (1 / c0) * (len(a)) / 2\n",
    "    w1 = (1 / c1) * (len(a)) / 2\n",
    "    return {0: w0, 1: w1}"
   ]
  },
  {
   "cell_type": "code",
   "execution_count": 121,
   "metadata": {},
   "outputs": [],
   "source": [
    "g = TimeseriesGenerator(train.values, train_y,\n",
    "                        length=lags, batch_size=5)"
   ]
  },
  {
   "cell_type": "code",
   "execution_count": 122,
   "metadata": {},
   "outputs": [
    {
     "name": "stdout",
     "output_type": "stream",
     "text": [
      "CPU times: total: 3.92 s\n",
      "Wall time: 3.09 s\n"
     ]
    },
    {
     "data": {
      "text/plain": [
       "<keras.callbacks.History at 0x26464cfc3d0>"
      ]
     },
     "execution_count": 122,
     "metadata": {},
     "output_type": "execute_result"
    }
   ],
   "source": [
    "%%time\n",
    "model.fit(g, epochs=5, steps_per_epoch=10,\n",
    "          verbose=False, class_weight=cw(train_y))"
   ]
  },
  {
   "cell_type": "code",
   "execution_count": 123,
   "metadata": {},
   "outputs": [],
   "source": [
    "test_y = np.where(test['r'] > 0, 1, 0)"
   ]
  },
  {
   "cell_type": "code",
   "execution_count": 124,
   "metadata": {},
   "outputs": [],
   "source": [
    "g_ = TimeseriesGenerator(test.values, test_y,\n",
    "                         length=lags, batch_size=5)"
   ]
  },
  {
   "cell_type": "code",
   "execution_count": 125,
   "metadata": {},
   "outputs": [],
   "source": [
    "y = np.where(model.predict(g_, batch_size=None) > 0.5,\n",
    "             1, 0).flatten()"
   ]
  },
  {
   "cell_type": "code",
   "execution_count": 126,
   "metadata": {},
   "outputs": [
    {
     "data": {
      "text/plain": [
       "array([874], dtype=int64)"
      ]
     },
     "execution_count": 126,
     "metadata": {},
     "output_type": "execute_result"
    }
   ],
   "source": [
    "np.bincount(y)"
   ]
  },
  {
   "cell_type": "code",
   "execution_count": 127,
   "metadata": {},
   "outputs": [
    {
     "data": {
      "text/plain": [
       "0.6864988558352403"
      ]
     },
     "execution_count": 127,
     "metadata": {},
     "output_type": "execute_result"
    }
   ],
   "source": [
    "accuracy_score(test_y[lags:], y)"
   ]
  },
  {
   "cell_type": "markdown",
   "metadata": {},
   "source": [
    "### Deep RNNs"
   ]
  },
  {
   "cell_type": "code",
   "execution_count": 128,
   "metadata": {},
   "outputs": [],
   "source": [
    "from keras.layers import Dropout"
   ]
  },
  {
   "cell_type": "code",
   "execution_count": 129,
   "metadata": {},
   "outputs": [],
   "source": [
    "def create_deep_rnn_model(hl=2, hu=100, layer='SimpleRNN',\n",
    "                          optimizer='rmsprop', features=1,\n",
    "                          dropout=False, rate=0.3, seed=100):\n",
    "    if hl <= 2: hl = 2\n",
    "    if layer == 'SimpleRNN':\n",
    "        layer = SimpleRNN\n",
    "    else:\n",
    "        layer = LSTM\n",
    "    model = Sequential()\n",
    "    model.add(layer(hu, input_shape=(lags, features),\n",
    "                     return_sequences=True,\n",
    "                    ))\n",
    "    if dropout:\n",
    "        model.add(Dropout(rate, seed=seed))\n",
    "    for _ in range(2, hl):\n",
    "        model.add(layer(hu, return_sequences=True))\n",
    "        if dropout:\n",
    "            model.add(Dropout(rate, seed=seed))\n",
    "    model.add(layer(hu))\n",
    "    model.add(Dense(1, activation='sigmoid'))\n",
    "    model.compile(optimizer=optimizer,\n",
    "                  loss='binary_crossentropy',\n",
    "                  metrics=['accuracy'])\n",
    "    return model"
   ]
  },
  {
   "cell_type": "code",
   "execution_count": 130,
   "metadata": {},
   "outputs": [],
   "source": [
    "set_seeds()\n",
    "model = create_deep_rnn_model(\n",
    "            hl=2, hu=50, layer='SimpleRNN',\n",
    "            features=len(data.columns),\n",
    "            dropout=True, rate=0.3)"
   ]
  },
  {
   "cell_type": "code",
   "execution_count": 131,
   "metadata": {},
   "outputs": [
    {
     "name": "stdout",
     "output_type": "stream",
     "text": [
      "Model: \"sequential_7\"\n",
      "_________________________________________________________________\n",
      "Layer (type)                 Output Shape              Param #   \n",
      "=================================================================\n",
      "simple_rnn_6 (SimpleRNN)     (None, 5, 50)             2750      \n",
      "_________________________________________________________________\n",
      "dropout (Dropout)            (None, 5, 50)             0         \n",
      "_________________________________________________________________\n",
      "simple_rnn_7 (SimpleRNN)     (None, 50)                5050      \n",
      "_________________________________________________________________\n",
      "dense_7 (Dense)              (None, 1)                 51        \n",
      "=================================================================\n",
      "Total params: 7,851\n",
      "Trainable params: 7,851\n",
      "Non-trainable params: 0\n",
      "_________________________________________________________________\n"
     ]
    }
   ],
   "source": [
    "model.summary()"
   ]
  },
  {
   "cell_type": "code",
   "execution_count": 132,
   "metadata": {},
   "outputs": [
    {
     "name": "stdout",
     "output_type": "stream",
     "text": [
      "CPU times: total: 1min 31s\n",
      "Wall time: 1min 5s\n"
     ]
    },
    {
     "data": {
      "text/plain": [
       "<keras.callbacks.History at 0x2637b8a9ac0>"
      ]
     },
     "execution_count": 132,
     "metadata": {},
     "output_type": "execute_result"
    }
   ],
   "source": [
    "%%time\n",
    "model.fit(g, epochs=200, steps_per_epoch=10,\n",
    "          verbose=False, class_weight=cw(train_y))"
   ]
  },
  {
   "cell_type": "code",
   "execution_count": 133,
   "metadata": {},
   "outputs": [],
   "source": [
    "y = np.where(model.predict(g_, batch_size=None) > 0.5,\n",
    "             1, 0).flatten()"
   ]
  },
  {
   "cell_type": "code",
   "execution_count": 134,
   "metadata": {},
   "outputs": [
    {
     "data": {
      "text/plain": [
       "array([358, 516], dtype=int64)"
      ]
     },
     "execution_count": 134,
     "metadata": {},
     "output_type": "execute_result"
    }
   ],
   "source": [
    "np.bincount(y)"
   ]
  },
  {
   "cell_type": "code",
   "execution_count": 135,
   "metadata": {},
   "outputs": [
    {
     "data": {
      "text/plain": [
       "0.562929061784897"
      ]
     },
     "execution_count": 135,
     "metadata": {},
     "output_type": "execute_result"
    }
   ],
   "source": [
    "accuracy_score(test_y[lags:], y)"
   ]
  },
  {
   "cell_type": "markdown",
   "metadata": {},
   "source": [
    "<img src='http://hilpisch.com/taim_logo.png' width=\"350px\" align=\"right\">\n",
    "\n",
    "<br><br><br><a href=\"http://tpq.io\" target=\"_blank\">http://tpq.io</a> | <a href=\"http://twitter.com/dyjh\" target=\"_blank\">@dyjh</a> | <a href=\"mailto:ai@tpq.io\">ai@tpq.io</a>"
   ]
  }
 ],
 "metadata": {
  "kernelspec": {
   "display_name": "Python 3 (ipykernel)",
   "language": "python",
   "name": "python3"
  },
  "language_info": {
   "codemirror_mode": {
    "name": "ipython",
    "version": 3
   },
   "file_extension": ".py",
   "mimetype": "text/x-python",
   "name": "python",
   "nbconvert_exporter": "python",
   "pygments_lexer": "ipython3",
   "version": "3.9.16"
  }
 },
 "nbformat": 4,
 "nbformat_minor": 4
}
